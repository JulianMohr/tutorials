{
  "nbformat": 4,
  "nbformat_minor": 0,
  "metadata": {
    "colab": {
      "name": "Assembly Tutorial",
      "provenance": [],
      "collapsed_sections": [],
      "toc_visible": true,
      "include_colab_link": true
    },
    "kernelspec": {
      "name": "python3",
      "display_name": "Python 3"
    }
  },
  "cells": [
    {
      "cell_type": "markdown",
      "metadata": {
        "id": "view-in-github",
        "colab_type": "text"
      },
      "source": [
        "<a href=\"https://colab.research.google.com/github/epi2me-labs/tutorials/blob/master/assembly_tutorial.ipynb\" target=\"_parent\"><img src=\"https://colab.research.google.com/assets/colab-badge.svg\" alt=\"Open In Colab\"/></a>"
      ]
    },
    {
      "cell_type": "markdown",
      "metadata": {
        "id": "eyhWQcLLP6Kt",
        "colab_type": "text"
      },
      "source": [
        "<h1>Assembly of small genomes</h1>\n",
        "\n",
        "This tutorial aims to demonstrate how to assemble and correct small genomes, up to ~100Mb, using Oxford Nanopore Technologies' sequencing data.\n",
        "\n",
        "Included with the tutorial is an example Escherichia coli dataset, the workflow can be used to:\n",
        "\n",
        "* Assemble sequencing data in a `.fastq` file into a genomic sequence using the [`flye`](https://github.com/fenderglass/Flye) assembler\n",
        "* Correct the genome assembly using the [`medaka`](https://github.com/nanoporetech/medaka) software\n",
        "* Perform a basic summary of the assembled genome\n",
        "\n",
        "Computational requirements for this tutorial include:\n",
        "\n",
        "- Computer running the **EPI2ME Labs** notebook Server\n",
        "- At least 16 Gb RAM\n",
        "\n",
        "⚠️ **Warning:** This notebook has been saved with its outputs for demostration purposed. It is recommeded to select `Edit > Clear all outputs` before using the notebook to analyse your own data."
      ]
    },
    {
      "cell_type": "markdown",
      "metadata": {
        "id": "ZMhjoLNaP6Ku",
        "colab_type": "text"
      },
      "source": [
        "## Data preparation\n",
        "\n",
        "To start analysing our experiment we must first collate our data. The workflow below expects to be given a single `.fastq` file containing all the sequencing data which is to be assembled. If you have multiple `.fastq` files which need to first be aggregated, see our [Introduction to `.fastq`](https://colab.research.google.com/github/epi2me-labs/tutorials/blob/master/fastq_introduction.ipynb) notebook.\n",
        "\n",
        "Before anything else we will create and set a working directory:"
      ]
    },
    {
      "cell_type": "code",
      "metadata": {
        "id": "vPF_Wj3_YAJH",
        "colab_type": "code",
        "outputId": "f51fbc3c-455c-44e1-d6ca-5b2e6224e26e",
        "colab": {
          "base_uri": "https://localhost:8080/",
          "height": 51
        }
      },
      "source": [
        "# create a work directory and move into it\n",
        "tutorial_name = \"assembly_tutorial\"\n",
        "working_dir = '/epi2melabs/{}/'.format(tutorial_name)\n",
        "!mkdir -p \"$working_dir\"\n",
        "%cd \"$working_dir\"\n",
        "\n",
        "from epi2melabs import ping\n",
        "pinger = ping.Pingu()\n",
        "pinger.send_notebook_ping('start', 'assembly_tutorial')"
      ],
      "execution_count": 0,
      "outputs": [
        {
          "output_type": "stream",
          "text": [
            "/epi2melabs/assembly_tutorial\n"
          ],
          "name": "stdout"
        },
        {
          "output_type": "execute_result",
          "data": {
            "text/plain": [
              "201"
            ]
          },
          "metadata": {
            "tags": []
          },
          "execution_count": 1
        }
      ]
    },
    {
      "cell_type": "markdown",
      "metadata": {
        "id": "LNl_IrI8pklV",
        "colab_type": "text"
      },
      "source": [
        "### Sample Data\n",
        "\n",
        "To get started we will download a sample sequencing dataset. The data comprise sequencing reads, from an R10.3 flowcell, of a bacterial mock community. Two preprocessed sets are available:\n",
        "\n",
        "* ***larger***: reads from the experiment were filtered (by alignment to reference sequences) to only be reads derived from an Escherichia coli genome, and then downsampled to approximately 60x coverage of the genome.\n",
        "* ***small***: reads were additionally filtered to 30x coverage.\n",
        "\n",
        "To use this tutorial with sample data we can download the files using the `linux` command `wget`. To execute the commands to download the data select the dataset you wish to download and then click the Play symbol to the left-hand side. (To see the code responsible for downloading the dataset double click the bold title text).\n"
      ]
    },
    {
      "cell_type": "code",
      "metadata": {
        "id": "MVacV0gxWwel",
        "colab_type": "code",
        "cellView": "form",
        "outputId": "ba16df42-88a2-4d50-b985-01037e749eb5",
        "colab": {
          "base_uri": "https://localhost:8080/",
          "height": 241
        }
      },
      "source": [
        "#@markdown **Select download type and press Play**\n",
        "dataset = \"smaller (30x)\" #@param [\"smaller (30x)\", \"larger (60x)\"]\n",
        "bucket = \"ont-exd-int-s3-euwst1-epi2me-labs\"\n",
        "domain = \"s3-eu-west-1.amazonaws.com\"\n",
        "site = \"https://{}.{}\".format(bucket, domain)\n",
        "\n",
        "downloads = {\n",
        "    \"smaller (30x)\": \"ecoli.30x.r103.fastq.gz\",\n",
        "    \"larger (60x)\": \"ecoli.60x.r103.fastq.gz\"}\n",
        "\n",
        "## download the data\n",
        "location = '{}/assembly_tutorial'.format(site)\n",
        "fname = downloads[dataset]\n",
        "print(\"Downloading {} dataset...\".format(dataset))\n",
        "!wget \"$location/$fname\"\n",
        "!mv \"$fname\" sample_data.fastq.gz"
      ],
      "execution_count": 0,
      "outputs": [
        {
          "output_type": "stream",
          "text": [
            "Downloading smaller (30x) dataset...\n",
            "--2020-04-22 12:42:25--  https://ont-exd-int-s3-euwst1-epi2me-labs.s3-eu-west-1.amazonaws.com/assembly_tutorial/ecoli.30x.r103.fastq.gz\n",
            "Resolving ont-exd-int-s3-euwst1-epi2me-labs.s3-eu-west-1.amazonaws.com (ont-exd-int-s3-euwst1-epi2me-labs.s3-eu-west-1.amazonaws.com)... 52.218.108.120\n",
            "Connecting to ont-exd-int-s3-euwst1-epi2me-labs.s3-eu-west-1.amazonaws.com (ont-exd-int-s3-euwst1-epi2me-labs.s3-eu-west-1.amazonaws.com)|52.218.108.120|:443... connected.\n",
            "HTTP request sent, awaiting response... 200 OK\n",
            "Length: 153286611 (146M) [binary/octet-stream]\n",
            "Saving to: ‘ecoli.30x.r103.fastq.gz’\n",
            "\n",
            "ecoli.30x.r103.fast 100%[===================>] 146.18M  4.07MB/s    in 38s     \n",
            "\n",
            "2020-04-22 12:43:03 (3.83 MB/s) - ‘ecoli.30x.r103.fastq.gz’ saved [153286611/153286611]\n",
            "\n"
          ],
          "name": "stdout"
        }
      ]
    },
    {
      "cell_type": "markdown",
      "metadata": {
        "colab_type": "text",
        "id": "KdFrxmwAKOMR"
      },
      "source": [
        "To view the outcome of the download we can use the `tree` command to show the contents of the working directory:"
      ]
    },
    {
      "cell_type": "code",
      "metadata": {
        "colab_type": "code",
        "id": "bXJe42eTKNmG",
        "outputId": "e31c1387-4327-4fb6-b19d-0d532756c57a",
        "colab": {
          "base_uri": "https://localhost:8080/",
          "height": 85
        }
      },
      "source": [
        "!tree ."
      ],
      "execution_count": 0,
      "outputs": [
        {
          "output_type": "stream",
          "text": [
            ".\r\n",
            "└── sample_data.fastq.gz\r\n",
            "\r\n",
            "0 directories, 1 file\r\n"
          ],
          "name": "stdout"
        }
      ]
    },
    {
      "cell_type": "markdown",
      "metadata": {
        "id": "vF8gyWIyKZmx",
        "colab_type": "text"
      },
      "source": [
        "The files should also appear in the File Browser to the left-hand side of the screen."
      ]
    },
    {
      "cell_type": "markdown",
      "metadata": {
        "id": "nh7-4mZeXHRA",
        "colab_type": "text"
      },
      "source": [
        "### Using your own data\n",
        "\n",
        "If you wish to analyse your own data rather than the sample data, you can edit the value of the `data_folder` variable below. To find the correct full path of a directory you can navigate to it in\n",
        "the `Files` browser to the left-hand side, right-click on the file and select `Copy path`:"
      ]
    },
    {
      "cell_type": "markdown",
      "metadata": {
        "id": "vDCEs7E3Zy60",
        "colab_type": "text"
      },
      "source": [
        "![image.png](data:image/png;base64,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)"
      ]
    },
    {
      "cell_type": "markdown",
      "metadata": {
        "id": "E1sppTfq1YZl",
        "colab_type": "text"
      },
      "source": [
        "The location shared with the EPI2ME labs server from your computer will show as `/epi2melabs`, for example a file located at `/data/my_gridion_run/fastq_pass` on your computer will appear as `/epi2melabs/my_gridion_run/fastq_pass` when it is the `/data` folder that is shared.\n"
      ]
    },
    {
      "cell_type": "markdown",
      "metadata": {
        "id": "rjXNch2Kp-_2",
        "colab_type": "text"
      },
      "source": [
        "### Data entry\n",
        "\n",
        "Having downloaded the sample data, or locating your own data in the file browser, we need to provide the filepaths as input to the notebook. This is done in the form below, after updating the values, be sure to press the play button."
      ]
    },
    {
      "cell_type": "markdown",
      "metadata": {
        "id": "46QEClv31y4J",
        "colab_type": "text"
      },
      "source": [
        "\n",
        "\n",
        "> **If you want simply to plot all the graphs in this tutorial for your dataset, rather than working through the tutorial, select `Run after` from the `Runtime` menu above after executing the cell below.**"
      ]
    },
    {
      "cell_type": "code",
      "metadata": {
        "id": "hexEX4x8VPfA",
        "colab_type": "code",
        "cellView": "form",
        "outputId": "87cf472f-376b-4ea5-af62-7488092b840a",
        "colab": {
          "base_uri": "https://localhost:8080/",
          "height": 85
        }
      },
      "source": [
        "#@markdown Enter the paths to you input files and output folder here. The input data may be either a a single fastq, compressed or otherwise, file or a directory containing multiple such files:\n",
        "import os\n",
        "\n",
        "# set variables for our inputs\n",
        "input_data = 'sample_data.fastq.gz'  #@param {type: \"string\"}\n",
        "output_folder = 'analysis'  #@param {type: \"string\"}\n",
        "input_fastq = os.path.join(output_folder, \"input.fastq.gz\")\n",
        "\n",
        "# run a command to concatenate all the files together\n",
        "!echo \"Making output folder\"\n",
        "!mkdir -p \"$output_folder\"\n",
        "!rationalise_fastq -i \"$input_data\" -o \"$input_fastq\""
      ],
      "execution_count": 0,
      "outputs": [
        {
          "output_type": "stream",
          "text": [
            "Making output folder\n",
            "Input: /epi2melabs/assembly_tutorial/sample_data.fastq.gz\n",
            "Output: /epi2melabs/assembly_tutorial/analysis/input.fastq.gz\n",
            "Output exists, exiting\n"
          ],
          "name": "stdout"
        }
      ]
    },
    {
      "cell_type": "markdown",
      "metadata": {
        "id": "KZATLwyQNILe",
        "colab_type": "text"
      },
      "source": [
        "## Basic Assembly with Flye\n",
        "\n",
        "For small to mid-sized genomes, and meta-genomic applications, Oxford Nanopore Technologies' recommends the use of the [flye](https://github.com/fenderglass/Flye) assembler. Flye yields acceptable assembly results under a range of input conditions with little to no tuning from the user.\n",
        "\n",
        "Oxford Nanopore Technologies also work with two other common assemblers:\n",
        "\n",
        "*   [canu](https://github.com/marbl/canu), a recommended option when runtime contraints are not an issue. Reliably produces good assemblies\n",
        "*   [shasta](https://github.com/chanzuckerberg/shasta), an assembler for the connoisseur. Very fast assembler that can produce state of the art results but can require manual tuning of parameters for optimal results.\n",
        "\n"
      ]
    },
    {
      "cell_type": "markdown",
      "metadata": {
        "id": "1hVEkLzZNO7e",
        "colab_type": "text"
      },
      "source": [
        "### Genome assembly\n",
        "\n",
        "The flye assembler has a relatively compact set of options, and is easily run with an input `.fastq` file. To run the assembly execute the cell below. A genome size estimate is required (for example, \"5m\" and \"2.6g\" should be given for genomes of sizes 5 mega-bases and 2.6 giga-bases respectively), the code can be edited before running. The `--threads` option specifies the amount of CPU resource that will be used. On a mid-range contemporary laptop the assembly will take around 30 minutes. For maximum performance set this option to the number of CPU cores available on your computer."
      ]
    },
    {
      "cell_type": "code",
      "metadata": {
        "id": "KdnPNyGZgi44",
        "colab_type": "code",
        "outputId": "6298982b-c120-48d6-eca3-a5d1a52b2735",
        "colab": {
          "base_uri": "https://localhost:8080/",
          "height": 1000
        }
      },
      "source": [
        "!flye --nano-raw \"$input_fastq\" --out-dir \"$output_folder\"/flye --genome-size 5m --threads 8"
      ],
      "execution_count": 0,
      "outputs": [
        {
          "output_type": "stream",
          "text": [
            "[2020-05-06 14:19:05] INFO: Starting Flye 2.7.1-b1590\r\n",
            "[2020-05-06 14:19:05] INFO: >>>STAGE: configure\r\n",
            "[2020-05-06 14:19:05] INFO: Configuring run\n",
            "[2020-05-06 14:19:07] INFO: Total read length: 142930802\n",
            "[2020-05-06 14:19:07] INFO: Input genome size: 5000000\n",
            "[2020-05-06 14:19:07] INFO: Estimated coverage: 28\n",
            "[2020-05-06 14:19:07] INFO: Reads N50/N90: 23848 / 2656\n",
            "[2020-05-06 14:19:07] INFO: Minimum overlap set to 3000\n",
            "[2020-05-06 14:19:07] INFO: Selected k-mer size: 15\n",
            "[2020-05-06 14:19:07] INFO: >>>STAGE: assembly\n",
            "[2020-05-06 14:19:07] INFO: Assembling disjointigs\n",
            "[2020-05-06 14:19:07] INFO: Reading sequences\n",
            "[2020-05-06 14:19:09] INFO: Generating solid k-mer index\n",
            "[2020-05-06 14:19:20] INFO: Counting k-mers (1/2):\n",
            "0% 10% 20% 30% 40% 50% 60% 70% 80% 90% 100% \n",
            "[2020-05-06 14:19:23] INFO: Counting k-mers (2/2):\n",
            "0% 10% 20% 30% 40% 50% 60% 70% 80% 90% 100% \n",
            "[2020-05-06 14:19:28] INFO: Filling index table\n",
            "0% 10% 20% 30% 40% 50% 60% 70% 80% 90% 100% \n",
            "[2020-05-06 14:19:37] INFO: Extending reads\n",
            "[2020-05-06 14:19:54] INFO: Overlap-based coverage: 22\n",
            "[2020-05-06 14:19:54] INFO: Median overlap divergence: 0.104611\n",
            "0% 10% 20% 30% 40% 50% 60% 70% 80% 90% 100% \n",
            "[2020-05-06 14:20:17] INFO: Assembled 3 disjointigs\n",
            "[2020-05-06 14:20:17] INFO: Generating sequence\n",
            "0% 10% 20% 30% 40% 50% 60% 70% 80% 90% 100% \n",
            "[2020-05-06 14:20:50] INFO: >>>STAGE: consensus\n",
            "[2020-05-06 14:20:50] INFO: Running Minimap2\n",
            "[2020-05-06 14:21:00] INFO: Computing consensus\n",
            "[2020-05-06 14:22:11] INFO: Alignment error rate: 0.104416\n",
            "[2020-05-06 14:22:11] INFO: >>>STAGE: repeat\n",
            "[2020-05-06 14:22:11] INFO: Building and resolving repeat graph\n",
            "[2020-05-06 14:22:11] INFO: Parsing disjointigs\n",
            "[2020-05-06 14:22:11] INFO: Building repeat graph\n",
            "10% 30% 50% 60% 80% 100% \n",
            "[2020-05-06 14:22:30] INFO: Median overlap divergence: 0.0470546\n",
            "[2020-05-06 14:22:30] INFO: Parsing reads\n",
            "[2020-05-06 14:22:32] INFO: Aligning reads to the graph\n",
            "0% 10% 20% 30% 40% 50% 60% 70% 80% 90% 100% \n",
            "[2020-05-06 14:22:54] INFO: Aligned read sequence: 122090896 / 126486165 (0.965251)\n",
            "[2020-05-06 14:22:54] INFO: Median overlap divergence: 0.0315318\n",
            "[2020-05-06 14:22:54] INFO: Mean edge coverage: 25\n",
            "[2020-05-06 14:22:54] INFO: Simplifying the graph\n",
            "[2020-05-06 14:22:54] INFO: >>>STAGE: contigger\n",
            "[2020-05-06 14:22:54] INFO: Generating contigs\n",
            "[2020-05-06 14:22:54] INFO: Reading sequences\n",
            "[2020-05-06 14:22:56] INFO: Generated 3 contigs\n",
            "[2020-05-06 14:22:56] INFO: Added 0 scaffold connections\n",
            "[2020-05-06 14:22:56] INFO: >>>STAGE: polishing\n",
            "[2020-05-06 14:22:56] INFO: Polishing genome (1/1)\n",
            "[2020-05-06 14:22:56] INFO: Running minimap2\n",
            "[2020-05-06 14:23:04] INFO: Separating alignment into bubbles\n",
            "[2020-05-06 14:24:27] INFO: Alignment error rate: 0.073285\n",
            "[2020-05-06 14:24:27] INFO: Correcting bubbles\n",
            "0% 10% 20% 30% 40% 50% 60% 70% 80% 90% 100% \n",
            "[2020-05-06 14:24:51] INFO: >>>STAGE: finalize\n",
            "[2020-05-06 14:24:51] INFO: Assembly statistics:\n",
            "\n",
            "\tTotal length:\t4897024\n",
            "\tFragments:\t3\n",
            "\tFragments N50:\t4775934\n",
            "\tLargest frg:\t4775934\n",
            "\tScaffolds:\t0\n",
            "\tMean coverage:\t28\n",
            "\n",
            "[2020-05-06 14:24:51] INFO: Final assembly: /epi2melabs/assembly_tutorial/analysis/flye/assembly.fasta\n"
          ],
          "name": "stdout"
        }
      ]
    },
    {
      "cell_type": "markdown",
      "metadata": {
        "id": "ggZcBeRYwahy",
        "colab_type": "text"
      },
      "source": [
        "Providing flye runs to completion it will have output some basic statistics of the assembly, for example the sample data should give:\n",
        "\n",
        "```\n",
        "Total length:   4897024\n",
        "Fragments:      3\n",
        "Fragments N50:  4775934\n",
        "Largest frg:    4775934\n",
        "Scaffolds:      0\n",
        "Mean coverage:  28\n",
        "```\n",
        "\n",
        "The expectation for bacterial genomes is to obtain a single `fragment` corresponding to a whole chromosome. For larger genomes this might not always occur depending on the sequencing depth and complexity of the genome.\n",
        "\n"
      ]
    },
    {
      "cell_type": "markdown",
      "metadata": {
        "id": "H2lqQXOWNTze",
        "colab_type": "text"
      },
      "source": [
        "### Error correcting the assembly\n",
        "\n",
        "The flye assembler creates a reasonable quality consensus sequence from the aggregate information contained within the sequencing reads. However for improved accuracy it is recommended to run \"assembly polishing,\" a process to correct residual base-level errors in the reads. This step will not change the gross structure of the assembly. To perform assembly polishing we will use the [medaka](https://github.com/nanoporetech/medaka) program. Medaka uses a [recurrent neural network](https://en.wikipedia.org/wiki/Recurrent_neural_network) to predict a consensus sequence from a pileup of reads aligned to a draft sequence.\n",
        "\n",
        "Medaka contains a simple program for processing a draft assembly and read data. A particular point to note however is that it must be instructed which basecaller version and flowcell type (and so pore type) were used in the sequencing experiment; which model to use. A list of models can be found by running:"
      ]
    },
    {
      "cell_type": "code",
      "metadata": {
        "id": "rJmdDs5e1O6v",
        "colab_type": "code",
        "outputId": "eeab7ad2-44c6-484d-daf8-daefb299d488",
        "colab": {
          "base_uri": "https://localhost:8080/",
          "height": 105
        }
      },
      "source": [
        "!run medaka tools list_models"
      ],
      "execution_count": 0,
      "outputs": [
        {
          "output_type": "stream",
          "text": [
            "Available: r941_min_high_g330, r941_min_high_g344, r941_min_high_g351, r941_prom_high_g330, r941_prom_high_g344, r941_prom_high_g351, r941_min_high_g340_rle, r103_min_high_g345, r941_prom_snp_g322, r941_prom_variant_g322, r103_prom_snp_g3210, r103_prom_variant_g3210\r\n",
            "Default consensus:  r941_min_high_g351\r\n",
            "Default SNP:  r941_prom_snp_g322\r\n",
            "Default variant:  r941_prom_variant_g322\r\n"
          ],
          "name": "stdout"
        }
      ]
    },
    {
      "cell_type": "markdown",
      "metadata": {
        "id": "eX-IApoMHmdv",
        "colab_type": "text"
      },
      "source": [
        "As a reminder the correspondence between flowcell type and pore type is:\n",
        "\n",
        "Flowcell | Pore type | Medaka model prefix\n",
        "--- | --- | ---\n",
        "FLO-MIN106D | R9.4.1 | `r941_min`\n",
        "FLO-MIN111  | R10.3  | `r103_min`\n",
        "FLO-PRO002  | R9.4.1 | `r941_prom`\n",
        "\n",
        "\n"
      ]
    },
    {
      "cell_type": "markdown",
      "metadata": {
        "id": "WFPCCWjD1YN0",
        "colab_type": "text"
      },
      "source": [
        "For more information on choosing the correct model see the [Sequence Correction](https://nanoporetech.github.io/medaka/installation.html#sequence-correction) section of the medaka documentation.\n",
        "\n",
        "> ⚠️ **Note:** Be sure to edit the code below to use the correct model (`-m` option) for your data."
      ]
    },
    {
      "cell_type": "code",
      "metadata": {
        "id": "Cpk5qYJh0uBv",
        "colab_type": "code",
        "colab": {}
      },
      "source": [
        "!run medaka_consensus \\\n",
        "    -d \"$output_folder\"/flye/assembly.fasta -i \"$input_fastq\" \\\n",
        "    -o \"$output_folder\"/medaka \\\n",
        "    -t 8 -m r103_min_high_g345\n",
        "\n",
        "pinger.send_notebook_ping('stop', 'assembly_tutorial')"
      ],
      "execution_count": 0,
      "outputs": []
    },
    {
      "cell_type": "markdown",
      "metadata": {
        "id": "q7j6_t_Z5CML",
        "colab_type": "text"
      },
      "source": [
        "When medaka has run to completion it will output a file `consensus.fasta` in its output directory. This file contains the polished assembly sequences."
      ]
    },
    {
      "cell_type": "markdown",
      "metadata": {
        "id": "MsgFnix57QR5",
        "colab_type": "text"
      },
      "source": [
        "## Genome quality assessment\n",
        "\n",
        "As a brief demonstration that things have gone well for the sample data provided with the tutorial, we will now compare the assembly sequence to a reference sequence for the analyte used in the experiment. A more in depth look at assessing assembly accuracy can be found in the links below.\n",
        "\n",
        "A set of reference sequences for the analyte used in the sample data experiment can be downloaded using `wget`, this file contains reference sequence for all the mock community samples in the experiment:"
      ]
    },
    {
      "cell_type": "code",
      "metadata": {
        "id": "gwaA7xJJeaLl",
        "colab_type": "code",
        "outputId": "6e562d93-93fd-49a9-c5f3-e559fc04471f",
        "colab": {
          "base_uri": "https://localhost:8080/",
          "height": 224
        }
      },
      "source": [
        "!wget 'https://ont-research.s3-eu-west-1.amazonaws.com/datasets/r941_zymo/references.fasta'"
      ],
      "execution_count": 0,
      "outputs": [
        {
          "output_type": "stream",
          "text": [
            "--2020-04-22 12:55:12--  https://ont-research.s3-eu-west-1.amazonaws.com/datasets/r941_zymo/references.fasta\r\n",
            "Resolving ont-research.s3-eu-west-1.amazonaws.com (ont-research.s3-eu-west-1.amazonaws.com)... 52.218.98.192\n",
            "Connecting to ont-research.s3-eu-west-1.amazonaws.com (ont-research.s3-eu-west-1.amazonaws.com)|52.218.98.192|:443... connected.\n",
            "HTTP request sent, awaiting response... 200 OK\n",
            "Length: 74187102 (71M) [binary/octet-stream]\n",
            "Saving to: ‘references.fasta’\n",
            "\n",
            "references.fasta    100%[===================>]  70.75M  4.27MB/s    in 19s     \n",
            "\n",
            "2020-04-22 12:55:31 (3.79 MB/s) - ‘references.fasta’ saved [74187102/74187102]\n",
            "\n"
          ],
          "name": "stdout"
        }
      ]
    },
    {
      "cell_type": "markdown",
      "metadata": {
        "id": "bQe5jN8ejfX8",
        "colab_type": "text"
      },
      "source": [
        "### Pomoxis quality analysis\n",
        "\n",
        "The `assess_assembly` program from the [pomoxis](https://github.com/nanoporetech/pomoxis) suite can be used to obtain an alignment-based quality analysis of a genome assembly. The basic workflow is to split assembly contigs into fixed lenth chunks before aligning these to a reference sequence. These alignments are then analysed for errors.\n",
        "\n",
        "To run `assess_assembly` only two arguments are required, a reference sequence and the assembly. The `-p` option below sets an output prefix, while `-t` sets the number of compute threads:"
      ]
    },
    {
      "cell_type": "code",
      "metadata": {
        "id": "L0oeMm4SfKRA",
        "colab_type": "code",
        "outputId": "267fef25-a530-4eaa-8e6a-f30650930260",
        "colab": {
          "base_uri": "https://localhost:8080/",
          "height": 666
        }
      },
      "source": [
        "!mkdir -p analysis/assessment/\n",
        "!assess_assembly -r references.fasta -i analysis/medaka/consensus.fasta \\\n",
        "    -p analysis/assessment/assm -t 8"
      ],
      "execution_count": 0,
      "outputs": [
        {
          "output_type": "stream",
          "text": [
            "Constructing minimap index.\n",
            "[M::mm_idx_gen::1.334*1.32] collected minimizers\n",
            "[M::mm_idx_gen::1.670*1.66] sorted minimizers\n",
            "[M::main::2.088*1.53] loaded/built the index for 7217 target sequence(s)\n",
            "[M::mm_idx_stat] kmer size: 15; skip: 10; is_hpc: 0; #seq: 7217\n",
            "[M::mm_idx_stat::2.169*1.51] distinct minimizers: 11519899 (87.04% are singletons); average occurrences: 1.186; average spacing: 5.359\n",
            "[M::main] Version: 2.17-r941\n",
            "[M::main] CMD: minimap2 -I 16G -x map-ont -d references.fasta.mmi references.fasta\n",
            "[M::main] Real time: 2.184 sec; CPU: 3.286 sec; Peak RSS: 0.531 GB\n",
            "Splitting input into 100000 chunks.\n",
            "[M::main::0.507*1.00] loaded/built the index for 7217 target sequence(s)\n",
            "[M::mm_mapopt_update::0.666*1.00] mid_occ = 28\n",
            "[M::mm_idx_stat] kmer size: 15; skip: 10; is_hpc: 0; #seq: 7217\n",
            "[M::mm_idx_stat::0.746*1.00] distinct minimizers: 11519899 (87.04% are singletons); average occurrences: 1.186; average spacing: 5.359\n",
            "[M::worker_pipeline::0.976*2.21] mapped 51 sequences\n",
            "[M::main] Version: 2.17-r941\n",
            "[M::main] CMD: minimap2 -x map-ont -t 8 -a references.fasta.mmi analysis/medaka/consensus.fasta.chunks\n",
            "[M::main] Real time: 0.991 sec; CPU: 2.174 sec; Peak RSS: 0.363 GB\n",
            "Writing list of indels 100 bases and longer to analysis/assessment/assm_indel_ge100.txt.\n",
            "Mapped/Unmapped/Short/Masked: 50/0/0/0\n",
            "#  Percentage Errors\n",
            "  name     mean     q10      q50      q90   \n",
            " err_ont  0.014%   0.005%   0.011%   0.026% \n",
            " err_bal  0.014%   0.005%   0.011%   0.026% \n",
            "    iden  0.002%   0.000%   0.001%   0.005% \n",
            "     del  0.005%   0.001%   0.004%   0.009% \n",
            "     ins  0.007%   0.003%   0.006%   0.011% \n",
            "\n",
            "#  Q Scores\n",
            "  name     mean      q10      q50      q90  \n",
            " err_ont  38.67    43.01    39.59    35.85  \n",
            " err_bal  38.67    43.01    39.59    35.85  \n",
            "    iden  47.44      inf    50.00    43.01  \n",
            "     del  42.96    50.00    43.98    40.46  \n",
            "     ins  41.72    45.28    42.60    39.55  \n",
            "\n",
            "All done, output written to analysis/assessment/assm_stats.txt, analysis/assessment/assm_summ.txt and analysis/assessment/assm_indel_ge100.txt\n"
          ],
          "name": "stdout"
        }
      ]
    },
    {
      "cell_type": "markdown",
      "metadata": {
        "id": "4un7u51HrMxN",
        "colab_type": "text"
      },
      "source": [
        "The summary `Q scores` section of the output gives statistics of the errors of the fixed length alignment chunks expressed in the usual logarithmic fashion ($-10\\log_{10}(P_{err})$) with the `err_ont` row giving the total error rate:\n",
        "\n",
        "> $P_{err\\_ont} = \\frac{N_{ins} + N_{del} + N_{sub}}{N_{match} + N_{ins} + N_{del}}$"
      ]
    },
    {
      "cell_type": "markdown",
      "metadata": {
        "id": "A-X1yit_owY1",
        "colab_type": "text"
      },
      "source": [
        "## Next steps\n",
        "\n",
        "This tutorial has walked through how to assemble small to mid-sized genomes using the flye assembler. We have also shown how to improve the accuracy of our assembly using the `medaka` consensus program. As a technology demonstrator we have also shown how to perform a reference-based quality assessment of an assembly.\n",
        "\n",
        "For more information on genome assembly and assement see:\n",
        "\n",
        "* [flye](https://github.com/fenderglass/Flye/blob/flye/docs/USAGE.md) documention\n",
        "* [shasta](https://chanzuckerberg.github.io/shasta/) documentation\n",
        "\n",
        "In a forthcoming tutorial we will provide a longer discussion on how to assess\n",
        "the quality of an assembly, both with and without a reference sequence."
      ]
    }
  ]
}