{
 "cells": [
  {
   "cell_type": "markdown",
   "metadata": {
    "colab_type": "text",
    "id": "UzUZ_k5x86iT"
   },
   "source": [
    "<h1>Introduction to Fastq files</h1>\n",
    "\n",
    "The [fastq format](https://en.wikipedia.org/wiki/FASTQ_format) is (usually) a 4 line string (text) data format denoting a sequence and it's corresponding quality score values.  There different ways of encoding quality in a `.fastq` file however, files from ONT sequencing devices use [sanger phred scores](https://academic.oup.com/nar/article/38/6/1767/3112533). A sequence record is made up of 4 lines:\n",
    "\n",
    "```\n",
    "line 1: Sequence ID and Sequence description\n",
    "line 2: Sequence line e.g. ATCGs\n",
    "line 3: plus symbol (can additionally have description here)\n",
    "line 4: Sequence line qualities\n",
    "```\n",
    "**IMPORTANT:** Lines 2 and line 4 must have the same length or the sequence record is not valid.\n",
    "\n",
    "For example a sample record looks like:\n",
    "\n",
    "```\n",
    "@sequence_id sequence_description\n",
    "ATCG\n",
    "+\n",
    "!^%%\n",
    "```\n",
    "The sequence ID must not contain any spaces. Anything after the first space in the sequence ID line will be considered the \"description\".\n",
    "\n",
    "A `.fastq` file may contain multiple records. The default number of records in a fastq file generated during a nanopore run is 4000 reads (16000 lines).\n"
   ]
  },
  {
   "cell_type": "markdown",
   "metadata": {
    "colab_type": "text",
    "id": "cc8B6dK8qvUQ"
   },
   "source": [
    "## Useful snippets\n",
    "\n",
    "The following snippets demonstrate common tasks you might want to perform on a single `.fastq` file or a set of such files. For many tasks we recommend the excellent [seqkit](https://github.com/shenwei356/seqkit) program.\n",
    "\n",
    "Before anything else we will create and set a working directory:"
   ]
  },
  {
   "cell_type": "code",
   "execution_count": null,
   "metadata": {
    "colab": {},
    "colab_type": "code",
    "id": "vPF_Wj3_YAJH"
   },
   "outputs": [],
   "source": [
    "# create a work directory and move into it\n",
    "directory = \"fastq_tutorial\"\n",
    "working_dir='/epi2melabs/{}/'.format(directory)\n",
    "!mkdir -p \"$working_dir\"\n",
    "%cd \"$working_dir\"\n",
    "\n",
    "from epi2melabs import ping\n",
    "pinger = ping.Pingu()\n",
    "pinger.send_notebook_ping('stop', 'fastq_introduction')\n",
    "\n",
    "# Download sample data\n",
    "bucket = \"ont-exd-int-s3-euwst1-epi2me-labs\"\n",
    "domain = \"s3-eu-west-1.amazonaws.com\"\n",
    "site = \"https://{}.{}\".format(bucket, domain)\n",
    "\n",
    "!wget \"$site/fast_introduction/archive.tar.gz\"\n",
    "!tar -xzvf archive.tar.gz\n",
    "%cd test0"
   ]
  },
  {
   "cell_type": "markdown",
   "metadata": {
    "colab_type": "text",
    "id": "T7R3ZA2GF6HT"
   },
   "source": [
    "The snippets all have their code to the left-hand side and a form to the right which can be used to change their inputs (as an alternative to directly editing the code)."
   ]
  },
  {
   "cell_type": "markdown",
   "metadata": {
    "colab_type": "text",
    "id": "Yu8wQ5mc-69P"
   },
   "source": [
    "#### How many records in my `.fastq` file?\n",
    "\n",
    "To count the number of records in a `.fastq` file we can use the linux [word count](https://linux.die.net/man/1/wc) command to count the number of lines in a file, with a division by four accounting for four lines per record:"
   ]
  },
  {
   "cell_type": "code",
   "execution_count": null,
   "metadata": {
    "cellView": "both",
    "colab": {
     "base_uri": "https://localhost:8080/",
     "height": 34
    },
    "colab_type": "code",
    "id": "f-e8UiQE8qyw",
    "outputId": "cb4eb9d0-522f-4ff0-bb5a-ba3c34808cb2"
   },
   "outputs": [],
   "source": [
    "filename = \"example3.fastq\"\n",
    "!echo $(( $(wc -l < $filename) / 4 )) reads"
   ]
  },
  {
   "cell_type": "markdown",
   "metadata": {
    "colab_type": "text",
    "id": "vOwokQTOIZ0N"
   },
   "source": [
    "#### List all the fastqs in a directory\n",
    "\n",
    "As Oxford Nanopore Technologies' sequencing devices output multiple `.fastq` files during the course of an experiment, it can be useful to find and list all such files. We can do this with the linux [find](https://linux.die.net/man/1/find) command:"
   ]
  },
  {
   "cell_type": "code",
   "execution_count": null,
   "metadata": {
    "cellView": "both",
    "colab": {
     "base_uri": "https://localhost:8080/",
     "height": 68
    },
    "colab_type": "code",
    "id": "Toslxto7HgIn",
    "outputId": "73dfdb07-b5b5-46ef-e264-f0598c5cc623"
   },
   "outputs": [],
   "source": [
    "directory = \".\"\n",
    "\n",
    "!find $directory -name \"*.fastq\""
   ]
  },
  {
   "cell_type": "markdown",
   "metadata": {
    "colab_type": "text",
    "id": "zMt6_aeYsudk"
   },
   "source": [
    "The default directory value here (`.`) means \"the current working directory.\""
   ]
  },
  {
   "cell_type": "markdown",
   "metadata": {
    "colab_type": "text",
    "id": "huYtv1u3JDXn"
   },
   "source": [
    "#### Concatenate all fastqs in a directory into a single file\n",
    "\n",
    "Many bioinformatics programs require all sequence data to be present in a single `.fastq` file. In order to process sequences across multiple files we must concatenate (or \"cat\") all the `.fastq` files into a single consolidated file. To perform this task we can use a combination of the linux [find](https://linux.die.net/man/1/find), [xargs](https://linux.die.net/man/1/xargs), and [cat](https://linux.die.net/man/1/cat) commands:"
   ]
  },
  {
   "cell_type": "code",
   "execution_count": null,
   "metadata": {
    "cellView": "both",
    "colab": {
     "base_uri": "https://localhost:8080/"
    },
    "colab_type": "code",
    "id": "F2kqVNt886Rd",
    "outputId": "8736bbcc-1e37-477c-c63c-a2bfbcf94ac1"
   },
   "outputs": [],
   "source": [
    "directory = \".\"\n",
    "output_fastq = \"all_records.fastq\"\n",
    "\n",
    "!find . -type f \\( -iname \"*.fastq\" ! -iname $output_fastq \\) | \\\n",
    "    xargs cat > $output_fastq\n",
    "!echo $(( $(wc -l < $output_fastq) / 4 )) reads"
   ]
  },
  {
   "cell_type": "markdown",
   "metadata": {
    "colab_type": "text",
    "id": "Ze2sQyDht1ol"
   },
   "source": [
    "Again the default directory value here (`.`) means \"the current working directory.\"\n",
    "\n",
    "You may often see a simple form of the above:\n",
    "\n",
    "    cat *.fastq > output.fastq\n",
    "\n",
    "however, this command will fail if the number of `.fastq` files found is very large."
   ]
  },
  {
   "cell_type": "markdown",
   "metadata": {
    "colab_type": "text",
    "id": "SXx3keHyNPKS"
   },
   "source": [
    "#### Remove all duplicates in a fastq\n",
    "\n",
    "In can sometimes be the case that for some reason a `.fastq` file contains duplicates of the same read. To remove these we can use the [`rmdup`](https://bioinf.shenwei.me/seqkit/usage/#rmdup) command of the [seqkit](https://github.com/shenwei356/seqkit) program:"
   ]
  },
  {
   "cell_type": "code",
   "execution_count": null,
   "metadata": {
    "cellView": "both",
    "colab": {
     "base_uri": "https://localhost:8080/"
    },
    "colab_type": "code",
    "id": "dgl4TSS2NrB1",
    "outputId": "d18767d0-135c-4445-d895-c2c11470530c"
   },
   "outputs": [],
   "source": [
    "input_fastq = \"all_records.fastq\"\n",
    "output_fastq = \"deduplicated.fastq\"\n",
    "\n",
    "!seqkit rmdup \"$input_fastq\" -o \"$output_fastq\""
   ]
  },
  {
   "cell_type": "markdown",
   "metadata": {
    "colab_type": "text",
    "id": "TJh81ziw4ltw"
   },
   "source": [
    "For the example data, 200 duplicate records are identified because the three files (containing 100 records each) are in fact copies of the same file."
   ]
  },
  {
   "cell_type": "markdown",
   "metadata": {
    "colab_type": "text",
    "id": "qPBWIDOcVE6L"
   },
   "source": [
    "#### Compress or extract a fastq file\n",
    "\n",
    "We can save hard disk space on our computer by compressing `.fastq` files. To do this we recommend using [`bgzip`](http://www.htslib.org/doc/bgzip.html) which allows for indexing and fast retrieval of sequences by bioinformatics programs:"
   ]
  },
  {
   "cell_type": "code",
   "execution_count": null,
   "metadata": {
    "cellView": "both",
    "colab": {
     "base_uri": "https://localhost:8080/"
    },
    "colab_type": "code",
    "id": "gzW6vTXMVKcr",
    "outputId": "ad1fba84-16fb-4506-b083-caca45222aaa"
   },
   "outputs": [],
   "source": [
    "input_fastq = \"example3.fastq\"\n",
    "compressed_fastq = \"example3.fastq.gz\"\n",
    "\n",
    "!ls -lh \"$input_fastq\"\n",
    "!bgzip \"$input_fastq\"\n",
    "!ls -lh \"$compressed_fastq\""
   ]
  },
  {
   "cell_type": "markdown",
   "metadata": {
    "colab_type": "text",
    "id": "ELqn2HOS2YdF"
   },
   "source": [
    "The size of the compressed file is roughly half of the original. To decompress the compress file, we again use `bgzip`:"
   ]
  },
  {
   "cell_type": "code",
   "execution_count": null,
   "metadata": {
    "cellView": "both",
    "colab": {},
    "colab_type": "code",
    "id": "6MRicIUUWLPc"
   },
   "outputs": [],
   "source": [
    "compressed_fastq = \"example3.fastq.gz\"\n",
    "\n",
    "!bgzip -d \"$compressed_fastq\""
   ]
  },
  {
   "cell_type": "markdown",
   "metadata": {
    "colab_type": "text",
    "id": "IXvB3Kpq3MQJ"
   },
   "source": [
    "#### Compress a directory structure\n",
    "\n",
    "In order to compress a directory structure we can use the linux [`tar`](https://linux.die.net/man/1/tar) command with the compression option: "
   ]
  },
  {
   "cell_type": "code",
   "execution_count": null,
   "metadata": {
    "cellView": "both",
    "colab": {
     "base_uri": "https://localhost:8080/",
     "height": 51
    },
    "colab_type": "code",
    "id": "J7cNxaaC3iAw",
    "outputId": "0eb6430a-41ad-4893-9314-808450ec70a3"
   },
   "outputs": [],
   "source": [
    "directory = \"pass\"\n",
    "archive = \"archive.tar.gz\"\n",
    "\n",
    "# the options here mean: create, gzip compress, verbose, output file\n",
    "!tar -czvf \"$archive\" \"$directory\""
   ]
  },
  {
   "cell_type": "markdown",
   "metadata": {
    "colab_type": "text",
    "id": "3olXzFLP34Kd"
   },
   "source": [
    "When compressing directories and their contents in this way it is good practice to compress a single top-level directory, so that when the archive is decompressed a single top-level directory is retrieved (and the users working directory isn't polluted).\n",
    "\n",
    "To decompress the archive we use a similar command:"
   ]
  },
  {
   "cell_type": "code",
   "execution_count": null,
   "metadata": {
    "cellView": "both",
    "colab": {
     "base_uri": "https://localhost:8080/",
     "height": 51
    },
    "colab_type": "code",
    "id": "nCZ_MzoE42pN",
    "outputId": "e1b8d426-ad2f-4c26-d086-b6cc966d79c7"
   },
   "outputs": [],
   "source": [
    "archive = \"archive.tar.gz\"\n",
    "\n",
    "# A temporary folder (tmp) is created here simply to avoid confusion with the\n",
    "# original directory compressed in the previous example. This is not necessary\n",
    "# in practice.\n",
    "\n",
    "# the options here mean: extract, gzip compressed, verbose, input file\n",
    "!rm -rf tmp && mkdir tmp && cd tmp && \\\n",
    "    tar -xzvf ../\"$archive\""
   ]
  },
  {
   "cell_type": "markdown",
   "metadata": {
    "colab_type": "text",
    "id": "7XgSmykutHVY"
   },
   "source": [
    "## Visualizing fastq\n",
    "\n",
    "The snippets below demonstrate basic parsing of fastq data in python. We do not recommend using this code in practice as much of the information is more readily available in the `sequencing_summary.txt` file produced by Oxford Nanopore Technologies' sequencing devices. See our [Basic QC Tutorial](https://colab.research.google.com/github/epi2me-labs/tutorials/blob/master/basic_qc_tutorial.ipynb) for more examples."
   ]
  },
  {
   "cell_type": "code",
   "execution_count": null,
   "metadata": {
    "colab": {
     "base_uri": "https://localhost:8080/",
     "height": 297
    },
    "colab_type": "code",
    "id": "eqTpLNMAtN5w",
    "outputId": "472c098c-051e-425e-9d4f-c7e8b45301d8"
   },
   "outputs": [],
   "source": [
    "pinger.send_notebook_ping('stop', 'fastq_introduction')\n",
    "\n",
    "import numpy as np\n",
    "from pysam import FastxFile\n",
    "from bokeh.layouts import gridplot\n",
    "\n",
    "qualities = list()\n",
    "mean_qualities = list()\n",
    "lengths = list()\n",
    "\n",
    "# open the file and iterate through its records\n",
    "with FastxFile(\"all_records.fastq\") as fq:\n",
    "    for rec in fq:\n",
    "        # ONT calculation for \"mean Q score\"\n",
    "        quals = np.fromiter(\n",
    "            (ord(x) - 33 for x in rec.quality),\n",
    "            dtype=int, count=len(rec.quality))\n",
    "        mean_p = np.mean(np.power(10, quals/-10))\n",
    "        mean_qualities.append(-10*np.log10(mean_p))\n",
    "        # all qualities\n",
    "        qualities.extend(quals)\n",
    "        lengths.append(len(quals))\n",
    "\n",
    "# use the aplanat library to plot some graphs of the\n",
    "# collected statistics\n",
    "import aplanat\n",
    "from aplanat.hist import histogram\n",
    "\n",
    "p1 = histogram(\n",
    "    [np.array(mean_qualities)], title=\"Read quality scores\",\n",
    "    x_axis_label=\"quality\", y_axis_label=\"count\",\n",
    "    height=250, width=300)\n",
    "p2 = histogram(\n",
    "    [qualities], title=\"Base quality scores\",\n",
    "    x_axis_label=\"quality\", y_axis_label=\"count\",\n",
    "    height=250, width=300)\n",
    "p3 = histogram(\n",
    "    [lengths], title=\"Read lengths\",\n",
    "    x_axis_label=\"read length / bases\", y_axis_label=\"count\",\n",
    "    height=250, width=300)\n",
    "aplanat.show(gridplot((p1, p2, p3), ncols=3))"
   ]
  }
 ],
 "metadata": {
  "colab": {
   "collapsed_sections": [
    "Yu8wQ5mc-69P",
    "vOwokQTOIZ0N",
    "huYtv1u3JDXn",
    "SXx3keHyNPKS",
    "qPBWIDOcVE6L",
    "IXvB3Kpq3MQJ"
   ],
   "include_colab_link": true,
   "name": "Introduction to .fastq file",
   "provenance": [],
   "toc_visible": true
  },
  "kernelspec": {
   "display_name": "Python 3",
   "language": "python",
   "name": "python3"
  },
  "language_info": {
   "codemirror_mode": {
    "name": "ipython",
    "version": 3
   },
   "file_extension": ".py",
   "mimetype": "text/x-python",
   "name": "python",
   "nbconvert_exporter": "python",
   "pygments_lexer": "ipython3",
   "version": "3.6.10"
  }
 },
 "nbformat": 4,
 "nbformat_minor": 4
}
