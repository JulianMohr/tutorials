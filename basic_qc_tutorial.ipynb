{
  "nbformat": 4,
  "nbformat_minor": 0,
  "metadata": {
    "kernelspec": {
      "display_name": "Python 3",
      "language": "python",
      "name": "python3"
    },
    "language_info": {
      "codemirror_mode": {
        "name": "ipython",
        "version": 3
      },
      "file_extension": ".py",
      "mimetype": "text/x-python",
      "name": "python",
      "nbconvert_exporter": "python",
      "pygments_lexer": "ipython3",
      "version": "3.7.6"
    },
    "colab": {
      "name": "Basic QC Tutorial",
      "provenance": [],
      "toc_visible": true,
      "include_colab_link": true
    }
  },
  "cells": [
    {
      "cell_type": "markdown",
      "metadata": {
        "id": "view-in-github",
        "colab_type": "text"
      },
      "source": [
        "<a href=\"https://colab.research.google.com/github/epi2me-labs/testbooks/blob/master/basic_qc_tutorial.ipynb\" target=\"_parent\"><img src=\"https://colab.research.google.com/assets/colab-badge.svg\" alt=\"Open In Colab\"/></a>"
      ]
    },
    {
      "cell_type": "markdown",
      "metadata": {
        "id": "eyhWQcLLP6Kt",
        "colab_type": "text"
      },
      "source": [
        "<h1>Basic QC Tutorial</h1>\n",
        "\n",
        "The Summary statistics and QC tutorial is intended as a functional guide to help assess the quality characteristics of a single Nanopore sequencing run. This tutorial aims to enable an objective assessment of the performance of a Nanopore flowcell run and to assess the sequence characteristics to benchmark quality.\n",
        "\n",
        "Sufficient information is provided in the tutorial that the workflow can be tested, validated and replicated. The tutorial is provided with an example dataset from a barcoded sequence library. The tutorial is intended to address important questions:\n",
        "\n",
        "* How many reads (and how many gigabases) were sequenced?\n",
        "* What fraction of my sequence collection is good quality?\n",
        "* How are longer sequence reads represented in my sample?\n",
        "\n",
        "Methods used in this tutorial include:\n",
        "\n",
        "- Python for statistical analysis and reporting, including  use of `pandas`, `numpy`, and `bokeh`, \n",
        "- the `sequencing_summary.txt` file from **MinKNOW** or **Guppy** as data source for parsing.\n",
        "\n",
        "Computational requirements for this tutorial include:\n",
        "\n",
        "- Computer running the **Epi2Me Labs** notebook Server\n",
        "- At least 8 Gb RAM\n",
        "- Runtime with provided example data - approximately 10 minutes\n",
        "\n"
      ]
    },
    {
      "cell_type": "markdown",
      "metadata": {
        "id": "a0y2JPI9SlxM",
        "colab_type": "text"
      },
      "source": [
        "## Introduction\n",
        "\n",
        "This tutorial aims to summarise the data characteristics from an Oxford Nanopore Technologies sequencing run. Observations from basecalled reads and their quality characteristics, temporal performance, and barcoded content are presented. The information presented is derived solely from the `sequence_summary.txt` file produced during basecalling with the Guppy software. \n",
        "\n",
        "The goals from this tutorial include:\n",
        "\n",
        "* To introduce a literate framework for analysing base-calling summary\n",
        "statistics to evaluate the relative performance of runs.\n",
        "* To provide basic QC metrics so that a review and consideration of experimental data can be undertaken.\n",
        "* To provide training as to which QC metrics are of most interest and to encourage an understanding of how different aspects of sequence data quality can be attributed to sample characteristics from DNA isolation and library preparation.\n"
      ]
    },
    {
      "cell_type": "markdown",
      "metadata": {
        "id": "VWIv_lakSnbh",
        "colab_type": "text"
      },
      "source": [
        "### The `sequencing_summary.txt` file\n",
        "\n",
        "The `sequencing_summary.txt` file is automatically produced during base-calling with the Guppy software. This summary file contains rich metadata for each sequence read produced during a run. These data include timestamp, pore duration, read quality, and channel information, in addition to the characteristics of the resulting DNA sequence. This workflow presented here uses this summary file rather than the raw `FAST5` format data for performance reasons.\n",
        "\n",
        "Tools such as [pomoxis](https://github.com/nanoporetech/pomoxis) utilise the fastq files for quality metrics, and other tools make extensive use of the fast5 files. Parsing the fast5 files provides additional analytical context but is much more demanding in terms of compute resource and time. This tutorial is lightweight and is intended to run within a few minutes on a desktop computer.\n"
      ]
    },
    {
      "cell_type": "markdown",
      "metadata": {
        "id": "ZMhjoLNaP6Ku",
        "colab_type": "text"
      },
      "source": [
        "## Basic QC analysis and results\n",
        "\n",
        "To start analysing our `sequencing_summary.txt` we must first \"read in\" the data. For this tutorial we will download a sample file of a Lambda phage sequencing run.\n",
        "\n",
        "To download the sample file we run the `linux` command `wget`. To execute the command click on the cell and then press Command/Ctrl-Enter, or click the Play symbol to the left-hand side."
      ]
    },
    {
      "cell_type": "code",
      "metadata": {
        "id": "MVacV0gxWwel",
        "colab_type": "code",
        "colab": {}
      },
      "source": [
        "working_dir='basicqc_tutorial'\n",
        "!mkdir -p \"$working_dir\"\n",
        "%cd \"$working_dir\"\n",
        "!wget -O lambda_sequencing_summary.txt.bz2 \\\n",
        "    https://ont-research.s3-eu-west-1.amazonaws.com/labs_resources/basicqc_tutorial/lambda_sequencing_summary.txt.bz2"
      ],
      "execution_count": 0,
      "outputs": []
    },
    {
      "cell_type": "markdown",
      "metadata": {
        "id": "nh7-4mZeXHRA",
        "colab_type": "text"
      },
      "source": [
        "If you have your own sequencing, you can edit the value of the `summary_file` variable below. To find the correct full path of a file you can navigate to it in\n",
        "the `Files` browser to the left-hand side, right-click on the file and select `Copy path`:"
      ]
    },
    {
      "cell_type": "markdown",
      "metadata": {
        "id": "vDCEs7E3Zy60",
        "colab_type": "text"
      },
      "source": [
        "![image.png](data:image/png;base64,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)"
      ]
    },
    {
      "cell_type": "markdown",
      "metadata": {
        "id": "1VM9k1NGZ8co",
        "colab_type": "text"
      },
      "source": [
        "When pasting the path in the code cell you will have to remove the preceding `/` character.\n",
        "\n",
        "The form below reads the sequencing summary file using the `pandas` library. The form can be used to enter the filename of your sequencing summary file. Alternatively you can edit the code which reads the file by first double clicking the form header. After entering your filename (or editing the code cell) remember to execute the code using `Command/Ctrl-Enter`, or pressing the `Play` symbol to the left-hand side."
      ]
    },
    {
      "cell_type": "markdown",
      "metadata": {
        "id": "46QEClv31y4J",
        "colab_type": "text"
      },
      "source": [
        "> **If you want simply to plot all the graphs in this tutorial for your dataset, rather than working through the tutorial, select `Run after` from the `Runtime` menu above after entering your filepath.**"
      ]
    },
    {
      "cell_type": "code",
      "metadata": {
        "id": "hexEX4x8VPfA",
        "colab_type": "code",
        "cellView": "form",
        "colab": {}
      },
      "source": [
        "#@markdown Enter the path to you summary file here: (*click **here** to view code*)\n",
        "# load the pandas library\n",
        "import pandas as pd\n",
        "\n",
        "# set two variables, one each for the two files\n",
        "summary_file = 'lambda_sequencing_summary.txt.bz2'  #@param {type: \"string\"}\n",
        "\n",
        "# Read the file, use a tab ('\\t') as the separator between columns\n",
        "seq_summary = pd.read_csv(summary_file, delimiter='\\t')\n",
        "# ensure the file is sorted by time and reset its\n",
        "# indexing after doing so\n",
        "seq_summary.sort_values('start_time', inplace=True)\n",
        "seq_summary.reset_index(drop=True, inplace=True)"
      ],
      "execution_count": 0,
      "outputs": []
    },
    {
      "cell_type": "markdown",
      "metadata": {
        "id": "ZegHRkre91c0",
        "colab_type": "text"
      },
      "source": [
        "The variable `seq_summary` is now a `pandas` **dataframe** object. Having read the file we can take a peek at the start of the file using the `.head()` method of the dataframe objects:"
      ]
    },
    {
      "cell_type": "code",
      "metadata": {
        "id": "jTtCIdiO-IN3",
        "colab_type": "code",
        "colab": {}
      },
      "source": [
        "# Use the .head() method one one of the dataframes\n",
        "seq_summary.head()"
      ],
      "execution_count": 0,
      "outputs": []
    },
    {
      "cell_type": "markdown",
      "metadata": {
        "id": "wfhtD7DZbl4Q",
        "colab_type": "text"
      },
      "source": [
        "### Numbers of reads\n",
        "\n",
        "In order to count the number of reads sequenced in the experiment, we can\n",
        "ask the dataframe how many rows it contains:\n",
        "\n"
      ]
    },
    {
      "cell_type": "code",
      "metadata": {
        "id": "tpLE4JpNAraF",
        "colab_type": "code",
        "colab": {}
      },
      "source": [
        "# Show the total number of reads\n",
        "print(\"The total number of reads is:\", len(seq_summary))\n",
        "\n",
        "# Group the rows of the dataframe by the value of the `passes_filtering` column\n",
        "# then ask the size of each group.\n",
        "pass_fail = seq_summary.groupby('passes_filtering').size()\n",
        "\n",
        "print(\"The number of pass reads is:\", pass_fail[True])\n",
        "print(\"The number of pass reads is:\", pass_fail[False])\n"
      ],
      "execution_count": 0,
      "outputs": []
    },
    {
      "cell_type": "markdown",
      "metadata": {
        "id": "ahmqM43TGTUB",
        "colab_type": "text"
      },
      "source": [
        "As a more interesting way of summarising these values we can use the `bokeh` library to create a stacked bar chart:"
      ]
    },
    {
      "cell_type": "code",
      "metadata": {
        "id": "RN4H4jRBHGtr",
        "colab_type": "code",
        "cellView": "form",
        "colab": {}
      },
      "source": [
        "#@markdown ***Pass/Fail plot code*** (*click to show*)\n",
        "# import bokeh for use\n",
        "from bokeh.plotting import figure\n",
        "from bokeh.models import Range1d\n",
        "import bokeh.io as bkio\n",
        "\n",
        "# Set a null y_value, we one have one factor\n",
        "y_value = ['']\n",
        "classes = ['Pass', 'Fail']\n",
        "colors = ['darkolivegreen', 'maroon']\n",
        "\n",
        "# describe our data\n",
        "pass_percentage = 100 * pass_fail[True] / len(seq_summary)\n",
        "data = {\n",
        "    'y_value':y_value,\n",
        "    'Pass': [pass_percentage],\n",
        "    'Fail': [100 - pass_percentage]}\n",
        "\n",
        "# create the figure\n",
        "p = figure(\n",
        "    title=\"Pass / Fail reads\",\n",
        "    y_range=y_value,\n",
        "    plot_height=150, plot_width=600, \n",
        "    toolbar_location=None, tools=\"hover\",\n",
        "    tooltips=\"$name: @$name\")\n",
        "\n",
        "# plot horozontal bars\n",
        "p.hbar_stack(\n",
        "    classes, y='y_value',\n",
        "    height=0.9, alpha=0.7,\n",
        "    color=colors, source=data,\n",
        "    legend_label=classes)\n",
        "\n",
        "# hide some plotting artefacts\n",
        "p.xgrid.grid_line_color = None\n",
        "p.xaxis.axis_label = '%age Reads'\n",
        "p.x_range = Range1d(0, 120)\n",
        "p.yaxis.visible = False\n",
        "# show the plot\n",
        "bkio.output_notebook(hide_banner=True)\n",
        "bkio.show(p)"
      ],
      "execution_count": 0,
      "outputs": []
    },
    {
      "cell_type": "markdown",
      "metadata": {
        "id": "KsTaYDUCSb-p",
        "colab_type": "text"
      },
      "source": [
        "### Read Lengths and Yield\n",
        "\n",
        "Moving on from counting reads, let us examine the length of reads in this experiment.\n",
        "\n",
        "We will first calculate the **mean read length** and the **N50** read length:"
      ]
    },
    {
      "cell_type": "code",
      "metadata": {
        "id": "AdA6xXMLS2eC",
        "colab_type": "code",
        "colab": {}
      },
      "source": [
        "# take the `sequence_length_template` column (the read lengths)\n",
        "# and sort them in ascending order\n",
        "sorted_lengths = seq_summary.sequence_length_template.sort_values(ascending=False).reset_index(drop=True)\n",
        "# calculate the cumulative sum of lengths\n",
        "cumulative_length = sorted_lengths.cumsum()\n",
        "# find the total number of bases and the mean length\n",
        "total_bases = cumulative_length.iloc[-1]\n",
        "mean_length = total_bases / len(seq_summary)\n",
        "# find the N50 length: the length for which half the reads are longer\n",
        "n50_index = cumulative_length.searchsorted(total_bases / 2)\n",
        "n50_length = sorted_lengths.iloc[n50_index]"
      ],
      "execution_count": 0,
      "outputs": []
    },
    {
      "cell_type": "markdown",
      "metadata": {
        "id": "_6FDH-gtYgHB",
        "colab_type": "text"
      },
      "source": [
        "These values be will used below to annotate the plots. We can depict the read length distribution is several way. The simplest is as a simple histogram:"
      ]
    },
    {
      "cell_type": "code",
      "metadata": {
        "id": "z-CHNXRtYgY6",
        "colab_type": "code",
        "cellView": "form",
        "colab": {}
      },
      "source": [
        "#@markdown ***Length distribution code*** (*click to show*)\n",
        "# calculate counts for a histogram using numpy\n",
        "import numpy as np\n",
        "counts, edges = np.histogram(\n",
        "    seq_summary.sequence_length_template,\n",
        "    bins=400)\n",
        "\n",
        "# create a figure\n",
        "p = figure(\n",
        "    title='Read length distribution',\n",
        "    output_backend=\"webgl\",\n",
        "    height=300, width=600)\n",
        "\n",
        "# plot the bars\n",
        "p.quad(top=counts, bottom=0, left=edges[:-1], right=edges[1:],\n",
        "    fill_color='blue', line_color=None, alpha=0.6)\n",
        "\n",
        "# plot a vertical line for mean and N50 read length\n",
        "line_types = (('Mean', mean_length), ('N50', n50_length))\n",
        "for name, val in line_types:\n",
        "    p.line(\n",
        "        x=[val, val], y=[0, 0.8*max(counts)],\n",
        "        line_width=1.5, color='black')\n",
        "    p.text(x=[val], y=[0.8*max(counts)],\n",
        "        text=['{}: {:.0f}'.format(name, val)])\n",
        "\n",
        "# limit the display range\n",
        "p.x_range = Range1d(start=0, end=55e3, bounds=(0, None))\n",
        "p.y_range = Range1d(start=0, end=1.1*max(counts), bounds=(0, None))\n",
        "# add axis labels\n",
        "p.xaxis.axis_label = 'Read Length / bases'\n",
        "p.yaxis.axis_label = 'Number of reads'\n",
        "# show the plot\n",
        "bkio.output_notebook(hide_banner=True)\n",
        "bkio.show(p)"
      ],
      "execution_count": 0,
      "outputs": []
    },
    {
      "cell_type": "markdown",
      "metadata": {
        "id": "0Ctyjv4an-3-",
        "colab_type": "text"
      },
      "source": [
        "> The distribution of sequence lengths will be dependent on the protocols that have been used to extract and/or prepare the starting DNA. Sequences from amplicon DNA will have a tight distribution of read lengths, while sequences from genomic DNA will have a broader distribution. The distribution will be further influenced if a size-selection step has been used, and will also be dependent on the choice of sequencing library preparation kits. The read-length distribution should be assessed to see if the distribution is concordant with that expected.\n",
        "\n",
        "In the above graph we observe a spread of read lengths with a strong peak in the distribution at around **48 kbases**, the length of the genome under examination. "
      ]
    },
    {
      "cell_type": "markdown",
      "metadata": {
        "id": "QvJd1ex4u5Rm",
        "colab_type": "text"
      },
      "source": [
        "A second way to visualise the read length distribution is as a mass distribution, or a weighted histogram. This method most similarly portrays the intensities that would be seen in an electrophoresis experiment."
      ]
    },
    {
      "cell_type": "code",
      "metadata": {
        "id": "fnOjpIWJt4GY",
        "colab_type": "code",
        "cellView": "form",
        "colab": {}
      },
      "source": [
        "#@markdown ***Length mass dist. code*** (*click to show*)\n",
        "# Compute weighted histogram with numpy.\n",
        "counts, edges = np.histogram(\n",
        "    seq_summary.sequence_length_template,\n",
        "    weights=seq_summary.sequence_length_template,\n",
        "    bins=400)\n",
        "\n",
        "# All similar to the above\n",
        "p = figure(\n",
        "    title='Read length distribution',\n",
        "    output_backend=\"webgl\",\n",
        "    height=300, width=600)\n",
        "\n",
        "p.quad(\n",
        "    top=counts / sum(counts), bottom=0,\n",
        "    left=edges[:-1], right=edges[1:],\n",
        "    fill_color='blue', line_color=None, alpha=0.6)\n",
        "p.x_range = Range1d(\n",
        "    start=0, end=55e3, bounds=(0, None))\n",
        "p.y_range = Range1d(\n",
        "    start=0, end=1.1*max(counts)/sum(counts),\n",
        "    bounds=(0, None))\n",
        "p.xaxis.axis_label = 'Read Length / bases'\n",
        "p.yaxis.axis_label = 'Base density'\n",
        "# show the plot\n",
        "bkio.output_notebook(hide_banner=True)\n",
        "bkio.show(p)\n"
      ],
      "execution_count": 0,
      "outputs": []
    },
    {
      "cell_type": "markdown",
      "metadata": {
        "id": "SwzYnrXqzFGi",
        "colab_type": "text"
      },
      "source": [
        "***Note how a normalised density has been plotted, to avoid misinterpretation when plotting simply the total bases per bin.***\n",
        "\n",
        "> The weighted read length histogram above shows the binned distribution of sequence length against number of sequence nucleotides contained within the bin. This plot will show clear peaks if for example, amplicons are sequenced or if size selection has been performed.\n",
        "\n"
      ]
    },
    {
      "cell_type": "markdown",
      "metadata": {
        "id": "MDSjVTifuy_N",
        "colab_type": "text"
      },
      "source": [
        "A final way of viewing this data is to take the cumulative sum of the number of bases and plot it against the read lengths, to obtain a curve expressing the number of bases contained within reads above a given length:"
      ]
    },
    {
      "cell_type": "code",
      "metadata": {
        "id": "zovDHkCioSy8",
        "colab_type": "code",
        "cellView": "form",
        "colab": {}
      },
      "source": [
        "#@markdown ***Yield plot code*** (*click to show*)\n",
        "# Create a simple line graph\n",
        "p = figure(\n",
        "    title='Base yield above given read length',\n",
        "    output_backend=\"webgl\",\n",
        "    height=300, width=600)\n",
        "\n",
        "# The `[0:-1:10000]` removes points to make plotting faster\n",
        "p.line(\n",
        "    x=sorted_lengths[0:-1:10000],\n",
        "    y=cumulative_length[0:-1:10000] / 1e9,\n",
        "    line_width=1.5)\n",
        "\n",
        "# set up axes as usual\n",
        "p.x_range = Range1d(\n",
        "    start=0, end=55e3, bounds=(0, None))\n",
        "p.y_range = Range1d(\n",
        "    start=0, end=1.1*max(cumulative_length)/1e9,\n",
        "    bounds=(0, None))\n",
        "p.xaxis.axis_label = 'Read Length / bases'\n",
        "p.yaxis.axis_label = 'Yield above length / Gbases'\n",
        "# show the plot\n",
        "bkio.output_notebook(hide_banner=True)\n",
        "bkio.show(p)\n"
      ],
      "execution_count": 0,
      "outputs": []
    },
    {
      "cell_type": "markdown",
      "metadata": {
        "id": "hBTAs5vAqoqT",
        "colab_type": "text"
      },
      "source": [
        "This graph indicates how many small fragments contribute equally to the total yield as fewer longer fragments.\n",
        "\n",
        "From the graph we can read off that the total yield of the experiment was around 13.5 Gbases."
      ]
    },
    {
      "cell_type": "markdown",
      "metadata": {
        "id": "pBM9syD70Ik-",
        "colab_type": "text"
      },
      "source": [
        "### Quality Scores\n",
        "\n",
        "In this section we will review the predicted quality of the sequencing\n",
        "data using the mean per-base quality score of reads written in the `sequencing_summary.txt` file.\n",
        "\n",
        "Let's start by simply plotting a histogram of the quality scores:"
      ]
    },
    {
      "cell_type": "code",
      "metadata": {
        "id": "hVtvN45ENw1A",
        "colab_type": "code",
        "cellView": "form",
        "colab": {}
      },
      "source": [
        "#@markdown ***Quality Plot*** (*click to show*)\n",
        "# create a figure as usual\n",
        "p = figure(\n",
        "    title='Read Qualities', output_backend=\"webgl\",\n",
        "    height=300, width=600)\n",
        "\n",
        "# for both `Pass` and `Fail` reads plot a histogram\n",
        "max_count = 0\n",
        "for status in [True, False]:\n",
        "    data = seq_summary[seq_summary['passes_filtering'] == status]\n",
        "    counts, edges = np.histogram(\n",
        "        data.mean_qscore_template,\n",
        "        bins=100)\n",
        "    p.quad(\n",
        "        top=counts / 1e6, bottom=0,\n",
        "        left=edges[:-1], right=edges[1:],\n",
        "        fill_color=['maroon', 'darkolivegreen'][status],\n",
        "        line_color=None, alpha=0.7,\n",
        "        legend_label=['Fail', 'Pass'][status])\n",
        "    max_count = max(max_count, max(counts))\n",
        "    \n",
        "# set up axes\n",
        "p.legend.location = 'top_left'\n",
        "p.x_range = Range1d(start=1, end=14, bounds=(0, None))\n",
        "p.y_range = Range1d(start=0, end=max_count/1e6, bounds=(0, None))\n",
        "p.xaxis.axis_label = 'Read Quality Score'\n",
        "p.yaxis.axis_label = 'Count reads / M'\n",
        "# show the plot\n",
        "bkio.output_notebook(hide_banner=True)\n",
        "bkio.show(p)"
      ],
      "execution_count": 0,
      "outputs": []
    },
    {
      "cell_type": "markdown",
      "metadata": {
        "id": "Bz6--d609j7t",
        "colab_type": "text"
      },
      "source": [
        "> The read quality score is calculated as the mean of the per-base quality scores of a read. Each per base quality gives an estimation of the error of that base in expressed on a logarithmic scale: $QV = -10\\log_{10} (P_{error})$)."
      ]
    },
    {
      "cell_type": "markdown",
      "metadata": {
        "id": "vduVjvpZ9AL8",
        "colab_type": "text"
      },
      "source": [
        "Evident from the histogram above is the threshold value for determining the `Pass` of `Fail` status of reads. The boundary is chosen to be in the tail of the distribution. This QV filter is applied during the base-calling process as a modifiable parameter. For downstream analyses we recommend processing only the higher-quality sequence reads."
      ]
    },
    {
      "cell_type": "markdown",
      "metadata": {
        "id": "b1a0pqln1FLz",
        "colab_type": "text"
      },
      "source": [
        "## Performance through time\n",
        "\n",
        "A key metric in the quality review of a sequencing run is an analysis of the temporal performance of the run. During a run each sequencing channel will address a selection of different pores and the individual pores may become temporarily or permanently blocked. It is therefore expected that during a run sequencing productivity will decrease. It is useful to consider whether the observed productivity decline is normal or if it happens more rapidly than expected. A rapid pore decline could be indicative of contaminants with the sequencing library."
      ]
    },
    {
      "cell_type": "markdown",
      "metadata": {
        "id": "xjEms1vT1K6w",
        "colab_type": "text"
      },
      "source": [
        "### Throughput\n",
        "\n",
        "Plotting the number of bases generated per unit time over the course of a sequencing run can reveal unexpected behaviours. In an ideal experiment there should not be any sudden decreases in performance."
      ]
    },
    {
      "cell_type": "code",
      "metadata": {
        "id": "8r6dkGhcCPB-",
        "colab_type": "code",
        "cellView": "form",
        "colab": {}
      },
      "source": [
        "#@markdown ***Thoughput plot code*** (*click to show*)\n",
        "# calculate a start time for each read rounded to 5 minutes\n",
        "\n",
        "#@markdown Numbers of minutes by which to discretize time:\n",
        "discretize =   10#@param {type:\"integer\"}\n",
        "\n",
        "seq_summary['time'] = (seq_summary['start_time'] / 60 / discretize).astype(int)\n",
        "# group the data by quarter hour and pass/fail\n",
        "groups = seq_summary.groupby(['passes_filtering', 'time'], as_index=False)\n",
        "# sum the bases per group\n",
        "throughput = groups['sequence_length_template'].agg('sum')\n",
        "\n",
        "# create a plot\n",
        "p = figure(\n",
        "    title='Base Throughput', output_backend=\"webgl\",\n",
        "    height=300, width=600)\n",
        "\n",
        "tp = throughput  # save some typing\n",
        "max_time = 0\n",
        "max_tp = 0\n",
        "# draw a line for each class as Mbases per minute\n",
        "for status in (True, False):\n",
        "    data = tp[tp.passes_filtering == status]\n",
        "    p.line(\n",
        "        x=data.time / (60 / discretize),\n",
        "        y=data.sequence_length_template / discretize / 1e6,\n",
        "        color=['maroon', 'darkolivegreen'][status],\n",
        "        legend_label=['Fail', 'Pass'][status],\n",
        "        line_width=1.5)\n",
        "    max_time = max(max_time, max(data.time) / (60 / discretize))\n",
        "    max_tp = max(max_tp, max(data.sequence_length_template))\n",
        "\n",
        "# set up the axes\n",
        "p.x_range = Range1d(\n",
        "    start=0, end=1.1*max_time,\n",
        "    bounds=(0, None))\n",
        "p.y_range = Range1d(\n",
        "    start=0, end=1.1*max_tp / discretize / 1e6,\n",
        "    bounds=(0, None))\n",
        "p.xaxis.axis_label = 'time / hr'\n",
        "p.yaxis.axis_label = 'Throughput / (Mbases / min)'\n",
        "# show the plot\n",
        "bkio.output_notebook(hide_banner=True)\n",
        "bkio.show(p)\n"
      ],
      "execution_count": 0,
      "outputs": []
    },
    {
      "cell_type": "markdown",
      "metadata": {
        "id": "Dw7O0LfUPArc",
        "colab_type": "text"
      },
      "source": [
        "The above plot shows a steady decline in the sequencing rate for `Pass` reads, with a constant background of `Fail` reads. The dips in throughput every hour are normal as the sequencing control software **MinKNOW** reassessed from which pores to record data."
      ]
    },
    {
      "cell_type": "markdown",
      "metadata": {
        "id": "6UQjX6qaQ1ei",
        "colab_type": "text"
      },
      "source": [
        "A second way of viewing the sequencing throuhput is to plot the cumulative yield through time."
      ]
    },
    {
      "cell_type": "code",
      "metadata": {
        "id": "WPkdOFcXQ02D",
        "colab_type": "code",
        "cellView": "form",
        "colab": {}
      },
      "source": [
        "#@markdown ***Base yield plot code*** (*click to show*)\n",
        "# group the data by pass/fail\n",
        "groups = seq_summary.set_index(['passes_filtering']).groupby(level=0, as_index=False)\n",
        "# calculate a cumulative sum of the number of bases sequenced (per group)\n",
        "sum_tp = groups['sequence_length_template'].cumsum().reset_index()\n",
        "# attach the start times from the original table\n",
        "sum_tp['start_time'] = seq_summary['start_time']\n",
        "\n",
        "# create a plot\n",
        "p = figure(\n",
        "    title='Base Yield', output_backend=\"webgl\",\n",
        "    height=300, width=600)\n",
        "\n",
        "max_time = 0\n",
        "max_tp = 0\n",
        "# draw a line for each class\n",
        "for status in (True, False):\n",
        "    data = sum_tp[sum_tp.passes_filtering == status]\n",
        "    # take a selection of rows to speed plotting\n",
        "    data = data[0:-1:10000]\n",
        "    p.line(\n",
        "        x=data.start_time / 3600,\n",
        "        y=data.sequence_length_template / 1e9,\n",
        "        color=['maroon', 'darkolivegreen'][status],\n",
        "        legend_label=['Fail', 'Pass'][status],\n",
        "        line_width=1.5)\n",
        "    max_time = max(max_time, max(data.start_time) / 3600)\n",
        "    max_tp = max(max_tp, max(data.sequence_length_template))\n",
        "\n",
        "# set up the axes\n",
        "p.legend.location = 'top_left'\n",
        "p.x_range = Range1d(\n",
        "    start=0, end=1.1*max_time,\n",
        "    bounds=(0, None))\n",
        "p.y_range = Range1d(\n",
        "    start=0, end=1.1*max_tp / 1e9,\n",
        "    bounds=(0, None))\n",
        "p.xaxis.axis_label = 'time / hr'\n",
        "p.yaxis.axis_label = 'yield / Gbases'\n",
        "# show the plot\n",
        "bkio.output_notebook(hide_banner=True)\n",
        "bkio.show(p)"
      ],
      "execution_count": 0,
      "outputs": []
    },
    {
      "cell_type": "markdown",
      "metadata": {
        "id": "nZhn7Cha1Nmm",
        "colab_type": "text"
      },
      "source": [
        "### Sequencing speed\n",
        "\n",
        "As well as changed in throughput over time another diagnostic metric to evaluate is the sequencing speed: the number of bases processed per second by the enzymes controlling the movement of DNA through the nanopore channels."
      ]
    },
    {
      "cell_type": "code",
      "metadata": {
        "id": "SgJVeO1wlr-b",
        "colab_type": "code",
        "cellView": "form",
        "colab": {}
      },
      "source": [
        "#@markdown ***Sequencing speed plot code*** (*click to show*)\n",
        "# Create a new data frame with time (in hours) and sequencing speed\n",
        "# for each read\n",
        "df = pd.DataFrame(dict(\n",
        "    hour=(seq_summary.start_time / 3600).astype(int),\n",
        "    speed=seq_summary.sequence_length_template / seq_summary.duration\n",
        "))\n",
        "hours = df.hour.unique()\n",
        "\n",
        "# find the quartiles and IQR for each category\n",
        "groups = df.groupby('hour')\n",
        "q1 = groups.quantile(q=0.25)\n",
        "q2 = groups.quantile(q=0.5)\n",
        "q3 = groups.quantile(q=0.75)\n",
        "iqr = q3 - q1\n",
        "upper = q3 + 1.5*iqr\n",
        "lower = q1 - 1.5*iqr\n",
        "\n",
        "# create a plot\n",
        "p = figure(\n",
        "    title='Sequencing speed', output_backend=\"webgl\",\n",
        "    height=300, width=600)\n",
        "\n",
        "# stems\n",
        "p.segment(hours, upper.speed, hours, q3.speed, line_color=\"black\")\n",
        "p.segment(hours, lower.speed, hours, q1.speed, line_color=\"black\")\n",
        "\n",
        "# boxes\n",
        "for low, high in ((q2.speed, q3.speed), (q1.speed, q2.speed)):\n",
        "    p.vbar(\n",
        "        hours, 0.8, low, high,\n",
        "        fill_color=\"blue\", alpha=0.7,\n",
        "        line_color=\"black\")\n",
        "\n",
        "# set up the axes\n",
        "p.x_range = Range1d(\n",
        "    start=0, end=1.1*max(hours),\n",
        "    bounds=(0, None))\n",
        "p.y_range = Range1d(\n",
        "    start=0, end=1.1*max(upper.speed),\n",
        "    bounds=(0, None))\n",
        "p.xaxis.axis_label = 'time / hr'\n",
        "p.yaxis.axis_label = 'speed / (bases / s)'\n",
        "# show the plot\n",
        "bkio.output_notebook(hide_banner=True)\n",
        "bkio.show(p)"
      ],
      "execution_count": 0,
      "outputs": []
    },
    {
      "cell_type": "markdown",
      "metadata": {
        "id": "S1CPakbENGQ-",
        "colab_type": "text"
      },
      "source": [
        "### Active Channels\n",
        "\n",
        "The graphs above all depict the changing rate of sequencing from the perspective of the volume of data produced. A contribution to the falling sequencing rate is the number of functional channels falls throughout the experiment.\n",
        "\n",
        "A channel is defined as being active if one or more sequence reads are observed per time window. It is expected that over the course of the run pores will block and the number of channels producing data will decrease. Changing the pore used by the channel and strategies to unblock pores mean that the number of functional channels may increase or decrease at a given timepoint but generally the number of channels producing data will decrease over time.\n"
      ]
    },
    {
      "cell_type": "code",
      "metadata": {
        "id": "Qb81iVqCNQHL",
        "colab_type": "code",
        "cellView": "form",
        "colab": {}
      },
      "source": [
        "#@markdown ***Active channels plot code*** (*click to show*)\n",
        "\n",
        "#@markdown Numbers of minutes by which to discretize time:\n",
        "discretize =   5#@param {type:\"integer\"}\n",
        "\n",
        "# calculate a start time for each read rounded to discretize minutes\n",
        "seq_summary['time'] = (seq_summary['start_time'] / 60 / discretize).astype(int)\n",
        "# group the data by quarter hour\n",
        "groups = seq_summary.groupby('time', as_index=False)\n",
        "# count the unique channels in each 5 minutes\n",
        "chan_counts = groups['channel'].apply(lambda x: len(x.unique()))\n",
        "hours = chan_counts.index / (60 / discretize)\n",
        "\n",
        "# create a plot\n",
        "p = figure(\n",
        "    title='Functional channels ({}min period)'.format(discretize),\n",
        "    output_backend=\"webgl\",\n",
        "    height=300, width=600)\n",
        "\n",
        "p.line(\n",
        "    x=hours,\n",
        "    y=chan_counts,\n",
        "    line_width=1.5)\n",
        "\n",
        "# set up the axes\n",
        "p.x_range = Range1d(\n",
        "    start=0, end=1.1*max(hours),\n",
        "    bounds=(0, None))\n",
        "p.y_range = Range1d(\n",
        "    start=0, end=1.1*max(chan_counts),\n",
        "    bounds=(0, None))\n",
        "p.xaxis.axis_label = 'time / hr'\n",
        "p.yaxis.axis_label = 'active channels'\n",
        "# show the plot\n",
        "bkio.output_notebook(hide_banner=True)\n",
        "bkio.show(p)\n"
      ],
      "execution_count": 0,
      "outputs": []
    },
    {
      "cell_type": "markdown",
      "metadata": {
        "id": "lkwWoS7FP6LB",
        "colab_type": "text"
      },
      "source": [
        "## Sequencing channel activity plot\n",
        "\n",
        "The nanopores through which DNA is passed, and signal collected, are arrayed as a 2-dimensional matrix. A heatmap can be plotted showing channel productivity against spatial position on the matrix. Such a plot enables the identification of spatial artifacts that could result from membrane damage through e.g. the introduction of an air-bubble. This heatmap representation of spatial activity shows only gross spatial aberations. Since each channel can address four differemnt pores (Mux) the activity plot below shows the number of sequences produced per channel, not per pore.\n",
        "\n",
        "**Counting reads and channel map**\n",
        "\n",
        "We will break apart displaying the channel activity into two steps since the code is quite long. First we count form our dataset; for this we need to calculate the positions of channels in the flowcell:\n"
      ]
    },
    {
      "cell_type": "code",
      "metadata": {
        "id": "qselx0aUb5qh",
        "colab_type": "code",
        "cellView": "form",
        "colab": {}
      },
      "source": [
        "#@markdown ***Code for calculating position of channels on flowcells***\n",
        "def minion_array():\n",
        "    # The array is composed of blocks of 64 channels, the low\n",
        "    # halve is to the right (high to left), working inwards\n",
        "    # in a 4 x 8 block\n",
        "    def channel_block(i):\n",
        "        m = np.zeros((4, 16), dtype=int)\n",
        "        m[4::-1, :7:-1] = np.arange(i, i+32).reshape(4, 8)\n",
        "        m[4::-1, 0:8] = np.arange(i + 32, i + 64).reshape(4, 8)\n",
        "        return m\n",
        "    # the blocks ascend from high to low, except the\n",
        "    # lowest block is at the top\n",
        "    first_channel = list(range(65, 450, 64)) + [1]\n",
        "    channel_array = np.vstack([channel_block(x) for x in first_channel])\n",
        "    ca = pd.DataFrame(channel_array).reset_index().melt('index')\n",
        "    ca.columns = ['row', 'column', 'channel']\n",
        "    return ca\n",
        "\n",
        "channel_maps = {\n",
        "    'minion':minion_array(),\n",
        "    # TODO: add PromION and Flongle\n",
        "    }\n"
      ],
      "execution_count": 0,
      "outputs": []
    },
    {
      "cell_type": "markdown",
      "metadata": {
        "id": "p7GVhb6yzDCi",
        "colab_type": "text"
      },
      "source": [
        "Using the channel map from the above code cell we can create a table with columns `row`, `column`, and `reads`:"
      ]
    },
    {
      "cell_type": "code",
      "metadata": {
        "id": "MwVN1P7Wybjs",
        "colab_type": "code",
        "colab": {}
      },
      "source": [
        "channel_map = channel_maps['minion']\n",
        "\n",
        "# count pass reads per channel...\n",
        "counts = seq_summary[seq_summary['passes_filtering']] \\\n",
        "    .groupby('channel') \\\n",
        "    .size().to_frame('reads') \\\n",
        "    .reset_index()\n",
        "# ...and merge with the channel map\n",
        "counts = counts.merge(channel_map, on='channel', how='outer').fillna(0)"
      ],
      "execution_count": 0,
      "outputs": []
    },
    {
      "cell_type": "markdown",
      "metadata": {
        "id": "-hdY1AfEDloO",
        "colab_type": "text"
      },
      "source": [
        "Now that we have out counts, we can plot a heat map:"
      ]
    },
    {
      "cell_type": "code",
      "metadata": {
        "id": "YjVRR8nUb_jU",
        "colab_type": "code",
        "cellView": "form",
        "colab": {}
      },
      "source": [
        "#@markdown ***Activity heat-map plot code*** (*click to show*)\n",
        "from bokeh.models import LinearColorMapper, ColorBar\n",
        "from bokeh.palettes import Blues9\n",
        "\n",
        "# create a figure\n",
        "p = figure(\n",
        "    title=\"Channel Activity\",\n",
        "    plot_height=300, plot_width=600)\n",
        "\n",
        "# define a colour map\n",
        "colors = Blues9[::-1]\n",
        "mapper = LinearColorMapper(\n",
        "    palette=colors,\n",
        "    low=min(counts['reads']),\n",
        "    high=max(counts['reads']))\n",
        "\n",
        "# plot heatmap rectangles\n",
        "p.rect(\n",
        "    source=counts, x=\"column\", y=\"row\",\n",
        "    width=1, height=1,\n",
        "    fill_color={'field':'reads', 'transform':mapper},\n",
        "    line_color=None)\n",
        "\n",
        "# add colour scale\n",
        "color_bar = ColorBar(\n",
        "    title=\"# reads\", color_mapper=mapper, label_standoff=10,\n",
        "    location=(0, 0))\n",
        "p.add_layout(color_bar, 'right')\n",
        "\n",
        "# hide some plotting artefacts\n",
        "p.x_range.range_padding = 0\n",
        "p.y_range.range_padding = 0\n",
        "p.xaxis.visible = False\n",
        "p.yaxis.visible = False\n",
        "# set up the axes\n",
        "xmin, xmax = -0.5, max(counts.column)+ 0.5\n",
        "p.x_range = Range1d(\n",
        "    start=xmin, end=xmax,\n",
        "    bounds=(xmin, xmax))\n",
        "ymin, ymax = -0.5, max(counts.row)+ 0.5\n",
        "p.y_range = Range1d(\n",
        "    start=ymin, end=ymax,\n",
        "    bounds=(ymin, ymax))\n",
        "# show plot\n",
        "bkio.output_notebook(hide_banner=True)\n",
        "bkio.show(p)"
      ],
      "execution_count": 0,
      "outputs": []
    },
    {
      "cell_type": "markdown",
      "metadata": {
        "colab_type": "text",
        "id": "iF7WILGOwbI3"
      },
      "source": [
        "## Summary\n",
        "\n",
        "This tutorial has stepped through basic QC analysis of a Nanopore sequencing run. The sequencing throughout and read lengths have been explored, as has the progression of the experiment through the course of time.\n",
        "\n",
        "The analysis presented can be run on any `sequencing_summary.txt` from **MinKNOW** or **Guppy**. The code will run within **Google Colab** when connected to a local **Epi2Me Labs** notebook server.\n",
        "\n",
        "[Back to Epi2Me Labs](https://colab.research.google.com/github/epi2me-labs/resources/blob/master/welcome.ipynb)\n"
      ]
    }
  ]
}