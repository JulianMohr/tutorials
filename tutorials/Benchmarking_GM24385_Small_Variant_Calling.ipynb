{
 "cells": [
  {
   "cell_type": "markdown",
   "metadata": {},
   "source": [
    "<h1>Benchmarking: GM24385 Small Variant Caling</h1>\n",
    "\n",
    "In this tutorial we will demonstrate how Oxford Nanopore Technologies performs benchmarking of small variant calling. The methods presented\n",
    "are derived from best practices outlined by the Genome in a Bottle project. The tutorial is provided as an accompaniment to the\n",
    "[Small variant calling with GM24385](https://nanoporetech.github.io/ont-open-datasets/gm24385_snp/) blogpost of the\n",
    "Oxford Nanopore Technologies Open Data website.\n",
    "\n",
    "The notebook will demonstrate the extent to which small variant calling can be achieved using recommended variant calling tools from Oxford Nanopore Technologies and third parties. We will examine the outputs of these workflows and show how to compare results to independently provided truth sets. The present notebook does not itself perform small variant calling.\n",
    "\n",
    "Computational requirements for this tutorial include:\n",
    "\n",
    "* Computer running the **EPI2ME Labs** notebook Server\n",
    "* At least 16Gb RAM"
   ]
  },
  {
   "cell_type": "markdown",
   "metadata": {},
   "source": [
    "## Small Variant calling with Medaka and DeepVariant\n",
    "\n",
    "We will begin with a review of the [Small variant calling with GM24385](https://nanoporetech.github.io/ont-open-datasets/gm24385_snp/) blogpost which walks through the process to obtain accurate small variant calls from a 60-fold coverage dataset of the GIAB GM24385 sample. This sample was sequenced using a PromethION device with a modest 40kb library preparation."
   ]
  },
  {
   "cell_type": "markdown",
   "metadata": {},
   "source": [
    "### Recapitulation of variant calling\n",
    "\n",
    "> ***The code snippets in this section are illustrate the variant calling process, they are not intended to be executed from the notebook environment.***\n",
    "\n",
    "The first step of the blog post's demonstration is the download of the long-read data and a reference file. We repeat the commands used below for reference."
   ]
  },
  {
   "cell_type": "markdown",
   "metadata": {},
   "source": [
    "```\n",
    "# Download alignments of reads to chr20\n",
    "for ext in .bam .bam.bai; do\n",
    "    aws s3 --no-sign-request cp s3://ont-open-data/gm24385_2020.09/analysis/r9.4.1/20200914_1354_6B_PAF27096_e7c9eae6/guppy_v4.0.11_r9.4.1_hac_prom/align_unfiltered/chr20/calls2ref${ext} PAF27096.chr20${ext}\n",
    "    aws s3 --no-sign-request cp s3://ont-open-data/gm24385_2020.09/analysis/r9.4.1/20200914_1357_1-E11-H11_PAF27462_d3c9678e/guppy_v4.0.11_r9.4.1_hac_prom/align_unfiltered/chr20/calls2ref${ext} PAF27462.chr20${ext}\n",
    "done\n",
    "\n",
    "# merge alignment files\n",
    "samtools merge chr20.bam PAF27096.chr20.bam PAF27462.chr20.bam\n",
    "samtools index chr20.bam\n",
    "\n",
    "# keep only primary alignments of reads\n",
    "samtools view chr20.bam -F 2308 -@ 64 -b > chr20.primary.bam\n",
    "samtools index chr20.primary.bam\n",
    "\n",
    "# download reference sequence\n",
    "for ext in .fasta .fasta.fai; do\n",
    "    aws s3 --no-sign-request cp s3://ont-open-data/gm24385_2020.09/config/ref/GCA_000001405.15_GRCh38_no_alt_analysis_set${ext} .\n",
    "done\n",
    "```"
   ]
  },
  {
   "cell_type": "markdown",
   "metadata": {},
   "source": [
    "The commands above can be copy and pasted, and run into any Linux environment.\n",
    "\n",
    "The first step of variant calling from the provided alignment files is to run [medaka](https://github.com/nanoporetech/medaka):"
   ]
  },
  {
   "cell_type": "markdown",
   "metadata": {},
   "source": [
    "```\n",
    "# running medaka to generate candidates for DeepVariant\n",
    "medaka_variant \\\n",
    "    -i chr20.primary.bam \\\n",
    "    -f GCA_000001405.15_GRCh38_no_alt_analysis_set.fasta \\\n",
    "    -r chr20 -t 8 -P 0 -l\n",
    "```"
   ]
  },
  {
   "cell_type": "markdown",
   "metadata": {},
   "source": [
    "Medaka can be used as a variant caller in isolation, but for optimal results it can be used in tandem with [DeepVariant](https://github.com/google/deepvariant). In the blog post DeepVariant is used via a wrapping command-line script and a Docker container:\n"
   ]
  },
  {
   "cell_type": "markdown",
   "metadata": {},
   "source": [
    "```\n",
    "# download helper command-line program\n",
    "wget https://gist.githubusercontent.com/cjw85/23d2b0675ec5a5c7fd4074456524c971/raw/c716c85639f047b9a9cff2079be2868bccb61659/run_deepvariant.sh\n",
    "chmod +x run_deepvariant.sh\n",
    "\n",
    "# run DeepVariant\n",
    "./run_deepvariant.sh \\\n",
    "    -b medaka_variant/round_0_hap_mixed_phased.bam \\\n",
    "    -v medaka_variant/round_1.vcf \\\n",
    "    -r GCA_000001405.15_GRCh38_no_alt_analysis_set.fasta \\\n",
    "    -o deepvariant -t 64\n",
    "```"
   ]
  },
  {
   "cell_type": "markdown",
   "metadata": {},
   "source": [
    "The useful output for our purposes is a single [Variant Call Format](https://en.wikipedia.org/wiki/Variant_Call_Format) file containing the called variants."
   ]
  },
  {
   "cell_type": "markdown",
   "metadata": {},
   "source": [
    "## Benchmarking small variant calls\n",
    "\n",
    "> ***The remainder of the notebook contains executable code snippets to be run within the notebook***\n",
    "\n",
    "To get started benchmarking a small variant callset, we will create a working directory:\n"
   ]
  },
  {
   "cell_type": "code",
   "execution_count": 1,
   "metadata": {},
   "outputs": [
    {
     "name": "stdout",
     "output_type": "stream",
     "text": [
      "/epi2melabs/snp_benchmarking\n"
     ]
    }
   ],
   "source": [
    "from epi2melabs import ping\n",
    "pinger = ping.Pingu()\n",
    "pinger.send_notebook_ping('start', 'snp_benchmarking')\n",
    "\n",
    "# create a work directory and move into it\n",
    "tutorial_name = \"snp_benchmarking\"\n",
    "working_dir = '/epi2melabs/{}/'.format(tutorial_name)\n",
    "!mkdir -p \"$working_dir\"\n",
    "%cd \"$working_dir\""
   ]
  },
  {
   "cell_type": "markdown",
   "metadata": {},
   "source": [
    "To demonstrate the benchmarking process for small variant calls we will use a VCF created through the process outlined above. This can be downloaded by running the following:"
   ]
  },
  {
   "cell_type": "code",
   "execution_count": null,
   "metadata": {},
   "outputs": [],
   "source": [
    "prefix=\"https://ont-open-data.s3.amazonaws.com/gm24385_2020.09/extra_analyses/r9.4.1_smallvariant\"\n",
    "\n",
    "# fetch DeepVariant variants \n",
    "for ext in (\".vcf.gz\", \".vcf.gz.tbi\"):\n",
    "    !wget $prefix/deep_variant/deepvariant$ext\n",
    "# and the medaka results given to DeepVariant\n",
    "!wget -O medaka_candidates.vcf $prefix/medaka_variant/round_1.vcf\n",
    "!bgzip -f medaka_candidates.vcf\n",
    "!tabix -f medaka_candidates.vcf.gz\n",
    "# fetch read alignments\n",
    "for ext in (\".bam\", \".bam.bai\"):\n",
    "    !wget -O round_0_hap_mixed_phased$ext $prefix/medaka_variant/round_0_hap_mixed_phased_tutorial_region$ext\n",
    "# finally fetch the reference sequence\n",
    "for ext in (\".fasta\", \".fasta.fai\"):\n",
    "    !wget -O GCA_000001405.15_GRCh38_no_alt_analysis_set$ext $prefix/GCA_000001405.15_GRCh38_no_alt_analysis_set$ext"
   ]
  },
  {
   "cell_type": "markdown",
   "metadata": {},
   "source": [
    "The above will download also a BAM-formatted alignment file which contains the sequencing reads, and the human reference to which the reads were aligned."
   ]
  },
  {
   "cell_type": "markdown",
   "metadata": {},
   "source": [
    "### Truth sets\n",
    "\n",
    "To assess the veracity of the variant calling workflow we require a \"truth set\". For the GM24385 sample this is provided by the Genome In A Bottle project. The truth set variant calls have been derived and validated using multiple technologies. Together will variant calls are provided \"high confidence\" regions; these are regions where where variant calling and the implied DNA sequence of the genome is particularly well characterised. Outside of these regions we have less certainty over variant, and non-variant, loci. Full details are available in [Best practices for benchmarking germline small-variant calls in human genomes](https://www.nature.com/articles/s41587-019-0054-x).\n",
    "\n",
    "The GIAB truth set, both variant calls and high-confidence regions can be downloaded using the following commands:"
   ]
  },
  {
   "cell_type": "code",
   "execution_count": null,
   "metadata": {},
   "outputs": [],
   "source": [
    "# downloading truth variant data and confidence regions for GM24385\n",
    "site = \"https://ftp-trace.ncbi.nlm.nih.gov/ReferenceSamples/giab/release/AshkenazimTrio/HG002_NA24385_son/NISTv4.1/GRCh38/\"\n",
    "basename = \"HG002_GRCh38_1_22_v4.1_draft_benchmark\"\n",
    "for ext in (\".bed\", \".bed.gz\", \".bed.gz.tbi\", \".vcf.gz\", \".vcf.gz.tbi\"):\n",
    "    !wget -O $basename$ext $site/$basename$ext"
   ]
  },
  {
   "cell_type": "markdown",
   "metadata": {},
   "source": [
    "The truth variants are provided as a gzip-compressed VCF, whereas the high confidence regions are a gzip-compressed [BED](https://en.wikipedia.org/wiki/BED_(file_format)) file."
   ]
  },
  {
   "cell_type": "markdown",
   "metadata": {},
   "source": [
    "### Analysis with hap.py\n",
    "\n",
    "The recommended method for analysing small variant calls with respect to a truthset is through the use of [hap.py](https://github.com/Illumina/hap.py). Comparison of a set of variant calls to a truthset would seem at first to be a rather\n",
    "trivial affair: one must simply determined is a called variant is present or absent in the truth set, and vice-versa.\n",
    "However as discussed in the GIAB best practices paper, the VCF specification allows for a single variant to be\n",
    "expressed in a multitude of different ways. `hap.py` provides a way to overcome these issue and allows the robust comparison\n",
    "of two VCF files. The `hap.py` [documentation](https://github.com/Illumina/hap.py#motivation) provides an overview of these considerations."
   ]
  },
  {
   "cell_type": "markdown",
   "metadata": {},
   "source": [
    "We will install `hap.py` into the EPI2MELabs notebook environment using the conda package manager. We use conda via the [mamba](https://github.com/mamba-org/mamba) software, which provides a fast reimplementation of the original conda suite of program."
   ]
  },
  {
   "cell_type": "code",
   "execution_count": null,
   "metadata": {},
   "outputs": [],
   "source": [
    "!. /opt/conda/etc/profile.d/conda.sh \\\n",
    "    && mamba create -q -p /opt/conda/envs/hap.py -y hap.py openblas rtg-tools"
   ]
  },
  {
   "cell_type": "markdown",
   "metadata": {},
   "source": [
    "Having installed `hap.py` with the above command it is ready use with our GM24385 medaka-DeepVariant calls and the GIAB truth sets.\n",
    "To perform part of its comparison work `hap.py` uses a second program `rtg vcfeval`, this second tool requires a conversion of the\n",
    "human reference file downloaded above to an alternative format. `hap.py` can perform the conversion on-the-fly but since we will\n",
    "run the program several times it is useful to perform the conversion once ahead of time.\n",
    "\n",
    "To convert the `.fasta` formatted reference file to `rtg`'s `.sdf` format we run:"
   ]
  },
  {
   "cell_type": "code",
   "execution_count": null,
   "metadata": {},
   "outputs": [],
   "source": [
    "reference = \"GCA_000001405.15_GRCh38_no_alt_analysis_set.fasta\"\n",
    "!rm -rf $reference\".sdf\"\n",
    "!/opt/conda/envs/hap.py/share/rtg-tools-3.11-0/rtg format $reference -o $reference\".sdf\""
   ]
  },
  {
   "cell_type": "markdown",
   "metadata": {},
   "source": [
    "Let's now run `hap.py` in the most basic way possible:"
   ]
  },
  {
   "cell_type": "code",
   "execution_count": null,
   "metadata": {},
   "outputs": [],
   "source": [
    "from multiprocessing import cpu_count\n",
    "threads = cpu_count()\n",
    "\n",
    "!cecho ok \"Running hap.py with $threads threads\"\n",
    "!run hap.py \\\n",
    "    HG002_GRCh38_1_22_v4.1_draft_benchmark.vcf.gz \\\n",
    "    deepvariant.vcf.gz \\\n",
    "    -f HG002_GRCh38_1_22_v4.1_draft_benchmark.bed \\\n",
    "    -r GCA_000001405.15_GRCh38_no_alt_analysis_set.fasta \\\n",
    "    --engine-vcfeval-template GCA_000001405.15_GRCh38_no_alt_analysis_set.fasta.sdf \\\n",
    "    -o happy_out \\\n",
    "    --pass-only -l chr20 --engine=vcfeval \\\n",
    "    --threads=$threads\n",
    "!cecho ok \"hap.py execution finished\""
   ]
  },
  {
   "cell_type": "markdown",
   "metadata": {},
   "source": [
    "At the end of its execution `hap.py` will have printed summary statistics concerning its comparison. These results are also available\n",
    "within a text file which we can read with the `pandas` library:"
   ]
  },
  {
   "cell_type": "code",
   "execution_count": 10,
   "metadata": {},
   "outputs": [
    {
     "data": {
      "text/html": [
       "<div>\n",
       "<style scoped>\n",
       "    .dataframe tbody tr th:only-of-type {\n",
       "        vertical-align: middle;\n",
       "    }\n",
       "\n",
       "    .dataframe tbody tr th {\n",
       "        vertical-align: top;\n",
       "    }\n",
       "\n",
       "    .dataframe thead th {\n",
       "        text-align: right;\n",
       "    }\n",
       "</style>\n",
       "<table border=\"1\" class=\"dataframe\">\n",
       "  <thead>\n",
       "    <tr style=\"text-align: right;\">\n",
       "      <th>Type</th>\n",
       "      <th>INDEL</th>\n",
       "      <th>SNP</th>\n",
       "    </tr>\n",
       "  </thead>\n",
       "  <tbody>\n",
       "    <tr>\n",
       "      <th>Filter</th>\n",
       "      <td>PASS</td>\n",
       "      <td>PASS</td>\n",
       "    </tr>\n",
       "    <tr>\n",
       "      <th>TRUTH.TOTAL</th>\n",
       "      <td>11271</td>\n",
       "      <td>71334</td>\n",
       "    </tr>\n",
       "    <tr>\n",
       "      <th>TRUTH.TP</th>\n",
       "      <td>6580</td>\n",
       "      <td>71104</td>\n",
       "    </tr>\n",
       "    <tr>\n",
       "      <th>TRUTH.FN</th>\n",
       "      <td>4691</td>\n",
       "      <td>230</td>\n",
       "    </tr>\n",
       "    <tr>\n",
       "      <th>QUERY.TOTAL</th>\n",
       "      <td>14114</td>\n",
       "      <td>117365</td>\n",
       "    </tr>\n",
       "    <tr>\n",
       "      <th>QUERY.FP</th>\n",
       "      <td>1429</td>\n",
       "      <td>194</td>\n",
       "    </tr>\n",
       "    <tr>\n",
       "      <th>QUERY.UNK</th>\n",
       "      <td>5945</td>\n",
       "      <td>46044</td>\n",
       "    </tr>\n",
       "    <tr>\n",
       "      <th>FP.gt</th>\n",
       "      <td>355</td>\n",
       "      <td>25</td>\n",
       "    </tr>\n",
       "    <tr>\n",
       "      <th>FP.al</th>\n",
       "      <td>625</td>\n",
       "      <td>117</td>\n",
       "    </tr>\n",
       "    <tr>\n",
       "      <th>METRIC.Recall</th>\n",
       "      <td>0.583799</td>\n",
       "      <td>0.996776</td>\n",
       "    </tr>\n",
       "    <tr>\n",
       "      <th>METRIC.Precision</th>\n",
       "      <td>0.82507</td>\n",
       "      <td>0.99728</td>\n",
       "    </tr>\n",
       "    <tr>\n",
       "      <th>METRIC.Frac_NA</th>\n",
       "      <td>0.421213</td>\n",
       "      <td>0.392315</td>\n",
       "    </tr>\n",
       "    <tr>\n",
       "      <th>METRIC.F1_Score</th>\n",
       "      <td>0.683776</td>\n",
       "      <td>0.997028</td>\n",
       "    </tr>\n",
       "    <tr>\n",
       "      <th>TRUTH.TOTAL.TiTv_ratio</th>\n",
       "      <td>NaN</td>\n",
       "      <td>2.31495</td>\n",
       "    </tr>\n",
       "    <tr>\n",
       "      <th>QUERY.TOTAL.TiTv_ratio</th>\n",
       "      <td>NaN</td>\n",
       "      <td>1.59964</td>\n",
       "    </tr>\n",
       "    <tr>\n",
       "      <th>TRUTH.TOTAL.het_hom_ratio</th>\n",
       "      <td>1.56217</td>\n",
       "      <td>1.71602</td>\n",
       "    </tr>\n",
       "    <tr>\n",
       "      <th>QUERY.TOTAL.het_hom_ratio</th>\n",
       "      <td>1.87278</td>\n",
       "      <td>1.33815</td>\n",
       "    </tr>\n",
       "  </tbody>\n",
       "</table>\n",
       "</div>"
      ],
      "text/plain": [
       "Type                          INDEL       SNP\n",
       "Filter                         PASS      PASS\n",
       "TRUTH.TOTAL                   11271     71334\n",
       "TRUTH.TP                       6580     71104\n",
       "TRUTH.FN                       4691       230\n",
       "QUERY.TOTAL                   14114    117365\n",
       "QUERY.FP                       1429       194\n",
       "QUERY.UNK                      5945     46044\n",
       "FP.gt                           355        25\n",
       "FP.al                           625       117\n",
       "METRIC.Recall              0.583799  0.996776\n",
       "METRIC.Precision            0.82507   0.99728\n",
       "METRIC.Frac_NA             0.421213  0.392315\n",
       "METRIC.F1_Score            0.683776  0.997028\n",
       "TRUTH.TOTAL.TiTv_ratio          NaN   2.31495\n",
       "QUERY.TOTAL.TiTv_ratio          NaN   1.59964\n",
       "TRUTH.TOTAL.het_hom_ratio   1.56217   1.71602\n",
       "QUERY.TOTAL.het_hom_ratio   1.87278   1.33815"
      ]
     },
     "metadata": {},
     "output_type": "display_data"
    }
   ],
   "source": [
    "import pandas as pd\n",
    "\n",
    "def read_happy_summary(fname):\n",
    "    df = pd.read_csv(fname)\n",
    "    df = df[df['Filter'] == 'PASS'].set_index('Type')\n",
    "    return df\n",
    "\n",
    "df = read_happy_summary(\"happy_out.summary.csv\")\n",
    "display(df.transpose())"
   ]
  },
  {
   "cell_type": "markdown",
   "metadata": {},
   "source": [
    "The table above contains a variety of interesting counts and statistics. A full discussion is again available in the `hap.py` [documentation](https://github.com/Illumina/hap.py/blob/master/doc/happy.md), here we will focus on just a few."
   ]
  },
  {
   "attachments": {
    "bcc2973e-6a6f-4c4f-bdc7-bd45dd10daff.png": {
     "image/png": "[encoded data removed]"
    }
   },
   "cell_type": "markdown",
   "metadata": {},
   "source": [
    "#### Interpretation of the results\n",
    "\n",
    "With respect to a truth set the calling of variants in a genomic sample can be seen as a binary classification task: we have two classes of data, variants and non-variants. A standard method for summarizing this classification task is the measurement of the two quantities *precision* and *recall*, as summarized by the following [diagram](https://en.wikipedia.org/wiki/Precision_and_recall):\n",
    "\n",
    "![image.png](attachment:bcc2973e-6a6f-4c4f-bdc7-bd45dd10daff.png)\n",
    "\n",
    "For our purposes the \"relevant elements\" are the variant loci and identities, while the remaining elements are locations in the genomic sample that contain the same sequence as the reference sequence. It is useful to note that neither *recall* nor *precision* take into account true negatives. This is the situation where a variant caller has correctly identified that the sample under consideration contains the same sequence as the reference. The metrics *recall* and *precision* thereby are sensitive only to loci identified as variants by the caller, and loci which are variant in the truthset. For the variant calling classification task we have around only 0.12% of locations in the genome containing a variant (equating to around Q30 on the [Phred](https://en.wikipedia.org/wiki/Phred_quality_score) scale). The numerical values of the two metrics are therefore lower than metrics which consider the total accuracy of sequencing: the correct identification of non-variants is not rewarded by the metrics.\n",
    "\n",
    "We can make this comparison to sequence accuracy by approximately calculating the error rate of the sequence implied by the called variants:"
   ]
  },
  {
   "cell_type": "code",
   "execution_count": 11,
   "metadata": {},
   "outputs": [
    {
     "name": "stdout",
     "output_type": "stream",
     "text": [
      "Implied sequence accuray (PHRED SCALE): 55.89\n"
     ]
    }
   ],
   "source": [
    "import pandas as pd\n",
    "import numpy as np\n",
    "\n",
    "bed = pd.read_csv(\n",
    "    'HG002_GRCh38_1_22_v4.1_draft_benchmark.bed',\n",
    "    sep='\\t', names=['chrom', 'start', 'stop'])\n",
    "chr20 = bed[bed['chrom'] == 'chr20']\n",
    "truth_len = sum(bed['stop'] - bed['start'])\n",
    "errors = sum(df['TRUTH.FN'] + df['QUERY.FP'])\n",
    "print(\n",
    "    \"Implied sequence accuray (PHRED SCALE): {:.2f}\".format(\n",
    "    -10 * np.log10(errors / truth_len)))"
   ]
  },
  {
   "cell_type": "markdown",
   "metadata": {},
   "source": [
    "So we see that the even modestly high recall and precision numbers imply rather high sequencing quality. With these considerations out of the way, and focussing on *precision* and *recall* from the above table:"
   ]
  },
  {
   "cell_type": "code",
   "execution_count": 12,
   "metadata": {},
   "outputs": [
    {
     "data": {
      "text/html": [
       "<div>\n",
       "<style scoped>\n",
       "    .dataframe tbody tr th:only-of-type {\n",
       "        vertical-align: middle;\n",
       "    }\n",
       "\n",
       "    .dataframe tbody tr th {\n",
       "        vertical-align: top;\n",
       "    }\n",
       "\n",
       "    .dataframe thead th {\n",
       "        text-align: right;\n",
       "    }\n",
       "</style>\n",
       "<table border=\"1\" class=\"dataframe\">\n",
       "  <thead>\n",
       "    <tr style=\"text-align: right;\">\n",
       "      <th>Type</th>\n",
       "      <th>INDEL</th>\n",
       "      <th>SNP</th>\n",
       "    </tr>\n",
       "  </thead>\n",
       "  <tbody>\n",
       "    <tr>\n",
       "      <th>METRIC.Recall</th>\n",
       "      <td>0.583799</td>\n",
       "      <td>0.996776</td>\n",
       "    </tr>\n",
       "    <tr>\n",
       "      <th>METRIC.Precision</th>\n",
       "      <td>0.825070</td>\n",
       "      <td>0.997280</td>\n",
       "    </tr>\n",
       "  </tbody>\n",
       "</table>\n",
       "</div>"
      ],
      "text/plain": [
       "Type                 INDEL       SNP\n",
       "METRIC.Recall     0.583799  0.996776\n",
       "METRIC.Precision  0.825070  0.997280"
      ]
     },
     "metadata": {},
     "output_type": "display_data"
    }
   ],
   "source": [
    "display(df[['METRIC.Recall', 'METRIC.Precision']].transpose())"
   ]
  },
  {
   "cell_type": "markdown",
   "metadata": {},
   "source": [
    "We see that both precision and recall are high so the calling of single-nucleotide polymorphisms (substitutions of single bases) indicating\n",
    "that the medaka-DeepVariant workflow can correctly identify the vast majority of variants in the truth set whilst maintaining a low false positive rate. It is important to maintain high precision (few false positive) as well as high recall (identification of variants) as doing otherwise can\n",
    "confound post-calling analysis.\n",
    "\n",
    "To illustrate this further, let's consider the case where a variant caller incorrectly identifies every genomic location as being a variant. The caller would have recovered every true variant from the truth set such that recall would be maximised, however precision would be extremely low due to the vast excess (>99%) of calls that are false positives. For this reason we introduce a third metric, the [F1-score](https://en.wikipedia.org/wiki/F-score), as the harmonic mean of precision and recall:"
   ]
  },
  {
   "cell_type": "code",
   "execution_count": 13,
   "metadata": {},
   "outputs": [
    {
     "data": {
      "text/html": [
       "<div>\n",
       "<style scoped>\n",
       "    .dataframe tbody tr th:only-of-type {\n",
       "        vertical-align: middle;\n",
       "    }\n",
       "\n",
       "    .dataframe tbody tr th {\n",
       "        vertical-align: top;\n",
       "    }\n",
       "\n",
       "    .dataframe thead th {\n",
       "        text-align: right;\n",
       "    }\n",
       "</style>\n",
       "<table border=\"1\" class=\"dataframe\">\n",
       "  <thead>\n",
       "    <tr style=\"text-align: right;\">\n",
       "      <th>Type</th>\n",
       "      <th>INDEL</th>\n",
       "      <th>SNP</th>\n",
       "    </tr>\n",
       "  </thead>\n",
       "  <tbody>\n",
       "    <tr>\n",
       "      <th>METRIC.Recall</th>\n",
       "      <td>0.583799</td>\n",
       "      <td>0.996776</td>\n",
       "    </tr>\n",
       "    <tr>\n",
       "      <th>METRIC.Precision</th>\n",
       "      <td>0.825070</td>\n",
       "      <td>0.997280</td>\n",
       "    </tr>\n",
       "    <tr>\n",
       "      <th>METRIC.F1_Score</th>\n",
       "      <td>0.683776</td>\n",
       "      <td>0.997028</td>\n",
       "    </tr>\n",
       "  </tbody>\n",
       "</table>\n",
       "</div>"
      ],
      "text/plain": [
       "Type                 INDEL       SNP\n",
       "METRIC.Recall     0.583799  0.996776\n",
       "METRIC.Precision  0.825070  0.997280\n",
       "METRIC.F1_Score   0.683776  0.997028"
      ]
     },
     "metadata": {},
     "output_type": "display_data"
    }
   ],
   "source": [
    "display(df[['METRIC.Recall', 'METRIC.Precision', 'METRIC.F1_Score']].transpose())"
   ]
  },
  {
   "cell_type": "markdown",
   "metadata": {},
   "source": [
    "We have now a motivation as to why the recall of INDEL (insertion and deletion) variants is somewhat low; this recall is the maximum that can be tolerated whilst maintaining relatively high precision. The accurate calling of INDEL variants is an ongoing area of research for nanopore sequencing."
   ]
  },
  {
   "cell_type": "markdown",
   "metadata": {},
   "source": [
    "### Results by genomic context\n",
    "\n",
    "In the preceding section we have examined results for the areas of chromosome 20 as defined by the GIAB high-confidence regions. The GIAB [resources](https://ftp-trace.ncbi.nlm.nih.gov/ReferenceSamples/giab/release/genome-stratifications/v2.0/GRCh38/) define also a range of so-called \"*stratifications*\": genomic regions with common or relevant properties.\n",
    "\n",
    "Let us first create a `.bed` file which defines sub-regions of the high-confidence regions which are not repetitive elements. To accomplish this we can download a `.bed` file defining the repetitive regions and use `bedtools` to perform the intersection:"
   ]
  },
  {
   "cell_type": "code",
   "execution_count": null,
   "metadata": {},
   "outputs": [],
   "source": [
    "import os\n",
    "bedstore = \"https://ftp-trace.ncbi.nlm.nih.gov/ReferenceSamples/giab/release/genome-stratifications/v2.0/GRCh38\"\n",
    "\n",
    "def make_bed(infile, outfile):\n",
    "    basename = os.path.basename(infile)\n",
    "    unzipped = os.path.splitext(basename)[0]\n",
    "    !cecho ok \"Downloading data\"\n",
    "    !wget $bedstore/$infile\n",
    "    !gunzip -f $basename\n",
    "    !cecho ok \"Running bedtools intersect\"\n",
    "    !bedtools intersect \\\n",
    "        -a HG002_GRCh38_1_22_v4.1_draft_benchmark.bed \\\n",
    "        -b $unzipped \\\n",
    "        > $outfile\n",
    "    !cecho ok \"Bedtools finished\"\n",
    "    \n",
    "make_bed(\n",
    "    \"LowComplexity/GRCh38_notinAllTandemRepeatsandHomopolymers_slop5.bed.gz\",\n",
    "    \"HG002_GRCh38_1_22_v4.1_draft_benchmark.norepeat.bed\")"
   ]
  },
  {
   "cell_type": "markdown",
   "metadata": {},
   "source": [
    "A second subset we can define are the regions which are determined to be segmental duplications. And finally a third set of sub-regions can\n",
    "be defined as those considered to be regions of \"*low mappability*\". Again we can download a `.bed` file for each subset and intersect the regions:"
   ]
  },
  {
   "cell_type": "code",
   "execution_count": null,
   "metadata": {},
   "outputs": [],
   "source": [
    "make_bed(\n",
    "    \"SegmentalDuplications/GRCh38_segdups.bed.gz\",\n",
    "    \"HG002_GRCh38_1_22_v4.1_draft_benchmark.segdups.bed\")\n",
    "make_bed(\n",
    "    \"mappability/GRCh38_lowmappabilityall.bed.gz\",\n",
    "    \"HG002_GRCh38_1_22_v4.1_draft_benchmark.lowmap.bed\")"
   ]
  },
  {
   "cell_type": "markdown",
   "metadata": {},
   "source": [
    "We can now run `hap.py` providing these stratifications, most of the command is the same as before we add simply an additional argument specifying the name of the stratifications and the corresponding `.bed` file:"
   ]
  },
  {
   "cell_type": "code",
   "execution_count": null,
   "metadata": {},
   "outputs": [],
   "source": [
    "from multiprocessing import cpu_count\n",
    "threads = cpu_count()\n",
    "\n",
    "!cecho ok \"Running hap.py with $threads threads\"\n",
    "!run hap.py \\\n",
    "    HG002_GRCh38_1_22_v4.1_draft_benchmark.vcf.gz \\\n",
    "    deepvariant.vcf.gz \\\n",
    "    -f HG002_GRCh38_1_22_v4.1_draft_benchmark.bed \\\n",
    "    -r GCA_000001405.15_GRCh38_no_alt_analysis_set.fasta \\\n",
    "    --engine-vcfeval-template GCA_000001405.15_GRCh38_no_alt_analysis_set.fasta.sdf \\\n",
    "    -o happy_out.strats \\\n",
    "    --pass-only -l chr20 --engine=vcfeval \\\n",
    "    --threads=$threads \\\n",
    "    --stratification-region low_complex:HG002_GRCh38_1_22_v4.1_draft_benchmark.norepeat.bed \\\n",
    "    --stratification-region seq_dups:HG002_GRCh38_1_22_v4.1_draft_benchmark.segdups.bed \\\n",
    "    --stratification-region low_map:HG002_GRCh38_1_22_v4.1_draft_benchmark.lowmap.bed\n",
    "!cecho ok \"hap.py execution finished\""
   ]
  },
  {
   "cell_type": "markdown",
   "metadata": {},
   "source": [
    "To obtain the metrics for the new stratification regions we must read `hap.py`'s extended results file. This contains additional information\n",
    "over the summary file, some which we will not examine here. To display a simplified table from the extended results file, run the following:"
   ]
  },
  {
   "cell_type": "code",
   "execution_count": 65,
   "metadata": {},
   "outputs": [
    {
     "data": {
      "text/html": [
       "<div>\n",
       "<style scoped>\n",
       "    .dataframe tbody tr th:only-of-type {\n",
       "        vertical-align: middle;\n",
       "    }\n",
       "\n",
       "    .dataframe tbody tr th {\n",
       "        vertical-align: top;\n",
       "    }\n",
       "\n",
       "    .dataframe thead th {\n",
       "        text-align: right;\n",
       "    }\n",
       "</style>\n",
       "<table border=\"1\" class=\"dataframe\">\n",
       "  <thead>\n",
       "    <tr style=\"text-align: right;\">\n",
       "      <th></th>\n",
       "      <th>Type</th>\n",
       "      <th>Stratification</th>\n",
       "      <th>METRIC.Recall</th>\n",
       "      <th>METRIC.Precision</th>\n",
       "      <th>METRIC.F1_Score</th>\n",
       "    </tr>\n",
       "  </thead>\n",
       "  <tbody>\n",
       "    <tr>\n",
       "      <th>0</th>\n",
       "      <td>INDEL</td>\n",
       "      <td>all</td>\n",
       "      <td>0.583799</td>\n",
       "      <td>0.825070</td>\n",
       "      <td>0.683776</td>\n",
       "    </tr>\n",
       "    <tr>\n",
       "      <th>1</th>\n",
       "      <td>INDEL</td>\n",
       "      <td>low_map</td>\n",
       "      <td>0.810127</td>\n",
       "      <td>0.941606</td>\n",
       "      <td>0.870932</td>\n",
       "    </tr>\n",
       "    <tr>\n",
       "      <th>2</th>\n",
       "      <td>INDEL</td>\n",
       "      <td>no_repeat</td>\n",
       "      <td>0.935988</td>\n",
       "      <td>0.978219</td>\n",
       "      <td>0.956638</td>\n",
       "    </tr>\n",
       "    <tr>\n",
       "      <th>3</th>\n",
       "      <td>INDEL</td>\n",
       "      <td>seq_dups</td>\n",
       "      <td>0.814286</td>\n",
       "      <td>0.888000</td>\n",
       "      <td>0.849547</td>\n",
       "    </tr>\n",
       "    <tr>\n",
       "      <th>4</th>\n",
       "      <td>SNP</td>\n",
       "      <td>all</td>\n",
       "      <td>0.996776</td>\n",
       "      <td>0.997280</td>\n",
       "      <td>0.997028</td>\n",
       "    </tr>\n",
       "    <tr>\n",
       "      <th>5</th>\n",
       "      <td>SNP</td>\n",
       "      <td>low_map</td>\n",
       "      <td>0.992655</td>\n",
       "      <td>0.993385</td>\n",
       "      <td>0.993020</td>\n",
       "    </tr>\n",
       "    <tr>\n",
       "      <th>6</th>\n",
       "      <td>SNP</td>\n",
       "      <td>no_repeat</td>\n",
       "      <td>0.999036</td>\n",
       "      <td>0.999184</td>\n",
       "      <td>0.999110</td>\n",
       "    </tr>\n",
       "    <tr>\n",
       "      <th>7</th>\n",
       "      <td>SNP</td>\n",
       "      <td>seq_dups</td>\n",
       "      <td>0.979960</td>\n",
       "      <td>0.978088</td>\n",
       "      <td>0.979023</td>\n",
       "    </tr>\n",
       "  </tbody>\n",
       "</table>\n",
       "</div>"
      ],
      "text/plain": [
       "    Type Stratification  METRIC.Recall  METRIC.Precision  METRIC.F1_Score\n",
       "0  INDEL            all       0.583799          0.825070         0.683776\n",
       "1  INDEL        low_map       0.810127          0.941606         0.870932\n",
       "2  INDEL      no_repeat       0.935988          0.978219         0.956638\n",
       "3  INDEL       seq_dups       0.814286          0.888000         0.849547\n",
       "4    SNP            all       0.996776          0.997280         0.997028\n",
       "5    SNP        low_map       0.992655          0.993385         0.993020\n",
       "6    SNP      no_repeat       0.999036          0.999184         0.999110\n",
       "7    SNP       seq_dups       0.979960          0.978088         0.979023"
      ]
     },
     "metadata": {},
     "output_type": "display_data"
    }
   ],
   "source": [
    "df = read_happy_summary(\"happy_out.strats.extended.csv\")\n",
    "df = df.loc[\n",
    "    (df['Subtype'] == '*') & df['Subset'].map(lambda x: not 'TS' in x),\n",
    "    ['Subset', 'METRIC.Recall', 'METRIC.Precision', 'METRIC.F1_Score']] \\\n",
    "    .rename(columns={'Subset':'Stratification'}) \\\n",
    "    .replace('*', 'all') \\\n",
    "    .reset_index()\n",
    "display(df)"
   ]
  },
  {
   "cell_type": "markdown",
   "metadata": {},
   "source": [
    "The \"*all*\" rows in the above are the results we obtained previously, with additional rows corresponding to the stratification regions separated again by INDEL and SNP variant types. We see that all results are improved when considering only low-complexity regions of the genome. Results are also improved in the low-mappability and segmental-duplication regions compared to the general case showing that it is regions containing, for example homopolymers, short tandem repeats, and other locally repetitive sequences where the variant caller is performing less well."
   ]
  },
  {
   "cell_type": "markdown",
   "metadata": {},
   "source": [
    "### Viewing alignments\n",
    "\n",
    "In the preceding section we have shown how to calculate aggregate measures for the veracity of variant calls. To assess the benchmark calls in more detail we will study some single variant calls with the help of a genome viewer.\n",
    "\n",
    "The EPI2MELabs environment notebook environment has the power to access the popular [Integrative Genomics Viewer](https://github.com/igvteam/igv.js) for viewing genomics data. Run the code-cell below to show the viewer:"
   ]
  },
  {
   "cell_type": "code",
   "execution_count": null,
   "metadata": {
    "partialCollapse": true
   },
   "outputs": [],
   "source": [
    "# create a genome viewer\n",
    "import os\n",
    "from igv_jupyterlab import IGV\n",
    "\n",
    "fasta = 'epi2melabs/snp_benchmarking/GCA_000001405.15_GRCh38_no_alt_analysis_set.fasta'\n",
    "genome = IGV.create_genome(\n",
    "    name=\"Human (GRCh38/hg38)\",\n",
    "    fasta_url=f\"files/{fasta}\",\n",
    "    index_url=f\"files/{fasta}.fai\")\n",
    "\n",
    "bam_track = IGV.create_track(\n",
    "    name=\"reads\", fmt=\"bam\",\n",
    "    url=\"files/epi2melabs/snp_benchmarking/round_0_hap_mixed_phased.bam\",\n",
    "    index_url=\"files/epi2melabs/snp_benchmarking/round_0_hap_mixed_phased.bam.bai\",\n",
    "    colorBy='strand')\n",
    "\n",
    "dv_track = IGV.create_track(\n",
    "    name=\"DeepVariant\", fmt=\"vcf\",\n",
    "    url=\"files/epi2melabs/snp_benchmarking/deepvariant.vcf.gz\",\n",
    "    index_url=\"files/epi2melabs/snp_benchmarking/deepvariant.vcf.gz.tbi\",\n",
    "    autoHeight=True, minHeight=40, maxHeight=40)\n",
    "\n",
    "med_track = IGV.create_track(\n",
    "    name=\"Medaka\", fmt=\"vcf\",\n",
    "    url=\"files/epi2melabs/snp_benchmarking/medaka_candidates.vcf.gz\",\n",
    "    index_url=\"files/epi2melabs/snp_benchmarking/medaka_candidates.vcf.gz.tbi\",\n",
    "    autoHeight=True, minHeight=40, maxHeight=40)\n",
    "\n",
    "truth_track = IGV.create_track(\n",
    "    name=\"Truthset\", fmt=\"vcf\",\n",
    "    url=\"files/epi2melabs/snp_benchmarking/HG002_GRCh38_1_22_v4.1_draft_benchmark.vcf.gz\",\n",
    "    index_url=\"files/epi2melabs/snp_benchmarking/HG002_GRCh38_1_22_v4.1_draft_benchmark.vcf.gz.tbi\",\n",
    "    autoHeight=True, minHeight=40, maxHeight=40)\n",
    "\n",
    "bed_track = IGV.create_track(\n",
    "    name=\"Confidence region\", fmt=\"bed\",\n",
    "    type=\"annotation\",\n",
    "    url=\"files/epi2melabs/snp_benchmarking/HG002_GRCh38_1_22_v4.1_draft_benchmark.bed\",\n",
    "    displayMode='COLLAPSED', autoHeight=True, minHeight=30, maxHeight=30)\n",
    "\n",
    "#chr20:32,243,285-32,249,300\n",
    "igv = IGV(\n",
    "    genome=genome, tracks=[bed_track, truth_track, dv_track, med_track, bam_track],\n",
    "    locus=\"chr20:32,243,500-32,248,200\")\n",
    "igv"
   ]
  },
  {
   "cell_type": "markdown",
   "metadata": {},
   "source": [
    "The viewer will have been launched and display the region `chr20:32,243,500-32,248,200`. The labels on the left-hand side indicate the various \"tracks\" that have been loaded. In order these are:\n",
    "\n",
    "* **Confidence region**: the GIAB confidence regions. Blue shading indicates genomic locations within the region, gaps in the blue bar indicate unconfident regions.\n",
    "* **Truthset**: the GIAB truth variants. The top line of dark blue markings indicates location of variant record within the VCF file, the lower line of variously coloured markings indicate positions where the sample has been determined to be different from the reference. Light grey: no call, cyan: homozygous non-reference, dark blue: heterozygous, darker grey (not generally used here): reference calls.\n",
    "* **DeepVariant**: the DeepVariant calls from nanopore data.\n",
    "* **Medaka**: the variant calls from medaka (with multi-nucleotide substitutions split to independent single-nucleotide substitutions).\n",
    "* **Reads**: The sequencing reads coloured by strand (pink: +, purple: -), with an accompanying coverage histogram. The histogram is mostly grey except for loci with significant number of reads with bases different from the reference.\n",
    "\n",
    "The viewer is fully interactive, users can zoom, pan, click items for more information and save the view to an SVG file. The viewer can also be manipulated with code, lets zoom in to the region on the left-hand size:"
   ]
  },
  {
   "cell_type": "code",
   "execution_count": 48,
   "metadata": {},
   "outputs": [],
   "source": [
    "igv.locus = \"chr20:32,244,000-32,244,200\""
   ]
  },
  {
   "cell_type": "markdown",
   "metadata": {},
   "source": [
    "Executing the above cell will have caused the view to zoom to the region."
   ]
  },
  {
   "attachments": {
    "106ee727-04ce-4c8d-9abd-5f0b3dc08008.png": {
     "image/png": "[encoded data removed]"
    }
   },
   "cell_type": "markdown",
   "metadata": {},
   "source": [
    "#### Case Study 1: a simple substitution\n",
    "\n",
    "Clicking the left-most blue and cyan rectangles on the Truthset track will reveal the windows:\n",
    "\n",
    "![image.png](attachment:106ee727-04ce-4c8d-9abd-5f0b3dc08008.png)\n",
    "\n",
    "detailing the variant. We see that the truthset contains an alternative base A (from the reference G), but that the variant call (genotype) for the current sample is A,A - a homozygous non-reference call. Both the DeepVariant and Medaka calls agree with this assessment."
   ]
  },
  {
   "cell_type": "markdown",
   "metadata": {},
   "source": [
    "#### Case study 2: A correctly filtered insertion\n",
    "\n",
    "Also in this region we see that medaka has created a candidate insertion variant. We can create a new viewer and zoom in to see the putative variant:"
   ]
  },
  {
   "cell_type": "code",
   "execution_count": null,
   "metadata": {},
   "outputs": [],
   "source": [
    "locus = \"chr20:32,244,080-32,244,110\"\n",
    "case2 = IGV(\n",
    "    genome=genome, tracks=[bed_track, truth_track, dv_track, med_track, bam_track],\n",
    "    locus=locus)\n",
    "display(case2)"
   ]
  },
  {
   "cell_type": "markdown",
   "metadata": {},
   "source": [
    "We can extract the details for this variant using pysam (the IGV viewer does not display details for small insertions):"
   ]
  },
  {
   "cell_type": "code",
   "execution_count": null,
   "metadata": {},
   "outputs": [],
   "source": [
    "import pysam\n",
    "\n",
    "with pysam.VariantFile('medaka_candidates.vcf.gz', 'r') as vcf:\n",
    "    for rec in vcf.fetch(\"chr20\", 32244080, 32244110):\n",
    "        print(rec)"
   ]
  },
  {
   "cell_type": "markdown",
   "metadata": {},
   "source": [
    "The medaka VCF file marks the variant as low quality, it was subsequently not passed to DeepVariant for assessment. By comparison to the truthset we see that this is the correct decision for this locus."
   ]
  },
  {
   "cell_type": "markdown",
   "metadata": {},
   "source": [
    "#### Case study 3: an ambiguous homopolymer\n",
    "\n",
    "Let us zoom to a different locus:"
   ]
  },
  {
   "cell_type": "code",
   "execution_count": null,
   "metadata": {},
   "outputs": [],
   "source": [
    "locus = \"chr20:32,246,271-32,246,309\"\n",
    "case3 = IGV(\n",
    "    genome=genome, tracks=[bed_track, truth_track, dv_track, med_track, bam_track],\n",
    "    locus=locus)\n",
    "display(case3)"
   ]
  },
  {
   "cell_type": "markdown",
   "metadata": {},
   "source": [
    "The truthset indicates a deletion of 7 As is possible here: the reference allele is `CAAAAAAA` with and alternative of `C`. The truthset genotype is C, C, so the sample contains the homozygous alternative. The medaka variant call proposes and accepts a deletion of 6 As (`CAAAAAA > C`); with this information DeepVariant lists the genotype as \"NoCall\", with a light grey rectangle in the viewer and a \"RefCall\" entry in the VCF file:"
   ]
  },
  {
   "cell_type": "code",
   "execution_count": null,
   "metadata": {},
   "outputs": [],
   "source": [
    "import pysam\n",
    "\n",
    "with pysam.VariantFile('deepvariant.vcf.gz', 'r') as vcf:\n",
    "    for rec in vcf.fetch(\"chr20\", 32246271, 32246309):\n",
    "        print(rec)"
   ]
  },
  {
   "cell_type": "markdown",
   "metadata": {},
   "source": [
    "The accurate calling of cases like the above, where homopolymers from the reference are truncated or extended is an ongoing area of research. The fact that the generally less-powerful medaka algorithm can establish a near perfect call, where DeepVariant cannot, shows that perhaps more accurate results can be found by a more holistic method."
   ]
  },
  {
   "cell_type": "markdown",
   "metadata": {},
   "source": [
    "#### Case study 4: A call outside the confidence region\n",
    "\n",
    "As a final study case we will examine a variant call proposed by medaka and confirmed by DeepVariant that lies outside the confidence region:"
   ]
  },
  {
   "cell_type": "code",
   "execution_count": null,
   "metadata": {},
   "outputs": [],
   "source": [
    "case4 = IGV(\n",
    "    genome=genome, tracks=[bed_track, truth_track, dv_track, med_track, bam_track],\n",
    "    locus=\"chr20:32,225,976-32,226,273\")\n",
    "\n",
    "display(case4)\n",
    "print(\"\\nVariant details from VCF file:\")\n",
    "with pysam.VariantFile('deepvariant.vcf.gz', 'r') as vcf:\n",
    "    for rec in vcf.fetch(\"chr20\", 32225976, 32226273):\n",
    "        print(rec)"
   ]
  },
  {
   "cell_type": "markdown",
   "metadata": {},
   "source": [
    "In the confidence region track we see that the GIAB confidence region has a gap at this locus of approximately 100 bases. Examining the reference sequence in this region we can see why perhaps the GIAB dataset is not confident: the sequence is of low complexity, rich in T, with repetitive elements. Nevertheless the evidence for a variant at this position is strong in the long reads spanning the region.\n",
    "\n",
    "From the VCF file we see that the variant is called and a homozygous insertion of a `T` with high confidence (`QUAL=48.9`) by DeepVariant. As is evident from the reads  displayed in the viewer (and detailed in the VCF), greater than 70% of the reads are concordant with this calls."
   ]
  },
  {
   "cell_type": "markdown",
   "metadata": {},
   "source": [
    "## Summary\n",
    "\n",
    "In this tutorial we have demonstrated how Oxford Nanopore Technologies performs benchmarking of small variant calling. The methods presented\n",
    "follow those outlined by the Genome in a Bottle project. The tutorial is provided as an accompaniment to the\n",
    "[Small variant calling with GM24385](https://nanoporetech.github.io/ont-open-datasets/gm24385_snp/) blogpost of the\n",
    "Oxford Nanopore Technologies Open Data website.\n",
    "\n",
    "We have shown the tools used by Oxford Nanopore Technologies to assess the veracity of variant callers and to aid the development of new and improved methodologies."
   ]
  }
 ],
 "metadata": {
  "kernelspec": {
   "display_name": "Python 3",
   "language": "python",
   "name": "python3"
  },
  "language_info": {
   "codemirror_mode": {
    "name": "ipython",
    "version": 3
   },
   "file_extension": ".py",
   "mimetype": "text/x-python",
   "name": "python",
   "nbconvert_exporter": "python",
   "pygments_lexer": "ipython3",
   "version": "3.6.12"
  }
 },
 "nbformat": 4,
 "nbformat_minor": 4
}
