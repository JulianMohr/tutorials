{
"cells": [
{
"cell_type": "markdown",
"metadata": {
"colab_type": "text",
"id": "0IsPU13jShte"
},
"source": [
"<h1>Curating Adaptive Sampling input files for MinKNOW</h1>\n",
"\n",
"The following short workflow will prepare and download the necessary files to perform an Adaptive Sampling sequence experiment selecting for reads that span genes, transcripts, exons, etc. stored within [ensembl](https://www.ensembl.org/).\n",
"\n",
"To begin to prepare the files, simply select a species from the dropdown below."
]
},
{
"cell_type": "code",
"execution_count": 3,
"metadata": {
"autorun": true,
"cellView": "form",
"colab": {},
"colab_type": "code",
"id": "rXy_YKVGP_OU",
"partialCollapse": true
},
"outputs": [
{
"name": "stdout",
"output_type": "stream",
"text": [
" * Querying ensembl species\n",
" - Found 310 species\n"
]
}
],
"source": [
"# Code installation\n",
"from ftplib import FTP\n",
"import os\n",
"import ipywidgets as widgets\n",
"import pandas as pd\n",
"import pyranges as pr\n",
"import pysam\n",
"import requests\n",
"\n",
"\n",
"class EnsemblRestClient(object):\n",
"    def __init__(self, server='http://rest.ensembl.org'):\n",
"        self.server = 'http://rest.ensembl.org'\n",
"        self.ftp = 'ftp.ensembl.org'\n",
"        self.ftp_dna_path = '/pub/release-100/fasta/{}/dna/'\n",
"        self.ftp_dna_suff = {\n",
"            'primary':'dna.primary_assembly.fa.gz',\n",
"            'toplevel':'dna.toplevel.fa.gz'}\n",
"        self.ftp_gtf_path = '/pub/release-100/gtf/{}/'\n",
"        self.ftp_gtf_suff = {\n",
"            'gtf':\"100.gtf.gz\"}\n",
"\n",
"        self.dna_template = \\\n",
"            \"ftp://\" + self.ftp + self.ftp_dna_path + \"/{}.{}.{}\"\n",
"        self.gtf_template = \\\n",
"            \"ftp://\" + self.ftp + self.ftp_gtf_path + \\\n",
"            \"/{}.{}.\" + self.ftp_gtf_suff['gtf']\n",
"\n",
"    def get(self, endpoint, params=dict(), **kwargs):\n",
"        if 'json' not in kwargs:\n",
"            kwargs['json'] = params\n",
"        data = dict()\n",
"        try:\n",
"            response = requests.get(self.server + endpoint, **kwargs)\n",
"            if response.status_code == 429:\n",
"                if 'Retry-After' in response.headers:\n",
"                    retry = e.headers['Retry-After']\n",
"                    time.sleep(float(retry))\n",
"                    response = requests.get(self.server + endpoint, **kwargs)\n",
"        except:\n",
"            print(' - Request failed for {0}'.format(endpoint))\n",
"            print(response.status_code) \n",
"        else:\n",
"            data = response.json()\n",
"            if \"error\" in data:\n",
"                print(\" - ERROR:\\n   {}\".format(data[\"error\"]))\n",
"        return data\n",
"\n",
"    def species_list(self):\n",
"        return self.get(\"/info/species\")\n",
"\n",
"    def assembly_name(self, species):\n",
"        #assembly = self.get('/info/assembly/{}'.format(species))\n",
"        #if 'assembly_name' in assembly:\n",
"        #    return assembly['assembly_name']\n",
"        # this is a bit circular...\n",
"        paths = self._ftp_list(\n",
"            self.ftp_dna_path.format(species), self.ftp_dna_suff)\n",
"        stem = paths[\"toplevel\"].split('.', 1)[1]\n",
"        assm = stem.replace(\".\" + self.ftp_dna_suff[\"toplevel\"], \"\")\n",
"        return assm\n",
"\n",
"    def _ftp_list(self, path, filt):\n",
"        ftpdata = dict()\n",
"        with FTP('ftp.ensembl.org') as ftp:\n",
"            ftp.login()\n",
"            def grab(x):\n",
"                fname = x.split()[-1]\n",
"                for key, value in filt.items():\n",
"                    if fname.endswith(value):\n",
"                        ftpdata[key] = fname\n",
"            ftp.dir(path, grab)\n",
"        return ftpdata\n",
"\n",
"    def dna_url(self, species, toplevel=True, assembly_name=None):\n",
"        #if assembly_name is None:\n",
"        #    assembly_name = client.assembly_name(species)\n",
"        #return self.dna_template.format(\n",
"        #    species, species.capitalize(), assembly_name)\n",
"        paths = self._ftp_list(\n",
"            self.ftp_dna_path.format(species), self.ftp_dna_suff)\n",
"        fname = paths['toplevel']\n",
"        if 'primary' in paths.keys():\n",
"            fname = paths['primary']\n",
"        return \"ftp://\" + self.ftp + self.ftp_dna_path.format(species) + fname\n",
"        \n",
"    def gtf_url(self, species, assembly_name=None):\n",
"        #if assembly_name is None:\n",
"        #    assembly_name = client.assembly_name(species)\n",
"        #return self.gtf_template.format(\n",
"        #    species, species.capitalize(), assembly_name)\n",
"        paths = self._ftp_list(\n",
"            self.ftp_gtf_path.format(species), self.ftp_gtf_suff)\n",
"        fname = paths['gtf']\n",
"        return \"ftp://\" + self.ftp + self.ftp_gtf_path.format(species) + fname\n",
"\n",
"\n",
"print(\" * Querying ensembl species\")\n",
"client = EnsemblRestClient()\n",
"species_list = client.species_list()\n",
"species_list = sorted(s['name'] for s in species_list['species'])\n",
"print(\" - Found {} species\".format(len(species_list)))\n",
"species_list.insert(0, \"--\")\n",
"urls = (None, None)"
]
},
{
"cell_type": "markdown",
"metadata": {
"colab_type": "text",
"id": "QRg7J88GSi9W"
},
"source": [
"To produce efficiently reasonable target regions please provide an average read length. This should be an arithmetic mean not an N50 length. After pressing play here you will be given the opportunity to select your genome of interest from a drop-down box."
]
},
{
"cell_type": "code",
"execution_count": 4,
"metadata": {
"autorun": true,
"cellView": "form",
"colab": {},
"colab_type": "code",
"id": "giK73pqCEl9H",
"jupyter": {
"source_hidden": true
}
},
"outputs": [
{
"data": {
"application/vnd.jupyter.widget-view+json": {
"model_id": "7c6a46ad490346c9b244134a4374a95a",
"version_major": 2,
"version_minor": 0
},
"text/plain": [
"VBox(children=(HBox(children=(Label(value='Read length', layout=Layout(width='150px')), interactive(children=(…"
]
},
"metadata": {},
"output_type": "display_data"
}
],
"source": [
"def species_change(inputs):\n",
"    global urls\n",
"    print(\" * Finding files, please wait...\", end=\"\")\n",
"    assm = client.assembly_name(inputs.species)\n",
"    dna_url = client.dna_url(inputs.species, assembly_name=assm)\n",
"    gtf_url = client.gtf_url(inputs.species, assembly_name=assm)\n",
"    urls = (dna_url, gtf_url)\n",
"    \n",
"    \n",
"    try:\n",
"        print(\" * Retrieving files...\")\n",
"        print(\" - {}\".format(dna_url))\n",
"        print(\" - {}\".format(gtf_url))\n",
"        dna_path = os.path.basename(dna_url)\n",
"        gtf_path = os.path.basename(gtf_url)\n",
"        if not os.path.isfile(dna_path):\n",
"            !wget $dna_url || printf \"\\n * Failed to download assembly\\n\"\n",
"            if not os.path.isfile(dna_path):\n",
"                raise FileNotFoundError(' - Assembly could not be downloaded.')\n",
"        else:\n",
"            print(\" - Skipping genome download\")\n",
"        if not os.path.isfile(gtf_path):\n",
"            !wget $gtf_url || printf \"\\n * Failed to download gtf\\n\"\n",
"            if not os.path.isfile(gtf_path):\n",
"                raise FileNotFoundError(' - GTF could not be downloaded.')\n",
"        else:\n",
"            print(\" - Skipping gtf download\")\n",
"    except Exception as e:\n",
"        print(\" * Failed to retrieve files\")\n",
"        print(\"{}\".format(e))\n",
"    else:\n",
"        print(\" * Finished download\")\n",
"        #print(\" * Calculating total assembly length\")\n",
"        #glength = 0\n",
"        #with pysam.FastxFile(dna_path) as fh:\n",
"        #    for r in fh:\n",
"        #        glength += len(r.sequence)\n",
"        #    print(\" - Assembly length: {}\".format(glength))\n",
"        print(\" * Reading gtf\")\n",
"        ranges = pr.read_gtf(gtf_path)\n",
"        print(\" - Merging and expanding intervals (this may take a while)...\", end=\"\")\n",
"        merged = ranges.merge(strand=False)\n",
"        sloppy = merged.slack(inputs.read_length // 2).merge(strand=False)\n",
"        print(\"done\")\n",
"        df = pd.DataFrame({\n",
"            'Source GTF':[len(ranges)],\n",
"            'Filtered':[len(merged)],\n",
"            'Padded':[len(sloppy)]},\n",
"            index=['Intervals'])\n",
"        bed_path = \"{}.read_until.bed\".format(dna_path)\n",
"        sloppy.to_bed(bed_path)\n",
"\n",
"        print()\n",
"        display(df)\n",
"        print(\" * Input files:\")\n",
"        print(\"   - Genome: {}\".format(dna_url))\n",
"        print(\"   - GTF   : {}\".format(gtf_url))\n",
"        print(\" * Output files:\")\n",
"        print(\"   - Genome: {}\".format(os.path.abspath(dna_path)))\n",
"        print(\"   - GTF   : {}\".format(os.path.abspath(gtf_path)))\n",
"        print(\"   - BED   : {}\".format(os.path.abspath(bed_path)))\n",
"    \n",
"\n",
"from epi2melabs.notebook import InputForm, InputSpec\n",
"species_dropdown = widgets.Dropdown(\n",
"    options=species_list, value='--', description='species:')\n",
"input_form = InputForm(\n",
"    InputSpec('read_length', 'Read length', (100, 10000, 100)),\n",
"    InputSpec('species', 'Species', species_dropdown))\n",
"input_form.add_process_button(species_change)\n",
"input_form.display()"
]
},
{
"cell_type": "markdown",
"metadata": {
"colab_type": "text",
"id": "npL8JRnPzBz_"
},
"source": [
"When the above code has finished executing a table will be displayed detailing the number of regions of interest.\n",
"\n",
"Also shown are paths to the output files:\n",
"\n",
"1.   A reference genome (to provide to MinKNOW)\n",
"2.   The source `.gtf` file from which target regions were produced.\n",
"3.   A `.bed` file containing target regions to provide to MinKNOW.\n",
"\n",
"These can be downloaded through your web browser by using the filebrowser to the left-hand side of this page."
]
}
],
"metadata": {
"colab": {
"authorship_tag": "ABX9TyMYSK4fyJgNMoD0qsqldE3o",
"collapsed_sections": [],
"include_colab_link": true,
"name": "Curating Read Until input files for MinKNOW",
"provenance": []
},
"kernelspec": {
"display_name": "Python 3",
"language": "python",
"name": "python3"
},
"language_info": {
"codemirror_mode": {
"name": "ipython",
"version": 3
},
"file_extension": ".py",
"mimetype": "text/x-python",
"name": "python",
"nbconvert_exporter": "python",
"pygments_lexer": "ipython3",
"version": "3.6.10"
}
},
"nbformat": 4,
"nbformat_minor": 4
}
