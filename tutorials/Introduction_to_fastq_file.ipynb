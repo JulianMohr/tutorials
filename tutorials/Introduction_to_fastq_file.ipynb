{
 "cells": [
  {
   "cell_type": "markdown",
   "metadata": {
    "colab_type": "text",
    "id": "UzUZ_k5x86iT"
   },
   "source": [
    "<h1>Introduction to Fastq files</h1>\n",
    "\n",
    "The [fastq format](https://en.wikipedia.org/wiki/FASTQ_format) is (usually) a 4 line string (text) data format denoting a sequence and it's corresponding quality score values.  There different ways of encoding quality in a `.fastq` file however, files from ONT sequencing devices use [sanger phred scores](https://academic.oup.com/nar/article/38/6/1767/3112533). A sequence record is made up of 4 lines:\n",
    "\n",
    "```\n",
    "line 1: Sequence ID and Sequence description\n",
    "line 2: Sequence line e.g. ATCGs\n",
    "line 3: plus symbol (can additionally have description here)\n",
    "line 4: Sequence line qualities\n",
    "```\n",
    "**IMPORTANT:** Lines 2 and line 4 must have the same length or the sequence record is not valid.\n",
    "\n",
    "For example a sample record looks like:\n",
    "\n",
    "```\n",
    "@sequence_id sequence_description\n",
    "ATCG\n",
    "+\n",
    "!^%%\n",
    "```\n",
    "The sequence ID must not contain any spaces. Anything after the first space in the sequence ID line will be considered the \"description\".\n",
    "\n",
    "A `.fastq` file may contain multiple records. The default number of records in a fastq file generated during a nanopore run is 4000 reads (16000 lines).\n"
   ]
  },
  {
   "cell_type": "markdown",
   "metadata": {
    "colab_type": "text",
    "id": "cc8B6dK8qvUQ"
   },
   "source": [
    "## Useful snippets\n",
    "\n",
    "The following snippets demonstrate common tasks you might want to perform on a single `.fastq` file or a set of such files. For many tasks we recommend the excellent [seqkit](https://github.com/shenwei356/seqkit) program.\n",
    "\n",
    "Before anything else we will create and set a working directory:"
   ]
  },
  {
   "cell_type": "code",
   "execution_count": null,
   "metadata": {
    "colab": {},
    "colab_type": "code",
    "id": "vPF_Wj3_YAJH"
   },
   "outputs": [],
   "source": [
    "# create a work directory and move into it\n",
    "directory = \"fastq_tutorial\"\n",
    "working_dir='/epi2melabs/{}/'.format(directory)\n",
    "!mkdir -p \"$working_dir\"\n",
    "%cd \"$working_dir\"\n",
    "\n",
    "from epi2melabs import ping\n",
    "pinger = ping.Pingu()\n",
    "pinger.send_notebook_ping('stop', 'fastq_introduction')\n",
    "\n",
    "# Download sample data\n",
    "bucket = \"ont-exd-int-s3-euwst1-epi2me-labs\"\n",
    "domain = \"s3-eu-west-1.amazonaws.com\"\n",
    "site = \"https://{}.{}\".format(bucket, domain)\n",
    "\n",
    "!wget \"$site/fast_introduction/archive.tar.gz\"\n",
    "!tar -xzvf archive.tar.gz\n",
    "%cd test0"
   ]
  },
  {
   "cell_type": "markdown",
   "metadata": {
    "colab_type": "text",
    "id": "T7R3ZA2GF6HT"
   },
   "source": [
    "The snippets all have their code to the left-hand side and a form to the right which can be used to change their inputs (as an alternative to directly editing the code)."
   ]
  },
  {
   "cell_type": "markdown",
   "metadata": {
    "colab_type": "text",
    "id": "Yu8wQ5mc-69P"
   },
   "source": [
    "#### How many records in my `.fastq` file?\n",
    "\n",
    "To count the number of records in a `.fastq` file we can use the linux [word count](https://linux.die.net/man/1/wc) command to count the number of lines in a file, with a division by four accounting for four lines per record:"
   ]
  },
  {
   "cell_type": "code",
   "execution_count": null,
   "metadata": {
    "cellView": "both",
    "colab": {
     "base_uri": "https://localhost:8080/",
     "height": 34
    },
    "colab_type": "code",
    "id": "f-e8UiQE8qyw",
    "outputId": "cb4eb9d0-522f-4ff0-bb5a-ba3c34808cb2"
   },
   "outputs": [],
   "source": [
    "filename = \"example3.fastq\"\n",
    "!echo $(( $(wc -l < $filename) / 4 )) reads"
   ]
  },
  {
   "cell_type": "markdown",
   "metadata": {
    "colab_type": "text",
    "id": "vOwokQTOIZ0N"
   },
   "source": [
    "#### List all the fastqs in a directory\n",
    "\n",
    "As Oxford Nanopore Technologies' sequencing devices output multiple `.fastq` files during the course of an experiment, it can be useful to find and list all such files. We can do this with the linux [find](https://linux.die.net/man/1/find) command:"
   ]
  },
  {
   "cell_type": "code",
   "execution_count": null,
   "metadata": {
    "cellView": "both",
    "colab": {
     "base_uri": "https://localhost:8080/",
     "height": 68
    },
    "colab_type": "code",
    "id": "Toslxto7HgIn",
    "outputId": "73dfdb07-b5b5-46ef-e264-f0598c5cc623"
   },
   "outputs": [],
   "source": [
    "directory = \".\"\n",
    "\n",
    "!find $directory -name \"*.fastq\""
   ]
  },
  {
   "cell_type": "markdown",
   "metadata": {
    "colab_type": "text",
    "id": "zMt6_aeYsudk"
   },
   "source": [
    "The default directory value here (`.`) means \"the current working directory.\""
   ]
  },
  {
   "cell_type": "markdown",
   "metadata": {
    "colab_type": "text",
    "id": "huYtv1u3JDXn"
   },
   "source": [
    "#### Concatenate all fastqs in a directory into a single file\n",
    "\n",
    "Many bioinformatics programs require all sequence data to be present in a single `.fastq` file. In order to process sequences across multiple files we must concatenate (or \"cat\") all the `.fastq` files into a single consolidated file. To perform this task we can use a combination of the linux [find](https://linux.die.net/man/1/find), [xargs](https://linux.die.net/man/1/xargs), and [cat](https://linux.die.net/man/1/cat) commands:"
   ]
  },
  {
   "cell_type": "code",
   "execution_count": null,
   "metadata": {
    "cellView": "both",
    "colab": {
     "base_uri": "https://localhost:8080/"
    },
    "colab_type": "code",
    "id": "F2kqVNt886Rd",
    "outputId": "8736bbcc-1e37-477c-c63c-a2bfbcf94ac1"
   },
   "outputs": [],
   "source": [
    "directory = \".\"\n",
    "output_fastq = \"all_records.fastq\"\n",
    "\n",
    "!find . -type f \\( -iname \"*.fastq\" ! -iname $output_fastq \\) | \\\n",
    "    xargs cat > $output_fastq\n",
    "!echo $(( $(wc -l < $output_fastq) / 4 )) reads"
   ]
  },
  {
   "cell_type": "markdown",
   "metadata": {
    "colab_type": "text",
    "id": "Ze2sQyDht1ol"
   },
   "source": [
    "Again the default directory value here (`.`) means \"the current working directory.\"\n",
    "\n",
    "You may often see a simple form of the above:\n",
    "\n",
    "    cat *.fastq > output.fastq\n",
    "\n",
    "however, this command will fail if the number of `.fastq` files found is very large."
   ]
  },
  {
   "cell_type": "markdown",
   "metadata": {
    "colab_type": "text",
    "id": "SXx3keHyNPKS"
   },
   "source": [
    "#### Remove all duplicates in a fastq\n",
    "\n",
    "In can sometimes be the case that for some reason a `.fastq` file contains duplicates of the same read. To remove these we can use the [`rmdup`](https://bioinf.shenwei.me/seqkit/usage/#rmdup) command of the [seqkit](https://github.com/shenwei356/seqkit) program:"
   ]
  },
  {
   "cell_type": "code",
   "execution_count": null,
   "metadata": {
    "cellView": "both",
    "colab": {
     "base_uri": "https://localhost:8080/"
    },
    "colab_type": "code",
    "id": "dgl4TSS2NrB1",
    "outputId": "d18767d0-135c-4445-d895-c2c11470530c"
   },
   "outputs": [],
   "source": [
    "input_fastq = \"all_records.fastq\"\n",
    "output_fastq = \"deduplicated.fastq\"\n",
    "\n",
    "!seqkit rmdup \"$input_fastq\" -o \"$output_fastq\""
   ]
  },
  {
   "cell_type": "markdown",
   "metadata": {
    "colab_type": "text",
    "id": "TJh81ziw4ltw"
   },
   "source": [
    "For the example data, 200 duplicate records are identified because the three files (containing 100 records each) are in fact copies of the same file."
   ]
  },
  {
   "cell_type": "markdown",
   "metadata": {
    "colab_type": "text",
    "id": "qPBWIDOcVE6L"
   },
   "source": [
    "#### Compress or extract a fastq file\n",
    "\n",
    "We can save hard disk space on our computer by compressing `.fastq` files. To do this we recommend using [`bgzip`](http://www.htslib.org/doc/bgzip.html) which allows for indexing and fast retrieval of sequences by bioinformatics programs:"
   ]
  },
  {
   "cell_type": "code",
   "execution_count": null,
   "metadata": {
    "cellView": "both",
    "colab": {
     "base_uri": "https://localhost:8080/"
    },
    "colab_type": "code",
    "id": "gzW6vTXMVKcr",
    "outputId": "ad1fba84-16fb-4506-b083-caca45222aaa"
   },
   "outputs": [],
   "source": [
    "input_fastq = \"example3.fastq\"\n",
    "compressed_fastq = \"example3.fastq.gz\"\n",
    "\n",
    "!ls -lh \"$input_fastq\"\n",
    "!bgzip \"$input_fastq\"\n",
    "!ls -lh \"$compressed_fastq\""
   ]
  },
  {
   "cell_type": "markdown",
   "metadata": {
    "colab_type": "text",
    "id": "ELqn2HOS2YdF"
   },
   "source": [
    "The size of the compressed file is roughly half of the original. To decompress the compress file, we again use `bgzip`:"
   ]
  },
  {
   "cell_type": "code",
   "execution_count": null,
   "metadata": {
    "cellView": "both",
    "colab": {},
    "colab_type": "code",
    "id": "6MRicIUUWLPc"
   },
   "outputs": [],
   "source": [
    "compressed_fastq = \"example3.fastq.gz\"\n",
    "\n",
    "!bgzip -d \"$compressed_fastq\""
   ]
  },
  {
   "cell_type": "markdown",
   "metadata": {
    "colab_type": "text",
    "id": "IXvB3Kpq3MQJ"
   },
   "source": [
    "#### Compress a directory structure\n",
    "\n",
    "In order to compress a directory structure we can use the linux [`tar`](https://linux.die.net/man/1/tar) command with the compression option: "
   ]
  },
  {
   "cell_type": "code",
   "execution_count": null,
   "metadata": {
    "cellView": "both",
    "colab": {
     "base_uri": "https://localhost:8080/",
     "height": 51
    },
    "colab_type": "code",
    "id": "J7cNxaaC3iAw",
    "outputId": "0eb6430a-41ad-4893-9314-808450ec70a3"
   },
   "outputs": [],
   "source": [
    "directory = \"pass\"\n",
    "archive = \"archive.tar.gz\"\n",
    "\n",
    "# the options here mean: create, gzip compress, verbose, output file\n",
    "!tar -czvf \"$archive\" \"$directory\""
   ]
  },
  {
   "cell_type": "markdown",
   "metadata": {
    "colab_type": "text",
    "id": "3olXzFLP34Kd"
   },
   "source": [
    "When compressing directories and their contents in this way it is good practice to compress a single top-level directory, so that when the archive is decompressed a single top-level directory is retrieved (and the users working directory isn't polluted).\n",
    "\n",
    "To decompress the archive we use a similar command:"
   ]
  },
  {
   "cell_type": "code",
   "execution_count": null,
   "metadata": {
    "cellView": "both",
    "colab": {
     "base_uri": "https://localhost:8080/",
     "height": 51
    },
    "colab_type": "code",
    "id": "nCZ_MzoE42pN",
    "outputId": "e1b8d426-ad2f-4c26-d086-b6cc966d79c7"
   },
   "outputs": [],
   "source": [
    "archive = \"archive.tar.gz\"\n",
    "\n",
    "# A temporary folder (tmp) is created here simply to avoid confusion with the\n",
    "# original directory compressed in the previous example. This is not necessary\n",
    "# in practice.\n",
    "\n",
    "# the options here mean: extract, gzip compressed, verbose, input file\n",
    "!rm -rf tmp && mkdir tmp && cd tmp && \\\n",
    "    tar -xzvf ../\"$archive\""
   ]
  },
  {
   "cell_type": "markdown",
   "metadata": {
    "colab_type": "text",
    "id": "7XgSmykutHVY"
   },
   "source": [
    "## Visualizing fastq\n",
    "\n",
    "The snippets below demonstrate basic parsing of fastq data in python. We do not recommend using this code in practice as much of the information is more readily available in the `sequencing_summary.txt` file produced by Oxford Nanopore Technologies' sequencing devices. See our [Basic QC Tutorial](../tutorials/basic_qc_tutorial.ipynb) for more examples."
   ]
  },
  {
   "cell_type": "code",
   "execution_count": 3,
   "metadata": {
    "colab": {
     "base_uri": "https://localhost:8080/",
     "height": 297
    },
    "colab_type": "code",
    "id": "eqTpLNMAtN5w",
    "outputId": "472c098c-051e-425e-9d4f-c7e8b45301d8",
    "partialCollapse": true
   },
   "outputs": [
    {
     "data": {
      "application/javascript": [
       "\n",
       "(function(root) {\n",
       "  function now() {\n",
       "    return new Date();\n",
       "  }\n",
       "\n",
       "  var force = true;\n",
       "\n",
       "  if (typeof root._bokeh_onload_callbacks === \"undefined\" || force === true) {\n",
       "    root._bokeh_onload_callbacks = [];\n",
       "    root._bokeh_is_loading = undefined;\n",
       "  }\n",
       "\n",
       "  var JS_MIME_TYPE = 'application/javascript';\n",
       "  var HTML_MIME_TYPE = 'text/html';\n",
       "  var EXEC_MIME_TYPE = 'application/vnd.bokehjs_exec.v0+json';\n",
       "  var CLASS_NAME = 'output_bokeh rendered_html';\n",
       "\n",
       "  /**\n",
       "   * Render data to the DOM node\n",
       "   */\n",
       "  function render(props, node) {\n",
       "    var script = document.createElement(\"script\");\n",
       "    node.appendChild(script);\n",
       "  }\n",
       "\n",
       "  /**\n",
       "   * Handle when an output is cleared or removed\n",
       "   */\n",
       "  function handleClearOutput(event, handle) {\n",
       "    var cell = handle.cell;\n",
       "\n",
       "    var id = cell.output_area._bokeh_element_id;\n",
       "    var server_id = cell.output_area._bokeh_server_id;\n",
       "    // Clean up Bokeh references\n",
       "    if (id != null && id in Bokeh.index) {\n",
       "      Bokeh.index[id].model.document.clear();\n",
       "      delete Bokeh.index[id];\n",
       "    }\n",
       "\n",
       "    if (server_id !== undefined) {\n",
       "      // Clean up Bokeh references\n",
       "      var cmd = \"from bokeh.io.state import curstate; print(curstate().uuid_to_server['\" + server_id + \"'].get_sessions()[0].document.roots[0]._id)\";\n",
       "      cell.notebook.kernel.execute(cmd, {\n",
       "        iopub: {\n",
       "          output: function(msg) {\n",
       "            var id = msg.content.text.trim();\n",
       "            if (id in Bokeh.index) {\n",
       "              Bokeh.index[id].model.document.clear();\n",
       "              delete Bokeh.index[id];\n",
       "            }\n",
       "          }\n",
       "        }\n",
       "      });\n",
       "      // Destroy server and session\n",
       "      var cmd = \"import bokeh.io.notebook as ion; ion.destroy_server('\" + server_id + \"')\";\n",
       "      cell.notebook.kernel.execute(cmd);\n",
       "    }\n",
       "  }\n",
       "\n",
       "  /**\n",
       "   * Handle when a new output is added\n",
       "   */\n",
       "  function handleAddOutput(event, handle) {\n",
       "    var output_area = handle.output_area;\n",
       "    var output = handle.output;\n",
       "\n",
       "    // limit handleAddOutput to display_data with EXEC_MIME_TYPE content only\n",
       "    if ((output.output_type != \"display_data\") || (!output.data.hasOwnProperty(EXEC_MIME_TYPE))) {\n",
       "      return\n",
       "    }\n",
       "\n",
       "    var toinsert = output_area.element.find(\".\" + CLASS_NAME.split(' ')[0]);\n",
       "\n",
       "    if (output.metadata[EXEC_MIME_TYPE][\"id\"] !== undefined) {\n",
       "      toinsert[toinsert.length - 1].firstChild.textContent = output.data[JS_MIME_TYPE];\n",
       "      // store reference to embed id on output_area\n",
       "      output_area._bokeh_element_id = output.metadata[EXEC_MIME_TYPE][\"id\"];\n",
       "    }\n",
       "    if (output.metadata[EXEC_MIME_TYPE][\"server_id\"] !== undefined) {\n",
       "      var bk_div = document.createElement(\"div\");\n",
       "      bk_div.innerHTML = output.data[HTML_MIME_TYPE];\n",
       "      var script_attrs = bk_div.children[0].attributes;\n",
       "      for (var i = 0; i < script_attrs.length; i++) {\n",
       "        toinsert[toinsert.length - 1].firstChild.setAttribute(script_attrs[i].name, script_attrs[i].value);\n",
       "        toinsert[toinsert.length - 1].firstChild.textContent = bk_div.children[0].textContent\n",
       "      }\n",
       "      // store reference to server id on output_area\n",
       "      output_area._bokeh_server_id = output.metadata[EXEC_MIME_TYPE][\"server_id\"];\n",
       "    }\n",
       "  }\n",
       "\n",
       "  function register_renderer(events, OutputArea) {\n",
       "\n",
       "    function append_mime(data, metadata, element) {\n",
       "      // create a DOM node to render to\n",
       "      var toinsert = this.create_output_subarea(\n",
       "        metadata,\n",
       "        CLASS_NAME,\n",
       "        EXEC_MIME_TYPE\n",
       "      );\n",
       "      this.keyboard_manager.register_events(toinsert);\n",
       "      // Render to node\n",
       "      var props = {data: data, metadata: metadata[EXEC_MIME_TYPE]};\n",
       "      render(props, toinsert[toinsert.length - 1]);\n",
       "      element.append(toinsert);\n",
       "      return toinsert\n",
       "    }\n",
       "\n",
       "    /* Handle when an output is cleared or removed */\n",
       "    events.on('clear_output.CodeCell', handleClearOutput);\n",
       "    events.on('delete.Cell', handleClearOutput);\n",
       "\n",
       "    /* Handle when a new output is added */\n",
       "    events.on('output_added.OutputArea', handleAddOutput);\n",
       "\n",
       "    /**\n",
       "     * Register the mime type and append_mime function with output_area\n",
       "     */\n",
       "    OutputArea.prototype.register_mime_type(EXEC_MIME_TYPE, append_mime, {\n",
       "      /* Is output safe? */\n",
       "      safe: true,\n",
       "      /* Index of renderer in `output_area.display_order` */\n",
       "      index: 0\n",
       "    });\n",
       "  }\n",
       "\n",
       "  // register the mime type if in Jupyter Notebook environment and previously unregistered\n",
       "  if (root.Jupyter !== undefined) {\n",
       "    var events = require('base/js/events');\n",
       "    var OutputArea = require('notebook/js/outputarea').OutputArea;\n",
       "\n",
       "    if (OutputArea.prototype.mime_types().indexOf(EXEC_MIME_TYPE) == -1) {\n",
       "      register_renderer(events, OutputArea);\n",
       "    }\n",
       "  }\n",
       "\n",
       "  \n",
       "  if (typeof (root._bokeh_timeout) === \"undefined\" || force === true) {\n",
       "    root._bokeh_timeout = Date.now() + 5000;\n",
       "    root._bokeh_failed_load = false;\n",
       "  }\n",
       "\n",
       "  var NB_LOAD_WARNING = {'data': {'text/html':\n",
       "     \"<div style='background-color: #fdd'>\\n\"+\n",
       "     \"<p>\\n\"+\n",
       "     \"BokehJS does not appear to have successfully loaded. If loading BokehJS from CDN, this \\n\"+\n",
       "     \"may be due to a slow or bad network connection. Possible fixes:\\n\"+\n",
       "     \"</p>\\n\"+\n",
       "     \"<ul>\\n\"+\n",
       "     \"<li>re-rerun `output_notebook()` to attempt to load from CDN again, or</li>\\n\"+\n",
       "     \"<li>use INLINE resources instead, as so:</li>\\n\"+\n",
       "     \"</ul>\\n\"+\n",
       "     \"<code>\\n\"+\n",
       "     \"from bokeh.resources import INLINE\\n\"+\n",
       "     \"output_notebook(resources=INLINE)\\n\"+\n",
       "     \"</code>\\n\"+\n",
       "     \"</div>\"}};\n",
       "\n",
       "  function display_loaded() {\n",
       "    var el = document.getElementById(null);\n",
       "    if (el != null) {\n",
       "      el.textContent = \"BokehJS is loading...\";\n",
       "    }\n",
       "    if (root.Bokeh !== undefined) {\n",
       "      if (el != null) {\n",
       "        el.textContent = \"BokehJS \" + root.Bokeh.version + \" successfully loaded.\";\n",
       "      }\n",
       "    } else if (Date.now() < root._bokeh_timeout) {\n",
       "      setTimeout(display_loaded, 100)\n",
       "    }\n",
       "  }\n",
       "\n",
       "\n",
       "  function run_callbacks() {\n",
       "    try {\n",
       "      root._bokeh_onload_callbacks.forEach(function(callback) {\n",
       "        if (callback != null)\n",
       "          callback();\n",
       "      });\n",
       "    } finally {\n",
       "      delete root._bokeh_onload_callbacks\n",
       "    }\n",
       "    console.debug(\"Bokeh: all callbacks have finished\");\n",
       "  }\n",
       "\n",
       "  function load_libs(css_urls, js_urls, callback) {\n",
       "    if (css_urls == null) css_urls = [];\n",
       "    if (js_urls == null) js_urls = [];\n",
       "\n",
       "    root._bokeh_onload_callbacks.push(callback);\n",
       "    if (root._bokeh_is_loading > 0) {\n",
       "      console.debug(\"Bokeh: BokehJS is being loaded, scheduling callback at\", now());\n",
       "      return null;\n",
       "    }\n",
       "    if (js_urls == null || js_urls.length === 0) {\n",
       "      run_callbacks();\n",
       "      return null;\n",
       "    }\n",
       "    console.debug(\"Bokeh: BokehJS not loaded, scheduling load and callback at\", now());\n",
       "    root._bokeh_is_loading = css_urls.length + js_urls.length;\n",
       "\n",
       "    function on_load() {\n",
       "      root._bokeh_is_loading--;\n",
       "      if (root._bokeh_is_loading === 0) {\n",
       "        console.debug(\"Bokeh: all BokehJS libraries/stylesheets loaded\");\n",
       "        run_callbacks()\n",
       "      }\n",
       "    }\n",
       "\n",
       "    function on_error() {\n",
       "      console.error(\"failed to load \" + url);\n",
       "    }\n",
       "\n",
       "    for (var i = 0; i < css_urls.length; i++) {\n",
       "      var url = css_urls[i];\n",
       "      const element = document.createElement(\"link\");\n",
       "      element.onload = on_load;\n",
       "      element.onerror = on_error;\n",
       "      element.rel = \"stylesheet\";\n",
       "      element.type = \"text/css\";\n",
       "      element.href = url;\n",
       "      console.debug(\"Bokeh: injecting link tag for BokehJS stylesheet: \", url);\n",
       "      document.body.appendChild(element);\n",
       "    }\n",
       "\n",
       "    const hashes = {\"https://cdn.bokeh.org/bokeh/release/bokeh-2.1.1.min.js\": \"kLr4fYcqcSpbuI95brIH3vnnYCquzzSxHPU6XGQCIkQRGJwhg0StNbj1eegrHs12\", \"https://cdn.bokeh.org/bokeh/release/bokeh-widgets-2.1.1.min.js\": \"xIGPmVtaOm+z0BqfSOMn4lOR6ciex448GIKG4eE61LsAvmGj48XcMQZtKcE/UXZe\", \"https://cdn.bokeh.org/bokeh/release/bokeh-tables-2.1.1.min.js\": \"Dc9u1wF/0zApGIWoBbH77iWEHtdmkuYWG839Uzmv8y8yBLXebjO9ZnERsde5Ln/P\", \"https://cdn.bokeh.org/bokeh/release/bokeh-gl-2.1.1.min.js\": \"cT9JaBz7GiRXdENrJLZNSC6eMNF3nh3fa5fTF51Svp+ukxPdwcU5kGXGPBgDCa2j\"};\n",
       "\n",
       "    for (var i = 0; i < js_urls.length; i++) {\n",
       "      var url = js_urls[i];\n",
       "      var element = document.createElement('script');\n",
       "      element.onload = on_load;\n",
       "      element.onerror = on_error;\n",
       "      element.async = false;\n",
       "      element.src = url;\n",
       "      if (url in hashes) {\n",
       "        element.crossOrigin = \"anonymous\";\n",
       "        element.integrity = \"sha384-\" + hashes[url];\n",
       "      }\n",
       "      console.debug(\"Bokeh: injecting script tag for BokehJS library: \", url);\n",
       "      document.head.appendChild(element);\n",
       "    }\n",
       "  };\n",
       "\n",
       "  function inject_raw_css(css) {\n",
       "    const element = document.createElement(\"style\");\n",
       "    element.appendChild(document.createTextNode(css));\n",
       "    document.body.appendChild(element);\n",
       "  }\n",
       "\n",
       "  \n",
       "  var js_urls = [\"https://cdn.bokeh.org/bokeh/release/bokeh-2.1.1.min.js\", \"https://cdn.bokeh.org/bokeh/release/bokeh-widgets-2.1.1.min.js\", \"https://cdn.bokeh.org/bokeh/release/bokeh-tables-2.1.1.min.js\", \"https://cdn.bokeh.org/bokeh/release/bokeh-gl-2.1.1.min.js\"];\n",
       "  var css_urls = [];\n",
       "  \n",
       "\n",
       "  var inline_js = [\n",
       "    function(Bokeh) {\n",
       "      Bokeh.set_log_level(\"info\");\n",
       "    },\n",
       "    function(Bokeh) {\n",
       "    \n",
       "    \n",
       "    }\n",
       "  ];\n",
       "\n",
       "  function run_inline_js() {\n",
       "    \n",
       "    if (root.Bokeh !== undefined || force === true) {\n",
       "      \n",
       "    for (var i = 0; i < inline_js.length; i++) {\n",
       "      inline_js[i].call(root, root.Bokeh);\n",
       "    }\n",
       "    } else if (Date.now() < root._bokeh_timeout) {\n",
       "      setTimeout(run_inline_js, 100);\n",
       "    } else if (!root._bokeh_failed_load) {\n",
       "      console.log(\"Bokeh: BokehJS failed to load within specified timeout.\");\n",
       "      root._bokeh_failed_load = true;\n",
       "    } else if (force !== true) {\n",
       "      var cell = $(document.getElementById(null)).parents('.cell').data().cell;\n",
       "      cell.output_area.append_execute_result(NB_LOAD_WARNING)\n",
       "    }\n",
       "\n",
       "  }\n",
       "\n",
       "  if (root._bokeh_is_loading === 0) {\n",
       "    console.debug(\"Bokeh: BokehJS loaded, going straight to plotting\");\n",
       "    run_inline_js();\n",
       "  } else {\n",
       "    load_libs(css_urls, js_urls, function() {\n",
       "      console.debug(\"Bokeh: BokehJS plotting callback run at\", now());\n",
       "      run_inline_js();\n",
       "    });\n",
       "  }\n",
       "}(window));"
      ],
      "application/vnd.bokehjs_load.v0+json": "\n(function(root) {\n  function now() {\n    return new Date();\n  }\n\n  var force = true;\n\n  if (typeof root._bokeh_onload_callbacks === \"undefined\" || force === true) {\n    root._bokeh_onload_callbacks = [];\n    root._bokeh_is_loading = undefined;\n  }\n\n  \n\n  \n  if (typeof (root._bokeh_timeout) === \"undefined\" || force === true) {\n    root._bokeh_timeout = Date.now() + 5000;\n    root._bokeh_failed_load = false;\n  }\n\n  var NB_LOAD_WARNING = {'data': {'text/html':\n     \"<div style='background-color: #fdd'>\\n\"+\n     \"<p>\\n\"+\n     \"BokehJS does not appear to have successfully loaded. If loading BokehJS from CDN, this \\n\"+\n     \"may be due to a slow or bad network connection. Possible fixes:\\n\"+\n     \"</p>\\n\"+\n     \"<ul>\\n\"+\n     \"<li>re-rerun `output_notebook()` to attempt to load from CDN again, or</li>\\n\"+\n     \"<li>use INLINE resources instead, as so:</li>\\n\"+\n     \"</ul>\\n\"+\n     \"<code>\\n\"+\n     \"from bokeh.resources import INLINE\\n\"+\n     \"output_notebook(resources=INLINE)\\n\"+\n     \"</code>\\n\"+\n     \"</div>\"}};\n\n  function display_loaded() {\n    var el = document.getElementById(null);\n    if (el != null) {\n      el.textContent = \"BokehJS is loading...\";\n    }\n    if (root.Bokeh !== undefined) {\n      if (el != null) {\n        el.textContent = \"BokehJS \" + root.Bokeh.version + \" successfully loaded.\";\n      }\n    } else if (Date.now() < root._bokeh_timeout) {\n      setTimeout(display_loaded, 100)\n    }\n  }\n\n\n  function run_callbacks() {\n    try {\n      root._bokeh_onload_callbacks.forEach(function(callback) {\n        if (callback != null)\n          callback();\n      });\n    } finally {\n      delete root._bokeh_onload_callbacks\n    }\n    console.debug(\"Bokeh: all callbacks have finished\");\n  }\n\n  function load_libs(css_urls, js_urls, callback) {\n    if (css_urls == null) css_urls = [];\n    if (js_urls == null) js_urls = [];\n\n    root._bokeh_onload_callbacks.push(callback);\n    if (root._bokeh_is_loading > 0) {\n      console.debug(\"Bokeh: BokehJS is being loaded, scheduling callback at\", now());\n      return null;\n    }\n    if (js_urls == null || js_urls.length === 0) {\n      run_callbacks();\n      return null;\n    }\n    console.debug(\"Bokeh: BokehJS not loaded, scheduling load and callback at\", now());\n    root._bokeh_is_loading = css_urls.length + js_urls.length;\n\n    function on_load() {\n      root._bokeh_is_loading--;\n      if (root._bokeh_is_loading === 0) {\n        console.debug(\"Bokeh: all BokehJS libraries/stylesheets loaded\");\n        run_callbacks()\n      }\n    }\n\n    function on_error() {\n      console.error(\"failed to load \" + url);\n    }\n\n    for (var i = 0; i < css_urls.length; i++) {\n      var url = css_urls[i];\n      const element = document.createElement(\"link\");\n      element.onload = on_load;\n      element.onerror = on_error;\n      element.rel = \"stylesheet\";\n      element.type = \"text/css\";\n      element.href = url;\n      console.debug(\"Bokeh: injecting link tag for BokehJS stylesheet: \", url);\n      document.body.appendChild(element);\n    }\n\n    const hashes = {\"https://cdn.bokeh.org/bokeh/release/bokeh-2.1.1.min.js\": \"kLr4fYcqcSpbuI95brIH3vnnYCquzzSxHPU6XGQCIkQRGJwhg0StNbj1eegrHs12\", \"https://cdn.bokeh.org/bokeh/release/bokeh-widgets-2.1.1.min.js\": \"xIGPmVtaOm+z0BqfSOMn4lOR6ciex448GIKG4eE61LsAvmGj48XcMQZtKcE/UXZe\", \"https://cdn.bokeh.org/bokeh/release/bokeh-tables-2.1.1.min.js\": \"Dc9u1wF/0zApGIWoBbH77iWEHtdmkuYWG839Uzmv8y8yBLXebjO9ZnERsde5Ln/P\", \"https://cdn.bokeh.org/bokeh/release/bokeh-gl-2.1.1.min.js\": \"cT9JaBz7GiRXdENrJLZNSC6eMNF3nh3fa5fTF51Svp+ukxPdwcU5kGXGPBgDCa2j\"};\n\n    for (var i = 0; i < js_urls.length; i++) {\n      var url = js_urls[i];\n      var element = document.createElement('script');\n      element.onload = on_load;\n      element.onerror = on_error;\n      element.async = false;\n      element.src = url;\n      if (url in hashes) {\n        element.crossOrigin = \"anonymous\";\n        element.integrity = \"sha384-\" + hashes[url];\n      }\n      console.debug(\"Bokeh: injecting script tag for BokehJS library: \", url);\n      document.head.appendChild(element);\n    }\n  };\n\n  function inject_raw_css(css) {\n    const element = document.createElement(\"style\");\n    element.appendChild(document.createTextNode(css));\n    document.body.appendChild(element);\n  }\n\n  \n  var js_urls = [\"https://cdn.bokeh.org/bokeh/release/bokeh-2.1.1.min.js\", \"https://cdn.bokeh.org/bokeh/release/bokeh-widgets-2.1.1.min.js\", \"https://cdn.bokeh.org/bokeh/release/bokeh-tables-2.1.1.min.js\", \"https://cdn.bokeh.org/bokeh/release/bokeh-gl-2.1.1.min.js\"];\n  var css_urls = [];\n  \n\n  var inline_js = [\n    function(Bokeh) {\n      Bokeh.set_log_level(\"info\");\n    },\n    function(Bokeh) {\n    \n    \n    }\n  ];\n\n  function run_inline_js() {\n    \n    if (root.Bokeh !== undefined || force === true) {\n      \n    for (var i = 0; i < inline_js.length; i++) {\n      inline_js[i].call(root, root.Bokeh);\n    }\n    } else if (Date.now() < root._bokeh_timeout) {\n      setTimeout(run_inline_js, 100);\n    } else if (!root._bokeh_failed_load) {\n      console.log(\"Bokeh: BokehJS failed to load within specified timeout.\");\n      root._bokeh_failed_load = true;\n    } else if (force !== true) {\n      var cell = $(document.getElementById(null)).parents('.cell').data().cell;\n      cell.output_area.append_execute_result(NB_LOAD_WARNING)\n    }\n\n  }\n\n  if (root._bokeh_is_loading === 0) {\n    console.debug(\"Bokeh: BokehJS loaded, going straight to plotting\");\n    run_inline_js();\n  } else {\n    load_libs(css_urls, js_urls, function() {\n      console.debug(\"Bokeh: BokehJS plotting callback run at\", now());\n      run_inline_js();\n    });\n  }\n}(window));"
     },
     "metadata": {},
     "output_type": "display_data"
    },
    {
     "data": {
      "text/html": [
       "\n",
       "\n",
       "\n",
       "\n",
       "\n",
       "\n",
       "  <div class=\"bk-root\" id=\"c20a7444-72f4-4d3a-b2d0-87dc8a57faf6\" data-root-id=\"1151\"></div>\n"
      ]
     },
     "metadata": {},
     "output_type": "display_data"
    },
    {
     "data": {
      "application/javascript": [
       "(function(root) {\n",
       "  function embed_document(root) {\n",
       "    \n",
       "  var docs_json = {\"32788724-a6a7-4944-be38-cea6c1b1eb52\": {\"roots\": {\"references\": [{\"attributes\": {\"children\": [[{\"id\": \"1001\"}, 0, 0], [{\"id\": \"1041\"}, 0, 1], [{\"id\": \"1081\"}, 0, 2]]}, \"id\": \"1148\", \"type\": \"GridBox\"}, {\"attributes\": {}, \"id\": \"1013\", \"type\": \"BasicTicker\"}, {\"attributes\": {\"data\": {\"left\": {\"__ndarray__\": \"AAAAAAAA8D/uaYTlnkYQQN3TCMs9jRxA5p5GWO5pJEDd0wjLPY0qQGqE5Z5GWDBA5p5GWO5pM0BhuacRlns2QN3TCMs9jTlAWe5phOWePEDUCMs9jbA/QKgRlnsaYUFA5p5GWO7pQkAkLPc0wnJEQGG5pxGW+0VAn0ZY7mmER0Dd0wjLPQ1JQBthuacRlkpAWe5phOUeTECWexphuadNQNQIyz2NME9ACcs9jbBcUECoEZZ7GiFRQEdY7mmE5VFA5p5GWO6pUkCF5Z5GWG5TQCQs9zTCMlRAwnJPIyz3VEBhuacRlrtVQA==\", \"dtype\": \"float64\", \"order\": \"little\", \"shape\": [29]}, \"right\": {\"__ndarray__\": \"7mmE5Z5GEEDd0wjLPY0cQOaeRljuaSRA3dMIyz2NKkBqhOWeRlgwQOaeRljuaTNAYbmnEZZ7NkDd0wjLPY05QFnuaYTlnjxA1AjLPY2wP0CoEZZ7GmFBQOaeRlju6UJAJCz3NMJyREBhuacRlvtFQJ9GWO5phEdA3dMIyz0NSUAbYbmnEZZKQFnuaYTlHkxAlnsaYbmnTUDUCMs9jTBPQAnLPY2wXFBAqBGWexohUUBHWO5phOVRQOaeRljuqVJAheWeRlhuU0AkLPc0wjJUQMJyTyMs91RAYbmnEZa7VUAAAAAAAIBWQA==\", \"dtype\": \"float64\", \"order\": \"little\", \"shape\": [29]}, \"top\": [97830, 132732, 132726, 145080, 162981, 190569, 232008, 285726, 335409, 345537, 282138, 175311, 85530, 35277, 15102, 2979, 1116, 384, 213, 54, 24, 15, 0, 0, 0, 0, 0, 0, 6]}, \"selected\": {\"id\": \"1136\"}, \"selection_policy\": {\"id\": \"1137\"}}, \"id\": \"1074\", \"type\": \"ColumnDataSource\"}, {\"attributes\": {}, \"id\": \"1060\", \"type\": \"PanTool\"}, {\"attributes\": {\"bottom_units\": \"screen\", \"fill_alpha\": 0.5, \"fill_color\": \"lightgrey\", \"left_units\": \"screen\", \"level\": \"overlay\", \"line_alpha\": 1.0, \"line_color\": \"black\", \"line_dash\": [4, 4], \"line_width\": 2, \"right_units\": \"screen\", \"top_units\": \"screen\"}, \"id\": \"1066\", \"type\": \"BoxAnnotation\"}, {\"attributes\": {\"data_source\": {\"id\": \"1114\"}, \"glyph\": {\"id\": \"1115\"}, \"hover_glyph\": null, \"muted_glyph\": null, \"nonselection_glyph\": {\"id\": \"1116\"}, \"selection_glyph\": null, \"view\": {\"id\": \"1118\"}}, \"id\": \"1117\", \"type\": \"GlyphRenderer\"}, {\"attributes\": {}, \"id\": \"1127\", \"type\": \"Selection\"}, {\"attributes\": {\"bounds\": [0, 93], \"end\": 93}, \"id\": \"1120\", \"type\": \"Range1d\"}, {\"attributes\": {\"data\": {\"left\": {\"__ndarray__\": \"DuN9YdaQHEAonUseh/8dQEJXGds3bh9ArojzS3RuIEC7ZVqqzCUhQMhCwQgl3SFA1B8oZ32UIkDi/I7F1UsjQO7Z9SMuAyRA/LZcgoa6JEAIlMPg3nElQBVxKj83KSZAIk6RnY/gJkAvK/j755cnQDwIX1pATyhASeXFuJgGKUBWwiwX8b0pQGOfk3VJdSpAcHz606EsK0B9WWEy+uMrQIo2yJBSmyxAlhMv76pSLUCk8JVNAwouQLHN/KtbwS5AvapjCrR4L0DlQ2U0BhgwQGyymGOyczBA8iDMkl7PMEB4j//BCisxQA==\", \"dtype\": \"float64\", \"order\": \"little\", \"shape\": [29]}, \"right\": {\"__ndarray__\": \"KJ1LHof/HUBCVxnbN24fQK6I80t0biBAu2VaqswlIUDIQsEIJd0hQNQfKGd9lCJA4vyOxdVLI0Du2fUjLgMkQPy2XIKGuiRACJTD4N5xJUAVcSo/NykmQCJOkZ2P4CZALyv4++eXJ0A8CF9aQE8oQEnlxbiYBilAVsIsF/G9KUBjn5N1SXUqQHB8+tOhLCtAfVlhMvrjK0CKNsiQUpssQJYTL++qUi1ApPCVTQMKLkCxzfyrW8EuQL2qYwq0eC9A5UNlNAYYMEBssphjsnMwQPIgzJJezzBAeI//wQorMUD//TLxtoYxQA==\", \"dtype\": \"float64\", \"order\": \"little\", \"shape\": [29]}, \"top\": [3, 0, 0, 0, 0, 3, 3, 6, 0, 12, 3, 3, 3, 15, 6, 12, 21, 33, 42, 21, 30, 30, 18, 18, 9, 3, 3, 0, 3]}, \"selected\": {\"id\": \"1127\"}, \"selection_policy\": {\"id\": \"1128\"}}, \"id\": \"1034\", \"type\": \"ColumnDataSource\"}, {\"attributes\": {\"bottom\": {\"value\": 0}, \"fill_alpha\": {\"value\": 0.1}, \"fill_color\": {\"value\": \"blue\"}, \"left\": {\"field\": \"left\"}, \"line_alpha\": {\"value\": 0.1}, \"line_color\": {\"value\": \"blue\"}, \"right\": {\"field\": \"right\"}, \"top\": {\"field\": \"top\"}}, \"id\": \"1116\", \"type\": \"Quad\"}, {\"attributes\": {}, \"id\": \"1145\", \"type\": \"Selection\"}, {\"attributes\": {\"data_source\": {\"id\": \"1074\"}, \"glyph\": {\"id\": \"1075\"}, \"hover_glyph\": null, \"muted_glyph\": null, \"nonselection_glyph\": {\"id\": \"1076\"}, \"selection_glyph\": null, \"view\": {\"id\": \"1078\"}}, \"id\": \"1077\", \"type\": \"GlyphRenderer\"}, {\"attributes\": {\"axis_label\": \"count\", \"formatter\": {\"id\": \"1124\"}, \"ticker\": {\"id\": \"1017\"}}, \"id\": \"1016\", \"type\": \"LinearAxis\"}, {\"attributes\": {}, \"id\": \"1137\", \"type\": \"UnionRenderers\"}, {\"attributes\": {\"axis_label\": \"count\", \"formatter\": {\"id\": \"1133\"}, \"ticker\": {\"id\": \"1057\"}}, \"id\": \"1056\", \"type\": \"LinearAxis\"}, {\"attributes\": {}, \"id\": \"1008\", \"type\": \"LinearScale\"}, {\"attributes\": {}, \"id\": \"1064\", \"type\": \"ResetTool\"}, {\"attributes\": {\"source\": {\"id\": \"1034\"}}, \"id\": \"1038\", \"type\": \"CDSView\"}, {\"attributes\": {}, \"id\": \"1063\", \"type\": \"SaveTool\"}, {\"attributes\": {\"background_fill_color\": \"#F4F4F4\", \"below\": [{\"id\": \"1012\"}], \"border_fill_color\": \"#F4F4F4\", \"center\": [{\"id\": \"1015\"}, {\"id\": \"1019\"}], \"left\": [{\"id\": \"1016\"}], \"output_backend\": \"webgl\", \"plot_height\": 250, \"plot_width\": 300, \"renderers\": [{\"id\": \"1037\"}], \"title\": {\"id\": \"1002\"}, \"toolbar\": {\"id\": \"1027\"}, \"toolbar_location\": null, \"x_range\": {\"id\": \"1039\"}, \"x_scale\": {\"id\": \"1008\"}, \"y_range\": {\"id\": \"1040\"}, \"y_scale\": {\"id\": \"1010\"}}, \"id\": \"1001\", \"subtype\": \"Figure\", \"type\": \"Plot\"}, {\"attributes\": {}, \"id\": \"1146\", \"type\": \"UnionRenderers\"}, {\"attributes\": {}, \"id\": \"1017\", \"type\": \"BasicTicker\"}, {\"attributes\": {}, \"id\": \"1048\", \"type\": \"LinearScale\"}, {\"attributes\": {\"source\": {\"id\": \"1074\"}}, \"id\": \"1078\", \"type\": \"CDSView\"}, {\"attributes\": {\"overlay\": {\"id\": \"1026\"}}, \"id\": \"1022\", \"type\": \"BoxZoomTool\"}, {\"attributes\": {\"bounds\": [159, 56324], \"end\": 56324, \"start\": 159}, \"id\": \"1119\", \"type\": \"Range1d\"}, {\"attributes\": {\"source\": {\"id\": \"1114\"}}, \"id\": \"1118\", \"type\": \"CDSView\"}, {\"attributes\": {}, \"id\": \"1104\", \"type\": \"ResetTool\"}, {\"attributes\": {}, \"id\": \"1024\", \"type\": \"ResetTool\"}, {\"attributes\": {\"bottom\": {\"value\": 0}, \"fill_alpha\": {\"value\": 0.1}, \"fill_color\": {\"value\": \"blue\"}, \"left\": {\"field\": \"left\"}, \"line_alpha\": {\"value\": 0.1}, \"line_color\": {\"value\": \"blue\"}, \"right\": {\"field\": \"right\"}, \"top\": {\"field\": \"top\"}}, \"id\": \"1076\", \"type\": \"Quad\"}, {\"attributes\": {\"axis_label\": \"read length / bases\", \"formatter\": {\"id\": \"1140\"}, \"ticker\": {\"id\": \"1093\"}}, \"id\": \"1092\", \"type\": \"LinearAxis\"}, {\"attributes\": {}, \"id\": \"1090\", \"type\": \"LinearScale\"}, {\"attributes\": {}, \"id\": \"1020\", \"type\": \"PanTool\"}, {\"attributes\": {\"bounds\": [7.141442797955063, 17.526228976201306], \"end\": 17.526228976201306, \"start\": 7.141442797955063}, \"id\": \"1039\", \"type\": \"Range1d\"}, {\"attributes\": {\"bounds\": [0, 42], \"end\": 42}, \"id\": \"1040\", \"type\": \"Range1d\"}, {\"attributes\": {\"toolbar\": {\"id\": \"1149\"}, \"toolbar_location\": \"above\"}, \"id\": \"1150\", \"type\": \"ToolbarBox\"}, {\"attributes\": {}, \"id\": \"1053\", \"type\": \"BasicTicker\"}, {\"attributes\": {\"data\": {\"left\": {\"__ndarray__\": \"AAAAAADgY0As9zTCcl+gQFjuaYTlgK9AwnJPIyxRt0BY7mmE5eG+QPc0wnJPOcNAwnJPI6wBx0CNsNzTCMrKQFjuaYRlks5AEpZ7GmEt0UD3NMJyjxHTQNzTCMu99dRAwnJPI+zZ1kCoEZZ7Gr7YQI2w3NNIotpAck8jLHeG3EBY7mmEpWreQJ9GWO5pJ+BAEpZ7GoEZ4UCE5Z5GmAviQPc0wnKv/eJAaoTlnsbv40Dc0wjL3eHkQE8jLPf00+VAwnJPIwzG5kA1wnJPI7jnQKgRlns6quhAGmG5p1Gc6UCNsNzTaI7qQA==\", \"dtype\": \"float64\", \"order\": \"little\", \"shape\": [29]}, \"right\": {\"__ndarray__\": \"LPc0wnJfoEBY7mmE5YCvQMJyTyMsUbdAWO5phOXhvkD3NMJyTznDQMJyTyOsAcdAjbDc0wjKykBY7mmEZZLOQBKWexphLdFA9zTCco8R00Dc0wjLvfXUQMJyTyPs2dZAqBGWexq+2ECNsNzTSKLaQHJPIyx3htxAWO5phKVq3kCfRljuaSfgQBKWexqBGeFAhOWeRpgL4kD3NMJyr/3iQGqE5Z7G7+NA3NMIy93h5EBPIyz39NPlQMJyTyMMxuZANcJyTyO450CoEZZ7OqroQBphuadRnOlAjbDc02iO6kAAAAAAgIDrQA==\", \"dtype\": \"float64\", \"order\": \"little\", \"shape\": [29]}, \"top\": [93, 51, 42, 18, 18, 12, 12, 6, 0, 6, 6, 3, 6, 0, 0, 0, 3, 3, 6, 3, 0, 0, 6, 0, 3, 0, 0, 0, 3]}, \"selected\": {\"id\": \"1145\"}, \"selection_policy\": {\"id\": \"1146\"}}, \"id\": \"1114\", \"type\": \"ColumnDataSource\"}, {\"attributes\": {}, \"id\": \"1021\", \"type\": \"WheelZoomTool\"}, {\"attributes\": {\"overlay\": {\"id\": \"1066\"}}, \"id\": \"1062\", \"type\": \"BoxZoomTool\"}, {\"attributes\": {\"background_fill_color\": \"#F4F4F4\", \"below\": [{\"id\": \"1092\"}], \"border_fill_color\": \"#F4F4F4\", \"center\": [{\"id\": \"1095\"}, {\"id\": \"1099\"}], \"left\": [{\"id\": \"1096\"}], \"output_backend\": \"webgl\", \"plot_height\": 250, \"plot_width\": 300, \"renderers\": [{\"id\": \"1117\"}], \"title\": {\"id\": \"1082\"}, \"toolbar\": {\"id\": \"1107\"}, \"toolbar_location\": null, \"x_range\": {\"id\": \"1119\"}, \"x_scale\": {\"id\": \"1088\"}, \"y_range\": {\"id\": \"1120\"}, \"y_scale\": {\"id\": \"1090\"}}, \"id\": \"1081\", \"subtype\": \"Figure\", \"type\": \"Plot\"}, {\"attributes\": {}, \"id\": \"1057\", \"type\": \"BasicTicker\"}, {\"attributes\": {}, \"id\": \"1093\", \"type\": \"BasicTicker\"}, {\"attributes\": {}, \"id\": \"1010\", \"type\": \"LinearScale\"}, {\"attributes\": {\"active_drag\": \"auto\", \"active_inspect\": \"auto\", \"active_multi\": null, \"active_scroll\": \"auto\", \"active_tap\": \"auto\", \"tools\": [{\"id\": \"1060\"}, {\"id\": \"1061\"}, {\"id\": \"1062\"}, {\"id\": \"1063\"}, {\"id\": \"1064\"}, {\"id\": \"1065\"}]}, \"id\": \"1067\", \"type\": \"Toolbar\"}, {\"attributes\": {\"axis_label\": \"quality\", \"formatter\": {\"id\": \"1122\"}, \"ticker\": {\"id\": \"1013\"}}, \"id\": \"1012\", \"type\": \"LinearAxis\"}, {\"attributes\": {\"axis\": {\"id\": \"1012\"}, \"ticker\": null}, \"id\": \"1015\", \"type\": \"Grid\"}, {\"attributes\": {\"text\": \"Read lengths\"}, \"id\": \"1082\", \"type\": \"Title\"}, {\"attributes\": {\"bottom\": {\"value\": 0}, \"fill_alpha\": {\"value\": 0.6}, \"fill_color\": {\"value\": \"blue\"}, \"left\": {\"field\": \"left\"}, \"line_alpha\": {\"value\": 0.6}, \"line_color\": {\"value\": \"blue\"}, \"right\": {\"field\": \"right\"}, \"top\": {\"field\": \"top\"}}, \"id\": \"1035\", \"type\": \"Quad\"}, {\"attributes\": {\"axis\": {\"id\": \"1092\"}, \"ticker\": null}, \"id\": \"1095\", \"type\": \"Grid\"}, {\"attributes\": {}, \"id\": \"1088\", \"type\": \"LinearScale\"}, {\"attributes\": {}, \"id\": \"1128\", \"type\": \"UnionRenderers\"}, {\"attributes\": {}, \"id\": \"1122\", \"type\": \"BasicTickFormatter\"}, {\"attributes\": {}, \"id\": \"1136\", \"type\": \"Selection\"}, {\"attributes\": {}, \"id\": \"1103\", \"type\": \"SaveTool\"}, {\"attributes\": {}, \"id\": \"1105\", \"type\": \"HelpTool\"}, {\"attributes\": {}, \"id\": \"1023\", \"type\": \"SaveTool\"}, {\"attributes\": {}, \"id\": \"1065\", \"type\": \"HelpTool\"}, {\"attributes\": {\"bottom\": {\"value\": 0}, \"fill_alpha\": {\"value\": 0.6}, \"fill_color\": {\"value\": \"blue\"}, \"left\": {\"field\": \"left\"}, \"line_alpha\": {\"value\": 0.6}, \"line_color\": {\"value\": \"blue\"}, \"right\": {\"field\": \"right\"}, \"top\": {\"field\": \"top\"}}, \"id\": \"1115\", \"type\": \"Quad\"}, {\"attributes\": {\"bottom_units\": \"screen\", \"fill_alpha\": 0.5, \"fill_color\": \"lightgrey\", \"left_units\": \"screen\", \"level\": \"overlay\", \"line_alpha\": 1.0, \"line_color\": \"black\", \"line_dash\": [4, 4], \"line_width\": 2, \"right_units\": \"screen\", \"top_units\": \"screen\"}, \"id\": \"1026\", \"type\": \"BoxAnnotation\"}, {\"attributes\": {\"toolbars\": [{\"id\": \"1027\"}, {\"id\": \"1067\"}, {\"id\": \"1107\"}], \"tools\": [{\"id\": \"1020\"}, {\"id\": \"1021\"}, {\"id\": \"1022\"}, {\"id\": \"1023\"}, {\"id\": \"1024\"}, {\"id\": \"1025\"}, {\"id\": \"1060\"}, {\"id\": \"1061\"}, {\"id\": \"1062\"}, {\"id\": \"1063\"}, {\"id\": \"1064\"}, {\"id\": \"1065\"}, {\"id\": \"1100\"}, {\"id\": \"1101\"}, {\"id\": \"1102\"}, {\"id\": \"1103\"}, {\"id\": \"1104\"}, {\"id\": \"1105\"}]}, \"id\": \"1149\", \"type\": \"ProxyToolbar\"}, {\"attributes\": {\"axis_label\": \"quality\", \"formatter\": {\"id\": \"1131\"}, \"ticker\": {\"id\": \"1053\"}}, \"id\": \"1052\", \"type\": \"LinearAxis\"}, {\"attributes\": {\"axis\": {\"id\": \"1052\"}, \"ticker\": null}, \"id\": \"1055\", \"type\": \"Grid\"}, {\"attributes\": {\"axis\": {\"id\": \"1096\"}, \"dimension\": 1, \"ticker\": null}, \"id\": \"1099\", \"type\": \"Grid\"}, {\"attributes\": {\"active_drag\": \"auto\", \"active_inspect\": \"auto\", \"active_multi\": null, \"active_scroll\": \"auto\", \"active_tap\": \"auto\", \"tools\": [{\"id\": \"1100\"}, {\"id\": \"1101\"}, {\"id\": \"1102\"}, {\"id\": \"1103\"}, {\"id\": \"1104\"}, {\"id\": \"1105\"}]}, \"id\": \"1107\", \"type\": \"Toolbar\"}, {\"attributes\": {\"bounds\": [1, 90], \"end\": 90, \"start\": 1}, \"id\": \"1079\", \"type\": \"Range1d\"}, {\"attributes\": {\"children\": [{\"id\": \"1150\"}, {\"id\": \"1148\"}]}, \"id\": \"1151\", \"type\": \"Column\"}, {\"attributes\": {\"bounds\": [0, 345537], \"end\": 345537}, \"id\": \"1080\", \"type\": \"Range1d\"}, {\"attributes\": {}, \"id\": \"1025\", \"type\": \"HelpTool\"}, {\"attributes\": {}, \"id\": \"1142\", \"type\": \"BasicTickFormatter\"}, {\"attributes\": {\"axis\": {\"id\": \"1056\"}, \"dimension\": 1, \"ticker\": null}, \"id\": \"1059\", \"type\": \"Grid\"}, {\"attributes\": {\"text\": \"Base quality scores\"}, \"id\": \"1042\", \"type\": \"Title\"}, {\"attributes\": {\"active_drag\": \"auto\", \"active_inspect\": \"auto\", \"active_multi\": null, \"active_scroll\": \"auto\", \"active_tap\": \"auto\", \"tools\": [{\"id\": \"1020\"}, {\"id\": \"1021\"}, {\"id\": \"1022\"}, {\"id\": \"1023\"}, {\"id\": \"1024\"}, {\"id\": \"1025\"}]}, \"id\": \"1027\", \"type\": \"Toolbar\"}, {\"attributes\": {\"bottom_units\": \"screen\", \"fill_alpha\": 0.5, \"fill_color\": \"lightgrey\", \"left_units\": \"screen\", \"level\": \"overlay\", \"line_alpha\": 1.0, \"line_color\": \"black\", \"line_dash\": [4, 4], \"line_width\": 2, \"right_units\": \"screen\", \"top_units\": \"screen\"}, \"id\": \"1106\", \"type\": \"BoxAnnotation\"}, {\"attributes\": {\"background_fill_color\": \"#F4F4F4\", \"below\": [{\"id\": \"1052\"}], \"border_fill_color\": \"#F4F4F4\", \"center\": [{\"id\": \"1055\"}, {\"id\": \"1059\"}], \"left\": [{\"id\": \"1056\"}], \"output_backend\": \"webgl\", \"plot_height\": 250, \"plot_width\": 300, \"renderers\": [{\"id\": \"1077\"}], \"title\": {\"id\": \"1042\"}, \"toolbar\": {\"id\": \"1067\"}, \"toolbar_location\": null, \"x_range\": {\"id\": \"1079\"}, \"x_scale\": {\"id\": \"1048\"}, \"y_range\": {\"id\": \"1080\"}, \"y_scale\": {\"id\": \"1050\"}}, \"id\": \"1041\", \"subtype\": \"Figure\", \"type\": \"Plot\"}, {\"attributes\": {}, \"id\": \"1100\", \"type\": \"PanTool\"}, {\"attributes\": {\"overlay\": {\"id\": \"1106\"}}, \"id\": \"1102\", \"type\": \"BoxZoomTool\"}, {\"attributes\": {\"data_source\": {\"id\": \"1034\"}, \"glyph\": {\"id\": \"1035\"}, \"hover_glyph\": null, \"muted_glyph\": null, \"nonselection_glyph\": {\"id\": \"1036\"}, \"selection_glyph\": null, \"view\": {\"id\": \"1038\"}}, \"id\": \"1037\", \"type\": \"GlyphRenderer\"}, {\"attributes\": {}, \"id\": \"1124\", \"type\": \"BasicTickFormatter\"}, {\"attributes\": {}, \"id\": \"1131\", \"type\": \"BasicTickFormatter\"}, {\"attributes\": {\"bottom\": {\"value\": 0}, \"fill_alpha\": {\"value\": 0.1}, \"fill_color\": {\"value\": \"blue\"}, \"left\": {\"field\": \"left\"}, \"line_alpha\": {\"value\": 0.1}, \"line_color\": {\"value\": \"blue\"}, \"right\": {\"field\": \"right\"}, \"top\": {\"field\": \"top\"}}, \"id\": \"1036\", \"type\": \"Quad\"}, {\"attributes\": {}, \"id\": \"1097\", \"type\": \"BasicTicker\"}, {\"attributes\": {}, \"id\": \"1101\", \"type\": \"WheelZoomTool\"}, {\"attributes\": {\"text\": \"Read quality scores\"}, \"id\": \"1002\", \"type\": \"Title\"}, {\"attributes\": {}, \"id\": \"1050\", \"type\": \"LinearScale\"}, {\"attributes\": {\"bottom\": {\"value\": 0}, \"fill_alpha\": {\"value\": 0.6}, \"fill_color\": {\"value\": \"blue\"}, \"left\": {\"field\": \"left\"}, \"line_alpha\": {\"value\": 0.6}, \"line_color\": {\"value\": \"blue\"}, \"right\": {\"field\": \"right\"}, \"top\": {\"field\": \"top\"}}, \"id\": \"1075\", \"type\": \"Quad\"}, {\"attributes\": {\"axis\": {\"id\": \"1016\"}, \"dimension\": 1, \"ticker\": null}, \"id\": \"1019\", \"type\": \"Grid\"}, {\"attributes\": {}, \"id\": \"1133\", \"type\": \"BasicTickFormatter\"}, {\"attributes\": {}, \"id\": \"1140\", \"type\": \"BasicTickFormatter\"}, {\"attributes\": {\"axis_label\": \"count\", \"formatter\": {\"id\": \"1142\"}, \"ticker\": {\"id\": \"1097\"}}, \"id\": \"1096\", \"type\": \"LinearAxis\"}, {\"attributes\": {}, \"id\": \"1061\", \"type\": \"WheelZoomTool\"}], \"root_ids\": [\"1151\"]}, \"title\": \"Bokeh Application\", \"version\": \"2.2.3\"}};\n",
       "  var render_items = [{\"docid\":\"32788724-a6a7-4944-be38-cea6c1b1eb52\",\"root_ids\":[\"1151\"],\"roots\":{\"1151\":\"c20a7444-72f4-4d3a-b2d0-87dc8a57faf6\"}}];\n",
       "  root.Bokeh.embed.embed_items_notebook(docs_json, render_items);\n",
       "\n",
       "  }\n",
       "  if (root.Bokeh !== undefined) {\n",
       "    embed_document(root);\n",
       "  } else {\n",
       "    var attempts = 0;\n",
       "    var timer = setInterval(function(root) {\n",
       "      if (root.Bokeh !== undefined) {\n",
       "        clearInterval(timer);\n",
       "        embed_document(root);\n",
       "      } else {\n",
       "        attempts++;\n",
       "        if (attempts > 100) {\n",
       "          clearInterval(timer);\n",
       "          console.log(\"Bokeh: ERROR: Unable to run BokehJS code because BokehJS library is missing\");\n",
       "        }\n",
       "      }\n",
       "    }, 10, root)\n",
       "  }\n",
       "})(window);"
      ],
      "application/vnd.bokehjs_exec.v0+json": ""
     },
     "metadata": {
      "application/vnd.bokehjs_exec.v0+json": {
       "id": "1151"
      }
     },
     "output_type": "display_data"
    }
   ],
   "source": [
    "# plotting basic summary graphs\n",
    "pinger.send_notebook_ping('stop', 'fastq_introduction')\n",
    "\n",
    "import numpy as np\n",
    "from pysam import FastxFile\n",
    "from bokeh.layouts import gridplot\n",
    "\n",
    "qualities = list()\n",
    "mean_qualities = list()\n",
    "lengths = list()\n",
    "\n",
    "# open the file and iterate through its records\n",
    "with FastxFile(\"all_records.fastq\") as fq:\n",
    "    for rec in fq:\n",
    "        # ONT calculation for \"mean Q score\"\n",
    "        quals = np.fromiter(\n",
    "            (ord(x) - 33 for x in rec.quality),\n",
    "            dtype=int, count=len(rec.quality))\n",
    "        mean_p = np.mean(np.power(10, quals/-10))\n",
    "        mean_qualities.append(-10*np.log10(mean_p))\n",
    "        # all qualities\n",
    "        qualities.extend(quals)\n",
    "        lengths.append(len(quals))\n",
    "\n",
    "# use the aplanat library to plot some graphs of the\n",
    "# collected statistics\n",
    "import aplanat\n",
    "from aplanat.hist import histogram\n",
    "\n",
    "p1 = histogram(\n",
    "    [np.array(mean_qualities)], title=\"Read quality scores\",\n",
    "    x_axis_label=\"quality\", y_axis_label=\"count\",\n",
    "    height=250, width=300)\n",
    "p2 = histogram(\n",
    "    [qualities], title=\"Base quality scores\",\n",
    "    x_axis_label=\"quality\", y_axis_label=\"count\",\n",
    "    height=250, width=300)\n",
    "p3 = histogram(\n",
    "    [lengths], title=\"Read lengths\",\n",
    "    x_axis_label=\"read length / bases\", y_axis_label=\"count\",\n",
    "    height=250, width=300)\n",
    "aplanat.show(gridplot((p1, p2, p3), ncols=3), background=\"#f4f4f4\")"
   ]
  }
 ],
 "metadata": {
  "colab": {
   "collapsed_sections": [
    "Yu8wQ5mc-69P",
    "vOwokQTOIZ0N",
    "huYtv1u3JDXn",
    "SXx3keHyNPKS",
    "qPBWIDOcVE6L",
    "IXvB3Kpq3MQJ"
   ],
   "include_colab_link": true,
   "name": "Introduction to .fastq file",
   "provenance": [],
   "toc_visible": true
  },
  "kernelspec": {
   "display_name": "Python 3",
   "language": "python",
   "name": "python3"
  },
  "language_info": {
   "codemirror_mode": {
    "name": "ipython",
    "version": 3
   },
   "file_extension": ".py",
   "mimetype": "text/x-python",
   "name": "python",
   "nbconvert_exporter": "python",
   "pygments_lexer": "ipython3",
   "version": "3.8.6"
  }
 },
 "nbformat": 4,
 "nbformat_minor": 4
}
