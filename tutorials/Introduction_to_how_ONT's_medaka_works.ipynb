{
 "cells": [
  {
   "cell_type": "markdown",
   "metadata": {
    "colab_type": "text",
    "id": "Y8OphKkrzRXq"
   },
   "source": [
    "<h1>How medaka works</h1>\n",
    "\n",
    "\n",
    "The following is a relatively short document describing how Oxford Nanopore Technologies' program for consensus calling of sequencing data, `medaka`, functions internally. We will demonstrate the core functionality required to process alignment data, how it is presented to a recurrent neural network, and how a consensus sequence is formed."
   ]
  },
  {
   "cell_type": "markdown",
   "metadata": {
    "colab_type": "text",
    "id": "ZMhjoLNaP6Ku"
   },
   "source": [
    "## Getting started\n",
    "\n",
    "Before anything else we will create and set a working directory:"
   ]
  },
  {
   "cell_type": "code",
   "execution_count": 1,
   "metadata": {
    "autorun": false,
    "colab": {
     "base_uri": "https://localhost:8080/",
     "height": 34
    },
    "colab_type": "code",
    "id": "MVacV0gxWwel",
    "outputId": "140d06c1-aae3-42d2-ed99-e5237fccc709"
   },
   "outputs": [
    {
     "name": "stdout",
     "output_type": "stream",
     "text": [
      "/epi2melabs/medaka_walkthrough\n"
     ]
    }
   ],
   "source": [
    "from epi2melabs import ping\n",
    "tutorial_name = \"medaka_walkthrough\"\n",
    "pinger = ping.Pingu()\n",
    "\n",
    "# create a work directory and move into it\n",
    "working_dir = '/epi2melabs/{}/'.format(tutorial_name)\n",
    "!mkdir -p \"$working_dir\"\n",
    "%cd \"$working_dir\""
   ]
  },
  {
   "cell_type": "markdown",
   "metadata": {
    "colab_type": "text",
    "id": "DhwqwvbD1e5s"
   },
   "source": [
    "## Medaka's input\n",
    "\n",
    "As input the core `medaka` algorithm accepts sequencing reads aligned to an assembly sequence. If you have run the `medaka_consensus` pipeline you will have given as input an assembly sequence and your sequencing data. The pipeline simply runs [`minimap2`](https://https://github.com/lh3/minimap2) to calculate alignments of the reads to the assembly.\n",
    "\n",
    "For the purposes of this demonstration we will download pre-aligned data from an R9.4.1 MinION sequencing run:"
   ]
  },
  {
   "cell_type": "code",
   "execution_count": null,
   "metadata": {
    "colab": {},
    "colab_type": "code",
    "id": "xiEyr06dzFmH"
   },
   "outputs": [],
   "source": [
    "!wget https://ont-research.s3-eu-west-1.amazonaws.com/datasets/r941_zymo/references.fasta \\\n",
    "    && wget https://ont-research.s3-eu-west-1.amazonaws.com/labs_resources/misc/saureus.bam \\\n",
    "    && wget https://ont-research.s3-eu-west-1.amazonaws.com/labs_resources/misc/saureus.bam.bai \\\n",
    "    && wget https://ont-research.s3-eu-west-1.amazonaws.com/labs_resources/misc/saureus_canu.fasta"
   ]
  },
  {
   "cell_type": "markdown",
   "metadata": {
    "colab_type": "text",
    "id": "VOcZ6zBD90zz"
   },
   "source": [
    "The downloaded `saureus.bam` file contains alignments of sequencing reads to the downloaded `saureus_canu.fasta`. The depth of sequencing has been reduced to around 150-fold coverage of the genome."
   ]
  },
  {
   "cell_type": "markdown",
   "metadata": {
    "colab_type": "text",
    "id": "Gy7qtmCJ-nyH"
   },
   "source": [
    "# Diving in: counting bases\n",
    "\n",
    "The first step of `medaka`'s calculation is to parse the alignment data into a base counts table ready for input to the neural network. In this section we explore the functions responsible for doing this, how exactly counting is performed and what the results may represent.\n",
    "\n"
   ]
  },
  {
   "cell_type": "markdown",
   "metadata": {
    "colab_type": "text",
    "id": "ea9FOGnhBUJO"
   },
   "source": [
    "## Pileup interface\n",
    "\n",
    "At the heart of `medaka` resides a straight-forward base-counting procedure. From the alignment data comparing sequencing reads to the reference sequence a pileup is created, much like the display and alignment viewer such as [IGV](https://software.broadinstitute.org/software/igv/) would display.\n",
    "\n",
    "The pileup is summarise by counting the different base types contained within its columns. The function responsible for this counting excercise is called `pileup_counts` in the [`features`](https://github.com/nanoporetech/medaka/blob/d195b9cc1ee7681a121be9fe4fb016a00744ef47/medaka/features.py#L109) module:"
   ]
  },
  {
   "cell_type": "code",
   "execution_count": 3,
   "metadata": {
    "colab": {
     "base_uri": "https://localhost:8080/",
     "height": 377
    },
    "colab_type": "code",
    "id": "RGv0datQAbDH",
    "outputId": "e0b5b0f7-09b2-40e5-dfb7-10208f4fceeb"
   },
   "outputs": [
    {
     "name": "stdout",
     "output_type": "stream",
     "text": [
      "Help on function pileup_counts in module medaka.features:\n",
      "\n",
      "pileup_counts(region, bam, dtype_prefixes=None, region_split=100000, workers=8, tag_name=None, tag_value=None, keep_missing=False, num_qstrat=1, weibull_summation=False, read_group=None)\n",
      "    Create pileup counts feature array for region.\n",
      "    \n",
      "    :param region: `medaka.common.Region` object\n",
      "    :param bam: .bam file with alignments.\n",
      "    :param dtype_prefixes: prefixes for query names which to separate counts.\n",
      "        If `None` (or of length 1), counts are not split.\n",
      "    :param region_split: largest region to process in single thread.\n",
      "        Regions are processed in parallel and stitched before being returned.\n",
      "    :param workers: worker threads for calculating pileup.\n",
      "    :param tag_name: two letter tag name by which to filter reads.\n",
      "    :param tag_value: integer value of tag for reads to keep.\n",
      "    :param keep_missing: whether to keep reads when tag is missing.\n",
      "    :param num_qstrat: number of layers for qscore stratification.\n",
      "    :param weibull_summation: use a Weibull partial-counts approach,\n",
      "        requires 'WL' and 'WK' float-array tags.\n",
      "    \n",
      "    :returns: iterator of tuples\n",
      "        (pileup counts array, reference positions, insertion positions)\n",
      "        Multiple chunks are returned if there are discontinuities in\n",
      "        positions caused e.g. by gaps in coverage.\n",
      "\n"
     ]
    }
   ],
   "source": [
    "from medaka.features import pileup_counts\n",
    "help(pileup_counts)"
   ]
  },
  {
   "cell_type": "markdown",
   "metadata": {
    "colab_type": "text",
    "id": "Qq3dTUG1Wd-R"
   },
   "source": [
    "The `pileup_counts` function above has various arguments, most of which are advanced options and not used within the default operation of medaka. To create a counts matrix we call the function with a Samtools-style region string (`medaka` uses 0-based end exclusive co-ordinates) and a filepath to our alignment file:"
   ]
  },
  {
   "cell_type": "code",
   "execution_count": 4,
   "metadata": {
    "colab": {
     "base_uri": "https://localhost:8080/",
     "height": 34
    },
    "colab_type": "code",
    "id": "pGYE6i8yB85_",
    "outputId": "73d10276-5394-4a88-fb1e-a2e2b676ae4e"
   },
   "outputs": [
    {
     "name": "stdout",
     "output_type": "stream",
     "text": [
      "1.66s to form pileup counts.\n"
     ]
    }
   ],
   "source": [
    "from timeit import default_timer as now\n",
    "from medaka.common import Region\n",
    "\n",
    "t0 = now()\n",
    "region = Region.from_string('tig00000061:0-1499707')\n",
    "bam_file = 'saureus.bam'\n",
    "pileup_data = pileup_counts(region, bam_file)\n",
    "pileup_data = pileup_data[0]  # implementation detail that need not trouble us\n",
    "counts, positions = pileup_data\n",
    "t1 = now()\n",
    "print(\"{:.2f}s to form pileup counts.\".format(t1 - t0))"
   ]
  },
  {
   "cell_type": "markdown",
   "metadata": {
    "colab_type": "text",
    "id": "WUaJ09Eq5g7J"
   },
   "source": [
    "### The counts matrix\n",
    "\n",
    "The `pileup_counts` function returned two structures. The latter of these is a positions table, this records which pileup columns are reference positions and which are caused by inserted bases in one or more reads:\n"
   ]
  },
  {
   "cell_type": "code",
   "execution_count": 5,
   "metadata": {
    "colab": {
     "base_uri": "https://localhost:8080/",
     "height": 68
    },
    "colab_type": "code",
    "id": "xlbWIC3iMoPJ",
    "outputId": "1371aebb-8d8a-4230-c1b6-da0d772755b8"
   },
   "outputs": [
    {
     "data": {
      "text/plain": [
       "array([(      0, 0), (      1, 0), (      2, 0), ..., (1499704, 0),\n",
       "       (1499705, 0), (1499706, 0)],\n",
       "      dtype=[('major', '<i8'), ('minor', '<i8')])"
      ]
     },
     "metadata": {},
     "output_type": "display_data"
    }
   ],
   "source": [
    "display(positions)"
   ]
  },
  {
   "cell_type": "markdown",
   "metadata": {
    "colab_type": "text",
    "id": "lwG1D7GkMoYT"
   },
   "source": [
    "The field `minor` in the above array indicates reference and insertion columns: it takes a value `0` for a reference position and counts upwards for all following insertion events. The `major` field keeps track of the reference base co-ordinate.\n",
    "\n",
    "The base counts themselves from the alignment pileup are stored separately:"
   ]
  },
  {
   "cell_type": "code",
   "execution_count": 6,
   "metadata": {
    "colab": {
     "base_uri": "https://localhost:8080/",
     "height": 153
    },
    "colab_type": "code",
    "id": "ncxpeIgSDNv4",
    "outputId": "239b4aec-e861-49af-d254-0cf239a38575"
   },
   "outputs": [
    {
     "data": {
      "text/plain": [
       "(3508694, 10)"
      ]
     },
     "metadata": {},
     "output_type": "display_data"
    },
    {
     "data": {
      "text/plain": [
       "array([[0, 0, 0, ..., 0, 0, 0],\n",
       "       [0, 0, 0, ..., 0, 0, 0],\n",
       "       [0, 0, 0, ..., 4, 0, 0],\n",
       "       ...,\n",
       "       [0, 0, 0, ..., 2, 0, 0],\n",
       "       [0, 0, 0, ..., 2, 0, 0],\n",
       "       [0, 0, 0, ..., 0, 0, 0]], dtype=uint64)"
      ]
     },
     "metadata": {},
     "output_type": "display_data"
    }
   ],
   "source": [
    "display(counts.shape)\n",
    "display(counts)"
   ]
  },
  {
   "cell_type": "markdown",
   "metadata": {
    "colab_type": "text",
    "id": "cJQvo-n9_3H3"
   },
   "source": [
    "The matrix is of shape (# pileup columns, 10), each row of the matrix corresponds to the counts of bases and gaps in the pileup columns (yes, the rows and columns get confusing). There are 10 entries one each for the fours base types and gap, multiplied by two as reads on the forward and reverse strand are counted separately. The ordering of the entries is given by: "
   ]
  },
  {
   "cell_type": "code",
   "execution_count": 7,
   "metadata": {
    "colab": {
     "base_uri": "https://localhost:8080/",
     "height": 34
    },
    "colab_type": "code",
    "id": "YsIWk-gl3YVZ",
    "outputId": "3ab75675-cd9f-4492-e128-25a6ff2c70fb"
   },
   "outputs": [
    {
     "data": {
      "text/plain": [
       "'a,c,g,t,A,C,G,T,d,D'"
      ]
     },
     "metadata": {},
     "output_type": "display_data"
    }
   ],
   "source": [
    "from medaka.features import libmedaka\n",
    "ffi, lib = libmedaka.ffi, libmedaka.lib\n",
    "plp_bases = lib.plp_bases\n",
    "codes = ffi.string(plp_bases).decode()\n",
    "display(','.join(codes))"
   ]
  },
  {
   "cell_type": "markdown",
   "metadata": {
    "colab_type": "text",
    "id": "SoYRd_TZJiWP"
   },
   "source": [
    "in which lower-case letters denote reverse strand counts (upper case, forward) and 'd' and 'D' count deletions. A point of note is that this counting strategy it itself makes a distinction between bases which are deleted in reads with respect to reference sequence and bases which are deleted in reads with respect to other reads (the bases in the other reads being insertions with respect to the reference). Previous versions of `medaka` have performed a symmetrization here: by adding in deletion counts for all read that span a pileup column, whether that pileup column is a reference position (`minor=0`) or an insertion column (`minor>0`).\n",
    "\n"
   ]
  },
  {
   "cell_type": "markdown",
   "metadata": {
    "colab_type": "text",
    "id": "wGACVcMQVukJ"
   },
   "source": [
    "## Normalization\n",
    "\n",
    "After obtained the base-counts matrix produced in the section above `medaka` performs a normalization of the counts. Across the pileup columns, all count vectors with equal corresponding `major` position index are normalized by the total count for the column with `minor=0` (the reference position). This choice of normalization accounts for the lack of symmetry described above, and that whilst consensus insertions are typically rare, isolated insertions may still occur within any one read spanning two reference positions. There are on average up to three pileup columns for every input reference position.\n",
    "\n",
    "Ordinarily this normalization is performed in a [post-processing](https://github.com/nanoporetech/medaka/blob/d195b9cc1ee7681a121be9fe4fb016a00744ef47/medaka/features.py#L372) method of the `CountsFeatureEncoder` class, for the purposes of exposition the operation under normal behaviour is:"
   ]
  },
  {
   "cell_type": "code",
   "execution_count": 8,
   "metadata": {
    "colab": {
     "base_uri": "https://localhost:8080/",
     "height": 136
    },
    "colab_type": "code",
    "id": "oGd1JXR4YemM",
    "outputId": "d91f690c-584c-40a2-d56b-5a4f152501a2"
   },
   "outputs": [
    {
     "data": {
      "text/plain": [
       "array([[0., 0., 0., ..., 0., 0., 0.],\n",
       "       [0., 0., 0., ..., 0., 0., 0.],\n",
       "       [0., 0., 0., ..., 1., 0., 0.],\n",
       "       ...,\n",
       "       [0., 0., 0., ..., 1., 0., 0.],\n",
       "       [0., 0., 0., ..., 1., 0., 0.],\n",
       "       [0., 0., 0., ..., 0., 0., 0.]])"
      ]
     },
     "metadata": {},
     "output_type": "display_data"
    }
   ],
   "source": [
    "import numpy as np\n",
    "minor_inds = np.where(positions['minor'] > 0)\n",
    "major_pos_at_minor_inds = positions['major'][minor_inds]\n",
    "major_ind_at_minor_inds = np.searchsorted(\n",
    "    positions['major'], major_pos_at_minor_inds, side='left')\n",
    "\n",
    "depth = np.sum(counts, axis=1)\n",
    "depth[minor_inds] = depth[major_ind_at_minor_inds]\n",
    "\n",
    "feature_array = counts / np.maximum(1, depth).reshape((-1, 1))\n",
    "display(feature_array)"
   ]
  },
  {
   "cell_type": "markdown",
   "metadata": {
    "colab_type": "text",
    "id": "4YjHmTTxaEnt"
   },
   "source": [
    "The normalization is across all bases, it is not split by strand; splitting the normalization by strand would potentially lose important information with respect to strand bias and relative errors. The plot below visualizes the final input to the neural network used in `medaka`."
   ]
  },
  {
   "cell_type": "code",
   "execution_count": 18,
   "metadata": {
    "cellView": "form",
    "colab": {
     "base_uri": "https://localhost:8080/",
     "height": 317
    },
    "colab_type": "code",
    "id": "kUKQRFL6a6mV",
    "outputId": "2f98ba5e-9907-4f9e-9a41-d7c65790255d",
    "partialCollapse": true,
    "tags": []
   },
   "outputs": [
    {
     "data": {
      "application/javascript": [
       "\n",
       "(function(root) {\n",
       "  function now() {\n",
       "    return new Date();\n",
       "  }\n",
       "\n",
       "  var force = true;\n",
       "\n",
       "  if (typeof root._bokeh_onload_callbacks === \"undefined\" || force === true) {\n",
       "    root._bokeh_onload_callbacks = [];\n",
       "    root._bokeh_is_loading = undefined;\n",
       "  }\n",
       "\n",
       "  var JS_MIME_TYPE = 'application/javascript';\n",
       "  var HTML_MIME_TYPE = 'text/html';\n",
       "  var EXEC_MIME_TYPE = 'application/vnd.bokehjs_exec.v0+json';\n",
       "  var CLASS_NAME = 'output_bokeh rendered_html';\n",
       "\n",
       "  /**\n",
       "   * Render data to the DOM node\n",
       "   */\n",
       "  function render(props, node) {\n",
       "    var script = document.createElement(\"script\");\n",
       "    node.appendChild(script);\n",
       "  }\n",
       "\n",
       "  /**\n",
       "   * Handle when an output is cleared or removed\n",
       "   */\n",
       "  function handleClearOutput(event, handle) {\n",
       "    var cell = handle.cell;\n",
       "\n",
       "    var id = cell.output_area._bokeh_element_id;\n",
       "    var server_id = cell.output_area._bokeh_server_id;\n",
       "    // Clean up Bokeh references\n",
       "    if (id != null && id in Bokeh.index) {\n",
       "      Bokeh.index[id].model.document.clear();\n",
       "      delete Bokeh.index[id];\n",
       "    }\n",
       "\n",
       "    if (server_id !== undefined) {\n",
       "      // Clean up Bokeh references\n",
       "      var cmd = \"from bokeh.io.state import curstate; print(curstate().uuid_to_server['\" + server_id + \"'].get_sessions()[0].document.roots[0]._id)\";\n",
       "      cell.notebook.kernel.execute(cmd, {\n",
       "        iopub: {\n",
       "          output: function(msg) {\n",
       "            var id = msg.content.text.trim();\n",
       "            if (id in Bokeh.index) {\n",
       "              Bokeh.index[id].model.document.clear();\n",
       "              delete Bokeh.index[id];\n",
       "            }\n",
       "          }\n",
       "        }\n",
       "      });\n",
       "      // Destroy server and session\n",
       "      var cmd = \"import bokeh.io.notebook as ion; ion.destroy_server('\" + server_id + \"')\";\n",
       "      cell.notebook.kernel.execute(cmd);\n",
       "    }\n",
       "  }\n",
       "\n",
       "  /**\n",
       "   * Handle when a new output is added\n",
       "   */\n",
       "  function handleAddOutput(event, handle) {\n",
       "    var output_area = handle.output_area;\n",
       "    var output = handle.output;\n",
       "\n",
       "    // limit handleAddOutput to display_data with EXEC_MIME_TYPE content only\n",
       "    if ((output.output_type != \"display_data\") || (!output.data.hasOwnProperty(EXEC_MIME_TYPE))) {\n",
       "      return\n",
       "    }\n",
       "\n",
       "    var toinsert = output_area.element.find(\".\" + CLASS_NAME.split(' ')[0]);\n",
       "\n",
       "    if (output.metadata[EXEC_MIME_TYPE][\"id\"] !== undefined) {\n",
       "      toinsert[toinsert.length - 1].firstChild.textContent = output.data[JS_MIME_TYPE];\n",
       "      // store reference to embed id on output_area\n",
       "      output_area._bokeh_element_id = output.metadata[EXEC_MIME_TYPE][\"id\"];\n",
       "    }\n",
       "    if (output.metadata[EXEC_MIME_TYPE][\"server_id\"] !== undefined) {\n",
       "      var bk_div = document.createElement(\"div\");\n",
       "      bk_div.innerHTML = output.data[HTML_MIME_TYPE];\n",
       "      var script_attrs = bk_div.children[0].attributes;\n",
       "      for (var i = 0; i < script_attrs.length; i++) {\n",
       "        toinsert[toinsert.length - 1].firstChild.setAttribute(script_attrs[i].name, script_attrs[i].value);\n",
       "        toinsert[toinsert.length - 1].firstChild.textContent = bk_div.children[0].textContent\n",
       "      }\n",
       "      // store reference to server id on output_area\n",
       "      output_area._bokeh_server_id = output.metadata[EXEC_MIME_TYPE][\"server_id\"];\n",
       "    }\n",
       "  }\n",
       "\n",
       "  function register_renderer(events, OutputArea) {\n",
       "\n",
       "    function append_mime(data, metadata, element) {\n",
       "      // create a DOM node to render to\n",
       "      var toinsert = this.create_output_subarea(\n",
       "        metadata,\n",
       "        CLASS_NAME,\n",
       "        EXEC_MIME_TYPE\n",
       "      );\n",
       "      this.keyboard_manager.register_events(toinsert);\n",
       "      // Render to node\n",
       "      var props = {data: data, metadata: metadata[EXEC_MIME_TYPE]};\n",
       "      render(props, toinsert[toinsert.length - 1]);\n",
       "      element.append(toinsert);\n",
       "      return toinsert\n",
       "    }\n",
       "\n",
       "    /* Handle when an output is cleared or removed */\n",
       "    events.on('clear_output.CodeCell', handleClearOutput);\n",
       "    events.on('delete.Cell', handleClearOutput);\n",
       "\n",
       "    /* Handle when a new output is added */\n",
       "    events.on('output_added.OutputArea', handleAddOutput);\n",
       "\n",
       "    /**\n",
       "     * Register the mime type and append_mime function with output_area\n",
       "     */\n",
       "    OutputArea.prototype.register_mime_type(EXEC_MIME_TYPE, append_mime, {\n",
       "      /* Is output safe? */\n",
       "      safe: true,\n",
       "      /* Index of renderer in `output_area.display_order` */\n",
       "      index: 0\n",
       "    });\n",
       "  }\n",
       "\n",
       "  // register the mime type if in Jupyter Notebook environment and previously unregistered\n",
       "  if (root.Jupyter !== undefined) {\n",
       "    var events = require('base/js/events');\n",
       "    var OutputArea = require('notebook/js/outputarea').OutputArea;\n",
       "\n",
       "    if (OutputArea.prototype.mime_types().indexOf(EXEC_MIME_TYPE) == -1) {\n",
       "      register_renderer(events, OutputArea);\n",
       "    }\n",
       "  }\n",
       "\n",
       "  \n",
       "  if (typeof (root._bokeh_timeout) === \"undefined\" || force === true) {\n",
       "    root._bokeh_timeout = Date.now() + 5000;\n",
       "    root._bokeh_failed_load = false;\n",
       "  }\n",
       "\n",
       "  var NB_LOAD_WARNING = {'data': {'text/html':\n",
       "     \"<div style='background-color: #fdd'>\\n\"+\n",
       "     \"<p>\\n\"+\n",
       "     \"BokehJS does not appear to have successfully loaded. If loading BokehJS from CDN, this \\n\"+\n",
       "     \"may be due to a slow or bad network connection. Possible fixes:\\n\"+\n",
       "     \"</p>\\n\"+\n",
       "     \"<ul>\\n\"+\n",
       "     \"<li>re-rerun `output_notebook()` to attempt to load from CDN again, or</li>\\n\"+\n",
       "     \"<li>use INLINE resources instead, as so:</li>\\n\"+\n",
       "     \"</ul>\\n\"+\n",
       "     \"<code>\\n\"+\n",
       "     \"from bokeh.resources import INLINE\\n\"+\n",
       "     \"output_notebook(resources=INLINE)\\n\"+\n",
       "     \"</code>\\n\"+\n",
       "     \"</div>\"}};\n",
       "\n",
       "  function display_loaded() {\n",
       "    var el = document.getElementById(null);\n",
       "    if (el != null) {\n",
       "      el.textContent = \"BokehJS is loading...\";\n",
       "    }\n",
       "    if (root.Bokeh !== undefined) {\n",
       "      if (el != null) {\n",
       "        el.textContent = \"BokehJS \" + root.Bokeh.version + \" successfully loaded.\";\n",
       "      }\n",
       "    } else if (Date.now() < root._bokeh_timeout) {\n",
       "      setTimeout(display_loaded, 100)\n",
       "    }\n",
       "  }\n",
       "\n",
       "\n",
       "  function run_callbacks() {\n",
       "    try {\n",
       "      root._bokeh_onload_callbacks.forEach(function(callback) {\n",
       "        if (callback != null)\n",
       "          callback();\n",
       "      });\n",
       "    } finally {\n",
       "      delete root._bokeh_onload_callbacks\n",
       "    }\n",
       "    console.debug(\"Bokeh: all callbacks have finished\");\n",
       "  }\n",
       "\n",
       "  function load_libs(css_urls, js_urls, callback) {\n",
       "    if (css_urls == null) css_urls = [];\n",
       "    if (js_urls == null) js_urls = [];\n",
       "\n",
       "    root._bokeh_onload_callbacks.push(callback);\n",
       "    if (root._bokeh_is_loading > 0) {\n",
       "      console.debug(\"Bokeh: BokehJS is being loaded, scheduling callback at\", now());\n",
       "      return null;\n",
       "    }\n",
       "    if (js_urls == null || js_urls.length === 0) {\n",
       "      run_callbacks();\n",
       "      return null;\n",
       "    }\n",
       "    console.debug(\"Bokeh: BokehJS not loaded, scheduling load and callback at\", now());\n",
       "    root._bokeh_is_loading = css_urls.length + js_urls.length;\n",
       "\n",
       "    function on_load() {\n",
       "      root._bokeh_is_loading--;\n",
       "      if (root._bokeh_is_loading === 0) {\n",
       "        console.debug(\"Bokeh: all BokehJS libraries/stylesheets loaded\");\n",
       "        run_callbacks()\n",
       "      }\n",
       "    }\n",
       "\n",
       "    function on_error() {\n",
       "      console.error(\"failed to load \" + url);\n",
       "    }\n",
       "\n",
       "    for (var i = 0; i < css_urls.length; i++) {\n",
       "      var url = css_urls[i];\n",
       "      const element = document.createElement(\"link\");\n",
       "      element.onload = on_load;\n",
       "      element.onerror = on_error;\n",
       "      element.rel = \"stylesheet\";\n",
       "      element.type = \"text/css\";\n",
       "      element.href = url;\n",
       "      console.debug(\"Bokeh: injecting link tag for BokehJS stylesheet: \", url);\n",
       "      document.body.appendChild(element);\n",
       "    }\n",
       "\n",
       "    const hashes = {\"https://cdn.bokeh.org/bokeh/release/bokeh-2.2.3.min.js\": \"T2yuo9Oe71Cz/I4X9Ac5+gpEa5a8PpJCDlqKYO0CfAuEszu1JrXLl8YugMqYe3sM\", \"https://cdn.bokeh.org/bokeh/release/bokeh-widgets-2.2.3.min.js\": \"98GDGJ0kOMCUMUePhksaQ/GYgB3+NH9h996V88sh3aOiUNX3N+fLXAtry6xctSZ6\", \"https://cdn.bokeh.org/bokeh/release/bokeh-tables-2.2.3.min.js\": \"89bArO+nlbP3sgakeHjCo1JYxYR5wufVgA3IbUvDY+K7w4zyxJqssu7wVnfeKCq8\"};\n",
       "\n",
       "    for (var i = 0; i < js_urls.length; i++) {\n",
       "      var url = js_urls[i];\n",
       "      var element = document.createElement('script');\n",
       "      element.onload = on_load;\n",
       "      element.onerror = on_error;\n",
       "      element.async = false;\n",
       "      element.src = url;\n",
       "      if (url in hashes) {\n",
       "        element.crossOrigin = \"anonymous\";\n",
       "        element.integrity = \"sha384-\" + hashes[url];\n",
       "      }\n",
       "      console.debug(\"Bokeh: injecting script tag for BokehJS library: \", url);\n",
       "      document.head.appendChild(element);\n",
       "    }\n",
       "  };\n",
       "\n",
       "  function inject_raw_css(css) {\n",
       "    const element = document.createElement(\"style\");\n",
       "    element.appendChild(document.createTextNode(css));\n",
       "    document.body.appendChild(element);\n",
       "  }\n",
       "\n",
       "  \n",
       "  var js_urls = [\"https://cdn.bokeh.org/bokeh/release/bokeh-2.2.3.min.js\", \"https://cdn.bokeh.org/bokeh/release/bokeh-widgets-2.2.3.min.js\", \"https://cdn.bokeh.org/bokeh/release/bokeh-tables-2.2.3.min.js\"];\n",
       "  var css_urls = [];\n",
       "  \n",
       "\n",
       "  var inline_js = [\n",
       "    function(Bokeh) {\n",
       "      Bokeh.set_log_level(\"info\");\n",
       "    },\n",
       "    function(Bokeh) {\n",
       "    \n",
       "    \n",
       "    }\n",
       "  ];\n",
       "\n",
       "  function run_inline_js() {\n",
       "    \n",
       "    if (root.Bokeh !== undefined || force === true) {\n",
       "      \n",
       "    for (var i = 0; i < inline_js.length; i++) {\n",
       "      inline_js[i].call(root, root.Bokeh);\n",
       "    }\n",
       "    } else if (Date.now() < root._bokeh_timeout) {\n",
       "      setTimeout(run_inline_js, 100);\n",
       "    } else if (!root._bokeh_failed_load) {\n",
       "      console.log(\"Bokeh: BokehJS failed to load within specified timeout.\");\n",
       "      root._bokeh_failed_load = true;\n",
       "    } else if (force !== true) {\n",
       "      var cell = $(document.getElementById(null)).parents('.cell').data().cell;\n",
       "      cell.output_area.append_execute_result(NB_LOAD_WARNING)\n",
       "    }\n",
       "\n",
       "  }\n",
       "\n",
       "  if (root._bokeh_is_loading === 0) {\n",
       "    console.debug(\"Bokeh: BokehJS loaded, going straight to plotting\");\n",
       "    run_inline_js();\n",
       "  } else {\n",
       "    load_libs(css_urls, js_urls, function() {\n",
       "      console.debug(\"Bokeh: BokehJS plotting callback run at\", now());\n",
       "      run_inline_js();\n",
       "    });\n",
       "  }\n",
       "}(window));"
      ],
      "application/vnd.bokehjs_load.v0+json": "\n(function(root) {\n  function now() {\n    return new Date();\n  }\n\n  var force = true;\n\n  if (typeof root._bokeh_onload_callbacks === \"undefined\" || force === true) {\n    root._bokeh_onload_callbacks = [];\n    root._bokeh_is_loading = undefined;\n  }\n\n  \n\n  \n  if (typeof (root._bokeh_timeout) === \"undefined\" || force === true) {\n    root._bokeh_timeout = Date.now() + 5000;\n    root._bokeh_failed_load = false;\n  }\n\n  var NB_LOAD_WARNING = {'data': {'text/html':\n     \"<div style='background-color: #fdd'>\\n\"+\n     \"<p>\\n\"+\n     \"BokehJS does not appear to have successfully loaded. If loading BokehJS from CDN, this \\n\"+\n     \"may be due to a slow or bad network connection. Possible fixes:\\n\"+\n     \"</p>\\n\"+\n     \"<ul>\\n\"+\n     \"<li>re-rerun `output_notebook()` to attempt to load from CDN again, or</li>\\n\"+\n     \"<li>use INLINE resources instead, as so:</li>\\n\"+\n     \"</ul>\\n\"+\n     \"<code>\\n\"+\n     \"from bokeh.resources import INLINE\\n\"+\n     \"output_notebook(resources=INLINE)\\n\"+\n     \"</code>\\n\"+\n     \"</div>\"}};\n\n  function display_loaded() {\n    var el = document.getElementById(null);\n    if (el != null) {\n      el.textContent = \"BokehJS is loading...\";\n    }\n    if (root.Bokeh !== undefined) {\n      if (el != null) {\n        el.textContent = \"BokehJS \" + root.Bokeh.version + \" successfully loaded.\";\n      }\n    } else if (Date.now() < root._bokeh_timeout) {\n      setTimeout(display_loaded, 100)\n    }\n  }\n\n\n  function run_callbacks() {\n    try {\n      root._bokeh_onload_callbacks.forEach(function(callback) {\n        if (callback != null)\n          callback();\n      });\n    } finally {\n      delete root._bokeh_onload_callbacks\n    }\n    console.debug(\"Bokeh: all callbacks have finished\");\n  }\n\n  function load_libs(css_urls, js_urls, callback) {\n    if (css_urls == null) css_urls = [];\n    if (js_urls == null) js_urls = [];\n\n    root._bokeh_onload_callbacks.push(callback);\n    if (root._bokeh_is_loading > 0) {\n      console.debug(\"Bokeh: BokehJS is being loaded, scheduling callback at\", now());\n      return null;\n    }\n    if (js_urls == null || js_urls.length === 0) {\n      run_callbacks();\n      return null;\n    }\n    console.debug(\"Bokeh: BokehJS not loaded, scheduling load and callback at\", now());\n    root._bokeh_is_loading = css_urls.length + js_urls.length;\n\n    function on_load() {\n      root._bokeh_is_loading--;\n      if (root._bokeh_is_loading === 0) {\n        console.debug(\"Bokeh: all BokehJS libraries/stylesheets loaded\");\n        run_callbacks()\n      }\n    }\n\n    function on_error() {\n      console.error(\"failed to load \" + url);\n    }\n\n    for (var i = 0; i < css_urls.length; i++) {\n      var url = css_urls[i];\n      const element = document.createElement(\"link\");\n      element.onload = on_load;\n      element.onerror = on_error;\n      element.rel = \"stylesheet\";\n      element.type = \"text/css\";\n      element.href = url;\n      console.debug(\"Bokeh: injecting link tag for BokehJS stylesheet: \", url);\n      document.body.appendChild(element);\n    }\n\n    const hashes = {\"https://cdn.bokeh.org/bokeh/release/bokeh-2.2.3.min.js\": \"T2yuo9Oe71Cz/I4X9Ac5+gpEa5a8PpJCDlqKYO0CfAuEszu1JrXLl8YugMqYe3sM\", \"https://cdn.bokeh.org/bokeh/release/bokeh-widgets-2.2.3.min.js\": \"98GDGJ0kOMCUMUePhksaQ/GYgB3+NH9h996V88sh3aOiUNX3N+fLXAtry6xctSZ6\", \"https://cdn.bokeh.org/bokeh/release/bokeh-tables-2.2.3.min.js\": \"89bArO+nlbP3sgakeHjCo1JYxYR5wufVgA3IbUvDY+K7w4zyxJqssu7wVnfeKCq8\"};\n\n    for (var i = 0; i < js_urls.length; i++) {\n      var url = js_urls[i];\n      var element = document.createElement('script');\n      element.onload = on_load;\n      element.onerror = on_error;\n      element.async = false;\n      element.src = url;\n      if (url in hashes) {\n        element.crossOrigin = \"anonymous\";\n        element.integrity = \"sha384-\" + hashes[url];\n      }\n      console.debug(\"Bokeh: injecting script tag for BokehJS library: \", url);\n      document.head.appendChild(element);\n    }\n  };\n\n  function inject_raw_css(css) {\n    const element = document.createElement(\"style\");\n    element.appendChild(document.createTextNode(css));\n    document.body.appendChild(element);\n  }\n\n  \n  var js_urls = [\"https://cdn.bokeh.org/bokeh/release/bokeh-2.2.3.min.js\", \"https://cdn.bokeh.org/bokeh/release/bokeh-widgets-2.2.3.min.js\", \"https://cdn.bokeh.org/bokeh/release/bokeh-tables-2.2.3.min.js\"];\n  var css_urls = [];\n  \n\n  var inline_js = [\n    function(Bokeh) {\n      Bokeh.set_log_level(\"info\");\n    },\n    function(Bokeh) {\n    \n    \n    }\n  ];\n\n  function run_inline_js() {\n    \n    if (root.Bokeh !== undefined || force === true) {\n      \n    for (var i = 0; i < inline_js.length; i++) {\n      inline_js[i].call(root, root.Bokeh);\n    }\n    } else if (Date.now() < root._bokeh_timeout) {\n      setTimeout(run_inline_js, 100);\n    } else if (!root._bokeh_failed_load) {\n      console.log(\"Bokeh: BokehJS failed to load within specified timeout.\");\n      root._bokeh_failed_load = true;\n    } else if (force !== true) {\n      var cell = $(document.getElementById(null)).parents('.cell').data().cell;\n      cell.output_area.append_execute_result(NB_LOAD_WARNING)\n    }\n\n  }\n\n  if (root._bokeh_is_loading === 0) {\n    console.debug(\"Bokeh: BokehJS loaded, going straight to plotting\");\n    run_inline_js();\n  } else {\n    load_libs(css_urls, js_urls, function() {\n      console.debug(\"Bokeh: BokehJS plotting callback run at\", now());\n      run_inline_js();\n    });\n  }\n}(window));"
     },
     "metadata": {},
     "output_type": "display_data"
    },
    {
     "data": {
      "text/html": [
       "\n",
       "\n",
       "\n",
       "\n",
       "\n",
       "\n",
       "  <div class=\"bk-root\" id=\"23b82adb-1c95-4c7d-9cef-3319e973b72e\" data-root-id=\"1251\"></div>\n"
      ]
     },
     "metadata": {},
     "output_type": "display_data"
    },
    {
     "data": {
      "application/javascript": [
       "(function(root) {\n",
       "  function embed_document(root) {\n",
       "    \n",
       "  var docs_json = {\"2394e71a-c118-4599-85f6-c6f2378ac01a\":{\"roots\":{\"references\":[{\"attributes\":{\"background_fill_color\":\"#F4F4F4\",\"below\":[{\"id\":\"1262\"}],\"border_fill_color\":\"#F4F4F4\",\"center\":[{\"id\":\"1265\"},{\"id\":\"1269\"}],\"left\":[{\"id\":\"1266\"}],\"plot_height\":300,\"renderers\":[{\"id\":\"1287\"}],\"title\":{\"id\":\"1252\"},\"toolbar\":{\"id\":\"1277\"},\"x_range\":{\"id\":\"1254\"},\"x_scale\":{\"id\":\"1258\"},\"y_range\":{\"id\":\"1291\"},\"y_scale\":{\"id\":\"1260\"}},\"id\":\"1251\",\"subtype\":\"Figure\",\"type\":\"Plot\"},{\"attributes\":{},\"id\":\"1260\",\"type\":\"LinearScale\"},{\"attributes\":{\"bounds\":[0,10],\"end\":10},\"id\":\"1291\",\"type\":\"Range1d\"},{\"attributes\":{\"dh\":{\"units\":\"data\",\"value\":10},\"dw\":{\"units\":\"data\",\"value\":35},\"global_alpha\":0.1,\"image\":{\"field\":\"image\"},\"x\":{\"value\":0},\"y\":{\"value\":0}},\"id\":\"1286\",\"type\":\"ImageRGBA\"},{\"attributes\":{\"axis\":{\"id\":\"1262\"},\"ticker\":null},\"id\":\"1265\",\"type\":\"Grid\"},{\"attributes\":{\"ticks\":[0.5,1.5,2.5,3.5,4.5,5.5,6.5,7.5,8.5,9.5]},\"id\":\"1289\",\"type\":\"FixedTicker\"},{\"attributes\":{\"active_drag\":\"auto\",\"active_inspect\":\"auto\",\"active_multi\":null,\"active_scroll\":\"auto\",\"active_tap\":\"auto\",\"tools\":[{\"id\":\"1270\"},{\"id\":\"1271\"},{\"id\":\"1272\"},{\"id\":\"1273\"},{\"id\":\"1274\"},{\"id\":\"1275\"}]},\"id\":\"1277\",\"type\":\"Toolbar\"},{\"attributes\":{\"dh\":{\"units\":\"data\",\"value\":10},\"dw\":{\"units\":\"data\",\"value\":35},\"image\":{\"field\":\"image\"},\"x\":{\"value\":0},\"y\":{\"value\":0}},\"id\":\"1285\",\"type\":\"ImageRGBA\"},{\"attributes\":{\"overlay\":{\"id\":\"1276\"}},\"id\":\"1272\",\"type\":\"BoxZoomTool\"},{\"attributes\":{},\"id\":\"1307\",\"type\":\"BasicTickFormatter\"},{\"attributes\":{\"source\":{\"id\":\"1284\"}},\"id\":\"1288\",\"type\":\"CDSView\"},{\"attributes\":{},\"id\":\"1270\",\"type\":\"PanTool\"},{\"attributes\":{\"formatter\":{\"id\":\"1308\"},\"major_label_overrides\":{\"0.5\":\"a\",\"1.5\":\"c\",\"2.5\":\"g\",\"3.5\":\"t\",\"4.5\":\"A\",\"5.5\":\"C\",\"6.5\":\"G\",\"7.5\":\"T\",\"8.5\":\"d\",\"9.5\":\"D\"},\"ticker\":{\"id\":\"1289\"}},\"id\":\"1266\",\"type\":\"LinearAxis\"},{\"attributes\":{},\"id\":\"1308\",\"type\":\"BasicTickFormatter\"},{\"attributes\":{},\"id\":\"1271\",\"type\":\"WheelZoomTool\"},{\"attributes\":{\"ticks\":[0.5,1.5,2.5,3.5,4.5,5.5,6.5,7.5,8.5,9.5,10.5,11.5,12.5,13.5,14.5,15.5,16.5,17.5,18.5,19.5,20.5,21.5,22.5,23.5,24.5,25.5,26.5,27.5,28.5,29.5,30.5,31.5,32.5,33.5,34.5]},\"id\":\"1292\",\"type\":\"FixedTicker\"},{\"attributes\":{\"text\":\"Base counts\"},\"id\":\"1252\",\"type\":\"Title\"},{\"attributes\":{},\"id\":\"1275\",\"type\":\"HelpTool\"},{\"attributes\":{},\"id\":\"1309\",\"type\":\"UnionRenderers\"},{\"attributes\":{},\"id\":\"1310\",\"type\":\"Selection\"},{\"attributes\":{\"range_padding\":0},\"id\":\"1254\",\"type\":\"DataRange1d\"},{\"attributes\":{\"axis\":{\"id\":\"1266\"},\"dimension\":1,\"ticker\":null},\"id\":\"1269\",\"type\":\"Grid\"},{\"attributes\":{\"data\":{\"image\":[{\"__ndarray__\":\"AAD//wAA/wAAAP8AAAD/AAAA/wAAAP8AAAD/AAAA/wAAAP8AAAD/AAAA/xUAAP8VAAD//wAA//8AAP//AAD/AAAA/wAAAP8AAAD//wAA/wAAAP8AAAD/AAAA/wAAAP8AAAD/FQAA/wAAAP8AAAD//wAA/wAAAP8AAAD/AAAA/wAAAP8AAAD/AAAA/wD/AAAA/wAAAP8AAP//AAAA/wAA//8AAAD/AAD//wAAAP8AAAD/AAAA/wAAAP8AAAD/AAAA/wAAAP8AAAD/AAAA/wAA//8AAP//AAAA/wAAAP8AAAD/AAAA/wAAAP8AABX/AAAA/wAAAP8AAAD/AAAA/wAAAP8AAAD/AAAA/wAAAP8AAAD/AAAA/wAAAAD/AAAA/wAAAP8AAAD/AAAA/wAAAP8AAAD/AAAA/wAAAP8AAAD/AP8A/wAAAP8AAAD/AAAA/wAAAP8AAAD/AAAA/wAAAP8AAAD/AAAA/wAAAP8A/wD/AAAA/wD/AP8AAAD/ABUA/wBAAP8A/wD/AAAA/wAAAP8AAAD/AAAA/wAAAP8AAAD/AAAA/wAA//8AAP//AAD//wAV//8AAP//AAD//wAA//8AQP//ACr//wAA//8AAP//AAD//wAA//8AAP//AAD//wAV//8AAP//AAD//wAA//8AAP//ABX//wAA//8AFf//AAD//wAA//8A////AAD//wAA//8AAP//AP///wAA//8AAP//AAD//wAA//8AAP//AAAAAP//AAD/AAAA/xUAAP8AAAD/FQAA/xUAAP9VAAD/gAAA/xUAAP8AAAD/FQAA/wAAAP//AAD//wAA//8AAP8AAAD/AAAA/wAAAP//AAD/AAAA/xUAAP9VAAD/KgAA/wAAAP8AAAD/AAAA/wAAAP//AAD/AAAA/wAAAP8AAAD/FQAA/wAAAP8AAAD/AP8AAAD/AAAq/wAA//8AAAD/AAD//wAAAP8AAP//AAAA/wAAAP8AAAD/AAAA/wAAAP8AAAD/AAAA/wAAAP8AABX/AAD//wAA//8AAAD/AAAA/wAAAP8AAAD/AAAA/wAAAP8AAAD/AAAA/wAAAP8AAAD/AAAA/wAAKv8AAAD/AAAA/wAAAP8AAAD/AAAVAP8AVQD/ACoA/wBVAP8AFQD/ACoA/wAAAP8AFQD/AAAA/wAAAP8A/wD/AAAA/wAAAP8AAAD/AAAA/wBrAP8AFQD/AFUA/wAAAP8AFQD/AAAA/wD/AP8AAAD/AP8A/wAAAP8AAAD/AAAA/wD/AP8AAAD/AAAA/wAAAP8AAAD/AAAA/wAAAP8AFQD/AAD//wAA//8AAP//AAD//wAA//8AAP//AAD//wAV//8AAP//AAD//wAA//8AAP//AAD//wAA//8AAP//AAD//wAA//8AAP//AAD//wAA//8AAP//AAD//wAA//8AAP//AAD//wD///8AAP//AAD//wAA//8A////AAD//wAV//8AAP//ABX//wAA//8AAAAAAAAAAAAAAAAAFQAAAAAAAAAVAAAAAAAAAAAAAAAAAAAAAAAAAAAAAAAAAAAAAAAAAFUAAAAAAAAAAAAAAAAAAAAAAAAAAAAAAAAAAAAAAAAAFQAAAAAAAAAAAAAAAAAAAAAAAAAAAAAAFQAAAAAAAAAVAAAAAAAAAAAAAAAAAAAAAAAAAAAAAAAAAAAAFQAAAAAAAACrAAAAAAAAAEAAAAAAAAAAAAAAAAAAAAAAAAAAAAAAAAAAAAAAAAAAgAAAABUAAAAAAAAAAAAAAFUAAAAAAAAAAAAAAAAAAAAqAAAAAAAAAAAAAAAAAAAAAAAAAAAAAAAAAAAAAAAAAAAAAAAAAAAAAAAAAAAAAAAAAAAAAAAAAAA=\",\"dtype\":\"uint32\",\"order\":\"little\",\"shape\":[10,35]}]},\"selected\":{\"id\":\"1310\"},\"selection_policy\":{\"id\":\"1309\"}},\"id\":\"1284\",\"type\":\"ColumnDataSource\"},{\"attributes\":{\"bottom_units\":\"screen\",\"fill_alpha\":0.5,\"fill_color\":\"lightgrey\",\"left_units\":\"screen\",\"level\":\"overlay\",\"line_alpha\":1.0,\"line_color\":\"black\",\"line_dash\":[4,4],\"line_width\":2,\"right_units\":\"screen\",\"top_units\":\"screen\"},\"id\":\"1276\",\"type\":\"BoxAnnotation\"},{\"attributes\":{\"formatter\":{\"id\":\"1307\"},\"major_label_orientation\":1.57,\"major_label_overrides\":{\"0.5\":\"2257.0\",\"1.5\":\"2257.1\",\"10.5\":\"2261.1\",\"11.5\":\"2261.2\",\"12.5\":\"2262.0\",\"13.5\":\"2263.0\",\"14.5\":\"2264.0\",\"15.5\":\"2264.1\",\"16.5\":\"2265.0\",\"17.5\":\"2266.0\",\"18.5\":\"2267.0\",\"19.5\":\"2267.1\",\"2.5\":\"2258.0\",\"20.5\":\"2268.0\",\"21.5\":\"2268.1\",\"22.5\":\"2269.0\",\"23.5\":\"2269.1\",\"24.5\":\"2270.0\",\"25.5\":\"2270.1\",\"26.5\":\"2271.0\",\"27.5\":\"2272.0\",\"28.5\":\"2273.0\",\"29.5\":\"2273.1\",\"3.5\":\"2258.1\",\"30.5\":\"2273.2\",\"31.5\":\"2273.3\",\"32.5\":\"2273.4\",\"33.5\":\"2273.5\",\"34.5\":\"2273.6\",\"4.5\":\"2259.0\",\"5.5\":\"2259.1\",\"6.5\":\"2260.0\",\"7.5\":\"2260.1\",\"8.5\":\"2260.2\",\"9.5\":\"2261.0\"},\"ticker\":{\"id\":\"1292\"}},\"id\":\"1262\",\"type\":\"LinearAxis\"},{\"attributes\":{\"data_source\":{\"id\":\"1284\"},\"glyph\":{\"id\":\"1285\"},\"hover_glyph\":null,\"muted_glyph\":null,\"nonselection_glyph\":{\"id\":\"1286\"},\"selection_glyph\":null,\"view\":{\"id\":\"1288\"}},\"id\":\"1287\",\"type\":\"GlyphRenderer\"},{\"attributes\":{},\"id\":\"1274\",\"type\":\"ResetTool\"},{\"attributes\":{},\"id\":\"1273\",\"type\":\"SaveTool\"},{\"attributes\":{},\"id\":\"1258\",\"type\":\"LinearScale\"}],\"root_ids\":[\"1251\"]},\"title\":\"Bokeh Application\",\"version\":\"2.2.3\"}};\n",
       "  var render_items = [{\"docid\":\"2394e71a-c118-4599-85f6-c6f2378ac01a\",\"root_ids\":[\"1251\"],\"roots\":{\"1251\":\"23b82adb-1c95-4c7d-9cef-3319e973b72e\"}}];\n",
       "  root.Bokeh.embed.embed_items_notebook(docs_json, render_items);\n",
       "\n",
       "  }\n",
       "  if (root.Bokeh !== undefined) {\n",
       "    embed_document(root);\n",
       "  } else {\n",
       "    var attempts = 0;\n",
       "    var timer = setInterval(function(root) {\n",
       "      if (root.Bokeh !== undefined) {\n",
       "        clearInterval(timer);\n",
       "        embed_document(root);\n",
       "      } else {\n",
       "        attempts++;\n",
       "        if (attempts > 100) {\n",
       "          clearInterval(timer);\n",
       "          console.log(\"Bokeh: ERROR: Unable to run BokehJS code because BokehJS library is missing\");\n",
       "        }\n",
       "      }\n",
       "    }, 10, root)\n",
       "  }\n",
       "})(window);"
      ],
      "application/vnd.bokehjs_exec.v0+json": ""
     },
     "metadata": {
      "application/vnd.bokehjs_exec.v0+json": {
       "id": "1251"
      }
     },
     "output_type": "display_data"
    }
   ],
   "source": [
    "# Plot feature array (click play)\n",
    "import aplanat\n",
    "from bokeh.plotting import figure\n",
    "from bokeh.models import Range1d\n",
    "\n",
    "\n",
    "# select just a region to plot\n",
    "reg = slice(3925,3960)\n",
    "pdata = feature_array[reg].transpose()\n",
    "ppos = positions[reg]\n",
    "# create a figure\n",
    "p = figure(\n",
    "    title=\"Base counts\",\n",
    "    plot_height=300, plot_width=600)\n",
    "\n",
    "img = np.zeros(pdata.shape, dtype=np.uint32)\n",
    "view = img.view(dtype=np.uint8).reshape(pdata.shape + (4,))\n",
    "# set row colours: A blue, C red, G, green, T yello\n",
    "cols = {'A': {2}, 'C':{0}, 'G':{1}, 'T':{0,1}}\n",
    "for k, v in cols.items():\n",
    "    where = [x.upper() == k for x in codes]\n",
    "    for i in v:\n",
    "        view[where,:,i] = 255\n",
    "# use data as transparency mask\n",
    "view[:,:,3] = np.minimum(255, 8*255 * pdata)\n",
    "\n",
    "p.x_range.range_padding = p.y_range.range_padding = 0\n",
    "p.image_rgba(image=[img], x=0, y=0, dw=pdata.shape[1], dh=pdata.shape[0])\n",
    "ylabels = np.arange(0.5,10.5)\n",
    "p.yaxis.ticker = ylabels\n",
    "p.yaxis.major_label_overrides = dict(zip(ylabels, codes))\n",
    "p.y_range = Range1d(\n",
    "    start=0, end=10,\n",
    "    bounds=(0, 10))\n",
    "xlabels = np.arange(0.5, pdata.shape[1])\n",
    "p.xaxis.ticker = xlabels\n",
    "p.xaxis.major_label_overrides = dict(zip(\n",
    "    xlabels, ('{}.{}'.format(x['major'], x['minor']) for x in ppos)\n",
    "))\n",
    "p.xaxis.major_label_orientation = 3.14/2\n",
    "aplanat.show(p, background=\"#F4F4F4\")"
   ]
  },
  {
   "cell_type": "markdown",
   "metadata": {
    "colab_type": "text",
    "id": "mzklY-kWVR8N"
   },
   "source": [
    "# The neural network\n",
    "\n",
    "Having counted bases in an alignment pileup `medaka` proceeds to analyse these counts using a [Recurrent Neural Network](https://en.wikipedia.org/wiki/Recurrent_neural_network), (RNN). A full discussion of such algorithms is beyond the scope of this discussion, this section demonstrates their use in calculating a consensus sequence from the base counts array. When `medaka` is used as a variant caller different methods are used.\n",
    "\n",
    "\n",
    "\n"
   ]
  },
  {
   "cell_type": "markdown",
   "metadata": {
    "colab_type": "text",
    "id": "sBtKgLVAvpeG"
   },
   "source": [
    "## The model\n",
    "\n",
    "In order to construct a consensus sequence `medaka` uses a multi-layer bidirection RNN. This is defined using the [`keras`](https://www.tensorflow.org/guide/keras) API in `tensorflow`. The following code is adapted from the [`models`](https://github.com/nanoporetech/medaka/blob/d195b9cc1ee7681a121be9fe4fb016a00744ef47/medaka/models.py#L31) module of `medaka`, it has been simplified to show only the essential parts:\n"
   ]
  },
  {
   "cell_type": "code",
   "execution_count": 13,
   "metadata": {
    "colab": {
     "base_uri": "https://localhost:8080/",
     "height": 255
    },
    "colab_type": "code",
    "id": "7pmHJnPhwwfv",
    "outputId": "c1cbf254-742e-4469-a01a-98faa70e0b79"
   },
   "outputs": [
    {
     "name": "stdout",
     "output_type": "stream",
     "text": [
      "Model: \"medaka\"\n",
      "_________________________________________________________________\n",
      "Layer (type)                 Output Shape              Param #   \n",
      "=================================================================\n",
      "bidirectional_2 (Bidirection (None, 1000, 256)         107520    \n",
      "_________________________________________________________________\n",
      "bidirectional_3 (Bidirection (None, 1000, 256)         296448    \n",
      "_________________________________________________________________\n",
      "classify (Dense)             (None, 1000, 5)           1285      \n",
      "=================================================================\n",
      "Total params: 405,253\n",
      "Trainable params: 405,253\n",
      "Non-trainable params: 0\n",
      "_________________________________________________________________\n"
     ]
    }
   ],
   "source": [
    "from pkg_resources import resource_filename\n",
    "\n",
    "import warnings\n",
    "warnings.filterwarnings(\"ignore\", category=DeprecationWarning)\n",
    "\n",
    "import tensorflow as tf\n",
    "from tensorflow.keras.models import Sequential\n",
    "from tensorflow.keras.layers import Dense, GRU, Bidirectional\n",
    "\n",
    "from medaka.labels import BaseLabelScheme\n",
    "\n",
    "# parameters of the model\n",
    "gru_size = 128\n",
    "time_steps, feature_len = (1000, counts.shape[1])\n",
    "symbols = BaseLabelScheme.symbols  # [-, A, C, G, T]\n",
    "num_classes = len(symbols)\n",
    "\n",
    "# build the model\n",
    "model = Sequential(name='medaka')\n",
    "input_shape = (time_steps, feature_len)\n",
    "for i in range(2):\n",
    "    gru = GRU(gru_size, return_sequences=True, name=\"gru_{}\".format(i))\n",
    "    model.add(Bidirectional(gru, input_shape=input_shape))\n",
    "model.add(Dense(\n",
    "    num_classes, activation='softmax', name='classify',\n",
    "    input_shape=(time_steps, 2 * gru_size)))\n",
    "\n",
    "model.summary()"
   ]
  },
  {
   "cell_type": "markdown",
   "metadata": {
    "colab_type": "text",
    "id": "7-Hojb583Ida"
   },
   "source": [
    "The model takes the count matrix as input and outputs for each corresponding column of the counts matrix a set of five scores. The five scores express the possibility that the consensus sequence should contain one of the four bases A, C, G, or T, or a gap '-' character at the pileup column under consideration."
   ]
  },
  {
   "cell_type": "markdown",
   "metadata": {
    "colab_type": "text",
    "id": "EWt1pOLd9yPc"
   },
   "source": [
    "## Making predictions\n",
    "\n",
    "In order to make predictions using the RNN, `medaka` splits the normalized counts array into overlapping chunks before processing by the model. Chunking the array allows for more efficient parallel computation while overlapping is a mitigation against edge-effects at the boundaries of chunks.\n",
    "\n",
    "As mentioned above in the aside on performance, `medaka` has a somewhat elaborate system for managing data chunks. For the purposes of exposition the code below implements a simple chunking and batching of the data."
   ]
  },
  {
   "cell_type": "code",
   "execution_count": 14,
   "metadata": {
    "colab": {
     "base_uri": "https://localhost:8080/",
     "height": 51
    },
    "colab_type": "code",
    "id": "G6BtUH800yGN",
    "outputId": "f665cb09-f538-486f-def7-c00e98f148fc"
   },
   "outputs": [
    {
     "name": "stdout",
     "output_type": "stream",
     "text": [
      "113.92 to run predictions\n",
      "Total sequence length: 1500539.\n"
     ]
    }
   ],
   "source": [
    "from functools import partial\n",
    "from medaka.common import sliding_window, grouper\n",
    "\n",
    "# load an actual medaka model\n",
    "from medaka import models\n",
    "model = models.open_model(\"r941_min_high_g360\").load_model()\n",
    "\n",
    "# create a function to perform windowing on an array\n",
    "overlap = 200\n",
    "window = partial(\n",
    "    sliding_window,\n",
    "    window=time_steps, step=time_steps - overlap, axis=0)\n",
    "\n",
    "# run the network on input data\n",
    "def get_predictions(data, batch_size=40):\n",
    "    for batch in grouper(data, batch_size=batch_size):\n",
    "        batch = np.stack(batch)\n",
    "        results = model.predict_on_batch(batch)\n",
    "        yield from results\n",
    "\n",
    "t0 = now()\n",
    "predictions = get_predictions(window(feature_array))\n",
    "seq_chunks = list()\n",
    "for pred in predictions:\n",
    "    # remove half the overlapping region of chunks\n",
    "    pred = pred[overlap // 2:-overlap // 2]\n",
    "    # find the most likely base at each position and form the sequence\n",
    "    mp = np.argmax(pred, -1)\n",
    "    seq = ''.join((symbols[x] for x in mp))\n",
    "    seq = seq.replace('*', '')\n",
    "    seq_chunks.append(seq)\n",
    "sequence = ''.join(seq_chunks)\n",
    "t1 = now()\n",
    "print(\"{:.2f} to run predictions\".format(t1 - t0))\n",
    "print(\"Total sequence length: {}.\".format(len(sequence)))"
   ]
  },
  {
   "cell_type": "markdown",
   "metadata": {
    "colab_type": "text",
    "id": "M50sfRA70uX3"
   },
   "source": [
    "The code performs a simple undoing of the overlapping before stitching the consensus sequence pieces back together. This is sufficient to obtain results here; the full `medaka` implementation also keeps track of the `positions` array to ensure the sequence stitching is performed correctly with respect to the original input reference sequence.\n",
    "\n"
   ]
  },
  {
   "cell_type": "markdown",
   "metadata": {
    "colab_type": "text",
    "id": "6MWZ7xM0QEbj"
   },
   "source": [
    "### Checking our results\n",
    "\n",
    "We can write out the full consensus sequence derived above and compare it to the truth sequence by using the `assess_assembly` program from the [`pomoxis`](https://github.com/nanoporetech/pomoxis) package. By also examining the original draft sequence, we can see the improvement in quality from `medaka`:"
   ]
  },
  {
   "cell_type": "code",
   "execution_count": 15,
   "metadata": {
    "colab": {
     "base_uri": "https://localhost:8080/",
     "height": 731
    },
    "colab_type": "code",
    "id": "IzSkq4pd6E4j",
    "outputId": "fc31bf38-80d7-4a2d-f589-edefaba856ce"
   },
   "outputs": [
    {
     "name": "stdout",
     "output_type": "stream",
     "text": [
      "Analysing: saureus_canu.fasta.\n",
      "Writing list of indels 100 bases and longer to assm_indel_ge100.txt.\n",
      "#  Percentage Errors\n",
      "  name     mean     q10      q50      q90   \n",
      "err_ont   0.133%   0.056%   0.068%   0.290% \n",
      "err_bal   0.133%   0.056%   0.068%   0.290% \n",
      "   iden   0.004%   0.000%   0.001%   0.024% \n",
      "    del   0.117%   0.049%   0.059%   0.166% \n",
      "    ins   0.012%   0.003%   0.006%   0.046% \n",
      "\n",
      "#  Q Scores\n",
      "  name     mean      q10      q50      q90  \n",
      "err_ont   28.76    32.54    31.65    25.38  \n",
      "err_bal   28.76    32.54    31.65    25.38  \n",
      "   iden   44.39      inf    50.00    36.20  \n",
      "    del   29.30    33.10    32.29    27.79  \n",
      "    ins   39.20    45.23    42.22    33.41  \n",
      "\n",
      "All done, output written to assm_stats.txt, assm_summ.txt and assm_indel_ge100.txt\n",
      "\n",
      "\n",
      "Analysing: output.fasta.\n",
      "Writing list of indels 100 bases and longer to assm_indel_ge100.txt.\n",
      "#  Percentage Errors\n",
      "  name     mean     q10      q50      q90   \n",
      "err_ont   0.014%   0.008%   0.015%   0.023% \n",
      "err_bal   0.014%   0.008%   0.015%   0.023% \n",
      "   iden   0.001%   0.000%   0.000%   0.003% \n",
      "    del   0.010%   0.005%   0.010%   0.016% \n",
      "    ins   0.004%   0.001%   0.003%   0.007% \n",
      "\n",
      "#  Q Scores\n",
      "  name     mean      q10      q50      q90  \n",
      "err_ont   38.40    40.97    38.24    36.47  \n",
      "err_bal   38.40    40.97    38.24    36.47  \n",
      "   iden   50.30      inf      inf    46.02  \n",
      "    del   40.21    42.60    40.00    37.95  \n",
      "    ins   43.98    48.24    44.56    41.55  \n",
      "\n",
      "All done, output written to assm_stats.txt, assm_summ.txt and assm_indel_ge100.txt\n",
      "\n",
      "\n"
     ]
    }
   ],
   "source": [
    "output = \"output.fasta\"\n",
    "with open(output, 'w') as fh:\n",
    "    fh.write(\">seq\\n{}\\n\".format(sequence))\n",
    "for fname in (\"saureus_canu.fasta\", output):\n",
    "    print(\"Analysing: {}.\".format(fname))\n",
    "    !assess_assembly -r references.fasta -i \"$fname\" 2>/dev/null\n",
    "    print(\"\\n\")"
   ]
  },
  {
   "cell_type": "markdown",
   "metadata": {
    "colab_type": "text",
    "id": "o3FW8O5xQ8GD"
   },
   "source": [
    "# Remarks\n",
    "\n",
    "In this short walkthrough we have examined some of the internals of Oxford Nanopore Technologies' `medaka` program performs GPU accelerated consensus calculations from aligned sequencing data. The public `medaka` codebase implements various alternative forms of the algorithms presented here including run length compression and support for multiple datatypes. Hopefully this guide will prove useful to anyone wishing to implement algorithms similar to that implemented in `medaka`."
   ]
  }
 ],
 "metadata": {
  "accelerator": "GPU",
  "colab": {
   "collapsed_sections": [],
   "include_colab_link": true,
   "name": "Introduction to how ONT's medaka works",
   "provenance": [],
   "toc_visible": true
  },
  "kernelspec": {
   "display_name": "Python 3",
   "language": "python",
   "name": "python3"
  },
  "language_info": {
   "codemirror_mode": {
    "name": "ipython",
    "version": 3
   },
   "file_extension": ".py",
   "mimetype": "text/x-python",
   "name": "python",
   "nbconvert_exporter": "python",
   "pygments_lexer": "ipython3",
   "version": "3.8.6"
  }
 },
 "nbformat": 4,
 "nbformat_minor": 4
}
