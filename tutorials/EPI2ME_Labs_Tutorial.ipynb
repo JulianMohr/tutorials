{
 "cells": [
  {
   "cell_type": "markdown",
   "metadata": {},
   "source": [
    "# EPI2ME Labs Tutorial\n",
    "\n",
    "This meta-tutorial aims to introduce some of the advantages of using the EPI2ME Labs notebook environment over a vanilla [JupyterLab](https://jupyterlab.readthedocs.io/en/stable/) notebook setup. We will walk through some of the unique features of the environment and how they can be leveraged to:\n",
    "\n",
    "* create interactive data analyses\n",
    "* simplify user interfaces\n",
    "* and enhance code development\n",
    "\n",
    "This tutorial does not aim to be a full introductory guide to JupyterLab notebooks (see <a href='#references'>References</a>), but by the end of this tutorial you should have the knowledge to make full use of EPI2ME Labs to create and share reproducible analyses.\n",
    "\n",
    "This notebook has no special compute requirements."
   ]
  },
  {
   "cell_type": "markdown",
   "metadata": {},
   "source": [
    "## Introduction\n",
    "\n",
    "EPI2ME Labs builds on JupyterLab to provide a working environment useful for common bioinformatic analyses. It is provided with \"batteries included\" for manipulating common bioinformatic file formats and Python modules for writing code."
   ]
  },
  {
   "cell_type": "markdown",
   "metadata": {},
   "source": [
    "### Included software\n",
    "\n",
    "The notebook server of EPI2ME Labs is built from Docker container [templates](https://github.com/jupyter/docker-stacks) provided by the Jupyter project. The base Jupyter container uses [conda](https://docs.conda.io/en/latest/) to install its the Jupyter notebook server and its pre-requisites. EPI2ME Labs builds out the [base conda environment](https://docs.conda.io/projects/conda/en/latest/user-guide/getting-started.html#managing-environments) with common bioinformatics commandline tools. At the time of writing (11/01/2021) these include:\n",
    "\n",
    "|            |        ||                  |       ||            |        ||            |        |\n",
    "|------------|--------||------------------|-------||------------|--------||------------|--------|\n",
    "| blast      | 2.9.0  |\\|| flye           | 2.8.1 |\\|| miniasm  | 0.3    |\\|| samtools | 1.10   |\n",
    "| bedtools   | 2.29.2 |\\|| guppy_barcoder | 4.2.2 |\\|| mosdpeth | 0.2.9  |\\|| seqkit   | 0.13.2 |\n",
    "| bcftools   | 1.10.2 |\\|| medaka         | 1.2.1 |\\|| pomoxis  | 0.3.4  |\\|| sniffles | 1.0.11 |\n",
    "| centrifuge | 1.0.4  |\\|| minimap2       | 2.17  |\\|| racon    | 1.4.10 |\\|| tabix    | 0.2.6  |\n",
    "\n",
    "Most of these tools can be run simply and directly in a notebook, for example the environment includes the `samtools` suite of tools for handling BAM and SAM files:"
   ]
  },
  {
   "cell_type": "code",
   "execution_count": 8,
   "metadata": {},
   "outputs": [
    {
     "name": "stdout",
     "output_type": "stream",
     "text": [
      "Usage: samtools index [-bc] [-m INT] <in.bam> [out.index]\n",
      "Options:\n",
      "  -b       Generate BAI-format index for BAM files [default]\n",
      "  -c       Generate CSI-format index for BAM files\n",
      "  -m INT   Set minimum interval size for CSI indices to 2^INT [14]\n",
      "  -@ INT   Sets the number of threads [none]\n"
     ]
    }
   ],
   "source": [
    "!samtools index"
   ]
  },
  {
   "cell_type": "markdown",
   "metadata": {},
   "source": [
    "Here we have used the `!` command prefix to intruct Jupyter to interpret the following text as a Linux shell command rather than python code. The standard output (and error) of the samtools index command is shown as the cell output."
   ]
  },
  {
   "cell_type": "markdown",
   "metadata": {},
   "source": [
    "#### Commandline tools outside the base conda environment\n",
    "\n",
    "Some tools are undesirable to install into the case conda environment. These have been instead installed into their own conda or [virtual environments](https://docs.python.org/3/tutorial/venv.html). And example of this is `medaka`, if we try to run medaka directly we find:"
   ]
  },
  {
   "cell_type": "code",
   "execution_count": 9,
   "metadata": {},
   "outputs": [
    {
     "name": "stdout",
     "output_type": "stream",
     "text": [
      "/bin/bash: medaka: command not found\n"
     ]
    }
   ],
   "source": [
    "!medaka --help"
   ]
  },
  {
   "cell_type": "markdown",
   "metadata": {},
   "source": [
    "For these tools, EPI2ME Labs includes a helper `run` script to locate and activate the enviroment in which the tool resides. For example to run `medaka` successfully it is sufficient to invoke:"
   ]
  },
  {
   "cell_type": "code",
   "execution_count": 12,
   "metadata": {},
   "outputs": [
    {
     "name": "stdout",
     "output_type": "stream",
     "text": [
      "usage: medaka [-h] [--version]\n",
      "              {compress_bam,features,train,consensus,smolecule,consensus_from_features,fastrle,stitch,variant,snp,tools}\n",
      "              ...\n",
      "\n",
      "optional arguments:\n",
      "  -h, --help            show this help message and exit\n",
      "  --version             show program's version number and exit\n",
      "\n",
      "subcommands:\n",
      "  valid commands\n",
      "\n",
      "  {compress_bam,features,train,consensus,smolecule,consensus_from_features,fastrle,stitch,variant,snp,tools}\n",
      "                        additional help\n",
      "    compress_bam        Compress an alignment into RLE form.\n",
      "    features            Create features for inference.\n",
      "    train               Train a model from features.\n",
      "    consensus           Run inference from a trained model and alignments.\n",
      "    smolecule           Create consensus sequences from single-molecule reads.\n",
      "    consensus_from_features\n",
      "                        Run inference from a trained model on existing\n",
      "                        features.\n",
      "    fastrle             Create run-length encoded fastq (lengths in quality\n",
      "                        track).\n",
      "    stitch              Stitch together output from medaka consensus into\n",
      "                        final output.\n",
      "    variant             Decode probabilities to VCF.\n",
      "    snp                 Decode probabilities to SNPs.\n",
      "    tools               tools subcommand.\n"
     ]
    }
   ],
   "source": [
    "!run medaka --help"
   ]
  },
  {
   "cell_type": "markdown",
   "metadata": {},
   "source": [
    "The section <a href='#additional_software'>Installating Additional Software</a> has more information on how the `!run` command can be used with other software developers may wish to install into EPI2ME Labs."
   ]
  },
  {
   "cell_type": "markdown",
   "metadata": {},
   "source": [
    "### Included Python packages\n",
    "\n",
    "To provide a useful starting point for Python development, EPI2ME Labs includes also a number of well-known Python packages pre-installed (as of 11/01/2021):\n",
    "\n",
    "|            |        ||                  |          ||                  |          |\n",
    "|------------|--------||------------------|----------||------------------|----------|\n",
    "| bokeh      | 2.2.*  |\\|| pyranges       | 0.0.76   |\\|| seaborn        | 0.10.*   |\n",
    "| ipywidgets | 7.5.*  |\\|| pysam          | 0.16.0.1 |\\|| xlrd           | 1.2.0    |\n",
    "| matplotlib | 3.2.*  |\\|| scikit-learn   | 0.23.*   |\\||                |          |\n",
    "| pandas     | 1.1.*  |\\|| scipy          | 1.5.*    |\\||                |          |\n",
    "\n",
    "These tools are immediately available to the Python interpreted used for notebook execution, for example we can import [`pandas`](https://pandas.pydata.org/) and [`bokeh`](https://bokeh.org/) to start plotting data:"
   ]
  },
  {
   "cell_type": "code",
   "execution_count": 2,
   "metadata": {},
   "outputs": [
    {
     "data": {
      "text/html": [
       "\n",
       "    <div class=\"bk-root\">\n",
       "        <a href=\"https://bokeh.org\" target=\"_blank\" class=\"bk-logo bk-logo-small bk-logo-notebook\"></a>\n",
       "        <span id=\"1001\">Loading BokehJS ...</span>\n",
       "    </div>"
      ]
     },
     "metadata": {},
     "output_type": "display_data"
    },
    {
     "data": {
      "application/javascript": [
       "\n",
       "(function(root) {\n",
       "  function now() {\n",
       "    return new Date();\n",
       "  }\n",
       "\n",
       "  var force = true;\n",
       "\n",
       "  if (typeof root._bokeh_onload_callbacks === \"undefined\" || force === true) {\n",
       "    root._bokeh_onload_callbacks = [];\n",
       "    root._bokeh_is_loading = undefined;\n",
       "  }\n",
       "\n",
       "  var JS_MIME_TYPE = 'application/javascript';\n",
       "  var HTML_MIME_TYPE = 'text/html';\n",
       "  var EXEC_MIME_TYPE = 'application/vnd.bokehjs_exec.v0+json';\n",
       "  var CLASS_NAME = 'output_bokeh rendered_html';\n",
       "\n",
       "  /**\n",
       "   * Render data to the DOM node\n",
       "   */\n",
       "  function render(props, node) {\n",
       "    var script = document.createElement(\"script\");\n",
       "    node.appendChild(script);\n",
       "  }\n",
       "\n",
       "  /**\n",
       "   * Handle when an output is cleared or removed\n",
       "   */\n",
       "  function handleClearOutput(event, handle) {\n",
       "    var cell = handle.cell;\n",
       "\n",
       "    var id = cell.output_area._bokeh_element_id;\n",
       "    var server_id = cell.output_area._bokeh_server_id;\n",
       "    // Clean up Bokeh references\n",
       "    if (id != null && id in Bokeh.index) {\n",
       "      Bokeh.index[id].model.document.clear();\n",
       "      delete Bokeh.index[id];\n",
       "    }\n",
       "\n",
       "    if (server_id !== undefined) {\n",
       "      // Clean up Bokeh references\n",
       "      var cmd = \"from bokeh.io.state import curstate; print(curstate().uuid_to_server['\" + server_id + \"'].get_sessions()[0].document.roots[0]._id)\";\n",
       "      cell.notebook.kernel.execute(cmd, {\n",
       "        iopub: {\n",
       "          output: function(msg) {\n",
       "            var id = msg.content.text.trim();\n",
       "            if (id in Bokeh.index) {\n",
       "              Bokeh.index[id].model.document.clear();\n",
       "              delete Bokeh.index[id];\n",
       "            }\n",
       "          }\n",
       "        }\n",
       "      });\n",
       "      // Destroy server and session\n",
       "      var cmd = \"import bokeh.io.notebook as ion; ion.destroy_server('\" + server_id + \"')\";\n",
       "      cell.notebook.kernel.execute(cmd);\n",
       "    }\n",
       "  }\n",
       "\n",
       "  /**\n",
       "   * Handle when a new output is added\n",
       "   */\n",
       "  function handleAddOutput(event, handle) {\n",
       "    var output_area = handle.output_area;\n",
       "    var output = handle.output;\n",
       "\n",
       "    // limit handleAddOutput to display_data with EXEC_MIME_TYPE content only\n",
       "    if ((output.output_type != \"display_data\") || (!output.data.hasOwnProperty(EXEC_MIME_TYPE))) {\n",
       "      return\n",
       "    }\n",
       "\n",
       "    var toinsert = output_area.element.find(\".\" + CLASS_NAME.split(' ')[0]);\n",
       "\n",
       "    if (output.metadata[EXEC_MIME_TYPE][\"id\"] !== undefined) {\n",
       "      toinsert[toinsert.length - 1].firstChild.textContent = output.data[JS_MIME_TYPE];\n",
       "      // store reference to embed id on output_area\n",
       "      output_area._bokeh_element_id = output.metadata[EXEC_MIME_TYPE][\"id\"];\n",
       "    }\n",
       "    if (output.metadata[EXEC_MIME_TYPE][\"server_id\"] !== undefined) {\n",
       "      var bk_div = document.createElement(\"div\");\n",
       "      bk_div.innerHTML = output.data[HTML_MIME_TYPE];\n",
       "      var script_attrs = bk_div.children[0].attributes;\n",
       "      for (var i = 0; i < script_attrs.length; i++) {\n",
       "        toinsert[toinsert.length - 1].firstChild.setAttribute(script_attrs[i].name, script_attrs[i].value);\n",
       "        toinsert[toinsert.length - 1].firstChild.textContent = bk_div.children[0].textContent\n",
       "      }\n",
       "      // store reference to server id on output_area\n",
       "      output_area._bokeh_server_id = output.metadata[EXEC_MIME_TYPE][\"server_id\"];\n",
       "    }\n",
       "  }\n",
       "\n",
       "  function register_renderer(events, OutputArea) {\n",
       "\n",
       "    function append_mime(data, metadata, element) {\n",
       "      // create a DOM node to render to\n",
       "      var toinsert = this.create_output_subarea(\n",
       "        metadata,\n",
       "        CLASS_NAME,\n",
       "        EXEC_MIME_TYPE\n",
       "      );\n",
       "      this.keyboard_manager.register_events(toinsert);\n",
       "      // Render to node\n",
       "      var props = {data: data, metadata: metadata[EXEC_MIME_TYPE]};\n",
       "      render(props, toinsert[toinsert.length - 1]);\n",
       "      element.append(toinsert);\n",
       "      return toinsert\n",
       "    }\n",
       "\n",
       "    /* Handle when an output is cleared or removed */\n",
       "    events.on('clear_output.CodeCell', handleClearOutput);\n",
       "    events.on('delete.Cell', handleClearOutput);\n",
       "\n",
       "    /* Handle when a new output is added */\n",
       "    events.on('output_added.OutputArea', handleAddOutput);\n",
       "\n",
       "    /**\n",
       "     * Register the mime type and append_mime function with output_area\n",
       "     */\n",
       "    OutputArea.prototype.register_mime_type(EXEC_MIME_TYPE, append_mime, {\n",
       "      /* Is output safe? */\n",
       "      safe: true,\n",
       "      /* Index of renderer in `output_area.display_order` */\n",
       "      index: 0\n",
       "    });\n",
       "  }\n",
       "\n",
       "  // register the mime type if in Jupyter Notebook environment and previously unregistered\n",
       "  if (root.Jupyter !== undefined) {\n",
       "    var events = require('base/js/events');\n",
       "    var OutputArea = require('notebook/js/outputarea').OutputArea;\n",
       "\n",
       "    if (OutputArea.prototype.mime_types().indexOf(EXEC_MIME_TYPE) == -1) {\n",
       "      register_renderer(events, OutputArea);\n",
       "    }\n",
       "  }\n",
       "\n",
       "  \n",
       "  if (typeof (root._bokeh_timeout) === \"undefined\" || force === true) {\n",
       "    root._bokeh_timeout = Date.now() + 5000;\n",
       "    root._bokeh_failed_load = false;\n",
       "  }\n",
       "\n",
       "  var NB_LOAD_WARNING = {'data': {'text/html':\n",
       "     \"<div style='background-color: #fdd'>\\n\"+\n",
       "     \"<p>\\n\"+\n",
       "     \"BokehJS does not appear to have successfully loaded. If loading BokehJS from CDN, this \\n\"+\n",
       "     \"may be due to a slow or bad network connection. Possible fixes:\\n\"+\n",
       "     \"</p>\\n\"+\n",
       "     \"<ul>\\n\"+\n",
       "     \"<li>re-rerun `output_notebook()` to attempt to load from CDN again, or</li>\\n\"+\n",
       "     \"<li>use INLINE resources instead, as so:</li>\\n\"+\n",
       "     \"</ul>\\n\"+\n",
       "     \"<code>\\n\"+\n",
       "     \"from bokeh.resources import INLINE\\n\"+\n",
       "     \"output_notebook(resources=INLINE)\\n\"+\n",
       "     \"</code>\\n\"+\n",
       "     \"</div>\"}};\n",
       "\n",
       "  function display_loaded() {\n",
       "    var el = document.getElementById(\"1001\");\n",
       "    if (el != null) {\n",
       "      el.textContent = \"BokehJS is loading...\";\n",
       "    }\n",
       "    if (root.Bokeh !== undefined) {\n",
       "      if (el != null) {\n",
       "        el.textContent = \"BokehJS \" + root.Bokeh.version + \" successfully loaded.\";\n",
       "      }\n",
       "    } else if (Date.now() < root._bokeh_timeout) {\n",
       "      setTimeout(display_loaded, 100)\n",
       "    }\n",
       "  }\n",
       "\n",
       "\n",
       "  function run_callbacks() {\n",
       "    try {\n",
       "      root._bokeh_onload_callbacks.forEach(function(callback) {\n",
       "        if (callback != null)\n",
       "          callback();\n",
       "      });\n",
       "    } finally {\n",
       "      delete root._bokeh_onload_callbacks\n",
       "    }\n",
       "    console.debug(\"Bokeh: all callbacks have finished\");\n",
       "  }\n",
       "\n",
       "  function load_libs(css_urls, js_urls, callback) {\n",
       "    if (css_urls == null) css_urls = [];\n",
       "    if (js_urls == null) js_urls = [];\n",
       "\n",
       "    root._bokeh_onload_callbacks.push(callback);\n",
       "    if (root._bokeh_is_loading > 0) {\n",
       "      console.debug(\"Bokeh: BokehJS is being loaded, scheduling callback at\", now());\n",
       "      return null;\n",
       "    }\n",
       "    if (js_urls == null || js_urls.length === 0) {\n",
       "      run_callbacks();\n",
       "      return null;\n",
       "    }\n",
       "    console.debug(\"Bokeh: BokehJS not loaded, scheduling load and callback at\", now());\n",
       "    root._bokeh_is_loading = css_urls.length + js_urls.length;\n",
       "\n",
       "    function on_load() {\n",
       "      root._bokeh_is_loading--;\n",
       "      if (root._bokeh_is_loading === 0) {\n",
       "        console.debug(\"Bokeh: all BokehJS libraries/stylesheets loaded\");\n",
       "        run_callbacks()\n",
       "      }\n",
       "    }\n",
       "\n",
       "    function on_error() {\n",
       "      console.error(\"failed to load \" + url);\n",
       "    }\n",
       "\n",
       "    for (var i = 0; i < css_urls.length; i++) {\n",
       "      var url = css_urls[i];\n",
       "      const element = document.createElement(\"link\");\n",
       "      element.onload = on_load;\n",
       "      element.onerror = on_error;\n",
       "      element.rel = \"stylesheet\";\n",
       "      element.type = \"text/css\";\n",
       "      element.href = url;\n",
       "      console.debug(\"Bokeh: injecting link tag for BokehJS stylesheet: \", url);\n",
       "      document.body.appendChild(element);\n",
       "    }\n",
       "\n",
       "    const hashes = {\"https://cdn.bokeh.org/bokeh/release/bokeh-2.2.3.min.js\": \"T2yuo9Oe71Cz/I4X9Ac5+gpEa5a8PpJCDlqKYO0CfAuEszu1JrXLl8YugMqYe3sM\", \"https://cdn.bokeh.org/bokeh/release/bokeh-widgets-2.2.3.min.js\": \"98GDGJ0kOMCUMUePhksaQ/GYgB3+NH9h996V88sh3aOiUNX3N+fLXAtry6xctSZ6\", \"https://cdn.bokeh.org/bokeh/release/bokeh-tables-2.2.3.min.js\": \"89bArO+nlbP3sgakeHjCo1JYxYR5wufVgA3IbUvDY+K7w4zyxJqssu7wVnfeKCq8\"};\n",
       "\n",
       "    for (var i = 0; i < js_urls.length; i++) {\n",
       "      var url = js_urls[i];\n",
       "      var element = document.createElement('script');\n",
       "      element.onload = on_load;\n",
       "      element.onerror = on_error;\n",
       "      element.async = false;\n",
       "      element.src = url;\n",
       "      if (url in hashes) {\n",
       "        element.crossOrigin = \"anonymous\";\n",
       "        element.integrity = \"sha384-\" + hashes[url];\n",
       "      }\n",
       "      console.debug(\"Bokeh: injecting script tag for BokehJS library: \", url);\n",
       "      document.head.appendChild(element);\n",
       "    }\n",
       "  };\n",
       "\n",
       "  function inject_raw_css(css) {\n",
       "    const element = document.createElement(\"style\");\n",
       "    element.appendChild(document.createTextNode(css));\n",
       "    document.body.appendChild(element);\n",
       "  }\n",
       "\n",
       "  \n",
       "  var js_urls = [\"https://cdn.bokeh.org/bokeh/release/bokeh-2.2.3.min.js\", \"https://cdn.bokeh.org/bokeh/release/bokeh-widgets-2.2.3.min.js\", \"https://cdn.bokeh.org/bokeh/release/bokeh-tables-2.2.3.min.js\"];\n",
       "  var css_urls = [];\n",
       "  \n",
       "\n",
       "  var inline_js = [\n",
       "    function(Bokeh) {\n",
       "      Bokeh.set_log_level(\"info\");\n",
       "    },\n",
       "    function(Bokeh) {\n",
       "    \n",
       "    \n",
       "    }\n",
       "  ];\n",
       "\n",
       "  function run_inline_js() {\n",
       "    \n",
       "    if (root.Bokeh !== undefined || force === true) {\n",
       "      \n",
       "    for (var i = 0; i < inline_js.length; i++) {\n",
       "      inline_js[i].call(root, root.Bokeh);\n",
       "    }\n",
       "    if (force === true) {\n",
       "        display_loaded();\n",
       "      }} else if (Date.now() < root._bokeh_timeout) {\n",
       "      setTimeout(run_inline_js, 100);\n",
       "    } else if (!root._bokeh_failed_load) {\n",
       "      console.log(\"Bokeh: BokehJS failed to load within specified timeout.\");\n",
       "      root._bokeh_failed_load = true;\n",
       "    } else if (force !== true) {\n",
       "      var cell = $(document.getElementById(\"1001\")).parents('.cell').data().cell;\n",
       "      cell.output_area.append_execute_result(NB_LOAD_WARNING)\n",
       "    }\n",
       "\n",
       "  }\n",
       "\n",
       "  if (root._bokeh_is_loading === 0) {\n",
       "    console.debug(\"Bokeh: BokehJS loaded, going straight to plotting\");\n",
       "    run_inline_js();\n",
       "  } else {\n",
       "    load_libs(css_urls, js_urls, function() {\n",
       "      console.debug(\"Bokeh: BokehJS plotting callback run at\", now());\n",
       "      run_inline_js();\n",
       "    });\n",
       "  }\n",
       "}(window));"
      ],
      "application/vnd.bokehjs_load.v0+json": "\n(function(root) {\n  function now() {\n    return new Date();\n  }\n\n  var force = true;\n\n  if (typeof root._bokeh_onload_callbacks === \"undefined\" || force === true) {\n    root._bokeh_onload_callbacks = [];\n    root._bokeh_is_loading = undefined;\n  }\n\n  \n\n  \n  if (typeof (root._bokeh_timeout) === \"undefined\" || force === true) {\n    root._bokeh_timeout = Date.now() + 5000;\n    root._bokeh_failed_load = false;\n  }\n\n  var NB_LOAD_WARNING = {'data': {'text/html':\n     \"<div style='background-color: #fdd'>\\n\"+\n     \"<p>\\n\"+\n     \"BokehJS does not appear to have successfully loaded. If loading BokehJS from CDN, this \\n\"+\n     \"may be due to a slow or bad network connection. Possible fixes:\\n\"+\n     \"</p>\\n\"+\n     \"<ul>\\n\"+\n     \"<li>re-rerun `output_notebook()` to attempt to load from CDN again, or</li>\\n\"+\n     \"<li>use INLINE resources instead, as so:</li>\\n\"+\n     \"</ul>\\n\"+\n     \"<code>\\n\"+\n     \"from bokeh.resources import INLINE\\n\"+\n     \"output_notebook(resources=INLINE)\\n\"+\n     \"</code>\\n\"+\n     \"</div>\"}};\n\n  function display_loaded() {\n    var el = document.getElementById(\"1001\");\n    if (el != null) {\n      el.textContent = \"BokehJS is loading...\";\n    }\n    if (root.Bokeh !== undefined) {\n      if (el != null) {\n        el.textContent = \"BokehJS \" + root.Bokeh.version + \" successfully loaded.\";\n      }\n    } else if (Date.now() < root._bokeh_timeout) {\n      setTimeout(display_loaded, 100)\n    }\n  }\n\n\n  function run_callbacks() {\n    try {\n      root._bokeh_onload_callbacks.forEach(function(callback) {\n        if (callback != null)\n          callback();\n      });\n    } finally {\n      delete root._bokeh_onload_callbacks\n    }\n    console.debug(\"Bokeh: all callbacks have finished\");\n  }\n\n  function load_libs(css_urls, js_urls, callback) {\n    if (css_urls == null) css_urls = [];\n    if (js_urls == null) js_urls = [];\n\n    root._bokeh_onload_callbacks.push(callback);\n    if (root._bokeh_is_loading > 0) {\n      console.debug(\"Bokeh: BokehJS is being loaded, scheduling callback at\", now());\n      return null;\n    }\n    if (js_urls == null || js_urls.length === 0) {\n      run_callbacks();\n      return null;\n    }\n    console.debug(\"Bokeh: BokehJS not loaded, scheduling load and callback at\", now());\n    root._bokeh_is_loading = css_urls.length + js_urls.length;\n\n    function on_load() {\n      root._bokeh_is_loading--;\n      if (root._bokeh_is_loading === 0) {\n        console.debug(\"Bokeh: all BokehJS libraries/stylesheets loaded\");\n        run_callbacks()\n      }\n    }\n\n    function on_error() {\n      console.error(\"failed to load \" + url);\n    }\n\n    for (var i = 0; i < css_urls.length; i++) {\n      var url = css_urls[i];\n      const element = document.createElement(\"link\");\n      element.onload = on_load;\n      element.onerror = on_error;\n      element.rel = \"stylesheet\";\n      element.type = \"text/css\";\n      element.href = url;\n      console.debug(\"Bokeh: injecting link tag for BokehJS stylesheet: \", url);\n      document.body.appendChild(element);\n    }\n\n    const hashes = {\"https://cdn.bokeh.org/bokeh/release/bokeh-2.2.3.min.js\": \"T2yuo9Oe71Cz/I4X9Ac5+gpEa5a8PpJCDlqKYO0CfAuEszu1JrXLl8YugMqYe3sM\", \"https://cdn.bokeh.org/bokeh/release/bokeh-widgets-2.2.3.min.js\": \"98GDGJ0kOMCUMUePhksaQ/GYgB3+NH9h996V88sh3aOiUNX3N+fLXAtry6xctSZ6\", \"https://cdn.bokeh.org/bokeh/release/bokeh-tables-2.2.3.min.js\": \"89bArO+nlbP3sgakeHjCo1JYxYR5wufVgA3IbUvDY+K7w4zyxJqssu7wVnfeKCq8\"};\n\n    for (var i = 0; i < js_urls.length; i++) {\n      var url = js_urls[i];\n      var element = document.createElement('script');\n      element.onload = on_load;\n      element.onerror = on_error;\n      element.async = false;\n      element.src = url;\n      if (url in hashes) {\n        element.crossOrigin = \"anonymous\";\n        element.integrity = \"sha384-\" + hashes[url];\n      }\n      console.debug(\"Bokeh: injecting script tag for BokehJS library: \", url);\n      document.head.appendChild(element);\n    }\n  };\n\n  function inject_raw_css(css) {\n    const element = document.createElement(\"style\");\n    element.appendChild(document.createTextNode(css));\n    document.body.appendChild(element);\n  }\n\n  \n  var js_urls = [\"https://cdn.bokeh.org/bokeh/release/bokeh-2.2.3.min.js\", \"https://cdn.bokeh.org/bokeh/release/bokeh-widgets-2.2.3.min.js\", \"https://cdn.bokeh.org/bokeh/release/bokeh-tables-2.2.3.min.js\"];\n  var css_urls = [];\n  \n\n  var inline_js = [\n    function(Bokeh) {\n      Bokeh.set_log_level(\"info\");\n    },\n    function(Bokeh) {\n    \n    \n    }\n  ];\n\n  function run_inline_js() {\n    \n    if (root.Bokeh !== undefined || force === true) {\n      \n    for (var i = 0; i < inline_js.length; i++) {\n      inline_js[i].call(root, root.Bokeh);\n    }\n    if (force === true) {\n        display_loaded();\n      }} else if (Date.now() < root._bokeh_timeout) {\n      setTimeout(run_inline_js, 100);\n    } else if (!root._bokeh_failed_load) {\n      console.log(\"Bokeh: BokehJS failed to load within specified timeout.\");\n      root._bokeh_failed_load = true;\n    } else if (force !== true) {\n      var cell = $(document.getElementById(\"1001\")).parents('.cell').data().cell;\n      cell.output_area.append_execute_result(NB_LOAD_WARNING)\n    }\n\n  }\n\n  if (root._bokeh_is_loading === 0) {\n    console.debug(\"Bokeh: BokehJS loaded, going straight to plotting\");\n    run_inline_js();\n  } else {\n    load_libs(css_urls, js_urls, function() {\n      console.debug(\"Bokeh: BokehJS plotting callback run at\", now());\n      run_inline_js();\n    });\n  }\n}(window));"
     },
     "metadata": {},
     "output_type": "display_data"
    },
    {
     "data": {
      "text/html": [
       "\n",
       "\n",
       "\n",
       "\n",
       "\n",
       "\n",
       "  <div class=\"bk-root\" id=\"7d2d1e7a-0e7c-4829-b230-175e8b14928c\" data-root-id=\"1002\"></div>\n"
      ]
     },
     "metadata": {},
     "output_type": "display_data"
    },
    {
     "data": {
      "application/javascript": [
       "(function(root) {\n",
       "  function embed_document(root) {\n",
       "    \n",
       "  var docs_json = {\"124384a6-eb5f-4956-9f33-c1a186ba8d04\":{\"roots\":{\"references\":[{\"attributes\":{\"below\":[{\"id\":\"1011\"}],\"center\":[{\"id\":\"1014\"},{\"id\":\"1018\"}],\"left\":[{\"id\":\"1015\"}],\"plot_height\":200,\"plot_width\":400,\"renderers\":[{\"id\":\"1037\"}],\"title\":{\"id\":\"1039\"},\"toolbar\":{\"id\":\"1026\"},\"x_range\":{\"id\":\"1003\"},\"x_scale\":{\"id\":\"1007\"},\"y_range\":{\"id\":\"1005\"},\"y_scale\":{\"id\":\"1009\"}},\"id\":\"1002\",\"subtype\":\"Figure\",\"type\":\"Plot\"},{\"attributes\":{\"text\":\"\"},\"id\":\"1039\",\"type\":\"Title\"},{\"attributes\":{\"fill_alpha\":{\"value\":0.1},\"fill_color\":{\"field\":\"color\"},\"line_alpha\":{\"value\":0.1},\"line_color\":{\"field\":\"color\"},\"x\":{\"field\":\"x\"},\"y\":{\"field\":\"y\"}},\"id\":\"1036\",\"type\":\"Scatter\"},{\"attributes\":{},\"id\":\"1042\",\"type\":\"BasicTickFormatter\"},{\"attributes\":{},\"id\":\"1019\",\"type\":\"PanTool\"},{\"attributes\":{},\"id\":\"1020\",\"type\":\"WheelZoomTool\"},{\"attributes\":{\"overlay\":{\"id\":\"1025\"}},\"id\":\"1021\",\"type\":\"BoxZoomTool\"},{\"attributes\":{},\"id\":\"1022\",\"type\":\"SaveTool\"},{\"attributes\":{},\"id\":\"1023\",\"type\":\"ResetTool\"},{\"attributes\":{},\"id\":\"1024\",\"type\":\"HelpTool\"},{\"attributes\":{},\"id\":\"1003\",\"type\":\"DataRange1d\"},{\"attributes\":{},\"id\":\"1044\",\"type\":\"BasicTickFormatter\"},{\"attributes\":{\"active_drag\":\"auto\",\"active_inspect\":\"auto\",\"active_multi\":null,\"active_scroll\":\"auto\",\"active_tap\":\"auto\",\"tools\":[{\"id\":\"1019\"},{\"id\":\"1020\"},{\"id\":\"1021\"},{\"id\":\"1022\"},{\"id\":\"1023\"},{\"id\":\"1024\"}]},\"id\":\"1026\",\"type\":\"Toolbar\"},{\"attributes\":{},\"id\":\"1005\",\"type\":\"DataRange1d\"},{\"attributes\":{\"data\":{\"color\":[\"red\",\"red\",\"red\",\"blue\",\"red\",\"red\",\"red\",\"red\",\"red\",\"red\",\"red\",\"blue\",\"red\",\"red\",\"red\",\"red\",\"red\",\"red\",\"blue\",\"blue\",\"blue\",\"blue\",\"red\",\"blue\",\"red\",\"red\",\"blue\",\"red\",\"red\",\"red\",\"blue\",\"blue\",\"blue\",\"blue\",\"blue\",\"red\",\"red\",\"blue\",\"red\",\"red\",\"blue\",\"red\",\"red\",\"red\",\"red\",\"blue\",\"red\",\"blue\",\"red\",\"blue\",\"red\",\"red\",\"red\",\"red\",\"red\",\"red\",\"blue\",\"red\",\"red\",\"blue\",\"red\",\"blue\",\"blue\",\"red\",\"blue\",\"red\",\"blue\",\"red\",\"red\",\"blue\",\"red\",\"blue\",\"blue\",\"blue\",\"red\",\"red\",\"red\",\"blue\",\"red\",\"red\",\"blue\",\"red\",\"red\",\"blue\",\"red\",\"red\",\"blue\",\"red\",\"red\",\"blue\",\"blue\",\"blue\",\"red\",\"blue\",\"red\",\"red\",\"red\",\"blue\",\"blue\",\"red\"],\"index\":[0,1,2,3,4,5,6,7,8,9,10,11,12,13,14,15,16,17,18,19,20,21,22,23,24,25,26,27,28,29,30,31,32,33,34,35,36,37,38,39,40,41,42,43,44,45,46,47,48,49,50,51,52,53,54,55,56,57,58,59,60,61,62,63,64,65,66,67,68,69,70,71,72,73,74,75,76,77,78,79,80,81,82,83,84,85,86,87,88,89,90,91,92,93,94,95,96,97,98,99],\"x\":[4,2,26,38,13,54,4,71,30,28,97,60,37,17,95,97,78,88,77,7,56,12,52,14,82,8,55,80,98,77,27,26,41,51,65,88,98,22,25,28,11,48,39,38,25,77,31,17,42,57,30,94,61,63,80,39,36,2,97,12,82,74,1,92,67,23,48,10,62,22,71,16,97,5,82,73,37,96,71,26,81,34,87,51,41,77,11,96,66,81,13,88,66,65,47,82,86,14,33,39],\"y\":[84,89,34,6,57,47,6,59,56,83,59,58,22,71,63,75,31,44,13,4,59,49,24,51,37,60,20,73,60,48,41,42,28,85,90,42,65,89,27,60,87,38,12,69,38,52,62,48,29,93,8,64,48,41,65,18,81,9,40,6,58,87,48,39,66,23,55,93,9,93,9,50,25,4,54,73,0,48,46,73,64,90,22,23,20,26,13,58,99,4,35,81,28,50,39,22,81,31,18,88]},\"selected\":{\"id\":\"1046\"},\"selection_policy\":{\"id\":\"1045\"}},\"id\":\"1033\",\"type\":\"ColumnDataSource\"},{\"attributes\":{},\"id\":\"1007\",\"type\":\"LinearScale\"},{\"attributes\":{\"source\":{\"id\":\"1033\"}},\"id\":\"1038\",\"type\":\"CDSView\"},{\"attributes\":{},\"id\":\"1009\",\"type\":\"LinearScale\"},{\"attributes\":{\"formatter\":{\"id\":\"1042\"},\"ticker\":{\"id\":\"1012\"}},\"id\":\"1011\",\"type\":\"LinearAxis\"},{\"attributes\":{\"bottom_units\":\"screen\",\"fill_alpha\":0.5,\"fill_color\":\"lightgrey\",\"left_units\":\"screen\",\"level\":\"overlay\",\"line_alpha\":1.0,\"line_color\":\"black\",\"line_dash\":[4,4],\"line_width\":2,\"right_units\":\"screen\",\"top_units\":\"screen\"},\"id\":\"1025\",\"type\":\"BoxAnnotation\"},{\"attributes\":{},\"id\":\"1012\",\"type\":\"BasicTicker\"},{\"attributes\":{\"data_source\":{\"id\":\"1033\"},\"glyph\":{\"id\":\"1035\"},\"hover_glyph\":null,\"muted_glyph\":null,\"nonselection_glyph\":{\"id\":\"1036\"},\"selection_glyph\":null,\"view\":{\"id\":\"1038\"}},\"id\":\"1037\",\"type\":\"GlyphRenderer\"},{\"attributes\":{\"axis\":{\"id\":\"1011\"},\"ticker\":null},\"id\":\"1014\",\"type\":\"Grid\"},{\"attributes\":{\"fill_color\":{\"field\":\"color\"},\"line_color\":{\"field\":\"color\"},\"x\":{\"field\":\"x\"},\"y\":{\"field\":\"y\"}},\"id\":\"1035\",\"type\":\"Scatter\"},{\"attributes\":{\"formatter\":{\"id\":\"1044\"},\"ticker\":{\"id\":\"1016\"}},\"id\":\"1015\",\"type\":\"LinearAxis\"},{\"attributes\":{},\"id\":\"1045\",\"type\":\"UnionRenderers\"},{\"attributes\":{},\"id\":\"1016\",\"type\":\"BasicTicker\"},{\"attributes\":{},\"id\":\"1046\",\"type\":\"Selection\"},{\"attributes\":{\"axis\":{\"id\":\"1015\"},\"dimension\":1,\"ticker\":null},\"id\":\"1018\",\"type\":\"Grid\"}],\"root_ids\":[\"1002\"]},\"title\":\"Bokeh Application\",\"version\":\"2.2.3\"}};\n",
       "  var render_items = [{\"docid\":\"124384a6-eb5f-4956-9f33-c1a186ba8d04\",\"root_ids\":[\"1002\"],\"roots\":{\"1002\":\"7d2d1e7a-0e7c-4829-b230-175e8b14928c\"}}];\n",
       "  root.Bokeh.embed.embed_items_notebook(docs_json, render_items);\n",
       "\n",
       "  }\n",
       "  if (root.Bokeh !== undefined) {\n",
       "    embed_document(root);\n",
       "  } else {\n",
       "    var attempts = 0;\n",
       "    var timer = setInterval(function(root) {\n",
       "      if (root.Bokeh !== undefined) {\n",
       "        clearInterval(timer);\n",
       "        embed_document(root);\n",
       "      } else {\n",
       "        attempts++;\n",
       "        if (attempts > 100) {\n",
       "          clearInterval(timer);\n",
       "          console.log(\"Bokeh: ERROR: Unable to run BokehJS code because BokehJS library is missing\");\n",
       "        }\n",
       "      }\n",
       "    }, 10, root)\n",
       "  }\n",
       "})(window);"
      ],
      "application/vnd.bokehjs_exec.v0+json": ""
     },
     "metadata": {
      "application/vnd.bokehjs_exec.v0+json": {
       "id": "1002"
      }
     },
     "output_type": "display_data"
    }
   ],
   "source": [
    "from bokeh.io import output_notebook\n",
    "from bokeh.plotting import figure, show\n",
    "import numpy as np\n",
    "import pandas as pd\n",
    "\n",
    "output_notebook()\n",
    "df = pd.DataFrame(\n",
    "    np.random.randint(0,100, size=(100, 2)),\n",
    "    columns=['x', 'y'])\n",
    "df['color'] = np.random.choice(['red', 'blue'], size=100)\n",
    "p = figure(height=200, width=400)\n",
    "p.scatter('x', 'y', color='color', source=df)\n",
    "show(p)"
   ]
  },
  {
   "cell_type": "markdown",
   "metadata": {},
   "source": [
    "Although it is perfectly legitimate to use any plotting library within Jupyter, EPI2ME Labs notebooks use the [`aplanat`](https://pypi.org/project/aplanat/) package which acts as a convenience layer over `bokeh` to provide consistent styling and an unfussy, direct plotting interfact for developers. See the <a href='#aplanat'>Plotting with aplanat</a> section below for more details."
   ]
  },
  {
   "cell_type": "markdown",
   "metadata": {},
   "source": [
    "<a id='additional_software'></a>"
   ]
  },
  {
   "cell_type": "markdown",
   "metadata": {},
   "source": [
    "### Installing additional software\n",
    "\n",
    "While the pre-installed software in EPI2ME Labs should be sufficient for many notebook workflows, it may be desirable to install additional software. Software can be installed into either the base environment or a new conda environment. In the following sections we will discuss the benefits of each and how to choose which method to use\n",
    "\n",
    "***Software installed into the EPI2ME Labs environment is not persistent across restarts of the EPI2ME Labs server. This can be both useful and a hinderance. If there is software that you would like to see preinstalled into the environment, please create an issue on the [Tutorials](https://github.com/epi2me-labs/tutorials) project on Github.***"
   ]
  },
  {
   "cell_type": "markdown",
   "metadata": {},
   "source": [
    "#### Installing software into the base environment\n",
    "\n",
    "For the most part it should be possible to install software directly into the [base conda environment](https://docs.conda.io/projects/conda/en/latest/user-guide/getting-started.html#managing-environments) hosting the preinstalled software. This is the simplest method and allows all software to be immediately available. If a piece of software has dependencies that conflict with other installed software the alternative method in the following section can be used.\n",
    "\n",
    "In order to install software we recommend developers use [mamba](https://github.com/mamba-org/mamba), a fast reimplementation of the `conda` package manager. The `mamba` command is a drop-in replacement for conda. The following will install [Rebaler](https://github.com/rrwick/Rebaler) into the base conda environment:"
   ]
  },
  {
   "cell_type": "code",
   "execution_count": null,
   "metadata": {},
   "outputs": [],
   "source": [
    "!mamba install -q -y rebaler"
   ]
  },
  {
   "cell_type": "markdown",
   "metadata": {},
   "source": [
    "In addition to installing new programs, we can also use mamba to install python packages to be used within notebook code. For example the following code cell **will fail**:"
   ]
  },
  {
   "cell_type": "code",
   "execution_count": 19,
   "metadata": {},
   "outputs": [
    {
     "ename": "ModuleNotFoundError",
     "evalue": "No module named 'snakemake'",
     "output_type": "error",
     "traceback": [
      "\u001b[0;31m---------------------------------------------------------------------------\u001b[0m",
      "\u001b[0;31mModuleNotFoundError\u001b[0m                       Traceback (most recent call last)",
      "\u001b[0;32m<ipython-input-19-1e2531e13514>\u001b[0m in \u001b[0;36m<module>\u001b[0;34m\u001b[0m\n\u001b[0;32m----> 1\u001b[0;31m \u001b[0;32mimport\u001b[0m \u001b[0msnakemake\u001b[0m\u001b[0;34m\u001b[0m\u001b[0;34m\u001b[0m\u001b[0m\n\u001b[0m",
      "\u001b[0;31mModuleNotFoundError\u001b[0m: No module named 'snakemake'"
     ]
    }
   ],
   "source": [
    "import snakemake"
   ]
  },
  {
   "cell_type": "markdown",
   "metadata": {},
   "source": [
    "as snakemake is not installed into EPI2ME Labs by default. We can install it,"
   ]
  },
  {
   "cell_type": "code",
   "execution_count": 26,
   "metadata": {},
   "outputs": [],
   "source": [
    "!mamba install -q -y snakemake-minimal"
   ]
  },
  {
   "cell_type": "markdown",
   "metadata": {},
   "source": [
    "after which the import works:"
   ]
  },
  {
   "cell_type": "code",
   "execution_count": 25,
   "metadata": {},
   "outputs": [
    {
     "name": "stdout",
     "output_type": "stream",
     "text": [
      "5.31.1\n"
     ]
    }
   ],
   "source": [
    "import snakemake\n",
    "print(snakemake.__version__)"
   ]
  },
  {
   "cell_type": "markdown",
   "metadata": {},
   "source": [
    "#### Installing software into a new environment\n",
    "\n",
    "Occasionally it may not be possible to install software into the base EPI2ME Labs environment. This can happen when a new piece of software (or its dependencies) conflict with software that is already installed. When attempting to install such software either the install will fail completely or change the software installed in the base environment so radically that EPI2ME Labs is not guaranteed to work correctly.\n",
    "\n",
    "The resolution to the above issue is to install software into a distinct conda environment.\n",
    "\n",
    "***This method is not applicable to Python packages that are to be imported and used within the notebook, only software that is used with a command-line interface.***\n",
    "\n",
    "To install software into a distinct environment, simply create a new environment following the usual procedure:"
   ]
  },
  {
   "cell_type": "code",
   "execution_count": null,
   "metadata": {},
   "outputs": [],
   "source": [
    "!mamba create -y -n my_environment porechop"
   ]
  },
  {
   "cell_type": "markdown",
   "metadata": {},
   "source": [
    "Here we have created a new conda environment named `my_environment` and installed [`porechop`](https://github.com/rrwick/Porechop) into it. To use porechop we can use the `!run` command:"
   ]
  },
  {
   "cell_type": "code",
   "execution_count": 37,
   "metadata": {},
   "outputs": [
    {
     "name": "stdout",
     "output_type": "stream",
     "text": [
      "usage: porechop -i INPUT [-o OUTPUT]\n",
      "                [--format {auto,fasta,fastq,fasta.gz,fastq.gz}] [-v VERBOSITY]\n",
      "                [-t THREADS] [-b BARCODE_DIR]\n",
      "                [--barcode_threshold BARCODE_THRESHOLD]\n",
      "                [--barcode_diff BARCODE_DIFF] [--require_two_barcodes]\n",
      "                [--untrimmed] [--discard_unassigned]\n",
      "                [--adapter_threshold ADAPTER_THRESHOLD]\n",
      "                [--check_reads CHECK_READS] [--scoring_scheme SCORING_SCHEME]\n",
      "                [--end_size END_SIZE] [--min_trim_size MIN_TRIM_SIZE]\n",
      "                [--extra_end_trim EXTRA_END_TRIM]\n",
      "                [--end_threshold END_THRESHOLD] [--no_split]\n",
      "                [--discard_middle] [--middle_threshold MIDDLE_THRESHOLD]\n",
      "                [--extra_middle_trim_good_side EXTRA_MIDDLE_TRIM_GOOD_SIDE]\n",
      "                [--extra_middle_trim_bad_side EXTRA_MIDDLE_TRIM_BAD_SIDE]\n",
      "                [--min_split_read_size MIN_SPLIT_READ_SIZE] [-h] [--version]\n",
      "porechop: error: the following arguments are required: -i/--input\n"
     ]
    }
   ],
   "source": [
    "!run porechop"
   ]
  },
  {
   "cell_type": "markdown",
   "metadata": {},
   "source": [
    "It is possible if required, to run commands within the new conda environment. This does require jumping through a small hoop however. The below recipe can be used to run arbitrary commands in a conda environment:"
   ]
  },
  {
   "cell_type": "code",
   "execution_count": 38,
   "metadata": {},
   "outputs": [
    {
     "name": "stdout",
     "output_type": "stream",
     "text": [
      "Collecting cowsay\n",
      "  Downloading cowsay-3.0-py2.py3-none-any.whl (19 kB)\n",
      "Installing collected packages: cowsay\n",
      "Successfully installed cowsay-3.0\n"
     ]
    }
   ],
   "source": [
    "!. /opt/conda/etc/profile.d/conda.sh \\\n",
    "    && conda activate my_environment \\\n",
    "    && pip install cowsay"
   ]
  },
  {
   "cell_type": "markdown",
   "metadata": {},
   "source": [
    "Here we have installed the Python implementation of the classic `cowsay` program into the `my_environment` environment created above. We can see that this is not installed in the base environment from the following:"
   ]
  },
  {
   "cell_type": "code",
   "execution_count": 41,
   "metadata": {},
   "outputs": [
    {
     "name": "stdout",
     "output_type": "stream",
     "text": [
      "/bin/bash: cowsay: command not found\n"
     ]
    }
   ],
   "source": [
    "!cowsay"
   ]
  },
  {
   "cell_type": "markdown",
   "metadata": {},
   "source": [
    "But as before, we can run the program using the `!run` helper:"
   ]
  },
  {
   "cell_type": "code",
   "execution_count": 42,
   "metadata": {},
   "outputs": [
    {
     "name": "stdout",
     "output_type": "stream",
     "text": [
      "  ____\n",
      "< Moo! >\n",
      "  ====\n",
      "         \\\n",
      "          \\\n",
      "            ^__^                             \n",
      "            (oo)\\_______                   \n",
      "            (__)\\       )\\/\\             \n",
      "                ||----w |           \n",
      "                ||     ||  \n",
      "                \n",
      "                \n"
     ]
    }
   ],
   "source": [
    "!run cowsay Moo!"
   ]
  },
  {
   "cell_type": "markdown",
   "metadata": {},
   "source": [
    "<a id='#extensions'></a>"
   ]
  },
  {
   "cell_type": "markdown",
   "metadata": {},
   "source": [
    "## JupyterLab Extensions\n",
    "\n",
    "To enhance the default JupyterLab experience, a small set of extensions have been included. For example you may have noticed our spiffing theme, which is based on the [Mexico theme](https://github.com/arbennett/jupyterlab-themes)."
   ]
  },
  {
   "attachments": {
    "64783a0d-378d-49b3-9ed0-6ee14f8c9e13.png": {
     "image/png": "[encoded data removed]"
    }
   },
   "cell_type": "markdown",
   "metadata": {},
   "source": [
    "### Cell play button\n",
    "\n",
    "Toward the right-hand side of cells in EPI2ME Labs we have placed a `Play` button:\n",
    "\n",
    "![image.png](attachment:64783a0d-378d-49b3-9ed0-6ee14f8c9e13.png)\n",
    "\n",
    "This allows users to execute a cell with moving the mouse cursor away from the cell to the top of the screen, or using keyboard shortcuts."
   ]
  },
  {
   "cell_type": "markdown",
   "metadata": {},
   "source": [
    "### Code folding and hiding\n",
    "\n",
    "JupyterLabs contains functionality to hide the contents of code cells by double clicking the blue rectangle to the left of the cell. For example the contents of the code cell below should be initially hidden and replace with `...`:"
   ]
  },
  {
   "cell_type": "code",
   "execution_count": null,
   "metadata": {
    "jupyter": {
     "source_hidden": true
    }
   },
   "outputs": [],
   "source": [
    "print (\"This code is hidden from the user\")"
   ]
  },
  {
   "cell_type": "markdown",
   "metadata": {},
   "source": [
    "The code can be revealed by clicking on `...`.\n",
    "\n",
    "For notebooks of modest complexity these `...` can become lost to the user and do not convey any information regarding the cell's contents. To improve this situation EPI2ME Labs allows to collapse a cell's contents except for a prelimary comment line:"
   ]
  },
  {
   "cell_type": "code",
   "execution_count": null,
   "metadata": {
    "partialCollapse": true
   },
   "outputs": [],
   "source": [
    "# this cell contains code that prints a message\n",
    "print(\"Hello world\")"
   ]
  },
  {
   "cell_type": "markdown",
   "metadata": {},
   "source": [
    "The functionality is activate by clicking the grey box to the left of the cell. Naturally this behaviour is valid only for code cells containing an initial comment line."
   ]
  },
  {
   "attachments": {
    "22057ff8-5370-48a1-8b34-62c538b08cc5.png": {
     "image/png": "[encoded data removed]"
    },
    "62076499-15cb-486c-bb64-16af5afeaea6.png": {
     "image/png": "[encoded data removed]"
    }
   },
   "cell_type": "markdown",
   "metadata": {
    "autorun": true
   },
   "source": [
    "### Autorunning code cells\n",
    "\n",
    "In is often required that to be useable to end users notebooks require some setup code to be run. A casual user may miss these cells and consequently the notebook fail to run subsequent code correctly. For this situation we EPI2ME Labs has functionality to automatically execute code cells when a notebook is initially opened.\n",
    "\n",
    "To set a code cell to run automatically, right-click on the cell a select `Toggle autorun cell at launch`:\n",
    "\n",
    "![image.png](attachment:62076499-15cb-486c-bb64-16af5afeaea6.png)\n",
    "\n",
    "When active a purple dot ![image.png](attachment:22057ff8-5370-48a1-8b34-62c538b08cc5.png) will be displayed in the top right-hand side of the cell.\n",
    "\n",
    "***This functionality should be used sparingly, it was developed in order to allow automatic initialisation of Jupyter Widgets (see <a href='#user-interfaces'>Creating user interfaces</a>)***"
   ]
  },
  {
   "cell_type": "markdown",
   "metadata": {},
   "source": [
    "<a id='user-interfaces'></a>"
   ]
  },
  {
   "cell_type": "markdown",
   "metadata": {},
   "source": [
    "## Creating user interfaces\n",
    "\n",
    "EPI2ME Labs contains the [`Jupyter Widgets`](https://ipywidgets.readthedocs.io/en/stable/examples/Using%20Interact.html) python module in order to contruct user interfaces which do not rely on editing code to provide inputs."
   ]
  },
  {
   "cell_type": "markdown",
   "metadata": {},
   "source": [
    "### Standard Jupyter Widgets\n",
    "\n",
    "These can be imported and used directly, as in the [documentation](https://ipywidgets.readthedocs.io/en/stable/examples/Widget%20Basics.html):"
   ]
  },
  {
   "cell_type": "code",
   "execution_count": 63,
   "metadata": {
    "autorun": true
   },
   "outputs": [
    {
     "data": {
      "application/vnd.jupyter.widget-view+json": {
       "model_id": "d70744102a9b447c84e790cea8c1ce98",
       "version_major": 2,
       "version_minor": 0
      },
      "text/plain": [
       "IntSlider(value=0)"
      ]
     },
     "metadata": {},
     "output_type": "display_data"
    }
   ],
   "source": [
    "import ipywidgets as widgets\n",
    "w = widgets.IntSlider()\n",
    "display(w)"
   ]
  },
  {
   "cell_type": "code",
   "execution_count": 73,
   "metadata": {},
   "outputs": [
    {
     "name": "stdout",
     "output_type": "stream",
     "text": [
      "The current value is:  46\n"
     ]
    }
   ],
   "source": [
    "print(\"The current value is: \", w.value)"
   ]
  },
  {
   "cell_type": "markdown",
   "metadata": {},
   "source": [
    "### Form creation API\n",
    "\n",
    "The [`epi2melabs`](https://pypi.org/project/epi2melabs/) Python module provides a template to construct rapidly complete forms with a consistent presentation:"
   ]
  },
  {
   "cell_type": "code",
   "execution_count": 64,
   "metadata": {
    "autorun": true
   },
   "outputs": [
    {
     "data": {
      "application/vnd.jupyter.widget-view+json": {
       "model_id": "ff6152ec6a534e889d04d46482182354",
       "version_major": 2,
       "version_minor": 0
      },
      "text/plain": [
       "VBox(children=(HBox(children=(Label(value='Item A', layout=Layout(width='150px')), interactive(children=(IntSl…"
      ]
     },
     "metadata": {},
     "output_type": "display_data"
    }
   ],
   "source": [
    "import os\n",
    "from epi2melabs.notebook import InputForm, InputSpec\n",
    "\n",
    "form = InputForm(\n",
    "    InputSpec(\n",
    "        \"item_a\", \"Item A\", 10),\n",
    "    InputSpec(\n",
    "        \"item_b\", \"Item B\", (0,10), long_desc=\"I am the description for Item B\"),\n",
    "    InputSpec(\n",
    "        \"item_c\", \"Item C\", 10, validator=lambda x: x<11),\n",
    "    InputSpec(\n",
    "        \"item_d\", \"Item D\", \"Value of D\", validator=lambda x: os.path.isfile(x),\n",
    "        err_msg=\"'{value}' is not a valid file for '{param}'.\")\n",
    ")\n",
    "form.display()"
   ]
  },
  {
   "cell_type": "markdown",
   "metadata": {},
   "source": [
    "Each `InputSpec` comprises three items:\n",
    "* a name (to be used in code)\n",
    "* a short description (show in the form)\n",
    "* a widget specification. This can be anything that can be accepted by [`ipywidgets.interact`](https://ipywidgets.readthedocs.io/en/stable/examples/Using%20Interact.html#Basic-interact) or an explicit widget.\n",
    "\n",
    "The current values of the inputs are available as attributes of the form instance:"
   ]
  },
  {
   "cell_type": "code",
   "execution_count": 99,
   "metadata": {},
   "outputs": [
    {
     "data": {
      "text/plain": [
       "(10, 'Value of D')"
      ]
     },
     "execution_count": 99,
     "metadata": {},
     "output_type": "execute_result"
    }
   ],
   "source": [
    "form.item_a, form.item_d"
   ]
  },
  {
   "cell_type": "markdown",
   "metadata": {},
   "source": [
    "A summary report can be generated directly from the object:"
   ]
  },
  {
   "cell_type": "code",
   "execution_count": 101,
   "metadata": {},
   "outputs": [
    {
     "name": "stdout",
     "output_type": "stream",
     "text": [
      "Item A: 10\n",
      "Item B: 5\n",
      "Item C: 10\n",
      "Item D: Value of D\n",
      " - 'Value of D' is not a valid file for 'Item D'.\n",
      "One or more values failed validation.\n"
     ]
    }
   ],
   "source": [
    "print(form.report())"
   ]
  },
  {
   "cell_type": "markdown",
   "metadata": {},
   "source": [
    "This report contains a summary of invalid values according to the validation functions given; these information is available from the `.validate` method:"
   ]
  },
  {
   "cell_type": "code",
   "execution_count": 97,
   "metadata": {},
   "outputs": [
    {
     "data": {
      "text/plain": [
       "(False, [\"'Value of D' is not a valid file for 'Item D'.\"])"
      ]
     },
     "execution_count": 97,
     "metadata": {},
     "output_type": "execute_result"
    }
   ],
   "source": [
    "form.validate()"
   ]
  },
  {
   "cell_type": "markdown",
   "metadata": {},
   "source": [
    "The system allows us to keep all the logic for accepting and checking inputs in once place."
   ]
  },
  {
   "cell_type": "markdown",
   "metadata": {},
   "source": [
    "#### Best practices for form elements\n",
    "\n",
    "We recommend to apply two settings to forms to enhance the notebook experience for end users:\n",
    "\n",
    " 1. Collapse the codecell containing the form contruction code by double-clicking the blue vertical bar to its left, to leave just the `...` hint.\n",
    " 2. Set the codecell to autorun when a notebook is opened such that the widget will render for the user immediately and default values are populated.\n",
    " \n",
    "See the <a href='#extensions'>JupyterLab Extensions</a> section for more information on these behaviours."
   ]
  },
  {
   "cell_type": "markdown",
   "metadata": {},
   "source": [
    "#### Advanced actions\n",
    "\n",
    "Commonly we might want to provide more advanced actions and code to trigger from a form. This can be done through use of a Button:"
   ]
  },
  {
   "cell_type": "code",
   "execution_count": 124,
   "metadata": {
    "autorun": true
   },
   "outputs": [
    {
     "data": {
      "application/vnd.jupyter.widget-view+json": {
       "model_id": "e404f61400ae491daf7f79b364f7c06e",
       "version_major": 2,
       "version_minor": 0
      },
      "text/plain": [
       "VBox(children=(HBox(children=(Label(value='A file', layout=Layout(width='150px')), interactive(children=(Text(…"
      ]
     },
     "metadata": {},
     "output_type": "display_data"
    }
   ],
   "source": [
    "cpuinfo = None\n",
    "def process_form(inputs):\n",
    "    global cpuinfo\n",
    "    with open(inputs.input_file, 'r') as fh:\n",
    "        cpuinfo = list()\n",
    "        cur = dict()\n",
    "        for line in fh.readlines():\n",
    "            if line == \"\\n\":\n",
    "                cpuinfo.append(cur)\n",
    "                cur = dict()\n",
    "            else:\n",
    "                key, value = line.split(\":\")\n",
    "                key = key.strip()\n",
    "                value = value.lstrip().strip()\n",
    "                cur[key] = value\n",
    "        cpuinfo.append(cur)\n",
    "    print(\"Finished processing file\")\n",
    "    \n",
    "inputs = InputForm(\n",
    "    InputSpec('input_file', 'A file', '/proc/cpuinfo'),)\n",
    "inputs.add_process_button(process_form)\n",
    "inputs.display()"
   ]
  },
  {
   "cell_type": "markdown",
   "metadata": {},
   "source": [
    "The form above will populate the global `cpuinfo` variable with details from the input file. Here we just show the number found:"
   ]
  },
  {
   "cell_type": "code",
   "execution_count": 123,
   "metadata": {},
   "outputs": [
    {
     "name": "stdout",
     "output_type": "stream",
     "text": [
      "Number of CPUs: 5\n"
     ]
    }
   ],
   "source": [
    "print(\"Number of CPUs:\", len(cpuinfo))"
   ]
  },
  {
   "cell_type": "markdown",
   "metadata": {},
   "source": [
    "<a href='#aplanat'></a>"
   ]
  },
  {
   "cell_type": "markdown",
   "metadata": {},
   "source": [
    "## Plotting with aplanat\n",
    "\n",
    "In the previous sections we have listed the common pre-installed software that is available within EPI2ME Labs for creating charts and reporting results. In this section we introduce [`aplanat`](https://pypi.org/project/aplanat/), a Python library built on top of the popular [bokeh](https://bokeh.org/) charting library. `aplanat` was designed to simplify the use of bokeh to create interactive plots, particularly in a notebook setting."
   ]
  },
  {
   "cell_type": "markdown",
   "metadata": {},
   "source": [
    "### Design philosophy\n",
    "\n",
    "`aplanat` attempts to make constructing common plots as simple as possible by translating directly a users inputs into displayed data. Most plotting functions are of the form:\n",
    "\n",
    "    plot = plot_function(\n",
    "        [series_1_x, series_2_x, ...], [series_1_y, series_2_y, ...],\n",
    "        name=[series_1_name, series_2_name, ...],\n",
    "        colors=[series_1_color, series_1_color, ...])\n",
    "        \n",
    "Data is provided to aplanat in a lowest-common-denominator fashion: as lists of vectors. This is distinct from other plotting libraries that rely on values being presented in specific data-structures."
   ]
  },
  {
   "cell_type": "markdown",
   "metadata": {},
   "source": [
    "### Simple examples\n",
    "\n",
    "To give an overview of `aplanat` let's start by sampling data from the normal distribution:"
   ]
  },
  {
   "cell_type": "code",
   "execution_count": 54,
   "metadata": {},
   "outputs": [],
   "source": [
    "import numpy as np\n",
    "\n",
    "x = np.random.normal(size=1000)\n",
    "y = np.random.normal(size=1000)"
   ]
  },
  {
   "cell_type": "markdown",
   "metadata": {},
   "source": [
    "It is simple to create a scatter plot of these data:"
   ]
  },
  {
   "cell_type": "code",
   "execution_count": 60,
   "metadata": {},
   "outputs": [
    {
     "data": {
      "application/javascript": [
       "\n",
       "(function(root) {\n",
       "  function now() {\n",
       "    return new Date();\n",
       "  }\n",
       "\n",
       "  var force = true;\n",
       "\n",
       "  if (typeof root._bokeh_onload_callbacks === \"undefined\" || force === true) {\n",
       "    root._bokeh_onload_callbacks = [];\n",
       "    root._bokeh_is_loading = undefined;\n",
       "  }\n",
       "\n",
       "  var JS_MIME_TYPE = 'application/javascript';\n",
       "  var HTML_MIME_TYPE = 'text/html';\n",
       "  var EXEC_MIME_TYPE = 'application/vnd.bokehjs_exec.v0+json';\n",
       "  var CLASS_NAME = 'output_bokeh rendered_html';\n",
       "\n",
       "  /**\n",
       "   * Render data to the DOM node\n",
       "   */\n",
       "  function render(props, node) {\n",
       "    var script = document.createElement(\"script\");\n",
       "    node.appendChild(script);\n",
       "  }\n",
       "\n",
       "  /**\n",
       "   * Handle when an output is cleared or removed\n",
       "   */\n",
       "  function handleClearOutput(event, handle) {\n",
       "    var cell = handle.cell;\n",
       "\n",
       "    var id = cell.output_area._bokeh_element_id;\n",
       "    var server_id = cell.output_area._bokeh_server_id;\n",
       "    // Clean up Bokeh references\n",
       "    if (id != null && id in Bokeh.index) {\n",
       "      Bokeh.index[id].model.document.clear();\n",
       "      delete Bokeh.index[id];\n",
       "    }\n",
       "\n",
       "    if (server_id !== undefined) {\n",
       "      // Clean up Bokeh references\n",
       "      var cmd = \"from bokeh.io.state import curstate; print(curstate().uuid_to_server['\" + server_id + \"'].get_sessions()[0].document.roots[0]._id)\";\n",
       "      cell.notebook.kernel.execute(cmd, {\n",
       "        iopub: {\n",
       "          output: function(msg) {\n",
       "            var id = msg.content.text.trim();\n",
       "            if (id in Bokeh.index) {\n",
       "              Bokeh.index[id].model.document.clear();\n",
       "              delete Bokeh.index[id];\n",
       "            }\n",
       "          }\n",
       "        }\n",
       "      });\n",
       "      // Destroy server and session\n",
       "      var cmd = \"import bokeh.io.notebook as ion; ion.destroy_server('\" + server_id + \"')\";\n",
       "      cell.notebook.kernel.execute(cmd);\n",
       "    }\n",
       "  }\n",
       "\n",
       "  /**\n",
       "   * Handle when a new output is added\n",
       "   */\n",
       "  function handleAddOutput(event, handle) {\n",
       "    var output_area = handle.output_area;\n",
       "    var output = handle.output;\n",
       "\n",
       "    // limit handleAddOutput to display_data with EXEC_MIME_TYPE content only\n",
       "    if ((output.output_type != \"display_data\") || (!output.data.hasOwnProperty(EXEC_MIME_TYPE))) {\n",
       "      return\n",
       "    }\n",
       "\n",
       "    var toinsert = output_area.element.find(\".\" + CLASS_NAME.split(' ')[0]);\n",
       "\n",
       "    if (output.metadata[EXEC_MIME_TYPE][\"id\"] !== undefined) {\n",
       "      toinsert[toinsert.length - 1].firstChild.textContent = output.data[JS_MIME_TYPE];\n",
       "      // store reference to embed id on output_area\n",
       "      output_area._bokeh_element_id = output.metadata[EXEC_MIME_TYPE][\"id\"];\n",
       "    }\n",
       "    if (output.metadata[EXEC_MIME_TYPE][\"server_id\"] !== undefined) {\n",
       "      var bk_div = document.createElement(\"div\");\n",
       "      bk_div.innerHTML = output.data[HTML_MIME_TYPE];\n",
       "      var script_attrs = bk_div.children[0].attributes;\n",
       "      for (var i = 0; i < script_attrs.length; i++) {\n",
       "        toinsert[toinsert.length - 1].firstChild.setAttribute(script_attrs[i].name, script_attrs[i].value);\n",
       "        toinsert[toinsert.length - 1].firstChild.textContent = bk_div.children[0].textContent\n",
       "      }\n",
       "      // store reference to server id on output_area\n",
       "      output_area._bokeh_server_id = output.metadata[EXEC_MIME_TYPE][\"server_id\"];\n",
       "    }\n",
       "  }\n",
       "\n",
       "  function register_renderer(events, OutputArea) {\n",
       "\n",
       "    function append_mime(data, metadata, element) {\n",
       "      // create a DOM node to render to\n",
       "      var toinsert = this.create_output_subarea(\n",
       "        metadata,\n",
       "        CLASS_NAME,\n",
       "        EXEC_MIME_TYPE\n",
       "      );\n",
       "      this.keyboard_manager.register_events(toinsert);\n",
       "      // Render to node\n",
       "      var props = {data: data, metadata: metadata[EXEC_MIME_TYPE]};\n",
       "      render(props, toinsert[toinsert.length - 1]);\n",
       "      element.append(toinsert);\n",
       "      return toinsert\n",
       "    }\n",
       "\n",
       "    /* Handle when an output is cleared or removed */\n",
       "    events.on('clear_output.CodeCell', handleClearOutput);\n",
       "    events.on('delete.Cell', handleClearOutput);\n",
       "\n",
       "    /* Handle when a new output is added */\n",
       "    events.on('output_added.OutputArea', handleAddOutput);\n",
       "\n",
       "    /**\n",
       "     * Register the mime type and append_mime function with output_area\n",
       "     */\n",
       "    OutputArea.prototype.register_mime_type(EXEC_MIME_TYPE, append_mime, {\n",
       "      /* Is output safe? */\n",
       "      safe: true,\n",
       "      /* Index of renderer in `output_area.display_order` */\n",
       "      index: 0\n",
       "    });\n",
       "  }\n",
       "\n",
       "  // register the mime type if in Jupyter Notebook environment and previously unregistered\n",
       "  if (root.Jupyter !== undefined) {\n",
       "    var events = require('base/js/events');\n",
       "    var OutputArea = require('notebook/js/outputarea').OutputArea;\n",
       "\n",
       "    if (OutputArea.prototype.mime_types().indexOf(EXEC_MIME_TYPE) == -1) {\n",
       "      register_renderer(events, OutputArea);\n",
       "    }\n",
       "  }\n",
       "\n",
       "  \n",
       "  if (typeof (root._bokeh_timeout) === \"undefined\" || force === true) {\n",
       "    root._bokeh_timeout = Date.now() + 5000;\n",
       "    root._bokeh_failed_load = false;\n",
       "  }\n",
       "\n",
       "  var NB_LOAD_WARNING = {'data': {'text/html':\n",
       "     \"<div style='background-color: #fdd'>\\n\"+\n",
       "     \"<p>\\n\"+\n",
       "     \"BokehJS does not appear to have successfully loaded. If loading BokehJS from CDN, this \\n\"+\n",
       "     \"may be due to a slow or bad network connection. Possible fixes:\\n\"+\n",
       "     \"</p>\\n\"+\n",
       "     \"<ul>\\n\"+\n",
       "     \"<li>re-rerun `output_notebook()` to attempt to load from CDN again, or</li>\\n\"+\n",
       "     \"<li>use INLINE resources instead, as so:</li>\\n\"+\n",
       "     \"</ul>\\n\"+\n",
       "     \"<code>\\n\"+\n",
       "     \"from bokeh.resources import INLINE\\n\"+\n",
       "     \"output_notebook(resources=INLINE)\\n\"+\n",
       "     \"</code>\\n\"+\n",
       "     \"</div>\"}};\n",
       "\n",
       "  function display_loaded() {\n",
       "    var el = document.getElementById(null);\n",
       "    if (el != null) {\n",
       "      el.textContent = \"BokehJS is loading...\";\n",
       "    }\n",
       "    if (root.Bokeh !== undefined) {\n",
       "      if (el != null) {\n",
       "        el.textContent = \"BokehJS \" + root.Bokeh.version + \" successfully loaded.\";\n",
       "      }\n",
       "    } else if (Date.now() < root._bokeh_timeout) {\n",
       "      setTimeout(display_loaded, 100)\n",
       "    }\n",
       "  }\n",
       "\n",
       "\n",
       "  function run_callbacks() {\n",
       "    try {\n",
       "      root._bokeh_onload_callbacks.forEach(function(callback) {\n",
       "        if (callback != null)\n",
       "          callback();\n",
       "      });\n",
       "    } finally {\n",
       "      delete root._bokeh_onload_callbacks\n",
       "    }\n",
       "    console.debug(\"Bokeh: all callbacks have finished\");\n",
       "  }\n",
       "\n",
       "  function load_libs(css_urls, js_urls, callback) {\n",
       "    if (css_urls == null) css_urls = [];\n",
       "    if (js_urls == null) js_urls = [];\n",
       "\n",
       "    root._bokeh_onload_callbacks.push(callback);\n",
       "    if (root._bokeh_is_loading > 0) {\n",
       "      console.debug(\"Bokeh: BokehJS is being loaded, scheduling callback at\", now());\n",
       "      return null;\n",
       "    }\n",
       "    if (js_urls == null || js_urls.length === 0) {\n",
       "      run_callbacks();\n",
       "      return null;\n",
       "    }\n",
       "    console.debug(\"Bokeh: BokehJS not loaded, scheduling load and callback at\", now());\n",
       "    root._bokeh_is_loading = css_urls.length + js_urls.length;\n",
       "\n",
       "    function on_load() {\n",
       "      root._bokeh_is_loading--;\n",
       "      if (root._bokeh_is_loading === 0) {\n",
       "        console.debug(\"Bokeh: all BokehJS libraries/stylesheets loaded\");\n",
       "        run_callbacks()\n",
       "      }\n",
       "    }\n",
       "\n",
       "    function on_error() {\n",
       "      console.error(\"failed to load \" + url);\n",
       "    }\n",
       "\n",
       "    for (var i = 0; i < css_urls.length; i++) {\n",
       "      var url = css_urls[i];\n",
       "      const element = document.createElement(\"link\");\n",
       "      element.onload = on_load;\n",
       "      element.onerror = on_error;\n",
       "      element.rel = \"stylesheet\";\n",
       "      element.type = \"text/css\";\n",
       "      element.href = url;\n",
       "      console.debug(\"Bokeh: injecting link tag for BokehJS stylesheet: \", url);\n",
       "      document.body.appendChild(element);\n",
       "    }\n",
       "\n",
       "    const hashes = {\"https://cdn.bokeh.org/bokeh/release/bokeh-2.2.3.min.js\": \"T2yuo9Oe71Cz/I4X9Ac5+gpEa5a8PpJCDlqKYO0CfAuEszu1JrXLl8YugMqYe3sM\", \"https://cdn.bokeh.org/bokeh/release/bokeh-widgets-2.2.3.min.js\": \"98GDGJ0kOMCUMUePhksaQ/GYgB3+NH9h996V88sh3aOiUNX3N+fLXAtry6xctSZ6\", \"https://cdn.bokeh.org/bokeh/release/bokeh-tables-2.2.3.min.js\": \"89bArO+nlbP3sgakeHjCo1JYxYR5wufVgA3IbUvDY+K7w4zyxJqssu7wVnfeKCq8\"};\n",
       "\n",
       "    for (var i = 0; i < js_urls.length; i++) {\n",
       "      var url = js_urls[i];\n",
       "      var element = document.createElement('script');\n",
       "      element.onload = on_load;\n",
       "      element.onerror = on_error;\n",
       "      element.async = false;\n",
       "      element.src = url;\n",
       "      if (url in hashes) {\n",
       "        element.crossOrigin = \"anonymous\";\n",
       "        element.integrity = \"sha384-\" + hashes[url];\n",
       "      }\n",
       "      console.debug(\"Bokeh: injecting script tag for BokehJS library: \", url);\n",
       "      document.head.appendChild(element);\n",
       "    }\n",
       "  };\n",
       "\n",
       "  function inject_raw_css(css) {\n",
       "    const element = document.createElement(\"style\");\n",
       "    element.appendChild(document.createTextNode(css));\n",
       "    document.body.appendChild(element);\n",
       "  }\n",
       "\n",
       "  \n",
       "  var js_urls = [\"https://cdn.bokeh.org/bokeh/release/bokeh-2.2.3.min.js\", \"https://cdn.bokeh.org/bokeh/release/bokeh-widgets-2.2.3.min.js\", \"https://cdn.bokeh.org/bokeh/release/bokeh-tables-2.2.3.min.js\"];\n",
       "  var css_urls = [];\n",
       "  \n",
       "\n",
       "  var inline_js = [\n",
       "    function(Bokeh) {\n",
       "      Bokeh.set_log_level(\"info\");\n",
       "    },\n",
       "    function(Bokeh) {\n",
       "    \n",
       "    \n",
       "    }\n",
       "  ];\n",
       "\n",
       "  function run_inline_js() {\n",
       "    \n",
       "    if (root.Bokeh !== undefined || force === true) {\n",
       "      \n",
       "    for (var i = 0; i < inline_js.length; i++) {\n",
       "      inline_js[i].call(root, root.Bokeh);\n",
       "    }\n",
       "    } else if (Date.now() < root._bokeh_timeout) {\n",
       "      setTimeout(run_inline_js, 100);\n",
       "    } else if (!root._bokeh_failed_load) {\n",
       "      console.log(\"Bokeh: BokehJS failed to load within specified timeout.\");\n",
       "      root._bokeh_failed_load = true;\n",
       "    } else if (force !== true) {\n",
       "      var cell = $(document.getElementById(null)).parents('.cell').data().cell;\n",
       "      cell.output_area.append_execute_result(NB_LOAD_WARNING)\n",
       "    }\n",
       "\n",
       "  }\n",
       "\n",
       "  if (root._bokeh_is_loading === 0) {\n",
       "    console.debug(\"Bokeh: BokehJS loaded, going straight to plotting\");\n",
       "    run_inline_js();\n",
       "  } else {\n",
       "    load_libs(css_urls, js_urls, function() {\n",
       "      console.debug(\"Bokeh: BokehJS plotting callback run at\", now());\n",
       "      run_inline_js();\n",
       "    });\n",
       "  }\n",
       "}(window));"
      ],
      "application/vnd.bokehjs_load.v0+json": "\n(function(root) {\n  function now() {\n    return new Date();\n  }\n\n  var force = true;\n\n  if (typeof root._bokeh_onload_callbacks === \"undefined\" || force === true) {\n    root._bokeh_onload_callbacks = [];\n    root._bokeh_is_loading = undefined;\n  }\n\n  \n\n  \n  if (typeof (root._bokeh_timeout) === \"undefined\" || force === true) {\n    root._bokeh_timeout = Date.now() + 5000;\n    root._bokeh_failed_load = false;\n  }\n\n  var NB_LOAD_WARNING = {'data': {'text/html':\n     \"<div style='background-color: #fdd'>\\n\"+\n     \"<p>\\n\"+\n     \"BokehJS does not appear to have successfully loaded. If loading BokehJS from CDN, this \\n\"+\n     \"may be due to a slow or bad network connection. Possible fixes:\\n\"+\n     \"</p>\\n\"+\n     \"<ul>\\n\"+\n     \"<li>re-rerun `output_notebook()` to attempt to load from CDN again, or</li>\\n\"+\n     \"<li>use INLINE resources instead, as so:</li>\\n\"+\n     \"</ul>\\n\"+\n     \"<code>\\n\"+\n     \"from bokeh.resources import INLINE\\n\"+\n     \"output_notebook(resources=INLINE)\\n\"+\n     \"</code>\\n\"+\n     \"</div>\"}};\n\n  function display_loaded() {\n    var el = document.getElementById(null);\n    if (el != null) {\n      el.textContent = \"BokehJS is loading...\";\n    }\n    if (root.Bokeh !== undefined) {\n      if (el != null) {\n        el.textContent = \"BokehJS \" + root.Bokeh.version + \" successfully loaded.\";\n      }\n    } else if (Date.now() < root._bokeh_timeout) {\n      setTimeout(display_loaded, 100)\n    }\n  }\n\n\n  function run_callbacks() {\n    try {\n      root._bokeh_onload_callbacks.forEach(function(callback) {\n        if (callback != null)\n          callback();\n      });\n    } finally {\n      delete root._bokeh_onload_callbacks\n    }\n    console.debug(\"Bokeh: all callbacks have finished\");\n  }\n\n  function load_libs(css_urls, js_urls, callback) {\n    if (css_urls == null) css_urls = [];\n    if (js_urls == null) js_urls = [];\n\n    root._bokeh_onload_callbacks.push(callback);\n    if (root._bokeh_is_loading > 0) {\n      console.debug(\"Bokeh: BokehJS is being loaded, scheduling callback at\", now());\n      return null;\n    }\n    if (js_urls == null || js_urls.length === 0) {\n      run_callbacks();\n      return null;\n    }\n    console.debug(\"Bokeh: BokehJS not loaded, scheduling load and callback at\", now());\n    root._bokeh_is_loading = css_urls.length + js_urls.length;\n\n    function on_load() {\n      root._bokeh_is_loading--;\n      if (root._bokeh_is_loading === 0) {\n        console.debug(\"Bokeh: all BokehJS libraries/stylesheets loaded\");\n        run_callbacks()\n      }\n    }\n\n    function on_error() {\n      console.error(\"failed to load \" + url);\n    }\n\n    for (var i = 0; i < css_urls.length; i++) {\n      var url = css_urls[i];\n      const element = document.createElement(\"link\");\n      element.onload = on_load;\n      element.onerror = on_error;\n      element.rel = \"stylesheet\";\n      element.type = \"text/css\";\n      element.href = url;\n      console.debug(\"Bokeh: injecting link tag for BokehJS stylesheet: \", url);\n      document.body.appendChild(element);\n    }\n\n    const hashes = {\"https://cdn.bokeh.org/bokeh/release/bokeh-2.2.3.min.js\": \"T2yuo9Oe71Cz/I4X9Ac5+gpEa5a8PpJCDlqKYO0CfAuEszu1JrXLl8YugMqYe3sM\", \"https://cdn.bokeh.org/bokeh/release/bokeh-widgets-2.2.3.min.js\": \"98GDGJ0kOMCUMUePhksaQ/GYgB3+NH9h996V88sh3aOiUNX3N+fLXAtry6xctSZ6\", \"https://cdn.bokeh.org/bokeh/release/bokeh-tables-2.2.3.min.js\": \"89bArO+nlbP3sgakeHjCo1JYxYR5wufVgA3IbUvDY+K7w4zyxJqssu7wVnfeKCq8\"};\n\n    for (var i = 0; i < js_urls.length; i++) {\n      var url = js_urls[i];\n      var element = document.createElement('script');\n      element.onload = on_load;\n      element.onerror = on_error;\n      element.async = false;\n      element.src = url;\n      if (url in hashes) {\n        element.crossOrigin = \"anonymous\";\n        element.integrity = \"sha384-\" + hashes[url];\n      }\n      console.debug(\"Bokeh: injecting script tag for BokehJS library: \", url);\n      document.head.appendChild(element);\n    }\n  };\n\n  function inject_raw_css(css) {\n    const element = document.createElement(\"style\");\n    element.appendChild(document.createTextNode(css));\n    document.body.appendChild(element);\n  }\n\n  \n  var js_urls = [\"https://cdn.bokeh.org/bokeh/release/bokeh-2.2.3.min.js\", \"https://cdn.bokeh.org/bokeh/release/bokeh-widgets-2.2.3.min.js\", \"https://cdn.bokeh.org/bokeh/release/bokeh-tables-2.2.3.min.js\"];\n  var css_urls = [];\n  \n\n  var inline_js = [\n    function(Bokeh) {\n      Bokeh.set_log_level(\"info\");\n    },\n    function(Bokeh) {\n    \n    \n    }\n  ];\n\n  function run_inline_js() {\n    \n    if (root.Bokeh !== undefined || force === true) {\n      \n    for (var i = 0; i < inline_js.length; i++) {\n      inline_js[i].call(root, root.Bokeh);\n    }\n    } else if (Date.now() < root._bokeh_timeout) {\n      setTimeout(run_inline_js, 100);\n    } else if (!root._bokeh_failed_load) {\n      console.log(\"Bokeh: BokehJS failed to load within specified timeout.\");\n      root._bokeh_failed_load = true;\n    } else if (force !== true) {\n      var cell = $(document.getElementById(null)).parents('.cell').data().cell;\n      cell.output_area.append_execute_result(NB_LOAD_WARNING)\n    }\n\n  }\n\n  if (root._bokeh_is_loading === 0) {\n    console.debug(\"Bokeh: BokehJS loaded, going straight to plotting\");\n    run_inline_js();\n  } else {\n    load_libs(css_urls, js_urls, function() {\n      console.debug(\"Bokeh: BokehJS plotting callback run at\", now());\n      run_inline_js();\n    });\n  }\n}(window));"
     },
     "metadata": {},
     "output_type": "display_data"
    },
    {
     "data": {
      "text/html": [
       "\n",
       "\n",
       "\n",
       "\n",
       "\n",
       "\n",
       "  <div class=\"bk-root\" id=\"700f107d-afa7-468a-aa60-7c83de3d942f\" data-root-id=\"1634\"></div>\n"
      ]
     },
     "metadata": {},
     "output_type": "display_data"
    },
    {
     "data": {
      "application/javascript": [
       "(function(root) {\n",
       "  function embed_document(root) {\n",
       "    \n",
       "  var docs_json = {\"7818d2b5-c1c5-4c1d-8e7e-24aa2f886b8d\":{\"roots\":{\"references\":[{\"attributes\":{\"background_fill_color\":\"#f4f4f4\",\"below\":[{\"id\":\"1643\"}],\"border_fill_color\":\"#f4f4f4\",\"center\":[{\"id\":\"1646\"},{\"id\":\"1650\"}],\"left\":[{\"id\":\"1647\"}],\"output_backend\":\"webgl\",\"plot_height\":300,\"renderers\":[{\"id\":\"1668\"}],\"title\":{\"id\":\"1721\"},\"toolbar\":{\"id\":\"1658\"},\"x_range\":{\"id\":\"1670\"},\"x_scale\":{\"id\":\"1639\"},\"y_range\":{\"id\":\"1671\"},\"y_scale\":{\"id\":\"1641\"}},\"id\":\"1634\",\"subtype\":\"Figure\",\"type\":\"Plot\"},{\"attributes\":{},\"id\":\"1644\",\"type\":\"BasicTicker\"},{\"attributes\":{\"data\":{\"x\":{\"__ndarray__\":\"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\",\"dtype\":\"float64\",\"order\":\"little\",\"shape\":[1000]},\"y\":{\"__ndarray__\":\"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\",\"dtype\":\"float64\",\"order\":\"little\",\"shape\":[1000]}},\"selected\":{\"id\":\"1728\"},\"selection_policy\":{\"id\":\"1727\"}},\"id\":\"1665\",\"type\":\"ColumnDataSource\"},{\"attributes\":{\"axis\":{\"id\":\"1643\"},\"ticker\":null},\"id\":\"1646\",\"type\":\"Grid\"},{\"attributes\":{\"fill_alpha\":{\"value\":0.1},\"fill_color\":{\"value\":\"blue\"},\"line_alpha\":{\"value\":0.1},\"line_color\":{\"value\":\"blue\"},\"x\":{\"field\":\"x\"},\"y\":{\"field\":\"y\"}},\"id\":\"1667\",\"type\":\"Circle\"},{\"attributes\":{\"axis_label\":\"y\",\"formatter\":{\"id\":\"1726\"},\"ticker\":{\"id\":\"1648\"}},\"id\":\"1647\",\"type\":\"LinearAxis\"},{\"attributes\":{},\"id\":\"1727\",\"type\":\"UnionRenderers\"},{\"attributes\":{\"axis\":{\"id\":\"1647\"},\"dimension\":1,\"ticker\":null},\"id\":\"1650\",\"type\":\"Grid\"},{\"attributes\":{\"fill_alpha\":{\"value\":0.4},\"fill_color\":{\"value\":\"blue\"},\"line_alpha\":{\"value\":0.4},\"line_color\":{\"value\":\"blue\"},\"x\":{\"field\":\"x\"},\"y\":{\"field\":\"y\"}},\"id\":\"1666\",\"type\":\"Circle\"},{\"attributes\":{\"data_source\":{\"id\":\"1665\"},\"glyph\":{\"id\":\"1666\"},\"hover_glyph\":null,\"muted_glyph\":null,\"nonselection_glyph\":{\"id\":\"1667\"},\"selection_glyph\":null,\"view\":{\"id\":\"1669\"}},\"id\":\"1668\",\"type\":\"GlyphRenderer\"},{\"attributes\":{\"bounds\":[-3.22512488134755,2.7455007164323706],\"end\":2.7455007164323706,\"start\":-3.22512488134755},\"id\":\"1671\",\"type\":\"Range1d\"},{\"attributes\":{\"source\":{\"id\":\"1665\"}},\"id\":\"1669\",\"type\":\"CDSView\"},{\"attributes\":{\"bounds\":[-3.0464927016671695,3.0228058095173043],\"end\":3.0228058095173043,\"start\":-3.0464927016671695},\"id\":\"1670\",\"type\":\"Range1d\"},{\"attributes\":{},\"id\":\"1724\",\"type\":\"BasicTickFormatter\"},{\"attributes\":{},\"id\":\"1651\",\"type\":\"PanTool\"},{\"attributes\":{},\"id\":\"1728\",\"type\":\"Selection\"},{\"attributes\":{},\"id\":\"1726\",\"type\":\"BasicTickFormatter\"},{\"attributes\":{},\"id\":\"1648\",\"type\":\"BasicTicker\"},{\"attributes\":{},\"id\":\"1652\",\"type\":\"WheelZoomTool\"},{\"attributes\":{\"overlay\":{\"id\":\"1657\"}},\"id\":\"1653\",\"type\":\"BoxZoomTool\"},{\"attributes\":{},\"id\":\"1654\",\"type\":\"SaveTool\"},{\"attributes\":{},\"id\":\"1655\",\"type\":\"ResetTool\"},{\"attributes\":{},\"id\":\"1656\",\"type\":\"HelpTool\"},{\"attributes\":{\"text\":\"\"},\"id\":\"1721\",\"type\":\"Title\"},{\"attributes\":{},\"id\":\"1639\",\"type\":\"LinearScale\"},{\"attributes\":{\"active_drag\":\"auto\",\"active_inspect\":\"auto\",\"active_multi\":null,\"active_scroll\":\"auto\",\"active_tap\":\"auto\",\"tools\":[{\"id\":\"1651\"},{\"id\":\"1652\"},{\"id\":\"1653\"},{\"id\":\"1654\"},{\"id\":\"1655\"},{\"id\":\"1656\"}]},\"id\":\"1658\",\"type\":\"Toolbar\"},{\"attributes\":{},\"id\":\"1641\",\"type\":\"LinearScale\"},{\"attributes\":{\"bottom_units\":\"screen\",\"fill_alpha\":0.5,\"fill_color\":\"lightgrey\",\"left_units\":\"screen\",\"level\":\"overlay\",\"line_alpha\":1.0,\"line_color\":\"black\",\"line_dash\":[4,4],\"line_width\":2,\"right_units\":\"screen\",\"top_units\":\"screen\"},\"id\":\"1657\",\"type\":\"BoxAnnotation\"},{\"attributes\":{\"axis_label\":\"x\",\"formatter\":{\"id\":\"1724\"},\"ticker\":{\"id\":\"1644\"}},\"id\":\"1643\",\"type\":\"LinearAxis\"}],\"root_ids\":[\"1634\"]},\"title\":\"Bokeh Application\",\"version\":\"2.2.3\"}};\n",
       "  var render_items = [{\"docid\":\"7818d2b5-c1c5-4c1d-8e7e-24aa2f886b8d\",\"root_ids\":[\"1634\"],\"roots\":{\"1634\":\"700f107d-afa7-468a-aa60-7c83de3d942f\"}}];\n",
       "  root.Bokeh.embed.embed_items_notebook(docs_json, render_items);\n",
       "\n",
       "  }\n",
       "  if (root.Bokeh !== undefined) {\n",
       "    embed_document(root);\n",
       "  } else {\n",
       "    var attempts = 0;\n",
       "    var timer = setInterval(function(root) {\n",
       "      if (root.Bokeh !== undefined) {\n",
       "        clearInterval(timer);\n",
       "        embed_document(root);\n",
       "      } else {\n",
       "        attempts++;\n",
       "        if (attempts > 100) {\n",
       "          clearInterval(timer);\n",
       "          console.log(\"Bokeh: ERROR: Unable to run BokehJS code because BokehJS library is missing\");\n",
       "        }\n",
       "      }\n",
       "    }, 10, root)\n",
       "  }\n",
       "})(window);"
      ],
      "application/vnd.bokehjs_exec.v0+json": ""
     },
     "metadata": {
      "application/vnd.bokehjs_exec.v0+json": {
       "id": "1634"
      }
     },
     "output_type": "display_data"
    }
   ],
   "source": [
    "import aplanat\n",
    "from aplanat import points\n",
    "\n",
    "plot_1 = points.points([x], [y], x_axis_label='x', y_axis_label='y')\n",
    "aplanat.show(plot_1, background=\"#f4f4f4\")"
   ]
  },
  {
   "cell_type": "markdown",
   "metadata": {},
   "source": [
    "Note of the `x-` and `y-`values are given within lists, this is because the arguments are lists of potentially more data series. For example to plot both `y` against `x`, and `x` against `y`:"
   ]
  },
  {
   "cell_type": "code",
   "execution_count": 68,
   "metadata": {},
   "outputs": [
    {
     "data": {
      "application/javascript": [
       "\n",
       "(function(root) {\n",
       "  function now() {\n",
       "    return new Date();\n",
       "  }\n",
       "\n",
       "  var force = true;\n",
       "\n",
       "  if (typeof root._bokeh_onload_callbacks === \"undefined\" || force === true) {\n",
       "    root._bokeh_onload_callbacks = [];\n",
       "    root._bokeh_is_loading = undefined;\n",
       "  }\n",
       "\n",
       "  var JS_MIME_TYPE = 'application/javascript';\n",
       "  var HTML_MIME_TYPE = 'text/html';\n",
       "  var EXEC_MIME_TYPE = 'application/vnd.bokehjs_exec.v0+json';\n",
       "  var CLASS_NAME = 'output_bokeh rendered_html';\n",
       "\n",
       "  /**\n",
       "   * Render data to the DOM node\n",
       "   */\n",
       "  function render(props, node) {\n",
       "    var script = document.createElement(\"script\");\n",
       "    node.appendChild(script);\n",
       "  }\n",
       "\n",
       "  /**\n",
       "   * Handle when an output is cleared or removed\n",
       "   */\n",
       "  function handleClearOutput(event, handle) {\n",
       "    var cell = handle.cell;\n",
       "\n",
       "    var id = cell.output_area._bokeh_element_id;\n",
       "    var server_id = cell.output_area._bokeh_server_id;\n",
       "    // Clean up Bokeh references\n",
       "    if (id != null && id in Bokeh.index) {\n",
       "      Bokeh.index[id].model.document.clear();\n",
       "      delete Bokeh.index[id];\n",
       "    }\n",
       "\n",
       "    if (server_id !== undefined) {\n",
       "      // Clean up Bokeh references\n",
       "      var cmd = \"from bokeh.io.state import curstate; print(curstate().uuid_to_server['\" + server_id + \"'].get_sessions()[0].document.roots[0]._id)\";\n",
       "      cell.notebook.kernel.execute(cmd, {\n",
       "        iopub: {\n",
       "          output: function(msg) {\n",
       "            var id = msg.content.text.trim();\n",
       "            if (id in Bokeh.index) {\n",
       "              Bokeh.index[id].model.document.clear();\n",
       "              delete Bokeh.index[id];\n",
       "            }\n",
       "          }\n",
       "        }\n",
       "      });\n",
       "      // Destroy server and session\n",
       "      var cmd = \"import bokeh.io.notebook as ion; ion.destroy_server('\" + server_id + \"')\";\n",
       "      cell.notebook.kernel.execute(cmd);\n",
       "    }\n",
       "  }\n",
       "\n",
       "  /**\n",
       "   * Handle when a new output is added\n",
       "   */\n",
       "  function handleAddOutput(event, handle) {\n",
       "    var output_area = handle.output_area;\n",
       "    var output = handle.output;\n",
       "\n",
       "    // limit handleAddOutput to display_data with EXEC_MIME_TYPE content only\n",
       "    if ((output.output_type != \"display_data\") || (!output.data.hasOwnProperty(EXEC_MIME_TYPE))) {\n",
       "      return\n",
       "    }\n",
       "\n",
       "    var toinsert = output_area.element.find(\".\" + CLASS_NAME.split(' ')[0]);\n",
       "\n",
       "    if (output.metadata[EXEC_MIME_TYPE][\"id\"] !== undefined) {\n",
       "      toinsert[toinsert.length - 1].firstChild.textContent = output.data[JS_MIME_TYPE];\n",
       "      // store reference to embed id on output_area\n",
       "      output_area._bokeh_element_id = output.metadata[EXEC_MIME_TYPE][\"id\"];\n",
       "    }\n",
       "    if (output.metadata[EXEC_MIME_TYPE][\"server_id\"] !== undefined) {\n",
       "      var bk_div = document.createElement(\"div\");\n",
       "      bk_div.innerHTML = output.data[HTML_MIME_TYPE];\n",
       "      var script_attrs = bk_div.children[0].attributes;\n",
       "      for (var i = 0; i < script_attrs.length; i++) {\n",
       "        toinsert[toinsert.length - 1].firstChild.setAttribute(script_attrs[i].name, script_attrs[i].value);\n",
       "        toinsert[toinsert.length - 1].firstChild.textContent = bk_div.children[0].textContent\n",
       "      }\n",
       "      // store reference to server id on output_area\n",
       "      output_area._bokeh_server_id = output.metadata[EXEC_MIME_TYPE][\"server_id\"];\n",
       "    }\n",
       "  }\n",
       "\n",
       "  function register_renderer(events, OutputArea) {\n",
       "\n",
       "    function append_mime(data, metadata, element) {\n",
       "      // create a DOM node to render to\n",
       "      var toinsert = this.create_output_subarea(\n",
       "        metadata,\n",
       "        CLASS_NAME,\n",
       "        EXEC_MIME_TYPE\n",
       "      );\n",
       "      this.keyboard_manager.register_events(toinsert);\n",
       "      // Render to node\n",
       "      var props = {data: data, metadata: metadata[EXEC_MIME_TYPE]};\n",
       "      render(props, toinsert[toinsert.length - 1]);\n",
       "      element.append(toinsert);\n",
       "      return toinsert\n",
       "    }\n",
       "\n",
       "    /* Handle when an output is cleared or removed */\n",
       "    events.on('clear_output.CodeCell', handleClearOutput);\n",
       "    events.on('delete.Cell', handleClearOutput);\n",
       "\n",
       "    /* Handle when a new output is added */\n",
       "    events.on('output_added.OutputArea', handleAddOutput);\n",
       "\n",
       "    /**\n",
       "     * Register the mime type and append_mime function with output_area\n",
       "     */\n",
       "    OutputArea.prototype.register_mime_type(EXEC_MIME_TYPE, append_mime, {\n",
       "      /* Is output safe? */\n",
       "      safe: true,\n",
       "      /* Index of renderer in `output_area.display_order` */\n",
       "      index: 0\n",
       "    });\n",
       "  }\n",
       "\n",
       "  // register the mime type if in Jupyter Notebook environment and previously unregistered\n",
       "  if (root.Jupyter !== undefined) {\n",
       "    var events = require('base/js/events');\n",
       "    var OutputArea = require('notebook/js/outputarea').OutputArea;\n",
       "\n",
       "    if (OutputArea.prototype.mime_types().indexOf(EXEC_MIME_TYPE) == -1) {\n",
       "      register_renderer(events, OutputArea);\n",
       "    }\n",
       "  }\n",
       "\n",
       "  \n",
       "  if (typeof (root._bokeh_timeout) === \"undefined\" || force === true) {\n",
       "    root._bokeh_timeout = Date.now() + 5000;\n",
       "    root._bokeh_failed_load = false;\n",
       "  }\n",
       "\n",
       "  var NB_LOAD_WARNING = {'data': {'text/html':\n",
       "     \"<div style='background-color: #fdd'>\\n\"+\n",
       "     \"<p>\\n\"+\n",
       "     \"BokehJS does not appear to have successfully loaded. If loading BokehJS from CDN, this \\n\"+\n",
       "     \"may be due to a slow or bad network connection. Possible fixes:\\n\"+\n",
       "     \"</p>\\n\"+\n",
       "     \"<ul>\\n\"+\n",
       "     \"<li>re-rerun `output_notebook()` to attempt to load from CDN again, or</li>\\n\"+\n",
       "     \"<li>use INLINE resources instead, as so:</li>\\n\"+\n",
       "     \"</ul>\\n\"+\n",
       "     \"<code>\\n\"+\n",
       "     \"from bokeh.resources import INLINE\\n\"+\n",
       "     \"output_notebook(resources=INLINE)\\n\"+\n",
       "     \"</code>\\n\"+\n",
       "     \"</div>\"}};\n",
       "\n",
       "  function display_loaded() {\n",
       "    var el = document.getElementById(null);\n",
       "    if (el != null) {\n",
       "      el.textContent = \"BokehJS is loading...\";\n",
       "    }\n",
       "    if (root.Bokeh !== undefined) {\n",
       "      if (el != null) {\n",
       "        el.textContent = \"BokehJS \" + root.Bokeh.version + \" successfully loaded.\";\n",
       "      }\n",
       "    } else if (Date.now() < root._bokeh_timeout) {\n",
       "      setTimeout(display_loaded, 100)\n",
       "    }\n",
       "  }\n",
       "\n",
       "\n",
       "  function run_callbacks() {\n",
       "    try {\n",
       "      root._bokeh_onload_callbacks.forEach(function(callback) {\n",
       "        if (callback != null)\n",
       "          callback();\n",
       "      });\n",
       "    } finally {\n",
       "      delete root._bokeh_onload_callbacks\n",
       "    }\n",
       "    console.debug(\"Bokeh: all callbacks have finished\");\n",
       "  }\n",
       "\n",
       "  function load_libs(css_urls, js_urls, callback) {\n",
       "    if (css_urls == null) css_urls = [];\n",
       "    if (js_urls == null) js_urls = [];\n",
       "\n",
       "    root._bokeh_onload_callbacks.push(callback);\n",
       "    if (root._bokeh_is_loading > 0) {\n",
       "      console.debug(\"Bokeh: BokehJS is being loaded, scheduling callback at\", now());\n",
       "      return null;\n",
       "    }\n",
       "    if (js_urls == null || js_urls.length === 0) {\n",
       "      run_callbacks();\n",
       "      return null;\n",
       "    }\n",
       "    console.debug(\"Bokeh: BokehJS not loaded, scheduling load and callback at\", now());\n",
       "    root._bokeh_is_loading = css_urls.length + js_urls.length;\n",
       "\n",
       "    function on_load() {\n",
       "      root._bokeh_is_loading--;\n",
       "      if (root._bokeh_is_loading === 0) {\n",
       "        console.debug(\"Bokeh: all BokehJS libraries/stylesheets loaded\");\n",
       "        run_callbacks()\n",
       "      }\n",
       "    }\n",
       "\n",
       "    function on_error() {\n",
       "      console.error(\"failed to load \" + url);\n",
       "    }\n",
       "\n",
       "    for (var i = 0; i < css_urls.length; i++) {\n",
       "      var url = css_urls[i];\n",
       "      const element = document.createElement(\"link\");\n",
       "      element.onload = on_load;\n",
       "      element.onerror = on_error;\n",
       "      element.rel = \"stylesheet\";\n",
       "      element.type = \"text/css\";\n",
       "      element.href = url;\n",
       "      console.debug(\"Bokeh: injecting link tag for BokehJS stylesheet: \", url);\n",
       "      document.body.appendChild(element);\n",
       "    }\n",
       "\n",
       "    const hashes = {\"https://cdn.bokeh.org/bokeh/release/bokeh-2.2.3.min.js\": \"T2yuo9Oe71Cz/I4X9Ac5+gpEa5a8PpJCDlqKYO0CfAuEszu1JrXLl8YugMqYe3sM\", \"https://cdn.bokeh.org/bokeh/release/bokeh-widgets-2.2.3.min.js\": \"98GDGJ0kOMCUMUePhksaQ/GYgB3+NH9h996V88sh3aOiUNX3N+fLXAtry6xctSZ6\", \"https://cdn.bokeh.org/bokeh/release/bokeh-tables-2.2.3.min.js\": \"89bArO+nlbP3sgakeHjCo1JYxYR5wufVgA3IbUvDY+K7w4zyxJqssu7wVnfeKCq8\"};\n",
       "\n",
       "    for (var i = 0; i < js_urls.length; i++) {\n",
       "      var url = js_urls[i];\n",
       "      var element = document.createElement('script');\n",
       "      element.onload = on_load;\n",
       "      element.onerror = on_error;\n",
       "      element.async = false;\n",
       "      element.src = url;\n",
       "      if (url in hashes) {\n",
       "        element.crossOrigin = \"anonymous\";\n",
       "        element.integrity = \"sha384-\" + hashes[url];\n",
       "      }\n",
       "      console.debug(\"Bokeh: injecting script tag for BokehJS library: \", url);\n",
       "      document.head.appendChild(element);\n",
       "    }\n",
       "  };\n",
       "\n",
       "  function inject_raw_css(css) {\n",
       "    const element = document.createElement(\"style\");\n",
       "    element.appendChild(document.createTextNode(css));\n",
       "    document.body.appendChild(element);\n",
       "  }\n",
       "\n",
       "  \n",
       "  var js_urls = [\"https://cdn.bokeh.org/bokeh/release/bokeh-2.2.3.min.js\", \"https://cdn.bokeh.org/bokeh/release/bokeh-widgets-2.2.3.min.js\", \"https://cdn.bokeh.org/bokeh/release/bokeh-tables-2.2.3.min.js\"];\n",
       "  var css_urls = [];\n",
       "  \n",
       "\n",
       "  var inline_js = [\n",
       "    function(Bokeh) {\n",
       "      Bokeh.set_log_level(\"info\");\n",
       "    },\n",
       "    function(Bokeh) {\n",
       "    \n",
       "    \n",
       "    }\n",
       "  ];\n",
       "\n",
       "  function run_inline_js() {\n",
       "    \n",
       "    if (root.Bokeh !== undefined || force === true) {\n",
       "      \n",
       "    for (var i = 0; i < inline_js.length; i++) {\n",
       "      inline_js[i].call(root, root.Bokeh);\n",
       "    }\n",
       "    } else if (Date.now() < root._bokeh_timeout) {\n",
       "      setTimeout(run_inline_js, 100);\n",
       "    } else if (!root._bokeh_failed_load) {\n",
       "      console.log(\"Bokeh: BokehJS failed to load within specified timeout.\");\n",
       "      root._bokeh_failed_load = true;\n",
       "    } else if (force !== true) {\n",
       "      var cell = $(document.getElementById(null)).parents('.cell').data().cell;\n",
       "      cell.output_area.append_execute_result(NB_LOAD_WARNING)\n",
       "    }\n",
       "\n",
       "  }\n",
       "\n",
       "  if (root._bokeh_is_loading === 0) {\n",
       "    console.debug(\"Bokeh: BokehJS loaded, going straight to plotting\");\n",
       "    run_inline_js();\n",
       "  } else {\n",
       "    load_libs(css_urls, js_urls, function() {\n",
       "      console.debug(\"Bokeh: BokehJS plotting callback run at\", now());\n",
       "      run_inline_js();\n",
       "    });\n",
       "  }\n",
       "}(window));"
      ],
      "application/vnd.bokehjs_load.v0+json": "\n(function(root) {\n  function now() {\n    return new Date();\n  }\n\n  var force = true;\n\n  if (typeof root._bokeh_onload_callbacks === \"undefined\" || force === true) {\n    root._bokeh_onload_callbacks = [];\n    root._bokeh_is_loading = undefined;\n  }\n\n  \n\n  \n  if (typeof (root._bokeh_timeout) === \"undefined\" || force === true) {\n    root._bokeh_timeout = Date.now() + 5000;\n    root._bokeh_failed_load = false;\n  }\n\n  var NB_LOAD_WARNING = {'data': {'text/html':\n     \"<div style='background-color: #fdd'>\\n\"+\n     \"<p>\\n\"+\n     \"BokehJS does not appear to have successfully loaded. If loading BokehJS from CDN, this \\n\"+\n     \"may be due to a slow or bad network connection. Possible fixes:\\n\"+\n     \"</p>\\n\"+\n     \"<ul>\\n\"+\n     \"<li>re-rerun `output_notebook()` to attempt to load from CDN again, or</li>\\n\"+\n     \"<li>use INLINE resources instead, as so:</li>\\n\"+\n     \"</ul>\\n\"+\n     \"<code>\\n\"+\n     \"from bokeh.resources import INLINE\\n\"+\n     \"output_notebook(resources=INLINE)\\n\"+\n     \"</code>\\n\"+\n     \"</div>\"}};\n\n  function display_loaded() {\n    var el = document.getElementById(null);\n    if (el != null) {\n      el.textContent = \"BokehJS is loading...\";\n    }\n    if (root.Bokeh !== undefined) {\n      if (el != null) {\n        el.textContent = \"BokehJS \" + root.Bokeh.version + \" successfully loaded.\";\n      }\n    } else if (Date.now() < root._bokeh_timeout) {\n      setTimeout(display_loaded, 100)\n    }\n  }\n\n\n  function run_callbacks() {\n    try {\n      root._bokeh_onload_callbacks.forEach(function(callback) {\n        if (callback != null)\n          callback();\n      });\n    } finally {\n      delete root._bokeh_onload_callbacks\n    }\n    console.debug(\"Bokeh: all callbacks have finished\");\n  }\n\n  function load_libs(css_urls, js_urls, callback) {\n    if (css_urls == null) css_urls = [];\n    if (js_urls == null) js_urls = [];\n\n    root._bokeh_onload_callbacks.push(callback);\n    if (root._bokeh_is_loading > 0) {\n      console.debug(\"Bokeh: BokehJS is being loaded, scheduling callback at\", now());\n      return null;\n    }\n    if (js_urls == null || js_urls.length === 0) {\n      run_callbacks();\n      return null;\n    }\n    console.debug(\"Bokeh: BokehJS not loaded, scheduling load and callback at\", now());\n    root._bokeh_is_loading = css_urls.length + js_urls.length;\n\n    function on_load() {\n      root._bokeh_is_loading--;\n      if (root._bokeh_is_loading === 0) {\n        console.debug(\"Bokeh: all BokehJS libraries/stylesheets loaded\");\n        run_callbacks()\n      }\n    }\n\n    function on_error() {\n      console.error(\"failed to load \" + url);\n    }\n\n    for (var i = 0; i < css_urls.length; i++) {\n      var url = css_urls[i];\n      const element = document.createElement(\"link\");\n      element.onload = on_load;\n      element.onerror = on_error;\n      element.rel = \"stylesheet\";\n      element.type = \"text/css\";\n      element.href = url;\n      console.debug(\"Bokeh: injecting link tag for BokehJS stylesheet: \", url);\n      document.body.appendChild(element);\n    }\n\n    const hashes = {\"https://cdn.bokeh.org/bokeh/release/bokeh-2.2.3.min.js\": \"T2yuo9Oe71Cz/I4X9Ac5+gpEa5a8PpJCDlqKYO0CfAuEszu1JrXLl8YugMqYe3sM\", \"https://cdn.bokeh.org/bokeh/release/bokeh-widgets-2.2.3.min.js\": \"98GDGJ0kOMCUMUePhksaQ/GYgB3+NH9h996V88sh3aOiUNX3N+fLXAtry6xctSZ6\", \"https://cdn.bokeh.org/bokeh/release/bokeh-tables-2.2.3.min.js\": \"89bArO+nlbP3sgakeHjCo1JYxYR5wufVgA3IbUvDY+K7w4zyxJqssu7wVnfeKCq8\"};\n\n    for (var i = 0; i < js_urls.length; i++) {\n      var url = js_urls[i];\n      var element = document.createElement('script');\n      element.onload = on_load;\n      element.onerror = on_error;\n      element.async = false;\n      element.src = url;\n      if (url in hashes) {\n        element.crossOrigin = \"anonymous\";\n        element.integrity = \"sha384-\" + hashes[url];\n      }\n      console.debug(\"Bokeh: injecting script tag for BokehJS library: \", url);\n      document.head.appendChild(element);\n    }\n  };\n\n  function inject_raw_css(css) {\n    const element = document.createElement(\"style\");\n    element.appendChild(document.createTextNode(css));\n    document.body.appendChild(element);\n  }\n\n  \n  var js_urls = [\"https://cdn.bokeh.org/bokeh/release/bokeh-2.2.3.min.js\", \"https://cdn.bokeh.org/bokeh/release/bokeh-widgets-2.2.3.min.js\", \"https://cdn.bokeh.org/bokeh/release/bokeh-tables-2.2.3.min.js\"];\n  var css_urls = [];\n  \n\n  var inline_js = [\n    function(Bokeh) {\n      Bokeh.set_log_level(\"info\");\n    },\n    function(Bokeh) {\n    \n    \n    }\n  ];\n\n  function run_inline_js() {\n    \n    if (root.Bokeh !== undefined || force === true) {\n      \n    for (var i = 0; i < inline_js.length; i++) {\n      inline_js[i].call(root, root.Bokeh);\n    }\n    } else if (Date.now() < root._bokeh_timeout) {\n      setTimeout(run_inline_js, 100);\n    } else if (!root._bokeh_failed_load) {\n      console.log(\"Bokeh: BokehJS failed to load within specified timeout.\");\n      root._bokeh_failed_load = true;\n    } else if (force !== true) {\n      var cell = $(document.getElementById(null)).parents('.cell').data().cell;\n      cell.output_area.append_execute_result(NB_LOAD_WARNING)\n    }\n\n  }\n\n  if (root._bokeh_is_loading === 0) {\n    console.debug(\"Bokeh: BokehJS loaded, going straight to plotting\");\n    run_inline_js();\n  } else {\n    load_libs(css_urls, js_urls, function() {\n      console.debug(\"Bokeh: BokehJS plotting callback run at\", now());\n      run_inline_js();\n    });\n  }\n}(window));"
     },
     "metadata": {},
     "output_type": "display_data"
    },
    {
     "data": {
      "text/html": [
       "\n",
       "\n",
       "\n",
       "\n",
       "\n",
       "\n",
       "  <div class=\"bk-root\" id=\"6a30302d-a19e-4ce3-8157-45934154b336\" data-root-id=\"2378\"></div>\n"
      ]
     },
     "metadata": {},
     "output_type": "display_data"
    },
    {
     "data": {
      "application/javascript": [
       "(function(root) {\n",
       "  function embed_document(root) {\n",
       "    \n",
       "  var docs_json = {\"47ba5f34-1fe1-47d2-bcd6-cedf5c9e50b6\":{\"roots\":{\"references\":[{\"attributes\":{\"background_fill_color\":\"#f4f4f4\",\"below\":[{\"id\":\"2387\"}],\"border_fill_color\":\"#f4f4f4\",\"center\":[{\"id\":\"2390\"},{\"id\":\"2394\"},{\"id\":\"2423\"}],\"left\":[{\"id\":\"2391\"}],\"output_backend\":\"webgl\",\"plot_height\":300,\"plot_width\":400,\"renderers\":[{\"id\":\"2412\"},{\"id\":\"2428\"}],\"title\":{\"id\":\"2414\"},\"toolbar\":{\"id\":\"2402\"},\"x_range\":{\"id\":\"2442\"},\"x_scale\":{\"id\":\"2383\"},\"y_range\":{\"id\":\"2443\"},\"y_scale\":{\"id\":\"2385\"}},\"id\":\"2378\",\"subtype\":\"Figure\",\"type\":\"Plot\"},{\"attributes\":{},\"id\":\"2439\",\"type\":\"Selection\"},{\"attributes\":{\"axis_label\":\"item 2\",\"formatter\":{\"id\":\"2419\"},\"ticker\":{\"id\":\"2392\"}},\"id\":\"2391\",\"type\":\"LinearAxis\"},{\"attributes\":{\"label\":{\"value\":\"x on the y-axis\"},\"renderers\":[{\"id\":\"2428\"}]},\"id\":\"2441\",\"type\":\"LegendItem\"},{\"attributes\":{\"data_source\":{\"id\":\"2425\"},\"glyph\":{\"id\":\"2426\"},\"hover_glyph\":null,\"muted_glyph\":null,\"nonselection_glyph\":{\"id\":\"2427\"},\"selection_glyph\":null,\"view\":{\"id\":\"2429\"}},\"id\":\"2428\",\"type\":\"GlyphRenderer\"},{\"attributes\":{\"bottom_units\":\"screen\",\"fill_alpha\":0.5,\"fill_color\":\"lightgrey\",\"left_units\":\"screen\",\"level\":\"overlay\",\"line_alpha\":1.0,\"line_color\":\"black\",\"line_dash\":[4,4],\"line_width\":2,\"right_units\":\"screen\",\"top_units\":\"screen\"},\"id\":\"2401\",\"type\":\"BoxAnnotation\"},{\"attributes\":{\"axis\":{\"id\":\"2387\"},\"ticker\":null},\"id\":\"2390\",\"type\":\"Grid\"},{\"attributes\":{},\"id\":\"2388\",\"type\":\"BasicTicker\"},{\"attributes\":{\"data\":{\"x\":{\"__ndarray__\":\"XYn9VIBoB8AvdVINPqynv0v0QJ89Jb6/3Ja6GtvgAMBCzRj08fDUP5lRkMqHbOK/gm6SZFZ24r9fEw3Qdyf3v3Vyu6zVXfQ/blGR+f1T9T+XKr4Om9MCQFT7e+gE3uQ/jstEHahn9T+r6mmFmrTzv53V0XgD/9m/MWYR50wf0r8daoE8hovxPyMpDd3jMvE/v5b35DP99D9T3eYUMXEBwIUaZniZj/A/wytYyu8gwb9o/c1ZWTOkv0eqzRQhQOS/OdRwlHSm0T9D6WmBZ233P+t6Q7CFIPS/Ilmk73P8AMCZOTvjK8v8v2AZXkck7fg/mDeFZ2np1L9EWVIbx97pP3LnolU/UPs/U4vdBoVy0T/VR8bH9Bf0P4EUdMpobJM/Hrd8FIQPsz8paSbky57fv9PmEE6ILsW/1kOFdxCPxT/8BBNpGFHtPyskJSBTrqi/6YNphMH15j83yPTrytnTv/YGjoRidLm/T2POUXSO6j/pec8xZDzzv3xGV2cjkvq/e2V34vmOAMAteMSX0hfxPweg5MZTC7O/ubatWF7v2D+QV0oUGJ77v1Y/7OSWBeQ/MMRHxj9O9j/bjUr5G3b6v/gwEpXPK9I/qKQIuEh08z9KTc6oEA+svwEzmwRx9Mo/pW0PLutMyb9mC8xvx6HqP69+K8rcI+i/73xwhJxq6z8oLIcKFTTvv9JH4+LabQHAK7+0NqwQ878sJ5FTFekGQD5CfJe0Fti/xlGmQQ6l2r/hnmQSK4zsP0dYoj0e0OI/fu7PnoGjvb/W2n+33l3xv5iMy5ze4/s/bMoLPwR+wr/FWujaazz4P6CQPJnC4LC/OuGLMur28b+7mHUwd+WbPwyfdN/TC7y/d7OZNz+r1b/5qfU78LnwP+i7hRKd5/w/UvZJUFJ/6z/TvruT3NXZv+8Cf26jDd0/H/pIkV3s8L/19xdJA0i2v6IvzBPhE+a/TXM+h1Cw5b/xirJCCKzVvyu/zF8sbLI/zeJQGqjp+b/dWNcFmg3hPxknpVQgJtA/r+u2arTo3T87MOtWtgTRv7+gd+f1APc/AavSHSTq2z8hWf/MMYnEP8M+Jzj/k+Q/ECnaZSsqAEDKQrISF9Tmv9AzB+klyAbAQ3yGEmmR6z8Po76zbar1P8/8cjF0BcA/m6Y/PlP16j/jX9/L9QHtP4xQIh9AZco/Nl23YCJOBcCWbiQhxGvHv12C4d0rTNI/+o0zdOR52T/B2cFFbA7oPzMix3gfL/U/UFUFhQlbx7+oNjjUNcfzv/aIZXEHbfK/+PwdUmfasD86mMKieS2QP4EOdOxpM/c/tmrmHvXh5L9sIQGRyb3yP024Sn8M78U/F0lqq1cnBMAYs6Xz1+r4v6zIo235vuK/NU6NyxyLwz9yM+jlRaCzP2d8yk2lBsS/kmDo5NR52T/4Ztoj3yrcv3eEb4P+SrE/DswvKOBZ6L8yeyHTx7KFP33Cq9uNKeU/50aTebKL3L8BzC7Gwn/0v8Az9x5AXPu/TeAxi26N9r/4IyPpszkAwBwKKuEEdtq/LyKLFjMn8L+SR5s1dunovxlJ5Mo0WPW/8hdLpVyN7z9CJq5nGn/Rv5BesZTVudY/I4RDbv7Gxj9N/xmxqqL9Pxe2GMeMGuQ/ul03TrKu8L+dTVDvZgjuP0S0rVhuK6c/tzJBXh2S2L+To/CSLX34P9XyjO/dM+M/HZLDSMec27/t72TOhBHov7HyeU4gffS/z6+lo5FO5b+1O9nLIWbpP1UAxygsr/4/2IlGxsVO4D9S5jCEg83rP+p6EtRx5nA/rPf5nhybiT+8u6Cw6RQDwA3aCIclWv2/vkYfSkLVyz+cC6E+rGn7P2Qepc6/QNe/oKijYLfF4b9sixqgEfjiv3T4tCHAUP6/Gt3B9eAt9z+didkOJTf6v92WL8VbRcI/uVSso9fwtD8jfnqwZiC/v7KvWJ9NgdI/VigDOpkF0T8+9CHECczwP0+1o9bNj+q/eO1zZvtg9z+LHv9tIILqP2nosYRpB+2/Nk7W2KNa478ZouJWUmLuv/bdpnk2Pfw/CfcS7tbw7z/7SLrdA2DTvzfiZMyvx5G/BRo/N6SM5z9QEYisWwjvP3N4odFEJe2/Y3kD8Cb44D9FmixI1LTdv6SPZfD2anW/08XsIHkE5j+5ZAZQkOXGP2RlN3AofvG/5akBKZ/w3j+bpg6KBnTjvz+8SJfeZ/Y/7g/rZ/Zm5T/Av6m2ctflv6pZb5uYr7M/68gkgzgU77/03I3/jD/nP7pXkae5mec/ezfqIjIt0j+tLWuMmxfhvyj8dDDCvr8/rI0xStPrwz/GeTcgQ4OiP5+aKIdmYdW/feZDq6sr3D+1nYtAnz70vw1Gt9t9q7g/3e0wnFva0D+rAp1a6vTYPxMoL4IHLsK/VLoVyqQGuj9vpitzGOHgP0C/5N6CVOE/i3QvPltzwr+uvLLwRz7WvxpzcsbbdPG/pVpLaIJ73b96XxfsKK4AwKnMZaNVLek/pYLp1OFi5z8h4mENeSkEwBThtmiWCsU/45VccT215z9i+7IscnDkP52T+9b9utw/xuxHWd/l+D8h7x9wksbaP5UES8pCCaG/POxuhXSwyT9L9ttGr63zv9xA/MwKquk/dzznc1DC5L/DQYaRjBnevw7RH/M0/sW/Pk+DsSVV6T/tFORmcADTv/i5+whXG9a/qPYkDopVvD/eX+ycMzfPPyQAwTfGaue/dqFwwF3j1r+QyP183l7xv/5aVxMIo/A/QubgTfa84b8kdpL46NzwvyUS/4hED6S/ORsHkUsY5T/HzAIEKandvwQgX8hwOua/Lsheb+SM3r9+l3XJz7juP6OQ06IOwvu/AQar4VMtzj+FipQjK/3nP4VZmOhug/a/dQVDPq5/978jiJrFr/f0v+5DS+mRgfE/D/ccKspH8L/0bnaCMFf0Py34t+S5D5k/X/8h6DWqnz9qBlTK8A/2v0TvQNLgQ+g/pAvhABF/4r92zi/RQY/gPzVRzz0e+Pe/SnrkZz6D6L/0B+tzJsvzP39zXTJrJ92/zIhCsgpXyb+FbxypyDz8P0d9YdFDaN2/hcb3un0S9j9JflDLzXzcv/HKEe/aBeK/cGhxaZC6er91mm7BvcfrPw/BLRqHROS/QQksLTXW7T8GAhgao6fwvwHdfVwLVsm/sQl+iXgA8z8ZGuf5FmjqP0xhWsR5Cuk/unJaFmom8D/bcA6nx37hP5+641MJBfK/5lvpPFMk8z8qFhQ30kzCv7dTIcruveG/WgXLvX/s5T+/5kMAihLyvwbIYZRfF9k/auAjIxnTxj+X5ZU78afQP9CHvj1M4eq/RKhkD0213j9Bf/5ZUgzdPxCWWs+7Ldc/b6q0cs/Vwr9R1AskPbHoPzrB6fkWrs8/A7m7yK/S4D/BirNkRlfwPwwqdDPy6+E/cNGxLeTQ3b+KLPyQQ/vEvxkgHHm0Gum/IDfOuFd02L/6SUOeDJ/yPwweKp1fz8M/R1myuF3sx7+R7hUonpvyvwrm0eXJdvS/qG7WKKWskT86ViFU6+oBwHSdDc4Tbvq/+n8fBczF9L8YRvyJ26Dzv5jpE5REu/s/xd+4WZjV/j+kqz54WAXhv9RT0J/62tU/jfjEj2FdAkBbS2K2zHHxP3a79t8SUtc/90jwz7QuCEDEKj71T1b0v8vVv0sZBuU/eRxtHRXRvr+xj6w9LFHLv9JjpeNefwLAEvcdGowb179sy5ik9VK5P7vKE3K2/OE/ktfsf2wS77+Fz/9Xvz6Sv+UY/hzRC/K/ehmqvlhW8r/TIqDhOavpvzH//VJbQNE/FMoF0kNX8b/wM6m7Im3rvzEmlvzruPA/uuY89TLX9T9/nA5lkBbRv5OdTe9zkgNAly/iYX0q6T8A5fuOK3/wP20wSohWuMI/VR/qEMId7T8cM0FliJflvxNl1g7BsvW/xxXYe2sp+z8q/HmIt5TqPyaciCSYIeO/pTWifo+Hyr9AiaJ2MLruP5HY69NRJ9q/4zRRdKbHA0AnwRXPUSd2P3Q9F6iastU/NGbzKeoEwL8HFbEawivfPxLmHn+Ru+m/HEZLpe9i9D8f7RF5M9ffv47YBm+FZ7I/3pYaR1JDwj/hmginCyvSP4bBQXJHSPu/1q/nOR6K5b++N3b0axb5v9yDf6Fd0Zy/vMy6ybK45r8+8rzS/PLqPzPDT0+vBd2/DyYsVlR46L92ti9FlRTovzt1m+xAzu4/KX8KJPHi8D/Mg90XMCwHwOCTDn2/9bS/hxlnYsF3tT9YTMRxD0Dlv8nC6Mq6EPk/kEur6j+z278IjvHEDEKivye7G41sSei/iFuo8fOt8D8H0Hdfppi8vzs/mevQXJ0/D0eWV7Ew+L9Nos7dj6PlvwLrSUA9FNO/fJY1bdLLwT+bJw7z097ovzFTuELpPva/o53O3AMi97/hzKC+1wPXv3AOYfRNf/O/uW14GadszD+o5+gSL1D5PybS9H7tsMk/sHypNC+X1b9qfAH/AgrgPydgJoWfX/G/5PYGWnDW47/e3/JF487SvwYJfud5+PU/6PtliyP9BEBPsjDh+/vmP/8XW17PL+C/bJKTPh/Xxz/e//mmb5f+P3GVoFKM/eO/96LW91SZ7j9LeH/fnUndP6/bLaLEUec/KWCkjdWr0L8/zS9Y+ezhv4G9j/W3Tew/NefVutSQqr9WPX7xZtXxPxBfPYSjvgVAgXtyqM7D2j+OmN9cHWjQP5C846ocbtU/C60+JQVRvr9LZvVX+5PTP060UU+LbOu/GSl1npIi7D/gsfZgdsfSP2KMUSaU3us/mKcHW45kxb9L0soTQzbwv7qwQbDRz/a/iZHz0vYR279oalxu/fbpP6r9G2vntgbAg1VePsSO4L9jgbgHT3j6v6ruiv04ntI/umuti8oLkz/Jfm4dNzUBQPoxGLKqTQBA3iGmoqqS4T/x3L/v2j7iv3IxVWNWDea/GbpzKBxu8z9FFmf24u6bv+VLYdM3MwHAv6QS5Vr73L9Aj+X+t6qjP48MHHmOyf8/7XNC2hgVq78YU48i44rsv4OsLoa5rdW/ro5339bl5L9Xz2M9pFLxv75pxxTwyPW/jpos2m567D/BQrNte0rov1tODDe74dA/oslRW4Vj9D/8FSyObJ2pv5dcMAFTO6u/n58Mgv9D/T9SD0tjyd/1vxvPcyuIoq4/ScNt7tFc8L9tii8WnujnvyCuxlNF6Ou/FgYQ4hjC0L/KZKWol13vv4gQVLxDruQ/6wocPdjQwr9bU2S3Gib6vz5e9BK5kgFAc6IkGBPB7T9/QXP3fajkPxhrTCI+4fu/jXe3ibC45T8qnuzwL1jXv7pWbH474eC/lKtUt5l23z9py0u84dTGP+s3HIzZP/4/EOacKanQu78PB12E2Jjxv9v216qVgdC/ws1mDBP+A0BaVUnnMEv6v+pkaelxqOM/7eJem2ve8L9bkbHxq13Rv5yb/S9Aq+G/xZjs6KkQ7T+UnB/VxGrrv6/qj9XFTdA/JTtEpSyP1z/BvGiRiNLYP89dAOkBm3q/LiLn22NB6L9zU1VQKXjkP7ugdvM3eZS/cnPn2cY+4z+j0v8QWoLVP0oCMxylPfC/JbwcXfvr5D8vzcQounjhvwZP4otj4tk/IHxoNJb4zT/4T/avLCjQvxAynixzEO+/1pUvV0Wp4D+3Hd6wZxz2P3C0xodRd+2/5YpisCgg979WZkPbggu7v03dMwAy3dk/iGrjWstc8z/4OwOp2/jXv28iam+1ycc/Hej1WuFU4b8/PV87+VQAwLvllmrqGP0/xtzUbhGG8z+Z+BIq0rHpvxqCXu1AXdi/G0v/f3m38b+t4EWRdfP9v93zYNF/QOK/a6F7GyZpA0AUae2SaQjrv4hcy74qxKy/9+0f+7Mc2z/2WEKAcpz+v9WDiE2EW+0/DByVA4hA6D9rN8P+r9vgP9k3lejnaNG/ysAT5Kuy178ui3itkojwP2MJBqrC4fi/JFzubMRG8T/evx2xQ2rPvyfQ1EDEEew/D0674rW89r9bonHALH3tvyGOv+6lV+k/QwnA1br4sL88slvuu8z1vwZ1wsLHI+U/Liodu2nKvT8FCzTs9p7bP/j/JPdpj9U/7VTnKbye1r8FTfF9ZnK4v2JkiJ+bwKo/jzcrMCDD479S+/0UYPnyPy2R5cN2sd4/VNhzkU1u2D/LFbaS+e/5P3QRBIgh7IO/9kRCydWg079dejZeKRO5P8BqdK5YYPG/TdOf46navz8wbHhKq9bSP1h2SmEIwPG/jBtmG2Yg3D82w88OwgxwPyyN2s38GO+/UEfzZBD5wb+8iDYP/TnjvypkbmtcUbG/d0CBlvHlwb+K2dWkDGHjP2wSDxfCsfA/99Z1TeUg4L+vi6IaAuMEwLZ/JYCeYNi/Fu6TvIRQwL833e/0HNvNv4Uvyh6079e/uVFjRprJ5D82raJlByn8v0lkalScXME/H6TKax+0379KLFtSCnzQP0ND6qxIa+K/v5Cjx5eh4T/CcrPExI7qP4ZSclELBfk/SRZWy8ORtz9upYkqufC6P7DBD7t0ueu/IKLDiyVR7D9I9/c5WAr+PwfgUIwSK+A/vlFUala39j/nupFDx4bQP1biuQWHV/u/jym+Dp8q8D8sF28e5/vvvzFvCB3mI/Q/eGKbNtk41j/vL6a3URfBP9/aQ6LVifI/hzhe10bl3j+gZJu0+IfvP8SrtM1yZdk/fj0pe9OB1z/02BeQLzvkPy6jE+xf+vi/3G7jLSAv5T9+wf+mehDyv0ULQrn04+G/FzQeF6HHtj/aS68Yaev2P1h5WGf6GNu/j/bL4Uj1xz/PVaAbwZ7fP61ta67EVem/9ZGpFVTksb9gPgfJEiXYP/w0xoUgttC/TVN5BIXH2z+CLKisraHpP1M4iC9VAf8/lPaDDThyyz+LfcPPJ/vqvxtOAc/Ouu4/dB7Vy61r7b/yrE18UUz4vzfg6gfgIaO/jwjzJ4c54r/ikPKTrFjqP77fMgmM0OA/6544ccCN9b9quAkN0cDjv2G9uzRr+NU/ViX7tqqo9D/RKSuvEBHyP9W6LGawfry/J7ZfZTQw5T9rfiqnzF7dv5DEXFVPXvG/34URrwewAUDn7VQwDJHvP0SEpXlYZPg/W2rYJQki8L/f5ABgusfcP16vGRpQfOg/KRpjf3TB8D9FpsgLzcnlP4dWTvCU2/C/G53efPUluT8E7Y4+Jh6+vzpy+gMU8MA/lrhjUV6W+T/1DRnNDBzLv+Dv2bc94ua/y1UIm5/UA0AB0Vbtz8TlP8pgZ3OsLuM/5W1jCbPj2T/OMhKD0jT+v9ZzMkuZiwTA8moWuqaUwb/LgHH5J37ZP7W8srAD5eM/cAZwsZ/8xb8VMaUYbxbnvzaa54F9I8I/67IZFBTj8L9WCTbgkvDmP7XuNJVMKPa/coe9P2zn4T9SprDVS4rQvy+axZ8L2vY/YwcWp4We8L+tVPgg0DfNP4o+ZIga6sU/C7dAasKf9r+6yRXiD9XzPyfIGQfyEfU/gk+YnJXS+L9YkuvU7KOyvybNCxAVA9Q/wSQCdEFG97/ofdnN1yTwv+nsJc2hDcU/o++78kRy9r/i6LvFDAPdv5dzrGzBzP2/LHeBCb7eur8mRUxe8+7yP+qiwwswufE/vZertWm9AcACWSs3yvz/v0UbqQcp0MO/hOyPtXWsyr/WzT3rI7f0v184p8xPEbO/YjTQ2kqo0r+iZJphfZLtPw2FCgYPMvc/W4P2MaAO8L9P7aijWKfwPzp7+St63sy/I4Teiaks7b+bdJtI3q/Qv1OvibDPkfS/rvPcdljs6j8MhPFwFdP1vzYosmlooMW/WsOdr39D878JsNOoUxTQPwUTO2pXItM/U4pOt/zdyj+ZNDRMgKDYv5CbfLc2w+a/Tylfoxea578wFc5Z7Q2WP3KZHfdAf/e/KE2a9snM+z//cVJLHPL0v3B2539Vevm/Os9AdKap2b84fok57jDxv5uqbFSJ4QFAiRlFFqqv2b/Zdgpdgf7xPxp7RQnjOem/KBIxoahn0786/+v7A7WbP/Nvwq4B7vA/VoGhaUfb+L+myZW3fW/PPyqqvNQRZ+c/1AUGyz4hyD8G2VvGjri1v4BOnd2cUtQ//lb5W8JM9b9hpt6h7vn0v2/63y0/D+c/Iw7rz1J9wL972qJn6qL0v8IhZMbzaeS/m8GKtDBO2L8XbzkwJfnpP2RJmMPib+Y/bvdvEwOW5r/hlQ24C1zhv8DYPvnOW96/wsVhWUda+r8RkqCZRxz0P3EnFQZ8QuO/FjJN4XMa4b/m2NHZy4PzvyNP2Xv4nOA/bjkTMjkG8D+Vvgoct/PSP7Bxdn4BQ++/jbK/2eo53T8lO7cNkILrvzYAi0gK9/6/51dJ2IGssT+kRhGuCFLhP8iuykJU28c/MtCr8VIG17/L7T+/M9/xv6jnseT5wtw/CrS//Fc6+z+HiUG6mZfaP3BVhooBs+q/3JpppSSz+T+RbU94/StLvzfv0zrFv7k/0vAFsFTP6D/tczoMkG/yP9pcez2OF9A/LLuUNT168L9tnogE3pHVP68yTpR2COi/wEwjonrN0j+KwISLZ77Yvz65HMnU5Pe/C0J/0F7EAMC9xhSZAJrVP/caAd3eofS/wYqBSHdFy79+2gHW4Rv2v3MyVVAobdi/VgP6H0sr+L8yTXgiKH6Lv5b6qhKNWfS/xpgTTtyr9j8Kuusln0rGv3I0cJ9wz5Q/LUGKIuwIwb/2DcE8N73Tv6c1Ri4/vbm/3NxoP6CZ4z+GkqBKTuPFP+Ad3vEAmOq/xojaHAFk5L/VA0wJjRO2P41pCujo/fe/GtH06oaD8j/HHAZVql3rP4me8qa3296/Z3s8BMsE2L/H9frvgcrxvy+LaDlOrfU/+UVyZ4MB3r94VKum8JXcvxrM8dElPsq/9Bz0gljgnz+J+64Vi6rovyP3tWR5WdM/cTxP8NdN8T9UZqZ5F8fuPyLwEiMNAeo/9qBOxoLUAMB9WRyv8VvYv8K9L92D4PC/ULzUVkUE9D/CpR+ydTXuv/1r8gc4I9Q/Kd7Rx0X7+z+9ohVzjtvqv5auakwC8vQ/s5ffCAva5T/8WvP/mg3lv3hDDJ03nfC/Z6iEY4Ae8b9dcJ3MqvX2v3lCw31jkO6/Dj1jXOedoT/X/BY42e3mPwOXk45D90k/Xn9vzTdE+7+Hi3kJSdDfvyLZFwRb3+0/96dh2CXb/j/xIV8f7UjLv4Ri+jWf0/8/KOdMfG9E47+Vgf8Ys+TAP+J2EVMPh/W//uCubKSm+r9b/Nkd/N7bvwZYWBw/ZdG/DekKPl6G4L8nPnFPBcrqv218a26ncfm/6pvyJ1CQnz92/ThGpyrcv2W5lciBlec/uumoimP48D9LWE9AIMzWP9DrFNXxMN2/OBFLaVqf9T9yXcM/u7bKPzFgYGC4qdu/i4/+l/Om+T+aIdKMdKjhPzCd8sEE5e0/ZeVgQh9w4L8n5buXV1i3vwma3/OLZcC/FQTXZLmP5D9hQngTp476PzsMDJ2Zwew/SjCNsBpD4r/cm6/I8kbyvxj5aIaJYATAaeYowU731T9G4abtKFfgP0V8vC0oavK/MVdWvSzz4j/oDaKucjPrv6k7lZwiAeM/sMwmsQBW9L8jt3H2ISLzP5ZZnDHm3Og/VKlDyUKR+D+rZ1yOFyjlv013YJ2A2fi/qFhcgFURAEAXiEsZSHvpP6oRn0R0efY/rj8VUyIMpT8HenOlnsHEv9djBTqaa9i/o2R98p5+7z8+3bNRNInvv+PICsGmkbg/3rCXLBXt178O2kSI/WzZv5gpyDhPNfS/kYURSZtH+L/dXJR0dvTDP9QxzLY93uY/uOigHOA+AEC1xeUDI4nIPzScROKmY+K/sD0HAWoH1b/CfsFatkP2P4YsCA5FXvI/pFt824Wo8L+PB0tCmHnpP8tb0SYtcuE/KZR+pjF52L/vH1lmNoLgvzBb1zCk4Lu/FRa+PkGBBcBCai5uSNC5P2OxepubYPM/XklkrZ2l/b8SC43Snv3/v/Ipge626e+/jAyDlABM4D8ZbrbUkdH1P6cLVgBP+O0/65WmQcgttr/NuppSTtD1vyjna3qFp/G/RleAytdI7T/EVwFOGmbov3ou7G1ZXPQ/Pls/0wbH3z+BH44l2AjfPySVi2nKGvW/MWY4Zo27yb+1WpXrx2LAv4c3+FGJ/Ng/Y/PCIysS8b8jCdaOt1Vov1AUxsLvkuK/LbWAVG1i6r/VSBxbl+Prv+TMoDRnO/a/njjlFxDr8L+qazV3L6j7v86HdD3HrfI/xBZjsLPV8j8J0a35OyfQvzBOyZA3XwjA0GAO7aaP5L8ulCp5+TaYv8QC/TRYBOY/ICjLew9R4T/LbO/w4z/yP3c4brgDIfE/GBGaC84d9b+47GeK+ZniPxz5VoJ3kOu/BG6OBUXM0z+Mct0jgRX4v+Ljb06xCPK/RJF6o93o1r+77FC3diznP0SNeonvk7y/Z4GZyawc9z+K8/fgTMbUv4kYoTwGMco/rloYs2PO4z93YBMDudCxP++1dfMOJM+/0K0arVO66r/DFExM8lXyv0sjOsoljH4/SWJRDdkn8z9b+QYHCPTjvwsJqpeSNvU/d12y+Eq22D9RtTg4zozhv5h2MzfPou0/QbnctVZ0xb8=\",\"dtype\":\"float64\",\"order\":\"little\",\"shape\":[1000]},\"y\":{\"__ndarray__\":\"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\",\"dtype\":\"float64\",\"order\":\"little\",\"shape\":[1000]}},\"selected\":{\"id\":\"2421\"},\"selection_policy\":{\"id\":\"2420\"}},\"id\":\"2409\",\"type\":\"ColumnDataSource\"},{\"attributes\":{\"fill_alpha\":{\"value\":0.1},\"fill_color\":{\"value\":\"red\"},\"line_alpha\":{\"value\":0.1},\"line_color\":{\"value\":\"red\"},\"x\":{\"field\":\"x\"},\"y\":{\"field\":\"y\"}},\"id\":\"2411\",\"type\":\"Circle\"},{\"attributes\":{\"axis_label\":\"item 1\",\"formatter\":{\"id\":\"2417\"},\"ticker\":{\"id\":\"2388\"}},\"id\":\"2387\",\"type\":\"LinearAxis\"},{\"attributes\":{},\"id\":\"2385\",\"type\":\"LinearScale\"},{\"attributes\":{\"fill_alpha\":{\"value\":0.1},\"fill_color\":{\"value\":\"blue\"},\"line_alpha\":{\"value\":0.1},\"line_color\":{\"value\":\"blue\"},\"x\":{\"field\":\"x\"},\"y\":{\"field\":\"y\"}},\"id\":\"2427\",\"type\":\"Circle\"},{\"attributes\":{\"text\":\"\"},\"id\":\"2414\",\"type\":\"Title\"},{\"attributes\":{\"fill_alpha\":{\"value\":0.4},\"fill_color\":{\"value\":\"red\"},\"line_alpha\":{\"value\":0.4},\"line_color\":{\"value\":\"red\"},\"x\":{\"field\":\"x\"},\"y\":{\"field\":\"y\"}},\"id\":\"2410\",\"type\":\"Circle\"},{\"attributes\":{},\"id\":\"2383\",\"type\":\"LinearScale\"},{\"attributes\":{\"data_source\":{\"id\":\"2409\"},\"glyph\":{\"id\":\"2410\"},\"hover_glyph\":null,\"muted_glyph\":null,\"nonselection_glyph\":{\"id\":\"2411\"},\"selection_glyph\":null,\"view\":{\"id\":\"2413\"}},\"id\":\"2412\",\"type\":\"GlyphRenderer\"},{\"attributes\":{\"source\":{\"id\":\"2409\"}},\"id\":\"2413\",\"type\":\"CDSView\"},{\"attributes\":{},\"id\":\"2417\",\"type\":\"BasicTickFormatter\"},{\"attributes\":{\"bounds\":[-3.22512488134755,3.0228058095173043],\"end\":3.0228058095173043,\"start\":-3.22512488134755},\"id\":\"2443\",\"type\":\"Range1d\"},{\"attributes\":{},\"id\":\"2419\",\"type\":\"BasicTickFormatter\"},{\"attributes\":{\"active_drag\":\"auto\",\"active_inspect\":\"auto\",\"active_multi\":null,\"active_scroll\":\"auto\",\"active_tap\":\"auto\",\"tools\":[{\"id\":\"2395\"},{\"id\":\"2396\"},{\"id\":\"2397\"},{\"id\":\"2398\"},{\"id\":\"2399\"},{\"id\":\"2400\"}]},\"id\":\"2402\",\"type\":\"Toolbar\"},{\"attributes\":{},\"id\":\"2420\",\"type\":\"UnionRenderers\"},{\"attributes\":{\"bounds\":[-3.22512488134755,3.0228058095173043],\"end\":3.0228058095173043,\"start\":-3.22512488134755},\"id\":\"2442\",\"type\":\"Range1d\"},{\"attributes\":{},\"id\":\"2421\",\"type\":\"Selection\"},{\"attributes\":{},\"id\":\"2396\",\"type\":\"WheelZoomTool\"},{\"attributes\":{\"items\":[{\"id\":\"2424\"},{\"id\":\"2441\"}]},\"id\":\"2423\",\"type\":\"Legend\"},{\"attributes\":{},\"id\":\"2438\",\"type\":\"UnionRenderers\"},{\"attributes\":{},\"id\":\"2395\",\"type\":\"PanTool\"},{\"attributes\":{\"label\":{\"value\":\"y on the y-axis\"},\"renderers\":[{\"id\":\"2412\"}]},\"id\":\"2424\",\"type\":\"LegendItem\"},{\"attributes\":{},\"id\":\"2398\",\"type\":\"SaveTool\"},{\"attributes\":{\"data\":{\"x\":{\"__ndarray__\":\"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\",\"dtype\":\"float64\",\"order\":\"little\",\"shape\":[1000]},\"y\":{\"__ndarray__\":\"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\",\"dtype\":\"float64\",\"order\":\"little\",\"shape\":[1000]}},\"selected\":{\"id\":\"2439\"},\"selection_policy\":{\"id\":\"2438\"}},\"id\":\"2425\",\"type\":\"ColumnDataSource\"},{\"attributes\":{},\"id\":\"2400\",\"type\":\"HelpTool\"},{\"attributes\":{},\"id\":\"2399\",\"type\":\"ResetTool\"},{\"attributes\":{\"overlay\":{\"id\":\"2401\"}},\"id\":\"2397\",\"type\":\"BoxZoomTool\"},{\"attributes\":{\"axis\":{\"id\":\"2391\"},\"dimension\":1,\"ticker\":null},\"id\":\"2394\",\"type\":\"Grid\"},{\"attributes\":{\"source\":{\"id\":\"2425\"}},\"id\":\"2429\",\"type\":\"CDSView\"},{\"attributes\":{\"fill_alpha\":{\"value\":0.4},\"fill_color\":{\"value\":\"blue\"},\"line_alpha\":{\"value\":0.4},\"line_color\":{\"value\":\"blue\"},\"x\":{\"field\":\"x\"},\"y\":{\"field\":\"y\"}},\"id\":\"2426\",\"type\":\"Circle\"},{\"attributes\":{},\"id\":\"2392\",\"type\":\"BasicTicker\"}],\"root_ids\":[\"2378\"]},\"title\":\"Bokeh Application\",\"version\":\"2.2.3\"}};\n",
       "  var render_items = [{\"docid\":\"47ba5f34-1fe1-47d2-bcd6-cedf5c9e50b6\",\"root_ids\":[\"2378\"],\"roots\":{\"2378\":\"6a30302d-a19e-4ce3-8157-45934154b336\"}}];\n",
       "  root.Bokeh.embed.embed_items_notebook(docs_json, render_items);\n",
       "\n",
       "  }\n",
       "  if (root.Bokeh !== undefined) {\n",
       "    embed_document(root);\n",
       "  } else {\n",
       "    var attempts = 0;\n",
       "    var timer = setInterval(function(root) {\n",
       "      if (root.Bokeh !== undefined) {\n",
       "        clearInterval(timer);\n",
       "        embed_document(root);\n",
       "      } else {\n",
       "        attempts++;\n",
       "        if (attempts > 100) {\n",
       "          clearInterval(timer);\n",
       "          console.log(\"Bokeh: ERROR: Unable to run BokehJS code because BokehJS library is missing\");\n",
       "        }\n",
       "      }\n",
       "    }, 10, root)\n",
       "  }\n",
       "})(window);"
      ],
      "application/vnd.bokehjs_exec.v0+json": ""
     },
     "metadata": {
      "application/vnd.bokehjs_exec.v0+json": {
       "id": "2378"
      }
     },
     "output_type": "display_data"
    }
   ],
   "source": [
    "plot_2 = points.points(\n",
    "    [x, y], [y, x],\n",
    "    names=['y on the y-axis', 'x on the y-axis'],\n",
    "    colors=['red', 'blue'],\n",
    "    x_axis_label='item 1', y_axis_label='item 2',\n",
    "    height=300, width=400)\n",
    "aplanat.show(plot_2, background=\"#f4f4f4\")"
   ]
  },
  {
   "cell_type": "markdown",
   "metadata": {},
   "source": [
    "In creating the plots above, `aplanat` has applied sensible default attributes to the plots and taken care of some bokeh boilerplate necessaries that the developer would otherwise have to include. These include:\n",
    "\n",
    "* instructing bokeh to generate output for notebooks (not javascript, or static images)\n",
    "* set sensible plot limits, both for the initial view and panning (panning will not move outside the area where data reside)\n",
    "* set a useful default plot size\n",
    "* ensure a legend is plotting if series names are given\n",
    "\n",
    "In addition, note that the `show()` function accepts a `background` argument. This sets the colour of all background elements of the plot, here to the colour of the notebook cell output background.\n",
    "\n",
    "For other plot types, developers are encouraged to peruse the [source code](https://github.com/epi2me-labs/aplanat), or review use cases presented in EPI2ME Labs notebooks. We don't currently have automatically generated documentation."
   ]
  },
  {
   "cell_type": "markdown",
   "metadata": {},
   "source": [
    "### Infographics\n",
    "\n",
    "Included in `aplanat` is the ability to create \"infographics\". These can be used to highlight key performance metrics in notebooks and reports:"
   ]
  },
  {
   "cell_type": "code",
   "execution_count": 76,
   "metadata": {},
   "outputs": [
    {
     "data": {
      "application/javascript": [
       "\n",
       "(function(root) {\n",
       "  function now() {\n",
       "    return new Date();\n",
       "  }\n",
       "\n",
       "  var force = true;\n",
       "\n",
       "  if (typeof root._bokeh_onload_callbacks === \"undefined\" || force === true) {\n",
       "    root._bokeh_onload_callbacks = [];\n",
       "    root._bokeh_is_loading = undefined;\n",
       "  }\n",
       "\n",
       "  var JS_MIME_TYPE = 'application/javascript';\n",
       "  var HTML_MIME_TYPE = 'text/html';\n",
       "  var EXEC_MIME_TYPE = 'application/vnd.bokehjs_exec.v0+json';\n",
       "  var CLASS_NAME = 'output_bokeh rendered_html';\n",
       "\n",
       "  /**\n",
       "   * Render data to the DOM node\n",
       "   */\n",
       "  function render(props, node) {\n",
       "    var script = document.createElement(\"script\");\n",
       "    node.appendChild(script);\n",
       "  }\n",
       "\n",
       "  /**\n",
       "   * Handle when an output is cleared or removed\n",
       "   */\n",
       "  function handleClearOutput(event, handle) {\n",
       "    var cell = handle.cell;\n",
       "\n",
       "    var id = cell.output_area._bokeh_element_id;\n",
       "    var server_id = cell.output_area._bokeh_server_id;\n",
       "    // Clean up Bokeh references\n",
       "    if (id != null && id in Bokeh.index) {\n",
       "      Bokeh.index[id].model.document.clear();\n",
       "      delete Bokeh.index[id];\n",
       "    }\n",
       "\n",
       "    if (server_id !== undefined) {\n",
       "      // Clean up Bokeh references\n",
       "      var cmd = \"from bokeh.io.state import curstate; print(curstate().uuid_to_server['\" + server_id + \"'].get_sessions()[0].document.roots[0]._id)\";\n",
       "      cell.notebook.kernel.execute(cmd, {\n",
       "        iopub: {\n",
       "          output: function(msg) {\n",
       "            var id = msg.content.text.trim();\n",
       "            if (id in Bokeh.index) {\n",
       "              Bokeh.index[id].model.document.clear();\n",
       "              delete Bokeh.index[id];\n",
       "            }\n",
       "          }\n",
       "        }\n",
       "      });\n",
       "      // Destroy server and session\n",
       "      var cmd = \"import bokeh.io.notebook as ion; ion.destroy_server('\" + server_id + \"')\";\n",
       "      cell.notebook.kernel.execute(cmd);\n",
       "    }\n",
       "  }\n",
       "\n",
       "  /**\n",
       "   * Handle when a new output is added\n",
       "   */\n",
       "  function handleAddOutput(event, handle) {\n",
       "    var output_area = handle.output_area;\n",
       "    var output = handle.output;\n",
       "\n",
       "    // limit handleAddOutput to display_data with EXEC_MIME_TYPE content only\n",
       "    if ((output.output_type != \"display_data\") || (!output.data.hasOwnProperty(EXEC_MIME_TYPE))) {\n",
       "      return\n",
       "    }\n",
       "\n",
       "    var toinsert = output_area.element.find(\".\" + CLASS_NAME.split(' ')[0]);\n",
       "\n",
       "    if (output.metadata[EXEC_MIME_TYPE][\"id\"] !== undefined) {\n",
       "      toinsert[toinsert.length - 1].firstChild.textContent = output.data[JS_MIME_TYPE];\n",
       "      // store reference to embed id on output_area\n",
       "      output_area._bokeh_element_id = output.metadata[EXEC_MIME_TYPE][\"id\"];\n",
       "    }\n",
       "    if (output.metadata[EXEC_MIME_TYPE][\"server_id\"] !== undefined) {\n",
       "      var bk_div = document.createElement(\"div\");\n",
       "      bk_div.innerHTML = output.data[HTML_MIME_TYPE];\n",
       "      var script_attrs = bk_div.children[0].attributes;\n",
       "      for (var i = 0; i < script_attrs.length; i++) {\n",
       "        toinsert[toinsert.length - 1].firstChild.setAttribute(script_attrs[i].name, script_attrs[i].value);\n",
       "        toinsert[toinsert.length - 1].firstChild.textContent = bk_div.children[0].textContent\n",
       "      }\n",
       "      // store reference to server id on output_area\n",
       "      output_area._bokeh_server_id = output.metadata[EXEC_MIME_TYPE][\"server_id\"];\n",
       "    }\n",
       "  }\n",
       "\n",
       "  function register_renderer(events, OutputArea) {\n",
       "\n",
       "    function append_mime(data, metadata, element) {\n",
       "      // create a DOM node to render to\n",
       "      var toinsert = this.create_output_subarea(\n",
       "        metadata,\n",
       "        CLASS_NAME,\n",
       "        EXEC_MIME_TYPE\n",
       "      );\n",
       "      this.keyboard_manager.register_events(toinsert);\n",
       "      // Render to node\n",
       "      var props = {data: data, metadata: metadata[EXEC_MIME_TYPE]};\n",
       "      render(props, toinsert[toinsert.length - 1]);\n",
       "      element.append(toinsert);\n",
       "      return toinsert\n",
       "    }\n",
       "\n",
       "    /* Handle when an output is cleared or removed */\n",
       "    events.on('clear_output.CodeCell', handleClearOutput);\n",
       "    events.on('delete.Cell', handleClearOutput);\n",
       "\n",
       "    /* Handle when a new output is added */\n",
       "    events.on('output_added.OutputArea', handleAddOutput);\n",
       "\n",
       "    /**\n",
       "     * Register the mime type and append_mime function with output_area\n",
       "     */\n",
       "    OutputArea.prototype.register_mime_type(EXEC_MIME_TYPE, append_mime, {\n",
       "      /* Is output safe? */\n",
       "      safe: true,\n",
       "      /* Index of renderer in `output_area.display_order` */\n",
       "      index: 0\n",
       "    });\n",
       "  }\n",
       "\n",
       "  // register the mime type if in Jupyter Notebook environment and previously unregistered\n",
       "  if (root.Jupyter !== undefined) {\n",
       "    var events = require('base/js/events');\n",
       "    var OutputArea = require('notebook/js/outputarea').OutputArea;\n",
       "\n",
       "    if (OutputArea.prototype.mime_types().indexOf(EXEC_MIME_TYPE) == -1) {\n",
       "      register_renderer(events, OutputArea);\n",
       "    }\n",
       "  }\n",
       "\n",
       "  \n",
       "  if (typeof (root._bokeh_timeout) === \"undefined\" || force === true) {\n",
       "    root._bokeh_timeout = Date.now() + 5000;\n",
       "    root._bokeh_failed_load = false;\n",
       "  }\n",
       "\n",
       "  var NB_LOAD_WARNING = {'data': {'text/html':\n",
       "     \"<div style='background-color: #fdd'>\\n\"+\n",
       "     \"<p>\\n\"+\n",
       "     \"BokehJS does not appear to have successfully loaded. If loading BokehJS from CDN, this \\n\"+\n",
       "     \"may be due to a slow or bad network connection. Possible fixes:\\n\"+\n",
       "     \"</p>\\n\"+\n",
       "     \"<ul>\\n\"+\n",
       "     \"<li>re-rerun `output_notebook()` to attempt to load from CDN again, or</li>\\n\"+\n",
       "     \"<li>use INLINE resources instead, as so:</li>\\n\"+\n",
       "     \"</ul>\\n\"+\n",
       "     \"<code>\\n\"+\n",
       "     \"from bokeh.resources import INLINE\\n\"+\n",
       "     \"output_notebook(resources=INLINE)\\n\"+\n",
       "     \"</code>\\n\"+\n",
       "     \"</div>\"}};\n",
       "\n",
       "  function display_loaded() {\n",
       "    var el = document.getElementById(null);\n",
       "    if (el != null) {\n",
       "      el.textContent = \"BokehJS is loading...\";\n",
       "    }\n",
       "    if (root.Bokeh !== undefined) {\n",
       "      if (el != null) {\n",
       "        el.textContent = \"BokehJS \" + root.Bokeh.version + \" successfully loaded.\";\n",
       "      }\n",
       "    } else if (Date.now() < root._bokeh_timeout) {\n",
       "      setTimeout(display_loaded, 100)\n",
       "    }\n",
       "  }\n",
       "\n",
       "\n",
       "  function run_callbacks() {\n",
       "    try {\n",
       "      root._bokeh_onload_callbacks.forEach(function(callback) {\n",
       "        if (callback != null)\n",
       "          callback();\n",
       "      });\n",
       "    } finally {\n",
       "      delete root._bokeh_onload_callbacks\n",
       "    }\n",
       "    console.debug(\"Bokeh: all callbacks have finished\");\n",
       "  }\n",
       "\n",
       "  function load_libs(css_urls, js_urls, callback) {\n",
       "    if (css_urls == null) css_urls = [];\n",
       "    if (js_urls == null) js_urls = [];\n",
       "\n",
       "    root._bokeh_onload_callbacks.push(callback);\n",
       "    if (root._bokeh_is_loading > 0) {\n",
       "      console.debug(\"Bokeh: BokehJS is being loaded, scheduling callback at\", now());\n",
       "      return null;\n",
       "    }\n",
       "    if (js_urls == null || js_urls.length === 0) {\n",
       "      run_callbacks();\n",
       "      return null;\n",
       "    }\n",
       "    console.debug(\"Bokeh: BokehJS not loaded, scheduling load and callback at\", now());\n",
       "    root._bokeh_is_loading = css_urls.length + js_urls.length;\n",
       "\n",
       "    function on_load() {\n",
       "      root._bokeh_is_loading--;\n",
       "      if (root._bokeh_is_loading === 0) {\n",
       "        console.debug(\"Bokeh: all BokehJS libraries/stylesheets loaded\");\n",
       "        run_callbacks()\n",
       "      }\n",
       "    }\n",
       "\n",
       "    function on_error() {\n",
       "      console.error(\"failed to load \" + url);\n",
       "    }\n",
       "\n",
       "    for (var i = 0; i < css_urls.length; i++) {\n",
       "      var url = css_urls[i];\n",
       "      const element = document.createElement(\"link\");\n",
       "      element.onload = on_load;\n",
       "      element.onerror = on_error;\n",
       "      element.rel = \"stylesheet\";\n",
       "      element.type = \"text/css\";\n",
       "      element.href = url;\n",
       "      console.debug(\"Bokeh: injecting link tag for BokehJS stylesheet: \", url);\n",
       "      document.body.appendChild(element);\n",
       "    }\n",
       "\n",
       "    const hashes = {\"https://cdn.bokeh.org/bokeh/release/bokeh-2.2.3.min.js\": \"T2yuo9Oe71Cz/I4X9Ac5+gpEa5a8PpJCDlqKYO0CfAuEszu1JrXLl8YugMqYe3sM\", \"https://cdn.bokeh.org/bokeh/release/bokeh-widgets-2.2.3.min.js\": \"98GDGJ0kOMCUMUePhksaQ/GYgB3+NH9h996V88sh3aOiUNX3N+fLXAtry6xctSZ6\", \"https://cdn.bokeh.org/bokeh/release/bokeh-tables-2.2.3.min.js\": \"89bArO+nlbP3sgakeHjCo1JYxYR5wufVgA3IbUvDY+K7w4zyxJqssu7wVnfeKCq8\"};\n",
       "\n",
       "    for (var i = 0; i < js_urls.length; i++) {\n",
       "      var url = js_urls[i];\n",
       "      var element = document.createElement('script');\n",
       "      element.onload = on_load;\n",
       "      element.onerror = on_error;\n",
       "      element.async = false;\n",
       "      element.src = url;\n",
       "      if (url in hashes) {\n",
       "        element.crossOrigin = \"anonymous\";\n",
       "        element.integrity = \"sha384-\" + hashes[url];\n",
       "      }\n",
       "      console.debug(\"Bokeh: injecting script tag for BokehJS library: \", url);\n",
       "      document.head.appendChild(element);\n",
       "    }\n",
       "  };\n",
       "\n",
       "  function inject_raw_css(css) {\n",
       "    const element = document.createElement(\"style\");\n",
       "    element.appendChild(document.createTextNode(css));\n",
       "    document.body.appendChild(element);\n",
       "  }\n",
       "\n",
       "  \n",
       "  var js_urls = [\"https://cdn.bokeh.org/bokeh/release/bokeh-2.2.3.min.js\", \"https://cdn.bokeh.org/bokeh/release/bokeh-widgets-2.2.3.min.js\", \"https://cdn.bokeh.org/bokeh/release/bokeh-tables-2.2.3.min.js\"];\n",
       "  var css_urls = [];\n",
       "  \n",
       "\n",
       "  var inline_js = [\n",
       "    function(Bokeh) {\n",
       "      Bokeh.set_log_level(\"info\");\n",
       "    },\n",
       "    function(Bokeh) {\n",
       "    \n",
       "    \n",
       "    }\n",
       "  ];\n",
       "\n",
       "  function run_inline_js() {\n",
       "    \n",
       "    if (root.Bokeh !== undefined || force === true) {\n",
       "      \n",
       "    for (var i = 0; i < inline_js.length; i++) {\n",
       "      inline_js[i].call(root, root.Bokeh);\n",
       "    }\n",
       "    } else if (Date.now() < root._bokeh_timeout) {\n",
       "      setTimeout(run_inline_js, 100);\n",
       "    } else if (!root._bokeh_failed_load) {\n",
       "      console.log(\"Bokeh: BokehJS failed to load within specified timeout.\");\n",
       "      root._bokeh_failed_load = true;\n",
       "    } else if (force !== true) {\n",
       "      var cell = $(document.getElementById(null)).parents('.cell').data().cell;\n",
       "      cell.output_area.append_execute_result(NB_LOAD_WARNING)\n",
       "    }\n",
       "\n",
       "  }\n",
       "\n",
       "  if (root._bokeh_is_loading === 0) {\n",
       "    console.debug(\"Bokeh: BokehJS loaded, going straight to plotting\");\n",
       "    run_inline_js();\n",
       "  } else {\n",
       "    load_libs(css_urls, js_urls, function() {\n",
       "      console.debug(\"Bokeh: BokehJS plotting callback run at\", now());\n",
       "      run_inline_js();\n",
       "    });\n",
       "  }\n",
       "}(window));"
      ],
      "application/vnd.bokehjs_load.v0+json": "\n(function(root) {\n  function now() {\n    return new Date();\n  }\n\n  var force = true;\n\n  if (typeof root._bokeh_onload_callbacks === \"undefined\" || force === true) {\n    root._bokeh_onload_callbacks = [];\n    root._bokeh_is_loading = undefined;\n  }\n\n  \n\n  \n  if (typeof (root._bokeh_timeout) === \"undefined\" || force === true) {\n    root._bokeh_timeout = Date.now() + 5000;\n    root._bokeh_failed_load = false;\n  }\n\n  var NB_LOAD_WARNING = {'data': {'text/html':\n     \"<div style='background-color: #fdd'>\\n\"+\n     \"<p>\\n\"+\n     \"BokehJS does not appear to have successfully loaded. If loading BokehJS from CDN, this \\n\"+\n     \"may be due to a slow or bad network connection. Possible fixes:\\n\"+\n     \"</p>\\n\"+\n     \"<ul>\\n\"+\n     \"<li>re-rerun `output_notebook()` to attempt to load from CDN again, or</li>\\n\"+\n     \"<li>use INLINE resources instead, as so:</li>\\n\"+\n     \"</ul>\\n\"+\n     \"<code>\\n\"+\n     \"from bokeh.resources import INLINE\\n\"+\n     \"output_notebook(resources=INLINE)\\n\"+\n     \"</code>\\n\"+\n     \"</div>\"}};\n\n  function display_loaded() {\n    var el = document.getElementById(null);\n    if (el != null) {\n      el.textContent = \"BokehJS is loading...\";\n    }\n    if (root.Bokeh !== undefined) {\n      if (el != null) {\n        el.textContent = \"BokehJS \" + root.Bokeh.version + \" successfully loaded.\";\n      }\n    } else if (Date.now() < root._bokeh_timeout) {\n      setTimeout(display_loaded, 100)\n    }\n  }\n\n\n  function run_callbacks() {\n    try {\n      root._bokeh_onload_callbacks.forEach(function(callback) {\n        if (callback != null)\n          callback();\n      });\n    } finally {\n      delete root._bokeh_onload_callbacks\n    }\n    console.debug(\"Bokeh: all callbacks have finished\");\n  }\n\n  function load_libs(css_urls, js_urls, callback) {\n    if (css_urls == null) css_urls = [];\n    if (js_urls == null) js_urls = [];\n\n    root._bokeh_onload_callbacks.push(callback);\n    if (root._bokeh_is_loading > 0) {\n      console.debug(\"Bokeh: BokehJS is being loaded, scheduling callback at\", now());\n      return null;\n    }\n    if (js_urls == null || js_urls.length === 0) {\n      run_callbacks();\n      return null;\n    }\n    console.debug(\"Bokeh: BokehJS not loaded, scheduling load and callback at\", now());\n    root._bokeh_is_loading = css_urls.length + js_urls.length;\n\n    function on_load() {\n      root._bokeh_is_loading--;\n      if (root._bokeh_is_loading === 0) {\n        console.debug(\"Bokeh: all BokehJS libraries/stylesheets loaded\");\n        run_callbacks()\n      }\n    }\n\n    function on_error() {\n      console.error(\"failed to load \" + url);\n    }\n\n    for (var i = 0; i < css_urls.length; i++) {\n      var url = css_urls[i];\n      const element = document.createElement(\"link\");\n      element.onload = on_load;\n      element.onerror = on_error;\n      element.rel = \"stylesheet\";\n      element.type = \"text/css\";\n      element.href = url;\n      console.debug(\"Bokeh: injecting link tag for BokehJS stylesheet: \", url);\n      document.body.appendChild(element);\n    }\n\n    const hashes = {\"https://cdn.bokeh.org/bokeh/release/bokeh-2.2.3.min.js\": \"T2yuo9Oe71Cz/I4X9Ac5+gpEa5a8PpJCDlqKYO0CfAuEszu1JrXLl8YugMqYe3sM\", \"https://cdn.bokeh.org/bokeh/release/bokeh-widgets-2.2.3.min.js\": \"98GDGJ0kOMCUMUePhksaQ/GYgB3+NH9h996V88sh3aOiUNX3N+fLXAtry6xctSZ6\", \"https://cdn.bokeh.org/bokeh/release/bokeh-tables-2.2.3.min.js\": \"89bArO+nlbP3sgakeHjCo1JYxYR5wufVgA3IbUvDY+K7w4zyxJqssu7wVnfeKCq8\"};\n\n    for (var i = 0; i < js_urls.length; i++) {\n      var url = js_urls[i];\n      var element = document.createElement('script');\n      element.onload = on_load;\n      element.onerror = on_error;\n      element.async = false;\n      element.src = url;\n      if (url in hashes) {\n        element.crossOrigin = \"anonymous\";\n        element.integrity = \"sha384-\" + hashes[url];\n      }\n      console.debug(\"Bokeh: injecting script tag for BokehJS library: \", url);\n      document.head.appendChild(element);\n    }\n  };\n\n  function inject_raw_css(css) {\n    const element = document.createElement(\"style\");\n    element.appendChild(document.createTextNode(css));\n    document.body.appendChild(element);\n  }\n\n  \n  var js_urls = [\"https://cdn.bokeh.org/bokeh/release/bokeh-2.2.3.min.js\", \"https://cdn.bokeh.org/bokeh/release/bokeh-widgets-2.2.3.min.js\", \"https://cdn.bokeh.org/bokeh/release/bokeh-tables-2.2.3.min.js\"];\n  var css_urls = [];\n  \n\n  var inline_js = [\n    function(Bokeh) {\n      Bokeh.set_log_level(\"info\");\n    },\n    function(Bokeh) {\n    \n    \n    }\n  ];\n\n  function run_inline_js() {\n    \n    if (root.Bokeh !== undefined || force === true) {\n      \n    for (var i = 0; i < inline_js.length; i++) {\n      inline_js[i].call(root, root.Bokeh);\n    }\n    } else if (Date.now() < root._bokeh_timeout) {\n      setTimeout(run_inline_js, 100);\n    } else if (!root._bokeh_failed_load) {\n      console.log(\"Bokeh: BokehJS failed to load within specified timeout.\");\n      root._bokeh_failed_load = true;\n    } else if (force !== true) {\n      var cell = $(document.getElementById(null)).parents('.cell').data().cell;\n      cell.output_area.append_execute_result(NB_LOAD_WARNING)\n    }\n\n  }\n\n  if (root._bokeh_is_loading === 0) {\n    console.debug(\"Bokeh: BokehJS loaded, going straight to plotting\");\n    run_inline_js();\n  } else {\n    load_libs(css_urls, js_urls, function() {\n      console.debug(\"Bokeh: BokehJS plotting callback run at\", now());\n      run_inline_js();\n    });\n  }\n}(window));"
     },
     "metadata": {},
     "output_type": "display_data"
    },
    {
     "data": {
      "text/html": [
       "\n",
       "\n",
       "\n",
       "\n",
       "\n",
       "\n",
       "  <div class=\"bk-root\" id=\"c69b5443-947a-4651-99e2-c8f1e66cf7fb\" data-root-id=\"5349\"></div>\n"
      ]
     },
     "metadata": {},
     "output_type": "display_data"
    },
    {
     "data": {
      "application/javascript": [
       "(function(root) {\n",
       "  function embed_document(root) {\n",
       "    \n",
       "  var docs_json = {\"4cf6050f-835a-4c87-b5d0-8d126a4dfc2c\":{\"roots\":{\"references\":[{\"attributes\":{\"children\":[[{\"id\":\"5121\"},0,0],[{\"id\":\"5167\"},0,1],[{\"id\":\"5213\"},0,2],[{\"id\":\"5259\"},0,3]]},\"id\":\"5349\",\"type\":\"GridBox\"},{\"attributes\":{},\"id\":\"5186\",\"type\":\"WheelZoomTool\"},{\"attributes\":{},\"id\":\"5189\",\"type\":\"ResetTool\"},{\"attributes\":{},\"id\":\"5235\",\"type\":\"ResetTool\"},{\"attributes\":{\"text\":\"1.0 M\",\"text_color\":\"#DEEBF7\",\"text_font_size\":\"24px\",\"x\":0.15,\"y\":0.45},\"id\":\"5160\",\"type\":\"Label\"},{\"attributes\":{},\"id\":\"5219\",\"type\":\"LinearScale\"},{\"attributes\":{\"source\":{\"id\":\"5254\"}},\"id\":\"5258\",\"type\":\"CDSView\"},{\"attributes\":{\"axis\":{\"id\":\"5223\"},\"ticker\":null,\"visible\":false},\"id\":\"5226\",\"type\":\"Grid\"},{\"attributes\":{\"fill_alpha\":{\"value\":0.1},\"fill_color\":{\"value\":\"#2171b5\"},\"height\":{\"field\":\"height\",\"units\":\"data\"},\"line_alpha\":{\"value\":0.1},\"line_color\":{\"value\":\"#1f77b4\"},\"width\":{\"field\":\"width\",\"units\":\"data\"},\"x\":{\"field\":\"x\"},\"y\":{\"field\":\"y\"}},\"id\":\"5155\",\"type\":\"Rect\"},{\"attributes\":{},\"id\":\"5188\",\"type\":\"SaveTool\"},{\"attributes\":{},\"id\":\"5234\",\"type\":\"SaveTool\"},{\"attributes\":{\"data_source\":{\"id\":\"5254\"},\"glyph\":{\"id\":\"5255\"},\"hover_glyph\":null,\"muted_glyph\":null,\"nonselection_glyph\":{\"id\":\"5256\"},\"selection_glyph\":null,\"view\":{\"id\":\"5258\"}},\"id\":\"5257\",\"type\":\"GlyphRenderer\"},{\"attributes\":{},\"id\":\"5228\",\"type\":\"BasicTicker\"},{\"attributes\":{\"bottom_units\":\"screen\",\"fill_alpha\":0.5,\"fill_color\":\"lightgrey\",\"left_units\":\"screen\",\"level\":\"overlay\",\"line_alpha\":1.0,\"line_color\":\"black\",\"line_dash\":[4,4],\"line_width\":2,\"right_units\":\"screen\",\"top_units\":\"screen\"},\"id\":\"5283\",\"type\":\"BoxAnnotation\"},{\"attributes\":{\"text\":\"Mean read length\",\"text_color\":\"#C6DBEF\",\"x\":0.15,\"y\":0.2},\"id\":\"5253\",\"type\":\"Label\"},{\"attributes\":{},\"id\":\"5185\",\"type\":\"PanTool\"},{\"attributes\":{},\"id\":\"5224\",\"type\":\"BasicTicker\"},{\"attributes\":{},\"id\":\"5221\",\"type\":\"LinearScale\"},{\"attributes\":{\"background_fill_color\":\"#f4f4f4\",\"below\":[{\"id\":\"5131\"}],\"border_fill_color\":\"#f4f4f4\",\"center\":[{\"id\":\"5134\"},{\"id\":\"5138\"},{\"id\":\"5160\"},{\"id\":\"5161\"}],\"left\":[{\"id\":\"5135\"}],\"outline_line_color\":null,\"output_backend\":\"webgl\",\"plot_height\":100,\"plot_width\":175,\"renderers\":[{\"id\":\"5156\"},{\"id\":\"5165\"}],\"title\":null,\"toolbar\":{\"id\":\"5146\"},\"toolbar_location\":null,\"x_range\":{\"id\":\"5158\"},\"x_scale\":{\"id\":\"5127\"},\"y_range\":{\"id\":\"5159\"},\"y_scale\":{\"id\":\"5129\"}},\"id\":\"5121\",\"subtype\":\"Figure\",\"type\":\"Plot\"},{\"attributes\":{\"background_fill_color\":\"#f4f4f4\",\"below\":[{\"id\":\"5269\"}],\"border_fill_color\":\"#f4f4f4\",\"center\":[{\"id\":\"5272\"},{\"id\":\"5276\"},{\"id\":\"5298\"},{\"id\":\"5299\"}],\"left\":[{\"id\":\"5273\"}],\"outline_line_color\":null,\"output_backend\":\"webgl\",\"plot_height\":100,\"plot_width\":175,\"renderers\":[{\"id\":\"5294\"},{\"id\":\"5303\"}],\"title\":null,\"toolbar\":{\"id\":\"5284\"},\"toolbar_location\":null,\"x_range\":{\"id\":\"5296\"},\"x_scale\":{\"id\":\"5265\"},\"y_range\":{\"id\":\"5297\"},\"y_scale\":{\"id\":\"5267\"}},\"id\":\"5259\",\"subtype\":\"Figure\",\"type\":\"Plot\"},{\"attributes\":{\"text\":\"50.0 kb\",\"text_color\":\"#DEEBF7\",\"text_font_size\":\"24px\",\"x\":0.15,\"y\":0.45},\"id\":\"5252\",\"type\":\"Label\"},{\"attributes\":{\"dh\":{\"units\":\"data\",\"value\":0.4375},\"dw\":{\"units\":\"data\",\"value\":0.25},\"image\":{\"field\":\"image\"},\"x\":{\"value\":0.6},\"y\":{\"value\":0.4}},\"id\":\"5255\",\"type\":\"ImageRGBA\"},{\"attributes\":{},\"id\":\"5236\",\"type\":\"HelpTool\"},{\"attributes\":{\"bounds\":[0.1,0.9],\"end\":0.9,\"start\":0.1},\"id\":\"5159\",\"type\":\"Range1d\"},{\"attributes\":{\"bounds\":[0.1,0.9],\"end\":0.9,\"start\":0.1},\"id\":\"5251\",\"type\":\"Range1d\"},{\"attributes\":{},\"id\":\"5232\",\"type\":\"WheelZoomTool\"},{\"attributes\":{\"formatter\":{\"id\":\"5331\"},\"ticker\":{\"id\":\"5228\"},\"visible\":false},\"id\":\"5227\",\"type\":\"LinearAxis\"},{\"attributes\":{},\"id\":\"5178\",\"type\":\"BasicTicker\"},{\"attributes\":{\"data\":{\"image\":[{\"__ndarray__\":\"AAAAAAAAAAAAAAAAAAAAAAAAAAAAAAAAAAAAAAAAAAAAAAAAAAAAAAAAAAAAAAAAAAAAAAAAAAAAAAAAAAAAAAAAAAAAAAAAAAAAAAAAAAAAAAAAAAAAAAAAAAAAAAAAAAAAAAAAAAAAAAAAAAAAAAAAAAAAAAAAAAAAAAAAAAAAAAAAAAAAAAAAAAAAAAAAAAAAAAAAAAAAAAAAAAAAAAAAAAAAAAAAAAAAAAAAAAAAAAAAAAAAAAAAAAAAAAAAAAAAAAAAAAAAAAAAAAAAAAAAAAAAAAAAAAAAAAAAAAAAAAAAAAAAAAAAAAAAAAAAAAAAAAAAAAAAAAAAAAAAAAAAAAAAAAAAAAAAAAAAAAAAAAAAAAAAAAAAAAAAAAAAAAAAAAAAAAAAAAAAAAAAAAAAAAAAAAAAAAAAAAAAAAAAAAAAAAAAAAAAAAAAAAAAAAAAAAAAAAAAAAAAAAAAAAAAAAAAAAAAAAAAAAAAAAAAAAAAAAAAAAAAAAAAAAAAAAAAAAAAAAAAAAAAAAAAAAAAAAAAAAAAAAAAAAAAAAAAAAAAAAAAAAAAAAAAAAAAAAAAAAAAAAAAAAAAAAAAAAAAAAAAAAAAAAAAAAAAAAAAAAAAAAAAAAAAAAAAAAAAAAAAAAAAAAAAAAAAAAAAAAAAAAAAAAAAAAAAAAAAAAAAAAAAAAAAAAAAAAAAAAAAAAAAAAAAAAAAAAAAAAAAAAAAAAAAAAAAAAAAAAAAAAAAAAAAAAAAAAAAAAAAAAAAAAAAAAAAAAAAAAAAAAAAAAAAAAAAAAAAAAAAAAAAAAAAAAAAAAAAAAAAAAAAAAAAAAAAAAAAAAAAAAAAAAAAAAAAAAAAAAAAAAAAAAAAAAAAAAAAAAAAAAAAAAAAAAAAAAAAAAAAAAAAAAAAAAAAAAAAAAAAAAAAAAAAAAAAAAAAAAAAAAAAAAAAAAAAAAAAAAAAAAAAAAAAAAAAAAAAAAAAAAAAAAAAAAAAAAAAAAAAAAAAAAAAAAAAAAAAAAAAAAAAAAAAAAAAAAAAAAAAAAAAAAAAAAAAAAAAAAAAAAAAAAAAAAAAAAAAAAAAAAAAAAAAAAAAAAAAAAAAAAAAAAAAAAAAAAAAAAAAAAAAAAAAAAAAAAAAAAAAAAAAAAAAAAAAAAAAAAAAAAAAAAAAAAAAAAAAAAAAAAAAAAAAAAAAAAAAAAAAAAAAAAAAAAAAAAAAAAAAAAAAAAAAAAAAAAAAAAAAAAAAAAAAAAAAAAAAAAAAAAAAAAAAAAAAAAAAAAAAAAAAAAAAAAAAAAAAAAAAAAAAAAAAAAAAAAAAAAAAAAAAAAAAAAAAAAAAAAAAAAAAAAAAAAAAAAAAAAAAAAAAAAAAAAAAAAAAAAAAAAAAAAAAAAAAAAAAAAAAAAAAAAAAAAAAAAAAAAAAAAAAAAAAAAAAAAAAAAAAAAAAAAAAAAAAAAAAAAAAAAAAAAAAAAAAAAAAAAAAAAAAAAAAAAAAAAAAAAAAAAAAAAAAAAAAAAAAAAAAAAAAAAAAAAAAAAAAAAAAAAAAAAAAAAAAAAAAAAAAAAAAAAAAAAAAAAAAAAAAAAAAAAAAAAAAAAAAAAAAAAAAAAAAAAAAAAAAAAAAAAAAAAAAAAAAAAAAAAAAAAAAAAAAAAAAAAAAAAAAAAAAAAAAAAAAAAAAAAAAAAAAAAAAAAAAAAAAAAAAAAAAAAAAAAAAAAAAAAAAAAAAAAAAAAAAAAAAAAAAAAAAAAAAAAAAAAAAAAAAAAAAAAAAAAAAAAAAAAAAAAAAAAAAAAAAAAAAAAAAAAAAAAAAAAAAAAAAAAAAAAAAAAAAAAAAAAAAAAAAAAAAAAAAAAAAAAAAAAAAAAAAAAAAAAAAAAAAAAAAAAAAAAAAAAAAAAAAAAAAAAAAAAAAAAAAAAAAAAAAAAAAAAAAAAAAAAAAAAAAAAAAAAAAAAAAAAAAAAAAAAAAAAAAAAAAAAAAAAAAAAAAAAAAAAAAAAAAAAAAAAAAAAAAAAAAAAAAAAAA/wEA//8BAP//AQD//wEA//8BAP//AQD//wEAAAABAAAAAAAAAAAAAAAAAAAAAAAAAAAAAAAAAAAAAAD//wEA//8BAP//AQD//wEA//8BAP//AQD//wEAAAAAAAAAAAAAAAAAAAAAAAAAAAAAAAAAAAAAAAAAAAD//wEA//8BAP//AQD//wEA//8BAP//AQD//wEAAAAAAAAAAAAAAAAAAAAAAAAAAAAAAAAAAAAAAAAAAAD//wEA//8BAP//AQD//wEA//8BAP//AQD//wEAAAAAAAAAAAAAAAAAAAAAAAAAAAAAAAAAAAAAAAAAAAD//wEA//8BAP//AQD//wEA//8BAP//AQD//wEAAAAAAAAAAAAAAAAAAAAAAAAAAAAAAAAAAAAAf3//AgAAAAAAAAAAAAAAAAAAAAAAAAAAAAAAAAAAAAAAAAAAAP//AQAAAAAAAAAAAAAAAAAAAAAAAAAAf3//AgAAAAAAAAAAAAAAAAAAAAAAAAAAAAAAAAAAAAAA//8BAAAAAAAAAAAAAAAAAAAAAAAAAAAAAAAAf3//AgAAAAAAAAAAAAAAAAAAAAAAAAAAAAAAAAAAAAAA//8BAAAAAAAAAAAAAAAAAAAAAAAAAAAAAAAAAP//AQAAAAAAAAAAAAAAAAAAAAAAAAAAAAAAAAAAAAB/f/8CAAAAAAAAAAAAAAAAAAAAAAAAAAAAAAAAAP//AQAAAAAAAAAAAAAAAAAAAAAAAAAAAAAAAAAAAAB/f/8CAAAAAAAAAAAAAAAAAAAAAAAAAAAAAAAAAAAAAFV/qgZttuwOdbDXDW2jyA5to8gOdbDXDW222g4AAAAAAAAAAAAAAAAAAAAAAAAAAAAAAAAAAAAAAAAAAGaZsgptttoObaPIDm2jyA5to8gObaPaDm2jyA4AAAAAAAAAAAAAAAAAAAAAAAAAAAAAAAAAAAAAAAAAAGaZsgptttoObaPIDm2jyA5to8gObaPaDm2jyA4AAAAAAAAAAAAAAAAAAAAAAAAAAAAAAAAAAAAAAAAAAG2jyA5to9oObaPIDm2jyA5to8gObbbaDmaZsgoAAAAAAAAAAAAAAAAAAAAAAAAAAAAAAAAAAAAAAAAAAG2jyA5to9oObaPIDm2jyA5to8gObbbaDmaZsgoAAAAAAAAAAAAAAAAAAAAAAAAAAH///wIAAAAAbKrUQm6z3dhssNjwa67W8Gqu1vFqrtbxa67W8Gyw2fFsrta8cK3WGQAAAAD///8BAAAAAH9//wIAAAAAbK7WZW603eVrsNfvaq3V8Wqu1vFqrtbxaq3V8Wyw2PFqrNWebbbaBwD//wEAAQAAAAAAAH9//wIAAAAAbK7WZW603eVrsNfvaq3V8Wqu1vFqrtbxaq3V8Wyw2PFqrNWebbbaBwD//wEAAQAAAAEAAAD//wFfv78Iaq7Vnmyw2PFqrdXxaq7W8Wqu1vFqrdXxa7DX72603eVsrtZlAAAAAH9//wIAAAAAAAEAAAD//wFfv78Iaq7Vnmyw2PFqrdXxaq7W8Wqu1vFqrdXxa7DX72603eVsrtZlAAAAAH9//wIAAAAAAAAAAP///wEAAAAAaq7VvXS96P9rrtb/bbHZ/22x2f9tsdn/bbHZ/2uu1v92we3/a6/VdAAAAABmmcwFAP//AQAAAABmsswKaq7W7XG34f9sr9j/bbHZ/22x2f9tsdn/bLHZ/22x2f9xt+H/aazVRAAAAABVqv8DAP//AQAAAABmsswKaq7W7XG34f9sr9j/bbHZ/22x2f9tsdn/bLHZ/22x2f9xt+H/aazVRAAAAABVqv8DVar/AwAAAABssNVEcbfh/22x2f9ssdn/bbHZ/22x2f9tsdn/bK/Y/3G34f9qrdbtZrLMCgAAAAAA//8BVar/AwAAAABssNVEcbfh/22x2f9ssdn/bbHZ/22x2f9tsdn/bK/Y/3G34f9qrdbtZrLMCgAAAAAA//8BAAAAAQAAAAAAAAAAa63Ww2603v1rrdX8a63V/mut1f5rrdX+a63V/muu1vl0vej8aq3VgQAAAABmmcwFAP//AQAAAABmmcwPaq7W8Wyw1/5rrdX9a63V/mut1f5rrdX+a63V/mqt1f1ts9v9aq3XVAAAAABVqv8DAP//AQAAAABmmcwPaq7W8Wyw1/5rrdX9a63V/mut1f5rrdX+a63V/mqt1f1ts9v9aq3XVAAAAABVqv8DVar/AwAAAABqrddUbbPb/Wqt1f1rrdX+a63V/mut1f5rrdX+a63V/Wyw1/5qrtbxZpnMDwAAAAAA//8BVar/AwAAAABqrddUbbPb/Wqt1f1rrdX+a63V/mut1f5rrdX+a63V/Wyw1/5qrtbxZpnMDwAAAAAA//8BAAAAAQAAAAAAAAAAa67Xwm+13/9qrdX9a67W/2uu1v9rrtb/a67W/2uu1vp0vOj/a7DYfgAAAABmmcwFAP//AQAAAABto8gOa6/X8G2x2f9rrdX+a67W/2uu1v9rrtb/a67W/2qt1f5us9z/aa7WUgAAAABVqv8DAP//AQAAAABto8gOa6/X8G2x2f9rrdX+a67W/2uu1v9rrtb/a67W/2qt1f5us9z/aa7WUgAAAABVqv8DVar/AwAAAABprtZSbrPc/2qt1f5rrtb/a67W/2uu1v9rrtb/a63V/m2x2f9rr9fwbaPIDgAAAAAA//8BVar/AwAAAABprtZSbrPc/2qt1f5rrtb/a67W/2uu1v9rrtb/a63V/m2x2f9rr9fwbaPaDgAAAAAA//8BAAAAAQAAAAAAAAAAa63Ww2+13/9qrdX9a67W/2uu1v9rrtb/a67W/2uu1vp0vOj/aq7WfwAAAABmmcwFAP//AQAAAABto8gOaq7W8W2x2f9rrdX+a67W/2uu1v9rrtb/a67W/2qt1f5us9z/aa7WUgAAAABVqv8DAP//AQAAAABto8gOaq7W8W2x2f9rrdX+a67W/2uu1v9rrtb/a67W/2qt1f5us9z/aa7WUgAAAABVqv8DVar/AwAAAABprtZSbrPc/2qt1f5rrtb/a67W/2uu1v9rrtb/a63V/m2x2f9qrtbxbaPIDgAAAAAA//8BVar/AwAAAABprtZSbrPc/2qt1f5rrtb/a67W/2uu1v9rrtb/a63V/m2x2f9qrtbxbaPaDgAAAAAA//8BAAAAAQAAAAAAAAAAa63Ww2+13/9qrdX9a67W/2uu1v9rrtb/a67W/2uu1vp0vOj/aq7WfwAAAABmmcwFAP//AQAAAABto8gOaq7W8W2x2f9rrdX+a67W/2uu1v9rrtb/a67W/2qt1f5us9z/aa7WUgAAAABVqv8DAP//AQAAAABto8gOaq7W8W2x2f9rrdX+a67W/2uu1v9rrtb/a67W/2qt1f5us9z/aa7WUgAAAABVqv8DVar/AwAAAABprtZSbrPc/2qt1f5rrtb/a67W/2uu1v9rrtb/a63V/m2x2f9qrtbxbaPIDgAAAAAA//8BVar/AwAAAABprtZSbrPc/2qt1f5rrtb/a67W/2uu1v9rrtb/a63V/m2x2f9qrtbxbaPaDgAAAAAA//8BAAAAAQAAAAAAAAAAa63Ww2+13/9qrdX9a67W/2uu1v9rrtb/a67W/2uu1vp0vOj/aq7WfwAAAABmmcwFAP//AQAAAABto8gOaq7W8W2x2f9rrdX+a67W/2uu1v9rrtb/a67W/2qt1f5us9z/aa7WUgAAAABVqv8DAP//AQAAAABto8gOaq7W8W2x2f9rrdX+a67W/2uu1v9rrtb/a67W/2qt1f5us9z/aa7WUgAAAABVqv8DVar/AwAAAABprtZSbrPc/2qt1f5rrtb/a67W/2uu1v9rrtb/a63V/m2x2f9qrtbxbaPIDgAAAAAA//8BVar/AwAAAABprtZSbrPc/2qt1f5rrtb/a67W/2uu1v9rrtb/a63V/m2x2f9qrtbxbaPaDgAAAAAA//8BAAAAAQAAAAAAAAAAa63Ww2+13/9qrdX9a67W/2uu1v9rrtb/a67W/2uu1vp0vOj/aq7WfwAAAABmmcwFAP//AQAAAABto8gOaq7W8W2x2f9rrdX+a67W/2uu1v9rrtb/a67W/2qt1f5us9z/aa7WUgAAAABVqv8DAP//AQAAAABto8gOaq7W8W2x2f9rrdX+a67W/2uu1v9rrtb/a67W/2qt1f5us9z/aa7WUgAAAABVqv8DVar/AwAAAABprtZSbrPc/2qt1f5rrtb/a67W/2uu1v9rrtb/a63V/m2x2f9qrtbxbaPIDgAAAAAA//8BVar/AwAAAABprtZSbrPc/2qt1f5rrtb/a67W/2uu1v9rrtb/a63V/m2x2f9qrtbxbaPaDgAAAAAA//8BAAAAAQAAAAAAAAAAa63Ww2+13/9qrdX9a67W/2uu1v9rrtb/a67W/2uu1vp0vOj/aq7WfwAAAABmmcwFAP//AQAAAABto8gOaq7W8W2x2f9rrdX+a67W/2uu1v9rrtb/a67W/2qt1f5us9z/aa7WUgAAAABVqv8DAP//AQAAAABto8gOaq7W8W2x2f9rrdX+a67W/2uu1v9rrtb/a67W/2qt1f5us9z/aa7WUgAAAABVqv8DVar/AwAAAABprtZSbrPc/2qt1f5rrtb/a67W/2uu1v9rrtb/a63V/m2x2f9qrtbxbaPIDgAAAAAA//8BVar/AwAAAABprtZSbrPc/2qt1f5rrtb/a67W/2uu1v9rrtb/a63V/m2x2f9qrtbxbaPaDgAAAAAA//8BAAAAAQAAAAAAAAAAa63Ww2+13/9qrdX9a67W/2uu1v9rrtb/a67W/2uu1vp0vOj/aq7WfwAAAABmmcwFAP//AQAAAABto8gOaq7W8W2x2f9rrdX+a67W/2uu1v9rrtb/a67W/2qt1f5us9z/aa7WUgAAAABVqv8DAP//AQAAAABto8gOaq7W8W2x2f9rrdX+a67W/2uu1v9rrtb/a67W/2qt1f5us9z/aa7WUgAAAABVqv8DVar/AwAAAABprtZSbrPc/2qt1f5rrtb/a67W/2uu1v9rrtb/a63V/m2x2f9qrtbxbaPIDgAAAAAA//8BVar/AwAAAABprtZSbrPc/2qt1f5rrtb/a67W/2uu1v9rrtb/a63V/m2x2f9qrtbxbaPaDgAAAAAA//8BAAAAAQAAAAAAAAAAa63Ww2+13/9qrdX9a67W/2uu1v9rrtb/a67W/2uu1vp0vOj/aq7WfwAAAABmmcwFAP//AQAAAABto8gOaq7W8W2x2f9rrdX+a67W/2uu1v9rrtb/a67W/2qt1f5us9z/aa7WUgAAAABVqv8DAP//AQAAAABto8gOaq7W8W2x2f9rrdX+a67W/2uu1v9rrtb/a67W/2qt1f5us9z/aa7WUgAAAABVqv8DVar/AwAAAABprtZSbrPc/2qt1f5rrtb/a67W/2uu1v9rrtb/a63V/m2x2f9qrtbxbaPIDgAAAAAA//8BVar/AwAAAABprtZSbrPc/2qt1f5rrtb/a67W/2uu1v9rrtb/a63V/m2x2f9qrtbxbaPaDgAAAAAA//8BAAAAAQAAAAAAAAAAa67Wwm+13/9qrdX9a67W/2uu1v9rrtb/a67W/2uu1vp0vOj/a7DWfgAAAABmmcwFAP//AQAAAABto8gOaq7W8W2x2f9rrdX+a67W/2uu1v9rrtb/a67W/2qt1f5us9z/aa7WUgAAAABVqv8DAP//AQAAAABto8gOaq7W8W2x2f9rrdX+a67W/2uu1v9rrtb/a67W/2qt1f5us9z/aa7WUgAAAABVqv8DVar/AwAAAABprtZSbrPc/2qt1f5rrtb/a67W/2uu1v9rrtb/a63V/m2x2f9qrtbxbaPIDgAAAAAA//8BVar/AwAAAABprtZSbrPc/2qt1f5rrtb/a67W/2uu1v9rrtb/a63V/m2x2f9qrtbxbaPaDgAAAAAA//8BAAAAAQAAAAAAAAAAa67WxG+13vxqrdb7aq7V/Wqu1f1qrtX9aq7V/Wqu1fh0vej8aa7VggAAAABmmcwFAP//AQAAAABto8gOaq7W8W2x2f9rrdX+a67W/2uu1v9rrtb/a67W/2qt1f5us9z/aa7WUgAAAABVqv8DAP//AQAAAABto8gOaq7W8W2x2f9rrdX+a67W/2uu1v9rrtb/a67W/2qt1f5us9z/aa7WUgAAAABVqv8DVar/AwAAAABprtZSbrPc/2qt1f5rrtb/a67W/2uu1v9rrtb/a63V/m2x2f9qrtbxbaPIDgAAAAAA//8BVar/AwAAAABprtZSbrPc/2qt1f5rrtb/a67W/2uu1v9rrtb/a63V/m2x2f9qrtbxbaPaDgAAAAAA//8BAAAAAP///wEAAAAAa67VtHbA7P9tsdr/brTd/2603f9utN3/brPd/22x2v93we3/aq7WbAAAAABmmZkFAP//AQAAAABto8gOaq7W8W2x2f9rrdX+a67W/2uu1v9rrtb/a67W/2qt1f5us9z/aa7WUgAAAABVqv8DAP//AQAAAABto8gOaq7W8W2x2f9rrdX+a67W/2uu1v9rrtb/a67W/2qt1f5us9z/aa7WUgAAAABVqv8DVar/AwAAAABprtZSbrPc/2qt1f5rrtb/a67W/2uu1v9rrtb/a63V/m2x2f9qrtbxbaPIDgAAAAAA//8BVar/AwAAAABprtZSbrPc/2qt1f5rrtb/a67W/2uu1v9rrtb/a63V/m2x2f9qrtbxbaPaDgAAAAAA//8BAAAAAH9//wIAAAAAbK3eL2603LtqrtXXaq3V1Wut1tVrrdbVbK7W1Guv19drrdWfb6/fEAAA/wH///8BAP//AQAAAABto8gOaq7W8W2x2f9rrdX+a67W/2uu1v9rrtb/a67W/2qt1f5us9z/aa7WUgAAAABVqv8DAP//AQAAAABto8gOaq7W8W2x2f9rrdX+a67W/2uu1v9rrtb/a67W/2qt1f5us9z/aa7WUgAAAABVqv8DVar/AwAAAABprtZSbrPc/2qt1f5rrtb/a67W/2uu1v9rrtb/a63V/m2x2f9qrtbxbaPIDgAAAAAA//8BVar/AwAAAABprtZSbrPc/2qt1f5rrtb/a67W/2uu1v9rrtb/a63V/m2x2f9qrtbxbaPaDgAAAAAA//8BAAAAAAAAAAAAAAAAAAAAAAAAAAB/qtQGZpnMBWbMzAVmzMwFZpnMBVWqqgYAAAAAAAAAAAAAAAAAAAAAAP//AQAAAABto8gOaq7W8W2x2f9rrdX+a67W/2uu1v9rrtb/a67W/2qt1f5us9z/aa7WUgAAAABVqv8DAP//AQAAAABto8gOaq7W8W2x2f9rrdX+a67W/2uu1v9rrtb/a67W/2qt1f5us9z/aa7WUgAAAABVqv8DVar/AwAAAABprtZSbrPc/2qt1f5rrtb/a67W/2uu1v9rrtb/a63V/m2x2f9qrtbxbaPIDgAAAAAA//8BVar/AwAAAABprtZSbrPc/2qt1f5rrtb/a67W/2uu1v9rrtb/a63V/m2x2f9qrtbxbaPaDgAAAAAA//8BAAAAAAAAAAAAAAAAf3//AgAAAAAAAAAAAAAAAAAAAAAAAAAAAAAAAAAAAAB/f38CAP//AQAAAAAAAAAAAP//AQAAAABto8gOaq7W8W2x2f9rrdX+a67W/2uu1v9rrtb/a67W/2qt1f5us9z/aa7WUgAAAABVqv8DAP//AQAAAABto8gOaq7W8W2x2f9rrdX+a67W/2uu1v9rrtb/a67W/2qt1f5us9z/aa7WUgAAAABVqv8DVar/AwAAAABprtZSbrPc/2qt1f5rrtb/a67W/2uu1v9rrtb/a63V/m2x2f9qrtbxbaPIDgAAAAAA//8BVar/AwAAAABprtZSbrPc/2qt1f5rrtb/a67W/2uu1v9rrtb/a63V/m2x2f9qrtbxbaPaDgAAAAAA//8BAAAAAAAAAAAAAAAAAAAAAAAAAAAAAP8BAAD/AQAA/wEAAP8BAAD/AQAA/wEAAAAAAAAAAAAAAAAAAAAAAP//AQAAAABto8gOaq7W8W2x2f9rrdX+a67W/2uu1v9rrtb/a67W/2qt1f5us9z/aa7WUgAAAABVqv8DAP//AQAAAABto8gOaq7W8W2x2f9rrdX+a67W/2uu1v9rrtb/a67W/2qt1f5us9z/aa7WUgAAAABVqv8DVar/AwAAAABprtZSbrPc/2qt1f5rrtb/a67W/2uu1v9rrtb/a63V/m2x2f9qrtbxbaPIDgAAAAAA//8BVar/AwAAAABprtZSbrPc/2qt1f5rrtb/a67W/2uu1v9rrtb/a63V/m2x2f9qrtbxbaPaDgAAAAAA//8BAAAAAAAAAAAAAAAAAAAAAAAAAAAAAAAAAAAAAAAAAAAAAAAAAAAAAAAAAAAAAAAAAAAAAAAAAAAAAAAAAP//AQAAAABto8gOaq7W8W2x2f9rrdX+a67W/2uu1v9rrtb/a67W/2qt1f5us9z/aa7WUgAAAABVqv8DAP//AQAAAABto8gOaq7W8W2x2f9rrdX+a67W/2uu1v9rrtb/a67W/2qt1f5us9z/aa7WUgAAAABVqv8DVar/AwAAAABprtZSbrPc/2qt1f5rrtb/a67W/2uu1v9rrtb/a63V/m2x2f9qrtbxbaPIDgAAAAAA//8BVar/AwAAAABprtZSbrPc/2qt1f5rrtb/a67W/2uu1v9rrtb/a63V/m2x2f9qrtbxbaPaDgAAAAAA//8BAAAAAAAAAAAAAAAAAAAAAAAAAAAAAAAAAAAAAAAAAAAAAAAAAAAAAAAAAAAAAAAAAAAAAAAAAAAAAAAAAP//AQAAAABto8gOaq7W8W2x2f9rrdX+a67W/2uu1v9rrtb/a67W/2qt1f5us9z/aa7WUgAAAABVqv8DAP//AQAAAABto8gOaq7W8W2x2f9rrdX+a67W/2uu1v9rrtb/a67W/2qt1f5us9z/aa7WUgAAAABVqv8DVar/AwAAAABprtZSbrPc/2qt1f5rrtb/a67W/2uu1v9rrtb/a63V/m2x2f9qrtbxbaPIDgAAAAAA//8BVar/AwAAAABprtZSbrPc/2qt1f5rrtb/a67W/2uu1v9rrtb/a63V/m2x2f9qrtbxbaPaDgAAAAAA//8BAAAAAAAAAAAAAAAAAAAAAAAAAAAAAAAAAAAAAAAAAAAAAAAAAAAAAAAAAAAAAAAAAAAAAAAAAAAAAAAAAP//AQAAAABto8gOaq7W8W2x2f9rrdX+a67W/2uu1v9rrtb/a67W/2qt1f5us9z/aa7WUgAAAABVqv8DAP//AQAAAABto8gOaq7W8W2x2f9rrdX+a67W/2uu1v9rrtb/a67W/2qt1f5us9z/aa7WUgAAAABVqv8DVar/AwAAAABprtZSbrPc/2qt1f5rrtb/a67W/2uu1v9rrtb/a63V/m2x2f9qrtbxbaPIDgAAAAAA//8BVar/AwAAAABprtZSbrPc/2qt1f5rrtb/a67W/2uu1v9rrtb/a63V/m2x2f9qrtbxbaPaDgAAAAAA//8BAAAAAAAAAAAAAAAAAAAAAAAAAAAAAAAAAAAAAAAAAAAAAAAAAAAAAAAAAAAAAAAAAAAAAAAAAAAAAAAAAP//AQAAAABto8gOaq7W8W2x2f9rrdX+a67W/2uu1v9rrtb/a67W/2qt1f5us9z/aa7WUgAAAABVqv8DAP//AQAAAABto8gOaq7W8W2x2f9rrdX+a67W/2uu1v9rrtb/a67W/2qt1f5us9z/aa7WUgAAAABVqv8DVar/AwAAAABprtZSbrPc/2qt1f5rrtb/a67W/2uu1v9rrtb/a63V/m2x2f9qrtbxbaPIDgAAAAAA//8BVar/AwAAAABprtZSbrPc/2qt1f5rrtb/a67W/2uu1v9rrtb/a63V/m2x2f9qrtbxbaPaDgAAAAAA//8BAAAAAAAAAAAAAAAAAAAAAAAAAAAAAAAAAAAAAAAAAAAAAAAAAAAAAAAAAAAAAAAAAAAAAAAAAAAAAAAAAP//AQAAAABto8gOa6/X8G2x2f9rrdX+a67W/2uu1v9rrtb/a67W/2qt1f5us9z/aa7WUgAAAABVqv8DAP//AQAAAABto8gOaq7W8W2x2f9rrdX+a67W/2uu1v9rrtb/a67W/2qt1f5us9z/aa7WUgAAAABVqv8DVar/AwAAAABprtZSbrPc/2qt1f5rrtb/a67W/2uu1v9rrtb/a63V/m2x2f9qrtbxbaPIDgAAAAAA//8BVar/AwAAAABprtZSbrPc/2qt1f5rrtb/a67W/2uu1v9rrtb/a63V/m2x2f9qrtbxbaPaDgAAAAAA//8BAAAAAAAAAAAAAAAAAAAAAAAAAAAAAAAAAAAAAAAAAAAAAAAAAAAAAAAAAAAAAAAAAAAAAAAAAAAAAAAAAP//AQAAAABto9oOaq7W8Wyw1/5rrdX9a63V/mut1f5rrdX+a63V/mqt1f1ts9v9aq3UVAAAAABVqv8DAP//AQAAAABto8gOaq7W8W2x2f9rrdX+a67W/2uu1v9rrtb/a67W/2qt1f5us9z/aa7WUgAAAABVqv8DVar/AwAAAABprtZSbrPc/2qt1f5rrtb/a67W/2uu1v9rrtb/a63V/m2x2f9qrtbxbaPIDgAAAAAA//8BVar/AwAAAABprtZSbrPc/2qt1f5rrtb/a67W/2uu1v9rrtb/a63V/m2x2f9qrtbxbaPaDgAAAAAA//8BAAAAAAAAAAAAAAAAAAAAAAAAAAAAAAAAAAAAAAAAAAAAAAAAAAAAAAAAAAAAAAAAAAAAAAAAAAAAAAAAAP//AQAAAABmsswKa63W7nC24P9sr9f/bLDZ/2yw2f9ssNn/bLDZ/22w2f9xt+L/a63WRQAAAABVqv8DAP//AQAAAABto8gOaq7W8W2x2f9rrdX+a67W/2uu1v9rrtb/a67W/2qt1f5us9z/aa7WUgAAAABVqv8DVar/AwAAAABprtZSbrPc/2qt1f5rrtb/a67W/2uu1v9rrtb/a63V/m2x2f9qrtbxbaPIDgAAAAAA//8BVar/AwAAAABprtZSbrPc/2qt1f5rrtb/a67W/2uu1v9rrtb/a63V/m2x2f9qrtbxbaPaDgAAAAAA//8BAAAAAAAAAAAAAAAAAAAAAAAAAAAAAAAAAAAAAAAAAAAAAAAAAAAAAAAAAAAAAAAAAAAAAAAAAAAAAAAAAAAAAH9/fwIAAAAAa63Wa22z3Otrrtbya67W82uu1vNrrtbzaq3W8m2y2/NqrtWlcarGCQD//wEA/wABAP//AQAAAABto8gOaq7W8W2x2f9rrdX+a67W/2uu1v9rrtb/a67W/2qt1f5us9z/aa7WUgAAAABVqv8DVar/AwAAAABprtZSbrPc/2qt1f5rrtb/a67W/2uu1v9rrtb/a63V/m2x2f9qrtbxbaPIDgAAAAAA//8BVar/AwAAAABprtZSbrPc/2qt1f5rrtb/a67W/2uu1v9rrtb/a63V/m2x2f9qrtbxbaPaDgAAAAAA//8BAAAAAAAAAAAAAAAAAAAAAAAAAAAAAAAAAAAAAAAAAAAAAAAAAAAAAAAAAAAAAAAAAAAAAAAAAAAAAAAAAAAAAAAAAAAAAAAAAAAAAFujtg5tttoVbarOFW2qzhVtqs4VbbbaFWOq4hIAAAAAAAAAAAAAAAAAAAAAAP//AQAAAABto8gOaq7W8W2x2f9rrdX+a67W/2uu1v9rrtb/a67W/2qt1f5us9z/aa7WUgAAAABVqv8DVar/AwAAAABprtZSbrPc/2qt1f5rrtb/a67W/2uu1v9rrtb/a63V/m2x2f9qrtbxbaPIDgAAAAAA//8BVar/AwAAAABprtZSbrPc/2qt1f5rrtb/a67W/2uu1v9rrtb/a63V/m2x2f9qrtbxbaPaDgAAAAAA//8BAAAAAAAAAAAAAAAAAAAAAAAAAAAAAAAAAAAAAAAAAAAAAAAAAAAAAAAAAAAAAAAAAAAAAAAAAAAAAAAAAAAAAAAAAAAAAAAAf39/AgAAAAAAAAAAAAAAAAAAAAAAAAAAAAAAAAAAAAAAAP8BAAAAAAAAAAAAAAAAAP//AQAAAABto8gOaq7W8W2x2f9rrdX+a67W/2uu1v9rrtb/a67W/2qt1f5us9z/aa7WUgAAAABVqv8DVar/AwAAAABprtZSbrPc/2qt1f5rrtb/a67W/2uu1v9rrtb/a63V/m2x2f9qrtbxbaPIDgAAAAAA//8BVar/AwAAAABprtZSbrPc/2qt1f5rrtb/a67W/2uu1v9rrtb/a63V/m2x2f9qrtbxbaPaDgAAAAAA//8BAAAAAAAAAAAAAAAAAAAAAAAAAAAAAAAAAAAAAAAAAAAAAAAAAAAAAAAAAAAAAAAAAAAAAAAAAAAAAAAAAAAAAAAAAAAAAAAAAAAAAAD//wH///8B////Af///wH///8BAP//AQD//wEAAAAAAAAAAAAAAAAAAAAAAP//AQAAAABto8gOaq7W8W2x2f9rrdX+a67W/2uu1v9rrtb/a67W/2qt1f5us9z/aa7WUgAAAABVqv8DVar/AwAAAABprtZSbrPc/2qt1f5rrtb/a67W/2uu1v9rrtb/a63V/m2x2f9qrtbxbaPIDgAAAAAA//8BVar/AwAAAABprtZSbrPc/2qt1f5rrtb/a67W/2uu1v9rrtb/a63V/m2x2f9qrtbxbaPaDgAAAAAA//8BAAAAAAAAAAAAAAAAAAAAAAAAAAAAAAAAAAAAAAAAAAAAAAAAAAAAAAAAAAAAAAAAAAAAAAAAAAAAAAAAAAAAAAAAAAAAAAAAAAAAAAAAAAAAAAAAAAAAAAAAAAAAAAAAAAAAAAAAAAAAAAAAAAAAAAAAAAAAAAAAAP//AQAAAABto8gOaq7W8W2x2f9rrdX+a67W/2uu1v9rrtb/a67W/2qt1f5us9z/aa7WUgAAAABVqv8DVar/AwAAAABprtZSbrPc/2qt1f5rrtb/a67W/2uu1v9rrtb/a63V/m2x2f9qrtbxbaPIDgAAAAAA//8BVar/AwAAAABprtZSbrPc/2qt1f5rrtb/a67W/2uu1v9rrtb/a63V/m2x2f9qrtbxbaPaDgAAAAAA//8BAAAAAAAAAAAAAAAAAAAAAAAAAAAAAAAAAAAAAAAAAAAAAAAAAAAAAAAAAAAAAAAAAAAAAAAAAAAAAAAAAAAAAAAAAAAAAAAAAAAAAAAAAAAAAAAAAAAAAAAAAAAAAAAAAAAAAAAAAAAAAAAAAAAAAAAAAAAAAAAAAP//AQAAAABto8gOaq7W8W2x2f9rrdX+a67W/2uu1v9rrtb/a67W/2qt1f5us9z/aa7WUgAAAABVqv8DVar/AwAAAABprtZSbrPc/2qt1f5rrtb/a67W/2uu1v9rrtb/a63V/m2x2f9qrtbxbaPIDgAAAAAA//8BVar/AwAAAABprtZSbrPc/2qt1f5rrtb/a67W/2uu1v9rrtb/a63V/m2x2f9qrtbxbaPaDgAAAAAA//8BAAAAAAAAAAAAAAAAAAAAAAAAAAAAAAAAAAAAAAAAAAAAAAAAAAAAAAAAAAAAAAAAAAAAAAAAAAAAAAAAAAAAAAAAAAAAAAAAAAAAAAAAAAAAAAAAAAAAAAAAAAAAAAAAAAAAAAAAAAAAAAAAAAAAAAAAAAAAAAAAAP//AQAAAABto8gOaq7W8W2x2f9rrdX+a67W/2uu1v9rrtb/a67W/2qt1f5us9z/aa7WUgAAAABVqv8DVar/AwAAAABprtZSbrPc/2qt1f5rrtb/a67W/2uu1v9rrtb/a63V/m2x2f9qrtbxbaPIDgAAAAAA//8BVar/AwAAAABprtZSbrPc/2qt1f5rrtb/a67W/2uu1v9rrtb/a63V/m2x2f9qrtbxbaPaDgAAAAAA//8BAAAAAAAAAAAAAAAAAAAAAAAAAAAAAAAAAAAAAAAAAAAAAAAAAAAAAAAAAAAAAAAAAAAAAAAAAAAAAAAAAAAAAAAAAAAAAAAAAAAAAAAAAAAAAAAAAAAAAAAAAAAAAAAAAAAAAAAAAAAAAAAAAAAAAAAAAAAAAAAAAP//AQAAAABto8gOaq7W8W2x2f9rrdX+a67W/2uu1v9rrtb/a67W/2qt1f5us9z/aa7WUgAAAABVqv8DVar/AwAAAABprtZSbrPc/2qt1f5rrtb/a67W/2uu1v9rrtb/a63V/m2x2f9qrtbxbaPIDgAAAAAA//8BVar/AwAAAABprtZSbrPc/2qt1f5rrtb/a67W/2uu1v9rrtb/a63V/m2x2f9qrtbxbaPaDgAAAAAA//8BAAAAAAAAAAAAAAAAAAAAAAAAAAAAAAAAAAAAAAAAAAAAAAAAAAAAAAAAAAAAAAAAAAAAAAAAAAAAAAAAAAAAAAAAAAAAAAAAAAAAAAAAAAAAAAAAAAAAAAAAAAAAAAAAAAAAAAAAAAAAAAAAAAAAAAAAAAAAAAAAAP//AQAAAABto8gOaq7W8W2x2f9rrdX+a67W/2uu1v9rrtb/a67W/2qt1f5us9z/aa7WUgAAAABVqv8DVar/AwAAAABprtZSbrPc/2qt1f5rrtb/a67W/2uu1v9rrtb/a63V/m2x2f9qrtbxbaPIDgAAAAAA//8BVar/AwAAAABprtZSbrPc/2qt1f5rrtb/a67W/2uu1v9rrtb/a63V/m2x2f9qrtbxbaPaDgAAAAAA//8BAAAAAAAAAAAAAAAAAAAAAAAAAAAAAAAAAAAAAAAAAAAAAAAAAAAAAAAAAAAAAAAAAAAAAAAAAAAAAAAAAAAAAAAAAAAAAAAAAAAAAAAAAAAAAAAAAAAAAAAAAAAAAAAAAAAAAAAAAAAAAAAAAAAAAAAAAAAAAAAAAP//AQAAAABto8gOa67W8G2w2P5rrtb9a67W/muu1v5rrtb+a67W/mqu1f1ts9z9aK/XUwAAAABVqv8DVar/AwAAAABprtZSbrPc/2qt1f5rrtb/a67W/2uu1v9rrtb/a63V/m2x2f9qrtbxbaPIDgAAAAAA//8BVar/AwAAAABprtZSbrPc/2qt1f5rrtb/a67W/2uu1v9rrtb/a63V/m2x2f9qrtbxbaPaDgAAAAAA//8BAAAAAAAAAAAAAAAAAAAAAAAAAAAAAAAAAAAAAAAAAAAAAAAAAAAAAAAAAAAAAAAAAAAAAAAAAAAAAAAAAAAAAAAAAAAAAAAAAAAAAAAAAAAAAAAAAAAAAAAAAAAAAAAAAAAAAAAAAAAAAAAAAAAAAAAAAAAAAAAAAP//AQAAAABzuecLa63W826z3P9rrdX+a67X/2uu1/9rrtf/a67X/2uu1v9wt+H/bK3WSwAAAABVqv8DVar/AwAAAABprtZSbrPc/2qt1f5rrtb/a67W/2uu1v9rrtb/a63V/m2x2f9qrtbxbaPIDgAAAAAA//8BVar/AwAAAABprtZSbrPc/2qt1f5rrtb/a67W/2uu1v9rrtb/a63V/m2x2f9qrtbxbaPaDgAAAAAA//8BAAAAAAAAAAAAAAAAAAAAAAAAAAAAAAAAAAAAAAAAAAAAAAAAAAAAAAAAAAAAAAAAAAAAAAAAAAAAAAAAAAAAAAAAAAAAAAAAAAAAAAAAAAAAAAAAAAAAAAAAAAAAAAAAAAAAAAAAAAAAAAAAAAAAAAAAAAAAAAAAAAAAAAD//wEAAAAAa63Uim+03vpqrtX9a63V/muu1v5rrtb+aq3V/W2z2/1rrtXEb6/fEAAAAAEA/wABVar/AwAAAABprtZSbrPc/2qt1f5rrtb/a67W/2uu1v9rrtb/a63V/m2x2f9qrtbxbaPIDgAAAAAA//8BVar/AwAAAABprtZSbrPc/2qt1f5rrtb/a67W/2uu1v9rrtb/a63V/m2x2f9qrtbxbaPaDgAAAAAA//8BAAAAAAAAAAAAAAAAAAAAAAAAAAAAAAAAAAAAAAAAAAAAAAAAAAAAAAAAAAAAAAAAAAAAAAAAAAAAAAAAAAAAAAAAAAAAAAAAAAAAAAAAAAAAAAAAAAAAAAAAAAAAAAAAAAAAAAAAAAAAAAAAAAAAAAAAAAAAAAAAAAAAAAAAAAAAAAAAAAAAAGqx1Stpr9c6ba3WOGuu1jltsdo4a67WOXCw3DR/qtQGAAAAAAAAAAEAAAAAVar/AwAAAABprtZSbrPc/2qt1f5rrtb/a67W/2uu1v9rrtb/a63V/m2x2f9qrtbxbaPIDgAAAAAA//8BVar/AwAAAABprtZSbrPc/2qt1f5rrtb/a67W/2uu1v9rrtb/a63V/m2x2f9qrtbxbaPaDgAAAAAA//8BAAAAAAAAAAAAAAAAAAAAAAAAAAAAAAAAAAAAAAAAAAAAAAAAAAAAAAAAAAAAAAAAAAAAAAAAAAAAAAAAAAAAAAAAAAAAAAAAAAAAAAAAAAAAAAAAAAAAAAAAAAAAAAAAAAAAAAAAAAAAAAAAAAAAAAAAAAAAAAAAAAAAAAAAAAAAAAAAAAAAAAAAAAAAAAAAAAAAAAAAAAAAAAAAAAAAAAAAAAAAAAAAAAD/AQAAAAAAAAAAVar/AwAAAABprtZSbrPc/2qt1f5rrtb/a67W/2uu1v9rrtb/a63V/m2x2f9qrtbxbaPIDgAAAAAA//8BVar/AwAAAABprtZSbrPc/2qt1f5rrtb/a67W/2uu1v9rrtb/a63V/m2x2f9qrtbxbaPaDgAAAAAA//8BAAAAAAAAAAAAAAAAAAAAAAAAAAAAAAAAAAAAAAAAAAAAAAAAAAAAAAAAAAAAAAAAAAAAAAAAAAAAAAAAAAAAAAAAAAAAAAAAAAAAAAAAAAAAAAAAAAAAAAAAAAAAAAAAAAAAAAAAAAAAAAAAAAAAAAAAAAAAAAAAAAAAAAAAAAAAAAAAAAAAAH9//wJ///8Cf///An///wJ///8Cf///An///wIA//8BAAAAAAAAAAAAAAAAVar/AwAAAABprtZSbrPc/2qt1f5rrtb/a67W/2uu1v9rrtb/a63V/m2x2f9qrtbxbaPIDgAAAAAA//8BVar/AwAAAABprtZSbrPc/2qt1f5rrtb/a67W/2uu1v9rrtb/a63V/m2x2f9qrtbxbaPaDgAAAAAA//8BAAAAAAAAAAAAAAAAAAAAAAAAAAAAAAAAAAAAAAAAAAAAAAAAAAAAAAAAAAAAAAAAAAAAAAAAAAAAAAAAAAAAAAAAAAAAAAAAAAAAAAAAAAAAAAAAAAAAAAAAAAAAAAAAAAAAAAAAAAAAAAAAAAAAAAAAAAAAAAAAAAAAAAAAAAAAAAAAAAAAAAAAAAAAAAAAAAAAAAAAAAAAAAAAAAAAAAAAAAAAAAAAAAAAAAAAAAAAAAAAVar/AwAAAABprtZSbrPc/2qt1f5rrtb/a67W/2uu1v9rrtb/a63V/m2x2f9qrtbxbaPIDgAAAAAA//8BVar/AwAAAABprtZSbrPc/2qt1f5rrtb/a67W/2uu1v9rrtb/a63V/m2x2f9qrtbxbaPaDgAAAAAA//8BAAAAAAAAAAAAAAAAAAAAAAAAAAAAAAAAAAAAAAAAAAAAAAAAAAAAAAAAAAAAAAAAAAAAAAAAAAAAAAAAAAAAAAAAAAAAAAAAAAAAAAAAAAAAAAAAAAAAAAAAAAAAAAAAAAAAAAAAAAAAAAAAAAAAAAAAAAAAAAAAAAAAAAAAAAAAAAAAAAAAAAAAAAAAAAAAAAAAAAAAAAAAAAAAAAAAAAAAAAAAAAAAAAAAAAAAAAAAAAAAVar/AwAAAABprtZSbrPc/2qt1f5rrtb/a67W/2uu1v9rrtb/a63V/m2x2f9qrtbxbaPIDgAAAAAA//8BVar/AwAAAABprtZSbrPc/2qt1f5rrtb/a67W/2uu1v9rrtb/a63V/m2x2f9qrtbxbaPaDgAAAAAA//8BAAAAAAAAAAAAAAAAAAAAAAAAAAAAAAAAAAAAAAAAAAAAAAAAAAAAAAAAAAAAAAAAAAAAAAAAAAAAAAAAAAAAAAAAAAAAAAAAAAAAAAAAAAAAAAAAAAAAAAAAAAAAAAAAAAAAAAAAAAAAAAAAAAAAAAAAAAAAAAAAAAAAAAAAAAAAAAAAAAAAAAAAAAAAAAAAAAAAAAAAAAAAAAAAAAAAAAAAAAAAAAAAAAAAAAAAAAAAAAAAVar/AwAAAABprtZSbrPc/2qt1f5rrtb/a67W/2uu1v9rrtb/a63V/m2x2f9qrtbxbaPIDgAAAAAA//8BVar/AwAAAABprtZSbrPc/2qt1f5rrtb/a67W/2uu1v9rrtb/a63V/m2x2f9qrtbxbaPaDgAAAAAA//8BAAAAAAAAAAAAAAAAAAAAAAAAAAAAAAAAAAAAAAAAAAAAAAAAAAAAAAAAAAAAAAAAAAAAAAAAAAAAAAAAAAAAAAAAAAAAAAAAAAAAAAAAAAAAAAAAAAAAAAAAAAAAAAAAAAAAAAAAAAAAAAAAAAAAAAAAAAAAAAAAAAAAAAAAAAAAAAAAAAAAAAAAAAAAAAAAAAAAAAAAAAAAAAAAAAAAAAAAAAAAAAAAAAAAAAAAAAAAAAAAVar/AwAAAABprtZSbrPc/2qt1f5rrtb/a67W/2uu1v9rrtb/a63V/m2x2f9qrtbxbaPIDgAAAAAA//8BVar/AwAAAABprtZSbrPc/2qt1f5rrtb/a67W/2uu1v9rrtb/a63V/m2x2f9qrtbxbaPaDgAAAAAA//8BAAAAAAAAAAAAAAAAAAAAAAAAAAAAAAAAAAAAAAAAAAAAAAAAAAAAAAAAAAAAAAAAAAAAAAAAAAAAAAAAAAAAAAAAAAAAAAAAAAAAAAAAAAAAAAAAAAAAAAAAAAAAAAAAAAAAAAAAAAAAAAAAAAAAAAAAAAAAAAAAAAAAAAAAAAAAAAAAAAAAAAAAAAAAAAAAAAAAAAAAAAAAAAAAAAAAAAAAAAAAAAAAAAAAAAAAAAAAAAAAVar/AwAAAABprtZSbrPc/2qt1f5rrtb/a67W/2uu1v9rrtb/a63V/m2x2f9qrtbxbaPIDgAAAAAA//8BVar/AwAAAABprtZSbrPc/2qt1f5rrtb/a67W/2uu1v9rrtb/a63V/m2x2f9qrtbxbaPaDgAAAAAA//8BAAAAAAAAAAAAAAAAAAAAAAAAAAAAAAAAAAAAAAAAAAAAAAAAAAAAAAAAAAAAAAAAAAAAAAAAAAAAAAAAAAAAAAAAAAAAAAAAAAAAAAAAAAAAAAAAAAAAAAAAAAAAAAAAAAAAAAAAAAAAAAAAAAAAAAAAAAAAAAAAAAAAAAAAAAAAAAAAAAAAAAAAAAAAAAAAAAAAAAAAAAAAAAAAAAAAAAAAAAAAAAAAAAAAAAAAAAAAAAAAVar/AwAAAABprtZSbrLb/mqt1f5rrtb/a67W/2uu1v9rrtb/a63V/m2x2f9rrtbwbaPIDgAAAAAA//8BVar/AwAAAABprtZSbrPc/2qt1f5rrtb/a67W/2uu1v9rrtb/a63V/m2x2f9qrtbxbaPaDgAAAAAA//8BAAAAAAAAAAAAAAAAAAAAAAAAAAAAAAAAAAAAAAAAAAAAAAAAAAAAAAAAAAAAAAAAAAAAAAAAAAAAAAAAAAAAAAAAAAAAAAAAAAAAAAAAAAAAAAAAAAAAAAAAAAAAAAAAAAAAAAAAAAAAAAAAAAAAAAAAAAAAAAAAAAAAAAAAAAAAAAAAAAAAAAAAAAAAAAAAAAAAAAAAAAAAAAAAAAAAAAAAAAAAAAAAAAAAAAAAAAAAAAAAVar/AwAAAABrrdZRcLbf/2ut1fxqrtX9aq7V/Wqu1f1qrtX9a67V/G2w2f5qrdb1YpzEDQAAAAAA//8BVar/AwAAAABprtZSbrPc/2qt1f5rrtb/a67W/2uu1v9rrtb/a63V/m2x2f9qrtbxbaPaDgAAAAAA//8BAAAAAAAAAAAAAAAAAAAAAAAAAAAAAAAAAAAAAAAAAAAAAAAAAAAAAAAAAAAAAAAAAAAAAAAAAAAAAAAAAAAAAAAAAAAAAAAAAAAAAAAAAAAAAAAAAAAAAAAAAAAAAAAAAAAAAAAAAAAAAAAAAAAAAAAAAAAAAAAAAAAAAAAAAAAAAAAAAAAAAAAAAAAAAAAAAAAAAAAAAAAAAAAAAAAAAAAAAAAAAAAAAAAAAAAAAAAAAAAAAP//AQAAAABmrcwZa67W3XG44v9vtN3/b7Xf/2+13/9vtd7/b7Td/3K55f9qrdWlf39/AgD//wEAAAAAVar/AwAAAABprtZSbrPc/2qt1f5rrtb/a67W/2uu1v9rrtb/a63V/m2x2f9qrtbxbaPaDgAAAAAA//8BAAAAAAAAAAAAAAAAAAAAAAAAAAAAAAAAAAAAAAAAAAAAAAAAAAAAAAAAAAAAAAAAAAAAAAAAAAAAAAAAAAAAAAAAAAAAAAAAAAAAAAAAAAAAAAAAAAAAAAAAAAAAAAAAAAAAAAAAAAAAAAAAAAAAAAAAAAAAAAAAAAAAAAAAAAAAAAAAAAAAAAAAAAAAAAAAAAAAAAAAAAAAAAAAAAAAAAAAAAAAAAAAAAAAAAAAAAAAAAAAAAAAAAAA/wEAAAAAZ6rPG2uv11psrthcbK7YXGyu2Fxsq9VcbK3WXmuw205/qtQGAAAAAAD//wEAAAAAVar/AwAAAABprtZSbrPc/2qt1f5rrtb/a67W/2uu1v9rrtb/a63V/m2x2f9qrtbxbaPaDgAAAAAA//8BAAAAAAAAAAAAAAAAAAAAAAAAAAAAAAAAAAAAAAAAAAAAAAAAAAAAAAAAAAAAAAAAAAAAAAAAAAAAAAAAAAAAAAAAAAAAAAAAAAAAAAAAAAAAAAAAAAAAAAAAAAAAAAAAAAAAAAAAAAAAAAAAAAAAAAAAAAAAAAAAAAAAAAAAAAAAAAAAAAAAAAAAAAAAAAAAAAAAAAAAAAAAAAAAAAAAAAAAAAAAAAAAAAAAAAAAAAAAAAAAAAAAAAAAAAAA//8BAAAAAAAAAAAAAAAAAAAAAAAAAAAAAAAAAAAAAAAAAAAAAAAAAAAAAAAAAAAAAAAAVar/AwAAAABprtZSbrPc/2qt1f5rrtb/a67W/2uu1v9rrtb/a63V/m2x2f9qrtbxbaPaDgAAAAAA//8BAAAAAAAAAAAAAAAAAAAAAAAAAAAAAAAAAAAAAAAAAAAAAAAAAAAAAAAAAAAAAAAAAAAAAAAAAAAAAAAAAAAAAAAAAAAAAAAAAAAAAAAAAAAAAAAAAAAAAAAAAAAAAAAAAAAAAAAAAAAAAAAAAAAAAAAAAAAAAAAAAAAAAAAAAAAAAAAAAAAAAAAAAAAAAAAAAAAAAAAAAAAAAAAAAAAAAAAAAAAAAAAAAAAAAAAAAAAAAAAAAAAAAAAAAAAAAAAA////AT9/vwR/f78Ef3+/BH9/vwR/f78Ef3+/BFWq/wMAAP8BAAAAAAAAAAAAAAAAVar/AwAAAABprtZSbrPc/2qt1f5rrtb/a67W/2uu1v9rrtb/a63V/m2x2f9qrtbxbaPaDgAAAAAA//8BAAAAAAAAAAAAAAAAAAAAAAAAAAAAAAAAAAAAAAAAAAAAAAAAAAAAAAAAAAAAAAAAAAAAAAAAAAAAAAAAAAAAAAAAAAAAAAAAAAAAAAAAAAAAAAAAAAAAAAAAAAAAAAAAAAAAAAAAAAAAAAAAAAAAAAAAAAAAAAAAAAAAAAAAAAAAAAAAAAAAAAAAAAAAAAAAAAAAAAAAAAAAAAAAAAAAAAAAAAAAAAAAAAAAAAAAAAAAAAAAAAAAAAAAAAAAAAAAAAAAAAAAAAAAAAAAAAAAAAAAAAAAAAAAAAAAAAAAAAAAAAAAAAAAAAAAAAAAAAAAVar/AwAAAABprtZSbrPc/2qt1f5rrtb/a67W/2uu1v9rrtb/a63V/m2x2f9qrtbxbaPaDgAAAAAA//8BAAAAAAAAAAAAAAAAAAAAAAAAAAAAAAAAAAAAAAAAAAAAAAAAAAAAAAAAAAAAAAAAAAAAAAAAAAAAAAAAAAAAAAAAAAAAAAAAAAAAAAAAAAAAAAAAAAAAAAAAAAAAAAAAAAAAAAAAAAAAAAAAAAAAAAAAAAAAAAAAAAAAAAAAAAAAAAAAAAAAAAAAAAAAAAAAAAAAAAAAAAAAAAAAAAAAAAAAAAAAAAAAAAAAAAAAAAAAAAAAAAAAAAAAAAAAAAAAAAAAAAAAAAAAAAAAAAAAAAAAAAAAAAAAAAAAAAAAAAAAAAAAAAAAAAAAAAAAAAAAVar/AwAAAABprtZSbrPc/2qt1f5rrtb/a67W/2uu1v9rrtb/a63V/m2x2f9qrtbxbaPaDgAAAAAA//8BAAAAAAAAAAAAAAAAAAAAAAAAAAAAAAAAAAAAAAAAAAAAAAAAAAAAAAAAAAAAAAAAAAAAAAAAAAAAAAAAAAAAAAAAAAAAAAAAAAAAAAAAAAAAAAAAAAAAAAAAAAAAAAAAAAAAAAAAAAAAAAAAAAAAAAAAAAAAAAAAAAAAAAAAAAAAAAAAAAAAAAAAAAAAAAAAAAAAAAAAAAAAAAAAAAAAAAAAAAAAAAAAAAAAAAAAAAAAAAAAAAAAAAAAAAAAAAAAAAAAAAAAAAAAAAAAAAAAAAAAAAAAAAAAAAAAAAAAAAAAAAAAAAAAAAAAAAAAAAAAVar/AwAAAABprtZSbrPc/2qt1f5rrtb/a67W/2uu1v9rrtb/a63V/m2x2f9qrtbxbaPaDgAAAAAA//8BAAAAAAAAAAAAAAAAAAAAAAAAAAAAAAAAAAAAAAAAAAAAAAAAAAAAAAAAAAAAAAAAAAAAAAAAAAAAAAAAAAAAAAAAAAAAAAAAAAAAAAAAAAAAAAAAAAAAAAAAAAAAAAAAAAAAAAAAAAAAAAAAAAAAAAAAAAAAAAAAAAAAAAAAAAAAAAAAAAAAAAAAAAAAAAAAAAAAAAAAAAAAAAAAAAAAAAAAAAAAAAAAAAAAAAAAAAAAAAAAAAAAAAAAAAAAAAAAAAAAAAAAAAAAAAAAAAAAAAAAAAAAAAAAAAAAAAAAAAAAAAAAAAAAAAAAAAAAAAAAVar/AwAAAABprtZSbrPc/2qt1f5rrtb/a67W/2uu1v9rrtb/a63V/m2x2f9qrtbxbaPaDgAAAAAA//8BAAAAAAAAAAAAAAAAAAAAAAAAAAAAAAAAAAAAAAAAAAAAAAAAAAAAAAAAAAAAAAAAAAAAAAAAAAAAAAAAAAAAAAAAAAAAAAAAAAAAAAAAAAAAAAAAAAAAAAAAAAAAAAAAAAAAAAAAAAAAAAAAAAAAAAAAAAAAAAAAAAAAAAAAAAAAAAAAAAAAAAAAAAAAAAAAAAAAAAAAAAAAAAAAAAAAAAAAAAAAAAAAAAAAAAAAAAAAAAAAAAAAAAAAAAAAAAAAAAAAAAAAAAAAAAAAAAAAAAAAAAAAAAAAAAAAAAAAAAAAAAAAAAAAAAAAAAAAAAAAVar/AwAAAABprtZSbrPc/2qt1f5rrtb/a67W/2uu1v9rrtb/a63V/m2x2f9qrtbxbaPaDgAAAAAA//8BAAAAAAAAAAAAAAAAAAAAAAAAAAAAAAAAAAAAAAAAAAAAAAAAAAAAAAAAAAAAAAAAAAAAAAAAAAAAAAAAAAAAAAAAAAAAAAAAAAAAAAAAAAAAAAAAAAAAAAAAAAAAAAAAAAAAAAAAAAAAAAAAAAAAAAAAAAAAAAAAAAAAAAAAAAAAAAAAAAAAAAAAAAAAAAAAAAAAAAAAAAAAAAAAAAAAAAAAAAAAAAAAAAAAAAAAAAAAAAAAAAAAAAAAAAAAAAAAAAAAAAAAAAAAAAAAAAAAAAAAAAAAAAAAAAAAAAAAAAAAAAAAAAAAAAAAAAAAAAAAVar/AwAAAABprtZSbrLb/mqt1f5rrtb/a67W/2uu1v9rrtb/a63V/m2x2f9rrtbwbaPaDgAAAAAA//8BAAAAAAAAAAAAAAAAAAAAAAAAAAAAAAAAAAAAAAAAAAAAAAAAAAAAAAAAAAAAAAAAAAAAAAAAAAAAAAAAAAAAAAAAAAAAAAAAAAAAAAAAAAAAAAAAAAAAAAAAAAAAAAAAAAAAAAAAAAAAAAAAAAAAAAAAAAAAAAAAAAAAAAAAAAAAAAAAAAAAAAAAAAAAAAAAAAAAAAAAAAAAAAAAAAAAAAAAAAAAAAAAAAAAAAAAAAAAAAAAAAAAAAAAAAAAAAAAAAAAAAAAAAAAAAAAAAAAAAAAAAAAAAAAAAAAAAAAAAAAAAAAAAAAAAAAAAAAAAAAVar/AwAAAABrr9dTb7Td/2qu1vlrrtb6a67W+muu1vprrtb6a67W+Wyw2ftqrdb1baPaDgAAAAAA//8BAAAAAAAAAAAAAAAAAAAAAAAAAAAAAAAAAAAAAAAAAAAAAAAAAAAAAAAAAAAAAAAAAAAAAAAAAAAAAAAAAAAAAAAAAAAAAAAAAAAAAAAAAAAAAAAAAAAAAAAAAAAAAAAAAAAAAAAAAAAAAAAAAAAAAAAAAAAAAAAAAAAAAAAAAAAAAAAAAAAAAAAAAAAAAAAAAAAAAAAAAAAAAAAAAAAAAAAAAAAAAAAAAAAAAAAAAAAAAAAAAAAAAAAAAAAAAAAAAAAAAAAAAAAAAAAAAAAAAAAAAAAAAAAAAAAAAAAAAAAAAAAAAAAAAAAAAAAAAAAAAP//AQAAAABqsdskaq7W8XW+6v9zvOf/dLzo/3S86P90vOf/c7vm/3fB7f9rrda8f7+/BP///wEAAAAAAAAAAAAAAAAAAAAAAAAAAAAAAAAAAAAAAAAAAAAAAAAAAAAAAAAAAAAAAAAAAAAAAAAAAAAAAAAAAAAAAAAAAAAAAAAAAAAAAAAAAAAAAAAAAAAAAAAAAAAAAAAAAAAAAAAAAAAAAAAAAAAAAAAAAAAAAAAAAAAAAAAAAAAAAAAAAAAAAAAAAAAAAAAAAAAAAAAAAAAAAAAAAAAAAAAAAAAAAAAAAAAAAAAAAAAAAAAAAAAAAAAAAAAAAAAAAAAAAAAAAAAAAAAAAAAAAAAAAAAAAAAAAAAAAAAAAAAAAAAAAAAAAAAAAAAAAAAAAAAAAAAAAAD//wEAAAAAaa3TNWuv14BqrtZ/aq7Wf2qu1n9qrtZ/bLDYf2yx2XNordwWAAAAAP///wEAAAAAAAAAAAAAAAAAAAAAAAAAAAAAAAAAAAAAAAAAAAAAAAAAAAAAAAAAAAAAAAAAAAAAAAAAAAAAAAAAAAAAAAAAAAAAAAAAAAAAAAAAAAAAAAAAAAAAAAAAAAAAAAAAAAAAAAAAAAAAAAAAAAAAAAAAAAAAAAAAAAAAAAAAAAAAAAAAAAAAAAAAAAAAAAAAAAAAAAAAAAAAAAAAAAAAAAAAAAAAAAAAAAAAAAAAAAAAAAAAAAAAAAAAAAAAAAAAAAAAAAAAAAAAAAAAAAAAAAAAAAAAAAAAAAAAAAAAAAAAAAAAAAAAAAAAAAAAAAAAAAAAAAAAAAAAAAAA//8BAAAAAAAAAAAAAAAAAAAAAAAAAAAAAAAAAAAAAAAAAAAAAAAAAAAAAAAAAAAAAAAAAAAAAAAAAAAAAAAAAAAAAAAAAAAAAAAAAAAAAAAAAAAAAAAAAAAAAAAAAAAAAAAAAAAAAAAAAAAAAAAAAAAAAAAAAAAAAAAAAAAAAAAAAAAAAAAAAAAAAAAAAAAAAAAAAAAAAAAAAAAAAAAAAAAAAAAAAAAAAAAAAAAAAAAAAAAAAAAAAAAAAAAAAAAAAAAAAAAAAAAAAAAAAAAAAAAAAAAAAAAAAAAAAAAAAAAAAAAAAAAAAAAAAAAAAAAAAAAAAAAAAAAAAAAAAAAAAAAAAAAAAAAAAAAAAAAAAAAAAAAAAAAAAAAAAAAAAAAAAAAAAAAAAAAAAAAAAAAAf///AmaZzAVmmcwFZpnMBWaZzAVmmcwFZpnMBX+//wT///8BAAAAAAAAAAAAAAAAAAAAAAAAAAAAAAAAAAAAAAAAAAAAAAAAAAAAAAAAAAAAAAAAAAAAAAAAAAAAAAAAAAAAAAAAAAAAAAAAAAAAAAAAAAAAAAAAAAAAAAAAAAAAAAAAAAAAAAAAAAAAAAAAAAAAAAAAAAAAAAAAAAAAAAAAAAAAAAAAAAAAAAAAAAAAAAAAAAAAAAAAAAAAAAAAAAAAAAAAAAAAAAAAAAAAAAAAAAAAAAAAAAAAAAAAAAAAAAAAAAAAAAAAAAAAAAAAAAAAAAAAAAAAAAAAAAAAAAAAAAAAAAAAAAAAAAAAAAAAAAAAAAAAAAAAAAAAAAAAAAAAAAAAAAAAAAAAAAAAAAAAAAAAAAAAAAAAAAAAAAAAAAAAAAAAAAAAAAAAAAAAAAAAAAAAAAAAAAAAAAAAAAAAAAAAAAAAAAAAAAAAAAAAAAAAAAAAAAAAAAAAAAAAAAAAAAAAAAAAAAAAAAAAAAAAAAAAAAAAAAAAAAAAAAAAAAAAAAAAAAAAAAAAAAAAAAAAAAAAAAAAAAAAAAAAAAAAAAAAAAAAAAAAAAAAAAAAAAAAAAAAAAAAAAAAAAAAAAAAAAAAAAAAAAAAAAAAAAAAAAAAAAAAAAAAAAAAAAAAAAAAAAAAAAAAAAAAAAAAAAAAAAAAAAAAAAAAAAAAAAAAAAAAAAAAAAAAAAAAAAAAAAAAAAAAAAAAAAAAAAAAAAAAAAAAAAAAAAAAAAAAAAAAAAAAAAAAAAAAAAAAAAAAAAAAAAAAAAAAAAAAAAAAAAAAAAAAAAAAAAAAAAAAAAAAAAAAAAAAAAAAAAAAAAAAAAAAAAAAAAAAAAAAAAAAAAAAAAAAAAAAAAAAAAAAAAAAAAAAAAAAAAAAAAAAAAAAAAAAAAAAAAAAAAAAAAAAAAAAAAAAAAAAAAAAAAAAAAAAAAAAAAAAAAAAAAAAAAAAAAAAAAAAAAAAAAAAAAAAAAAAAAAAAAAAAAAAAAAAAAAAAAAAAAAAAAAAAAAAAAAAAAAAAAAAAAAAAAAAAAAAAAAAAAAAAAAAAAAAAAAAAAAAAAAAAAAAAAAAAAAAAAAAAAAAAAAAAAAAAAAAAAAAAAAAAAAAAAAAAAAAAAAAAAAAAAAAAAAAAAAAAAAAAAAAAAAAAAAAAAAAAAAAAAAAAAAAAAAAAAAAAAAAAAAAAAAAAAAAAAAAAAAAAAAAAAAAAAAAAAAAAAAAAAAAAAAAAAAAAAAAAAAAAAAAAAAAAAAAAAAAAAAAAAAAAAAAAAAAAAAAAAAAAAAAAAAAAAAAAAAAAAAAAAAAAAAAAAAAAAAAAAAAAAAAAAAAAAAAAAAAAAAAAAAAAAAAAAAAAAAAAAAAAAAAAAAAAAAAAAAAAAAAAAAAAAAAAAAAAAAAAAAAAAAAAAAAAAAAAAAAAAAAAAAAAAAAAAAAAAAAAAAAAAAAAAAAAAAAAAAAAAAAAAAAAAAAAAAAAAAAAAAAAAAAAAAAAAAAAAAAAAAAAAAAAAAAAAAAAAAAAAAAAAAAAAAAAAAAAAAAAAAAAAAAAAAAAAAAAAAAAAAAAAAAAAAAAAAAAAAAAAAAAAAAAAAAAAAAAAAAAAAAAAAAAAAAAAAAAAAAAAAAAAAAAAAAAAAAAAAAAAAAAAAAAAAAAAAAAAAAAAAAAAAAAAAAAAAAAAAAAAAAAAAAAAAAAAAAAAAAAAAAAAAAAAAAAAAAAAAAAAAAAAAAAAAAAAAAAAAAAAAAAAAAAAAAAAAAAAAAAAAAAAAAAAAAAAAAAAAAAAAAAAAAAAAAAAAAAAAAAAAAAAAAAAAAAAAAAAAAAAAAAAAAAAAAAAAAAAAAAAAAAAAAAAAAAAAAAAAAAAAAAAAAAAAAAAAAAAAAAAAAAAAAAAAAAAAAAAAAAAAAAAAAAAAAAAAAAAAAAAAAAAAAAAAAAAAAAAAAAAAAAAAAAAAAAAAAAAAAAAAAAAAAAAAAAAAAAAAAAAAAAAAAAAAAAAAAAAAAAAAAAAAAAAAAAAAA\",\"dtype\":\"uint32\",\"order\":\"little\",\"shape\":[75,75]}]},\"selected\":{\"id\":\"5324\"},\"selection_policy\":{\"id\":\"5323\"}},\"id\":\"5208\",\"type\":\"ColumnDataSource\"},{\"attributes\":{\"formatter\":{\"id\":\"5309\"},\"ticker\":{\"id\":\"5136\"},\"visible\":false},\"id\":\"5135\",\"type\":\"LinearAxis\"},{\"attributes\":{},\"id\":\"5265\",\"type\":\"LinearScale\"},{\"attributes\":{},\"id\":\"5182\",\"type\":\"BasicTicker\"},{\"attributes\":{},\"id\":\"5231\",\"type\":\"PanTool\"},{\"attributes\":{\"fill_alpha\":{\"value\":0.1},\"fill_color\":{\"value\":\"#2171b5\"},\"height\":{\"field\":\"height\",\"units\":\"data\"},\"line_alpha\":{\"value\":0.1},\"line_color\":{\"value\":\"#1f77b4\"},\"width\":{\"field\":\"width\",\"units\":\"data\"},\"x\":{\"field\":\"x\"},\"y\":{\"field\":\"y\"}},\"id\":\"5293\",\"type\":\"Rect\"},{\"attributes\":{},\"id\":\"5142\",\"type\":\"SaveTool\"},{\"attributes\":{\"data\":{\"image\":[{\"__ndarray__\":\"AAAAAAAAAAAAAAAAAAAAAAAAAAAAAAAAAAAAAAAAAAAAAAAAAAAAAAAAAAAAAAAAAAAAAAAAAAAAAAAAAAAAAAAAAAAAAAAAAAAAAAAAAAAAAAAAAAAAAAAAAAAAAAAAAAAAAAAAAAAAAAAAAAAAAAAAAAAAAAAAAAAAAAAAAAAAAAAAAAAAAAAAAAAAAAAAAAAAAAAAAAAAAAAAAAAAAAAAAAAAAAAAAAAAAAAAAAAAAAAAAAAAAAAAAAAAAAAAAAAAAAAAAAAAAAAAAAAAAAAAAAAAAAAAAAAAAAAAAAAAAAAAAAAAAAAAAAAAAAAAAAAAAAAAAAAAAAAAAAAAAAAAAAAAAAAAAAAAAAAAAAAAAAAAAAAAAAAAAAAAAAAAAAAAAAAAAAAAAAAAAAAAAAAAAAAAAAAAAAAAAAAAAAAAAAAAAAAAAAAAAAAAAAAAAAAAAAAAAAAAAAAAAAAAAAAAAAAAAAAAAAAAAAAAAAAAAAAAAAAAAAAAAAAAAAAAAAAAAAAAAAAAAAAAAAAAAAAAAAAAAAAAAAAAAAAAAAAAAAAAAAAAAAAAAAAAAAAAAAAAAAAAAAAAAAAAAAAAAAAAAAAAAAAAAAAAAAAAAAAAAAAAAAAAAAAAAAAAAAAAAAAAAAAAAAAAAAAAAAAAAAAAAAAAAAAAAAAAAAAAAAAAAAAAAAAAAAAAAAAAAAAAAAAAAAAAAAAAAAAAAAAAAAAAAAAAAAAAAAAAAAAAAAAAAAAAAAAAAAAAAAAAAAAAAAAAAAAAAAAAAAAAAAAAAAAAAAAAAAAAAAAAAAAAAAAAAAAAAAAAAAAAAAAAAAAAAP//AQD//wEA//8BAP//AQD//wEA//8BAP//AQD//wEA//8BAP//AQD//wEA//8BAP//AQD//wEA//8BAP//AQD//wEA//8BAP//AQD//wEA//8BAP//AQD//wEA//8BAP//AQD//wEA//8BAP//AQD//wEA//8BAP//AQD//wEA//8BAP//AQD//wEA//8BAP//AQD//wEA//8BAP//AQD//wEA//8BAP//AQD//wEA//8BAP//AQD//wEA//8BAP//AQD//wEA//8BAP//AQD//wEA//8BAP//AQD//wEA//8BAP//AQD//wEA//8BAP//AQD//wEAAP8BAAAAAAAAAAAAAAAAAAAAAAAAAAAAAAAAAAAAAAAAAAAAAAAAAAAAAAAAAAB/f/8CAAAAAAAAAAAAAAAAAAAAAAAAAAAAAAAAAAAAAAAAAAAAAAAAAAAAAAAAAAAAAAAAAAAAAAAAAAAAAAAAAAAAAAAAAAAAAAAAAAAAAAAAAAAAAAAAAAAAAAAAAAAAAAAAAAAAAAAAAAAAAAAAAAAAAAAAAAAAAAAAAAAAAAAAAAAAAAAAAAAAAAAAAAAAAAAAAAAAAAAAAAAAAAAAAAAAAAAAAAAAAAAAAAAAAAAAAAAAAAAAAAAAAAAAAAAAAAAAAAAAAAAAAAAAAAAAAAAAAAAAAAAAAAAAAAAAAAAAAAAAAAAAAAAAAAAAAAAAAAAAAAAAAAAAAAAAAAAAf///AgAAAAAAAAAAAAAAAAAAAAAAAAAAAAAAAAAAAAAAAAAAAAAAAAAAAAAAAAAAaqq/DG222g5to8gObaPIDm2jyA5to8gObaPIDm2jyA5to8gObaPIDm2jyA5to8gObaPIDm2jyA5to8gObaPIDm2jyA5to8gObaPIDm2jyA5to8gObaPIDm2jyA5to8gObaPIDm2jyA5to8gObaPIDm2jyA5to8gObaPIDm2jyA5to8gObaPIDm2jyA5to8gObaPIDm2jyA5to8gObaPIDm2jyA5to8gObaPIDm2jyA5to8gObaPIDm2jyA5to8gObaPIDm2jyA5to8gObaPIDm2jyA5to8gObaPIDm2jyA5to8gObaPIDm2jyA5to8gObaPIDm222g5mZpkFAAAAAAAAAAAAAAAAAAAAAAAAAAAAAAAAAAAAAAAAAAAAAAABAP//AWaZzAVqrNSPbLDZ62uv1/BqrdXxaq7W8Wqu1vFqrtbxaq7W8Wqu1vFqrtbxaq7W8Wqu1vFqrtbxaq7W8Wqu1vFqrtbxaq7W8Wqu1vFqrtbxaq7W8Wqu1vFqrtbxaq7W8Wqu1vFqrtbxaq7W8Wqu1vFqrtbxaq7W8Wqu1vFqrtbxaq7W8Wqu1vFqrtbxaq7W8Wqu1vFqrtbxaq7W8Wqu1vFqrtbxaq7W8Wqu1vFqrtbxaq7W8Wqu1vFqrtbxaq7W8Wqu1vFqrtbxaq7W8Wqu1vFqrtbxaq7W8Wqu1vFqrtbxaq7W8Wqu1vFqrtbxaq7W8Wqu1vFqrtbxaq3V8Wyv1/BvtN3Uaa3WSwAAAAAAf/8CAAAAAAAAAAAAAAAAAAAAAAAAAAA/v78EAAAAAGqu1ll0vef/bbHZ/2yw2f9tsdn/bbHZ/22x2f9tsdn/bbHZ/22x2f9tsdn/bbHZ/22x2f9tsdn/bbHZ/22x2f9tsdn/bbHZ/22x2f9tsdn/bbHZ/22x2f9tsdn/bbHZ/22x2f9tsdn/bbHZ/22x2f9tsdn/bbHZ/22x2f9tsdn/bbHZ/22x2f9tsdn/bbHZ/22x2f9tsdn/bbHZ/22x2f9tsdn/bbHZ/22x2f9tsdn/bbHZ/22x2f9tsdn/bbHZ/22x2f9tsdn/bbHZ/22x2f9tsdn/bbHZ/22x2f9tsdn/bbHZ/22x2f9tsdn/bbHZ/22x2f9tsdn/bbHZ/2yv1/9xueP/a63U62aq3Q8AAAAAAAD/AQAAAAAAAAAAAAAAAAAAAABmmcwFAAAAAGmu1YJzvOf9aq7W+Wut1f5rrdX+a63V/mut1f5rrdX+a63V/mut1f5rrdX+a63V/mut1f5rrdX+a63V/mut1f5rrdX+a63V/mut1f5rrdX+a63V/mut1f5rrdX+a63V/mut1f5rrdX+a63V/mut1f5rrdX+a63V/mut1f5rrdX+a63V/mut1f5rrdX+a63V/mut1f5rrdX+a63V/mut1f5rrdX+a63V/mut1f5rrdX+a63V/mut1f5rrdX+a63V/mut1f5rrdX+a63V/mut1f5rrdX+a63V/mut1f5rrdX+a63V/mut1f5rrdX+a63V/mut1f5rrdX+a63V/muu1f1rrtb9a63W+2ew1CoAAAAAf3//AgAAAAAAAAAAAAAAAAAAAABmmcwFAAAAAGuw1n50vOj/a67W+muu1v9rrtb/a67W/2uu1v9rrtb/a67W/2uu1v9rrtb/a67W/2uu1v9rrtb/a67W/2uu1v9rrtb/a67W/2uu1v9rrtb/a67W/2uu1v9rrtb/a67W/2uu1v9rrtb/a67W/2uu1v9rrtb/a67W/2uu1v9rrtb/a67W/2uu1v9rrtb/a67W/2uu1v9rrtb/a67W/2uu1v9rrtb/a67W/2uu1v9rrtb/a67W/2uu1v9rrtb/a67W/2uu1v9rrtb/a67W/2uu1v9rrtb/a67W/2uu1v9rrtb/a67W/2uu1v9rrtb/a67W/2uu1v9rrtb/a67W/2uu1f5sr9f/a6/W+W2w2ioAAAAAf3//AgAAAAAAAAAAAAAAAAAAAABmmcwFAAAAAGqu1n90vOj/a67W+muu1v9rrtb/a67W/2uu1v9rrtb/a67W/2uu1v9rrtb/a67W/2uu1v9rrtb/a67W/2uu1v9rrtb/a67W/2uu1v9rrtb/a67W/2uu1v9rrtb/a67W/2uu1v9rrtb/a67W/2uu1v9rrtb/a67W/2uu1v9rrtb/a67W/2uu1v9rrtb/a67W/2uu1v9rrtb/a67W/2uu1v9rrtb/a67W/2uu1v9rrtb/a67W/2uu1v9rrtb/a67W/2uu1v9rrtb/a67W/2uu1v9rrtb/a67W/2uu1v9rrtb/a67W/2uu1v9rrtb/a67W/2uu1v9rrtb/a67W/2uu1f5sr9f/a67W+m2w2ioAAAAAf3//AgAAAAAAAAAAAAAAAAAAAABmmcwFAAAAAGqu1n90vOj/a67W+muu1v9rrtb/a67W/2uu1v9rrtb/a67W/2uu1v9rrtb/a67W/2uu1v9rrtb/a67W/2uu1v9rrtb/a67W/2uu1v9rrtb/a67W/2uu1v9rrtb/a67W/2uu1v9rrtb/a67W/2uu1v9rrtb/a67W/2uu1v9rrtb/a67W/2uu1v9rrtb/a67W/2uu1v9rrtb/a67W/2uu1v9rrtb/a67W/2uu1v9rrtb/a67W/2uu1v9rrtb/a67W/2uu1v9rrtb/a67W/2uu1v9rrtb/a67W/2uu1v9rrtb/a67W/2uu1v9rrtb/a67W/2uu1v9rrtb/a67W/2uu1f5sr9f/a67W+m2w2ioAAAAAf3//AgAAAAAAAAAAAAAAAAAAAABmmcwFAAAAAGmv14BzvOj9a67W+muu1v9rrtb/a67W/2uu1v9rrtb/a67W/2uu1v9rrtb/a67W/2uu1v9rrtb/a67W/2uu1v9rrtb/a67W/2uu1v9rrtb/a67W/2uu1v9rrtb/a67W/2uu1v9rrtb/a67W/2uu1v9rrtb/a67W/2uu1v9rrtb/a67W/2uu1v9rrtb/a67W/2uu1v9rrtb/a67W/2uu1v9rrtb/a67W/2uu1v9rrtb/a67W/2uu1v9rrtb/a67W/2uu1v9rrtb/a67W/2uu1v9rrtb/a67W/2uu1v9rrtb/a67W/2uu1v9rrtb/a67W/2uu1v9rrtb/a67W/2uu1f5srtb/a67W+XCx2ysAAAAAf3//AgAAAAAAAAAAAAAAAAAAAAB/v/8EAAAAAGut1XR1ven/aq3V+muu1vxrrtb8a67W/Guu1vxrrtb8a67W/Guu1vxrrtb8a67W/Guu1vxrrtb8a67W/Guu1vxrrtb8a67W/Guu1vxrrtb8a67W/Guu1vxrrtb8a67W/Guu1vxrrtb8a67W/Guu1vxrrtb8a67W/Guu1vxrrtb8a67W/Guu1vxrrtb8a67W/Guu1vxrrtb8a67W/Guu1vxrrtb8a67W/Guu1vxrrtb8a67W/Guu1vxrrtb8a67W/Guu1vxrrtb8a67W/Guu1vxrrtb8a67W/Guu1vxrrtb8a67W/Guu1vxrrtb8a67W/Guu1vxrrtb8a67W/Gut1vtssNn/aq7V/HGz2RsAAAAAAH9/AgAAAAAAAAAAAAAAAAAAAAD///8BAAAAAGmn0x1rrtbYcbjj/3C23/9wtuD/cLbg/3C24P9wtuD/cLbg/3C24P9wtuD/cLbg/3C24P9wtuD/cLbg/3C24P9wtuD/cLbg/3C24P9wtuD/cLbg/3C24P9wtuD/cLbg/3C24P9wtuD/cLbg/3C24P9wtuD/cLbg/3C24P9wtuD/cLbg/3C24P9wtuD/cLbg/3C24P9wtuD/cLbg/3C24P9wtuD/cLbg/3C24P9wtuD/cLbg/3C24P9wtuD/cLbg/3C24P9wtuD/cLbg/3C24P9wtuD/cLbg/3C24P9wtuD/cLbg/3C24P9wtuD/cLbg/3C24P9wtuD/cLbg/3C13/9xt+H/bK7WkgAAAAAA//8BAAAAAAAAAAAAAAAAAAAAAAAAAAAAAAAAAAAAAQAAAABmstgUa6/aWmut1mRsrNVjbK/VY2yv1WNsr9VjbK/VY2yv1WNsr9VjbK/VY2yv1WNsr9VjbK/VY2yv1WNsr9VjbK/VY2yv1WNsr9VjbK/VY2yv1WNsr9VjbK/VY2yv1WNsr9VjbK/VY2yv1WNsr9VjbK/VY2yv1WNsr9VjbK/VY2yv1WNsr9VjbK/VY2yv1WNsr9VjbK/VY2yv1WNsr9VjbK/VY2yv1WNsr9VjbK/VY2yv1WNsr9VjbK/VY2yv1WNsr9VjbK/VY2yv1WNsr9VjbK/VY2yv1WNsr9VjbK/VY2yv1WNsr9VjbK/VY2yv1WNsr9VjbKzVY2yu1mVrsdpFAAAAAAAAAAAAAAAAAAAAAAAAAAAAAAAAAAAAAAAAAAAAAAAAAAAAAP///wEAAAAAAAAAAAAAAAAAAAAAAAAAAAAAAAAAAAAAAAAAAAAAAAAAAAAAAAAAAAAAAAAAAAAAAAAAAAAAAAAAAAAAAAAAAAAAAAAAAAAAAAAAAAAAAAAAAAAAAAAAAAAAAAAAAAAAAAAAAAAAAAAAAAAAAAAAAAAAAAAAAAAAAAAAAAAAAAAAAAAAAAAAAAAAAAAAAAAAAAAAAAAAAAAAAAAAAAAAAAAAAAAAAAAAAAAAAAAAAAAAAAAAAAAAAAAAAAAAAAAAAAAAAAAAAAAAAAAAAAAAAAAAAAAAAAAAAAAAAAAAAAAAAAAAAAAAAAAAAAAAAAAAAAAAAAAAAAAAAAAAAAAAAAAAAAAAAAAAAAAAAAAAAAAAAAAAAAAAAAAAAAAAAAAAAAAAAAAAAAD///8BP3+/BH+/vwR/v78Ef7+/BH+/vwR/v78Ef7+/BH+/vwR/v78Ef7+/BH+/vwR/v78Ef7+/BH+/vwR/v78Ef7+/BH+/vwR/v78Ef7+/BH+/vwR/v78Ef7+/BH+/vwR/v78Ef7+/BH+/vwR/v78Ef7+/BH+/vwR/v78Ef7+/BH+/vwR/v78Ef7+/BH+/vwR/v78Ef7+/BH+/vwR/v78Ef7+/BH+/vwR/v78Ef7+/BH+/vwR/v78Ef7+/BH+/vwR/v78Ef7+/BH+/vwR/v78Ef7+/BH+/vwR/v78Ef7+/BH+/vwR/v78Ef7+/BH+/vwR/v78Ef7+/BH+/vwRVqqoDAAAAAAAAAAAAAAAAAAAAAAAAAAAAAAAAAAAAAAAAAAAAAAAAAAAAAAAAAAAAAAAAAAAAAAAAAAAAAAAAAAAAAAAAAAAAAAAAAAAAAAAAAAAAAAAAAAAAAAAAAAAAAAAAAAAAAAAAAAAAAAAAAAAAAAAAAAAAAAAAAAAAAAAAAAAAAAAAAAAAAAAAAAAAAAAAAAAAAAAAAAAAAAAAAAAAAAAAAAAAAAAAAAAAAAAAAAAAAAAAAAAAAAAAAAAAAAAAAAAAAAAAAAAAAAAAAAAAAAAAAAAAAAAAAAAAAAAAAAAAAAAAAAAAAAAAAAAAAAAAAAAAAAAAAAAAAAAAAAAAAAAAAAAAAAAAAAAAAAAAAAAAAAAAAAAAAAAAAAAAAAAAAAAAAAAAAAAAAAAAAAAAAAAAAAAAAAAAAAAAAAAAAAAAAAAAAAAAAAAAAAAAAAAAAAAAAAAAAAAAAAAAAAAAAAAAAAAAAAAAAAAAAAAAAAAAAAAAAAAAAAAAAAAAAAAAAAAAAAAAAAAAAAAAAAAAAAAAAAAAAAAAAAAAAAAAAAAAAAAAAAAAAAAAAAAAAAAAAAAAAAAAAAAAAAAAAAAAAAAAAAAAAAAAAAAAAAAAAAAAAAAAAAAAAAAAAAAAAAAAAAAAAAAAAAAAAAAAAAAAAAAAAAAAAAAAAAAAAAAAAAAAAAAAAAAAAAAAAAAAAAAAAAAAAAAAAAAAAAAAAAAAAAAAAAAAAAAAAAAAAAAAAAAAAAAAAAAAAAAAAAAAAAAAAAAAAAAAAAAAAAAAAAAAAAAAAAAAAAAAAAAAAAAAAAAAAAAAAAAAAAAAAAAAAAAAAAAAAAAAAAAAAAAAAAAAAAAAAAAAAAAAAAAAAAAAAAAAAAAAAAAAAAAAAAAAAAAAAAAAAAAAAAAAAAAAAAAAAAAAAAAAAAAAAAAAAAAAAAAAAAAAAAAAAAAAAAAAAAAAAAAAAAAAAAAAAAAAAAAAAAAAAAAAAAAAAAAAAAAAAAAAAAAAAAAAAAAAAAAAAAAAAAAAAAAAAAAAAAAAAAAAAAAAAAAAAAAAAAAAAAAAAAAAAAAAAAAAAAAAAAAAAAAAAAAAAAAAAAAAAAAAAAAAAAAAAAAAAAAAAAAAAAAAAAAAAAAAAAAAAAAAAAAAAAAAAAAAAAAAAAAAAAAAAAAAAAAAAAAAAAAAAAAAAAAAAAAAAAAAAAAAAAAAAAAAAAAAAAAAAAAAAAAAAAAAAAAAAAAAAAAAAAAAAAAAAAAAAAAAAAAAAAAAAAAAAAAAAAAAAAAAAAAAAAAAAAAAAAAAAAAAAAAAAAAAAAAAAAAAAAAAAAAAAAAAAAAAAAAAAAAAAAAAAAAAAAAAAAAAAAAAAAAAAAAAAAAAAAAAAAAAAAAAAAAAAAAAAAAAAAAAAAAAAAAAAAAAAAAAAAAAAAAAAAAAAAAAAAAAAAAAAAAAAAAAAAAAAAAAAAAAAAAAAAAAAAAAAAAAAAAAAAAAAAAAAAAAAAAAAAAAAAAAAAAAAAAAAAAAAAAAAAAAAAAAAAAAAAAAAAAAAAAAAAAAAAAAAAAAAAAAAAAAAAAAAAAAAAAAAAAAAAAAAAAAAAAAAAAAAAAAAAAAAAAAAAAAAAAAAAAAAAAAAAAAAAAAAAAAAAAAAAAAAAAAAAAAAAAAAAAAAAAAAAAAAAAAAAAAAAAAAAAAAAAAAAAAAAAAAAAAAAAAAAAAAAAAAAAAAAAAAAAAAAAAAFWqqgNmmcwFZpnMBWaZzAVmmcwFZpnMBWaZzAVmmcwFZpnMBWaZzAVmmcwFZpnMBWaZzAVmmcwFZpnMBWaZzAVmmcwFZpnMBWaZzAVmmcwFZpnMBWaZzAVmmcwFZpnMBWaZzAVmmcwFZpnMBWaZzAVmmcwFZpnMBWaZzAVmmcwFZpnMBWaZzAVmmcwFZpnMBX9/fwIAAAAAAAAAAAAAAAAAAAAAAAAAAAAAAAAAAAAAAAAAAAAAAAAAAAAAAAAAAAAAAAAAAAAAAAAAAAAAAAAAAAAAAAAAAAAAAAAAAAAAAAAAAAAAAAAAAAAAAAAAAAAAAAAAAAAAAAAAAAAAAAAAAAAAAAAAAAAAAAAAAAAAAAAAAAAAAAAAAAAAAAAAAAAAAAAAAAAAAAAAAAAAAAAAAAAAAAAAAAAAAAAAAAAAAAAAAAAAAAAAAAAAAAAAAAAAAAAAAAAAAAAAAAAAAAAAAAAAAAAAAAAAAAAAAAAAAAAAAAAAAAAAAAAAAAAAAAAAAAAAAAAAAAAAAAAAAAAAAAAAAAAAAAAAAAAAAAAAAAAAAAAAAAAAAAAAAAAAAAAAAAAAAAAAAAAAAAAAAAAAAAAAAAAAAAAAAAAAAAAAAAAAAAAAAAAAAAAAAAAAAAAAAAAAAAAAAAAAAAAAAAAAAAAAAAAAAAAAAAAAAAAAAAAAAAAAAAAAAAAAAAAAAAAAAAAAAAAAAAAAAAAAAAAAAAAAAAAAAAAAAAAAAAAAAAAAAAAAAAAAAAAAAAAAAAAAAAAAAAAAAAAAAAAAAAAAAAABAAAAAGir1Ults9uAa67Wfmqu1n9qrtZ/aq7Wf2qu1n9qrtZ/aq7Wf2qu1n9qrtZ/aq7Wf2qu1n9qrtZ/aq7Wf2qu1n9qrtZ/aq7Wf2qu1n9qrtZ/aq7Wf2qu1n9qrtZ/aq7Wf2qu1n9qrtZ/aq7Wf2qu1n9qrtZ/aq7Wf2qu1n9qrtZ/aq7Wf2qu1n9srth/bK/Xemqs1R8AAAAAAP//AQAAAAAAAAAAAAAAAAAAAAAAAAAAAAAAAAAAAAAAAAAAAAAAAAAAAAAAAAAAAAAAAAAAAAAAAAAAAAAAAAAAAAAAAAAAAAAAAAAAAAAAAAAAAAAAAAAAAAAAAAAAAAAAAAAAAAAAAAAAAAAAAAAAAAAAAAAAAAAAAAAAAAAAAAAAAAAAAFWqqgMAAAAAaq/VQ26z3P90vOj/dLzn/3S86P90vOj/dLzo/3S86P90vOj/dLzo/3S86P90vOj/dLzo/3S86P90vOj/dLzo/3S86P90vOj/dLzo/3S86P90vOj/dLzo/3S86P90vOj/dLzo/3S86P90vOj/dLzo/3S86P90vOj/dLzo/3S86P90vOj/dLzo/3S85/9zu+b/dsDt/2ut1s9tttoHAP//AQAAAAAAAAAAAAAAAAAAAAAAAAAAAAAAAAAAAAAAAAAAAAAAAAAAAAAAAAAAAAAAAAAAAAAAAAAAAAAAAAAAAAAAAAAAAAAAAAAAAAAAAAAAAAAAAAAAAAAAAAAAAAAAAAAAAAAAAAAAAAAAAAAAAAAAAAAAAAAAAAAAAAAAAAAAAAAAAH+//wQAAAAAaq7VdXK55P9qrtb2a67W+muu1vprrtb6a67W+muu1vprrtb6a67W+muu1vprrtb6a67W+muu1vprrtb6a67W+muu1vprrtb6a67W+muu1vprrtb6a67W+muu1vprrtb6a67W+muu1vprrtb6a67W+muu1vprrtb6a67W+muu1vprrtb6a67W+muu1vprrtb5a6/X+2uu1vptrdEcAAAAAP///wEAAAAAAAAAAAAAAAAAAAAAAAAAAAAAAAAAAAAAAAAAAAAAAAAAAAAAAAAAAAAAAAAAAAAAAAAAAAAAAAAAAAAAAAAAAAAAAAAAAAAAAAAAAAAAAAAAAAAAAAAAAAAAAAAAAAAAAAAAAAAAAAAAAAAAAAAAAAAAAAAAAAAAAAAAAH+//wQAAAAAbK3UcXK54/5qrdb7a67W/2uu1v9rrtb/a67W/2uu1v9rrtb/a67W/2uu1v9rrtb/a67W/2uu1v9rrtb/a67W/2uu1v9rrtb/a67W/2uu1v9rrtb/a67W/2uu1v9rrtb/a67W/2uu1v9rrtb/a67W/2uu1v9rrtb/a67W/2uu1v9rrtb/a67W/2uu1v9rrdX+bLDY/2qt1fVtrdocAAAAAP///wEAAAAAAAAAAAAAAAAAAAAAAAAAAAAAAAAAAAAAAAAAAAAAAAAAAAAAAAAAAAAAAAAAAAAAAAAAAAAAAAAAAAAAAAAAAAAAAAAAAAAAAAAAAAAAAAAAAAAAAAAAAAAAAAAAAAAAAAAAAAAAAAAAAAAAAAAAAAAAAAAAAAAAAAAAAH+//wQAAAAAa67UcnK55P9qrdb7a67W/2uu1v9rrtb/a67W/2uu1v9rrtb/a67W/2uu1v9rrtb/a67W/2uu1v9rrtb/a67W/2uu1v9rrtb/a67W/2uu1v9rrtb/a67W/2uu1v9rrtb/a67W/2uu1v9rrtb/a67W/2uu1v9rrtb/a67W/2uu1v9rrtb/a67W/2uu1v9rrdX+bLDY/2qu1fZtrdocAAAAAP///wEAAAAAAAAAAAAAAAAAAAAAAAAAAAAAAAAAAAAAAAAAAAAAAAAAAAAAAAAAAAAAAAAAAAAAAAAAAAAAAAAAAAAAAAAAAAAAAAAAAAAAAAAAAAAAAAAAAAAAAAAAAAAAAAAAAAAAAAAAAAAAAAAAAAAAAAAAAAAAAAAAAAAAAAAAAH+//wQAAAAAa67UcnK55P9qrdb7a67W/2uu1v9rrtb/a67W/2uu1v9rrtb/a67W/2uu1v9rrtb/a67W/2uu1v9rrtb/a67W/2uu1v9rrtb/a67W/2uu1v9rrtb/a67W/2uu1v9rrtb/a67W/2uu1v9rrtb/a67W/2uu1v9rrtb/a67W/2uu1v9rrtb/a67W/2uu1v9rrdX+bLDY/2qu1fZtrdocAAAAAP///wEAAAAAAAAAAAAAAAAAAAAAAAAAAAAAAAAAAAAAAAAAAAAAAAAAAAAAAAAAAAAAAAAAAAAAAAAAAAAAAAAAAAAAAAAAAAAAAAAAAAAAAAAAAAAAAAAAAAAAAAAAAAAAAAAAAAAAAAAAAAAAAAAAAAAAAAAAAAAAAAAAAAAAAAAAAH+//wQAAAAAbLDUcXK55P9qrdb7a67W/2uu1v9rrtb/a67W/2uu1v9rrtb/a67W/2uu1v9rrtb/a67W/2uu1v9rrtb/a67W/2uu1v9rrtb/a67W/2uu1v9rrtb/a67W/2uu1v9rrtb/a67W/2uu1v9rrtb/a67W/2uu1v9rrtb/a67W/2uu1v9rrtb/a67W/2uu1v9rrdX+bLDY/2uu1vVtrdocAAAAAP///wEAAAAAAAAAAAAAAAAAAAAAAAAAAAAAAAAAAAAAAAAAAAAAAAAAAAAAAAAAAAAAAAAAAAAAAAAAAAAAAAAAAAAAAAAAAAAAAAAAAAAAAAAAAAAAAAAAAAAAAAAAAAAAAAAAAAAAAAAAAAAAAAAAAAAAAAAAAAAAAAAAAAAAAAAAAH+//wQAAAAAa6/VdHK65Pxqrtb5aq7V/Wqu1f1qrtX9aq7V/Wqu1f1qrtX9aq7V/Wqu1f1qrtX9aq7V/Wqu1f1qrtX9aq7V/Wqu1f1qrtX9aq7V/Wqu1f1qrtX9aq7V/Wqu1f1qrtX9aq7V/Wqu1f1qrtX9aq7V/Wqu1f1qrtX9aq7V/Wqu1f1qrtX9aq7V/Wqu1f1rrtb8a6/X/Wqu1fZpr9sdAAAAAP///wEAAAAAAAAAAAAAAAAAAAAAAAAAAAAAAAAAAAAAAAAAAAAAAAAAAAAAAAAAAAAAAAAAAAAAAAAAAAAAAAAAAAAAAAAAAAAAAAAAAAAAAAAAAAAAAAAAAAAAAAAAAAAAAAAAAAAAAAAAAAAAAAAAAAAAAAAAAAAAAAAAAAAAAAAAAKr//wMAAAAAa63UYXW+6v9ustv/brPd/2603f9utN3/brTd/2603f9utN3/brTd/2603f9utN3/brTd/2603f9utN3/brTd/2603f9utN3/brTd/2603f9utN3/brTd/2603f9utN3/brTd/2603f9utN3/brTd/2603f9utN3/brTd/2603f9utN3/brTd/2603f9ustv/crnj/2uu1vNvr98QAAAAAAD//wEAAAAAAAAAAAAAAAAAAAAAAAAAAAAAAAAAAAAAAAAAAAAAAAAAAAAAAAAAAAAAAAAAAAAAAAAAAAAAAAAAAAAAAAAAAAAAAAAAAAAAAAAAAAAAAAAAAAAAAAAAAAAAAAAAAAAAAAAAAAAAAAAAAAAAAAAAAAAAAAAAAAAAAAAAAAAA/wEAAP8BdbDXDWqu1Ztrr9nXbK7W1Gut1tVrrdbVa63W1Wut1tVrrdbVa63W1Wut1tVrrdbVa63W1Wut1tVrrdbVa63W1Wut1tVrrdbVa63W1Wut1tVrrdbVa63W1Wut1tVrrdbVa63W1Wut1tVrrdbVa63W1Wut1tVrrdbVa63W1Wut1tVrrdbVa63W1Wut1dVrrdbVb7XezGqs1V0AAAAA////AQAAAAAAAAAAAAAAAAAAAAAAAAAAAAAAAAAAAAAAAAAAAAAAAAAAAAAAAAAAAAAAAAAAAAAAAAAAAAAAAAAAAAAAAAAAAAAAAAAAAAAAAAAAAAAAAAAAAAAAAAAAAAAAAAAAAAAAAAAAAAAAAAAAAAAAAAAAAAAAAAAAAAAAAAAAAAAAAAAAAAAAAAAAAAAAAAAAAABVqtQGZpnMBWbMzAVmzMwFZszMBWbMzAVmzMwFZszMBWbMzAVmzMwFZszMBWbMzAVmzMwFZszMBWbMzAVmzMwFZszMBWbMzAVmzMwFZszMBWbMzAVmzMwFZszMBWbMzAVmzMwFZszMBWbMzAVmzMwFZszMBWbMzAVmzMwFZszMBWaZzAVVqtQGf39/AgAAAAAAAAAAAAAAAAAAAAAAAAAAAAAAAAAAAAAAAAAAAAAAAAAAAAAAAAAAAAAAAAAAAAAAAAAAAAAAAAAAAAAAAAAAAAAAAAAAAAAAAAAAAAAAAAAAAAAAAAAAAAAAAAAAAAAAAAAAAAAAAAAAAAAAAAAAAAAAAAAAAAAAAAAAAAAAAAAAAAAAAAAAAAAAAAAAAAAAAAAAAAD/AX9/fwIAAAAAAAAAAAAAAAAAAAAAAAAAAAAAAAAAAAAAAAAAAAAAAAAAAAAAAAAAAAAAAAAAAAAAAAAAAAAAAAAAAAAAAAAAAAAAAAAAAAAAAAAAAAAAAAAAAAAAAAAAAAAAAAAAAAAAAAAAAAAAAAAAAAAAAAAAAAAAAAAAAAAAAAAAAAAAAAAAAAAAAAAAAH///wIAAAAAAAAAAAAAAAAAAAAAAAAAAAAAAAAAAAAAAAAAAAAAAAAAAAAAAAAAAAAAAAAAAAAAAAAAAAAAAAAAAAAAAAAAAAAAAAAAAAAAAAAAAAAAAAAAAAAAAAAAAAAAAAAAAAAAAAAAAAAAAAAAAAAAAAAAAAAAAAAAAAAAAAAAAAAAAAAAAAAAAAAAAAAAAAAAAAAAAAAAAAAAAAAAAP8BAAD/AQAA/wEAAP8BAAD/AQAA/wEAAP8BAAD/AQAA/wEAAP8BAAD/AQAA/wEAAP8BAAD/AQAA/wEAAP8BAAD/AQAA/wEAAP8BAAD/AQAA/wEAAP8BAAD/AQAA/wEAAP8BAAD/AQAA/wEAAP8BAAD/AQAA/wEAAP8BAAD/AQAA/wEAAP8BAAD/AQAAAAAAAAAAAAAAAAAAAAAAAAAAAAAAAAAAAAAAAAAAAAAAAAAAAAAAAAAAAAAAAAAAAAAAAAAAAAAAAAAAAAAAAAAAAAAAAAAAAAAAAAAAAAAAAAAAAAAAAAAAAAAAAAAAAAAAAAAAAAAAAAAAAAAAAAAAAAAAAAAAAAAAAAAAAAAAAAAAAAAAAAAAAAAAAAAAAAAAAAAAAAAAAAAAAAAAAAAAAAAAAAAAAAAAAAAAAAAAAAAAAAAAAAAAAAAAAAAAAAAAAAAAAAAAAAAAAAAAAAAAAAAAAAAAAAAAAAAAAAAAAAAAAAAAAAAAAAAAAAAAAAAAAAAAAAAAAAAAAAAAAAAAAAAAAAAAAAAAAAAAAAAAAAAAAAAAAAAAAAAAAAAAAAAAAAAAAAAAAAAAAAAAAAAAAAAAAAAAAAAAAAAAAAAAAAAAAAAAAAAAAAAAAAAAAAAAAAAAAAAAAAAAAAAAAAAAAAAAAAAAAAAAAAAAAAAAAAAAAAAAAAAAAAAAAAAAAAAAAAAAAAAAAAAAAAAAAAAAAAAAAAAAAAAAAAAAAAAAAAAAAAAAAAAAAAAAAAAAAAAAAAAAAAAAAAAAAAAAAAAAAAAAAAAAAAAAAAAAAAAAAAAAAAAAAAAAAAAAAAAAAAAAAAAAAAAAAAAAAAAAAAAAAAAAAAAAAAAAAAAAAAAAAAAAAAAAAAAAAAAAAAAAAAAAAAAAAAAAAAAAAAAAAAAAAAAAAAAAAAAAAAAAAAAAAAAAAAAAAAAAAAAAAAAAAAAAAAAAAAAAAAAAAAAAAAAAAAAAAAAAAAAAAAAAAAAAAAAAAAAAAAAAAAAAAAAAAAAAAAAAAAAAAAAAAAAAAAAAAAAAAAAAAAAAAAAAAAAAAAAAAAAAAAAAAAAAAAAAAAAAAAAAAAAAAAAAAAAAAAAAAAAAAAAAAAAAAAAAAAAAAAAAAAAAAAAAAAAAAAAAAAAAAAAAAAAAAAAAAAAAAAAAAAAAAAAAAAAAAAAAAAAAAAAAAAAAAAAAAAAAAAAAAAAAAAAAAAAAAAAAAAAAAAAAAAAAAAAAAAAAAAAAAAAAAAAAAAAAAAAAAAAAAAAAAAAAAAAAAAAAAAAAAAAAAAAAAAAAAAAAAAAAAAAAAAAAAAAAAAAAAAAAAAAAAAAAAAAAAAAAAAAAAAAAAAAAAAAAAAAAAAAAAAAAAAAAAAAAAAAAAAAAAAAAAAAAAAAAAAAAAAAAAAAAAAAAAAAAAAAAAAAAAAAAAAAAAAAAAAAAAAAAAAAAAAAAAAAAAAAAAAAAAAAAAAAAAAAAAAAAAAAAAAAAAAAAAAAAAAAAAAAAAAAAAAAAAAAAAAAAAAAAAAAAAAAAAAAAAAAAAAAAAAAAAAAAAAAAAAAAAAAAAAAAAAAAAAAAAAAAAAAAAAAAAAAAAAAAAAAAAAAAAAAAAAAAAAAAAAAAAAAAAAAAAAAAAAAAAAAAAAAAAAAAAAAAAAAAAAAAAAAAAAAAAAAAAAAAAAAAAAAAAAAAAAAAAAAAAAAAAAAAAAAAAAAAAAAAAAAAAAAAAAAAAAAAAAAAAAAAAAAAAAAAAAAAAAAAAAAAAAAAAAAAAAAAAAAAAAAAAAAAAAAAAAAAAAAAAAAAAAAAAAAAAAAAAAAAAAAAAAAAAAAAAAAAAAAAAAAAAAAAAAAAAAAAAAAAAAAAAAAAAAAAAAAAAAAAAAAAAAAAAAAAAAAAAAAAAAAAAAAAAAAAAAB/f/8CZpnMBWaZzAVmmcwFZpnMBWaZzAVmmcwFZpnMBWaZzAVmmcwFZpnMBWaZzAVmmcwFZpnMBWaZzAVmmcwFZpnMBWaZzAVmmcwFZpnMBWaZzAVmmcwFZpnMBWaZzAVmmcwFZpnMBWaZzAVmmcwFZpnMBWaZzAVmmcwFZpnMBWaZzAVmmcwFZpnMBWaZzAVmmcwFZpnMBWaZzAVmmcwFZpnMBWaZzAVmmcwFZpnMBWaZzAVmmcwFZpnMBWaZzAVmmcwFZpnMBWaZzAVmmcwFZpnMBWaZzAVmmcwFZpnMBWaZzAVmmcwFZpnMBWaZzAVmmcwFZpnMBWaZzAV/v78EAAD/AQAAAAAAAAAAAAAAAAAAAAAAAAAAAAAAAAAAAAAAAAAAAAAAAAD//wEAAAAAAAAAAAAAAAAAAAAAAAAAAAAAAAAAAAAAAAAAAAAAAAAAAAAAAAAAAAAAAAAAAAAAAAAAAAAAAAAAAAAAAAAAAAAAAAAAAAAAAAAAAAAAAAAAAAAAAAAAAAAAAAAAAAAAAAAAAAAAAAAAAAAAAAAAAAAAAAAAAAAAAAAAAAAAAAAAAAAAAAAAAAAAAAAAAAAAAAAAAAAAAAAAAAAAAAAAAAAAAAAAAAAAAAAAAAAAAAAAAAAAAAAAAAAAAAAAAAAAAAAAAAAAAAAAAAAAAAAAAAAAAAAAAAAAAAAAAAAAAAAAAAAAAAAAAAAAAAAAAAAAAAAAAAAAAAAAAAAAAAAAAAAAAAAAAAAAAAAAAAAAAAAAAAAAAAAAAAAAAAAAAAAAAP//AQAAAABsrNIoa67WeWyu1n9qrtZ/aq7Wf2qu1n9qrtZ/aq7Wf2qu1n9qrtZ/aq7Wf2qu1n9qrtZ/aq7Wf2qu1n9qrtZ/aq7Wf2qu1n9qrtZ/aq7Wf2qu1n9qrtZ/aq7Wf2qu1n9qrtZ/aq7Wf2qu1n9qrtZ/aq7Wf2qu1n9qrtZ/aq7Wf2qu1n9qrtZ/aq7Wf2qu1n9qrtZ/aq7Wf2qu1n9qrtZ/aq7Wf2qu1n9qrtZ/aq7Wf2qu1n9qrtZ/aq7Wf2qu1n9qrtZ/aq7Wf2qu1n9qrtZ/aq7Wf2qu1n9qrtZ/aq7Wf2qu1n9qrtZ/aq7Wf2qu1n9qrtZ/aq7Wf26y2n9tsNpibbbaBwAAAAAA//8BAAAAAAAAAAAAAAAAAAAAAAAAAAB/f/8CAAAAAGmu2SlssNfqdL3o/3O85/90vOf/dLzo/3S86P90vOj/dLzo/3S86P90vOj/dLzo/3S86P90vOj/dLzo/3S86P90vOj/dLzo/3S86P90vOj/dLzo/3S86P90vOj/dLzo/3S86P90vOj/dLzo/3S86P90vOj/dLzo/3S86P90vOj/dLzo/3S86P90vOj/dLzo/3S86P90vOj/dLzo/3S86P90vOj/dLzo/3S86P90vOj/dLzo/3S86P90vOj/dLzo/3S86P90vOj/dLzo/3S86P90vOj/dLzo/3S86P90vOj/dLzo/3S86P90vOj/dLzo/3S86P90vOj/dLzn/3O75v91vun/aqzVqn9//wIA//8BAAAAAAAAAAAAAAAAAAAAAAAAAABmmcwFAAAAAGqt1Xp0vej/a67W9muu1vprrtb6a67W+muu1vprrtb6a67W+muu1vprrtb6a67W+muu1vprrtb6a67W+muu1vprrtb6a67W+muu1vprrtb6a67W+muu1vprrtb6a67W+muu1vprrtb6a67W+muu1vprrtb6a67W+muu1vprrtb6a67W+muu1vprrtb6a67W+muu1vprrtb6a67W+muu1vprrtb6a67W+muu1vprrtb6a67W+muu1vprrtb6a67W+muu1vprrtb6a67W+muu1vprrtb6a67W+muu1vprrtb6a67W+muu1vprrtb6a67W+muu1vprrtb6a67W+muu1vlssNj8a67V/Wev1yAAAAAAf3//AgAAAAAAAAAAAAAAAAAAAABmmcwFAAAAAGmt14B0u+f+a67W+muu1v9rrtb/a67W/2uu1v9rrtb/a67W/2uu1v9rrtb/a67W/2uu1v9rrtb/a67W/2uu1v9rrtb/a67W/2uu1v9rrtb/a67W/2uu1v9rrtb/a67W/2uu1v9rrtb/a67W/2uu1v9rrtb/a67W/2uu1v9rrtb/a67W/2uu1v9rrtb/a67W/2uu1v9rrtb/a67W/2uu1v9rrtb/a67W/2uu1v9rrtb/a67W/2uu1v9rrtb/a67W/2uu1v9rrtb/a67W/2uu1v9rrtb/a67W/2uu1v9rrtb/a67W/2uu1v9rrtb/a67W/2uu1v9rrtb/a67W/2uu1f5sr9f/a67W+Wqx2ysAAAAAf3//AgAAAAAAAAAAAAAAAAAAAABmmcwFAAAAAGqu1n90vOj/a67W+muu1v9rrtb/a67W/2uu1v9rrtb/a67W/2uu1v9rrtb/a67W/2uu1v9rrtb/a67W/2uu1v9rrtb/a67W/2uu1v9rrtb/a67W/2uu1v9rrtb/a67W/2uu1v9rrtb/a67W/2uu1v9rrtb/a67W/2uu1v9rrtb/a67W/2uu1v9rrtb/a67W/2uu1v9rrtb/a67W/2uu1v9rrtb/a67W/2uu1v9rrtb/a67W/2uu1v9rrtb/a67W/2uu1v9rrtb/a67W/2uu1v9rrtb/a67W/2uu1v9rrtb/a67W/2uu1v9rrtb/a67W/2uu1v9rrtb/a67W/2uu1f5sr9f/a67W+m2w2ioAAAAAf3//AgAAAAAAAAAAAAAAAAAAAABmmcwFAAAAAGqu1n90vOj/a67W+muu1v9rrtb/a67W/2uu1v9rrtb/a67W/2uu1v9rrtb/a67W/2uu1v9rrtb/a67W/2uu1v9rrtb/a67W/2uu1v9rrtb/a67W/2uu1v9rrtb/a67W/2uu1v9rrtb/a67W/2uu1v9rrtb/a67W/2uu1v9rrtb/a67W/2uu1v9rrtb/a67W/2uu1v9rrtb/a67W/2uu1v9rrtb/a67W/2uu1v9rrtb/a67W/2uu1v9rrtb/a67W/2uu1v9rrtb/a67W/2uu1v9rrtb/a67W/2uu1v9rrtb/a67W/2uu1v9rrtb/a67W/2uu1v9rrtb/a67W/2uu1f5sr9f/a67W+m2w2ioAAAAAf3//AgAAAAAAAAAAAAAAAAAAAABmmcwFAAAAAGuw2H50vOj/a67W+muu1v9rrtb/a67W/2uu1v9rrtb/a67W/2uu1v9rrtb/a67W/2uu1v9rrtb/a67W/2uu1v9rrtb/a67W/2uu1v9rrtb/a67W/2uu1v9rrtb/a67W/2uu1v9rrtb/a67W/2uu1v9rrtb/a67W/2uu1v9rrtb/a67W/2uu1v9rrtb/a67W/2uu1v9rrtb/a67W/2uu1v9rrtb/a67W/2uu1v9rrtb/a67W/2uu1v9rrtb/a67W/2uu1v9rrtb/a67W/2uu1v9rrtb/a67W/2uu1v9rrtb/a67W/2uu1v9rrtb/a67W/2uu1v9rrtb/a67W/2uu1f5sr9f/a67W+W2w2ioAAAAAf3//AgAAAAAAAAAAAAAAAAAAAABmmcwFAAAAAGqt1YFzvOf9aq3V+Gqu1v1qrtX9aq7V/Wqu1f1qrtX9aq7V/Wqu1f1qrtX9aq7V/Wqu1f1qrtX9aq7V/Wqu1f1qrtX9aq7V/Wqu1f1qrtX9aq7V/Wqu1f1qrtX9aq7V/Wqu1f1qrtX9aq7V/Wqu1f1qrtX9aq7V/Wqu1f1qrtX9aq7V/Wqu1f1qrtX9aq7V/Wqu1f1qrtX9aq7V/Wqu1f1qrtX9aq7V/Wqu1f1qrtX9aq7V/Wqu1f1qrtX9aq7V/Wqu1f1qrtX9aq7V/Wqu1f1qrtX9aq7V/Wqu1f1qrtX9aq7V/Wqu1f1qrtX9aq7V/Wqu1f1qrtX9aq7V/Wuu1vxsr9b8a67V/Gys2CgAAAAAf3//AgAAAAAAAAAAAAAAAAAAAABVqqoDAAAAAG2s101yueT/b7Xe/26z3P9utN3/brTd/2603f9utN3/brTd/2603f9utN3/brTd/2603f9utN3/brTd/2603f9utN3/brTd/2603f9utN3/brTd/2603f9utN3/brTd/2603f9utN3/brTd/2603f9utN3/brTd/2603f9utN3/brTd/2603f9utN3/brTd/2603f9utN3/brTd/2603f9utN3/brTd/2603f9utN3/brTd/2603f9utN3/brTd/2603f9utN3/brTd/2603f9utN3/brTd/2603f9utN3/brTd/2603f9utN3/brTd/2603f9utN3/brTd/26y2/90vOf/a67W3mayzAoAAAAAAAAAAQAAAAAAAAAAAAAAAAAAAAAAAAAAAAAAAQAAAABqrdRxbrLczGut1tVrrdXVa63W1Wut1tVrrdbVa63W1Wut1tVrrdbVa63W1Wut1tVrrdbVa63W1Wut1tVrrdbVa63W1Wut1tVrrdbVa63W1Wut1tVrrdbVa63W1Wut1tVrrdbVa63W1Wut1tVrrdbVa63W1Wut1tVrrdbVa63W1Wut1tVrrdbVa63W1Wut1tVrrdbVa63W1Wut1tVrrdbVa63W1Wut1tVrrdbVa63W1Wut1tVrrdbVa63W1Wut1tVrrdbVa63W1Wut1tVrrdbVa63W1Wut1tVrrdbVa63W1Wut1tVrrdbVa63W1Wut1tVrrdbVa63V1Wut1tZus923bq3YNQAAAAAA//8BAAAAAAAAAAAAAAAAAAAAAAAAAAAAAAAAAAAAAAAAAAAAAAAAf39/AlWq1AZmmcwFZszMBWbMzAVmzMwFZszMBWbMzAVmzMwFZszMBWbMzAVmzMwFZszMBWbMzAVmzMwFZszMBWbMzAVmzMwFZszMBWbMzAVmzMwFZszMBWbMzAVmzMwFZszMBWbMzAVmzMwFZszMBWbMzAVmzMwFZszMBWbMzAVmzMwFZszMBWbMzAVmzMwFZszMBWbMzAVmzMwFZszMBWbMzAVmzMwFZszMBWbMzAVmzMwFZszMBWbMzAVmzMwFZszMBWbMzAVmzMwFZszMBWbMzAVmzMwFZszMBWbMzAVmzMwFZszMBWbMzAVmzMwFZpnMBX+q1AYAAAAAAAAAAAAAAAAAAAAAAAAAAAAAAAAAAAAAAAAAAAAAAAAAAAAAAAAAAAAAAABVqqoDAAAAAAAAAAAAAAAAAAAAAAAAAAAAAAAAAAAAAAAAAAAAAAAAAAAAAAAAAAAAAAAAAAAAAAAAAAAAAAAAAAAAAAAAAAAAAAAAAAAAAAAAAAAAAAAAAAAAAAAAAAAAAAAAAAAAAAAAAAAAAAAAAAAAAAAAAAAAAAAAAAAAAAAAAAAAAAAAAAAAAAAAAAAAAAAAAAAAAAAAAAAAAAAAAAAAAAAAAAAAAAAAAAAAAAAAAAAAAAAAAAAAAAAAAAAAAAAAAAAAAAAAAAAAAAAAAAAAAAAAAAAAAAAAAAAAAAAAAAAAAAAAAAAAAAAAAAAAAAAAAAAAAAAAAAAA//8Bf///AgAAAAAAAAAAAAAAAAAAAAAAAAAAAAAAAAAAAAAAAAAAAAAAAAAAAAAAAAAAAAD/AQAA/wEAAP8BAAD/AQAA/wEAAP8BAAD/AQAA/wEAAP8BAAD/AQAA/wEAAP8BAAD/AQAA/wEAAP8BAAD/AQAA/wEAAP8BAAD/AQAA/wEAAP8BAAD/AQAA/wEAAP8BAAD/AQAA/wEAAP8BAAD/AQAA/wEAAP8BAAD/AQAA/wEAAP8BAAD/AQAA/wEAAP8BAAD/AQAA/wEAAP8BAAD/AQAA/wEAAP8BAAD/AQAA/wEAAP8BAAD/AQAA/wEAAP8BAAD/AQAA/wEAAP8BAAD/AQAA/wEAAP8BAAD/AQAA/wEAAP8BAAD/AQAA/wEAAP8BAAD/AQAA/wEAAAAAAAAAAAAAAAAAAAAAAAAAAAAAAAAAAAAAAAAAAAAAAAAAAAAAAAAAAAAAAAAAAAAAAAAAAAAAAAAAAAAAAAAAAAAAAAAAAAAAAAAAAAAAAAAAAAAAAAAAAAAAAAAAAAAAAAAAAAAAAAAAAAAAAAAAAAAAAAAAAAAAAAAAAAAAAAAAAAAAAAAAAAAAAAAAAAAAAAAAAAAAAAAAAAAAAAAAAAAAAAAAAAAAAAAAAAAAAAAAAAAAAAAAAAAAAAAAAAAAAAAAAAAAAAAAAAAAAAAAAAAAAAAAAAAAAAAAAAAAAAAAAAAAAAAAAAAAAAAAAAAAAAAAAAAAAAAAAAAAAAAAAAAAAAAAAAAAAAAAAAAAAAAAAAAAAAAAAAAAAAAAAAAAAAAAAAAAAAAAAAAAAAAAAAAAAAAAAAAAAAAAAAAAAAAAAAAAAAAAAAAAAAAAAAAAAAAAAAAAAAAAAAAAAAAAAAAAAAAAAAAAAAAAAAAAAAAAAAAAAAAAAAAAAAAAAAAAAAAAAAAAAAAAAAAAAAAAAAAAAAAAAAAAAAAAAAAAAAAAAAAAAAAAAAAAAAAAAAAAAAAAAAAAAAAAAAAAAAAAAAAAAAAAAAAAAAAAAAAAAAAAAAAAAAAAAAAAAAAAAAAAAAAAAAAAAAAAAAAAAAAAAAAAAAAAAAAAAAAAAAAAAAAAAAAAAAAAAAAAAAAAAAAAAAAAAAAAAAAAAAAAAAAAAAAAAAAAAAAAAAAAAAAAAAAAAAAAAAAAAAAAAAAAAAAAAAAAAAAAAAAAAAAAAAAAAAAAAAAAAAAAAAAAAAAAAAAAAAAAAAAAAAAAAAAAAAAAAAAAAAAAAAAAAAAAAAAAAAAAAAAAAAAAAAAAAAAAAAAAAAAAAAAAAAAAAAAAAAAAAAAAAAAAAAAAAAAAAAAAAAAAAAAAAAAAAAAAAAAAAAAAAAAAAAAAAAAAAAAAAAAAAAAAAAAAAAAAAAAAAAAAAAAAAAAAAAAAAAAAAAAAAAAAAAAAAAAAAAAAAAAAAAAAAAAAAAAAAAAAAAAAAAAAAAAAAAAAAAAAAAAAAAAAAAAAAAAAAAAAAAAAAAAAAAAAAAAAAAAAAAAAAAAAAAAAAAAAAAAAAAAAAAAAAAAAAAAAAAAAAAAAAAAAAAAAAAAAAAAAAAAAAAAAAAAAAAAAAAAAAAAAAAAAAAAAAAAAAAAAAAAAAAAAAAAAAAAAAAAAAAAAAAAAAAAAAAAAAAAAAAAAAAAAAAAAAAAAAAAAAAAAAAAAAAAAAAAAAAAAAAAAAAAAAAAAAAAAAAAAAAAAAAAAAAAAAAAAAAAAAAAAAAAAAAAAAAAAAAAAAAAA//8BAP//AQD//wEA//8BAP//AQD//wEA//8BAP//AQD//wEA//8BAP//AQD//wEA//8BAP//AQD//wEA//8BAP//AQD//wEA//8BAP//AQD//wEA//8BAP//AQD//wEA//8BAP//AQD//wEA//8BAP//AQD//wEA//8BAP//AQD//wEA//8BAP//AQAAAAAAAAAAAAAAAAAAAAAAAAAAAAAAAAAAAAAAAAAAAAAAAAAAAAAAAAAAAAAAAAAAAAAAAAAAAAAAAAAAAAAAAAAAAAAAAAAAAAAAAAAAAAAAAAAAAAAAAAAAAAAAAAAAAAAAAAAAAAAAAAAAAAAAAAAAAAAAAAAAAAAAAAAAAAAAAAAAAAAAAAAAAAAAAAAAAAAAAAAAAP//AQAAAAAAAAAAAAAAAAAAAAAAAAAAAAAAAAAAAAAAAAAAAAAAAAAAAAAAAAAAAAAAAAAAAAAAAAAAAAAAAAAAAAAAAAAAAAAAAAAAAAAAAAAAAAAAAAAAAAAAAAAAAAAAAAAAAAAAAAAAAAAAAAAAAAAAAAAAAAAAAAAAAAAAAAAAAAAAAAAAAAAAAAAAAAAAAH9/fwIAAAAAAAAAAAAAAAAAAAAAAAAAAAAAAAAAAAAAAAAAAAAAAAAAAAAAAAAAAAAAAAAAAAAAAAAAAAAAAAAAAAAAAAAAAAAAAAAAAAAAAAAAAAAAAAAAAAAAAAAAAAAAAAAAAAAAAAAAAAAAAAAAAAAAAAAAAAAAAAAAAAAAAAAAAAAAAAAAAAAAAAAAAAAAAAAAAAAAAAAAAAAAAABtttoOdbDXDW2jyA5to8gObaPIDm2jyA5to8gObaPIDm2jyA5to8gObaPIDm2jyA5to8gObaPIDm2jyA5to8gObaPIDm2jyA5to8gObaPIDm2jyA5to8gObaPIDm2jyA5to8gObaPIDm2jyA5to8gObaPIDm2jyA5to8gObaPIDm2jyA5tttoOapS/DAAAAAAAAAAAAAAAAAAAAAAAAAAAAAAAAAAAAAAAAAAAAAAAAAAAAAAAAAAAAAAAAAAAAAAAAAAAAAAAAAAAAAAAAAAAAAAAAAAAAAAAAAAAAAAAAAAAAAAAAAAAAAAAAAAAAAAAAAAAAAAAAAAAAAAAAAAAAAAAAAAAAAAAAAAAAAAAAAAAAAAAAAAAAAAAAP///wEAAAABaK3QFmut1blssNnxa67W8Gqu1vFqrtbxaq7W8Wqu1vFqrtbxaq7W8Wqu1vFqrtbxaq7W8Wqu1vFqrtbxaq7W8Wqu1vFqrtbxaq7W8Wqu1vFqrtbxaq7W8Wqu1vFqrtbxaq7W8Wqu1vFqrtbxaq7W8Wqu1vFqrtbxaq7W8Wqu1vFqrtbxaq7W8Wqt1fFrrtbwbbLa7Gut1ncAAAAAAP//AQAAAAAAAAAAAAAAAAAAAAAAAAAAAAAAAAAAAAAAAAAAAAAAAAAAAAAAAAAAAAAAAAAAAAAAAAAAAAAAAAAAAAAAAAAAAAAAAAAAAAAAAAAAAAAAAAAAAAAAAAAAAAAAAAAAAAAAAAAAAAAAAAAAAAAAAAAAAAAAAAAAAAAAAAAAAAAAAH+//wQAAAAAa67VaHW/6v9rr9f/bbHZ/22x2f9tsdn/bbHZ/22x2f9tsdn/bbHZ/22x2f9tsdn/bbHZ/22x2f9tsdn/bbHZ/22x2f9tsdn/bbHZ/22x2f9tsdn/bbHZ/22x2f9tsdn/bbHZ/22x2f9tsdn/bbHZ/22x2f9tsdn/bbHZ/22x2f9tsdn/bbHZ/22x2f9sr9j/b7Xe/2qt1vhrrtYTAAAAAAD//wEAAAAAAAAAAAAAAAAAAAAAAAAAAAAAAAAAAAAAAAAAAAAAAAAAAAAAAAAAAAAAAAAAAAAAAAAAAAAAAAAAAAAAAAAAAAAAAAAAAAAAAAAAAAAAAAAAAAAAAAAAAAAAAAAAAAAAAAAAAAAAAAAAAAAAAAAAAAAAAAAAAAAAAAAAAH+//wQAAAAAbK/Uc3K65Pxrrdb6a63V/mut1f5rrdX+a63V/mut1f5rrdX+a63V/mut1f5rrdX+a63V/mut1f5rrdX+a63V/mut1f5rrdX+a63V/mut1f5rrdX+a63V/mut1f5rrdX+a63V/mut1f5rrdX+a63V/mut1f5rrdX+a63V/mut1f5rrdX+a63V/mut1f5rrdX9a6/X/mut1fVpr9sdAAAAAP///wEAAAAAAAAAAAAAAAAAAAAAAAAAAAAAAAAAAAAAAAAAAAAAAAAAAAAAAAAAAAAAAAAAAAAAAAAAAAAAAAAAAAAAAAAAAAAAAAAAAAAAAAAAAAAAAAAAAAAAAAAAAAAAAAAAAAAAAAAAAAAAAAAAAAAAAAAAAAAAAAAAAAAAAAAAAH+//wQAAAAAa67UcnK55P9qrdb7a67W/2uu1v9rrtb/a67W/2uu1v9rrtb/a67W/2uu1v9rrtb/a67W/2uu1v9rrtb/a67W/2uu1v9rrtb/a67W/2uu1v9rrtb/a67W/2uu1v9rrtb/a67W/2uu1v9rrtb/a67W/2uu1v9rrtb/a67W/2uu1v9rrtb/a67W/2uu1v9rrdX+bLDY/2qu1fZtrdocAAAAAP///wEAAAAAAAAAAAAAAAAAAAAAAAAAAAAAAAAAAAAAAAAAAAAAAAAAAAAAAAAAAAAAAAAAAAAAAAAAAAAAAAAAAAAAAAAAAAAAAAAAAAAAAAAAAAAAAAAAAAAAAAAAAAAAAAAAAAAAAAAAAAAAAAAAAAAAAAAAAAAAAAAAAAAAAAAAAH+//wQAAAAAa67UcnK55P9qrdb7a67W/2uu1v9rrtb/a67W/2uu1v9rrtb/a67W/2uu1v9rrtb/a67W/2uu1v9rrtb/a67W/2uu1v9rrtb/a67W/2uu1v9rrtb/a67W/2uu1v9rrtb/a67W/2uu1v9rrtb/a67W/2uu1v9rrtb/a67W/2uu1v9rrtb/a67W/2uu1v9rrdX+bLDY/2qu1fZtrdocAAAAAP///wEAAAAAAAAAAAAAAAAAAAAAAAAAAAAAAAAAAAAAAAAAAAAAAAAAAAAAAAAAAAAAAAAAAAAAAAAAAAAAAAAAAAAAAAAAAAAAAAAAAAAAAAAAAAAAAAAAAAAAAAAAAAAAAAAAAAAAAAAAAAAAAAAAAAAAAAAAAAAAAAAAAAAAAAAAAH+//wQAAAAAa67UcnK55P9qrdb7a67W/2uu1v9rrtb/a67W/2uu1v9rrtb/a67W/2uu1v9rrtb/a67W/2uu1v9rrtb/a67W/2uu1v9rrtb/a67W/2uu1v9rrtb/a67W/2uu1v9rrtb/a67W/2uu1v9rrtb/a67W/2uu1v9rrtb/a67W/2uu1v9rrtb/a67W/2uu1v9rrdX+bLDY/2qu1fZtrdocAAAAAP///wEAAAAAAAAAAAAAAAAAAAAAAAAAAAAAAAAAAAAAAAAAAAAAAAAAAAAAAAAAAAAAAAAAAAAAAAAAAAAAAAAAAAAAAAAAAAAAAAAAAAAAAAAAAAAAAAAAAAAAAAAAAAAAAAAAAAAAAAAAAAAAAAAAAAAAAAAAAAAAAAAAAAAAAAAAAH+//wQAAAAAbLDUcXK44/5qrdb7a67W/2uu1v9rrtb/a67W/2uu1v9rrtb/a67W/2uu1v9rrtb/a67W/2uu1v9rrtb/a67W/2uu1v9rrtb/a67W/2uu1v9rrtb/a67W/2uu1v9rrtb/a67W/2uu1v9rrtb/a67W/2uu1v9rrtb/a67W/2uu1v9rrtb/a67W/2uu1v9rrdX+bLDY/2qt1fVtrdocAAAAAP///wEAAAAAAAAAAAAAAAAAAAAAAAAAAAAAAAAAAAAAAAAAAAAAAAAAAAAAAAAAAAAAAAAAAAAAAAAAAAAAAAAAAAAAAAAAAAAAAAAAAAAAAAAAAAAAAAAAAAAAAAAAAAAAAAAAAAAAAAAAAAAAAAAAAAAAAAAAAAAAAAAAAAAAAAAAAH+//wQAAAAAa63VdHO75v9qrdX5a67W/Guu1vxrrtb8a67W/Guu1vxrrtb8a67W/Guu1vxrrtb8a67W/Guu1vxrrtb8a67W/Guu1vxrrtb8a67W/Guu1vxrrtb8a67W/Guu1vxrrtb8a67W/Guu1vxrrtb8a67W/Guu1vxrrtb8a67W/Guu1vxrrtb8a67W/Guu1vxrrdb7a6/X/Wuu1fxrptcaAAAAAP///wEAAAAAAAAAAAAAAAAAAAAAAAAAAAAAAAAAAAAAAAAAAAAAAAAAAAAAAAAAAAAAAAAAAAAAAAAAAAAAAAAAAAAAAAAAAAAAAAAAAAAAAAAAAAAAAAAAAAAAAAAAAAAAAAAAAAAAAAAAAAAAAAAAAAAAAAAAAAAAAAAAAAAAAAAAAH9//wIAAAAAbK7UNm2x2vNxuOL/cLbg/3C24P9wtuD/cLbg/3C24P9wtuD/cLbg/3C24P9wtuD/cLbg/3C24P9wtuD/cLbg/3C24P9wtuD/cLbg/3C24P9wtuD/cLbg/3C24P9wtuD/cLbg/3C24P9wtuD/cLbg/3C24P9wtuD/cLbg/3C24P9wtuD/cLbg/3C24P9vtd//c7vm/2ut1rxmmcwF////AQAAAAAAAAAAAAAAAAAAAAAAAAAAAAAAAAAAAAAAAAAAAAAAAAAAAAAAAAAAAAAAAAAAAAAAAAAAAAAAAAAAAAAAAAAAAAAAAAAAAAAAAAAAAAAAAAAAAAAAAAAAAAAAAAAAAAAAAAAAAAAAAAAAAAAAAAAAAAAAAAAAAAAAAAAAAAAAAAAAAAAAAP8BAAAAAGyt0y9ssNllbKzVY2yv1WNsr9VjbK/VY2yv1WNsr9VjbK/VY2yv1WNsr9VjbK/VY2yv1WNsr9VjbK/VY2yv1WNsr9VjbK/VY2yv1WNsr9VjbK/VY2yv1WNsr9VjbK/VY2yv1WNsr9VjbK/VY2yv1WNsr9VjbK/VY2yv1WNsr9VjbK/VY2ys1WNrr9Zka7LdWmaqzA8AAAAA////AQAAAAAAAAAAAAAAAAAAAAAAAAAAAAAAAAAAAAAAAAAAAAAAAAAAAAAAAAAAAAAAAAAAAAAAAAAAAAAAAAAAAAAAAAAAAAAAAAAAAAAAAAAAAAAAAAAAAAAAAAAAAAAAAAAAAAAAAAAAAAAAAAAAAAAAAAAAAAAAAAAAAAAAAAAAAAAAAAAAAAAAAAAAAP//AQAAAAAAAAAAAAAAAAAAAAAAAAAAAAAAAAAAAAAAAAAAAAAAAAAAAAAAAAAAAAAAAAAAAAAAAAAAAAAAAAAAAAAAAAAAAAAAAAAAAAAAAAAAAAAAAAAAAAAAAAAAAAAAAAAAAAAAAAAAAAAAAAAAAAAAAAAAAAAAAAAAAAAAAAAAAAAAAAAAAAAAAAAAAAAAAAAAAAAAAAAAAAAAAAAAAAAAAAAAAAAAAAAAAAAAAAAAAAAAAAAAAAAAAAAAAAAAAAAAAAAAAAAAAAAAAAAAAAAAAAAAAAAAAAAAAAAAAAAAAAAAAAAAAAAAAAAAAAAAAAAAAAAAAAAAAAAAAAAAAAAAAAAAAAAAAAAAAAAAAAAAAAAAAAAAAAAAAAAAAAAAAAAAAAAAAAAAAAAAAH9//wJ/v78Ef7+/BH+/vwR/v78Ef7+/BH+/vwR/v78Ef7+/BH+/vwR/v78Ef7+/BH+/vwR/v78Ef7+/BH+/vwR/v78Ef7+/BH+/vwR/v78Ef7+/BH+/vwR/v78Ef7+/BH+/vwR/v78Ef7+/BH+/vwR/v78Ef7+/BH+/vwR/v78Ef7+/BH+/vwR/v78Ef3+/BAD//wEAAAAAAAAAAAAAAAAAAAAAAAAAAAAAAAAAAAAAAAAAAAAAAAAAAAAAAAAAAAAAAAAAAAAAAAAAAAAAAAAAAAAAAAAAAAAAAAAAAAAAAAAAAAAAAAAAAAAAAAAAAAAAAAAAAAAAAAAAAAAAAAAAAAAAAAAAAAAAAAAAAAAAAAAAAAAAAAAAAAAAAAAAAAAAAAAAAAAAAAAAAAAAAAAAAAAAAAAAAAAAAAAAAAAAAAAAAAAAAAAAAAAAAAAAAAAAAAAAAAAAAAAAAAAAAAAAAAAAAAAAAAAAAAAAAAAAAAAAAAAAAAAAAAAAAAAAAAAAAAAAAAAAAAAAAAAAAAAAAAAAAAAAAAAAAAAAAAAAAAAAAAAAAAAAAAAAAAAAAAAAAAAAAAAAAAAAAAAAAAAAAAAAAAAAAAAAAAAAAAAAAAAAAAAAAAAAAAAAAAAAAAAAAAAAAAAAAAAAAAAAAAAAAAAAAAAAAAAAAAAAAAAAAAAAAAAAAAAAAAAAAAAAAAAAAAAAAAAAAAAAAAAAAAAAAAAAAAAAAAAAAAAAAAAAAAAAAAAAAAAAAAAAAAAAAAAAAAAAAAAAAAAAAAAAAAAAAAAAAAAAAAAAAAAAAAAAAAAAAAAAAAAAAAAAAAAAAAAAAAAAAAAAAAAAAAAAAAAAAAAAAAAAAAAAAAAAAAAAAAAAAAAAAAAAAAAAAAAAAAAAAAAAAAAAAAAAAAAAAAAAAAAAAAAAAAAAAAAAAAAAAAAAAAAAAAAAAAAAAAAAAAAAAAAAAAAAAAAAAAAAAAAAAAAAAAAAAAAAAAAAAAAAAAAAAAAAAAAAAAAAAAAAAAAAAAAAAAAAAAAAAAAAAAAAAAAAAAAAAAAAAAAAAAAAAAAAAAAAAAAAAAAAAAAAAAAAAAAAAAAA\",\"dtype\":\"uint32\",\"order\":\"little\",\"shape\":[75,75]}]},\"selected\":{\"id\":\"5335\"},\"selection_policy\":{\"id\":\"5334\"}},\"id\":\"5254\",\"type\":\"ColumnDataSource\"},{\"attributes\":{\"axis\":{\"id\":\"5181\"},\"dimension\":1,\"ticker\":null,\"visible\":false},\"id\":\"5184\",\"type\":\"Grid\"},{\"attributes\":{\"source\":{\"id\":\"5291\"}},\"id\":\"5295\",\"type\":\"CDSView\"},{\"attributes\":{\"data\":{\"height\":[1.0],\"width\":[1.0],\"x\":[0.5],\"y\":[0.5]},\"selected\":{\"id\":\"5311\"},\"selection_policy\":{\"id\":\"5310\"}},\"id\":\"5153\",\"type\":\"ColumnDataSource\"},{\"attributes\":{\"dh\":{\"units\":\"data\",\"value\":0.4375},\"dw\":{\"units\":\"data\",\"value\":0.25},\"image\":{\"field\":\"image\"},\"x\":{\"value\":0.6},\"y\":{\"value\":0.4}},\"id\":\"5209\",\"type\":\"ImageRGBA\"},{\"attributes\":{},\"id\":\"5270\",\"type\":\"BasicTicker\"},{\"attributes\":{\"data\":{\"height\":[1.0],\"width\":[1.0],\"x\":[0.5],\"y\":[0.5]},\"selected\":{\"id\":\"5333\"},\"selection_policy\":{\"id\":\"5332\"}},\"id\":\"5245\",\"type\":\"ColumnDataSource\"},{\"attributes\":{},\"id\":\"5267\",\"type\":\"LinearScale\"},{\"attributes\":{},\"id\":\"5190\",\"type\":\"HelpTool\"},{\"attributes\":{},\"id\":\"5132\",\"type\":\"BasicTicker\"},{\"attributes\":{\"bounds\":[0.1,0.9],\"end\":0.9,\"start\":0.1},\"id\":\"5297\",\"type\":\"Range1d\"},{\"attributes\":{\"formatter\":{\"id\":\"5340\"},\"ticker\":{\"id\":\"5270\"},\"visible\":false},\"id\":\"5269\",\"type\":\"LinearAxis\"},{\"attributes\":{\"overlay\":{\"id\":\"5237\"}},\"id\":\"5233\",\"type\":\"BoxZoomTool\"},{\"attributes\":{\"text\":\"14\",\"text_color\":\"#DEEBF7\",\"text_font_size\":\"24px\",\"x\":0.15,\"y\":0.45},\"id\":\"5298\",\"type\":\"Label\"},{\"attributes\":{\"axis\":{\"id\":\"5135\"},\"dimension\":1,\"ticker\":null,\"visible\":false},\"id\":\"5138\",\"type\":\"Grid\"},{\"attributes\":{\"axis\":{\"id\":\"5177\"},\"ticker\":null,\"visible\":false},\"id\":\"5180\",\"type\":\"Grid\"},{\"attributes\":{\"bounds\":[0.1,0.9],\"end\":0.9,\"start\":0.1},\"id\":\"5250\",\"type\":\"Range1d\"},{\"attributes\":{\"formatter\":{\"id\":\"5329\"},\"ticker\":{\"id\":\"5224\"},\"visible\":false},\"id\":\"5223\",\"type\":\"LinearAxis\"},{\"attributes\":{\"dh\":{\"units\":\"data\",\"value\":0.4375},\"dw\":{\"units\":\"data\",\"value\":0.25},\"global_alpha\":0.1,\"image\":{\"field\":\"image\"},\"x\":{\"value\":0.6},\"y\":{\"value\":0.4}},\"id\":\"5256\",\"type\":\"ImageRGBA\"},{\"attributes\":{},\"id\":\"5175\",\"type\":\"LinearScale\"},{\"attributes\":{\"axis\":{\"id\":\"5273\"},\"dimension\":1,\"ticker\":null,\"visible\":false},\"id\":\"5276\",\"type\":\"Grid\"},{\"attributes\":{},\"id\":\"5127\",\"type\":\"LinearScale\"},{\"attributes\":{\"axis\":{\"id\":\"5269\"},\"ticker\":null,\"visible\":false},\"id\":\"5272\",\"type\":\"Grid\"},{\"attributes\":{\"axis\":{\"id\":\"5131\"},\"ticker\":null,\"visible\":false},\"id\":\"5134\",\"type\":\"Grid\"},{\"attributes\":{\"fill_color\":{\"value\":\"#2171b5\"},\"height\":{\"field\":\"height\",\"units\":\"data\"},\"line_color\":{\"value\":\"#1f77b4\"},\"width\":{\"field\":\"width\",\"units\":\"data\"},\"x\":{\"field\":\"x\"},\"y\":{\"field\":\"y\"}},\"id\":\"5200\",\"type\":\"Rect\"},{\"attributes\":{\"axis\":{\"id\":\"5227\"},\"dimension\":1,\"ticker\":null,\"visible\":false},\"id\":\"5230\",\"type\":\"Grid\"},{\"attributes\":{},\"id\":\"5136\",\"type\":\"BasicTicker\"},{\"attributes\":{\"bottom_units\":\"screen\",\"fill_alpha\":0.5,\"fill_color\":\"lightgrey\",\"left_units\":\"screen\",\"level\":\"overlay\",\"line_alpha\":1.0,\"line_color\":\"black\",\"line_dash\":[4,4],\"line_width\":2,\"right_units\":\"screen\",\"top_units\":\"screen\"},\"id\":\"5191\",\"type\":\"BoxAnnotation\"},{\"attributes\":{},\"id\":\"5274\",\"type\":\"BasicTicker\"},{\"attributes\":{},\"id\":\"5129\",\"type\":\"LinearScale\"},{\"attributes\":{\"active_drag\":\"auto\",\"active_inspect\":\"auto\",\"active_multi\":null,\"active_scroll\":\"auto\",\"active_tap\":\"auto\",\"tools\":[{\"id\":\"5277\"},{\"id\":\"5278\"},{\"id\":\"5279\"},{\"id\":\"5280\"},{\"id\":\"5281\"},{\"id\":\"5282\"}]},\"id\":\"5284\",\"type\":\"Toolbar\"},{\"attributes\":{\"formatter\":{\"id\":\"5320\"},\"ticker\":{\"id\":\"5182\"},\"visible\":false},\"id\":\"5181\",\"type\":\"LinearAxis\"},{\"attributes\":{},\"id\":\"5140\",\"type\":\"WheelZoomTool\"},{\"attributes\":{\"fill_color\":{\"value\":\"#2171b5\"},\"height\":{\"field\":\"height\",\"units\":\"data\"},\"line_color\":{\"value\":\"#1f77b4\"},\"width\":{\"field\":\"width\",\"units\":\"data\"},\"x\":{\"field\":\"x\"},\"y\":{\"field\":\"y\"}},\"id\":\"5246\",\"type\":\"Rect\"},{\"attributes\":{\"formatter\":{\"id\":\"5342\"},\"ticker\":{\"id\":\"5274\"},\"visible\":false},\"id\":\"5273\",\"type\":\"LinearAxis\"},{\"attributes\":{\"formatter\":{\"id\":\"5307\"},\"ticker\":{\"id\":\"5132\"},\"visible\":false},\"id\":\"5131\",\"type\":\"LinearAxis\"},{\"attributes\":{\"fill_alpha\":{\"value\":0.1},\"fill_color\":{\"value\":\"#2171b5\"},\"height\":{\"field\":\"height\",\"units\":\"data\"},\"line_alpha\":{\"value\":0.1},\"line_color\":{\"value\":\"#1f77b4\"},\"width\":{\"field\":\"width\",\"units\":\"data\"},\"x\":{\"field\":\"x\"},\"y\":{\"field\":\"y\"}},\"id\":\"5247\",\"type\":\"Rect\"},{\"attributes\":{\"formatter\":{\"id\":\"5318\"},\"ticker\":{\"id\":\"5178\"},\"visible\":false},\"id\":\"5177\",\"type\":\"LinearAxis\"},{\"attributes\":{\"active_drag\":\"auto\",\"active_inspect\":\"auto\",\"active_multi\":null,\"active_scroll\":\"auto\",\"active_tap\":\"auto\",\"tools\":[{\"id\":\"5231\"},{\"id\":\"5232\"},{\"id\":\"5233\"},{\"id\":\"5234\"},{\"id\":\"5235\"},{\"id\":\"5236\"}]},\"id\":\"5238\",\"type\":\"Toolbar\"},{\"attributes\":{},\"id\":\"5277\",\"type\":\"PanTool\"},{\"attributes\":{},\"id\":\"5139\",\"type\":\"PanTool\"},{\"attributes\":{\"overlay\":{\"id\":\"5145\"}},\"id\":\"5141\",\"type\":\"BoxZoomTool\"},{\"attributes\":{\"overlay\":{\"id\":\"5191\"}},\"id\":\"5187\",\"type\":\"BoxZoomTool\"},{\"attributes\":{\"fill_color\":{\"value\":\"#2171b5\"},\"height\":{\"field\":\"height\",\"units\":\"data\"},\"line_color\":{\"value\":\"#1f77b4\"},\"width\":{\"field\":\"width\",\"units\":\"data\"},\"x\":{\"field\":\"x\"},\"y\":{\"field\":\"y\"}},\"id\":\"5154\",\"type\":\"Rect\"},{\"attributes\":{\"source\":{\"id\":\"5245\"}},\"id\":\"5249\",\"type\":\"CDSView\"},{\"attributes\":{},\"id\":\"5313\",\"type\":\"Selection\"},{\"attributes\":{},\"id\":\"5173\",\"type\":\"LinearScale\"},{\"attributes\":{\"data_source\":{\"id\":\"5245\"},\"glyph\":{\"id\":\"5246\"},\"hover_glyph\":null,\"muted_glyph\":null,\"nonselection_glyph\":{\"id\":\"5247\"},\"selection_glyph\":null,\"view\":{\"id\":\"5249\"}},\"id\":\"5248\",\"type\":\"GlyphRenderer\"},{\"attributes\":{\"data_source\":{\"id\":\"5291\"},\"glyph\":{\"id\":\"5292\"},\"hover_glyph\":null,\"muted_glyph\":null,\"nonselection_glyph\":{\"id\":\"5293\"},\"selection_glyph\":null,\"view\":{\"id\":\"5295\"}},\"id\":\"5294\",\"type\":\"GlyphRenderer\"},{\"attributes\":{\"data\":{\"height\":[1.0],\"width\":[1.0],\"x\":[0.5],\"y\":[0.5]},\"selected\":{\"id\":\"5344\"},\"selection_policy\":{\"id\":\"5343\"}},\"id\":\"5291\",\"type\":\"ColumnDataSource\"},{\"attributes\":{\"bottom_units\":\"screen\",\"fill_alpha\":0.5,\"fill_color\":\"lightgrey\",\"left_units\":\"screen\",\"level\":\"overlay\",\"line_alpha\":1.0,\"line_color\":\"black\",\"line_dash\":[4,4],\"line_width\":2,\"right_units\":\"screen\",\"top_units\":\"screen\"},\"id\":\"5237\",\"type\":\"BoxAnnotation\"},{\"attributes\":{},\"id\":\"5310\",\"type\":\"UnionRenderers\"},{\"attributes\":{\"fill_color\":{\"value\":\"#2171b5\"},\"height\":{\"field\":\"height\",\"units\":\"data\"},\"line_color\":{\"value\":\"#1f77b4\"},\"width\":{\"field\":\"width\",\"units\":\"data\"},\"x\":{\"field\":\"x\"},\"y\":{\"field\":\"y\"}},\"id\":\"5292\",\"type\":\"Rect\"},{\"attributes\":{\"dh\":{\"units\":\"data\",\"value\":0.4375},\"dw\":{\"units\":\"data\",\"value\":0.25},\"image\":{\"field\":\"image\"},\"x\":{\"value\":0.6},\"y\":{\"value\":0.4}},\"id\":\"5301\",\"type\":\"ImageRGBA\"},{\"attributes\":{},\"id\":\"5321\",\"type\":\"UnionRenderers\"},{\"attributes\":{},\"id\":\"5143\",\"type\":\"ResetTool\"},{\"attributes\":{},\"id\":\"5278\",\"type\":\"WheelZoomTool\"},{\"attributes\":{\"overlay\":{\"id\":\"5283\"}},\"id\":\"5279\",\"type\":\"BoxZoomTool\"},{\"attributes\":{},\"id\":\"5144\",\"type\":\"HelpTool\"},{\"attributes\":{},\"id\":\"5323\",\"type\":\"UnionRenderers\"},{\"attributes\":{},\"id\":\"5282\",\"type\":\"HelpTool\"},{\"attributes\":{},\"id\":\"5324\",\"type\":\"Selection\"},{\"attributes\":{\"data\":{\"height\":[1.0],\"width\":[1.0],\"x\":[0.5],\"y\":[0.5]},\"selected\":{\"id\":\"5322\"},\"selection_policy\":{\"id\":\"5321\"}},\"id\":\"5199\",\"type\":\"ColumnDataSource\"},{\"attributes\":{\"dh\":{\"units\":\"data\",\"value\":0.4375},\"dw\":{\"units\":\"data\",\"value\":0.25},\"image\":{\"field\":\"image\"},\"x\":{\"value\":0.6},\"y\":{\"value\":0.4}},\"id\":\"5163\",\"type\":\"ImageRGBA\"},{\"attributes\":{\"source\":{\"id\":\"5300\"}},\"id\":\"5304\",\"type\":\"CDSView\"},{\"attributes\":{\"source\":{\"id\":\"5208\"}},\"id\":\"5212\",\"type\":\"CDSView\"},{\"attributes\":{},\"id\":\"5280\",\"type\":\"SaveTool\"},{\"attributes\":{\"background_fill_color\":\"#f4f4f4\",\"below\":[{\"id\":\"5223\"}],\"border_fill_color\":\"#f4f4f4\",\"center\":[{\"id\":\"5226\"},{\"id\":\"5230\"},{\"id\":\"5252\"},{\"id\":\"5253\"}],\"left\":[{\"id\":\"5227\"}],\"outline_line_color\":null,\"output_backend\":\"webgl\",\"plot_height\":100,\"plot_width\":175,\"renderers\":[{\"id\":\"5248\"},{\"id\":\"5257\"}],\"title\":null,\"toolbar\":{\"id\":\"5238\"},\"toolbar_location\":null,\"x_range\":{\"id\":\"5250\"},\"x_scale\":{\"id\":\"5219\"},\"y_range\":{\"id\":\"5251\"},\"y_scale\":{\"id\":\"5221\"}},\"id\":\"5213\",\"subtype\":\"Figure\",\"type\":\"Plot\"},{\"attributes\":{\"text\":\"Total reads\",\"text_color\":\"#C6DBEF\",\"x\":0.15,\"y\":0.2},\"id\":\"5161\",\"type\":\"Label\"},{\"attributes\":{\"data_source\":{\"id\":\"5199\"},\"glyph\":{\"id\":\"5200\"},\"hover_glyph\":null,\"muted_glyph\":null,\"nonselection_glyph\":{\"id\":\"5201\"},\"selection_glyph\":null,\"view\":{\"id\":\"5203\"}},\"id\":\"5202\",\"type\":\"GlyphRenderer\"},{\"attributes\":{},\"id\":\"5345\",\"type\":\"UnionRenderers\"},{\"attributes\":{},\"id\":\"5340\",\"type\":\"BasicTickFormatter\"},{\"attributes\":{\"data_source\":{\"id\":\"5208\"},\"glyph\":{\"id\":\"5209\"},\"hover_glyph\":null,\"muted_glyph\":null,\"nonselection_glyph\":{\"id\":\"5210\"},\"selection_glyph\":null,\"view\":{\"id\":\"5212\"}},\"id\":\"5211\",\"type\":\"GlyphRenderer\"},{\"attributes\":{\"dh\":{\"units\":\"data\",\"value\":0.4375},\"dw\":{\"units\":\"data\",\"value\":0.25},\"global_alpha\":0.1,\"image\":{\"field\":\"image\"},\"x\":{\"value\":0.6},\"y\":{\"value\":0.4}},\"id\":\"5210\",\"type\":\"ImageRGBA\"},{\"attributes\":{},\"id\":\"5322\",\"type\":\"Selection\"},{\"attributes\":{\"active_drag\":\"auto\",\"active_inspect\":\"auto\",\"active_multi\":null,\"active_scroll\":\"auto\",\"active_tap\":\"auto\",\"tools\":[{\"id\":\"5185\"},{\"id\":\"5186\"},{\"id\":\"5187\"},{\"id\":\"5188\"},{\"id\":\"5189\"},{\"id\":\"5190\"}]},\"id\":\"5192\",\"type\":\"Toolbar\"},{\"attributes\":{\"data_source\":{\"id\":\"5300\"},\"glyph\":{\"id\":\"5301\"},\"hover_glyph\":null,\"muted_glyph\":null,\"nonselection_glyph\":{\"id\":\"5302\"},\"selection_glyph\":null,\"view\":{\"id\":\"5304\"}},\"id\":\"5303\",\"type\":\"GlyphRenderer\"},{\"attributes\":{},\"id\":\"5342\",\"type\":\"BasicTickFormatter\"},{\"attributes\":{},\"id\":\"5281\",\"type\":\"ResetTool\"},{\"attributes\":{\"background_fill_color\":\"#f4f4f4\",\"below\":[{\"id\":\"5177\"}],\"border_fill_color\":\"#f4f4f4\",\"center\":[{\"id\":\"5180\"},{\"id\":\"5184\"},{\"id\":\"5206\"},{\"id\":\"5207\"}],\"left\":[{\"id\":\"5181\"}],\"outline_line_color\":null,\"output_backend\":\"webgl\",\"plot_height\":100,\"plot_width\":175,\"renderers\":[{\"id\":\"5202\"},{\"id\":\"5211\"}],\"title\":null,\"toolbar\":{\"id\":\"5192\"},\"toolbar_location\":null,\"x_range\":{\"id\":\"5204\"},\"x_scale\":{\"id\":\"5173\"},\"y_range\":{\"id\":\"5205\"},\"y_scale\":{\"id\":\"5175\"}},\"id\":\"5167\",\"subtype\":\"Figure\",\"type\":\"Plot\"},{\"attributes\":{},\"id\":\"5312\",\"type\":\"UnionRenderers\"},{\"attributes\":{},\"id\":\"5335\",\"type\":\"Selection\"},{\"attributes\":{},\"id\":\"5331\",\"type\":\"BasicTickFormatter\"},{\"attributes\":{\"bottom_units\":\"screen\",\"fill_alpha\":0.5,\"fill_color\":\"lightgrey\",\"left_units\":\"screen\",\"level\":\"overlay\",\"line_alpha\":1.0,\"line_color\":\"black\",\"line_dash\":[4,4],\"line_width\":2,\"right_units\":\"screen\",\"top_units\":\"screen\"},\"id\":\"5145\",\"type\":\"BoxAnnotation\"},{\"attributes\":{\"active_drag\":\"auto\",\"active_inspect\":\"auto\",\"active_multi\":null,\"active_scroll\":\"auto\",\"active_tap\":\"auto\",\"tools\":[{\"id\":\"5139\"},{\"id\":\"5140\"},{\"id\":\"5141\"},{\"id\":\"5142\"},{\"id\":\"5143\"},{\"id\":\"5144\"}]},\"id\":\"5146\",\"type\":\"Toolbar\"},{\"attributes\":{\"source\":{\"id\":\"5162\"}},\"id\":\"5166\",\"type\":\"CDSView\"},{\"attributes\":{\"text\":\"Mean qscore (pass)\",\"text_color\":\"#C6DBEF\",\"x\":0.15,\"y\":0.2},\"id\":\"5299\",\"type\":\"Label\"},{\"attributes\":{},\"id\":\"5333\",\"type\":\"Selection\"},{\"attributes\":{\"text\":\"1.0 Gb\",\"text_color\":\"#DEEBF7\",\"text_font_size\":\"24px\",\"x\":0.15,\"y\":0.45},\"id\":\"5206\",\"type\":\"Label\"},{\"attributes\":{\"fill_alpha\":{\"value\":0.1},\"fill_color\":{\"value\":\"#2171b5\"},\"height\":{\"field\":\"height\",\"units\":\"data\"},\"line_alpha\":{\"value\":0.1},\"line_color\":{\"value\":\"#1f77b4\"},\"width\":{\"field\":\"width\",\"units\":\"data\"},\"x\":{\"field\":\"x\"},\"y\":{\"field\":\"y\"}},\"id\":\"5201\",\"type\":\"Rect\"},{\"attributes\":{\"data_source\":{\"id\":\"5162\"},\"glyph\":{\"id\":\"5163\"},\"hover_glyph\":null,\"muted_glyph\":null,\"nonselection_glyph\":{\"id\":\"5164\"},\"selection_glyph\":null,\"view\":{\"id\":\"5166\"}},\"id\":\"5165\",\"type\":\"GlyphRenderer\"},{\"attributes\":{\"bounds\":[0.1,0.9],\"end\":0.9,\"start\":0.1},\"id\":\"5296\",\"type\":\"Range1d\"},{\"attributes\":{},\"id\":\"5334\",\"type\":\"UnionRenderers\"},{\"attributes\":{},\"id\":\"5332\",\"type\":\"UnionRenderers\"},{\"attributes\":{\"data_source\":{\"id\":\"5153\"},\"glyph\":{\"id\":\"5154\"},\"hover_glyph\":null,\"muted_glyph\":null,\"nonselection_glyph\":{\"id\":\"5155\"},\"selection_glyph\":null,\"view\":{\"id\":\"5157\"}},\"id\":\"5156\",\"type\":\"GlyphRenderer\"},{\"attributes\":{\"bounds\":[0.1,0.9],\"end\":0.9,\"start\":0.1},\"id\":\"5204\",\"type\":\"Range1d\"},{\"attributes\":{\"data\":{\"image\":[{\"__ndarray__\":\"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\",\"dtype\":\"uint32\",\"order\":\"little\",\"shape\":[75,75]}]},\"selected\":{\"id\":\"5346\"},\"selection_policy\":{\"id\":\"5345\"}},\"id\":\"5300\",\"type\":\"ColumnDataSource\"},{\"attributes\":{},\"id\":\"5343\",\"type\":\"UnionRenderers\"},{\"attributes\":{\"source\":{\"id\":\"5199\"}},\"id\":\"5203\",\"type\":\"CDSView\"},{\"attributes\":{\"dh\":{\"units\":\"data\",\"value\":0.4375},\"dw\":{\"units\":\"data\",\"value\":0.25},\"global_alpha\":0.1,\"image\":{\"field\":\"image\"},\"x\":{\"value\":0.6},\"y\":{\"value\":0.4}},\"id\":\"5302\",\"type\":\"ImageRGBA\"},{\"attributes\":{},\"id\":\"5329\",\"type\":\"BasicTickFormatter\"},{\"attributes\":{},\"id\":\"5307\",\"type\":\"BasicTickFormatter\"},{\"attributes\":{\"source\":{\"id\":\"5153\"}},\"id\":\"5157\",\"type\":\"CDSView\"},{\"attributes\":{},\"id\":\"5344\",\"type\":\"Selection\"},{\"attributes\":{},\"id\":\"5320\",\"type\":\"BasicTickFormatter\"},{\"attributes\":{\"bounds\":[0.1,0.9],\"end\":0.9,\"start\":0.1},\"id\":\"5158\",\"type\":\"Range1d\"},{\"attributes\":{},\"id\":\"5311\",\"type\":\"Selection\"},{\"attributes\":{},\"id\":\"5309\",\"type\":\"BasicTickFormatter\"},{\"attributes\":{\"text\":\"Total yield\",\"text_color\":\"#C6DBEF\",\"x\":0.15,\"y\":0.2},\"id\":\"5207\",\"type\":\"Label\"},{\"attributes\":{\"data\":{\"image\":[{\"__ndarray__\":\"AAAAAAAAAAAAAAAAAAAAAAAAAAAAAAAAAAAAAAAAAAAAAAAAAAAAAAAAAAAAAAAAAAAAAAAAAAAAAAAAAAAAAAAAAAAAAAAAAAAAAAAAAAAAAAAAAAAAAAAAAAAAAAAAAAAAAAAAAAAAAAAAAAAAAAAAAAAAAAAAAAAAAAAAAAAAAAAAAAAAAAAAAAAAAAAAAAAAAAAAAAAAAAAAAAAAAAAAAAAAAAAAAAAAAAAAAAAAAAAAAAAAAAAAAAAAAAAAAAAAAAAAAAAAAAAAAAAAAAAAAAAAAAAAAAAAAAAAAAAAAAAAAAAAAAAAAAAAAAAAAAAAAAAAAAAAAAAAAAAAAAAAAAAAAAAAAAAAAAAAAAAAAAAAAAAAAAAAAAAAAAAAAAAAAAAAAAAAAAAAAAAAAAAAAAAAAAAAAAAAAAAAAAAAAAAAAAAAAAAAAAAAAAAAAAAAAAAAAAAAAAAAAAAAAAAAAAAAAAAAAAAAAAAAAAAAAAAAAAAAAAAAAAAAAAAAAAAAAAAAAAAAAAAAAAAAAAAAAAAAAAAAAAAAAAAAAAAAAAAAAAAAAAAAAAAAAAAAAAAAAAAAAAAAAAAAAAAAAAAAAAAAAAAAAAAAAAAAAAAAAAAAAAAAAAAAAAAAAAAAAAAAAAAAAAAAAAAAAAAAAAAAAAAAAAAAAAAAAAAAAAAAAAAAAAAAAAAAAAAAAAAAAAAAAAAAAAAAAAAAAAAAAAAAAAAAAAAAAAAAAAAAAAAAAAAAAAAAAAAAAAAAAAAAAAAAAAAAAAAAAAAAAAAAAAAAAAAAAAAAAAAAAAAAAAAAAAAAAAAAAAAAAAAAAAAAAAAAAAAAAAAAAAAAAAAAAAAAAAAAAAAAAAAAAAAAAAAAAAAAAAAAAAAAAAAAAAAAAAAAAAAAAAAAAAAAAAAAAAAAAAAAAAAAAAAAAAAAAAAAAAAAAAAAAAAAAAAAAAAAAAAAAAAAAAAAAAAAAAAAAAAAAAAAAAAAAAAAAAAAAAAAAAAAAAAAAAAAAAAAAAAAAAAAAAAAAAAAAAAAAAAAAAAAAAAAAAAAAAAAAAAAAAAAAAAAAAAAAAAAAAAAAAAAAAAAAAAAAAAAAAAAAAAAAAAAAAAAAAAAAAAAAAAAAAAAAAAAAAAAAAAAAAAAAAAAAAAAAAAAAAAAAAAAAAAAAAAAAAAAAAAAAAAAAAAAAAAAAAAAAAAAAAAAAAAAAAAAAAAAAAAAAAAAAAAAAAAAAAAAAAAAAAAAAAAAAAAAAAAAAAAAAAAAAAAAAAAAAAAAAAAAAAAAAAAAAAAAAAAAAAAAAAAAAAAAAAAAAAAAAAAAAAAAAAAAAAAAAAAAAAAAAAAAAAAAAAAAAAAAAAAAAAAAAAAAAAAAAAAAAAAAAAAAAAAAAAAAAAAAAAAAAAAAAAAAAAAAAAAAAAAAAAAAAAAAAAAAAAAAAAAAAAAAAAAAAAAAAAAAAAAAAAAAAAAAAAAAAAAAAAAAAAAAAAAAAAAAAAAAAAAAAAAAAAAAAAAAAAAAAAAAAAAAAAAAAAAAAAAAAAAAAAAAAAAAAAAAAAAAAAAAAAAAAAAAAAAAAAAAAAAAAAAAAAAAAAAAAAAAAAAAAAAAAAAAAAAAAAAAAAAAAAAAAAAAAAAAAAAAAAAAAAAAAAAAAAAAAAAAAAAAAAAAAAAAAAAAAAAAAAAAAAAAAAAAAAAAAAAAAAAAAAAAAAAAAAAAAAAAAAAAAAAAAAAAAAAAAAAAAAAAAAAAAAAAAAAAAAAAAAAAAAAAAAAAAAAAAAAAAAAAAAAAAAAAAAAAAAAAAAAAAAAAAAAAAAAAAAAAAAAAAAAAAAAAAAAAAAAAAAAAAAAAAAAAAAAAAAAAAAAAAAAAAAAAAAAAAAAAAAAAAAAAAAAAAAAAAAAAAAAAAAAAAAAAAAAAAAAAAAAAAAAAAAAAAAAAAAAAAAAAAAAAAAAAAAAAAAAAAAAAAAAAAAAAAAAAAAAAAAAAAAAAAAAAAAAAAAAAAAAAAAAAAAAAAAAAAAAAAAAAAAAAAAAAAAAAAAAAAAAAAAAAAAAAAAAAAAAAAAAAAAAAAAAAAAAAAAAAAAAAAAAAAAAAAAAAAAAAAAAAAAAAAAAAAAAAAAAAAAAAAAAAAAAAAAAAAAAAAAAAAAAAAAAAAAAAAAAAAAAAAAAAAAAAAAAAAAAAAAAAAAAAAAAAAAAAAAAAAAAAAAAAAAAAAAAAAAAAAAAAAAAAAAAAAAAAAAAAAAAAAAAAAAAAAAAAAAAAAAAAAAAAAAAAAAAAAAAAAAAAAAAAAAAAAAAAAAAAAAAAAAAAAAAAAAAAAAAAAAAAAAAAAAAAAAAAAAAAAAAAAAAAAAAAAAAAAAAAAAAAAAAAAAAAAAAAAAAAAAAAAAAAAAAAAAAAAAAAAAAAAAAAAAAAAAAAAAAAAAAAAAAAAAAAAAAAAAAAAAAAAAAAAAAAAAAAAAAAAAAAAAAAAAAAAAAAAAAAAAAAAAAAAAAAAAAAAAAAAAAAAAAAAAAAAAAAAAAAAAAAAAAAAAAAAAAAAAAAAAAAAAAAAAAAAAAAAAAAAAAAAAAAAAAAAAAAAAAAAAAAAAAAAAAAAAAAAAAAAAAAAAAAAAAAAAAAAAAAAAAAAAAAAAAAAAAAAAAAAAAAAAAAAAAAAAAAAAAAAAAAAAAAAAAAAAAAAAAAAAAAAAAAAAAAAAAAAAAAAAAAAAAAAAAAAAAAAAAAAAAAAAAAAAAAAAAAAAAAAAAAAAAAAAAAAAAAAAAAAAAAAAAAAAAAAAAAAAAAAAAAAAAAAAAAAAAAAAAAAAAAAAAAAAAAAAAAAAAAAAAAAAAAAAAAAAAAAAAAAAAAAAAAAAAAAAAAAAAAAAAAAAAAAAAAAAAAAAAAAAAAAAAAAAAAAAAAAAAAAAAAAAAAAAAAAAAAAAAAAAAAAAAAAAAAAAAAAAAAAAAAAAAAAAAAAAAAAAAAAAAAAAAAAAAAAAAAAAAAAAAAAAAAAAAAAAAAAAAAAAAAAAAAAAAAAAAAAAAAAAAAAAAAAAAAAAAAAAAAAAAAAAAAAAAAAAAAAAAAAAAAAAAAAAAAAAAAAAAAAAAAAAAAAAAAAAAAAAAAAAAAAAAAAAAAAAAAAAAAAAAAAAAAAAAAAAAAAAAAAAAAAAAAAAAAAAAAAAAAAAAAAAAAAAAAAAAAAAAAAAAAAAAAAAAAAAAAAAAAAAAAAAAAAAAAAAAAAAAAAAAAAAAAAAAAAAAAAAAAAAAAAAAAAAAAAAAAAAAAAAAAAAAAAAAAAAAAAAAAAAAAAAAAAAAAAAAAAAAAAAAAAAAAAAAAAAAAAAAAAAAAAAAAAAAAAAAAAAAAAAAAAAAAAAAAAAAAAAAAAAAAAAAAAAAAAAAAAAAAAAAAAAAAAAAAAAAAAAAAAAAAAAAAAAAAAAAAAAAAAAAAAAAAAAAAAAAAAAAAAAAAAAAAAAAAAAAAAAAAAAAAAAAAAAAAAAAAAAAAAAAAAAAAAAAAAAAAAAAAAAAAAAAAAAAAAAAAAAAAAAAAAAAAAAAAAAAAAAAAAAAAAAAAAAAAAAAAAAAAAAAAAAAAAAAAAAAAAAAAAAAAAAAAAAAAAAAAAAAAAAAAAAAAAAAAAAAAAAAAAAAAAAAAAAAAAAAAAAAAAAAAAAAAAAAAAAAAAAAAAAAAAAAAAAAAAAAAAAAAAAAAAAAAAAAAAAAAAAAAAAAAAAAAAAAAAAAAAAAAAAAAAAAAAAAAAAAAAAAAAAAAAAAAAAAAAAAAAAAAAAAAAAAAAAAAAAAAAAAAAAAAAAAAAAAAAAAAAAAAAAAAAAAAAAAAAAAAAAAAAAAAAAAAAAAAAAAAAAAAAAAAAAAAAAAAAAAAAAAAAAAAAAAAAAAAAAAAAAAAAAAAAAAAAAAAAAAAAAAAAAAAAAAAAAAAAAAAAAAAAAAAAAAAAAAAAAAAAAAAAAAAAAAAAAAAAAAAAAAAAAAAAAAAAAAAAAAAAAAAAAAAAAAAAAAAAAAAAAAAAAAAAAAAAAAAAAAAAAAAAAAAAAAAAAAAAAAAAAAAAAAAAAAAAAAAAAAAAAAAAAAAAAAAAAAAAAAAAAAAAAAAAAAAAAAAAAAAAAAAAAAAAAAAAAAAAAAAAAAAAAAAAAAAAAAAAAAAAAAAAAAAAAAAAAAAAAAAAAAAAAAAAAAAAAAAAAAAAAAAAAAAAAAAAAAAAAAAAAAAAAAAAAAAAAAAAAAAAAAAAAAAAAAAAAAAAAAAAAAAAAAAAAAAAAAAAAAAAAAAAAAAAAAAAAAAAAAAAAAAAAAAAAAAAAAAAAAAAAAAAAAAAAAAAAAAAAAAAAAAAAAAAAAAAAAAAAAAAAAAAAAAAAAAAAAAAAAAAAAAAAAAAAAAAAAAAAAAAAAAAAAAAAAAAAAAAAAAAAAAAAAAAAAAAAAAAAAAAAAAAAAAAAAAAAAAAAAAAAAAAAAAAAAAAAAAAAAAAAAAAAAAAAAAAAAAAAAAAAAAAAAAAAAAAAAAAAAAAAAAAAAAAAAAAAAAAAAAAAAAAAAAAAAAAAAAAAAAAAAAAAAAAAAAAAAAAAAAAAAAAAAAAAAAAAAAAAAAAAAAAAAAAAAAAAAAAAAAAAAAAAAAAAAAAAAAAAAAAAAAAAAAAAAAAAAAAAAAAAAAAAAAAAAAAAAAAAAAAAAAAAAAAAAAAAAAAAAAAAAAAAAAAAAAAAAAAAAAAAAAAAAAAAAAAAAAAAAAAAAAAAAAAAAAAAAAAAAAAAAAAAAAAAAAAAAAAAAAAAAAAAAAAAAAAAAAAAAAAAAAAAAAAAAAAAAAAAAAAAAAAAAAAAAAAAAAAAAAAAAAAAAAAAAAAAAAAAAAAAAAAAAAAAAAAAAAAAAAAAAAAAAAAAAAAAAAAAAAAAAAAAAAAAAAAAAAAAAAAAAAAAAAAAAAAAAAAAAAAAAAAAAAAAAAAAAAAAAAAAAAAAAAAAAAAAAAAAAAAAAAAAAAAAAAAAAAAAAAAAAAAAAAAAAAAAAAAAAAAAAAAAAAAAAAAAAAAAAAAAAAAAAAAAAAAAAAAAAAAAAAAAAAAAAAAAAAAAAAAAAAAAAAAAAAAAAAAAAAAAAAAAAAAAAAAAAAAAAAAAAAAAAAAAAAAAAAAAAAAAAAAAAAAAAAAAAAAAAAAAAAAAAAAAAAAAAAAAAAAAAAAAAAAAAAAAAAAAAAAAAAAAAAAAAAAAAAAAAAAAAAAAAAAAAAAAAAAAAAAAAAAAAAAAAAAAAAAAAAAAAAAAAAAAAAAAAAAAAAAAAAAAAAAAAAAAAAAAAAAAAAAAAAAAAAAAAAAAAAAAAAAAAAAAAAAAAAAAAAAAAAAAAAAAAAAAAAAAAAAAAAAAAAAAAAAAAAAAAAAAAAAAAAAAAAAAAAAAAAAAAAAAAAAAAAAAAAAAAAAAAAAAAAAAAAAAAAAAAAAAAAAAAAAAAAAAAAAAAAAAAAAAAAAAAAAAAAAAAAAAAAAAAAAAAAAAAAAAAAAAAAAAAAAAAAAAAAAAAAAAAAAAAAAAAAAAAAAAAAAAAAAAAAAAAAAAAAAAAAAAAAAAAAAAAAAAAAAAAAAAAAAAAAAAAAAAAAAAAAAAAAAAAAAAAAAAAAAAAAAAAAAAAAAAAAAAAAAAAAAAAAAAAAAAAAAAAAAAAAAAAAAAAAAAAAAAAAAAAAAAAAAAAAAAAAAAAAAAAAAAAAAAAAAAAAAAAAAAAAAAAAAAAAAAAAAAAAAAAAAAAAAAAAAAAAAAAAAAAAAAAAAAAAAAAAAAAAAAAAAAAAAAAAAAAAAAAAAAAAAAAAAAAAAAAAAAAAAAAAAAAAAAAAAAAAAAAAAAAAAAAAAAAAAAAAAAAAAAAAAAAAAAAAAAAAAAAAAAAAAAAAAAAAAAAAAAAAAAAAAAAAAAAAAAAAAAAAAAAAAAAAAAAAAAAAAAAAAAAAAAAAAAAAAAAAAAAAAAAAAAAAAAAAAAAAAAAAAAAAAAAAAAAAAAAAAAAAAAAAAAAAAAAAAAAAAAAAAAAAAAAAAAAAAAAAAAAAAAAAAAAAAAAAAAAAAAAAAAAAAAAAAAAAAAAAAAAAAAAAAAAAAAAAAAAAAAAAAAAAAAAAAAAAAAAAAAAAAAAAAAAAAAAAAAAAAAAAAAAAAAAAAAAAAAAAAAAAAAAAAAAAAAAAAAAAAAAAAAAAAAAAAAAAAAAAAAAAAAAAAAAAAAAAAAAAAAAAAAAAAAAAAAAAAAAAAAAAAAAAAAAAAAAAAAAAAAAAAAAAAAAAAAAAAAAAAAAAAAAAAAAAAAAAAAAAAAAAAAAAAAAAAAAAAAAAAAAAAAAAAAAAAAAAAAAAAAAAAAAAAAAAAAAAAAAAAAAAAAAAAAAAAAAAAAAAAAAAAAAAAAAAAAAAAAAAAAAAAAAAAAAAAAAAAAAAAAAAAAAAAAAAAAAAAAAAAAAAAAAAAAAAAAAAAAAAAAAAAAAAAAAAAAAAAAAAAAAAAAAAAAAAAAAAAAAAAAAAAAAAAAAAAAAAAAAAAAAAAAAAAAAAAAAAAAAAAAAAAAAAAAAAAAAAAAAAAAAAAAAAAAAAAAAAAAAAAAAAAAAAAAAAAAAAAAAAAAAAAAAAAAAAAAAAAAAAAAAAAAAAAAAAAAAAAAAAAAAAAAAAAAAAAAAAAAAAAAAAAAAAAAAAAAAAAAAAAAAAAAAAAAAAAAAAAAAAAAAAAAAAAAAAAAAAAAAAAAAAAAAAAAAAAAAAAAAAAAAAAAAAAAAAAAAAAAAAAAAAAAAAAAAAAAAAAAAAAAAAAAAAAAAAAAAAAAAAAAAAAAAAAAAAAAAAAAAAAAAAAAAAAAAAAAAAAAAAAAAAAAAAAAAAAAAAAAAAAAAAAAAAAAAAAAAAAAAAAAAAAAAAAAAAAAAAAAAAAAAAAAAAAAAAAAAAAAAAAAAAAAAAAAAAAAAAAAAAAAAAAAAAAAAAAAAAAAAAAAAAAAAAAAAAAAAAAAAAAAAAAAAAAAAAAAAAAAAAAAAAAAAAAAAAAAAAAAAAAAAAAAAAAAAAAAAAAAAAAAAAAAAAAAAAAAAAAAAAAAAAAAAAAAAAAAAAAAAAAAAAAAAAAAAAAAAAAAAAAAAAAAAAAAAAAAAAAAAAAAAAAAAAAAAAAAAAAAAAAAAAAAAAAAAAAAAAAAAAAAAAAAAAAAAAAAAAAAAAAAAAAAAAAAAAAAAAAAAAAAAAAAAAAAAAAAAAAAAAAAAAAAAAAAAAAAAAAAAAAAAAAAAAAAAAAAAAAAAAAAAAAAAAAAAAAAAAAAAAAAAAAAAAAAAAAAAAAAAAAAAAAAAAAAAAAAAAAAAAAAAAAAAAAAAAAAAAAAAAAAAAAAAAAAAAAAAAAAAAAAAAAAAAAAAAAAAAAAAAAAAAAAAAAAAAAAAAAAAAAAAAAAAAAAAAAAAAAAAAAAAAAAAAAAAAAAAAAAAAAAAAAAAAAAAAAAAAAAAAAAAAAAAAAAAAAAAAAAAAAAAAAAAAAAAAAAAAAAAAAAAAAAAAAAAAAAAAAAAAAAAAAAAAAAAAAAAAAAAAAAAAAAAAAAAAAAAAAAAAAAAAAAAAAAAAAAAAAAAAAAAAAAAAAAAAAAAAAAAAAAAAAAAAAAAAAAAAAAAAAAAAAAAAAAAAAAAAAAAAAAAAAAAAAAAAAAAAAAAAAAAAAAAAAAAAAAAAAAAAAAAAAAAAAAAAAAAAAAAAAAAAAAAAAAAAAAAAAAAAAAAAAAAAAAAAAAAAAAAAAAAAAAAAAAAAAAAAAAAAAAAAAAAAAAAAAAAAAAAAAAAAAAAAAAAAAAAAAAAAAAAAAAAAAAAAAAAAAAAAAAAAAAAAAAAAAAAAAAAAAAAAAAAAAAAAAAAAAAAAAAAAAAAAAAAAAAAAAAAAAAAAAAAAAAAAAAAAAAAAAAAAAAAAAAAAAAAAAAAAAAAAAAAAAAAAAAAAAAAAAAAAAAAAAAAAAAAAAAAAAAAAAAAAAAAAAAAAAAAAAAAAAAAAAAAAAAAAAAAAAAAAAAAAAAAAAAAAAAAAAAAAAAAAAAAAAAAAAAAAAAAAAAAAAAAAAAAAAAAAAAAAAAAAAAAAAAAAAAAAAAAAAAAAAAAAAAAAAAAAAAAAAAAAAAAAAAAAAAAAAAAAAAAAAAAAAH9//wJ/v78Ef7//BH9//wIAAAAAAAAAAAAAAAAAAAAAAAAAAAAAAAAAAAAAAAAAAAAAAAAAAAAAAAAAAAAAAAAAAAAAAAAAAAAAAAAAAAAAAAAAAAAAAAAAAAAAAAAAAAAAAAAAAAAAAAAAAAAAAAAAAAAAAAAAAAAAAAAAAAAAAAAAAH9/fwJ/v78Ef7//BH///wIAAAAAAAAAAAAAAAAAAAAAAAAAAAAAAAAAAAAAAAAAAAAAAAAAAAAAAAAAAAAAAAAAAAAAAAAAAAAAAAAAAAAAAAAAAAAAAAAAAAAAAAAAAAAAAAAAAAAAAAAAAAAAAAAAAAAAAAAAAAAAAAAAAAAAAAAAAAAAAAAAAAAAAAAAAAAAAAAAAAAAAAAAAAAAAAAAAAAAf3//AgAAAAAAAAAAAAAAAAAAAAB/f/8CAAAAAAAAAAAAAAAAAAAAAAAAAAAAAAAAAAAAAAAAAAAAAAAAAAAAAAAAAAAAAAAAAAAAAAAAAAAAAAAAAAAAAAAAAAAAAAAAAAAAAAAAAAAAAAAAAAAAAAAAAAAAAAAAAAAAAAAAAAAAAAAAf3//AgAAAAAAAAAAAAAAAAAAAAB/f38CAAAAAAAAAAAAAAAAAAAAAAAAAAAAAAAAAAAAAAAAAAAAAAAAAAAAAAAAAAAAAAAAAAAAAAAAAAAAAAAAAAAAAAAAAAAAAAAAAAAAAAAAAAAAAAAAAAAAAAAAAAAAAAAAAAAAAAAAAAAAAAAAAAAAAAAAAAAAAAAAAAAAAAAAAAAAAAAAAAAAAAAAAAB///8CAAAAAGmnzSlrr9dtarDXbmeq1CoAAAAAf///AgAAAAAAAAAAAAAAAAAAAAAAAAAAAAAAAAAAAAAAAAAAAAAAAAAAAAAAAAAAAAAAAAAAAAAAAAAAAAAAAAAAAAAAAAAAAAAAAAAAAAAAAAAAAAAAAAAAAAAAAAAAAAAAAAAAAABVqqoDAAAAAGenzyBqrthpbLDWcWmq0jMAAAAAf39/AgD//wEAAAAAAAAAAAAAAAAAAAAAAAAAAAAAAAAAAAAAAAAAAAAAAAAAAAAAAAAAAAAAAAAAAAAAAAAAAAAAAAAAAAAAAAAAAAAAAAAAAAAAAAAAAAAAAAAAAAAAAAAAAAAAAAAAAAAAAAAAAAAAAAAAAAAAAAAAAAAAAAAAAAAAAAAAAaqq/wMAAAAAaqzUbG2x2vVxuOL/cbji/22y2/ZprdRtAAAAAKqq/wMAAAAAAAAAAAAAAAAAAAAAAAAAAAAAAAAAAAAAAAAAAAAAAAAAAAAAAAAAAAAAAAAAAAAAAAAAAAAAAAAAAAAAAAAAAAAAAAAAAAAAAAAAAAAAAAAAAAAAAAAAAH+/vwQAAAAAZ6vSVm6z3OxxuOL/crjj/2yx2f1rrtWCAAAAAH9/fwIA//8BAAAAAAAAAAAAAAAAAAAAAAAAAAAAAAAAAAAAAAAAAAAAAAAAAAAAAAAAAAAAAAAAAAAAAAAAAAAAAAAAAAAAAAAAAAAAAAAAAAAAAAAAAAAAAAAAAAAAAAAAAAAAAAAAAAAAAAAAAAAAAAAAAAAAAAAAAAAAAAABVaqqAwAAAABqrtZ4cLbg/2yw2P9qrdb7aq3V+2yw2f9wtuH/aqzScwAAAACqqv8DAAAAAAAAAAAAAAAAAAAAAAAAAAAAAAAAAAAAAAAAAAAAAAAAAAAAAAAAAAAAAAAAAAAAAAAAAAAAAAAAAAAAAAAAAAAAAAAAAAAAAAAAAAAAAAAAf7+/BAAAAABorNFabbLb/W6y2/9qrdX7aq3W+2uu1/5yueT/bK3WkAAAAAAA//8BAP//AQAAAAAAAAAAAAAAAAAAAAAAAAAAAAAAAAAAAAAAAAAAAAAAAAAAAAAAAAAAAAAAAAAAAAAAAAAAAAAAAAAAAAAAAAAAAAAAAAAAAAAAAAAAAAAAAAAAAAAAAAAAAAAAAAAAAAAAAAAAAAAAAAAAAAF/f38CAAAAAGqt1YFxt+H/bLDY/Gqt1P5rrtb/a67W/2qu1f1ssNj8cLbg/2qs0nMAAAAAqqr/AwAAAAAAAAAAAAAAAAAAAAAAAAAAAAAAAAAAAAAAAAAAAAAAAAAAAAAAAAAAAAAAAAAAAAAAAAAAAAAAAAAAAAAAAAAAAAAAAAAAAAB/v78EAAAAAGis0Vpus9z8bK/Y/mqt1f1rrtb/a67W/2qt1f5rrtb7cbnj/2yv15kAAAAAAAD/AQD//wEAAAAAAAAAAAAAAAAAAAAAAAAAAAAAAAAAAAAAAAAAAAAAAAAAAAAAAAAAAAAAAAAAAAAAAAAAAAAAAAAAAAAAAAAAAAAAAAAAAAAAAAAAAAAAAAAAAAAAAAAAAAAAAAAAAAAAAAAAAQB/fwIAAAAAaqvUiXG44/9sr9f8a63V/muu1v9rrtb/a67W/2uu1v9rrdT+a6/X/XC24P9qrNJzAAAAAKqq/wMAAAAAAAAAAAAAAAAAAAAAAAAAAAAAAAAAAAAAAAAAAAAAAAAAAAAAAAAAAAAAAAAAAAAAAAAAAAAAAAAAAAAAAAAAAH+/vwQAAAAAaKzRWm6z3PxssNj+aqzU/muu1v9rrtb/a67W/2uu1v9rrtb/a67X+3K65P9qrtehZpnMBQB//wIA//8BAAAAAAAAAAAAAAAAAAAAAAAAAAAAAAAAAAAAAAAAAAAAAAAAAAAAAAAAAAAAAAAAAAAAAAAAAAAAAAAAAAAAAAAAAAAAAAAAAAAAAAAAAAAAAAAAAAAAAAAAAAAAAAAAVaqqAwAAAABqr9dgc7rl/2uu1vxrrdX+a67W/2uu1v9rrtb/a67W/2uu1v9rrtb/a63U/muv1/1wtuD/aqzScwAAAACqqv8DAAAAAAAAAAAAAAAAAAAAAAAAAAAAAAAAAAAAAAAAAAAAAAAAAAAAAAAAAAAAAAAAAAAAAAAAAAAAAAAAf7+/BAAAAABorNFabrPc/Gyw2P5qrNT+a67W/2uu1v9rrtb/a67W/2uu1v9rrtb/a67W/2uu1vp0vOj/aqzVfAAAAABVVaoDAAAAAAAAAAAAAAAAAAAAAAAAAAAAAAAAAAAAAAAAAAAAAAAAAAAAAAAAAAAAAAAAAAAAAAAAAAAAAAAAAAAAAAAAAAAAAAAAAAAAAAAAAAAAAAAAAAAAAAAAAAAAAP8BAP//Af///wFqrtbCcLfg/Wut1fxrrtb/a67W/2uu1v9rrtb/a67W/2uu1v9rrtb/a67W/2ut1P5rr9f9cLbg/2qs0nMAAAAAqqr/AwAAAAAAAAAAAAAAAAAAAAAAAAAAAAAAAAAAAAAAAAAAAAAAAAAAAAAAAAAAAAAAAAAAAAB/v78EAAAAAGis0Vpus9z8bLDY/mqs1P5rrtb/a67W/2uu1v9rrtb/a67W/2uu1v9rrtb/a67W/2qu1f1us939aq7V3m222gcAAAAAAP//AQAAAAAAAAAAAAAAAAAAAAAAAAAAAAAAAAAAAAAAAAAAAAAAAAAAAAAAAAAAAAAAAAAAAAAAAAAAAAAAAAAAAAAAAAAAAAAAAAAAAAAAAAAAAAAAAAAAAAAAAP8BAAAAAFWq/wNqrdXSbrTd/Wqu1f1rrtb/a67W/2uu1v9rrtb/a67W/2uu1v9rrtb/a67W/2uu1v9rrdT+a6/X/XC24P9qrNJzAAAAAKqq/wMAAAAAAAAAAAAAAAAAAAAAAAAAAAAAAAAAAAAAAAAAAAAAAAAAAAAAAAAAAH+/vwQAAAAAaKzRWm6z3PxssNj+aqzU/muu1v9rrtb/a67W/2uu1v9rrtb/a67W/2uu1v9rrtb/a67W/2ut1f5ssNj+aq3V7mqq1AwAAAAAAP//AQAAAAAAAAAAAAAAAAAAAAAAAAAAAAAAAAAAAAAAAAAAAAAAAAAAAAAAAAAAAAAAAAAAAAAAAAAAAAAAAAAAAAAAAAAAAAAAAAAAAAAAAAAAAAAAAAAAAAAAAAAAVaqqAwAAAABqrdajc7vm/2ut1fprrtb/a67W/2uu1v9rrtb/a67W/2uu1v9rrtb/a67W/2uu1v9rrtb/a63U/muv1/1wtuD/aqzScwAAAACqqv8DAAAAAAAAAAAAAAAAAAAAAAAAAAAAAAAAAAAAAAAAAAAAAAAAf7+/BAAAAABorNFabrPc/Gyw2P5qrNT+a67W/2uu1v9rrtb/a67W/2uu1v9rrtb/a67W/2uu1v9rrtb/a67W/2qt1ftxuOL/aq7Wv39/fwL///8BAAAAAAAAAAAAAAAAAAAAAAAAAAAAAAAAAAAAAAAAAAAAAAAAAAAAAAAAAAAAAAAAAAAAAAAAAAAAAAAAAAAAAAAAAAAAAAAAAAAAAAAAAAAAAAAAAAAAAAAAAAAAAAAAf3//AgAAAABoqtcnbLDY6W+03f9prdT9a67W/2uu1v9rrtb/a67W/2uu1v9rrtb/a67W/2uu1v9rrtb/a67W/2ut1P5rr9f9cLbg/2qs0nMAAAAAqqr/AwAAAAAAAAAAAAAAAAAAAAAAAAAAAAAAAAAAAAB/v78EAAAAAGis0Vpus9z8bLDY/mqs1P5rrtb/a67W/2uu1v9rrtb/a67W/2uu1v9rrtb/a67W/2uu1v9rrtb/aq3V/W2x2v9utNz1bLHTOwAAAABVqqoDAAAAAAAAAAAAAAAAAAAAAAAAAAAAAAAAAAAAAAAAAAAAAAAAAAAAAAAAAAAAAAAAAAAAAAAAAAAAAAAAAAAAAAAAAAAAAAAAAAAAAAAAAAAAAAAAAAAAAAAAAAAAAAAAAAAAAAB//wIAAAAAZ6rUNm6x2+putNz/aa3U/Wuu1v9rrtb/a67W/2uu1v9rrtb/a67W/2uu1v9rrtb/a67W/2uu1v9rrdT+a6/X/XC24P9qrNJzAAAAAKqq/wMAAAAAAAAAAAAAAAAAAAAAAAAAAH+/vwQAAAAAaKzRWm6z3PxssNj+aqzU/muu1v9rrtb/a67W/2uu1v9rrtb/a67W/2uu1v9rrtb/a67W/2uu1v9qrdX9bbHZ/22z2/Zoq9BMAAAAAH9//wIAAAAAAAAAAAAAAAAAAAAAAAAAAAAAAAAAAAAAAAAAAAAAAAAAAAAAAAAAAAAAAAAAAAAAAAAAAAAAAAAAAAAAAAAAAAAAAAAAAAAAAAAAAAAAAAAAAAAAAAAAAAAAAAAAAAAAAAAAAAAAAABVqv8DAAAAAGeq1DZusdvqbrTc/2mt1P1rrtb/a67W/2uu1v9rrtb/a67W/2uu1v9rrtb/a67W/2uu1v9rrtb/a63U/muv1/1wtuD/aqzScwAAAACqqv8DAAAAAAAAAAAAAAAAf7+/BAAAAABorNFabrPc/Gyw2P5qrNT+a67W/2uu1v9rrtb/a67W/2uu1v9rrtb/a67W/2uu1v9rrtb/a67W/2qt1f1tsdn/bbPb9mur0EwAAAAAqqr/AwAAAAAAAAAAAAAAAAAAAAAAAAAAAAAAAAAAAAAAAAAAAAAAAAAAAAAAAAAAAAAAAAAAAAAAAAAAAAAAAAAAAAAAAAAAAAAAAAAAAAAAAAAAAAAAAAAAAAAAAAAAAAAAAAAAAAAAAAAAAAAAAAAAAAAAAAAAP7+/BAAAAABnqtQ2brHb6m603P9prdT9a67W/2uu1v9rrtb/a67W/2uu1v9rrtb/a67W/2uu1v9rrtb/a67W/2ut1P5rr9f9cLbg/2qs0nMAAAAAqqr/AwAAAAF/v78EAAAAAGis0Vpus9z8bLDY/mqs1P5rrtb/a67W/2uu1v9rrtb/a67W/2uu1v9rrtb/a67W/2uu1v9rrtb/aq3V/W2x2f9ts9v2a6vQTAAAAAB/v78EAAAAAAAAAAAAAAAAAAAAAAAAAAAAAAAAAAAAAAAAAAAAAAAAAAAAAAAAAAAAAAAAAAAAAAAAAAAAAAAAAAAAAAAAAAAAAAAAAAAAAAAAAAAAAAAAAAAAAAAAAAAAAAAAAAAAAAAAAAAAAAAAAAAAAAAAAAAAAAAAAAAAAD+/vwQAAAAAZ6rUNm6x2+putNz/aa3U/Wuu1v9rrtb/a67W/2uu1v9rrtb/a67W/2uu1v9rrtb/a67W/2uu1v9rrdT+a6/X/XC24P9qrNJzAAAAAGbMzAUAAAAAaKzRWm6z3PxssNj+aqzU/muu1v9rrtb/a67W/2uu1v9rrtb/a67W/2uu1v9rrtb/a67W/2uu1v9qrdX9bbHZ/22z2/Zrq9BMAAAAAH+/vwQAAAAAAAAAAAAAAAAAAAAAAAAAAAAAAAAAAAAAAAAAAAAAAAAAAAAAAAAAAAAAAAAAAAAAAAAAAAAAAAAAAAAAAAAAAAAAAAAAAAAAAAAAAAAAAAAAAAAAAAAAAAAAAAAAAAAAAAAAAAAAAAAAAAAAAAAAAAAAAAAAAAAAAAAAAAAAAAA/v78EAAAAAGeq1DZusdvqbrTc/2mt1P1rrtb/a67W/2uu1v9rrtb/a67W/2uu1v9rrtb/a67W/2uu1v9rrtb/a63U/muv1/1wtuD/a63VdAAAAABqrdRbbrPc/Gyw2P5qrNT+a67W/2uu1v9rrtb/a67W/2uu1v9rrtb/a67W/2uu1v9rrtb/a67W/2qt1f1tsdn/bbPb9mur0EwAAAAAf7+/BAAAAAAAAAAAAAAAAAAAAAAAAAAAAAAAAAAAAAAAAAAAAAAAAAAAAAAAAAAAAAAAAAAAAAAAAAAAAAAAAAAAAAAAAAAAAAAAAAAAAAAAAAAAAAAAAAAAAAAAAAAAAAAAAAAAAAAAAAAAAAAAAAAAAAAAAAAAAAAAAAAAAAAAAAAAAAAAAAAAAAAAAAAAP7+/BAAAAABnqtQ2brHb6m603P9prdT9a67W/2uu1v9rrtb/a67W/2uu1v9rrtb/a67W/2uu1v9rrtb/a67W/2ut1P5ssNj+bLDY/2yu1qVqrtb2bbLa/2qs1P5rrtb/a67W/2uu1v9rrtb/a67W/2uu1v9rrtb/a67W/2uu1v9rrtb/aq3V/W2x2f9ts9v2a6vQTAAAAAB/v78EAAAAAAAAAAAAAAAAAAAAAAAAAAAAAAAAAAAAAAAAAAAAAAAAAAAAAAAAAAAAAAAAAAAAAAAAAAAAAAAAAAAAAAAAAAAAAAAAAAAAAAAAAAAAAAAAAAAAAAAAAAAAAAAAAAAAAAAAAAAAAAAAAAAAAAAAAAAAAAAAAAAAAAAAAAAAAAAAAAAAAAAAAAAAAAAAAAAAAD+/vwQAAAAAZ6rUNm6x2+putNz/aa3U/Wuu1v9rrtb/a67W/2uu1v9rrtb/a67W/2uu1v9rrtb/a67W/2uu1v9rrdX/a67W/nG44v9rr9f/aq3V/muu1v9rrtb/a67W/2uu1v9rrtb/a67W/2uu1v9rrtb/a67W/2uu1v9qrdX9bbHZ/22z2/Zrq9BMAAAAAH+/vwQAAAAAAAAAAAAAAAAAAAAAAAAAAAAAAAAAAAAAAAAAAAAAAAAAAAAAAAAAAAAAAAAAAAAAAAAAAAAAAAAAAAAAAAAAAAAAAAAAAAAAAAAAAAAAAAAAAAAAAAAAAAAAAAAAAAAAAAAAAAAAAAAAAAAAAAAAAAAAAAAAAAAAAAAAAAAAAAAAAAAAAAAAAAAAAAAAAAAAAAAAAAAAAAA/v78EAAAAAGeq1DZusdvqbrTc/2mt1P1rrtb/a67W/2uu1v9rrtb/a67W/2uu1v9rrtb/a67W/2uu1v9rrtb/a67W/2uu1fxrrdX+a67W/2uu1v9rrtb/a67W/2uu1v9rrtb/a67W/2uu1v9rrtb/a67W/2qt1f1tsdn/bbPb9mur0EwAAAAAf7+/BAAAAAAAAAAAAAAAAAAAAAAAAAAAAAAAAAAAAAAAAAAAAAAAAAAAAAAAAAAAAAAAAAAAAAAAAAAAAAAAAAAAAAAAAAAAAAAAAAAAAAAAAAAAAAAAAAAAAAAAAAAAAAAAAAAAAAAAAAAAAAAAAAAAAAAAAAAAAAAAAAAAAAAAAAAAAAAAAAAAAAAAAAAAAAAAAAAAAAAAAAAAAAAAAAAAAAAAAAAAP7+/BAAAAABnqtQ2brHb6m603P9prdT9a67W/2uu1v9rrtb/a67W/2uu1v9rrtb/a67W/2uu1v9rrtb/a67W/2uu1v9rrtb/a67W/2uu1v9rrtb/a67W/2uu1v9rrtb/a67W/2uu1v9rrtb/aq3V/W2x2f9ts9v2a6vQTAAAAAB/v78EAAAAAAAAAAAAAAAAAAAAAAAAAAAAAAAAAAAAAAAAAAAAAAAAAAAAAAAAAAAAAAAAAAAAAAAAAAAAAAAAAAAAAAAAAAAAAAAAAAAAAAAAAAAAAAAAAAAAAAAAAAAAAAAAAAAAAAAAAAAAAAAAAAAAAAAAAAAAAAAAAAAAAAAAAAAAAAAAAAAAAAAAAAAAAAAAAAAAAAAAAAAAAAAAAAAAAAAAAAAAAAAAAAAAAD+/vwQAAAAAZ6rUNm6x2+putNz/aa3U/Wuu1v9rrtb/a67W/2uu1v9rrtb/a67W/2uu1v9rrtb/a67W/2uu1v9rrtb/a67W/2uu1v9rrtb/a67W/2uu1v9rrtb/a67W/2uu1v9qrdX9bbHZ/22z2/Zrq9BMAAAAAH+/vwQAAAAAAAAAAAAAAAAAAAAAAAAAAAAAAAAAAAAAAAAAAAAAAAAAAAAAAAAAAAAAAAAAAAAAAAAAAAAAAAAAAAAAAAAAAAAAAAAAAAAAAAAAAAAAAAAAAAAAAAAAAAAAAAAAAAAAAAAAAAAAAAAAAAAAAAAAAAAAAAAAAAAAAAAAAAAAAAAAAAAAAAAAAAAAAAAAAAAAAAAAAAAAAAAAAAAAAAAAAAAAAAAAAAAAAAAAAAAAAAA/v78EAAAAAGeq1DZusdvqbrTc/2mt1P1rrtb/a67W/2uu1v9rrtb/a67W/2uu1v9rrtb/a67W/2uu1v9rrtb/a67W/2uu1v9rrtb/a67W/2uu1v9rrtb/a67W/2qt1f1tsdn/bbPb9mur0EwAAAAAf7+/BAAAAAAAAAAAAAAAAAAAAAAAAAAAAAAAAAAAAAAAAAAAAAAAAAAAAAAAAAAAAAAAAAAAAAAAAAAAAAAAAAAAAAAAAAAAAAAAAAAAAAAAAAAAAAAAAAAAAAAAAAAAAAAAAAAAAAAAAAAAAAAAAAAAAAAAAAAAAAAAAAAAAAAAAAAAAAAAAAAAAAAAAAAAAAAAAAAAAAAAAAAAAAAAAAAAAAAAAAAAAAAAAAAAAAAAAAAAAAAAAAAAAAAAAAAAP7+/BAAAAABnqtQ2brHb6m603P9prdT9a67W/2uu1v9rrtb/a67W/2uu1v9rrtb/a67W/2uu1v9rrtb/a67W/2uu1v9rrtb/a67W/2uu1v9rrtb/aq3V/W2x2f9ts9v2a6vQTAAAAAB/v78EAAAAAAAAAAAAAAAAAAAAAAAAAAAAAAAAAAAAAAAAAAAAAAAAAAAAAAAAAAAAAAAAAAAAAAAAAAAAAAAAAAAAAAAAAAAAAAAAAAAAAAAAAAAAAAAAAAAAAAAAAAAAAAAAAAAAAAAAAAAAAAAAAAAAAAAAAAAAAAAAAAAAAAAAAAAAAAAAAAAAAAAAAAAAAAAAAAAAAAAAAAAAAAAAAAAAAAAAAAAAAAAAAAAAAAAAAAAAAAAAAAAAAAAAAAAAAAAAAAAAAD+/vwQAAAAAZ6rUNm6x2+putNz/aa3U/Wuu1v9rrtb/a67W/2uu1v9rrtb/a67W/2uu1v9rrtb/a67W/2uu1v9rrtb/a67W/2uu1v9qrdX9bbHZ/22z2/Zrq9BMAAAAAH+/vwQAAAAAAAAAAAAAAAAAAAAAAAAAAAAAAAAAAAAAAAAAAAAAAAAAAAAAAAAAAAAAAAAAAAAAAAAAAAAAAAAAAAAAAAAAAAAAAAAAAAAAAAAAAAAAAAAAAAAAAAAAAAAAAAAAAAAAAAAAAAAAAAAAAAAAAAAAAAAAAAAAAAAAAAAAAAAAAAAAAAAAAAAAAAAAAAAAAAAAAAAAAAAAAAAAAAAAAAAAAAAAAAAAAAAAAAAAAAAAAAAAAAAAAAAAAAAAAAAAAAAAAAAAAAAAAAA/v78EAAAAAGeq1DZusdvqbrTc/2mt1P1rrtb/a67W/2uu1v9rrtb/a67W/2uu1v9rrtb/a67W/2uu1v9rrtb/a67W/2qt1f1tsdn/bbPb9mur0EwAAAAAf7+/BAAAAAAAAAAAAAAAAAAAAAAAAAAAAAAAAAAAAAAAAAAAAAAAAAAAAAAAAAAAAAAAAAAAAAAAAAAAAAAAAAAAAAAAAAAAAAAAAAAAAAAAAAAAAAAAAAAAAAAAAAAAAAAAAAAAAAAAAAAAAAAAAAAAAAAAAAAAAAAAAAAAAAAAAAAAAAAAAAAAAAAAAAAAAAAAAAAAAAAAAAAAAAAAAAAAAAAAAAAAAAAAAAAAAAAAAAAAAAAAAAAAAAAAAAAAAAAAAAAAAAAAAAAAAAAAAAAAAAAAAAAAP7+/BAAAAABnqtQ2brHb6m603P9prdT9a67W/2uu1v9rrtb/a67W/2uu1v9rrtb/a67W/2uu1v9rrtb/aq3V/W2x2f9ts9v2a6vQTAAAAAB/v78EAAAAAAAAAAAAAAAAAAAAAAAAAAAAAAAAAAAAAAAAAAAAAAAAAAAAAAAAAAAAAAAAAAAAAAAAAAAAAAAAAAAAAAAAAAAAAAAAAAAAAAAAAAAAAAAAAAAAAAAAAAAAAAAAAAAAAAAAAAAAAAAAAAAAAAAAAAAAAAAAAAAAAAAAAAAAAAAAAAAAAAAAAAAAAAAAAAAAAAAAAAAAAAAAAAAAAAAAAAAAAAAAAAAAAAAAAAAAAAAAAAAAAAAAAAAAAAAAAAAAAAAAAAAAAAAAAAAAAAAAAAAAAAAAAAAAAD+/vwQAAAAAZ6rUNm6x2+putNz/aa3U/Wuu1v9rrtb/a67W/2uu1v9rrtb/a67W/2uu1v9qrdX9bbHZ/22z2/Zrq9BMAAAAAH+/vwQAAAAAAAAAAAAAAAAAAAAAAAAAAAAAAAAAAAAAAAAAAAAAAAAAAAAAAAAAAAAAAAAAAAAAAAAAAAAAAAAAAAAAAAAAAAAAAAAAAAAAAAAAAAAAAAAAAAAAAAAAAAAAAAAAAAAAAAAAAAAAAAAAAAAAAAAAAAAAAAAAAAAAAAAAAAAAAAAAAAAAAAAAAAAAAAAAAAAAAAAAAAAAAAAAAAAAAAAAAAAAAAAAAAAAAAAAAAAAAAAAAAAAAAAAAAAAAAAAAAAAAAAAAAAAAAAAAAAAAAAAAAAAAAAAAAAAAAAAAAAAAAA/v78EAAAAAGeq1DZusdvqbrTc/2mt1P1rrtb/a67W/2uu1v9rrtb/a67W/2qt1f1tsdn/bbPb9mur0EwAAAAAf7+/BAAAAAAAAAAAAAAAAAAAAAAAAAAAAAAAAAAAAAAAAAAAAAAAAAAAAAAAAAAAAAAAAAAAAAAAAAAAAAAAAAAAAAAAAAAAAAAAAAAAAAAAAAAAAAAAAAAAAAAAAAAAAAAAAAAAAAAAAAAAAAAAAAAAAAAAAAAAAAAAAAAAAAAAAAAAAAAAAAAAAAAAAAAAAAAAAAAAAAAAAAAAAAAAAAAAAAAAAAAAAAAAAAAAAAAAAAAAAAAAAAAAAAAAAAAAAAAAAAAAAAAAAAAAAAAAAAAAAAAAAAAAAAAAAAAAAAAAAAAAAAAAAAAAAAAAAAAAP7+/BAAAAABnqtQ2brHb6m603P9qrtX8a67W/2uu1v9rrtb/aq3V/W2x2f9ts9v2a6vQTAAAAAB/v78EAAAAAAAAAAAAAAAAAAAAAAAAAAAAAAAAAAAAAAAAAAAAAAAAAAAAAAAAAAAAAAAAAAAAAAAAAAAAAAAAAAAAAAAAAAAAAAAAAAAAAAAAAAAAAAAAAAAAAAAAAAAAAAAAAAAAAAAAAAAAAAAAAAAAAAAAAAAAAAAAAAAAAAAAAAAAAAAAAAAAAAAAAAAAAAAAAAAAAAAAAAAAAAAAAAAAAAAAAAAAAAAAAAAAAAAAAAAAAAAAAAAAAAAAAAAAAAAAAAAAAAAAAAAAAAAAAAAAAAAAAAAAAAAAAAAAAAAAAAAAAAAAAAAAAAAAAAAAAAAAAAAAAD+/vwQAAAAAZ6rUNm6y2+pvtd7/aq3V+muu1fxrrdX6bbLb/22z2/Zrq9BMAAAAAH+/vwQAAAAAAAAAAAAAAAAAAAAAAAAAAAAAAAAAAAAAAAAAAAAAAAAAAAAAAAAAAAAAAAAAAAAAAAAAAAAAAAAAAAAAAAAAAAAAAAAAAAAAAAAAAAAAAAAAAAAAAAAAAAAAAAAAAAAAAAAAAAAAAAAAAAAAAAAAAAAAAAAAAAAAAAAAAAAAAAAAAAAAAAAAAAAAAAAAAAAAAAAAAAAAAAAAAAAAAAAAAAAAAAAAAAAAAAAAAAAAAAAAAAAAAAAAAAAAAAAAAAAAAAAAAAAAAAAAAAAAAAAAAAAAAAAAAAAAAAAAAAAAAAAAAAAAAAAAAAAAAAAAAAAAAAAAAAAAAAA/v78EAAAAAGmt0zVustvjdLzn/3C24f9zu+b/brPc72yt0ksAAAAAf7+/BAAAAAAAAAAAAAAAAAAAAAAAAAAAAAAAAAAAAAAAAAAAAAAAAAAAAAAAAAAAAAAAAAAAAAAAAAAAAAAAAAAAAAAAAAAAAAAAAAAAAAAAAAAAAAAAAAAAAAAAAAAAAAAAAAAAAAAAAAAAAAAAAAAAAAAAAAAAAAAAAAAAAAAAAAAAAAAAAAAAAAAAAAAAAAAAAAAAAAAAAAAAAAAAAAAAAAAAAAAAAAAAAAAAAAAAAAAAAAAAAAAAAAAAAAAAAAAAAAAAAAAAAAAAAAAAAAAAAAAAAAAAAAAAAAAAAAAAAAAAAAAAAAAAAAAAAAAAAAAAAAAAAAAAAAAAAAAAAAAAAAAAAAAAVar/AwAAAABkqsghbLDZiGqu1qxqrtaSa6rRLQAAAABVqv8DAAAAAAAAAAAAAAAAAAAAAAAAAAAAAAAAAAAAAAAAAAAAAAAAAAAAAAAAAAAAAAAAAAAAAAAAAAAAAAAAAAAAAAAAAAAAAAAAAAAAAAAAAAAAAAAAAAAAAAAAAAAAAAAAAAAAAAAAAAAAAAAAAAAAAAAAAAAAAAAAAAAAAAAAAAAAAAAAAAAAAAAAAAAAAAAAAAAAAAAAAAAAAAAAAAAAAAAAAAAAAAAAAAAAAAAAAAAAAAAAAAAAAAAAAAAAAAAAAAAAAAAAAAAAAAAAAAAAAAAAAAAAAAAAAAAAAAAAAAAAAAAAAAAAAAAAAAAAAAAAAAAAAAAAAAAAAAAAAAAAAAAAAAAAAAAAAAAAAH///wIAAAAAAAAAAAAAAAAAAAAAAAAAAH///wIAAAAAAAAAAAAAAAAAAAAAAAAAAAAAAAAAAAAAAAAAAAAAAAAAAAAAAAAAAAAAAAAAAAAAAAAAAAAAAAAAAAAAAAAAAAAAAAAAAAAAAAAAAAAAAAAAAAAAAAAAAAAAAAAAAAAAAAAAAAAAAAAAAAAAAAAAAAAAAAAAAAAAAAAAAAAAAAAAAAAAAAAAAAAAAAAAAAAAAAAAAAAAAAAAAAAAAAAAAAAAAAAAAAAAAAAAAAAAAAAAAAAAAAAAAAAAAAAAAAAAAAAAAAAAAAAAAAAAAAAAAAAAAAAAAAAAAAAAAAAAAAAAAAAAAAAAAAAAAAAAAAAAAAAAAAAAAAAAAAAAAAAAAAAAAAAAAAAAAAAAAAAAAAB/f38Cf3+/BP///wFVqv8Df3//AgAAAAAAAAAAAAAAAAAAAAAAAAAAAAAAAAAAAAAAAAAAAAAAAAAAAAAAAAAAAAAAAAAAAAAAAAAAAAAAAAAAAAAAAAAAAAAAAAAAAAAAAAAAAAAAAAAAAAAAAAAAAAAAAAAAAAAAAAAAAAAAAAAAAAAAAAAAAAAAAAAAAAAAAAAAAAAAAAAAAAAAAAAAAAAAAAAAAAAAAAAAAAAAAAAAAAAAAAAAAAAAAAAAAAAAAAAAAAAAAAAAAAAAAAAAAAAAAAAAAAAAAAAAAAAAAAAAAAAAAAAAAAAAAAAAAAAAAAAAAAAAAAAAAAAAAAAAAAAAAAAAAAAAAAAAAAAAAAAAAAAAAAAAAAAAAAAAAAAAAAAAAAAAAAAAAAAAAAAAAAAAAAAAAAAAAAAAAAAAAAAAAAAAAAAAAAAAAAAAAAAAAAAAAAAAAAAAAAAAAAAAAAAAAAAAAAAAAAAAAAAAAAAAAAAAAAAAAAAAAAAAAAAAAAAAAAAAAAAAAAAAAAAAAAAAAAAAAAAAAAAAAAAAAAAAAAAAAAAAAAAAAAAAAAAAAAAAAAAAAAAAAAAAAAAAAAAAAAAAAAAAAAAAAAAAAAAAAAAAAAAAAAAAAAAAAAAAAAAAAAAAAAAAAAAAAAAAAAAAAAAAAAAAAAAAAAAAAAAAAAAAAAAAAAAAAAAAAAAAAAAAAAAAAAAAAAAAAAAAAAAAAAAAAAAAAAAAAAAAAAAAAAAAAAAAAAAAAAAAAAAAAAAAAAAAAAAAAAAAAAAAAAAAAAAAAAAAAAAAAAAAAAAAAAAAAAAAAAAAAAAAAAAAAAAAAAAAAAAAAAAAAAAAAAAAAAAAAAAAAAAAAAAAAAAAAAAAAAAAAAAAAAAAAAAAAAAAAAAAAAAAAAAAAAAAAAAAAAAAAAAAAAAAAAAAAAAAAAAAAAAAAAAAAAAAAAAAAAAAAAAAAAAAAAAAAAAAAAAAAAAAAAAAAAAAAAAAAAAAAAAAAAAAAAAAAAAAAAAAAAAAAAAAAAAAAAAAAAAAAAAAAAAAAAAAAAAAAAAAAAAAAAAAAAAAAAAAAAAAAAAAAAAAAAAAAAAAAAAAAAAAAAAAAAAAAAAAAAAAAAAAAAAAAAAAAAAAAAAAAAAAAAAAAAAAAAAAAAAAAAAAAAAAAAAAAAAAAAAAAAAAAAAAAAAAAAAAAAAAAAAAAAAAAAAAAAAAAAAAAAAAAAAAAAAAAAAAAAAAAAAAAAAAAAAAAAAAAAAAAAAAAAAAAAAAAAAAAAAAAAAAAAAAAAAAAAAAAAAAAAAAAAAAAAAAAAAAAAAAAAAAAAAAAAAAAAAAAAAAAAAAAAAAAAAAAAAAAAAAAAAAAAAAAAAAAAAAAAAAAAAAAAAAAAAAAAAAAAAAAAAAAAAAAAAAAAAAAAAAAAAAAAAAAAAAAAAAAAAAAAAAAAAAAAAAAAAAAAAAAAAAAAAAAAAAAAAAAAAAAAAAAAAAAAAAAAAAAAAAAAAAAAAAAAAAAAAAAAAAAAAAAAAAAAAAAAAAAAAAAAAAAAAAAAAAAAAAAAAAAAAAAAAAAAAAAAAAAAAAAAAAAAAAAAAAAAAAAAAAAAAAAAAAAAAAAAAAAAAAAAAAAAAAAAAAAAAAAAAAAAAAAAAAAAAAAAAAAAAAAAAAAAAAAAAAAAAAAAAAAAAAAAAAAAAAAAAAAAAAAAAAAAAAAAAAAAAAAAAAAAAAAAAAAAAAAAAAAAAAAAAAAAAAAAAAAAAAAAAAAAAAAAAAAAAAAAAAAAAAAAAAAAAAAAAAAAAAAAAAAAAAAAAAAAAAAAAAAAAAAAAAAAAAAAAAAAAAAAAAAAAAAAAAAAAAAAAAAAAAAAAAAAAAAAAAAAAAAAAAAAAAAAAAAAAAAAAAAAAAAAAAAAAAAAAAAAAAAAAAAAAAAAAAAAAAAAAAAAAAAAAAAAAAAAAAAAAAAAAAAAAAAAAAAAAAAAAAAAAAAAAAAAAAAAAAAAAAAAAAAAAAAAAAAAAAAAAAAAAAAAAAAAAAAAAAAAAAAAAAAAAAAAAAAAAAAAAAAAAAAAAAAAAAAAAAAAAAAAAAAAAAAAAAAAAAAAAAAAAAAAAAAAAAAAAAAAAAAAAAAAAAAAAAAAAAAAAAAAAAAAAAAAAAAAAAAAAAAAAAAAAAAAAAAAAAAAAAAAAAAAAAAAAAAAAAAAAAAAAAAAAAAAAAAAAAAAAAAAAAAAAAAAAAAAAAAAAAAAAAAAAAAAAAAAAAAAAAAAAAAAAAAAAAAAAAAAAAAAAAAAAAAAAAAAAAAAAAAAAAAAAAAAAAAAAAAAAAAAAAAAAAAAAAAAAAAAAAAAAAAAAAAAAAAAAAAAAAAAAAAAAAAAAAAAAAAAAAAAAAAAAAAAAAAAAAAAAAAAAAAAAAAAAAAAAAAAAAAAAAAAAAAAAAAAAAAAAAAAAAAAAAAAAAAAAAAAAAAAAAAAAAAAAAAAAAAAAAAAAAAAAAAAAAAAAAAAAAAAAAAAAAAAAAAAAAAAAAAAAAAAAAAAAAAAAAAAAAAAAAAAAAAAAAAAAAAAAAAAAAAAAAAAAAAAAAAAAAAAAAAAAAAAAAAAAAAAAAAAAAAAAAAAAAAAAAAAAAAAAAAAAAAAAAAAAAAAAAAAAAAAAAAAAAAAAAAAAAAAAAAAAAAAAAAAAAAAAAAAAAAAAAAAAAAAAAAAAAAAAAAAAAAAAAAAAAAAAAAAAAAAAAAAAAAAAAAAAAAAAAAAAAAAAAAAAAAAAAAAAAAAAAAAAAAAAAAAAAAAAAAAAAAAAAAAAAAAAAAAAAAAAAAAAAAAAAAAAAAAAAAAAAAAAAAAAAAAAAAAAAAAAAAAAAAAAAAAAAAAAAAAAAAAAAAAAAAAAAAAAAAAAAAAAAAAAAAAAAAAAAAAAAAAAAAAAAAAAAAAAAAAAAAAAAAAAAAAAAAAAAAAAAAAAAAAAAAAAAAAAAAAAAAAAAAAAAAAAAAAAAAAAAAAAAAAAAAAAAAAAAAAAAAAAAAAAAAAAAAAAAAAAAAAAAAAAAAAAAAAAAAAAAAAAAAAAAAAAAAAAAAAAAAAAAAAAAAAAAAAAAAAAAAAAAAAAAAAAAAAAAAAAAAAAAAAAAAAAAAAAAAAAAAAAAAAAAAAAAAAAAAAAAAAAAAAAAAAAAAAAAAAAAAAAAAAAAAAAAAAAAAAAAAAAAAAAAAAAAAAAAAAAAAAAAAAAAAAAAAAAAAAAAAAAAAAAAAAAAAAAAAAAAAAAAAAAAAAAAAAAAAAAAAAAAAAAAAAAAAAAAAAAAAAAAAAAAAAAAAAAAAAAAAAAAAAAAAAAAAAAAAAAAAAAAAAAAAAAAAAAAAAAAAAAAAAAAAAAAAAAAAAAAAAAAAAAAAAAAAAAAAAAAAAAAAAAAAAAAAAAAAAAAAAAAAAAAAAAAAAAAAAAAAAAAAAAAAAAAAAAAAAAAAAAAAAAAAAAAAAAAAAAAAAAAAAAAAAAAAAAAAAAAAAAAAAAAAAAAAAAAAAAAAAAAAAAAAAAAAAAAAAAAAAAAAAAAAAAAAAAAAAAAAAAAAAAAAAAAAAAAAAAAAAAAAAAAAAAAAAAAAAAAAAAAAAAAAAAAAAAAAAAAAAAAAAAAAAAAAAAAAAAAAAAAAAAAAAAAAAAAAAAAAAAAAAAAAAAAAAAAAAAAAAAAAAAAAAAAAAAAAAAAAAAAAAAAAAAAAAAAAAAAAAAAAAAAAAAAAAAAAAAAAAAAAAAAAAAAAAAAAAAAAAAAAAAAAAAAAAAAAAAAAAAAAAAAAAAAAAAAAAAAAAAAAAAAAAAAAAAAAAAAAAAAAAAAAAAAAAAAAAAAAAAAAAAAAAAAAAAAAAAAAAAAAAAAAAAAAAAAAAAAAAAAAAAAAAAAAAAAAAAAAAAAAAAAAAAAAAAAAAAAAAAAAAAAAAAAAAAAAAAAAAAAAAAAAAAAAAAAAAAAAAAAAAAAAAAAAAAAAAAAAAAAAAAAAAAAAAAAAAAAAAAAAAAAAAAAAAAAAAAAAAAAAAAAAAAAAAAAAAAAAAAAAAAAAAAAAAAAAAAAAAAAAAAAAAAAAAAAAAAAAAAAAAAAAAAAAAAAAAAAAAAAAAAAAAAAAAAAAAAAAAAAAAAAAAAAAAAAAAAAAAAAAAAAAAAAAAAAAAAAAAAAAAAAAAAAAAAAAAAAAAAAAAAAAAAAAAAAAAAAAAAAAAAAAAAAAAAAAAAAAAAAAAAAAAAAAAAAAAAAAAAAAAAAAAAAAAAAAAAAAAAAAAAAAAAAAAAAAAAAAAAAAAAAAAAAAAAAAAAAAAAAAAAAAAAAAAAAAAAAAAAAAAAAAAAAAAAAAAAAAAAAAAAAAAAAAAAAAAAAAAAAAAAAAAAAAAAAAAAAAAAAAAAAAAAAAAAAAAAAAAAAAAAAAAAAAAAAAAAAAAAAAAAAAAAAAAAAAAAAAAAAAAAAAAAAAAAAAAAAAAAAAAAAAAAAAAAAAAAAAAAAAAAAAAAAAAAAAAAAAAAAAAAAAAAAAAAAAAAAAAAAAAAAAAAAAAAAAAAAAAAAAAAAAAAAAAAAAAAAAAAAAAAAAAAAAAAAAAAAAAAAAAAAAAAAAAAAAAAAAAAAAAAAAAAAAAAAAAAAAAAAAAAAAAAAAAAAAAAAAAAAAAAAAAAAAAAAAAAAAAAAAAAAAAAAAAAAAAAAAAAAAAAAAAAAAAAAAAAAAAAAAAAAAAAAAAAAAAAAAAAAAAAAAAAAAAAAAAAAAAAAAAAAAAAAAAAAAAAAAAAAAAAAAAAAAAAAAAAAAAAAAAAAAAAAAAAAAAAAAAAAAAAAAAAAAAAAAAAAAAAAAAAAAAAAAAAAAAAAAAAAAAAAAAAAAAAAAAAAAAAAAAAAAAAAAAAAAAAAAAAAAAAAAAAAAAAAAAAAAAAAAAAAAAAAAAAAAAAAAAAAAAAAAAAAAAAAAAAAAAAAAAAAAAAAAAAAAAAAAAAAAAAAAAAAAAAAAAAAAAAAAAAAAAAAAAAAAAAAAAAAAAAAAAAAAAAAAAAAAAAAAAAAAAAAAAAAAAAAAAAAAAAAAAAAAAAAAAAAAAAAAAAAAAAAAAAAAAAAAAAAAAAAAAAAAAAAAAAAAAAAAAAAAAAAAAAAAAAAAAAAAAAAAAAAAAAAAAAAAAAAAAAAAAAAAAAAAAAAAAAAAAAAAAAAAAAAAAAAAAAAAAAAAAAAAAAAAAAAAAAAAAAAAAAAAAAAAAAAAAAAAAAAAAAAAAAAAAAAAAAAAAAAAAAAAAAAAAAAAAAAAAAAAAAAAAAAAAAAAAAAAAAAAAAAAAAAAAAAAAAAAAAAAAAAAAAAAAAAAAAAAAAAAAAAAAAAAAAAAAAAAAAAAAAAAAAAAAAAAAAAAAAAAAAAAAAAAAAAAAAAAAAAAAAAAAAAAAAAAAAAAAAAAAAAAAAAAAAAAAAAAAAAAAAAAAAAAAAAAAAAAAAAAAAAAAAAAAAAAAAAAAAAAAAAAAAAAAAAAAAAAAAAAAAAAAAAAAAAAAAAAAAAAAAAAAAAAAAAAAAAAAAAAAAAAAAAAAAAAAAAAAAAAAAAAAAAAAAAAAAAAAAAAAAAAAAAAAAAAAAAAAAAAAAAAAAAAAAAAAAAAAAAAAAAAAAAAAAAAAAAAAAAAAAAAAAAAAAAAAAAAAAAAAAAAAAAAAAAAAAAAAAAAAAAAAAAAAAAAAAAAAAAAAAAAAAAAAAAAAAAAAAAAAAAAAAAAAAAAAAAAAAAAAAAAAAAAAAAAAAAAAAAAAAAAAAAAAAAAAAAAAAAAAAAAAAAAAAAAAAAAAAAAAAAAAAAAAAAAAAAAAAAAAAAAAAAAAAAAAAAAAAAAAAAAAAAAAAAAAAAAAAAAAAAAAAAAAAAAAAAAAAAAAAAAAAAAAAAAAAAAAAAAAAAAAAAAAAAAAAAAAAAAAAAAAAAAAAAAAAAAAAAAAAAAAAAAAAAAAAAAAAAAAAAAAAAAAAAAAAAAAAAAAAAAAAAAAAAAAAAAAAAAAAAAAAAAAAAAAAAAAAAAAAAAAAAAAAAAAAAAAAAAAAAAAAAAAAAAAAAAAAAAAAAAAAAAAAAAAAAAAAAAAAAAAAAAAAAAAAAAAAAAAAAAAAAAAAAAAAAAAAAAAAAAAAAAAAAAAAAAAAAAAAAAAAAAAAAAAAAAAAAAAAAAAAAAAAAAAAAAAAAAAAAAAAAAAAAAAAAAAAAAAAAAAAAAAAAAAAAAAAAAAAAAAAAAAAAAAAAAAAAAAAAAAAAAAAAAAAAAAAAAAAAAAAAAAAAAAAAAAAAAAAAAAAAAAAAAAAAAAAAAAAAAAAAAAAAAAAAAAAAAAAAAAAAAAAAAAAAAAAAAAAAAAAAAAAAAAAAAAAAAAAAAAAAAAAAAAAAAAAAAAAAAAAAAAAAAAAAAAAAAAAAAAAAAAAAAAAAAAAAAAAAAAAAAAAAAAAAAAAAAAAAAAAAAAAAAAAAAAAAAAAAAAAAAAAAAAAAAAAAAAAAAAAAAAAAAAAAAAAAAAAAAAAAAAAAAAAAAAAAAAAAAAAAAAAAAAAAAAAAAAAAAAAAAAAAAAAAAAAAAAAAAAAAAAAAAAAAAAAAAAAAAAAAAAAAAAAAAAAAAAAAAAAAAAAAAAAAAAAAAAAAAAAAAAAAAAAAAAAAAAAAAAAAAAAAAAAAAAAAAAAAAAAAAAAAAAAAAAAAAAAAAAAAAAAAAAAAAAAAAAAAAAAAAAAAAAAAAAAAAAAAAAAAAAAAAAAAAAAAAAAAAAAAAAAAAAAAAAAAAAAAAAAAAAAAAAAAAAAAAAAAAAAAAAAAAAAAAAAAAAAAAAAAAAAAAAAAAAAAAAAAAAAAAAAAAAAAAAAAAAAAAAAAAAAAAAAAAAAAAAAAAAAAAAAAAAAAAAAAAAAAAAAAAAAAAAAAAAAAAAAAAAAAAAAAAAAAAAAAAAAAAAAAAAAAAAAAAAAAAAAAAAAAAAAAAAAAAAAAAAAAAAAAAAAAAAAAAAAAAAAAAAAAAAAAAAAAAAAAAAAAAAAAAAAAAAAAAAAAAAAAAAAAAAAAAAAAAAAAAAAAAAAAAAAAAAAAAAAAAAAAAAAAAAAAAAAAAAAAAAAAAAAAAAAAAAAAAAAAAAAAAAAAAAAAAAAAAAAAAAAAAAAAAAAAAAAAAAAAAAAAAAAAAAAAAAAAAAAAAAAAAAAAAAAAAAAAAAAAAAAAAAAAAAAAAAAAAAAAAAAAAAAAAAAAAAAAAAAAAAAAAAAAAAAAAAAAAAAAAAAAAAAAAAAAAAAAAAAAAAAAAAAAAAAAAAAAAAAAAAAAAAAAAAAAAAAAAAAAAAAAAAAAAAAAAAAAAAAAAAAAAAAAAAAAAAAAAAAAAAAAAAAAAAAAAAAAAAAAAAAAAAAAAAAAAAAAAAAAAAAAAAAAAAAAAAAAAAAAAAAAAAAAAAAAAAAAAAAAAAAAAAAAAAAAAAAAAAAAAAAAAAAAAAAAAAAAAAAAAAAAAAAAAAAAAAAAAAAAAAAAAAAAAAAAAAAAAAAAAAAAAAAAAAAAAAAAAAAAAAAAAAAAAAAAAAAAAAAAAAAAAAAAAAAAAAAAAAAAAAAAAAAAAAAAAAAAAAAAAAAAAAAAAAAAAAAAAAAAAAAAAAAAAAAAAAAAAAAAAAAAAAAAAAAAAAAAAAAAAAAAAAAAAAAAAAAAAAAAAAAAAAAAAAAAAAAAAAAAAAAAAAAAAAAAAAAAAAAAAAAAAAAAAAAAAAAAAAAAAAAAAAAAAAAAAAAAAAAAAAAAAAAAAAAAAAAAAAAAAAAAAAAAAAAAAAAAAAAAAAAAAAAAAAAAAAAAAAAAAAAAAAAAAAAAAAAAAAAAAAAAAAAAAAAAAAAAAAAAAAAAAAAAAAAAAAAAAAAAAAAAAAAAAAAAAAAAAAAAAAAAAAAAAAAAAAAAAAAAAAAAAAAAAAAAAAAAAAAAAAAAAAAAAAAAAAAAAAAAAAAAAAAAAAAAAAAAAAAAAAAAAAAAAAAAAAAAAAAAAAAAAAAAAAAAAAAAAAAAAAAAAAAAAAAAAAAAAAAAAAAAAAAAAAAAAAAAAAAAAAAAAAAAAAAAAAAAAAAAAAAAAAAAAAAAAAAAAAAAAAAAAAAAAAAAAAAAAAAAAAAAAAAAAAAAAAAAAAAAAAAAAAAAAAAAAAAAAAAAAAAAAAAAAAAAAAAAAAAAAAAAAAAAAAAAAAAAAAAAAAAAAAAAAAAAAAAAAAAAAAAAAAAAAAAAAAAAAAAAAAAAAAAAAAAAAAAA\",\"dtype\":\"uint32\",\"order\":\"little\",\"shape\":[75,75]}]},\"selected\":{\"id\":\"5313\"},\"selection_policy\":{\"id\":\"5312\"}},\"id\":\"5162\",\"type\":\"ColumnDataSource\"},{\"attributes\":{},\"id\":\"5346\",\"type\":\"Selection\"},{\"attributes\":{},\"id\":\"5318\",\"type\":\"BasicTickFormatter\"},{\"attributes\":{\"bounds\":[0.1,0.9],\"end\":0.9,\"start\":0.1},\"id\":\"5205\",\"type\":\"Range1d\"},{\"attributes\":{\"dh\":{\"units\":\"data\",\"value\":0.4375},\"dw\":{\"units\":\"data\",\"value\":0.25},\"global_alpha\":0.1,\"image\":{\"field\":\"image\"},\"x\":{\"value\":0.6},\"y\":{\"value\":0.4}},\"id\":\"5164\",\"type\":\"ImageRGBA\"}],\"root_ids\":[\"5349\"]},\"title\":\"Bokeh Application\",\"version\":\"2.2.3\"}};\n",
       "  var render_items = [{\"docid\":\"4cf6050f-835a-4c87-b5d0-8d126a4dfc2c\",\"root_ids\":[\"5349\"],\"roots\":{\"5349\":\"c69b5443-947a-4651-99e2-c8f1e66cf7fb\"}}];\n",
       "  root.Bokeh.embed.embed_items_notebook(docs_json, render_items);\n",
       "\n",
       "  }\n",
       "  if (root.Bokeh !== undefined) {\n",
       "    embed_document(root);\n",
       "  } else {\n",
       "    var attempts = 0;\n",
       "    var timer = setInterval(function(root) {\n",
       "      if (root.Bokeh !== undefined) {\n",
       "        clearInterval(timer);\n",
       "        embed_document(root);\n",
       "      } else {\n",
       "        attempts++;\n",
       "        if (attempts > 100) {\n",
       "          clearInterval(timer);\n",
       "          console.log(\"Bokeh: ERROR: Unable to run BokehJS code because BokehJS library is missing\");\n",
       "        }\n",
       "      }\n",
       "    }, 10, root)\n",
       "  }\n",
       "})(window);"
      ],
      "application/vnd.bokehjs_exec.v0+json": ""
     },
     "metadata": {
      "application/vnd.bokehjs_exec.v0+json": {
       "id": "5349"
      }
     },
     "output_type": "display_data"
    }
   ],
   "source": [
    "from aplanat import graphics\n",
    "\n",
    "summary = graphics.InfoGraphItems()\n",
    "summary.append(label='Total reads', value=1000000, icon='angle-up', unit='')\n",
    "summary.append('Total yield', 1e9, 'signal', 'b')\n",
    "summary.append('Mean read length', 50e3, 'align-center', 'b')\n",
    "summary.append('Mean qscore (pass)', '14', 'thumbs-up')\n",
    "plot = graphics.infographic(summary.values())\n",
    "aplanat.show(plot, background='#f4f4f4')"
   ]
  },
  {
   "cell_type": "markdown",
   "metadata": {},
   "source": [
    "The code above constructs an instance of an `InfoGraphItems` helper class. Each item added requires a `label`, `value`, `icon`, and optionally `unit`. Each of these should be self-explanatory. Numbers passed to the infographic are formatted using SI suffixes (`k`, `M`, `G` etc.) with the provided `unit`. To avoid any conversion developers can pass values of `str` type. Specification of the displayed icon is via the name of a [font-awesome](https://fontawesome.com/) glyph (version 5.13.1)."
   ]
  },
  {
   "cell_type": "markdown",
   "metadata": {},
   "source": [
    "### Facetted plots\n",
    "\n",
    "Most plotting functions within aplanat follow the \"list of vectors\" approach illustrated above. Although simple, this is not to everyone's taste. A particularly common plot to want to produce is a facet (or trellis) plot, displaying up to five dimensions of data. For this `aplanat` includes the `facet_grid()` function which accepts a structure array or pandas dataframe and a specification of columns names to plotting co-ordinates."
   ]
  },
  {
   "cell_type": "code",
   "execution_count": 86,
   "metadata": {
    "partialCollapse": true
   },
   "outputs": [
    {
     "data": {
      "application/javascript": [
       "\n",
       "(function(root) {\n",
       "  function now() {\n",
       "    return new Date();\n",
       "  }\n",
       "\n",
       "  var force = true;\n",
       "\n",
       "  if (typeof root._bokeh_onload_callbacks === \"undefined\" || force === true) {\n",
       "    root._bokeh_onload_callbacks = [];\n",
       "    root._bokeh_is_loading = undefined;\n",
       "  }\n",
       "\n",
       "  var JS_MIME_TYPE = 'application/javascript';\n",
       "  var HTML_MIME_TYPE = 'text/html';\n",
       "  var EXEC_MIME_TYPE = 'application/vnd.bokehjs_exec.v0+json';\n",
       "  var CLASS_NAME = 'output_bokeh rendered_html';\n",
       "\n",
       "  /**\n",
       "   * Render data to the DOM node\n",
       "   */\n",
       "  function render(props, node) {\n",
       "    var script = document.createElement(\"script\");\n",
       "    node.appendChild(script);\n",
       "  }\n",
       "\n",
       "  /**\n",
       "   * Handle when an output is cleared or removed\n",
       "   */\n",
       "  function handleClearOutput(event, handle) {\n",
       "    var cell = handle.cell;\n",
       "\n",
       "    var id = cell.output_area._bokeh_element_id;\n",
       "    var server_id = cell.output_area._bokeh_server_id;\n",
       "    // Clean up Bokeh references\n",
       "    if (id != null && id in Bokeh.index) {\n",
       "      Bokeh.index[id].model.document.clear();\n",
       "      delete Bokeh.index[id];\n",
       "    }\n",
       "\n",
       "    if (server_id !== undefined) {\n",
       "      // Clean up Bokeh references\n",
       "      var cmd = \"from bokeh.io.state import curstate; print(curstate().uuid_to_server['\" + server_id + \"'].get_sessions()[0].document.roots[0]._id)\";\n",
       "      cell.notebook.kernel.execute(cmd, {\n",
       "        iopub: {\n",
       "          output: function(msg) {\n",
       "            var id = msg.content.text.trim();\n",
       "            if (id in Bokeh.index) {\n",
       "              Bokeh.index[id].model.document.clear();\n",
       "              delete Bokeh.index[id];\n",
       "            }\n",
       "          }\n",
       "        }\n",
       "      });\n",
       "      // Destroy server and session\n",
       "      var cmd = \"import bokeh.io.notebook as ion; ion.destroy_server('\" + server_id + \"')\";\n",
       "      cell.notebook.kernel.execute(cmd);\n",
       "    }\n",
       "  }\n",
       "\n",
       "  /**\n",
       "   * Handle when a new output is added\n",
       "   */\n",
       "  function handleAddOutput(event, handle) {\n",
       "    var output_area = handle.output_area;\n",
       "    var output = handle.output;\n",
       "\n",
       "    // limit handleAddOutput to display_data with EXEC_MIME_TYPE content only\n",
       "    if ((output.output_type != \"display_data\") || (!output.data.hasOwnProperty(EXEC_MIME_TYPE))) {\n",
       "      return\n",
       "    }\n",
       "\n",
       "    var toinsert = output_area.element.find(\".\" + CLASS_NAME.split(' ')[0]);\n",
       "\n",
       "    if (output.metadata[EXEC_MIME_TYPE][\"id\"] !== undefined) {\n",
       "      toinsert[toinsert.length - 1].firstChild.textContent = output.data[JS_MIME_TYPE];\n",
       "      // store reference to embed id on output_area\n",
       "      output_area._bokeh_element_id = output.metadata[EXEC_MIME_TYPE][\"id\"];\n",
       "    }\n",
       "    if (output.metadata[EXEC_MIME_TYPE][\"server_id\"] !== undefined) {\n",
       "      var bk_div = document.createElement(\"div\");\n",
       "      bk_div.innerHTML = output.data[HTML_MIME_TYPE];\n",
       "      var script_attrs = bk_div.children[0].attributes;\n",
       "      for (var i = 0; i < script_attrs.length; i++) {\n",
       "        toinsert[toinsert.length - 1].firstChild.setAttribute(script_attrs[i].name, script_attrs[i].value);\n",
       "        toinsert[toinsert.length - 1].firstChild.textContent = bk_div.children[0].textContent\n",
       "      }\n",
       "      // store reference to server id on output_area\n",
       "      output_area._bokeh_server_id = output.metadata[EXEC_MIME_TYPE][\"server_id\"];\n",
       "    }\n",
       "  }\n",
       "\n",
       "  function register_renderer(events, OutputArea) {\n",
       "\n",
       "    function append_mime(data, metadata, element) {\n",
       "      // create a DOM node to render to\n",
       "      var toinsert = this.create_output_subarea(\n",
       "        metadata,\n",
       "        CLASS_NAME,\n",
       "        EXEC_MIME_TYPE\n",
       "      );\n",
       "      this.keyboard_manager.register_events(toinsert);\n",
       "      // Render to node\n",
       "      var props = {data: data, metadata: metadata[EXEC_MIME_TYPE]};\n",
       "      render(props, toinsert[toinsert.length - 1]);\n",
       "      element.append(toinsert);\n",
       "      return toinsert\n",
       "    }\n",
       "\n",
       "    /* Handle when an output is cleared or removed */\n",
       "    events.on('clear_output.CodeCell', handleClearOutput);\n",
       "    events.on('delete.Cell', handleClearOutput);\n",
       "\n",
       "    /* Handle when a new output is added */\n",
       "    events.on('output_added.OutputArea', handleAddOutput);\n",
       "\n",
       "    /**\n",
       "     * Register the mime type and append_mime function with output_area\n",
       "     */\n",
       "    OutputArea.prototype.register_mime_type(EXEC_MIME_TYPE, append_mime, {\n",
       "      /* Is output safe? */\n",
       "      safe: true,\n",
       "      /* Index of renderer in `output_area.display_order` */\n",
       "      index: 0\n",
       "    });\n",
       "  }\n",
       "\n",
       "  // register the mime type if in Jupyter Notebook environment and previously unregistered\n",
       "  if (root.Jupyter !== undefined) {\n",
       "    var events = require('base/js/events');\n",
       "    var OutputArea = require('notebook/js/outputarea').OutputArea;\n",
       "\n",
       "    if (OutputArea.prototype.mime_types().indexOf(EXEC_MIME_TYPE) == -1) {\n",
       "      register_renderer(events, OutputArea);\n",
       "    }\n",
       "  }\n",
       "\n",
       "  \n",
       "  if (typeof (root._bokeh_timeout) === \"undefined\" || force === true) {\n",
       "    root._bokeh_timeout = Date.now() + 5000;\n",
       "    root._bokeh_failed_load = false;\n",
       "  }\n",
       "\n",
       "  var NB_LOAD_WARNING = {'data': {'text/html':\n",
       "     \"<div style='background-color: #fdd'>\\n\"+\n",
       "     \"<p>\\n\"+\n",
       "     \"BokehJS does not appear to have successfully loaded. If loading BokehJS from CDN, this \\n\"+\n",
       "     \"may be due to a slow or bad network connection. Possible fixes:\\n\"+\n",
       "     \"</p>\\n\"+\n",
       "     \"<ul>\\n\"+\n",
       "     \"<li>re-rerun `output_notebook()` to attempt to load from CDN again, or</li>\\n\"+\n",
       "     \"<li>use INLINE resources instead, as so:</li>\\n\"+\n",
       "     \"</ul>\\n\"+\n",
       "     \"<code>\\n\"+\n",
       "     \"from bokeh.resources import INLINE\\n\"+\n",
       "     \"output_notebook(resources=INLINE)\\n\"+\n",
       "     \"</code>\\n\"+\n",
       "     \"</div>\"}};\n",
       "\n",
       "  function display_loaded() {\n",
       "    var el = document.getElementById(null);\n",
       "    if (el != null) {\n",
       "      el.textContent = \"BokehJS is loading...\";\n",
       "    }\n",
       "    if (root.Bokeh !== undefined) {\n",
       "      if (el != null) {\n",
       "        el.textContent = \"BokehJS \" + root.Bokeh.version + \" successfully loaded.\";\n",
       "      }\n",
       "    } else if (Date.now() < root._bokeh_timeout) {\n",
       "      setTimeout(display_loaded, 100)\n",
       "    }\n",
       "  }\n",
       "\n",
       "\n",
       "  function run_callbacks() {\n",
       "    try {\n",
       "      root._bokeh_onload_callbacks.forEach(function(callback) {\n",
       "        if (callback != null)\n",
       "          callback();\n",
       "      });\n",
       "    } finally {\n",
       "      delete root._bokeh_onload_callbacks\n",
       "    }\n",
       "    console.debug(\"Bokeh: all callbacks have finished\");\n",
       "  }\n",
       "\n",
       "  function load_libs(css_urls, js_urls, callback) {\n",
       "    if (css_urls == null) css_urls = [];\n",
       "    if (js_urls == null) js_urls = [];\n",
       "\n",
       "    root._bokeh_onload_callbacks.push(callback);\n",
       "    if (root._bokeh_is_loading > 0) {\n",
       "      console.debug(\"Bokeh: BokehJS is being loaded, scheduling callback at\", now());\n",
       "      return null;\n",
       "    }\n",
       "    if (js_urls == null || js_urls.length === 0) {\n",
       "      run_callbacks();\n",
       "      return null;\n",
       "    }\n",
       "    console.debug(\"Bokeh: BokehJS not loaded, scheduling load and callback at\", now());\n",
       "    root._bokeh_is_loading = css_urls.length + js_urls.length;\n",
       "\n",
       "    function on_load() {\n",
       "      root._bokeh_is_loading--;\n",
       "      if (root._bokeh_is_loading === 0) {\n",
       "        console.debug(\"Bokeh: all BokehJS libraries/stylesheets loaded\");\n",
       "        run_callbacks()\n",
       "      }\n",
       "    }\n",
       "\n",
       "    function on_error() {\n",
       "      console.error(\"failed to load \" + url);\n",
       "    }\n",
       "\n",
       "    for (var i = 0; i < css_urls.length; i++) {\n",
       "      var url = css_urls[i];\n",
       "      const element = document.createElement(\"link\");\n",
       "      element.onload = on_load;\n",
       "      element.onerror = on_error;\n",
       "      element.rel = \"stylesheet\";\n",
       "      element.type = \"text/css\";\n",
       "      element.href = url;\n",
       "      console.debug(\"Bokeh: injecting link tag for BokehJS stylesheet: \", url);\n",
       "      document.body.appendChild(element);\n",
       "    }\n",
       "\n",
       "    const hashes = {\"https://cdn.bokeh.org/bokeh/release/bokeh-2.2.3.min.js\": \"T2yuo9Oe71Cz/I4X9Ac5+gpEa5a8PpJCDlqKYO0CfAuEszu1JrXLl8YugMqYe3sM\", \"https://cdn.bokeh.org/bokeh/release/bokeh-widgets-2.2.3.min.js\": \"98GDGJ0kOMCUMUePhksaQ/GYgB3+NH9h996V88sh3aOiUNX3N+fLXAtry6xctSZ6\", \"https://cdn.bokeh.org/bokeh/release/bokeh-tables-2.2.3.min.js\": \"89bArO+nlbP3sgakeHjCo1JYxYR5wufVgA3IbUvDY+K7w4zyxJqssu7wVnfeKCq8\"};\n",
       "\n",
       "    for (var i = 0; i < js_urls.length; i++) {\n",
       "      var url = js_urls[i];\n",
       "      var element = document.createElement('script');\n",
       "      element.onload = on_load;\n",
       "      element.onerror = on_error;\n",
       "      element.async = false;\n",
       "      element.src = url;\n",
       "      if (url in hashes) {\n",
       "        element.crossOrigin = \"anonymous\";\n",
       "        element.integrity = \"sha384-\" + hashes[url];\n",
       "      }\n",
       "      console.debug(\"Bokeh: injecting script tag for BokehJS library: \", url);\n",
       "      document.head.appendChild(element);\n",
       "    }\n",
       "  };\n",
       "\n",
       "  function inject_raw_css(css) {\n",
       "    const element = document.createElement(\"style\");\n",
       "    element.appendChild(document.createTextNode(css));\n",
       "    document.body.appendChild(element);\n",
       "  }\n",
       "\n",
       "  \n",
       "  var js_urls = [\"https://cdn.bokeh.org/bokeh/release/bokeh-2.2.3.min.js\", \"https://cdn.bokeh.org/bokeh/release/bokeh-widgets-2.2.3.min.js\", \"https://cdn.bokeh.org/bokeh/release/bokeh-tables-2.2.3.min.js\"];\n",
       "  var css_urls = [];\n",
       "  \n",
       "\n",
       "  var inline_js = [\n",
       "    function(Bokeh) {\n",
       "      Bokeh.set_log_level(\"info\");\n",
       "    },\n",
       "    function(Bokeh) {\n",
       "    \n",
       "    \n",
       "    }\n",
       "  ];\n",
       "\n",
       "  function run_inline_js() {\n",
       "    \n",
       "    if (root.Bokeh !== undefined || force === true) {\n",
       "      \n",
       "    for (var i = 0; i < inline_js.length; i++) {\n",
       "      inline_js[i].call(root, root.Bokeh);\n",
       "    }\n",
       "    } else if (Date.now() < root._bokeh_timeout) {\n",
       "      setTimeout(run_inline_js, 100);\n",
       "    } else if (!root._bokeh_failed_load) {\n",
       "      console.log(\"Bokeh: BokehJS failed to load within specified timeout.\");\n",
       "      root._bokeh_failed_load = true;\n",
       "    } else if (force !== true) {\n",
       "      var cell = $(document.getElementById(null)).parents('.cell').data().cell;\n",
       "      cell.output_area.append_execute_result(NB_LOAD_WARNING)\n",
       "    }\n",
       "\n",
       "  }\n",
       "\n",
       "  if (root._bokeh_is_loading === 0) {\n",
       "    console.debug(\"Bokeh: BokehJS loaded, going straight to plotting\");\n",
       "    run_inline_js();\n",
       "  } else {\n",
       "    load_libs(css_urls, js_urls, function() {\n",
       "      console.debug(\"Bokeh: BokehJS plotting callback run at\", now());\n",
       "      run_inline_js();\n",
       "    });\n",
       "  }\n",
       "}(window));"
      ],
      "application/vnd.bokehjs_load.v0+json": "\n(function(root) {\n  function now() {\n    return new Date();\n  }\n\n  var force = true;\n\n  if (typeof root._bokeh_onload_callbacks === \"undefined\" || force === true) {\n    root._bokeh_onload_callbacks = [];\n    root._bokeh_is_loading = undefined;\n  }\n\n  \n\n  \n  if (typeof (root._bokeh_timeout) === \"undefined\" || force === true) {\n    root._bokeh_timeout = Date.now() + 5000;\n    root._bokeh_failed_load = false;\n  }\n\n  var NB_LOAD_WARNING = {'data': {'text/html':\n     \"<div style='background-color: #fdd'>\\n\"+\n     \"<p>\\n\"+\n     \"BokehJS does not appear to have successfully loaded. If loading BokehJS from CDN, this \\n\"+\n     \"may be due to a slow or bad network connection. Possible fixes:\\n\"+\n     \"</p>\\n\"+\n     \"<ul>\\n\"+\n     \"<li>re-rerun `output_notebook()` to attempt to load from CDN again, or</li>\\n\"+\n     \"<li>use INLINE resources instead, as so:</li>\\n\"+\n     \"</ul>\\n\"+\n     \"<code>\\n\"+\n     \"from bokeh.resources import INLINE\\n\"+\n     \"output_notebook(resources=INLINE)\\n\"+\n     \"</code>\\n\"+\n     \"</div>\"}};\n\n  function display_loaded() {\n    var el = document.getElementById(null);\n    if (el != null) {\n      el.textContent = \"BokehJS is loading...\";\n    }\n    if (root.Bokeh !== undefined) {\n      if (el != null) {\n        el.textContent = \"BokehJS \" + root.Bokeh.version + \" successfully loaded.\";\n      }\n    } else if (Date.now() < root._bokeh_timeout) {\n      setTimeout(display_loaded, 100)\n    }\n  }\n\n\n  function run_callbacks() {\n    try {\n      root._bokeh_onload_callbacks.forEach(function(callback) {\n        if (callback != null)\n          callback();\n      });\n    } finally {\n      delete root._bokeh_onload_callbacks\n    }\n    console.debug(\"Bokeh: all callbacks have finished\");\n  }\n\n  function load_libs(css_urls, js_urls, callback) {\n    if (css_urls == null) css_urls = [];\n    if (js_urls == null) js_urls = [];\n\n    root._bokeh_onload_callbacks.push(callback);\n    if (root._bokeh_is_loading > 0) {\n      console.debug(\"Bokeh: BokehJS is being loaded, scheduling callback at\", now());\n      return null;\n    }\n    if (js_urls == null || js_urls.length === 0) {\n      run_callbacks();\n      return null;\n    }\n    console.debug(\"Bokeh: BokehJS not loaded, scheduling load and callback at\", now());\n    root._bokeh_is_loading = css_urls.length + js_urls.length;\n\n    function on_load() {\n      root._bokeh_is_loading--;\n      if (root._bokeh_is_loading === 0) {\n        console.debug(\"Bokeh: all BokehJS libraries/stylesheets loaded\");\n        run_callbacks()\n      }\n    }\n\n    function on_error() {\n      console.error(\"failed to load \" + url);\n    }\n\n    for (var i = 0; i < css_urls.length; i++) {\n      var url = css_urls[i];\n      const element = document.createElement(\"link\");\n      element.onload = on_load;\n      element.onerror = on_error;\n      element.rel = \"stylesheet\";\n      element.type = \"text/css\";\n      element.href = url;\n      console.debug(\"Bokeh: injecting link tag for BokehJS stylesheet: \", url);\n      document.body.appendChild(element);\n    }\n\n    const hashes = {\"https://cdn.bokeh.org/bokeh/release/bokeh-2.2.3.min.js\": \"T2yuo9Oe71Cz/I4X9Ac5+gpEa5a8PpJCDlqKYO0CfAuEszu1JrXLl8YugMqYe3sM\", \"https://cdn.bokeh.org/bokeh/release/bokeh-widgets-2.2.3.min.js\": \"98GDGJ0kOMCUMUePhksaQ/GYgB3+NH9h996V88sh3aOiUNX3N+fLXAtry6xctSZ6\", \"https://cdn.bokeh.org/bokeh/release/bokeh-tables-2.2.3.min.js\": \"89bArO+nlbP3sgakeHjCo1JYxYR5wufVgA3IbUvDY+K7w4zyxJqssu7wVnfeKCq8\"};\n\n    for (var i = 0; i < js_urls.length; i++) {\n      var url = js_urls[i];\n      var element = document.createElement('script');\n      element.onload = on_load;\n      element.onerror = on_error;\n      element.async = false;\n      element.src = url;\n      if (url in hashes) {\n        element.crossOrigin = \"anonymous\";\n        element.integrity = \"sha384-\" + hashes[url];\n      }\n      console.debug(\"Bokeh: injecting script tag for BokehJS library: \", url);\n      document.head.appendChild(element);\n    }\n  };\n\n  function inject_raw_css(css) {\n    const element = document.createElement(\"style\");\n    element.appendChild(document.createTextNode(css));\n    document.body.appendChild(element);\n  }\n\n  \n  var js_urls = [\"https://cdn.bokeh.org/bokeh/release/bokeh-2.2.3.min.js\", \"https://cdn.bokeh.org/bokeh/release/bokeh-widgets-2.2.3.min.js\", \"https://cdn.bokeh.org/bokeh/release/bokeh-tables-2.2.3.min.js\"];\n  var css_urls = [];\n  \n\n  var inline_js = [\n    function(Bokeh) {\n      Bokeh.set_log_level(\"info\");\n    },\n    function(Bokeh) {\n    \n    \n    }\n  ];\n\n  function run_inline_js() {\n    \n    if (root.Bokeh !== undefined || force === true) {\n      \n    for (var i = 0; i < inline_js.length; i++) {\n      inline_js[i].call(root, root.Bokeh);\n    }\n    } else if (Date.now() < root._bokeh_timeout) {\n      setTimeout(run_inline_js, 100);\n    } else if (!root._bokeh_failed_load) {\n      console.log(\"Bokeh: BokehJS failed to load within specified timeout.\");\n      root._bokeh_failed_load = true;\n    } else if (force !== true) {\n      var cell = $(document.getElementById(null)).parents('.cell').data().cell;\n      cell.output_area.append_execute_result(NB_LOAD_WARNING)\n    }\n\n  }\n\n  if (root._bokeh_is_loading === 0) {\n    console.debug(\"Bokeh: BokehJS loaded, going straight to plotting\");\n    run_inline_js();\n  } else {\n    load_libs(css_urls, js_urls, function() {\n      console.debug(\"Bokeh: BokehJS plotting callback run at\", now());\n      run_inline_js();\n    });\n  }\n}(window));"
     },
     "metadata": {},
     "output_type": "display_data"
    },
    {
     "data": {
      "text/html": [
       "\n",
       "\n",
       "\n",
       "\n",
       "\n",
       "\n",
       "  <div class=\"bk-root\" id=\"55645429-7404-41e8-a624-90b5a4c8997d\" data-root-id=\"15131\"></div>\n"
      ]
     },
     "metadata": {},
     "output_type": "display_data"
    },
    {
     "data": {
      "application/javascript": [
       "(function(root) {\n",
       "  function embed_document(root) {\n",
       "    \n",
       "  var docs_json = {\"4eab0867-752b-416d-84e0-78c55fdfa999\":{\"roots\":{\"references\":[{\"attributes\":{\"children\":[{\"id\":\"15125\"},{\"id\":\"15126\"},{\"id\":\"15127\"},{\"id\":\"15129\"},{\"id\":\"15130\"}]},\"id\":\"15131\",\"type\":\"Column\"},{\"attributes\":{\"fill_alpha\":{\"value\":0.1},\"fill_color\":{\"value\":\"#1f77b4\"},\"line_alpha\":{\"value\":0.1},\"line_color\":{\"value\":\"#1f77b4\"},\"x\":{\"field\":\"x\"},\"y\":{\"field\":\"y\"}},\"id\":\"14597\",\"type\":\"Circle\"},{\"attributes\":{},\"id\":\"14903\",\"type\":\"Range1d\"},{\"attributes\":{},\"id\":\"14725\",\"type\":\"Selection\"},{\"attributes\":{\"formatter\":{\"id\":\"15898\"},\"ticker\":{\"id\":\"14845\"},\"visible\":false},\"id\":\"14844\",\"type\":\"LinearAxis\"},{\"attributes\":{\"axis\":{\"id\":\"14884\"},\"dimension\":1,\"ticker\":null,\"visible\":false},\"id\":\"14887\",\"type\":\"Grid\"},{\"attributes\":{},\"id\":\"14845\",\"type\":\"BasicTicker\"},{\"attributes\":{\"source\":{\"id\":\"14595\"}},\"id\":\"14599\",\"type\":\"CDSView\"},{\"attributes\":{\"axis\":{\"id\":\"14844\"},\"ticker\":null,\"visible\":false},\"id\":\"14847\",\"type\":\"Grid\"},{\"attributes\":{\"fill_alpha\":{\"value\":0.4},\"fill_color\":{\"value\":\"#1f77b4\"},\"line_alpha\":{\"value\":0.4},\"line_color\":{\"value\":\"#1f77b4\"},\"x\":{\"field\":\"x\"},\"y\":{\"field\":\"y\"}},\"id\":\"14596\",\"type\":\"Circle\"},{\"attributes\":{\"formatter\":{\"id\":\"15902\"},\"ticker\":{\"id\":\"14881\"},\"visible\":false},\"id\":\"14880\",\"type\":\"LinearAxis\"},{\"attributes\":{\"text\":\"\"},\"id\":\"14728\",\"type\":\"Title\"},{\"attributes\":{},\"id\":\"14849\",\"type\":\"BasicTicker\"},{\"attributes\":{\"data_source\":{\"id\":\"14595\"},\"glyph\":{\"id\":\"14596\"},\"hover_glyph\":null,\"muted_glyph\":null,\"nonselection_glyph\":{\"id\":\"14597\"},\"selection_glyph\":null,\"view\":{\"id\":\"14599\"}},\"id\":\"14598\",\"type\":\"GlyphRenderer\"},{\"attributes\":{},\"id\":\"14881\",\"type\":\"BasicTicker\"},{\"attributes\":{\"background_fill_color\":\"#f4f4f4\",\"below\":[{\"id\":\"14649\"}],\"border_fill_color\":\"#f4f4f4\",\"center\":[{\"id\":\"14652\"},{\"id\":\"14656\"}],\"left\":[{\"id\":\"14653\"}],\"output_backend\":\"webgl\",\"plot_height\":200,\"plot_width\":200,\"renderers\":[{\"id\":\"14674\"}],\"title\":{\"id\":\"14728\"},\"toolbar\":{\"id\":\"14664\"},\"toolbar_location\":null,\"x_range\":{\"id\":\"14716\"},\"x_scale\":{\"id\":\"14645\"},\"y_range\":{\"id\":\"14717\"},\"y_scale\":{\"id\":\"14647\"}},\"id\":\"14640\",\"subtype\":\"Figure\",\"type\":\"Plot\"},{\"attributes\":{\"overlay\":{\"id\":\"14663\"}},\"id\":\"14659\",\"type\":\"BoxZoomTool\"},{\"attributes\":{\"formatter\":{\"id\":\"15900\"},\"ticker\":{\"id\":\"14849\"},\"visible\":false},\"id\":\"14848\",\"type\":\"LinearAxis\"},{\"attributes\":{},\"id\":\"14569\",\"type\":\"LinearScale\"},{\"attributes\":{\"axis\":{\"id\":\"14848\"},\"dimension\":1,\"ticker\":null,\"visible\":false},\"id\":\"14851\",\"type\":\"Grid\"},{\"attributes\":{\"background_fill_color\":\"#f4f4f4\",\"below\":[{\"id\":\"14880\"}],\"border_fill_color\":\"#f4f4f4\",\"center\":[{\"id\":\"14883\"},{\"id\":\"14887\"},{\"id\":\"14905\"}],\"left\":[{\"id\":\"14884\"}],\"outline_line_color\":null,\"output_backend\":\"webgl\",\"plot_height\":40,\"plot_width\":200,\"title\":null,\"toolbar\":{\"id\":\"14895\"},\"toolbar_location\":null,\"x_range\":{\"id\":\"14903\"},\"x_scale\":{\"id\":\"14876\"},\"y_range\":{\"id\":\"14904\"},\"y_scale\":{\"id\":\"14878\"}},\"id\":\"14870\",\"subtype\":\"Figure\",\"type\":\"Plot\"},{\"attributes\":{},\"id\":\"14581\",\"type\":\"PanTool\"},{\"attributes\":{},\"id\":\"14853\",\"type\":\"WheelZoomTool\"},{\"attributes\":{\"data\":{\"x\":{\"__ndarray__\":\"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\",\"dtype\":\"float64\",\"order\":\"little\",\"shape\":[263]},\"y\":{\"__ndarray__\":\"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\",\"dtype\":\"float64\",\"order\":\"little\",\"shape\":[263]}},\"selected\":{\"id\":\"14725\"},\"selection_policy\":{\"id\":\"14724\"}},\"id\":\"14595\",\"type\":\"ColumnDataSource\"},{\"attributes\":{},\"id\":\"14582\",\"type\":\"WheelZoomTool\"},{\"attributes\":{\"bottom_units\":\"screen\",\"fill_alpha\":0.5,\"fill_color\":\"lightgrey\",\"left_units\":\"screen\",\"level\":\"overlay\",\"line_alpha\":1.0,\"line_color\":\"black\",\"line_dash\":[4,4],\"line_width\":2,\"right_units\":\"screen\",\"top_units\":\"screen\"},\"id\":\"14858\",\"type\":\"BoxAnnotation\"},{\"attributes\":{},\"id\":\"14852\",\"type\":\"PanTool\"},{\"attributes\":{\"overlay\":{\"id\":\"14587\"}},\"id\":\"14583\",\"type\":\"BoxZoomTool\"},{\"attributes\":{},\"id\":\"14856\",\"type\":\"ResetTool\"},{\"attributes\":{\"fill_alpha\":{\"value\":0.4},\"fill_color\":{\"value\":\"#1f77b4\"},\"line_alpha\":{\"value\":0.4},\"line_color\":{\"value\":\"#1f77b4\"},\"x\":{\"field\":\"x\"},\"y\":{\"field\":\"y\"}},\"id\":\"14634\",\"type\":\"Circle\"},{\"attributes\":{\"overlay\":{\"id\":\"14858\"}},\"id\":\"14854\",\"type\":\"BoxZoomTool\"},{\"attributes\":{},\"id\":\"14584\",\"type\":\"SaveTool\"},{\"attributes\":{},\"id\":\"14585\",\"type\":\"ResetTool\"},{\"attributes\":{},\"id\":\"14885\",\"type\":\"BasicTicker\"},{\"attributes\":{},\"id\":\"14660\",\"type\":\"SaveTool\"},{\"attributes\":{},\"id\":\"14855\",\"type\":\"SaveTool\"},{\"attributes\":{\"formatter\":{\"id\":\"15904\"},\"ticker\":{\"id\":\"14885\"},\"visible\":false},\"id\":\"14884\",\"type\":\"LinearAxis\"},{\"attributes\":{\"bottom_units\":\"screen\",\"fill_alpha\":0.5,\"fill_color\":\"lightgrey\",\"left_units\":\"screen\",\"level\":\"overlay\",\"line_alpha\":1.0,\"line_color\":\"black\",\"line_dash\":[4,4],\"line_width\":2,\"right_units\":\"screen\",\"top_units\":\"screen\"},\"id\":\"14587\",\"type\":\"BoxAnnotation\"},{\"attributes\":{\"active_drag\":\"auto\",\"active_inspect\":\"auto\",\"active_multi\":null,\"active_scroll\":\"auto\",\"active_tap\":\"auto\",\"tools\":[{\"id\":\"14581\"},{\"id\":\"14582\"},{\"id\":\"14583\"},{\"id\":\"14584\"},{\"id\":\"14585\"},{\"id\":\"14586\"}]},\"id\":\"14588\",\"type\":\"Toolbar\"},{\"attributes\":{},\"id\":\"14857\",\"type\":\"HelpTool\"},{\"attributes\":{},\"id\":\"14658\",\"type\":\"WheelZoomTool\"},{\"attributes\":{},\"id\":\"14586\",\"type\":\"HelpTool\"},{\"attributes\":{\"active_drag\":null,\"active_inspect\":\"auto\",\"active_multi\":null,\"active_scroll\":\"auto\",\"active_tap\":\"auto\",\"tools\":[{\"id\":\"14852\"},{\"id\":\"14853\"},{\"id\":\"14854\"},{\"id\":\"14855\"},{\"id\":\"14856\"},{\"id\":\"14857\"}]},\"id\":\"14859\",\"type\":\"Toolbar\"},{\"attributes\":{\"axis\":{\"id\":\"14880\"},\"ticker\":null,\"visible\":false},\"id\":\"14883\",\"type\":\"Grid\"},{\"attributes\":{},\"id\":\"14657\",\"type\":\"PanTool\"},{\"attributes\":{\"background_fill_color\":\"#f4f4f4\",\"below\":[{\"id\":\"14808\"}],\"border_fill_color\":\"#f4f4f4\",\"center\":[{\"id\":\"14811\"},{\"id\":\"14815\"},{\"id\":\"14833\"}],\"left\":[{\"id\":\"14812\"}],\"outline_line_color\":null,\"output_backend\":\"webgl\",\"plot_height\":40,\"plot_width\":400,\"title\":null,\"toolbar\":{\"id\":\"14823\"},\"toolbar_location\":null,\"x_range\":{\"id\":\"14831\"},\"x_scale\":{\"id\":\"14804\"},\"y_range\":{\"id\":\"14832\"},\"y_scale\":{\"id\":\"14806\"}},\"id\":\"14798\",\"subtype\":\"Figure\",\"type\":\"Plot\"},{\"attributes\":{},\"id\":\"15944\",\"type\":\"BasicTickFormatter\"},{\"attributes\":{},\"id\":\"14780\",\"type\":\"PanTool\"},{\"attributes\":{},\"id\":\"14831\",\"type\":\"Range1d\"},{\"attributes\":{},\"id\":\"15920\",\"type\":\"BasicTickFormatter\"},{\"attributes\":{},\"id\":\"14781\",\"type\":\"WheelZoomTool\"},{\"attributes\":{},\"id\":\"14813\",\"type\":\"BasicTicker\"},{\"attributes\":{},\"id\":\"15922\",\"type\":\"BasicTickFormatter\"},{\"attributes\":{\"axis\":{\"id\":\"14812\"},\"dimension\":1,\"ticker\":null,\"visible\":false},\"id\":\"14815\",\"type\":\"Grid\"},{\"attributes\":{},\"id\":\"14783\",\"type\":\"SaveTool\"},{\"attributes\":{},\"id\":\"15942\",\"type\":\"BasicTickFormatter\"},{\"attributes\":{},\"id\":\"14784\",\"type\":\"ResetTool\"},{\"attributes\":{},\"id\":\"14785\",\"type\":\"HelpTool\"},{\"attributes\":{},\"id\":\"15940\",\"type\":\"BasicTickFormatter\"},{\"attributes\":{},\"id\":\"15914\",\"type\":\"BasicTickFormatter\"},{\"attributes\":{},\"id\":\"14832\",\"type\":\"Range1d\"},{\"attributes\":{\"active_drag\":null,\"active_inspect\":\"auto\",\"active_multi\":null,\"active_scroll\":\"auto\",\"active_tap\":\"auto\",\"tools\":[{\"id\":\"14780\"},{\"id\":\"14781\"},{\"id\":\"14782\"},{\"id\":\"14783\"},{\"id\":\"14784\"},{\"id\":\"14785\"}]},\"id\":\"14787\",\"type\":\"Toolbar\"},{\"attributes\":{\"formatter\":{\"id\":\"15922\"},\"ticker\":{\"id\":\"14813\"},\"visible\":false},\"id\":\"14812\",\"type\":\"LinearAxis\"},{\"attributes\":{},\"id\":\"15912\",\"type\":\"BasicTickFormatter\"},{\"attributes\":{},\"id\":\"15902\",\"type\":\"BasicTickFormatter\"},{\"attributes\":{\"axis\":{\"id\":\"14808\"},\"ticker\":null,\"visible\":false},\"id\":\"14811\",\"type\":\"Grid\"},{\"attributes\":{\"text\":\"ear_size\",\"text_align\":\"center\",\"text_baseline\":\"middle\",\"text_font_style\":\"italic\",\"x\":0.5,\"y\":0.5},\"id\":\"14833\",\"type\":\"Label\"},{\"attributes\":{},\"id\":\"15908\",\"type\":\"BasicTickFormatter\"},{\"attributes\":{\"overlay\":{\"id\":\"14786\"}},\"id\":\"14782\",\"type\":\"BoxZoomTool\"},{\"attributes\":{},\"id\":\"14574\",\"type\":\"BasicTicker\"},{\"attributes\":{\"formatter\":{\"id\":\"14721\"},\"ticker\":{\"id\":\"14574\"}},\"id\":\"14573\",\"type\":\"LinearAxis\"},{\"attributes\":{},\"id\":\"15946\",\"type\":\"BasicTickFormatter\"},{\"attributes\":{},\"id\":\"15906\",\"type\":\"BasicTickFormatter\"},{\"attributes\":{},\"id\":\"14809\",\"type\":\"BasicTicker\"},{\"attributes\":{},\"id\":\"14804\",\"type\":\"LinearScale\"},{\"attributes\":{},\"id\":\"15904\",\"type\":\"BasicTickFormatter\"},{\"attributes\":{\"background_fill_color\":\"#f4f4f4\",\"below\":[{\"id\":\"14916\"}],\"border_fill_color\":\"#f4f4f4\",\"center\":[{\"id\":\"14919\"},{\"id\":\"14923\"},{\"id\":\"14941\"}],\"left\":[{\"id\":\"14920\"}],\"outline_line_color\":null,\"output_backend\":\"webgl\",\"plot_height\":400,\"plot_width\":40,\"title\":null,\"toolbar\":{\"id\":\"14931\"},\"toolbar_location\":null,\"x_range\":{\"id\":\"14939\"},\"x_scale\":{\"id\":\"14912\"},\"y_range\":{\"id\":\"14940\"},\"y_scale\":{\"id\":\"14914\"}},\"id\":\"14906\",\"subtype\":\"Figure\",\"type\":\"Plot\"},{\"attributes\":{},\"id\":\"15900\",\"type\":\"BasicTickFormatter\"},{\"attributes\":{\"bottom_units\":\"screen\",\"fill_alpha\":0.5,\"fill_color\":\"lightgrey\",\"left_units\":\"screen\",\"level\":\"overlay\",\"line_alpha\":1.0,\"line_color\":\"black\",\"line_dash\":[4,4],\"line_width\":2,\"right_units\":\"screen\",\"top_units\":\"screen\"},\"id\":\"14786\",\"type\":\"BoxAnnotation\"},{\"attributes\":{},\"id\":\"15896\",\"type\":\"BasicTickFormatter\"},{\"attributes\":{\"formatter\":{\"id\":\"15920\"},\"ticker\":{\"id\":\"14809\"},\"visible\":false},\"id\":\"14808\",\"type\":\"LinearAxis\"},{\"attributes\":{},\"id\":\"14806\",\"type\":\"LinearScale\"},{\"attributes\":{},\"id\":\"15898\",\"type\":\"BasicTickFormatter\"},{\"attributes\":{},\"id\":\"15089\",\"type\":\"BasicTickFormatter\"},{\"attributes\":{\"axis\":{\"id\":\"15024\"},\"ticker\":null,\"visible\":false},\"id\":\"15027\",\"type\":\"Grid\"},{\"attributes\":{},\"id\":\"15091\",\"type\":\"BasicTickFormatter\"},{\"attributes\":{\"formatter\":{\"id\":\"15944\"},\"ticker\":{\"id\":\"15025\"},\"visible\":false},\"id\":\"15024\",\"type\":\"LinearAxis\"},{\"attributes\":{\"sizing_mode\":\"stretch_width\"},\"id\":\"15117\",\"type\":\"Spacer\"},{\"attributes\":{},\"id\":\"15025\",\"type\":\"BasicTicker\"},{\"attributes\":{\"sizing_mode\":\"stretch_width\"},\"id\":\"15119\",\"type\":\"Spacer\"},{\"attributes\":{\"active_drag\":null,\"active_inspect\":\"auto\",\"active_multi\":null,\"active_scroll\":\"auto\",\"active_tap\":\"auto\",\"tools\":[{\"id\":\"14996\"},{\"id\":\"14997\"},{\"id\":\"14998\"},{\"id\":\"14999\"},{\"id\":\"15000\"},{\"id\":\"15001\"}]},\"id\":\"15003\",\"type\":\"Toolbar\"},{\"attributes\":{},\"id\":\"15020\",\"type\":\"LinearScale\"},{\"attributes\":{\"formatter\":{\"id\":\"15946\"},\"ticker\":{\"id\":\"15029\"},\"visible\":false},\"id\":\"15028\",\"type\":\"LinearAxis\"},{\"attributes\":{},\"id\":\"15033\",\"type\":\"WheelZoomTool\"},{\"attributes\":{},\"id\":\"15029\",\"type\":\"BasicTicker\"},{\"attributes\":{},\"id\":\"15068\",\"type\":\"PanTool\"},{\"attributes\":{\"formatter\":{\"id\":\"15089\"},\"ticker\":{\"id\":\"15061\"},\"visible\":false},\"id\":\"15060\",\"type\":\"LinearAxis\"},{\"attributes\":{\"overlay\":{\"id\":\"15074\"}},\"id\":\"15070\",\"type\":\"BoxZoomTool\"},{\"attributes\":{\"data_source\":{\"id\":\"15082\"},\"glyph\":{\"id\":\"15083\"},\"hover_glyph\":null,\"muted_glyph\":null,\"nonselection_glyph\":{\"id\":\"15084\"},\"selection_glyph\":null,\"view\":{\"id\":\"15086\"}},\"id\":\"15085\",\"type\":\"GlyphRenderer\"},{\"attributes\":{},\"id\":\"15069\",\"type\":\"WheelZoomTool\"},{\"attributes\":{},\"id\":\"15022\",\"type\":\"LinearScale\"},{\"attributes\":{\"axis\":{\"id\":\"15064\"},\"dimension\":1,\"ticker\":null,\"visible\":false},\"id\":\"15067\",\"type\":\"Grid\"},{\"attributes\":{\"overlay\":{\"id\":\"15038\"}},\"id\":\"15034\",\"type\":\"BoxZoomTool\"},{\"attributes\":{},\"id\":\"14999\",\"type\":\"SaveTool\"},{\"attributes\":{\"source\":{\"id\":\"15082\"}},\"id\":\"15086\",\"type\":\"CDSView\"},{\"attributes\":{},\"id\":\"15058\",\"type\":\"LinearScale\"},{\"attributes\":{},\"id\":\"15073\",\"type\":\"HelpTool\"},{\"attributes\":{},\"id\":\"15056\",\"type\":\"LinearScale\"},{\"attributes\":{\"axis\":{\"id\":\"15028\"},\"dimension\":1,\"ticker\":null,\"visible\":false},\"id\":\"15031\",\"type\":\"Grid\"},{\"attributes\":{\"fill_alpha\":{\"value\":0.4},\"fill_color\":{\"value\":\"#1f77b4\"},\"line_alpha\":{\"value\":0.4},\"line_color\":{\"value\":\"#1f77b4\"},\"x\":{\"field\":\"x\"},\"y\":{\"field\":\"y\"}},\"id\":\"15083\",\"type\":\"Circle\"},{\"attributes\":{},\"id\":\"15071\",\"type\":\"SaveTool\"},{\"attributes\":{\"data\":{\"x\":[0,0.1],\"y\":[0,0.1]},\"selected\":{\"id\":\"15093\"},\"selection_policy\":{\"id\":\"15092\"}},\"id\":\"15082\",\"type\":\"ColumnDataSource\"},{\"attributes\":{\"bottom_units\":\"screen\",\"fill_alpha\":0.5,\"fill_color\":\"lightgrey\",\"left_units\":\"screen\",\"level\":\"overlay\",\"line_alpha\":1.0,\"line_color\":\"black\",\"line_dash\":[4,4],\"line_width\":2,\"right_units\":\"screen\",\"top_units\":\"screen\"},\"id\":\"15002\",\"type\":\"BoxAnnotation\"},{\"attributes\":{\"width\":40},\"id\":\"15120\",\"type\":\"Spacer\"},{\"attributes\":{\"fill_alpha\":{\"value\":0.1},\"fill_color\":{\"value\":\"#1f77b4\"},\"line_alpha\":{\"value\":0.1},\"line_color\":{\"value\":\"#1f77b4\"},\"x\":{\"field\":\"x\"},\"y\":{\"field\":\"y\"}},\"id\":\"15084\",\"type\":\"Circle\"},{\"attributes\":{},\"id\":\"15065\",\"type\":\"BasicTicker\"},{\"attributes\":{},\"id\":\"15035\",\"type\":\"SaveTool\"},{\"attributes\":{},\"id\":\"15061\",\"type\":\"BasicTicker\"},{\"attributes\":{},\"id\":\"15072\",\"type\":\"ResetTool\"},{\"attributes\":{\"formatter\":{\"id\":\"15091\"},\"ticker\":{\"id\":\"15065\"},\"visible\":false},\"id\":\"15064\",\"type\":\"LinearAxis\"},{\"attributes\":{\"active_drag\":\"auto\",\"active_inspect\":\"auto\",\"active_multi\":null,\"active_scroll\":\"auto\",\"active_tap\":\"auto\",\"tools\":[{\"id\":\"15068\"},{\"id\":\"15069\"},{\"id\":\"15070\"},{\"id\":\"15071\"},{\"id\":\"15072\"},{\"id\":\"15073\"}]},\"id\":\"15075\",\"type\":\"Toolbar\"},{\"attributes\":{\"end\":-0.5,\"start\":-1.0},\"id\":\"15116\",\"type\":\"Range1d\"},{\"attributes\":{\"width\":40},\"id\":\"15118\",\"type\":\"Spacer\"},{\"attributes\":{\"axis\":{\"id\":\"15060\"},\"ticker\":null,\"visible\":false},\"id\":\"15063\",\"type\":\"Grid\"},{\"attributes\":{},\"id\":\"15001\",\"type\":\"HelpTool\"},{\"attributes\":{},\"id\":\"15032\",\"type\":\"PanTool\"},{\"attributes\":{},\"id\":\"15000\",\"type\":\"ResetTool\"},{\"attributes\":{\"bottom_units\":\"screen\",\"fill_alpha\":0.5,\"fill_color\":\"lightgrey\",\"left_units\":\"screen\",\"level\":\"overlay\",\"line_alpha\":1.0,\"line_color\":\"black\",\"line_dash\":[4,4],\"line_width\":2,\"right_units\":\"screen\",\"top_units\":\"screen\"},\"id\":\"15074\",\"type\":\"BoxAnnotation\"},{\"attributes\":{\"label\":{\"value\":\"cat\"},\"renderers\":[{\"id\":\"15100\"}]},\"id\":\"15112\",\"type\":\"LegendItem\"},{\"attributes\":{},\"id\":\"14997\",\"type\":\"WheelZoomTool\"},{\"attributes\":{},\"id\":\"14914\",\"type\":\"LinearScale\"},{\"attributes\":{\"formatter\":{\"id\":\"15912\"},\"ticker\":{\"id\":\"14917\"},\"visible\":false},\"id\":\"14916\",\"type\":\"LinearAxis\"},{\"attributes\":{\"angle\":-1.57,\"text\":\"nature\",\"text_align\":\"center\",\"text_baseline\":\"middle\",\"x\":0.5,\"y\":0.5},\"id\":\"14941\",\"type\":\"Label\"},{\"attributes\":{\"axis\":{\"id\":\"14956\"},\"dimension\":1,\"ticker\":null,\"visible\":false},\"id\":\"14959\",\"type\":\"Grid\"},{\"attributes\":{\"end\":-0.5,\"start\":-1.0},\"id\":\"15115\",\"type\":\"Range1d\"},{\"attributes\":{\"bottom_units\":\"screen\",\"fill_alpha\":0.5,\"fill_color\":\"lightgrey\",\"left_units\":\"screen\",\"level\":\"overlay\",\"line_alpha\":1.0,\"line_color\":\"black\",\"line_dash\":[4,4],\"line_width\":2,\"right_units\":\"screen\",\"top_units\":\"screen\"},\"id\":\"14894\",\"type\":\"BoxAnnotation\"},{\"attributes\":{\"overlay\":{\"id\":\"15002\"}},\"id\":\"14998\",\"type\":\"BoxZoomTool\"},{\"attributes\":{},\"id\":\"14960\",\"type\":\"PanTool\"},{\"attributes\":{},\"id\":\"14996\",\"type\":\"PanTool\"},{\"attributes\":{},\"id\":\"14912\",\"type\":\"LinearScale\"},{\"attributes\":{},\"id\":\"14984\",\"type\":\"LinearScale\"},{\"attributes\":{\"formatter\":{\"id\":\"15914\"},\"ticker\":{\"id\":\"14921\"},\"visible\":false},\"id\":\"14920\",\"type\":\"LinearAxis\"},{\"attributes\":{\"overlay\":{\"id\":\"14966\"}},\"id\":\"14962\",\"type\":\"BoxZoomTool\"},{\"attributes\":{\"background_fill_color\":\"#f4f4f4\",\"below\":[{\"id\":\"14988\"}],\"border_fill_color\":\"#f4f4f4\",\"center\":[{\"id\":\"14991\"},{\"id\":\"14995\"},{\"id\":\"15013\"}],\"left\":[{\"id\":\"14992\"}],\"outline_line_color\":null,\"output_backend\":\"webgl\",\"plot_height\":200,\"plot_width\":40,\"title\":null,\"toolbar\":{\"id\":\"15003\"},\"toolbar_location\":null,\"x_range\":{\"id\":\"15011\"},\"x_scale\":{\"id\":\"14984\"},\"y_range\":{\"id\":\"15012\"},\"y_scale\":{\"id\":\"14986\"}},\"id\":\"14978\",\"subtype\":\"Figure\",\"type\":\"Plot\"},{\"attributes\":{},\"id\":\"14891\",\"type\":\"SaveTool\"},{\"attributes\":{},\"id\":\"14961\",\"type\":\"WheelZoomTool\"},{\"attributes\":{\"axis\":{\"id\":\"14573\"},\"ticker\":null},\"id\":\"14576\",\"type\":\"Grid\"},{\"attributes\":{\"active_drag\":null,\"active_inspect\":\"auto\",\"active_multi\":null,\"active_scroll\":\"auto\",\"active_tap\":\"auto\",\"tools\":[{\"id\":\"14960\"},{\"id\":\"14961\"},{\"id\":\"14962\"},{\"id\":\"14963\"},{\"id\":\"14964\"},{\"id\":\"14965\"}]},\"id\":\"14967\",\"type\":\"Toolbar\"},{\"attributes\":{\"angle\":-1.57,\"text\":\"docile\",\"text_align\":\"center\",\"text_baseline\":\"middle\",\"x\":0.5,\"y\":0.5},\"id\":\"15013\",\"type\":\"Label\"},{\"attributes\":{\"bottom_units\":\"screen\",\"fill_alpha\":0.5,\"fill_color\":\"lightgrey\",\"left_units\":\"screen\",\"level\":\"overlay\",\"line_alpha\":1.0,\"line_color\":\"black\",\"line_dash\":[4,4],\"line_width\":2,\"right_units\":\"screen\",\"top_units\":\"screen\"},\"id\":\"14966\",\"type\":\"BoxAnnotation\"},{\"attributes\":{},\"id\":\"14964\",\"type\":\"ResetTool\"},{\"attributes\":{},\"id\":\"14917\",\"type\":\"BasicTicker\"},{\"attributes\":{\"background_fill_color\":\"#f4f4f4\",\"below\":[{\"id\":\"15060\"}],\"border_fill_color\":\"#f4f4f4\",\"center\":[{\"id\":\"15063\"},{\"id\":\"15067\"},{\"id\":\"15095\"}],\"left\":[{\"id\":\"15064\"}],\"outline_line_color\":null,\"output_backend\":\"webgl\",\"plot_height\":400,\"plot_width\":150,\"renderers\":[{\"id\":\"15085\"},{\"id\":\"15100\"}],\"title\":null,\"toolbar\":{\"id\":\"15075\"},\"toolbar_location\":null,\"x_range\":{\"id\":\"15115\"},\"x_scale\":{\"id\":\"15056\"},\"y_range\":{\"id\":\"15116\"},\"y_scale\":{\"id\":\"15058\"}},\"id\":\"15050\",\"subtype\":\"Figure\",\"type\":\"Plot\"},{\"attributes\":{},\"id\":\"15011\",\"type\":\"Range1d\"},{\"attributes\":{\"active_drag\":null,\"active_inspect\":\"auto\",\"active_multi\":null,\"active_scroll\":\"auto\",\"active_tap\":\"auto\",\"tools\":[{\"id\":\"14888\"},{\"id\":\"14889\"},{\"id\":\"14890\"},{\"id\":\"14891\"},{\"id\":\"14892\"},{\"id\":\"14893\"}]},\"id\":\"14895\",\"type\":\"Toolbar\"},{\"attributes\":{},\"id\":\"14965\",\"type\":\"HelpTool\"},{\"attributes\":{},\"id\":\"14892\",\"type\":\"ResetTool\"},{\"attributes\":{},\"id\":\"14963\",\"type\":\"SaveTool\"},{\"attributes\":{},\"id\":\"15012\",\"type\":\"Range1d\"},{\"attributes\":{},\"id\":\"14893\",\"type\":\"HelpTool\"},{\"attributes\":{\"background_fill_color\":\"#f4f4f4\",\"below\":[{\"id\":\"15024\"}],\"border_fill_color\":\"#f4f4f4\",\"center\":[{\"id\":\"15027\"},{\"id\":\"15031\"},{\"id\":\"15049\"}],\"left\":[{\"id\":\"15028\"}],\"outline_line_color\":null,\"output_backend\":\"webgl\",\"plot_height\":200,\"plot_width\":40,\"title\":null,\"toolbar\":{\"id\":\"15039\"},\"toolbar_location\":null,\"x_range\":{\"id\":\"15047\"},\"x_scale\":{\"id\":\"15020\"},\"y_range\":{\"id\":\"15048\"},\"y_scale\":{\"id\":\"15022\"}},\"id\":\"15014\",\"subtype\":\"Figure\",\"type\":\"Plot\"},{\"attributes\":{\"formatter\":{\"id\":\"15942\"},\"ticker\":{\"id\":\"14993\"},\"visible\":false},\"id\":\"14992\",\"type\":\"LinearAxis\"},{\"attributes\":{\"overlay\":{\"id\":\"14894\"}},\"id\":\"14890\",\"type\":\"BoxZoomTool\"},{\"attributes\":{\"axis\":{\"id\":\"14916\"},\"ticker\":null,\"visible\":false},\"id\":\"14919\",\"type\":\"Grid\"},{\"attributes\":{\"formatter\":{\"id\":\"15940\"},\"ticker\":{\"id\":\"14989\"},\"visible\":false},\"id\":\"14988\",\"type\":\"LinearAxis\"},{\"attributes\":{\"axis\":{\"id\":\"14992\"},\"dimension\":1,\"ticker\":null,\"visible\":false},\"id\":\"14995\",\"type\":\"Grid\"},{\"attributes\":{},\"id\":\"14889\",\"type\":\"WheelZoomTool\"},{\"attributes\":{},\"id\":\"14989\",\"type\":\"BasicTicker\"},{\"attributes\":{},\"id\":\"14888\",\"type\":\"PanTool\"},{\"attributes\":{},\"id\":\"14986\",\"type\":\"LinearScale\"},{\"attributes\":{},\"id\":\"14940\",\"type\":\"Range1d\"},{\"attributes\":{},\"id\":\"14939\",\"type\":\"Range1d\"},{\"attributes\":{},\"id\":\"14993\",\"type\":\"BasicTicker\"},{\"attributes\":{\"axis\":{\"id\":\"14988\"},\"ticker\":null,\"visible\":false},\"id\":\"14991\",\"type\":\"Grid\"},{\"attributes\":{},\"id\":\"14921\",\"type\":\"BasicTicker\"},{\"attributes\":{\"fill_alpha\":{\"value\":0.1},\"fill_color\":{\"value\":\"#ff7f0e\"},\"line_alpha\":{\"value\":0.1},\"line_color\":{\"value\":\"#ff7f0e\"},\"x\":{\"field\":\"x\"},\"y\":{\"field\":\"y\"}},\"id\":\"14711\",\"type\":\"Circle\"},{\"attributes\":{},\"id\":\"14842\",\"type\":\"LinearScale\"},{\"attributes\":{},\"id\":\"14868\",\"type\":\"Range1d\"},{\"attributes\":{},\"id\":\"14751\",\"type\":\"BasicTickFormatter\"},{\"attributes\":{},\"id\":\"14795\",\"type\":\"Range1d\"},{\"attributes\":{\"text\":\"dog\",\"text_align\":\"center\",\"text_baseline\":\"middle\",\"x\":0.5,\"y\":0.5},\"id\":\"14869\",\"type\":\"Label\"},{\"attributes\":{\"data_source\":{\"id\":\"14709\"},\"glyph\":{\"id\":\"14710\"},\"hover_glyph\":null,\"muted_glyph\":null,\"nonselection_glyph\":{\"id\":\"14711\"},\"selection_glyph\":null,\"view\":{\"id\":\"14713\"}},\"id\":\"14712\",\"type\":\"GlyphRenderer\"},{\"attributes\":{\"axis\":{\"id\":\"14577\"},\"dimension\":1,\"ticker\":null},\"id\":\"14580\",\"type\":\"Grid\"},{\"attributes\":{},\"id\":\"14777\",\"type\":\"BasicTicker\"},{\"attributes\":{\"bottom_units\":\"screen\",\"fill_alpha\":0.5,\"fill_color\":\"lightgrey\",\"left_units\":\"screen\",\"level\":\"overlay\",\"line_alpha\":1.0,\"line_color\":\"black\",\"line_dash\":[4,4],\"line_width\":2,\"right_units\":\"screen\",\"top_units\":\"screen\"},\"id\":\"14822\",\"type\":\"BoxAnnotation\"},{\"attributes\":{},\"id\":\"14867\",\"type\":\"Range1d\"},{\"attributes\":{},\"id\":\"14840\",\"type\":\"LinearScale\"},{\"attributes\":{},\"id\":\"14754\",\"type\":\"UnionRenderers\"},{\"attributes\":{},\"id\":\"14904\",\"type\":\"Range1d\"},{\"attributes\":{\"axis\":{\"id\":\"14776\"},\"dimension\":1,\"ticker\":null,\"visible\":false},\"id\":\"14779\",\"type\":\"Grid\"},{\"attributes\":{},\"id\":\"14753\",\"type\":\"BasicTickFormatter\"},{\"attributes\":{},\"id\":\"14755\",\"type\":\"Selection\"},{\"attributes\":{\"text\":\"cat\",\"text_align\":\"center\",\"text_baseline\":\"middle\",\"x\":0.5,\"y\":0.5},\"id\":\"14905\",\"type\":\"Label\"},{\"attributes\":{\"formatter\":{\"id\":\"15896\"},\"ticker\":{\"id\":\"14777\"},\"visible\":false},\"id\":\"14776\",\"type\":\"LinearAxis\"},{\"attributes\":{\"active_drag\":null,\"active_inspect\":\"auto\",\"active_multi\":null,\"active_scroll\":\"auto\",\"active_tap\":\"auto\",\"tools\":[{\"id\":\"14816\"},{\"id\":\"14817\"},{\"id\":\"14818\"},{\"id\":\"14819\"},{\"id\":\"14820\"},{\"id\":\"14821\"}]},\"id\":\"14823\",\"type\":\"Toolbar\"},{\"attributes\":{\"axis\":{\"id\":\"14772\"},\"ticker\":null,\"visible\":false},\"id\":\"14775\",\"type\":\"Grid\"},{\"attributes\":{},\"id\":\"14578\",\"type\":\"BasicTicker\"},{\"attributes\":{},\"id\":\"14878\",\"type\":\"LinearScale\"},{\"attributes\":{\"toolbars\":[{\"id\":\"14588\"},{\"id\":\"14664\"},{\"id\":\"14626\"},{\"id\":\"14702\"}],\"tools\":[{\"id\":\"14581\"},{\"id\":\"14582\"},{\"id\":\"14583\"},{\"id\":\"14584\"},{\"id\":\"14585\"},{\"id\":\"14586\"},{\"id\":\"14657\"},{\"id\":\"14658\"},{\"id\":\"14659\"},{\"id\":\"14660\"},{\"id\":\"14661\"},{\"id\":\"14662\"},{\"id\":\"14619\"},{\"id\":\"14620\"},{\"id\":\"14621\"},{\"id\":\"14622\"},{\"id\":\"14623\"},{\"id\":\"14624\"},{\"id\":\"14695\"},{\"id\":\"14696\"},{\"id\":\"14697\"},{\"id\":\"14698\"},{\"id\":\"14699\"},{\"id\":\"14700\"}]},\"id\":\"14759\",\"type\":\"ProxyToolbar\"},{\"attributes\":{},\"id\":\"14821\",\"type\":\"HelpTool\"},{\"attributes\":{\"formatter\":{\"id\":\"15894\"},\"ticker\":{\"id\":\"14773\"},\"visible\":false},\"id\":\"14772\",\"type\":\"LinearAxis\"},{\"attributes\":{\"overlay\":{\"id\":\"14822\"}},\"id\":\"14818\",\"type\":\"BoxZoomTool\"},{\"attributes\":{\"formatter\":{\"id\":\"14723\"},\"ticker\":{\"id\":\"14578\"}},\"id\":\"14577\",\"type\":\"LinearAxis\"},{\"attributes\":{},\"id\":\"14773\",\"type\":\"BasicTicker\"},{\"attributes\":{},\"id\":\"14770\",\"type\":\"LinearScale\"},{\"attributes\":{},\"id\":\"14819\",\"type\":\"SaveTool\"},{\"attributes\":{},\"id\":\"14820\",\"type\":\"ResetTool\"},{\"attributes\":{\"background_fill_color\":\"#f4f4f4\",\"below\":[{\"id\":\"14844\"}],\"border_fill_color\":\"#f4f4f4\",\"center\":[{\"id\":\"14847\"},{\"id\":\"14851\"},{\"id\":\"14869\"}],\"left\":[{\"id\":\"14848\"}],\"outline_line_color\":null,\"output_backend\":\"webgl\",\"plot_height\":40,\"plot_width\":200,\"title\":null,\"toolbar\":{\"id\":\"14859\"},\"toolbar_location\":null,\"x_range\":{\"id\":\"14867\"},\"x_scale\":{\"id\":\"14840\"},\"y_range\":{\"id\":\"14868\"},\"y_scale\":{\"id\":\"14842\"}},\"id\":\"14834\",\"subtype\":\"Figure\",\"type\":\"Plot\"},{\"attributes\":{},\"id\":\"14796\",\"type\":\"Range1d\"},{\"attributes\":{\"source\":{\"id\":\"14709\"}},\"id\":\"14713\",\"type\":\"CDSView\"},{\"attributes\":{},\"id\":\"14817\",\"type\":\"WheelZoomTool\"},{\"attributes\":{\"text\":\"animal\",\"text_align\":\"center\",\"text_baseline\":\"middle\",\"x\":0.5,\"y\":0.5},\"id\":\"14797\",\"type\":\"Label\"},{\"attributes\":{\"background_fill_color\":\"#f4f4f4\",\"below\":[{\"id\":\"14772\"}],\"border_fill_color\":\"#f4f4f4\",\"center\":[{\"id\":\"14775\"},{\"id\":\"14779\"},{\"id\":\"14797\"}],\"left\":[{\"id\":\"14776\"}],\"outline_line_color\":null,\"output_backend\":\"webgl\",\"plot_height\":40,\"plot_width\":400,\"title\":null,\"toolbar\":{\"id\":\"14787\"},\"toolbar_location\":null,\"x_range\":{\"id\":\"14795\"},\"x_scale\":{\"id\":\"14768\"},\"y_range\":{\"id\":\"14796\"},\"y_scale\":{\"id\":\"14770\"}},\"id\":\"14762\",\"subtype\":\"Figure\",\"type\":\"Plot\"},{\"attributes\":{},\"id\":\"14768\",\"type\":\"LinearScale\"},{\"attributes\":{},\"id\":\"14816\",\"type\":\"PanTool\"},{\"attributes\":{},\"id\":\"14876\",\"type\":\"LinearScale\"},{\"attributes\":{\"toolbar\":{\"id\":\"14759\"},\"toolbar_location\":\"above\"},\"id\":\"14760\",\"type\":\"ToolbarBox\"},{\"attributes\":{\"source\":{\"id\":\"14633\"}},\"id\":\"14637\",\"type\":\"CDSView\"},{\"attributes\":{},\"id\":\"14743\",\"type\":\"BasicTickFormatter\"},{\"attributes\":{\"formatter\":{\"id\":\"14751\"},\"ticker\":{\"id\":\"14688\"}},\"id\":\"14687\",\"type\":\"LinearAxis\"},{\"attributes\":{\"background_fill_color\":\"#f4f4f4\",\"below\":[{\"id\":\"14952\"}],\"border_fill_color\":\"#f4f4f4\",\"center\":[{\"id\":\"14955\"},{\"id\":\"14959\"},{\"id\":\"14977\"}],\"left\":[{\"id\":\"14956\"}],\"outline_line_color\":null,\"output_backend\":\"webgl\",\"plot_height\":400,\"plot_width\":40,\"title\":null,\"toolbar\":{\"id\":\"14967\"},\"toolbar_location\":null,\"x_range\":{\"id\":\"14975\"},\"x_scale\":{\"id\":\"14948\"},\"y_range\":{\"id\":\"14976\"},\"y_scale\":{\"id\":\"14950\"}},\"id\":\"14942\",\"subtype\":\"Figure\",\"type\":\"Plot\"},{\"attributes\":{\"fill_alpha\":{\"value\":0.1},\"fill_color\":{\"value\":\"#1f77b4\"},\"line_alpha\":{\"value\":0.1},\"line_color\":{\"value\":\"#1f77b4\"},\"x\":{\"field\":\"x\"},\"y\":{\"field\":\"y\"}},\"id\":\"14635\",\"type\":\"Circle\"},{\"attributes\":{\"data\":{\"x\":{\"__ndarray__\":\"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\",\"dtype\":\"float64\",\"order\":\"little\",\"shape\":[256]},\"y\":{\"__ndarray__\":\"7gKkYkZB5D9oPD1bSOO/v3bYcMzA/Oc/YDyP1ExC5T8ZEflfGan6v17qwJf/GPA/91BRx0JuAkBK9fVs32ruv6FtdA/1H9E/s6TmVqbd8z8x3f8CMKfgP57sU6CDJOQ/yWmMyU763j8xjKa2kXfJv2nYACKk9/O/t/1DfL/Apr8h67WT+7TyP4Yhl2kwnfa/usGvwN0x8D9/tbLrO+vsP+3HpR4nyAJAJFw+fqP+zr8CUNpsvcDOP7S1AsaNHqW/pkB6rdpB6b8vV9CKOksBwCoap1Yxkue/7lVFuQnT8z8MQpakB6b4v01AQhM85OG/6z3jB9Qk07/dP+2jutnhP2gqoO+XEOW/9TQs2elxer+1Vkhx1tnOPzFHRBmbQtk/kHP801Le4T8rK8HqB9HzPxe64B+dquw/mNrIwbld7D9EJ9lBg2vvv+LS0h5Mo9A/xs6p1WM4oz8PPgeUP8D8v1Iid6a3DdM/ocjv1hta2D/DLpI42Jzwv6+B9761x/q/q4giKAAk7z9JlP8Pjmbtvz2lE+02ZOo/MSWggvZCxL/6MdZIxo70v3EsS7VE0vE/Ax0XldY69D/RluOa4vX3v0cOBXoB8PK/O4Imv9NC8T82A2QsFlnavyIBsgKJTLy/XMQ4QeIM4j/Hvn6ScsryPwYoLO1jsdq/T+m69I7c4j9RLAfYJ9rvP0jJtzIg4vS/400YS6kL9D8VfkOM9Bz6P9T9TWHJTe+/DTBHAVjb+b9/7nBpf8jwv0wAsM7Ez/S/nM+ZgLh647857CTlgvLov9BwG8Dt08a/h8mbiwKg9j96aQSwHVL9PyK3yGr0deK/V7WSW9mSsz84E7OjzxPQv+3IOzV8R8O/ZyVdb6SFuL+pthNc36/dv0LMopZwneG/h56AHyAW8b94OzSFdV73PyBxXWwEYes/17yNG3T89D+Lx+ESj3jbv4pfwwSnm/a/mZZrCXbB+b98Q2m0sSffP0V09LhZbwHA4+cYZEFo8T8k4yPM9azxPwQ458LpvfG/+fFKq2sYuT8dmUJ3yyDTPxUyjqbTiNe/c29lV+WC4D/jwbeTWJiiPy3BZpXDsfY/F9Mq0UdHp7+O3aVpeUrnP8StCaKZXbk/TkRiTTmv2T8PawUMyBDvP8tWo56FLOI/4aMGBBIB9L+ZS8VDQJ/+P/Vbz5LMje0/ow2jQcAHkL9QJ1pazv3cv8be9qFbGvG/4AkHzei6+r/U9S+N5CjgP5CzBr5VLfI/YD46ao5c7z/OWjCsUyvnvxKhYYiBc+2/5Gpjcc6q679VRdSBv+irP9atpa3zhK2/bDeXTex4+T8jP7XExx6uv/dzmQWs3uA/anAQrYrl9z8er0EUFQfXv3gQGYt7FuO/xxg0C2g75j8iKc3TmWTJv0sYcGJ0WPM/jRx8/KEl4z9TijcrS/bYv3VduY35XOg/ylGKCHJ10j8ae8Il+H7gP5RuUITkevg/qMsipf1r7T8mzvhQWb73v/6LmrYdt+Q/I7HUqC8k07+DOA+8biz3v46fRndIgbG/GKD3rr4Z1T9sT/mrJ4PWP0R30qGic68/owl1Pw5z9D9ijwlZCRGWv7UxvpZvUtw/JhIGEV7v6L9LBYE6InbiPzQ4DzSkD+c/RA2V5F/92T8wXNieOiL5v+2amcCfFP8/be/M6p7S+z9PM4dW3bbov+oTB2y+n9E/GOFYSjP81z8thghNVtrxP3Q/TSS9rPG/BGYDAbFh9L/+4pgXAgfwP6nd/OHwXeo/tcVMy4Fx8789ZEck19z1v6brMFN5QOK/6kZVHDpm9j8ezg3ba5rqPx5fGq8kCuc/R+MrzJjm7D9M5LpXG1vav15n4EdI3Ok/O35GiEVv6D8xFK/pNOTmv84FbS7qANm/5RarAvDW/j8+00pTgN3EP1nd2yzYTPO/DEoofyEr7T+NzkxdCd/EvzgxvjG+fNM/9LCGTYzW878nv2Mbig78v7jMFwOQLfA/IMdVe4Ur4b/NJ/B3Yvjsvx5Chue3MtO/57dULCRT1r9O/0Pit03jPx+9hT9zkfq/L0nyDLgi8j9ARoVwLF/tPwkIvKonbNY/T96dfhvf7j/qnHvS3hnsPwW1PvfIoKa/ymKSqLTI5D/oGioKKGXgv5vfRuBv6vc/UTGvDVpL37+uZWS/VLwRvxbfzMx3cM+/n4nr5Ty54j8KtrTpId/UP9OC2qU6JK4/5jJKTqtatr92OEloVcjyP/5NPzqvZ9m/+Da94B/18T8vu8LOO40BQAfRdyszj+O/IFEtFyOw6T97E7vCl6T0P4KWgCJPNvI/sfmnNYbLtz/7OJJtsNPAv1xu9mKSusm/XKy2JwwGpb+Wev3KpNfAvxfYdppc8dG/Irz1vgO93z8rrj5RrzDlP0ESFmt+8uw/Gt3iEiDX3L8Xj7LFfFH/P08eCawbc/C/g+CqOyMjyr8J26eRY2LaP7lDKj8DQ/2/Cq0LUsdp8T9FoLI2i7vpvzcYYrvpzvk/vuZxj5LB6D+/zzcbw6P6PzkWSVCbm9S/iLcj2cFV9T/jkmoY6KbTv3Lopg2Z6fi/ZlKvV4vr8z8X1qPJJAzsP2vsWGtGIeY/Xiw+4uXIyz/BgTYwYKfkPzUBTU/P+e+/1XPA/91x8b/oEwtfE+vrP6OoJvtjy+C/Qb2c6SdW9L+oidtfkfX0v0mPaIbegfO/GETTKxGm5L+/u5MaCK/Rv3+spvK8NPG/lCee50J48L8=\",\"dtype\":\"float64\",\"order\":\"little\",\"shape\":[256]}},\"selected\":{\"id\":\"14755\"},\"selection_policy\":{\"id\":\"14754\"}},\"id\":\"14709\",\"type\":\"ColumnDataSource\"},{\"attributes\":{},\"id\":\"14953\",\"type\":\"BasicTicker\"},{\"attributes\":{},\"id\":\"14975\",\"type\":\"Range1d\"},{\"attributes\":{\"formatter\":{\"id\":\"14753\"},\"ticker\":{\"id\":\"14692\"}},\"id\":\"14691\",\"type\":\"LinearAxis\"},{\"attributes\":{\"axis\":{\"id\":\"14687\"},\"ticker\":null},\"id\":\"14690\",\"type\":\"Grid\"},{\"attributes\":{},\"id\":\"14735\",\"type\":\"Selection\"},{\"attributes\":{},\"id\":\"14734\",\"type\":\"UnionRenderers\"},{\"attributes\":{},\"id\":\"14957\",\"type\":\"BasicTicker\"},{\"attributes\":{\"bounds\":[-3.0709224489947355,3.2097224920456067],\"end\":3.2097224920456067,\"start\":-3.0709224489947355},\"id\":\"14716\",\"type\":\"Range1d\"},{\"attributes\":{\"text\":\"\"},\"id\":\"14748\",\"type\":\"Title\"},{\"attributes\":{},\"id\":\"14733\",\"type\":\"BasicTickFormatter\"},{\"attributes\":{\"text\":\"\"},\"id\":\"14738\",\"type\":\"Title\"},{\"attributes\":{\"active_drag\":\"auto\",\"active_inspect\":\"auto\",\"active_multi\":null,\"active_scroll\":\"auto\",\"active_tap\":\"auto\",\"tools\":[{\"id\":\"14657\"},{\"id\":\"14658\"},{\"id\":\"14659\"},{\"id\":\"14660\"},{\"id\":\"14661\"},{\"id\":\"14662\"}]},\"id\":\"14664\",\"type\":\"Toolbar\"},{\"attributes\":{},\"id\":\"14924\",\"type\":\"PanTool\"},{\"attributes\":{\"bottom_units\":\"screen\",\"fill_alpha\":0.5,\"fill_color\":\"lightgrey\",\"left_units\":\"screen\",\"level\":\"overlay\",\"line_alpha\":1.0,\"line_color\":\"black\",\"line_dash\":[4,4],\"line_width\":2,\"right_units\":\"screen\",\"top_units\":\"screen\"},\"id\":\"14701\",\"type\":\"BoxAnnotation\"},{\"attributes\":{\"data_source\":{\"id\":\"14633\"},\"glyph\":{\"id\":\"14634\"},\"hover_glyph\":null,\"muted_glyph\":null,\"nonselection_glyph\":{\"id\":\"14635\"},\"selection_glyph\":null,\"view\":{\"id\":\"14637\"}},\"id\":\"14636\",\"type\":\"GlyphRenderer\"},{\"attributes\":{\"formatter\":{\"id\":\"15908\"},\"ticker\":{\"id\":\"14957\"},\"visible\":false},\"id\":\"14956\",\"type\":\"LinearAxis\"},{\"attributes\":{},\"id\":\"14685\",\"type\":\"LinearScale\"},{\"attributes\":{},\"id\":\"14654\",\"type\":\"BasicTicker\"},{\"attributes\":{\"data\":{\"x\":{\"__ndarray__\":\"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\",\"dtype\":\"float64\",\"order\":\"little\",\"shape\":[232]},\"y\":{\"__ndarray__\":\"rsXAsjd2y78MzORyWVjZv3xM/+wccv2/Xhsv/YJB+b9Z8avx+KHbv990P+zfU8M/h+DPoKJb+r++iLggVSnjPzij0gMoavw/lmI3kdGX1D/L9/U0fuz6P1qR43y3ROK/GTlFcNBhsj8IS6jjhUPlP4SMZI/k+tu/NR7KAoSF9D/iflV8LZvQvxOMpLJ1z+k/8yAkNfBX3D82R3hPMnHnvweJnp+/Ffq/5T9E6mRs0L9AXYHrFHzyv8rj70VLyfy/Qq1L0+aQ8b9OA9JSHXjvP+w+7Jtv7Lu/nyB0X0Sh2r9y234vKzPjP75Y0jJhFuQ/NKJOChfu8D9xM1l9oVX0v2NGYRtZMQZAgtXzgwmO7T+xr1fe4z70PyD3FqE4Ip+/iuXzLmLrtD9Dxijq2SHmvyvUA8C62PU/LuITPluJ9r+lhQncfzPoP9dFSoxTXOK/0TQOnSA3x7/aBSn15+fGvxWyjrE5Btk/GoDJh1Dd879WzxjdvsHgv7Mv7z2Ms+M/Y4KPBIFv7b/tPW/D/F7Tv9+EszTnvt8/ml8eUL8nwr+f8+caZ6rFPzahwLfPlN6/I1A0PYnNwr+FCtN+QmD6P3fpv9RtVfe/IbygK6VZtj/X4g81WUHZP/+Uqhvywfe/ctLqcfjs5T8eFPnrgSHkP5mGheoBFuE/pl+fY4tq8b/WlZd+6krdP5qfSQA7FuO/yqJgQnv/3j8VNzJUYEHqPznzKWgJovG/7TcjGMPZ0j8EiMh7MaDRP2GWXM+Rrtu/px9LW5nt2z/ZcuETdcPzP3rEsnvS3/a/x6kq2rYt5D9fdJdO1j3eP6Dc4mkjQsm/Ha3YsRG0xr/4cnraVKbvPxwpbBm0sNw/dRznHI8Gyr8lHz9LlDi5P7hGitIKv9Y/e/rRr8ra+D8Fo9KQiwLSP98hAQ6NEva/RPXt/KYs5z9OCCSsGAVzP++vuKGHYvC/Oq5Je47P7L89xP2wIdrXP4lv0UaDMQBABASWGFcvpj9wKLg5uKnyP9KpWUicq/g/RolAXPeisT/ns0Nuzm/5v4bBptveLcC/joZDfoKf/78lE6ARb4Pmv+y1nL8yj+2/juMcThEmyD9+GV+GlBTXPwPTiN1S9QTArLl5dTrQ8L/F7upm6riSv5pmfmpeScE/cnlrLOEe+D+1D387nt/iv48QllGm7OI/w2lgOJwI8z+Jjr29P/nqvxux1nUtKOi/0anjvAfo/r9ZbiCK1+j4v8qI/tweKPI/mdsLe+5nyT/dLgFDgOf5vy9jmB6B1fE/xeLVkQ1h57+5MrgeziXSP8bTqX6QGPE/AEXxI9Bj4T+PP8R+ceDhP+2/4GDKxvY/3ldtIdDClT9VegQyP/Tpv7/hg1FRCvm/bxegJV0I7j+yg1NqW1/+P1KYHK66Mec/oqA3ggFOx786vWmptS7yP2TbYitBkuk/wZq0CH4V879jmgqS+f8PwFw3CzKdiNq/85Axd+Sc6r9hcA7GWtfbv4LUV1/iMM8/gGgo1CTP5b/+3Yw/5c3WP/zrYn3Z5vA/7CwFrvpC5j/8iUcmTkOrv8up9DTMPbm/LxBW8haY9D9TGUscvcb1PxpHWCN2zf8/US8Ed92N2T9ULVaG3uMAwAnetIqCPem/ZGjUVzFQ5L/Zg/sBYELlP+8D1YrhNuO/naXTHrLr7D/RyCPDQO7eP9ixES19AZy/ex111Pu84L8LbAo9Fm3mv3QKzh6CcZo/6dZy3CHwAMDpaHkxpSzJP3iV2Cj8tpE/+l4Gb9WoB0CgqtJ3Z+PjPxB6Q8BrVOi/9cM+Qbr/yr/bH0eZc+L3v6YgpMEp2fa//I5hCa3S4z9nRHIJ8MuvP5pxu14oQeE/VgJOGpsk5j/FErbJxdfMv6fHT7sCXPC/F7XQt3LL9z+YffsEd/jzP8+sgmQyEeI/54gultslxr/uvCTuHe3BP7t9j/FxnNo/GKBubvMF8b/4yYv1WOHAPyax82qkZdA/wOVVknDf8T+OOtej1yntP5W0DgODNOc/LSmvUWB/6T+wrQJuOO/mP9Ut2noCifO/wpK/1G+jnb+IwM/AAlDnv8DnlUhnGvC/o9MyUEVd1b+E72rDIin8P/CHJN/zJ+0/IKc2SNjQzj/e+KU13dPevyXwwpzzuPK/kCt1V+Kk+78JwATfPjLnv9wHGAnNNOK/qBzdzRva4L+q5AdWiM3tvwP7RKKta+I/tujVIyS64L86T7ESpGXTP594xqjb3/4/TQxM/ZJBAEBeJukwshPwP4kohbJna/C/XVADSNeC4z+A3MHrI1/4P8NS1YcITsk/Q+h0eOmTvD8+TxUDb+X3v0bSF3mU2/S/mUqFahNa37+neEIajXXbP4vyG/fxiuG/h1rCC1/b3j9NebTJfjX5v6RhEH4P6+S/riWfCL/hxj+Bhi2vvJneP0hKDZbER/c/CfhOWHkosD+90RvR4Lm1vyyuboulBeE/UBN6USt+x78=\",\"dtype\":\"float64\",\"order\":\"little\",\"shape\":[232]}},\"selected\":{\"id\":\"14735\"},\"selection_policy\":{\"id\":\"14734\"}},\"id\":\"14671\",\"type\":\"ColumnDataSource\"},{\"attributes\":{\"source\":{\"id\":\"14671\"}},\"id\":\"14675\",\"type\":\"CDSView\"},{\"attributes\":{},\"id\":\"14925\",\"type\":\"WheelZoomTool\"},{\"attributes\":{\"axis\":{\"id\":\"14691\"},\"dimension\":1,\"ticker\":null},\"id\":\"14694\",\"type\":\"Grid\"},{\"attributes\":{},\"id\":\"14741\",\"type\":\"BasicTickFormatter\"},{\"attributes\":{},\"id\":\"14650\",\"type\":\"BasicTicker\"},{\"attributes\":{\"overlay\":{\"id\":\"14930\"}},\"id\":\"14926\",\"type\":\"BoxZoomTool\"},{\"attributes\":{},\"id\":\"14647\",\"type\":\"LinearScale\"},{\"attributes\":{\"axis\":{\"id\":\"14952\"},\"ticker\":null,\"visible\":false},\"id\":\"14955\",\"type\":\"Grid\"},{\"attributes\":{\"active_drag\":\"auto\",\"active_inspect\":\"auto\",\"active_multi\":null,\"active_scroll\":\"auto\",\"active_tap\":\"auto\",\"tools\":[{\"id\":\"14695\"},{\"id\":\"14696\"},{\"id\":\"14697\"},{\"id\":\"14698\"},{\"id\":\"14699\"},{\"id\":\"14700\"}]},\"id\":\"14702\",\"type\":\"Toolbar\"},{\"attributes\":{},\"id\":\"14929\",\"type\":\"HelpTool\"},{\"attributes\":{},\"id\":\"14699\",\"type\":\"ResetTool\"},{\"attributes\":{\"axis\":{\"id\":\"14920\"},\"dimension\":1,\"ticker\":null,\"visible\":false},\"id\":\"14923\",\"type\":\"Grid\"},{\"attributes\":{},\"id\":\"14700\",\"type\":\"HelpTool\"},{\"attributes\":{},\"id\":\"14698\",\"type\":\"SaveTool\"},{\"attributes\":{\"text\":\"\"},\"id\":\"14718\",\"type\":\"Title\"},{\"attributes\":{},\"id\":\"14696\",\"type\":\"WheelZoomTool\"},{\"attributes\":{\"formatter\":{\"id\":\"14731\"},\"ticker\":{\"id\":\"14650\"}},\"id\":\"14649\",\"type\":\"LinearAxis\"},{\"attributes\":{\"active_drag\":null,\"active_inspect\":\"auto\",\"active_multi\":null,\"active_scroll\":\"auto\",\"active_tap\":\"auto\",\"tools\":[{\"id\":\"14924\"},{\"id\":\"14925\"},{\"id\":\"14926\"},{\"id\":\"14927\"},{\"id\":\"14928\"},{\"id\":\"14929\"}]},\"id\":\"14931\",\"type\":\"Toolbar\"},{\"attributes\":{},\"id\":\"14950\",\"type\":\"LinearScale\"},{\"attributes\":{\"data_source\":{\"id\":\"14671\"},\"glyph\":{\"id\":\"14672\"},\"hover_glyph\":null,\"muted_glyph\":null,\"nonselection_glyph\":{\"id\":\"14673\"},\"selection_glyph\":null,\"view\":{\"id\":\"14675\"}},\"id\":\"14674\",\"type\":\"GlyphRenderer\"},{\"attributes\":{\"fill_alpha\":{\"value\":0.4},\"fill_color\":{\"value\":\"#ff7f0e\"},\"line_alpha\":{\"value\":0.4},\"line_color\":{\"value\":\"#ff7f0e\"},\"x\":{\"field\":\"x\"},\"y\":{\"field\":\"y\"}},\"id\":\"14672\",\"type\":\"Circle\"},{\"attributes\":{\"fill_alpha\":{\"value\":0.1},\"fill_color\":{\"value\":\"#ff7f0e\"},\"line_alpha\":{\"value\":0.1},\"line_color\":{\"value\":\"#ff7f0e\"},\"x\":{\"field\":\"x\"},\"y\":{\"field\":\"y\"}},\"id\":\"14673\",\"type\":\"Circle\"},{\"attributes\":{\"formatter\":{\"id\":\"15906\"},\"ticker\":{\"id\":\"14953\"},\"visible\":false},\"id\":\"14952\",\"type\":\"LinearAxis\"},{\"attributes\":{\"overlay\":{\"id\":\"14701\"}},\"id\":\"14697\",\"type\":\"BoxZoomTool\"},{\"attributes\":{},\"id\":\"14661\",\"type\":\"ResetTool\"},{\"attributes\":{},\"id\":\"14695\",\"type\":\"PanTool\"},{\"attributes\":{},\"id\":\"14662\",\"type\":\"HelpTool\"},{\"attributes\":{\"bounds\":[-3.9999877366529275,3.012559042864929],\"end\":3.012559042864929,\"start\":-3.9999877366529275},\"id\":\"14717\",\"type\":\"Range1d\"},{\"attributes\":{},\"id\":\"14745\",\"type\":\"Selection\"},{\"attributes\":{\"bottom_units\":\"screen\",\"fill_alpha\":0.5,\"fill_color\":\"lightgrey\",\"left_units\":\"screen\",\"level\":\"overlay\",\"line_alpha\":1.0,\"line_color\":\"black\",\"line_dash\":[4,4],\"line_width\":2,\"right_units\":\"screen\",\"top_units\":\"screen\"},\"id\":\"14663\",\"type\":\"BoxAnnotation\"},{\"attributes\":{\"bottom_units\":\"screen\",\"fill_alpha\":0.5,\"fill_color\":\"lightgrey\",\"left_units\":\"screen\",\"level\":\"overlay\",\"line_alpha\":1.0,\"line_color\":\"black\",\"line_dash\":[4,4],\"line_width\":2,\"right_units\":\"screen\",\"top_units\":\"screen\"},\"id\":\"14930\",\"type\":\"BoxAnnotation\"},{\"attributes\":{},\"id\":\"14948\",\"type\":\"LinearScale\"},{\"attributes\":{\"formatter\":{\"id\":\"14733\"},\"ticker\":{\"id\":\"14654\"}},\"id\":\"14653\",\"type\":\"LinearAxis\"},{\"attributes\":{},\"id\":\"14976\",\"type\":\"Range1d\"},{\"attributes\":{},\"id\":\"14645\",\"type\":\"LinearScale\"},{\"attributes\":{},\"id\":\"14688\",\"type\":\"BasicTicker\"},{\"attributes\":{},\"id\":\"14692\",\"type\":\"BasicTicker\"},{\"attributes\":{},\"id\":\"14927\",\"type\":\"SaveTool\"},{\"attributes\":{\"fill_alpha\":{\"value\":0.4},\"fill_color\":{\"value\":\"#ff7f0e\"},\"line_alpha\":{\"value\":0.4},\"line_color\":{\"value\":\"#ff7f0e\"},\"x\":{\"field\":\"x\"},\"y\":{\"field\":\"y\"}},\"id\":\"14710\",\"type\":\"Circle\"},{\"attributes\":{\"data\":{\"x\":{\"__ndarray__\":\"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\",\"dtype\":\"float64\",\"order\":\"little\",\"shape\":[249]},\"y\":{\"__ndarray__\":\"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\",\"dtype\":\"float64\",\"order\":\"little\",\"shape\":[249]}},\"selected\":{\"id\":\"14745\"},\"selection_policy\":{\"id\":\"14744\"}},\"id\":\"14633\",\"type\":\"ColumnDataSource\"},{\"attributes\":{},\"id\":\"14928\",\"type\":\"ResetTool\"},{\"attributes\":{\"axis\":{\"id\":\"14649\"},\"ticker\":null},\"id\":\"14652\",\"type\":\"Grid\"},{\"attributes\":{},\"id\":\"14683\",\"type\":\"LinearScale\"},{\"attributes\":{},\"id\":\"14744\",\"type\":\"UnionRenderers\"},{\"attributes\":{\"angle\":1.57,\"text\":\"paw_size\",\"text_align\":\"center\",\"text_baseline\":\"middle\",\"text_font_style\":\"italic\",\"x\":0.5,\"y\":0.5},\"id\":\"14977\",\"type\":\"Label\"},{\"attributes\":{\"children\":[[{\"id\":\"14564\"},0,0],[{\"id\":\"14640\"},0,1],[{\"id\":\"14602\"},1,0],[{\"id\":\"14678\"},1,1]]},\"id\":\"14758\",\"type\":\"GridBox\"},{\"attributes\":{},\"id\":\"14723\",\"type\":\"BasicTickFormatter\"},{\"attributes\":{\"background_fill_color\":\"#f4f4f4\",\"below\":[{\"id\":\"14611\"}],\"border_fill_color\":\"#f4f4f4\",\"center\":[{\"id\":\"14614\"},{\"id\":\"14618\"}],\"left\":[{\"id\":\"14615\"}],\"output_backend\":\"webgl\",\"plot_height\":200,\"plot_width\":200,\"renderers\":[{\"id\":\"14636\"}],\"title\":{\"id\":\"14738\"},\"toolbar\":{\"id\":\"14626\"},\"toolbar_location\":null,\"x_range\":{\"id\":\"14716\"},\"x_scale\":{\"id\":\"14607\"},\"y_range\":{\"id\":\"14717\"},\"y_scale\":{\"id\":\"14609\"}},\"id\":\"14602\",\"subtype\":\"Figure\",\"type\":\"Plot\"},{\"attributes\":{},\"id\":\"14724\",\"type\":\"UnionRenderers\"},{\"attributes\":{},\"id\":\"14721\",\"type\":\"BasicTickFormatter\"},{\"attributes\":{},\"id\":\"14609\",\"type\":\"LinearScale\"},{\"attributes\":{},\"id\":\"15894\",\"type\":\"BasicTickFormatter\"},{\"attributes\":{},\"id\":\"14607\",\"type\":\"LinearScale\"},{\"attributes\":{\"formatter\":{\"id\":\"14741\"},\"ticker\":{\"id\":\"14612\"}},\"id\":\"14611\",\"type\":\"LinearAxis\"},{\"attributes\":{\"bottom_units\":\"screen\",\"fill_alpha\":0.5,\"fill_color\":\"lightgrey\",\"left_units\":\"screen\",\"level\":\"overlay\",\"line_alpha\":1.0,\"line_color\":\"black\",\"line_dash\":[4,4],\"line_width\":2,\"right_units\":\"screen\",\"top_units\":\"screen\"},\"id\":\"14625\",\"type\":\"BoxAnnotation\"},{\"attributes\":{},\"id\":\"14612\",\"type\":\"BasicTicker\"},{\"attributes\":{\"active_drag\":\"auto\",\"active_inspect\":\"auto\",\"active_multi\":null,\"active_scroll\":\"auto\",\"active_tap\":\"auto\",\"tools\":[{\"id\":\"14619\"},{\"id\":\"14620\"},{\"id\":\"14621\"},{\"id\":\"14622\"},{\"id\":\"14623\"},{\"id\":\"14624\"}]},\"id\":\"14626\",\"type\":\"Toolbar\"},{\"attributes\":{\"axis\":{\"id\":\"14611\"},\"ticker\":null},\"id\":\"14614\",\"type\":\"Grid\"},{\"attributes\":{},\"id\":\"14616\",\"type\":\"BasicTicker\"},{\"attributes\":{\"axis\":{\"id\":\"14653\"},\"dimension\":1,\"ticker\":null},\"id\":\"14656\",\"type\":\"Grid\"},{\"attributes\":{},\"id\":\"14731\",\"type\":\"BasicTickFormatter\"},{\"attributes\":{\"axis\":{\"id\":\"14615\"},\"dimension\":1,\"ticker\":null},\"id\":\"14618\",\"type\":\"Grid\"},{\"attributes\":{},\"id\":\"14624\",\"type\":\"HelpTool\"},{\"attributes\":{\"formatter\":{\"id\":\"14743\"},\"ticker\":{\"id\":\"14616\"}},\"id\":\"14615\",\"type\":\"LinearAxis\"},{\"attributes\":{},\"id\":\"14623\",\"type\":\"ResetTool\"},{\"attributes\":{\"background_fill_color\":\"#f4f4f4\",\"below\":[{\"id\":\"14687\"}],\"border_fill_color\":\"#f4f4f4\",\"center\":[{\"id\":\"14690\"},{\"id\":\"14694\"}],\"left\":[{\"id\":\"14691\"}],\"output_backend\":\"webgl\",\"plot_height\":200,\"plot_width\":200,\"renderers\":[{\"id\":\"14712\"}],\"title\":{\"id\":\"14748\"},\"toolbar\":{\"id\":\"14702\"},\"toolbar_location\":null,\"x_range\":{\"id\":\"14716\"},\"x_scale\":{\"id\":\"14683\"},\"y_range\":{\"id\":\"14717\"},\"y_scale\":{\"id\":\"14685\"}},\"id\":\"14678\",\"subtype\":\"Figure\",\"type\":\"Plot\"},{\"attributes\":{},\"id\":\"14571\",\"type\":\"LinearScale\"},{\"attributes\":{},\"id\":\"14622\",\"type\":\"SaveTool\"},{\"attributes\":{},\"id\":\"14619\",\"type\":\"PanTool\"},{\"attributes\":{\"background_fill_color\":\"#f4f4f4\",\"below\":[{\"id\":\"14573\"}],\"border_fill_color\":\"#f4f4f4\",\"center\":[{\"id\":\"14576\"},{\"id\":\"14580\"}],\"left\":[{\"id\":\"14577\"}],\"output_backend\":\"webgl\",\"plot_height\":200,\"plot_width\":200,\"renderers\":[{\"id\":\"14598\"}],\"title\":{\"id\":\"14718\"},\"toolbar\":{\"id\":\"14588\"},\"toolbar_location\":null,\"x_range\":{\"id\":\"14716\"},\"x_scale\":{\"id\":\"14569\"},\"y_range\":{\"id\":\"14717\"},\"y_scale\":{\"id\":\"14571\"}},\"id\":\"14564\",\"subtype\":\"Figure\",\"type\":\"Plot\"},{\"attributes\":{},\"id\":\"14620\",\"type\":\"WheelZoomTool\"},{\"attributes\":{\"overlay\":{\"id\":\"14625\"}},\"id\":\"14621\",\"type\":\"BoxZoomTool\"},{\"attributes\":{\"items\":[{\"id\":\"15096\"},{\"id\":\"15112\"}]},\"id\":\"15095\",\"type\":\"Legend\"},{\"attributes\":{},\"id\":\"15092\",\"type\":\"UnionRenderers\"},{\"attributes\":{\"children\":[{\"id\":\"15123\"},{\"id\":\"14798\"},{\"id\":\"15124\"}]},\"id\":\"15130\",\"type\":\"Row\"},{\"attributes\":{\"label\":{\"value\":\"dog\"},\"renderers\":[{\"id\":\"15085\"}]},\"id\":\"15096\",\"type\":\"LegendItem\"},{\"attributes\":{},\"id\":\"15037\",\"type\":\"HelpTool\"},{\"attributes\":{\"active_drag\":null,\"active_inspect\":\"auto\",\"active_multi\":null,\"active_scroll\":\"auto\",\"active_tap\":\"auto\",\"tools\":[{\"id\":\"15032\"},{\"id\":\"15033\"},{\"id\":\"15034\"},{\"id\":\"15035\"},{\"id\":\"15036\"},{\"id\":\"15037\"}]},\"id\":\"15039\",\"type\":\"Toolbar\"},{\"attributes\":{},\"id\":\"15093\",\"type\":\"Selection\"},{\"attributes\":{\"children\":[{\"id\":\"15120\"},{\"id\":\"14834\"},{\"id\":\"14870\"},{\"id\":\"15121\"}]},\"id\":\"15127\",\"type\":\"Row\"},{\"attributes\":{\"angle\":-1.57,\"text\":\"fierce\",\"text_align\":\"center\",\"text_baseline\":\"middle\",\"x\":0.5,\"y\":0.5},\"id\":\"15049\",\"type\":\"Label\"},{\"attributes\":{\"data\":{\"x\":[0,0.1],\"y\":[0,0.1]},\"selected\":{\"id\":\"15110\"},\"selection_policy\":{\"id\":\"15109\"}},\"id\":\"15097\",\"type\":\"ColumnDataSource\"},{\"attributes\":{\"children\":[{\"id\":\"14942\"},{\"id\":\"15122\"},{\"id\":\"15128\"},{\"id\":\"14906\"},{\"id\":\"15050\"}]},\"id\":\"15129\",\"type\":\"Row\"},{\"attributes\":{},\"id\":\"15109\",\"type\":\"UnionRenderers\"},{\"attributes\":{\"fill_alpha\":{\"value\":0.1},\"fill_color\":{\"value\":\"#ff7f0e\"},\"line_alpha\":{\"value\":0.1},\"line_color\":{\"value\":\"#ff7f0e\"},\"x\":{\"field\":\"x\"},\"y\":{\"field\":\"y\"}},\"id\":\"15099\",\"type\":\"Circle\"},{\"attributes\":{},\"id\":\"15036\",\"type\":\"ResetTool\"},{\"attributes\":{\"fill_alpha\":{\"value\":0.4},\"fill_color\":{\"value\":\"#ff7f0e\"},\"line_alpha\":{\"value\":0.4},\"line_color\":{\"value\":\"#ff7f0e\"},\"x\":{\"field\":\"x\"},\"y\":{\"field\":\"y\"}},\"id\":\"15098\",\"type\":\"Circle\"},{\"attributes\":{\"children\":[{\"id\":\"14978\"},{\"id\":\"15014\"}]},\"id\":\"15128\",\"type\":\"Column\"},{\"attributes\":{\"data_source\":{\"id\":\"15097\"},\"glyph\":{\"id\":\"15098\"},\"hover_glyph\":null,\"muted_glyph\":null,\"nonselection_glyph\":{\"id\":\"15099\"},\"selection_glyph\":null,\"view\":{\"id\":\"15101\"}},\"id\":\"15100\",\"type\":\"GlyphRenderer\"},{\"attributes\":{\"children\":[{\"id\":\"15117\"},{\"id\":\"14760\"}]},\"id\":\"15125\",\"type\":\"Row\"},{\"attributes\":{},\"id\":\"15110\",\"type\":\"Selection\"},{\"attributes\":{\"source\":{\"id\":\"15097\"}},\"id\":\"15101\",\"type\":\"CDSView\"},{\"attributes\":{\"children\":[{\"id\":\"15118\"},{\"id\":\"14762\"},{\"id\":\"15119\"}]},\"id\":\"15126\",\"type\":\"Row\"},{\"attributes\":{\"children\":[{\"id\":\"14758\"}]},\"id\":\"15122\",\"type\":\"Row\"},{\"attributes\":{},\"id\":\"15048\",\"type\":\"Range1d\"},{\"attributes\":{\"sizing_mode\":\"stretch_width\"},\"id\":\"15121\",\"type\":\"Spacer\"},{\"attributes\":{\"sizing_mode\":\"stretch_width\"},\"id\":\"15124\",\"type\":\"Spacer\"},{\"attributes\":{},\"id\":\"15047\",\"type\":\"Range1d\"},{\"attributes\":{\"width\":40},\"id\":\"15123\",\"type\":\"Spacer\"},{\"attributes\":{\"bottom_units\":\"screen\",\"fill_alpha\":0.5,\"fill_color\":\"lightgrey\",\"left_units\":\"screen\",\"level\":\"overlay\",\"line_alpha\":1.0,\"line_color\":\"black\",\"line_dash\":[4,4],\"line_width\":2,\"right_units\":\"screen\",\"top_units\":\"screen\"},\"id\":\"15038\",\"type\":\"BoxAnnotation\"}],\"root_ids\":[\"15131\"]},\"title\":\"Bokeh Application\",\"version\":\"2.2.3\"}};\n",
       "  var render_items = [{\"docid\":\"4eab0867-752b-416d-84e0-78c55fdfa999\",\"root_ids\":[\"15131\"],\"roots\":{\"15131\":\"55645429-7404-41e8-a624-90b5a4c8997d\"}}];\n",
       "  root.Bokeh.embed.embed_items_notebook(docs_json, render_items);\n",
       "\n",
       "  }\n",
       "  if (root.Bokeh !== undefined) {\n",
       "    embed_document(root);\n",
       "  } else {\n",
       "    var attempts = 0;\n",
       "    var timer = setInterval(function(root) {\n",
       "      if (root.Bokeh !== undefined) {\n",
       "        clearInterval(timer);\n",
       "        embed_document(root);\n",
       "      } else {\n",
       "        attempts++;\n",
       "        if (attempts > 100) {\n",
       "          clearInterval(timer);\n",
       "          console.log(\"Bokeh: ERROR: Unable to run BokehJS code because BokehJS library is missing\");\n",
       "        }\n",
       "      }\n",
       "    }, 10, root)\n",
       "  }\n",
       "})(window);"
      ],
      "application/vnd.bokehjs_exec.v0+json": ""
     },
     "metadata": {
      "application/vnd.bokehjs_exec.v0+json": {
       "id": "15131"
      }
     },
     "output_type": "display_data"
    }
   ],
   "source": [
    "# Code to generate a facet plot\n",
    "import pandas as pd\n",
    "\n",
    "from aplanat import show\n",
    "from aplanat.layouts import facet_grid\n",
    "from aplanat.points import points\n",
    "\n",
    "df = pd.DataFrame({\n",
    "    'ear_size': np.random.normal(size=1000),\n",
    "    'paw_size': np.random.normal(size=1000),\n",
    "    'animal': np.random.choice(['cat', 'dog'], size=1000),\n",
    "    'size': np.random.choice(['big', 'small'], size=1000),\n",
    "    'nature': np.random.choice(['docile', 'fierce'], size=1000)})\n",
    "\n",
    "# plot the data facets\n",
    "p = facet_grid(\n",
    "    df, {'x':'ear_size', 'y':'paw_size', 'col':'animal'},\n",
    "    points, facet=('animal', 'nature'), height=200, width=200,\n",
    "    x_axis_label='ear_size', y_axis_label='paw_size',\n",
    "    x_facet_heading='animal', y_facet_heading='nature')\n",
    "# show the plot\n",
    "show(p, background=\"#f4f4f4\")"
   ]
  },
  {
   "attachments": {
    "b38feba9-ba3c-43c4-bf7d-c5e1857eb53b.png": {
     "image/png": "[encoded data removed]"
    }
   },
   "cell_type": "markdown",
   "metadata": {},
   "source": [
    "### Creating standalone reports\n",
    "\n",
    "Interactive notebooks are great, but sometimes it is desirable to create a report for posterity. It is possible to simply export a notebook to any number of formats from the `>File` menu of the EPI2ME Labs interface:\n",
    "\n",
    "![image.png](attachment:b38feba9-ba3c-43c4-bf7d-c5e1857eb53b.png)\n",
    "\n",
    "The result however is often filled with code when all we really want is a document containing tables and graphs displaying our data. `aplanat` makes this possible through its `report` API:"
   ]
  },
  {
   "cell_type": "code",
   "execution_count": 116,
   "metadata": {},
   "outputs": [],
   "source": [
    "from aplanat import report\n",
    "\n",
    "summary = report.HTMLReport(\n",
    "    title=\"My report\", lead=\"An exciting summary of results\")\n",
    "summary.markdown(\"This is the introduction section of my report.\")\n",
    "section_1 = summary.add_section('section_1')\n",
    "section_2 = summary.add_section('section_2')"
   ]
  },
  {
   "cell_type": "markdown",
   "metadata": {},
   "source": [
    "The above code creates a report with a title and lead statement, adds an introductory comment, and adds two sections to the report. Sections can be used to logically groups items together but otherwise serve no functional purpose. To add a plot to a section (or the main report), simply call the `.plot()` method with a bokeh `Figure` instance:"
   ]
  },
  {
   "cell_type": "code",
   "execution_count": 117,
   "metadata": {},
   "outputs": [],
   "source": [
    "import numpy as np\n",
    "from aplanat import points, hist\n",
    "\n",
    "x = np.random.normal(size=1000)\n",
    "y = np.random.normal(size=1000)\n",
    "\n",
    "plot_0 = hist.histogram([x, y], colors=['red', 'blue'])\n",
    "summary.plot(plot_0)\n",
    "\n",
    "plot_1 = points.points([x], [y])\n",
    "section_1.plot(plot_1)\n",
    "\n",
    "plot_2 = points.points([x, y], [y, x], colors=['red', 'blue'])\n",
    "section_2.plot(plot_2)"
   ]
  },
  {
   "cell_type": "markdown",
   "metadata": {},
   "source": [
    "`pandas` dataframes can be added directly to reports as a formatted table using the `.table()` method:"
   ]
  },
  {
   "cell_type": "code",
   "execution_count": 118,
   "metadata": {},
   "outputs": [],
   "source": [
    "import pandas as pd\n",
    "\n",
    "df = pd.DataFrame({'x':x, 'y':y})\n",
    "section_1.table(df)"
   ]
  },
  {
   "cell_type": "markdown",
   "metadata": {},
   "source": [
    "It is also possible to add text commentary using markdown syntax:"
   ]
  },
  {
   "cell_type": "code",
   "execution_count": 119,
   "metadata": {},
   "outputs": [],
   "source": [
    "section_2.markdown(\"\"\"\n",
    "# Section 2\n",
    "\n",
    "This is the start of section 2.\n",
    "\"\"\")"
   ]
  },
  {
   "cell_type": "markdown",
   "metadata": {},
   "source": [
    "The report can be saved as a self-contained HTML document using the `.write()` method:"
   ]
  },
  {
   "cell_type": "code",
   "execution_count": 120,
   "metadata": {},
   "outputs": [],
   "source": [
    "summary.write(\"my_report.html\")"
   ]
  },
  {
   "cell_type": "markdown",
   "metadata": {},
   "source": [
    "#### Structuring report elements\n",
    "\n",
    "In the above example we added report elements to report sections in an \"in order\" style: the report elements will appear in the report in the chronological order in which the code adding the elements was executed. Using report sections provides one method to control the order of elements. Another method is to use placeholder items:"
   ]
  },
  {
   "cell_type": "code",
   "execution_count": 121,
   "metadata": {},
   "outputs": [],
   "source": [
    "summary.placeholder('intro')\n",
    "summary.markdown('This text was added after the placeholder was inserted.')\n",
    "summary.markdown('This text was given to the placeholder.', key='intro')"
   ]
  },
  {
   "cell_type": "markdown",
   "metadata": {},
   "source": [
    "Here we have constructed a named placeholder, before adding a markdown element. The placeholder is then filled with a markdown element by providing the `key` option to the `.markdown()` method.\n",
    "\n",
    "Placeholders allow us to define the structure of a report ahead of time before any explicit report items are available; this can be useful in the context of writing fluent code in a notebook setting.\n",
    "\n",
    "The placeholder functionality is possible as all form elements are given a unique key. Elements are assigned random keys by default but the `.plot()`, `.table()`, and `.markdown()` methods can all be passed an optional `key` argument. If it is required to replace a form element it is possible to add an element with the same key as a previously added item:"
   ]
  },
  {
   "cell_type": "code",
   "execution_count": 122,
   "metadata": {},
   "outputs": [],
   "source": [
    "summary.markdown('This text will not be display in the final report', key='replaced')\n",
    "summary.markdown('This text will be displayed.', key='replaced')"
   ]
  },
  {
   "cell_type": "markdown",
   "metadata": {},
   "source": [
    "When initially creating a report it is possible to declare that all added items must be given an explicit key through the `require_keys` argument:"
   ]
  },
  {
   "cell_type": "code",
   "execution_count": 24,
   "metadata": {},
   "outputs": [],
   "source": [
    "report_requiring_keys = report.HTMLReport(require_keys=True)"
   ]
  },
  {
   "cell_type": "markdown",
   "metadata": {},
   "source": [
    "## Feedback\n",
    "\n",
    "Finally, EPI2ME Labs is a continually evolving product. If you have feedback or would like to suggest a feature, enhancement, or improvement for EPI2ME Labs please create an issue on the [Tutorials](https://github.com/epi2me-labs/tutorials) project on Github."
   ]
  },
  {
   "cell_type": "markdown",
   "metadata": {},
   "source": [
    "<a id='references'></a>"
   ]
  },
  {
   "cell_type": "markdown",
   "metadata": {},
   "source": [
    "## References\n",
    "\n",
    "* [JupyterLab Overview](https://jupyterlab.readthedocs.io/en/stable/getting_started/overview.html)\n",
    "* ipython [widgets](https://ipywidgets.readthedocs.io/en/stable/examples/Widget%20Basics.html):\n",
    "* [Bokeh](https://bokeh.org/)\n",
    "* EPI2ME Labs code [repository](https://github.com/epi2me-labs)\n",
    "* Managing conda [environments](https://docs.conda.io/projects/conda/en/latest/user-guide/getting-started.html#managing-environments)"
   ]
  }
 ],
 "metadata": {
  "kernelspec": {
   "display_name": "Python 3",
   "language": "python",
   "name": "python3"
  },
  "language_info": {
   "codemirror_mode": {
    "name": "ipython",
    "version": 3
   },
   "file_extension": ".py",
   "mimetype": "text/x-python",
   "name": "python",
   "nbconvert_exporter": "python",
   "pygments_lexer": "ipython3",
   "version": "3.6.12"
  },
  "toc-autonumbering": true,
  "toc-showcode": false,
  "toc-showmarkdowntxt": false,
  "toc-showtags": false
 },
 "nbformat": 4,
 "nbformat_minor": 4
}
