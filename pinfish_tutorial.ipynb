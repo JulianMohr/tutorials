{
  "nbformat": 4,
  "nbformat_minor": 0,
  "metadata": {
    "colab": {
      "name": "Pinfish tutorial",
      "provenance": [],
      "collapsed_sections": [
        "qQRk88kT132T"
      ],
      "toc_visible": true,
      "include_colab_link": true
    },
    "kernelspec": {
      "name": "python3",
      "display_name": "Python 3"
    }
  },
  "cells": [
    {
      "cell_type": "markdown",
      "metadata": {
        "id": "view-in-github",
        "colab_type": "text"
      },
      "source": [
        "<a href=\"https://colab.research.google.com/github/epi2me-labs/tutorials/blob/master/pinfish_tutorial.ipynb\" target=\"_parent\"><img src=\"https://colab.research.google.com/assets/colab-badge.svg\" alt=\"Open In Colab\"/></a>"
      ]
    },
    {
      "cell_type": "markdown",
      "metadata": {
        "colab_type": "text",
        "id": "8GptHRNa2Aei"
      },
      "source": [
        "<h1> Pinfish Tutorial </h1>\n",
        "The Pinfish tutorial is intended as a simple guide for identifying full length transcripts in your cDNA experiments and comparing them against a known annotation.\n",
        "\n",
        "We will walk through:\n",
        "\n",
        "* Identifying full length transcripts,\n",
        "* Aligning full length transcripts against a reference,\n",
        "* Generating consensus transcripts,\n",
        "* Generating a transcriptome from your data,\n",
        "* Comparing your new transcriptome annotation against a reference transcriptome.\n",
        "\n",
        "The tutorial is provided with a small sample *Drosophila* transcriptome dataset and can be used to address such questions as:\n",
        "\n",
        "* How many different full length transcripts are in my sample?\n",
        "* Which chromosomes are represented by full length transcripts?\n",
        "* Do I have novel transcripts in my dataset?\n",
        "\n",
        "Methods used in this tutorial include:\n",
        "\n",
        "* Python for statistical analysis and reporting, including use of pandas,\n",
        "* `minimap2`: generating a reference index and aligning, in a *splice-aware* manner, reads against the reference index,\n",
        "* `samtools`: processing aligned reads,\n",
        "* `gffcompare`: for manipulating [`.gff`](https://www.ensembl.org/info/website/upload/gff.html) files\n",
        "* `pychopper`: trimming and orienting cDNA reads,\n",
        "* `pinfish`: clustering and polishing transcripts. \n",
        "\n",
        "\n",
        "The computational requirements for this tutorial include:\n",
        "\n",
        "* Computer running the EPI2ME Labs notebook Server.\n",
        "* At least 8 Gb RAM (though more may be needed for larger reference sequences).\n",
        "\n",
        "\n",
        "⚠️ Warning: This notebook has been saved with its outputs for demonstration purposes. It is recommeded to select Edit > Clear all outputs before using the notebook to analyse your own data."
      ]
    },
    {
      "cell_type": "markdown",
      "metadata": {
        "id": "qQRk88kT132T",
        "colab_type": "text"
      },
      "source": [
        "## Installing Pinfish\n",
        "\n",
        "The default **EPI2MELabs** server environment does not have Pinfish preinstalled. To use the Pinfish workflow we must therefore first install it and its dependecies. The dependencies are most easily installed with conda; Pinfish itself is comprised of four programs which are freely dowloaded (with `wget`):"
      ]
    },
    {
      "cell_type": "code",
      "metadata": {
        "id": "ESBsCNBWs6pg",
        "colab_type": "code",
        "outputId": "e016c79f-9261-4133-84b7-5fa614b600c6",
        "colab": {
          "base_uri": "https://localhost:8080/",
          "height": 102
        }
      },
      "source": [
        "# Download the four Pinfish programs\n",
        "location=\"https://github.com/nanoporetech/pinfish/blob/v0.1.0\"\n",
        "tools = [\"cluster_gff\", \"collapse_partials\", \"polish_clusters\", \"spliced_bam2gff\"]\n",
        "%cd ~/\n",
        "for tool in tools:\n",
        "    !echo \"Downloading $tool\"\n",
        "    !rm -rf /opt/conda/bin/$tool\n",
        "    !wget -q -O \"$tool\" \"$location/$tool/$tool?raw=true\" \\\n",
        "        && chmod +x \"$tool\" && mv \"$tool\" /opt/conda/bin \\\n",
        "    || echo \"Could not download $tool\"\n",
        "# Install additional workflow programs with conda\n",
        "!conda install -y gffcompare gffread pychopper"
      ],
      "execution_count": 15,
      "outputs": [
        {
          "output_type": "stream",
          "text": [
            "/home/jovyan\n",
            "Downloading cluster_gff\n",
            "Downloading collapse_partials\n",
            "Downloading polish_clusters\n",
            "Downloading spliced_bam2gff\n"
          ],
          "name": "stdout"
        }
      ]
    },
    {
      "cell_type": "markdown",
      "metadata": {
        "id": "g7Fx4e7biB-W",
        "colab_type": "text"
      },
      "source": [
        "To avoid conflicts with other software, you may wish to restart your EPI2MELabs server when you have finished using Pinfish."
      ]
    },
    {
      "cell_type": "markdown",
      "metadata": {
        "id": "rhhfKIAMiIF8",
        "colab_type": "text"
      },
      "source": [
        "## Data preparation\n",
        "\n",
        "To start analysing our experiment we must first collate our data. The workflow below expects to be given a single `.fastq` file. \n",
        "\n",
        "Before anything else we will create and set a working directory:"
      ]
    },
    {
      "cell_type": "code",
      "metadata": {
        "id": "ENa_DWUyubQh",
        "colab_type": "code",
        "outputId": "11a92a1e-d399-4542-8f22-cadd10190db4",
        "colab": {
          "base_uri": "https://localhost:8080/",
          "height": 34
        }
      },
      "source": [
        "# create a work directory and move into it\n",
        "tutorial_name = \"pinfish_tutorial\"\n",
        "working_dir = \"/epi2melabs/{}/\".format(tutorial_name)\n",
        "!mkdir -p \"$working_dir\"\n",
        "%cd \"$working_dir\""
      ],
      "execution_count": 0,
      "outputs": [
        {
          "output_type": "stream",
          "text": [
            "/epi2melabs/pinfish_tutorial\n"
          ],
          "name": "stdout"
        }
      ]
    },
    {
      "cell_type": "markdown",
      "metadata": {
        "id": "3hKJODWNingV",
        "colab_type": "text"
      },
      "source": [
        "### Sample Sequencing Data\n",
        "\n",
        "To get started we will download a modest *D. melanogaster* dataset to explore with Pinfish. The workflow also requires a reference sequence and an annotation set.\n",
        "\n",
        "The form below will download the sample data, reference sequence and annotations. To start the download click on the cell and then press Command/Ctrl-Enter, or click the Play symbol to the left-hand side."
      ]
    },
    {
      "cell_type": "code",
      "metadata": {
        "id": "i88VyeHAjDrw",
        "colab_type": "code",
        "outputId": "bcaf39cb-2f32-44c0-b3b9-94d445b15cac",
        "colab": {
          "base_uri": "https://localhost:8080/",
          "height": 68
        }
      },
      "source": [
        "# download the data\n",
        "location='https://ont-research.s3-eu-west-1.amazonaws.com/labs_resources/pychopper_tutorial'\n",
        "filename = \"Dmel.4.filt.fastq.gz\"\n",
        "!echo \"Downloading sample data\"\n",
        "!wget -q -O sample_data.fastq.gz \"$location\"/\"$filename\"\n",
        "\n",
        "# download reference and annotations\n",
        "!echo \"Downloading reference sequence\"\n",
        "!wget -q http://ftp.ensembl.org/pub/release-95/fasta/drosophila_melanogaster/dna/Drosophila_melanogaster.BDGP6.dna.toplevel.fa.gz\n",
        "!echo \"Downloading annotation file\"\n",
        "!wget -q http://ftp.ensembl.org/pub/release-95/gtf/drosophila_melanogaster/Drosophila_melanogaster.BDGP6.95.gtf.gz"
      ],
      "execution_count": 0,
      "outputs": [
        {
          "output_type": "stream",
          "text": [
            "Downloading sample data\n",
            "Downloading reference sequence\n",
            "Downloading annotation file\n"
          ],
          "name": "stdout"
        }
      ]
    },
    {
      "cell_type": "markdown",
      "metadata": {
        "id": "vHIW6RwNuu4P",
        "colab_type": "text"
      },
      "source": [
        "### Using your own data\n",
        "\n",
        "If you wish to analyse your own data rather than the sample data, you can edit the value of the `input_file` variable below. To find the correct full path of a file you can navigate to it in the `Files` browser to the left-hand side, right-click on the file and select `Copy path`:"
      ]
    },
    {
      "cell_type": "markdown",
      "metadata": {
        "id": "vDCEs7E3Zy60",
        "colab_type": "text"
      },
      "source": [
        "![image.png](data:image/png;base64,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)"
      ]
    },
    {
      "cell_type": "markdown",
      "metadata": {
        "colab_type": "text",
        "id": "RXjLHiRR2AcX"
      },
      "source": [
        "### Data Entry\n",
        "\n",
        "Having downloaded the sample data, or locating your own data in the file browser, we need to provide the filepaths as input to the notebook. This is done in the form below, after updating the values, be sure to press the play button.\n",
        "\n",
        "The input files may be gzip compressed (and end in the `.gz` suffix). Along with the input files and option is provided to rebuild the alignment index (`rebuild_index`) and specify the number of compute threads (`threads`) to use during computations.\n",
        "\n",
        "> *A annotation is required only for the final comparison, it is not integral to the workflow.*"
      ]
    },
    {
      "cell_type": "code",
      "metadata": {
        "id": "8NA6HnISt7fI",
        "colab_type": "code",
        "cellView": "form",
        "outputId": "a23217f7-c15d-43af-97a3-5f1528751667",
        "colab": {
          "base_uri": "https://localhost:8080/",
          "height": 102
        }
      },
      "source": [
        "#@markdown **Analysis parameters**\n",
        "import os\n",
        "\n",
        "fastq = \"sample_data.fastq\" #@param {type: \"string\"}\n",
        "reference = \"Drosophila_melanogaster.BDGP6.dna.toplevel.fa\" #@param {type: \"string\"}\n",
        "annotations = \"Drosophila_melanogaster.BDGP6.95.gtf.gz\" #@param {type: \"string\"}\n",
        "analysis_folder = \"analysis\" #@param {type: \"string\"}\n",
        "rebuild_index = True #@param {type: \"boolean\"}\n",
        "threads = 10 #@param {type: \"integer\"}\n",
        "\n",
        "!mkdir -p $analysis_folder\n",
        "to_normalise = zip(\n",
        "    ('fastq', 'reference', 'annotations'),\n",
        "    (os.path.basename(x) for x in (fastq, reference, annotations)))\n",
        "\n",
        "print(\"Checking files:\")\n",
        "inputs = dict()\n",
        "for name, fname in to_normalise:\n",
        "    if name == \"annotations\" and fname == \"\":\n",
        "        continue\n",
        "    exists = os.path.exists(fname)\n",
        "    symbol = \"✗✓\"[exists]\n",
        "    print(\"{} {}\".format(symbol, fname))\n",
        "    if not exists:\n",
        "        continue\n",
        "    if fname.endswith(\".gz\"):\n",
        "        !echo \"Unzipping $fname\" && gunzip -f $fname\n",
        "        fname = fname.strip('.gz')\n",
        "    inputs[name] = fname\n"
      ],
      "execution_count": 0,
      "outputs": [
        {
          "output_type": "stream",
          "text": [
            "Checking files:\n",
            "✓ sample_data.fastq\n",
            "✓ Drosophila_melanogaster.BDGP6.dna.toplevel.fa\n",
            "✓ Drosophila_melanogaster.BDGP6.95.gtf.gz\n",
            "Unzipping Drosophila_melanogaster.BDGP6.95.gtf.gz\n"
          ],
          "name": "stdout"
        }
      ]
    },
    {
      "cell_type": "markdown",
      "metadata": {
        "colab_type": "text",
        "id": "T0BmP5vg1_lj"
      },
      "source": [
        "## Sequence data quality control and pre-processing\n",
        "\n",
        "The following sections run through the Pinfish workflow in a step-wise manner. We will first perform some basic QC with pychopper before clustering and polishing our transcript data."
      ]
    },
    {
      "cell_type": "markdown",
      "metadata": {
        "id": "5wqU6c5Y4tre",
        "colab_type": "text"
      },
      "source": [
        "### Pychopper\n",
        "\n",
        "The first step of our workflow is to classify, trim and orient the cDNA sequencing data. To do this we will use the cdna_classifier.py software from pychopper. This is a standard step in long read cDNA pipelines and makes subsequent steps easier."
      ]
    },
    {
      "cell_type": "code",
      "metadata": {
        "id": "RScSvsF-3Ot0",
        "colab_type": "code",
        "cellView": "both",
        "outputId": "92947506-5dc0-4126-c1a3-99d965b81c4b",
        "colab": {
          "base_uri": "https://localhost:8080/",
          "height": 170
        }
      },
      "source": [
        "# Run pychopper\n",
        "pychopper_dir = os.path.join(analysis_folder, \"pychopper\")\n",
        "input_file = inputs['fastq']\n",
        "!mkdir -p $pychopper_dir\n",
        "!cdna_classifier.py \\\n",
        "    -r \"$pychopper_dir\"/report.pdf \\\n",
        "    -u \"$pychopper_dir\"/unclassified.fq \\\n",
        "    -w \"$pychopper_dir\"/rescued.fq \\\n",
        "    -S \"$pychopper_dir\"/cdna_classifier_report.tsv \\\n",
        "    \"$input_file\" \\\n",
        "    \"$pychopper_dir\"/full_length_output.fq"
      ],
      "execution_count": 0,
      "outputs": [
        {
          "output_type": "stream",
          "text": [
            "Configurations to consider: \"+:SSP,-VNP|-:VNP,-SSP\"\n",
            "Counting fastq records in input file: sample_data.fastq\n",
            "Total fastq records in input file: 15076\n",
            "Tuning the cutoff parameter (q) on 9930 sampled reads (66.3%) passing quality filters (Q >= 7.0).\n",
            "Optimizing over 30 cutoff values.\n",
            "100%|███████████████████████████████████████████| 30/30 [08:31<00:00, 17.04s/it]\n",
            "Best cutoff (q) value is 0.3448 with 81% of the reads classified.\n",
            "Processing the whole dataset using a batch size of 1884:\n",
            "100%|████████████████████████████████████| 15076/15076 [00:33<00:00, 452.72it/s]\n"
          ],
          "name": "stdout"
        }
      ]
    },
    {
      "cell_type": "markdown",
      "metadata": {
        "colab_type": "text",
        "id": "xm68oRP22AUP"
      },
      "source": [
        "Before continuing we need to check the pychopper categorization results. To evaluate the results the code box below will summarise the\n",
        "classification of reads. It will also display a plot illustrating the selection\n",
        "of the classification decision boundary. This plot should be unimodal (have a single peak)."
      ]
    },
    {
      "cell_type": "code",
      "metadata": {
        "id": "8kI85nKeV_Qh",
        "colab_type": "code",
        "cellView": "form",
        "outputId": "2bb8856d-12bd-42b6-c9cd-64fad2e72d08",
        "colab": {
          "base_uri": "https://localhost:8080/",
          "height": 442
        }
      },
      "source": [
        "#@markdown Classification summary *(click to show)*\n",
        "import os\n",
        "import pandas as pd\n",
        "import aplanat\n",
        "from aplanat import lines\n",
        "\n",
        "csv = os.path.join(pychopper_dir, \"cdna_classifier_report.tsv\")\n",
        "\n",
        "df = pd.read_csv(csv, sep=\"\\t\", index_col=\"Name\")\n",
        "classified = df.loc[df[\"Category\"] == \"Classification\"] \\\n",
        "    .copy().reset_index().rename(columns={'Name': 'Classification'})\n",
        "classified[\"Percentage\"] = 100 * classified[\"Value\"] / classified[\"Value\"].sum()\n",
        "display(classified[['Classification', 'Percentage',]])\n",
        "\n",
        "tuning =  df.loc[df[\"Category\"] == \"AutotuneSample\"] \\\n",
        "    .copy().reset_index().rename(columns={'Name': 'Filter'})\n",
        "plot = lines.line(\n",
        "    [tuning['Filter'].astype(float)], [tuning['Value']],\n",
        "    title=\"Cut off parameter selection curve\",\n",
        "    x_axis_label='Filter cut off',\n",
        "    y_axis_label='Selected reads')\n",
        "aplanat.show(plot)"
      ],
      "execution_count": 0,
      "outputs": [
        {
          "output_type": "display_data",
          "data": {
            "text/plain": [
              "  Classification  Percentage\n",
              "0  Primers_found   80.098457\n",
              "1         Rescue    2.047916\n",
              "2       Unusable   17.853627"
            ],
            "text/html": [
              "<div>\n",
              "<style scoped>\n",
              "    .dataframe tbody tr th:only-of-type {\n",
              "        vertical-align: middle;\n",
              "    }\n",
              "\n",
              "    .dataframe tbody tr th {\n",
              "        vertical-align: top;\n",
              "    }\n",
              "\n",
              "    .dataframe thead th {\n",
              "        text-align: right;\n",
              "    }\n",
              "</style>\n",
              "<table border=\"1\" class=\"dataframe\">\n",
              "  <thead>\n",
              "    <tr style=\"text-align: right;\">\n",
              "      <th></th>\n",
              "      <th>Classification</th>\n",
              "      <th>Percentage</th>\n",
              "    </tr>\n",
              "  </thead>\n",
              "  <tbody>\n",
              "    <tr>\n",
              "      <th>0</th>\n",
              "      <td>Primers_found</td>\n",
              "      <td>80.098457</td>\n",
              "    </tr>\n",
              "    <tr>\n",
              "      <th>1</th>\n",
              "      <td>Rescue</td>\n",
              "      <td>2.047916</td>\n",
              "    </tr>\n",
              "    <tr>\n",
              "      <th>2</th>\n",
              "      <td>Unusable</td>\n",
              "      <td>17.853627</td>\n",
              "    </tr>\n",
              "  </tbody>\n",
              "</table>\n",
              "</div>"
            ]
          },
          "metadata": {
            "tags": []
          }
        },
        {
          "output_type": "display_data",
          "data": {
            "application/javascript": [
              "\n",
              "(function(root) {\n",
              "  function now() {\n",
              "    return new Date();\n",
              "  }\n",
              "\n",
              "  var force = true;\n",
              "\n",
              "  if (typeof root._bokeh_onload_callbacks === \"undefined\" || force === true) {\n",
              "    root._bokeh_onload_callbacks = [];\n",
              "    root._bokeh_is_loading = undefined;\n",
              "  }\n",
              "\n",
              "  var JS_MIME_TYPE = 'application/javascript';\n",
              "  var HTML_MIME_TYPE = 'text/html';\n",
              "  var EXEC_MIME_TYPE = 'application/vnd.bokehjs_exec.v0+json';\n",
              "  var CLASS_NAME = 'output_bokeh rendered_html';\n",
              "\n",
              "  /**\n",
              "   * Render data to the DOM node\n",
              "   */\n",
              "  function render(props, node) {\n",
              "    var script = document.createElement(\"script\");\n",
              "    node.appendChild(script);\n",
              "  }\n",
              "\n",
              "  /**\n",
              "   * Handle when an output is cleared or removed\n",
              "   */\n",
              "  function handleClearOutput(event, handle) {\n",
              "    var cell = handle.cell;\n",
              "\n",
              "    var id = cell.output_area._bokeh_element_id;\n",
              "    var server_id = cell.output_area._bokeh_server_id;\n",
              "    // Clean up Bokeh references\n",
              "    if (id != null && id in Bokeh.index) {\n",
              "      Bokeh.index[id].model.document.clear();\n",
              "      delete Bokeh.index[id];\n",
              "    }\n",
              "\n",
              "    if (server_id !== undefined) {\n",
              "      // Clean up Bokeh references\n",
              "      var cmd = \"from bokeh.io.state import curstate; print(curstate().uuid_to_server['\" + server_id + \"'].get_sessions()[0].document.roots[0]._id)\";\n",
              "      cell.notebook.kernel.execute(cmd, {\n",
              "        iopub: {\n",
              "          output: function(msg) {\n",
              "            var id = msg.content.text.trim();\n",
              "            if (id in Bokeh.index) {\n",
              "              Bokeh.index[id].model.document.clear();\n",
              "              delete Bokeh.index[id];\n",
              "            }\n",
              "          }\n",
              "        }\n",
              "      });\n",
              "      // Destroy server and session\n",
              "      var cmd = \"import bokeh.io.notebook as ion; ion.destroy_server('\" + server_id + \"')\";\n",
              "      cell.notebook.kernel.execute(cmd);\n",
              "    }\n",
              "  }\n",
              "\n",
              "  /**\n",
              "   * Handle when a new output is added\n",
              "   */\n",
              "  function handleAddOutput(event, handle) {\n",
              "    var output_area = handle.output_area;\n",
              "    var output = handle.output;\n",
              "\n",
              "    // limit handleAddOutput to display_data with EXEC_MIME_TYPE content only\n",
              "    if ((output.output_type != \"display_data\") || (!output.data.hasOwnProperty(EXEC_MIME_TYPE))) {\n",
              "      return\n",
              "    }\n",
              "\n",
              "    var toinsert = output_area.element.find(\".\" + CLASS_NAME.split(' ')[0]);\n",
              "\n",
              "    if (output.metadata[EXEC_MIME_TYPE][\"id\"] !== undefined) {\n",
              "      toinsert[toinsert.length - 1].firstChild.textContent = output.data[JS_MIME_TYPE];\n",
              "      // store reference to embed id on output_area\n",
              "      output_area._bokeh_element_id = output.metadata[EXEC_MIME_TYPE][\"id\"];\n",
              "    }\n",
              "    if (output.metadata[EXEC_MIME_TYPE][\"server_id\"] !== undefined) {\n",
              "      var bk_div = document.createElement(\"div\");\n",
              "      bk_div.innerHTML = output.data[HTML_MIME_TYPE];\n",
              "      var script_attrs = bk_div.children[0].attributes;\n",
              "      for (var i = 0; i < script_attrs.length; i++) {\n",
              "        toinsert[toinsert.length - 1].firstChild.setAttribute(script_attrs[i].name, script_attrs[i].value);\n",
              "      }\n",
              "      // store reference to server id on output_area\n",
              "      output_area._bokeh_server_id = output.metadata[EXEC_MIME_TYPE][\"server_id\"];\n",
              "    }\n",
              "  }\n",
              "\n",
              "  function register_renderer(events, OutputArea) {\n",
              "\n",
              "    function append_mime(data, metadata, element) {\n",
              "      // create a DOM node to render to\n",
              "      var toinsert = this.create_output_subarea(\n",
              "        metadata,\n",
              "        CLASS_NAME,\n",
              "        EXEC_MIME_TYPE\n",
              "      );\n",
              "      this.keyboard_manager.register_events(toinsert);\n",
              "      // Render to node\n",
              "      var props = {data: data, metadata: metadata[EXEC_MIME_TYPE]};\n",
              "      render(props, toinsert[toinsert.length - 1]);\n",
              "      element.append(toinsert);\n",
              "      return toinsert\n",
              "    }\n",
              "\n",
              "    /* Handle when an output is cleared or removed */\n",
              "    events.on('clear_output.CodeCell', handleClearOutput);\n",
              "    events.on('delete.Cell', handleClearOutput);\n",
              "\n",
              "    /* Handle when a new output is added */\n",
              "    events.on('output_added.OutputArea', handleAddOutput);\n",
              "\n",
              "    /**\n",
              "     * Register the mime type and append_mime function with output_area\n",
              "     */\n",
              "    OutputArea.prototype.register_mime_type(EXEC_MIME_TYPE, append_mime, {\n",
              "      /* Is output safe? */\n",
              "      safe: true,\n",
              "      /* Index of renderer in `output_area.display_order` */\n",
              "      index: 0\n",
              "    });\n",
              "  }\n",
              "\n",
              "  // register the mime type if in Jupyter Notebook environment and previously unregistered\n",
              "  if (root.Jupyter !== undefined) {\n",
              "    var events = require('base/js/events');\n",
              "    var OutputArea = require('notebook/js/outputarea').OutputArea;\n",
              "\n",
              "    if (OutputArea.prototype.mime_types().indexOf(EXEC_MIME_TYPE) == -1) {\n",
              "      register_renderer(events, OutputArea);\n",
              "    }\n",
              "  }\n",
              "\n",
              "  \n",
              "  if (typeof (root._bokeh_timeout) === \"undefined\" || force === true) {\n",
              "    root._bokeh_timeout = Date.now() + 5000;\n",
              "    root._bokeh_failed_load = false;\n",
              "  }\n",
              "\n",
              "  var NB_LOAD_WARNING = {'data': {'text/html':\n",
              "     \"<div style='background-color: #fdd'>\\n\"+\n",
              "     \"<p>\\n\"+\n",
              "     \"BokehJS does not appear to have successfully loaded. If loading BokehJS from CDN, this \\n\"+\n",
              "     \"may be due to a slow or bad network connection. Possible fixes:\\n\"+\n",
              "     \"</p>\\n\"+\n",
              "     \"<ul>\\n\"+\n",
              "     \"<li>re-rerun `output_notebook()` to attempt to load from CDN again, or</li>\\n\"+\n",
              "     \"<li>use INLINE resources instead, as so:</li>\\n\"+\n",
              "     \"</ul>\\n\"+\n",
              "     \"<code>\\n\"+\n",
              "     \"from bokeh.resources import INLINE\\n\"+\n",
              "     \"output_notebook(resources=INLINE)\\n\"+\n",
              "     \"</code>\\n\"+\n",
              "     \"</div>\"}};\n",
              "\n",
              "  function display_loaded() {\n",
              "    var el = document.getElementById(null);\n",
              "    if (el != null) {\n",
              "      el.textContent = \"BokehJS is loading...\";\n",
              "    }\n",
              "    if (root.Bokeh !== undefined) {\n",
              "      if (el != null) {\n",
              "        el.textContent = \"BokehJS \" + root.Bokeh.version + \" successfully loaded.\";\n",
              "      }\n",
              "    } else if (Date.now() < root._bokeh_timeout) {\n",
              "      setTimeout(display_loaded, 100)\n",
              "    }\n",
              "  }\n",
              "\n",
              "\n",
              "  function run_callbacks() {\n",
              "    try {\n",
              "      root._bokeh_onload_callbacks.forEach(function(callback) {\n",
              "        if (callback != null)\n",
              "          callback();\n",
              "      });\n",
              "    } finally {\n",
              "      delete root._bokeh_onload_callbacks\n",
              "    }\n",
              "    console.debug(\"Bokeh: all callbacks have finished\");\n",
              "  }\n",
              "\n",
              "  function load_libs(css_urls, js_urls, callback) {\n",
              "    if (css_urls == null) css_urls = [];\n",
              "    if (js_urls == null) js_urls = [];\n",
              "\n",
              "    root._bokeh_onload_callbacks.push(callback);\n",
              "    if (root._bokeh_is_loading > 0) {\n",
              "      console.debug(\"Bokeh: BokehJS is being loaded, scheduling callback at\", now());\n",
              "      return null;\n",
              "    }\n",
              "    if (js_urls == null || js_urls.length === 0) {\n",
              "      run_callbacks();\n",
              "      return null;\n",
              "    }\n",
              "    console.debug(\"Bokeh: BokehJS not loaded, scheduling load and callback at\", now());\n",
              "    root._bokeh_is_loading = css_urls.length + js_urls.length;\n",
              "\n",
              "    function on_load() {\n",
              "      root._bokeh_is_loading--;\n",
              "      if (root._bokeh_is_loading === 0) {\n",
              "        console.debug(\"Bokeh: all BokehJS libraries/stylesheets loaded\");\n",
              "        run_callbacks()\n",
              "      }\n",
              "    }\n",
              "\n",
              "    function on_error() {\n",
              "      console.error(\"failed to load \" + url);\n",
              "    }\n",
              "\n",
              "    for (var i = 0; i < css_urls.length; i++) {\n",
              "      var url = css_urls[i];\n",
              "      const element = document.createElement(\"link\");\n",
              "      element.onload = on_load;\n",
              "      element.onerror = on_error;\n",
              "      element.rel = \"stylesheet\";\n",
              "      element.type = \"text/css\";\n",
              "      element.href = url;\n",
              "      console.debug(\"Bokeh: injecting link tag for BokehJS stylesheet: \", url);\n",
              "      document.body.appendChild(element);\n",
              "    }\n",
              "\n",
              "    for (var i = 0; i < js_urls.length; i++) {\n",
              "      var url = js_urls[i];\n",
              "      var element = document.createElement('script');\n",
              "      element.onload = on_load;\n",
              "      element.onerror = on_error;\n",
              "      element.async = false;\n",
              "      element.src = url;\n",
              "      console.debug(\"Bokeh: injecting script tag for BokehJS library: \", url);\n",
              "      document.head.appendChild(element);\n",
              "    }\n",
              "  };\n",
              "\n",
              "  function inject_raw_css(css) {\n",
              "    const element = document.createElement(\"style\");\n",
              "    element.appendChild(document.createTextNode(css));\n",
              "    document.body.appendChild(element);\n",
              "  }\n",
              "\n",
              "  \n",
              "  var js_urls = [\"https://cdn.pydata.org/bokeh/release/bokeh-1.4.0.min.js\", \"https://cdn.pydata.org/bokeh/release/bokeh-widgets-1.4.0.min.js\", \"https://cdn.pydata.org/bokeh/release/bokeh-tables-1.4.0.min.js\", \"https://cdn.pydata.org/bokeh/release/bokeh-gl-1.4.0.min.js\"];\n",
              "  var css_urls = [];\n",
              "  \n",
              "\n",
              "  var inline_js = [\n",
              "    function(Bokeh) {\n",
              "      Bokeh.set_log_level(\"info\");\n",
              "    },\n",
              "    function(Bokeh) {\n",
              "    \n",
              "    \n",
              "    }\n",
              "  ];\n",
              "\n",
              "  function run_inline_js() {\n",
              "    \n",
              "    if (root.Bokeh !== undefined || force === true) {\n",
              "      \n",
              "    for (var i = 0; i < inline_js.length; i++) {\n",
              "      inline_js[i].call(root, root.Bokeh);\n",
              "    }\n",
              "    } else if (Date.now() < root._bokeh_timeout) {\n",
              "      setTimeout(run_inline_js, 100);\n",
              "    } else if (!root._bokeh_failed_load) {\n",
              "      console.log(\"Bokeh: BokehJS failed to load within specified timeout.\");\n",
              "      root._bokeh_failed_load = true;\n",
              "    } else if (force !== true) {\n",
              "      var cell = $(document.getElementById(null)).parents('.cell').data().cell;\n",
              "      cell.output_area.append_execute_result(NB_LOAD_WARNING)\n",
              "    }\n",
              "\n",
              "  }\n",
              "\n",
              "  if (root._bokeh_is_loading === 0) {\n",
              "    console.debug(\"Bokeh: BokehJS loaded, going straight to plotting\");\n",
              "    run_inline_js();\n",
              "  } else {\n",
              "    load_libs(css_urls, js_urls, function() {\n",
              "      console.debug(\"Bokeh: BokehJS plotting callback run at\", now());\n",
              "      run_inline_js();\n",
              "    });\n",
              "  }\n",
              "}(window));"
            ],
            "application/vnd.bokehjs_load.v0+json": "\n(function(root) {\n  function now() {\n    return new Date();\n  }\n\n  var force = true;\n\n  if (typeof root._bokeh_onload_callbacks === \"undefined\" || force === true) {\n    root._bokeh_onload_callbacks = [];\n    root._bokeh_is_loading = undefined;\n  }\n\n  \n\n  \n  if (typeof (root._bokeh_timeout) === \"undefined\" || force === true) {\n    root._bokeh_timeout = Date.now() + 5000;\n    root._bokeh_failed_load = false;\n  }\n\n  var NB_LOAD_WARNING = {'data': {'text/html':\n     \"<div style='background-color: #fdd'>\\n\"+\n     \"<p>\\n\"+\n     \"BokehJS does not appear to have successfully loaded. If loading BokehJS from CDN, this \\n\"+\n     \"may be due to a slow or bad network connection. Possible fixes:\\n\"+\n     \"</p>\\n\"+\n     \"<ul>\\n\"+\n     \"<li>re-rerun `output_notebook()` to attempt to load from CDN again, or</li>\\n\"+\n     \"<li>use INLINE resources instead, as so:</li>\\n\"+\n     \"</ul>\\n\"+\n     \"<code>\\n\"+\n     \"from bokeh.resources import INLINE\\n\"+\n     \"output_notebook(resources=INLINE)\\n\"+\n     \"</code>\\n\"+\n     \"</div>\"}};\n\n  function display_loaded() {\n    var el = document.getElementById(null);\n    if (el != null) {\n      el.textContent = \"BokehJS is loading...\";\n    }\n    if (root.Bokeh !== undefined) {\n      if (el != null) {\n        el.textContent = \"BokehJS \" + root.Bokeh.version + \" successfully loaded.\";\n      }\n    } else if (Date.now() < root._bokeh_timeout) {\n      setTimeout(display_loaded, 100)\n    }\n  }\n\n\n  function run_callbacks() {\n    try {\n      root._bokeh_onload_callbacks.forEach(function(callback) {\n        if (callback != null)\n          callback();\n      });\n    } finally {\n      delete root._bokeh_onload_callbacks\n    }\n    console.debug(\"Bokeh: all callbacks have finished\");\n  }\n\n  function load_libs(css_urls, js_urls, callback) {\n    if (css_urls == null) css_urls = [];\n    if (js_urls == null) js_urls = [];\n\n    root._bokeh_onload_callbacks.push(callback);\n    if (root._bokeh_is_loading > 0) {\n      console.debug(\"Bokeh: BokehJS is being loaded, scheduling callback at\", now());\n      return null;\n    }\n    if (js_urls == null || js_urls.length === 0) {\n      run_callbacks();\n      return null;\n    }\n    console.debug(\"Bokeh: BokehJS not loaded, scheduling load and callback at\", now());\n    root._bokeh_is_loading = css_urls.length + js_urls.length;\n\n    function on_load() {\n      root._bokeh_is_loading--;\n      if (root._bokeh_is_loading === 0) {\n        console.debug(\"Bokeh: all BokehJS libraries/stylesheets loaded\");\n        run_callbacks()\n      }\n    }\n\n    function on_error() {\n      console.error(\"failed to load \" + url);\n    }\n\n    for (var i = 0; i < css_urls.length; i++) {\n      var url = css_urls[i];\n      const element = document.createElement(\"link\");\n      element.onload = on_load;\n      element.onerror = on_error;\n      element.rel = \"stylesheet\";\n      element.type = \"text/css\";\n      element.href = url;\n      console.debug(\"Bokeh: injecting link tag for BokehJS stylesheet: \", url);\n      document.body.appendChild(element);\n    }\n\n    for (var i = 0; i < js_urls.length; i++) {\n      var url = js_urls[i];\n      var element = document.createElement('script');\n      element.onload = on_load;\n      element.onerror = on_error;\n      element.async = false;\n      element.src = url;\n      console.debug(\"Bokeh: injecting script tag for BokehJS library: \", url);\n      document.head.appendChild(element);\n    }\n  };\n\n  function inject_raw_css(css) {\n    const element = document.createElement(\"style\");\n    element.appendChild(document.createTextNode(css));\n    document.body.appendChild(element);\n  }\n\n  \n  var js_urls = [\"https://cdn.pydata.org/bokeh/release/bokeh-1.4.0.min.js\", \"https://cdn.pydata.org/bokeh/release/bokeh-widgets-1.4.0.min.js\", \"https://cdn.pydata.org/bokeh/release/bokeh-tables-1.4.0.min.js\", \"https://cdn.pydata.org/bokeh/release/bokeh-gl-1.4.0.min.js\"];\n  var css_urls = [];\n  \n\n  var inline_js = [\n    function(Bokeh) {\n      Bokeh.set_log_level(\"info\");\n    },\n    function(Bokeh) {\n    \n    \n    }\n  ];\n\n  function run_inline_js() {\n    \n    if (root.Bokeh !== undefined || force === true) {\n      \n    for (var i = 0; i < inline_js.length; i++) {\n      inline_js[i].call(root, root.Bokeh);\n    }\n    } else if (Date.now() < root._bokeh_timeout) {\n      setTimeout(run_inline_js, 100);\n    } else if (!root._bokeh_failed_load) {\n      console.log(\"Bokeh: BokehJS failed to load within specified timeout.\");\n      root._bokeh_failed_load = true;\n    } else if (force !== true) {\n      var cell = $(document.getElementById(null)).parents('.cell').data().cell;\n      cell.output_area.append_execute_result(NB_LOAD_WARNING)\n    }\n\n  }\n\n  if (root._bokeh_is_loading === 0) {\n    console.debug(\"Bokeh: BokehJS loaded, going straight to plotting\");\n    run_inline_js();\n  } else {\n    load_libs(css_urls, js_urls, function() {\n      console.debug(\"Bokeh: BokehJS plotting callback run at\", now());\n      run_inline_js();\n    });\n  }\n}(window));"
          },
          "metadata": {
            "tags": []
          }
        },
        {
          "output_type": "display_data",
          "data": {
            "text/html": [
              "\n",
              "\n",
              "\n",
              "\n",
              "\n",
              "\n",
              "  <div class=\"bk-root\" id=\"e458f106-ceb0-43a4-afb1-e33c852ceee9\" data-root-id=\"1001\"></div>\n"
            ]
          },
          "metadata": {
            "tags": []
          }
        },
        {
          "output_type": "display_data",
          "data": {
            "application/javascript": [
              "(function(root) {\n",
              "  function embed_document(root) {\n",
              "    \n",
              "  var docs_json = {\"9a8893b5-ed52-4e52-869a-8d3f63c0a719\":{\"roots\":{\"references\":[{\"attributes\":{\"below\":[{\"id\":\"1012\",\"type\":\"LinearAxis\"}],\"center\":[{\"id\":\"1016\",\"type\":\"Grid\"},{\"id\":\"1021\",\"type\":\"Grid\"}],\"left\":[{\"id\":\"1017\",\"type\":\"LinearAxis\"}],\"output_backend\":\"webgl\",\"plot_height\":300,\"renderers\":[{\"id\":\"1038\",\"type\":\"GlyphRenderer\"}],\"title\":{\"id\":\"1002\",\"type\":\"Title\"},\"toolbar\":{\"id\":\"1028\",\"type\":\"Toolbar\"},\"x_range\":{\"id\":\"1040\",\"type\":\"Range1d\"},\"x_scale\":{\"id\":\"1008\",\"type\":\"LinearScale\"},\"y_range\":{\"id\":\"1041\",\"type\":\"Range1d\"},\"y_scale\":{\"id\":\"1010\",\"type\":\"LinearScale\"}},\"id\":\"1001\",\"subtype\":\"Figure\",\"type\":\"Plot\"},{\"attributes\":{\"data_source\":{\"id\":\"1035\",\"type\":\"ColumnDataSource\"},\"glyph\":{\"id\":\"1036\",\"type\":\"Line\"},\"hover_glyph\":null,\"muted_glyph\":null,\"nonselection_glyph\":{\"id\":\"1037\",\"type\":\"Line\"},\"selection_glyph\":null,\"view\":{\"id\":\"1039\",\"type\":\"CDSView\"}},\"id\":\"1038\",\"type\":\"GlyphRenderer\"},{\"attributes\":{},\"id\":\"1013\",\"type\":\"BasicTicker\"},{\"attributes\":{\"source\":{\"id\":\"1035\",\"type\":\"ColumnDataSource\"}},\"id\":\"1039\",\"type\":\"CDSView\"},{\"attributes\":{\"ticker\":{\"id\":\"1013\",\"type\":\"BasicTicker\"}},\"id\":\"1016\",\"type\":\"Grid\"},{\"attributes\":{\"axis_label\":\"Selected reads\",\"formatter\":{\"id\":\"1045\",\"type\":\"BasicTickFormatter\"},\"ticker\":{\"id\":\"1018\",\"type\":\"BasicTicker\"}},\"id\":\"1017\",\"type\":\"LinearAxis\"},{\"attributes\":{},\"id\":\"1018\",\"type\":\"BasicTicker\"},{\"attributes\":{},\"id\":\"1043\",\"type\":\"BasicTickFormatter\"},{\"attributes\":{\"dimension\":1,\"ticker\":{\"id\":\"1018\",\"type\":\"BasicTicker\"}},\"id\":\"1021\",\"type\":\"Grid\"},{\"attributes\":{\"bottom_units\":\"screen\",\"fill_alpha\":{\"value\":0.5},\"fill_color\":{\"value\":\"lightgrey\"},\"left_units\":\"screen\",\"level\":\"overlay\",\"line_alpha\":{\"value\":1.0},\"line_color\":{\"value\":\"black\"},\"line_dash\":[4,4],\"line_width\":{\"value\":2},\"render_mode\":\"css\",\"right_units\":\"screen\",\"top_units\":\"screen\"},\"id\":\"1049\",\"type\":\"BoxAnnotation\"},{\"attributes\":{\"active_drag\":\"auto\",\"active_inspect\":\"auto\",\"active_multi\":null,\"active_scroll\":\"auto\",\"active_tap\":\"auto\",\"tools\":[{\"id\":\"1022\",\"type\":\"PanTool\"},{\"id\":\"1023\",\"type\":\"WheelZoomTool\"},{\"id\":\"1024\",\"type\":\"BoxZoomTool\"},{\"id\":\"1025\",\"type\":\"SaveTool\"},{\"id\":\"1026\",\"type\":\"ResetTool\"},{\"id\":\"1027\",\"type\":\"HelpTool\"}]},\"id\":\"1028\",\"type\":\"Toolbar\"},{\"attributes\":{},\"id\":\"1047\",\"type\":\"UnionRenderers\"},{\"attributes\":{\"bounds\":[1e-05,5.0],\"callback\":null,\"end\":5.0,\"start\":1e-05},\"id\":\"1040\",\"type\":\"Range1d\"},{\"attributes\":{},\"id\":\"1048\",\"type\":\"Selection\"},{\"attributes\":{},\"id\":\"1045\",\"type\":\"BasicTickFormatter\"},{\"attributes\":{\"line_color\":\"blue\",\"line_width\":1.5,\"x\":{\"field\":\"x\"},\"y\":{\"field\":\"y\"}},\"id\":\"1036\",\"type\":\"Line\"},{\"attributes\":{},\"id\":\"1022\",\"type\":\"PanTool\"},{\"attributes\":{},\"id\":\"1023\",\"type\":\"WheelZoomTool\"},{\"attributes\":{\"text\":\"Cut off parameter selection curve\"},\"id\":\"1002\",\"type\":\"Title\"},{\"attributes\":{\"overlay\":{\"id\":\"1049\",\"type\":\"BoxAnnotation\"}},\"id\":\"1024\",\"type\":\"BoxZoomTool\"},{\"attributes\":{},\"id\":\"1025\",\"type\":\"SaveTool\"},{\"attributes\":{\"bounds\":[1979.0,8068.0],\"callback\":null,\"end\":8068.0,\"start\":1979.0},\"id\":\"1041\",\"type\":\"Range1d\"},{\"attributes\":{},\"id\":\"1026\",\"type\":\"ResetTool\"},{\"attributes\":{},\"id\":\"1027\",\"type\":\"HelpTool\"},{\"attributes\":{},\"id\":\"1008\",\"type\":\"LinearScale\"},{\"attributes\":{\"callback\":null,\"data\":{\"x\":{\"__ndarray__\":\"8WjjiLX45D6kRbS3+BHGP90zScbOEdY/cyJcmFCN4D/5qpPNuRHmP38zywIjlus/Al4BHEaN8D9FIp22ek/zP4jmOFGvEfY/y6rU6+PT+D8Ob3CGGJb7P1AzDCFNWP4/yfvT3UCNAEDr3SErW+4BQAzAb3h1TwNALqK9xY+wBEBPhAsTqhEGQHBmWWDEcgdAkkinrd7TCECzKvX6+DQKQNUMQ0gTlgtA9u6QlS33DEAX0d7iR1gOQDmzLDBiuQ9ArEq9Pj6NEEC9O2Rlyz0RQM4sC4xY7hFA3x2ysuWeEkDvDlnZck8TQAAAAAAAABRA\",\"dtype\":\"float64\",\"shape\":[30]},\"y\":{\"__ndarray__\":\"AAAAAADsnkAAAAAAANK+QAAAAAAAb79AAAAAAACEv0AAAAAAAHm/QAAAAAAAeL9AAAAAAABov0AAAAAAAD6/QAAAAAAABr9AAAAAAACVvkAAAAAAAEG+QAAAAAAA8b1AAAAAAACWvUAAAAAAADi9QAAAAAAAs7xAAAAAAABzvEAAAAAAAA68QAAAAAAAh7tAAAAAAAAfu0AAAAAAALq6QAAAAAAAUbpAAAAAAAD2uUAAAAAAALm5QAAAAAAASLlAAAAAAAAMuUAAAAAAALK4QAAAAAAAiLhAAAAAAAA7uEAAAAAAAAC4QAAAAAAAwrdA\",\"dtype\":\"float64\",\"shape\":[30]}},\"selected\":{\"id\":\"1048\",\"type\":\"Selection\"},\"selection_policy\":{\"id\":\"1047\",\"type\":\"UnionRenderers\"}},\"id\":\"1035\",\"type\":\"ColumnDataSource\"},{\"attributes\":{},\"id\":\"1010\",\"type\":\"LinearScale\"},{\"attributes\":{\"line_alpha\":0.1,\"line_color\":\"#1f77b4\",\"line_width\":1.5,\"x\":{\"field\":\"x\"},\"y\":{\"field\":\"y\"}},\"id\":\"1037\",\"type\":\"Line\"},{\"attributes\":{\"axis_label\":\"Filter cut off\",\"formatter\":{\"id\":\"1043\",\"type\":\"BasicTickFormatter\"},\"ticker\":{\"id\":\"1013\",\"type\":\"BasicTicker\"}},\"id\":\"1012\",\"type\":\"LinearAxis\"}],\"root_ids\":[\"1001\"]},\"title\":\"Bokeh Application\",\"version\":\"1.4.0\"}};\n",
              "  var render_items = [{\"docid\":\"9a8893b5-ed52-4e52-869a-8d3f63c0a719\",\"roots\":{\"1001\":\"e458f106-ceb0-43a4-afb1-e33c852ceee9\"}}];\n",
              "  root.Bokeh.embed.embed_items_notebook(docs_json, render_items);\n",
              "\n",
              "  }\n",
              "  if (root.Bokeh !== undefined) {\n",
              "    embed_document(root);\n",
              "  } else {\n",
              "    var attempts = 0;\n",
              "    var timer = setInterval(function(root) {\n",
              "      if (root.Bokeh !== undefined) {\n",
              "        clearInterval(timer);\n",
              "        embed_document(root);\n",
              "      } else {\n",
              "        attempts++;\n",
              "        if (attempts > 100) {\n",
              "          clearInterval(timer);\n",
              "          console.log(\"Bokeh: ERROR: Unable to run BokehJS code because BokehJS library is missing\");\n",
              "        }\n",
              "      }\n",
              "    }, 10, root)\n",
              "  }\n",
              "})(window);"
            ],
            "application/vnd.bokehjs_exec.v0+json": ""
          },
          "metadata": {
            "tags": [],
            "application/vnd.bokehjs_exec.v0+json": {
              "id": "1001"
            }
          }
        }
      ]
    },
    {
      "cell_type": "markdown",
      "metadata": {
        "colab_type": "text",
        "id": "17sDtGlO2AaE"
      },
      "source": [
        "### Mapping reads to the reference\n",
        "\n",
        "Having run pychopper to orient and filter the input sequencing data, we proceed by aligning the data to the provided reference. We will use `minimap2` to perform this task using its *spice aware* mode. This allows reads to be split across introns and span exons. Once minimap2 is finished we process the alignment file (.bam), filter, sort and generate an index (.bai).  \n",
        "\n",
        "> **A note on alignment file filtering:** the alignment file is filtered such that *secondary* and *supplementary* alignments are removed. The correct placement of a read may be ambiguous, for example from the presence of repeats in the genome. In this case there may be multiple read alignments for the same read. One of these alignments is considered primary. All the other alignments have the secondary alignment flag set. Some alignments of reads cannot be represented as a simple linear alignment. These *chimeric alignments* are represented as a set of linear alignments that do not have large overlaps. Typically one of the linear alignments in a chimeric alignment is considered the “representative” alignment, and the others are called “supplementary”.\n"
      ]
    },
    {
      "cell_type": "code",
      "metadata": {
        "id": "y3QRS20HCynN",
        "colab_type": "code",
        "cellView": "both",
        "outputId": "2b04c2b6-de51-468e-cabc-1e2153cea250",
        "colab": {
          "base_uri": "https://localhost:8080/",
          "height": 510
        }
      },
      "source": [
        "#Create the minimap analysis directory\n",
        "minimap_dir = os.path.join(analysis_folder, \"minimap2\")\n",
        "!mkdir -p $minimap_dir\n",
        "\n",
        "# create minimap index\n",
        "ref = inputs['reference']\n",
        "minimap_index = os.path.join(\n",
        "    analysis_folder, \"minimap2\", ref + \".mmi\")\n",
        "if rebuild_index or not os.path.exists(minimap_index):\n",
        "    print(\"* Building minimap index...\")\n",
        "    !minimap2 -t 10 -k14 -I 1000G -d $minimap_index $ref \\\n",
        "    && \"✓ Built index!\"\n",
        "else:\n",
        "    print(\"* Skipping building minimap index\")\n",
        "\n",
        "# run minimap, sort, and index the output\n",
        "minimap_out_bam = os.path.join(minimap_dir, inputs['fastq'] + \".bam\")\n",
        "!minimap2 -t $threads -ax splice -uf \\\n",
        "    $minimap_index \"$pychopper_dir\"/full_length_output.fq \\\n",
        "    | samtools view -q 10 -F 2304 -Sb \\\n",
        "    | samtools sort -@ 10 - -o $minimap_out_bam\n",
        "!samtools index $minimap_out_bam"
      ],
      "execution_count": 0,
      "outputs": [
        {
          "output_type": "stream",
          "text": [
            "* Building minimap index...\n",
            "[M::mm_idx_gen::4.865*1.27] collected minimizers\n",
            "[M::mm_idx_gen::8.039*1.41] sorted minimizers\n",
            "[M::main::48.335*0.36] loaded/built the index for 1870 target sequence(s)\n",
            "[M::mm_idx_stat] kmer size: 14; skip: 10; is_hpc: 0; #seq: 1870\n",
            "[M::mm_idx_stat::48.567*0.36] distinct minimizers: 13579029 (67.42% are singletons); average occurrences: 1.953; average spacing: 5.419\n",
            "[M::main] Version: 2.17-r941\n",
            "[M::main] CMD: minimap2 -t 10 -k14 -I 1000G -d analysis/minimap2/Drosophila_melanogaster.BDGP6.dna.toplevel.fa.mmi Drosophila_melanogaster.BDGP6.dna.toplevel.fa\n",
            "[M::main] Real time: 48.615 sec; CPU: 17.527 sec; Peak RSS: 0.993 GB\n",
            "✓ Built index!\n",
            "[M::mm_idx_gen::4.824*1.21] collected minimizers\n",
            "[M::mm_idx_gen::8.144*1.33] sorted minimizers\n",
            "[M::main::45.186*0.33] loaded/built the index for 1870 target sequence(s)\n",
            "[M::mm_idx_stat] kmer size: 14; skip: 10; is_hpc: 0; #seq: 1870\n",
            "[M::mm_idx_stat::45.437*0.33] distinct minimizers: 13579029 (67.42% are singletons); average occurrences: 1.953; average spacing: 5.419\n",
            "[M::main] Version: 2.17-r941\n",
            "[M::main] CMD: minimap2 -t 10 -k14 -I 1000G -d analysis/minimap2/Drosophila_melanogaster.BDGP6.dna.toplevel.fa.mmi Drosophila_melanogaster.BDGP6.dna.toplevel.fa\n",
            "[M::main] Real time: 45.523 sec; CPU: 15.149 sec; Peak RSS: 0.987 GB\n",
            "[WARNING]\u001b[1;31m Indexing parameters (-k, -w or -H) overridden by parameters used in the prebuilt index.\u001b[0m\n",
            "[M::main::3.031*0.67] loaded/built the index for 1870 target sequence(s)\n",
            "[M::mm_mapopt_update::3.372*0.71] mid_occ = 133\n",
            "[M::mm_idx_stat] kmer size: 14; skip: 10; is_hpc: 0; #seq: 1870\n",
            "[M::mm_idx_stat::3.602*0.73] distinct minimizers: 13579029 (67.42% are singletons); average occurrences: 1.953; average spacing: 5.419\n",
            "[M::worker_pipeline::7.698*1.74] mapped 12195 sequences\n",
            "[M::main] Version: 2.17-r941\n",
            "[M::main] CMD: minimap2 -t 10 -ax splice -uf analysis/minimap2/Drosophila_melanogaster.BDGP6.dna.toplevel.fa.mmi analysis/pychopper/full_length_output.fq\n",
            "[M::main] Real time: 7.736 sec; CPU: 13.407 sec; Peak RSS: 1.012 GB\n",
            "[bam_sort_core] merging from 0 files and 10 in-memory blocks...\n",
            "Mapped/Unmapped/Short/Masked: 12176/0/0/0\n"
          ],
          "name": "stdout"
        }
      ]
    },
    {
      "cell_type": "markdown",
      "metadata": {
        "id": "hDrfRT9zNhMr",
        "colab_type": "text"
      },
      "source": [
        "As a brief sanity check of the alignments, we can summarise the information\n",
        "contained within the alignment `.bam` file and check some basic statistics. The code below will plot a read accuracy histogram together with a histogram depicting the proportion of each read contained within its alignment. This second plot should show a strong peak >98% indicating that the reads align to the reference across their full length."
      ]
    },
    {
      "cell_type": "code",
      "metadata": {
        "id": "pyzAdyq961WA",
        "colab_type": "code",
        "cellView": "form",
        "outputId": "a433bab9-7608-4017-83ac-13d2aa73858a",
        "colab": {
          "base_uri": "https://localhost:8080/",
          "height": 447
        }
      },
      "source": [
        "#@markdown **Read summary plot code** *(click to show)*\n",
        "# calculate some basic statistics from the alignments\n",
        "#!stats_from_bam -o $minimap_out_bam'.tsv' $minimap_out_bam\n",
        "\n",
        "from aplanat import hist\n",
        "from bokeh.layouts import gridplot\n",
        "df = pd.read_csv(minimap_out_bam + '.tsv.subset.tsv', sep=\"\\t\")\n",
        "\n",
        "p1 = hist.histogram(\n",
        "    [df['acc']], xlim=(70,101), binwidth=0.5, height=200,\n",
        "    x_axis_label='read accuracy', y_axis_label='read count')\n",
        "p2 = hist.histogram(\n",
        "    [df['coverage']], xlim=(90,101), binwidth=0.2, height=200,\n",
        "    x_axis_label='%age of read contained in alignment',\n",
        "    y_axis_label='read count')\n",
        "\n",
        "aplanat.show(gridplot([[p1], [p2]]))"
      ],
      "execution_count": 0,
      "outputs": [
        {
          "output_type": "display_data",
          "data": {
            "application/javascript": [
              "\n",
              "(function(root) {\n",
              "  function now() {\n",
              "    return new Date();\n",
              "  }\n",
              "\n",
              "  var force = true;\n",
              "\n",
              "  if (typeof root._bokeh_onload_callbacks === \"undefined\" || force === true) {\n",
              "    root._bokeh_onload_callbacks = [];\n",
              "    root._bokeh_is_loading = undefined;\n",
              "  }\n",
              "\n",
              "  var JS_MIME_TYPE = 'application/javascript';\n",
              "  var HTML_MIME_TYPE = 'text/html';\n",
              "  var EXEC_MIME_TYPE = 'application/vnd.bokehjs_exec.v0+json';\n",
              "  var CLASS_NAME = 'output_bokeh rendered_html';\n",
              "\n",
              "  /**\n",
              "   * Render data to the DOM node\n",
              "   */\n",
              "  function render(props, node) {\n",
              "    var script = document.createElement(\"script\");\n",
              "    node.appendChild(script);\n",
              "  }\n",
              "\n",
              "  /**\n",
              "   * Handle when an output is cleared or removed\n",
              "   */\n",
              "  function handleClearOutput(event, handle) {\n",
              "    var cell = handle.cell;\n",
              "\n",
              "    var id = cell.output_area._bokeh_element_id;\n",
              "    var server_id = cell.output_area._bokeh_server_id;\n",
              "    // Clean up Bokeh references\n",
              "    if (id != null && id in Bokeh.index) {\n",
              "      Bokeh.index[id].model.document.clear();\n",
              "      delete Bokeh.index[id];\n",
              "    }\n",
              "\n",
              "    if (server_id !== undefined) {\n",
              "      // Clean up Bokeh references\n",
              "      var cmd = \"from bokeh.io.state import curstate; print(curstate().uuid_to_server['\" + server_id + \"'].get_sessions()[0].document.roots[0]._id)\";\n",
              "      cell.notebook.kernel.execute(cmd, {\n",
              "        iopub: {\n",
              "          output: function(msg) {\n",
              "            var id = msg.content.text.trim();\n",
              "            if (id in Bokeh.index) {\n",
              "              Bokeh.index[id].model.document.clear();\n",
              "              delete Bokeh.index[id];\n",
              "            }\n",
              "          }\n",
              "        }\n",
              "      });\n",
              "      // Destroy server and session\n",
              "      var cmd = \"import bokeh.io.notebook as ion; ion.destroy_server('\" + server_id + \"')\";\n",
              "      cell.notebook.kernel.execute(cmd);\n",
              "    }\n",
              "  }\n",
              "\n",
              "  /**\n",
              "   * Handle when a new output is added\n",
              "   */\n",
              "  function handleAddOutput(event, handle) {\n",
              "    var output_area = handle.output_area;\n",
              "    var output = handle.output;\n",
              "\n",
              "    // limit handleAddOutput to display_data with EXEC_MIME_TYPE content only\n",
              "    if ((output.output_type != \"display_data\") || (!output.data.hasOwnProperty(EXEC_MIME_TYPE))) {\n",
              "      return\n",
              "    }\n",
              "\n",
              "    var toinsert = output_area.element.find(\".\" + CLASS_NAME.split(' ')[0]);\n",
              "\n",
              "    if (output.metadata[EXEC_MIME_TYPE][\"id\"] !== undefined) {\n",
              "      toinsert[toinsert.length - 1].firstChild.textContent = output.data[JS_MIME_TYPE];\n",
              "      // store reference to embed id on output_area\n",
              "      output_area._bokeh_element_id = output.metadata[EXEC_MIME_TYPE][\"id\"];\n",
              "    }\n",
              "    if (output.metadata[EXEC_MIME_TYPE][\"server_id\"] !== undefined) {\n",
              "      var bk_div = document.createElement(\"div\");\n",
              "      bk_div.innerHTML = output.data[HTML_MIME_TYPE];\n",
              "      var script_attrs = bk_div.children[0].attributes;\n",
              "      for (var i = 0; i < script_attrs.length; i++) {\n",
              "        toinsert[toinsert.length - 1].firstChild.setAttribute(script_attrs[i].name, script_attrs[i].value);\n",
              "      }\n",
              "      // store reference to server id on output_area\n",
              "      output_area._bokeh_server_id = output.metadata[EXEC_MIME_TYPE][\"server_id\"];\n",
              "    }\n",
              "  }\n",
              "\n",
              "  function register_renderer(events, OutputArea) {\n",
              "\n",
              "    function append_mime(data, metadata, element) {\n",
              "      // create a DOM node to render to\n",
              "      var toinsert = this.create_output_subarea(\n",
              "        metadata,\n",
              "        CLASS_NAME,\n",
              "        EXEC_MIME_TYPE\n",
              "      );\n",
              "      this.keyboard_manager.register_events(toinsert);\n",
              "      // Render to node\n",
              "      var props = {data: data, metadata: metadata[EXEC_MIME_TYPE]};\n",
              "      render(props, toinsert[toinsert.length - 1]);\n",
              "      element.append(toinsert);\n",
              "      return toinsert\n",
              "    }\n",
              "\n",
              "    /* Handle when an output is cleared or removed */\n",
              "    events.on('clear_output.CodeCell', handleClearOutput);\n",
              "    events.on('delete.Cell', handleClearOutput);\n",
              "\n",
              "    /* Handle when a new output is added */\n",
              "    events.on('output_added.OutputArea', handleAddOutput);\n",
              "\n",
              "    /**\n",
              "     * Register the mime type and append_mime function with output_area\n",
              "     */\n",
              "    OutputArea.prototype.register_mime_type(EXEC_MIME_TYPE, append_mime, {\n",
              "      /* Is output safe? */\n",
              "      safe: true,\n",
              "      /* Index of renderer in `output_area.display_order` */\n",
              "      index: 0\n",
              "    });\n",
              "  }\n",
              "\n",
              "  // register the mime type if in Jupyter Notebook environment and previously unregistered\n",
              "  if (root.Jupyter !== undefined) {\n",
              "    var events = require('base/js/events');\n",
              "    var OutputArea = require('notebook/js/outputarea').OutputArea;\n",
              "\n",
              "    if (OutputArea.prototype.mime_types().indexOf(EXEC_MIME_TYPE) == -1) {\n",
              "      register_renderer(events, OutputArea);\n",
              "    }\n",
              "  }\n",
              "\n",
              "  \n",
              "  if (typeof (root._bokeh_timeout) === \"undefined\" || force === true) {\n",
              "    root._bokeh_timeout = Date.now() + 5000;\n",
              "    root._bokeh_failed_load = false;\n",
              "  }\n",
              "\n",
              "  var NB_LOAD_WARNING = {'data': {'text/html':\n",
              "     \"<div style='background-color: #fdd'>\\n\"+\n",
              "     \"<p>\\n\"+\n",
              "     \"BokehJS does not appear to have successfully loaded. If loading BokehJS from CDN, this \\n\"+\n",
              "     \"may be due to a slow or bad network connection. Possible fixes:\\n\"+\n",
              "     \"</p>\\n\"+\n",
              "     \"<ul>\\n\"+\n",
              "     \"<li>re-rerun `output_notebook()` to attempt to load from CDN again, or</li>\\n\"+\n",
              "     \"<li>use INLINE resources instead, as so:</li>\\n\"+\n",
              "     \"</ul>\\n\"+\n",
              "     \"<code>\\n\"+\n",
              "     \"from bokeh.resources import INLINE\\n\"+\n",
              "     \"output_notebook(resources=INLINE)\\n\"+\n",
              "     \"</code>\\n\"+\n",
              "     \"</div>\"}};\n",
              "\n",
              "  function display_loaded() {\n",
              "    var el = document.getElementById(null);\n",
              "    if (el != null) {\n",
              "      el.textContent = \"BokehJS is loading...\";\n",
              "    }\n",
              "    if (root.Bokeh !== undefined) {\n",
              "      if (el != null) {\n",
              "        el.textContent = \"BokehJS \" + root.Bokeh.version + \" successfully loaded.\";\n",
              "      }\n",
              "    } else if (Date.now() < root._bokeh_timeout) {\n",
              "      setTimeout(display_loaded, 100)\n",
              "    }\n",
              "  }\n",
              "\n",
              "\n",
              "  function run_callbacks() {\n",
              "    try {\n",
              "      root._bokeh_onload_callbacks.forEach(function(callback) {\n",
              "        if (callback != null)\n",
              "          callback();\n",
              "      });\n",
              "    } finally {\n",
              "      delete root._bokeh_onload_callbacks\n",
              "    }\n",
              "    console.debug(\"Bokeh: all callbacks have finished\");\n",
              "  }\n",
              "\n",
              "  function load_libs(css_urls, js_urls, callback) {\n",
              "    if (css_urls == null) css_urls = [];\n",
              "    if (js_urls == null) js_urls = [];\n",
              "\n",
              "    root._bokeh_onload_callbacks.push(callback);\n",
              "    if (root._bokeh_is_loading > 0) {\n",
              "      console.debug(\"Bokeh: BokehJS is being loaded, scheduling callback at\", now());\n",
              "      return null;\n",
              "    }\n",
              "    if (js_urls == null || js_urls.length === 0) {\n",
              "      run_callbacks();\n",
              "      return null;\n",
              "    }\n",
              "    console.debug(\"Bokeh: BokehJS not loaded, scheduling load and callback at\", now());\n",
              "    root._bokeh_is_loading = css_urls.length + js_urls.length;\n",
              "\n",
              "    function on_load() {\n",
              "      root._bokeh_is_loading--;\n",
              "      if (root._bokeh_is_loading === 0) {\n",
              "        console.debug(\"Bokeh: all BokehJS libraries/stylesheets loaded\");\n",
              "        run_callbacks()\n",
              "      }\n",
              "    }\n",
              "\n",
              "    function on_error() {\n",
              "      console.error(\"failed to load \" + url);\n",
              "    }\n",
              "\n",
              "    for (var i = 0; i < css_urls.length; i++) {\n",
              "      var url = css_urls[i];\n",
              "      const element = document.createElement(\"link\");\n",
              "      element.onload = on_load;\n",
              "      element.onerror = on_error;\n",
              "      element.rel = \"stylesheet\";\n",
              "      element.type = \"text/css\";\n",
              "      element.href = url;\n",
              "      console.debug(\"Bokeh: injecting link tag for BokehJS stylesheet: \", url);\n",
              "      document.body.appendChild(element);\n",
              "    }\n",
              "\n",
              "    for (var i = 0; i < js_urls.length; i++) {\n",
              "      var url = js_urls[i];\n",
              "      var element = document.createElement('script');\n",
              "      element.onload = on_load;\n",
              "      element.onerror = on_error;\n",
              "      element.async = false;\n",
              "      element.src = url;\n",
              "      console.debug(\"Bokeh: injecting script tag for BokehJS library: \", url);\n",
              "      document.head.appendChild(element);\n",
              "    }\n",
              "  };\n",
              "\n",
              "  function inject_raw_css(css) {\n",
              "    const element = document.createElement(\"style\");\n",
              "    element.appendChild(document.createTextNode(css));\n",
              "    document.body.appendChild(element);\n",
              "  }\n",
              "\n",
              "  \n",
              "  var js_urls = [\"https://cdn.pydata.org/bokeh/release/bokeh-1.4.0.min.js\", \"https://cdn.pydata.org/bokeh/release/bokeh-widgets-1.4.0.min.js\", \"https://cdn.pydata.org/bokeh/release/bokeh-tables-1.4.0.min.js\", \"https://cdn.pydata.org/bokeh/release/bokeh-gl-1.4.0.min.js\"];\n",
              "  var css_urls = [];\n",
              "  \n",
              "\n",
              "  var inline_js = [\n",
              "    function(Bokeh) {\n",
              "      Bokeh.set_log_level(\"info\");\n",
              "    },\n",
              "    function(Bokeh) {\n",
              "    \n",
              "    \n",
              "    }\n",
              "  ];\n",
              "\n",
              "  function run_inline_js() {\n",
              "    \n",
              "    if (root.Bokeh !== undefined || force === true) {\n",
              "      \n",
              "    for (var i = 0; i < inline_js.length; i++) {\n",
              "      inline_js[i].call(root, root.Bokeh);\n",
              "    }\n",
              "    } else if (Date.now() < root._bokeh_timeout) {\n",
              "      setTimeout(run_inline_js, 100);\n",
              "    } else if (!root._bokeh_failed_load) {\n",
              "      console.log(\"Bokeh: BokehJS failed to load within specified timeout.\");\n",
              "      root._bokeh_failed_load = true;\n",
              "    } else if (force !== true) {\n",
              "      var cell = $(document.getElementById(null)).parents('.cell').data().cell;\n",
              "      cell.output_area.append_execute_result(NB_LOAD_WARNING)\n",
              "    }\n",
              "\n",
              "  }\n",
              "\n",
              "  if (root._bokeh_is_loading === 0) {\n",
              "    console.debug(\"Bokeh: BokehJS loaded, going straight to plotting\");\n",
              "    run_inline_js();\n",
              "  } else {\n",
              "    load_libs(css_urls, js_urls, function() {\n",
              "      console.debug(\"Bokeh: BokehJS plotting callback run at\", now());\n",
              "      run_inline_js();\n",
              "    });\n",
              "  }\n",
              "}(window));"
            ],
            "application/vnd.bokehjs_load.v0+json": "\n(function(root) {\n  function now() {\n    return new Date();\n  }\n\n  var force = true;\n\n  if (typeof root._bokeh_onload_callbacks === \"undefined\" || force === true) {\n    root._bokeh_onload_callbacks = [];\n    root._bokeh_is_loading = undefined;\n  }\n\n  \n\n  \n  if (typeof (root._bokeh_timeout) === \"undefined\" || force === true) {\n    root._bokeh_timeout = Date.now() + 5000;\n    root._bokeh_failed_load = false;\n  }\n\n  var NB_LOAD_WARNING = {'data': {'text/html':\n     \"<div style='background-color: #fdd'>\\n\"+\n     \"<p>\\n\"+\n     \"BokehJS does not appear to have successfully loaded. If loading BokehJS from CDN, this \\n\"+\n     \"may be due to a slow or bad network connection. Possible fixes:\\n\"+\n     \"</p>\\n\"+\n     \"<ul>\\n\"+\n     \"<li>re-rerun `output_notebook()` to attempt to load from CDN again, or</li>\\n\"+\n     \"<li>use INLINE resources instead, as so:</li>\\n\"+\n     \"</ul>\\n\"+\n     \"<code>\\n\"+\n     \"from bokeh.resources import INLINE\\n\"+\n     \"output_notebook(resources=INLINE)\\n\"+\n     \"</code>\\n\"+\n     \"</div>\"}};\n\n  function display_loaded() {\n    var el = document.getElementById(null);\n    if (el != null) {\n      el.textContent = \"BokehJS is loading...\";\n    }\n    if (root.Bokeh !== undefined) {\n      if (el != null) {\n        el.textContent = \"BokehJS \" + root.Bokeh.version + \" successfully loaded.\";\n      }\n    } else if (Date.now() < root._bokeh_timeout) {\n      setTimeout(display_loaded, 100)\n    }\n  }\n\n\n  function run_callbacks() {\n    try {\n      root._bokeh_onload_callbacks.forEach(function(callback) {\n        if (callback != null)\n          callback();\n      });\n    } finally {\n      delete root._bokeh_onload_callbacks\n    }\n    console.debug(\"Bokeh: all callbacks have finished\");\n  }\n\n  function load_libs(css_urls, js_urls, callback) {\n    if (css_urls == null) css_urls = [];\n    if (js_urls == null) js_urls = [];\n\n    root._bokeh_onload_callbacks.push(callback);\n    if (root._bokeh_is_loading > 0) {\n      console.debug(\"Bokeh: BokehJS is being loaded, scheduling callback at\", now());\n      return null;\n    }\n    if (js_urls == null || js_urls.length === 0) {\n      run_callbacks();\n      return null;\n    }\n    console.debug(\"Bokeh: BokehJS not loaded, scheduling load and callback at\", now());\n    root._bokeh_is_loading = css_urls.length + js_urls.length;\n\n    function on_load() {\n      root._bokeh_is_loading--;\n      if (root._bokeh_is_loading === 0) {\n        console.debug(\"Bokeh: all BokehJS libraries/stylesheets loaded\");\n        run_callbacks()\n      }\n    }\n\n    function on_error() {\n      console.error(\"failed to load \" + url);\n    }\n\n    for (var i = 0; i < css_urls.length; i++) {\n      var url = css_urls[i];\n      const element = document.createElement(\"link\");\n      element.onload = on_load;\n      element.onerror = on_error;\n      element.rel = \"stylesheet\";\n      element.type = \"text/css\";\n      element.href = url;\n      console.debug(\"Bokeh: injecting link tag for BokehJS stylesheet: \", url);\n      document.body.appendChild(element);\n    }\n\n    for (var i = 0; i < js_urls.length; i++) {\n      var url = js_urls[i];\n      var element = document.createElement('script');\n      element.onload = on_load;\n      element.onerror = on_error;\n      element.async = false;\n      element.src = url;\n      console.debug(\"Bokeh: injecting script tag for BokehJS library: \", url);\n      document.head.appendChild(element);\n    }\n  };\n\n  function inject_raw_css(css) {\n    const element = document.createElement(\"style\");\n    element.appendChild(document.createTextNode(css));\n    document.body.appendChild(element);\n  }\n\n  \n  var js_urls = [\"https://cdn.pydata.org/bokeh/release/bokeh-1.4.0.min.js\", \"https://cdn.pydata.org/bokeh/release/bokeh-widgets-1.4.0.min.js\", \"https://cdn.pydata.org/bokeh/release/bokeh-tables-1.4.0.min.js\", \"https://cdn.pydata.org/bokeh/release/bokeh-gl-1.4.0.min.js\"];\n  var css_urls = [];\n  \n\n  var inline_js = [\n    function(Bokeh) {\n      Bokeh.set_log_level(\"info\");\n    },\n    function(Bokeh) {\n    \n    \n    }\n  ];\n\n  function run_inline_js() {\n    \n    if (root.Bokeh !== undefined || force === true) {\n      \n    for (var i = 0; i < inline_js.length; i++) {\n      inline_js[i].call(root, root.Bokeh);\n    }\n    } else if (Date.now() < root._bokeh_timeout) {\n      setTimeout(run_inline_js, 100);\n    } else if (!root._bokeh_failed_load) {\n      console.log(\"Bokeh: BokehJS failed to load within specified timeout.\");\n      root._bokeh_failed_load = true;\n    } else if (force !== true) {\n      var cell = $(document.getElementById(null)).parents('.cell').data().cell;\n      cell.output_area.append_execute_result(NB_LOAD_WARNING)\n    }\n\n  }\n\n  if (root._bokeh_is_loading === 0) {\n    console.debug(\"Bokeh: BokehJS loaded, going straight to plotting\");\n    run_inline_js();\n  } else {\n    load_libs(css_urls, js_urls, function() {\n      console.debug(\"Bokeh: BokehJS plotting callback run at\", now());\n      run_inline_js();\n    });\n  }\n}(window));"
          },
          "metadata": {
            "tags": []
          }
        },
        {
          "output_type": "display_data",
          "data": {
            "text/html": [
              "\n",
              "\n",
              "\n",
              "\n",
              "\n",
              "\n",
              "  <div class=\"bk-root\" id=\"4d65db17-5613-4ee6-8797-73e7c1b86f8c\" data-root-id=\"4209\"></div>\n"
            ]
          },
          "metadata": {
            "tags": []
          }
        },
        {
          "output_type": "display_data",
          "data": {
            "application/javascript": [
              "(function(root) {\n",
              "  function embed_document(root) {\n",
              "    \n",
              "  var docs_json = {\"706d0ad1-f5fb-427c-8d4d-2095ab48f048\":{\"roots\":{\"references\":[{\"attributes\":{\"children\":[{\"id\":\"4208\",\"type\":\"ToolbarBox\"},{\"id\":\"4206\",\"type\":\"GridBox\"}]},\"id\":\"4209\",\"type\":\"Column\"},{\"attributes\":{\"source\":{\"id\":\"4140\",\"type\":\"ColumnDataSource\"}},\"id\":\"4144\",\"type\":\"CDSView\"},{\"attributes\":{},\"id\":\"4115\",\"type\":\"LinearScale\"},{\"attributes\":{\"bottom\":{\"value\":0},\"fill_alpha\":{\"value\":0.1},\"fill_color\":{\"value\":\"#1f77b4\"},\"left\":{\"field\":\"left\"},\"line_alpha\":{\"value\":0.1},\"line_color\":{\"value\":\"#1f77b4\"},\"right\":{\"field\":\"right\"},\"top\":{\"field\":\"top\"}},\"id\":\"4181\",\"type\":\"Quad\"},{\"attributes\":{},\"id\":\"4130\",\"type\":\"SaveTool\"},{\"attributes\":{\"below\":[{\"id\":\"4117\",\"type\":\"LinearAxis\"}],\"center\":[{\"id\":\"4121\",\"type\":\"Grid\"},{\"id\":\"4126\",\"type\":\"Grid\"}],\"left\":[{\"id\":\"4122\",\"type\":\"LinearAxis\"}],\"output_backend\":\"webgl\",\"plot_height\":200,\"renderers\":[{\"id\":\"4143\",\"type\":\"GlyphRenderer\"}],\"title\":{\"id\":\"4186\",\"type\":\"Title\"},\"toolbar\":{\"id\":\"4133\",\"type\":\"Toolbar\"},\"toolbar_location\":null,\"x_range\":{\"id\":\"4145\",\"type\":\"Range1d\"},\"x_scale\":{\"id\":\"4113\",\"type\":\"LinearScale\"},\"y_range\":{\"id\":\"4146\",\"type\":\"Range1d\"},\"y_scale\":{\"id\":\"4115\",\"type\":\"LinearScale\"}},\"id\":\"4108\",\"subtype\":\"Figure\",\"type\":\"Plot\"},{\"attributes\":{},\"id\":\"4131\",\"type\":\"ResetTool\"},{\"attributes\":{\"axis_label\":\"%age of read contained in alignment\",\"formatter\":{\"id\":\"4198\",\"type\":\"BasicTickFormatter\"},\"ticker\":{\"id\":\"4157\",\"type\":\"BasicTicker\"}},\"id\":\"4156\",\"type\":\"LinearAxis\"},{\"attributes\":{\"bottom\":{\"value\":0},\"fill_alpha\":{\"value\":0.6},\"fill_color\":{\"value\":\"blue\"},\"left\":{\"field\":\"left\"},\"line_alpha\":{\"value\":0.6},\"line_color\":{\"value\":\"blue\"},\"right\":{\"field\":\"right\"},\"top\":{\"field\":\"top\"}},\"id\":\"4141\",\"type\":\"Quad\"},{\"attributes\":{\"overlay\":{\"id\":\"4194\",\"type\":\"BoxAnnotation\"}},\"id\":\"4129\",\"type\":\"BoxZoomTool\"},{\"attributes\":{\"text\":\"\"},\"id\":\"4196\",\"type\":\"Title\"},{\"attributes\":{\"children\":[[{\"id\":\"4108\",\"subtype\":\"Figure\",\"type\":\"Plot\"},0,0],[{\"id\":\"4147\",\"subtype\":\"Figure\",\"type\":\"Plot\"},1,0]]},\"id\":\"4206\",\"type\":\"GridBox\"},{\"attributes\":{},\"id\":\"4132\",\"type\":\"HelpTool\"},{\"attributes\":{},\"id\":\"4169\",\"type\":\"SaveTool\"},{\"attributes\":{\"dimension\":1,\"ticker\":{\"id\":\"4162\",\"type\":\"BasicTicker\"}},\"id\":\"4165\",\"type\":\"Grid\"},{\"attributes\":{\"bounds\":[90,101],\"callback\":null,\"end\":101,\"start\":90},\"id\":\"4184\",\"type\":\"Range1d\"},{\"attributes\":{\"callback\":null,\"data\":{\"left\":{\"__ndarray__\":\"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\",\"dtype\":\"float64\",\"shape\":[260]},\"right\":{\"__ndarray__\":\"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\",\"dtype\":\"float64\",\"shape\":[260]},\"top\":[1,0,0,0,0,0,0,0,0,0,0,0,0,0,0,0,0,0,0,0,0,2,0,0,0,0,0,1,0,0,0,0,0,0,0,0,0,1,0,0,0,0,0,0,0,0,0,0,1,0,0,0,0,0,0,0,0,0,0,0,0,0,0,0,0,1,0,0,0,0,0,0,0,0,0,0,0,0,1,0,0,0,1,0,0,0,1,0,0,0,0,0,0,0,0,0,0,0,0,0,0,0,0,0,1,1,0,0,0,0,0,0,0,0,0,0,0,0,0,0,0,0,0,0,0,0,1,1,0,0,0,0,0,1,0,0,0,1,0,0,0,1,2,1,0,0,1,0,0,0,0,0,1,0,2,0,0,1,0,0,1,0,1,0,0,1,1,0,1,3,2,2,1,1,2,1,1,0,1,0,2,1,1,1,2,1,3,5,1,0,0,0,5,3,0,4,3,5,3,5,5,3,6,4,5,3,6,5,6,6,6,5,4,12,10,7,12,11,15,10,8,16,8,14,14,19,26,28,23,27,33,43,58,77,62,85,71,68,65,88,81,86,99,92,147,153,165,219,256,282,366,421,514,584,649,764,1032,1241,1752,1277]},\"selected\":{\"id\":\"4203\",\"type\":\"Selection\"},\"selection_policy\":{\"id\":\"4202\",\"type\":\"UnionRenderers\"}},\"id\":\"4179\",\"type\":\"ColumnDataSource\"},{\"attributes\":{},\"id\":\"4123\",\"type\":\"BasicTicker\"},{\"attributes\":{\"axis_label\":\"read count\",\"formatter\":{\"id\":\"4200\",\"type\":\"BasicTickFormatter\"},\"ticker\":{\"id\":\"4162\",\"type\":\"BasicTicker\"}},\"id\":\"4161\",\"type\":\"LinearAxis\"},{\"attributes\":{},\"id\":\"4188\",\"type\":\"BasicTickFormatter\"},{\"attributes\":{\"axis_label\":\"read count\",\"formatter\":{\"id\":\"4190\",\"type\":\"BasicTickFormatter\"},\"ticker\":{\"id\":\"4123\",\"type\":\"BasicTicker\"}},\"id\":\"4122\",\"type\":\"LinearAxis\"},{\"attributes\":{\"dimension\":1,\"ticker\":{\"id\":\"4123\",\"type\":\"BasicTicker\"}},\"id\":\"4126\",\"type\":\"Grid\"},{\"attributes\":{},\"id\":\"4171\",\"type\":\"HelpTool\"},{\"attributes\":{\"bottom_units\":\"screen\",\"fill_alpha\":{\"value\":0.5},\"fill_color\":{\"value\":\"lightgrey\"},\"left_units\":\"screen\",\"level\":\"overlay\",\"line_alpha\":{\"value\":1.0},\"line_color\":{\"value\":\"black\"},\"line_dash\":[4,4],\"line_width\":{\"value\":2},\"render_mode\":\"css\",\"right_units\":\"screen\",\"top_units\":\"screen\"},\"id\":\"4204\",\"type\":\"BoxAnnotation\"},{\"attributes\":{},\"id\":\"4162\",\"type\":\"BasicTicker\"},{\"attributes\":{},\"id\":\"4118\",\"type\":\"BasicTicker\"},{\"attributes\":{},\"id\":\"4198\",\"type\":\"BasicTickFormatter\"},{\"attributes\":{},\"id\":\"4157\",\"type\":\"BasicTicker\"},{\"attributes\":{\"ticker\":{\"id\":\"4157\",\"type\":\"BasicTicker\"}},\"id\":\"4160\",\"type\":\"Grid\"},{\"attributes\":{},\"id\":\"4113\",\"type\":\"LinearScale\"},{\"attributes\":{\"bottom\":{\"value\":0},\"fill_alpha\":{\"value\":0.1},\"fill_color\":{\"value\":\"#1f77b4\"},\"left\":{\"field\":\"left\"},\"line_alpha\":{\"value\":0.1},\"line_color\":{\"value\":\"#1f77b4\"},\"right\":{\"field\":\"right\"},\"top\":{\"field\":\"top\"}},\"id\":\"4142\",\"type\":\"Quad\"},{\"attributes\":{\"data_source\":{\"id\":\"4140\",\"type\":\"ColumnDataSource\"},\"glyph\":{\"id\":\"4141\",\"type\":\"Quad\"},\"hover_glyph\":null,\"muted_glyph\":null,\"nonselection_glyph\":{\"id\":\"4142\",\"type\":\"Quad\"},\"selection_glyph\":null,\"view\":{\"id\":\"4144\",\"type\":\"CDSView\"}},\"id\":\"4143\",\"type\":\"GlyphRenderer\"},{\"attributes\":{\"active_drag\":\"auto\",\"active_inspect\":\"auto\",\"active_multi\":null,\"active_scroll\":\"auto\",\"active_tap\":\"auto\",\"tools\":[{\"id\":\"4127\",\"type\":\"PanTool\"},{\"id\":\"4128\",\"type\":\"WheelZoomTool\"},{\"id\":\"4129\",\"type\":\"BoxZoomTool\"},{\"id\":\"4130\",\"type\":\"SaveTool\"},{\"id\":\"4131\",\"type\":\"ResetTool\"},{\"id\":\"4132\",\"type\":\"HelpTool\"}]},\"id\":\"4133\",\"type\":\"Toolbar\"},{\"attributes\":{\"active_drag\":\"auto\",\"active_inspect\":\"auto\",\"active_multi\":null,\"active_scroll\":\"auto\",\"active_tap\":\"auto\",\"tools\":[{\"id\":\"4166\",\"type\":\"PanTool\"},{\"id\":\"4167\",\"type\":\"WheelZoomTool\"},{\"id\":\"4168\",\"type\":\"BoxZoomTool\"},{\"id\":\"4169\",\"type\":\"SaveTool\"},{\"id\":\"4170\",\"type\":\"ResetTool\"},{\"id\":\"4171\",\"type\":\"HelpTool\"}]},\"id\":\"4172\",\"type\":\"Toolbar\"},{\"attributes\":{},\"id\":\"4193\",\"type\":\"Selection\"},{\"attributes\":{},\"id\":\"4154\",\"type\":\"LinearScale\"},{\"attributes\":{},\"id\":\"4127\",\"type\":\"PanTool\"},{\"attributes\":{\"below\":[{\"id\":\"4156\",\"type\":\"LinearAxis\"}],\"center\":[{\"id\":\"4160\",\"type\":\"Grid\"},{\"id\":\"4165\",\"type\":\"Grid\"}],\"left\":[{\"id\":\"4161\",\"type\":\"LinearAxis\"}],\"output_backend\":\"webgl\",\"plot_height\":200,\"renderers\":[{\"id\":\"4182\",\"type\":\"GlyphRenderer\"}],\"title\":{\"id\":\"4196\",\"type\":\"Title\"},\"toolbar\":{\"id\":\"4172\",\"type\":\"Toolbar\"},\"toolbar_location\":null,\"x_range\":{\"id\":\"4184\",\"type\":\"Range1d\"},\"x_scale\":{\"id\":\"4152\",\"type\":\"LinearScale\"},\"y_range\":{\"id\":\"4185\",\"type\":\"Range1d\"},\"y_scale\":{\"id\":\"4154\",\"type\":\"LinearScale\"}},\"id\":\"4147\",\"subtype\":\"Figure\",\"type\":\"Plot\"},{\"attributes\":{\"bottom_units\":\"screen\",\"fill_alpha\":{\"value\":0.5},\"fill_color\":{\"value\":\"lightgrey\"},\"left_units\":\"screen\",\"level\":\"overlay\",\"line_alpha\":{\"value\":1.0},\"line_color\":{\"value\":\"black\"},\"line_dash\":[4,4],\"line_width\":{\"value\":2},\"render_mode\":\"css\",\"right_units\":\"screen\",\"top_units\":\"screen\"},\"id\":\"4194\",\"type\":\"BoxAnnotation\"},{\"attributes\":{\"ticker\":{\"id\":\"4118\",\"type\":\"BasicTicker\"}},\"id\":\"4121\",\"type\":\"Grid\"},{\"attributes\":{\"toolbar\":{\"id\":\"4207\",\"type\":\"ProxyToolbar\"},\"toolbar_location\":\"above\"},\"id\":\"4208\",\"type\":\"ToolbarBox\"},{\"attributes\":{\"bounds\":[0,1752],\"callback\":null,\"end\":1752},\"id\":\"4185\",\"type\":\"Range1d\"},{\"attributes\":{\"overlay\":{\"id\":\"4204\",\"type\":\"BoxAnnotation\"}},\"id\":\"4168\",\"type\":\"BoxZoomTool\"},{\"attributes\":{\"bottom\":{\"value\":0},\"fill_alpha\":{\"value\":0.6},\"fill_color\":{\"value\":\"blue\"},\"left\":{\"field\":\"left\"},\"line_alpha\":{\"value\":0.6},\"line_color\":{\"value\":\"blue\"},\"right\":{\"field\":\"right\"},\"top\":{\"field\":\"top\"}},\"id\":\"4180\",\"type\":\"Quad\"},{\"attributes\":{\"data_source\":{\"id\":\"4179\",\"type\":\"ColumnDataSource\"},\"glyph\":{\"id\":\"4180\",\"type\":\"Quad\"},\"hover_glyph\":null,\"muted_glyph\":null,\"nonselection_glyph\":{\"id\":\"4181\",\"type\":\"Quad\"},\"selection_glyph\":null,\"view\":{\"id\":\"4183\",\"type\":\"CDSView\"}},\"id\":\"4182\",\"type\":\"GlyphRenderer\"},{\"attributes\":{\"callback\":null,\"data\":{\"left\":{\"__ndarray__\":\"SpIkSZIkRkBKkiRJkmRGQEqSJEmSpEZASpIkSZLkRkBKkiRJkiRHQEqSJEmSZEdASpIkSZKkR0BKkiRJkuRHQEqSJEmSJEhASpIkSZJkSEBKkiRJkqRIQEqSJEmS5EhASpIkSZIkSUBKkiRJkmRJQEqSJEmSpElASpIkSZLkSUBKkiRJkiRKQEqSJEmSZEpASpIkSZKkSkBKkiRJkuRKQEqSJEmSJEtASpIkSZJkS0BKkiRJkqRLQEqSJEmS5EtASpIkSZIkTEBKkiRJkmRMQEqSJEmSpExASpIkSZLkTEBKkiRJkiRNQEqSJEmSZE1ASpIkSZKkTUBKkiRJkuRNQEqSJEmSJE5ASpIkSZJkTkBKkiRJkqROQEqSJEmS5E5ASpIkSZIkT0BKkiRJkmRPQEqSJEmSpE9ASpIkSZLkT0AlSZIkSRJQQCVJkiRJMlBAJUmSJElSUEAlSZIkSXJQQCVJkiRJklBAJUmSJEmyUEAlSZIkSdJQQCVJkiRJ8lBAJUmSJEkSUUAlSZIkSTJRQCVJkiRJUlFAJUmSJElyUUAlSZIkSZJRQCVJkiRJslFAJUmSJEnSUUAlSZIkSfJRQCVJkiRJElJAJUmSJEkyUkAlSZIkSVJSQCVJkiRJclJAJUmSJEmSUkAlSZIkSbJSQCVJkiRJ0lJAJUmSJEnyUkAlSZIkSRJTQCVJkiRJMlNAJUmSJElSU0AlSZIkSXJTQCVJkiRJklNAJUmSJEmyU0AlSZIkSdJTQCVJkiRJ8lNAJUmSJEkSVEAlSZIkSTJUQCVJkiRJUlRAJUmSJElyVEAlSZIkSZJUQCVJkiRJslRAJUmSJEnSVEAlSZIkSfJUQCVJkiRJElVAJUmSJEkyVUAlSZIkSVJVQCVJkiRJclVAJUmSJEmSVUAlSZIkSbJVQCVJkiRJ0lVAJUmSJEnyVUAlSZIkSRJWQCVJkiRJMlZAJUmSJElSVkAlSZIkSXJWQCVJkiRJklZAJUmSJEmyVkAlSZIkSdJWQCVJkiRJ8lZAJUmSJEkSV0AlSZIkSTJXQCVJkiRJUldAJUmSJElyV0AlSZIkSZJXQCVJkiRJsldAJUmSJEnSV0AlSZIkSfJXQCVJkiRJElhAJUmSJEkyWEAlSZIkSVJYQCVJkiRJclhAJUmSJEmSWEA=\",\"dtype\":\"float64\",\"shape\":[109]},\"right\":{\"__ndarray__\":\"SpIkSZJkRkBKkiRJkqRGQEqSJEmS5EZASpIkSZIkR0BKkiRJkmRHQEqSJEmSpEdASpIkSZLkR0BKkiRJkiRIQEqSJEmSZEhASpIkSZKkSEBKkiRJkuRIQEqSJEmSJElASpIkSZJkSUBKkiRJkqRJQEqSJEmS5ElASpIkSZIkSkBKkiRJkmRKQEqSJEmSpEpASpIkSZLkSkBKkiRJkiRLQEqSJEmSZEtASpIkSZKkS0BKkiRJkuRLQEqSJEmSJExASpIkSZJkTEBKkiRJkqRMQEqSJEmS5ExASpIkSZIkTUBKkiRJkmRNQEqSJEmSpE1ASpIkSZLkTUBKkiRJkiROQEqSJEmSZE5ASpIkSZKkTkBKkiRJkuROQEqSJEmSJE9ASpIkSZJkT0BKkiRJkqRPQEqSJEmS5E9AJUmSJEkSUEAlSZIkSTJQQCVJkiRJUlBAJUmSJElyUEAlSZIkSZJQQCVJkiRJslBAJUmSJEnSUEAlSZIkSfJQQCVJkiRJElFAJUmSJEkyUUAlSZIkSVJRQCVJkiRJclFAJUmSJEmSUUAlSZIkSbJRQCVJkiRJ0lFAJUmSJEnyUUAlSZIkSRJSQCVJkiRJMlJAJUmSJElSUkAlSZIkSXJSQCVJkiRJklJAJUmSJEmyUkAlSZIkSdJSQCVJkiRJ8lJAJUmSJEkSU0AlSZIkSTJTQCVJkiRJUlNAJUmSJElyU0AlSZIkSZJTQCVJkiRJslNAJUmSJEnSU0AlSZIkSfJTQCVJkiRJElRAJUmSJEkyVEAlSZIkSVJUQCVJkiRJclRAJUmSJEmSVEAlSZIkSbJUQCVJkiRJ0lRAJUmSJEnyVEAlSZIkSRJVQCVJkiRJMlVAJUmSJElSVUAlSZIkSXJVQCVJkiRJklVAJUmSJEmyVUAlSZIkSdJVQCVJkiRJ8lVAJUmSJEkSVkAlSZIkSTJWQCVJkiRJUlZAJUmSJElyVkAlSZIkSZJWQCVJkiRJslZAJUmSJEnSVkAlSZIkSfJWQCVJkiRJEldAJUmSJEkyV0AlSZIkSVJXQCVJkiRJcldAJUmSJEmSV0AlSZIkSbJXQCVJkiRJ0ldAJUmSJEnyV0AlSZIkSRJYQCVJkiRJMlhAJUmSJElSWEAlSZIkSXJYQCVJkiRJklhAJUmSJEmyWEA=\",\"dtype\":\"float64\",\"shape\":[109]},\"top\":[1,1,0,0,0,0,0,0,0,0,0,0,0,0,0,0,0,0,0,0,0,0,0,0,0,0,0,0,0,0,0,0,0,0,0,0,0,0,1,0,0,0,0,0,0,0,0,0,0,1,0,0,0,1,0,0,0,0,0,0,1,0,1,1,2,0,3,4,1,9,6,7,12,14,28,28,46,45,96,113,149,235,258,370,427,509,609,714,817,877,993,965,993,940,744,639,498,359,263,151,103,56,29,27,11,8,4,2,1]},\"selected\":{\"id\":\"4193\",\"type\":\"Selection\"},\"selection_policy\":{\"id\":\"4192\",\"type\":\"UnionRenderers\"}},\"id\":\"4140\",\"type\":\"ColumnDataSource\"},{\"attributes\":{},\"id\":\"4170\",\"type\":\"ResetTool\"},{\"attributes\":{},\"id\":\"4192\",\"type\":\"UnionRenderers\"},{\"attributes\":{},\"id\":\"4202\",\"type\":\"UnionRenderers\"},{\"attributes\":{},\"id\":\"4167\",\"type\":\"WheelZoomTool\"},{\"attributes\":{},\"id\":\"4203\",\"type\":\"Selection\"},{\"attributes\":{},\"id\":\"4166\",\"type\":\"PanTool\"},{\"attributes\":{\"bounds\":[70,101],\"callback\":null,\"end\":101,\"start\":70},\"id\":\"4145\",\"type\":\"Range1d\"},{\"attributes\":{},\"id\":\"4190\",\"type\":\"BasicTickFormatter\"},{\"attributes\":{},\"id\":\"4128\",\"type\":\"WheelZoomTool\"},{\"attributes\":{},\"id\":\"4200\",\"type\":\"BasicTickFormatter\"},{\"attributes\":{},\"id\":\"4152\",\"type\":\"LinearScale\"},{\"attributes\":{\"axis_label\":\"read accuracy\",\"formatter\":{\"id\":\"4188\",\"type\":\"BasicTickFormatter\"},\"ticker\":{\"id\":\"4118\",\"type\":\"BasicTicker\"}},\"id\":\"4117\",\"type\":\"LinearAxis\"},{\"attributes\":{\"text\":\"\"},\"id\":\"4186\",\"type\":\"Title\"},{\"attributes\":{\"source\":{\"id\":\"4179\",\"type\":\"ColumnDataSource\"}},\"id\":\"4183\",\"type\":\"CDSView\"},{\"attributes\":{\"tools\":[{\"id\":\"4127\",\"type\":\"PanTool\"},{\"id\":\"4128\",\"type\":\"WheelZoomTool\"},{\"id\":\"4129\",\"type\":\"BoxZoomTool\"},{\"id\":\"4130\",\"type\":\"SaveTool\"},{\"id\":\"4131\",\"type\":\"ResetTool\"},{\"id\":\"4132\",\"type\":\"HelpTool\"},{\"id\":\"4166\",\"type\":\"PanTool\"},{\"id\":\"4167\",\"type\":\"WheelZoomTool\"},{\"id\":\"4168\",\"type\":\"BoxZoomTool\"},{\"id\":\"4169\",\"type\":\"SaveTool\"},{\"id\":\"4170\",\"type\":\"ResetTool\"},{\"id\":\"4171\",\"type\":\"HelpTool\"}]},\"id\":\"4207\",\"type\":\"ProxyToolbar\"},{\"attributes\":{\"bounds\":[0,993],\"callback\":null,\"end\":993},\"id\":\"4146\",\"type\":\"Range1d\"}],\"root_ids\":[\"4209\"]},\"title\":\"Bokeh Application\",\"version\":\"1.4.0\"}};\n",
              "  var render_items = [{\"docid\":\"706d0ad1-f5fb-427c-8d4d-2095ab48f048\",\"roots\":{\"4209\":\"4d65db17-5613-4ee6-8797-73e7c1b86f8c\"}}];\n",
              "  root.Bokeh.embed.embed_items_notebook(docs_json, render_items);\n",
              "\n",
              "  }\n",
              "  if (root.Bokeh !== undefined) {\n",
              "    embed_document(root);\n",
              "  } else {\n",
              "    var attempts = 0;\n",
              "    var timer = setInterval(function(root) {\n",
              "      if (root.Bokeh !== undefined) {\n",
              "        clearInterval(timer);\n",
              "        embed_document(root);\n",
              "      } else {\n",
              "        attempts++;\n",
              "        if (attempts > 100) {\n",
              "          clearInterval(timer);\n",
              "          console.log(\"Bokeh: ERROR: Unable to run BokehJS code because BokehJS library is missing\");\n",
              "        }\n",
              "      }\n",
              "    }, 10, root)\n",
              "  }\n",
              "})(window);"
            ],
            "application/vnd.bokehjs_exec.v0+json": ""
          },
          "metadata": {
            "tags": [],
            "application/vnd.bokehjs_exec.v0+json": {
              "id": "4209"
            }
          }
        }
      ]
    },
    {
      "cell_type": "markdown",
      "metadata": {
        "id": "g2b5qwL5GIur",
        "colab_type": "text"
      },
      "source": [
        "### Clustering reads by transcript\n",
        "\n",
        "In this next stage of the analysis we will cluster reads according to where they have aligned to the reference and create a consensus transcript from each of these clusters.\n",
        "\n",
        "To obtained high quality transcript sequences and identify probable fragmentation artefacts, we use the four Pinfish tools to:\n",
        "\n",
        "1.   Convert our `.bam` alignment file produced above to a `.gff` file.\n",
        "2.   Cluster the reads by transcript identity.\n",
        "3.   Identify partial and truncated transcripts.\n",
        "4.   Produce high quality consensus sequences for each transcript.\n",
        "\n",
        "The first step in this process is achieved with `spliced_bam2gff`:"
      ]
    },
    {
      "cell_type": "code",
      "metadata": {
        "id": "qf736NBsER8h",
        "colab_type": "code",
        "cellView": "form",
        "outputId": "7966f0fb-4958-44e8-8ab6-4cd2bd0caf2d",
        "colab": {
          "base_uri": "https://localhost:8080/",
          "height": 51
        }
      },
      "source": [
        "# covert bam to gff\n",
        "#@markdown **Pinfish convert**\n",
        "output_name = \"raw_transcripts\" #@param {type:\"string\"}\n",
        "pinfish_dir = os.path.join(analysis_folder, \"pinfish\")\n",
        "!mkdir -p $pinfish_dir\n",
        "\n",
        "print(\"* Running spliced_bam2gff..\")\n",
        "pinfish_out_raw_gff = os.path.join(pinfish_dir, output_name + \".gff\")\n",
        "!spliced_bam2gff -s -t $threads -M $minimap_out_bam \\\n",
        "    > $pinfish_out_raw_gff \\\n",
        "    && echo \"✓ Completed splice_bam2gff\" \\\n",
        "    || echo \"✗ Failed splice_bam2gff\""
      ],
      "execution_count": 0,
      "outputs": [
        {
          "output_type": "stream",
          "text": [
            "* Running spliced_bam2gff..\n",
            "✓ Completed splice_bam2gff\n"
          ],
          "name": "stdout"
        }
      ]
    },
    {
      "cell_type": "markdown",
      "metadata": {
        "id": "uxRjc1XbETzM",
        "colab_type": "text"
      },
      "source": [
        "Using the `.gff` file we can now cluster reads derived from the same transcipt based on the intron and exon structure described in the file. For the most part the parameters can be left as their default values."
      ]
    },
    {
      "cell_type": "code",
      "metadata": {
        "id": "QhyJc234FFAv",
        "colab_type": "code",
        "cellView": "form",
        "outputId": "b14b151e-e141-4cb4-a9a4-ebd76edde49d",
        "colab": {
          "base_uri": "https://localhost:8080/",
          "height": 51
        }
      },
      "source": [
        "#@markdown **Pinfish cluster**\n",
        "output_name = \"clustered_transcripts\" #@param {type:\"string\"}\n",
        "minimum_cluster_size = 10 #@param {type:\"integer\"}\n",
        "minimum_isoform_percent = 1.0 #@param {type:\"number\"}\n",
        "exon_boundary_tolerance = 10 #@param {type:\"integer\"}\n",
        "terminal_exon_boundary_tolerance = 30 #@param {type:\"integer\"}\n",
        "\n",
        "pinfish_out_cls_gff = os.path.join(pinfish_dir, output_name + \".gff\")\n",
        "pinfish_out_cls_tab = os.path.join(pinfish_dir, output_name + \".tsv\")\n",
        "\n",
        "print(\"* Running cluster gff\")\n",
        "!cluster_gff \\\n",
        "    -t $threads -c $minimum_cluster_size -p $minimum_isoform_percent \\\n",
        "    -e $exon_boundary_tolerance \\\n",
        "    -d $terminal_exon_boundary_tolerance \\\n",
        "    -a $pinfish_out_cls_tab \\\n",
        "    $pinfish_out_raw_gff > $pinfish_out_cls_gff \\\n",
        "    && echo \"✓ Completed cluster gff\" \\\n",
        "    || echo \"✗ Failed cluster gff\""
      ],
      "execution_count": 0,
      "outputs": [
        {
          "output_type": "stream",
          "text": [
            "* Running cluster gff\n",
            "✓ Completed cluster gff\n"
          ],
          "name": "stdout"
        }
      ]
    },
    {
      "cell_type": "markdown",
      "metadata": {
        "id": "hVzW6KaxEf26",
        "colab_type": "text"
      },
      "source": [
        "Before creating consensus sequences for each transcript cluster, we will take a detour and use `collapse partials` to identify artefactual reads."
      ]
    },
    {
      "cell_type": "code",
      "metadata": {
        "id": "NAKfB7WUMKOB",
        "colab_type": "code",
        "cellView": "form",
        "outputId": "ccef864b-37ac-41cc-d3fe-6c279facfb55",
        "colab": {
          "base_uri": "https://localhost:8080/",
          "height": 51
        }
      },
      "source": [
        "#@markdown **Pinfish clean up**\n",
        "output_name = \"clustered_collapsed_transcripts\" #@param {type:\"string\"}\n",
        "collapse_internal_tol = 5 #@param {type:\"integer\"}\n",
        "collapse_three_tol = 30 #@param {type:\"integer\"}\n",
        "collapse_five_tol = 5000 #@param {type:\"integer\"}\n",
        "\n",
        "pinfish_out_cls_col_tab = os.path.join(pinfish_dir, output_name + '.tsv')\n",
        "\n",
        "print(\"* Running collapse raw partials\")\n",
        "!collapse_partials \\\n",
        "    -d $collapse_internal_tol -e $collapse_three_tol \\\n",
        "    -f $collapse_five_tol \\\n",
        "    $pinfish_out_cls_gff > $pinfish_out_cls_col_tab \\\n",
        "    && echo \"✓ Completed collapse raw partials\" \\\n",
        "    || echo \"✗ Failed collapse raw partials\""
      ],
      "execution_count": 0,
      "outputs": [
        {
          "output_type": "stream",
          "text": [
            "* Running collapse raw partials\n",
            "✓ Completed collapse raw partials\n"
          ],
          "name": "stdout"
        }
      ]
    },
    {
      "cell_type": "markdown",
      "metadata": {
        "id": "IdpxSh-7EqJU",
        "colab_type": "text"
      },
      "source": [
        "To create our polished consensus transcript outputs we use Pinfish's `polish_clusters` tool:"
      ]
    },
    {
      "cell_type": "code",
      "metadata": {
        "id": "4AOeklhjDlja",
        "colab_type": "code",
        "cellView": "form",
        "outputId": "646f1763-e468-4064-ecee-ff760638156b",
        "colab": {
          "base_uri": "https://localhost:8080/",
          "height": 102
        }
      },
      "source": [
        "#@markdown **Pinfish polish**\n",
        "output_name = \"polished_transcripts.fa\" #@param {type:\"string\"}\n",
        "minimum_cluster_size = 10 #@param {type:\"integer\"}\n",
        "\n",
        "threads=10\n",
        "pinfish_out_pol_trs = os.path.join(pinfish_dir, output_name)\n",
        "\n",
        "print(\"* Running polish clusters\")\n",
        "!polish_clusters \\\n",
        "    -t $threads -a $pinfish_out_cls_tab -c $minimum_cluster_size \\\n",
        "    -o $pinfish_out_pol_trs $minimap_out_bam > /dev/null 2>&1 \\\n",
        "    && echo \"✓ Completed polish clusters\" \\\n",
        "    || echo \"✗ Failed polish clusters\""
      ],
      "execution_count": 0,
      "outputs": [
        {
          "output_type": "stream",
          "text": [
            "10\n",
            "analysis/pinfish/clustered_collapsed_transcripts.tsv\n",
            "* Running polish clusters\n",
            "10 analysis/pinfish/clustered_collapsed_transcripts.tsv 10 analysis/minimap2/sample_data.fastq.bam\n",
            "✓ Completed polish clusters\n"
          ],
          "name": "stdout"
        }
      ]
    },
    {
      "cell_type": "markdown",
      "metadata": {
        "id": "YIy49gRaGckn",
        "colab_type": "text"
      },
      "source": [
        "## Assessing the consensus transcripts\n",
        "\n",
        "The above workflow should have given higher quality sequences than the input reads, let's check that this is the case be aligning the polished transcripts back to the reference sequence,"
      ]
    },
    {
      "cell_type": "code",
      "metadata": {
        "id": "1VALzGb3FYiS",
        "colab_type": "code",
        "cellView": "both",
        "outputId": "fa88e867-5c46-4eef-9c18-5c08a2a35d22",
        "colab": {
          "base_uri": "https://localhost:8080/",
          "height": 204
        }
      },
      "source": [
        "# create the minimap analysis directory\n",
        "minimap_pol_dir = os.path.join(analysis_folder, \"minimap2-polished\")\n",
        "!mkdir -p $minimap_pol_dir\n",
        "\n",
        "# run minimap, sort, and index the output\n",
        "print(\"* Running minimap polish clusters\")\n",
        "minimap_out_pol_bam = os.path.join(minimap_pol_dir, inputs['fastq'] + \".bam\")\n",
        "!minimap2 -t $threads -ax splice -uf \\\n",
        "    $minimap_index $pinfish_out_pol_trs \\\n",
        "    | samtools view -q 10 -F 2304 -Sb \\\n",
        "    | samtools sort -@ 10 - -o $minimap_out_pol_bam\n",
        "!samtools index $minimap_out_bam\n",
        "print(\"✓ Completed minimap polish clusters\")"
      ],
      "execution_count": 0,
      "outputs": [
        {
          "output_type": "stream",
          "text": [
            "* Running minimap polish clusters\n",
            "[WARNING]\u001b[1;31m Indexing parameters (-k, -w or -H) overridden by parameters used in the prebuilt index.\u001b[0m\n",
            "[M::main::2.850*0.71] loaded/built the index for 1870 target sequence(s)\n",
            "[M::mm_mapopt_update::3.178*0.74] mid_occ = 133\n",
            "[M::mm_idx_stat] kmer size: 14; skip: 10; is_hpc: 0; #seq: 1870\n",
            "[M::mm_idx_stat::3.399*0.75] distinct minimizers: 13579029 (67.42% are singletons); average occurrences: 1.953; average spacing: 5.419\n",
            "[M::worker_pipeline::3.479*0.79] mapped 151 sequences\n",
            "[M::main] Version: 2.17-r941\n",
            "[M::main] CMD: minimap2 -t 10 -ax splice -uf analysis/minimap2/Drosophila_melanogaster.BDGP6.dna.toplevel.fa.mmi analysis/pinfish/polished_transcripts.fa\n",
            "[M::main] Real time: 3.500 sec; CPU: 2.750 sec; Peak RSS: 0.748 GB\n",
            "✓ Completed minimap polish clusters\n"
          ],
          "name": "stdout"
        }
      ]
    },
    {
      "cell_type": "markdown",
      "metadata": {
        "id": "qD5OF3k2w1MV",
        "colab_type": "text"
      },
      "source": [
        "and visualizing the results:"
      ]
    },
    {
      "cell_type": "code",
      "metadata": {
        "id": "qpj3Ck3yZvTX",
        "colab_type": "code",
        "outputId": "132d20af-a941-49b2-ca73-509fa68ec063",
        "cellView": "form",
        "colab": {
          "base_uri": "https://localhost:8080/",
          "height": 464
        }
      },
      "source": [
        "#@markdown **Polished transcript summary plot code** *(click to show)*\n",
        "# calculate some basic statistics from the alignments\n",
        "#!stats_from_bam -o $minimap_out_bam'.tsv' $minimap_out_bam\n",
        "\n",
        "!stats_from_bam -o $minimap_out_pol_bam'.tsv' $minimap_out_pol_bam\n",
        "!cut -f 1,2,3,18 $minimap_out_pol_bam'.tsv' > $minimap_out_pol_bam'.tsv.subset.tsv'\n",
        "df_pol = pd.read_csv(minimap_out_pol_bam + '.tsv.subset.tsv', sep=\"\\t\")\n",
        "\n",
        "from aplanat import lines, util\n",
        "xs, pdes = zip(*(util.kernel_density_estimate(x['acc']) for x in (df, df_pol)))\n",
        "p1 = lines.line(\n",
        "    list(xs), list(pdes), names=['reads', 'consensuses'],\n",
        "    colors=['blue', 'green'], xlim=(80,101), height=200,\n",
        "    x_axis_label='read accuracy', y_axis_label='read count')\n",
        "p1.legend.location = 'top_left'\n",
        "xs, pdes = zip(*(util.kernel_density_estimate(x['coverage']) for x in (df, df_pol)))\n",
        "p2 = lines.line(\n",
        "    list(xs), list(pdes), names=['reads', 'consensuses'],\n",
        "    colors=['blue', 'green'], xlim=(80,101), height=200,\n",
        "    x_axis_label='%age of read contained in alignment',\n",
        "    y_axis_label='read count')\n",
        "p2.legend.location = 'top_left'\n",
        "\n",
        "aplanat.show(gridplot([[p1], [p2]]))\n"
      ],
      "execution_count": 0,
      "outputs": [
        {
          "output_type": "stream",
          "text": [
            "Mapped/Unmapped/Short/Masked: 151/0/0/0\r\n"
          ],
          "name": "stdout"
        },
        {
          "output_type": "display_data",
          "data": {
            "application/javascript": [
              "\n",
              "(function(root) {\n",
              "  function now() {\n",
              "    return new Date();\n",
              "  }\n",
              "\n",
              "  var force = true;\n",
              "\n",
              "  if (typeof root._bokeh_onload_callbacks === \"undefined\" || force === true) {\n",
              "    root._bokeh_onload_callbacks = [];\n",
              "    root._bokeh_is_loading = undefined;\n",
              "  }\n",
              "\n",
              "  var JS_MIME_TYPE = 'application/javascript';\n",
              "  var HTML_MIME_TYPE = 'text/html';\n",
              "  var EXEC_MIME_TYPE = 'application/vnd.bokehjs_exec.v0+json';\n",
              "  var CLASS_NAME = 'output_bokeh rendered_html';\n",
              "\n",
              "  /**\n",
              "   * Render data to the DOM node\n",
              "   */\n",
              "  function render(props, node) {\n",
              "    var script = document.createElement(\"script\");\n",
              "    node.appendChild(script);\n",
              "  }\n",
              "\n",
              "  /**\n",
              "   * Handle when an output is cleared or removed\n",
              "   */\n",
              "  function handleClearOutput(event, handle) {\n",
              "    var cell = handle.cell;\n",
              "\n",
              "    var id = cell.output_area._bokeh_element_id;\n",
              "    var server_id = cell.output_area._bokeh_server_id;\n",
              "    // Clean up Bokeh references\n",
              "    if (id != null && id in Bokeh.index) {\n",
              "      Bokeh.index[id].model.document.clear();\n",
              "      delete Bokeh.index[id];\n",
              "    }\n",
              "\n",
              "    if (server_id !== undefined) {\n",
              "      // Clean up Bokeh references\n",
              "      var cmd = \"from bokeh.io.state import curstate; print(curstate().uuid_to_server['\" + server_id + \"'].get_sessions()[0].document.roots[0]._id)\";\n",
              "      cell.notebook.kernel.execute(cmd, {\n",
              "        iopub: {\n",
              "          output: function(msg) {\n",
              "            var id = msg.content.text.trim();\n",
              "            if (id in Bokeh.index) {\n",
              "              Bokeh.index[id].model.document.clear();\n",
              "              delete Bokeh.index[id];\n",
              "            }\n",
              "          }\n",
              "        }\n",
              "      });\n",
              "      // Destroy server and session\n",
              "      var cmd = \"import bokeh.io.notebook as ion; ion.destroy_server('\" + server_id + \"')\";\n",
              "      cell.notebook.kernel.execute(cmd);\n",
              "    }\n",
              "  }\n",
              "\n",
              "  /**\n",
              "   * Handle when a new output is added\n",
              "   */\n",
              "  function handleAddOutput(event, handle) {\n",
              "    var output_area = handle.output_area;\n",
              "    var output = handle.output;\n",
              "\n",
              "    // limit handleAddOutput to display_data with EXEC_MIME_TYPE content only\n",
              "    if ((output.output_type != \"display_data\") || (!output.data.hasOwnProperty(EXEC_MIME_TYPE))) {\n",
              "      return\n",
              "    }\n",
              "\n",
              "    var toinsert = output_area.element.find(\".\" + CLASS_NAME.split(' ')[0]);\n",
              "\n",
              "    if (output.metadata[EXEC_MIME_TYPE][\"id\"] !== undefined) {\n",
              "      toinsert[toinsert.length - 1].firstChild.textContent = output.data[JS_MIME_TYPE];\n",
              "      // store reference to embed id on output_area\n",
              "      output_area._bokeh_element_id = output.metadata[EXEC_MIME_TYPE][\"id\"];\n",
              "    }\n",
              "    if (output.metadata[EXEC_MIME_TYPE][\"server_id\"] !== undefined) {\n",
              "      var bk_div = document.createElement(\"div\");\n",
              "      bk_div.innerHTML = output.data[HTML_MIME_TYPE];\n",
              "      var script_attrs = bk_div.children[0].attributes;\n",
              "      for (var i = 0; i < script_attrs.length; i++) {\n",
              "        toinsert[toinsert.length - 1].firstChild.setAttribute(script_attrs[i].name, script_attrs[i].value);\n",
              "      }\n",
              "      // store reference to server id on output_area\n",
              "      output_area._bokeh_server_id = output.metadata[EXEC_MIME_TYPE][\"server_id\"];\n",
              "    }\n",
              "  }\n",
              "\n",
              "  function register_renderer(events, OutputArea) {\n",
              "\n",
              "    function append_mime(data, metadata, element) {\n",
              "      // create a DOM node to render to\n",
              "      var toinsert = this.create_output_subarea(\n",
              "        metadata,\n",
              "        CLASS_NAME,\n",
              "        EXEC_MIME_TYPE\n",
              "      );\n",
              "      this.keyboard_manager.register_events(toinsert);\n",
              "      // Render to node\n",
              "      var props = {data: data, metadata: metadata[EXEC_MIME_TYPE]};\n",
              "      render(props, toinsert[toinsert.length - 1]);\n",
              "      element.append(toinsert);\n",
              "      return toinsert\n",
              "    }\n",
              "\n",
              "    /* Handle when an output is cleared or removed */\n",
              "    events.on('clear_output.CodeCell', handleClearOutput);\n",
              "    events.on('delete.Cell', handleClearOutput);\n",
              "\n",
              "    /* Handle when a new output is added */\n",
              "    events.on('output_added.OutputArea', handleAddOutput);\n",
              "\n",
              "    /**\n",
              "     * Register the mime type and append_mime function with output_area\n",
              "     */\n",
              "    OutputArea.prototype.register_mime_type(EXEC_MIME_TYPE, append_mime, {\n",
              "      /* Is output safe? */\n",
              "      safe: true,\n",
              "      /* Index of renderer in `output_area.display_order` */\n",
              "      index: 0\n",
              "    });\n",
              "  }\n",
              "\n",
              "  // register the mime type if in Jupyter Notebook environment and previously unregistered\n",
              "  if (root.Jupyter !== undefined) {\n",
              "    var events = require('base/js/events');\n",
              "    var OutputArea = require('notebook/js/outputarea').OutputArea;\n",
              "\n",
              "    if (OutputArea.prototype.mime_types().indexOf(EXEC_MIME_TYPE) == -1) {\n",
              "      register_renderer(events, OutputArea);\n",
              "    }\n",
              "  }\n",
              "\n",
              "  \n",
              "  if (typeof (root._bokeh_timeout) === \"undefined\" || force === true) {\n",
              "    root._bokeh_timeout = Date.now() + 5000;\n",
              "    root._bokeh_failed_load = false;\n",
              "  }\n",
              "\n",
              "  var NB_LOAD_WARNING = {'data': {'text/html':\n",
              "     \"<div style='background-color: #fdd'>\\n\"+\n",
              "     \"<p>\\n\"+\n",
              "     \"BokehJS does not appear to have successfully loaded. If loading BokehJS from CDN, this \\n\"+\n",
              "     \"may be due to a slow or bad network connection. Possible fixes:\\n\"+\n",
              "     \"</p>\\n\"+\n",
              "     \"<ul>\\n\"+\n",
              "     \"<li>re-rerun `output_notebook()` to attempt to load from CDN again, or</li>\\n\"+\n",
              "     \"<li>use INLINE resources instead, as so:</li>\\n\"+\n",
              "     \"</ul>\\n\"+\n",
              "     \"<code>\\n\"+\n",
              "     \"from bokeh.resources import INLINE\\n\"+\n",
              "     \"output_notebook(resources=INLINE)\\n\"+\n",
              "     \"</code>\\n\"+\n",
              "     \"</div>\"}};\n",
              "\n",
              "  function display_loaded() {\n",
              "    var el = document.getElementById(null);\n",
              "    if (el != null) {\n",
              "      el.textContent = \"BokehJS is loading...\";\n",
              "    }\n",
              "    if (root.Bokeh !== undefined) {\n",
              "      if (el != null) {\n",
              "        el.textContent = \"BokehJS \" + root.Bokeh.version + \" successfully loaded.\";\n",
              "      }\n",
              "    } else if (Date.now() < root._bokeh_timeout) {\n",
              "      setTimeout(display_loaded, 100)\n",
              "    }\n",
              "  }\n",
              "\n",
              "\n",
              "  function run_callbacks() {\n",
              "    try {\n",
              "      root._bokeh_onload_callbacks.forEach(function(callback) {\n",
              "        if (callback != null)\n",
              "          callback();\n",
              "      });\n",
              "    } finally {\n",
              "      delete root._bokeh_onload_callbacks\n",
              "    }\n",
              "    console.debug(\"Bokeh: all callbacks have finished\");\n",
              "  }\n",
              "\n",
              "  function load_libs(css_urls, js_urls, callback) {\n",
              "    if (css_urls == null) css_urls = [];\n",
              "    if (js_urls == null) js_urls = [];\n",
              "\n",
              "    root._bokeh_onload_callbacks.push(callback);\n",
              "    if (root._bokeh_is_loading > 0) {\n",
              "      console.debug(\"Bokeh: BokehJS is being loaded, scheduling callback at\", now());\n",
              "      return null;\n",
              "    }\n",
              "    if (js_urls == null || js_urls.length === 0) {\n",
              "      run_callbacks();\n",
              "      return null;\n",
              "    }\n",
              "    console.debug(\"Bokeh: BokehJS not loaded, scheduling load and callback at\", now());\n",
              "    root._bokeh_is_loading = css_urls.length + js_urls.length;\n",
              "\n",
              "    function on_load() {\n",
              "      root._bokeh_is_loading--;\n",
              "      if (root._bokeh_is_loading === 0) {\n",
              "        console.debug(\"Bokeh: all BokehJS libraries/stylesheets loaded\");\n",
              "        run_callbacks()\n",
              "      }\n",
              "    }\n",
              "\n",
              "    function on_error() {\n",
              "      console.error(\"failed to load \" + url);\n",
              "    }\n",
              "\n",
              "    for (var i = 0; i < css_urls.length; i++) {\n",
              "      var url = css_urls[i];\n",
              "      const element = document.createElement(\"link\");\n",
              "      element.onload = on_load;\n",
              "      element.onerror = on_error;\n",
              "      element.rel = \"stylesheet\";\n",
              "      element.type = \"text/css\";\n",
              "      element.href = url;\n",
              "      console.debug(\"Bokeh: injecting link tag for BokehJS stylesheet: \", url);\n",
              "      document.body.appendChild(element);\n",
              "    }\n",
              "\n",
              "    for (var i = 0; i < js_urls.length; i++) {\n",
              "      var url = js_urls[i];\n",
              "      var element = document.createElement('script');\n",
              "      element.onload = on_load;\n",
              "      element.onerror = on_error;\n",
              "      element.async = false;\n",
              "      element.src = url;\n",
              "      console.debug(\"Bokeh: injecting script tag for BokehJS library: \", url);\n",
              "      document.head.appendChild(element);\n",
              "    }\n",
              "  };\n",
              "\n",
              "  function inject_raw_css(css) {\n",
              "    const element = document.createElement(\"style\");\n",
              "    element.appendChild(document.createTextNode(css));\n",
              "    document.body.appendChild(element);\n",
              "  }\n",
              "\n",
              "  \n",
              "  var js_urls = [\"https://cdn.pydata.org/bokeh/release/bokeh-1.4.0.min.js\", \"https://cdn.pydata.org/bokeh/release/bokeh-widgets-1.4.0.min.js\", \"https://cdn.pydata.org/bokeh/release/bokeh-tables-1.4.0.min.js\", \"https://cdn.pydata.org/bokeh/release/bokeh-gl-1.4.0.min.js\"];\n",
              "  var css_urls = [];\n",
              "  \n",
              "\n",
              "  var inline_js = [\n",
              "    function(Bokeh) {\n",
              "      Bokeh.set_log_level(\"info\");\n",
              "    },\n",
              "    function(Bokeh) {\n",
              "    \n",
              "    \n",
              "    }\n",
              "  ];\n",
              "\n",
              "  function run_inline_js() {\n",
              "    \n",
              "    if (root.Bokeh !== undefined || force === true) {\n",
              "      \n",
              "    for (var i = 0; i < inline_js.length; i++) {\n",
              "      inline_js[i].call(root, root.Bokeh);\n",
              "    }\n",
              "    } else if (Date.now() < root._bokeh_timeout) {\n",
              "      setTimeout(run_inline_js, 100);\n",
              "    } else if (!root._bokeh_failed_load) {\n",
              "      console.log(\"Bokeh: BokehJS failed to load within specified timeout.\");\n",
              "      root._bokeh_failed_load = true;\n",
              "    } else if (force !== true) {\n",
              "      var cell = $(document.getElementById(null)).parents('.cell').data().cell;\n",
              "      cell.output_area.append_execute_result(NB_LOAD_WARNING)\n",
              "    }\n",
              "\n",
              "  }\n",
              "\n",
              "  if (root._bokeh_is_loading === 0) {\n",
              "    console.debug(\"Bokeh: BokehJS loaded, going straight to plotting\");\n",
              "    run_inline_js();\n",
              "  } else {\n",
              "    load_libs(css_urls, js_urls, function() {\n",
              "      console.debug(\"Bokeh: BokehJS plotting callback run at\", now());\n",
              "      run_inline_js();\n",
              "    });\n",
              "  }\n",
              "}(window));"
            ],
            "application/vnd.bokehjs_load.v0+json": "\n(function(root) {\n  function now() {\n    return new Date();\n  }\n\n  var force = true;\n\n  if (typeof root._bokeh_onload_callbacks === \"undefined\" || force === true) {\n    root._bokeh_onload_callbacks = [];\n    root._bokeh_is_loading = undefined;\n  }\n\n  \n\n  \n  if (typeof (root._bokeh_timeout) === \"undefined\" || force === true) {\n    root._bokeh_timeout = Date.now() + 5000;\n    root._bokeh_failed_load = false;\n  }\n\n  var NB_LOAD_WARNING = {'data': {'text/html':\n     \"<div style='background-color: #fdd'>\\n\"+\n     \"<p>\\n\"+\n     \"BokehJS does not appear to have successfully loaded. If loading BokehJS from CDN, this \\n\"+\n     \"may be due to a slow or bad network connection. Possible fixes:\\n\"+\n     \"</p>\\n\"+\n     \"<ul>\\n\"+\n     \"<li>re-rerun `output_notebook()` to attempt to load from CDN again, or</li>\\n\"+\n     \"<li>use INLINE resources instead, as so:</li>\\n\"+\n     \"</ul>\\n\"+\n     \"<code>\\n\"+\n     \"from bokeh.resources import INLINE\\n\"+\n     \"output_notebook(resources=INLINE)\\n\"+\n     \"</code>\\n\"+\n     \"</div>\"}};\n\n  function display_loaded() {\n    var el = document.getElementById(null);\n    if (el != null) {\n      el.textContent = \"BokehJS is loading...\";\n    }\n    if (root.Bokeh !== undefined) {\n      if (el != null) {\n        el.textContent = \"BokehJS \" + root.Bokeh.version + \" successfully loaded.\";\n      }\n    } else if (Date.now() < root._bokeh_timeout) {\n      setTimeout(display_loaded, 100)\n    }\n  }\n\n\n  function run_callbacks() {\n    try {\n      root._bokeh_onload_callbacks.forEach(function(callback) {\n        if (callback != null)\n          callback();\n      });\n    } finally {\n      delete root._bokeh_onload_callbacks\n    }\n    console.debug(\"Bokeh: all callbacks have finished\");\n  }\n\n  function load_libs(css_urls, js_urls, callback) {\n    if (css_urls == null) css_urls = [];\n    if (js_urls == null) js_urls = [];\n\n    root._bokeh_onload_callbacks.push(callback);\n    if (root._bokeh_is_loading > 0) {\n      console.debug(\"Bokeh: BokehJS is being loaded, scheduling callback at\", now());\n      return null;\n    }\n    if (js_urls == null || js_urls.length === 0) {\n      run_callbacks();\n      return null;\n    }\n    console.debug(\"Bokeh: BokehJS not loaded, scheduling load and callback at\", now());\n    root._bokeh_is_loading = css_urls.length + js_urls.length;\n\n    function on_load() {\n      root._bokeh_is_loading--;\n      if (root._bokeh_is_loading === 0) {\n        console.debug(\"Bokeh: all BokehJS libraries/stylesheets loaded\");\n        run_callbacks()\n      }\n    }\n\n    function on_error() {\n      console.error(\"failed to load \" + url);\n    }\n\n    for (var i = 0; i < css_urls.length; i++) {\n      var url = css_urls[i];\n      const element = document.createElement(\"link\");\n      element.onload = on_load;\n      element.onerror = on_error;\n      element.rel = \"stylesheet\";\n      element.type = \"text/css\";\n      element.href = url;\n      console.debug(\"Bokeh: injecting link tag for BokehJS stylesheet: \", url);\n      document.body.appendChild(element);\n    }\n\n    for (var i = 0; i < js_urls.length; i++) {\n      var url = js_urls[i];\n      var element = document.createElement('script');\n      element.onload = on_load;\n      element.onerror = on_error;\n      element.async = false;\n      element.src = url;\n      console.debug(\"Bokeh: injecting script tag for BokehJS library: \", url);\n      document.head.appendChild(element);\n    }\n  };\n\n  function inject_raw_css(css) {\n    const element = document.createElement(\"style\");\n    element.appendChild(document.createTextNode(css));\n    document.body.appendChild(element);\n  }\n\n  \n  var js_urls = [\"https://cdn.pydata.org/bokeh/release/bokeh-1.4.0.min.js\", \"https://cdn.pydata.org/bokeh/release/bokeh-widgets-1.4.0.min.js\", \"https://cdn.pydata.org/bokeh/release/bokeh-tables-1.4.0.min.js\", \"https://cdn.pydata.org/bokeh/release/bokeh-gl-1.4.0.min.js\"];\n  var css_urls = [];\n  \n\n  var inline_js = [\n    function(Bokeh) {\n      Bokeh.set_log_level(\"info\");\n    },\n    function(Bokeh) {\n    \n    \n    }\n  ];\n\n  function run_inline_js() {\n    \n    if (root.Bokeh !== undefined || force === true) {\n      \n    for (var i = 0; i < inline_js.length; i++) {\n      inline_js[i].call(root, root.Bokeh);\n    }\n    } else if (Date.now() < root._bokeh_timeout) {\n      setTimeout(run_inline_js, 100);\n    } else if (!root._bokeh_failed_load) {\n      console.log(\"Bokeh: BokehJS failed to load within specified timeout.\");\n      root._bokeh_failed_load = true;\n    } else if (force !== true) {\n      var cell = $(document.getElementById(null)).parents('.cell').data().cell;\n      cell.output_area.append_execute_result(NB_LOAD_WARNING)\n    }\n\n  }\n\n  if (root._bokeh_is_loading === 0) {\n    console.debug(\"Bokeh: BokehJS loaded, going straight to plotting\");\n    run_inline_js();\n  } else {\n    load_libs(css_urls, js_urls, function() {\n      console.debug(\"Bokeh: BokehJS plotting callback run at\", now());\n      run_inline_js();\n    });\n  }\n}(window));"
          },
          "metadata": {
            "tags": []
          }
        },
        {
          "output_type": "display_data",
          "data": {
            "text/html": [
              "\n",
              "\n",
              "\n",
              "\n",
              "\n",
              "\n",
              "  <div class=\"bk-root\" id=\"ae4ab7b2-3ab3-4326-8b07-f3df75ee7fe4\" data-root-id=\"9434\"></div>\n"
            ]
          },
          "metadata": {
            "tags": []
          }
        },
        {
          "output_type": "display_data",
          "data": {
            "application/javascript": [
              "(function(root) {\n",
              "  function embed_document(root) {\n",
              "    \n",
              "  var docs_json = {\"cb7bfe81-2d78-4083-ae85-e16d61d0262e\":{\"roots\":{\"references\":[{\"attributes\":{\"children\":[{\"id\":\"9433\",\"type\":\"ToolbarBox\"},{\"id\":\"9431\",\"type\":\"GridBox\"}]},\"id\":\"9434\",\"type\":\"Column\"},{\"attributes\":{\"below\":[{\"id\":\"9290\",\"type\":\"LinearAxis\"}],\"center\":[{\"id\":\"9294\",\"type\":\"Grid\"},{\"id\":\"9299\",\"type\":\"Grid\"},{\"id\":\"9325\",\"type\":\"Legend\"}],\"left\":[{\"id\":\"9295\",\"type\":\"LinearAxis\"}],\"output_backend\":\"webgl\",\"plot_height\":200,\"renderers\":[{\"id\":\"9316\",\"type\":\"GlyphRenderer\"},{\"id\":\"9330\",\"type\":\"GlyphRenderer\"}],\"title\":{\"id\":\"9318\",\"type\":\"Title\"},\"toolbar\":{\"id\":\"9306\",\"type\":\"Toolbar\"},\"toolbar_location\":null,\"x_range\":{\"id\":\"9342\",\"type\":\"Range1d\"},\"x_scale\":{\"id\":\"9286\",\"type\":\"LinearScale\"},\"y_range\":{\"id\":\"9343\",\"type\":\"Range1d\"},\"y_scale\":{\"id\":\"9288\",\"type\":\"LinearScale\"}},\"id\":\"9281\",\"subtype\":\"Figure\",\"type\":\"Plot\"},{\"attributes\":{\"source\":{\"id\":\"9376\",\"type\":\"ColumnDataSource\"}},\"id\":\"9380\",\"type\":\"CDSView\"},{\"attributes\":{},\"id\":\"9338\",\"type\":\"UnionRenderers\"},{\"attributes\":{\"below\":[{\"id\":\"9353\",\"type\":\"LinearAxis\"}],\"center\":[{\"id\":\"9357\",\"type\":\"Grid\"},{\"id\":\"9362\",\"type\":\"Grid\"},{\"id\":\"9388\",\"type\":\"Legend\"}],\"left\":[{\"id\":\"9358\",\"type\":\"LinearAxis\"}],\"output_backend\":\"webgl\",\"plot_height\":200,\"renderers\":[{\"id\":\"9379\",\"type\":\"GlyphRenderer\"},{\"id\":\"9393\",\"type\":\"GlyphRenderer\"}],\"title\":{\"id\":\"9381\",\"type\":\"Title\"},\"toolbar\":{\"id\":\"9369\",\"type\":\"Toolbar\"},\"toolbar_location\":null,\"x_range\":{\"id\":\"9405\",\"type\":\"Range1d\"},\"x_scale\":{\"id\":\"9349\",\"type\":\"LinearScale\"},\"y_range\":{\"id\":\"9406\",\"type\":\"Range1d\"},\"y_scale\":{\"id\":\"9351\",\"type\":\"LinearScale\"}},\"id\":\"9344\",\"subtype\":\"Figure\",\"type\":\"Plot\"},{\"attributes\":{\"dimension\":1,\"ticker\":{\"id\":\"9296\",\"type\":\"BasicTicker\"}},\"id\":\"9299\",\"type\":\"Grid\"},{\"attributes\":{},\"id\":\"9427\",\"type\":\"UnionRenderers\"},{\"attributes\":{},\"id\":\"9339\",\"type\":\"Selection\"},{\"attributes\":{\"bounds\":[80,101],\"callback\":null,\"end\":101,\"start\":80},\"id\":\"9342\",\"type\":\"Range1d\"},{\"attributes\":{\"bounds\":[80,101],\"callback\":null,\"end\":101,\"start\":80},\"id\":\"9405\",\"type\":\"Range1d\"},{\"attributes\":{\"children\":[[{\"id\":\"9281\",\"subtype\":\"Figure\",\"type\":\"Plot\"},0,0],[{\"id\":\"9344\",\"subtype\":\"Figure\",\"type\":\"Plot\"},1,0]]},\"id\":\"9431\",\"type\":\"GridBox\"},{\"attributes\":{},\"id\":\"9401\",\"type\":\"UnionRenderers\"},{\"attributes\":{},\"id\":\"9303\",\"type\":\"SaveTool\"},{\"attributes\":{\"source\":{\"id\":\"9327\",\"type\":\"ColumnDataSource\"}},\"id\":\"9331\",\"type\":\"CDSView\"},{\"attributes\":{},\"id\":\"9402\",\"type\":\"Selection\"},{\"attributes\":{\"data_source\":{\"id\":\"9327\",\"type\":\"ColumnDataSource\"},\"glyph\":{\"id\":\"9328\",\"type\":\"Line\"},\"hover_glyph\":null,\"muted_glyph\":null,\"nonselection_glyph\":{\"id\":\"9329\",\"type\":\"Line\"},\"selection_glyph\":null,\"view\":{\"id\":\"9331\",\"type\":\"CDSView\"}},\"id\":\"9330\",\"type\":\"GlyphRenderer\"},{\"attributes\":{},\"id\":\"9367\",\"type\":\"ResetTool\"},{\"attributes\":{\"axis_label\":\"read accuracy\",\"formatter\":{\"id\":\"9320\",\"type\":\"BasicTickFormatter\"},\"ticker\":{\"id\":\"9291\",\"type\":\"BasicTicker\"}},\"id\":\"9290\",\"type\":\"LinearAxis\"},{\"attributes\":{\"text\":\"\"},\"id\":\"9381\",\"type\":\"Title\"},{\"attributes\":{\"bounds\":[9.051752669138886e-13,0.5516383406077918],\"callback\":null,\"end\":0.5516383406077918,\"start\":9.051752669138886e-13},\"id\":\"9406\",\"type\":\"Range1d\"},{\"attributes\":{\"active_drag\":\"auto\",\"active_inspect\":\"auto\",\"active_multi\":null,\"active_scroll\":\"auto\",\"active_tap\":\"auto\",\"tools\":[{\"id\":\"9300\",\"type\":\"PanTool\"},{\"id\":\"9301\",\"type\":\"WheelZoomTool\"},{\"id\":\"9302\",\"type\":\"BoxZoomTool\"},{\"id\":\"9303\",\"type\":\"SaveTool\"},{\"id\":\"9304\",\"type\":\"ResetTool\"},{\"id\":\"9305\",\"type\":\"HelpTool\"}]},\"id\":\"9306\",\"type\":\"Toolbar\"},{\"attributes\":{\"callback\":null,\"data\":{\"x\":{\"__ndarray__\":\"Pfjggw8+WEAKxa1Q3EpYQNeReh2pV1hApF5H6nVkWEBxKxS3QnFYQD744IMPflhAC8WtUNyKWEDYkXodqZdYQKVeR+p1pFhAcisUt0KxWEA/+OCDD75YQAzFrVDcylhA2ZF6HanXWECmXkfqdeRYQHMrFLdC8VhAQPjggw/+WEA=\",\"dtype\":\"float64\",\"shape\":[16]},\"y\":{\"__ndarray__\":\"zjFGFG6zkz9DMVaMhk2YP4ndzwWtcZ4/ZnYS6rMgqT9EZa+G4wuxP7net49hwbU/a/lb1klqwD/8ZMWDGcfHPw2ewR+/wtE/mn/atxle2T9W22P4WNveP41xrsgqbOM/HunYsHaM6D/3/VYqdRjpP08O2zkg1OI/WhiH6N+51T8=\",\"dtype\":\"float64\",\"shape\":[16]}},\"selected\":{\"id\":\"9416\",\"type\":\"Selection\"},\"selection_policy\":{\"id\":\"9415\",\"type\":\"UnionRenderers\"}},\"id\":\"9327\",\"type\":\"ColumnDataSource\"},{\"attributes\":{\"ticker\":{\"id\":\"9291\",\"type\":\"BasicTicker\"}},\"id\":\"9294\",\"type\":\"Grid\"},{\"attributes\":{},\"id\":\"9416\",\"type\":\"Selection\"},{\"attributes\":{},\"id\":\"9383\",\"type\":\"BasicTickFormatter\"},{\"attributes\":{},\"id\":\"9366\",\"type\":\"SaveTool\"},{\"attributes\":{\"bottom_units\":\"screen\",\"fill_alpha\":{\"value\":0.5},\"fill_color\":{\"value\":\"lightgrey\"},\"left_units\":\"screen\",\"level\":\"overlay\",\"line_alpha\":{\"value\":1.0},\"line_color\":{\"value\":\"black\"},\"line_dash\":[4,4],\"line_width\":{\"value\":2},\"render_mode\":\"css\",\"right_units\":\"screen\",\"top_units\":\"screen\"},\"id\":\"9387\",\"type\":\"BoxAnnotation\"},{\"attributes\":{\"source\":{\"id\":\"9313\",\"type\":\"ColumnDataSource\"}},\"id\":\"9317\",\"type\":\"CDSView\"},{\"attributes\":{},\"id\":\"9363\",\"type\":\"PanTool\"},{\"attributes\":{},\"id\":\"9291\",\"type\":\"BasicTicker\"},{\"attributes\":{},\"id\":\"9349\",\"type\":\"LinearScale\"},{\"attributes\":{},\"id\":\"9296\",\"type\":\"BasicTicker\"},{\"attributes\":{},\"id\":\"9415\",\"type\":\"UnionRenderers\"},{\"attributes\":{\"active_drag\":\"auto\",\"active_inspect\":\"auto\",\"active_multi\":null,\"active_scroll\":\"auto\",\"active_tap\":\"auto\",\"tools\":[{\"id\":\"9363\",\"type\":\"PanTool\"},{\"id\":\"9364\",\"type\":\"WheelZoomTool\"},{\"id\":\"9365\",\"type\":\"BoxZoomTool\"},{\"id\":\"9366\",\"type\":\"SaveTool\"},{\"id\":\"9367\",\"type\":\"ResetTool\"},{\"id\":\"9368\",\"type\":\"HelpTool\"}]},\"id\":\"9369\",\"type\":\"Toolbar\"},{\"attributes\":{\"label\":{\"value\":\"reads\"},\"renderers\":[{\"id\":\"9316\",\"type\":\"GlyphRenderer\"}]},\"id\":\"9326\",\"type\":\"LegendItem\"},{\"attributes\":{\"axis_label\":\"read count\",\"formatter\":{\"id\":\"9322\",\"type\":\"BasicTickFormatter\"},\"ticker\":{\"id\":\"9296\",\"type\":\"BasicTicker\"}},\"id\":\"9295\",\"type\":\"LinearAxis\"},{\"attributes\":{\"line_color\":\"green\",\"line_width\":1.5,\"x\":{\"field\":\"x\"},\"y\":{\"field\":\"y\"}},\"id\":\"9328\",\"type\":\"Line\"},{\"attributes\":{},\"id\":\"9305\",\"type\":\"HelpTool\"},{\"attributes\":{\"items\":[{\"id\":\"9326\",\"type\":\"LegendItem\"},{\"id\":\"9341\",\"type\":\"LegendItem\"}],\"location\":\"top_left\"},\"id\":\"9325\",\"type\":\"Legend\"},{\"attributes\":{\"overlay\":{\"id\":\"9387\",\"type\":\"BoxAnnotation\"}},\"id\":\"9365\",\"type\":\"BoxZoomTool\"},{\"attributes\":{},\"id\":\"9301\",\"type\":\"WheelZoomTool\"},{\"attributes\":{},\"id\":\"9286\",\"type\":\"LinearScale\"},{\"attributes\":{\"axis_label\":\"%age of read contained in alignment\",\"formatter\":{\"id\":\"9383\",\"type\":\"BasicTickFormatter\"},\"ticker\":{\"id\":\"9354\",\"type\":\"BasicTicker\"}},\"id\":\"9353\",\"type\":\"LinearAxis\"},{\"attributes\":{\"line_alpha\":0.1,\"line_color\":\"#1f77b4\",\"line_width\":1.5,\"x\":{\"field\":\"x\"},\"y\":{\"field\":\"y\"}},\"id\":\"9329\",\"type\":\"Line\"},{\"attributes\":{},\"id\":\"9385\",\"type\":\"BasicTickFormatter\"},{\"attributes\":{\"label\":{\"value\":\"consensuses\"},\"renderers\":[{\"id\":\"9393\",\"type\":\"GlyphRenderer\"}]},\"id\":\"9404\",\"type\":\"LegendItem\"},{\"attributes\":{},\"id\":\"9304\",\"type\":\"ResetTool\"},{\"attributes\":{},\"id\":\"9364\",\"type\":\"WheelZoomTool\"},{\"attributes\":{\"data_source\":{\"id\":\"9313\",\"type\":\"ColumnDataSource\"},\"glyph\":{\"id\":\"9314\",\"type\":\"Line\"},\"hover_glyph\":null,\"muted_glyph\":null,\"nonselection_glyph\":{\"id\":\"9315\",\"type\":\"Line\"},\"selection_glyph\":null,\"view\":{\"id\":\"9317\",\"type\":\"CDSView\"}},\"id\":\"9316\",\"type\":\"GlyphRenderer\"},{\"attributes\":{},\"id\":\"9351\",\"type\":\"LinearScale\"},{\"attributes\":{\"dimension\":1,\"ticker\":{\"id\":\"9359\",\"type\":\"BasicTicker\"}},\"id\":\"9362\",\"type\":\"Grid\"},{\"attributes\":{\"items\":[{\"id\":\"9389\",\"type\":\"LegendItem\"},{\"id\":\"9404\",\"type\":\"LegendItem\"}],\"location\":\"top_left\"},\"id\":\"9388\",\"type\":\"Legend\"},{\"attributes\":{},\"id\":\"9322\",\"type\":\"BasicTickFormatter\"},{\"attributes\":{\"callback\":null,\"data\":{\"x\":{\"__ndarray__\":\"uI/gPoL7VkCFXK0LTwhXQFIpetgbFVdAH/ZGpeghV0DswhNytS5XQLmP4D6CO1dAhlytC09IV0BTKXrYG1VXQCD2RqXoYVdA7cITcrVuV0C6j+A+gntXQIdcrQtPiFdAVCl62BuVV0Ah9kal6KFXQO7CE3K1rldAu4/gPoK7V0CIXK0LT8hXQFUpetgb1VdAIvZGpejhV0DvwhNyte5XQLyP4D6C+1dAiVytC08IWEBWKXrYGxVYQCP2RqXoIVhA8MITcrUuWEC9j+A+gjtYQIpcrQtPSFhAVyl62BtVWEAk9kal6GFYQPHCE3K1blhAvo/gPoJ7WECLXK0LT4hYQFgpetgblVhAJfZGpeihWEDywhNyta5YQL+P4D6Cu1hAjFytC0/IWEBZKXrYG9VYQCb2RqXo4VhA88ITcrXuWEDAj+A+gvtYQA==\",\"dtype\":\"float64\",\"shape\":[41]},\"y\":{\"__ndarray__\":\"WUEY4J8Sej+Yww+RVDd3PxBBgAO2ZXA/n+0crFt2Yj+iIlywMm1RP/ij7ubDKEQ/3yqL1GlSTT+VscQxHHJfP4rCfCOobW0/EugUnbgzdj96jcYWH0B7P8bK662iqnw/EkyYIU1GfT/UAlNU38yAP01DBkKyQoU/L1jyF+F7iT9yPL4MrDCKP1eaCBFy/IY/rYbc7TKcgz+TEEL4nYuFP+lpxbDkFJA/XjQYY8oVmT+53Rx2J4yhP3qDYr85rKU//yIY5hWVqD9eENTw6hWrP0tyjZZMGq4/VD/a8dHRsD8p0hc21YKyP9/BSF2BLbQ/Td21iDPEtj86D7VImpO7P/CjZDuGisE/TOOEq/1Mxj9OllIu/rfLP6zyfJIeDdE/nQXP4I8o1T9+2VfWTFraP1iqdwQgyd8/ZCoEcwWn4T9Eza+N+jzhPw==\",\"dtype\":\"float64\",\"shape\":[41]}},\"selected\":{\"id\":\"9428\",\"type\":\"Selection\"},\"selection_policy\":{\"id\":\"9427\",\"type\":\"UnionRenderers\"}},\"id\":\"9390\",\"type\":\"ColumnDataSource\"},{\"attributes\":{},\"id\":\"9320\",\"type\":\"BasicTickFormatter\"},{\"attributes\":{\"line_color\":\"blue\",\"line_width\":1.5,\"x\":{\"field\":\"x\"},\"y\":{\"field\":\"y\"}},\"id\":\"9377\",\"type\":\"Line\"},{\"attributes\":{\"data_source\":{\"id\":\"9376\",\"type\":\"ColumnDataSource\"},\"glyph\":{\"id\":\"9377\",\"type\":\"Line\"},\"hover_glyph\":null,\"muted_glyph\":null,\"nonselection_glyph\":{\"id\":\"9378\",\"type\":\"Line\"},\"selection_glyph\":null,\"view\":{\"id\":\"9380\",\"type\":\"CDSView\"}},\"id\":\"9379\",\"type\":\"GlyphRenderer\"},{\"attributes\":{\"line_color\":\"blue\",\"line_width\":1.5,\"x\":{\"field\":\"x\"},\"y\":{\"field\":\"y\"}},\"id\":\"9314\",\"type\":\"Line\"},{\"attributes\":{},\"id\":\"9359\",\"type\":\"BasicTicker\"},{\"attributes\":{\"overlay\":{\"id\":\"9324\",\"type\":\"BoxAnnotation\"}},\"id\":\"9302\",\"type\":\"BoxZoomTool\"},{\"attributes\":{\"callback\":null,\"data\":{\"x\":{\"__ndarray__\":\"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\",\"dtype\":\"float64\",\"shape\":[261]},\"y\":{\"__ndarray__\":\"fyDjzXXGGT8mQ04m4IYVP8Er4LC7FAk/KemIxQFi9D4bHBwOwxvXPgjet4ciRrI+NepJRdgohD7Fk1f5dAZPPqGQUg7/phA+XZWmAgnwyD1fQbM+oJJ6Pb9WGA1TSnk9B+1R+c1gyT1Y5W1McjMSPqAV2bDgOFI+05BdjoR3iT4UDtjOo9e4PixbnJYO6uA+JvJqdpMTAD//4h2gqlQVP6CRPcREwSM/74n9xVqLKT82jZpcdhcnPyvC8GYKmh0/s+BKCzqFDj+b+kH8thYHPy9m9bSaFxE/l1iPYTtIGD9IzRQGaQ4ZP+6zt4MvHBI/qXKHG/FEAj9gqJ/S/cXpPjz0MPOJqcs+2UradYANxD41moQpxenhPkTIYPaeDPw+yaDY/5zYDj+sC0JKWqoXP49LduoyVBk/vvJqjsToEj+RJuZwhrEDP8Qj8ofAn+w+wq6F38iQzT545SC2RqWzPg/zXgPpp8s+TgU4ePMd6z6A/5NZ8fUCP8u70zf8gBI/EvItiBwxGT/LS+9dQ+wXP4EAPgM7sQ8/+QjgHgpJ/T7GjLldKuDiPrMlt3Tm+MA+omHghxdKlT4Be8Y1iqBiPsn3QI8QxyY+BmjqIPHB8j2VbZRZA4glPhDS7c7mu2E+ocZwRjtrlD6nD5KnHmbAPjnhHq6HX+I+XtMwRY23/D6UzmLEwE4PPz7KzfPEzhc/IVFqoZ9BGT9vdhoWULASP6OrFkq5SgM/5AfVaxPI6z6XenfmnejLPoq9eesrwKM+pylYKYnrgj7bfDBqdW2jPlLhXcXZh8s+uzSzu8SA6z6l9gEfuDADP3WbKFBpxhI/S68luQcpGj8gTCw7koIbP2HgCVuSuxk/q+TL+dlaGj8NcDpC1wocP2lNQHUivxk/gF8uxM4BFT/VMrDD+1oUP77oucIWcxg/0+mNtrs0Gj8TUphGvswUP6N9plcBTwc/zntTfudC8j77gAW1tffTPisVSpj6da4+fdqrR+E0gD41pNuT5w5IPmv3Si5hIQk+MCL233UX7D3hxpPGe7YrPottJvA312Y+MtwZ7N2Amj5E/JZorrPFPv/Yw2S4Kek+N4DbEqO7BD/SRgwAmF4YPzUnO9ixfyQ/YB8Y8tC8KD8ZII1uFG8lP0DqHwk3pho/Liev9pK4Bz+L1YUepSLuPhh1sT8aOMs+DfL+mTJqoT6evANXr3ZvPirPLH4kAjQ+SAsLll/f8T2OG7DM1WmmPW8Ysw8Y2W8991uNmMsJtz33+P4eO9IAPuJOJihHL0E+NKvJvMeZeD79zQ4LRb6oPh7n5AK5j9E++ZzGeLu08T53tlJtrJcJPz80yZni0ho/oofSyXqjJD+DsneJNosnPxEXZGGl/yM/LUFwOiNzGT+9oVKujoAKP2YzTVIxKgM/PZZ8RscEDT9m2iIG9t4WP3BhR0ofihs/77TKIuGuGj+WHfp+nsAZP2p8sYvEiRw/gE7XSnt1ID/oO45FcvIjP29xIv83RCw/CKSx7TFlND/LeF1kkGs4P3cFuYYMbTY/dzPx5yA8MD+Mlt4YC7slP6tGeWZfwCA/nrkCf8WxGz8NXfNmAncTP8p3Y0Nkmgc/nwAqe756Bj/8eOQ2810VP+XljKcBVCQ/28v8sYSQLj+4Q/1DoMgxP28y405rVTA/YWjLmp+8KT+ztT9ng5EkP/NjV9q6iiI/XrH5TflSIj8stFaBoqojP+9c1N4GFCY/aT1m9ln+Jz+r1/NoEkApP1D0B6MSvys/4L6PF2I9MD+OaSkpjDczP5ii2X2Aajc/duu4++XSPj9rID9xQmBEP1m//5yTIUg/nAOtVoVjSD+08BfYQYFFP9dneajlJkI/0cbz/TZpQD+pSRIgxyI/P0EMW4Jyhjs/yHMQg3tgNj/qYl2CBrEzPxXaaxMRVDU/n0oOtFs4OT9ir9CQZLE8P5pqKf/vhD8/6kAhhKPZQT/FXbJcR3BFPzjYydPAGUo/UXuBO0f2TT/HmZZkPDtOPyQeF/l9bEk/PqKFD7j/QT9RMiJw5786PyrQTxIx/j4/G7frTZsgRz9DUx//MuNOPzQfljFlslE/C/ZsV0BQUz/cMRiMdbtVP+Jx8HFnvlg/E73huYFYWz9K/eVb3f9cP7E4GsIBrl0/9WNHR3vBXT/bFhenxtBdP0ALBhYJDV4/UOx1mldNXj/djM9biOBePzGfXd34K2A/o+sxwSg9YT+BPwtojjhiP9OJqS0P02I/qwLuSKoiYz9DfigfcuhjP29mDj1NMmY/NosoR9YKaj/5jKt58/xtP/K4qdz2U3A/0XTss1spcT8o1ASjVQ5yP99VmfQtEnM/IHEmIayxcz9e3tqcBqxzP4gzCsdHfHM/6MqrOz33cz9QJu5ULON1P7y5cOUOqnk/bHvgsEHNfj89i/YkmuyBP7kb/79r2IM/QfWgOxaOhT8TDMMM+T2IPxdH2dSp54w/efjrDrLMkT9XLLGiDq+VP12Uk+B9U5k/vmn3kpcLnD+gA4aEYJ6dPyKq4OybSp4/mZE+MDGanj9rNnbLxDCfP0iz3inpN6A/2Jm/YiEjoT8cGziDm06iP3tX8FQg8aM/pBdzRa1ypj/lJco1Cw6qP9G/O3KbpK4/SO05WNkJsj+ms7kb6UK1P9MwdlfELLk/tNjjOe74vT/rN74nkODBP/mnXdviNsU/jOAAScvqyD9s2pW/0RbNP8+v0IwtIdE/4dgRCuSa1D/lqAHuMwfZPxTAWfr+hd0/CX3e0hkN4D9oTF7lH4nePx4LicbMPtg/\",\"dtype\":\"float64\",\"shape\":[261]}},\"selected\":{\"id\":\"9402\",\"type\":\"Selection\"},\"selection_policy\":{\"id\":\"9401\",\"type\":\"UnionRenderers\"}},\"id\":\"9376\",\"type\":\"ColumnDataSource\"},{\"attributes\":{\"axis_label\":\"read count\",\"formatter\":{\"id\":\"9385\",\"type\":\"BasicTickFormatter\"},\"ticker\":{\"id\":\"9359\",\"type\":\"BasicTicker\"}},\"id\":\"9358\",\"type\":\"LinearAxis\"},{\"attributes\":{\"label\":{\"value\":\"reads\"},\"renderers\":[{\"id\":\"9379\",\"type\":\"GlyphRenderer\"}]},\"id\":\"9389\",\"type\":\"LegendItem\"},{\"attributes\":{\"bottom_units\":\"screen\",\"fill_alpha\":{\"value\":0.5},\"fill_color\":{\"value\":\"lightgrey\"},\"left_units\":\"screen\",\"level\":\"overlay\",\"line_alpha\":{\"value\":1.0},\"line_color\":{\"value\":\"black\"},\"line_dash\":[4,4],\"line_width\":{\"value\":2},\"render_mode\":\"css\",\"right_units\":\"screen\",\"top_units\":\"screen\"},\"id\":\"9324\",\"type\":\"BoxAnnotation\"},{\"attributes\":{\"tools\":[{\"id\":\"9300\",\"type\":\"PanTool\"},{\"id\":\"9301\",\"type\":\"WheelZoomTool\"},{\"id\":\"9302\",\"type\":\"BoxZoomTool\"},{\"id\":\"9303\",\"type\":\"SaveTool\"},{\"id\":\"9304\",\"type\":\"ResetTool\"},{\"id\":\"9305\",\"type\":\"HelpTool\"},{\"id\":\"9363\",\"type\":\"PanTool\"},{\"id\":\"9364\",\"type\":\"WheelZoomTool\"},{\"id\":\"9365\",\"type\":\"BoxZoomTool\"},{\"id\":\"9366\",\"type\":\"SaveTool\"},{\"id\":\"9367\",\"type\":\"ResetTool\"},{\"id\":\"9368\",\"type\":\"HelpTool\"}]},\"id\":\"9432\",\"type\":\"ProxyToolbar\"},{\"attributes\":{\"line_alpha\":0.1,\"line_color\":\"#1f77b4\",\"line_width\":1.5,\"x\":{\"field\":\"x\"},\"y\":{\"field\":\"y\"}},\"id\":\"9378\",\"type\":\"Line\"},{\"attributes\":{\"bounds\":[2.4857897308425103e-133,0.7842355563115565],\"callback\":null,\"end\":0.7842355563115565,\"start\":2.4857897308425103e-133},\"id\":\"9343\",\"type\":\"Range1d\"},{\"attributes\":{\"ticker\":{\"id\":\"9354\",\"type\":\"BasicTicker\"}},\"id\":\"9357\",\"type\":\"Grid\"},{\"attributes\":{\"line_color\":\"green\",\"line_width\":1.5,\"x\":{\"field\":\"x\"},\"y\":{\"field\":\"y\"}},\"id\":\"9391\",\"type\":\"Line\"},{\"attributes\":{},\"id\":\"9300\",\"type\":\"PanTool\"},{\"attributes\":{\"toolbar\":{\"id\":\"9432\",\"type\":\"ProxyToolbar\"},\"toolbar_location\":\"above\"},\"id\":\"9433\",\"type\":\"ToolbarBox\"},{\"attributes\":{\"text\":\"\"},\"id\":\"9318\",\"type\":\"Title\"},{\"attributes\":{\"callback\":null,\"data\":{\"x\":{\"__ndarray__\":\"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\",\"dtype\":\"float64\",\"shape\":[274]},\"y\":{\"__ndarray__\":\"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\",\"dtype\":\"float64\",\"shape\":[274]}},\"selected\":{\"id\":\"9339\",\"type\":\"Selection\"},\"selection_policy\":{\"id\":\"9338\",\"type\":\"UnionRenderers\"}},\"id\":\"9313\",\"type\":\"ColumnDataSource\"},{\"attributes\":{\"line_alpha\":0.1,\"line_color\":\"#1f77b4\",\"line_width\":1.5,\"x\":{\"field\":\"x\"},\"y\":{\"field\":\"y\"}},\"id\":\"9315\",\"type\":\"Line\"},{\"attributes\":{},\"id\":\"9288\",\"type\":\"LinearScale\"},{\"attributes\":{\"line_alpha\":0.1,\"line_color\":\"#1f77b4\",\"line_width\":1.5,\"x\":{\"field\":\"x\"},\"y\":{\"field\":\"y\"}},\"id\":\"9392\",\"type\":\"Line\"},{\"attributes\":{},\"id\":\"9354\",\"type\":\"BasicTicker\"},{\"attributes\":{\"label\":{\"value\":\"consensuses\"},\"renderers\":[{\"id\":\"9330\",\"type\":\"GlyphRenderer\"}]},\"id\":\"9341\",\"type\":\"LegendItem\"},{\"attributes\":{\"source\":{\"id\":\"9390\",\"type\":\"ColumnDataSource\"}},\"id\":\"9394\",\"type\":\"CDSView\"},{\"attributes\":{},\"id\":\"9368\",\"type\":\"HelpTool\"},{\"attributes\":{\"data_source\":{\"id\":\"9390\",\"type\":\"ColumnDataSource\"},\"glyph\":{\"id\":\"9391\",\"type\":\"Line\"},\"hover_glyph\":null,\"muted_glyph\":null,\"nonselection_glyph\":{\"id\":\"9392\",\"type\":\"Line\"},\"selection_glyph\":null,\"view\":{\"id\":\"9394\",\"type\":\"CDSView\"}},\"id\":\"9393\",\"type\":\"GlyphRenderer\"},{\"attributes\":{},\"id\":\"9428\",\"type\":\"Selection\"}],\"root_ids\":[\"9434\"]},\"title\":\"Bokeh Application\",\"version\":\"1.4.0\"}};\n",
              "  var render_items = [{\"docid\":\"cb7bfe81-2d78-4083-ae85-e16d61d0262e\",\"roots\":{\"9434\":\"ae4ab7b2-3ab3-4326-8b07-f3df75ee7fe4\"}}];\n",
              "  root.Bokeh.embed.embed_items_notebook(docs_json, render_items);\n",
              "\n",
              "  }\n",
              "  if (root.Bokeh !== undefined) {\n",
              "    embed_document(root);\n",
              "  } else {\n",
              "    var attempts = 0;\n",
              "    var timer = setInterval(function(root) {\n",
              "      if (root.Bokeh !== undefined) {\n",
              "        clearInterval(timer);\n",
              "        embed_document(root);\n",
              "      } else {\n",
              "        attempts++;\n",
              "        if (attempts > 100) {\n",
              "          clearInterval(timer);\n",
              "          console.log(\"Bokeh: ERROR: Unable to run BokehJS code because BokehJS library is missing\");\n",
              "        }\n",
              "      }\n",
              "    }, 10, root)\n",
              "  }\n",
              "})(window);"
            ],
            "application/vnd.bokehjs_exec.v0+json": ""
          },
          "metadata": {
            "tags": [],
            "application/vnd.bokehjs_exec.v0+json": {
              "id": "9434"
            }
          }
        }
      ]
    },
    {
      "cell_type": "markdown",
      "metadata": {
        "id": "rbf378tSEj3k",
        "colab_type": "text"
      },
      "source": [
        "### Removing truncated polished transcripts\n",
        "\n",
        "As a final step we will use Pinfish again to remove aligned consensus transcripts that look to be truncated"
      ]
    },
    {
      "cell_type": "code",
      "metadata": {
        "id": "x7-z0C3bGdJF",
        "colab_type": "code",
        "cellView": "form",
        "outputId": "6cb06aad-f3b8-4d6c-d182-b565c970c7df",
        "colab": {
          "base_uri": "https://localhost:8080/",
          "height": 102
        }
      },
      "source": [
        "#@markdown **Pinfish polish bam2gff**\n",
        "output_name = \"polished_transcripts\" #@param {type:\"string\"}\n",
        "\n",
        "pinfish_out_pol_gff = os.path.join(pinfish_dir, output_name + \".gff\") \n",
        "pinfish_out_pol_col_gff = os.path.join(pinfish_dir, output_name + \"_collapsed.gff\") \n",
        "\n",
        "print(\"Final output will be written to: {}\".format(pinfish_out_pol_col_gff))\n",
        "\n",
        "print(\"* Running Pinfish polish bam2gff\")\n",
        "!spliced_bam2gff \\\n",
        "    -s -t $threads -M $minimap_out_pol_bam \\\n",
        "    > $pinfish_out_pol_gff \\\n",
        "    && echo \"✓ Completed Pinfish bam2gff\" \\\n",
        "    || echo \"✗ Failed Pinfish bam2gff\"\n",
        "\n",
        "print(\"* Running Pinfish polish partials\")\n",
        "!collapse_partials \\\n",
        "    -d $collapse_internal_tol -e $collapse_three_tol \\\n",
        "    -f $collapse_five_tol \\\n",
        "    $pinfish_out_pol_gff > $pinfish_out_pol_col_gff \\\n",
        "    && echo \"✓ Completed Pinfish polish partials\" \\\n",
        "    || echo \"✗ Failed Pinfish polish partials\""
      ],
      "execution_count": 0,
      "outputs": [
        {
          "output_type": "stream",
          "text": [
            "Final output will be written to: analysis/pinfish/polished_transcripts_collapsed.gff\n",
            "* Running Pinfish polish bam2gff\n",
            "✓ Completed Pinfish bam2gff\n",
            "* Running Pinfish polish partials\n",
            "✓ Completed Pinfish polish partials\n"
          ],
          "name": "stdout"
        }
      ]
    },
    {
      "cell_type": "markdown",
      "metadata": {
        "id": "ZrNoqRzIEaX8",
        "colab_type": "text"
      },
      "source": [
        "### Generating a transcriptome\n",
        "\n",
        "We now have our finalised transcripts. To create a transcriptome from them we can use `gffread` with the "
      ]
    },
    {
      "cell_type": "code",
      "metadata": {
        "id": "WFmAZUdYHnkY",
        "colab_type": "code",
        "cellView": "form",
        "outputId": "256c9227-bfe3-48b7-e076-426c86c2dee0",
        "colab": {
          "base_uri": "https://localhost:8080/",
          "height": 85
        }
      },
      "source": [
        "#@markdown **Prepare corrected transcriptome fasta**\n",
        "output_name = \"polished_transcriptome.fa\" #@param {type:\"string\"}\n",
        "pinfish_out_pol_col_fa = os.path.join(pinfish_dir, output_name) \n",
        "\n",
        "print(\"* Running Pinfish corrected transcriptome fasta\")\n",
        "print(\"Transcriptome will be written to: {}\".format(pinfish_out_pol_col_fa))\n",
        "!gffread \\\n",
        "    -g $ref -w $pinfish_out_pol_col_fa \\\n",
        "    $pinfish_out_pol_col_gff \\\n",
        "    && echo \"✓ Completed Output transcriptome fasta\" \\\n",
        "    || echo \"✗ Failed Output transcriptome fasta\""
      ],
      "execution_count": 0,
      "outputs": [
        {
          "output_type": "stream",
          "text": [
            "* Running Pinfish corrected transcriptome fasta\n",
            "Transcriptome will be written to: analysis/pinfish/polished_transcriptome.fa\n",
            "FASTA index file Drosophila_melanogaster.BDGP6.dna.toplevel.fa.fai created.\n",
            "✓ Completed Output transcriptome fasta\n"
          ],
          "name": "stdout"
        }
      ]
    },
    {
      "cell_type": "markdown",
      "metadata": {
        "id": "SlQdshi0L6I8",
        "colab_type": "text"
      },
      "source": [
        "## Comparison to existing annotation\n",
        "\n",
        "The transcriptome generated by the above workflow can be compared to an existing\n",
        "genome annotation. One result from this analysis can be the discovery of novel transcripts not present in the reference databases.\n",
        "\n",
        "To create a comparison between the reference annotations and the transcriptome produced by the above workflow we can use `gffcompare`:"
      ]
    },
    {
      "cell_type": "code",
      "metadata": {
        "id": "rhAL26YsIefX",
        "colab_type": "code",
        "cellView": "form",
        "outputId": "cda6c593-9f1c-4318-b658-be135457279b",
        "colab": {
          "base_uri": "https://localhost:8080/",
          "height": 119
        }
      },
      "source": [
        "#@markdown **Run annotation comparison**\n",
        "# create a comparison analysis directory\n",
        "output_name = \"gffcompare\" #@param {type:\"string\"}\n",
        "gffcompare_prefix = os.path.join(analysis_folder, output_name)\n",
        "\n",
        "print(\"* Running Gff compare\")\n",
        "if annotations == \"\":\n",
        "    print(\"No annotation file provided at the start of the workflow.\")\n",
        "else:\n",
        "    annot = inputs['annotations']\n",
        "    !gffcompare \\\n",
        "        -r $annot -R -M -C -K -o $gffcompare_prefix \\\n",
        "        $pinfish_out_pol_col_gff \\\n",
        "    && echo \"✓ Completed gffcompare\" \\\n",
        "    || echo \"✗ Failed gffcompare\""
      ],
      "execution_count": 0,
      "outputs": [
        {
          "output_type": "stream",
          "text": [
            "* Running Gff compare\n",
            "  34767 reference transcripts loaded.\n",
            "  3031 duplicate reference transcripts discarded.\n",
            "  84 query transfrags loaded.\n",
            "  13 duplicate query transfrags discarded.\n",
            "✓ Completed gffcompare\n"
          ],
          "name": "stdout"
        }
      ]
    },
    {
      "cell_type": "markdown",
      "metadata": {
        "id": "UyY9Kqx7CJsn",
        "colab_type": "text"
      },
      "source": [
        "Now that `gffcompare` has been run we can investigate the `.tracking` file produced. This gives details on the comparison between the reference annotation and the new annotation produced by this analysis above. A reference guide to the transcript classifications can be found [here](https://ccb.jhu.edu/software/stringtie/gffcompare.shtml#Transcript_classification_codes), though the following table highlights the key details. In *general* novel transcripts will be marked as `u` for unknown.\n",
        "\n",
        "\n",
        "\n"
      ]
    },
    {
      "cell_type": "markdown",
      "metadata": {
        "id": "k95uuw9yem1e",
        "colab_type": "text"
      },
      "source": [
        "![image.png](data:image/png;base64,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)"
      ]
    },
    {
      "cell_type": "markdown",
      "metadata": {
        "id": "45QuxWp_smrM",
        "colab_type": "text"
      },
      "source": [
        "Using the `.tracking` file we can summarise the classifications found:"
      ]
    },
    {
      "cell_type": "code",
      "metadata": {
        "id": "suP-LPcaeLYZ",
        "colab_type": "code",
        "cellView": "form",
        "outputId": "459c6318-0ae0-4c61-891e-411ba82f983d",
        "colab": {
          "base_uri": "https://localhost:8080/",
          "height": 235
        }
      },
      "source": [
        "#@markdown **Classification summary**\n",
        "tracking_headings = [\n",
        "    \"query_transfrag_id\", \"query_locus_id\", \"ref_gene_id\",\n",
        "    \"class\", \"details\"]\n",
        "nice_names = {\n",
        "    '=': 'complete', 'c': 'contained', 'k': 'containment',\n",
        "    'm': 'retained', 'n': 'retained (partial)', 'j': 'multi',\n",
        "    'e': 'single', 'o': 'overlap', 's': 'opposite',\n",
        "    'x': 'exonic', 'i': 'intron', 'y': 'contains', 'p': 'runon',\n",
        "    'r': 'repeat', 'u': 'unknown'}\n",
        "\n",
        "tracking = pd.read_csv(\n",
        "    gffcompare_prefix + \".tracking\", sep=\"\\t\",\n",
        "    names=tracking_headings[1:], index_col=0)\n",
        "\n",
        "d = pd.DataFrame(tracking['class'].value_counts()) \\\n",
        "    .reset_index().rename(columns={'index':'class', 'class':'count'})\n",
        "d['description'] = [nice_names[x] for x in d['class']]\n",
        "display(d)\n",
        "\n",
        "from aplanat import bars\n",
        "bars.\n",
        "\n",
        "# write a separate table for each class\n",
        "for class_code, table in df.groupby('class_code'):\n",
        "  path = gffcompare_prefix + \".tracking\" + \".{}.tsv\".format(class_code)"
      ],
      "execution_count": 0,
      "outputs": [
        {
          "output_type": "display_data",
          "data": {
            "text/plain": [
              "  class  count         description\n",
              "0     =     21            complete\n",
              "1     c     15           contained\n",
              "2     j     10               multi\n",
              "3     n      2  retained (partial)\n",
              "4     s      2            opposite\n",
              "5     u      1             unknown"
            ],
            "text/html": [
              "<div>\n",
              "<style scoped>\n",
              "    .dataframe tbody tr th:only-of-type {\n",
              "        vertical-align: middle;\n",
              "    }\n",
              "\n",
              "    .dataframe tbody tr th {\n",
              "        vertical-align: top;\n",
              "    }\n",
              "\n",
              "    .dataframe thead th {\n",
              "        text-align: right;\n",
              "    }\n",
              "</style>\n",
              "<table border=\"1\" class=\"dataframe\">\n",
              "  <thead>\n",
              "    <tr style=\"text-align: right;\">\n",
              "      <th></th>\n",
              "      <th>class</th>\n",
              "      <th>count</th>\n",
              "      <th>description</th>\n",
              "    </tr>\n",
              "  </thead>\n",
              "  <tbody>\n",
              "    <tr>\n",
              "      <th>0</th>\n",
              "      <td>=</td>\n",
              "      <td>21</td>\n",
              "      <td>complete</td>\n",
              "    </tr>\n",
              "    <tr>\n",
              "      <th>1</th>\n",
              "      <td>c</td>\n",
              "      <td>15</td>\n",
              "      <td>contained</td>\n",
              "    </tr>\n",
              "    <tr>\n",
              "      <th>2</th>\n",
              "      <td>j</td>\n",
              "      <td>10</td>\n",
              "      <td>multi</td>\n",
              "    </tr>\n",
              "    <tr>\n",
              "      <th>3</th>\n",
              "      <td>n</td>\n",
              "      <td>2</td>\n",
              "      <td>retained (partial)</td>\n",
              "    </tr>\n",
              "    <tr>\n",
              "      <th>4</th>\n",
              "      <td>s</td>\n",
              "      <td>2</td>\n",
              "      <td>opposite</td>\n",
              "    </tr>\n",
              "    <tr>\n",
              "      <th>5</th>\n",
              "      <td>u</td>\n",
              "      <td>1</td>\n",
              "      <td>unknown</td>\n",
              "    </tr>\n",
              "  </tbody>\n",
              "</table>\n",
              "</div>"
            ]
          },
          "metadata": {
            "tags": []
          }
        }
      ]
    },
    {
      "cell_type": "markdown",
      "metadata": {
        "id": "EF_mEnC1shST",
        "colab_type": "text"
      },
      "source": [
        "## Summary\n",
        "\n",
        "In this tutorial we have worked through analysis of Oxford Nanopore Technologies' cDNA sequencing data. We first aligned the reads to a reference genome, using the reference to cluster reads. From the clustered reads we generated polished consensus sequences and identified reads that were likely not full-length transcripts.\n",
        "\n",
        "In a final step we compared the produced transcriptome to a reference annotation set to identify novel transcripts.\n"
      ]
    }
  ]
}
