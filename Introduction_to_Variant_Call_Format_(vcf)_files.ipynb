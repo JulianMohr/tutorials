{
  "nbformat": 4,
  "nbformat_minor": 0,
  "metadata": {
    "kernelspec": {
      "display_name": "Python 3",
      "language": "python",
      "name": "python3"
    },
    "language_info": {
      "codemirror_mode": {
        "name": "ipython",
        "version": 3
      },
      "file_extension": ".py",
      "mimetype": "text/x-python",
      "name": "python",
      "nbconvert_exporter": "python",
      "pygments_lexer": "ipython3",
      "version": "3.7.6"
    },
    "colab": {
      "name": "Introduction to Variant Call Format (.vcf) files",
      "provenance": [],
      "collapsed_sections": [],
      "toc_visible": true,
      "include_colab_link": true
    }
  },
  "cells": [
    {
      "cell_type": "markdown",
      "metadata": {
        "id": "view-in-github",
        "colab_type": "text"
      },
      "source": [
        "<a href=\"https://colab.research.google.com/github/epi2me-labs/tutorials/blob/master/Introduction_to_Variant_Call_Format_(vcf)_files.ipynb\" target=\"_parent\"><img src=\"https://colab.research.google.com/assets/colab-badge.svg\" alt=\"Open In Colab\"/></a>"
      ]
    },
    {
      "cell_type": "markdown",
      "metadata": {
        "id": "eyhWQcLLP6Kt",
        "colab_type": "text"
      },
      "source": [
        "<h1>Introduction to Variant Call Format (.vcf) files</h1>\n",
        "\n",
        "The tutorial provides a short introduction to [Variant Call Format](https://en.wikipedia.org/wiki/Variant_Call_Format) files used in bioinformatics to store differences between the DNA sequence of a sample and that of a reference sequence.\n",
        "\n",
        "Methods used in this tutorial include:\n",
        "\n",
        "* `pysam` for iterating through VCF files,\n",
        "* `pandas` for manipulating VCF files as a table, and\n",
        "* `bcftools` for filtering VCF files on the command-line.\n",
        "\n",
        "The computational requirements for this tutorial are:\n",
        "\n",
        "* A computer running the EPI2ME Labs Server environment,\n",
        "* 8Gb RAM.\n",
        "\n",
        "> ⚠️ **Warning:** This notebook has been saved with its outputs for demostration purposed. It is recommeded to select `Edit > Clear all outputs` before using the notebook to analyse your own data.\n",
        "\n"
      ]
    },
    {
      "cell_type": "code",
      "metadata": {
        "id": "QDMN0xvyz6mk",
        "colab_type": "code",
        "colab": {}
      },
      "source": [
        "#TODO: remove\n",
        "#!pip uninstall -y aplanat\n",
        "#!cd /epi2melabs/aplanat && python setup.py develop\n",
        "%load_ext autoreload\n",
        "%autoreload 2"
      ],
      "execution_count": null,
      "outputs": []
    },
    {
      "cell_type": "markdown",
      "metadata": {
        "id": "a0y2JPI9SlxM",
        "colab_type": "text"
      },
      "source": [
        "## Introduction\n",
        "\n",
        "This tutorial aims to elucidate the information stored with a Variant Call Format (VCF) file, and how such files can be read, or parsed, within the Python programming language and on the command line.\n",
        "\n",
        "The goals from this tutorial include:\n",
        "\n",
        "* Understand the basic concepts of a Variant Call Format (VCF),\n",
        "* Know how to manipulate a VCF file as a simple table,\n",
        "* Be able to iterate through records of a VCF using `pysam`, and\n",
        "* Have an awareness of command-line tools which can be used to manipulate VCF files."
      ]
    },
    {
      "cell_type": "markdown",
      "metadata": {
        "id": "VWIv_lakSnbh",
        "colab_type": "text"
      },
      "source": [
        "The tutorial includes a sample VCF file output by [medaka](https://github.com/nanoporetech/medaka) from whole genome sequencing of the Genome in a Bottle ([GIAB](https://www.nist.gov/programs-projects/genome-bottle)) HG002 sample."
      ]
    },
    {
      "cell_type": "markdown",
      "metadata": {
        "id": "ZMhjoLNaP6Ku",
        "colab_type": "text"
      },
      "source": [
        "## Getting started\n",
        "\n",
        "⚠️  ***Reminder:*** Connect to your locally running EPI2ME Labs Server before running any of the code below. See [Run a tutorial](https://colab.research.google.com/github/epi2me-labs/resources/blob/master/epi2me-labs-server.ipynb#scrollTo=r--DdCunUR6Y) on the EPI2ME Labs Server help page for more information."
      ]
    },
    {
      "cell_type": "markdown",
      "metadata": {
        "id": "iSKV9Kkg0VLa",
        "colab_type": "text"
      },
      "source": [
        "![image.png](data:image/png;base64,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)"
      ]
    },
    {
      "cell_type": "markdown",
      "metadata": {
        "id": "z0L95Ko61LtN",
        "colab_type": "text"
      },
      "source": [
        "Having connected to the EPI2ME Labs Server, before anything else we will create and set a working directory:"
      ]
    },
    {
      "cell_type": "code",
      "metadata": {
        "id": "MVacV0gxWwel",
        "colab_type": "code",
        "colab": {
          "base_uri": "https://localhost:8080/",
          "height": 34
        },
        "outputId": "5eb41656-f79e-4986-efa5-7d06be39a19d"
      },
      "source": [
        "from epi2melabs import ping\n",
        "tutorial_name = \"vcf-tutorial\"\n",
        "pinger = ping.Pingu()\n",
        "pinger.send_notebook_ping('start', tutorial_name)\n",
        "\n",
        "# create a work directory and move into it\n",
        "working_dir = '/epi2melabs/{}/'.format(tutorial_name)\n",
        "!mkdir -p \"$working_dir\"\n",
        "%cd \"$working_dir\""
      ],
      "execution_count": null,
      "outputs": [
        {
          "output_type": "stream",
          "text": [
            "/epi2melabs/vcf-tutorial\n"
          ],
          "name": "stdout"
        }
      ]
    },
    {
      "cell_type": "markdown",
      "metadata": {
        "id": "v5uwBJCVECBg",
        "colab_type": "text"
      },
      "source": [
        "### Sample Data\n",
        "\n",
        "In order to provide a concrete example of handling a long-read VCF file this tutorial is provided with an example file produced by Oxford Nanopore Technologies' consensus and variant calling program Medaka.\n",
        "\n",
        "To download the sample file we run the `linux` command `wget`. To execute the command click on the cell and then press Command/Ctrl-Enter, or click the Play symbol to the left-hand side."
      ]
    },
    {
      "cell_type": "code",
      "metadata": {
        "id": "9bAE0vYvEia0",
        "colab_type": "code",
        "colab": {}
      },
      "source": [
        "bucket = \"ont-exd-int-s3-euwst1-epi2me-labs\"\n",
        "domain = \"s3-eu-west-1.amazonaws.com\"\n",
        "site = \"https://{}.{}\".format(bucket, domain)\n",
        "site = \"https://ont-exd-int-s3-euwst1-epi2me-labs.s3-eu-west-1.amazonaws.com\"\n",
        "\n",
        "!mkdir -p sample_data\n",
        "!cd sample_data && wget -O medaka.vcf.gz.tbi $site/vcf_tutorial/ont_hg002/medaka.vcf.gz.tbi\n",
        "!cd sample_data && wget -O medaka.vcf.gz $site/vcf_tutorial/ont_hg002/medaka.vcf.gz"
      ],
      "execution_count": null,
      "outputs": []
    },
    {
      "cell_type": "markdown",
      "metadata": {
        "id": "1VM9k1NGZ8co",
        "colab_type": "text"
      },
      "source": [
        "### Data entry\n",
        "\n",
        "Having downloaded the sample data we need to provide the filepaths as input to the notebook.\n",
        "\n",
        "The form can be used to enter the filenames of your inputs. Alternatively you can edit the code which reads the inputs by first double clicking the form header. After entering your inputs (or editing the code cell) remember to execute the code using `Command/Ctrl-Enter`, or pressing the `Play` symbol to the left-hand side."
      ]
    },
    {
      "cell_type": "code",
      "metadata": {
        "id": "hexEX4x8VPfA",
        "colab_type": "code",
        "cellView": "form",
        "colab": {
          "base_uri": "https://localhost:8080/",
          "height": 85
        },
        "outputId": "4b94d8ca-36a1-4337-a7f7-82ef1e21c1d2"
      },
      "source": [
        "#@markdown Enter the paths to the input file and output folder here.\n",
        "\n",
        "# set variables for our inputs\n",
        "input_file = '/epi2melabs/vcf-tutorial/sample_data/medaka.vcf.gz'  #@param {type: \"string\"}\n",
        "output_folder = 'analysis'  #@param {type: \"string\"}\n",
        "\n",
        "# run a command to concatenate all the files together\n",
        "!cecho ok \"Making output folder\"\n",
        "!mkdir -p \"$output_folder\"\n",
        "!test -f \"$input_file\" \\\n",
        "    && cecho success \" - Found input file.\" \\\n",
        "    || cecho error \" - Input file does not exist.\"\n",
        "\n",
        "# create index file\n",
        "!cecho ok \"Creating index file\"\n",
        "!tabix -f /epi2melabs/vcf-tutorial/sample_data/medaka.vcf.gz \\\n",
        "    && cecho success \" - Successfully created index.\" \\\n",
        "    || cecho error \" - Failed to create index file.\""
      ],
      "execution_count": null,
      "outputs": [
        {
          "output_type": "stream",
          "text": [
            "\u001b[34m\u001b[1mMaking output folder\u001b[0m\n",
            "\u001b[32m\u001b[1m - Found input file.\u001b[0m\n",
            "\u001b[34m\u001b[1mCreating index file\u001b[0m\n",
            "\u001b[32m\u001b[1m - Successfully created index.\u001b[0m\n"
          ],
          "name": "stdout"
        }
      ]
    },
    {
      "cell_type": "markdown",
      "metadata": {
        "id": "itAa1F4aBJnz",
        "colab_type": "text"
      },
      "source": [
        "Executing the above form will have checked input files and attempted to create an index file for the specified VCF file. We will come back to index file later in the tutorial."
      ]
    },
    {
      "cell_type": "markdown",
      "metadata": {
        "id": "bm8LasSbc5wL",
        "colab_type": "text"
      },
      "source": [
        "## VCF files\n",
        "\n",
        "Before discussing how to read VCF files in Python we will first review their structure. The formal specification for VCF files can be found [here](https://samtools.github.io/hts-specs/VCFv4.3.pdf). This is a thorough technical document detailing many different use cases.  Here we will focus on a brief introduction to the common elements of all VCF files athough it is rather a turgid document.\n",
        "\n",
        "To understand a VCF file we must first recall how such a file has been produced. Classically the file will have been created by analysing alignments of sequencing reads to a reference database containing one or more reference sequences. VCF files refer to these reference sequences variously as `contig`s or `CHROM`s.\n",
        "\n",
        "Variant call format files are a human readable, text-based file format. Very often they will be compressed using a variant of gzip compression. Aside from the header sections they are tabular in nature. The three sections of a VCF file are:\n",
        "\n",
        "1.   Meta-information lines (prefixed with `##`) containing information helpful for interpreting the rest of the file,\n",
        "2.   The header line (prefixed with `#`) which labels the columns\n",
        "3.   Data lines containing the information regarding variants.\n",
        "\n",
        "For example the start of the medaka VCF looks like:"
      ]
    },
    {
      "cell_type": "code",
      "metadata": {
        "id": "aOIMicy3BJYn",
        "colab_type": "code",
        "colab": {
          "base_uri": "https://localhost:8080/",
          "height": 377
        },
        "outputId": "30846dca-7460-4615-aadc-5cc7a12f43d8"
      },
      "source": [
        "# use zcat to decompress the file and head to read the first 20 lines\n",
        "!zcat $input_file 2>/dev/null | head -n 20"
      ],
      "execution_count": null,
      "outputs": [
        {
          "output_type": "stream",
          "text": [
            "##fileformat=VCFv4.1\r\n",
            "##medaka_version=1.0.3\r\n",
            "##contig=<ID=chr1>\r\n",
            "##INFO=<ID=pos1,Number=.,Type=Integer,Description=\"POS of incorporated variants from haplotype 1\">\r\n",
            "##INFO=<ID=q1,Number=1,Type=Float,Description=\"Combined qual score for haplotype 1\">\r\n",
            "##INFO=<ID=pos2,Number=.,Type=Integer,Description=\"POS of incorporated variants from haplotype 2\">\r\n",
            "##INFO=<ID=q2,Number=1,Type=Float,Description=\"Combined qual score for haplotype 2\">\r\n",
            "##FORMAT=<ID=GT,Number=G,Type=String,Description=\"Genotype\">\r\n",
            "##FORMAT=<ID=GQ,Number=G,Type=Integer,Description=\"Genotype quality score\">\r\n",
            "##CL=medaka_variant -U -o chr1 -m r941_prom_variant_g360 -s r941_prom_snp_g360 -i PAD65442_3.6.1_pass.bam -f GCA_000001405.15_GRCh38_no_alt_analysis_set.fna -r chr1:0-10000000 -t 4; Fri  3 Jul 21:15:23 BST 2020\r\n",
            "#CHROM\tPOS\tID\tREF\tALT\tQUAL\tFILTER\tINFO\tFORMAT\tSAMPLE\r\n",
            "chr1\t10108\t.\tC\tCT\t14.91\tPASS\tpos1=10108;pos2=10108;q1=10.99;q2=18.83\tGT:GQ\t1|1:15\r\n",
            "chr1\t10177\t.\tA\tAC\t4.852\tPASS\tpos2=10177;q2=4.852\tGT:GQ\t0|1:5\r\n",
            "chr1\t10257\t.\tA\tC\t0.799\tPASS\tpos1=10257;q1=0.799\tGT:GQ\t1|0:1\r\n",
            "chr1\t10291\t.\tC\tT\t8.544\tPASS\tpos2=10291;q2=8.544\tGT:GQ\t0|1:9\r\n",
            "chr1\t10297\t.\tC\tT\t8.215\tPASS\tpos2=10297;q2=8.215\tGT:GQ\t0|1:8\r\n",
            "chr1\t10303\t.\tC\tT\t0.246\tPASS\tpos2=10303;q2=0.246\tGT:GQ\t0|1:0\r\n",
            "chr1\t10309\t.\tC\tT\t2.7155\tPASS\tpos1=10309;pos2=10309;q1=1.046;q2=4.385\tGT:GQ\t1|1:3\r\n",
            "chr1\t10315\t.\tC\tT\t4.8525\tPASS\tpos1=10315;pos2=10315;q1=3.083;q2=6.622\tGT:GQ\t1|1:5\r\n",
            "chr1\t10321\t.\tC\tT\t0.562\tPASS\tpos2=10321;q2=0.562\tGT:GQ\t0|1:1\r\n"
          ],
          "name": "stdout"
        }
      ]
    },
    {
      "cell_type": "markdown",
      "metadata": {
        "id": "XGRF_SbSD5tt",
        "colab_type": "text"
      },
      "source": [
        "We see that the meta-information lines are all of the form:\n",
        "\n",
        "```\n",
        "##key=value\n",
        "```\n",
        "\n",
        "The first of these is always a line describing the specific version of the format of the file, in this case version 4.1 of VCF (`fileformat=VCFv4.1`). Next we have a line stating the version of Medaka used to produce the VCF file, this line is bespoke to VCF files produced by Medaka. The third meta-information line `contig=<ID=chr1>` describes the fact that there could be variants in the file lying on the sequence named `chr1`. There will be as many such lines as there are unique sequences in the reference database to which the VCF file refers.\n",
        "\n",
        "We then have a set of lines which look like:\n",
        "```\n",
        "##INFO=<ID=...,Description=\"...\">\n",
        "```\n",
        "These lines describe the contents and datatypes of the `INFO` field of the data section of the file, we will return to these shortly. Following the `INFO` meta-information descriptors we have a similar set of `FORMAT` descriptors of the form:\n",
        "```\n",
        "##FORMAT=<ID=,...,Description=\"...\">\n",
        "```\n",
        "Similarly these describe the contents of the sample columns in the data section: a VCF file can have one of more sample columns, the Medaka VCF has a single sample column named (appropriately, or confusingly) `SAMPLE`.\n",
        "\n",
        "A final meta-infomation field `CL` describes the command-line program and options used to produce the VCF file.\n",
        "\n",
        "We see therefore that the meta-information section although optional in the VCF file specification, is rather crucial for understanding the contents of the rest of the file. Some of the information in the header is for the benefit of a human audience, whilst other parts are more to aid machine parsing."
      ]
    },
    {
      "cell_type": "markdown",
      "metadata": {
        "id": "YNfuOuYsML4f",
        "colab_type": "text"
      },
      "source": [
        "### The VCF data table\n",
        "\n",
        "In the above prelude we have introduced the meta-information section of VCF files. We will now move to examine the data section of VCF files.\n",
        "\n",
        "Aside from the header information a VCF file is simple a tab-delimited data table. Each row of the table describes a possible variant in one or more of the analysed samples, with the columns being:\n",
        "\n",
        "|   |   Name   | Brief description (see the specification for details).                                                                                                                                                          |\n",
        "|:-:|:--------:|-----------------------------------------------------------------------------------------------------------------------------------------------------------------------------------------------------------------|\n",
        "| 1 | CHROM    | The name of the sequence (typically a chromosome) on which the variation is being called (`contig` from the meta-information). This sequence is usually known as 'the reference sequence'.|\n",
        "| 2 | POS      | The 1-based position of the variation on the given sequence.                                                                                                                                                    |\n",
        "| 3 | ID       | The identifier of the variation, e.g. a dbSNP rs identifier, or if unknown a \".\". Multiple identifiers should be separated by semi-colons without white-space. Medaka will output a \".\" here.                                                  |\n",
        "| 4 | REF      | The reference base (or bases in the case of an indel) at the given position on the given reference sequence.                                                                                                    |\n",
        "| 5 | ALT      | The list of alternative alleles at this position, i.e. the sequence of \"the variant\"                                                                                                                                                               |\n",
        "| 6 | QUAL     | A quality score associated with the inference of the given alleles.                                                                                                                                             |\n",
        "| 7 | FILTER   | A flag indicating which of a given set of filters the variation has passed.                                                                                                                                     |\n",
        "| 8 | INFO     | An extensible list of key-value pairs describing the variation. Multiple fields are separated by semicolons with optional values in the format: <key>=<data>[,data]. The description of each field is given in the meta-information section. |\n",
        "| 9 | FORMAT   | An (optional) extensible list of fields for describing the samples. The description of each field is given in the meta-information section.                                                                                                         |\n",
        "| + | SAMPLEs  | For each (optional) sample described in the file, values are given for the fields listed in FORMAT.                                                                                                              |\n",
        "\n",
        "Let's rexamine the first three lines of the Medaka VCF with the above field descriptions in mind:"
      ]
    },
    {
      "cell_type": "code",
      "metadata": {
        "id": "3nTcmvj_T-lx",
        "colab_type": "code",
        "colab": {
          "base_uri": "https://localhost:8080/",
          "height": 85
        },
        "outputId": "53e9ea0c-804e-4a01-a56c-718f72e260f5"
      },
      "source": [
        "# print the header line and the first three variants\n",
        "!zcat $input_file 2>/dev/null | head -n 20 | grep -A 3 '#CHROM'"
      ],
      "execution_count": null,
      "outputs": [
        {
          "output_type": "stream",
          "text": [
            "#CHROM\tPOS\tID\tREF\tALT\tQUAL\tFILTER\tINFO\tFORMAT\tSAMPLE\r\n",
            "chr1\t10108\t.\tC\tCT\t14.91\tPASS\tpos1=10108;pos2=10108;q1=10.99;q2=18.83\tGT:GQ\t1|1:15\r\n",
            "chr1\t10177\t.\tA\tAC\t4.852\tPASS\tpos2=10177;q2=4.852\tGT:GQ\t0|1:5\r\n",
            "chr1\t10257\t.\tA\tC\t0.799\tPASS\tpos1=10257;q1=0.799\tGT:GQ\t1|0:1\r\n"
          ],
          "name": "stdout"
        }
      ]
    },
    {
      "cell_type": "markdown",
      "metadata": {
        "id": "nz1boLSYUT8U",
        "colab_type": "text"
      },
      "source": [
        "So we have three rows, corresponding to three variants at positions `10108`, `10177`, and `10257`. Taking the last of these first, we see a reference base of `A` whereas the alternative (`ALT`) base is suggested as `C`. The variant therefore corresponds to a substitution of `A` for `C` in this sample. The quality (`QUAL`) of this variant is `0.799`, this value is a scaled probability:\n",
        "\n",
        "```\n",
        "−10 log10 [Prob(call in ALT is wrong)]\n",
        "```\n",
        "\n",
        "Note however that for the case of Medaka this interpretation should be taken with a pinch of salt, the scores output by the Medaka neural network have not been empirically calibrated to error rates of calls. The `FILTER` field for a VCF output directly by Medaka will contain either `PASS` or `lowqual`. For diploid variant calling Medaka performs a simple thresholding of variant qualities to mask possible false positive variants.\n",
        "\n",
        "The final three fields of the VCF table are rather more dense in information. First we have the `INFO` column. This column very often constitutes a sub-table within the main table: it is comprised of `key=value` pairs. A description of each key should be given in the meta-information section as described above. Here Medaka lists a `pos1/2` item which describes a position with respect to the calling of a variant in one of the two haplotypes. This is mainly an item for debugging. Secondly we have items of the form `q1/2`: these are similar to the main `QUAL` field but are expressed independently for the two haplotypes of the reference genome.\n",
        "\n",
        "Moving on to the `FORMAT` field, this is a specifier for how the information in the remaining (one or more) sample columns is stored. To understand `FORMAT` fully we must again refer back to the meta-information section of the file. In the Medaka example `GT:GQ` specifies that the sample columns contain first a genotype (`GT`), followed by a genotype quality score (`GQ`).\n",
        "\n",
        "The genotypes are encoded as allele values separated by either `/` or `|`. A `/` indicates the genotype is unphased whereas `|` that the genotype is phased. Two or more variants are said to be phased if the relation between the alleles of the genotypes is known across variants, else the variants are unphased. The allele values are 0 for the reference allele (what is in the `REF` field), 1 for the first allele listed in `ALT`, 2 for the second allele list in `ALT` and so on. For our substitution variant above we have a genotype `1|0` meaning a phased variant, the first allele is from the first `ALT` sequence `C` (the only `ALT`). The second allele is the reference base `A`. We therefore have a heterozygous variant indicated.\n",
        "\n",
        "Returning to the first and second variants in from the Medaka VCF we have the substitutions `C`>`CT` and `A`>`AC` respectively. In both cases this substitution of a single base with multiple bases means that we have an insertion variant. Likewise a deletion variant would be specified by, for example, `AG`>`A` meaning a deletion of a `G` at the position after that specified by `POS`. Note that special cases handle how insertion and deletions at the  of reference sequences are described, see the specification for more information. The first variant is a homozygous alternative variant `1|1` while the second is heterozygous `0|1` with the first allele being the reference base."
      ]
    },
    {
      "cell_type": "markdown",
      "metadata": {
        "id": "UwY-VfVLjXff",
        "colab_type": "text"
      },
      "source": [
        "### File compression and indexing\n",
        "\n",
        "Very often VCF files will not be stored as plain text but compressed to a binary stream. To compress a VCF file it is recommended to use the program [`bgzip`](http://www.htslib.org/doc/bgzip.html) rather than `gzip`. This program performs the compression in a manner which is both compatible with `gzip` but crucially can be indexed. The indexing allows rapid retrieval of variants spanning a particular reference location, value of `CHROM` and `POS`.\n",
        "\n",
        "Let's demonstrate how to compress a VCF file, by first taking a sample of the Medaka VCF:"
      ]
    },
    {
      "cell_type": "code",
      "metadata": {
        "id": "0hQq2M3FlXR_",
        "colab_type": "code",
        "colab": {}
      },
      "source": [
        "!zcat $input_file 2>/dev/null | head -n 10000 > snippet.vcf "
      ],
      "execution_count": null,
      "outputs": []
    },
    {
      "cell_type": "markdown",
      "metadata": {
        "id": "R0UdTmltlnph",
        "colab_type": "text"
      },
      "source": [
        "The file `snippet.vcf` is now a plain text file. Let's recompressed this extract using `bgzip`:"
      ]
    },
    {
      "cell_type": "code",
      "metadata": {
        "id": "MGevC22hmEiD",
        "colab_type": "code",
        "colab": {}
      },
      "source": [
        "!bgzip -f -c snippet.vcf > snippet.vcf.gz"
      ],
      "execution_count": null,
      "outputs": []
    },
    {
      "cell_type": "markdown",
      "metadata": {
        "id": "UQHbAYksmNa7",
        "colab_type": "text"
      },
      "source": [
        "to produce the file `snippet.vcf.gz` which can be indexed using the `tabix` program:"
      ]
    },
    {
      "cell_type": "code",
      "metadata": {
        "id": "_mlrgj5bmMfi",
        "colab_type": "code",
        "colab": {}
      },
      "source": [
        "!tabix snippet.vcf.gz"
      ],
      "execution_count": null,
      "outputs": []
    },
    {
      "cell_type": "markdown",
      "metadata": {
        "id": "6WCQk89Tm4Xg",
        "colab_type": "text"
      },
      "source": [
        "The utility of the compression is seen by observing the filesize of the files:"
      ]
    },
    {
      "cell_type": "code",
      "metadata": {
        "id": "RW6CYNoZm3nl",
        "colab_type": "code",
        "colab": {
          "base_uri": "https://localhost:8080/",
          "height": 68
        },
        "outputId": "73068f2d-b3a2-4381-eca6-c640dd22d9aa"
      },
      "source": [
        "!ls -lh snippet.vcf* | awk '{print $5, $9}'"
      ],
      "execution_count": null,
      "outputs": [
        {
          "output_type": "stream",
          "text": [
            "715K snippet.vcf\r\n",
            "199K snippet.vcf.gz\r\n",
            "1.4K snippet.vcf.gz.tbi\r\n"
          ],
          "name": "stdout"
        }
      ]
    },
    {
      "cell_type": "markdown",
      "metadata": {
        "id": "ufzFEuDcniw0",
        "colab_type": "text"
      },
      "source": [
        "Let's try to index a `gzip`-compressed file to observe what happens:"
      ]
    },
    {
      "cell_type": "code",
      "metadata": {
        "id": "y0Jy7LyznrqI",
        "colab_type": "code",
        "colab": {
          "base_uri": "https://localhost:8080/",
          "height": 34
        },
        "outputId": "58b89e32-5818-4771-89de-38d27403521e"
      },
      "source": [
        "!gzip -f -c snippet.vcf > snippet_gzip.vcf.gz\n",
        "!tabix snippet_gzip.vcf.gz"
      ],
      "execution_count": null,
      "outputs": [
        {
          "output_type": "stream",
          "text": [
            "[tabix] the compression of 'snippet_gzip.vcf.gz' is not BGZF\r\n"
          ],
          "name": "stdout"
        }
      ]
    },
    {
      "cell_type": "markdown",
      "metadata": {
        "id": "CSsA3gp5n0Q_",
        "colab_type": "text"
      },
      "source": [
        "Tabix tells us that the file has not been compressed with bgzip and consequently it cannot create an index file."
      ]
    },
    {
      "cell_type": "markdown",
      "metadata": {
        "id": "aWGSqbj8d088",
        "colab_type": "text"
      },
      "source": [
        "## Manipulating VCF files\n",
        "\n",
        "The section above has given an outline to the data contained within a VCF file and how the file is arranged. In this section we will highlight several methods for parsing the data contained within a VCF. We will first show how to read such files in Python, and then introduce the standard `bcftools` suite of programs."
      ]
    },
    {
      "cell_type": "markdown",
      "metadata": {
        "id": "B7GZfPGqOwT-",
        "colab_type": "text"
      },
      "source": [
        "### Reading VCF files with Python\n",
        "\n",
        "There are a variety of Python libraries that aim to provide reasonably intuitive access to the data contained within a VCF file. Here we will briefly introduce the specialist [`pysam.VariantFile`](https://pysam.readthedocs.io/en/latest/api.html#vcf-files) parser before using the Pandas library to manipulate the file as a basic tabular format.\n"
      ]
    },
    {
      "cell_type": "markdown",
      "metadata": {
        "id": "cVF7DD4zBqTn",
        "colab_type": "text"
      },
      "source": [
        "#### Using pysam\n",
        "\n",
        "Pysam provides a convenient Python implementation of the [`htslib`](http://www.htslib.org/) suite of `C`-libaries for handling a core set of bioinformatics file formats including VCF files. The library understands the layout of a VCF file and provides a set of functions and code objects representing the data stored with the file. Much of the below is based simply on the corresponding section of the Pysam [documentation](https://pysam.readthedocs.io/en/latest/usage.html#working-with-vcf-bcf-formatted-files).\n",
        "\n",
        "Let's jump right in. To iterate through the first few records in a VCF file using `pysam` and print the reference name, the reference position and the mutation implied by the variant record we can perform the following:"
      ]
    },
    {
      "cell_type": "code",
      "metadata": {
        "id": "iR3vbS-adz5G",
        "colab_type": "code",
        "colab": {
          "base_uri": "https://localhost:8080/",
          "height": 68
        },
        "outputId": "3410faf1-e602-4b75-b2ec-0f1df229aff7"
      },
      "source": [
        "import itertools\n",
        "from pysam import VariantFile\n",
        "\n",
        "# open the file\n",
        "vcf = VariantFile(input_file)\n",
        "# fetch the variants\n",
        "all_variants = vcf.fetch()\n",
        "# only look at 3 records\n",
        "variants = itertools.islice(all_variants, 3)\n",
        "\n",
        "for variant in variants:\n",
        "    print(variant.chrom, variant.pos, variant.ref, \">\", variant.alts[0])"
      ],
      "execution_count": null,
      "outputs": [
        {
          "output_type": "stream",
          "text": [
            "chr1 10108 C > CT\n",
            "chr1 10177 A > AC\n",
            "chr1 10257 A > C\n"
          ],
          "name": "stdout"
        }
      ]
    },
    {
      "cell_type": "markdown",
      "metadata": {
        "id": "fPcMiVwAQcU_",
        "colab_type": "text"
      },
      "source": [
        "Note how as discussed above the non-reference, alternative sequence (`ALT`) includes surrounding bases in the case of insertion and deletion variants.\n",
        "\n",
        "For each of the columns of a VCF file Pysam creates an attribute of the `variant` object. This makes it particularly easy to retrieve information. For example in order to filter variants to the more confident calls we can examine the `QUAL` field of the variant records. Let's print out the `INFO` field for higher quality variants (and report the occurence of lower quality variants). Pysam parses the the information stored within the `INFO` column into a `VariantRecordInfo` object which can be understood as a Python dictionary:"
      ]
    },
    {
      "cell_type": "code",
      "metadata": {
        "id": "xgo1RImpRP85",
        "colab_type": "code",
        "colab": {
          "base_uri": "https://localhost:8080/",
          "height": 187
        },
        "outputId": "fbab94f3-aa26-4250-a97b-94fd6dc453c7"
      },
      "source": [
        "# retrieve some data for the first 10 variants\n",
        "for variant in itertools.islice(vcf.fetch(), 10):\n",
        "    # print only variants with a high QUAL\n",
        "    if variant.qual > 7:\n",
        "        print(variant.chrom, variant.pos, variant.qual, dict(variant.info))\n",
        "    else:\n",
        "        print(\"  Bad variant at position:\", variant.pos)"
      ],
      "execution_count": null,
      "outputs": [
        {
          "output_type": "stream",
          "text": [
            "chr1 10108 14.90999984741211 {'pos1': (10108,), 'pos2': (10108,), 'q1': 10.989999771118164, 'q2': 18.829999923706055}\n",
            "  Bad variant at position: 10177\n",
            "  Bad variant at position: 10257\n",
            "chr1 10291 8.543999671936035 {'pos2': (10291,), 'q2': 8.543999671936035}\n",
            "chr1 10297 8.21500015258789 {'pos2': (10297,), 'q2': 8.21500015258789}\n",
            "  Bad variant at position: 10303\n",
            "  Bad variant at position: 10309\n",
            "  Bad variant at position: 10315\n",
            "  Bad variant at position: 10321\n",
            "  Bad variant at position: 10381\n"
          ],
          "name": "stdout"
        }
      ]
    },
    {
      "cell_type": "markdown",
      "metadata": {
        "id": "t5cwEHKmt2ta",
        "colab_type": "text"
      },
      "source": [
        "Viewing information from the header of the file is particularly easy:"
      ]
    },
    {
      "cell_type": "code",
      "metadata": {
        "id": "vG_ilPplt-OK",
        "colab_type": "code",
        "colab": {
          "base_uri": "https://localhost:8080/",
          "height": 105
        },
        "outputId": "ae02679c-6f62-4ca0-c34b-3bb163f79b27"
      },
      "source": [
        "print(\"contigs:\", list(vcf.header.contigs))\n",
        "print(\"filter values:\", list(vcf.header.filters))\n",
        "print(\"INFO subfields:\", list(vcf.header.info))\n",
        "print(\"samples:\", list(vcf.header.samples))"
      ],
      "execution_count": null,
      "outputs": [
        {
          "output_type": "stream",
          "text": [
            "contigs: ['chr1', 'chr2', 'chr3', 'chr4', 'chr5', 'chr6', 'chr7', 'chr8', 'chr9', 'chr10', 'chr11', 'chr12', 'chr13', 'chr14', 'chr15', 'chr16', 'chr17', 'chr18', 'chr19', 'chr20', 'chr21', 'chr22', 'chrX', 'chrY', 'chrM']\n",
            "filter values: ['PASS']\n",
            "INFO subfields: ['pos1', 'q1', 'pos2', 'q2']\n",
            "samples: ['SAMPLE']\n"
          ],
          "name": "stdout"
        }
      ]
    },
    {
      "cell_type": "markdown",
      "metadata": {
        "id": "y9u31POMuGZe",
        "colab_type": "text"
      },
      "source": [
        "The power of using Pysam to parse VCF files should not be underestimated as is provides a reliable, standards compliant way of accessing data. Not withstanding this fact we will now look at a second method for parsing VCF files in Python."
      ]
    },
    {
      "cell_type": "markdown",
      "metadata": {
        "id": "NvbnBL3CV0EV",
        "colab_type": "text"
      },
      "source": [
        "#### Using pandas\n",
        "\n",
        "We could continue to manipulate VCF files using `pysam` but for interaction with the Python ecosystem it can be easier to treat simply the VCF file as a standard data table using `pandas`. This allows us to leverage optimised functions for handling tabular data.\n",
        "\n",
        "For example the code below will parse the VCF in a way to allow easy plotting:"
      ]
    },
    {
      "cell_type": "code",
      "metadata": {
        "id": "nkIpBxM8o0mj",
        "colab_type": "code",
        "colab": {}
      },
      "source": [
        "import pandas as pd\n",
        "\n",
        "def parse_vcf(fname, info_cols=None, nrows=None):\n",
        "    \"\"\"Parse a VCF file. The INFO column is parsed to a dictionary.\n",
        "\n",
        "    :param info_cols: dict of field:dtype for INFO fields to store\n",
        "        as distinct column.\n",
        "    :param nrows: number of rows to read from file (including header). \n",
        "    \"\"\"\n",
        "    header = \"CHROM POS ID REF ALT QUAL FILTER INFO FORMAT GT\".split()\n",
        "    vcf = pd.read_csv(\n",
        "        fname, delimiter='\\t', comment='#', names=header, nrows=nrows)\n",
        "    # create a dictionary out of INFO\n",
        "    vcf['INFO'] = vcf['INFO'].str.split(\";\") \\\n",
        "        .apply(lambda x: dict([y.split(\"=\") for y in x]))\n",
        "    # add a column defining the type of the variant\n",
        "    rlen = vcf['REF'].apply(len)\n",
        "    alen = vcf['ALT'].apply(len)\n",
        "    vcf['type'] = 'sub'\n",
        "    vcf.loc[rlen > alen, 'type'] = 'del'\n",
        "    vcf.loc[rlen < alen, 'type'] = 'ins'\n",
        "    # add requested INFO subfields as columns\n",
        "    if info_cols is not None:\n",
        "        for field, dtype in info_cols.items():\n",
        "            try:\n",
        "                vcf[field] = vcf['INFO'].apply(lambda x: x.get(field, None))\n",
        "                vcf[field] = vcf[field].astype(dtype)\n",
        "            except:\n",
        "                pass\n",
        "    return vcf"
      ],
      "execution_count": null,
      "outputs": []
    },
    {
      "cell_type": "markdown",
      "metadata": {
        "id": "D7ikiMW6pGQW",
        "colab_type": "text"
      },
      "source": [
        "We can use this function to read our Medaka example VCF file and then create some basic plots:"
      ]
    },
    {
      "cell_type": "code",
      "metadata": {
        "id": "vodghZ4zV0Nh",
        "colab_type": "code",
        "cellView": "form",
        "colab": {
          "base_uri": "https://localhost:8080/",
          "height": 347
        },
        "outputId": "eeb71549-5ac1-4b2c-a2c4-6cabe6ba12cc"
      },
      "source": [
        "#@markdown **Parsing and plotting VCF data with pandas** *(click here to show code)*\n",
        "from bokeh.layouts import gridplot\n",
        "\n",
        "# read the file using the function described above\n",
        "vcf = parse_vcf(input_file, info_cols={'DP':int}, nrows=1000)\n",
        "\n",
        "# hack: the indexing here just makes things the same order\n",
        "counts = vcf['type'].value_counts()[['ins', 'sub', 'del']]\n",
        "count_plot = bars.simple_bar(\n",
        "    counts.index.tolist(), counts,\n",
        "    x_axis_label='Variant type', y_axis_label='Count',\n",
        "    title='Counts of variant types')\n",
        "qual_plot = bars.boxplot_series(\n",
        "    vcf['type'], vcf['QUAL'],\n",
        "    x_axis_label='Variant type', y_axis_label='QUAL',\n",
        "    title='Variant quality by type',\n",
        "    ylim=(0,100))\n",
        "aplanat.show(gridplot([count_plot, qual_plot], ncols=2))\n"
      ],
      "execution_count": null,
      "outputs": [
        {
          "output_type": "display_data",
          "data": {
            "application/javascript": [
              "\n",
              "(function(root) {\n",
              "  function now() {\n",
              "    return new Date();\n",
              "  }\n",
              "\n",
              "  var force = true;\n",
              "\n",
              "  if (typeof root._bokeh_onload_callbacks === \"undefined\" || force === true) {\n",
              "    root._bokeh_onload_callbacks = [];\n",
              "    root._bokeh_is_loading = undefined;\n",
              "  }\n",
              "\n",
              "  var JS_MIME_TYPE = 'application/javascript';\n",
              "  var HTML_MIME_TYPE = 'text/html';\n",
              "  var EXEC_MIME_TYPE = 'application/vnd.bokehjs_exec.v0+json';\n",
              "  var CLASS_NAME = 'output_bokeh rendered_html';\n",
              "\n",
              "  /**\n",
              "   * Render data to the DOM node\n",
              "   */\n",
              "  function render(props, node) {\n",
              "    var script = document.createElement(\"script\");\n",
              "    node.appendChild(script);\n",
              "  }\n",
              "\n",
              "  /**\n",
              "   * Handle when an output is cleared or removed\n",
              "   */\n",
              "  function handleClearOutput(event, handle) {\n",
              "    var cell = handle.cell;\n",
              "\n",
              "    var id = cell.output_area._bokeh_element_id;\n",
              "    var server_id = cell.output_area._bokeh_server_id;\n",
              "    // Clean up Bokeh references\n",
              "    if (id != null && id in Bokeh.index) {\n",
              "      Bokeh.index[id].model.document.clear();\n",
              "      delete Bokeh.index[id];\n",
              "    }\n",
              "\n",
              "    if (server_id !== undefined) {\n",
              "      // Clean up Bokeh references\n",
              "      var cmd = \"from bokeh.io.state import curstate; print(curstate().uuid_to_server['\" + server_id + \"'].get_sessions()[0].document.roots[0]._id)\";\n",
              "      cell.notebook.kernel.execute(cmd, {\n",
              "        iopub: {\n",
              "          output: function(msg) {\n",
              "            var id = msg.content.text.trim();\n",
              "            if (id in Bokeh.index) {\n",
              "              Bokeh.index[id].model.document.clear();\n",
              "              delete Bokeh.index[id];\n",
              "            }\n",
              "          }\n",
              "        }\n",
              "      });\n",
              "      // Destroy server and session\n",
              "      var cmd = \"import bokeh.io.notebook as ion; ion.destroy_server('\" + server_id + \"')\";\n",
              "      cell.notebook.kernel.execute(cmd);\n",
              "    }\n",
              "  }\n",
              "\n",
              "  /**\n",
              "   * Handle when a new output is added\n",
              "   */\n",
              "  function handleAddOutput(event, handle) {\n",
              "    var output_area = handle.output_area;\n",
              "    var output = handle.output;\n",
              "\n",
              "    // limit handleAddOutput to display_data with EXEC_MIME_TYPE content only\n",
              "    if ((output.output_type != \"display_data\") || (!output.data.hasOwnProperty(EXEC_MIME_TYPE))) {\n",
              "      return\n",
              "    }\n",
              "\n",
              "    var toinsert = output_area.element.find(\".\" + CLASS_NAME.split(' ')[0]);\n",
              "\n",
              "    if (output.metadata[EXEC_MIME_TYPE][\"id\"] !== undefined) {\n",
              "      toinsert[toinsert.length - 1].firstChild.textContent = output.data[JS_MIME_TYPE];\n",
              "      // store reference to embed id on output_area\n",
              "      output_area._bokeh_element_id = output.metadata[EXEC_MIME_TYPE][\"id\"];\n",
              "    }\n",
              "    if (output.metadata[EXEC_MIME_TYPE][\"server_id\"] !== undefined) {\n",
              "      var bk_div = document.createElement(\"div\");\n",
              "      bk_div.innerHTML = output.data[HTML_MIME_TYPE];\n",
              "      var script_attrs = bk_div.children[0].attributes;\n",
              "      for (var i = 0; i < script_attrs.length; i++) {\n",
              "        toinsert[toinsert.length - 1].firstChild.setAttribute(script_attrs[i].name, script_attrs[i].value);\n",
              "      }\n",
              "      // store reference to server id on output_area\n",
              "      output_area._bokeh_server_id = output.metadata[EXEC_MIME_TYPE][\"server_id\"];\n",
              "    }\n",
              "  }\n",
              "\n",
              "  function register_renderer(events, OutputArea) {\n",
              "\n",
              "    function append_mime(data, metadata, element) {\n",
              "      // create a DOM node to render to\n",
              "      var toinsert = this.create_output_subarea(\n",
              "        metadata,\n",
              "        CLASS_NAME,\n",
              "        EXEC_MIME_TYPE\n",
              "      );\n",
              "      this.keyboard_manager.register_events(toinsert);\n",
              "      // Render to node\n",
              "      var props = {data: data, metadata: metadata[EXEC_MIME_TYPE]};\n",
              "      render(props, toinsert[toinsert.length - 1]);\n",
              "      element.append(toinsert);\n",
              "      return toinsert\n",
              "    }\n",
              "\n",
              "    /* Handle when an output is cleared or removed */\n",
              "    events.on('clear_output.CodeCell', handleClearOutput);\n",
              "    events.on('delete.Cell', handleClearOutput);\n",
              "\n",
              "    /* Handle when a new output is added */\n",
              "    events.on('output_added.OutputArea', handleAddOutput);\n",
              "\n",
              "    /**\n",
              "     * Register the mime type and append_mime function with output_area\n",
              "     */\n",
              "    OutputArea.prototype.register_mime_type(EXEC_MIME_TYPE, append_mime, {\n",
              "      /* Is output safe? */\n",
              "      safe: true,\n",
              "      /* Index of renderer in `output_area.display_order` */\n",
              "      index: 0\n",
              "    });\n",
              "  }\n",
              "\n",
              "  // register the mime type if in Jupyter Notebook environment and previously unregistered\n",
              "  if (root.Jupyter !== undefined) {\n",
              "    var events = require('base/js/events');\n",
              "    var OutputArea = require('notebook/js/outputarea').OutputArea;\n",
              "\n",
              "    if (OutputArea.prototype.mime_types().indexOf(EXEC_MIME_TYPE) == -1) {\n",
              "      register_renderer(events, OutputArea);\n",
              "    }\n",
              "  }\n",
              "\n",
              "  \n",
              "  if (typeof (root._bokeh_timeout) === \"undefined\" || force === true) {\n",
              "    root._bokeh_timeout = Date.now() + 5000;\n",
              "    root._bokeh_failed_load = false;\n",
              "  }\n",
              "\n",
              "  var NB_LOAD_WARNING = {'data': {'text/html':\n",
              "     \"<div style='background-color: #fdd'>\\n\"+\n",
              "     \"<p>\\n\"+\n",
              "     \"BokehJS does not appear to have successfully loaded. If loading BokehJS from CDN, this \\n\"+\n",
              "     \"may be due to a slow or bad network connection. Possible fixes:\\n\"+\n",
              "     \"</p>\\n\"+\n",
              "     \"<ul>\\n\"+\n",
              "     \"<li>re-rerun `output_notebook()` to attempt to load from CDN again, or</li>\\n\"+\n",
              "     \"<li>use INLINE resources instead, as so:</li>\\n\"+\n",
              "     \"</ul>\\n\"+\n",
              "     \"<code>\\n\"+\n",
              "     \"from bokeh.resources import INLINE\\n\"+\n",
              "     \"output_notebook(resources=INLINE)\\n\"+\n",
              "     \"</code>\\n\"+\n",
              "     \"</div>\"}};\n",
              "\n",
              "  function display_loaded() {\n",
              "    var el = document.getElementById(null);\n",
              "    if (el != null) {\n",
              "      el.textContent = \"BokehJS is loading...\";\n",
              "    }\n",
              "    if (root.Bokeh !== undefined) {\n",
              "      if (el != null) {\n",
              "        el.textContent = \"BokehJS \" + root.Bokeh.version + \" successfully loaded.\";\n",
              "      }\n",
              "    } else if (Date.now() < root._bokeh_timeout) {\n",
              "      setTimeout(display_loaded, 100)\n",
              "    }\n",
              "  }\n",
              "\n",
              "\n",
              "  function run_callbacks() {\n",
              "    try {\n",
              "      root._bokeh_onload_callbacks.forEach(function(callback) {\n",
              "        if (callback != null)\n",
              "          callback();\n",
              "      });\n",
              "    } finally {\n",
              "      delete root._bokeh_onload_callbacks\n",
              "    }\n",
              "    console.debug(\"Bokeh: all callbacks have finished\");\n",
              "  }\n",
              "\n",
              "  function load_libs(css_urls, js_urls, callback) {\n",
              "    if (css_urls == null) css_urls = [];\n",
              "    if (js_urls == null) js_urls = [];\n",
              "\n",
              "    root._bokeh_onload_callbacks.push(callback);\n",
              "    if (root._bokeh_is_loading > 0) {\n",
              "      console.debug(\"Bokeh: BokehJS is being loaded, scheduling callback at\", now());\n",
              "      return null;\n",
              "    }\n",
              "    if (js_urls == null || js_urls.length === 0) {\n",
              "      run_callbacks();\n",
              "      return null;\n",
              "    }\n",
              "    console.debug(\"Bokeh: BokehJS not loaded, scheduling load and callback at\", now());\n",
              "    root._bokeh_is_loading = css_urls.length + js_urls.length;\n",
              "\n",
              "    function on_load() {\n",
              "      root._bokeh_is_loading--;\n",
              "      if (root._bokeh_is_loading === 0) {\n",
              "        console.debug(\"Bokeh: all BokehJS libraries/stylesheets loaded\");\n",
              "        run_callbacks()\n",
              "      }\n",
              "    }\n",
              "\n",
              "    function on_error() {\n",
              "      console.error(\"failed to load \" + url);\n",
              "    }\n",
              "\n",
              "    for (var i = 0; i < css_urls.length; i++) {\n",
              "      var url = css_urls[i];\n",
              "      const element = document.createElement(\"link\");\n",
              "      element.onload = on_load;\n",
              "      element.onerror = on_error;\n",
              "      element.rel = \"stylesheet\";\n",
              "      element.type = \"text/css\";\n",
              "      element.href = url;\n",
              "      console.debug(\"Bokeh: injecting link tag for BokehJS stylesheet: \", url);\n",
              "      document.body.appendChild(element);\n",
              "    }\n",
              "\n",
              "    for (var i = 0; i < js_urls.length; i++) {\n",
              "      var url = js_urls[i];\n",
              "      var element = document.createElement('script');\n",
              "      element.onload = on_load;\n",
              "      element.onerror = on_error;\n",
              "      element.async = false;\n",
              "      element.src = url;\n",
              "      console.debug(\"Bokeh: injecting script tag for BokehJS library: \", url);\n",
              "      document.head.appendChild(element);\n",
              "    }\n",
              "  };\n",
              "\n",
              "  function inject_raw_css(css) {\n",
              "    const element = document.createElement(\"style\");\n",
              "    element.appendChild(document.createTextNode(css));\n",
              "    document.body.appendChild(element);\n",
              "  }\n",
              "\n",
              "  \n",
              "  var js_urls = [\"https://cdn.pydata.org/bokeh/release/bokeh-1.4.0.min.js\", \"https://cdn.pydata.org/bokeh/release/bokeh-widgets-1.4.0.min.js\", \"https://cdn.pydata.org/bokeh/release/bokeh-tables-1.4.0.min.js\", \"https://cdn.pydata.org/bokeh/release/bokeh-gl-1.4.0.min.js\"];\n",
              "  var css_urls = [];\n",
              "  \n",
              "\n",
              "  var inline_js = [\n",
              "    function(Bokeh) {\n",
              "      Bokeh.set_log_level(\"info\");\n",
              "    },\n",
              "    function(Bokeh) {\n",
              "    \n",
              "    \n",
              "    }\n",
              "  ];\n",
              "\n",
              "  function run_inline_js() {\n",
              "    \n",
              "    if (root.Bokeh !== undefined || force === true) {\n",
              "      \n",
              "    for (var i = 0; i < inline_js.length; i++) {\n",
              "      inline_js[i].call(root, root.Bokeh);\n",
              "    }\n",
              "    } else if (Date.now() < root._bokeh_timeout) {\n",
              "      setTimeout(run_inline_js, 100);\n",
              "    } else if (!root._bokeh_failed_load) {\n",
              "      console.log(\"Bokeh: BokehJS failed to load within specified timeout.\");\n",
              "      root._bokeh_failed_load = true;\n",
              "    } else if (force !== true) {\n",
              "      var cell = $(document.getElementById(null)).parents('.cell').data().cell;\n",
              "      cell.output_area.append_execute_result(NB_LOAD_WARNING)\n",
              "    }\n",
              "\n",
              "  }\n",
              "\n",
              "  if (root._bokeh_is_loading === 0) {\n",
              "    console.debug(\"Bokeh: BokehJS loaded, going straight to plotting\");\n",
              "    run_inline_js();\n",
              "  } else {\n",
              "    load_libs(css_urls, js_urls, function() {\n",
              "      console.debug(\"Bokeh: BokehJS plotting callback run at\", now());\n",
              "      run_inline_js();\n",
              "    });\n",
              "  }\n",
              "}(window));"
            ],
            "application/vnd.bokehjs_load.v0+json": "\n(function(root) {\n  function now() {\n    return new Date();\n  }\n\n  var force = true;\n\n  if (typeof root._bokeh_onload_callbacks === \"undefined\" || force === true) {\n    root._bokeh_onload_callbacks = [];\n    root._bokeh_is_loading = undefined;\n  }\n\n  \n\n  \n  if (typeof (root._bokeh_timeout) === \"undefined\" || force === true) {\n    root._bokeh_timeout = Date.now() + 5000;\n    root._bokeh_failed_load = false;\n  }\n\n  var NB_LOAD_WARNING = {'data': {'text/html':\n     \"<div style='background-color: #fdd'>\\n\"+\n     \"<p>\\n\"+\n     \"BokehJS does not appear to have successfully loaded. If loading BokehJS from CDN, this \\n\"+\n     \"may be due to a slow or bad network connection. Possible fixes:\\n\"+\n     \"</p>\\n\"+\n     \"<ul>\\n\"+\n     \"<li>re-rerun `output_notebook()` to attempt to load from CDN again, or</li>\\n\"+\n     \"<li>use INLINE resources instead, as so:</li>\\n\"+\n     \"</ul>\\n\"+\n     \"<code>\\n\"+\n     \"from bokeh.resources import INLINE\\n\"+\n     \"output_notebook(resources=INLINE)\\n\"+\n     \"</code>\\n\"+\n     \"</div>\"}};\n\n  function display_loaded() {\n    var el = document.getElementById(null);\n    if (el != null) {\n      el.textContent = \"BokehJS is loading...\";\n    }\n    if (root.Bokeh !== undefined) {\n      if (el != null) {\n        el.textContent = \"BokehJS \" + root.Bokeh.version + \" successfully loaded.\";\n      }\n    } else if (Date.now() < root._bokeh_timeout) {\n      setTimeout(display_loaded, 100)\n    }\n  }\n\n\n  function run_callbacks() {\n    try {\n      root._bokeh_onload_callbacks.forEach(function(callback) {\n        if (callback != null)\n          callback();\n      });\n    } finally {\n      delete root._bokeh_onload_callbacks\n    }\n    console.debug(\"Bokeh: all callbacks have finished\");\n  }\n\n  function load_libs(css_urls, js_urls, callback) {\n    if (css_urls == null) css_urls = [];\n    if (js_urls == null) js_urls = [];\n\n    root._bokeh_onload_callbacks.push(callback);\n    if (root._bokeh_is_loading > 0) {\n      console.debug(\"Bokeh: BokehJS is being loaded, scheduling callback at\", now());\n      return null;\n    }\n    if (js_urls == null || js_urls.length === 0) {\n      run_callbacks();\n      return null;\n    }\n    console.debug(\"Bokeh: BokehJS not loaded, scheduling load and callback at\", now());\n    root._bokeh_is_loading = css_urls.length + js_urls.length;\n\n    function on_load() {\n      root._bokeh_is_loading--;\n      if (root._bokeh_is_loading === 0) {\n        console.debug(\"Bokeh: all BokehJS libraries/stylesheets loaded\");\n        run_callbacks()\n      }\n    }\n\n    function on_error() {\n      console.error(\"failed to load \" + url);\n    }\n\n    for (var i = 0; i < css_urls.length; i++) {\n      var url = css_urls[i];\n      const element = document.createElement(\"link\");\n      element.onload = on_load;\n      element.onerror = on_error;\n      element.rel = \"stylesheet\";\n      element.type = \"text/css\";\n      element.href = url;\n      console.debug(\"Bokeh: injecting link tag for BokehJS stylesheet: \", url);\n      document.body.appendChild(element);\n    }\n\n    for (var i = 0; i < js_urls.length; i++) {\n      var url = js_urls[i];\n      var element = document.createElement('script');\n      element.onload = on_load;\n      element.onerror = on_error;\n      element.async = false;\n      element.src = url;\n      console.debug(\"Bokeh: injecting script tag for BokehJS library: \", url);\n      document.head.appendChild(element);\n    }\n  };\n\n  function inject_raw_css(css) {\n    const element = document.createElement(\"style\");\n    element.appendChild(document.createTextNode(css));\n    document.body.appendChild(element);\n  }\n\n  \n  var js_urls = [\"https://cdn.pydata.org/bokeh/release/bokeh-1.4.0.min.js\", \"https://cdn.pydata.org/bokeh/release/bokeh-widgets-1.4.0.min.js\", \"https://cdn.pydata.org/bokeh/release/bokeh-tables-1.4.0.min.js\", \"https://cdn.pydata.org/bokeh/release/bokeh-gl-1.4.0.min.js\"];\n  var css_urls = [];\n  \n\n  var inline_js = [\n    function(Bokeh) {\n      Bokeh.set_log_level(\"info\");\n    },\n    function(Bokeh) {\n    \n    \n    }\n  ];\n\n  function run_inline_js() {\n    \n    if (root.Bokeh !== undefined || force === true) {\n      \n    for (var i = 0; i < inline_js.length; i++) {\n      inline_js[i].call(root, root.Bokeh);\n    }\n    } else if (Date.now() < root._bokeh_timeout) {\n      setTimeout(run_inline_js, 100);\n    } else if (!root._bokeh_failed_load) {\n      console.log(\"Bokeh: BokehJS failed to load within specified timeout.\");\n      root._bokeh_failed_load = true;\n    } else if (force !== true) {\n      var cell = $(document.getElementById(null)).parents('.cell').data().cell;\n      cell.output_area.append_execute_result(NB_LOAD_WARNING)\n    }\n\n  }\n\n  if (root._bokeh_is_loading === 0) {\n    console.debug(\"Bokeh: BokehJS loaded, going straight to plotting\");\n    run_inline_js();\n  } else {\n    load_libs(css_urls, js_urls, function() {\n      console.debug(\"Bokeh: BokehJS plotting callback run at\", now());\n      run_inline_js();\n    });\n  }\n}(window));"
          },
          "metadata": {
            "tags": []
          }
        },
        {
          "output_type": "display_data",
          "data": {
            "text/html": [
              "\n",
              "\n",
              "\n",
              "\n",
              "\n",
              "\n",
              "  <div class=\"bk-root\" id=\"62a451f1-8da4-47b7-a7bb-279abbe5e057\" data-root-id=\"8538\"></div>\n"
            ]
          },
          "metadata": {
            "tags": []
          }
        },
        {
          "output_type": "display_data",
          "data": {
            "application/javascript": [
              "(function(root) {\n",
              "  function embed_document(root) {\n",
              "    \n",
              "  var docs_json = {\"bcfe67b4-e047-4598-9127-c1a5377cf658\":{\"roots\":{\"references\":[{\"attributes\":{\"children\":[{\"id\":\"8537\",\"type\":\"ToolbarBox\"},{\"id\":\"8535\",\"type\":\"GridBox\"}]},\"id\":\"8538\",\"type\":\"Column\"},{\"attributes\":{\"text\":\"Variant quality by type\"},\"id\":\"8461\",\"type\":\"Title\"},{\"attributes\":{\"axis_label\":\"Variant type\",\"formatter\":{\"id\":\"8513\",\"type\":\"CategoricalTickFormatter\"},\"ticker\":{\"id\":\"8432\",\"type\":\"CategoricalTicker\"}},\"id\":\"8431\",\"type\":\"CategoricalAxis\"},{\"attributes\":{\"data_source\":{\"id\":\"8506\",\"type\":\"ColumnDataSource\"},\"glyph\":{\"id\":\"8507\",\"type\":\"VBar\"},\"hover_glyph\":null,\"muted_glyph\":null,\"nonselection_glyph\":{\"id\":\"8508\",\"type\":\"VBar\"},\"selection_glyph\":null,\"view\":{\"id\":\"8510\",\"type\":\"CDSView\"}},\"id\":\"8509\",\"type\":\"GlyphRenderer\"},{\"attributes\":{\"fill_alpha\":{\"value\":0.1},\"fill_color\":{\"value\":\"#1f77b4\"},\"line_alpha\":{\"value\":0.1},\"line_color\":{\"value\":\"#1f77b4\"},\"top\":{\"field\":\"top\"},\"width\":{\"value\":0.9},\"x\":{\"field\":\"x\"}},\"id\":\"8455\",\"type\":\"VBar\"},{\"attributes\":{\"line_alpha\":{\"value\":0.1},\"line_color\":{\"value\":\"#1f77b4\"},\"x0\":{\"field\":\"x0\"},\"x1\":{\"field\":\"x1\"},\"y0\":{\"field\":\"y0\"},\"y1\":{\"field\":\"y1\"}},\"id\":\"8493\",\"type\":\"Segment\"},{\"attributes\":{},\"id\":\"8465\",\"type\":\"CategoricalScale\"},{\"attributes\":{},\"id\":\"8525\",\"type\":\"UnionRenderers\"},{\"attributes\":{\"data_source\":{\"id\":\"8491\",\"type\":\"ColumnDataSource\"},\"glyph\":{\"id\":\"8492\",\"type\":\"Segment\"},\"hover_glyph\":null,\"muted_glyph\":null,\"nonselection_glyph\":{\"id\":\"8493\",\"type\":\"Segment\"},\"selection_glyph\":null,\"view\":{\"id\":\"8495\",\"type\":\"CDSView\"}},\"id\":\"8494\",\"type\":\"GlyphRenderer\"},{\"attributes\":{\"source\":{\"id\":\"8506\",\"type\":\"ColumnDataSource\"}},\"id\":\"8510\",\"type\":\"CDSView\"},{\"attributes\":{},\"id\":\"8427\",\"type\":\"CategoricalScale\"},{\"attributes\":{},\"id\":\"8467\",\"type\":\"LinearScale\"},{\"attributes\":{\"text\":\"Counts of variant types\"},\"id\":\"8421\",\"type\":\"Title\"},{\"attributes\":{\"callback\":null,\"factors\":[\"ins\",\"sub\",\"del\"]},\"id\":\"8458\",\"type\":\"FactorRange\"},{\"attributes\":{\"source\":{\"id\":\"8491\",\"type\":\"ColumnDataSource\"}},\"id\":\"8495\",\"type\":\"CDSView\"},{\"attributes\":{},\"id\":\"8526\",\"type\":\"Selection\"},{\"attributes\":{},\"id\":\"8529\",\"type\":\"UnionRenderers\"},{\"attributes\":{\"axis_label\":\"Variant type\",\"formatter\":{\"id\":\"8522\",\"type\":\"CategoricalTickFormatter\"},\"ticker\":{\"id\":\"8470\",\"type\":\"CategoricalTicker\"}},\"id\":\"8469\",\"type\":\"CategoricalAxis\"},{\"attributes\":{},\"id\":\"8441\",\"type\":\"WheelZoomTool\"},{\"attributes\":{},\"id\":\"8530\",\"type\":\"Selection\"},{\"attributes\":{\"source\":{\"id\":\"8453\",\"type\":\"ColumnDataSource\"}},\"id\":\"8457\",\"type\":\"CDSView\"},{\"attributes\":{},\"id\":\"8470\",\"type\":\"CategoricalTicker\"},{\"attributes\":{\"data_source\":{\"id\":\"8453\",\"type\":\"ColumnDataSource\"},\"glyph\":{\"id\":\"8454\",\"type\":\"VBar\"},\"hover_glyph\":null,\"muted_glyph\":null,\"nonselection_glyph\":{\"id\":\"8455\",\"type\":\"VBar\"},\"selection_glyph\":null,\"view\":{\"id\":\"8457\",\"type\":\"CDSView\"}},\"id\":\"8456\",\"type\":\"GlyphRenderer\"},{\"attributes\":{\"callback\":null,\"data\":{\"x0\":[\"del\",\"ins\",\"sub\"],\"x1\":[\"del\",\"ins\",\"sub\"],\"y0\":{\"__ndarray__\":\"ULgeheubPMA730+Nl3hHwIKVQ4tsmkXA\",\"dtype\":\"float64\",\"shape\":[3]},\"y1\":{\"__ndarray__\":\"TDeJQWClDEAEVg4tsk0gQBODwMqhZRxA\",\"dtype\":\"float64\",\"shape\":[3]}},\"selected\":{\"id\":\"8528\",\"type\":\"Selection\"},\"selection_policy\":{\"id\":\"8527\",\"type\":\"UnionRenderers\"}},\"id\":\"8496\",\"type\":\"ColumnDataSource\"},{\"attributes\":{},\"id\":\"8531\",\"type\":\"UnionRenderers\"},{\"attributes\":{},\"id\":\"8513\",\"type\":\"CategoricalTickFormatter\"},{\"attributes\":{\"ticker\":{\"id\":\"8470\",\"type\":\"CategoricalTicker\"}},\"id\":\"8472\",\"type\":\"Grid\"},{\"attributes\":{\"active_drag\":\"auto\",\"active_inspect\":\"auto\",\"active_multi\":null,\"active_scroll\":\"auto\",\"active_tap\":\"auto\",\"tools\":[{\"id\":\"8440\",\"type\":\"PanTool\"},{\"id\":\"8441\",\"type\":\"WheelZoomTool\"},{\"id\":\"8442\",\"type\":\"BoxZoomTool\"},{\"id\":\"8443\",\"type\":\"SaveTool\"},{\"id\":\"8444\",\"type\":\"ResetTool\"},{\"id\":\"8445\",\"type\":\"HelpTool\"}]},\"id\":\"8446\",\"type\":\"Toolbar\"},{\"attributes\":{\"x0\":{\"field\":\"x0\"},\"x1\":{\"field\":\"x1\"},\"y0\":{\"field\":\"y0\"},\"y1\":{\"field\":\"y1\"}},\"id\":\"8497\",\"type\":\"Segment\"},{\"attributes\":{},\"id\":\"8532\",\"type\":\"Selection\"},{\"attributes\":{},\"id\":\"8528\",\"type\":\"Selection\"},{\"attributes\":{\"dimension\":1,\"ticker\":{\"id\":\"8436\",\"type\":\"BasicTicker\"}},\"id\":\"8439\",\"type\":\"Grid\"},{\"attributes\":{\"axis_label\":\"QUAL\",\"formatter\":{\"id\":\"8524\",\"type\":\"BasicTickFormatter\"},\"ticker\":{\"id\":\"8474\",\"type\":\"BasicTicker\"}},\"id\":\"8473\",\"type\":\"LinearAxis\"},{\"attributes\":{},\"id\":\"8524\",\"type\":\"BasicTickFormatter\"},{\"attributes\":{\"line_alpha\":{\"value\":0.1},\"line_color\":{\"value\":\"#1f77b4\"},\"x0\":{\"field\":\"x0\"},\"x1\":{\"field\":\"x1\"},\"y0\":{\"field\":\"y0\"},\"y1\":{\"field\":\"y1\"}},\"id\":\"8498\",\"type\":\"Segment\"},{\"attributes\":{\"bottom_units\":\"screen\",\"fill_alpha\":{\"value\":0.5},\"fill_color\":{\"value\":\"lightgrey\"},\"left_units\":\"screen\",\"level\":\"overlay\",\"line_alpha\":{\"value\":1.0},\"line_color\":{\"value\":\"black\"},\"line_dash\":[4,4],\"line_width\":{\"value\":2},\"render_mode\":\"css\",\"right_units\":\"screen\",\"top_units\":\"screen\"},\"id\":\"8533\",\"type\":\"BoxAnnotation\"},{\"attributes\":{},\"id\":\"8445\",\"type\":\"HelpTool\"},{\"attributes\":{},\"id\":\"8429\",\"type\":\"LinearScale\"},{\"attributes\":{},\"id\":\"8474\",\"type\":\"BasicTicker\"},{\"attributes\":{\"children\":[[{\"id\":\"8420\",\"subtype\":\"Figure\",\"type\":\"Plot\"},0,0],[{\"id\":\"8460\",\"subtype\":\"Figure\",\"type\":\"Plot\"},0,1]]},\"id\":\"8535\",\"type\":\"GridBox\"},{\"attributes\":{\"data_source\":{\"id\":\"8496\",\"type\":\"ColumnDataSource\"},\"glyph\":{\"id\":\"8497\",\"type\":\"Segment\"},\"hover_glyph\":null,\"muted_glyph\":null,\"nonselection_glyph\":{\"id\":\"8498\",\"type\":\"Segment\"},\"selection_glyph\":null,\"view\":{\"id\":\"8500\",\"type\":\"CDSView\"}},\"id\":\"8499\",\"type\":\"GlyphRenderer\"},{\"attributes\":{},\"id\":\"8440\",\"type\":\"PanTool\"},{\"attributes\":{\"tools\":[{\"id\":\"8440\",\"type\":\"PanTool\"},{\"id\":\"8441\",\"type\":\"WheelZoomTool\"},{\"id\":\"8442\",\"type\":\"BoxZoomTool\"},{\"id\":\"8443\",\"type\":\"SaveTool\"},{\"id\":\"8444\",\"type\":\"ResetTool\"},{\"id\":\"8445\",\"type\":\"HelpTool\"},{\"id\":\"8478\",\"type\":\"PanTool\"},{\"id\":\"8479\",\"type\":\"WheelZoomTool\"},{\"id\":\"8480\",\"type\":\"BoxZoomTool\"},{\"id\":\"8481\",\"type\":\"SaveTool\"},{\"id\":\"8482\",\"type\":\"ResetTool\"},{\"id\":\"8483\",\"type\":\"HelpTool\"}]},\"id\":\"8536\",\"type\":\"ProxyToolbar\"},{\"attributes\":{\"dimension\":1,\"ticker\":{\"id\":\"8474\",\"type\":\"BasicTicker\"}},\"id\":\"8477\",\"type\":\"Grid\"},{\"attributes\":{\"source\":{\"id\":\"8496\",\"type\":\"ColumnDataSource\"}},\"id\":\"8500\",\"type\":\"CDSView\"},{\"attributes\":{\"toolbar\":{\"id\":\"8536\",\"type\":\"ProxyToolbar\"},\"toolbar_location\":\"above\"},\"id\":\"8537\",\"type\":\"ToolbarBox\"},{\"attributes\":{},\"id\":\"8527\",\"type\":\"UnionRenderers\"},{\"attributes\":{\"grid_line_color\":null,\"ticker\":{\"id\":\"8432\",\"type\":\"CategoricalTicker\"}},\"id\":\"8434\",\"type\":\"Grid\"},{\"attributes\":{\"x0\":{\"field\":\"x0\"},\"x1\":{\"field\":\"x1\"},\"y0\":{\"field\":\"y0\"},\"y1\":{\"field\":\"y1\"}},\"id\":\"8492\",\"type\":\"Segment\"},{\"attributes\":{\"fill_color\":{\"value\":\"#1f77b4\"},\"line_color\":{\"value\":\"#1f77b4\"},\"top\":{\"field\":\"top\"},\"width\":{\"value\":0.9},\"x\":{\"field\":\"x\"}},\"id\":\"8454\",\"type\":\"VBar\"},{\"attributes\":{},\"id\":\"8436\",\"type\":\"BasicTicker\"},{\"attributes\":{\"callback\":null,\"data\":{\"x0\":[\"del\",\"ins\",\"sub\"],\"x1\":[\"del\",\"ins\",\"sub\"],\"y0\":{\"__ndarray__\":\"0CLb+X6dTEAIrBxaZP5YQG8Sg8BKvFZA\",\"dtype\":\"float64\",\"shape\":[3]},\"y1\":{\"__ndarray__\":\"ZmZmZmYKOUBU46WbxHBGQPp+arx0UURA\",\"dtype\":\"float64\",\"shape\":[3]}},\"selected\":{\"id\":\"8526\",\"type\":\"Selection\"},\"selection_policy\":{\"id\":\"8525\",\"type\":\"UnionRenderers\"}},\"id\":\"8491\",\"type\":\"ColumnDataSource\"},{\"attributes\":{\"callback\":null,\"factors\":[\"ins\",\"sub\",\"del\"]},\"id\":\"8423\",\"type\":\"FactorRange\"},{\"attributes\":{\"callback\":null,\"data\":{\"bottom\":{\"__ndarray__\":\"ZmZmZmYKOUBU46WbxHBGQPp+arx0UURA\",\"dtype\":\"float64\",\"shape\":[3]},\"top\":{\"__ndarray__\":\"d76fGi8dF0CWQ4ts5wszQLTIdr6fyjpA\",\"dtype\":\"float64\",\"shape\":[3]},\"x\":[\"del\",\"ins\",\"sub\"]},\"selected\":{\"id\":\"8530\",\"type\":\"Selection\"},\"selection_policy\":{\"id\":\"8529\",\"type\":\"UnionRenderers\"}},\"id\":\"8501\",\"type\":\"ColumnDataSource\"},{\"attributes\":{},\"id\":\"8516\",\"type\":\"UnionRenderers\"},{\"attributes\":{\"below\":[{\"id\":\"8469\",\"type\":\"CategoricalAxis\"}],\"center\":[{\"id\":\"8472\",\"type\":\"Grid\"},{\"id\":\"8477\",\"type\":\"Grid\"}],\"left\":[{\"id\":\"8473\",\"type\":\"LinearAxis\"}],\"output_backend\":\"webgl\",\"plot_height\":300,\"renderers\":[{\"id\":\"8494\",\"type\":\"GlyphRenderer\"},{\"id\":\"8499\",\"type\":\"GlyphRenderer\"},{\"id\":\"8504\",\"type\":\"GlyphRenderer\"},{\"id\":\"8509\",\"type\":\"GlyphRenderer\"}],\"title\":{\"id\":\"8461\",\"type\":\"Title\"},\"toolbar\":{\"id\":\"8484\",\"type\":\"Toolbar\"},\"toolbar_location\":null,\"x_range\":{\"id\":\"8458\",\"type\":\"FactorRange\"},\"x_scale\":{\"id\":\"8465\",\"type\":\"CategoricalScale\"},\"y_range\":{\"id\":\"8459\",\"type\":\"Range1d\"},\"y_scale\":{\"id\":\"8467\",\"type\":\"LinearScale\"}},\"id\":\"8460\",\"subtype\":\"Figure\",\"type\":\"Plot\"},{\"attributes\":{\"callback\":null,\"start\":0},\"id\":\"8425\",\"type\":\"DataRange1d\"},{\"attributes\":{\"active_drag\":\"auto\",\"active_inspect\":\"auto\",\"active_multi\":null,\"active_scroll\":\"auto\",\"active_tap\":\"auto\",\"tools\":[{\"id\":\"8478\",\"type\":\"PanTool\"},{\"id\":\"8479\",\"type\":\"WheelZoomTool\"},{\"id\":\"8480\",\"type\":\"BoxZoomTool\"},{\"id\":\"8481\",\"type\":\"SaveTool\"},{\"id\":\"8482\",\"type\":\"ResetTool\"},{\"id\":\"8483\",\"type\":\"HelpTool\"}]},\"id\":\"8484\",\"type\":\"Toolbar\"},{\"attributes\":{\"bottom\":{\"field\":\"bottom\"},\"fill_color\":{\"value\":\"#1f77b4\"},\"top\":{\"field\":\"top\"},\"width\":{\"value\":0.8},\"x\":{\"field\":\"x\"}},\"id\":\"8502\",\"type\":\"VBar\"},{\"attributes\":{},\"id\":\"8478\",\"type\":\"PanTool\"},{\"attributes\":{},\"id\":\"8432\",\"type\":\"CategoricalTicker\"},{\"attributes\":{\"callback\":null,\"data\":{\"top\":[108,850,42],\"x\":[\"ins\",\"sub\",\"del\"]},\"selected\":{\"id\":\"8517\",\"type\":\"Selection\"},\"selection_policy\":{\"id\":\"8516\",\"type\":\"UnionRenderers\"}},\"id\":\"8453\",\"type\":\"ColumnDataSource\"},{\"attributes\":{},\"id\":\"8522\",\"type\":\"CategoricalTickFormatter\"},{\"attributes\":{\"bottom\":{\"field\":\"bottom\"},\"fill_alpha\":{\"value\":0.1},\"fill_color\":{\"value\":\"#1f77b4\"},\"line_alpha\":{\"value\":0.1},\"line_color\":{\"value\":\"#1f77b4\"},\"top\":{\"field\":\"top\"},\"width\":{\"value\":0.8},\"x\":{\"field\":\"x\"}},\"id\":\"8503\",\"type\":\"VBar\"},{\"attributes\":{},\"id\":\"8517\",\"type\":\"Selection\"},{\"attributes\":{},\"id\":\"8479\",\"type\":\"WheelZoomTool\"},{\"attributes\":{\"below\":[{\"id\":\"8431\",\"type\":\"CategoricalAxis\"}],\"center\":[{\"id\":\"8434\",\"type\":\"Grid\"},{\"id\":\"8439\",\"type\":\"Grid\"}],\"left\":[{\"id\":\"8435\",\"type\":\"LinearAxis\"}],\"output_backend\":\"webgl\",\"plot_height\":300,\"renderers\":[{\"id\":\"8456\",\"type\":\"GlyphRenderer\"}],\"title\":{\"id\":\"8421\",\"type\":\"Title\"},\"toolbar\":{\"id\":\"8446\",\"type\":\"Toolbar\"},\"toolbar_location\":null,\"x_range\":{\"id\":\"8423\",\"type\":\"FactorRange\"},\"x_scale\":{\"id\":\"8427\",\"type\":\"CategoricalScale\"},\"y_range\":{\"id\":\"8425\",\"type\":\"DataRange1d\"},\"y_scale\":{\"id\":\"8429\",\"type\":\"LinearScale\"}},\"id\":\"8420\",\"subtype\":\"Figure\",\"type\":\"Plot\"},{\"attributes\":{\"overlay\":{\"id\":\"8518\",\"type\":\"BoxAnnotation\"}},\"id\":\"8442\",\"type\":\"BoxZoomTool\"},{\"attributes\":{\"data_source\":{\"id\":\"8501\",\"type\":\"ColumnDataSource\"},\"glyph\":{\"id\":\"8502\",\"type\":\"VBar\"},\"hover_glyph\":null,\"muted_glyph\":null,\"nonselection_glyph\":{\"id\":\"8503\",\"type\":\"VBar\"},\"selection_glyph\":null,\"view\":{\"id\":\"8505\",\"type\":\"CDSView\"}},\"id\":\"8504\",\"type\":\"GlyphRenderer\"},{\"attributes\":{},\"id\":\"8515\",\"type\":\"BasicTickFormatter\"},{\"attributes\":{\"overlay\":{\"id\":\"8533\",\"type\":\"BoxAnnotation\"}},\"id\":\"8480\",\"type\":\"BoxZoomTool\"},{\"attributes\":{\"bounds\":[0,100],\"callback\":null,\"end\":100},\"id\":\"8459\",\"type\":\"Range1d\"},{\"attributes\":{\"source\":{\"id\":\"8501\",\"type\":\"ColumnDataSource\"}},\"id\":\"8505\",\"type\":\"CDSView\"},{\"attributes\":{},\"id\":\"8481\",\"type\":\"SaveTool\"},{\"attributes\":{},\"id\":\"8444\",\"type\":\"ResetTool\"},{\"attributes\":{\"axis_label\":\"Count\",\"formatter\":{\"id\":\"8515\",\"type\":\"BasicTickFormatter\"},\"ticker\":{\"id\":\"8436\",\"type\":\"BasicTicker\"}},\"id\":\"8435\",\"type\":\"LinearAxis\"},{\"attributes\":{},\"id\":\"8443\",\"type\":\"SaveTool\"},{\"attributes\":{\"bottom_units\":\"screen\",\"fill_alpha\":{\"value\":0.5},\"fill_color\":{\"value\":\"lightgrey\"},\"left_units\":\"screen\",\"level\":\"overlay\",\"line_alpha\":{\"value\":1.0},\"line_color\":{\"value\":\"black\"},\"line_dash\":[4,4],\"line_width\":{\"value\":2},\"render_mode\":\"css\",\"right_units\":\"screen\",\"top_units\":\"screen\"},\"id\":\"8518\",\"type\":\"BoxAnnotation\"},{\"attributes\":{},\"id\":\"8482\",\"type\":\"ResetTool\"},{\"attributes\":{\"callback\":null,\"data\":{\"bottom\":{\"__ndarray__\":\"d76fGi8dF0CWQ4ts5wszQLTIdr6fyjpA\",\"dtype\":\"float64\",\"shape\":[3]},\"top\":{\"__ndarray__\":\"TDeJQWClDEAEVg4tsk0gQBODwMqhZRxA\",\"dtype\":\"float64\",\"shape\":[3]},\"x\":[\"del\",\"ins\",\"sub\"]},\"selected\":{\"id\":\"8532\",\"type\":\"Selection\"},\"selection_policy\":{\"id\":\"8531\",\"type\":\"UnionRenderers\"}},\"id\":\"8506\",\"type\":\"ColumnDataSource\"},{\"attributes\":{\"bottom\":{\"field\":\"bottom\"},\"fill_color\":{\"value\":\"#1f77b4\"},\"top\":{\"field\":\"top\"},\"width\":{\"value\":0.8},\"x\":{\"field\":\"x\"}},\"id\":\"8507\",\"type\":\"VBar\"},{\"attributes\":{},\"id\":\"8483\",\"type\":\"HelpTool\"},{\"attributes\":{\"bottom\":{\"field\":\"bottom\"},\"fill_alpha\":{\"value\":0.1},\"fill_color\":{\"value\":\"#1f77b4\"},\"line_alpha\":{\"value\":0.1},\"line_color\":{\"value\":\"#1f77b4\"},\"top\":{\"field\":\"top\"},\"width\":{\"value\":0.8},\"x\":{\"field\":\"x\"}},\"id\":\"8508\",\"type\":\"VBar\"}],\"root_ids\":[\"8538\"]},\"title\":\"Bokeh Application\",\"version\":\"1.4.0\"}};\n",
              "  var render_items = [{\"docid\":\"bcfe67b4-e047-4598-9127-c1a5377cf658\",\"roots\":{\"8538\":\"62a451f1-8da4-47b7-a7bb-279abbe5e057\"}}];\n",
              "  root.Bokeh.embed.embed_items_notebook(docs_json, render_items);\n",
              "\n",
              "  }\n",
              "  if (root.Bokeh !== undefined) {\n",
              "    embed_document(root);\n",
              "  } else {\n",
              "    var attempts = 0;\n",
              "    var timer = setInterval(function(root) {\n",
              "      if (root.Bokeh !== undefined) {\n",
              "        clearInterval(timer);\n",
              "        embed_document(root);\n",
              "      } else {\n",
              "        attempts++;\n",
              "        if (attempts > 100) {\n",
              "          clearInterval(timer);\n",
              "          console.log(\"Bokeh: ERROR: Unable to run BokehJS code because BokehJS library is missing\");\n",
              "        }\n",
              "      }\n",
              "    }, 10, root)\n",
              "  }\n",
              "})(window);"
            ],
            "application/vnd.bokehjs_exec.v0+json": ""
          },
          "metadata": {
            "tags": [],
            "application/vnd.bokehjs_exec.v0+json": {
              "id": "8538"
            }
          }
        }
      ]
    },
    {
      "cell_type": "markdown",
      "metadata": {
        "id": "AHF92Tag3kKQ",
        "colab_type": "text"
      },
      "source": [
        "### Using bcftools\n",
        "\n",
        "Above we have shown two Python-based methods for interacting with VCF files. The first of these is useful for inspecting each variant in turn, whereas the second is useful for generic programming and creating views across variants.\n",
        "\n",
        "Finally we will introduce [`bcftools`](http://www.htslib.org/doc/bcftools.html), a set of command-line tools for manipulating VCF files and their binary cousins: BCF files. Perhaps one of the most useful parts of `bcftools` with which to get started is the [`bcftools query`](http://www.htslib.org/doc/bcftools.html#query) command. The query command can be used to format a VCF in a user defined fashion, whilst performing filtering.\n",
        "\n",
        "To create a:\n",
        "* tab-separated output, `--format '....'`\n",
        "* of variants in the range `chr1:100000-120000`,\n",
        "* of a high quality, `QUAL>30`\n",
        "* with genotype `1|0`\n",
        "* which are not single-nucleotide polymorphisms (`TYPE!=\"snp\"`)\n",
        "\n",
        "we can run the following incantation:"
      ]
    },
    {
      "cell_type": "code",
      "metadata": {
        "id": "HNgFU5D24yg1",
        "colab_type": "code",
        "colab": {
          "base_uri": "https://localhost:8080/",
          "height": 68
        },
        "outputId": "5274d9b9-84cf-4545-a9a8-9ab01c847991"
      },
      "source": [
        "!bcftools query \\\n",
        "    --format '%CHROM\\t%POS\\t%REF\\t%FIRST_ALT\\t%QUAL\\t%TYPE\\t[%GT]\\n' \\\n",
        "    -i 'CHROM==\"chr1\" && POS>100000 && POS <120000 && QUAL>30 && GT=\"1|0\" && TYPE!=\"snp\"' \\\n",
        "    $input_file 2>/dev/null | head"
      ],
      "execution_count": null,
      "outputs": [
        {
          "output_type": "stream",
          "text": [
            "chr1\t114544\tAAC\tA\t30.279\tINDEL\t1|0\r\n",
            "chr1\t115733\tA\tACT\t71.246\tINDEL\t1|0\r\n",
            "chr1\t118597\tA\tATAAT\t101.844\tINDEL\t1|0\r\n"
          ],
          "name": "stdout"
        }
      ]
    },
    {
      "cell_type": "markdown",
      "metadata": {
        "id": "lYoEF1hz7040",
        "colab_type": "text"
      },
      "source": [
        "This is just one small example. The [expressions](http://www.htslib.org/doc/bcftools.html#expressions) section of the documention is a useful resource for understanding how to query and filter VCF files."
      ]
    },
    {
      "cell_type": "markdown",
      "metadata": {
        "colab_type": "text",
        "id": "iF7WILGOwbI3"
      },
      "source": [
        "## Summary\n",
        "\n",
        "In this notebook we have introduced the Variant Call Format with an examplar file from the Medaka consensus and variant calling program. We have outlined the contents of such files and how they can be intepreted with a selection of common software packages.\n",
        "\n",
        "The code tools presented here can be run on any dataset from an Oxford Nanopore Technologies' device. The code will run within **Google Colab** when connected to a local **EPI2ME Labs** notebook server.\n",
        "\n",
        "[Back to EPI2ME Labs](https://colab.research.google.com/github/epi2me-labs/resources/blob/master/welcome.ipynb)\n"
      ]
    }
  ]
}