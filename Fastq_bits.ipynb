{
  "nbformat": 4,
  "nbformat_minor": 0,
  "metadata": {
    "colab": {
      "name": "Fastq_bits.ipynb",
      "provenance": [],
      "collapsed_sections": [
        "Yu8wQ5mc-69P",
        "vOwokQTOIZ0N",
        "huYtv1u3JDXn",
        "SXx3keHyNPKS",
        "qPBWIDOcVE6L"
      ],
      "toc_visible": true,
      "authorship_tag": "ABX9TyPpIZhKk6HbYibo6U24ecSJ",
      "include_colab_link": true
    },
    "kernelspec": {
      "name": "python3",
      "display_name": "Python 3"
    }
  },
  "cells": [
    {
      "cell_type": "markdown",
      "metadata": {
        "id": "view-in-github",
        "colab_type": "text"
      },
      "source": [
        "<a href=\"https://colab.research.google.com/github/epi2me-labs/tutorials/blob/fastq_things/Fastq_bits.ipynb\" target=\"_parent\"><img src=\"https://colab.research.google.com/assets/colab-badge.svg\" alt=\"Open In Colab\"/></a>"
      ]
    },
    {
      "cell_type": "markdown",
      "metadata": {
        "id": "BaB1no2n88vC",
        "colab_type": "text"
      },
      "source": [
        "# Fastq"
      ]
    },
    {
      "cell_type": "markdown",
      "metadata": {
        "id": "UzUZ_k5x86iT",
        "colab_type": "text"
      },
      "source": [
        "The [fastq format](https://en.wikipedia.org/wiki/FASTQ_format) is (usually) a 4 line string (text) data format denoting a sequence and it's corresponding quality score values.  There different ways of encoding quality in fastq however, nanopore reads use [sanger phred scores](https://academic.oup.com/nar/article/38/6/1767/3112533).  A sequence record is made up of 4 lines:\n",
        "\n",
        "```\n",
        "line 1: Sequence ID and Sequence description\n",
        "line 2: Sequence line e.g. ATCGs\n",
        "line 3: plus symbol (can additional description here)\n",
        "line 4: Sequence line qualities\n",
        "```\n",
        "**IMPORTANT:** Line 1 and line 2 must have the same length of the sequence record is not valid.\n",
        "\n",
        "```\n",
        "@sequence_id sequence_description\n",
        "ATCG\n",
        "+\n",
        "!^%%\n",
        "```\n",
        "The SEQUENCE_ID must not contain any spaces. Anything after the first space in the sequence id line will be considered \"description\".\n",
        "\n",
        "A fastq file contains multiple records. The default number of records in a fastq file generated during a nanopore run is 4000 reads (16000 lines).  \n"
      ]
    },
    {
      "cell_type": "markdown",
      "metadata": {
        "id": "Yu8wQ5mc-69P",
        "colab_type": "text"
      },
      "source": [
        "### How many records in my fastq file?"
      ]
    },
    {
      "cell_type": "code",
      "metadata": {
        "id": "f-e8UiQE8qyw",
        "colab_type": "code",
        "colab": {
          "base_uri": "https://localhost:8080/",
          "height": 34
        },
        "outputId": "71c7ef29-c4cb-4bcd-dd5e-2a686fa395cb"
      },
      "source": [
        "filename = \"test.fastq\"  #@param {type: \"string\"}\n",
        "!echo $(( `cat $filename | wc -l` / 4 )) reads"
      ],
      "execution_count": 22,
      "outputs": [
        {
          "output_type": "stream",
          "text": [
            "15076 reads\r\n"
          ],
          "name": "stdout"
        }
      ]
    },
    {
      "cell_type": "markdown",
      "metadata": {
        "id": "vOwokQTOIZ0N",
        "colab_type": "text"
      },
      "source": [
        "### List all the fastqs in a directory"
      ]
    },
    {
      "cell_type": "code",
      "metadata": {
        "id": "Toslxto7HgIn",
        "colab_type": "code",
        "colab": {
          "base_uri": "https://localhost:8080/",
          "height": 68
        },
        "outputId": "1d26f9f0-75be-4e6f-aaed-8796d28c5333"
      },
      "source": [
        "directory = \".\" #@param {type: \"string\"}\n",
        "\n",
        "!find $directory -name \"*.fastq\""
      ],
      "execution_count": 31,
      "outputs": [
        {
          "output_type": "stream",
          "text": [
            "./test.fastq\r\n",
            "./test_dir/test.fastq\r\n",
            "./test_dir/test_dir2/test2.fastq\r\n"
          ],
          "name": "stdout"
        }
      ]
    },
    {
      "cell_type": "markdown",
      "metadata": {
        "id": "huYtv1u3JDXn",
        "colab_type": "text"
      },
      "source": [
        "### Cat all fastqs in a directory into a single file"
      ]
    },
    {
      "cell_type": "code",
      "metadata": {
        "id": "F2kqVNt886Rd",
        "colab_type": "code",
        "colab": {
          "base_uri": "https://localhost:8080/",
          "height": 34
        },
        "outputId": "2aeb0361-fea8-4a62-92a6-8568698d6ead"
      },
      "source": [
        "directory = \".\" #@param {type: \"string\"}\n",
        "output_fastq = \"total.fastq\" #@param {type: \"string\"}\n",
        "\n",
        "!find . -type f \\( -iname \"*.fastq\" ! -iname $output_fastq \\) | xargs cat > $output_fastq\n",
        "!wc -l $output_fastq"
      ],
      "execution_count": 59,
      "outputs": [
        {
          "output_type": "stream",
          "text": [
            "180912 total.fastq\r\n"
          ],
          "name": "stdout"
        }
      ]
    },
    {
      "cell_type": "markdown",
      "metadata": {
        "id": "SXx3keHyNPKS",
        "colab_type": "text"
      },
      "source": [
        "### Remove all duplicates in a fastq\n"
      ]
    },
    {
      "cell_type": "code",
      "metadata": {
        "id": "dgl4TSS2NrB1",
        "colab_type": "code",
        "colab": {
          "base_uri": "https://localhost:8080/",
          "height": 51
        },
        "cellView": "form",
        "outputId": "94c04333-c645-4f3c-d1eb-636b93b0628b"
      },
      "source": [
        "from Bio import SeqIO\n",
        "from progressbar import ProgressBar\n",
        "\n",
        "input_fastq = \"total.fastq\" #@param {type: \"string\"}\n",
        "output_fastq = \"total_without_duplicates.fastq\" #@param {type: \"string\"}\n",
        "\n",
        "#@markdown If you want to keep the records with duplicates and just alter the\n",
        "#@markdown IDs tick here:\n",
        "id_addition = True #@param {type: \"boolean\"}\n",
        "\n",
        "new_fastq = {}\n",
        "for i, record in enumerate(SeqIO.parse(input_fastq, \"fastq\")):\n",
        "  if id_addition:\n",
        "    record.id = record.id + \"_{}\".format(i)\n",
        "  new_fastq[record.id] = record\n",
        "\n",
        "new_fastq_records = new_fastq.values()\n",
        "print(\"Records found: {} | Records kept: {}\".format(i + 1, len(new_fastq)))\n",
        "\n",
        "with ProgressBar(max_value=len(new_fastq)) as bar:\n",
        "  with open(output_fastq, \"w\") as f:\n",
        "    SeqIO.write(new_fastq_records, handle=f, format=\"fastq\")\n",
        "    bar.update(1)"
      ],
      "execution_count": 91,
      "outputs": [
        {
          "output_type": "stream",
          "text": [
            "Records found: 45228 | Records kept: 45228\n"
          ],
          "name": "stdout"
        },
        {
          "output_type": "stream",
          "text": [
            "100% (45228 of 45228) |##################| Elapsed Time: 0:00:00 Time:  0:00:00\n"
          ],
          "name": "stderr"
        }
      ]
    },
    {
      "cell_type": "markdown",
      "metadata": {
        "id": "qPBWIDOcVE6L",
        "colab_type": "text"
      },
      "source": [
        "###Compress or extract a fastq file"
      ]
    },
    {
      "cell_type": "code",
      "metadata": {
        "id": "gzW6vTXMVKcr",
        "colab_type": "code",
        "colab": {
          "base_uri": "https://localhost:8080/",
          "height": 34
        },
        "outputId": "626d6ee9-277f-4207-f0be-177dc3cc3b1f"
      },
      "source": [
        "#@markdown Compress the fastq\n",
        "input_fastq = \"total.fastq\" #@param {type: \"string\"}\n",
        "compressed_fastq = \"total.fastq.tar.gz\" #@param {type: \"string\"}\n",
        "!tar -czvf $compressed_fastq $input_fastq"
      ],
      "execution_count": 96,
      "outputs": [
        {
          "output_type": "stream",
          "text": [
            "total.fastq\r\n"
          ],
          "name": "stdout"
        }
      ]
    },
    {
      "cell_type": "code",
      "metadata": {
        "id": "6MRicIUUWLPc",
        "colab_type": "code",
        "colab": {
          "base_uri": "https://localhost:8080/",
          "height": 102
        },
        "outputId": "9d3d1d2d-b967-4571-9982-2c4ef96b8ff5"
      },
      "source": [
        "#@markdown Extract the compressed fastq\n",
        "input_tar_gz = \"total.fastq.tar.gz\" #@param {type: \"string\"}\n",
        "!tar -xvf $input_tar_gz "
      ],
      "execution_count": 94,
      "outputs": [
        {
          "output_type": "stream",
          "text": [
            "tar: Ignoring unknown extended header keyword 'LIBARCHIVE.creationtime'\r\n",
            "tar: Ignoring unknown extended header keyword 'SCHILY.dev'\r\n",
            "tar: Ignoring unknown extended header keyword 'SCHILY.ino'\r\n",
            "tar: Ignoring unknown extended header keyword 'SCHILY.nlink'\r\n",
            "total.fastq\r\n"
          ],
          "name": "stdout"
        }
      ]
    }
  ]
}