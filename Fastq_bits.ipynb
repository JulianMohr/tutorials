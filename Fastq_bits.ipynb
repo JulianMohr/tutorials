{
  "nbformat": 4,
  "nbformat_minor": 0,
  "metadata": {
    "colab": {
      "name": "Fastq_bits.ipynb",
      "provenance": [],
      "collapsed_sections": [
        "Yu8wQ5mc-69P",
        "vOwokQTOIZ0N",
        "huYtv1u3JDXn",
        "SXx3keHyNPKS",
        "qPBWIDOcVE6L"
      ],
      "toc_visible": true,
      "include_colab_link": true
    },
    "kernelspec": {
      "name": "python3",
      "display_name": "Python 3"
    }
  },
  "cells": [
    {
      "cell_type": "markdown",
      "metadata": {
        "id": "view-in-github",
        "colab_type": "text"
      },
      "source": [
        "<a href=\"https://colab.research.google.com/github/epi2me-labs/tutorials/blob/fastq_things/Fastq_bits.ipynb\" target=\"_parent\"><img src=\"https://colab.research.google.com/assets/colab-badge.svg\" alt=\"Open In Colab\"/></a>"
      ]
    },
    {
      "cell_type": "markdown",
      "metadata": {
        "id": "UzUZ_k5x86iT",
        "colab_type": "text"
      },
      "source": [
        "<h1>Fastq</h1>\n",
        "\n",
        "The [fastq format](https://en.wikipedia.org/wiki/FASTQ_format) is (usually) a 4 line string (text) data format denoting a sequence and it's corresponding quality score values.  There different ways of encoding quality in a `.fastq` file however, nanopore reads use [sanger phred scores](https://academic.oup.com/nar/article/38/6/1767/3112533).  A sequence record is made up of 4 lines:\n",
        "\n",
        "```\n",
        "line 1: Sequence ID and Sequence description\n",
        "line 2: Sequence line e.g. ATCGs\n",
        "line 3: plus symbol (can additionally have description here)\n",
        "line 4: Sequence line qualities\n",
        "```\n",
        "**IMPORTANT:** Line 1 and line 2 must have the same length of the sequence record is not valid.\n",
        "\n",
        "For example a sample record looks like:\n",
        "\n",
        "```\n",
        "@sequence_id sequence_description\n",
        "ATCG\n",
        "+\n",
        "!^%%\n",
        "```\n",
        "The sequence ID must not contain any spaces. Anything after the first space in the sequence ID line will be considered the \"description\".\n",
        "\n",
        "A `.fastq` file may contain multiple records. The default number of records in a fastq file generated during a nanopore run is 4000 reads (16000 lines).\n"
      ]
    },
    {
      "cell_type": "markdown",
      "metadata": {
        "id": "cc8B6dK8qvUQ",
        "colab_type": "text"
      },
      "source": [
        "## Useful snippets\n",
        "\n",
        "The following snippets demonstrate common tasks you might want to perform on a single `.fastq` file or a set of such files. For many tasks we recommend the excellent [seqkit](https://github.com/shenwei356/seqkit) program.\n",
        "\n",
        "To run the examples below, first download the sample data:"
      ]
    },
    {
      "cell_type": "code",
      "metadata": {
        "id": "8v1X7_9RxOKP",
        "colab_type": "code",
        "colab": {}
      },
      "source": [
        ""
      ],
      "execution_count": 0,
      "outputs": []
    },
    {
      "cell_type": "code",
      "metadata": {
        "id": "vPF_Wj3_YAJH",
        "colab_type": "code",
        "outputId": "a73d7460-6378-4c2c-a431-2aeff67f9404",
        "colab": {
          "base_uri": "https://localhost:8080/",
          "height": 34
        }
      },
      "source": [
        "# create a work directory and move into it\n",
        "directory = \"fastq_tutorial\"\n",
        "working_dir='/home/jovyan/work/{}/'.format(directory)\n",
        "!mkdir -p \"$working_dir\"\n",
        "%cd \"$working_dir\""
      ],
      "execution_count": 1,
      "outputs": [
        {
          "output_type": "stream",
          "text": [
            "/home/jovyan/work/fastq_tutorial\n"
          ],
          "name": "stdout"
        }
      ]
    },
    {
      "cell_type": "markdown",
      "metadata": {
        "id": "Yu8wQ5mc-69P",
        "colab_type": "text"
      },
      "source": [
        "#### How many records in my `.fastq` file?\n",
        "\n",
        "To count the number of records in a `.fastq` file we can use the linux [word count](https://linux.die.net/man/1/wc) command to count the number of lines in a file, with a division by four accounting for four lines per record:"
      ]
    },
    {
      "cell_type": "code",
      "metadata": {
        "id": "f-e8UiQE8qyw",
        "colab_type": "code",
        "outputId": "d5b30fc1-7736-47cd-a64f-ffbb569e334e",
        "colab": {
          "base_uri": "https://localhost:8080/",
          "height": 34
        },
        "cellView": "both"
      },
      "source": [
        "filename = \"test.fastq\"  #@param {type: \"string\"}\n",
        "!echo $(( $(wc -l < $filename) / 4 )) reads"
      ],
      "execution_count": 3,
      "outputs": [
        {
          "output_type": "stream",
          "text": [
            "4000 reads\r\n"
          ],
          "name": "stdout"
        }
      ]
    },
    {
      "cell_type": "markdown",
      "metadata": {
        "id": "vOwokQTOIZ0N",
        "colab_type": "text"
      },
      "source": [
        "#### List all the fastqs in a directory\n",
        "\n",
        "As Oxford Nanopore Technologies' sequencing devices output multiple `.fastq` files during the course of an experiment, it can be useful to find and list all such files. We can do this with the linux [find](https://linux.die.net/man/1/find) command:"
      ]
    },
    {
      "cell_type": "code",
      "metadata": {
        "id": "Toslxto7HgIn",
        "colab_type": "code",
        "outputId": "b3a9dbcb-5a6e-4cca-97d5-de10818c2076",
        "colab": {
          "base_uri": "https://localhost:8080/",
          "height": 68
        }
      },
      "source": [
        "directory = \".\" #@param {type: \"string\"}\n",
        "\n",
        "!find $directory -name \"*.fastq\""
      ],
      "execution_count": 5,
      "outputs": [
        {
          "output_type": "stream",
          "text": [
            "./test0/fail/test.fastq\r\n",
            "./test0/pass/test.fastq\r\n",
            "./test.fastq\r\n"
          ],
          "name": "stdout"
        }
      ]
    },
    {
      "cell_type": "markdown",
      "metadata": {
        "id": "zMt6_aeYsudk",
        "colab_type": "text"
      },
      "source": [
        "The default directory value here (`.`) means \"the current working directory.\""
      ]
    },
    {
      "cell_type": "markdown",
      "metadata": {
        "id": "huYtv1u3JDXn",
        "colab_type": "text"
      },
      "source": [
        "#### Concatenate all fastqs in a directory into a single file\n",
        "\n",
        "Many bioinformatics programs require all sequence data to be present in a single `.fastq` file. In order to process sequences across multiple files we must concatenate (or \"cat\") all the `.fastq` files into a single consolidated file. To perform this task we can use a combination of the linux [find](https://linux.die.net/man/1/find), [xargs](https://linux.die.net/man/1/xargs), and [cat](https://linux.die.net/man/1/cat) commands:"
      ]
    },
    {
      "cell_type": "code",
      "metadata": {
        "id": "F2kqVNt886Rd",
        "colab_type": "code",
        "outputId": "1793ea01-f41f-45e1-dd72-697e4820020a",
        "colab": {
          "base_uri": "https://localhost:8080/",
          "height": 34
        }
      },
      "source": [
        "directory = \".\" #@param {type: \"string\"}\n",
        "output_fastq = \"all_records.fastq\" #@param {type: \"string\"}\n",
        "\n",
        "!find . -type f \\( -iname \"*.fastq\" ! -iname $output_fastq \\) | \\\n",
        "    xargs cat > $output_fastq\n",
        "!echo $(( $(wc -l < $output_fastq) / 4 )) reads"
      ],
      "execution_count": 8,
      "outputs": [
        {
          "output_type": "stream",
          "text": [
            "12000 reads\r\n"
          ],
          "name": "stdout"
        }
      ]
    },
    {
      "cell_type": "markdown",
      "metadata": {
        "id": "Ze2sQyDht1ol",
        "colab_type": "text"
      },
      "source": [
        "Again the default directory value here (`.`) means \"the current working directory.\"\n",
        "\n",
        "You may often see a simple form of the above:\n",
        "\n",
        "    cat *.fastq > output.fastq\n",
        "\n",
        "however, this command will fail if the number of `.fastq` files found is very large."
      ]
    },
    {
      "cell_type": "markdown",
      "metadata": {
        "id": "SXx3keHyNPKS",
        "colab_type": "text"
      },
      "source": [
        "#### Remove all duplicates in a fastq\n",
        "\n",
        "In can sometimes be the case that for some reason a `.fastq` file contains duplicates of the same read. To remove these we can use the [`rmdup`](https://bioinf.shenwei.me/seqkit/usage/#rmdup) command of the [seqkit](https://github.com/shenwei356/seqkit) program:"
      ]
    },
    {
      "cell_type": "code",
      "metadata": {
        "id": "dgl4TSS2NrB1",
        "colab_type": "code",
        "cellView": "both",
        "outputId": "c16d90d4-2666-440b-8ed8-0fa9db6feee0",
        "colab": {
          "base_uri": "https://localhost:8080/",
          "height": 34
        }
      },
      "source": [
        "input_fastq = \"all_records.fastq\" #@param {type: \"string\"}\n",
        "output_fastq = \"deduplicated.fastq\" #@param {type: \"string\"}\n",
        "\n",
        "!seqkit rmdup \"$input_fastq\" -o \"$output_fastq\""
      ],
      "execution_count": 9,
      "outputs": [
        {
          "output_type": "stream",
          "text": [
            "[INFO]\u001b[0m 8000 duplicated records removed\r\n"
          ],
          "name": "stdout"
        }
      ]
    },
    {
      "cell_type": "markdown",
      "metadata": {
        "id": "TJh81ziw4ltw",
        "colab_type": "text"
      },
      "source": [
        "For the example data, 8000 duplicate records are identified because the three files (containing 4000 records each) are in fact copies of the same file."
      ]
    },
    {
      "cell_type": "markdown",
      "metadata": {
        "id": "qPBWIDOcVE6L",
        "colab_type": "text"
      },
      "source": [
        "#### Compress or extract a fastq file\n",
        "\n",
        "We can save hard disk space on our computer by compressing `.fastq` files. To do this we recommend using [`bgzip`](http://www.htslib.org/doc/bgzip.html) which allows for indexing and fast retrieval of sequences by bioinformatics programs:"
      ]
    },
    {
      "cell_type": "code",
      "metadata": {
        "id": "gzW6vTXMVKcr",
        "colab_type": "code",
        "outputId": "0d8cd33d-3bbc-4d3c-bbf1-d1c5f9626a85",
        "colab": {
          "base_uri": "https://localhost:8080/",
          "height": 51
        }
      },
      "source": [
        "#@markdown Compress the fastq\n",
        "input_fastq = \"test.fastq\" #@param {type: \"string\"}\n",
        "compressed_fastq = \"test.fastq.gz\" #@param {type: \"string\"}\n",
        "!ls -lh \"$input_fastq\"\n",
        "!bgzip \"$input_fastq\"\n",
        "!ls -lh \"$compressed_fastq\""
      ],
      "execution_count": 21,
      "outputs": [
        {
          "output_type": "stream",
          "text": [
            "-rw-r--r-- 1 jovyan users 70M Mar 16 10:17 test.fastq\n",
            "-rw-r--r-- 1 jovyan users 36M Mar 16 10:18 test.fastq.gz\n"
          ],
          "name": "stdout"
        }
      ]
    },
    {
      "cell_type": "markdown",
      "metadata": {
        "id": "ELqn2HOS2YdF",
        "colab_type": "text"
      },
      "source": [
        "The size of the compressed file is roughly half of the original. To decompress the compress file, we again use `bgzip`:"
      ]
    },
    {
      "cell_type": "code",
      "metadata": {
        "id": "6MRicIUUWLPc",
        "colab_type": "code",
        "colab": {}
      },
      "source": [
        "#@markdown Extract the compressed fastq\n",
        "compressed_fastq = \"test.fastq.gz\" #@param {type: \"string\"}\n",
        "!bgzip -d \"$compressed_fastq\""
      ],
      "execution_count": 0,
      "outputs": []
    },
    {
      "cell_type": "markdown",
      "metadata": {
        "id": "IXvB3Kpq3MQJ",
        "colab_type": "text"
      },
      "source": [
        "#### Compress a directory structure\n",
        "\n",
        "In order to compress a directory structure we can use the linux [`tar`](https://linux.die.net/man/1/tar) command with the compression option: "
      ]
    },
    {
      "cell_type": "code",
      "metadata": {
        "id": "J7cNxaaC3iAw",
        "colab_type": "code",
        "colab": {
          "base_uri": "https://localhost:8080/",
          "height": 102
        },
        "outputId": "78a86a1d-6ff6-4324-ce5b-0767d436387c"
      },
      "source": [
        "directory = \"test0\" #@param {type: \"string\"}\n",
        "archive = \"archive.tar.gz\" #@param {type: \"string\"}\n",
        "\n",
        "# the options here mean: create, gzip compress, verbose, output file\n",
        "!tar -czvf \"$archive\" \"$directory\""
      ],
      "execution_count": 23,
      "outputs": [
        {
          "output_type": "stream",
          "text": [
            "test0/\r\n",
            "test0/fail/\r\n",
            "test0/fail/test.fastq\n",
            "test0/pass/\n",
            "test0/pass/test.fastq\n"
          ],
          "name": "stdout"
        }
      ]
    },
    {
      "cell_type": "markdown",
      "metadata": {
        "id": "3olXzFLP34Kd",
        "colab_type": "text"
      },
      "source": [
        "When compressing directories and their contents in this way it is good practice to compress a single top-level directory, so that when the archive is decompressed a single top-level directory is retrieved (and the users working directory isn't polluted).\n",
        "\n",
        "To decompress the archive we use a similar command:"
      ]
    },
    {
      "cell_type": "code",
      "metadata": {
        "id": "nCZ_MzoE42pN",
        "colab_type": "code",
        "colab": {
          "base_uri": "https://localhost:8080/",
          "height": 102
        },
        "outputId": "b9fe0808-a392-4052-a0b6-7c358a6da549"
      },
      "source": [
        "archive = \"archive.tar.gz\" #@param {type: \"string\"}\n",
        "\n",
        "# A temporary folder (tmp) is created here simply to avoid confusion with the\n",
        "# original directory compressed in the previous example. This is not necessary\n",
        "# in practice.\n",
        "\n",
        "# the options here mean: extract, gzip compressed, verbose, input file\n",
        "!rm -rf tmp && mkdir tmp && cd tmp && \\\n",
        "    tar -xzvf ../\"$archive\""
      ],
      "execution_count": 26,
      "outputs": [
        {
          "output_type": "stream",
          "text": [
            "test0/\r\n",
            "test0/fail/\r\n",
            "test0/fail/test.fastq\n",
            "test0/pass/\n",
            "test0/pass/test.fastq\n"
          ],
          "name": "stdout"
        }
      ]
    }
  ]
}