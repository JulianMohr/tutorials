{
  "nbformat": 4,
  "nbformat_minor": 0,
  "metadata": {
    "colab": {
      "name": "Introduction to Pychopper",
      "provenance": [],
      "collapsed_sections": [],
      "toc_visible": true,
      "include_colab_link": true
    },
    "kernelspec": {
      "name": "python3",
      "display_name": "Python 3"
    }
  },
  "cells": [
    {
      "cell_type": "markdown",
      "metadata": {
        "id": "view-in-github",
        "colab_type": "text"
      },
      "source": [
        "<a href=\"https://colab.research.google.com/github/epi2me-labs/tutorials/blob/master/Introduction_to_Pychopper.ipynb\" target=\"_parent\"><img src=\"https://colab.research.google.com/assets/colab-badge.svg\" alt=\"Open In Colab\"/></a>"
      ]
    },
    {
      "cell_type": "markdown",
      "metadata": {
        "id": "eyhWQcLLP6Kt",
        "colab_type": "text"
      },
      "source": [
        "<h1>Introduction to Pychopper</h1>\n",
        "\n",
        "Pychopper is a tool to identify, orient and trim full-length Nanopore cDNA reads. It acts as a QC and filtering step in more complicated cDNA workflows.\n",
        "\n",
        "The tutorial contains a sample D. melanogaster cDNA `.fastq` dataset but you can run your own dataset by following the instructions in **Using your own data**. Please note that if you wish to analyse your own data you must supply an untrimmed cDNA `.fastq`, i.e. the direct output of the sequencing device.\n",
        "\n",
        "This workflow will:\n",
        "* Trim adaptors and orient transcripts to have a consistent strand direction.\n",
        "* Classify full length transcripts and split *in vitro* cDNA fusions.\n",
        "\n",
        "Methods used in this tutorial include:\n",
        "\n",
        "- Python for file processing and data analysis\n",
        "- [`Pychopper`](https://github.com/nanoporetech/pychopper)\n",
        "\n",
        "Computational requirements for this tutorial include:\n",
        "\n",
        "- A computer running the **EPI2ME Labs** notebook Server\n",
        "- At least 8 Gb RAM\n",
        "\n",
        "⚠️ Warning: This notebook has been saved with its outputs for demostration purposed. It is recommeded to select Edit > Clear all outputs before using the notebook to analyse your own data.\n"
      ]
    },
    {
      "cell_type": "markdown",
      "metadata": {
        "id": "sZZtZJolRXP_",
        "colab_type": "text"
      },
      "source": [
        "## Installing Pychopper\n",
        "\n",
        "The default **EPI2MELabs** server environment does not have Pychopper preinstalled. To use Pychopper we must therefore first install it, this is most easily done with conda:"
      ]
    },
    {
      "cell_type": "code",
      "metadata": {
        "colab_type": "code",
        "id": "aqpIdzfpRguZ",
        "colab": {}
      },
      "source": [
        "!mamba install -y \"pychopper>=2.0\""
      ],
      "execution_count": null,
      "outputs": []
    },
    {
      "cell_type": "markdown",
      "metadata": {
        "id": "MrTbMyyARpJh",
        "colab_type": "text"
      },
      "source": [
        "To avoid conflicts with other software, you may wish to restart your **EPI2MELabs** server when you have finished using Pychopper."
      ]
    },
    {
      "cell_type": "markdown",
      "metadata": {
        "id": "ZMhjoLNaP6Ku",
        "colab_type": "text"
      },
      "source": [
        "## Data preparation\n",
        "\n",
        "The workflow below requires a single folder containing `.fastq` files from an Oxford Nanopore Technologies' sequencing device, or a single such file. Compressed or uncompressed files may be used.\n",
        "\n",
        "⚠️ ***Reminder:*** Connect to your locally running EPI2ME Labs Server before running any of the code below. See Run a tutorial on the EPI2ME Labs Server help page for more information."
      ]
    },
    {
      "cell_type": "markdown",
      "metadata": {
        "id": "iSKV9Kkg0VLa",
        "colab_type": "text"
      },
      "source": [
        "![image.png](data:image/png;base64,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)"
      ]
    },
    {
      "cell_type": "markdown",
      "metadata": {
        "id": "z0L95Ko61LtN",
        "colab_type": "text"
      },
      "source": [
        "Having connected to the EPI2ME Labs Server, before anything else we will create and set a working directory:"
      ]
    },
    {
      "cell_type": "code",
      "metadata": {
        "id": "vPF_Wj3_YAJH",
        "colab_type": "code",
        "colab": {}
      },
      "source": [
        "# create a work directory and move into it\n",
        "tutorial_name = \"pychopper_tutorial\"\n",
        "working_dir = '/epi2melabs/{}'.format(tutorial_name)\n",
        "!mkdir -p \"$working_dir\"\n",
        "%cd \"$working_dir\"\n",
        "\n",
        "from epi2melabs import ping\n",
        "pinger = ping.Pingu()\n",
        "_ = pinger.send_notebook_ping('start', 'pychopper_tutorial')"
      ],
      "execution_count": null,
      "outputs": []
    },
    {
      "cell_type": "markdown",
      "metadata": {
        "id": "LNl_IrI8pklV",
        "colab_type": "text"
      },
      "source": [
        "### Sample Data\n",
        "\n",
        "To get started we will download a sample sequencing dataset. There are two options available:\n",
        "\n",
        "* *small set*: a simple set of four reads to test functionality\n",
        "* *D. melanogaster*: a modest fruit fly dataset to explore with pychopper\n",
        "\n",
        "The form below will download either dataset and save them as `sample_data.fastq`. To start the download click on the cell and then press Command/Ctrl-Enter, or click the Play symbol to the left-hand side."
      ]
    },
    {
      "cell_type": "code",
      "metadata": {
        "id": "MVacV0gxWwel",
        "colab_type": "code",
        "cellView": "form",
        "colab": {}
      },
      "source": [
        "#@markdown Select download type and press Play\n",
        "bucket = \"ont-exd-int-s3-euwst1-epi2me-labs\"\n",
        "domain = \"s3-eu-west-1.amazonaws.com\"\n",
        "site = \"https://{}.{}\".format(bucket, domain)\n",
        "\n",
        "download = \"D. melanogaster\" #@param [\"D. melanogaster\", \"small set\"]\n",
        "\n",
        "## download the data\n",
        "location=\"{}/pychopper_tutorial\".format(site)\n",
        "filename = None\n",
        "if download == \"D. melanogaster\":\n",
        "    filename = \"Dmel.4.filt.fastq.gz\"\n",
        "elif download == \"small set\":\n",
        "    filename = \"small_cdna_example.fastq.gz\"\n",
        "if filename is not None:\n",
        "    !echo \"Downloading $filename\"\n",
        "    !wget -O sample_data.fastq.gz \"$location\"/\"$filename\"\n",
        "    !echo \"Extracting\"\n",
        "    !gunzip -f sample_data.fastq.gz\n",
        "    !echo \"Done\"\n",
        "else:\n",
        "    print(\"Dataset not recognised.\")"
      ],
      "execution_count": null,
      "outputs": []
    },
    {
      "cell_type": "markdown",
      "metadata": {
        "colab_type": "text",
        "id": "KdFrxmwAKOMR"
      },
      "source": [
        "To view the outcome of the download we can use the `tree` command to show the contents of the working directory:"
      ]
    },
    {
      "cell_type": "code",
      "metadata": {
        "colab_type": "code",
        "id": "bXJe42eTKNmG",
        "colab": {
          "base_uri": "https://localhost:8080/",
          "height": 85
        },
        "outputId": "01b48004-1693-4035-fce0-00dc811dd8f1"
      },
      "source": [
        "!tree ."
      ],
      "execution_count": null,
      "outputs": [
        {
          "output_type": "stream",
          "text": [
            ".\r\n",
            "└── sample_data.fastq\r\n",
            "\r\n",
            "0 directories, 1 file\r\n"
          ],
          "name": "stdout"
        }
      ]
    },
    {
      "cell_type": "markdown",
      "metadata": {
        "id": "vF8gyWIyKZmx",
        "colab_type": "text"
      },
      "source": [
        "The files should also appear in the File Browser to the left-hand side of the screen."
      ]
    },
    {
      "cell_type": "markdown",
      "metadata": {
        "id": "nh7-4mZeXHRA",
        "colab_type": "text"
      },
      "source": [
        "### Using your own data\n",
        "\n",
        "If you wish to analyse your own data rather than the sample data, you can edit the value of the `input_file` variable below. To find the correct full path of a file you can navigate to it in the `Files` browser to the left-hand side, right-click on the file and select `Copy path`:"
      ]
    },
    {
      "cell_type": "markdown",
      "metadata": {
        "id": "vDCEs7E3Zy60",
        "colab_type": "text"
      },
      "source": [
        "![image.png](data:image/png;base64,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)"
      ]
    },
    {
      "cell_type": "markdown",
      "metadata": {
        "id": "do9Eww_R2E89",
        "colab_type": "text"
      },
      "source": [
        "The location shared with the EPI2ME labs server from your computer will show as `/epi2melabs`, for example a file located at `/data/my_gridion_run/fastq_pass` on your computer will appear as `/epi2melabs/my_gridion_run/fastq_pass` when it is the `/data` folder that is shared."
      ]
    },
    {
      "cell_type": "markdown",
      "metadata": {
        "id": "rjXNch2Kp-_2",
        "colab_type": "text"
      },
      "source": [
        "### Data entry\n",
        "\n",
        "Having downloaded the sample data, or locating your own data in the file browser, we need to provide the filepaths as input to the notebook. This is done in the form below, after updating the values, be sure to press the play button."
      ]
    },
    {
      "cell_type": "markdown",
      "metadata": {
        "id": "46QEClv31y4J",
        "colab_type": "text"
      },
      "source": [
        "\n",
        "\n",
        "> **If you want simply to plot all the graphs in this tutorial for your dataset, rather than working through the tutorial, select `Run after` from the `Runtime` menu above after executing the cell below.**"
      ]
    },
    {
      "cell_type": "code",
      "metadata": {
        "id": "hexEX4x8VPfA",
        "colab_type": "code",
        "cellView": "form",
        "colab": {
          "base_uri": "https://localhost:8080/",
          "height": 136
        },
        "outputId": "a0e7a036-c5b1-42a1-f258-b9062ae91a1e"
      },
      "source": [
        "#@markdown Enter the paths to you input files and output folder here. The input data may be either a a single fastq, compressed or otherwise, file or a directory containing multiple such files:\n",
        "import os\n",
        "\n",
        "# set variables for our inputs\n",
        "input_data = '/epi2melabs/pychopper_tutorial/sample_data.fastq'  #@param {type: \"string\"}\n",
        "output_folder = 'analysis'  #@param {type: \"string\"}\n",
        "input_file = os.path.join(output_folder, \"input.fastq\")\n",
        "\n",
        "# run a command to concatenate all the files together\n",
        "!echo \"Making output folder\"\n",
        "!mkdir -p \"$output_folder\"\n",
        "!test -e \"$input_data\" && echo \"Found input file.\" || \"WARNING: $input_data does not exist\"\n",
        "!rationalize_fastq -i \"$input_data\" -o \"$input_file\""
      ],
      "execution_count": 8,
      "outputs": [
        {
          "output_type": "stream",
          "text": [
            "Making output folder\n",
            "Found input file.\n",
            "Input: /epi2melabs/pychopper_tutorial/sample_data.fastq\n",
            "Output: /epi2melabs/pychopper_tutorial/analysis/input.fastq\n",
            "Single file detected.\n",
            "- Creating symlink.\n",
            "Created symlink /epi2melabs/pychopper_tutorial/analysis/input.fastq\n"
          ],
          "name": "stdout"
        }
      ]
    },
    {
      "cell_type": "markdown",
      "metadata": {
        "id": "CmgRDREQV-6w",
        "colab_type": "text"
      },
      "source": [
        "## Running pychopper\n",
        "\n",
        "Pychopper consists of a single program `cdna_classifier.py` to identify, orient and trim full-length Nanopore cDNA reads.\n",
        "\n",
        "To run pychopper in a basic mode we need to give simply an input and output `.fastq`. Pychopper first identifies alignment hits of sequencing primers across the length of the sequence reads. The default method for doing this is using nhmmscan with pre-trained strand specific [profile HMMs](https://www.ebi.ac.uk/training/online/course/pfam-database-creating-protein-families/what-are-profile-hidden-markov-models-hmms). Alternatively, one can use the [edlib](https://github.com/Martinsos/edlib) backend, which uses a combination of global and local alignment to identify the primers within the read.\n",
        "\n",
        "After identifying the primer hits, the reads are divided into segments defined by two consecutive primer hits. Segments are given a score based on their length, provided that the flanking primer hits are valid. When the primer hits are invalid a zero score is assigned to the segment.\n",
        "\n",
        "The segments are assigned to reads using a dynamic programming algorithm maximizing the sum of used segment scores.\n",
        "\n",
        "To run `cdna_classifier.py` on the input file specified above execute the cell below. For the D. Melanogaster sample dataset this will take around 10 minutes."
      ]
    },
    {
      "cell_type": "code",
      "metadata": {
        "id": "sUoYnPAje5xp",
        "colab_type": "code",
        "colab": {
          "base_uri": "https://localhost:8080/",
          "height": 272
        },
        "outputId": "8830c1e9-80db-4ac0-dd30-b49f2f08fb6e"
      },
      "source": [
        "!cdna_classifier.py \\\n",
        "    -r \"$output_folder\"/report.pdf \\\n",
        "    -u \"$output_folder\"/unclassified.fq \\\n",
        "    -w \"$output_folder\"/rescued.fq \\\n",
        "    -S \"$output_folder\"/cdna_classifier_report.tsv \\\n",
        "    \"$input_file\" \\\n",
        "    \"$output_folder\"/full_length_output.fq"
      ],
      "execution_count": 9,
      "outputs": [
        {
          "output_type": "stream",
          "text": [
            "Configurations to consider: \"+:SSP,-VNP|-:VNP,-SSP\"\n",
            "Counting fastq records in input file: analysis/input.fastq\n",
            "Total fastq records in input file: 15076\n",
            "Tuning the cutoff parameter (q) on 10064 sampled reads (66.3%) passing quality filters (Q >= 7.0).\n",
            "Optimizing over 30 cutoff values.\n",
            "100%|███████████████████████████████████████████| 30/30 [11:28<00:00, 22.96s/it]\n",
            "Best cutoff (q) value is 0.5173 with 81% of the reads classified.\n",
            "Processing the whole dataset using a batch size of 1884:\n",
            "100%|████████████████████████████████████| 15076/15076 [00:43<00:00, 344.75it/s]\n",
            "Finished processing file: analysis/input.fastq\n",
            "Input reads failing mean quality filter (Q < 7.0): 0 (0.00%)\n",
            "Output fragments failing length filter (length < 50): 0\n",
            "Detected 1 potential artefactual primer configurations:\n",
            "Configuration\tNrReads\tPercentReads\n",
            "VNP,SSP,-SSP\t152\t1.01%\n"
          ],
          "name": "stdout"
        }
      ]
    },
    {
      "cell_type": "markdown",
      "metadata": {
        "id": "1hVEkLzZNO7e",
        "colab_type": "text"
      },
      "source": [
        "### Analysis of pychopper results"
      ]
    },
    {
      "cell_type": "markdown",
      "metadata": {
        "id": "3r0Fk5esoxpO",
        "colab_type": "text"
      },
      "source": [
        "To evaluate the results of pychopper the code box below will summarise the\n",
        "classification of reads. It will also display a plot illustrating the selection\n",
        "of the classification decision boundary. This plot should be unimodal (have a single peak)."
      ]
    },
    {
      "cell_type": "code",
      "metadata": {
        "id": "Sf-DPsWloj7T",
        "colab_type": "code",
        "cellView": "form",
        "colab": {
          "base_uri": "https://localhost:8080/",
          "height": 442
        },
        "outputId": "2834ad0e-f832-4d4b-f937-7d80489f5f41"
      },
      "source": [
        "#@markdown Classification summary *(click to show)*\n",
        "import os\n",
        "import pandas as pd\n",
        "import aplanat\n",
        "from aplanat import lines\n",
        "\n",
        "pinger.send_notebook_ping('stop', 'pychopper_tutorial')\n",
        "\n",
        "csv = os.path.join(output_folder, \"cdna_classifier_report.tsv\")\n",
        "\n",
        "df = pd.read_csv(csv, sep=\"\\t\", index_col=\"Name\")\n",
        "classified = df.loc[df[\"Category\"] == \"Classification\"] \\\n",
        "    .copy().reset_index().rename(columns={'Name': 'Classification'})\n",
        "classified[\"Percentage\"] = 100 * classified[\"Value\"] / classified[\"Value\"].sum()\n",
        "display(classified[['Classification', 'Percentage',]])\n",
        "\n",
        "tuning =  df.loc[df[\"Category\"] == \"AutotuneSample\"] \\\n",
        "    .copy().reset_index().rename(columns={'Name': 'Filter'})\n",
        "plot = lines.line(\n",
        "    [tuning['Filter'].astype(float)], [tuning['Value']],\n",
        "    title=\"Cut off parameter selection curve\",\n",
        "    x_axis_label='Filter cut off',\n",
        "    y_axis_label='Selected reads')\n",
        "aplanat.show(plot)"
      ],
      "execution_count": 10,
      "outputs": [
        {
          "output_type": "display_data",
          "data": {
            "text/plain": [
              "  Classification  Percentage\n",
              "0  Primers_found   80.322813\n",
              "1         Rescue    2.125845\n",
              "2       Unusable   17.551342"
            ],
            "text/html": [
              "<div>\n",
              "<style scoped>\n",
              "    .dataframe tbody tr th:only-of-type {\n",
              "        vertical-align: middle;\n",
              "    }\n",
              "\n",
              "    .dataframe tbody tr th {\n",
              "        vertical-align: top;\n",
              "    }\n",
              "\n",
              "    .dataframe thead th {\n",
              "        text-align: right;\n",
              "    }\n",
              "</style>\n",
              "<table border=\"1\" class=\"dataframe\">\n",
              "  <thead>\n",
              "    <tr style=\"text-align: right;\">\n",
              "      <th></th>\n",
              "      <th>Classification</th>\n",
              "      <th>Percentage</th>\n",
              "    </tr>\n",
              "  </thead>\n",
              "  <tbody>\n",
              "    <tr>\n",
              "      <th>0</th>\n",
              "      <td>Primers_found</td>\n",
              "      <td>80.322813</td>\n",
              "    </tr>\n",
              "    <tr>\n",
              "      <th>1</th>\n",
              "      <td>Rescue</td>\n",
              "      <td>2.125845</td>\n",
              "    </tr>\n",
              "    <tr>\n",
              "      <th>2</th>\n",
              "      <td>Unusable</td>\n",
              "      <td>17.551342</td>\n",
              "    </tr>\n",
              "  </tbody>\n",
              "</table>\n",
              "</div>"
            ]
          },
          "metadata": {
            "tags": []
          }
        },
        {
          "output_type": "display_data",
          "data": {
            "application/javascript": [
              "\n",
              "(function(root) {\n",
              "  function now() {\n",
              "    return new Date();\n",
              "  }\n",
              "\n",
              "  var force = true;\n",
              "\n",
              "  if (typeof root._bokeh_onload_callbacks === \"undefined\" || force === true) {\n",
              "    root._bokeh_onload_callbacks = [];\n",
              "    root._bokeh_is_loading = undefined;\n",
              "  }\n",
              "\n",
              "  var JS_MIME_TYPE = 'application/javascript';\n",
              "  var HTML_MIME_TYPE = 'text/html';\n",
              "  var EXEC_MIME_TYPE = 'application/vnd.bokehjs_exec.v0+json';\n",
              "  var CLASS_NAME = 'output_bokeh rendered_html';\n",
              "\n",
              "  /**\n",
              "   * Render data to the DOM node\n",
              "   */\n",
              "  function render(props, node) {\n",
              "    var script = document.createElement(\"script\");\n",
              "    node.appendChild(script);\n",
              "  }\n",
              "\n",
              "  /**\n",
              "   * Handle when an output is cleared or removed\n",
              "   */\n",
              "  function handleClearOutput(event, handle) {\n",
              "    var cell = handle.cell;\n",
              "\n",
              "    var id = cell.output_area._bokeh_element_id;\n",
              "    var server_id = cell.output_area._bokeh_server_id;\n",
              "    // Clean up Bokeh references\n",
              "    if (id != null && id in Bokeh.index) {\n",
              "      Bokeh.index[id].model.document.clear();\n",
              "      delete Bokeh.index[id];\n",
              "    }\n",
              "\n",
              "    if (server_id !== undefined) {\n",
              "      // Clean up Bokeh references\n",
              "      var cmd = \"from bokeh.io.state import curstate; print(curstate().uuid_to_server['\" + server_id + \"'].get_sessions()[0].document.roots[0]._id)\";\n",
              "      cell.notebook.kernel.execute(cmd, {\n",
              "        iopub: {\n",
              "          output: function(msg) {\n",
              "            var id = msg.content.text.trim();\n",
              "            if (id in Bokeh.index) {\n",
              "              Bokeh.index[id].model.document.clear();\n",
              "              delete Bokeh.index[id];\n",
              "            }\n",
              "          }\n",
              "        }\n",
              "      });\n",
              "      // Destroy server and session\n",
              "      var cmd = \"import bokeh.io.notebook as ion; ion.destroy_server('\" + server_id + \"')\";\n",
              "      cell.notebook.kernel.execute(cmd);\n",
              "    }\n",
              "  }\n",
              "\n",
              "  /**\n",
              "   * Handle when a new output is added\n",
              "   */\n",
              "  function handleAddOutput(event, handle) {\n",
              "    var output_area = handle.output_area;\n",
              "    var output = handle.output;\n",
              "\n",
              "    // limit handleAddOutput to display_data with EXEC_MIME_TYPE content only\n",
              "    if ((output.output_type != \"display_data\") || (!output.data.hasOwnProperty(EXEC_MIME_TYPE))) {\n",
              "      return\n",
              "    }\n",
              "\n",
              "    var toinsert = output_area.element.find(\".\" + CLASS_NAME.split(' ')[0]);\n",
              "\n",
              "    if (output.metadata[EXEC_MIME_TYPE][\"id\"] !== undefined) {\n",
              "      toinsert[toinsert.length - 1].firstChild.textContent = output.data[JS_MIME_TYPE];\n",
              "      // store reference to embed id on output_area\n",
              "      output_area._bokeh_element_id = output.metadata[EXEC_MIME_TYPE][\"id\"];\n",
              "    }\n",
              "    if (output.metadata[EXEC_MIME_TYPE][\"server_id\"] !== undefined) {\n",
              "      var bk_div = document.createElement(\"div\");\n",
              "      bk_div.innerHTML = output.data[HTML_MIME_TYPE];\n",
              "      var script_attrs = bk_div.children[0].attributes;\n",
              "      for (var i = 0; i < script_attrs.length; i++) {\n",
              "        toinsert[toinsert.length - 1].firstChild.setAttribute(script_attrs[i].name, script_attrs[i].value);\n",
              "        toinsert[toinsert.length - 1].firstChild.textContent = bk_div.children[0].textContent\n",
              "      }\n",
              "      // store reference to server id on output_area\n",
              "      output_area._bokeh_server_id = output.metadata[EXEC_MIME_TYPE][\"server_id\"];\n",
              "    }\n",
              "  }\n",
              "\n",
              "  function register_renderer(events, OutputArea) {\n",
              "\n",
              "    function append_mime(data, metadata, element) {\n",
              "      // create a DOM node to render to\n",
              "      var toinsert = this.create_output_subarea(\n",
              "        metadata,\n",
              "        CLASS_NAME,\n",
              "        EXEC_MIME_TYPE\n",
              "      );\n",
              "      this.keyboard_manager.register_events(toinsert);\n",
              "      // Render to node\n",
              "      var props = {data: data, metadata: metadata[EXEC_MIME_TYPE]};\n",
              "      render(props, toinsert[toinsert.length - 1]);\n",
              "      element.append(toinsert);\n",
              "      return toinsert\n",
              "    }\n",
              "\n",
              "    /* Handle when an output is cleared or removed */\n",
              "    events.on('clear_output.CodeCell', handleClearOutput);\n",
              "    events.on('delete.Cell', handleClearOutput);\n",
              "\n",
              "    /* Handle when a new output is added */\n",
              "    events.on('output_added.OutputArea', handleAddOutput);\n",
              "\n",
              "    /**\n",
              "     * Register the mime type and append_mime function with output_area\n",
              "     */\n",
              "    OutputArea.prototype.register_mime_type(EXEC_MIME_TYPE, append_mime, {\n",
              "      /* Is output safe? */\n",
              "      safe: true,\n",
              "      /* Index of renderer in `output_area.display_order` */\n",
              "      index: 0\n",
              "    });\n",
              "  }\n",
              "\n",
              "  // register the mime type if in Jupyter Notebook environment and previously unregistered\n",
              "  if (root.Jupyter !== undefined) {\n",
              "    var events = require('base/js/events');\n",
              "    var OutputArea = require('notebook/js/outputarea').OutputArea;\n",
              "\n",
              "    if (OutputArea.prototype.mime_types().indexOf(EXEC_MIME_TYPE) == -1) {\n",
              "      register_renderer(events, OutputArea);\n",
              "    }\n",
              "  }\n",
              "\n",
              "  \n",
              "  if (typeof (root._bokeh_timeout) === \"undefined\" || force === true) {\n",
              "    root._bokeh_timeout = Date.now() + 5000;\n",
              "    root._bokeh_failed_load = false;\n",
              "  }\n",
              "\n",
              "  var NB_LOAD_WARNING = {'data': {'text/html':\n",
              "     \"<div style='background-color: #fdd'>\\n\"+\n",
              "     \"<p>\\n\"+\n",
              "     \"BokehJS does not appear to have successfully loaded. If loading BokehJS from CDN, this \\n\"+\n",
              "     \"may be due to a slow or bad network connection. Possible fixes:\\n\"+\n",
              "     \"</p>\\n\"+\n",
              "     \"<ul>\\n\"+\n",
              "     \"<li>re-rerun `output_notebook()` to attempt to load from CDN again, or</li>\\n\"+\n",
              "     \"<li>use INLINE resources instead, as so:</li>\\n\"+\n",
              "     \"</ul>\\n\"+\n",
              "     \"<code>\\n\"+\n",
              "     \"from bokeh.resources import INLINE\\n\"+\n",
              "     \"output_notebook(resources=INLINE)\\n\"+\n",
              "     \"</code>\\n\"+\n",
              "     \"</div>\"}};\n",
              "\n",
              "  function display_loaded() {\n",
              "    var el = document.getElementById(null);\n",
              "    if (el != null) {\n",
              "      el.textContent = \"BokehJS is loading...\";\n",
              "    }\n",
              "    if (root.Bokeh !== undefined) {\n",
              "      if (el != null) {\n",
              "        el.textContent = \"BokehJS \" + root.Bokeh.version + \" successfully loaded.\";\n",
              "      }\n",
              "    } else if (Date.now() < root._bokeh_timeout) {\n",
              "      setTimeout(display_loaded, 100)\n",
              "    }\n",
              "  }\n",
              "\n",
              "\n",
              "  function run_callbacks() {\n",
              "    try {\n",
              "      root._bokeh_onload_callbacks.forEach(function(callback) {\n",
              "        if (callback != null)\n",
              "          callback();\n",
              "      });\n",
              "    } finally {\n",
              "      delete root._bokeh_onload_callbacks\n",
              "    }\n",
              "    console.debug(\"Bokeh: all callbacks have finished\");\n",
              "  }\n",
              "\n",
              "  function load_libs(css_urls, js_urls, callback) {\n",
              "    if (css_urls == null) css_urls = [];\n",
              "    if (js_urls == null) js_urls = [];\n",
              "\n",
              "    root._bokeh_onload_callbacks.push(callback);\n",
              "    if (root._bokeh_is_loading > 0) {\n",
              "      console.debug(\"Bokeh: BokehJS is being loaded, scheduling callback at\", now());\n",
              "      return null;\n",
              "    }\n",
              "    if (js_urls == null || js_urls.length === 0) {\n",
              "      run_callbacks();\n",
              "      return null;\n",
              "    }\n",
              "    console.debug(\"Bokeh: BokehJS not loaded, scheduling load and callback at\", now());\n",
              "    root._bokeh_is_loading = css_urls.length + js_urls.length;\n",
              "\n",
              "    function on_load() {\n",
              "      root._bokeh_is_loading--;\n",
              "      if (root._bokeh_is_loading === 0) {\n",
              "        console.debug(\"Bokeh: all BokehJS libraries/stylesheets loaded\");\n",
              "        run_callbacks()\n",
              "      }\n",
              "    }\n",
              "\n",
              "    function on_error() {\n",
              "      console.error(\"failed to load \" + url);\n",
              "    }\n",
              "\n",
              "    for (var i = 0; i < css_urls.length; i++) {\n",
              "      var url = css_urls[i];\n",
              "      const element = document.createElement(\"link\");\n",
              "      element.onload = on_load;\n",
              "      element.onerror = on_error;\n",
              "      element.rel = \"stylesheet\";\n",
              "      element.type = \"text/css\";\n",
              "      element.href = url;\n",
              "      console.debug(\"Bokeh: injecting link tag for BokehJS stylesheet: \", url);\n",
              "      document.body.appendChild(element);\n",
              "    }\n",
              "\n",
              "    const hashes = {\"https://cdn.bokeh.org/bokeh/release/bokeh-2.1.1.min.js\": \"kLr4fYcqcSpbuI95brIH3vnnYCquzzSxHPU6XGQCIkQRGJwhg0StNbj1eegrHs12\", \"https://cdn.bokeh.org/bokeh/release/bokeh-widgets-2.1.1.min.js\": \"xIGPmVtaOm+z0BqfSOMn4lOR6ciex448GIKG4eE61LsAvmGj48XcMQZtKcE/UXZe\", \"https://cdn.bokeh.org/bokeh/release/bokeh-tables-2.1.1.min.js\": \"Dc9u1wF/0zApGIWoBbH77iWEHtdmkuYWG839Uzmv8y8yBLXebjO9ZnERsde5Ln/P\", \"https://cdn.bokeh.org/bokeh/release/bokeh-gl-2.1.1.min.js\": \"cT9JaBz7GiRXdENrJLZNSC6eMNF3nh3fa5fTF51Svp+ukxPdwcU5kGXGPBgDCa2j\"};\n",
              "\n",
              "    for (var i = 0; i < js_urls.length; i++) {\n",
              "      var url = js_urls[i];\n",
              "      var element = document.createElement('script');\n",
              "      element.onload = on_load;\n",
              "      element.onerror = on_error;\n",
              "      element.async = false;\n",
              "      element.src = url;\n",
              "      if (url in hashes) {\n",
              "        element.crossOrigin = \"anonymous\";\n",
              "        element.integrity = \"sha384-\" + hashes[url];\n",
              "      }\n",
              "      console.debug(\"Bokeh: injecting script tag for BokehJS library: \", url);\n",
              "      document.head.appendChild(element);\n",
              "    }\n",
              "  };\n",
              "\n",
              "  function inject_raw_css(css) {\n",
              "    const element = document.createElement(\"style\");\n",
              "    element.appendChild(document.createTextNode(css));\n",
              "    document.body.appendChild(element);\n",
              "  }\n",
              "\n",
              "  \n",
              "  var js_urls = [\"https://cdn.bokeh.org/bokeh/release/bokeh-2.1.1.min.js\", \"https://cdn.bokeh.org/bokeh/release/bokeh-widgets-2.1.1.min.js\", \"https://cdn.bokeh.org/bokeh/release/bokeh-tables-2.1.1.min.js\", \"https://cdn.bokeh.org/bokeh/release/bokeh-gl-2.1.1.min.js\"];\n",
              "  var css_urls = [];\n",
              "  \n",
              "\n",
              "  var inline_js = [\n",
              "    function(Bokeh) {\n",
              "      Bokeh.set_log_level(\"info\");\n",
              "    },\n",
              "    function(Bokeh) {\n",
              "    \n",
              "    \n",
              "    }\n",
              "  ];\n",
              "\n",
              "  function run_inline_js() {\n",
              "    \n",
              "    if (root.Bokeh !== undefined || force === true) {\n",
              "      \n",
              "    for (var i = 0; i < inline_js.length; i++) {\n",
              "      inline_js[i].call(root, root.Bokeh);\n",
              "    }\n",
              "    } else if (Date.now() < root._bokeh_timeout) {\n",
              "      setTimeout(run_inline_js, 100);\n",
              "    } else if (!root._bokeh_failed_load) {\n",
              "      console.log(\"Bokeh: BokehJS failed to load within specified timeout.\");\n",
              "      root._bokeh_failed_load = true;\n",
              "    } else if (force !== true) {\n",
              "      var cell = $(document.getElementById(null)).parents('.cell').data().cell;\n",
              "      cell.output_area.append_execute_result(NB_LOAD_WARNING)\n",
              "    }\n",
              "\n",
              "  }\n",
              "\n",
              "  if (root._bokeh_is_loading === 0) {\n",
              "    console.debug(\"Bokeh: BokehJS loaded, going straight to plotting\");\n",
              "    run_inline_js();\n",
              "  } else {\n",
              "    load_libs(css_urls, js_urls, function() {\n",
              "      console.debug(\"Bokeh: BokehJS plotting callback run at\", now());\n",
              "      run_inline_js();\n",
              "    });\n",
              "  }\n",
              "}(window));"
            ],
            "application/vnd.bokehjs_load.v0+json": "\n(function(root) {\n  function now() {\n    return new Date();\n  }\n\n  var force = true;\n\n  if (typeof root._bokeh_onload_callbacks === \"undefined\" || force === true) {\n    root._bokeh_onload_callbacks = [];\n    root._bokeh_is_loading = undefined;\n  }\n\n  \n\n  \n  if (typeof (root._bokeh_timeout) === \"undefined\" || force === true) {\n    root._bokeh_timeout = Date.now() + 5000;\n    root._bokeh_failed_load = false;\n  }\n\n  var NB_LOAD_WARNING = {'data': {'text/html':\n     \"<div style='background-color: #fdd'>\\n\"+\n     \"<p>\\n\"+\n     \"BokehJS does not appear to have successfully loaded. If loading BokehJS from CDN, this \\n\"+\n     \"may be due to a slow or bad network connection. Possible fixes:\\n\"+\n     \"</p>\\n\"+\n     \"<ul>\\n\"+\n     \"<li>re-rerun `output_notebook()` to attempt to load from CDN again, or</li>\\n\"+\n     \"<li>use INLINE resources instead, as so:</li>\\n\"+\n     \"</ul>\\n\"+\n     \"<code>\\n\"+\n     \"from bokeh.resources import INLINE\\n\"+\n     \"output_notebook(resources=INLINE)\\n\"+\n     \"</code>\\n\"+\n     \"</div>\"}};\n\n  function display_loaded() {\n    var el = document.getElementById(null);\n    if (el != null) {\n      el.textContent = \"BokehJS is loading...\";\n    }\n    if (root.Bokeh !== undefined) {\n      if (el != null) {\n        el.textContent = \"BokehJS \" + root.Bokeh.version + \" successfully loaded.\";\n      }\n    } else if (Date.now() < root._bokeh_timeout) {\n      setTimeout(display_loaded, 100)\n    }\n  }\n\n\n  function run_callbacks() {\n    try {\n      root._bokeh_onload_callbacks.forEach(function(callback) {\n        if (callback != null)\n          callback();\n      });\n    } finally {\n      delete root._bokeh_onload_callbacks\n    }\n    console.debug(\"Bokeh: all callbacks have finished\");\n  }\n\n  function load_libs(css_urls, js_urls, callback) {\n    if (css_urls == null) css_urls = [];\n    if (js_urls == null) js_urls = [];\n\n    root._bokeh_onload_callbacks.push(callback);\n    if (root._bokeh_is_loading > 0) {\n      console.debug(\"Bokeh: BokehJS is being loaded, scheduling callback at\", now());\n      return null;\n    }\n    if (js_urls == null || js_urls.length === 0) {\n      run_callbacks();\n      return null;\n    }\n    console.debug(\"Bokeh: BokehJS not loaded, scheduling load and callback at\", now());\n    root._bokeh_is_loading = css_urls.length + js_urls.length;\n\n    function on_load() {\n      root._bokeh_is_loading--;\n      if (root._bokeh_is_loading === 0) {\n        console.debug(\"Bokeh: all BokehJS libraries/stylesheets loaded\");\n        run_callbacks()\n      }\n    }\n\n    function on_error() {\n      console.error(\"failed to load \" + url);\n    }\n\n    for (var i = 0; i < css_urls.length; i++) {\n      var url = css_urls[i];\n      const element = document.createElement(\"link\");\n      element.onload = on_load;\n      element.onerror = on_error;\n      element.rel = \"stylesheet\";\n      element.type = \"text/css\";\n      element.href = url;\n      console.debug(\"Bokeh: injecting link tag for BokehJS stylesheet: \", url);\n      document.body.appendChild(element);\n    }\n\n    const hashes = {\"https://cdn.bokeh.org/bokeh/release/bokeh-2.1.1.min.js\": \"kLr4fYcqcSpbuI95brIH3vnnYCquzzSxHPU6XGQCIkQRGJwhg0StNbj1eegrHs12\", \"https://cdn.bokeh.org/bokeh/release/bokeh-widgets-2.1.1.min.js\": \"xIGPmVtaOm+z0BqfSOMn4lOR6ciex448GIKG4eE61LsAvmGj48XcMQZtKcE/UXZe\", \"https://cdn.bokeh.org/bokeh/release/bokeh-tables-2.1.1.min.js\": \"Dc9u1wF/0zApGIWoBbH77iWEHtdmkuYWG839Uzmv8y8yBLXebjO9ZnERsde5Ln/P\", \"https://cdn.bokeh.org/bokeh/release/bokeh-gl-2.1.1.min.js\": \"cT9JaBz7GiRXdENrJLZNSC6eMNF3nh3fa5fTF51Svp+ukxPdwcU5kGXGPBgDCa2j\"};\n\n    for (var i = 0; i < js_urls.length; i++) {\n      var url = js_urls[i];\n      var element = document.createElement('script');\n      element.onload = on_load;\n      element.onerror = on_error;\n      element.async = false;\n      element.src = url;\n      if (url in hashes) {\n        element.crossOrigin = \"anonymous\";\n        element.integrity = \"sha384-\" + hashes[url];\n      }\n      console.debug(\"Bokeh: injecting script tag for BokehJS library: \", url);\n      document.head.appendChild(element);\n    }\n  };\n\n  function inject_raw_css(css) {\n    const element = document.createElement(\"style\");\n    element.appendChild(document.createTextNode(css));\n    document.body.appendChild(element);\n  }\n\n  \n  var js_urls = [\"https://cdn.bokeh.org/bokeh/release/bokeh-2.1.1.min.js\", \"https://cdn.bokeh.org/bokeh/release/bokeh-widgets-2.1.1.min.js\", \"https://cdn.bokeh.org/bokeh/release/bokeh-tables-2.1.1.min.js\", \"https://cdn.bokeh.org/bokeh/release/bokeh-gl-2.1.1.min.js\"];\n  var css_urls = [];\n  \n\n  var inline_js = [\n    function(Bokeh) {\n      Bokeh.set_log_level(\"info\");\n    },\n    function(Bokeh) {\n    \n    \n    }\n  ];\n\n  function run_inline_js() {\n    \n    if (root.Bokeh !== undefined || force === true) {\n      \n    for (var i = 0; i < inline_js.length; i++) {\n      inline_js[i].call(root, root.Bokeh);\n    }\n    } else if (Date.now() < root._bokeh_timeout) {\n      setTimeout(run_inline_js, 100);\n    } else if (!root._bokeh_failed_load) {\n      console.log(\"Bokeh: BokehJS failed to load within specified timeout.\");\n      root._bokeh_failed_load = true;\n    } else if (force !== true) {\n      var cell = $(document.getElementById(null)).parents('.cell').data().cell;\n      cell.output_area.append_execute_result(NB_LOAD_WARNING)\n    }\n\n  }\n\n  if (root._bokeh_is_loading === 0) {\n    console.debug(\"Bokeh: BokehJS loaded, going straight to plotting\");\n    run_inline_js();\n  } else {\n    load_libs(css_urls, js_urls, function() {\n      console.debug(\"Bokeh: BokehJS plotting callback run at\", now());\n      run_inline_js();\n    });\n  }\n}(window));"
          },
          "metadata": {
            "tags": []
          }
        },
        {
          "output_type": "display_data",
          "data": {
            "text/html": [
              "\n",
              "\n",
              "\n",
              "\n",
              "\n",
              "\n",
              "  <div class=\"bk-root\" id=\"7e366bcc-d951-437c-b509-d82dd4daab58\" data-root-id=\"1001\"></div>\n"
            ]
          },
          "metadata": {
            "tags": []
          }
        },
        {
          "output_type": "display_data",
          "data": {
            "application/javascript": [
              "(function(root) {\n",
              "  function embed_document(root) {\n",
              "    \n",
              "  var docs_json = {\"bc77e5d6-c8e8-4f0f-bf42-a2a7651a3b50\":{\"roots\":{\"references\":[{\"attributes\":{\"below\":[{\"id\":\"1012\"}],\"center\":[{\"id\":\"1015\"},{\"id\":\"1019\"}],\"left\":[{\"id\":\"1016\"}],\"output_backend\":\"webgl\",\"plot_height\":300,\"renderers\":[{\"id\":\"1037\"}],\"title\":{\"id\":\"1002\"},\"toolbar\":{\"id\":\"1027\"},\"x_range\":{\"id\":\"1039\"},\"x_scale\":{\"id\":\"1008\"},\"y_range\":{\"id\":\"1040\"},\"y_scale\":{\"id\":\"1010\"}},\"id\":\"1001\",\"subtype\":\"Figure\",\"type\":\"Plot\"},{\"attributes\":{\"line_alpha\":0.1,\"line_color\":\"blue\",\"line_width\":1.5,\"x\":{\"field\":\"x\"},\"y\":{\"field\":\"y\"}},\"id\":\"1036\",\"type\":\"Line\"},{\"attributes\":{\"overlay\":{\"id\":\"1026\"}},\"id\":\"1022\",\"type\":\"BoxZoomTool\"},{\"attributes\":{},\"id\":\"1047\",\"type\":\"Selection\"},{\"attributes\":{},\"id\":\"1023\",\"type\":\"SaveTool\"},{\"attributes\":{\"line_color\":\"blue\",\"line_width\":1.5,\"x\":{\"field\":\"x\"},\"y\":{\"field\":\"y\"}},\"id\":\"1035\",\"type\":\"Line\"},{\"attributes\":{\"bounds\":[2020.0,8161.0],\"end\":8161.0,\"start\":2020.0},\"id\":\"1040\",\"type\":\"Range1d\"},{\"attributes\":{},\"id\":\"1024\",\"type\":\"ResetTool\"},{\"attributes\":{\"text\":\"Cut off parameter selection curve\"},\"id\":\"1002\",\"type\":\"Title\"},{\"attributes\":{},\"id\":\"1025\",\"type\":\"HelpTool\"},{\"attributes\":{},\"id\":\"1045\",\"type\":\"BasicTickFormatter\"},{\"attributes\":{\"active_drag\":\"auto\",\"active_inspect\":\"auto\",\"active_multi\":null,\"active_scroll\":\"auto\",\"active_tap\":\"auto\",\"tools\":[{\"id\":\"1020\"},{\"id\":\"1021\"},{\"id\":\"1022\"},{\"id\":\"1023\"},{\"id\":\"1024\"},{\"id\":\"1025\"}]},\"id\":\"1027\",\"type\":\"Toolbar\"},{\"attributes\":{},\"id\":\"1008\",\"type\":\"LinearScale\"},{\"attributes\":{\"source\":{\"id\":\"1034\"}},\"id\":\"1038\",\"type\":\"CDSView\"},{\"attributes\":{},\"id\":\"1010\",\"type\":\"LinearScale\"},{\"attributes\":{\"axis_label\":\"Filter cut off\",\"formatter\":{\"id\":\"1043\"},\"ticker\":{\"id\":\"1013\"}},\"id\":\"1012\",\"type\":\"LinearAxis\"},{\"attributes\":{},\"id\":\"1013\",\"type\":\"BasicTicker\"},{\"attributes\":{},\"id\":\"1043\",\"type\":\"BasicTickFormatter\"},{\"attributes\":{\"axis\":{\"id\":\"1012\"},\"ticker\":null},\"id\":\"1015\",\"type\":\"Grid\"},{\"attributes\":{\"data_source\":{\"id\":\"1034\"},\"glyph\":{\"id\":\"1035\"},\"hover_glyph\":null,\"muted_glyph\":null,\"nonselection_glyph\":{\"id\":\"1036\"},\"selection_glyph\":null,\"view\":{\"id\":\"1038\"}},\"id\":\"1037\",\"type\":\"GlyphRenderer\"},{\"attributes\":{\"axis_label\":\"Selected reads\",\"formatter\":{\"id\":\"1045\"},\"ticker\":{\"id\":\"1017\"}},\"id\":\"1016\",\"type\":\"LinearAxis\"},{\"attributes\":{\"bottom_units\":\"screen\",\"fill_alpha\":0.5,\"fill_color\":\"lightgrey\",\"left_units\":\"screen\",\"level\":\"overlay\",\"line_alpha\":1.0,\"line_color\":\"black\",\"line_dash\":[4,4],\"line_width\":2,\"right_units\":\"screen\",\"top_units\":\"screen\"},\"id\":\"1026\",\"type\":\"BoxAnnotation\"},{\"attributes\":{},\"id\":\"1017\",\"type\":\"BasicTicker\"},{\"attributes\":{\"axis\":{\"id\":\"1016\"},\"dimension\":1,\"ticker\":null},\"id\":\"1019\",\"type\":\"Grid\"},{\"attributes\":{\"data\":{\"x\":{\"__ndarray__\":\"8WjjiLX45D6kRbS3+BHGP90zScbOEdY/cyJcmFCN4D/5qpPNuRHmP38zywIjlus/Al4BHEaN8D9FIp22ek/zP4jmOFGvEfY/y6rU6+PT+D8Ob3CGGJb7P1AzDCFNWP4/yfvT3UCNAEDr3SErW+4BQAzAb3h1TwNALqK9xY+wBEBPhAsTqhEGQHBmWWDEcgdAkkinrd7TCECzKvX6+DQKQNUMQ0gTlgtA9u6QlS33DEAX0d7iR1gOQDmzLDBiuQ9ArEq9Pj6NEEC9O2Rlyz0RQM4sC4xY7hFA3x2ysuWeEkDvDlnZck8TQAAAAAAAABRA\",\"dtype\":\"float64\",\"order\":\"little\",\"shape\":[30]},\"y\":{\"__ndarray__\":\"AAAAAACQn0AAAAAAAEi/QAAAAAAAx79AAAAAAADhv0AAAAAAANa/QAAAAAAA079AAAAAAADAv0AAAAAAAJu/QAAAAAAAYr9AAAAAAADtvkAAAAAAAJ++QAAAAAAATr5AAAAAAADpvUAAAAAAAHy9QAAAAAAA9bxAAAAAAAC9vEAAAAAAAFy8QAAAAAAA1btAAAAAAABxu0AAAAAAABm7QAAAAAAAq7pAAAAAAABMukAAAAAAAAS6QAAAAAAAoblAAAAAAABcuUAAAAAAAPi4QAAAAAAAxbhAAAAAAABwuEAAAAAAADO4QAAAAAAA7rdA\",\"dtype\":\"float64\",\"order\":\"little\",\"shape\":[30]}},\"selected\":{\"id\":\"1047\"},\"selection_policy\":{\"id\":\"1048\"}},\"id\":\"1034\",\"type\":\"ColumnDataSource\"},{\"attributes\":{\"bounds\":[1e-05,5.0],\"end\":5.0,\"start\":1e-05},\"id\":\"1039\",\"type\":\"Range1d\"},{\"attributes\":{},\"id\":\"1048\",\"type\":\"UnionRenderers\"},{\"attributes\":{},\"id\":\"1020\",\"type\":\"PanTool\"},{\"attributes\":{},\"id\":\"1021\",\"type\":\"WheelZoomTool\"}],\"root_ids\":[\"1001\"]},\"title\":\"Bokeh Application\",\"version\":\"2.1.1\"}};\n",
              "  var render_items = [{\"docid\":\"bc77e5d6-c8e8-4f0f-bf42-a2a7651a3b50\",\"root_ids\":[\"1001\"],\"roots\":{\"1001\":\"7e366bcc-d951-437c-b509-d82dd4daab58\"}}];\n",
              "  root.Bokeh.embed.embed_items_notebook(docs_json, render_items);\n",
              "\n",
              "  }\n",
              "  if (root.Bokeh !== undefined) {\n",
              "    embed_document(root);\n",
              "  } else {\n",
              "    var attempts = 0;\n",
              "    var timer = setInterval(function(root) {\n",
              "      if (root.Bokeh !== undefined) {\n",
              "        clearInterval(timer);\n",
              "        embed_document(root);\n",
              "      } else {\n",
              "        attempts++;\n",
              "        if (attempts > 100) {\n",
              "          clearInterval(timer);\n",
              "          console.log(\"Bokeh: ERROR: Unable to run BokehJS code because BokehJS library is missing\");\n",
              "        }\n",
              "      }\n",
              "    }, 10, root)\n",
              "  }\n",
              "})(window);"
            ],
            "application/vnd.bokehjs_exec.v0+json": ""
          },
          "metadata": {
            "tags": [],
            "application/vnd.bokehjs_exec.v0+json": {
              "id": "1001"
            }
          }
        }
      ]
    }
  ]
}