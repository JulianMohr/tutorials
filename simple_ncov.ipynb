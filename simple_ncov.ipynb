{
  "nbformat": 4,
  "nbformat_minor": 0,
  "metadata": {
    "kernelspec": {
      "display_name": "Python 3",
      "language": "python",
      "name": "python3"
    },
    "language_info": {
      "codemirror_mode": {
        "name": "ipython",
        "version": 3
      },
      "file_extension": ".py",
      "mimetype": "text/x-python",
      "name": "python",
      "nbconvert_exporter": "python",
      "pygments_lexer": "ipython3",
      "version": "3.6.9"
    },
    "colab": {
      "name": "Copy of Copy of Betacoronavirus.ipynb",
      "provenance": [],
      "private_outputs": true,
      "collapsed_sections": [],
      "toc_visible": true
    }
  },
  "cells": [
    {
      "cell_type": "markdown",
      "metadata": {
        "id": "T2v_huWyiwmt",
        "colab_type": "text"
      },
      "source": [
        "Coronavirus demo\n",
        "----------------\n",
        "Get the data"
      ]
    },
    {
      "cell_type": "code",
      "metadata": {
        "id": "YzyLGtCMiwmw",
        "colab_type": "code",
        "colab": {}
      },
      "source": [
        "!wget https://sra-download.ncbi.nlm.nih.gov/traces/sra45/SRZ/010948/SRR10948550/HKU-SZ-002a.fastq"
      ],
      "execution_count": 0,
      "outputs": []
    },
    {
      "cell_type": "code",
      "metadata": {
        "id": "064l8qkHZCL-",
        "colab_type": "code",
        "colab": {}
      },
      "source": [
        "!wget https://ftp.ncbi.nlm.nih.gov/genomes/refseq/viral/Wuhan_seafood_market_pneumonia_virus/all_assembly_versions/GCF_009858895.2_ASM985889v3/GCF_009858895.2_ASM985889v3_genomic.fna.gz"
      ],
      "execution_count": 0,
      "outputs": []
    },
    {
      "cell_type": "markdown",
      "metadata": {
        "id": "ajKvfuUkeTi-",
        "colab_type": "text"
      },
      "source": [
        "# A little looked at the data\n",
        "\n",
        "First we can aligned the reads to the reference"
      ]
    },
    {
      "cell_type": "code",
      "metadata": {
        "id": "LTxXwNiZiwn2",
        "colab_type": "code",
        "colab": {}
      },
      "source": [
        "!mini_align -r GCF_009858895.2_ASM985889v3_genomic.fna.gz -i HKU-SZ-002a.fastq -p reads2ref -t 4"
      ],
      "execution_count": 0,
      "outputs": []
    },
    {
      "cell_type": "markdown",
      "metadata": {
        "id": "sryD-eikiwnL",
        "colab_type": "text"
      },
      "source": [
        "Then calculate some statistics on the alignments"
      ]
    },
    {
      "cell_type": "code",
      "metadata": {
        "id": "BMPKL5gLiwnM",
        "colab_type": "code",
        "colab": {}
      },
      "source": [
        "!stats_from_bam reads2ref.bam > reads.stats"
      ],
      "execution_count": 0,
      "outputs": []
    },
    {
      "cell_type": "markdown",
      "metadata": {
        "id": "hMBXAzp_iwnR",
        "colab_type": "text"
      },
      "source": [
        "And then plot some information from the data table..."
      ]
    },
    {
      "cell_type": "code",
      "metadata": {
        "id": "6ZqJvweciwnS",
        "colab_type": "code",
        "colab": {}
      },
      "source": [
        "import pandas\n",
        "import seaborn as sns\n",
        "d = pandas.read_table(\"reads.stats\")\n",
        "sns.distplot(d['acc'])"
      ],
      "execution_count": 0,
      "outputs": []
    },
    {
      "cell_type": "code",
      "metadata": {
        "id": "pWdpfIxUiwnV",
        "colab_type": "code",
        "colab": {}
      },
      "source": [
        "!coverage_from_bam reads2ref.bam -s 10"
      ],
      "execution_count": 0,
      "outputs": []
    },
    {
      "cell_type": "code",
      "metadata": {
        "id": "Do4rWTEliwnZ",
        "colab_type": "code",
        "colab": {}
      },
      "source": [
        "e = pandas.read_table(\"reads2ref_NC_045512.2_0_29903.depth.txt\")\n",
        "e.head()\n",
        "sns.lineplot(e['pos'], e['depth'])"
      ],
      "execution_count": 0,
      "outputs": []
    },
    {
      "cell_type": "markdown",
      "metadata": {
        "id": "bm8LasSbc5wL",
        "colab_type": "text"
      },
      "source": [
        "# Variant Calling with medaka\n",
        "\n",
        "The following little workflow demonstrates minimal SNP calling by aligning reads to the reference sequence"
      ]
    },
    {
      "cell_type": "markdown",
      "metadata": {
        "colab_type": "text",
        "id": "D_buLVyIdg2S"
      },
      "source": [
        "Running `medaka`'s RNN on the alignments produced above:"
      ]
    },
    {
      "cell_type": "code",
      "metadata": {
        "id": "vrBdx1LGdIAA",
        "colab_type": "code",
        "colab": {}
      },
      "source": [
        "!rm -rf reads2ref.hdf\n",
        "!medaka consensus reads2ref.bam reads2ref.hdf --threads 4"
      ],
      "execution_count": 0,
      "outputs": []
    },
    {
      "cell_type": "markdown",
      "metadata": {
        "colab_type": "text",
        "id": "ds_JmA41duWA"
      },
      "source": [
        "and post processing the results into a Variant Call Format file:"
      ]
    },
    {
      "cell_type": "code",
      "metadata": {
        "id": "gx1vrRb2dxEh",
        "colab_type": "code",
        "colab": {}
      },
      "source": [
        "!gunzip -f GCF_009858895.2_ASM985889v3_genomic.fna.gz\n",
        "!medaka snp GCF_009858895.2_ASM985889v3_genomic.fna reads2ref.hdf ont.snp.vcf"
      ],
      "execution_count": 0,
      "outputs": []
    },
    {
      "cell_type": "markdown",
      "metadata": {
        "id": "aWGSqbj8d088",
        "colab_type": "text"
      },
      "source": [
        "and view the called variants"
      ]
    },
    {
      "cell_type": "code",
      "metadata": {
        "id": "iR3vbS-adz5G",
        "colab_type": "code",
        "colab": {}
      },
      "source": [
        "!cat ont.snp.vcf"
      ],
      "execution_count": 0,
      "outputs": []
    },
    {
      "cell_type": "code",
      "metadata": {
        "id": "yx1HL63CpxUn",
        "colab_type": "code",
        "colab": {}
      },
      "source": [
        ""
      ],
      "execution_count": 0,
      "outputs": []
    }
  ]
}