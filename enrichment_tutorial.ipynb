{
  "nbformat": 4,
  "nbformat_minor": 0,
  "metadata": {
    "kernelspec": {
      "display_name": "Python 3",
      "language": "python",
      "name": "python3"
    },
    "language_info": {
      "codemirror_mode": {
        "name": "ipython",
        "version": 3
      },
      "file_extension": ".py",
      "mimetype": "text/x-python",
      "name": "python",
      "nbconvert_exporter": "python",
      "pygments_lexer": "ipython3",
      "version": "3.7.6"
    },
    "colab": {
      "name": "Cas9 Enrichment Tutorial.ipynb",
      "provenance": [],
      "toc_visible": true,
      "include_colab_link": true
    },
    "widgets": {
      "application/vnd.jupyter.widget-state+json": {
        "79b155c96e244d73afba69b38562fc0f": {
          "model_module": "@jupyter-widgets/controls",
          "model_name": "VBoxModel",
          "state": {
            "_dom_classes": [
              "widget-interact"
            ],
            "_model_module": "@jupyter-widgets/controls",
            "_model_module_version": "1.5.0",
            "_model_name": "VBoxModel",
            "_view_count": null,
            "_view_module": "@jupyter-widgets/controls",
            "_view_module_version": "1.5.0",
            "_view_name": "VBoxView",
            "box_style": "",
            "children": [
              "IPY_MODEL_3c40abd8ff0849718bdd79da91c49e43",
              "IPY_MODEL_daccd86e9d924e368bf22a7dc8c124b0"
            ],
            "layout": "IPY_MODEL_f204b02c423a44d5a55f9c0e50982975"
          }
        },
        "3c40abd8ff0849718bdd79da91c49e43": {
          "model_module": "@jupyter-widgets/controls",
          "model_name": "DropdownModel",
          "state": {
            "_dom_classes": [],
            "_model_module": "@jupyter-widgets/controls",
            "_model_module_version": "1.5.0",
            "_model_name": "DropdownModel",
            "_options_labels": [
              "MUC1",
              "HTT",
              "SCA17",
              "C9orf72",
              "INS",
              "SCA2",
              "SCA3",
              "SCA6",
              "SCA10",
              "FMR1"
            ],
            "_view_count": null,
            "_view_module": "@jupyter-widgets/controls",
            "_view_module_version": "1.5.0",
            "_view_name": "DropdownView",
            "description": "target",
            "description_tooltip": null,
            "disabled": false,
            "index": 3,
            "layout": "IPY_MODEL_0aeece2ec5c64c52a4a4955bd4535fa5",
            "style": "IPY_MODEL_ee02173bf03a415b8047ba285f520b45"
          }
        },
        "daccd86e9d924e368bf22a7dc8c124b0": {
          "model_module": "@jupyter-widgets/output",
          "model_name": "OutputModel",
          "state": {
            "_dom_classes": [],
            "_model_module": "@jupyter-widgets/output",
            "_model_module_version": "1.0.0",
            "_model_name": "OutputModel",
            "_view_count": null,
            "_view_module": "@jupyter-widgets/output",
            "_view_module_version": "1.0.0",
            "_view_name": "OutputView",
            "layout": "IPY_MODEL_c54ce2620452415d81a9a800cfa147c5",
            "msg_id": "",
            "outputs": [
              {
                "output_type": "display_data",
                "metadata": {
                  "tags": []
                },
                "text/plain": "  Chromosome     Start       End    tname\n3       chr9  27523486  27623547  C9orf72",
                "text/html": "<div>\n<style scoped>\n    .dataframe tbody tr th:only-of-type {\n        vertical-align: middle;\n    }\n\n    .dataframe tbody tr th {\n        vertical-align: top;\n    }\n\n    .dataframe thead th {\n        text-align: right;\n    }\n</style>\n<table border=\"1\" class=\"dataframe\">\n  <thead>\n    <tr style=\"text-align: right;\">\n      <th></th>\n      <th>Chromosome</th>\n      <th>Start</th>\n      <th>End</th>\n      <th>tname</th>\n    </tr>\n  </thead>\n  <tbody>\n    <tr>\n      <th>3</th>\n      <td>chr9</td>\n      <td>27523486</td>\n      <td>27623547</td>\n      <td>C9orf72</td>\n    </tr>\n  </tbody>\n</table>\n</div>"
              },
              {
                "output_type": "display_data",
                "metadata": {
                  "tags": [],
                  "needs_background": "light"
                },
                "text/plain": "<Figure size 432x288 with 1 Axes>",
                "image/png": "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\n"
              }
            ]
          }
        },
        "f204b02c423a44d5a55f9c0e50982975": {
          "model_module": "@jupyter-widgets/base",
          "model_name": "LayoutModel",
          "state": {
            "_model_module": "@jupyter-widgets/base",
            "_model_module_version": "1.2.0",
            "_model_name": "LayoutModel",
            "_view_count": null,
            "_view_module": "@jupyter-widgets/base",
            "_view_module_version": "1.2.0",
            "_view_name": "LayoutView",
            "align_content": null,
            "align_items": null,
            "align_self": null,
            "border": null,
            "bottom": null,
            "display": null,
            "flex": null,
            "flex_flow": null,
            "grid_area": null,
            "grid_auto_columns": null,
            "grid_auto_flow": null,
            "grid_auto_rows": null,
            "grid_column": null,
            "grid_gap": null,
            "grid_row": null,
            "grid_template_areas": null,
            "grid_template_columns": null,
            "grid_template_rows": null,
            "height": null,
            "justify_content": null,
            "justify_items": null,
            "left": null,
            "margin": null,
            "max_height": null,
            "max_width": null,
            "min_height": null,
            "min_width": null,
            "object_fit": null,
            "object_position": null,
            "order": null,
            "overflow": null,
            "overflow_x": null,
            "overflow_y": null,
            "padding": null,
            "right": null,
            "top": null,
            "visibility": null,
            "width": null
          }
        },
        "0aeece2ec5c64c52a4a4955bd4535fa5": {
          "model_module": "@jupyter-widgets/base",
          "model_name": "LayoutModel",
          "state": {
            "_model_module": "@jupyter-widgets/base",
            "_model_module_version": "1.2.0",
            "_model_name": "LayoutModel",
            "_view_count": null,
            "_view_module": "@jupyter-widgets/base",
            "_view_module_version": "1.2.0",
            "_view_name": "LayoutView",
            "align_content": null,
            "align_items": null,
            "align_self": null,
            "border": null,
            "bottom": null,
            "display": null,
            "flex": null,
            "flex_flow": null,
            "grid_area": null,
            "grid_auto_columns": null,
            "grid_auto_flow": null,
            "grid_auto_rows": null,
            "grid_column": null,
            "grid_gap": null,
            "grid_row": null,
            "grid_template_areas": null,
            "grid_template_columns": null,
            "grid_template_rows": null,
            "height": null,
            "justify_content": null,
            "justify_items": null,
            "left": null,
            "margin": null,
            "max_height": null,
            "max_width": null,
            "min_height": null,
            "min_width": null,
            "object_fit": null,
            "object_position": null,
            "order": null,
            "overflow": null,
            "overflow_x": null,
            "overflow_y": null,
            "padding": null,
            "right": null,
            "top": null,
            "visibility": null,
            "width": null
          }
        },
        "ee02173bf03a415b8047ba285f520b45": {
          "model_module": "@jupyter-widgets/controls",
          "model_name": "DescriptionStyleModel",
          "state": {
            "_model_module": "@jupyter-widgets/controls",
            "_model_module_version": "1.5.0",
            "_model_name": "DescriptionStyleModel",
            "_view_count": null,
            "_view_module": "@jupyter-widgets/base",
            "_view_module_version": "1.2.0",
            "_view_name": "StyleView",
            "description_width": ""
          }
        }
      }
    }
  },
  "cells": [
    {
      "cell_type": "markdown",
      "metadata": {
        "id": "view-in-github",
        "colab_type": "text"
      },
      "source": [
        "<a href=\"https://colab.research.google.com/github/epi2me-labs/testbooks/blob/master/enrichment_tutorial.ipynb\" target=\"_parent\"><img src=\"https://colab.research.google.com/assets/colab-badge.svg\" alt=\"Open In Colab\"/></a>"
      ]
    },
    {
      "cell_type": "markdown",
      "metadata": {
        "id": "eyhWQcLLP6Kt",
        "colab_type": "text"
      },
      "source": [
        "<h1>Cas9 Enrichment Tutorial</h1>\n",
        "\n",
        "This tutorial is intended as a introduction into the analysis of a Cas9 enrichment experiment with nanopore sequencing. The tutorial will step through a discuss the steps of the workflow starting from raw sequencing data. We will learn how to:\n",
        "\n",
        "* Align read data to a human reference sequence\n",
        "* Show the sequencing depth for target regions\n",
        "* Analyse the proportion of off-target reads\n",
        "\n",
        "The tutorial makes use of some common bioinformatics including:\n",
        "\n",
        "* `mini_align` - a simple interface to the [`minimap2`](https://github.com/lh3/minimap2) alignment program.\n",
        "* [`pyranges`](https://github.com/biocore-ntnu/pyranges) - GenomicRanges and genomic Rle-objects for Python.\n",
        "\n",
        "Computational requirements for this tutorial include:\n",
        "\n",
        "- Computer running the **Epi2Me Labs** notebook Server\n",
        "- At least 8 Gb RAM\n"
      ]
    },
    {
      "cell_type": "markdown",
      "metadata": {
        "id": "a0y2JPI9SlxM",
        "colab_type": "text"
      },
      "source": [
        "## Introduction\n",
        "\n",
        "The tutorial requires a FASTQ format sequence file and a BED file of target coordinates as input, along with pointers to download locations for the reference genome to be used.\n",
        "\n",
        "The tutorial aids with the quantification of the non-target depletion and provides information on mapping characteristics that highlight the protocol performance. The figures plotted include depth-of-coverage over the target regions and strand bias over these regions. The location and peaks of coverage and local biases in strandedness may be used to assess the performance of guide-RNA sequences and may highlight guide RNAs that are not performing. A review of likely off-target regions over-represented within the sequence collection may inform of strategies to refine guide-RNA design.\n",
        "\n",
        "**Before stepping through the workflow be sure to connect this notebook to your local Epi2Me Labs server in the top right of the screen.** [Further details](https://colab.research.google.com/github/epi2me-labs/resources/blob/master/epi2me-labs-server.ipynb#connecting)\n"
      ]
    },
    {
      "cell_type": "markdown",
      "metadata": {
        "id": "ZMhjoLNaP6Ku",
        "colab_type": "text"
      },
      "source": [
        "## Data preparation\n",
        "\n",
        "To start analysing our experiment we must first \"read in\" the data. For this example we will first download three files:\n",
        "\n",
        "1. A `.fast5` file containing our sequencing data\n",
        "2. The human reference genome\n",
        "3. A `.bed` file describing the target regions of the genome\n"
      ]
    },
    {
      "cell_type": "markdown",
      "metadata": {
        "id": "LNl_IrI8pklV",
        "colab_type": "text"
      },
      "source": [
        "### Sample Data\n",
        "\n",
        "To use this tutorial with sample data we can download the files using the `linux` command `wget`. To execute the command click on the cell and then press Command/Ctrl-Enter, or click the Play symbol to the left-hand side."
      ]
    },
    {
      "cell_type": "markdown",
      "metadata": {
        "id": "fCRJklrYRhoB",
        "colab_type": "text"
      },
      "source": [
        "To get started we will download a sample sequencing dataset, click on the cell below and press the \"Play\" symbol to the left:"
      ]
    },
    {
      "cell_type": "code",
      "metadata": {
        "id": "MVacV0gxWwel",
        "colab_type": "code",
        "colab": {}
      },
      "source": [
        "# download the data\n",
        "!wget https://ont-research.s3-eu-west-1.amazonaws.com/labs_resources/cas9_tutorial/sample_cas9.tar.gz\n",
        "# the data is in a compressed archive so let's decompress it\n",
        "! tar -xzvf sample_cas9.tar.gz"
      ],
      "execution_count": 0,
      "outputs": []
    },
    {
      "cell_type": "markdown",
      "metadata": {
        "id": "U7nte38ESR3u",
        "colab_type": "text"
      },
      "source": [
        "The data downloaded is laid-out in the form as written by MinKNOW on a sequencing device, only reads passing the quality score filter applied by MinKNOW has been included (again click the cell and press play):"
      ]
    },
    {
      "cell_type": "code",
      "metadata": {
        "id": "87sHKcTNWlPf",
        "colab_type": "code",
        "colab": {}
      },
      "source": [
        "!tree sample_cas9"
      ],
      "execution_count": 0,
      "outputs": []
    },
    {
      "cell_type": "markdown",
      "metadata": {
        "id": "rbYU5N0KmBsW",
        "colab_type": "text"
      },
      "source": [
        "For our analysis we will also need the human genome reference, which we can download from NCBI:"
      ]
    },
    {
      "cell_type": "code",
      "metadata": {
        "id": "jTtCIdiO-IN3",
        "colab_type": "code",
        "colab": {}
      },
      "source": [
        "!mkdir -p sample_cas9_outputs\n",
        "!wget -O \"sample_cas9_outputs/grch38.fasta.gz\" http://ftp.ncbi.nlm.nih.gov/genomes/all/GCA/000/001/405/GCA_000001405.15_GRCh38/seqs_for_alignment_pipelines.ucsc_ids/GCA_000001405.15_GRCh38_no_alt_analysis_set.fna.gz\n",
        "# decompress and recompress with bgzip\n",
        "!gunzip \"sample_cas9_outputs/grch38.fasta.gz\"\n",
        "!run bgzip sample_cas9_outputs/grch38.fasta"
      ],
      "execution_count": 0,
      "outputs": []
    },
    {
      "cell_type": "markdown",
      "metadata": {
        "id": "3AuVE3qCoWrH",
        "colab_type": "text"
      },
      "source": [
        "Finally we will need a `BED` file describing the target regions of the genome."
      ]
    },
    {
      "cell_type": "code",
      "metadata": {
        "id": "SYhnDMfToh3d",
        "colab_type": "code",
        "colab": {}
      },
      "source": [
        "!wget -O sample_cas9_outputs/htt.bed https://ont-research.s3-eu-west-1.amazonaws.com/labs_resources/cas9_tutorial/htt.bed"
      ],
      "execution_count": 0,
      "outputs": []
    },
    {
      "cell_type": "markdown",
      "metadata": {
        "id": "nh7-4mZeXHRA",
        "colab_type": "text"
      },
      "source": [
        "### Using your own data\n",
        "\n",
        "If you wish to analyse your own data rather than the sample data, you can edit the value of the `data_folder` variable below. To find the correct full path of a directory you can navigate to it in\n",
        "the `Files` browser to the left-hand side, right-click on the file and select `Copy path`:"
      ]
    },
    {
      "cell_type": "markdown",
      "metadata": {
        "id": "vDCEs7E3Zy60",
        "colab_type": "text"
      },
      "source": [
        "![image.png](data:image/png;base64,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)"
      ]
    },
    {
      "cell_type": "markdown",
      "metadata": {
        "id": "1VM9k1NGZ8co",
        "colab_type": "text"
      },
      "source": [
        "When pasting the path in the code cell you will have to remove the preceding `/` character.\n"
      ]
    },
    {
      "cell_type": "markdown",
      "metadata": {
        "id": "rjXNch2Kp-_2",
        "colab_type": "text"
      },
      "source": [
        "### Data entry\n",
        "\n",
        "Having downloaded the sample data, or locating your own data in the file browser, we need to provide the filepaths as input to the notebook. This is done in the form below, after updating the values, be sure to press the play button."
      ]
    },
    {
      "cell_type": "markdown",
      "metadata": {
        "id": "46QEClv31y4J",
        "colab_type": "text"
      },
      "source": [
        "\n",
        "\n",
        "> **If you want simply to plot all the graphs in this tutorial for your dataset, rather than working through the tutorial, select `Run after` from the `Runtime` menu above after executing the cell below.**"
      ]
    },
    {
      "cell_type": "code",
      "metadata": {
        "id": "hexEX4x8VPfA",
        "colab_type": "code",
        "cellView": "form",
        "colab": {
          "base_uri": "https://localhost:8080/",
          "height": 68
        },
        "outputId": "e387278e-eb91-440a-8d6e-cb34df9cc7e8"
      },
      "source": [
        "#@markdown Enter the paths to you input files and output folder here:\n",
        "\n",
        "# set variables for our inputs\n",
        "data_folder='sample_cas9/fastq_pass'  #@param {type: \"string\"}\n",
        "output_folder='sample_cas9_outputs'  #@param {type: \"string\"}\n",
        "reference_genome='sample_cas9_outputs/grch38.fasta.gz' #@param {type: \"string\"}\n",
        "bed_file='sample_cas9_outputs/targets.bed' #@param {type: \"string\"}\n",
        "\n",
        "fastq = output_folder + '/all_data.fastq'\n",
        "\n",
        "# run a command to concatenate all the files together\n",
        "!echo \"Making output folder\"\n",
        "!test -f \"$reference_genome\" || \"WARNING: Reference file does not exist\"\n",
        "!mkdir -p \"$output_folder\"\n",
        "!concatenate_fastqs \"$data_folder\" \"$fastq\"\n",
        "\n",
        "region_bed = pd.read_csv(\n",
        "    bed_file, sep='\\t', header=None,\n",
        "    # https://genome.ucsc.edu/FAQ/FAQformat.html#format1\n",
        "    names=[\n",
        "        'chrom', 'start', 'end',  #required\n",
        "        'tname', 'score', 'strand', 'thickStart', 'thickEnd',\n",
        "        'itemRgb', 'blockCount', 'blockSizes', 'blockStarts'])\n",
        "\n",
        "region_bed['region'] = [\n",
        "    '{}:{}-{}'.format(x['chrom'], x.start, x.end)\n",
        "    for _, x in region_bed.iterrows()]\n"
      ],
      "execution_count": 487,
      "outputs": [
        {
          "output_type": "stream",
          "text": [
            "Making output folder\n",
            "Found files, concatenating\n",
            "Written data to sample_cas9_outputs/all_data.fastq\n"
          ],
          "name": "stdout"
        }
      ]
    },
    {
      "cell_type": "markdown",
      "metadata": {
        "id": "wfhtD7DZbl4Q",
        "colab_type": "text"
      },
      "source": [
        "## Alignment of reads\n",
        "\n",
        "Our first task in analysing our data is to align the sequence reads to the reference sequence. We do this with the `mini_align` program from the [`pomoxis`](https://github.com/nanoporetech/pomoxis) package. This is preinstalled in the **Epi2Me Labs** notebook server. Note that this command may take a while to run depending on the number of reads in your datasets. With the sample data (8000 reads) and using 4 compute threads (`-t 4` in the code), the alignments will take around 5 minutes.\n"
      ]
    },
    {
      "cell_type": "code",
      "metadata": {
        "id": "sTLIGAURr4Cd",
        "colab_type": "code",
        "outputId": "861505c9-0591-48f1-8f4f-d9cfbf70bc1e",
        "colab": {
          "base_uri": "https://localhost:8080/",
          "height": 187
        }
      },
      "source": [
        "!run mini_align \\\n",
        "    -r \"$reference_genome\" -i \"$output_folder/all_data.fastq\" \\\n",
        "    -p \"$output_folder/alignments\" \\\n",
        "    -t 3 -m"
      ],
      "execution_count": 189,
      "outputs": [
        {
          "output_type": "stream",
          "text": [
            "Found minimap files.\n",
            "[M::main::223.540*0.79] loaded/built the index for 195 target sequence(s)\n",
            "[M::mm_mapopt_update::270.033*0.83] mid_occ = 694\n",
            "[M::mm_idx_stat] kmer size: 15; skip: 10; is_hpc: 0; #seq: 195\n",
            "[M::mm_idx_stat::274.290*0.83] distinct minimizers: 100167746 (38.80% are singletons); average occurrences: 5.519; average spacing: 5.607\n",
            "[M::worker_pipeline::408.163*1.47] mapped 7853 sequences\n",
            "[M::main] Version: 2.17-r941\n",
            "[M::main] CMD: minimap2 -x map-ont --MD -t 3 -a sample_cas9_outputs/grch38.fasta.gz.mmi sample_cas9_outputs/all_data.fastq\n",
            "[M::main] Real time: 454.291 sec; CPU: 646.714 sec; Peak RSS: 8.483 GB\n",
            "[bam_sort_core] merging from 0 files and 3 in-memory blocks...\n"
          ],
          "name": "stdout"
        }
      ]
    },
    {
      "cell_type": "markdown",
      "metadata": {
        "id": "emZnWTi-2rNl",
        "colab_type": "text"
      },
      "source": [
        "While we are here we will calculate also a table summarising the alignment data, again using a program from `pomoxis`:"
      ]
    },
    {
      "cell_type": "code",
      "metadata": {
        "id": "7PMfMRYr2-ef",
        "colab_type": "code",
        "colab": {
          "base_uri": "https://localhost:8080/",
          "height": 34
        },
        "outputId": "94a825fb-8443-4d7b-828f-53371640faf1"
      },
      "source": [
        "!run stats_from_bam \"$output_folder/alignments.bam\" \\\n",
        "    > \"$output_folder/alignments.stats\""
      ],
      "execution_count": 191,
      "outputs": [
        {
          "output_type": "stream",
          "text": [
            "Mapped/Unmapped/Short/Masked: 7827/0/0/0\r\n"
          ],
          "name": "stdout"
        }
      ]
    },
    {
      "cell_type": "markdown",
      "metadata": {
        "id": "iOn_k8_CsuvV",
        "colab_type": "text"
      },
      "source": [
        "The summary file gives useful information on the alignment of each read to the reference sequence, including: chromosome, start and end coordinates, and the accuracy of the read with respect to the reference. We can plot a histogram of the latter quantity:"
      ]
    },
    {
      "cell_type": "code",
      "metadata": {
        "id": "9cYOMIAtuXQa",
        "colab_type": "code",
        "colab": {
          "base_uri": "https://localhost:8080/",
          "height": 317
        },
        "cellView": "form",
        "outputId": "8e986cfa-602a-4c7d-acc0-fc9a30863c39"
      },
      "source": [
        "#@markdown ***Accuracy distribution code*** (*click to show*)\n",
        "\n",
        "#load python libraries\n",
        "from bokeh.plotting import figure\n",
        "from bokeh.models import Range1d\n",
        "import bokeh.io as bkio\n",
        "import numpy as np\n",
        "import pandas as pd\n",
        "from scipy import stats as sp_stats\n",
        "\n",
        "aln_summary = pd.read_csv(\n",
        "    '{}/alignments.stats'.format(output_folder),\n",
        "    delimiter='\\t')\n",
        "\n",
        "\n",
        "def kernel_density_estimate(x, step=0.2):\n",
        "    \"\"\"Kernel density to approximate distribution\n",
        "\n",
        "    :param x: data of which to find mode.\n",
        "    :param step: discretization of KDE PDF.\n",
        "    \"\"\"\n",
        "    # estimate bandwidth of kde, R's nrd0 rule-of-thumb\n",
        "    hi = np.std(x, ddof=1)\n",
        "    q75, q25 = np.percentile(x, [75 ,25])\n",
        "    iqr = q75 - q25\n",
        "    lo = min(hi, iqr/1.34)\n",
        "    if not ((lo == hi) or (lo == abs(x[0])) or (lo == 1)):\n",
        "        lo = 1\n",
        "    bw = 0.9 * lo *len(x)**-0.2\n",
        "\n",
        "    # create a KDE\n",
        "    x_grid = np.arange(min(x), max(x), step)\n",
        "    kernel = sp_stats.gaussian_kde(x, bw_method=bw)\n",
        "    pdf = kernel(x_grid)\n",
        "    return x_grid, pdf\n",
        "\n",
        "x_grid, pdf = kernel_density_estimate(aln_summary.acc)\n",
        "mode_acc = x_grid[np.argmax(pdf)]\n",
        "mean_acc = aln_summary.acc.mean()\n",
        "\n",
        "# create a figure\n",
        "p = figure(\n",
        "    title='Read accuracy distribution',\n",
        "    output_backend=\"webgl\",\n",
        "    height=300, width=600)\n",
        "\n",
        "p.line(x=x_grid, y=pdf, line_width=1.5)\n",
        "\n",
        "\n",
        "# plot a vertical line for mean and N50 read length\n",
        "line_types = (('Mean', mean_acc), ('Mode', mode_acc))\n",
        "for name, val in line_types:\n",
        "    p.line(\n",
        "        x=[val, val], y=[0, 0.8*max(pdf)],\n",
        "        line_width=1.5, color='black')\n",
        "    p.text(x=[val], y=[0.8*max(pdf)],\n",
        "        text=['{}: {:.1f}'.format(name, val)],\n",
        "        angle=1, alpha=0.4)\n",
        "\n",
        "# limit the display range\n",
        "p.x_range = Range1d(start=80, end=100, bounds=(0, None))\n",
        "p.y_range = Range1d(start=0, end=1.2*max(pdf), bounds=(0, None))\n",
        "# add axis labels\n",
        "p.xaxis.axis_label = 'Read Accuracy'\n",
        "p.yaxis.axis_label = 'Number of reads'\n",
        "# show the plot\n",
        "bkio.output_notebook(hide_banner=True)\n",
        "bkio.show(p)"
      ],
      "execution_count": 447,
      "outputs": [
        {
          "output_type": "display_data",
          "data": {
            "application/javascript": [
              "\n",
              "(function(root) {\n",
              "  function now() {\n",
              "    return new Date();\n",
              "  }\n",
              "\n",
              "  var force = true;\n",
              "\n",
              "  if (typeof root._bokeh_onload_callbacks === \"undefined\" || force === true) {\n",
              "    root._bokeh_onload_callbacks = [];\n",
              "    root._bokeh_is_loading = undefined;\n",
              "  }\n",
              "\n",
              "  var JS_MIME_TYPE = 'application/javascript';\n",
              "  var HTML_MIME_TYPE = 'text/html';\n",
              "  var EXEC_MIME_TYPE = 'application/vnd.bokehjs_exec.v0+json';\n",
              "  var CLASS_NAME = 'output_bokeh rendered_html';\n",
              "\n",
              "  /**\n",
              "   * Render data to the DOM node\n",
              "   */\n",
              "  function render(props, node) {\n",
              "    var script = document.createElement(\"script\");\n",
              "    node.appendChild(script);\n",
              "  }\n",
              "\n",
              "  /**\n",
              "   * Handle when an output is cleared or removed\n",
              "   */\n",
              "  function handleClearOutput(event, handle) {\n",
              "    var cell = handle.cell;\n",
              "\n",
              "    var id = cell.output_area._bokeh_element_id;\n",
              "    var server_id = cell.output_area._bokeh_server_id;\n",
              "    // Clean up Bokeh references\n",
              "    if (id != null && id in Bokeh.index) {\n",
              "      Bokeh.index[id].model.document.clear();\n",
              "      delete Bokeh.index[id];\n",
              "    }\n",
              "\n",
              "    if (server_id !== undefined) {\n",
              "      // Clean up Bokeh references\n",
              "      var cmd = \"from bokeh.io.state import curstate; print(curstate().uuid_to_server['\" + server_id + \"'].get_sessions()[0].document.roots[0]._id)\";\n",
              "      cell.notebook.kernel.execute(cmd, {\n",
              "        iopub: {\n",
              "          output: function(msg) {\n",
              "            var id = msg.content.text.trim();\n",
              "            if (id in Bokeh.index) {\n",
              "              Bokeh.index[id].model.document.clear();\n",
              "              delete Bokeh.index[id];\n",
              "            }\n",
              "          }\n",
              "        }\n",
              "      });\n",
              "      // Destroy server and session\n",
              "      var cmd = \"import bokeh.io.notebook as ion; ion.destroy_server('\" + server_id + \"')\";\n",
              "      cell.notebook.kernel.execute(cmd);\n",
              "    }\n",
              "  }\n",
              "\n",
              "  /**\n",
              "   * Handle when a new output is added\n",
              "   */\n",
              "  function handleAddOutput(event, handle) {\n",
              "    var output_area = handle.output_area;\n",
              "    var output = handle.output;\n",
              "\n",
              "    // limit handleAddOutput to display_data with EXEC_MIME_TYPE content only\n",
              "    if ((output.output_type != \"display_data\") || (!output.data.hasOwnProperty(EXEC_MIME_TYPE))) {\n",
              "      return\n",
              "    }\n",
              "\n",
              "    var toinsert = output_area.element.find(\".\" + CLASS_NAME.split(' ')[0]);\n",
              "\n",
              "    if (output.metadata[EXEC_MIME_TYPE][\"id\"] !== undefined) {\n",
              "      toinsert[toinsert.length - 1].firstChild.textContent = output.data[JS_MIME_TYPE];\n",
              "      // store reference to embed id on output_area\n",
              "      output_area._bokeh_element_id = output.metadata[EXEC_MIME_TYPE][\"id\"];\n",
              "    }\n",
              "    if (output.metadata[EXEC_MIME_TYPE][\"server_id\"] !== undefined) {\n",
              "      var bk_div = document.createElement(\"div\");\n",
              "      bk_div.innerHTML = output.data[HTML_MIME_TYPE];\n",
              "      var script_attrs = bk_div.children[0].attributes;\n",
              "      for (var i = 0; i < script_attrs.length; i++) {\n",
              "        toinsert[toinsert.length - 1].firstChild.setAttribute(script_attrs[i].name, script_attrs[i].value);\n",
              "      }\n",
              "      // store reference to server id on output_area\n",
              "      output_area._bokeh_server_id = output.metadata[EXEC_MIME_TYPE][\"server_id\"];\n",
              "    }\n",
              "  }\n",
              "\n",
              "  function register_renderer(events, OutputArea) {\n",
              "\n",
              "    function append_mime(data, metadata, element) {\n",
              "      // create a DOM node to render to\n",
              "      var toinsert = this.create_output_subarea(\n",
              "        metadata,\n",
              "        CLASS_NAME,\n",
              "        EXEC_MIME_TYPE\n",
              "      );\n",
              "      this.keyboard_manager.register_events(toinsert);\n",
              "      // Render to node\n",
              "      var props = {data: data, metadata: metadata[EXEC_MIME_TYPE]};\n",
              "      render(props, toinsert[toinsert.length - 1]);\n",
              "      element.append(toinsert);\n",
              "      return toinsert\n",
              "    }\n",
              "\n",
              "    /* Handle when an output is cleared or removed */\n",
              "    events.on('clear_output.CodeCell', handleClearOutput);\n",
              "    events.on('delete.Cell', handleClearOutput);\n",
              "\n",
              "    /* Handle when a new output is added */\n",
              "    events.on('output_added.OutputArea', handleAddOutput);\n",
              "\n",
              "    /**\n",
              "     * Register the mime type and append_mime function with output_area\n",
              "     */\n",
              "    OutputArea.prototype.register_mime_type(EXEC_MIME_TYPE, append_mime, {\n",
              "      /* Is output safe? */\n",
              "      safe: true,\n",
              "      /* Index of renderer in `output_area.display_order` */\n",
              "      index: 0\n",
              "    });\n",
              "  }\n",
              "\n",
              "  // register the mime type if in Jupyter Notebook environment and previously unregistered\n",
              "  if (root.Jupyter !== undefined) {\n",
              "    var events = require('base/js/events');\n",
              "    var OutputArea = require('notebook/js/outputarea').OutputArea;\n",
              "\n",
              "    if (OutputArea.prototype.mime_types().indexOf(EXEC_MIME_TYPE) == -1) {\n",
              "      register_renderer(events, OutputArea);\n",
              "    }\n",
              "  }\n",
              "\n",
              "  \n",
              "  if (typeof (root._bokeh_timeout) === \"undefined\" || force === true) {\n",
              "    root._bokeh_timeout = Date.now() + 5000;\n",
              "    root._bokeh_failed_load = false;\n",
              "  }\n",
              "\n",
              "  var NB_LOAD_WARNING = {'data': {'text/html':\n",
              "     \"<div style='background-color: #fdd'>\\n\"+\n",
              "     \"<p>\\n\"+\n",
              "     \"BokehJS does not appear to have successfully loaded. If loading BokehJS from CDN, this \\n\"+\n",
              "     \"may be due to a slow or bad network connection. Possible fixes:\\n\"+\n",
              "     \"</p>\\n\"+\n",
              "     \"<ul>\\n\"+\n",
              "     \"<li>re-rerun `output_notebook()` to attempt to load from CDN again, or</li>\\n\"+\n",
              "     \"<li>use INLINE resources instead, as so:</li>\\n\"+\n",
              "     \"</ul>\\n\"+\n",
              "     \"<code>\\n\"+\n",
              "     \"from bokeh.resources import INLINE\\n\"+\n",
              "     \"output_notebook(resources=INLINE)\\n\"+\n",
              "     \"</code>\\n\"+\n",
              "     \"</div>\"}};\n",
              "\n",
              "  function display_loaded() {\n",
              "    var el = document.getElementById(null);\n",
              "    if (el != null) {\n",
              "      el.textContent = \"BokehJS is loading...\";\n",
              "    }\n",
              "    if (root.Bokeh !== undefined) {\n",
              "      if (el != null) {\n",
              "        el.textContent = \"BokehJS \" + root.Bokeh.version + \" successfully loaded.\";\n",
              "      }\n",
              "    } else if (Date.now() < root._bokeh_timeout) {\n",
              "      setTimeout(display_loaded, 100)\n",
              "    }\n",
              "  }\n",
              "\n",
              "\n",
              "  function run_callbacks() {\n",
              "    try {\n",
              "      root._bokeh_onload_callbacks.forEach(function(callback) {\n",
              "        if (callback != null)\n",
              "          callback();\n",
              "      });\n",
              "    } finally {\n",
              "      delete root._bokeh_onload_callbacks\n",
              "    }\n",
              "    console.debug(\"Bokeh: all callbacks have finished\");\n",
              "  }\n",
              "\n",
              "  function load_libs(css_urls, js_urls, callback) {\n",
              "    if (css_urls == null) css_urls = [];\n",
              "    if (js_urls == null) js_urls = [];\n",
              "\n",
              "    root._bokeh_onload_callbacks.push(callback);\n",
              "    if (root._bokeh_is_loading > 0) {\n",
              "      console.debug(\"Bokeh: BokehJS is being loaded, scheduling callback at\", now());\n",
              "      return null;\n",
              "    }\n",
              "    if (js_urls == null || js_urls.length === 0) {\n",
              "      run_callbacks();\n",
              "      return null;\n",
              "    }\n",
              "    console.debug(\"Bokeh: BokehJS not loaded, scheduling load and callback at\", now());\n",
              "    root._bokeh_is_loading = css_urls.length + js_urls.length;\n",
              "\n",
              "    function on_load() {\n",
              "      root._bokeh_is_loading--;\n",
              "      if (root._bokeh_is_loading === 0) {\n",
              "        console.debug(\"Bokeh: all BokehJS libraries/stylesheets loaded\");\n",
              "        run_callbacks()\n",
              "      }\n",
              "    }\n",
              "\n",
              "    function on_error() {\n",
              "      console.error(\"failed to load \" + url);\n",
              "    }\n",
              "\n",
              "    for (var i = 0; i < css_urls.length; i++) {\n",
              "      var url = css_urls[i];\n",
              "      const element = document.createElement(\"link\");\n",
              "      element.onload = on_load;\n",
              "      element.onerror = on_error;\n",
              "      element.rel = \"stylesheet\";\n",
              "      element.type = \"text/css\";\n",
              "      element.href = url;\n",
              "      console.debug(\"Bokeh: injecting link tag for BokehJS stylesheet: \", url);\n",
              "      document.body.appendChild(element);\n",
              "    }\n",
              "\n",
              "    for (var i = 0; i < js_urls.length; i++) {\n",
              "      var url = js_urls[i];\n",
              "      var element = document.createElement('script');\n",
              "      element.onload = on_load;\n",
              "      element.onerror = on_error;\n",
              "      element.async = false;\n",
              "      element.src = url;\n",
              "      console.debug(\"Bokeh: injecting script tag for BokehJS library: \", url);\n",
              "      document.head.appendChild(element);\n",
              "    }\n",
              "  };\n",
              "\n",
              "  function inject_raw_css(css) {\n",
              "    const element = document.createElement(\"style\");\n",
              "    element.appendChild(document.createTextNode(css));\n",
              "    document.body.appendChild(element);\n",
              "  }\n",
              "\n",
              "  \n",
              "  var js_urls = [\"https://cdn.pydata.org/bokeh/release/bokeh-1.4.0.min.js\", \"https://cdn.pydata.org/bokeh/release/bokeh-widgets-1.4.0.min.js\", \"https://cdn.pydata.org/bokeh/release/bokeh-tables-1.4.0.min.js\", \"https://cdn.pydata.org/bokeh/release/bokeh-gl-1.4.0.min.js\"];\n",
              "  var css_urls = [];\n",
              "  \n",
              "\n",
              "  var inline_js = [\n",
              "    function(Bokeh) {\n",
              "      Bokeh.set_log_level(\"info\");\n",
              "    },\n",
              "    function(Bokeh) {\n",
              "    \n",
              "    \n",
              "    }\n",
              "  ];\n",
              "\n",
              "  function run_inline_js() {\n",
              "    \n",
              "    if (root.Bokeh !== undefined || force === true) {\n",
              "      \n",
              "    for (var i = 0; i < inline_js.length; i++) {\n",
              "      inline_js[i].call(root, root.Bokeh);\n",
              "    }\n",
              "    } else if (Date.now() < root._bokeh_timeout) {\n",
              "      setTimeout(run_inline_js, 100);\n",
              "    } else if (!root._bokeh_failed_load) {\n",
              "      console.log(\"Bokeh: BokehJS failed to load within specified timeout.\");\n",
              "      root._bokeh_failed_load = true;\n",
              "    } else if (force !== true) {\n",
              "      var cell = $(document.getElementById(null)).parents('.cell').data().cell;\n",
              "      cell.output_area.append_execute_result(NB_LOAD_WARNING)\n",
              "    }\n",
              "\n",
              "  }\n",
              "\n",
              "  if (root._bokeh_is_loading === 0) {\n",
              "    console.debug(\"Bokeh: BokehJS loaded, going straight to plotting\");\n",
              "    run_inline_js();\n",
              "  } else {\n",
              "    load_libs(css_urls, js_urls, function() {\n",
              "      console.debug(\"Bokeh: BokehJS plotting callback run at\", now());\n",
              "      run_inline_js();\n",
              "    });\n",
              "  }\n",
              "}(window));"
            ],
            "application/vnd.bokehjs_load.v0+json": "\n(function(root) {\n  function now() {\n    return new Date();\n  }\n\n  var force = true;\n\n  if (typeof root._bokeh_onload_callbacks === \"undefined\" || force === true) {\n    root._bokeh_onload_callbacks = [];\n    root._bokeh_is_loading = undefined;\n  }\n\n  \n\n  \n  if (typeof (root._bokeh_timeout) === \"undefined\" || force === true) {\n    root._bokeh_timeout = Date.now() + 5000;\n    root._bokeh_failed_load = false;\n  }\n\n  var NB_LOAD_WARNING = {'data': {'text/html':\n     \"<div style='background-color: #fdd'>\\n\"+\n     \"<p>\\n\"+\n     \"BokehJS does not appear to have successfully loaded. If loading BokehJS from CDN, this \\n\"+\n     \"may be due to a slow or bad network connection. Possible fixes:\\n\"+\n     \"</p>\\n\"+\n     \"<ul>\\n\"+\n     \"<li>re-rerun `output_notebook()` to attempt to load from CDN again, or</li>\\n\"+\n     \"<li>use INLINE resources instead, as so:</li>\\n\"+\n     \"</ul>\\n\"+\n     \"<code>\\n\"+\n     \"from bokeh.resources import INLINE\\n\"+\n     \"output_notebook(resources=INLINE)\\n\"+\n     \"</code>\\n\"+\n     \"</div>\"}};\n\n  function display_loaded() {\n    var el = document.getElementById(null);\n    if (el != null) {\n      el.textContent = \"BokehJS is loading...\";\n    }\n    if (root.Bokeh !== undefined) {\n      if (el != null) {\n        el.textContent = \"BokehJS \" + root.Bokeh.version + \" successfully loaded.\";\n      }\n    } else if (Date.now() < root._bokeh_timeout) {\n      setTimeout(display_loaded, 100)\n    }\n  }\n\n\n  function run_callbacks() {\n    try {\n      root._bokeh_onload_callbacks.forEach(function(callback) {\n        if (callback != null)\n          callback();\n      });\n    } finally {\n      delete root._bokeh_onload_callbacks\n    }\n    console.debug(\"Bokeh: all callbacks have finished\");\n  }\n\n  function load_libs(css_urls, js_urls, callback) {\n    if (css_urls == null) css_urls = [];\n    if (js_urls == null) js_urls = [];\n\n    root._bokeh_onload_callbacks.push(callback);\n    if (root._bokeh_is_loading > 0) {\n      console.debug(\"Bokeh: BokehJS is being loaded, scheduling callback at\", now());\n      return null;\n    }\n    if (js_urls == null || js_urls.length === 0) {\n      run_callbacks();\n      return null;\n    }\n    console.debug(\"Bokeh: BokehJS not loaded, scheduling load and callback at\", now());\n    root._bokeh_is_loading = css_urls.length + js_urls.length;\n\n    function on_load() {\n      root._bokeh_is_loading--;\n      if (root._bokeh_is_loading === 0) {\n        console.debug(\"Bokeh: all BokehJS libraries/stylesheets loaded\");\n        run_callbacks()\n      }\n    }\n\n    function on_error() {\n      console.error(\"failed to load \" + url);\n    }\n\n    for (var i = 0; i < css_urls.length; i++) {\n      var url = css_urls[i];\n      const element = document.createElement(\"link\");\n      element.onload = on_load;\n      element.onerror = on_error;\n      element.rel = \"stylesheet\";\n      element.type = \"text/css\";\n      element.href = url;\n      console.debug(\"Bokeh: injecting link tag for BokehJS stylesheet: \", url);\n      document.body.appendChild(element);\n    }\n\n    for (var i = 0; i < js_urls.length; i++) {\n      var url = js_urls[i];\n      var element = document.createElement('script');\n      element.onload = on_load;\n      element.onerror = on_error;\n      element.async = false;\n      element.src = url;\n      console.debug(\"Bokeh: injecting script tag for BokehJS library: \", url);\n      document.head.appendChild(element);\n    }\n  };\n\n  function inject_raw_css(css) {\n    const element = document.createElement(\"style\");\n    element.appendChild(document.createTextNode(css));\n    document.body.appendChild(element);\n  }\n\n  \n  var js_urls = [\"https://cdn.pydata.org/bokeh/release/bokeh-1.4.0.min.js\", \"https://cdn.pydata.org/bokeh/release/bokeh-widgets-1.4.0.min.js\", \"https://cdn.pydata.org/bokeh/release/bokeh-tables-1.4.0.min.js\", \"https://cdn.pydata.org/bokeh/release/bokeh-gl-1.4.0.min.js\"];\n  var css_urls = [];\n  \n\n  var inline_js = [\n    function(Bokeh) {\n      Bokeh.set_log_level(\"info\");\n    },\n    function(Bokeh) {\n    \n    \n    }\n  ];\n\n  function run_inline_js() {\n    \n    if (root.Bokeh !== undefined || force === true) {\n      \n    for (var i = 0; i < inline_js.length; i++) {\n      inline_js[i].call(root, root.Bokeh);\n    }\n    } else if (Date.now() < root._bokeh_timeout) {\n      setTimeout(run_inline_js, 100);\n    } else if (!root._bokeh_failed_load) {\n      console.log(\"Bokeh: BokehJS failed to load within specified timeout.\");\n      root._bokeh_failed_load = true;\n    } else if (force !== true) {\n      var cell = $(document.getElementById(null)).parents('.cell').data().cell;\n      cell.output_area.append_execute_result(NB_LOAD_WARNING)\n    }\n\n  }\n\n  if (root._bokeh_is_loading === 0) {\n    console.debug(\"Bokeh: BokehJS loaded, going straight to plotting\");\n    run_inline_js();\n  } else {\n    load_libs(css_urls, js_urls, function() {\n      console.debug(\"Bokeh: BokehJS plotting callback run at\", now());\n      run_inline_js();\n    });\n  }\n}(window));"
          },
          "metadata": {
            "tags": []
          }
        },
        {
          "output_type": "display_data",
          "data": {
            "text/html": [
              "\n",
              "\n",
              "\n",
              "\n",
              "\n",
              "\n",
              "  <div class=\"bk-root\" id=\"c6a2c61f-454f-49c2-96d7-985f77e511b9\" data-root-id=\"12098\"></div>\n"
            ]
          },
          "metadata": {
            "tags": []
          }
        },
        {
          "output_type": "display_data",
          "data": {
            "application/javascript": [
              "(function(root) {\n",
              "  function embed_document(root) {\n",
              "    \n",
              "  var docs_json = {\"2243f99f-cd95-4485-811f-9b133f29bf08\":{\"roots\":{\"references\":[{\"attributes\":{\"below\":[{\"id\":\"12109\",\"type\":\"LinearAxis\"}],\"center\":[{\"id\":\"12113\",\"type\":\"Grid\"},{\"id\":\"12118\",\"type\":\"Grid\"}],\"left\":[{\"id\":\"12114\",\"type\":\"LinearAxis\"}],\"output_backend\":\"webgl\",\"plot_height\":300,\"renderers\":[{\"id\":\"12135\",\"type\":\"GlyphRenderer\"},{\"id\":\"12140\",\"type\":\"GlyphRenderer\"},{\"id\":\"12145\",\"type\":\"GlyphRenderer\"},{\"id\":\"12150\",\"type\":\"GlyphRenderer\"},{\"id\":\"12155\",\"type\":\"GlyphRenderer\"}],\"title\":{\"id\":\"12099\",\"type\":\"Title\"},\"toolbar\":{\"id\":\"12125\",\"type\":\"Toolbar\"},\"x_range\":{\"id\":\"12157\",\"type\":\"Range1d\"},\"x_scale\":{\"id\":\"12105\",\"type\":\"LinearScale\"},\"y_range\":{\"id\":\"12158\",\"type\":\"Range1d\"},\"y_scale\":{\"id\":\"12107\",\"type\":\"LinearScale\"}},\"id\":\"12098\",\"subtype\":\"Figure\",\"type\":\"Plot\"},{\"attributes\":{},\"id\":\"12560\",\"type\":\"Selection\"},{\"attributes\":{},\"id\":\"12107\",\"type\":\"LinearScale\"},{\"attributes\":{},\"id\":\"12563\",\"type\":\"UnionRenderers\"},{\"attributes\":{},\"id\":\"12119\",\"type\":\"PanTool\"},{\"attributes\":{\"active_drag\":\"auto\",\"active_inspect\":\"auto\",\"active_multi\":null,\"active_scroll\":\"auto\",\"active_tap\":\"auto\",\"tools\":[{\"id\":\"12119\",\"type\":\"PanTool\"},{\"id\":\"12120\",\"type\":\"WheelZoomTool\"},{\"id\":\"12121\",\"type\":\"BoxZoomTool\"},{\"id\":\"12122\",\"type\":\"SaveTool\"},{\"id\":\"12123\",\"type\":\"ResetTool\"},{\"id\":\"12124\",\"type\":\"HelpTool\"}]},\"id\":\"12125\",\"type\":\"Toolbar\"},{\"attributes\":{\"bounds\":[0,null],\"callback\":null,\"end\":0.2493992284557557},\"id\":\"12158\",\"type\":\"Range1d\"},{\"attributes\":{\"data_source\":{\"id\":\"12147\",\"type\":\"ColumnDataSource\"},\"glyph\":{\"id\":\"12148\",\"type\":\"Line\"},\"hover_glyph\":null,\"muted_glyph\":null,\"nonselection_glyph\":{\"id\":\"12149\",\"type\":\"Line\"},\"selection_glyph\":null,\"view\":{\"id\":\"12151\",\"type\":\"CDSView\"}},\"id\":\"12150\",\"type\":\"GlyphRenderer\"},{\"attributes\":{},\"id\":\"12565\",\"type\":\"UnionRenderers\"},{\"attributes\":{\"source\":{\"id\":\"12152\",\"type\":\"ColumnDataSource\"}},\"id\":\"12156\",\"type\":\"CDSView\"},{\"attributes\":{\"angle\":{\"units\":\"rad\",\"value\":1},\"text_alpha\":{\"value\":0.1},\"text_color\":{\"value\":\"black\"},\"x\":{\"field\":\"x\"},\"y\":{\"field\":\"y\"}},\"id\":\"12144\",\"type\":\"Text\"},{\"attributes\":{},\"id\":\"12568\",\"type\":\"Selection\"},{\"attributes\":{\"callback\":null,\"data\":{\"text\":[\"Mode: 95.1\"],\"x\":[95.13602437166833],\"y\":[0.16626615230383715]},\"selected\":{\"id\":\"12568\",\"type\":\"Selection\"},\"selection_policy\":{\"id\":\"12567\",\"type\":\"UnionRenderers\"}},\"id\":\"12152\",\"type\":\"ColumnDataSource\"},{\"attributes\":{\"angle\":{\"units\":\"rad\",\"value\":1},\"text_alpha\":{\"value\":0.4},\"text_color\":{\"value\":\"black\"},\"x\":{\"field\":\"x\"},\"y\":{\"field\":\"y\"}},\"id\":\"12143\",\"type\":\"Text\"},{\"attributes\":{\"line_color\":\"#1f77b4\",\"line_width\":1.5,\"x\":{\"field\":\"x\"},\"y\":{\"field\":\"y\"}},\"id\":\"12133\",\"type\":\"Line\"},{\"attributes\":{\"callback\":null,\"data\":{\"text\":[\"Mean: 92.9\"],\"x\":[92.89652922536658],\"y\":[0.16626615230383715]},\"selected\":{\"id\":\"12564\",\"type\":\"Selection\"},\"selection_policy\":{\"id\":\"12563\",\"type\":\"UnionRenderers\"}},\"id\":\"12142\",\"type\":\"ColumnDataSource\"},{\"attributes\":{},\"id\":\"12566\",\"type\":\"Selection\"},{\"attributes\":{},\"id\":\"12120\",\"type\":\"WheelZoomTool\"},{\"attributes\":{\"line_alpha\":0.1,\"line_color\":\"#1f77b4\",\"line_width\":1.5,\"x\":{\"field\":\"x\"},\"y\":{\"field\":\"y\"}},\"id\":\"12139\",\"type\":\"Line\"},{\"attributes\":{\"callback\":null,\"data\":{\"x\":[95.13602437166833,95.13602437166833],\"y\":[0,0.16626615230383715]},\"selected\":{\"id\":\"12566\",\"type\":\"Selection\"},\"selection_policy\":{\"id\":\"12565\",\"type\":\"UnionRenderers\"}},\"id\":\"12147\",\"type\":\"ColumnDataSource\"},{\"attributes\":{\"source\":{\"id\":\"12147\",\"type\":\"ColumnDataSource\"}},\"id\":\"12151\",\"type\":\"CDSView\"},{\"attributes\":{},\"id\":\"12115\",\"type\":\"BasicTicker\"},{\"attributes\":{\"data_source\":{\"id\":\"12142\",\"type\":\"ColumnDataSource\"},\"glyph\":{\"id\":\"12143\",\"type\":\"Text\"},\"hover_glyph\":null,\"muted_glyph\":null,\"nonselection_glyph\":{\"id\":\"12144\",\"type\":\"Text\"},\"selection_glyph\":null,\"view\":{\"id\":\"12146\",\"type\":\"CDSView\"}},\"id\":\"12145\",\"type\":\"GlyphRenderer\"},{\"attributes\":{\"axis_label\":\"Read Accuracy\",\"formatter\":{\"id\":\"12555\",\"type\":\"BasicTickFormatter\"},\"ticker\":{\"id\":\"12110\",\"type\":\"BasicTicker\"}},\"id\":\"12109\",\"type\":\"LinearAxis\"},{\"attributes\":{\"overlay\":{\"id\":\"12558\",\"type\":\"BoxAnnotation\"}},\"id\":\"12121\",\"type\":\"BoxZoomTool\"},{\"attributes\":{},\"id\":\"12567\",\"type\":\"UnionRenderers\"},{\"attributes\":{\"angle\":{\"units\":\"rad\",\"value\":1},\"text_alpha\":{\"value\":0.4},\"text_color\":{\"value\":\"black\"},\"x\":{\"field\":\"x\"},\"y\":{\"field\":\"y\"}},\"id\":\"12153\",\"type\":\"Text\"},{\"attributes\":{\"axis_label\":\"Number of reads\",\"formatter\":{\"id\":\"12557\",\"type\":\"BasicTickFormatter\"},\"ticker\":{\"id\":\"12115\",\"type\":\"BasicTicker\"}},\"id\":\"12114\",\"type\":\"LinearAxis\"},{\"attributes\":{\"source\":{\"id\":\"12142\",\"type\":\"ColumnDataSource\"}},\"id\":\"12146\",\"type\":\"CDSView\"},{\"attributes\":{\"data_source\":{\"id\":\"12132\",\"type\":\"ColumnDataSource\"},\"glyph\":{\"id\":\"12133\",\"type\":\"Line\"},\"hover_glyph\":null,\"muted_glyph\":null,\"nonselection_glyph\":{\"id\":\"12134\",\"type\":\"Line\"},\"selection_glyph\":null,\"view\":{\"id\":\"12136\",\"type\":\"CDSView\"}},\"id\":\"12135\",\"type\":\"GlyphRenderer\"},{\"attributes\":{\"angle\":{\"units\":\"rad\",\"value\":1},\"text_alpha\":{\"value\":0.1},\"text_color\":{\"value\":\"black\"},\"x\":{\"field\":\"x\"},\"y\":{\"field\":\"y\"}},\"id\":\"12154\",\"type\":\"Text\"},{\"attributes\":{},\"id\":\"12559\",\"type\":\"UnionRenderers\"},{\"attributes\":{},\"id\":\"12105\",\"type\":\"LinearScale\"},{\"attributes\":{\"callback\":null,\"data\":{\"x\":{\"__ndarray__\":\"qCTE0uf7UEB18ZCftAhRQEK+XWyBFVFAD4sqOU4iUUDcV/cFGy9RQKkkxNLnO1FAdvGQn7RIUUBDvl1sgVVRQBCLKjlOYlFA3Vf3BRtvUUCqJMTS53tRQHfxkJ+0iFFARL5dbIGVUUARiyo5TqJRQN5X9wUbr1FAqyTE0ue7UUB48ZCftMhRQEW+XWyB1VFAEosqOU7iUUDfV/cFG+9RQKwkxNLn+1FAefGQn7QIUkBGvl1sgRVSQBOLKjlOIlJA4Ff3BRsvUkCtJMTS5ztSQHrxkJ+0SFJAR75dbIFVUkAUiyo5TmJSQOFX9wUbb1JAriTE0ud7UkB78ZCftIhSQEi+XWyBlVJAFYsqOU6iUkDiV/cFG69SQK8kxNLnu1JAfPGQn7TIUkBJvl1sgdVSQBaLKjlO4lJA41f3BRvvUkCwJMTS5/tSQH3xkJ+0CFNASr5dbIEVU0AXiyo5TiJTQORX9wUbL1NAsSTE0uc7U0B+8ZCftEhTQEu+XWyBVVNAGIsqOU5iU0DlV/cFG29TQLIkxNLne1NAf/GQn7SIU0BMvl1sgZVTQBmLKjlOolNA5lf3BRuvU0CzJMTS57tTQIDxkJ+0yFNATb5dbIHVU0Aaiyo5TuJTQOdX9wUb71NAtCTE0uf7U0CB8ZCftAhUQE6+XWyBFVRAG4sqOU4iVEDoV/cFGy9UQLUkxNLnO1RAgvGQn7RIVEBPvl1sgVVUQByLKjlOYlRA6Vf3BRtvVEC2JMTS53tUQIPxkJ+0iFRAUL5dbIGVVEAdiyo5TqJUQOpX9wUbr1RAtyTE0ue7VECE8ZCftMhUQFG+XWyB1VRAHosqOU7iVEDrV/cFG+9UQLgkxNLn+1RAhfGQn7QIVUBSvl1sgRVVQB+LKjlOIlVA7Ff3BRsvVUC5JMTS5ztVQIbxkJ+0SFVAU75dbIFVVUAgiyo5TmJVQO1X9wUbb1VAuiTE0ud7VUCH8ZCftIhVQFS+XWyBlVVAIYsqOU6iVUDuV/cFG69VQLskxNLnu1VAiPGQn7TIVUBVvl1sgdVVQCKLKjlO4lVA71f3BRvvVUC8JMTS5/tVQInxkJ+0CFZAVr5dbIEVVkAjiyo5TiJWQPBX9wUbL1ZAvSTE0uc7VkCK8ZCftEhWQFe+XWyBVVZAJIsqOU5iVkDxV/cFG29WQL4kxNLne1ZAi/GQn7SIVkBYvl1sgZVWQCWLKjlOolZA8lf3BRuvVkC/JMTS57tWQIzxkJ+0yFZAWb5dbIHVVkAmiyo5TuJWQPNX9wUb71ZAwCTE0uf7VkCN8ZCftAhXQFq+XWyBFVdAJ4sqOU4iV0D0V/cFGy9XQMEkxNLnO1dAjvGQn7RIV0Bbvl1sgVVXQCiLKjlOYldA9Vf3BRtvV0DCJMTS53tXQI/xkJ+0iFdAXL5dbIGVV0Apiyo5TqJXQPZX9wUbr1dAwyTE0ue7V0CQ8ZCftMhXQF2+XWyB1VdAKosqOU7iV0D3V/cFG+9XQMQkxNLn+1dAkfGQn7QIWEBevl1sgRVYQCuLKjlOIlhA+Ff3BRsvWEDFJMTS5ztYQJLxkJ+0SFhAX75dbIFVWEAsiyo5TmJYQPlX9wUbb1hAxiTE0ud7WECT8ZCftIhYQGC+XWyBlVhALYsqOU6iWED6V/cFG69YQMckxNLnu1hAlPGQn7TIWEBhvl1sgdVYQA==\",\"dtype\":\"float64\",\"shape\":[158]},\"y\":{\"__ndarray__\":\"/k89gPcXHz/Hul2mbCghP0cCANOK+iE/BSnRHdw2Ij9xp9/xgToiP2nBgsilnSI/rHgso6g4JD/EwZzfzdwnP/Fk08NUvy0/pdbFSfl7Mj+NVZ5R+ck1P0sK8Pk9tDc/jghxzJibNz8Yyq2IYbA1Pw+G9fge0jI/Fi/9zoQOMD8GbF6SnjssPzGXiUUXYSo/rWIckkY1Kj+rlPvxmksrP2fuVaMolS0/c1MZUTqzMD9yTNuLU5ozP1u3yQfMsTc/IgSyyRg2PT8pb+Wls1FCPyZUMDVPZkc/Y9AccIlGTj90adeOmoVTPyZKUiztkVg/KlD8CPinXT+9Z4btqP9gP6Z2Aeavd2I/wMevBbkRYz/QP+hFo9JiP6wp3r255GE/LDLFCfuIYD/2ippWzQ1eP5axyQJrN1s/Mblzu8reWD/h2q67yy1XP91GAg7aP1Y/tlcjBnUxVj8sisnDrhVXPyIG3fY43lg/fk2fpllSWz/Pc6fLjCFeP5q1IC0VgWA/nUsD9f7fYT8g/VAoCxdjP2j8HbjwBmQ/6zMuataHZD/btKBwdH9kP9Opr3hYAGQ/AsiVY7pXYz8RnM73gPliP5C+VPddU2M/lxEseXWgZD9pKtilUtNmP4RCPBQnnWk/e4cV4IiMbD9scRg7YzZvP0B2Q+8brHA/WMwAuZhycT+QdNzICf1xP6U9jI9OYXI/0ni7Uf6xcj8OdO2Ru/1yP3Eak8laV3M/wXm8gIDccz9wieT2JbB0P5yT5Qeb6XU/X9cIMUaFdz9lkU4fB2V5P9p3oMwnYXs/gricyztdfT/+1OV+41J/PzxoCYcBp4A/NToNrNKvgT89CtHKsMeCP13eEGeH6IM/C0IDRIMBhT8NXFdTHfyFP0uNuB52xoY/p9XoJEpehz+euBTqOtWHP1M8rp/8SYg/JHm2lHnZiD+tRa7XT5GJPw+eHfBobIo/Hyn/yxZbiz8VYbU7TVCMP0hu8VcSS40/Sx9vJtZWjj9FEAbg5oOPPz7EpNVZb5A/So/0t642kT/To/XuxxqSP9Fk8ekcIpM/Z+IAvqpWlD+nZw/bQMCVP7/NxzZxXZc/fT63L+YhmT8ibUilwvyaP7LCeLhm4pw/oyxRqqrRnj++ItGcUmigP1QUengucqE/6cunu0mFoj90gtVRSJ2jP1DN+QIltqQ/Aht4q17QpT8OVQ7ypvKmP0dew+qQJ6g/OdyDB794qT9myvhMTuuqP9WRGVZ1gKw/tXK6ues5rj9YJ2V4cA+wP14GYCs3H7E/7M/AvkRXsj9UpRQtCMSzP6U/cBNrcLU/Y/qrsGNitz8OxgRJDpi5P5fiPNK7Brw/lQ+YwDmdvj9LGid6taTAP1Ki89+P/8E/Fog7mvhdwz+qKFDx9MHEPxUPs2Q7K8Y/uJri80yQxz+uCMl3HdrIP5FZw+QT5ck/gB5sHmGHyj8XRxz4QprKPyBwNQb7Aso/MbVJdPm4yD/KHAcMLsjGP6vZ1p2tT8Q/YhZDQlN9wT9Ntv7aAg69P6OxCirMRLc/7SwRVK/5sT9B5bOcStWqP3ocrId5aKM/WNOSF5dSmz8TqaxyKtGSP6P3ZovSgok/WSR/vnkfgT+dVh2A+N92P9MxCVYMgW4/8OpCm7FNZD+cLOpOe+daP4ZPDggHrFE/g9UCGT/zRj/hhMsotXE9Pw==\",\"dtype\":\"float64\",\"shape\":[158]}},\"selected\":{\"id\":\"12560\",\"type\":\"Selection\"},\"selection_policy\":{\"id\":\"12559\",\"type\":\"UnionRenderers\"}},\"id\":\"12132\",\"type\":\"ColumnDataSource\"},{\"attributes\":{\"bounds\":[0,null],\"callback\":null,\"end\":100,\"start\":80},\"id\":\"12157\",\"type\":\"Range1d\"},{\"attributes\":{\"source\":{\"id\":\"12137\",\"type\":\"ColumnDataSource\"}},\"id\":\"12141\",\"type\":\"CDSView\"},{\"attributes\":{\"ticker\":{\"id\":\"12110\",\"type\":\"BasicTicker\"}},\"id\":\"12113\",\"type\":\"Grid\"},{\"attributes\":{\"callback\":null,\"data\":{\"x\":[92.89652922536658,92.89652922536658],\"y\":[0,0.16626615230383715]},\"selected\":{\"id\":\"12562\",\"type\":\"Selection\"},\"selection_policy\":{\"id\":\"12561\",\"type\":\"UnionRenderers\"}},\"id\":\"12137\",\"type\":\"ColumnDataSource\"},{\"attributes\":{},\"id\":\"12564\",\"type\":\"Selection\"},{\"attributes\":{\"line_width\":1.5,\"x\":{\"field\":\"x\"},\"y\":{\"field\":\"y\"}},\"id\":\"12138\",\"type\":\"Line\"},{\"attributes\":{\"line_alpha\":0.1,\"line_color\":\"#1f77b4\",\"line_width\":1.5,\"x\":{\"field\":\"x\"},\"y\":{\"field\":\"y\"}},\"id\":\"12149\",\"type\":\"Line\"},{\"attributes\":{\"data_source\":{\"id\":\"12137\",\"type\":\"ColumnDataSource\"},\"glyph\":{\"id\":\"12138\",\"type\":\"Line\"},\"hover_glyph\":null,\"muted_glyph\":null,\"nonselection_glyph\":{\"id\":\"12139\",\"type\":\"Line\"},\"selection_glyph\":null,\"view\":{\"id\":\"12141\",\"type\":\"CDSView\"}},\"id\":\"12140\",\"type\":\"GlyphRenderer\"},{\"attributes\":{\"source\":{\"id\":\"12132\",\"type\":\"ColumnDataSource\"}},\"id\":\"12136\",\"type\":\"CDSView\"},{\"attributes\":{\"dimension\":1,\"ticker\":{\"id\":\"12115\",\"type\":\"BasicTicker\"}},\"id\":\"12118\",\"type\":\"Grid\"},{\"attributes\":{},\"id\":\"12122\",\"type\":\"SaveTool\"},{\"attributes\":{},\"id\":\"12562\",\"type\":\"Selection\"},{\"attributes\":{},\"id\":\"12124\",\"type\":\"HelpTool\"},{\"attributes\":{\"bottom_units\":\"screen\",\"fill_alpha\":{\"value\":0.5},\"fill_color\":{\"value\":\"lightgrey\"},\"left_units\":\"screen\",\"level\":\"overlay\",\"line_alpha\":{\"value\":1.0},\"line_color\":{\"value\":\"black\"},\"line_dash\":[4,4],\"line_width\":{\"value\":2},\"render_mode\":\"css\",\"right_units\":\"screen\",\"top_units\":\"screen\"},\"id\":\"12558\",\"type\":\"BoxAnnotation\"},{\"attributes\":{\"text\":\"Read accuracy distribution\"},\"id\":\"12099\",\"type\":\"Title\"},{\"attributes\":{\"data_source\":{\"id\":\"12152\",\"type\":\"ColumnDataSource\"},\"glyph\":{\"id\":\"12153\",\"type\":\"Text\"},\"hover_glyph\":null,\"muted_glyph\":null,\"nonselection_glyph\":{\"id\":\"12154\",\"type\":\"Text\"},\"selection_glyph\":null,\"view\":{\"id\":\"12156\",\"type\":\"CDSView\"}},\"id\":\"12155\",\"type\":\"GlyphRenderer\"},{\"attributes\":{},\"id\":\"12110\",\"type\":\"BasicTicker\"},{\"attributes\":{},\"id\":\"12555\",\"type\":\"BasicTickFormatter\"},{\"attributes\":{\"line_width\":1.5,\"x\":{\"field\":\"x\"},\"y\":{\"field\":\"y\"}},\"id\":\"12148\",\"type\":\"Line\"},{\"attributes\":{\"line_alpha\":0.1,\"line_color\":\"#1f77b4\",\"line_width\":1.5,\"x\":{\"field\":\"x\"},\"y\":{\"field\":\"y\"}},\"id\":\"12134\",\"type\":\"Line\"},{\"attributes\":{},\"id\":\"12561\",\"type\":\"UnionRenderers\"},{\"attributes\":{},\"id\":\"12557\",\"type\":\"BasicTickFormatter\"},{\"attributes\":{},\"id\":\"12123\",\"type\":\"ResetTool\"}],\"root_ids\":[\"12098\"]},\"title\":\"Bokeh Application\",\"version\":\"1.4.0\"}};\n",
              "  var render_items = [{\"docid\":\"2243f99f-cd95-4485-811f-9b133f29bf08\",\"roots\":{\"12098\":\"c6a2c61f-454f-49c2-96d7-985f77e511b9\"}}];\n",
              "  root.Bokeh.embed.embed_items_notebook(docs_json, render_items);\n",
              "\n",
              "  }\n",
              "  if (root.Bokeh !== undefined) {\n",
              "    embed_document(root);\n",
              "  } else {\n",
              "    var attempts = 0;\n",
              "    var timer = setInterval(function(root) {\n",
              "      if (root.Bokeh !== undefined) {\n",
              "        clearInterval(timer);\n",
              "        embed_document(root);\n",
              "      } else {\n",
              "        attempts++;\n",
              "        if (attempts > 100) {\n",
              "          clearInterval(timer);\n",
              "          console.log(\"Bokeh: ERROR: Unable to run BokehJS code because BokehJS library is missing\");\n",
              "        }\n",
              "      }\n",
              "    }, 10, root)\n",
              "  }\n",
              "})(window);"
            ],
            "application/vnd.bokehjs_exec.v0+json": ""
          },
          "metadata": {
            "tags": [],
            "application/vnd.bokehjs_exec.v0+json": {
              "id": "12098"
            }
          }
        }
      ]
    },
    {
      "cell_type": "markdown",
      "metadata": {
        "id": "r8pe1WWI2JwI",
        "colab_type": "text"
      },
      "source": [
        "The statistics file has many other columns which are interesting to explore:"
      ]
    },
    {
      "cell_type": "code",
      "metadata": {
        "id": "lHts9EyC2SVp",
        "colab_type": "code",
        "colab": {}
      },
      "source": [
        "aln_summary.info()"
      ],
      "execution_count": 0,
      "outputs": []
    },
    {
      "cell_type": "markdown",
      "metadata": {
        "id": "ouPONyB_15DB",
        "colab_type": "text"
      },
      "source": [
        "## On Target Depth\n",
        "\n",
        "In this section we will examine the \n",
        "\n",
        "For this purpose and throughout the rest of this tutorial we will use the [`Pyranges`](https://github.com/biocore-ntnu/pyranges) library.\n",
        "\n",
        "# Simple Overlaps\n",
        "\n",
        "As a first look at the data lets tabulate the number of reads overlapping each target. "
      ]
    },
    {
      "cell_type": "code",
      "metadata": {
        "id": "wfov7Ve3bAL3",
        "colab_type": "code",
        "cellView": "both",
        "outputId": "a6750d4c-2e87-4470-83c8-bc2e48a721d8",
        "colab": {
          "base_uri": "https://localhost:8080/",
          "height": 359
        }
      },
      "source": [
        "import pyranges as pr\n",
        "\n",
        "targets = region_bed[['chrom','start','end','tname']].rename(\n",
        "    columns={'chrom':'Chromosome','start':'Start','end':'End'}\n",
        ")\n",
        "target_names = targets['tname'].to_list()\n",
        "targets = pr.PyRanges(targets)\n",
        "\n",
        "reads = aln_summary.rename(\n",
        "    columns = {'ref':'Chromosome','rstart':'Start','rend':'End'}\n",
        ")\n",
        "reads = pr.PyRanges(reads)\n",
        "ovl_summary = targets.count_overlaps(reads)\n",
        "ovl_summary.df"
      ],
      "execution_count": 729,
      "outputs": [
        {
          "output_type": "execute_result",
          "data": {
            "text/plain": [
              "  Chromosome      Start        End    tname  NumberOverlaps\n",
              "0       chr1  155130000  155250000     MUC1              28\n",
              "1       chr4    3024876    3124934      HTT              87\n",
              "2       chr6  170511908  170612015    SCA17              76\n",
              "3       chr9   27523486   27623547  C9orf72              39\n",
              "4      chr11    2111515    2212203      INS              55\n",
              "5      chr12  111548951  111649019     SCA2             233\n",
              "6      chr14   92021011   92121034     SCA3              95\n",
              "7      chr19   13157859   13257897     SCA6              63\n",
              "8      chr22   45745355   45845424    SCA10             125\n",
              "9       chrX  147862050  147962110     FMR1              71"
            ],
            "text/html": [
              "<div>\n",
              "<style scoped>\n",
              "    .dataframe tbody tr th:only-of-type {\n",
              "        vertical-align: middle;\n",
              "    }\n",
              "\n",
              "    .dataframe tbody tr th {\n",
              "        vertical-align: top;\n",
              "    }\n",
              "\n",
              "    .dataframe thead th {\n",
              "        text-align: right;\n",
              "    }\n",
              "</style>\n",
              "<table border=\"1\" class=\"dataframe\">\n",
              "  <thead>\n",
              "    <tr style=\"text-align: right;\">\n",
              "      <th></th>\n",
              "      <th>Chromosome</th>\n",
              "      <th>Start</th>\n",
              "      <th>End</th>\n",
              "      <th>tname</th>\n",
              "      <th>NumberOverlaps</th>\n",
              "    </tr>\n",
              "  </thead>\n",
              "  <tbody>\n",
              "    <tr>\n",
              "      <th>0</th>\n",
              "      <td>chr1</td>\n",
              "      <td>155130000</td>\n",
              "      <td>155250000</td>\n",
              "      <td>MUC1</td>\n",
              "      <td>28</td>\n",
              "    </tr>\n",
              "    <tr>\n",
              "      <th>1</th>\n",
              "      <td>chr4</td>\n",
              "      <td>3024876</td>\n",
              "      <td>3124934</td>\n",
              "      <td>HTT</td>\n",
              "      <td>87</td>\n",
              "    </tr>\n",
              "    <tr>\n",
              "      <th>2</th>\n",
              "      <td>chr6</td>\n",
              "      <td>170511908</td>\n",
              "      <td>170612015</td>\n",
              "      <td>SCA17</td>\n",
              "      <td>76</td>\n",
              "    </tr>\n",
              "    <tr>\n",
              "      <th>3</th>\n",
              "      <td>chr9</td>\n",
              "      <td>27523486</td>\n",
              "      <td>27623547</td>\n",
              "      <td>C9orf72</td>\n",
              "      <td>39</td>\n",
              "    </tr>\n",
              "    <tr>\n",
              "      <th>4</th>\n",
              "      <td>chr11</td>\n",
              "      <td>2111515</td>\n",
              "      <td>2212203</td>\n",
              "      <td>INS</td>\n",
              "      <td>55</td>\n",
              "    </tr>\n",
              "    <tr>\n",
              "      <th>5</th>\n",
              "      <td>chr12</td>\n",
              "      <td>111548951</td>\n",
              "      <td>111649019</td>\n",
              "      <td>SCA2</td>\n",
              "      <td>233</td>\n",
              "    </tr>\n",
              "    <tr>\n",
              "      <th>6</th>\n",
              "      <td>chr14</td>\n",
              "      <td>92021011</td>\n",
              "      <td>92121034</td>\n",
              "      <td>SCA3</td>\n",
              "      <td>95</td>\n",
              "    </tr>\n",
              "    <tr>\n",
              "      <th>7</th>\n",
              "      <td>chr19</td>\n",
              "      <td>13157859</td>\n",
              "      <td>13257897</td>\n",
              "      <td>SCA6</td>\n",
              "      <td>63</td>\n",
              "    </tr>\n",
              "    <tr>\n",
              "      <th>8</th>\n",
              "      <td>chr22</td>\n",
              "      <td>45745355</td>\n",
              "      <td>45845424</td>\n",
              "      <td>SCA10</td>\n",
              "      <td>125</td>\n",
              "    </tr>\n",
              "    <tr>\n",
              "      <th>9</th>\n",
              "      <td>chrX</td>\n",
              "      <td>147862050</td>\n",
              "      <td>147962110</td>\n",
              "      <td>FMR1</td>\n",
              "      <td>71</td>\n",
              "    </tr>\n",
              "  </tbody>\n",
              "</table>\n",
              "</div>"
            ]
          },
          "metadata": {
            "tags": []
          },
          "execution_count": 729
        }
      ]
    },
    {
      "cell_type": "markdown",
      "metadata": {
        "id": "yexF406nbMRW",
        "colab_type": "text"
      },
      "source": [
        "The table above summaries the number of times a read overlaps one of the targets. We can also think about the inverse problem, how many times the targets intersect the reads; this allows us to calculate approximately numbers of on-target and off-target bases:"
      ]
    },
    {
      "cell_type": "code",
      "metadata": {
        "id": "OsBBwT8EgUrs",
        "colab_type": "code",
        "colab": {
          "base_uri": "https://localhost:8080/",
          "height": 142
        },
        "outputId": "308db0ba-a702-4d05-e721-0118b7eecc65"
      },
      "source": [
        "# get on/off target reads\n",
        "ovl = reads.count_overlaps(targets)\n",
        "on_target = ovl[ovl.NumberOverlaps > 0]\n",
        "off_target = ovl[ovl.NumberOverlaps == 0]\n",
        "def summarize(df):\n",
        "    count = len(df)\n",
        "    bases = sum(df.End) - sum(df.Start)\n",
        "    ave_len = int(df.read_length.mean())\n",
        "    return count, bases // 1000, ave_len\n",
        "on_stats = summarize(on_target)\n",
        "off_stats = summarize(off_target)\n",
        "\n",
        "info = pd.DataFrame([\n",
        "        on_stats, off_stats],\n",
        "    columns=['Reads', 'Bases / k', 'Mean Read Length'],\n",
        "    index=['On target', 'Off target'],\n",
        "    ).transpose()\n",
        "info['Total'] = info['On target'] + info['Off target']\n",
        "display(info)"
      ],
      "execution_count": 564,
      "outputs": [
        {
          "output_type": "display_data",
          "data": {
            "text/plain": [
              "                  On target  Off target  Total\n",
              "Reads                   872        6955   7827\n",
              "Bases / k              4884       64153  69037\n",
              "Mean Read Length       5563        9345  14908"
            ],
            "text/html": [
              "<div>\n",
              "<style scoped>\n",
              "    .dataframe tbody tr th:only-of-type {\n",
              "        vertical-align: middle;\n",
              "    }\n",
              "\n",
              "    .dataframe tbody tr th {\n",
              "        vertical-align: top;\n",
              "    }\n",
              "\n",
              "    .dataframe thead th {\n",
              "        text-align: right;\n",
              "    }\n",
              "</style>\n",
              "<table border=\"1\" class=\"dataframe\">\n",
              "  <thead>\n",
              "    <tr style=\"text-align: right;\">\n",
              "      <th></th>\n",
              "      <th>On target</th>\n",
              "      <th>Off target</th>\n",
              "      <th>Total</th>\n",
              "    </tr>\n",
              "  </thead>\n",
              "  <tbody>\n",
              "    <tr>\n",
              "      <th>Reads</th>\n",
              "      <td>872</td>\n",
              "      <td>6955</td>\n",
              "      <td>7827</td>\n",
              "    </tr>\n",
              "    <tr>\n",
              "      <th>Bases / k</th>\n",
              "      <td>4884</td>\n",
              "      <td>64153</td>\n",
              "      <td>69037</td>\n",
              "    </tr>\n",
              "    <tr>\n",
              "      <th>Mean Read Length</th>\n",
              "      <td>5563</td>\n",
              "      <td>9345</td>\n",
              "      <td>14908</td>\n",
              "    </tr>\n",
              "  </tbody>\n",
              "</table>\n",
              "</div>"
            ]
          },
          "metadata": {
            "tags": []
          }
        }
      ]
    },
    {
      "cell_type": "markdown",
      "metadata": {
        "id": "0QljJLeqmDkh",
        "colab_type": "text"
      },
      "source": [
        "### Genome tiles\n",
        "\n",
        "In order to quickly calculate more detailed statistics (and create informative plots), we will use a tiling technique. We will split the reference genome into uniformly sized tiles; for each reference tile we can calculate the overlapping reads. For the reference we construct the tiles using the `pysam` library to read the `reference_genome` file:"
      ]
    },
    {
      "cell_type": "code",
      "metadata": {
        "id": "0MhFrueipRmp",
        "colab_type": "code",
        "colab": {}
      },
      "source": [
        "import pysam\n",
        "tile_size = 100\n",
        "\n",
        "ref = pysam.FastaFile(reference_genome)\n",
        "ref_tiles = pr.PyRanges(\n",
        "    chromosomes=ref.references,\n",
        "    starts=[0] * ref.nreferences,\n",
        "    ends=ref.lengths\n",
        ").tile(tile_size=tile_size)"
      ],
      "execution_count": 0,
      "outputs": []
    },
    {
      "cell_type": "markdown",
      "metadata": {
        "id": "KNcXp8sm2h1N",
        "colab_type": "text"
      },
      "source": [
        "We will also define a small helper function to annotate genomic regions with additional information:"
      ]
    },
    {
      "cell_type": "code",
      "metadata": {
        "id": "BsMTwAGdrBvg",
        "colab_type": "code",
        "colab": {},
        "cellView": "both"
      },
      "source": [
        "#@markdown **set_column** function for annotating regions\n",
        "def set_column(pyr, chrom, loc, column, value):\n",
        "    \"\"\"Sets a column of a `PyRange` to a specified value.\n",
        "    \n",
        "    :param pyr: a `PyRange`.\n",
        "    :param chrom: a chromosome.\n",
        "    :param loc: a `Slice` (start, stop).\n",
        "    :param column: column name.\n",
        "    :param value: value to set the column.\n",
        "    \"\"\"\n",
        "    from pyranges.subset import find_overlaps\n",
        "    if pyr.stranded:\n",
        "        raise NotImplementedError(\"`set_column` does not handled strandedness\")\n",
        "\n",
        "    dfs = {chrom: pyr.dfs[chrom]}\n",
        "    max_end = list(dfs.values())[0].End.max()\n",
        "    \n",
        "    start = loc.start or 0\n",
        "    stop = loc.stop or max(max_end, start)\n",
        "    for k, df in dfs.items():\n",
        "        idx = find_overlaps(df, start, stop)\n",
        "        df.loc[idx, column] = value"
      ],
      "execution_count": 0,
      "outputs": []
    },
    {
      "cell_type": "markdown",
      "metadata": {
        "id": "nncz93li4DLF",
        "colab_type": "text"
      },
      "source": [
        "To proceed we will first use the function defined above to annotate our genome tiles and our reads with their target:"
      ]
    },
    {
      "cell_type": "code",
      "metadata": {
        "id": "UYxGdiwJ4GUp",
        "colab_type": "code",
        "colab": {}
      },
      "source": [
        "# Label reference genome tiles, and the reads\n",
        "ref_tiles.tname = 'Off Target'\n",
        "reads.tname = 'Off Target'\n",
        "for chrom, df in targets:\n",
        "    for _, t in df.iterrows():\n",
        "        print(\"Labelling {}\".format(t.tname))\n",
        "        set_column(\n",
        "            ref_tiles, t.Chromosome, slice(t.Start, t.End),\n",
        "            'tname', t.tname)\n",
        "        set_column(\n",
        "            reads, t.Chromosome, slice(t.Start, t.End),\n",
        "            'tname', t.tname)\n",
        "# count overlaps of read tiles to ref_tiles (similar to before)\n",
        "hits = ref_tiles.count_overlaps(reads)"
      ],
      "execution_count": 0,
      "outputs": []
    },
    {
      "cell_type": "markdown",
      "metadata": {
        "id": "Lo_0bEA07lcy",
        "colab_type": "text"
      },
      "source": [
        "Having prepared these tables we can now query them in various ways. Let's summarise the information we have for each target:"
      ]
    },
    {
      "cell_type": "code",
      "metadata": {
        "id": "w0FxCkA375KA",
        "colab_type": "code",
        "colab": {
          "base_uri": "https://localhost:8080/",
          "height": 698
        },
        "outputId": "1ff27d90-2140-48f8-f1dd-91b501681577"
      },
      "source": [
        "def target_info(target_name, targets, hits, read_tiles, reads):\n",
        "    info = targets[targets.tname == target].df\n",
        "    # Find intersecting hits\n",
        "    t_hits = hits.intersect(pr.PyRanges(info)).df\n",
        "    t_reads = reads.df[reads.df['tname'] == target]\n",
        "\n",
        "    info['tsize'] = info.End - info.Start\n",
        "    info['nreads'] = t_reads['name'].unique().size\n",
        "    # use the tiles to calculate bases on target as parts of reads\n",
        "    # may not overlap\n",
        "    info['kbases'] = tile_size * t_hits['NumberOverlaps'].sum() / 1000\n",
        "    info['mean_coverage'] = t_hits['NumberOverlaps'].mean()\n",
        "    info['mean_read_length'] = int(t_reads['read_length'].mean())\n",
        "    info['mean_accuracy'] = t_reads['acc'].mean()\n",
        "    \n",
        "    fwd, rev = (len(t_reads[t_reads['direction'] == x]) for x in ('+', '-'))\n",
        "    info['strand_bias'] = (fwd - rev) / (fwd + rev)\n",
        "    return info\n",
        "\n",
        "results = list()\n",
        "for target in target_names:\n",
        "    results.append(target_info(\n",
        "        target, targets, hits, read_tiles, reads\n",
        "    ))\n",
        "results = pd.concat(results).rename(columns={\n",
        "    'Chromosome':'chrom', 'Start':'start', 'End':'end'})\n",
        "pd.options.display.float_format = '{:,.2f}'.format\n",
        "display(results)"
      ],
      "execution_count": 771,
      "outputs": [
        {
          "output_type": "error",
          "ename": "KeyError",
          "evalue": "ignored",
          "traceback": [
            "\u001b[0;31m---------------------------------------------------------------------------\u001b[0m",
            "\u001b[0;31mKeyError\u001b[0m                                  Traceback (most recent call last)",
            "\u001b[0;32m/opt/conda/lib/python3.6/site-packages/pandas/core/indexes/base.py\u001b[0m in \u001b[0;36mget_loc\u001b[0;34m(self, key, method, tolerance)\u001b[0m\n\u001b[1;32m   2896\u001b[0m             \u001b[0;32mtry\u001b[0m\u001b[0;34m:\u001b[0m\u001b[0;34m\u001b[0m\u001b[0;34m\u001b[0m\u001b[0m\n\u001b[0;32m-> 2897\u001b[0;31m                 \u001b[0;32mreturn\u001b[0m \u001b[0mself\u001b[0m\u001b[0;34m.\u001b[0m\u001b[0m_engine\u001b[0m\u001b[0;34m.\u001b[0m\u001b[0mget_loc\u001b[0m\u001b[0;34m(\u001b[0m\u001b[0mkey\u001b[0m\u001b[0;34m)\u001b[0m\u001b[0;34m\u001b[0m\u001b[0;34m\u001b[0m\u001b[0m\n\u001b[0m\u001b[1;32m   2898\u001b[0m             \u001b[0;32mexcept\u001b[0m \u001b[0mKeyError\u001b[0m\u001b[0;34m:\u001b[0m\u001b[0;34m\u001b[0m\u001b[0;34m\u001b[0m\u001b[0m\n",
            "\u001b[0;32mpandas/_libs/index.pyx\u001b[0m in \u001b[0;36mpandas._libs.index.IndexEngine.get_loc\u001b[0;34m()\u001b[0m\n",
            "\u001b[0;32mpandas/_libs/index.pyx\u001b[0m in \u001b[0;36mpandas._libs.index.IndexEngine.get_loc\u001b[0;34m()\u001b[0m\n",
            "\u001b[0;32mpandas/_libs/hashtable_class_helper.pxi\u001b[0m in \u001b[0;36mpandas._libs.hashtable.PyObjectHashTable.get_item\u001b[0;34m()\u001b[0m\n",
            "\u001b[0;32mpandas/_libs/hashtable_class_helper.pxi\u001b[0m in \u001b[0;36mpandas._libs.hashtable.PyObjectHashTable.get_item\u001b[0;34m()\u001b[0m\n",
            "\u001b[0;31mKeyError\u001b[0m: 'tname'",
            "\nDuring handling of the above exception, another exception occurred:\n",
            "\u001b[0;31mKeyError\u001b[0m                                  Traceback (most recent call last)",
            "\u001b[0;32m<ipython-input-771-543e84d3a88a>\u001b[0m in \u001b[0;36m<module>\u001b[0;34m\u001b[0m\n\u001b[1;32m     21\u001b[0m \u001b[0;32mfor\u001b[0m \u001b[0mtarget\u001b[0m \u001b[0;32min\u001b[0m \u001b[0mtarget_names\u001b[0m\u001b[0;34m:\u001b[0m\u001b[0;34m\u001b[0m\u001b[0;34m\u001b[0m\u001b[0m\n\u001b[1;32m     22\u001b[0m     results.append(target_info(\n\u001b[0;32m---> 23\u001b[0;31m         \u001b[0mtarget\u001b[0m\u001b[0;34m,\u001b[0m \u001b[0mtargets\u001b[0m\u001b[0;34m,\u001b[0m \u001b[0mhits\u001b[0m\u001b[0;34m,\u001b[0m \u001b[0mread_tiles\u001b[0m\u001b[0;34m,\u001b[0m \u001b[0mreads\u001b[0m\u001b[0;34m\u001b[0m\u001b[0;34m\u001b[0m\u001b[0m\n\u001b[0m\u001b[1;32m     24\u001b[0m     ))\n\u001b[1;32m     25\u001b[0m results = pd.concat(results).rename(columns={\n",
            "\u001b[0;32m<ipython-input-771-543e84d3a88a>\u001b[0m in \u001b[0;36mtarget_info\u001b[0;34m(target_name, targets, hits, read_tiles, reads)\u001b[0m\n\u001b[1;32m      3\u001b[0m     \u001b[0;31m# Find intersecting hits\u001b[0m\u001b[0;34m\u001b[0m\u001b[0;34m\u001b[0m\u001b[0;34m\u001b[0m\u001b[0m\n\u001b[1;32m      4\u001b[0m     \u001b[0mt_hits\u001b[0m \u001b[0;34m=\u001b[0m \u001b[0mhits\u001b[0m\u001b[0;34m.\u001b[0m\u001b[0mintersect\u001b[0m\u001b[0;34m(\u001b[0m\u001b[0mpr\u001b[0m\u001b[0;34m.\u001b[0m\u001b[0mPyRanges\u001b[0m\u001b[0;34m(\u001b[0m\u001b[0minfo\u001b[0m\u001b[0;34m)\u001b[0m\u001b[0;34m)\u001b[0m\u001b[0;34m.\u001b[0m\u001b[0mdf\u001b[0m\u001b[0;34m\u001b[0m\u001b[0;34m\u001b[0m\u001b[0m\n\u001b[0;32m----> 5\u001b[0;31m     \u001b[0mt_reads\u001b[0m \u001b[0;34m=\u001b[0m \u001b[0mreads\u001b[0m\u001b[0;34m.\u001b[0m\u001b[0mdf\u001b[0m\u001b[0;34m[\u001b[0m\u001b[0mreads\u001b[0m\u001b[0;34m.\u001b[0m\u001b[0mdf\u001b[0m\u001b[0;34m[\u001b[0m\u001b[0;34m'tname'\u001b[0m\u001b[0;34m]\u001b[0m \u001b[0;34m==\u001b[0m \u001b[0mtarget\u001b[0m\u001b[0;34m]\u001b[0m\u001b[0;34m\u001b[0m\u001b[0;34m\u001b[0m\u001b[0m\n\u001b[0m\u001b[1;32m      6\u001b[0m \u001b[0;34m\u001b[0m\u001b[0m\n\u001b[1;32m      7\u001b[0m     \u001b[0minfo\u001b[0m\u001b[0;34m[\u001b[0m\u001b[0;34m'tsize'\u001b[0m\u001b[0;34m]\u001b[0m \u001b[0;34m=\u001b[0m \u001b[0minfo\u001b[0m\u001b[0;34m.\u001b[0m\u001b[0mEnd\u001b[0m \u001b[0;34m-\u001b[0m \u001b[0minfo\u001b[0m\u001b[0;34m.\u001b[0m\u001b[0mStart\u001b[0m\u001b[0;34m\u001b[0m\u001b[0;34m\u001b[0m\u001b[0m\n",
            "\u001b[0;32m/opt/conda/lib/python3.6/site-packages/pandas/core/frame.py\u001b[0m in \u001b[0;36m__getitem__\u001b[0;34m(self, key)\u001b[0m\n\u001b[1;32m   2993\u001b[0m             \u001b[0;32mif\u001b[0m \u001b[0mself\u001b[0m\u001b[0;34m.\u001b[0m\u001b[0mcolumns\u001b[0m\u001b[0;34m.\u001b[0m\u001b[0mnlevels\u001b[0m \u001b[0;34m>\u001b[0m \u001b[0;36m1\u001b[0m\u001b[0;34m:\u001b[0m\u001b[0;34m\u001b[0m\u001b[0;34m\u001b[0m\u001b[0m\n\u001b[1;32m   2994\u001b[0m                 \u001b[0;32mreturn\u001b[0m \u001b[0mself\u001b[0m\u001b[0;34m.\u001b[0m\u001b[0m_getitem_multilevel\u001b[0m\u001b[0;34m(\u001b[0m\u001b[0mkey\u001b[0m\u001b[0;34m)\u001b[0m\u001b[0;34m\u001b[0m\u001b[0;34m\u001b[0m\u001b[0m\n\u001b[0;32m-> 2995\u001b[0;31m             \u001b[0mindexer\u001b[0m \u001b[0;34m=\u001b[0m \u001b[0mself\u001b[0m\u001b[0;34m.\u001b[0m\u001b[0mcolumns\u001b[0m\u001b[0;34m.\u001b[0m\u001b[0mget_loc\u001b[0m\u001b[0;34m(\u001b[0m\u001b[0mkey\u001b[0m\u001b[0;34m)\u001b[0m\u001b[0;34m\u001b[0m\u001b[0;34m\u001b[0m\u001b[0m\n\u001b[0m\u001b[1;32m   2996\u001b[0m             \u001b[0;32mif\u001b[0m \u001b[0mis_integer\u001b[0m\u001b[0;34m(\u001b[0m\u001b[0mindexer\u001b[0m\u001b[0;34m)\u001b[0m\u001b[0;34m:\u001b[0m\u001b[0;34m\u001b[0m\u001b[0;34m\u001b[0m\u001b[0m\n\u001b[1;32m   2997\u001b[0m                 \u001b[0mindexer\u001b[0m \u001b[0;34m=\u001b[0m \u001b[0;34m[\u001b[0m\u001b[0mindexer\u001b[0m\u001b[0;34m]\u001b[0m\u001b[0;34m\u001b[0m\u001b[0;34m\u001b[0m\u001b[0m\n",
            "\u001b[0;32m/opt/conda/lib/python3.6/site-packages/pandas/core/indexes/base.py\u001b[0m in \u001b[0;36mget_loc\u001b[0;34m(self, key, method, tolerance)\u001b[0m\n\u001b[1;32m   2897\u001b[0m                 \u001b[0;32mreturn\u001b[0m \u001b[0mself\u001b[0m\u001b[0;34m.\u001b[0m\u001b[0m_engine\u001b[0m\u001b[0;34m.\u001b[0m\u001b[0mget_loc\u001b[0m\u001b[0;34m(\u001b[0m\u001b[0mkey\u001b[0m\u001b[0;34m)\u001b[0m\u001b[0;34m\u001b[0m\u001b[0;34m\u001b[0m\u001b[0m\n\u001b[1;32m   2898\u001b[0m             \u001b[0;32mexcept\u001b[0m \u001b[0mKeyError\u001b[0m\u001b[0;34m:\u001b[0m\u001b[0;34m\u001b[0m\u001b[0;34m\u001b[0m\u001b[0m\n\u001b[0;32m-> 2899\u001b[0;31m                 \u001b[0;32mreturn\u001b[0m \u001b[0mself\u001b[0m\u001b[0;34m.\u001b[0m\u001b[0m_engine\u001b[0m\u001b[0;34m.\u001b[0m\u001b[0mget_loc\u001b[0m\u001b[0;34m(\u001b[0m\u001b[0mself\u001b[0m\u001b[0;34m.\u001b[0m\u001b[0m_maybe_cast_indexer\u001b[0m\u001b[0;34m(\u001b[0m\u001b[0mkey\u001b[0m\u001b[0;34m)\u001b[0m\u001b[0;34m)\u001b[0m\u001b[0;34m\u001b[0m\u001b[0;34m\u001b[0m\u001b[0m\n\u001b[0m\u001b[1;32m   2900\u001b[0m         \u001b[0mindexer\u001b[0m \u001b[0;34m=\u001b[0m \u001b[0mself\u001b[0m\u001b[0;34m.\u001b[0m\u001b[0mget_indexer\u001b[0m\u001b[0;34m(\u001b[0m\u001b[0;34m[\u001b[0m\u001b[0mkey\u001b[0m\u001b[0;34m]\u001b[0m\u001b[0;34m,\u001b[0m \u001b[0mmethod\u001b[0m\u001b[0;34m=\u001b[0m\u001b[0mmethod\u001b[0m\u001b[0;34m,\u001b[0m \u001b[0mtolerance\u001b[0m\u001b[0;34m=\u001b[0m\u001b[0mtolerance\u001b[0m\u001b[0;34m)\u001b[0m\u001b[0;34m\u001b[0m\u001b[0;34m\u001b[0m\u001b[0m\n\u001b[1;32m   2901\u001b[0m         \u001b[0;32mif\u001b[0m \u001b[0mindexer\u001b[0m\u001b[0;34m.\u001b[0m\u001b[0mndim\u001b[0m \u001b[0;34m>\u001b[0m \u001b[0;36m1\u001b[0m \u001b[0;32mor\u001b[0m \u001b[0mindexer\u001b[0m\u001b[0;34m.\u001b[0m\u001b[0msize\u001b[0m \u001b[0;34m>\u001b[0m \u001b[0;36m1\u001b[0m\u001b[0;34m:\u001b[0m\u001b[0;34m\u001b[0m\u001b[0;34m\u001b[0m\u001b[0m\n",
            "\u001b[0;32mpandas/_libs/index.pyx\u001b[0m in \u001b[0;36mpandas._libs.index.IndexEngine.get_loc\u001b[0;34m()\u001b[0m\n",
            "\u001b[0;32mpandas/_libs/index.pyx\u001b[0m in \u001b[0;36mpandas._libs.index.IndexEngine.get_loc\u001b[0;34m()\u001b[0m\n",
            "\u001b[0;32mpandas/_libs/hashtable_class_helper.pxi\u001b[0m in \u001b[0;36mpandas._libs.hashtable.PyObjectHashTable.get_item\u001b[0;34m()\u001b[0m\n",
            "\u001b[0;32mpandas/_libs/hashtable_class_helper.pxi\u001b[0m in \u001b[0;36mpandas._libs.hashtable.PyObjectHashTable.get_item\u001b[0;34m()\u001b[0m\n",
            "\u001b[0;31mKeyError\u001b[0m: 'tname'"
          ]
        }
      ]
    },
    {
      "cell_type": "markdown",
      "metadata": {
        "id": "G8eimQLGM1k7",
        "colab_type": "text"
      },
      "source": [
        "Using the tiling statistics we can make coverage plots for any region. "
      ]
    },
    {
      "cell_type": "code",
      "metadata": {
        "id": "pPJurv3L3X2V",
        "colab_type": "code",
        "colab": {
          "base_uri": "https://localhost:8080/",
          "height": 399,
          "referenced_widgets": [
            "79b155c96e244d73afba69b38562fc0f",
            "3c40abd8ff0849718bdd79da91c49e43",
            "daccd86e9d924e368bf22a7dc8c124b0",
            "f204b02c423a44d5a55f9c0e50982975",
            "0aeece2ec5c64c52a4a4955bd4535fa5",
            "ee02173bf03a415b8047ba285f520b45"
          ]
        },
        "cellView": "form",
        "outputId": "fc02499f-6533-4425-cc5d-5a787d263aa1"
      },
      "source": [
        "#@markdown **Coverage plot code** (*click to show*)\n",
        "import ipywidgets as widgets\n",
        "import matplotlib.pyplot as plt\n",
        "from matplotlib.ticker import MaxNLocator\n",
        "\n",
        "def plot_target(target=default_target):\n",
        "    info = targets[targets.tname == target].df\n",
        "    display(info)\n",
        "    t = hits.intersect(pr.PyRanges(info)).df\n",
        "    fig, ax = plt.subplots()\n",
        "    ax.ticklabel_format(style='plain')\n",
        "    ax.yaxis.set_major_locator(MaxNLocator(integer=True))\n",
        "    ax.plot(t.Start, t.NumberOverlaps)\n",
        "    plt.xticks(rotation=30)\n",
        "    plt.xlabel('position')\n",
        "    plt.ylabel('coverage')\n",
        "    plt.show()\n",
        "\n",
        "default_target = target_names[0]\n",
        "widgets.interactive(\n",
        "    plot_target, target=target_names)\n"
      ],
      "execution_count": 770,
      "outputs": [
        {
          "output_type": "display_data",
          "data": {
            "text/plain": [
              "interactive(children=(Dropdown(description='target', options=('MUC1', 'HTT', 'SCA17', 'C9orf72', 'INS', 'SCA2'…"
            ],
            "application/vnd.jupyter.widget-view+json": {
              "version_major": 2,
              "version_minor": 0,
              "model_id": "79b155c96e244d73afba69b38562fc0f"
            }
          },
          "metadata": {
            "tags": []
          }
        }
      ]
    },
    {
      "cell_type": "markdown",
      "metadata": {
        "id": "dnpp_T6dZsX_",
        "colab_type": "text"
      },
      "source": [
        "## Examining Off Target Effects"
      ]
    },
    {
      "cell_type": "markdown",
      "metadata": {
        "colab_type": "text",
        "id": "iF7WILGOwbI3"
      },
      "source": [
        "## Summary\n",
        "\n",
        "This tutorial has stepped through basic processing of a Cas9 enrichment experiment. We have examined the coverage of a single target region and the rate of off target effects.\n",
        "\n",
        "The code will run within **Google Colab** when connected to a local **Epi2Me Labs** notebook server.\n",
        "\n",
        "[Back to Epi2Me Labs](https://colab.research.google.com/github/epi2me-labs/resources/blob/master/welcome.ipynb)\n"
      ]
    },
    {
      "cell_type": "code",
      "metadata": {
        "id": "peTWsaPF5Jvo",
        "colab_type": "code",
        "colab": {}
      },
      "source": [
        ""
      ],
      "execution_count": 0,
      "outputs": []
    }
  ]
}