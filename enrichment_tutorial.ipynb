{
  "nbformat": 4,
  "nbformat_minor": 0,
  "metadata": {
    "kernelspec": {
      "display_name": "Python 3",
      "language": "python",
      "name": "python3"
    },
    "language_info": {
      "codemirror_mode": {
        "name": "ipython",
        "version": 3
      },
      "file_extension": ".py",
      "mimetype": "text/x-python",
      "name": "python",
      "nbconvert_exporter": "python",
      "pygments_lexer": "ipython3",
      "version": "3.7.6"
    },
    "colab": {
      "name": "Cas9 Enrichment Tutorial",
      "provenance": [],
      "toc_visible": true,
      "include_colab_link": true
    },
    "widgets": {
      "application/vnd.jupyter.widget-state+json": {
        "e42828689d74453fb1a598a925dd956e": {
          "model_module": "@jupyter-widgets/controls",
          "model_name": "VBoxModel",
          "state": {
            "_dom_classes": [
              "widget-interact"
            ],
            "_model_module": "@jupyter-widgets/controls",
            "_model_module_version": "1.5.0",
            "_model_name": "VBoxModel",
            "_view_count": null,
            "_view_module": "@jupyter-widgets/controls",
            "_view_module_version": "1.5.0",
            "_view_name": "VBoxView",
            "box_style": "",
            "children": [
              "IPY_MODEL_7ca08e0b53c44c3ea552f933c3b81ab4",
              "IPY_MODEL_c7ed170d853c49ea963d9b97c86fd39a"
            ],
            "layout": "IPY_MODEL_97b0d50d1b13449d86d8408f54d8afcb"
          }
        },
        "7ca08e0b53c44c3ea552f933c3b81ab4": {
          "model_module": "@jupyter-widgets/controls",
          "model_name": "DropdownModel",
          "state": {
            "_dom_classes": [],
            "_model_module": "@jupyter-widgets/controls",
            "_model_module_version": "1.5.0",
            "_model_name": "DropdownModel",
            "_options_labels": [
              "MUC1",
              "HTT",
              "SCA17",
              "C9orf72",
              "INS",
              "SCA2",
              "SCA3",
              "SCA6",
              "SCA10",
              "FMR1"
            ],
            "_view_count": null,
            "_view_module": "@jupyter-widgets/controls",
            "_view_module_version": "1.5.0",
            "_view_name": "DropdownView",
            "description": "target",
            "description_tooltip": null,
            "disabled": false,
            "index": 3,
            "layout": "IPY_MODEL_6f3174dd6f824c0c8847dfeb1dddf9e4",
            "style": "IPY_MODEL_56dfef60770242a9a36888a707ea6202"
          }
        },
        "c7ed170d853c49ea963d9b97c86fd39a": {
          "model_module": "@jupyter-widgets/output",
          "model_name": "OutputModel",
          "state": {
            "_dom_classes": [],
            "_model_module": "@jupyter-widgets/output",
            "_model_module_version": "1.0.0",
            "_model_name": "OutputModel",
            "_view_count": null,
            "_view_module": "@jupyter-widgets/output",
            "_view_module_version": "1.0.0",
            "_view_name": "OutputView",
            "layout": "IPY_MODEL_4b1a64a8920e4c7ea719c976261c5659",
            "msg_id": "",
            "outputs": [
              {
                "output_type": "display_data",
                "metadata": {
                  "tags": []
                },
                "text/plain": "  Chromosome     Start       End    tname\n3       chr9  27571600  27577500  C9orf72",
                "text/html": "<div>\n<style scoped>\n    .dataframe tbody tr th:only-of-type {\n        vertical-align: middle;\n    }\n\n    .dataframe tbody tr th {\n        vertical-align: top;\n    }\n\n    .dataframe thead th {\n        text-align: right;\n    }\n</style>\n<table border=\"1\" class=\"dataframe\">\n  <thead>\n    <tr style=\"text-align: right;\">\n      <th></th>\n      <th>Chromosome</th>\n      <th>Start</th>\n      <th>End</th>\n      <th>tname</th>\n    </tr>\n  </thead>\n  <tbody>\n    <tr>\n      <th>3</th>\n      <td>chr9</td>\n      <td>27571600</td>\n      <td>27577500</td>\n      <td>C9orf72</td>\n    </tr>\n  </tbody>\n</table>\n</div>"
              },
              {
                "output_type": "display_data",
                "metadata": {
                  "tags": [],
                  "needs_background": "light"
                },
                "text/plain": "<Figure size 432x288 with 1 Axes>",
                "image/png": "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\n"
              }
            ]
          }
        },
        "97b0d50d1b13449d86d8408f54d8afcb": {
          "model_module": "@jupyter-widgets/base",
          "model_name": "LayoutModel",
          "state": {
            "_model_module": "@jupyter-widgets/base",
            "_model_module_version": "1.2.0",
            "_model_name": "LayoutModel",
            "_view_count": null,
            "_view_module": "@jupyter-widgets/base",
            "_view_module_version": "1.2.0",
            "_view_name": "LayoutView",
            "align_content": null,
            "align_items": null,
            "align_self": null,
            "border": null,
            "bottom": null,
            "display": null,
            "flex": null,
            "flex_flow": null,
            "grid_area": null,
            "grid_auto_columns": null,
            "grid_auto_flow": null,
            "grid_auto_rows": null,
            "grid_column": null,
            "grid_gap": null,
            "grid_row": null,
            "grid_template_areas": null,
            "grid_template_columns": null,
            "grid_template_rows": null,
            "height": null,
            "justify_content": null,
            "justify_items": null,
            "left": null,
            "margin": null,
            "max_height": null,
            "max_width": null,
            "min_height": null,
            "min_width": null,
            "object_fit": null,
            "object_position": null,
            "order": null,
            "overflow": null,
            "overflow_x": null,
            "overflow_y": null,
            "padding": null,
            "right": null,
            "top": null,
            "visibility": null,
            "width": null
          }
        },
        "6f3174dd6f824c0c8847dfeb1dddf9e4": {
          "model_module": "@jupyter-widgets/base",
          "model_name": "LayoutModel",
          "state": {
            "_model_module": "@jupyter-widgets/base",
            "_model_module_version": "1.2.0",
            "_model_name": "LayoutModel",
            "_view_count": null,
            "_view_module": "@jupyter-widgets/base",
            "_view_module_version": "1.2.0",
            "_view_name": "LayoutView",
            "align_content": null,
            "align_items": null,
            "align_self": null,
            "border": null,
            "bottom": null,
            "display": null,
            "flex": null,
            "flex_flow": null,
            "grid_area": null,
            "grid_auto_columns": null,
            "grid_auto_flow": null,
            "grid_auto_rows": null,
            "grid_column": null,
            "grid_gap": null,
            "grid_row": null,
            "grid_template_areas": null,
            "grid_template_columns": null,
            "grid_template_rows": null,
            "height": null,
            "justify_content": null,
            "justify_items": null,
            "left": null,
            "margin": null,
            "max_height": null,
            "max_width": null,
            "min_height": null,
            "min_width": null,
            "object_fit": null,
            "object_position": null,
            "order": null,
            "overflow": null,
            "overflow_x": null,
            "overflow_y": null,
            "padding": null,
            "right": null,
            "top": null,
            "visibility": null,
            "width": null
          }
        },
        "56dfef60770242a9a36888a707ea6202": {
          "model_module": "@jupyter-widgets/controls",
          "model_name": "DescriptionStyleModel",
          "state": {
            "_model_module": "@jupyter-widgets/controls",
            "_model_module_version": "1.5.0",
            "_model_name": "DescriptionStyleModel",
            "_view_count": null,
            "_view_module": "@jupyter-widgets/base",
            "_view_module_version": "1.2.0",
            "_view_name": "StyleView",
            "description_width": ""
          }
        },
        "f2b7ff6f4b5c4d3c89b87d1e2c1df36c": {
          "model_module": "@jupyter-widgets/controls",
          "model_name": "VBoxModel",
          "state": {
            "_dom_classes": [
              "widget-interact"
            ],
            "_model_module": "@jupyter-widgets/controls",
            "_model_module_version": "1.5.0",
            "_model_name": "VBoxModel",
            "_view_count": null,
            "_view_module": "@jupyter-widgets/controls",
            "_view_module_version": "1.5.0",
            "_view_name": "VBoxView",
            "box_style": "",
            "children": [
              "IPY_MODEL_adb4c647a3be48298fa57f195f20162a",
              "IPY_MODEL_321fafbbb5824b759aef1bc0553df4a8"
            ],
            "layout": "IPY_MODEL_dcf14654d088471298543854f9f0ddee"
          }
        },
        "adb4c647a3be48298fa57f195f20162a": {
          "model_module": "@jupyter-widgets/controls",
          "model_name": "IntSliderModel",
          "state": {
            "_dom_classes": [],
            "_model_module": "@jupyter-widgets/controls",
            "_model_module_version": "1.5.0",
            "_model_name": "IntSliderModel",
            "_view_count": null,
            "_view_module": "@jupyter-widgets/controls",
            "_view_module_version": "1.5.0",
            "_view_name": "IntSliderView",
            "continuous_update": true,
            "description": "strand_coverage",
            "description_tooltip": null,
            "disabled": false,
            "layout": "IPY_MODEL_7c1ff943765f46e992111a218a1f94a8",
            "max": 13,
            "min": 0,
            "orientation": "horizontal",
            "readout": true,
            "readout_format": "d",
            "step": 1,
            "style": "IPY_MODEL_27e4fdc4213a4b1c99ee64653ce43b9a",
            "value": 7
          }
        },
        "321fafbbb5824b759aef1bc0553df4a8": {
          "model_module": "@jupyter-widgets/output",
          "model_name": "OutputModel",
          "state": {
            "_dom_classes": [],
            "_model_module": "@jupyter-widgets/output",
            "_model_module_version": "1.0.0",
            "_model_name": "OutputModel",
            "_view_count": null,
            "_view_module": "@jupyter-widgets/output",
            "_view_module_version": "1.0.0",
            "_view_name": "OutputView",
            "layout": "IPY_MODEL_a6d2b1342e4b4e68907bf324f238b0c2",
            "msg_id": "",
            "outputs": [
              {
                "output_type": "display_data",
                "metadata": {
                  "tags": []
                },
                "text/plain": "        tname    kbases  mean_coverage\n0  Background 65,248.00           1.06\n1  Off Target    309.00           8.66\n2   On Target  4,048.00          19.65\n3    Proximal    204.00           1.14",
                "text/html": "<div>\n<style scoped>\n    .dataframe tbody tr th:only-of-type {\n        vertical-align: middle;\n    }\n\n    .dataframe tbody tr th {\n        vertical-align: top;\n    }\n\n    .dataframe thead th {\n        text-align: right;\n    }\n</style>\n<table border=\"1\" class=\"dataframe\">\n  <thead>\n    <tr style=\"text-align: right;\">\n      <th></th>\n      <th>tname</th>\n      <th>kbases</th>\n      <th>mean_coverage</th>\n    </tr>\n  </thead>\n  <tbody>\n    <tr>\n      <th>0</th>\n      <td>Background</td>\n      <td>65,248.00</td>\n      <td>1.06</td>\n    </tr>\n    <tr>\n      <th>1</th>\n      <td>Off Target</td>\n      <td>309.00</td>\n      <td>8.66</td>\n    </tr>\n    <tr>\n      <th>2</th>\n      <td>On Target</td>\n      <td>4,048.00</td>\n      <td>19.65</td>\n    </tr>\n    <tr>\n      <th>3</th>\n      <td>Proximal</td>\n      <td>204.00</td>\n      <td>1.14</td>\n    </tr>\n  </tbody>\n</table>\n</div>"
              }
            ]
          }
        },
        "dcf14654d088471298543854f9f0ddee": {
          "model_module": "@jupyter-widgets/base",
          "model_name": "LayoutModel",
          "state": {
            "_model_module": "@jupyter-widgets/base",
            "_model_module_version": "1.2.0",
            "_model_name": "LayoutModel",
            "_view_count": null,
            "_view_module": "@jupyter-widgets/base",
            "_view_module_version": "1.2.0",
            "_view_name": "LayoutView",
            "align_content": null,
            "align_items": null,
            "align_self": null,
            "border": null,
            "bottom": null,
            "display": null,
            "flex": null,
            "flex_flow": null,
            "grid_area": null,
            "grid_auto_columns": null,
            "grid_auto_flow": null,
            "grid_auto_rows": null,
            "grid_column": null,
            "grid_gap": null,
            "grid_row": null,
            "grid_template_areas": null,
            "grid_template_columns": null,
            "grid_template_rows": null,
            "height": null,
            "justify_content": null,
            "justify_items": null,
            "left": null,
            "margin": null,
            "max_height": null,
            "max_width": null,
            "min_height": null,
            "min_width": null,
            "object_fit": null,
            "object_position": null,
            "order": null,
            "overflow": null,
            "overflow_x": null,
            "overflow_y": null,
            "padding": null,
            "right": null,
            "top": null,
            "visibility": null,
            "width": null
          }
        },
        "7c1ff943765f46e992111a218a1f94a8": {
          "model_module": "@jupyter-widgets/base",
          "model_name": "LayoutModel",
          "state": {
            "_model_module": "@jupyter-widgets/base",
            "_model_module_version": "1.2.0",
            "_model_name": "LayoutModel",
            "_view_count": null,
            "_view_module": "@jupyter-widgets/base",
            "_view_module_version": "1.2.0",
            "_view_name": "LayoutView",
            "align_content": null,
            "align_items": null,
            "align_self": null,
            "border": null,
            "bottom": null,
            "display": null,
            "flex": null,
            "flex_flow": null,
            "grid_area": null,
            "grid_auto_columns": null,
            "grid_auto_flow": null,
            "grid_auto_rows": null,
            "grid_column": null,
            "grid_gap": null,
            "grid_row": null,
            "grid_template_areas": null,
            "grid_template_columns": null,
            "grid_template_rows": null,
            "height": null,
            "justify_content": null,
            "justify_items": null,
            "left": null,
            "margin": null,
            "max_height": null,
            "max_width": null,
            "min_height": null,
            "min_width": null,
            "object_fit": null,
            "object_position": null,
            "order": null,
            "overflow": null,
            "overflow_x": null,
            "overflow_y": null,
            "padding": null,
            "right": null,
            "top": null,
            "visibility": null,
            "width": null
          }
        },
        "27e4fdc4213a4b1c99ee64653ce43b9a": {
          "model_module": "@jupyter-widgets/controls",
          "model_name": "SliderStyleModel",
          "state": {
            "_model_module": "@jupyter-widgets/controls",
            "_model_module_version": "1.5.0",
            "_model_name": "SliderStyleModel",
            "_view_count": null,
            "_view_module": "@jupyter-widgets/base",
            "_view_module_version": "1.2.0",
            "_view_name": "StyleView",
            "description_width": "",
            "handle_color": null
          }
        }
      }
    }
  },
  "cells": [
    {
      "cell_type": "markdown",
      "metadata": {
        "id": "view-in-github",
        "colab_type": "text"
      },
      "source": [
        "<a href=\"https://colab.research.google.com/github/epi2me-labs/tutorials/blob/master/enrichment_tutorial.ipynb\" target=\"_parent\"><img src=\"https://colab.research.google.com/assets/colab-badge.svg\" alt=\"Open In Colab\"/></a>"
      ]
    },
    {
      "cell_type": "markdown",
      "metadata": {
        "id": "eyhWQcLLP6Kt",
        "colab_type": "text"
      },
      "source": [
        "<h1>Cas9 Enrichment Tutorial</h1>\n",
        "\n",
        "This tutorial is intended as a introduction into the analysis of a Cas9 enrichment experiment with nanopore sequencing. The tutorial will step through a discuss the steps of the workflow starting from raw sequencing data. We will learn how to:\n",
        "\n",
        "* Align read data to a human reference sequence\n",
        "* Show the sequencing depth for target regions\n",
        "* Analyse the proportion of off-target reads\n",
        "\n",
        "The tutorial makes use of some common bioinformatics including:\n",
        "\n",
        "* `mini_align` - a simple interface to the [`minimap2`](https://github.com/lh3/minimap2) alignment program.\n",
        "* [`pyranges`](https://github.com/biocore-ntnu/pyranges) - GenomicRanges and genomic Rle-objects for Python.\n",
        "\n",
        "Computational requirements for this tutorial include:\n",
        "\n",
        "- Computer running the **Epi2Me Labs** notebook Server\n",
        "- At least 8 Gb RAM\n",
        "\n",
        "\n",
        "\n",
        "> ⚠️ **Warning:** This notebook hase been saved with its outputs for demostration purposed. It is recommeded to select `Edit > Clear all outputs` before using the notebook to analyse your own data.\n",
        "\n",
        "\n"
      ]
    },
    {
      "cell_type": "markdown",
      "metadata": {
        "id": "a0y2JPI9SlxM",
        "colab_type": "text"
      },
      "source": [
        "## Introduction\n",
        "\n",
        "The tutorial requires a FASTQ format sequence file and a BED file of target coordinates as input, along with pointers to download locations for the reference genome to be used.\n",
        "\n",
        "The tutorial aids with the quantification of the non-target depletion and provides information on mapping characteristics that highlight the protocol performance. The figures plotted include depth-of-coverage over the target regions and strand bias over these regions. The location and peaks of coverage and local biases in strandedness may be used to assess the performance of guide-RNA sequences and may highlight guide RNAs that are not performing. A review of likely off-target regions over-represented within the sequence collection may inform of strategies to refine guide-RNA design.\n",
        "\n",
        "**Before stepping through the workflow be sure to connect this notebook to your local Epi2Me Labs server in the top right of the screen.** [Further details](https://colab.research.google.com/github/epi2me-labs/resources/blob/master/epi2me-labs-server.ipynb#connecting)\n"
      ]
    },
    {
      "cell_type": "markdown",
      "metadata": {
        "id": "ZMhjoLNaP6Ku",
        "colab_type": "text"
      },
      "source": [
        "## Data preparation\n",
        "\n",
        "To start analysing our experiment we must first \"read in\" the data. For this example we will first download three files:\n",
        "\n",
        "1. A `.fast5` file containing our sequencing data\n",
        "2. The human reference genome\n",
        "3. A `.bed` file describing the target regions of the genome\n"
      ]
    },
    {
      "cell_type": "markdown",
      "metadata": {
        "id": "LNl_IrI8pklV",
        "colab_type": "text"
      },
      "source": [
        "### Sample Data\n",
        "\n",
        "To use this tutorial with sample data we can download the files using the `linux` command `wget`. To execute the command click on the cell and then press Command/Ctrl-Enter, or click the Play symbol to the left-hand side."
      ]
    },
    {
      "cell_type": "markdown",
      "metadata": {
        "id": "fCRJklrYRhoB",
        "colab_type": "text"
      },
      "source": [
        "To get started we will first create a working directory and move into it so that the results of this notebook are all contained within one easy to identify location, click on the cell below and press the \"Play\" symbol to the left:"
      ]
    },
    {
      "cell_type": "code",
      "metadata": {
        "id": "VxNYaXyJG4X0",
        "colab_type": "code",
        "outputId": "f29dbe76-d7ba-4b7c-bf62-740ccd2b6203",
        "colab": {
          "base_uri": "https://localhost:8080/",
          "height": 34
        }
      },
      "source": [
        "# create a work directory and move into it\n",
        "working_dir='cas9_tutorial'\n",
        "!mkdir -p \"$working_dir\"\n",
        "%cd \"$working_dir\""
      ],
      "execution_count": 0,
      "outputs": [
        {
          "output_type": "stream",
          "text": [
            "/home/jovyan/work/cas9_tutorial\n"
          ],
          "name": "stdout"
        }
      ]
    },
    {
      "cell_type": "markdown",
      "metadata": {
        "id": "CxOQfP9VHKKW",
        "colab_type": "text"
      },
      "source": [
        "Into this directory we will download the sample data (again press Play to execute the code):"
      ]
    },
    {
      "cell_type": "code",
      "metadata": {
        "id": "MVacV0gxWwel",
        "colab_type": "code",
        "colab": {}
      },
      "source": [
        "# download the data\n",
        "!wget https://ont-research.s3-eu-west-1.amazonaws.com/labs_resources/cas9_tutorial/sample_cas9.tar.gz\n",
        "# the data is in a compressed archive so let's decompress it\n",
        "!tar -xzvf sample_cas9.tar.gz"
      ],
      "execution_count": 0,
      "outputs": []
    },
    {
      "cell_type": "markdown",
      "metadata": {
        "id": "U7nte38ESR3u",
        "colab_type": "text"
      },
      "source": [
        "The data downloaded is laid-out in the form as written by MinKNOW on a sequencing device, only reads passing the quality score filter applied by MinKNOW has been included (again click the cell and press play):"
      ]
    },
    {
      "cell_type": "code",
      "metadata": {
        "colab_type": "code",
        "id": "VX-ktMl971CH",
        "outputId": "7b954d61-f843-4d73-b029-fef4b05d890f",
        "colab": {
          "base_uri": "https://localhost:8080/",
          "height": 119
        }
      },
      "source": [
        "!tree sample_cas9"
      ],
      "execution_count": 0,
      "outputs": [
        {
          "output_type": "stream",
          "text": [
            "sample_cas9\r\n",
            "└── fastq_pass\r\n",
            "    ├── FAK76554_9b52beb8b4f9ec458eb28c28b35822acaff84952_0.fastq\r\n",
            "    └── FAK76554_9b52beb8b4f9ec458eb28c28b35822acaff84952_1.fastq\r\n",
            "\r\n",
            "1 directory, 2 files\r\n"
          ],
          "name": "stdout"
        }
      ]
    },
    {
      "cell_type": "markdown",
      "metadata": {
        "id": "rbYU5N0KmBsW",
        "colab_type": "text"
      },
      "source": [
        "For our analysis we will also need the human genome reference (*note that this download is quite large, it includes both the reference sequence and indexes required for analysis*):"
      ]
    },
    {
      "cell_type": "code",
      "metadata": {
        "id": "jTtCIdiO-IN3",
        "colab_type": "code",
        "colab": {}
      },
      "source": [
        "!wget https://ont-research.s3-eu-west-1.amazonaws.com/labs_resources/grch38.tar.gz\n",
        "!tar -xzvf grch38.tar.gz"
      ],
      "execution_count": 0,
      "outputs": []
    },
    {
      "cell_type": "markdown",
      "metadata": {
        "id": "QrEPm_xu_LsG",
        "colab_type": "text"
      },
      "source": [
        "The reference contained within the above download is that which can also be obtained [here](http://ftp.ncbi.nlm.nih.gov/genomes/all/GCA/000/001/405/GCA_000001405.15_GRCh38/seqs_for_alignment_pipelines.ucsc_ids/GCA_000001405.15_GRCh38_no_alt_analysis_set.fna.gz), the reasons for using this file are presented in Heng Li's [blog post](https://lh3.github.io/2017/11/13/which-human-reference-genome-to-use)."
      ]
    },
    {
      "cell_type": "markdown",
      "metadata": {
        "id": "3AuVE3qCoWrH",
        "colab_type": "text"
      },
      "source": [
        "Finally we will need a `BED` file describing the target regions of the genome."
      ]
    },
    {
      "cell_type": "code",
      "metadata": {
        "id": "SYhnDMfToh3d",
        "colab_type": "code",
        "colab": {}
      },
      "source": [
        "!wget -O targets.bed https://ont-research.s3-eu-west-1.amazonaws.com/labs_resources/cas9_tutorial/targets.bed"
      ],
      "execution_count": 0,
      "outputs": []
    },
    {
      "cell_type": "markdown",
      "metadata": {
        "id": "nh7-4mZeXHRA",
        "colab_type": "text"
      },
      "source": [
        "### Using your own data\n",
        "\n",
        "If you wish to analyse your own data rather than the sample data, you can edit the value of the `data_folder` variable below. To find the correct full path of a directory you can navigate to it in\n",
        "the `Files` browser to the left-hand side, right-click on the file and select `Copy path`:"
      ]
    },
    {
      "cell_type": "markdown",
      "metadata": {
        "id": "vDCEs7E3Zy60",
        "colab_type": "text"
      },
      "source": [
        "![image.png](data:image/png;base64,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)"
      ]
    },
    {
      "cell_type": "markdown",
      "metadata": {
        "id": "1VM9k1NGZ8co",
        "colab_type": "text"
      },
      "source": [
        "When pasting the path in the code cell you will have to remove the preceding `/` character.\n"
      ]
    },
    {
      "cell_type": "markdown",
      "metadata": {
        "id": "rjXNch2Kp-_2",
        "colab_type": "text"
      },
      "source": [
        "### Data entry\n",
        "\n",
        "Having downloaded the sample data, or locating your own data in the file browser, we need to provide the filepaths as input to the notebook. This is done in the form below, after updating the values, be sure to press the play button."
      ]
    },
    {
      "cell_type": "markdown",
      "metadata": {
        "id": "46QEClv31y4J",
        "colab_type": "text"
      },
      "source": [
        "\n",
        "\n",
        "> **If you want simply to plot all the graphs in this tutorial for your dataset, rather than working through the tutorial, select `Run after` from the `Runtime` menu above after executing the cell below.**"
      ]
    },
    {
      "cell_type": "code",
      "metadata": {
        "id": "hexEX4x8VPfA",
        "colab_type": "code",
        "cellView": "form",
        "outputId": "aa971f05-126a-4424-b8e3-6eb82ab1d1a2",
        "colab": {
          "base_uri": "https://localhost:8080/",
          "height": 68
        }
      },
      "source": [
        "#@markdown Enter the paths to you input files and output folder here:\n",
        "import pandas as pd\n",
        "\n",
        "# set variables for our inputs\n",
        "data_folder='sample_cas9/fastq_pass'  #@param {type: \"string\"}\n",
        "output_folder='analysis'  #@param {type: \"string\"}\n",
        "reference_genome='grch38/grch38.fasta.gz' #@param {type: \"string\"}\n",
        "bed_file='targets.bed' #@param {type: \"string\"}\n",
        "\n",
        "fastq = output_folder + '/all_data.fastq'\n",
        "\n",
        "# run a command to concatenate all the files together\n",
        "!echo \"Making output folder\"\n",
        "!test -f \"$reference_genome\" || \"WARNING: Reference file does not exist\"\n",
        "!mkdir -p \"$output_folder\"\n",
        "!concatenate_fastqs \"$data_folder\" \"$fastq\"\n",
        "\n",
        "region_bed = pd.read_csv(\n",
        "    bed_file, sep='\\t', header=None,\n",
        "    # https://genome.ucsc.edu/FAQ/FAQformat.html#format1\n",
        "    names=[\n",
        "        'chrom', 'start', 'end',  #required\n",
        "        'tname', 'score', 'strand', 'thickStart', 'thickEnd',\n",
        "        'itemRgb', 'blockCount', 'blockSizes', 'blockStarts'])\n",
        "\n",
        "region_bed['region'] = [\n",
        "    '{}:{}-{}'.format(x['chrom'], x.start, x.end)\n",
        "    for _, x in region_bed.iterrows()]\n",
        "target_names = region_bed['tname'].to_list()\n"
      ],
      "execution_count": 0,
      "outputs": [
        {
          "output_type": "stream",
          "text": [
            "Making output folder\n",
            "Found files, concatenating\n",
            "Written data to analysis/all_data.fastq\n"
          ],
          "name": "stdout"
        }
      ]
    },
    {
      "cell_type": "markdown",
      "metadata": {
        "id": "wfhtD7DZbl4Q",
        "colab_type": "text"
      },
      "source": [
        "## Alignment of reads\n",
        "\n",
        "Our first task in analysing our data is to align the sequence reads to the reference sequence. We do this with the `mini_align` program from the [`pomoxis`](https://github.com/nanoporetech/pomoxis) package. This is preinstalled in the **Epi2Me Labs** notebook server. Note that this command may take a while to run depending on the number of reads in your datasets. With the sample data (8000 reads) and using 4 compute threads (`-t 4` in the code), the alignments will take around 5 minutes.\n"
      ]
    },
    {
      "cell_type": "code",
      "metadata": {
        "id": "sTLIGAURr4Cd",
        "colab_type": "code",
        "outputId": "9aea2adc-edb6-4e13-e0f6-1d2b00454449",
        "colab": {
          "base_uri": "https://localhost:8080/",
          "height": 187
        }
      },
      "source": [
        "!run mini_align \\\n",
        "    -r \"$reference_genome\" -i \"$output_folder/all_data.fastq\" \\\n",
        "    -p \"$output_folder/alignments\" \\\n",
        "    -t 3 -m\n",
        "# for brevity the results of the above for the sample data can also be downloaded:\n",
        "# !wget https://ont-research.s3-eu-west-1.amazonaws.com/labs_resources/cas9_tutorial/alignments.bam\n",
        "# !wget https://ont-research.s3-eu-west-1.amazonaws.com/labs_resources/cas9_tutorial/alignments.bam.bai"
      ],
      "execution_count": 0,
      "outputs": [
        {
          "output_type": "stream",
          "text": [
            "Found minimap files.\n",
            "[M::main::233.629*0.73] loaded/built the index for 195 target sequence(s)\n",
            "[M::mm_mapopt_update::260.939*0.76] mid_occ = 694\n",
            "[M::mm_idx_stat] kmer size: 15; skip: 10; is_hpc: 0; #seq: 195\n",
            "[M::mm_idx_stat::263.313*0.76] distinct minimizers: 100167746 (38.80% are singletons); average occurrences: 5.519; average spacing: 5.607\n",
            "[M::worker_pipeline::533.018*1.82] mapped 7853 sequences\n",
            "[M::main] Version: 2.17-r941\n",
            "[M::main] CMD: minimap2 -x map-ont --MD -t 3 -a grch38/grch38.fasta.gz.mmi analysis/all_data.fastq\n",
            "[M::main] Real time: 585.110 sec; CPU: 1021.969 sec; Peak RSS: 8.483 GB\n",
            "[bam_sort_core] merging from 0 files and 3 in-memory blocks...\n"
          ],
          "name": "stdout"
        }
      ]
    },
    {
      "cell_type": "markdown",
      "metadata": {
        "id": "emZnWTi-2rNl",
        "colab_type": "text"
      },
      "source": [
        "While we are here we will calculate also a table summarising the alignment data, again using a program from `pomoxis`:"
      ]
    },
    {
      "cell_type": "code",
      "metadata": {
        "id": "7PMfMRYr2-ef",
        "colab_type": "code",
        "outputId": "4cd795d5-f145-42a5-fbec-1166a6d4ee1e",
        "colab": {
          "base_uri": "https://localhost:8080/",
          "height": 51
        }
      },
      "source": [
        "!stats_from_bam \"$output_folder/alignments.bam\" \\\n",
        "    > \"$output_folder/alignments.stats\""
      ],
      "execution_count": 0,
      "outputs": [
        {
          "output_type": "stream",
          "text": [
            "-rw-r--r-- 1 jovyan users 78091356 Mar 12 13:30 analysis/alignments.bam\n",
            "Mapped/Unmapped/Short/Masked: 7827/0/0/0\n"
          ],
          "name": "stdout"
        }
      ]
    },
    {
      "cell_type": "markdown",
      "metadata": {
        "id": "iOn_k8_CsuvV",
        "colab_type": "text"
      },
      "source": [
        "The summary file gives useful information on the alignment of each read to the reference sequence, including: chromosome, start and end coordinates, and the accuracy of the read with respect to the reference. We can plot a histogram of the latter quantity:"
      ]
    },
    {
      "cell_type": "code",
      "metadata": {
        "id": "9cYOMIAtuXQa",
        "colab_type": "code",
        "cellView": "form",
        "outputId": "0d90b7f9-ba51-4b0a-b0ab-e1ed2c15c8a4",
        "colab": {
          "base_uri": "https://localhost:8080/",
          "height": 317
        }
      },
      "source": [
        "#@markdown ***Accuracy distribution code*** (*click to show*)\n",
        "\n",
        "#load python libraries\n",
        "from bokeh.plotting import figure\n",
        "from bokeh.models import Range1d\n",
        "import bokeh.io as bkio\n",
        "import numpy as np\n",
        "import pandas as pd\n",
        "from scipy import stats as sp_stats\n",
        "\n",
        "aln_summary = pd.read_csv(\n",
        "    '{}/alignments.stats'.format(output_folder),\n",
        "    delimiter='\\t')\n",
        "\n",
        "\n",
        "def kernel_density_estimate(x, step=0.2):\n",
        "    \"\"\"Kernel density to approximate distribution\n",
        "\n",
        "    :param x: data of which to find mode.\n",
        "    :param step: discretization of KDE PDF.\n",
        "    \"\"\"\n",
        "    # estimate bandwidth of kde, R's nrd0 rule-of-thumb\n",
        "    hi = np.std(x, ddof=1)\n",
        "    q75, q25 = np.percentile(x, [75 ,25])\n",
        "    iqr = q75 - q25\n",
        "    lo = min(hi, iqr/1.34)\n",
        "    if not ((lo == hi) or (lo == abs(x[0])) or (lo == 1)):\n",
        "        lo = 1\n",
        "    bw = 0.9 * lo *len(x)**-0.2\n",
        "\n",
        "    # create a KDE\n",
        "    x_grid = np.arange(min(x), max(x), step)\n",
        "    kernel = sp_stats.gaussian_kde(x, bw_method=bw)\n",
        "    pdf = kernel(x_grid)\n",
        "    return x_grid, pdf\n",
        "\n",
        "x_grid, pdf = kernel_density_estimate(aln_summary.acc)\n",
        "mode_acc = x_grid[np.argmax(pdf)]\n",
        "mean_acc = aln_summary.acc.mean()\n",
        "\n",
        "# create a figure\n",
        "p = figure(\n",
        "    title='Read accuracy distribution',\n",
        "    output_backend=\"webgl\",\n",
        "    height=300, width=600)\n",
        "\n",
        "p.line(x=x_grid, y=pdf, line_width=1.5)\n",
        "\n",
        "\n",
        "# plot a vertical line for mean and N50 read length\n",
        "line_types = (('Mean', mean_acc), ('Mode', mode_acc))\n",
        "for name, val in line_types:\n",
        "    p.line(\n",
        "        x=[val, val], y=[0, 0.8*max(pdf)],\n",
        "        line_width=1.5, color='black')\n",
        "    p.text(x=[val], y=[0.8*max(pdf)],\n",
        "        text=['{}: {:.1f}'.format(name, val)],\n",
        "        angle=1, alpha=0.4)\n",
        "\n",
        "# limit the display range\n",
        "p.x_range = Range1d(start=80, end=100, bounds=(0, None))\n",
        "p.y_range = Range1d(start=0, end=1.2*max(pdf), bounds=(0, None))\n",
        "# add axis labels\n",
        "p.xaxis.axis_label = 'Read Accuracy'\n",
        "p.yaxis.axis_label = 'Number of reads'\n",
        "# show the plot\n",
        "bkio.output_notebook(hide_banner=True)\n",
        "bkio.show(p)"
      ],
      "execution_count": 0,
      "outputs": [
        {
          "output_type": "display_data",
          "data": {
            "application/javascript": [
              "\n",
              "(function(root) {\n",
              "  function now() {\n",
              "    return new Date();\n",
              "  }\n",
              "\n",
              "  var force = true;\n",
              "\n",
              "  if (typeof root._bokeh_onload_callbacks === \"undefined\" || force === true) {\n",
              "    root._bokeh_onload_callbacks = [];\n",
              "    root._bokeh_is_loading = undefined;\n",
              "  }\n",
              "\n",
              "  var JS_MIME_TYPE = 'application/javascript';\n",
              "  var HTML_MIME_TYPE = 'text/html';\n",
              "  var EXEC_MIME_TYPE = 'application/vnd.bokehjs_exec.v0+json';\n",
              "  var CLASS_NAME = 'output_bokeh rendered_html';\n",
              "\n",
              "  /**\n",
              "   * Render data to the DOM node\n",
              "   */\n",
              "  function render(props, node) {\n",
              "    var script = document.createElement(\"script\");\n",
              "    node.appendChild(script);\n",
              "  }\n",
              "\n",
              "  /**\n",
              "   * Handle when an output is cleared or removed\n",
              "   */\n",
              "  function handleClearOutput(event, handle) {\n",
              "    var cell = handle.cell;\n",
              "\n",
              "    var id = cell.output_area._bokeh_element_id;\n",
              "    var server_id = cell.output_area._bokeh_server_id;\n",
              "    // Clean up Bokeh references\n",
              "    if (id != null && id in Bokeh.index) {\n",
              "      Bokeh.index[id].model.document.clear();\n",
              "      delete Bokeh.index[id];\n",
              "    }\n",
              "\n",
              "    if (server_id !== undefined) {\n",
              "      // Clean up Bokeh references\n",
              "      var cmd = \"from bokeh.io.state import curstate; print(curstate().uuid_to_server['\" + server_id + \"'].get_sessions()[0].document.roots[0]._id)\";\n",
              "      cell.notebook.kernel.execute(cmd, {\n",
              "        iopub: {\n",
              "          output: function(msg) {\n",
              "            var id = msg.content.text.trim();\n",
              "            if (id in Bokeh.index) {\n",
              "              Bokeh.index[id].model.document.clear();\n",
              "              delete Bokeh.index[id];\n",
              "            }\n",
              "          }\n",
              "        }\n",
              "      });\n",
              "      // Destroy server and session\n",
              "      var cmd = \"import bokeh.io.notebook as ion; ion.destroy_server('\" + server_id + \"')\";\n",
              "      cell.notebook.kernel.execute(cmd);\n",
              "    }\n",
              "  }\n",
              "\n",
              "  /**\n",
              "   * Handle when a new output is added\n",
              "   */\n",
              "  function handleAddOutput(event, handle) {\n",
              "    var output_area = handle.output_area;\n",
              "    var output = handle.output;\n",
              "\n",
              "    // limit handleAddOutput to display_data with EXEC_MIME_TYPE content only\n",
              "    if ((output.output_type != \"display_data\") || (!output.data.hasOwnProperty(EXEC_MIME_TYPE))) {\n",
              "      return\n",
              "    }\n",
              "\n",
              "    var toinsert = output_area.element.find(\".\" + CLASS_NAME.split(' ')[0]);\n",
              "\n",
              "    if (output.metadata[EXEC_MIME_TYPE][\"id\"] !== undefined) {\n",
              "      toinsert[toinsert.length - 1].firstChild.textContent = output.data[JS_MIME_TYPE];\n",
              "      // store reference to embed id on output_area\n",
              "      output_area._bokeh_element_id = output.metadata[EXEC_MIME_TYPE][\"id\"];\n",
              "    }\n",
              "    if (output.metadata[EXEC_MIME_TYPE][\"server_id\"] !== undefined) {\n",
              "      var bk_div = document.createElement(\"div\");\n",
              "      bk_div.innerHTML = output.data[HTML_MIME_TYPE];\n",
              "      var script_attrs = bk_div.children[0].attributes;\n",
              "      for (var i = 0; i < script_attrs.length; i++) {\n",
              "        toinsert[toinsert.length - 1].firstChild.setAttribute(script_attrs[i].name, script_attrs[i].value);\n",
              "      }\n",
              "      // store reference to server id on output_area\n",
              "      output_area._bokeh_server_id = output.metadata[EXEC_MIME_TYPE][\"server_id\"];\n",
              "    }\n",
              "  }\n",
              "\n",
              "  function register_renderer(events, OutputArea) {\n",
              "\n",
              "    function append_mime(data, metadata, element) {\n",
              "      // create a DOM node to render to\n",
              "      var toinsert = this.create_output_subarea(\n",
              "        metadata,\n",
              "        CLASS_NAME,\n",
              "        EXEC_MIME_TYPE\n",
              "      );\n",
              "      this.keyboard_manager.register_events(toinsert);\n",
              "      // Render to node\n",
              "      var props = {data: data, metadata: metadata[EXEC_MIME_TYPE]};\n",
              "      render(props, toinsert[toinsert.length - 1]);\n",
              "      element.append(toinsert);\n",
              "      return toinsert\n",
              "    }\n",
              "\n",
              "    /* Handle when an output is cleared or removed */\n",
              "    events.on('clear_output.CodeCell', handleClearOutput);\n",
              "    events.on('delete.Cell', handleClearOutput);\n",
              "\n",
              "    /* Handle when a new output is added */\n",
              "    events.on('output_added.OutputArea', handleAddOutput);\n",
              "\n",
              "    /**\n",
              "     * Register the mime type and append_mime function with output_area\n",
              "     */\n",
              "    OutputArea.prototype.register_mime_type(EXEC_MIME_TYPE, append_mime, {\n",
              "      /* Is output safe? */\n",
              "      safe: true,\n",
              "      /* Index of renderer in `output_area.display_order` */\n",
              "      index: 0\n",
              "    });\n",
              "  }\n",
              "\n",
              "  // register the mime type if in Jupyter Notebook environment and previously unregistered\n",
              "  if (root.Jupyter !== undefined) {\n",
              "    var events = require('base/js/events');\n",
              "    var OutputArea = require('notebook/js/outputarea').OutputArea;\n",
              "\n",
              "    if (OutputArea.prototype.mime_types().indexOf(EXEC_MIME_TYPE) == -1) {\n",
              "      register_renderer(events, OutputArea);\n",
              "    }\n",
              "  }\n",
              "\n",
              "  \n",
              "  if (typeof (root._bokeh_timeout) === \"undefined\" || force === true) {\n",
              "    root._bokeh_timeout = Date.now() + 5000;\n",
              "    root._bokeh_failed_load = false;\n",
              "  }\n",
              "\n",
              "  var NB_LOAD_WARNING = {'data': {'text/html':\n",
              "     \"<div style='background-color: #fdd'>\\n\"+\n",
              "     \"<p>\\n\"+\n",
              "     \"BokehJS does not appear to have successfully loaded. If loading BokehJS from CDN, this \\n\"+\n",
              "     \"may be due to a slow or bad network connection. Possible fixes:\\n\"+\n",
              "     \"</p>\\n\"+\n",
              "     \"<ul>\\n\"+\n",
              "     \"<li>re-rerun `output_notebook()` to attempt to load from CDN again, or</li>\\n\"+\n",
              "     \"<li>use INLINE resources instead, as so:</li>\\n\"+\n",
              "     \"</ul>\\n\"+\n",
              "     \"<code>\\n\"+\n",
              "     \"from bokeh.resources import INLINE\\n\"+\n",
              "     \"output_notebook(resources=INLINE)\\n\"+\n",
              "     \"</code>\\n\"+\n",
              "     \"</div>\"}};\n",
              "\n",
              "  function display_loaded() {\n",
              "    var el = document.getElementById(null);\n",
              "    if (el != null) {\n",
              "      el.textContent = \"BokehJS is loading...\";\n",
              "    }\n",
              "    if (root.Bokeh !== undefined) {\n",
              "      if (el != null) {\n",
              "        el.textContent = \"BokehJS \" + root.Bokeh.version + \" successfully loaded.\";\n",
              "      }\n",
              "    } else if (Date.now() < root._bokeh_timeout) {\n",
              "      setTimeout(display_loaded, 100)\n",
              "    }\n",
              "  }\n",
              "\n",
              "\n",
              "  function run_callbacks() {\n",
              "    try {\n",
              "      root._bokeh_onload_callbacks.forEach(function(callback) {\n",
              "        if (callback != null)\n",
              "          callback();\n",
              "      });\n",
              "    } finally {\n",
              "      delete root._bokeh_onload_callbacks\n",
              "    }\n",
              "    console.debug(\"Bokeh: all callbacks have finished\");\n",
              "  }\n",
              "\n",
              "  function load_libs(css_urls, js_urls, callback) {\n",
              "    if (css_urls == null) css_urls = [];\n",
              "    if (js_urls == null) js_urls = [];\n",
              "\n",
              "    root._bokeh_onload_callbacks.push(callback);\n",
              "    if (root._bokeh_is_loading > 0) {\n",
              "      console.debug(\"Bokeh: BokehJS is being loaded, scheduling callback at\", now());\n",
              "      return null;\n",
              "    }\n",
              "    if (js_urls == null || js_urls.length === 0) {\n",
              "      run_callbacks();\n",
              "      return null;\n",
              "    }\n",
              "    console.debug(\"Bokeh: BokehJS not loaded, scheduling load and callback at\", now());\n",
              "    root._bokeh_is_loading = css_urls.length + js_urls.length;\n",
              "\n",
              "    function on_load() {\n",
              "      root._bokeh_is_loading--;\n",
              "      if (root._bokeh_is_loading === 0) {\n",
              "        console.debug(\"Bokeh: all BokehJS libraries/stylesheets loaded\");\n",
              "        run_callbacks()\n",
              "      }\n",
              "    }\n",
              "\n",
              "    function on_error() {\n",
              "      console.error(\"failed to load \" + url);\n",
              "    }\n",
              "\n",
              "    for (var i = 0; i < css_urls.length; i++) {\n",
              "      var url = css_urls[i];\n",
              "      const element = document.createElement(\"link\");\n",
              "      element.onload = on_load;\n",
              "      element.onerror = on_error;\n",
              "      element.rel = \"stylesheet\";\n",
              "      element.type = \"text/css\";\n",
              "      element.href = url;\n",
              "      console.debug(\"Bokeh: injecting link tag for BokehJS stylesheet: \", url);\n",
              "      document.body.appendChild(element);\n",
              "    }\n",
              "\n",
              "    for (var i = 0; i < js_urls.length; i++) {\n",
              "      var url = js_urls[i];\n",
              "      var element = document.createElement('script');\n",
              "      element.onload = on_load;\n",
              "      element.onerror = on_error;\n",
              "      element.async = false;\n",
              "      element.src = url;\n",
              "      console.debug(\"Bokeh: injecting script tag for BokehJS library: \", url);\n",
              "      document.head.appendChild(element);\n",
              "    }\n",
              "  };\n",
              "\n",
              "  function inject_raw_css(css) {\n",
              "    const element = document.createElement(\"style\");\n",
              "    element.appendChild(document.createTextNode(css));\n",
              "    document.body.appendChild(element);\n",
              "  }\n",
              "\n",
              "  \n",
              "  var js_urls = [\"https://cdn.pydata.org/bokeh/release/bokeh-1.4.0.min.js\", \"https://cdn.pydata.org/bokeh/release/bokeh-widgets-1.4.0.min.js\", \"https://cdn.pydata.org/bokeh/release/bokeh-tables-1.4.0.min.js\", \"https://cdn.pydata.org/bokeh/release/bokeh-gl-1.4.0.min.js\"];\n",
              "  var css_urls = [];\n",
              "  \n",
              "\n",
              "  var inline_js = [\n",
              "    function(Bokeh) {\n",
              "      Bokeh.set_log_level(\"info\");\n",
              "    },\n",
              "    function(Bokeh) {\n",
              "    \n",
              "    \n",
              "    }\n",
              "  ];\n",
              "\n",
              "  function run_inline_js() {\n",
              "    \n",
              "    if (root.Bokeh !== undefined || force === true) {\n",
              "      \n",
              "    for (var i = 0; i < inline_js.length; i++) {\n",
              "      inline_js[i].call(root, root.Bokeh);\n",
              "    }\n",
              "    } else if (Date.now() < root._bokeh_timeout) {\n",
              "      setTimeout(run_inline_js, 100);\n",
              "    } else if (!root._bokeh_failed_load) {\n",
              "      console.log(\"Bokeh: BokehJS failed to load within specified timeout.\");\n",
              "      root._bokeh_failed_load = true;\n",
              "    } else if (force !== true) {\n",
              "      var cell = $(document.getElementById(null)).parents('.cell').data().cell;\n",
              "      cell.output_area.append_execute_result(NB_LOAD_WARNING)\n",
              "    }\n",
              "\n",
              "  }\n",
              "\n",
              "  if (root._bokeh_is_loading === 0) {\n",
              "    console.debug(\"Bokeh: BokehJS loaded, going straight to plotting\");\n",
              "    run_inline_js();\n",
              "  } else {\n",
              "    load_libs(css_urls, js_urls, function() {\n",
              "      console.debug(\"Bokeh: BokehJS plotting callback run at\", now());\n",
              "      run_inline_js();\n",
              "    });\n",
              "  }\n",
              "}(window));"
            ],
            "application/vnd.bokehjs_load.v0+json": "\n(function(root) {\n  function now() {\n    return new Date();\n  }\n\n  var force = true;\n\n  if (typeof root._bokeh_onload_callbacks === \"undefined\" || force === true) {\n    root._bokeh_onload_callbacks = [];\n    root._bokeh_is_loading = undefined;\n  }\n\n  \n\n  \n  if (typeof (root._bokeh_timeout) === \"undefined\" || force === true) {\n    root._bokeh_timeout = Date.now() + 5000;\n    root._bokeh_failed_load = false;\n  }\n\n  var NB_LOAD_WARNING = {'data': {'text/html':\n     \"<div style='background-color: #fdd'>\\n\"+\n     \"<p>\\n\"+\n     \"BokehJS does not appear to have successfully loaded. If loading BokehJS from CDN, this \\n\"+\n     \"may be due to a slow or bad network connection. Possible fixes:\\n\"+\n     \"</p>\\n\"+\n     \"<ul>\\n\"+\n     \"<li>re-rerun `output_notebook()` to attempt to load from CDN again, or</li>\\n\"+\n     \"<li>use INLINE resources instead, as so:</li>\\n\"+\n     \"</ul>\\n\"+\n     \"<code>\\n\"+\n     \"from bokeh.resources import INLINE\\n\"+\n     \"output_notebook(resources=INLINE)\\n\"+\n     \"</code>\\n\"+\n     \"</div>\"}};\n\n  function display_loaded() {\n    var el = document.getElementById(null);\n    if (el != null) {\n      el.textContent = \"BokehJS is loading...\";\n    }\n    if (root.Bokeh !== undefined) {\n      if (el != null) {\n        el.textContent = \"BokehJS \" + root.Bokeh.version + \" successfully loaded.\";\n      }\n    } else if (Date.now() < root._bokeh_timeout) {\n      setTimeout(display_loaded, 100)\n    }\n  }\n\n\n  function run_callbacks() {\n    try {\n      root._bokeh_onload_callbacks.forEach(function(callback) {\n        if (callback != null)\n          callback();\n      });\n    } finally {\n      delete root._bokeh_onload_callbacks\n    }\n    console.debug(\"Bokeh: all callbacks have finished\");\n  }\n\n  function load_libs(css_urls, js_urls, callback) {\n    if (css_urls == null) css_urls = [];\n    if (js_urls == null) js_urls = [];\n\n    root._bokeh_onload_callbacks.push(callback);\n    if (root._bokeh_is_loading > 0) {\n      console.debug(\"Bokeh: BokehJS is being loaded, scheduling callback at\", now());\n      return null;\n    }\n    if (js_urls == null || js_urls.length === 0) {\n      run_callbacks();\n      return null;\n    }\n    console.debug(\"Bokeh: BokehJS not loaded, scheduling load and callback at\", now());\n    root._bokeh_is_loading = css_urls.length + js_urls.length;\n\n    function on_load() {\n      root._bokeh_is_loading--;\n      if (root._bokeh_is_loading === 0) {\n        console.debug(\"Bokeh: all BokehJS libraries/stylesheets loaded\");\n        run_callbacks()\n      }\n    }\n\n    function on_error() {\n      console.error(\"failed to load \" + url);\n    }\n\n    for (var i = 0; i < css_urls.length; i++) {\n      var url = css_urls[i];\n      const element = document.createElement(\"link\");\n      element.onload = on_load;\n      element.onerror = on_error;\n      element.rel = \"stylesheet\";\n      element.type = \"text/css\";\n      element.href = url;\n      console.debug(\"Bokeh: injecting link tag for BokehJS stylesheet: \", url);\n      document.body.appendChild(element);\n    }\n\n    for (var i = 0; i < js_urls.length; i++) {\n      var url = js_urls[i];\n      var element = document.createElement('script');\n      element.onload = on_load;\n      element.onerror = on_error;\n      element.async = false;\n      element.src = url;\n      console.debug(\"Bokeh: injecting script tag for BokehJS library: \", url);\n      document.head.appendChild(element);\n    }\n  };\n\n  function inject_raw_css(css) {\n    const element = document.createElement(\"style\");\n    element.appendChild(document.createTextNode(css));\n    document.body.appendChild(element);\n  }\n\n  \n  var js_urls = [\"https://cdn.pydata.org/bokeh/release/bokeh-1.4.0.min.js\", \"https://cdn.pydata.org/bokeh/release/bokeh-widgets-1.4.0.min.js\", \"https://cdn.pydata.org/bokeh/release/bokeh-tables-1.4.0.min.js\", \"https://cdn.pydata.org/bokeh/release/bokeh-gl-1.4.0.min.js\"];\n  var css_urls = [];\n  \n\n  var inline_js = [\n    function(Bokeh) {\n      Bokeh.set_log_level(\"info\");\n    },\n    function(Bokeh) {\n    \n    \n    }\n  ];\n\n  function run_inline_js() {\n    \n    if (root.Bokeh !== undefined || force === true) {\n      \n    for (var i = 0; i < inline_js.length; i++) {\n      inline_js[i].call(root, root.Bokeh);\n    }\n    } else if (Date.now() < root._bokeh_timeout) {\n      setTimeout(run_inline_js, 100);\n    } else if (!root._bokeh_failed_load) {\n      console.log(\"Bokeh: BokehJS failed to load within specified timeout.\");\n      root._bokeh_failed_load = true;\n    } else if (force !== true) {\n      var cell = $(document.getElementById(null)).parents('.cell').data().cell;\n      cell.output_area.append_execute_result(NB_LOAD_WARNING)\n    }\n\n  }\n\n  if (root._bokeh_is_loading === 0) {\n    console.debug(\"Bokeh: BokehJS loaded, going straight to plotting\");\n    run_inline_js();\n  } else {\n    load_libs(css_urls, js_urls, function() {\n      console.debug(\"Bokeh: BokehJS plotting callback run at\", now());\n      run_inline_js();\n    });\n  }\n}(window));"
          },
          "metadata": {
            "tags": []
          }
        },
        {
          "output_type": "display_data",
          "data": {
            "text/html": [
              "\n",
              "\n",
              "\n",
              "\n",
              "\n",
              "\n",
              "  <div class=\"bk-root\" id=\"7c79b528-9060-4163-a77c-c71e24d702d1\" data-root-id=\"1001\"></div>\n"
            ]
          },
          "metadata": {
            "tags": []
          }
        },
        {
          "output_type": "display_data",
          "data": {
            "application/javascript": [
              "(function(root) {\n",
              "  function embed_document(root) {\n",
              "    \n",
              "  var docs_json = {\"f7f92b2d-0d18-4e89-8760-85a76a096c39\":{\"roots\":{\"references\":[{\"attributes\":{\"below\":[{\"id\":\"1012\",\"type\":\"LinearAxis\"}],\"center\":[{\"id\":\"1016\",\"type\":\"Grid\"},{\"id\":\"1021\",\"type\":\"Grid\"}],\"left\":[{\"id\":\"1017\",\"type\":\"LinearAxis\"}],\"output_backend\":\"webgl\",\"plot_height\":300,\"renderers\":[{\"id\":\"1038\",\"type\":\"GlyphRenderer\"},{\"id\":\"1043\",\"type\":\"GlyphRenderer\"},{\"id\":\"1048\",\"type\":\"GlyphRenderer\"},{\"id\":\"1053\",\"type\":\"GlyphRenderer\"},{\"id\":\"1058\",\"type\":\"GlyphRenderer\"}],\"title\":{\"id\":\"1002\",\"type\":\"Title\"},\"toolbar\":{\"id\":\"1028\",\"type\":\"Toolbar\"},\"x_range\":{\"id\":\"1060\",\"type\":\"Range1d\"},\"x_scale\":{\"id\":\"1008\",\"type\":\"LinearScale\"},\"y_range\":{\"id\":\"1061\",\"type\":\"Range1d\"},\"y_scale\":{\"id\":\"1010\",\"type\":\"LinearScale\"}},\"id\":\"1001\",\"subtype\":\"Figure\",\"type\":\"Plot\"},{\"attributes\":{},\"id\":\"1068\",\"type\":\"UnionRenderers\"},{\"attributes\":{\"angle\":{\"units\":\"rad\",\"value\":1},\"text_alpha\":{\"value\":0.1},\"text_color\":{\"value\":\"black\"},\"x\":{\"field\":\"x\"},\"y\":{\"field\":\"y\"}},\"id\":\"1047\",\"type\":\"Text\"},{\"attributes\":{\"bottom_units\":\"screen\",\"fill_alpha\":{\"value\":0.5},\"fill_color\":{\"value\":\"lightgrey\"},\"left_units\":\"screen\",\"level\":\"overlay\",\"line_alpha\":{\"value\":1.0},\"line_color\":{\"value\":\"black\"},\"line_dash\":[4,4],\"line_width\":{\"value\":2},\"render_mode\":\"css\",\"right_units\":\"screen\",\"top_units\":\"screen\"},\"id\":\"1067\",\"type\":\"BoxAnnotation\"},{\"attributes\":{\"line_alpha\":0.1,\"line_color\":\"#1f77b4\",\"line_width\":1.5,\"x\":{\"field\":\"x\"},\"y\":{\"field\":\"y\"}},\"id\":\"1037\",\"type\":\"Line\"},{\"attributes\":{},\"id\":\"1065\",\"type\":\"BasicTickFormatter\"},{\"attributes\":{\"data_source\":{\"id\":\"1045\",\"type\":\"ColumnDataSource\"},\"glyph\":{\"id\":\"1046\",\"type\":\"Text\"},\"hover_glyph\":null,\"muted_glyph\":null,\"nonselection_glyph\":{\"id\":\"1047\",\"type\":\"Text\"},\"selection_glyph\":null,\"view\":{\"id\":\"1049\",\"type\":\"CDSView\"}},\"id\":\"1048\",\"type\":\"GlyphRenderer\"},{\"attributes\":{\"bounds\":[0,null],\"callback\":null,\"end\":100,\"start\":80},\"id\":\"1060\",\"type\":\"Range1d\"},{\"attributes\":{},\"id\":\"1022\",\"type\":\"PanTool\"},{\"attributes\":{\"line_color\":\"#1f77b4\",\"line_width\":1.5,\"x\":{\"field\":\"x\"},\"y\":{\"field\":\"y\"}},\"id\":\"1036\",\"type\":\"Line\"},{\"attributes\":{\"source\":{\"id\":\"1045\",\"type\":\"ColumnDataSource\"}},\"id\":\"1049\",\"type\":\"CDSView\"},{\"attributes\":{},\"id\":\"1023\",\"type\":\"WheelZoomTool\"},{\"attributes\":{},\"id\":\"1070\",\"type\":\"UnionRenderers\"},{\"attributes\":{\"callback\":null,\"data\":{\"x\":[95.13602437166833,95.13602437166833],\"y\":[0,0.16626615230383715]},\"selected\":{\"id\":\"1075\",\"type\":\"Selection\"},\"selection_policy\":{\"id\":\"1074\",\"type\":\"UnionRenderers\"}},\"id\":\"1050\",\"type\":\"ColumnDataSource\"},{\"attributes\":{\"overlay\":{\"id\":\"1067\",\"type\":\"BoxAnnotation\"}},\"id\":\"1024\",\"type\":\"BoxZoomTool\"},{\"attributes\":{},\"id\":\"1071\",\"type\":\"Selection\"},{\"attributes\":{\"line_width\":1.5,\"x\":{\"field\":\"x\"},\"y\":{\"field\":\"y\"}},\"id\":\"1051\",\"type\":\"Line\"},{\"attributes\":{},\"id\":\"1025\",\"type\":\"SaveTool\"},{\"attributes\":{\"callback\":null,\"data\":{\"x\":{\"__ndarray__\":\"qCTE0uf7UEB18ZCftAhRQEK+XWyBFVFAD4sqOU4iUUDcV/cFGy9RQKkkxNLnO1FAdvGQn7RIUUBDvl1sgVVRQBCLKjlOYlFA3Vf3BRtvUUCqJMTS53tRQHfxkJ+0iFFARL5dbIGVUUARiyo5TqJRQN5X9wUbr1FAqyTE0ue7UUB48ZCftMhRQEW+XWyB1VFAEosqOU7iUUDfV/cFG+9RQKwkxNLn+1FAefGQn7QIUkBGvl1sgRVSQBOLKjlOIlJA4Ff3BRsvUkCtJMTS5ztSQHrxkJ+0SFJAR75dbIFVUkAUiyo5TmJSQOFX9wUbb1JAriTE0ud7UkB78ZCftIhSQEi+XWyBlVJAFYsqOU6iUkDiV/cFG69SQK8kxNLnu1JAfPGQn7TIUkBJvl1sgdVSQBaLKjlO4lJA41f3BRvvUkCwJMTS5/tSQH3xkJ+0CFNASr5dbIEVU0AXiyo5TiJTQORX9wUbL1NAsSTE0uc7U0B+8ZCftEhTQEu+XWyBVVNAGIsqOU5iU0DlV/cFG29TQLIkxNLne1NAf/GQn7SIU0BMvl1sgZVTQBmLKjlOolNA5lf3BRuvU0CzJMTS57tTQIDxkJ+0yFNATb5dbIHVU0Aaiyo5TuJTQOdX9wUb71NAtCTE0uf7U0CB8ZCftAhUQE6+XWyBFVRAG4sqOU4iVEDoV/cFGy9UQLUkxNLnO1RAgvGQn7RIVEBPvl1sgVVUQByLKjlOYlRA6Vf3BRtvVEC2JMTS53tUQIPxkJ+0iFRAUL5dbIGVVEAdiyo5TqJUQOpX9wUbr1RAtyTE0ue7VECE8ZCftMhUQFG+XWyB1VRAHosqOU7iVEDrV/cFG+9UQLgkxNLn+1RAhfGQn7QIVUBSvl1sgRVVQB+LKjlOIlVA7Ff3BRsvVUC5JMTS5ztVQIbxkJ+0SFVAU75dbIFVVUAgiyo5TmJVQO1X9wUbb1VAuiTE0ud7VUCH8ZCftIhVQFS+XWyBlVVAIYsqOU6iVUDuV/cFG69VQLskxNLnu1VAiPGQn7TIVUBVvl1sgdVVQCKLKjlO4lVA71f3BRvvVUC8JMTS5/tVQInxkJ+0CFZAVr5dbIEVVkAjiyo5TiJWQPBX9wUbL1ZAvSTE0uc7VkCK8ZCftEhWQFe+XWyBVVZAJIsqOU5iVkDxV/cFG29WQL4kxNLne1ZAi/GQn7SIVkBYvl1sgZVWQCWLKjlOolZA8lf3BRuvVkC/JMTS57tWQIzxkJ+0yFZAWb5dbIHVVkAmiyo5TuJWQPNX9wUb71ZAwCTE0uf7VkCN8ZCftAhXQFq+XWyBFVdAJ4sqOU4iV0D0V/cFGy9XQMEkxNLnO1dAjvGQn7RIV0Bbvl1sgVVXQCiLKjlOYldA9Vf3BRtvV0DCJMTS53tXQI/xkJ+0iFdAXL5dbIGVV0Apiyo5TqJXQPZX9wUbr1dAwyTE0ue7V0CQ8ZCftMhXQF2+XWyB1VdAKosqOU7iV0D3V/cFG+9XQMQkxNLn+1dAkfGQn7QIWEBevl1sgRVYQCuLKjlOIlhA+Ff3BRsvWEDFJMTS5ztYQJLxkJ+0SFhAX75dbIFVWEAsiyo5TmJYQPlX9wUbb1hAxiTE0ud7WECT8ZCftIhYQGC+XWyBlVhALYsqOU6iWED6V/cFG69YQMckxNLnu1hAlPGQn7TIWEBhvl1sgdVYQA==\",\"dtype\":\"float64\",\"shape\":[158]},\"y\":{\"__ndarray__\":\"/k89gPcXHz/Hul2mbCghP0cCANOK+iE/BSnRHdw2Ij9xp9/xgToiP2nBgsilnSI/rHgso6g4JD/EwZzfzdwnP/Fk08NUvy0/pdbFSfl7Mj+NVZ5R+ck1P0sK8Pk9tDc/jghxzJibNz8Yyq2IYbA1Pw+G9fge0jI/Fi/9zoQOMD8GbF6SnjssPzGXiUUXYSo/rWIckkY1Kj+rlPvxmksrP2fuVaMolS0/c1MZUTqzMD9yTNuLU5ozP1u3yQfMsTc/IgSyyRg2PT8pb+Wls1FCPyZUMDVPZkc/Y9AccIlGTj90adeOmoVTPyZKUiztkVg/KlD8CPinXT+9Z4btqP9gP6Z2Aeavd2I/wMevBbkRYz/QP+hFo9JiP6wp3r255GE/LDLFCfuIYD/2ippWzQ1eP5axyQJrN1s/Mblzu8reWD/h2q67yy1XP91GAg7aP1Y/tlcjBnUxVj8sisnDrhVXPyIG3fY43lg/fk2fpllSWz/Pc6fLjCFeP5q1IC0VgWA/nUsD9f7fYT8g/VAoCxdjP2j8HbjwBmQ/6zMuataHZD/btKBwdH9kP9Opr3hYAGQ/AsiVY7pXYz8RnM73gPliP5C+VPddU2M/lxEseXWgZD9pKtilUtNmP4RCPBQnnWk/e4cV4IiMbD9scRg7YzZvP0B2Q+8brHA/WMwAuZhycT+QdNzICf1xP6U9jI9OYXI/0ni7Uf6xcj8OdO2Ru/1yP3Eak8laV3M/wXm8gIDccz9wieT2JbB0P5yT5Qeb6XU/X9cIMUaFdz9lkU4fB2V5P9p3oMwnYXs/gricyztdfT/+1OV+41J/PzxoCYcBp4A/NToNrNKvgT89CtHKsMeCP13eEGeH6IM/C0IDRIMBhT8NXFdTHfyFP0uNuB52xoY/p9XoJEpehz+euBTqOtWHP1M8rp/8SYg/JHm2lHnZiD+tRa7XT5GJPw+eHfBobIo/Hyn/yxZbiz8VYbU7TVCMP0hu8VcSS40/Sx9vJtZWjj9FEAbg5oOPPz7EpNVZb5A/So/0t642kT/To/XuxxqSP9Fk8ekcIpM/Z+IAvqpWlD+nZw/bQMCVP7/NxzZxXZc/fT63L+YhmT8ibUilwvyaP7LCeLhm4pw/oyxRqqrRnj++ItGcUmigP1QUengucqE/6cunu0mFoj90gtVRSJ2jP1DN+QIltqQ/Aht4q17QpT8OVQ7ypvKmP0dew+qQJ6g/OdyDB794qT9myvhMTuuqP9WRGVZ1gKw/tXK6ues5rj9YJ2V4cA+wP14GYCs3H7E/7M/AvkRXsj9UpRQtCMSzP6U/cBNrcLU/Y/qrsGNitz8OxgRJDpi5P5fiPNK7Brw/lQ+YwDmdvj9LGid6taTAP1Ki89+P/8E/Fog7mvhdwz+qKFDx9MHEPxUPs2Q7K8Y/uJri80yQxz+uCMl3HdrIP5FZw+QT5ck/gB5sHmGHyj8XRxz4QprKPyBwNQb7Aso/MbVJdPm4yD/KHAcMLsjGP6vZ1p2tT8Q/YhZDQlN9wT9Ntv7aAg69P6OxCirMRLc/7SwRVK/5sT9B5bOcStWqP3ocrId5aKM/WNOSF5dSmz8TqaxyKtGSP6P3ZovSgok/WSR/vnkfgT+dVh2A+N92P9MxCVYMgW4/8OpCm7FNZD+cLOpOe+daP4ZPDggHrFE/g9UCGT/zRj/hhMsotXE9Pw==\",\"dtype\":\"float64\",\"shape\":[158]}},\"selected\":{\"id\":\"1069\",\"type\":\"Selection\"},\"selection_policy\":{\"id\":\"1068\",\"type\":\"UnionRenderers\"}},\"id\":\"1035\",\"type\":\"ColumnDataSource\"},{\"attributes\":{\"line_alpha\":0.1,\"line_color\":\"#1f77b4\",\"line_width\":1.5,\"x\":{\"field\":\"x\"},\"y\":{\"field\":\"y\"}},\"id\":\"1052\",\"type\":\"Line\"},{\"attributes\":{},\"id\":\"1072\",\"type\":\"UnionRenderers\"},{\"attributes\":{},\"id\":\"1026\",\"type\":\"ResetTool\"},{\"attributes\":{},\"id\":\"1073\",\"type\":\"Selection\"},{\"attributes\":{\"data_source\":{\"id\":\"1050\",\"type\":\"ColumnDataSource\"},\"glyph\":{\"id\":\"1051\",\"type\":\"Line\"},\"hover_glyph\":null,\"muted_glyph\":null,\"nonselection_glyph\":{\"id\":\"1052\",\"type\":\"Line\"},\"selection_glyph\":null,\"view\":{\"id\":\"1054\",\"type\":\"CDSView\"}},\"id\":\"1053\",\"type\":\"GlyphRenderer\"},{\"attributes\":{\"text\":\"Read accuracy distribution\"},\"id\":\"1002\",\"type\":\"Title\"},{\"attributes\":{},\"id\":\"1027\",\"type\":\"HelpTool\"},{\"attributes\":{},\"id\":\"1074\",\"type\":\"UnionRenderers\"},{\"attributes\":{\"source\":{\"id\":\"1050\",\"type\":\"ColumnDataSource\"}},\"id\":\"1054\",\"type\":\"CDSView\"},{\"attributes\":{},\"id\":\"1075\",\"type\":\"Selection\"},{\"attributes\":{\"data_source\":{\"id\":\"1035\",\"type\":\"ColumnDataSource\"},\"glyph\":{\"id\":\"1036\",\"type\":\"Line\"},\"hover_glyph\":null,\"muted_glyph\":null,\"nonselection_glyph\":{\"id\":\"1037\",\"type\":\"Line\"},\"selection_glyph\":null,\"view\":{\"id\":\"1039\",\"type\":\"CDSView\"}},\"id\":\"1038\",\"type\":\"GlyphRenderer\"},{\"attributes\":{\"callback\":null,\"data\":{\"text\":[\"Mode: 95.1\"],\"x\":[95.13602437166833],\"y\":[0.16626615230383715]},\"selected\":{\"id\":\"1077\",\"type\":\"Selection\"},\"selection_policy\":{\"id\":\"1076\",\"type\":\"UnionRenderers\"}},\"id\":\"1055\",\"type\":\"ColumnDataSource\"},{\"attributes\":{\"source\":{\"id\":\"1035\",\"type\":\"ColumnDataSource\"}},\"id\":\"1039\",\"type\":\"CDSView\"},{\"attributes\":{},\"id\":\"1076\",\"type\":\"UnionRenderers\"},{\"attributes\":{\"angle\":{\"units\":\"rad\",\"value\":1},\"text_alpha\":{\"value\":0.4},\"text_color\":{\"value\":\"black\"},\"x\":{\"field\":\"x\"},\"y\":{\"field\":\"y\"}},\"id\":\"1056\",\"type\":\"Text\"},{\"attributes\":{},\"id\":\"1008\",\"type\":\"LinearScale\"},{\"attributes\":{},\"id\":\"1077\",\"type\":\"Selection\"},{\"attributes\":{\"angle\":{\"units\":\"rad\",\"value\":1},\"text_alpha\":{\"value\":0.1},\"text_color\":{\"value\":\"black\"},\"x\":{\"field\":\"x\"},\"y\":{\"field\":\"y\"}},\"id\":\"1057\",\"type\":\"Text\"},{\"attributes\":{\"bounds\":[0,null],\"callback\":null,\"end\":0.2493992284557557},\"id\":\"1061\",\"type\":\"Range1d\"},{\"attributes\":{},\"id\":\"1010\",\"type\":\"LinearScale\"},{\"attributes\":{\"data_source\":{\"id\":\"1055\",\"type\":\"ColumnDataSource\"},\"glyph\":{\"id\":\"1056\",\"type\":\"Text\"},\"hover_glyph\":null,\"muted_glyph\":null,\"nonselection_glyph\":{\"id\":\"1057\",\"type\":\"Text\"},\"selection_glyph\":null,\"view\":{\"id\":\"1059\",\"type\":\"CDSView\"}},\"id\":\"1058\",\"type\":\"GlyphRenderer\"},{\"attributes\":{\"callback\":null,\"data\":{\"x\":[92.89652922536658,92.89652922536658],\"y\":[0,0.16626615230383715]},\"selected\":{\"id\":\"1071\",\"type\":\"Selection\"},\"selection_policy\":{\"id\":\"1070\",\"type\":\"UnionRenderers\"}},\"id\":\"1040\",\"type\":\"ColumnDataSource\"},{\"attributes\":{\"axis_label\":\"Read Accuracy\",\"formatter\":{\"id\":\"1065\",\"type\":\"BasicTickFormatter\"},\"ticker\":{\"id\":\"1013\",\"type\":\"BasicTicker\"}},\"id\":\"1012\",\"type\":\"LinearAxis\"},{\"attributes\":{\"line_width\":1.5,\"x\":{\"field\":\"x\"},\"y\":{\"field\":\"y\"}},\"id\":\"1041\",\"type\":\"Line\"},{\"attributes\":{\"source\":{\"id\":\"1055\",\"type\":\"ColumnDataSource\"}},\"id\":\"1059\",\"type\":\"CDSView\"},{\"attributes\":{},\"id\":\"1013\",\"type\":\"BasicTicker\"},{\"attributes\":{\"line_alpha\":0.1,\"line_color\":\"#1f77b4\",\"line_width\":1.5,\"x\":{\"field\":\"x\"},\"y\":{\"field\":\"y\"}},\"id\":\"1042\",\"type\":\"Line\"},{\"attributes\":{\"ticker\":{\"id\":\"1013\",\"type\":\"BasicTicker\"}},\"id\":\"1016\",\"type\":\"Grid\"},{\"attributes\":{\"data_source\":{\"id\":\"1040\",\"type\":\"ColumnDataSource\"},\"glyph\":{\"id\":\"1041\",\"type\":\"Line\"},\"hover_glyph\":null,\"muted_glyph\":null,\"nonselection_glyph\":{\"id\":\"1042\",\"type\":\"Line\"},\"selection_glyph\":null,\"view\":{\"id\":\"1044\",\"type\":\"CDSView\"}},\"id\":\"1043\",\"type\":\"GlyphRenderer\"},{\"attributes\":{},\"id\":\"1063\",\"type\":\"BasicTickFormatter\"},{\"attributes\":{\"axis_label\":\"Number of reads\",\"formatter\":{\"id\":\"1063\",\"type\":\"BasicTickFormatter\"},\"ticker\":{\"id\":\"1018\",\"type\":\"BasicTicker\"}},\"id\":\"1017\",\"type\":\"LinearAxis\"},{\"attributes\":{\"source\":{\"id\":\"1040\",\"type\":\"ColumnDataSource\"}},\"id\":\"1044\",\"type\":\"CDSView\"},{\"attributes\":{},\"id\":\"1018\",\"type\":\"BasicTicker\"},{\"attributes\":{\"callback\":null,\"data\":{\"text\":[\"Mean: 92.9\"],\"x\":[92.89652922536658],\"y\":[0.16626615230383715]},\"selected\":{\"id\":\"1073\",\"type\":\"Selection\"},\"selection_policy\":{\"id\":\"1072\",\"type\":\"UnionRenderers\"}},\"id\":\"1045\",\"type\":\"ColumnDataSource\"},{\"attributes\":{\"dimension\":1,\"ticker\":{\"id\":\"1018\",\"type\":\"BasicTicker\"}},\"id\":\"1021\",\"type\":\"Grid\"},{\"attributes\":{\"angle\":{\"units\":\"rad\",\"value\":1},\"text_alpha\":{\"value\":0.4},\"text_color\":{\"value\":\"black\"},\"x\":{\"field\":\"x\"},\"y\":{\"field\":\"y\"}},\"id\":\"1046\",\"type\":\"Text\"},{\"attributes\":{},\"id\":\"1069\",\"type\":\"Selection\"},{\"attributes\":{\"active_drag\":\"auto\",\"active_inspect\":\"auto\",\"active_multi\":null,\"active_scroll\":\"auto\",\"active_tap\":\"auto\",\"tools\":[{\"id\":\"1022\",\"type\":\"PanTool\"},{\"id\":\"1023\",\"type\":\"WheelZoomTool\"},{\"id\":\"1024\",\"type\":\"BoxZoomTool\"},{\"id\":\"1025\",\"type\":\"SaveTool\"},{\"id\":\"1026\",\"type\":\"ResetTool\"},{\"id\":\"1027\",\"type\":\"HelpTool\"}]},\"id\":\"1028\",\"type\":\"Toolbar\"}],\"root_ids\":[\"1001\"]},\"title\":\"Bokeh Application\",\"version\":\"1.4.0\"}};\n",
              "  var render_items = [{\"docid\":\"f7f92b2d-0d18-4e89-8760-85a76a096c39\",\"roots\":{\"1001\":\"7c79b528-9060-4163-a77c-c71e24d702d1\"}}];\n",
              "  root.Bokeh.embed.embed_items_notebook(docs_json, render_items);\n",
              "\n",
              "  }\n",
              "  if (root.Bokeh !== undefined) {\n",
              "    embed_document(root);\n",
              "  } else {\n",
              "    var attempts = 0;\n",
              "    var timer = setInterval(function(root) {\n",
              "      if (root.Bokeh !== undefined) {\n",
              "        clearInterval(timer);\n",
              "        embed_document(root);\n",
              "      } else {\n",
              "        attempts++;\n",
              "        if (attempts > 100) {\n",
              "          clearInterval(timer);\n",
              "          console.log(\"Bokeh: ERROR: Unable to run BokehJS code because BokehJS library is missing\");\n",
              "        }\n",
              "      }\n",
              "    }, 10, root)\n",
              "  }\n",
              "})(window);"
            ],
            "application/vnd.bokehjs_exec.v0+json": ""
          },
          "metadata": {
            "tags": [],
            "application/vnd.bokehjs_exec.v0+json": {
              "id": "1001"
            }
          }
        }
      ]
    },
    {
      "cell_type": "markdown",
      "metadata": {
        "id": "r8pe1WWI2JwI",
        "colab_type": "text"
      },
      "source": [
        "The statistics file has many other columns which are interesting to explore:"
      ]
    },
    {
      "cell_type": "code",
      "metadata": {
        "id": "lHts9EyC2SVp",
        "colab_type": "code",
        "outputId": "c9eef03a-135c-4d72-9335-55fe76fb494e",
        "colab": {
          "base_uri": "https://localhost:8080/",
          "height": 408
        }
      },
      "source": [
        "aln_summary.info()"
      ],
      "execution_count": 0,
      "outputs": [
        {
          "output_type": "stream",
          "text": [
            "<class 'pandas.core.frame.DataFrame'>\n",
            "RangeIndex: 7827 entries, 0 to 7826\n",
            "Data columns (total 18 columns):\n",
            "name               7827 non-null object\n",
            "ref                7827 non-null object\n",
            "coverage           7827 non-null float64\n",
            "ref_coverage       7827 non-null float64\n",
            "qstart             7827 non-null int64\n",
            "qend               7827 non-null int64\n",
            "rstart             7827 non-null int64\n",
            "rend               7827 non-null int64\n",
            "aligned_ref_len    7827 non-null int64\n",
            "direction          7827 non-null object\n",
            "length             7827 non-null int64\n",
            "read_length        7827 non-null int64\n",
            "match              7827 non-null int64\n",
            "ins                7827 non-null int64\n",
            "del                7827 non-null int64\n",
            "sub                7827 non-null int64\n",
            "iden               7827 non-null float64\n",
            "acc                7827 non-null float64\n",
            "dtypes: float64(4), int64(11), object(3)\n",
            "memory usage: 1.1+ MB\n"
          ],
          "name": "stdout"
        }
      ]
    },
    {
      "cell_type": "markdown",
      "metadata": {
        "id": "ouPONyB_15DB",
        "colab_type": "text"
      },
      "source": [
        "## On Target Depth\n",
        "\n",
        "In this section we will examine the depth of sequencing for each of the target regions, and count reads aligning to other genomic locations.\n",
        "\n",
        "For this purpose and throughout the rest of this tutorial we will use the [`Pyranges`](https://github.com/biocore-ntnu/pyranges) library."
      ]
    },
    {
      "cell_type": "markdown",
      "metadata": {
        "id": "aNVgJzCW-Mcr",
        "colab_type": "text"
      },
      "source": [
        "### Simple Overlaps\n",
        "\n",
        "As a first look at the data lets tabulate the number of reads overlapping each target. "
      ]
    },
    {
      "cell_type": "code",
      "metadata": {
        "id": "wfov7Ve3bAL3",
        "colab_type": "code",
        "cellView": "both",
        "outputId": "1361fc98-1ac3-4cfe-807c-8e4c4b0ccfad",
        "colab": {
          "base_uri": "https://localhost:8080/",
          "height": 359
        }
      },
      "source": [
        "import pyranges as pr\n",
        "\n",
        "targets = region_bed[['chrom','start','end','tname']].rename(\n",
        "    columns={'chrom':'Chromosome','start':'Start','end':'End'}\n",
        ")\n",
        "targets = pr.PyRanges(targets)\n",
        "\n",
        "reads = aln_summary.rename(\n",
        "    columns = {'ref':'Chromosome','rstart':'Start','rend':'End', 'direction':'Strand'}\n",
        ")\n",
        "reads = pr.PyRanges(reads)\n",
        "ovl_summary = targets.count_overlaps(reads)\n",
        "ovl_summary.df"
      ],
      "execution_count": 0,
      "outputs": [
        {
          "output_type": "execute_result",
          "data": {
            "text/plain": [
              "  Chromosome      Start        End    tname  NumberOverlaps\n",
              "0       chr1  155180400  155200000     MUC1              28\n",
              "1       chr4    3072000    3078000      HTT              84\n",
              "2       chr6  170556800  170566300    SCA17              76\n",
              "3       chr9   27571600   27577500  C9orf72              39\n",
              "4      chr11    2158100    2167500      INS              55\n",
              "5      chr12  111596700  111603400     SCA2             231\n",
              "6      chr14   92067100   92075400     SCA3              95\n",
              "7      chr19   13204400   13211100     SCA6              62\n",
              "8      chr22   45791500   45799400    SCA10             124\n",
              "9       chrX  147910700  147933700     FMR1              70"
            ],
            "text/html": [
              "<div>\n",
              "<style scoped>\n",
              "    .dataframe tbody tr th:only-of-type {\n",
              "        vertical-align: middle;\n",
              "    }\n",
              "\n",
              "    .dataframe tbody tr th {\n",
              "        vertical-align: top;\n",
              "    }\n",
              "\n",
              "    .dataframe thead th {\n",
              "        text-align: right;\n",
              "    }\n",
              "</style>\n",
              "<table border=\"1\" class=\"dataframe\">\n",
              "  <thead>\n",
              "    <tr style=\"text-align: right;\">\n",
              "      <th></th>\n",
              "      <th>Chromosome</th>\n",
              "      <th>Start</th>\n",
              "      <th>End</th>\n",
              "      <th>tname</th>\n",
              "      <th>NumberOverlaps</th>\n",
              "    </tr>\n",
              "  </thead>\n",
              "  <tbody>\n",
              "    <tr>\n",
              "      <th>0</th>\n",
              "      <td>chr1</td>\n",
              "      <td>155180400</td>\n",
              "      <td>155200000</td>\n",
              "      <td>MUC1</td>\n",
              "      <td>28</td>\n",
              "    </tr>\n",
              "    <tr>\n",
              "      <th>1</th>\n",
              "      <td>chr4</td>\n",
              "      <td>3072000</td>\n",
              "      <td>3078000</td>\n",
              "      <td>HTT</td>\n",
              "      <td>84</td>\n",
              "    </tr>\n",
              "    <tr>\n",
              "      <th>2</th>\n",
              "      <td>chr6</td>\n",
              "      <td>170556800</td>\n",
              "      <td>170566300</td>\n",
              "      <td>SCA17</td>\n",
              "      <td>76</td>\n",
              "    </tr>\n",
              "    <tr>\n",
              "      <th>3</th>\n",
              "      <td>chr9</td>\n",
              "      <td>27571600</td>\n",
              "      <td>27577500</td>\n",
              "      <td>C9orf72</td>\n",
              "      <td>39</td>\n",
              "    </tr>\n",
              "    <tr>\n",
              "      <th>4</th>\n",
              "      <td>chr11</td>\n",
              "      <td>2158100</td>\n",
              "      <td>2167500</td>\n",
              "      <td>INS</td>\n",
              "      <td>55</td>\n",
              "    </tr>\n",
              "    <tr>\n",
              "      <th>5</th>\n",
              "      <td>chr12</td>\n",
              "      <td>111596700</td>\n",
              "      <td>111603400</td>\n",
              "      <td>SCA2</td>\n",
              "      <td>231</td>\n",
              "    </tr>\n",
              "    <tr>\n",
              "      <th>6</th>\n",
              "      <td>chr14</td>\n",
              "      <td>92067100</td>\n",
              "      <td>92075400</td>\n",
              "      <td>SCA3</td>\n",
              "      <td>95</td>\n",
              "    </tr>\n",
              "    <tr>\n",
              "      <th>7</th>\n",
              "      <td>chr19</td>\n",
              "      <td>13204400</td>\n",
              "      <td>13211100</td>\n",
              "      <td>SCA6</td>\n",
              "      <td>62</td>\n",
              "    </tr>\n",
              "    <tr>\n",
              "      <th>8</th>\n",
              "      <td>chr22</td>\n",
              "      <td>45791500</td>\n",
              "      <td>45799400</td>\n",
              "      <td>SCA10</td>\n",
              "      <td>124</td>\n",
              "    </tr>\n",
              "    <tr>\n",
              "      <th>9</th>\n",
              "      <td>chrX</td>\n",
              "      <td>147910700</td>\n",
              "      <td>147933700</td>\n",
              "      <td>FMR1</td>\n",
              "      <td>70</td>\n",
              "    </tr>\n",
              "  </tbody>\n",
              "</table>\n",
              "</div>"
            ]
          },
          "metadata": {
            "tags": []
          },
          "execution_count": 77
        }
      ]
    },
    {
      "cell_type": "markdown",
      "metadata": {
        "id": "yexF406nbMRW",
        "colab_type": "text"
      },
      "source": [
        "The table above summaries the number of times a read overlaps one of the targets. We can also think about the inverse problem, how many times the targets intersect the reads; this allows us to calculate approximately numbers of on-target and off-target bases:"
      ]
    },
    {
      "cell_type": "code",
      "metadata": {
        "id": "OsBBwT8EgUrs",
        "colab_type": "code",
        "outputId": "31bb8304-b800-49bf-8182-c64abb70a8a5",
        "colab": {
          "base_uri": "https://localhost:8080/",
          "height": 142
        }
      },
      "source": [
        "# get on/off target reads\n",
        "ovl = reads.count_overlaps(targets)\n",
        "on_target = ovl[ovl.NumberOverlaps > 0]\n",
        "off_target = ovl[ovl.NumberOverlaps == 0]\n",
        "def summarize(df):\n",
        "    count = len(df)\n",
        "    bases = sum(df.End) - sum(df.Start)\n",
        "    ave_len = int(df.read_length.mean())\n",
        "    return count, bases // 1000, ave_len\n",
        "on_stats = summarize(on_target)\n",
        "off_stats = summarize(off_target)\n",
        "all_stats = summarize(ovl)\n",
        "\n",
        "info = pd.DataFrame([\n",
        "        on_stats, off_stats, all_stats],\n",
        "    columns=['Reads', 'Bases / k', 'Mean Read Length'],\n",
        "    index=['On target', 'Non-target', 'All'],\n",
        "    ).transpose()\n",
        "display(info)"
      ],
      "execution_count": 0,
      "outputs": [
        {
          "output_type": "display_data",
          "data": {
            "text/plain": [
              "                  On target  Non-target    All\n",
              "Reads                   864        6963   7827\n",
              "Bases / k              4785       64253  69038\n",
              "Mean Read Length       5501        9348   8924"
            ],
            "text/html": [
              "<div>\n",
              "<style scoped>\n",
              "    .dataframe tbody tr th:only-of-type {\n",
              "        vertical-align: middle;\n",
              "    }\n",
              "\n",
              "    .dataframe tbody tr th {\n",
              "        vertical-align: top;\n",
              "    }\n",
              "\n",
              "    .dataframe thead th {\n",
              "        text-align: right;\n",
              "    }\n",
              "</style>\n",
              "<table border=\"1\" class=\"dataframe\">\n",
              "  <thead>\n",
              "    <tr style=\"text-align: right;\">\n",
              "      <th></th>\n",
              "      <th>On target</th>\n",
              "      <th>Non-target</th>\n",
              "      <th>All</th>\n",
              "    </tr>\n",
              "  </thead>\n",
              "  <tbody>\n",
              "    <tr>\n",
              "      <th>Reads</th>\n",
              "      <td>864</td>\n",
              "      <td>6963</td>\n",
              "      <td>7827</td>\n",
              "    </tr>\n",
              "    <tr>\n",
              "      <th>Bases / k</th>\n",
              "      <td>4785</td>\n",
              "      <td>64253</td>\n",
              "      <td>69038</td>\n",
              "    </tr>\n",
              "    <tr>\n",
              "      <th>Mean Read Length</th>\n",
              "      <td>5501</td>\n",
              "      <td>9348</td>\n",
              "      <td>8924</td>\n",
              "    </tr>\n",
              "  </tbody>\n",
              "</table>\n",
              "</div>"
            ]
          },
          "metadata": {
            "tags": []
          }
        }
      ]
    },
    {
      "cell_type": "markdown",
      "metadata": {
        "id": "0QljJLeqmDkh",
        "colab_type": "text"
      },
      "source": [
        "### Genome tiles\n",
        "\n",
        "In order to quickly calculate more detailed statistics (and create informative plots), we will use a tiling technique. We will split the reference genome into uniformly sized tiles; for each reference tile we can calculate the overlapping reads. We create a tile for both the `+` and the `-` DNA strand. For the reference we construct the tiles using the `pysam` library to read the `reference_genome` file:"
      ]
    },
    {
      "cell_type": "code",
      "metadata": {
        "id": "0MhFrueipRmp",
        "colab_type": "code",
        "colab": {}
      },
      "source": [
        "import pysam\n",
        "tile_size = 100\n",
        "\n",
        "ref = pysam.FastaFile(reference_genome)\n",
        "ref_tiles = pr.concat([\n",
        "    pr.PyRanges(\n",
        "        chromosomes=ref.references,\n",
        "        starts=[0] * ref.nreferences,\n",
        "        ends=ref.lengths,\n",
        "        strands=[strand] * ref.nreferences).tile(tile_size=tile_size)\n",
        "    for strand in '+-'])"
      ],
      "execution_count": 0,
      "outputs": []
    },
    {
      "cell_type": "markdown",
      "metadata": {
        "id": "KNcXp8sm2h1N",
        "colab_type": "text"
      },
      "source": [
        "We will also define a small helper function to annotate genomic regions with additional information:"
      ]
    },
    {
      "cell_type": "code",
      "metadata": {
        "id": "BsMTwAGdrBvg",
        "colab_type": "code",
        "cellView": "form",
        "colab": {}
      },
      "source": [
        "#@markdown **set_column** function for annotating regions\n",
        "def set_column(pyr, chrom, loc, column, value, strand=None):\n",
        "    \"\"\"Sets a column of a `PyRange` to a specified value.\n",
        "    \n",
        "    :param pyr: a `PyRange`.\n",
        "    :param chrom: a chromosome.\n",
        "    :param loc: a `Slice` (start, stop).\n",
        "    :param column: column name.\n",
        "    :param value: value to set the column.\n",
        "    \"\"\"\n",
        "    from pyranges.subset import find_overlaps\n",
        "\n",
        "    keys = [chrom]\n",
        "    if pyr.stranded:\n",
        "        keys = [(chrom, x) for x in '+-']\n",
        "\n",
        "    for key in keys:\n",
        "        dfs = {key: pyr.dfs[key]}\n",
        "        max_end = list(dfs.values())[0].End.max()\n",
        "    \n",
        "        start = loc.start or 0\n",
        "        stop = loc.stop or max(max_end, start)\n",
        "        for k, df in dfs.items():\n",
        "            idx = find_overlaps(df, start, stop)\n",
        "            df.loc[idx, column] = value"
      ],
      "execution_count": 0,
      "outputs": []
    },
    {
      "cell_type": "markdown",
      "metadata": {
        "id": "nncz93li4DLF",
        "colab_type": "text"
      },
      "source": [
        "To proceed we will first use the function defined above to annotate our genome tiles and our reads with their target:"
      ]
    },
    {
      "cell_type": "code",
      "metadata": {
        "id": "UYxGdiwJ4GUp",
        "colab_type": "code",
        "outputId": "26f89fe8-ffb8-4fca-8a12-bfce2d6278dd",
        "colab": {
          "base_uri": "https://localhost:8080/",
          "height": 204
        }
      },
      "source": [
        "# Label reference genome tiles, and the reads\n",
        "ref_tiles.tname = 'Non-Target'\n",
        "reads.tname = 'Non-Target'\n",
        "for chrom, df in targets:\n",
        "    for _, t in df.iterrows():\n",
        "        print(\"Labelling {}\".format(t.tname), end=\"...\")\n",
        "        print(\"ref tiles\", end='...')\n",
        "        set_column(\n",
        "            ref_tiles, t.Chromosome, slice(t.Start, t.End),\n",
        "            'tname', t.tname)\n",
        "        print('read tiles', end='...')\n",
        "        set_column(\n",
        "            reads, t.Chromosome, slice(t.Start, t.End),\n",
        "            'tname', t.tname)\n",
        "        print()\n",
        "# count overlaps of read tiles to ref_tiles (similar to before)\n",
        "print('Calculating read hits')\n",
        "hits = ref_tiles.count_overlaps(reads, strandedness='same')"
      ],
      "execution_count": 0,
      "outputs": [
        {
          "output_type": "stream",
          "text": [
            "Labelling MUC1...ref tiles...read tiles...\n",
            "Labelling HTT...ref tiles...read tiles...\n",
            "Labelling SCA17...ref tiles...read tiles...\n",
            "Labelling C9orf72...ref tiles...read tiles...\n",
            "Labelling INS...ref tiles...read tiles...\n",
            "Labelling SCA2...ref tiles...read tiles...\n",
            "Labelling SCA3...ref tiles...read tiles...\n",
            "Labelling SCA6...ref tiles...read tiles...\n",
            "Labelling SCA10...ref tiles...read tiles...\n",
            "Labelling FMR1...ref tiles...read tiles...\n",
            "Calculating read hits\n"
          ],
          "name": "stdout"
        }
      ]
    },
    {
      "cell_type": "markdown",
      "metadata": {
        "id": "Lo_0bEA07lcy",
        "colab_type": "text"
      },
      "source": [
        "Having prepared these tables we can now query them in various ways. Let's summarise the information we have for each target:"
      ]
    },
    {
      "cell_type": "code",
      "metadata": {
        "id": "w0FxCkA375KA",
        "colab_type": "code",
        "outputId": "9d39cb1e-821f-4e57-b23c-de38471ba987",
        "cellView": "form",
        "colab": {
          "base_uri": "https://localhost:8080/",
          "height": 529
        }
      },
      "source": [
        "#@markdown **Target summary code** *(click to show)*\n",
        "def target_info(target_name, targets, hits, reads):\n",
        "    print('Getting statistics for {}.'.format(target_name))\n",
        "    info = targets[targets.tname == target_name].df\n",
        "    # Find intersecting hits\n",
        "    t_hits = hits.intersect(pr.PyRanges(info)).df\n",
        "    t_reads = reads.df[reads.df['tname'] == target_name]\n",
        "\n",
        "    info['tsize'] = info.End - info.Start\n",
        "    # use the tiles to calculate bases on target as parts of reads\n",
        "    # may not overlap\n",
        "    info['kbases'] = tile_size * t_hits['NumberOverlaps'].sum() / 1000\n",
        "    info['mean_coverage'] = t_hits['NumberOverlaps'].mean()  \n",
        "    if len(t_reads) > 0:\n",
        "        info['nreads'] = t_reads['name'].unique().size\n",
        "        info['mean_read_length'] = t_reads['read_length'].mean()\n",
        "        info['mean_accuracy'] = t_reads['acc'].mean()\n",
        "        fwd, rev = (len(t_reads[t_reads['Strand'] == x]) for x in '+-')\n",
        "        info['strand_bias'] = (fwd - rev) / (fwd + rev) \n",
        "    else:\n",
        "        info['nreads'] = 0\n",
        "        info['mean_read_length'] = np.nan\n",
        "        info['mean_accuracy'] = np.nan\n",
        "        info['strand_bias'] = 0   \n",
        "    return info\n",
        "\n",
        "target_summary = list()\n",
        "for target in target_names:\n",
        "    target_summary.append(target_info(\n",
        "        target, targets, hits, reads\n",
        "    ))\n",
        "target_summary = pd.concat(target_summary).rename(columns={\n",
        "    'Chromosome':'chrom', 'Start':'start', 'End':'end'})\n",
        "pd.options.display.float_format = '{:,.2f}'.format\n",
        "display(target_summary)"
      ],
      "execution_count": 0,
      "outputs": [
        {
          "output_type": "stream",
          "text": [
            "Getting statistics for MUC1.\n",
            "Getting statistics for HTT.\n",
            "Getting statistics for SCA17.\n",
            "Getting statistics for C9orf72.\n",
            "Getting statistics for INS.\n",
            "Getting statistics for SCA2.\n",
            "Getting statistics for SCA3.\n",
            "Getting statistics for SCA6.\n",
            "Getting statistics for SCA10.\n",
            "Getting statistics for FMR1.\n"
          ],
          "name": "stdout"
        },
        {
          "output_type": "display_data",
          "data": {
            "text/plain": [
              "   chrom      start        end    tname  tsize  kbases  mean_coverage  nreads  \\\n",
              "0   chr1  155180400  155200000     MUC1  19600  269.70           6.88      28   \n",
              "1   chr4    3072000    3078000      HTT   6000  363.70          30.31      84   \n",
              "2   chr6  170556800  170566300    SCA17   9500  447.10          23.53      76   \n",
              "3   chr9   27571600   27577500  C9orf72   5900   80.10           6.79      39   \n",
              "4  chr11    2158100    2167500      INS   9400  246.70          13.12      55   \n",
              "5  chr12  111596700  111603400     SCA2   6700  564.70          42.14     231   \n",
              "6  chr14   92067100   92075400     SCA3   8300  385.20          23.20      95   \n",
              "7  chr19   13204400   13211100     SCA6   6700  255.30          19.05      62   \n",
              "8  chr22   45791500   45799400    SCA10   7900  627.00          39.68     124   \n",
              "9   chrX  147910700  147933700     FMR1  23000  808.50          17.58      70   \n",
              "\n",
              "   mean_read_length  mean_accuracy  strand_bias  \n",
              "0         10,618.14          87.95        -0.14  \n",
              "1          4,432.71          91.97        -0.12  \n",
              "2          6,415.24          92.89         0.08  \n",
              "3          2,201.95          91.63        -0.38  \n",
              "4          5,142.13          89.65         0.27  \n",
              "5          2,529.79          92.37         0.06  \n",
              "6          5,290.09          93.27        -0.07  \n",
              "7          6,689.50          90.29        -0.35  \n",
              "8          5,019.86          93.36        -0.06  \n",
              "9         15,762.01          92.85         0.11  "
            ],
            "text/html": [
              "<div>\n",
              "<style scoped>\n",
              "    .dataframe tbody tr th:only-of-type {\n",
              "        vertical-align: middle;\n",
              "    }\n",
              "\n",
              "    .dataframe tbody tr th {\n",
              "        vertical-align: top;\n",
              "    }\n",
              "\n",
              "    .dataframe thead th {\n",
              "        text-align: right;\n",
              "    }\n",
              "</style>\n",
              "<table border=\"1\" class=\"dataframe\">\n",
              "  <thead>\n",
              "    <tr style=\"text-align: right;\">\n",
              "      <th></th>\n",
              "      <th>chrom</th>\n",
              "      <th>start</th>\n",
              "      <th>end</th>\n",
              "      <th>tname</th>\n",
              "      <th>tsize</th>\n",
              "      <th>kbases</th>\n",
              "      <th>mean_coverage</th>\n",
              "      <th>nreads</th>\n",
              "      <th>mean_read_length</th>\n",
              "      <th>mean_accuracy</th>\n",
              "      <th>strand_bias</th>\n",
              "    </tr>\n",
              "  </thead>\n",
              "  <tbody>\n",
              "    <tr>\n",
              "      <th>0</th>\n",
              "      <td>chr1</td>\n",
              "      <td>155180400</td>\n",
              "      <td>155200000</td>\n",
              "      <td>MUC1</td>\n",
              "      <td>19600</td>\n",
              "      <td>269.70</td>\n",
              "      <td>6.88</td>\n",
              "      <td>28</td>\n",
              "      <td>10,618.14</td>\n",
              "      <td>87.95</td>\n",
              "      <td>-0.14</td>\n",
              "    </tr>\n",
              "    <tr>\n",
              "      <th>1</th>\n",
              "      <td>chr4</td>\n",
              "      <td>3072000</td>\n",
              "      <td>3078000</td>\n",
              "      <td>HTT</td>\n",
              "      <td>6000</td>\n",
              "      <td>363.70</td>\n",
              "      <td>30.31</td>\n",
              "      <td>84</td>\n",
              "      <td>4,432.71</td>\n",
              "      <td>91.97</td>\n",
              "      <td>-0.12</td>\n",
              "    </tr>\n",
              "    <tr>\n",
              "      <th>2</th>\n",
              "      <td>chr6</td>\n",
              "      <td>170556800</td>\n",
              "      <td>170566300</td>\n",
              "      <td>SCA17</td>\n",
              "      <td>9500</td>\n",
              "      <td>447.10</td>\n",
              "      <td>23.53</td>\n",
              "      <td>76</td>\n",
              "      <td>6,415.24</td>\n",
              "      <td>92.89</td>\n",
              "      <td>0.08</td>\n",
              "    </tr>\n",
              "    <tr>\n",
              "      <th>3</th>\n",
              "      <td>chr9</td>\n",
              "      <td>27571600</td>\n",
              "      <td>27577500</td>\n",
              "      <td>C9orf72</td>\n",
              "      <td>5900</td>\n",
              "      <td>80.10</td>\n",
              "      <td>6.79</td>\n",
              "      <td>39</td>\n",
              "      <td>2,201.95</td>\n",
              "      <td>91.63</td>\n",
              "      <td>-0.38</td>\n",
              "    </tr>\n",
              "    <tr>\n",
              "      <th>4</th>\n",
              "      <td>chr11</td>\n",
              "      <td>2158100</td>\n",
              "      <td>2167500</td>\n",
              "      <td>INS</td>\n",
              "      <td>9400</td>\n",
              "      <td>246.70</td>\n",
              "      <td>13.12</td>\n",
              "      <td>55</td>\n",
              "      <td>5,142.13</td>\n",
              "      <td>89.65</td>\n",
              "      <td>0.27</td>\n",
              "    </tr>\n",
              "    <tr>\n",
              "      <th>5</th>\n",
              "      <td>chr12</td>\n",
              "      <td>111596700</td>\n",
              "      <td>111603400</td>\n",
              "      <td>SCA2</td>\n",
              "      <td>6700</td>\n",
              "      <td>564.70</td>\n",
              "      <td>42.14</td>\n",
              "      <td>231</td>\n",
              "      <td>2,529.79</td>\n",
              "      <td>92.37</td>\n",
              "      <td>0.06</td>\n",
              "    </tr>\n",
              "    <tr>\n",
              "      <th>6</th>\n",
              "      <td>chr14</td>\n",
              "      <td>92067100</td>\n",
              "      <td>92075400</td>\n",
              "      <td>SCA3</td>\n",
              "      <td>8300</td>\n",
              "      <td>385.20</td>\n",
              "      <td>23.20</td>\n",
              "      <td>95</td>\n",
              "      <td>5,290.09</td>\n",
              "      <td>93.27</td>\n",
              "      <td>-0.07</td>\n",
              "    </tr>\n",
              "    <tr>\n",
              "      <th>7</th>\n",
              "      <td>chr19</td>\n",
              "      <td>13204400</td>\n",
              "      <td>13211100</td>\n",
              "      <td>SCA6</td>\n",
              "      <td>6700</td>\n",
              "      <td>255.30</td>\n",
              "      <td>19.05</td>\n",
              "      <td>62</td>\n",
              "      <td>6,689.50</td>\n",
              "      <td>90.29</td>\n",
              "      <td>-0.35</td>\n",
              "    </tr>\n",
              "    <tr>\n",
              "      <th>8</th>\n",
              "      <td>chr22</td>\n",
              "      <td>45791500</td>\n",
              "      <td>45799400</td>\n",
              "      <td>SCA10</td>\n",
              "      <td>7900</td>\n",
              "      <td>627.00</td>\n",
              "      <td>39.68</td>\n",
              "      <td>124</td>\n",
              "      <td>5,019.86</td>\n",
              "      <td>93.36</td>\n",
              "      <td>-0.06</td>\n",
              "    </tr>\n",
              "    <tr>\n",
              "      <th>9</th>\n",
              "      <td>chrX</td>\n",
              "      <td>147910700</td>\n",
              "      <td>147933700</td>\n",
              "      <td>FMR1</td>\n",
              "      <td>23000</td>\n",
              "      <td>808.50</td>\n",
              "      <td>17.58</td>\n",
              "      <td>70</td>\n",
              "      <td>15,762.01</td>\n",
              "      <td>92.85</td>\n",
              "      <td>0.11</td>\n",
              "    </tr>\n",
              "  </tbody>\n",
              "</table>\n",
              "</div>"
            ]
          },
          "metadata": {
            "tags": []
          }
        }
      ]
    },
    {
      "cell_type": "markdown",
      "metadata": {
        "id": "G8eimQLGM1k7",
        "colab_type": "text"
      },
      "source": [
        "Using the tiling statistics we can make coverage plots for any region. "
      ]
    },
    {
      "cell_type": "code",
      "metadata": {
        "id": "pPJurv3L3X2V",
        "colab_type": "code",
        "cellView": "form",
        "outputId": "01bac125-c4e1-4409-82fa-47f1386e034e",
        "colab": {
          "base_uri": "https://localhost:8080/",
          "height": 399,
          "referenced_widgets": [
            "e42828689d74453fb1a598a925dd956e",
            "7ca08e0b53c44c3ea552f933c3b81ab4",
            "c7ed170d853c49ea963d9b97c86fd39a",
            "97b0d50d1b13449d86d8408f54d8afcb",
            "6f3174dd6f824c0c8847dfeb1dddf9e4",
            "56dfef60770242a9a36888a707ea6202"
          ]
        }
      },
      "source": [
        "#@markdown **Coverage plot code** (*click to show*)\n",
        "import ipywidgets as widgets\n",
        "import matplotlib.pyplot as plt\n",
        "from matplotlib.ticker import MaxNLocator\n",
        "\n",
        "def plot_target(target=target_names[0]):\n",
        "    info = targets[targets.tname == target].df\n",
        "    # filter to target (both strands)\n",
        "    t = hits.intersect(pr.PyRanges(info)).df\n",
        "    display(info)\n",
        "    \n",
        "    fig, ax = plt.subplots()\n",
        "    ax.ticklabel_format(style='plain')\n",
        "    ax.yaxis.set_major_locator(MaxNLocator(integer=True))\n",
        "    for strand, lc in zip('+-', ('sienna', 'forestgreen')):\n",
        "        tstrand = t[t['Strand'] == strand]\n",
        "        ax.plot(\n",
        "            tstrand.Start, tstrand.NumberOverlaps, lc,\n",
        "            label=strand)\n",
        "    ax.legend()\n",
        "    plt.xlim(t['Start'].min() - 5000, t['End'].max() + 5000)\n",
        "    plt.xticks(rotation=30)\n",
        "    plt.xlabel('position')\n",
        "    plt.ylabel('coverage')\n",
        "    plt.show()\n",
        "\n",
        "default_target = target_names[0]\n",
        "widgets.interactive(\n",
        "    plot_target, target=target_names)\n"
      ],
      "execution_count": 0,
      "outputs": [
        {
          "output_type": "display_data",
          "data": {
            "text/plain": [
              "interactive(children=(Dropdown(description='target', options=('MUC1', 'HTT', 'SCA17', 'C9orf72', 'INS', 'SCA2'…"
            ],
            "application/vnd.jupyter.widget-view+json": {
              "version_major": 2,
              "version_minor": 0,
              "model_id": "e42828689d74453fb1a598a925dd956e"
            }
          },
          "metadata": {
            "tags": []
          }
        }
      ]
    },
    {
      "cell_type": "markdown",
      "metadata": {
        "id": "dnpp_T6dZsX_",
        "colab_type": "text"
      },
      "source": [
        "## Examining Non-Target Sequencing\n",
        "\n",
        "An important consideration for the Cas9 enrichment protocol is the throughput of sequencing not overlapping the target regions. These effects can be broken down further into three types:\n",
        "\n",
        "1.   **Target proximal** --- sequencing occurring around the target region.\n",
        "2.   **Off-target** --- enrichment of loci other than those intended, identified as high coverage regions which are not target regions.\n",
        "3.   **Background** --- non-specific sequencing, identified as low coverage sequencing throughout the genome.\n",
        "\n",
        "We will examine both of these effects in this section. In order to do this we will first identify the background level of sequencing. After this we can find regions which are not target regions but which have an abnormally high level of spanning reads."
      ]
    },
    {
      "cell_type": "markdown",
      "metadata": {
        "id": "U-eMhD2junJA",
        "colab_type": "text"
      },
      "source": [
        "### Calculating the background\n",
        "\n",
        "In order to calculate the background sequencing effect we will first calculate collectively the background and off-target effects. By using the overlaps of reads to the genome tiles calculated previously and subtracting the target regions and proximal regions we obtain the desired result:"
      ]
    },
    {
      "cell_type": "code",
      "metadata": {
        "id": "blsXj7aJLrj6",
        "colab_type": "code",
        "colab": {}
      },
      "source": [
        "def create_proximal(source, pad=1000):\n",
        "    \"\"\"Create `PyRanges` which flank a source `PyRanges`.\n",
        "\n",
        "    :param source: ranges for which to create flanks.\n",
        "    :param pad: length of flanking regions to create.\n",
        "    \"\"\"\n",
        "    lo = source.df.copy()\n",
        "    lo['End'] = lo['Start']\n",
        "    lo['Start'] = lo['Start'] - pad\n",
        "    lo.loc[lo['Start'] < 0, 'Start'] = 0\n",
        "    hi = source.df.copy()\n",
        "    hi['Start'] = hi['End']\n",
        "    hi['End'] = hi['Start'] + pad\n",
        "    return pr.PyRanges(pd.concat([lo, hi]))\n",
        "\n",
        "proximal = create_proximal(targets, int(0.5*aln_summary['read_length'].mean()))\n",
        "\n",
        "# background/off-target is anything not target or proximal\n",
        "print('Calculating non-target')\n",
        "non_hits = pr.PyRanges(hits.df[hits.df['NumberOverlaps'] > 0]) \\\n",
        "    .subtract(pr.concat([targets, proximal])).df\n",
        "# summarise targets\n",
        "print('Calculating target')\n",
        "target_hits = hits.overlap(targets).df\n",
        "target_hits.tname = 'On Target'\n",
        "# and proximal\n",
        "print('Calculating proximal')\n",
        "proximal_hits = hits.overlap(proximal).df\n",
        "proximal_hits.tname = 'Proximal'"
      ],
      "execution_count": 0,
      "outputs": []
    },
    {
      "cell_type": "markdown",
      "metadata": {
        "id": "V4Seq_YAWcm-",
        "colab_type": "text"
      },
      "source": [
        "Naturally determining the boundary between \"off-target\" and \"background\" using\n",
        "the coverage data is a heuristic. To get a qualitative feel for this distintiction we can plot a histogram of the number of genome tiles with defined coverage."
      ]
    },
    {
      "cell_type": "code",
      "metadata": {
        "id": "6JTGrv7kN-vO",
        "colab_type": "code",
        "cellView": "form",
        "outputId": "04750408-041e-425d-f96a-f4812086a6e5",
        "colab": {
          "base_uri": "https://localhost:8080/",
          "height": 317
        }
      },
      "source": [
        "#@markdown **Tile coverage histogram code** (*click to show*)\n",
        "\n",
        "# create a histogram of non-target coverage\n",
        "counts = non_hits['NumberOverlaps'].value_counts()\n",
        "values = counts.index\n",
        "counts = counts\n",
        "# for reference, calculate the mean coverage for all target regions\n",
        "mean_target_coverage = target_summary['mean_coverage'].mean()\n",
        "\n",
        "# create a figure\n",
        "p = figure(\n",
        "    title='Non-target Coverage',\n",
        "    output_backend=\"webgl\",\n",
        "    height=300, width=600)\n",
        "max_x = max(mean_target_coverage, max(values)) + 1\n",
        "max_y = max(counts[counts.index != 1])\n",
        "\n",
        "# plot the bars\n",
        "p.quad(top=counts, bottom=0, left=values-0.5, right=values+0.5,\n",
        "    fill_color='blue', line_color=None, alpha=0.6)\n",
        "p.line(\n",
        "    x=[mean_target_coverage] * 2, y=[0, 1.5*max_y],\n",
        "    line_width=1.5, color='black')\n",
        "p.text(\n",
        "    x=[mean_target_coverage], y=0,\n",
        "    text=['{}: {:.0f}'.format('Mean on-target', mean_target_coverage)],\n",
        "    angle=3.14/2)\n",
        "\n",
        "# limit the display range\n",
        "p.x_range = Range1d(start=0, end=max_x, bounds=(0, None))\n",
        "p.y_range = Range1d(start=0, end=1.5*max_y, bounds=(0, None))\n",
        "# add axis labels\n",
        "p.xaxis.axis_label = 'Background Coverage (stranded)'\n",
        "p.yaxis.axis_label = '# tiles'\n",
        "# show the plot\n",
        "bkio.output_notebook(hide_banner=True)\n",
        "bkio.show(p)"
      ],
      "execution_count": 0,
      "outputs": [
        {
          "output_type": "display_data",
          "data": {
            "application/javascript": [
              "\n",
              "(function(root) {\n",
              "  function now() {\n",
              "    return new Date();\n",
              "  }\n",
              "\n",
              "  var force = true;\n",
              "\n",
              "  if (typeof root._bokeh_onload_callbacks === \"undefined\" || force === true) {\n",
              "    root._bokeh_onload_callbacks = [];\n",
              "    root._bokeh_is_loading = undefined;\n",
              "  }\n",
              "\n",
              "  var JS_MIME_TYPE = 'application/javascript';\n",
              "  var HTML_MIME_TYPE = 'text/html';\n",
              "  var EXEC_MIME_TYPE = 'application/vnd.bokehjs_exec.v0+json';\n",
              "  var CLASS_NAME = 'output_bokeh rendered_html';\n",
              "\n",
              "  /**\n",
              "   * Render data to the DOM node\n",
              "   */\n",
              "  function render(props, node) {\n",
              "    var script = document.createElement(\"script\");\n",
              "    node.appendChild(script);\n",
              "  }\n",
              "\n",
              "  /**\n",
              "   * Handle when an output is cleared or removed\n",
              "   */\n",
              "  function handleClearOutput(event, handle) {\n",
              "    var cell = handle.cell;\n",
              "\n",
              "    var id = cell.output_area._bokeh_element_id;\n",
              "    var server_id = cell.output_area._bokeh_server_id;\n",
              "    // Clean up Bokeh references\n",
              "    if (id != null && id in Bokeh.index) {\n",
              "      Bokeh.index[id].model.document.clear();\n",
              "      delete Bokeh.index[id];\n",
              "    }\n",
              "\n",
              "    if (server_id !== undefined) {\n",
              "      // Clean up Bokeh references\n",
              "      var cmd = \"from bokeh.io.state import curstate; print(curstate().uuid_to_server['\" + server_id + \"'].get_sessions()[0].document.roots[0]._id)\";\n",
              "      cell.notebook.kernel.execute(cmd, {\n",
              "        iopub: {\n",
              "          output: function(msg) {\n",
              "            var id = msg.content.text.trim();\n",
              "            if (id in Bokeh.index) {\n",
              "              Bokeh.index[id].model.document.clear();\n",
              "              delete Bokeh.index[id];\n",
              "            }\n",
              "          }\n",
              "        }\n",
              "      });\n",
              "      // Destroy server and session\n",
              "      var cmd = \"import bokeh.io.notebook as ion; ion.destroy_server('\" + server_id + \"')\";\n",
              "      cell.notebook.kernel.execute(cmd);\n",
              "    }\n",
              "  }\n",
              "\n",
              "  /**\n",
              "   * Handle when a new output is added\n",
              "   */\n",
              "  function handleAddOutput(event, handle) {\n",
              "    var output_area = handle.output_area;\n",
              "    var output = handle.output;\n",
              "\n",
              "    // limit handleAddOutput to display_data with EXEC_MIME_TYPE content only\n",
              "    if ((output.output_type != \"display_data\") || (!output.data.hasOwnProperty(EXEC_MIME_TYPE))) {\n",
              "      return\n",
              "    }\n",
              "\n",
              "    var toinsert = output_area.element.find(\".\" + CLASS_NAME.split(' ')[0]);\n",
              "\n",
              "    if (output.metadata[EXEC_MIME_TYPE][\"id\"] !== undefined) {\n",
              "      toinsert[toinsert.length - 1].firstChild.textContent = output.data[JS_MIME_TYPE];\n",
              "      // store reference to embed id on output_area\n",
              "      output_area._bokeh_element_id = output.metadata[EXEC_MIME_TYPE][\"id\"];\n",
              "    }\n",
              "    if (output.metadata[EXEC_MIME_TYPE][\"server_id\"] !== undefined) {\n",
              "      var bk_div = document.createElement(\"div\");\n",
              "      bk_div.innerHTML = output.data[HTML_MIME_TYPE];\n",
              "      var script_attrs = bk_div.children[0].attributes;\n",
              "      for (var i = 0; i < script_attrs.length; i++) {\n",
              "        toinsert[toinsert.length - 1].firstChild.setAttribute(script_attrs[i].name, script_attrs[i].value);\n",
              "      }\n",
              "      // store reference to server id on output_area\n",
              "      output_area._bokeh_server_id = output.metadata[EXEC_MIME_TYPE][\"server_id\"];\n",
              "    }\n",
              "  }\n",
              "\n",
              "  function register_renderer(events, OutputArea) {\n",
              "\n",
              "    function append_mime(data, metadata, element) {\n",
              "      // create a DOM node to render to\n",
              "      var toinsert = this.create_output_subarea(\n",
              "        metadata,\n",
              "        CLASS_NAME,\n",
              "        EXEC_MIME_TYPE\n",
              "      );\n",
              "      this.keyboard_manager.register_events(toinsert);\n",
              "      // Render to node\n",
              "      var props = {data: data, metadata: metadata[EXEC_MIME_TYPE]};\n",
              "      render(props, toinsert[toinsert.length - 1]);\n",
              "      element.append(toinsert);\n",
              "      return toinsert\n",
              "    }\n",
              "\n",
              "    /* Handle when an output is cleared or removed */\n",
              "    events.on('clear_output.CodeCell', handleClearOutput);\n",
              "    events.on('delete.Cell', handleClearOutput);\n",
              "\n",
              "    /* Handle when a new output is added */\n",
              "    events.on('output_added.OutputArea', handleAddOutput);\n",
              "\n",
              "    /**\n",
              "     * Register the mime type and append_mime function with output_area\n",
              "     */\n",
              "    OutputArea.prototype.register_mime_type(EXEC_MIME_TYPE, append_mime, {\n",
              "      /* Is output safe? */\n",
              "      safe: true,\n",
              "      /* Index of renderer in `output_area.display_order` */\n",
              "      index: 0\n",
              "    });\n",
              "  }\n",
              "\n",
              "  // register the mime type if in Jupyter Notebook environment and previously unregistered\n",
              "  if (root.Jupyter !== undefined) {\n",
              "    var events = require('base/js/events');\n",
              "    var OutputArea = require('notebook/js/outputarea').OutputArea;\n",
              "\n",
              "    if (OutputArea.prototype.mime_types().indexOf(EXEC_MIME_TYPE) == -1) {\n",
              "      register_renderer(events, OutputArea);\n",
              "    }\n",
              "  }\n",
              "\n",
              "  \n",
              "  if (typeof (root._bokeh_timeout) === \"undefined\" || force === true) {\n",
              "    root._bokeh_timeout = Date.now() + 5000;\n",
              "    root._bokeh_failed_load = false;\n",
              "  }\n",
              "\n",
              "  var NB_LOAD_WARNING = {'data': {'text/html':\n",
              "     \"<div style='background-color: #fdd'>\\n\"+\n",
              "     \"<p>\\n\"+\n",
              "     \"BokehJS does not appear to have successfully loaded. If loading BokehJS from CDN, this \\n\"+\n",
              "     \"may be due to a slow or bad network connection. Possible fixes:\\n\"+\n",
              "     \"</p>\\n\"+\n",
              "     \"<ul>\\n\"+\n",
              "     \"<li>re-rerun `output_notebook()` to attempt to load from CDN again, or</li>\\n\"+\n",
              "     \"<li>use INLINE resources instead, as so:</li>\\n\"+\n",
              "     \"</ul>\\n\"+\n",
              "     \"<code>\\n\"+\n",
              "     \"from bokeh.resources import INLINE\\n\"+\n",
              "     \"output_notebook(resources=INLINE)\\n\"+\n",
              "     \"</code>\\n\"+\n",
              "     \"</div>\"}};\n",
              "\n",
              "  function display_loaded() {\n",
              "    var el = document.getElementById(null);\n",
              "    if (el != null) {\n",
              "      el.textContent = \"BokehJS is loading...\";\n",
              "    }\n",
              "    if (root.Bokeh !== undefined) {\n",
              "      if (el != null) {\n",
              "        el.textContent = \"BokehJS \" + root.Bokeh.version + \" successfully loaded.\";\n",
              "      }\n",
              "    } else if (Date.now() < root._bokeh_timeout) {\n",
              "      setTimeout(display_loaded, 100)\n",
              "    }\n",
              "  }\n",
              "\n",
              "\n",
              "  function run_callbacks() {\n",
              "    try {\n",
              "      root._bokeh_onload_callbacks.forEach(function(callback) {\n",
              "        if (callback != null)\n",
              "          callback();\n",
              "      });\n",
              "    } finally {\n",
              "      delete root._bokeh_onload_callbacks\n",
              "    }\n",
              "    console.debug(\"Bokeh: all callbacks have finished\");\n",
              "  }\n",
              "\n",
              "  function load_libs(css_urls, js_urls, callback) {\n",
              "    if (css_urls == null) css_urls = [];\n",
              "    if (js_urls == null) js_urls = [];\n",
              "\n",
              "    root._bokeh_onload_callbacks.push(callback);\n",
              "    if (root._bokeh_is_loading > 0) {\n",
              "      console.debug(\"Bokeh: BokehJS is being loaded, scheduling callback at\", now());\n",
              "      return null;\n",
              "    }\n",
              "    if (js_urls == null || js_urls.length === 0) {\n",
              "      run_callbacks();\n",
              "      return null;\n",
              "    }\n",
              "    console.debug(\"Bokeh: BokehJS not loaded, scheduling load and callback at\", now());\n",
              "    root._bokeh_is_loading = css_urls.length + js_urls.length;\n",
              "\n",
              "    function on_load() {\n",
              "      root._bokeh_is_loading--;\n",
              "      if (root._bokeh_is_loading === 0) {\n",
              "        console.debug(\"Bokeh: all BokehJS libraries/stylesheets loaded\");\n",
              "        run_callbacks()\n",
              "      }\n",
              "    }\n",
              "\n",
              "    function on_error() {\n",
              "      console.error(\"failed to load \" + url);\n",
              "    }\n",
              "\n",
              "    for (var i = 0; i < css_urls.length; i++) {\n",
              "      var url = css_urls[i];\n",
              "      const element = document.createElement(\"link\");\n",
              "      element.onload = on_load;\n",
              "      element.onerror = on_error;\n",
              "      element.rel = \"stylesheet\";\n",
              "      element.type = \"text/css\";\n",
              "      element.href = url;\n",
              "      console.debug(\"Bokeh: injecting link tag for BokehJS stylesheet: \", url);\n",
              "      document.body.appendChild(element);\n",
              "    }\n",
              "\n",
              "    for (var i = 0; i < js_urls.length; i++) {\n",
              "      var url = js_urls[i];\n",
              "      var element = document.createElement('script');\n",
              "      element.onload = on_load;\n",
              "      element.onerror = on_error;\n",
              "      element.async = false;\n",
              "      element.src = url;\n",
              "      console.debug(\"Bokeh: injecting script tag for BokehJS library: \", url);\n",
              "      document.head.appendChild(element);\n",
              "    }\n",
              "  };\n",
              "\n",
              "  function inject_raw_css(css) {\n",
              "    const element = document.createElement(\"style\");\n",
              "    element.appendChild(document.createTextNode(css));\n",
              "    document.body.appendChild(element);\n",
              "  }\n",
              "\n",
              "  \n",
              "  var js_urls = [\"https://cdn.pydata.org/bokeh/release/bokeh-1.4.0.min.js\", \"https://cdn.pydata.org/bokeh/release/bokeh-widgets-1.4.0.min.js\", \"https://cdn.pydata.org/bokeh/release/bokeh-tables-1.4.0.min.js\", \"https://cdn.pydata.org/bokeh/release/bokeh-gl-1.4.0.min.js\"];\n",
              "  var css_urls = [];\n",
              "  \n",
              "\n",
              "  var inline_js = [\n",
              "    function(Bokeh) {\n",
              "      Bokeh.set_log_level(\"info\");\n",
              "    },\n",
              "    function(Bokeh) {\n",
              "    \n",
              "    \n",
              "    }\n",
              "  ];\n",
              "\n",
              "  function run_inline_js() {\n",
              "    \n",
              "    if (root.Bokeh !== undefined || force === true) {\n",
              "      \n",
              "    for (var i = 0; i < inline_js.length; i++) {\n",
              "      inline_js[i].call(root, root.Bokeh);\n",
              "    }\n",
              "    } else if (Date.now() < root._bokeh_timeout) {\n",
              "      setTimeout(run_inline_js, 100);\n",
              "    } else if (!root._bokeh_failed_load) {\n",
              "      console.log(\"Bokeh: BokehJS failed to load within specified timeout.\");\n",
              "      root._bokeh_failed_load = true;\n",
              "    } else if (force !== true) {\n",
              "      var cell = $(document.getElementById(null)).parents('.cell').data().cell;\n",
              "      cell.output_area.append_execute_result(NB_LOAD_WARNING)\n",
              "    }\n",
              "\n",
              "  }\n",
              "\n",
              "  if (root._bokeh_is_loading === 0) {\n",
              "    console.debug(\"Bokeh: BokehJS loaded, going straight to plotting\");\n",
              "    run_inline_js();\n",
              "  } else {\n",
              "    load_libs(css_urls, js_urls, function() {\n",
              "      console.debug(\"Bokeh: BokehJS plotting callback run at\", now());\n",
              "      run_inline_js();\n",
              "    });\n",
              "  }\n",
              "}(window));"
            ],
            "application/vnd.bokehjs_load.v0+json": "\n(function(root) {\n  function now() {\n    return new Date();\n  }\n\n  var force = true;\n\n  if (typeof root._bokeh_onload_callbacks === \"undefined\" || force === true) {\n    root._bokeh_onload_callbacks = [];\n    root._bokeh_is_loading = undefined;\n  }\n\n  \n\n  \n  if (typeof (root._bokeh_timeout) === \"undefined\" || force === true) {\n    root._bokeh_timeout = Date.now() + 5000;\n    root._bokeh_failed_load = false;\n  }\n\n  var NB_LOAD_WARNING = {'data': {'text/html':\n     \"<div style='background-color: #fdd'>\\n\"+\n     \"<p>\\n\"+\n     \"BokehJS does not appear to have successfully loaded. If loading BokehJS from CDN, this \\n\"+\n     \"may be due to a slow or bad network connection. Possible fixes:\\n\"+\n     \"</p>\\n\"+\n     \"<ul>\\n\"+\n     \"<li>re-rerun `output_notebook()` to attempt to load from CDN again, or</li>\\n\"+\n     \"<li>use INLINE resources instead, as so:</li>\\n\"+\n     \"</ul>\\n\"+\n     \"<code>\\n\"+\n     \"from bokeh.resources import INLINE\\n\"+\n     \"output_notebook(resources=INLINE)\\n\"+\n     \"</code>\\n\"+\n     \"</div>\"}};\n\n  function display_loaded() {\n    var el = document.getElementById(null);\n    if (el != null) {\n      el.textContent = \"BokehJS is loading...\";\n    }\n    if (root.Bokeh !== undefined) {\n      if (el != null) {\n        el.textContent = \"BokehJS \" + root.Bokeh.version + \" successfully loaded.\";\n      }\n    } else if (Date.now() < root._bokeh_timeout) {\n      setTimeout(display_loaded, 100)\n    }\n  }\n\n\n  function run_callbacks() {\n    try {\n      root._bokeh_onload_callbacks.forEach(function(callback) {\n        if (callback != null)\n          callback();\n      });\n    } finally {\n      delete root._bokeh_onload_callbacks\n    }\n    console.debug(\"Bokeh: all callbacks have finished\");\n  }\n\n  function load_libs(css_urls, js_urls, callback) {\n    if (css_urls == null) css_urls = [];\n    if (js_urls == null) js_urls = [];\n\n    root._bokeh_onload_callbacks.push(callback);\n    if (root._bokeh_is_loading > 0) {\n      console.debug(\"Bokeh: BokehJS is being loaded, scheduling callback at\", now());\n      return null;\n    }\n    if (js_urls == null || js_urls.length === 0) {\n      run_callbacks();\n      return null;\n    }\n    console.debug(\"Bokeh: BokehJS not loaded, scheduling load and callback at\", now());\n    root._bokeh_is_loading = css_urls.length + js_urls.length;\n\n    function on_load() {\n      root._bokeh_is_loading--;\n      if (root._bokeh_is_loading === 0) {\n        console.debug(\"Bokeh: all BokehJS libraries/stylesheets loaded\");\n        run_callbacks()\n      }\n    }\n\n    function on_error() {\n      console.error(\"failed to load \" + url);\n    }\n\n    for (var i = 0; i < css_urls.length; i++) {\n      var url = css_urls[i];\n      const element = document.createElement(\"link\");\n      element.onload = on_load;\n      element.onerror = on_error;\n      element.rel = \"stylesheet\";\n      element.type = \"text/css\";\n      element.href = url;\n      console.debug(\"Bokeh: injecting link tag for BokehJS stylesheet: \", url);\n      document.body.appendChild(element);\n    }\n\n    for (var i = 0; i < js_urls.length; i++) {\n      var url = js_urls[i];\n      var element = document.createElement('script');\n      element.onload = on_load;\n      element.onerror = on_error;\n      element.async = false;\n      element.src = url;\n      console.debug(\"Bokeh: injecting script tag for BokehJS library: \", url);\n      document.head.appendChild(element);\n    }\n  };\n\n  function inject_raw_css(css) {\n    const element = document.createElement(\"style\");\n    element.appendChild(document.createTextNode(css));\n    document.body.appendChild(element);\n  }\n\n  \n  var js_urls = [\"https://cdn.pydata.org/bokeh/release/bokeh-1.4.0.min.js\", \"https://cdn.pydata.org/bokeh/release/bokeh-widgets-1.4.0.min.js\", \"https://cdn.pydata.org/bokeh/release/bokeh-tables-1.4.0.min.js\", \"https://cdn.pydata.org/bokeh/release/bokeh-gl-1.4.0.min.js\"];\n  var css_urls = [];\n  \n\n  var inline_js = [\n    function(Bokeh) {\n      Bokeh.set_log_level(\"info\");\n    },\n    function(Bokeh) {\n    \n    \n    }\n  ];\n\n  function run_inline_js() {\n    \n    if (root.Bokeh !== undefined || force === true) {\n      \n    for (var i = 0; i < inline_js.length; i++) {\n      inline_js[i].call(root, root.Bokeh);\n    }\n    } else if (Date.now() < root._bokeh_timeout) {\n      setTimeout(run_inline_js, 100);\n    } else if (!root._bokeh_failed_load) {\n      console.log(\"Bokeh: BokehJS failed to load within specified timeout.\");\n      root._bokeh_failed_load = true;\n    } else if (force !== true) {\n      var cell = $(document.getElementById(null)).parents('.cell').data().cell;\n      cell.output_area.append_execute_result(NB_LOAD_WARNING)\n    }\n\n  }\n\n  if (root._bokeh_is_loading === 0) {\n    console.debug(\"Bokeh: BokehJS loaded, going straight to plotting\");\n    run_inline_js();\n  } else {\n    load_libs(css_urls, js_urls, function() {\n      console.debug(\"Bokeh: BokehJS plotting callback run at\", now());\n      run_inline_js();\n    });\n  }\n}(window));"
          },
          "metadata": {
            "tags": []
          }
        },
        {
          "output_type": "display_data",
          "data": {
            "text/html": [
              "\n",
              "\n",
              "\n",
              "\n",
              "\n",
              "\n",
              "  <div class=\"bk-root\" id=\"6f1236f9-449d-461e-9287-6951ccfef5c2\" data-root-id=\"1325\"></div>\n"
            ]
          },
          "metadata": {
            "tags": []
          }
        },
        {
          "output_type": "display_data",
          "data": {
            "application/javascript": [
              "(function(root) {\n",
              "  function embed_document(root) {\n",
              "    \n",
              "  var docs_json = {\"3f5923de-46c7-4d66-8a72-a5b5a0b46389\":{\"roots\":{\"references\":[{\"attributes\":{\"below\":[{\"id\":\"1336\",\"type\":\"LinearAxis\"}],\"center\":[{\"id\":\"1340\",\"type\":\"Grid\"},{\"id\":\"1345\",\"type\":\"Grid\"}],\"left\":[{\"id\":\"1341\",\"type\":\"LinearAxis\"}],\"output_backend\":\"webgl\",\"plot_height\":300,\"renderers\":[{\"id\":\"1362\",\"type\":\"GlyphRenderer\"},{\"id\":\"1367\",\"type\":\"GlyphRenderer\"},{\"id\":\"1372\",\"type\":\"GlyphRenderer\"}],\"title\":{\"id\":\"1326\",\"type\":\"Title\"},\"toolbar\":{\"id\":\"1352\",\"type\":\"Toolbar\"},\"x_range\":{\"id\":\"1374\",\"type\":\"Range1d\"},\"x_scale\":{\"id\":\"1332\",\"type\":\"LinearScale\"},\"y_range\":{\"id\":\"1375\",\"type\":\"Range1d\"},\"y_scale\":{\"id\":\"1334\",\"type\":\"LinearScale\"}},\"id\":\"1325\",\"subtype\":\"Figure\",\"type\":\"Plot\"},{\"attributes\":{},\"id\":\"1350\",\"type\":\"ResetTool\"},{\"attributes\":{\"line_alpha\":0.1,\"line_color\":\"#1f77b4\",\"line_width\":1.5,\"x\":{\"field\":\"x\"},\"y\":{\"field\":\"y\"}},\"id\":\"1366\",\"type\":\"Line\"},{\"attributes\":{},\"id\":\"1413\",\"type\":\"Selection\"},{\"attributes\":{\"callback\":null,\"data\":{\"text\":[\"Mean on-target: 22\"],\"x\":[22.228897072844426]},\"selected\":{\"id\":\"1415\",\"type\":\"Selection\"},\"selection_policy\":{\"id\":\"1414\",\"type\":\"UnionRenderers\"}},\"id\":\"1369\",\"type\":\"ColumnDataSource\"},{\"attributes\":{},\"id\":\"1412\",\"type\":\"UnionRenderers\"},{\"attributes\":{\"source\":{\"id\":\"1359\",\"type\":\"ColumnDataSource\"}},\"id\":\"1363\",\"type\":\"CDSView\"},{\"attributes\":{},\"id\":\"1347\",\"type\":\"WheelZoomTool\"},{\"attributes\":{\"data_source\":{\"id\":\"1364\",\"type\":\"ColumnDataSource\"},\"glyph\":{\"id\":\"1365\",\"type\":\"Line\"},\"hover_glyph\":null,\"muted_glyph\":null,\"nonselection_glyph\":{\"id\":\"1366\",\"type\":\"Line\"},\"selection_glyph\":null,\"view\":{\"id\":\"1368\",\"type\":\"CDSView\"}},\"id\":\"1367\",\"type\":\"GlyphRenderer\"},{\"attributes\":{},\"id\":\"1334\",\"type\":\"LinearScale\"},{\"attributes\":{},\"id\":\"1411\",\"type\":\"Selection\"},{\"attributes\":{\"overlay\":{\"id\":\"1409\",\"type\":\"BoxAnnotation\"}},\"id\":\"1348\",\"type\":\"BoxZoomTool\"},{\"attributes\":{\"angle\":{\"units\":\"rad\",\"value\":1.57},\"text_color\":{\"value\":\"black\"},\"x\":{\"field\":\"x\"},\"y\":{\"value\":0}},\"id\":\"1370\",\"type\":\"Text\"},{\"attributes\":{},\"id\":\"1351\",\"type\":\"HelpTool\"},{\"attributes\":{},\"id\":\"1346\",\"type\":\"PanTool\"},{\"attributes\":{},\"id\":\"1332\",\"type\":\"LinearScale\"},{\"attributes\":{\"data_source\":{\"id\":\"1369\",\"type\":\"ColumnDataSource\"},\"glyph\":{\"id\":\"1370\",\"type\":\"Text\"},\"hover_glyph\":null,\"muted_glyph\":null,\"nonselection_glyph\":{\"id\":\"1371\",\"type\":\"Text\"},\"selection_glyph\":null,\"view\":{\"id\":\"1373\",\"type\":\"CDSView\"}},\"id\":\"1372\",\"type\":\"GlyphRenderer\"},{\"attributes\":{\"active_drag\":\"auto\",\"active_inspect\":\"auto\",\"active_multi\":null,\"active_scroll\":\"auto\",\"active_tap\":\"auto\",\"tools\":[{\"id\":\"1346\",\"type\":\"PanTool\"},{\"id\":\"1347\",\"type\":\"WheelZoomTool\"},{\"id\":\"1348\",\"type\":\"BoxZoomTool\"},{\"id\":\"1349\",\"type\":\"SaveTool\"},{\"id\":\"1350\",\"type\":\"ResetTool\"},{\"id\":\"1351\",\"type\":\"HelpTool\"}]},\"id\":\"1352\",\"type\":\"Toolbar\"},{\"attributes\":{\"bounds\":[0,null],\"callback\":null,\"end\":23.228897072844426},\"id\":\"1374\",\"type\":\"Range1d\"},{\"attributes\":{\"bounds\":[0,null],\"callback\":null,\"end\":23743.5},\"id\":\"1375\",\"type\":\"Range1d\"},{\"attributes\":{\"callback\":null,\"data\":{\"left\":{\"__ndarray__\":\"AAAAAAAA4D8AAAAAAAD4PwAAAAAAAARAAAAAAAAADEAAAAAAAAASQAAAAAAAABZAAAAAAAAAGkAAAAAAAAAeQAAAAAAAACFAAAAAAAAAI0AAAAAAAAApQAAAAAAAACdAAAAAAAAAJUA=\",\"dtype\":\"float64\",\"shape\":[13]},\"right\":{\"__ndarray__\":\"AAAAAAAA+D8AAAAAAAAEQAAAAAAAAAxAAAAAAAAAEkAAAAAAAAAWQAAAAAAAABpAAAAAAAAAHkAAAAAAAAAhQAAAAAAAACNAAAAAAAAAJUAAAAAAAAArQAAAAAAAAClAAAAAAAAAJ0A=\",\"dtype\":\"float64\",\"shape\":[13]},\"top\":[592074,15829,4045,1975,629,430,428,229,71,36,13,5,3]},\"selected\":{\"id\":\"1411\",\"type\":\"Selection\"},\"selection_policy\":{\"id\":\"1410\",\"type\":\"UnionRenderers\"}},\"id\":\"1359\",\"type\":\"ColumnDataSource\"},{\"attributes\":{\"callback\":null,\"data\":{\"x\":[22.228897072844426,22.228897072844426],\"y\":[0,23743.5]},\"selected\":{\"id\":\"1413\",\"type\":\"Selection\"},\"selection_policy\":{\"id\":\"1412\",\"type\":\"UnionRenderers\"}},\"id\":\"1364\",\"type\":\"ColumnDataSource\"},{\"attributes\":{},\"id\":\"1407\",\"type\":\"BasicTickFormatter\"},{\"attributes\":{},\"id\":\"1414\",\"type\":\"UnionRenderers\"},{\"attributes\":{\"dimension\":1,\"ticker\":{\"id\":\"1342\",\"type\":\"BasicTicker\"}},\"id\":\"1345\",\"type\":\"Grid\"},{\"attributes\":{\"axis_label\":\"Background Coverage (stranded)\",\"formatter\":{\"id\":\"1407\",\"type\":\"BasicTickFormatter\"},\"ticker\":{\"id\":\"1337\",\"type\":\"BasicTicker\"}},\"id\":\"1336\",\"type\":\"LinearAxis\"},{\"attributes\":{},\"id\":\"1337\",\"type\":\"BasicTicker\"},{\"attributes\":{\"axis_label\":\"# tiles\",\"formatter\":{\"id\":\"1405\",\"type\":\"BasicTickFormatter\"},\"ticker\":{\"id\":\"1342\",\"type\":\"BasicTicker\"}},\"id\":\"1341\",\"type\":\"LinearAxis\"},{\"attributes\":{\"angle\":{\"units\":\"rad\",\"value\":1.57},\"text_alpha\":{\"value\":0.1},\"text_color\":{\"value\":\"black\"},\"x\":{\"field\":\"x\"},\"y\":{\"value\":0}},\"id\":\"1371\",\"type\":\"Text\"},{\"attributes\":{},\"id\":\"1349\",\"type\":\"SaveTool\"},{\"attributes\":{},\"id\":\"1410\",\"type\":\"UnionRenderers\"},{\"attributes\":{},\"id\":\"1415\",\"type\":\"Selection\"},{\"attributes\":{\"line_width\":1.5,\"x\":{\"field\":\"x\"},\"y\":{\"field\":\"y\"}},\"id\":\"1365\",\"type\":\"Line\"},{\"attributes\":{\"source\":{\"id\":\"1364\",\"type\":\"ColumnDataSource\"}},\"id\":\"1368\",\"type\":\"CDSView\"},{\"attributes\":{\"bottom_units\":\"screen\",\"fill_alpha\":{\"value\":0.5},\"fill_color\":{\"value\":\"lightgrey\"},\"left_units\":\"screen\",\"level\":\"overlay\",\"line_alpha\":{\"value\":1.0},\"line_color\":{\"value\":\"black\"},\"line_dash\":[4,4],\"line_width\":{\"value\":2},\"render_mode\":\"css\",\"right_units\":\"screen\",\"top_units\":\"screen\"},\"id\":\"1409\",\"type\":\"BoxAnnotation\"},{\"attributes\":{\"text\":\"Non-target Coverage\"},\"id\":\"1326\",\"type\":\"Title\"},{\"attributes\":{\"data_source\":{\"id\":\"1359\",\"type\":\"ColumnDataSource\"},\"glyph\":{\"id\":\"1360\",\"type\":\"Quad\"},\"hover_glyph\":null,\"muted_glyph\":null,\"nonselection_glyph\":{\"id\":\"1361\",\"type\":\"Quad\"},\"selection_glyph\":null,\"view\":{\"id\":\"1363\",\"type\":\"CDSView\"}},\"id\":\"1362\",\"type\":\"GlyphRenderer\"},{\"attributes\":{\"bottom\":{\"value\":0},\"fill_alpha\":{\"value\":0.6},\"fill_color\":{\"value\":\"blue\"},\"left\":{\"field\":\"left\"},\"line_alpha\":{\"value\":0.6},\"line_color\":{\"value\":null},\"right\":{\"field\":\"right\"},\"top\":{\"field\":\"top\"}},\"id\":\"1360\",\"type\":\"Quad\"},{\"attributes\":{},\"id\":\"1342\",\"type\":\"BasicTicker\"},{\"attributes\":{\"bottom\":{\"value\":0},\"fill_alpha\":{\"value\":0.1},\"fill_color\":{\"value\":\"#1f77b4\"},\"left\":{\"field\":\"left\"},\"line_alpha\":{\"value\":0.1},\"line_color\":{\"value\":\"#1f77b4\"},\"right\":{\"field\":\"right\"},\"top\":{\"field\":\"top\"}},\"id\":\"1361\",\"type\":\"Quad\"},{\"attributes\":{},\"id\":\"1405\",\"type\":\"BasicTickFormatter\"},{\"attributes\":{\"source\":{\"id\":\"1369\",\"type\":\"ColumnDataSource\"}},\"id\":\"1373\",\"type\":\"CDSView\"},{\"attributes\":{\"ticker\":{\"id\":\"1337\",\"type\":\"BasicTicker\"}},\"id\":\"1340\",\"type\":\"Grid\"}],\"root_ids\":[\"1325\"]},\"title\":\"Bokeh Application\",\"version\":\"1.4.0\"}};\n",
              "  var render_items = [{\"docid\":\"3f5923de-46c7-4d66-8a72-a5b5a0b46389\",\"roots\":{\"1325\":\"6f1236f9-449d-461e-9287-6951ccfef5c2\"}}];\n",
              "  root.Bokeh.embed.embed_items_notebook(docs_json, render_items);\n",
              "\n",
              "  }\n",
              "  if (root.Bokeh !== undefined) {\n",
              "    embed_document(root);\n",
              "  } else {\n",
              "    var attempts = 0;\n",
              "    var timer = setInterval(function(root) {\n",
              "      if (root.Bokeh !== undefined) {\n",
              "        clearInterval(timer);\n",
              "        embed_document(root);\n",
              "      } else {\n",
              "        attempts++;\n",
              "        if (attempts > 100) {\n",
              "          clearInterval(timer);\n",
              "          console.log(\"Bokeh: ERROR: Unable to run BokehJS code because BokehJS library is missing\");\n",
              "        }\n",
              "      }\n",
              "    }, 10, root)\n",
              "  }\n",
              "})(window);"
            ],
            "application/vnd.bokehjs_exec.v0+json": ""
          },
          "metadata": {
            "tags": [],
            "application/vnd.bokehjs_exec.v0+json": {
              "id": "1325"
            }
          }
        }
      ]
    },
    {
      "cell_type": "markdown",
      "metadata": {
        "id": "5QQMD_Vlat3d",
        "colab_type": "text"
      },
      "source": [
        "\n",
        "The widget below can also be used to choose where the bounaryshould lie in according to the coverage or these regions:"
      ]
    },
    {
      "cell_type": "code",
      "metadata": {
        "id": "Es4M1ajBW18B",
        "colab_type": "code",
        "cellView": "form",
        "outputId": "7f4046e8-e62e-4689-d32b-2900dd8046cc",
        "colab": {
          "base_uri": "https://localhost:8080/",
          "height": 205,
          "referenced_widgets": [
            "f2b7ff6f4b5c4d3c89b87d1e2c1df36c",
            "adb4c647a3be48298fa57f195f20162a",
            "321fafbbb5824b759aef1bc0553df4a8",
            "dcf14654d088471298543854f9f0ddee",
            "7c1ff943765f46e992111a218a1f94a8",
            "27e4fdc4213a4b1c99ee64653ce43b9a"
          ]
        }
      },
      "source": [
        "#@markdown **Off-target/Background filtering** *(click to show code)*\n",
        "\n",
        "def summary(df):\n",
        "    kbases = tile_size * df['NumberOverlaps'].sum() // 1000\n",
        "    mean_cover = df['NumberOverlaps'].mean()\n",
        "    return pd.Series((kbases, mean_cover), index=['kbases', 'mean_coverage'])\n",
        "\n",
        "coverage_chooser = widgets.IntSlider(\n",
        "    value=np.mean(counts.index), min=0, max=max(counts.index), step=1)\n",
        "@widgets.interact\n",
        "def get_non_targets(strand_coverage=coverage_chooser):\n",
        "    non_hits.loc[non_hits['NumberOverlaps'] > strand_coverage, 'tname'] = 'Off Target'\n",
        "    non_hits.loc[non_hits['NumberOverlaps'] <= strand_coverage, 'tname'] = 'Background'\n",
        "    res = pd.concat([non_hits, target_hits, proximal_hits])\n",
        "    res = res.groupby('tname').apply(summary).reset_index(drop=False)\n",
        "    res.rename(columns={0:'kbases'}, inplace=True)\n",
        "    return res"
      ],
      "execution_count": 0,
      "outputs": [
        {
          "output_type": "display_data",
          "data": {
            "text/plain": [
              "interactive(children=(IntSlider(value=7, description='strand_coverage', max=13), Output()), _dom_classes=('wid…"
            ],
            "application/vnd.jupyter.widget-view+json": {
              "version_major": 2,
              "version_minor": 0,
              "model_id": "f2b7ff6f4b5c4d3c89b87d1e2c1df36c"
            }
          },
          "metadata": {
            "tags": []
          }
        }
      ]
    },
    {
      "cell_type": "markdown",
      "metadata": {
        "id": "46QekGLHuug4",
        "colab_type": "text"
      },
      "source": [
        "### Summarising off-target regions"
      ]
    },
    {
      "cell_type": "markdown",
      "metadata": {
        "id": "VQ8S8twsgA2e",
        "colab_type": "text"
      },
      "source": [
        "Finally to summarise the off-target regions, which could be analysed further, we can merge our genome tiles back into contiguous regions:"
      ]
    },
    {
      "cell_type": "code",
      "metadata": {
        "id": "8e_3CZtgb2Ep",
        "colab_type": "code",
        "outputId": "6052ff9a-4d6e-462d-9752-6cfa4b8e1706",
        "colab": {
          "base_uri": "https://localhost:8080/",
          "height": 328
        }
      },
      "source": [
        "off_targets = pr.PyRanges(\n",
        "    non_hits.loc[non_hits['tname'] == 'Off Target']\n",
        ").merge().df\n",
        "display(off_targets)"
      ],
      "execution_count": 0,
      "outputs": [
        {
          "output_type": "display_data",
          "data": {
            "text/plain": [
              "  Chromosome      Start        End Strand\n",
              "0       chr1   16764400   16767700      +\n",
              "1       chr1   16760000   16764500      -\n",
              "2       chr2   67790400   67800400      +\n",
              "3       chr3  153698200  153707000      -\n",
              "4       chr5   61382500   61385500      -\n",
              "5      chr10   96288500   96289700      -\n",
              "6      chr12  131480400  131482300      -\n",
              "7       chrM       4700       5100      +\n",
              "8       chrX  147938162  147940700      +"
            ],
            "text/html": [
              "<div>\n",
              "<style scoped>\n",
              "    .dataframe tbody tr th:only-of-type {\n",
              "        vertical-align: middle;\n",
              "    }\n",
              "\n",
              "    .dataframe tbody tr th {\n",
              "        vertical-align: top;\n",
              "    }\n",
              "\n",
              "    .dataframe thead th {\n",
              "        text-align: right;\n",
              "    }\n",
              "</style>\n",
              "<table border=\"1\" class=\"dataframe\">\n",
              "  <thead>\n",
              "    <tr style=\"text-align: right;\">\n",
              "      <th></th>\n",
              "      <th>Chromosome</th>\n",
              "      <th>Start</th>\n",
              "      <th>End</th>\n",
              "      <th>Strand</th>\n",
              "    </tr>\n",
              "  </thead>\n",
              "  <tbody>\n",
              "    <tr>\n",
              "      <th>0</th>\n",
              "      <td>chr1</td>\n",
              "      <td>16764400</td>\n",
              "      <td>16767700</td>\n",
              "      <td>+</td>\n",
              "    </tr>\n",
              "    <tr>\n",
              "      <th>1</th>\n",
              "      <td>chr1</td>\n",
              "      <td>16760000</td>\n",
              "      <td>16764500</td>\n",
              "      <td>-</td>\n",
              "    </tr>\n",
              "    <tr>\n",
              "      <th>2</th>\n",
              "      <td>chr2</td>\n",
              "      <td>67790400</td>\n",
              "      <td>67800400</td>\n",
              "      <td>+</td>\n",
              "    </tr>\n",
              "    <tr>\n",
              "      <th>3</th>\n",
              "      <td>chr3</td>\n",
              "      <td>153698200</td>\n",
              "      <td>153707000</td>\n",
              "      <td>-</td>\n",
              "    </tr>\n",
              "    <tr>\n",
              "      <th>4</th>\n",
              "      <td>chr5</td>\n",
              "      <td>61382500</td>\n",
              "      <td>61385500</td>\n",
              "      <td>-</td>\n",
              "    </tr>\n",
              "    <tr>\n",
              "      <th>5</th>\n",
              "      <td>chr10</td>\n",
              "      <td>96288500</td>\n",
              "      <td>96289700</td>\n",
              "      <td>-</td>\n",
              "    </tr>\n",
              "    <tr>\n",
              "      <th>6</th>\n",
              "      <td>chr12</td>\n",
              "      <td>131480400</td>\n",
              "      <td>131482300</td>\n",
              "      <td>-</td>\n",
              "    </tr>\n",
              "    <tr>\n",
              "      <th>7</th>\n",
              "      <td>chrM</td>\n",
              "      <td>4700</td>\n",
              "      <td>5100</td>\n",
              "      <td>+</td>\n",
              "    </tr>\n",
              "    <tr>\n",
              "      <th>8</th>\n",
              "      <td>chrX</td>\n",
              "      <td>147938162</td>\n",
              "      <td>147940700</td>\n",
              "      <td>+</td>\n",
              "    </tr>\n",
              "  </tbody>\n",
              "</table>\n",
              "</div>"
            ]
          },
          "metadata": {
            "tags": []
          }
        }
      ]
    },
    {
      "cell_type": "markdown",
      "metadata": {
        "colab_type": "text",
        "id": "iF7WILGOwbI3"
      },
      "source": [
        "## Summary\n",
        "\n",
        "This tutorial has stepped through basic processing of a Cas9 enrichment experiment. We have examined the coverage of several target regions and examined the rates of proximal, off-target, and background sequencing effects.\n",
        "\n",
        "The code will run within **Google Colab** when connected to a local **Epi2Me Labs** notebook server.\n",
        "\n",
        "[Back to Epi2Me Labs](https://colab.research.google.com/github/epi2me-labs/resources/blob/master/welcome.ipynb)\n"
      ]
    }
  ]
}