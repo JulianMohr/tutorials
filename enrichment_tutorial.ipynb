{
  "nbformat": 4,
  "nbformat_minor": 0,
  "metadata": {
    "kernelspec": {
      "display_name": "Python 3",
      "language": "python",
      "name": "python3"
    },
    "language_info": {
      "codemirror_mode": {
        "name": "ipython",
        "version": 3
      },
      "file_extension": ".py",
      "mimetype": "text/x-python",
      "name": "python",
      "nbconvert_exporter": "python",
      "pygments_lexer": "ipython3",
      "version": "3.7.6"
    },
    "colab": {
      "name": "Cas9 Enrichment Tutorial",
      "provenance": [],
      "toc_visible": true,
      "include_colab_link": true
    },
    "widgets": {
      "application/vnd.jupyter.widget-state+json": {
        "1caf8941b27f4880963c761ceb9f2934": {
          "model_module": "@jupyter-widgets/controls",
          "model_name": "VBoxModel",
          "state": {
            "_dom_classes": [
              "widget-interact"
            ],
            "_model_module": "@jupyter-widgets/controls",
            "_model_module_version": "1.5.0",
            "_model_name": "VBoxModel",
            "_view_count": null,
            "_view_module": "@jupyter-widgets/controls",
            "_view_module_version": "1.5.0",
            "_view_name": "VBoxView",
            "box_style": "",
            "children": [
              "IPY_MODEL_5b021677ebbe4d97940db2a77e09c49c",
              "IPY_MODEL_e370de932abd4577b1067c0e887a82cd"
            ],
            "layout": "IPY_MODEL_4537728dac6842db85d86329662e07ee"
          }
        },
        "5b021677ebbe4d97940db2a77e09c49c": {
          "model_module": "@jupyter-widgets/controls",
          "model_name": "DropdownModel",
          "state": {
            "_dom_classes": [],
            "_model_module": "@jupyter-widgets/controls",
            "_model_module_version": "1.5.0",
            "_model_name": "DropdownModel",
            "_options_labels": [
              "MUC1",
              "HTT",
              "SCA17",
              "C9orf72",
              "INS",
              "SCA2",
              "SCA3",
              "SCA6",
              "SCA10",
              "FMR1"
            ],
            "_view_count": null,
            "_view_module": "@jupyter-widgets/controls",
            "_view_module_version": "1.5.0",
            "_view_name": "DropdownView",
            "description": "target",
            "description_tooltip": null,
            "disabled": false,
            "index": 0,
            "layout": "IPY_MODEL_fee263e488bc49a4960fc3721891cb1d",
            "style": "IPY_MODEL_9a4ebecfd33543078fef00a02316fae3"
          }
        },
        "e370de932abd4577b1067c0e887a82cd": {
          "model_module": "@jupyter-widgets/output",
          "model_name": "OutputModel",
          "state": {
            "_dom_classes": [],
            "_model_module": "@jupyter-widgets/output",
            "_model_module_version": "1.0.0",
            "_model_name": "OutputModel",
            "_view_count": null,
            "_view_module": "@jupyter-widgets/output",
            "_view_module_version": "1.0.0",
            "_view_name": "OutputView",
            "layout": "IPY_MODEL_e105bc1d61764e7fa9c8d19860f52993",
            "msg_id": "",
            "outputs": [
              {
                "output_type": "display_data",
                "metadata": {
                  "tags": []
                },
                "text/plain": "  Chromosome      Start        End tname\n0       chr1  155180400  155200000  MUC1",
                "text/html": "<div>\n<style scoped>\n    .dataframe tbody tr th:only-of-type {\n        vertical-align: middle;\n    }\n\n    .dataframe tbody tr th {\n        vertical-align: top;\n    }\n\n    .dataframe thead th {\n        text-align: right;\n    }\n</style>\n<table border=\"1\" class=\"dataframe\">\n  <thead>\n    <tr style=\"text-align: right;\">\n      <th></th>\n      <th>Chromosome</th>\n      <th>Start</th>\n      <th>End</th>\n      <th>tname</th>\n    </tr>\n  </thead>\n  <tbody>\n    <tr>\n      <th>0</th>\n      <td>chr1</td>\n      <td>155180400</td>\n      <td>155200000</td>\n      <td>MUC1</td>\n    </tr>\n  </tbody>\n</table>\n</div>"
              },
              {
                "output_type": "display_data",
                "metadata": {
                  "tags": [],
                  "needs_background": "light"
                },
                "text/plain": "<Figure size 432x288 with 1 Axes>",
                "image/png": "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\n"
              }
            ]
          }
        },
        "4537728dac6842db85d86329662e07ee": {
          "model_module": "@jupyter-widgets/base",
          "model_name": "LayoutModel",
          "state": {
            "_model_module": "@jupyter-widgets/base",
            "_model_module_version": "1.2.0",
            "_model_name": "LayoutModel",
            "_view_count": null,
            "_view_module": "@jupyter-widgets/base",
            "_view_module_version": "1.2.0",
            "_view_name": "LayoutView",
            "align_content": null,
            "align_items": null,
            "align_self": null,
            "border": null,
            "bottom": null,
            "display": null,
            "flex": null,
            "flex_flow": null,
            "grid_area": null,
            "grid_auto_columns": null,
            "grid_auto_flow": null,
            "grid_auto_rows": null,
            "grid_column": null,
            "grid_gap": null,
            "grid_row": null,
            "grid_template_areas": null,
            "grid_template_columns": null,
            "grid_template_rows": null,
            "height": null,
            "justify_content": null,
            "justify_items": null,
            "left": null,
            "margin": null,
            "max_height": null,
            "max_width": null,
            "min_height": null,
            "min_width": null,
            "object_fit": null,
            "object_position": null,
            "order": null,
            "overflow": null,
            "overflow_x": null,
            "overflow_y": null,
            "padding": null,
            "right": null,
            "top": null,
            "visibility": null,
            "width": null
          }
        },
        "fee263e488bc49a4960fc3721891cb1d": {
          "model_module": "@jupyter-widgets/base",
          "model_name": "LayoutModel",
          "state": {
            "_model_module": "@jupyter-widgets/base",
            "_model_module_version": "1.2.0",
            "_model_name": "LayoutModel",
            "_view_count": null,
            "_view_module": "@jupyter-widgets/base",
            "_view_module_version": "1.2.0",
            "_view_name": "LayoutView",
            "align_content": null,
            "align_items": null,
            "align_self": null,
            "border": null,
            "bottom": null,
            "display": null,
            "flex": null,
            "flex_flow": null,
            "grid_area": null,
            "grid_auto_columns": null,
            "grid_auto_flow": null,
            "grid_auto_rows": null,
            "grid_column": null,
            "grid_gap": null,
            "grid_row": null,
            "grid_template_areas": null,
            "grid_template_columns": null,
            "grid_template_rows": null,
            "height": null,
            "justify_content": null,
            "justify_items": null,
            "left": null,
            "margin": null,
            "max_height": null,
            "max_width": null,
            "min_height": null,
            "min_width": null,
            "object_fit": null,
            "object_position": null,
            "order": null,
            "overflow": null,
            "overflow_x": null,
            "overflow_y": null,
            "padding": null,
            "right": null,
            "top": null,
            "visibility": null,
            "width": null
          }
        },
        "9a4ebecfd33543078fef00a02316fae3": {
          "model_module": "@jupyter-widgets/controls",
          "model_name": "DescriptionStyleModel",
          "state": {
            "_model_module": "@jupyter-widgets/controls",
            "_model_module_version": "1.5.0",
            "_model_name": "DescriptionStyleModel",
            "_view_count": null,
            "_view_module": "@jupyter-widgets/base",
            "_view_module_version": "1.2.0",
            "_view_name": "StyleView",
            "description_width": ""
          }
        },
        "f2b7ff6f4b5c4d3c89b87d1e2c1df36c": {
          "model_module": "@jupyter-widgets/controls",
          "model_name": "VBoxModel",
          "state": {
            "_dom_classes": [
              "widget-interact"
            ],
            "_model_module": "@jupyter-widgets/controls",
            "_model_module_version": "1.5.0",
            "_model_name": "VBoxModel",
            "_view_count": null,
            "_view_module": "@jupyter-widgets/controls",
            "_view_module_version": "1.5.0",
            "_view_name": "VBoxView",
            "box_style": "",
            "children": [
              "IPY_MODEL_adb4c647a3be48298fa57f195f20162a",
              "IPY_MODEL_321fafbbb5824b759aef1bc0553df4a8"
            ],
            "layout": "IPY_MODEL_dcf14654d088471298543854f9f0ddee"
          }
        },
        "adb4c647a3be48298fa57f195f20162a": {
          "model_module": "@jupyter-widgets/controls",
          "model_name": "IntSliderModel",
          "state": {
            "_dom_classes": [],
            "_model_module": "@jupyter-widgets/controls",
            "_model_module_version": "1.5.0",
            "_model_name": "IntSliderModel",
            "_view_count": null,
            "_view_module": "@jupyter-widgets/controls",
            "_view_module_version": "1.5.0",
            "_view_name": "IntSliderView",
            "continuous_update": true,
            "description": "strand_coverage",
            "description_tooltip": null,
            "disabled": false,
            "layout": "IPY_MODEL_7c1ff943765f46e992111a218a1f94a8",
            "max": 13,
            "min": 0,
            "orientation": "horizontal",
            "readout": true,
            "readout_format": "d",
            "step": 1,
            "style": "IPY_MODEL_27e4fdc4213a4b1c99ee64653ce43b9a",
            "value": 7
          }
        },
        "321fafbbb5824b759aef1bc0553df4a8": {
          "model_module": "@jupyter-widgets/output",
          "model_name": "OutputModel",
          "state": {
            "_dom_classes": [],
            "_model_module": "@jupyter-widgets/output",
            "_model_module_version": "1.0.0",
            "_model_name": "OutputModel",
            "_view_count": null,
            "_view_module": "@jupyter-widgets/output",
            "_view_module_version": "1.0.0",
            "_view_name": "OutputView",
            "layout": "IPY_MODEL_a6d2b1342e4b4e68907bf324f238b0c2",
            "msg_id": "",
            "outputs": [
              {
                "output_type": "display_data",
                "metadata": {
                  "tags": []
                },
                "text/plain": "        tname    kbases  mean_coverage\n0  Background 65,248.00           1.06\n1  Off Target    309.00           8.66\n2   On Target  4,048.00          19.65\n3    Proximal    204.00           1.14",
                "text/html": "<div>\n<style scoped>\n    .dataframe tbody tr th:only-of-type {\n        vertical-align: middle;\n    }\n\n    .dataframe tbody tr th {\n        vertical-align: top;\n    }\n\n    .dataframe thead th {\n        text-align: right;\n    }\n</style>\n<table border=\"1\" class=\"dataframe\">\n  <thead>\n    <tr style=\"text-align: right;\">\n      <th></th>\n      <th>tname</th>\n      <th>kbases</th>\n      <th>mean_coverage</th>\n    </tr>\n  </thead>\n  <tbody>\n    <tr>\n      <th>0</th>\n      <td>Background</td>\n      <td>65,248.00</td>\n      <td>1.06</td>\n    </tr>\n    <tr>\n      <th>1</th>\n      <td>Off Target</td>\n      <td>309.00</td>\n      <td>8.66</td>\n    </tr>\n    <tr>\n      <th>2</th>\n      <td>On Target</td>\n      <td>4,048.00</td>\n      <td>19.65</td>\n    </tr>\n    <tr>\n      <th>3</th>\n      <td>Proximal</td>\n      <td>204.00</td>\n      <td>1.14</td>\n    </tr>\n  </tbody>\n</table>\n</div>"
              }
            ]
          }
        },
        "dcf14654d088471298543854f9f0ddee": {
          "model_module": "@jupyter-widgets/base",
          "model_name": "LayoutModel",
          "state": {
            "_model_module": "@jupyter-widgets/base",
            "_model_module_version": "1.2.0",
            "_model_name": "LayoutModel",
            "_view_count": null,
            "_view_module": "@jupyter-widgets/base",
            "_view_module_version": "1.2.0",
            "_view_name": "LayoutView",
            "align_content": null,
            "align_items": null,
            "align_self": null,
            "border": null,
            "bottom": null,
            "display": null,
            "flex": null,
            "flex_flow": null,
            "grid_area": null,
            "grid_auto_columns": null,
            "grid_auto_flow": null,
            "grid_auto_rows": null,
            "grid_column": null,
            "grid_gap": null,
            "grid_row": null,
            "grid_template_areas": null,
            "grid_template_columns": null,
            "grid_template_rows": null,
            "height": null,
            "justify_content": null,
            "justify_items": null,
            "left": null,
            "margin": null,
            "max_height": null,
            "max_width": null,
            "min_height": null,
            "min_width": null,
            "object_fit": null,
            "object_position": null,
            "order": null,
            "overflow": null,
            "overflow_x": null,
            "overflow_y": null,
            "padding": null,
            "right": null,
            "top": null,
            "visibility": null,
            "width": null
          }
        },
        "7c1ff943765f46e992111a218a1f94a8": {
          "model_module": "@jupyter-widgets/base",
          "model_name": "LayoutModel",
          "state": {
            "_model_module": "@jupyter-widgets/base",
            "_model_module_version": "1.2.0",
            "_model_name": "LayoutModel",
            "_view_count": null,
            "_view_module": "@jupyter-widgets/base",
            "_view_module_version": "1.2.0",
            "_view_name": "LayoutView",
            "align_content": null,
            "align_items": null,
            "align_self": null,
            "border": null,
            "bottom": null,
            "display": null,
            "flex": null,
            "flex_flow": null,
            "grid_area": null,
            "grid_auto_columns": null,
            "grid_auto_flow": null,
            "grid_auto_rows": null,
            "grid_column": null,
            "grid_gap": null,
            "grid_row": null,
            "grid_template_areas": null,
            "grid_template_columns": null,
            "grid_template_rows": null,
            "height": null,
            "justify_content": null,
            "justify_items": null,
            "left": null,
            "margin": null,
            "max_height": null,
            "max_width": null,
            "min_height": null,
            "min_width": null,
            "object_fit": null,
            "object_position": null,
            "order": null,
            "overflow": null,
            "overflow_x": null,
            "overflow_y": null,
            "padding": null,
            "right": null,
            "top": null,
            "visibility": null,
            "width": null
          }
        },
        "27e4fdc4213a4b1c99ee64653ce43b9a": {
          "model_module": "@jupyter-widgets/controls",
          "model_name": "SliderStyleModel",
          "state": {
            "_model_module": "@jupyter-widgets/controls",
            "_model_module_version": "1.5.0",
            "_model_name": "SliderStyleModel",
            "_view_count": null,
            "_view_module": "@jupyter-widgets/base",
            "_view_module_version": "1.2.0",
            "_view_name": "StyleView",
            "description_width": "",
            "handle_color": null
          }
        }
      }
    }
  },
  "cells": [
    {
      "cell_type": "markdown",
      "metadata": {
        "id": "view-in-github",
        "colab_type": "text"
      },
      "source": [
        "<a href=\"https://colab.research.google.com/github/epi2me-labs/tutorials/blob/master/modified_base_tutorial.ipynb\" target=\"_parent\"><img src=\"https://colab.research.google.com/assets/colab-badge.svg\" alt=\"Open In Colab\"/></a>"
      ]
    },
    {
      "cell_type": "markdown",
      "metadata": {
        "id": "eyhWQcLLP6Kt",
        "colab_type": "text"
      },
      "source": [
        "<h1>Cas9 Enrichment Tutorial</h1>\n",
        "\n",
        "This tutorial is intended as a introduction into the analysis of a Cas9 enrichment experiment with nanopore sequencing. The tutorial will step through a discuss the steps of the workflow starting from raw sequencing data. We will learn how to:\n",
        "\n",
        "* Align read data to a human reference sequence\n",
        "* Show the sequencing depth for target regions\n",
        "* Analyse the proportion of off-target reads\n",
        "\n",
        "The tutorial makes use of some common bioinformatics including:\n",
        "\n",
        "* `mini_align` - a simple interface to the [`minimap2`](https://github.com/lh3/minimap2) alignment program.\n",
        "* [`pyranges`](https://github.com/biocore-ntnu/pyranges) - GenomicRanges and genomic Rle-objects for Python.\n",
        "\n",
        "Computational requirements for this tutorial include:\n",
        "\n",
        "- Computer running the **Epi2Me Labs** notebook Server\n",
        "- At least 8 Gb RAM\n",
        "\n",
        "\n",
        "\n",
        "⚠️ **Warning:** This notebook hase been saved with its outputs for demostration purposed. It is recommeded to select `Edit > Clear all outputs` before using the notebook to analyse your own data.\n",
        "\n",
        "\n"
      ]
    },
    {
      "cell_type": "markdown",
      "metadata": {
        "id": "a0y2JPI9SlxM",
        "colab_type": "text"
      },
      "source": [
        "## Introduction\n",
        "\n",
        "The tutorial requires a FASTQ format sequence file and a BED file of target coordinates as input, along with pointers to download locations for the reference genome to be used.\n",
        "\n",
        "The tutorial aids with the quantification of the non-target depletion and provides information on mapping characteristics that highlight the protocol performance. The figures plotted include depth-of-coverage over the target regions and strand bias over these regions. The location and peaks of coverage and local biases in strandedness may be used to assess the performance of guide-RNA sequences and may highlight guide RNAs that are not performing. A review of likely off-target regions over-represented within the sequence collection may inform of strategies to refine guide-RNA design.\n",
        "\n",
        "**Before stepping through the workflow be sure to connect this notebook to your local Epi2Me Labs server in the top right of the screen.** [Further details](https://colab.research.google.com/github/epi2me-labs/resources/blob/master/epi2me-labs-server.ipynb#connecting)\n"
      ]
    },
    {
      "cell_type": "markdown",
      "metadata": {
        "id": "ZMhjoLNaP6Ku",
        "colab_type": "text"
      },
      "source": [
        "## Data preparation\n",
        "\n",
        "To get started we will first create a working directory and move into it so that the results of this notebook are all contained within one easy to identify location, click on the cell below and press the \"Play\" symbol to the left:"
      ]
    },
    {
      "cell_type": "code",
      "metadata": {
        "id": "VxNYaXyJG4X0",
        "colab_type": "code",
        "outputId": "b09f47f1-0fbb-4d9e-a5c6-5f6b4c041865",
        "colab": {
          "base_uri": "https://localhost:8080/",
          "height": 34
        }
      },
      "source": [
        "# create a work directory and move into it\n",
        "tutorial_name = 'cas9_tutorial'\n",
        "working_dir = '/epi2melabs/{}/'.format(tutorial_name)\n",
        "!mkdir -p \"$working_dir\"\n",
        "%cd \"$working_dir\"\n",
        "\n",
        "%load_ext autoreload\n",
        "%autoreload 2"
      ],
      "execution_count": 3,
      "outputs": [
        {
          "output_type": "stream",
          "text": [
            "/epi2melabs/cas9_tutorial\n"
          ],
          "name": "stdout"
        }
      ]
    },
    {
      "cell_type": "markdown",
      "metadata": {
        "id": "LNl_IrI8pklV",
        "colab_type": "text"
      },
      "source": [
        "### Sample Data\n",
        "\n",
        "To use this tutorial with sample data we can download the files using the `linux` command `wget`. We will download three files:\n",
        "\n",
        "1. A .fast5 file containing our sequencing data\n",
        "2. The human reference genome\n",
        "3. A .bed file describing the target regions of the genome\n"
      ]
    },
    {
      "cell_type": "markdown",
      "metadata": {
        "id": "CxOQfP9VHKKW",
        "colab_type": "text"
      },
      "source": [
        "First to download the sequencing data we run (again press Play to execute the code):"
      ]
    },
    {
      "cell_type": "code",
      "metadata": {
        "id": "MVacV0gxWwel",
        "colab_type": "code",
        "colab": {}
      },
      "source": [
        "# download the data\n",
        "!wget https://ont-research.s3-eu-west-1.amazonaws.com/labs_resources/cas9_tutorial/sample_cas9.tar.gz\n",
        "# the data is in a compressed archive so let's decompress it\n",
        "!tar -xzvf sample_cas9.tar.gz"
      ],
      "execution_count": 0,
      "outputs": []
    },
    {
      "cell_type": "markdown",
      "metadata": {
        "id": "U7nte38ESR3u",
        "colab_type": "text"
      },
      "source": [
        "The data downloaded is laid-out in the form as written by MinKNOW on a sequencing device, only reads passing the quality score filter applied by MinKNOW has been included (again click the cell and press Play):"
      ]
    },
    {
      "cell_type": "code",
      "metadata": {
        "colab_type": "code",
        "id": "VX-ktMl971CH",
        "outputId": "7b954d61-f843-4d73-b029-fef4b05d890f",
        "colab": {
          "base_uri": "https://localhost:8080/",
          "height": 119
        }
      },
      "source": [
        "!tree sample_cas9"
      ],
      "execution_count": 0,
      "outputs": [
        {
          "output_type": "stream",
          "text": [
            "sample_cas9\r\n",
            "└── fastq_pass\r\n",
            "    ├── FAK76554_9b52beb8b4f9ec458eb28c28b35822acaff84952_0.fastq\r\n",
            "    └── FAK76554_9b52beb8b4f9ec458eb28c28b35822acaff84952_1.fastq\r\n",
            "\r\n",
            "1 directory, 2 files\r\n"
          ],
          "name": "stdout"
        }
      ]
    },
    {
      "cell_type": "markdown",
      "metadata": {
        "id": "rbYU5N0KmBsW",
        "colab_type": "text"
      },
      "source": [
        "For our analysis we will also need the human genome reference (*note that this download is quite large, it includes both the reference sequence and indexes required for analysis*):"
      ]
    },
    {
      "cell_type": "code",
      "metadata": {
        "id": "jTtCIdiO-IN3",
        "colab_type": "code",
        "colab": {}
      },
      "source": [
        "!wget https://ont-research.s3-eu-west-1.amazonaws.com/labs_resources/grch38.tar.gz\n",
        "!tar -xzvf grch38.tar.gz"
      ],
      "execution_count": 0,
      "outputs": []
    },
    {
      "cell_type": "markdown",
      "metadata": {
        "id": "QrEPm_xu_LsG",
        "colab_type": "text"
      },
      "source": [
        "The reference contained within the above download is that which can also be obtained [here](http://ftp.ncbi.nlm.nih.gov/genomes/all/GCA/000/001/405/GCA_000001405.15_GRCh38/seqs_for_alignment_pipelines.ucsc_ids/GCA_000001405.15_GRCh38_no_alt_analysis_set.fna.gz), the reasons for using this file are presented in Heng Li's [blog post](https://lh3.github.io/2017/11/13/which-human-reference-genome-to-use)."
      ]
    },
    {
      "cell_type": "markdown",
      "metadata": {
        "id": "3AuVE3qCoWrH",
        "colab_type": "text"
      },
      "source": [
        "Finally we will need a `BED` file describing the target regions of the genome."
      ]
    },
    {
      "cell_type": "code",
      "metadata": {
        "id": "SYhnDMfToh3d",
        "colab_type": "code",
        "colab": {}
      },
      "source": [
        "!wget -O targets.bed https://ont-research.s3-eu-west-1.amazonaws.com/labs_resources/cas9_tutorial/targets.bed"
      ],
      "execution_count": 0,
      "outputs": []
    },
    {
      "cell_type": "markdown",
      "metadata": {
        "id": "nh7-4mZeXHRA",
        "colab_type": "text"
      },
      "source": [
        "### Using your own data\n",
        "\n",
        "If you wish to analyse your own data rather than the sample data, you can edit the value of the `data_folder` variable below. To find the correct full path of a directory you can navigate to it in\n",
        "the `Files` browser to the left-hand side, right-click on the file and select `Copy path`:"
      ]
    },
    {
      "cell_type": "markdown",
      "metadata": {
        "id": "vDCEs7E3Zy60",
        "colab_type": "text"
      },
      "source": [
        "![image.png](data:image/png;base64,iVBORw0KGgoAAAANSUhEUgAAASoAAACqCAYAAAAa/QJDAAAeCUlEQVR4Ae2d6a8URReH/VP0s34hMSQaCQQj0RhDNAZRUQISxAUQVAi8KiIQRVBQRA2LIiDIKiKgICoiCMgmboAgCCjIvrngWm+eo6ftO3dm7sy9d2rm9vwqaXqprftXXc89VdPUuei7774L2qSB3gG9A7X6DoQQwkW1enO6L3UcvQN6B3gHqgaqjRs3ho8++qjgphdUL6jeAb0D/g5UBVRLliwJvXr1Kro999xzVRuO7t+/P/Tr1y8sXbq0avfgDdTUft26deGbb76p6H2+/PLL4YknnqhoHU09p+LrG1pVAdVTTz1VEFKPP/54mDhxosVXC1b79u0Ll1xySaCD1nIH2bVrl93n+PHjK3qfDzzwQLj++usrWkct66x7qz4kqwIqYFTIoiKOF6OasGoroEKnt956K3zxxRcVhYhAVf2OWu+wrFlQNQdWWEBTp05NOu2KFSvCmDFjkvPNmzeHRx55JGzZssWubd261YB4zz33hHHjxoXdu3fb9XygevfddwMQHTJkSKBchof+8pBv+vTpoX///uF///tfeP/995M4jh977LFAfvLS6RcuXGjDNWB83333meX25ZdfJnkolzQPPvig5Vm+fHmDOK+Xe+B5Vq5cafGzZ88OU6ZMCa+88oqVO3z48LB+/fokLnf4Rv2k/+CDD6wc5gzJw32uWrUqqdNBNXPmTHtG0nz88cdJvN+P9gJapd6BmgYVD+2WVSnDMDpiu3btkg7Up08fGxp5Z33ppZfsHLDs2LEjXHnllaF9+/Y2H8VQ74YbbjAA5YJq3rx5lq9Tp07Byxw9erTV8+2334YePXpYPFYi5VHW/PnzLR5ocM59AbIOHTokZV199dWhb9++SV5v5AkTJtg1yr3uuuvsGHB5vO9z7xOgUBd1eLmXXnppAIJAhrj33nvPysEK4/yZZ54Jr776qh1zj3fffXfo0qWLnTP/RV1eLnoRTz7KrbQl58+pvQBYc6AaNGhQeO211xpsWDw+JCz20mK10In4a79nzx479s5IPjoZnZ9jrAY6m1tRixYtsvRMoOcCAPj07NkzsaIAieflXqnjzTfftHL37t0bunbtahCkHgfVhx9+aPFfffWVpQcm1EOaZ5991q4x5/TZZ5/Z8dixYy2OeAB64403JudcY8u9T4DCve7cudPi0YF7e/311+05OR4xYoTFOZywMv2YYSTloklaN8oFYp9//rnFY5ESP2vWLDv3+9FeQKnUO1BzoGpq7qqYEHRcAPLCCy/Y0IljrCzAwTCJzkYcZWCpAIuRI0faxhCKzkd8GgAOjrRFB4w2bNgQsKaGDh1qdXLs94YVSFlYbQ4qByJpsKQefvjhJD2/gpKeMt16GzhwYHJvgIpn8fJ9n75PrgGU3ElvrECuE49Fh1XEMZahw89BBSi9bKwqhp6FykU/7tHTay9IVfIdyBSoEArrC9gNHjzYOuaaNWsMAlhKwGDTpk3Wuej4PpTB0vLtjTfeaAAqt0qwuPI1BEMswJOOmzFjRgKeYqACnmwOqk8++cRAyX3yDH5P7HkuT+974EhahrRcc1B5PPubbrop3HrrrQ3qYc6LfECZNH6PWGKe10HFeb5yu3fvHtg8vfb/tKV0aF0dvF9lDlQOCUAEdHhQgETHw7rwB8dKSZ9zHQvF93RkrCgfBvmQiXgsHz6xYBiHxUZaLC8vm45N/by0DgG3qLgG2B566CGrjzodVMylLV682MpjYpw4NoDE5ue+x7JzUHENC+faa69N0vF9FfF8vkA86bEqeW6ub9++3a77PX799ddJ3muuucZg7+V27tw5iWNYzfM9/fTTyTW/J+3/aTPp0Ho60Gf+/vvv+P+FptjnCS0Z+gEKnySmIzocgAznDO8cJvzaxTWGbswfzZkzx+Z3+AWMl4w4H+7x8ScdnDxMRmOlAD8E5At70mK1LFu2zCan6cTDhg2zuhwCDKtIT9l0eoZVgIMNOF188cU2t4ZVc9VVV9kGdFevXm3WFFYVaZkT4xdGjgER+SZPnmznAwYMsPNJkybZr3ZYYcTzy6PXhQZcu+WWW5Jr06ZNs2tMuns6QMV8IedeLr9e8oz8UkkZaOHptf+nLaVD6+vAH+m//vorW6ACRFhLTH47lPj5HpikvzQHGlhFXGcDLv5LXi6ogB8A9bTMz/gvidQBaPzXPsph2Im4xKVBxTVeZACjTRroHSj9Hfj999+zByoHVCl7gMWwjX1T6XmxGO4VSgfQgFxuvFtSQAorj3IUpIAUKE0B+suvv/5a36DKhUolzgEV1pSDTqAq7QVVKimAAvSX8+fPC1SVgFO6TKwsrCnmqfgWSaBSB5QCpStAfzl9+nTbABXzSenO31aO08M+JsoZZgpUpb+kSikF6C8nT56MD6pSlnnJ/fWPr87bCpzS95kGFT//b9u2TaBS35MCZSgAqI4fPx4fVHRkftbnY8xSNtKmO39bOhaoyngjlVQK5FGgqqBqS7Bpyb2mQcUvhrKo8ryJuiQFiiggUEVwaiFQFXkDFSUFSlBAoBKoSnhNlEQKVFeBBFTVvY1s187/UeLzf76s5VsQJgURXkEKSIHSFBCoStOpRakEqhbJp8xSwP6w269+0qJyCghUldNWJdeHArKoIrSzQBVBZFWRaQUEqgjNK1BFEFlVZFoBgSpC88YAFV/6s2Y7y9jw9fuff/4Z4cn+q+LMmTPh8ssvNycS/11t+RHrhHXs2LHlBamENq2AQBWh+WKAinWyWMGUxfsuu+wy23DAECvwH0a5B1YMbc3gzjpas0yV1fYUEKgitFksULEOOoH6WOETYLFiQzr88ccf4dSpU+lLZn3x+YQHrLF855Trlhpg8mPyFQIVdVFnvvDzzz8HtnyBfKw/JFDlU6f+rglUEdo8Nqh4JDo5Fg5LFBMAz6hRo5IVSlkKmSEi4f777zePOHYSgllmrFThgSEdnnFYqpnjO+64w8rhmOEmIRdULCCIhecrouL6y8F24sSJBqulsswz35cRzp07Zyuzej6WfOZYob4VEKgitH81QMVjsV5679697QlZ+x0LCwsFK4vrV1xxhQEN7zpAh/s8cOCAgYE4Av/9B1AcOnTIQMUxa7YfO3bM/AP6/FEaVD5fxXrrlOf+EnG0QQCYgPLIkSPh4MGDVjeOLAgAkftkLfbDhw8n0LJI/VO3CghUEZq+WqDCimHteAJ+DXFi4QEnDkAH12E//vijHQMwnEn42vAs8oe3ZywjAhaVA4xz5qMoAwspDSp3TwbcPGA1MX9GYCiIdQWo1q5dG2677Taz6ojD9RjOJzxo6OdK1PdeoIrQ/tUCFYBxOAGUuXPnJk8LLLjGr4QEgIZV061bN7uG1xl8BeKkApdYhFxQMXSkDECXBhXOLLCK0oEhqFtfDAs5ZsObDXuGnwTyuXXFuUCVVrF+jwWqCG1fDVCxLA0Q8eEWQ620pcJyyMQDDQKenX0+COgwMQ+8GBJ++umnlqZUUK1YscLKxmLygFdmrCXCzTffbIDyuOHDhyegYrj66KOPepRAlShR3wcCVYT2jwUq5o5wIMH8DtYUQyom1QkvvviiWSsAiEZnjgpLhv8oTWCNLMBFHgKT25yz+a92pYKKOSosI3f3vmDBAiuHuSoCVhSWG/Nf3Ct1MNwkkJa8WFLMbzFcJF6hvhUQqCK0fyxQOViwhMaNG9fgp//ffvvNJr89DVYNVpcH5owAxKxZs/xSwApiCOghF1Ss/0556aEf68ETtm7daiAknnJxHe+BfMyZEYfFBhx97ovPFbC8/D59vszzal+fCghUEdo9BqhKfQysI/8UoNQ8LUnHMDL9TVa6LCwvtMkX+EzBrb188bpWXwoIVBHau5ZAFeFxVYUUaHUFBKpWl7RxgQJVY010RQqUo4BAVY5azUwrUDVTOGWTAv8qIFBFeBUEqggiq4pMKyBQRWhegSqCyKoi0woIVBGaV6CKILKqyLQCAlWE5hWoIoisKjKtgEAVoXkFqggiq4pMKyBQRWhegSqCyKoi0woIVBGaV6CKILKqyLQCAlWE5hWoIoisKjKtgEAVoXkFqggiq4pMKyBQRWhegSqCyKoi0woIVBGaV6CKILKqyLQCAlWE5hWoIoisKjKtgEAVoXkFqv9ELrQ21X8pdCQFGisgUDXWpNWvxABVS1y6P//88+bEodUfPFUgjiBYgpiVO1kmefPmzRbrrrXwiqMgBQopIFAVUqYVr8cAlQOgOS7dx4wZk6xZXuyx9+zZY+ugX7hwoViyvHEsa4zj0o0bN4a33347/PDDD5Yu7b0mb0ZdlAIh2Dr/x48fDxdJjcopEAtUpbh0Z+10rJh0yAeq3HQM2T755BOziHKXEOb5eInY5wu//PKL5cNhA2uzk869JhcCFUsRk09BCqCALKoI70FsUPFIuS7duYfRo0cnThPwAoPjUEIaVIXS4ZzBHS6wx3sMAZfuOGjgGnt37mCRIZiT0XQ+/Pe9//77lp40uaA6e/Zs4gCVfLj40ryWq1m/e4EqQttXA1Q8Vtql+/Tp080bzJYtW8ylO/NEXCOkQVUoHRbQunXrDDAnT540eLinZLwp44kGF+4M8XKDw+jDDz8011vFQEV+95DjFpz7HswtV+f1o4BAFaGtqwWqtEt3d/rJpDXbyJEjEx9+aVAVS4cjUqwcXFoRJkyYYG6uvEz335c7ZPOhH+AhFAIV5VI+Hpq9TJyipl1tWQH6p+4UEKgiNHm1QJXr0h3/egzPfHNfemlQAYpC6XJB5f73vDzf47cvHUoFFXDKV//DDz+cLk7HdaiAQBWh0asBqlyX7nhFHjFiRN6nTYOqWLpcUOF6HVfxTYVSQcXwEVDhEl5BCqQVEKjSalToOBaoirl0nzhxollKQIA5o5kzZ4ZRo0bZE6dBVSzdrl27DCRMmOMcdP369XaOu3gm5teuXRt69uzZ6Ne6UkGFTgw98fSMp+WjR4+G4cOH2+cMFWoaFdtGFBCoIjRULFBhjbDlc+nOr4D8guZpsIQYahEAVe/eve24WDqeg++0KINvoQizZ882AHKNod+iRYvsevof/wXS56g++OADK4M0PtHuvxbyfRUu3v0+Ad+pU6fSxem4DhUQqCI0egxQlfoYuHTnG6WmQrF0gCP9yQDPB3BaMzCxDuAUpAAKCFQR3oNaAlWEx1UVUqDVFRCoWl3SxgUKVI010RUpUI4CAlU5ajUzrUDVTOGUTQr8q4BAFeFVEKgiiKwqMq2AQBWheQWqCCKrikwrIFBFaF6BKoLIqiLTCghUEZpXoIogsqrItAICVYTmFagiiKwqMq2AQBWheQWqCCKrikwrIFBFaF6BKoLIqiLTCghUEZpXoIogsqrItAICVYTmFagiiKwqMq2AQBWheQWqCCKrikwrIFBFaF6BKoLIqiLTCghUEZpXoIogsqrItAICVYTmFaiaJ3J6zavmlaBcWVFAoIrQkjFAhX8931gSmOV/22oo5P4dd13ukKKtPpvuu3kKCFTN062sXJUGFZYHS/fidQa36XRmzll6mLrbWijk/n316tXJEsZt7Zl0vy1TQKBqmX4l5Y4FqrRL98WLF1un3rBhQ4N7xHmou1P3CD/HCnOffR7Hnvt3r8rp6+QjjmWL0/FcK7TOea6r+HR5HLsjiHzu3wuBKt8z5Zar87atgEAVof1ig4pHYl10rCqARWA4hcXlThNwFkrgBeDa4MGDkzj3TkM8w0n8/JEGV1pLly61fPzDdZwveJk4lUin79q1a9i9e7elR4NCLuW9wCNHjiRlUWau+/dcUBV6Ji9P++woIFBFaMvYoMIqmjRpknX6gwcPGrTwEINfP1xQTZs2zSCDJeSgeuihhwKgcEuM42PHjlkZuNaizOeff948zeAqiwCoGGqSdtu2bQlkNm/eHA4cOGDecBx6hVzF58rvXmnyuX9PgwoQF3qm3DJ13vYVEKgitGEsUAEOn5/CIpkzZ449HZPQnLPHRRauqTjHoaiD6tChQ5aW4RxxDL247wsXLgSGa4Bo3rx5FudWEvWlLSzcXKW9GgNLrCxCMVfxluDff3zo56610u7f06Aq9kzp8nScDQUEqgjtGAtUOA/dsmVLGDt2rFk7Pk+EY1Lg4y7XfT937twEVN9//32iBGl9vosJeYDUrVu34C7cC4GK+LQ35qlTp4brrrvOyqVMyvG62ef7Ba9UUBV7puRBdJAZBQSqCE0ZC1QOFzo7IPBhF9cBBS7Tc4NbVPlA5Z6Q8ZBMwDko5TQHVMVcxafvqVRQFXumdHk6zoYCAlWEdowNKh6JyXKg8t133wV+FcOaGThwoJ3T6L169TJrqhiodu7caWUsWbIkfPvtt5afMrdv326q5Q79illUxVzFp5ugVFAVe6Z0eTrOhgICVYR2rAaomGvCbfuAAQPsCZmPwqoBNGxYW6RxUGEteSDerTMfRnIN0LEHXIR8oHr88ce9mJAe+hVzFZ9kCMG8I1OHz1Gl3b+n56jIU+iZ0uXpOBsKCFQR2rHSoCrnEc6cOdPoO6qm8jOZnu/7qqby5Ysv5io+X/pSrjXnmUopV2lqRwGBKkJb1BKoIjyuqpACra6AQNXqkjYuUKBqrImuSIFyFBCoylGrmWkFqmYKp2xS4F8FBKoIr4JAFUFkVZFpBQSqCM0rUEUQWVVkWgGBKkLzClQRRFYVmVZAoIrQvAJVBJFVRaYVEKgiNK9AFUFkVZFpBQSqCM1bDFT8FxeC9tJB70HhfiBQVRFUwEmbNNA70PQ7IFAJVIKl/mDU/DsgUAlUNf+SyuJo2uLIukYClUAlUMmiqvl3QKASqGr+Jc26taDna9piFKgEKoFKFlXNvwMClUBV8y+pLI6mLY6sayRQZQhUrGXO6pvjxo0LM2bMsLXN29oLjHeZdu3amZOKtnbvut/KAVWgygioWMe8ffv2tt1+++22ZDDnrHteyx1o//79ARfuuMXiPj/66CO7902bNtX0fdeyplm8N4EqI6C68cYbzYceVhUvKoC69NJLA04V0i/u3r17w44dOxpcIx7nDezxPszmebgOTPycY0/r19jv27fP0hG/devWBnk8HXV/8cUXDcriBWSN9DfeeMPypEHFs+ABx/NrXzmLpda1FagyACrAQmd/7rnnGnTqyZMnhwcffNCuARCcg5KOrUOHDo2sGLfEiL/33nsNSDgQvfvuu5Nyn3zySRuapeHFS37XXXeF66+/3uBIfoZvK1assHyAbejQoUndlPnee++Z81K/H/ZDhgxJLKo777wzSc/1Wu9Iur/KQlSgygColi1bZp167dq1BTv0U089ZRCZNWtWIN2tt95qw0SsFrdihg0bZtYQVhjgADS4cefYLTUciuYDB6ACTqtWrTIIAaPu3bvb/cyePTspD4sKIOKuC9i5Sy68OgM0v5d+/frZPNWUKVMsL45VBYPKwqCW9RWoMgAqd7X+1VdfFezMAOa+++5L4rFoABAu2R0O6Xmhq6++2lxquft3QLJ58+YEOLkvNaDq379/Uj5emB1wAIhhH+7k33zzTQMdw1LKII50CxcutHO/l40bNzaIB7C5deq8fsAlUGUAVFgxDp1056VxfU6I+BdeeCHp7ICDa6+88kpeUDH0w/KhvB49etjwj/xM0OcO+0iTC6oNGzZY+StXrgwAtGvXrmZxYcn5EJF8hUCVhib3ya+Y6WfTcf1AirYWqDIAKiwVOvMTTzzRoDMzvAIMNDRzUu4pmXMAQh4sK7di0nDo1KmTWVSkfe211ywtw7kRI0Y0qIN4tlxQ+XCPISNOSRkW+vBx+vTpNgwln0BVX8Dx96XcvUCVAVDR6MwvMZxavHixzTP53A7zV8SPGTPG4rFMABMAu/LKK21I5qB65JFH7BdBLCcg9s4771heAMM5G56L871kPkdF/Jo1a8yC8jkqJvm5Nyw/NiBIWf5LIXHjx483kPm9pKFJWllU9Q00gSojoGIoB6wcKAy10kO9PXv2hMGDByfxWEfr16836DgcmGPC8qGMBx54wEDiUGIoCGD8PHcPqLp06WIT6OT3iXXS8askw0e/Nyw9jh1GWFxep98L7tq9DuIEKoHq+PHj4aII/bVuqyi0wqd3xNbcY6UwFCxUJkBLfydFOocD4CDeh2heBnNSgI1PE/xa7j499CtUP/Uy1MvNyznzWNSdL07X6htStL8sqgj4jAmq5nTqNKhy8zOXxa+FDM/yfSjq6dOg8mvaCzCt9Q4IVAKVzWkx7Pv8888bWTRTp061/+LiH28WevEYZjIvVihe1wWtlrwDApVAJbhomZeafwcEKoGq5l/SlvwlVt5sWHIClUAlUMmiqvl3QKASqGr+JZVVlA2rqCXtKFAJVAKVLKqafwcEqiqCiqr5K6O9dNB7ULwfCFRVBlWE6lWFFGjzCghUEZqw0AefEapWFVIgEwoIVBGaUaCKILKqyLQCAlWE5hWoIoisKjKtgEAVoXkFqggiq4pMKyBQRWhegSqCyKoi0woIVBGaV6CKILKqyLQCAlWE5m0roPrrr78iqKEqpED5CghU5WtWdo4YoMK7i2+4w/rll19Kvs9ff/01PProo+Gyyy4LY8eOLTlfUwlZ8ZP1rBSkQEsVEKhaqmAJ+SsNKiwhlusFDHfccUe44oor7Jw10Km7qeBebPAcc+rUqaaSlxwP+JYsWVJyeiWUAoUUEKgKKdOK12OBavny5XbX1IeTB+AFfNLh5MmT4c8//0wucTxy5MjQs2fP5DrX2H7//fdAeg+Uy7rV+eD3008/hT/++MOT2t5BRVmnT59uEKcTKVCOAgJVOWo1M21sUHGb586dM1ABLALrlWNxAS+2BQsW2PX7778/ucZ1nEAMGDAg4LCU827dulk6hpWXX365XWOPY1LC0aNHbQVQ0gImrDif6+LcHTkQz/HZs2ctn/6RAuUoIFCVo1Yz08YG1c8//xwmTZpkUDl48KBBC7jgkw+wTJs2zaCCBcQGXPr06ROYq+JeARVgYX7p8OHDYfv27XY+f/788OOPP4ZBgwZZeuQgL1A7ceKELWVMPnwFEgAVcThtcNftbvU1U0plq1MFBKoIDR8LVIDB56cABm7YCevWrTPQsMdDjLtpxyUVAXdVffv2tWP+AVRDhw5NzidMmGDlkpcNa4zymbAfNWqUWVqrV6+2c0B25swZy8v9YIl5wKJimKkgBcpVQKAqV7FmpI8FqokTJ4YtW7bYL3dAwifG3dMxVlV6mzt3rj1NPlDhI9ADEANM6bwcYyVhvY0ePdqsJ9JgYXGNwD2kJ9P79etnVp2Xq70UKFUBgapUpVqQLhaofFiFpQNIsHYIXAciWDv5QlOg4tOFzp0758satm3bZsNJJsw3btxocJo8ebKlFajySqaLzVBAoGqGaOVmiQ0q7s+HZyzIxi93QGPgwIG2UB+NzjCMPaEpUOFRGdC9+OKLNhfFd1r8SggQmWy/7bbbbC7rwIEDBkhcuBMEKpNB/7SCAgJVK4jYVBHVABUWDlYQ800E5qM6duxowAE6WFukIQAqhmUeyDN8+HA/tf3s2bMNPOTFWlu0aJFdx4sy7uO57jDkUwUC50uXLrVj/rnnnns09EvU0EE5CghU5ajVzLSVBlU5t8VEtwOqnHyk5TkKfQ+V7zuqcstXeilQSAGBqpAyrXi9lkDVio+loqRANAUEqghSC1QRRFYVmVZAoIrQvAJVBJFVRaYVEKgiNK9AFUFkVZFpBQSqCM0rUEUQWVVkWgGBKkLzClQRRFYVmVZAoIrQvAJVBJFVRaYVEKgiNK9AFUFkVZFpBQSqCM0rUEUQWVVkWgGBKkLzClQRRFYVmVZAoIrQvAJVBJFVRaYVEKgiNK9AFUFkVZFpBQSqCM2bBhX/eRcHCQivIAWkQGkKCFSl6dSiVAJVi+RTZilgf9j5A3+RtKicAmlQsUwvC9nxF0KbNNA7UPo7QL8RqCrHKSsZF1J4fGFVTNZ0OnLkSGBFTDy07N69O+zatUubNNA7kHoH6Bf0D/oJ/YV+I1BVGFRYVSxYd+HChXD+/HmzqhD/+++/D7i0ojHYWDpYmzSo53fA+wL9gv5BP8Gaot8IVBFAhVWF92H85yE6fyFoAMbe2qSB3oHG7wD9g35Cf6HfCFQVBhXFu1UFrLCsGAYyZ8UvgWw0hjZpoHfgfNIn6B/0E/oL/UagigQqn1hnGMicFeJrkwZ6Bwq/A/QT+gsjEoEqAqi8CmDlwEJ8bdJA70Dxd8D7jEDlFIm89wbQ/h94SwfpkPsOpLukQJVWQ8dSQArUpAL/B+ecxlboWvAOAAAAAElFTkSuQmCC)"
      ]
    },
    {
      "cell_type": "markdown",
      "metadata": {
        "id": "rjXNch2Kp-_2",
        "colab_type": "text"
      },
      "source": [
        "### Data entry\n",
        "\n",
        "Having downloaded the sample data, or locating your own data in the file browser, we need to provide the filepaths as input to the notebook. This is done in the form below, after updating the values, be sure to press the play button."
      ]
    },
    {
      "cell_type": "markdown",
      "metadata": {
        "id": "46QEClv31y4J",
        "colab_type": "text"
      },
      "source": [
        "\n",
        "\n",
        "> **If you want simply to plot all the graphs in this tutorial for your dataset, rather than working through the tutorial, select `Run after` from the `Runtime` menu above after executing the cell below.**"
      ]
    },
    {
      "cell_type": "code",
      "metadata": {
        "id": "hexEX4x8VPfA",
        "colab_type": "code",
        "cellView": "form",
        "outputId": "23f56959-408b-4798-ec04-5257949663a5",
        "colab": {
          "base_uri": "https://localhost:8080/",
          "height": 68
        }
      },
      "source": [
        "#@markdown Enter the paths to you input files and output folder here:\n",
        "import pandas as pd\n",
        "\n",
        "# set variables for our inputs\n",
        "data_folder='sample_cas9/fastq_pass'  #@param {type: \"string\"}\n",
        "output_folder='analysis'  #@param {type: \"string\"}\n",
        "reference_genome='grch38/grch38.fasta.gz' #@param {type: \"string\"}\n",
        "bed_file='targets.bed' #@param {type: \"string\"}\n",
        "\n",
        "fastq = output_folder + '/all_data.fastq'\n",
        "\n",
        "# run a command to concatenate all the files together\n",
        "!echo \"Making output folder\"\n",
        "!test -f \"$reference_genome\" || \"WARNING: Reference file does not exist\"\n",
        "!mkdir -p \"$output_folder\"\n",
        "!concatenate_fastqs \"$data_folder\" \"$fastq\"\n",
        "\n",
        "region_bed = pd.read_csv(\n",
        "    bed_file, sep='\\t', header=None,\n",
        "    # https://genome.ucsc.edu/FAQ/FAQformat.html#format1\n",
        "    names=[\n",
        "        'chrom', 'start', 'end',  #required\n",
        "        'tname', 'score', 'strand', 'thickStart', 'thickEnd',\n",
        "        'itemRgb', 'blockCount', 'blockSizes', 'blockStarts'])\n",
        "\n",
        "region_bed['region'] = [\n",
        "    '{}:{}-{}'.format(x['chrom'], x.start, x.end)\n",
        "    for _, x in region_bed.iterrows()]\n",
        "target_names = region_bed['tname'].to_list()\n"
      ],
      "execution_count": 4,
      "outputs": [
        {
          "output_type": "stream",
          "text": [
            "Making output folder\n",
            "Found files, concatenating\n",
            "Written data to analysis/all_data.fastq\n"
          ],
          "name": "stdout"
        }
      ]
    },
    {
      "cell_type": "markdown",
      "metadata": {
        "id": "wfhtD7DZbl4Q",
        "colab_type": "text"
      },
      "source": [
        "## Alignment of reads\n",
        "\n",
        "Our first task in analysing our data is to align the sequence reads to the reference sequence. We do this with the `mini_align` program from the [`pomoxis`](https://github.com/nanoporetech/pomoxis) package. This is preinstalled in the **Epi2Me Labs** notebook server. Note that this command may take a while to run depending on the number of reads in your datasets. With the sample data (8000 reads) and using 4 compute threads (`-t 4` in the code), the alignments will take around 5 minutes.\n"
      ]
    },
    {
      "cell_type": "code",
      "metadata": {
        "id": "sTLIGAURr4Cd",
        "colab_type": "code",
        "outputId": "9aea2adc-edb6-4e13-e0f6-1d2b00454449",
        "colab": {
          "base_uri": "https://localhost:8080/",
          "height": 187
        }
      },
      "source": [
        "!run mini_align \\\n",
        "    -r \"$reference_genome\" -i \"$output_folder/all_data.fastq\" \\\n",
        "    -p \"$output_folder/alignments\" \\\n",
        "    -t 3 -m\n",
        "# for brevity the results of the above for the sample data can also be downloaded:\n",
        "# !wget https://ont-research.s3-eu-west-1.amazonaws.com/labs_resources/cas9_tutorial/alignments.bam\n",
        "# !wget https://ont-research.s3-eu-west-1.amazonaws.com/labs_resources/cas9_tutorial/alignments.bam.bai"
      ],
      "execution_count": 0,
      "outputs": [
        {
          "output_type": "stream",
          "text": [
            "Found minimap files.\n",
            "[M::main::233.629*0.73] loaded/built the index for 195 target sequence(s)\n",
            "[M::mm_mapopt_update::260.939*0.76] mid_occ = 694\n",
            "[M::mm_idx_stat] kmer size: 15; skip: 10; is_hpc: 0; #seq: 195\n",
            "[M::mm_idx_stat::263.313*0.76] distinct minimizers: 100167746 (38.80% are singletons); average occurrences: 5.519; average spacing: 5.607\n",
            "[M::worker_pipeline::533.018*1.82] mapped 7853 sequences\n",
            "[M::main] Version: 2.17-r941\n",
            "[M::main] CMD: minimap2 -x map-ont --MD -t 3 -a grch38/grch38.fasta.gz.mmi analysis/all_data.fastq\n",
            "[M::main] Real time: 585.110 sec; CPU: 1021.969 sec; Peak RSS: 8.483 GB\n",
            "[bam_sort_core] merging from 0 files and 3 in-memory blocks...\n"
          ],
          "name": "stdout"
        }
      ]
    },
    {
      "cell_type": "markdown",
      "metadata": {
        "id": "emZnWTi-2rNl",
        "colab_type": "text"
      },
      "source": [
        "While we are here we will calculate also a table summarising the alignment data, again using a program from `pomoxis`:"
      ]
    },
    {
      "cell_type": "code",
      "metadata": {
        "id": "7PMfMRYr2-ef",
        "colab_type": "code",
        "outputId": "3fc0e0b9-f48f-4d28-9e89-dcb9d6552343",
        "colab": {
          "base_uri": "https://localhost:8080/",
          "height": 34
        }
      },
      "source": [
        "!stats_from_bam \"$output_folder/alignments.bam\" \\\n",
        "    > \"$output_folder/alignments.stats\"\n",
        "\n",
        "import pandas as pd\n",
        "aln_summary = pd.read_csv(\n",
        "    '{}/alignments.stats'.format(output_folder),\n",
        "    delimiter='\\t')"
      ],
      "execution_count": 6,
      "outputs": [
        {
          "output_type": "stream",
          "text": [
            "Mapped/Unmapped/Short/Masked: 7827/0/0/0\r\n"
          ],
          "name": "stdout"
        }
      ]
    },
    {
      "cell_type": "markdown",
      "metadata": {
        "id": "iOn_k8_CsuvV",
        "colab_type": "text"
      },
      "source": [
        "The summary file gives useful information on the alignment of each read to the reference sequence, including: chromosome, start and end coordinates, and the accuracy of the read with respect to the reference. We can plot a histogram of the latter quantity:"
      ]
    },
    {
      "cell_type": "code",
      "metadata": {
        "id": "9cYOMIAtuXQa",
        "colab_type": "code",
        "cellView": "form",
        "outputId": "f805c986-128b-4b6d-b04d-90a9120db68c",
        "colab": {
          "base_uri": "https://localhost:8080/",
          "height": 317
        }
      },
      "source": [
        "#@markdown ***Accuracy distribution code*** (*click to show*)\n",
        "\n",
        "#load python libraries\n",
        "import numpy as np\n",
        "import aplanat\n",
        "from aplanat import annot, lines, util\n",
        "\n",
        "x_grid, pdf = util.kernel_density_estimate(aln_summary.acc)\n",
        "mode_acc = x_grid[np.argmax(pdf)]\n",
        "mean_acc = aln_summary.acc.mean()\n",
        "\n",
        "# create a figure\n",
        "plot = lines.line([x_grid], [pdf], xlim=(75,100))\n",
        "for x, name in ((mode_acc, 'Mode'), (mean_acc, 'Mean')):\n",
        "    plot = annot.marker_vline(plot, x, label='{}: {:.1f}'.format(name, x))\n",
        "# add axis labels\n",
        "plot.xaxis.axis_label = 'Read Accuracy'\n",
        "plot.yaxis.axis_label = 'Number of reads'\n",
        "aplanat.show(plot)"
      ],
      "execution_count": 27,
      "outputs": [
        {
          "output_type": "display_data",
          "data": {
            "application/javascript": [
              "\n",
              "(function(root) {\n",
              "  function now() {\n",
              "    return new Date();\n",
              "  }\n",
              "\n",
              "  var force = true;\n",
              "\n",
              "  if (typeof root._bokeh_onload_callbacks === \"undefined\" || force === true) {\n",
              "    root._bokeh_onload_callbacks = [];\n",
              "    root._bokeh_is_loading = undefined;\n",
              "  }\n",
              "\n",
              "  var JS_MIME_TYPE = 'application/javascript';\n",
              "  var HTML_MIME_TYPE = 'text/html';\n",
              "  var EXEC_MIME_TYPE = 'application/vnd.bokehjs_exec.v0+json';\n",
              "  var CLASS_NAME = 'output_bokeh rendered_html';\n",
              "\n",
              "  /**\n",
              "   * Render data to the DOM node\n",
              "   */\n",
              "  function render(props, node) {\n",
              "    var script = document.createElement(\"script\");\n",
              "    node.appendChild(script);\n",
              "  }\n",
              "\n",
              "  /**\n",
              "   * Handle when an output is cleared or removed\n",
              "   */\n",
              "  function handleClearOutput(event, handle) {\n",
              "    var cell = handle.cell;\n",
              "\n",
              "    var id = cell.output_area._bokeh_element_id;\n",
              "    var server_id = cell.output_area._bokeh_server_id;\n",
              "    // Clean up Bokeh references\n",
              "    if (id != null && id in Bokeh.index) {\n",
              "      Bokeh.index[id].model.document.clear();\n",
              "      delete Bokeh.index[id];\n",
              "    }\n",
              "\n",
              "    if (server_id !== undefined) {\n",
              "      // Clean up Bokeh references\n",
              "      var cmd = \"from bokeh.io.state import curstate; print(curstate().uuid_to_server['\" + server_id + \"'].get_sessions()[0].document.roots[0]._id)\";\n",
              "      cell.notebook.kernel.execute(cmd, {\n",
              "        iopub: {\n",
              "          output: function(msg) {\n",
              "            var id = msg.content.text.trim();\n",
              "            if (id in Bokeh.index) {\n",
              "              Bokeh.index[id].model.document.clear();\n",
              "              delete Bokeh.index[id];\n",
              "            }\n",
              "          }\n",
              "        }\n",
              "      });\n",
              "      // Destroy server and session\n",
              "      var cmd = \"import bokeh.io.notebook as ion; ion.destroy_server('\" + server_id + \"')\";\n",
              "      cell.notebook.kernel.execute(cmd);\n",
              "    }\n",
              "  }\n",
              "\n",
              "  /**\n",
              "   * Handle when a new output is added\n",
              "   */\n",
              "  function handleAddOutput(event, handle) {\n",
              "    var output_area = handle.output_area;\n",
              "    var output = handle.output;\n",
              "\n",
              "    // limit handleAddOutput to display_data with EXEC_MIME_TYPE content only\n",
              "    if ((output.output_type != \"display_data\") || (!output.data.hasOwnProperty(EXEC_MIME_TYPE))) {\n",
              "      return\n",
              "    }\n",
              "\n",
              "    var toinsert = output_area.element.find(\".\" + CLASS_NAME.split(' ')[0]);\n",
              "\n",
              "    if (output.metadata[EXEC_MIME_TYPE][\"id\"] !== undefined) {\n",
              "      toinsert[toinsert.length - 1].firstChild.textContent = output.data[JS_MIME_TYPE];\n",
              "      // store reference to embed id on output_area\n",
              "      output_area._bokeh_element_id = output.metadata[EXEC_MIME_TYPE][\"id\"];\n",
              "    }\n",
              "    if (output.metadata[EXEC_MIME_TYPE][\"server_id\"] !== undefined) {\n",
              "      var bk_div = document.createElement(\"div\");\n",
              "      bk_div.innerHTML = output.data[HTML_MIME_TYPE];\n",
              "      var script_attrs = bk_div.children[0].attributes;\n",
              "      for (var i = 0; i < script_attrs.length; i++) {\n",
              "        toinsert[toinsert.length - 1].firstChild.setAttribute(script_attrs[i].name, script_attrs[i].value);\n",
              "      }\n",
              "      // store reference to server id on output_area\n",
              "      output_area._bokeh_server_id = output.metadata[EXEC_MIME_TYPE][\"server_id\"];\n",
              "    }\n",
              "  }\n",
              "\n",
              "  function register_renderer(events, OutputArea) {\n",
              "\n",
              "    function append_mime(data, metadata, element) {\n",
              "      // create a DOM node to render to\n",
              "      var toinsert = this.create_output_subarea(\n",
              "        metadata,\n",
              "        CLASS_NAME,\n",
              "        EXEC_MIME_TYPE\n",
              "      );\n",
              "      this.keyboard_manager.register_events(toinsert);\n",
              "      // Render to node\n",
              "      var props = {data: data, metadata: metadata[EXEC_MIME_TYPE]};\n",
              "      render(props, toinsert[toinsert.length - 1]);\n",
              "      element.append(toinsert);\n",
              "      return toinsert\n",
              "    }\n",
              "\n",
              "    /* Handle when an output is cleared or removed */\n",
              "    events.on('clear_output.CodeCell', handleClearOutput);\n",
              "    events.on('delete.Cell', handleClearOutput);\n",
              "\n",
              "    /* Handle when a new output is added */\n",
              "    events.on('output_added.OutputArea', handleAddOutput);\n",
              "\n",
              "    /**\n",
              "     * Register the mime type and append_mime function with output_area\n",
              "     */\n",
              "    OutputArea.prototype.register_mime_type(EXEC_MIME_TYPE, append_mime, {\n",
              "      /* Is output safe? */\n",
              "      safe: true,\n",
              "      /* Index of renderer in `output_area.display_order` */\n",
              "      index: 0\n",
              "    });\n",
              "  }\n",
              "\n",
              "  // register the mime type if in Jupyter Notebook environment and previously unregistered\n",
              "  if (root.Jupyter !== undefined) {\n",
              "    var events = require('base/js/events');\n",
              "    var OutputArea = require('notebook/js/outputarea').OutputArea;\n",
              "\n",
              "    if (OutputArea.prototype.mime_types().indexOf(EXEC_MIME_TYPE) == -1) {\n",
              "      register_renderer(events, OutputArea);\n",
              "    }\n",
              "  }\n",
              "\n",
              "  \n",
              "  if (typeof (root._bokeh_timeout) === \"undefined\" || force === true) {\n",
              "    root._bokeh_timeout = Date.now() + 5000;\n",
              "    root._bokeh_failed_load = false;\n",
              "  }\n",
              "\n",
              "  var NB_LOAD_WARNING = {'data': {'text/html':\n",
              "     \"<div style='background-color: #fdd'>\\n\"+\n",
              "     \"<p>\\n\"+\n",
              "     \"BokehJS does not appear to have successfully loaded. If loading BokehJS from CDN, this \\n\"+\n",
              "     \"may be due to a slow or bad network connection. Possible fixes:\\n\"+\n",
              "     \"</p>\\n\"+\n",
              "     \"<ul>\\n\"+\n",
              "     \"<li>re-rerun `output_notebook()` to attempt to load from CDN again, or</li>\\n\"+\n",
              "     \"<li>use INLINE resources instead, as so:</li>\\n\"+\n",
              "     \"</ul>\\n\"+\n",
              "     \"<code>\\n\"+\n",
              "     \"from bokeh.resources import INLINE\\n\"+\n",
              "     \"output_notebook(resources=INLINE)\\n\"+\n",
              "     \"</code>\\n\"+\n",
              "     \"</div>\"}};\n",
              "\n",
              "  function display_loaded() {\n",
              "    var el = document.getElementById(null);\n",
              "    if (el != null) {\n",
              "      el.textContent = \"BokehJS is loading...\";\n",
              "    }\n",
              "    if (root.Bokeh !== undefined) {\n",
              "      if (el != null) {\n",
              "        el.textContent = \"BokehJS \" + root.Bokeh.version + \" successfully loaded.\";\n",
              "      }\n",
              "    } else if (Date.now() < root._bokeh_timeout) {\n",
              "      setTimeout(display_loaded, 100)\n",
              "    }\n",
              "  }\n",
              "\n",
              "\n",
              "  function run_callbacks() {\n",
              "    try {\n",
              "      root._bokeh_onload_callbacks.forEach(function(callback) {\n",
              "        if (callback != null)\n",
              "          callback();\n",
              "      });\n",
              "    } finally {\n",
              "      delete root._bokeh_onload_callbacks\n",
              "    }\n",
              "    console.debug(\"Bokeh: all callbacks have finished\");\n",
              "  }\n",
              "\n",
              "  function load_libs(css_urls, js_urls, callback) {\n",
              "    if (css_urls == null) css_urls = [];\n",
              "    if (js_urls == null) js_urls = [];\n",
              "\n",
              "    root._bokeh_onload_callbacks.push(callback);\n",
              "    if (root._bokeh_is_loading > 0) {\n",
              "      console.debug(\"Bokeh: BokehJS is being loaded, scheduling callback at\", now());\n",
              "      return null;\n",
              "    }\n",
              "    if (js_urls == null || js_urls.length === 0) {\n",
              "      run_callbacks();\n",
              "      return null;\n",
              "    }\n",
              "    console.debug(\"Bokeh: BokehJS not loaded, scheduling load and callback at\", now());\n",
              "    root._bokeh_is_loading = css_urls.length + js_urls.length;\n",
              "\n",
              "    function on_load() {\n",
              "      root._bokeh_is_loading--;\n",
              "      if (root._bokeh_is_loading === 0) {\n",
              "        console.debug(\"Bokeh: all BokehJS libraries/stylesheets loaded\");\n",
              "        run_callbacks()\n",
              "      }\n",
              "    }\n",
              "\n",
              "    function on_error() {\n",
              "      console.error(\"failed to load \" + url);\n",
              "    }\n",
              "\n",
              "    for (var i = 0; i < css_urls.length; i++) {\n",
              "      var url = css_urls[i];\n",
              "      const element = document.createElement(\"link\");\n",
              "      element.onload = on_load;\n",
              "      element.onerror = on_error;\n",
              "      element.rel = \"stylesheet\";\n",
              "      element.type = \"text/css\";\n",
              "      element.href = url;\n",
              "      console.debug(\"Bokeh: injecting link tag for BokehJS stylesheet: \", url);\n",
              "      document.body.appendChild(element);\n",
              "    }\n",
              "\n",
              "    for (var i = 0; i < js_urls.length; i++) {\n",
              "      var url = js_urls[i];\n",
              "      var element = document.createElement('script');\n",
              "      element.onload = on_load;\n",
              "      element.onerror = on_error;\n",
              "      element.async = false;\n",
              "      element.src = url;\n",
              "      console.debug(\"Bokeh: injecting script tag for BokehJS library: \", url);\n",
              "      document.head.appendChild(element);\n",
              "    }\n",
              "  };\n",
              "\n",
              "  function inject_raw_css(css) {\n",
              "    const element = document.createElement(\"style\");\n",
              "    element.appendChild(document.createTextNode(css));\n",
              "    document.body.appendChild(element);\n",
              "  }\n",
              "\n",
              "  \n",
              "  var js_urls = [\"https://cdn.pydata.org/bokeh/release/bokeh-1.4.0.min.js\", \"https://cdn.pydata.org/bokeh/release/bokeh-widgets-1.4.0.min.js\", \"https://cdn.pydata.org/bokeh/release/bokeh-tables-1.4.0.min.js\", \"https://cdn.pydata.org/bokeh/release/bokeh-gl-1.4.0.min.js\"];\n",
              "  var css_urls = [];\n",
              "  \n",
              "\n",
              "  var inline_js = [\n",
              "    function(Bokeh) {\n",
              "      Bokeh.set_log_level(\"info\");\n",
              "    },\n",
              "    function(Bokeh) {\n",
              "    \n",
              "    \n",
              "    }\n",
              "  ];\n",
              "\n",
              "  function run_inline_js() {\n",
              "    \n",
              "    if (root.Bokeh !== undefined || force === true) {\n",
              "      \n",
              "    for (var i = 0; i < inline_js.length; i++) {\n",
              "      inline_js[i].call(root, root.Bokeh);\n",
              "    }\n",
              "    } else if (Date.now() < root._bokeh_timeout) {\n",
              "      setTimeout(run_inline_js, 100);\n",
              "    } else if (!root._bokeh_failed_load) {\n",
              "      console.log(\"Bokeh: BokehJS failed to load within specified timeout.\");\n",
              "      root._bokeh_failed_load = true;\n",
              "    } else if (force !== true) {\n",
              "      var cell = $(document.getElementById(null)).parents('.cell').data().cell;\n",
              "      cell.output_area.append_execute_result(NB_LOAD_WARNING)\n",
              "    }\n",
              "\n",
              "  }\n",
              "\n",
              "  if (root._bokeh_is_loading === 0) {\n",
              "    console.debug(\"Bokeh: BokehJS loaded, going straight to plotting\");\n",
              "    run_inline_js();\n",
              "  } else {\n",
              "    load_libs(css_urls, js_urls, function() {\n",
              "      console.debug(\"Bokeh: BokehJS plotting callback run at\", now());\n",
              "      run_inline_js();\n",
              "    });\n",
              "  }\n",
              "}(window));"
            ],
            "application/vnd.bokehjs_load.v0+json": "\n(function(root) {\n  function now() {\n    return new Date();\n  }\n\n  var force = true;\n\n  if (typeof root._bokeh_onload_callbacks === \"undefined\" || force === true) {\n    root._bokeh_onload_callbacks = [];\n    root._bokeh_is_loading = undefined;\n  }\n\n  \n\n  \n  if (typeof (root._bokeh_timeout) === \"undefined\" || force === true) {\n    root._bokeh_timeout = Date.now() + 5000;\n    root._bokeh_failed_load = false;\n  }\n\n  var NB_LOAD_WARNING = {'data': {'text/html':\n     \"<div style='background-color: #fdd'>\\n\"+\n     \"<p>\\n\"+\n     \"BokehJS does not appear to have successfully loaded. If loading BokehJS from CDN, this \\n\"+\n     \"may be due to a slow or bad network connection. Possible fixes:\\n\"+\n     \"</p>\\n\"+\n     \"<ul>\\n\"+\n     \"<li>re-rerun `output_notebook()` to attempt to load from CDN again, or</li>\\n\"+\n     \"<li>use INLINE resources instead, as so:</li>\\n\"+\n     \"</ul>\\n\"+\n     \"<code>\\n\"+\n     \"from bokeh.resources import INLINE\\n\"+\n     \"output_notebook(resources=INLINE)\\n\"+\n     \"</code>\\n\"+\n     \"</div>\"}};\n\n  function display_loaded() {\n    var el = document.getElementById(null);\n    if (el != null) {\n      el.textContent = \"BokehJS is loading...\";\n    }\n    if (root.Bokeh !== undefined) {\n      if (el != null) {\n        el.textContent = \"BokehJS \" + root.Bokeh.version + \" successfully loaded.\";\n      }\n    } else if (Date.now() < root._bokeh_timeout) {\n      setTimeout(display_loaded, 100)\n    }\n  }\n\n\n  function run_callbacks() {\n    try {\n      root._bokeh_onload_callbacks.forEach(function(callback) {\n        if (callback != null)\n          callback();\n      });\n    } finally {\n      delete root._bokeh_onload_callbacks\n    }\n    console.debug(\"Bokeh: all callbacks have finished\");\n  }\n\n  function load_libs(css_urls, js_urls, callback) {\n    if (css_urls == null) css_urls = [];\n    if (js_urls == null) js_urls = [];\n\n    root._bokeh_onload_callbacks.push(callback);\n    if (root._bokeh_is_loading > 0) {\n      console.debug(\"Bokeh: BokehJS is being loaded, scheduling callback at\", now());\n      return null;\n    }\n    if (js_urls == null || js_urls.length === 0) {\n      run_callbacks();\n      return null;\n    }\n    console.debug(\"Bokeh: BokehJS not loaded, scheduling load and callback at\", now());\n    root._bokeh_is_loading = css_urls.length + js_urls.length;\n\n    function on_load() {\n      root._bokeh_is_loading--;\n      if (root._bokeh_is_loading === 0) {\n        console.debug(\"Bokeh: all BokehJS libraries/stylesheets loaded\");\n        run_callbacks()\n      }\n    }\n\n    function on_error() {\n      console.error(\"failed to load \" + url);\n    }\n\n    for (var i = 0; i < css_urls.length; i++) {\n      var url = css_urls[i];\n      const element = document.createElement(\"link\");\n      element.onload = on_load;\n      element.onerror = on_error;\n      element.rel = \"stylesheet\";\n      element.type = \"text/css\";\n      element.href = url;\n      console.debug(\"Bokeh: injecting link tag for BokehJS stylesheet: \", url);\n      document.body.appendChild(element);\n    }\n\n    for (var i = 0; i < js_urls.length; i++) {\n      var url = js_urls[i];\n      var element = document.createElement('script');\n      element.onload = on_load;\n      element.onerror = on_error;\n      element.async = false;\n      element.src = url;\n      console.debug(\"Bokeh: injecting script tag for BokehJS library: \", url);\n      document.head.appendChild(element);\n    }\n  };\n\n  function inject_raw_css(css) {\n    const element = document.createElement(\"style\");\n    element.appendChild(document.createTextNode(css));\n    document.body.appendChild(element);\n  }\n\n  \n  var js_urls = [\"https://cdn.pydata.org/bokeh/release/bokeh-1.4.0.min.js\", \"https://cdn.pydata.org/bokeh/release/bokeh-widgets-1.4.0.min.js\", \"https://cdn.pydata.org/bokeh/release/bokeh-tables-1.4.0.min.js\", \"https://cdn.pydata.org/bokeh/release/bokeh-gl-1.4.0.min.js\"];\n  var css_urls = [];\n  \n\n  var inline_js = [\n    function(Bokeh) {\n      Bokeh.set_log_level(\"info\");\n    },\n    function(Bokeh) {\n    \n    \n    }\n  ];\n\n  function run_inline_js() {\n    \n    if (root.Bokeh !== undefined || force === true) {\n      \n    for (var i = 0; i < inline_js.length; i++) {\n      inline_js[i].call(root, root.Bokeh);\n    }\n    } else if (Date.now() < root._bokeh_timeout) {\n      setTimeout(run_inline_js, 100);\n    } else if (!root._bokeh_failed_load) {\n      console.log(\"Bokeh: BokehJS failed to load within specified timeout.\");\n      root._bokeh_failed_load = true;\n    } else if (force !== true) {\n      var cell = $(document.getElementById(null)).parents('.cell').data().cell;\n      cell.output_area.append_execute_result(NB_LOAD_WARNING)\n    }\n\n  }\n\n  if (root._bokeh_is_loading === 0) {\n    console.debug(\"Bokeh: BokehJS loaded, going straight to plotting\");\n    run_inline_js();\n  } else {\n    load_libs(css_urls, js_urls, function() {\n      console.debug(\"Bokeh: BokehJS plotting callback run at\", now());\n      run_inline_js();\n    });\n  }\n}(window));"
          },
          "metadata": {
            "tags": []
          }
        },
        {
          "output_type": "display_data",
          "data": {
            "text/html": [
              "\n",
              "\n",
              "\n",
              "\n",
              "\n",
              "\n",
              "  <div class=\"bk-root\" id=\"d66cfd6e-f8a3-4daa-ab3d-8d31517820a9\" data-root-id=\"3073\"></div>\n"
            ]
          },
          "metadata": {
            "tags": []
          }
        },
        {
          "output_type": "display_data",
          "data": {
            "application/javascript": [
              "(function(root) {\n",
              "  function embed_document(root) {\n",
              "    \n",
              "  var docs_json = {\"e181ea0c-f12e-4537-9dde-c5c80ef21a21\":{\"roots\":{\"references\":[{\"attributes\":{\"below\":[{\"id\":\"3082\",\"type\":\"LinearAxis\"}],\"center\":[{\"id\":\"3086\",\"type\":\"Grid\"},{\"id\":\"3091\",\"type\":\"Grid\"}],\"left\":[{\"id\":\"3087\",\"type\":\"LinearAxis\"}],\"output_backend\":\"webgl\",\"plot_height\":300,\"renderers\":[{\"id\":\"3108\",\"type\":\"GlyphRenderer\"},{\"id\":\"3112\",\"type\":\"Span\"},{\"id\":\"3116\",\"type\":\"GlyphRenderer\"},{\"id\":\"3118\",\"type\":\"Span\"},{\"id\":\"3122\",\"type\":\"GlyphRenderer\"}],\"title\":{\"id\":\"3236\",\"type\":\"Title\"},\"toolbar\":{\"id\":\"3098\",\"type\":\"Toolbar\"},\"x_range\":{\"id\":\"3110\",\"type\":\"Range1d\"},\"x_scale\":{\"id\":\"3078\",\"type\":\"LinearScale\"},\"y_range\":{\"id\":\"3111\",\"type\":\"Range1d\"},\"y_scale\":{\"id\":\"3080\",\"type\":\"LinearScale\"}},\"id\":\"3073\",\"subtype\":\"Figure\",\"type\":\"Plot\"},{\"attributes\":{\"line_alpha\":0.1,\"line_color\":\"#1f77b4\",\"line_width\":1.5,\"x\":{\"field\":\"x\"},\"y\":{\"field\":\"y\"}},\"id\":\"3107\",\"type\":\"Line\"},{\"attributes\":{\"bounds\":[0.00011861274839236599,0.20783269037979643],\"callback\":null,\"end\":0.20783269037979643,\"start\":0.00011861274839236599},\"id\":\"3111\",\"type\":\"Range1d\"},{\"attributes\":{},\"id\":\"3093\",\"type\":\"WheelZoomTool\"},{\"attributes\":{},\"id\":\"3088\",\"type\":\"BasicTicker\"},{\"attributes\":{},\"id\":\"3078\",\"type\":\"LinearScale\"},{\"attributes\":{},\"id\":\"3242\",\"type\":\"Selection\"},{\"attributes\":{\"dimension\":1,\"ticker\":{\"id\":\"3088\",\"type\":\"BasicTicker\"}},\"id\":\"3091\",\"type\":\"Grid\"},{\"attributes\":{},\"id\":\"3245\",\"type\":\"UnionRenderers\"},{\"attributes\":{\"active_drag\":\"auto\",\"active_inspect\":\"auto\",\"active_multi\":null,\"active_scroll\":\"auto\",\"active_tap\":\"auto\",\"tools\":[{\"id\":\"3092\",\"type\":\"PanTool\"},{\"id\":\"3093\",\"type\":\"WheelZoomTool\"},{\"id\":\"3094\",\"type\":\"BoxZoomTool\"},{\"id\":\"3095\",\"type\":\"SaveTool\"},{\"id\":\"3096\",\"type\":\"ResetTool\"},{\"id\":\"3097\",\"type\":\"HelpTool\"}]},\"id\":\"3098\",\"type\":\"Toolbar\"},{\"attributes\":{},\"id\":\"3080\",\"type\":\"LinearScale\"},{\"attributes\":{\"overlay\":{\"id\":\"3241\",\"type\":\"BoxAnnotation\"}},\"id\":\"3094\",\"type\":\"BoxZoomTool\"},{\"attributes\":{\"callback\":null,\"data\":{\"text\":[\"Mean: 92.9\"],\"x\":[92.89652922536658],\"y\":[0.10391634518989822]},\"selected\":{\"id\":\"3246\",\"type\":\"Selection\"},\"selection_policy\":{\"id\":\"3247\",\"type\":\"UnionRenderers\"}},\"id\":\"3119\",\"type\":\"ColumnDataSource\"},{\"attributes\":{},\"id\":\"3092\",\"type\":\"PanTool\"},{\"attributes\":{},\"id\":\"3246\",\"type\":\"Selection\"},{\"attributes\":{\"line_color\":\"blue\",\"line_width\":1.5,\"x\":{\"field\":\"x\"},\"y\":{\"field\":\"y\"}},\"id\":\"3106\",\"type\":\"Line\"},{\"attributes\":{\"data_source\":{\"id\":\"3105\",\"type\":\"ColumnDataSource\"},\"glyph\":{\"id\":\"3106\",\"type\":\"Line\"},\"hover_glyph\":null,\"muted_glyph\":null,\"nonselection_glyph\":{\"id\":\"3107\",\"type\":\"Line\"},\"selection_glyph\":null,\"view\":{\"id\":\"3109\",\"type\":\"CDSView\"}},\"id\":\"3108\",\"type\":\"GlyphRenderer\"},{\"attributes\":{\"axis_label\":\"Number of reads\",\"formatter\":{\"id\":\"3237\",\"type\":\"BasicTickFormatter\"},\"ticker\":{\"id\":\"3088\",\"type\":\"BasicTicker\"}},\"id\":\"3087\",\"type\":\"LinearAxis\"},{\"attributes\":{\"callback\":null,\"data\":{\"x\":{\"__ndarray__\":\"qCTE0uf7UEB18ZCftAhRQEK+XWyBFVFAD4sqOU4iUUDcV/cFGy9RQKkkxNLnO1FAdvGQn7RIUUBDvl1sgVVRQBCLKjlOYlFA3Vf3BRtvUUCqJMTS53tRQHfxkJ+0iFFARL5dbIGVUUARiyo5TqJRQN5X9wUbr1FAqyTE0ue7UUB48ZCftMhRQEW+XWyB1VFAEosqOU7iUUDfV/cFG+9RQKwkxNLn+1FAefGQn7QIUkBGvl1sgRVSQBOLKjlOIlJA4Ff3BRsvUkCtJMTS5ztSQHrxkJ+0SFJAR75dbIFVUkAUiyo5TmJSQOFX9wUbb1JAriTE0ud7UkB78ZCftIhSQEi+XWyBlVJAFYsqOU6iUkDiV/cFG69SQK8kxNLnu1JAfPGQn7TIUkBJvl1sgdVSQBaLKjlO4lJA41f3BRvvUkCwJMTS5/tSQH3xkJ+0CFNASr5dbIEVU0AXiyo5TiJTQORX9wUbL1NAsSTE0uc7U0B+8ZCftEhTQEu+XWyBVVNAGIsqOU5iU0DlV/cFG29TQLIkxNLne1NAf/GQn7SIU0BMvl1sgZVTQBmLKjlOolNA5lf3BRuvU0CzJMTS57tTQIDxkJ+0yFNATb5dbIHVU0Aaiyo5TuJTQOdX9wUb71NAtCTE0uf7U0CB8ZCftAhUQE6+XWyBFVRAG4sqOU4iVEDoV/cFGy9UQLUkxNLnO1RAgvGQn7RIVEBPvl1sgVVUQByLKjlOYlRA6Vf3BRtvVEC2JMTS53tUQIPxkJ+0iFRAUL5dbIGVVEAdiyo5TqJUQOpX9wUbr1RAtyTE0ue7VECE8ZCftMhUQFG+XWyB1VRAHosqOU7iVEDrV/cFG+9UQLgkxNLn+1RAhfGQn7QIVUBSvl1sgRVVQB+LKjlOIlVA7Ff3BRsvVUC5JMTS5ztVQIbxkJ+0SFVAU75dbIFVVUAgiyo5TmJVQO1X9wUbb1VAuiTE0ud7VUCH8ZCftIhVQFS+XWyBlVVAIYsqOU6iVUDuV/cFG69VQLskxNLnu1VAiPGQn7TIVUBVvl1sgdVVQCKLKjlO4lVA71f3BRvvVUC8JMTS5/tVQInxkJ+0CFZAVr5dbIEVVkAjiyo5TiJWQPBX9wUbL1ZAvSTE0uc7VkCK8ZCftEhWQFe+XWyBVVZAJIsqOU5iVkDxV/cFG29WQL4kxNLne1ZAi/GQn7SIVkBYvl1sgZVWQCWLKjlOolZA8lf3BRuvVkC/JMTS57tWQIzxkJ+0yFZAWb5dbIHVVkAmiyo5TuJWQPNX9wUb71ZAwCTE0uf7VkCN8ZCftAhXQFq+XWyBFVdAJ4sqOU4iV0D0V/cFGy9XQMEkxNLnO1dAjvGQn7RIV0Bbvl1sgVVXQCiLKjlOYldA9Vf3BRtvV0DCJMTS53tXQI/xkJ+0iFdAXL5dbIGVV0Apiyo5TqJXQPZX9wUbr1dAwyTE0ue7V0CQ8ZCftMhXQF2+XWyB1VdAKosqOU7iV0D3V/cFG+9XQMQkxNLn+1dAkfGQn7QIWEBevl1sgRVYQCuLKjlOIlhA+Ff3BRsvWEDFJMTS5ztYQJLxkJ+0SFhAX75dbIFVWEAsiyo5TmJYQPlX9wUbb1hAxiTE0ud7WECT8ZCftIhYQGC+XWyBlVhALYsqOU6iWED6V/cFG69YQMckxNLnu1hAlPGQn7TIWEBhvl1sgdVYQA==\",\"dtype\":\"float64\",\"shape\":[158]},\"y\":{\"__ndarray__\":\"/k89gPcXHz/Hul2mbCghP0cCANOK+iE/BSnRHdw2Ij9xp9/xgToiP2nBgsilnSI/rHgso6g4JD/EwZzfzdwnP/Fk08NUvy0/pdbFSfl7Mj+NVZ5R+ck1P0sK8Pk9tDc/jghxzJibNz8Yyq2IYbA1Pw+G9fge0jI/Fi/9zoQOMD8GbF6SnjssPzGXiUUXYSo/rWIckkY1Kj+rlPvxmksrP2fuVaMolS0/c1MZUTqzMD9yTNuLU5ozP1u3yQfMsTc/IgSyyRg2PT8pb+Wls1FCPyZUMDVPZkc/Y9AccIlGTj90adeOmoVTPyZKUiztkVg/KlD8CPinXT+9Z4btqP9gP6Z2Aeavd2I/wMevBbkRYz/QP+hFo9JiP6wp3r255GE/LDLFCfuIYD/2ippWzQ1eP5axyQJrN1s/Mblzu8reWD/h2q67yy1XP91GAg7aP1Y/tlcjBnUxVj8sisnDrhVXPyIG3fY43lg/fk2fpllSWz/Pc6fLjCFeP5q1IC0VgWA/nUsD9f7fYT8g/VAoCxdjP2j8HbjwBmQ/6zMuataHZD/btKBwdH9kP9Opr3hYAGQ/AsiVY7pXYz8RnM73gPliP5C+VPddU2M/lxEseXWgZD9pKtilUtNmP4RCPBQnnWk/e4cV4IiMbD9scRg7YzZvP0B2Q+8brHA/WMwAuZhycT+QdNzICf1xP6U9jI9OYXI/0ni7Uf6xcj8OdO2Ru/1yP3Eak8laV3M/wXm8gIDccz9wieT2JbB0P5yT5Qeb6XU/X9cIMUaFdz9lkU4fB2V5P9p3oMwnYXs/gricyztdfT/+1OV+41J/PzxoCYcBp4A/NToNrNKvgT89CtHKsMeCP13eEGeH6IM/C0IDRIMBhT8NXFdTHfyFP0uNuB52xoY/p9XoJEpehz+euBTqOtWHP1M8rp/8SYg/JHm2lHnZiD+tRa7XT5GJPw+eHfBobIo/Hyn/yxZbiz8VYbU7TVCMP0hu8VcSS40/Sx9vJtZWjj9FEAbg5oOPPz7EpNVZb5A/So/0t642kT/To/XuxxqSP9Fk8ekcIpM/Z+IAvqpWlD+nZw/bQMCVP7/NxzZxXZc/fT63L+YhmT8ibUilwvyaP7LCeLhm4pw/oyxRqqrRnj++ItGcUmigP1QUengucqE/6cunu0mFoj90gtVRSJ2jP1DN+QIltqQ/Aht4q17QpT8OVQ7ypvKmP0dew+qQJ6g/OdyDB794qT9myvhMTuuqP9WRGVZ1gKw/tXK6ues5rj9YJ2V4cA+wP14GYCs3H7E/7M/AvkRXsj9UpRQtCMSzP6U/cBNrcLU/Y/qrsGNitz8OxgRJDpi5P5fiPNK7Brw/lQ+YwDmdvj9LGid6taTAP1Ki89+P/8E/Fog7mvhdwz+qKFDx9MHEPxUPs2Q7K8Y/uJri80yQxz+uCMl3HdrIP5FZw+QT5ck/gB5sHmGHyj8XRxz4QprKPyBwNQb7Aso/MbVJdPm4yD/KHAcMLsjGP6vZ1p2tT8Q/YhZDQlN9wT9Ntv7aAg69P6OxCirMRLc/7SwRVK/5sT9B5bOcStWqP3ocrId5aKM/WNOSF5dSmz8TqaxyKtGSP6P3ZovSgok/WSR/vnkfgT+dVh2A+N92P9MxCVYMgW4/8OpCm7FNZD+cLOpOe+daP4ZPDggHrFE/g9UCGT/zRj/hhMsotXE9Pw==\",\"dtype\":\"float64\",\"shape\":[158]}},\"selected\":{\"id\":\"3242\",\"type\":\"Selection\"},\"selection_policy\":{\"id\":\"3243\",\"type\":\"UnionRenderers\"}},\"id\":\"3105\",\"type\":\"ColumnDataSource\"},{\"attributes\":{\"angle\":{\"units\":\"rad\",\"value\":1.5707963267948966},\"text_color\":{\"value\":\"black\"},\"x\":{\"field\":\"x\"},\"y\":{\"field\":\"y\"}},\"id\":\"3114\",\"type\":\"Text\"},{\"attributes\":{\"bounds\":[75,100],\"callback\":null,\"end\":100,\"start\":75},\"id\":\"3110\",\"type\":\"Range1d\"},{\"attributes\":{},\"id\":\"3243\",\"type\":\"UnionRenderers\"},{\"attributes\":{\"source\":{\"id\":\"3119\",\"type\":\"ColumnDataSource\"}},\"id\":\"3123\",\"type\":\"CDSView\"},{\"attributes\":{},\"id\":\"3247\",\"type\":\"UnionRenderers\"},{\"attributes\":{},\"id\":\"3237\",\"type\":\"BasicTickFormatter\"},{\"attributes\":{\"source\":{\"id\":\"3105\",\"type\":\"ColumnDataSource\"}},\"id\":\"3109\",\"type\":\"CDSView\"},{\"attributes\":{\"dimension\":\"height\",\"line_width\":{\"value\":1.5},\"location\":95.13602437166833},\"id\":\"3112\",\"type\":\"Span\"},{\"attributes\":{},\"id\":\"3239\",\"type\":\"BasicTickFormatter\"},{\"attributes\":{\"angle\":{\"units\":\"rad\",\"value\":1.5707963267948966},\"text_alpha\":{\"value\":0.1},\"text_color\":{\"value\":\"black\"},\"x\":{\"field\":\"x\"},\"y\":{\"field\":\"y\"}},\"id\":\"3115\",\"type\":\"Text\"},{\"attributes\":{\"ticker\":{\"id\":\"3083\",\"type\":\"BasicTicker\"}},\"id\":\"3086\",\"type\":\"Grid\"},{\"attributes\":{},\"id\":\"3097\",\"type\":\"HelpTool\"},{\"attributes\":{\"bottom_units\":\"screen\",\"fill_alpha\":{\"value\":0.5},\"fill_color\":{\"value\":\"lightgrey\"},\"left_units\":\"screen\",\"level\":\"overlay\",\"line_alpha\":{\"value\":1.0},\"line_color\":{\"value\":\"black\"},\"line_dash\":[4,4],\"line_width\":{\"value\":2},\"render_mode\":\"css\",\"right_units\":\"screen\",\"top_units\":\"screen\"},\"id\":\"3241\",\"type\":\"BoxAnnotation\"},{\"attributes\":{\"text\":\"\"},\"id\":\"3236\",\"type\":\"Title\"},{\"attributes\":{\"source\":{\"id\":\"3113\",\"type\":\"ColumnDataSource\"}},\"id\":\"3117\",\"type\":\"CDSView\"},{\"attributes\":{},\"id\":\"3096\",\"type\":\"ResetTool\"},{\"attributes\":{\"callback\":null,\"data\":{\"text\":[\"Mode: 95.1\"],\"x\":[95.13602437166833],\"y\":[0.10391634518989822]},\"selected\":{\"id\":\"3244\",\"type\":\"Selection\"},\"selection_policy\":{\"id\":\"3245\",\"type\":\"UnionRenderers\"}},\"id\":\"3113\",\"type\":\"ColumnDataSource\"},{\"attributes\":{\"data_source\":{\"id\":\"3119\",\"type\":\"ColumnDataSource\"},\"glyph\":{\"id\":\"3120\",\"type\":\"Text\"},\"hover_glyph\":null,\"muted_glyph\":null,\"nonselection_glyph\":{\"id\":\"3121\",\"type\":\"Text\"},\"selection_glyph\":null,\"view\":{\"id\":\"3123\",\"type\":\"CDSView\"}},\"id\":\"3122\",\"type\":\"GlyphRenderer\"},{\"attributes\":{\"angle\":{\"units\":\"rad\",\"value\":1.5707963267948966},\"text_alpha\":{\"value\":0.1},\"text_color\":{\"value\":\"black\"},\"x\":{\"field\":\"x\"},\"y\":{\"field\":\"y\"}},\"id\":\"3121\",\"type\":\"Text\"},{\"attributes\":{\"angle\":{\"units\":\"rad\",\"value\":1.5707963267948966},\"text_color\":{\"value\":\"black\"},\"x\":{\"field\":\"x\"},\"y\":{\"field\":\"y\"}},\"id\":\"3120\",\"type\":\"Text\"},{\"attributes\":{},\"id\":\"3083\",\"type\":\"BasicTicker\"},{\"attributes\":{},\"id\":\"3095\",\"type\":\"SaveTool\"},{\"attributes\":{\"axis_label\":\"Read Accuracy\",\"formatter\":{\"id\":\"3239\",\"type\":\"BasicTickFormatter\"},\"ticker\":{\"id\":\"3083\",\"type\":\"BasicTicker\"}},\"id\":\"3082\",\"type\":\"LinearAxis\"},{\"attributes\":{\"data_source\":{\"id\":\"3113\",\"type\":\"ColumnDataSource\"},\"glyph\":{\"id\":\"3114\",\"type\":\"Text\"},\"hover_glyph\":null,\"muted_glyph\":null,\"nonselection_glyph\":{\"id\":\"3115\",\"type\":\"Text\"},\"selection_glyph\":null,\"view\":{\"id\":\"3117\",\"type\":\"CDSView\"}},\"id\":\"3116\",\"type\":\"GlyphRenderer\"},{\"attributes\":{\"dimension\":\"height\",\"line_width\":{\"value\":1.5},\"location\":92.89652922536658},\"id\":\"3118\",\"type\":\"Span\"},{\"attributes\":{},\"id\":\"3244\",\"type\":\"Selection\"}],\"root_ids\":[\"3073\"]},\"title\":\"Bokeh Application\",\"version\":\"1.4.0\"}};\n",
              "  var render_items = [{\"docid\":\"e181ea0c-f12e-4537-9dde-c5c80ef21a21\",\"roots\":{\"3073\":\"d66cfd6e-f8a3-4daa-ab3d-8d31517820a9\"}}];\n",
              "  root.Bokeh.embed.embed_items_notebook(docs_json, render_items);\n",
              "\n",
              "  }\n",
              "  if (root.Bokeh !== undefined) {\n",
              "    embed_document(root);\n",
              "  } else {\n",
              "    var attempts = 0;\n",
              "    var timer = setInterval(function(root) {\n",
              "      if (root.Bokeh !== undefined) {\n",
              "        clearInterval(timer);\n",
              "        embed_document(root);\n",
              "      } else {\n",
              "        attempts++;\n",
              "        if (attempts > 100) {\n",
              "          clearInterval(timer);\n",
              "          console.log(\"Bokeh: ERROR: Unable to run BokehJS code because BokehJS library is missing\");\n",
              "        }\n",
              "      }\n",
              "    }, 10, root)\n",
              "  }\n",
              "})(window);"
            ],
            "application/vnd.bokehjs_exec.v0+json": ""
          },
          "metadata": {
            "tags": [],
            "application/vnd.bokehjs_exec.v0+json": {
              "id": "3073"
            }
          }
        }
      ]
    },
    {
      "cell_type": "markdown",
      "metadata": {
        "id": "r8pe1WWI2JwI",
        "colab_type": "text"
      },
      "source": [
        "The statistics file has many other columns which are interesting to explore:"
      ]
    },
    {
      "cell_type": "code",
      "metadata": {
        "id": "lHts9EyC2SVp",
        "colab_type": "code",
        "outputId": "c9eef03a-135c-4d72-9335-55fe76fb494e",
        "colab": {
          "base_uri": "https://localhost:8080/",
          "height": 408
        }
      },
      "source": [
        "aln_summary.info()"
      ],
      "execution_count": 0,
      "outputs": [
        {
          "output_type": "stream",
          "text": [
            "<class 'pandas.core.frame.DataFrame'>\n",
            "RangeIndex: 7827 entries, 0 to 7826\n",
            "Data columns (total 18 columns):\n",
            "name               7827 non-null object\n",
            "ref                7827 non-null object\n",
            "coverage           7827 non-null float64\n",
            "ref_coverage       7827 non-null float64\n",
            "qstart             7827 non-null int64\n",
            "qend               7827 non-null int64\n",
            "rstart             7827 non-null int64\n",
            "rend               7827 non-null int64\n",
            "aligned_ref_len    7827 non-null int64\n",
            "direction          7827 non-null object\n",
            "length             7827 non-null int64\n",
            "read_length        7827 non-null int64\n",
            "match              7827 non-null int64\n",
            "ins                7827 non-null int64\n",
            "del                7827 non-null int64\n",
            "sub                7827 non-null int64\n",
            "iden               7827 non-null float64\n",
            "acc                7827 non-null float64\n",
            "dtypes: float64(4), int64(11), object(3)\n",
            "memory usage: 1.1+ MB\n"
          ],
          "name": "stdout"
        }
      ]
    },
    {
      "cell_type": "markdown",
      "metadata": {
        "id": "ouPONyB_15DB",
        "colab_type": "text"
      },
      "source": [
        "## On Target Depth\n",
        "\n",
        "In this section we will examine the depth of sequencing for each of the target regions, and count reads aligning to other genomic locations.\n",
        "\n",
        "For this purpose and throughout the rest of this tutorial we will use the [`Pyranges`](https://github.com/biocore-ntnu/pyranges) library."
      ]
    },
    {
      "cell_type": "markdown",
      "metadata": {
        "id": "aNVgJzCW-Mcr",
        "colab_type": "text"
      },
      "source": [
        "### Simple Overlaps\n",
        "\n",
        "As a first look at the data lets tabulate the number of reads overlapping each target. "
      ]
    },
    {
      "cell_type": "code",
      "metadata": {
        "id": "wfov7Ve3bAL3",
        "colab_type": "code",
        "cellView": "both",
        "outputId": "352a3b08-1540-4708-ca0b-067ee522ad6b",
        "colab": {
          "base_uri": "https://localhost:8080/",
          "height": 359
        }
      },
      "source": [
        "import pyranges as pr\n",
        "\n",
        "targets = region_bed[['chrom','start','end','tname']].rename(\n",
        "    columns={'chrom':'Chromosome','start':'Start','end':'End'}\n",
        ")\n",
        "targets = pr.PyRanges(targets)\n",
        "\n",
        "reads = aln_summary.rename(\n",
        "    columns = {'ref':'Chromosome','rstart':'Start','rend':'End', 'direction':'Strand'}\n",
        ")\n",
        "reads = pr.PyRanges(reads)\n",
        "ovl_summary = targets.count_overlaps(reads)\n",
        "ovl_summary.df"
      ],
      "execution_count": 28,
      "outputs": [
        {
          "output_type": "execute_result",
          "data": {
            "text/plain": [
              "  Chromosome      Start        End    tname  NumberOverlaps\n",
              "0       chr1  155180400  155200000     MUC1              28\n",
              "1       chr4    3072000    3078000      HTT              84\n",
              "2       chr6  170556800  170566300    SCA17              76\n",
              "3       chr9   27571600   27577500  C9orf72              39\n",
              "4      chr11    2158100    2167500      INS              55\n",
              "5      chr12  111596700  111603400     SCA2             231\n",
              "6      chr14   92067100   92075400     SCA3              95\n",
              "7      chr19   13204400   13211100     SCA6              62\n",
              "8      chr22   45791500   45799400    SCA10             124\n",
              "9       chrX  147910700  147933700     FMR1              70"
            ],
            "text/html": [
              "<div>\n",
              "<style scoped>\n",
              "    .dataframe tbody tr th:only-of-type {\n",
              "        vertical-align: middle;\n",
              "    }\n",
              "\n",
              "    .dataframe tbody tr th {\n",
              "        vertical-align: top;\n",
              "    }\n",
              "\n",
              "    .dataframe thead th {\n",
              "        text-align: right;\n",
              "    }\n",
              "</style>\n",
              "<table border=\"1\" class=\"dataframe\">\n",
              "  <thead>\n",
              "    <tr style=\"text-align: right;\">\n",
              "      <th></th>\n",
              "      <th>Chromosome</th>\n",
              "      <th>Start</th>\n",
              "      <th>End</th>\n",
              "      <th>tname</th>\n",
              "      <th>NumberOverlaps</th>\n",
              "    </tr>\n",
              "  </thead>\n",
              "  <tbody>\n",
              "    <tr>\n",
              "      <th>0</th>\n",
              "      <td>chr1</td>\n",
              "      <td>155180400</td>\n",
              "      <td>155200000</td>\n",
              "      <td>MUC1</td>\n",
              "      <td>28</td>\n",
              "    </tr>\n",
              "    <tr>\n",
              "      <th>1</th>\n",
              "      <td>chr4</td>\n",
              "      <td>3072000</td>\n",
              "      <td>3078000</td>\n",
              "      <td>HTT</td>\n",
              "      <td>84</td>\n",
              "    </tr>\n",
              "    <tr>\n",
              "      <th>2</th>\n",
              "      <td>chr6</td>\n",
              "      <td>170556800</td>\n",
              "      <td>170566300</td>\n",
              "      <td>SCA17</td>\n",
              "      <td>76</td>\n",
              "    </tr>\n",
              "    <tr>\n",
              "      <th>3</th>\n",
              "      <td>chr9</td>\n",
              "      <td>27571600</td>\n",
              "      <td>27577500</td>\n",
              "      <td>C9orf72</td>\n",
              "      <td>39</td>\n",
              "    </tr>\n",
              "    <tr>\n",
              "      <th>4</th>\n",
              "      <td>chr11</td>\n",
              "      <td>2158100</td>\n",
              "      <td>2167500</td>\n",
              "      <td>INS</td>\n",
              "      <td>55</td>\n",
              "    </tr>\n",
              "    <tr>\n",
              "      <th>5</th>\n",
              "      <td>chr12</td>\n",
              "      <td>111596700</td>\n",
              "      <td>111603400</td>\n",
              "      <td>SCA2</td>\n",
              "      <td>231</td>\n",
              "    </tr>\n",
              "    <tr>\n",
              "      <th>6</th>\n",
              "      <td>chr14</td>\n",
              "      <td>92067100</td>\n",
              "      <td>92075400</td>\n",
              "      <td>SCA3</td>\n",
              "      <td>95</td>\n",
              "    </tr>\n",
              "    <tr>\n",
              "      <th>7</th>\n",
              "      <td>chr19</td>\n",
              "      <td>13204400</td>\n",
              "      <td>13211100</td>\n",
              "      <td>SCA6</td>\n",
              "      <td>62</td>\n",
              "    </tr>\n",
              "    <tr>\n",
              "      <th>8</th>\n",
              "      <td>chr22</td>\n",
              "      <td>45791500</td>\n",
              "      <td>45799400</td>\n",
              "      <td>SCA10</td>\n",
              "      <td>124</td>\n",
              "    </tr>\n",
              "    <tr>\n",
              "      <th>9</th>\n",
              "      <td>chrX</td>\n",
              "      <td>147910700</td>\n",
              "      <td>147933700</td>\n",
              "      <td>FMR1</td>\n",
              "      <td>70</td>\n",
              "    </tr>\n",
              "  </tbody>\n",
              "</table>\n",
              "</div>"
            ]
          },
          "metadata": {
            "tags": []
          },
          "execution_count": 28
        }
      ]
    },
    {
      "cell_type": "markdown",
      "metadata": {
        "id": "yexF406nbMRW",
        "colab_type": "text"
      },
      "source": [
        "The table above summaries the number of times a read overlaps one of the targets. We can also think about the inverse problem, how many times the targets intersect the reads; this allows us to calculate approximately numbers of on-target and off-target bases:"
      ]
    },
    {
      "cell_type": "code",
      "metadata": {
        "id": "OsBBwT8EgUrs",
        "colab_type": "code",
        "outputId": "f1f919fc-3f40-4231-a31b-ae3ec6543243",
        "colab": {
          "base_uri": "https://localhost:8080/",
          "height": 142
        }
      },
      "source": [
        "# get on/off target reads\n",
        "ovl = reads.count_overlaps(targets)\n",
        "on_target = ovl[ovl.NumberOverlaps > 0]\n",
        "off_target = ovl[ovl.NumberOverlaps == 0]\n",
        "def summarize(df):\n",
        "    count = len(df)\n",
        "    bases = sum(df.End) - sum(df.Start)\n",
        "    ave_len = int(df.read_length.mean())\n",
        "    return count, bases // 1000, ave_len\n",
        "on_stats = summarize(on_target)\n",
        "off_stats = summarize(off_target)\n",
        "all_stats = summarize(ovl)\n",
        "\n",
        "info = pd.DataFrame([\n",
        "        on_stats, off_stats, all_stats],\n",
        "    columns=['Reads', 'Bases / k', 'Mean Read Length'],\n",
        "    index=['On target', 'Non-target', 'All'],\n",
        "    ).transpose()\n",
        "display(info)"
      ],
      "execution_count": 29,
      "outputs": [
        {
          "output_type": "display_data",
          "data": {
            "text/plain": [
              "                  On target  Non-target    All\n",
              "Reads                   864        6963   7827\n",
              "Bases / k              4785       64253  69038\n",
              "Mean Read Length       5501        9348   8924"
            ],
            "text/html": [
              "<div>\n",
              "<style scoped>\n",
              "    .dataframe tbody tr th:only-of-type {\n",
              "        vertical-align: middle;\n",
              "    }\n",
              "\n",
              "    .dataframe tbody tr th {\n",
              "        vertical-align: top;\n",
              "    }\n",
              "\n",
              "    .dataframe thead th {\n",
              "        text-align: right;\n",
              "    }\n",
              "</style>\n",
              "<table border=\"1\" class=\"dataframe\">\n",
              "  <thead>\n",
              "    <tr style=\"text-align: right;\">\n",
              "      <th></th>\n",
              "      <th>On target</th>\n",
              "      <th>Non-target</th>\n",
              "      <th>All</th>\n",
              "    </tr>\n",
              "  </thead>\n",
              "  <tbody>\n",
              "    <tr>\n",
              "      <th>Reads</th>\n",
              "      <td>864</td>\n",
              "      <td>6963</td>\n",
              "      <td>7827</td>\n",
              "    </tr>\n",
              "    <tr>\n",
              "      <th>Bases / k</th>\n",
              "      <td>4785</td>\n",
              "      <td>64253</td>\n",
              "      <td>69038</td>\n",
              "    </tr>\n",
              "    <tr>\n",
              "      <th>Mean Read Length</th>\n",
              "      <td>5501</td>\n",
              "      <td>9348</td>\n",
              "      <td>8924</td>\n",
              "    </tr>\n",
              "  </tbody>\n",
              "</table>\n",
              "</div>"
            ]
          },
          "metadata": {
            "tags": []
          }
        }
      ]
    },
    {
      "cell_type": "markdown",
      "metadata": {
        "id": "0QljJLeqmDkh",
        "colab_type": "text"
      },
      "source": [
        "### Genome tiles\n",
        "\n",
        "In order to quickly calculate more detailed statistics (and create informative plots), we will use a tiling technique. We will split the reference genome into uniformly sized tiles; for each reference tile we can calculate the overlapping reads. We create a tile for both the `+` and the `-` DNA strand. For the reference we construct the tiles using the `pysam` library to read the `reference_genome` file:"
      ]
    },
    {
      "cell_type": "code",
      "metadata": {
        "id": "0MhFrueipRmp",
        "colab_type": "code",
        "colab": {}
      },
      "source": [
        "import pysam\n",
        "tile_size = 100\n",
        "\n",
        "ref = pysam.FastaFile(reference_genome)\n",
        "ref_tiles = pr.concat([\n",
        "    pr.PyRanges(\n",
        "        chromosomes=ref.references,\n",
        "        starts=[0] * ref.nreferences,\n",
        "        ends=ref.lengths,\n",
        "        strands=[strand] * ref.nreferences).tile(tile_size=tile_size)\n",
        "    for strand in '+-'])"
      ],
      "execution_count": 0,
      "outputs": []
    },
    {
      "cell_type": "markdown",
      "metadata": {
        "id": "KNcXp8sm2h1N",
        "colab_type": "text"
      },
      "source": [
        "We will also define a small helper function to annotate genomic regions with additional information:"
      ]
    },
    {
      "cell_type": "code",
      "metadata": {
        "id": "BsMTwAGdrBvg",
        "colab_type": "code",
        "cellView": "form",
        "colab": {}
      },
      "source": [
        "#@markdown **set_column** function for annotating regions\n",
        "def set_column(pyr, chrom, loc, column, value, strand=None):\n",
        "    \"\"\"Sets a column of a `PyRange` to a specified value.\n",
        "    \n",
        "    :param pyr: a `PyRange`.\n",
        "    :param chrom: a chromosome.\n",
        "    :param loc: a `Slice` (start, stop).\n",
        "    :param column: column name.\n",
        "    :param value: value to set the column.\n",
        "    \"\"\"\n",
        "    from pyranges.subset import find_overlaps\n",
        "\n",
        "    keys = [chrom]\n",
        "    if pyr.stranded:\n",
        "        keys = [(chrom, x) for x in '+-']\n",
        "\n",
        "    for key in keys:\n",
        "        dfs = {key: pyr.dfs[key]}\n",
        "        max_end = list(dfs.values())[0].End.max()\n",
        "    \n",
        "        start = loc.start or 0\n",
        "        stop = loc.stop or max(max_end, start)\n",
        "        for k, df in dfs.items():\n",
        "            idx = find_overlaps(df, start, stop)\n",
        "            df.loc[idx, column] = value"
      ],
      "execution_count": 0,
      "outputs": []
    },
    {
      "cell_type": "markdown",
      "metadata": {
        "id": "nncz93li4DLF",
        "colab_type": "text"
      },
      "source": [
        "To proceed we will first use the function defined above to annotate our genome tiles and our reads with their target:"
      ]
    },
    {
      "cell_type": "code",
      "metadata": {
        "id": "UYxGdiwJ4GUp",
        "colab_type": "code",
        "outputId": "cdb25720-e1ca-4027-c93d-eac627f0dad5",
        "colab": {
          "base_uri": "https://localhost:8080/",
          "height": 204
        }
      },
      "source": [
        "# Label reference genome tiles, and the reads\n",
        "ref_tiles.tname = 'Non-Target'\n",
        "reads.tname = 'Non-Target'\n",
        "for chrom, df in targets:\n",
        "    for _, t in df.iterrows():\n",
        "        print(\"Labelling {}\".format(t.tname), end=\"...\")\n",
        "        print(\"ref tiles\", end='...')\n",
        "        set_column(\n",
        "            ref_tiles, t.Chromosome, slice(t.Start, t.End),\n",
        "            'tname', t.tname)\n",
        "        print('read tiles', end='...')\n",
        "        set_column(\n",
        "            reads, t.Chromosome, slice(t.Start, t.End),\n",
        "            'tname', t.tname)\n",
        "        print()\n",
        "# count overlaps of read tiles to ref_tiles (similar to before)\n",
        "print('Calculating read hits')\n",
        "hits = ref_tiles.count_overlaps(reads, strandedness='same')"
      ],
      "execution_count": 32,
      "outputs": [
        {
          "output_type": "stream",
          "text": [
            "Labelling MUC1...ref tiles...read tiles...\n",
            "Labelling HTT...ref tiles...read tiles...\n",
            "Labelling SCA17...ref tiles...read tiles...\n",
            "Labelling C9orf72...ref tiles...read tiles...\n",
            "Labelling INS...ref tiles...read tiles...\n",
            "Labelling SCA2...ref tiles...read tiles...\n",
            "Labelling SCA3...ref tiles...read tiles...\n",
            "Labelling SCA6...ref tiles...read tiles...\n",
            "Labelling SCA10...ref tiles...read tiles...\n",
            "Labelling FMR1...ref tiles...read tiles...\n",
            "Calculating read hits\n"
          ],
          "name": "stdout"
        }
      ]
    },
    {
      "cell_type": "markdown",
      "metadata": {
        "id": "Lo_0bEA07lcy",
        "colab_type": "text"
      },
      "source": [
        "Having prepared these tables we can now query them in various ways. Let's summarise the information we have for each target:"
      ]
    },
    {
      "cell_type": "code",
      "metadata": {
        "id": "w0FxCkA375KA",
        "colab_type": "code",
        "outputId": "9f7d6faa-c850-40e8-c061-173b75a96403",
        "cellView": "form",
        "colab": {
          "base_uri": "https://localhost:8080/",
          "height": 529
        }
      },
      "source": [
        "#@markdown **Target summary code** *(click to show)*\n",
        "def target_info(target_name, targets, hits, reads):\n",
        "    print('Getting statistics for {}.'.format(target_name))\n",
        "    info = targets[targets.tname == target_name].df\n",
        "    # Find intersecting hits\n",
        "    t_hits = hits.intersect(pr.PyRanges(info)).df\n",
        "    t_reads = reads.df[reads.df['tname'] == target_name]\n",
        "\n",
        "    info['tsize'] = info.End - info.Start\n",
        "    # use the tiles to calculate bases on target as parts of reads\n",
        "    # may not overlap\n",
        "    info['kbases'] = tile_size * t_hits['NumberOverlaps'].sum() / 1000\n",
        "    info['mean_coverage'] = t_hits['NumberOverlaps'].mean()  \n",
        "    if len(t_reads) > 0:\n",
        "        info['nreads'] = t_reads['name'].unique().size\n",
        "        info['mean_read_length'] = t_reads['read_length'].mean()\n",
        "        info['mean_accuracy'] = t_reads['acc'].mean()\n",
        "        fwd, rev = (len(t_reads[t_reads['Strand'] == x]) for x in '+-')\n",
        "        info['strand_bias'] = (fwd - rev) / (fwd + rev) \n",
        "    else:\n",
        "        info['nreads'] = 0\n",
        "        info['mean_read_length'] = np.nan\n",
        "        info['mean_accuracy'] = np.nan\n",
        "        info['strand_bias'] = 0   \n",
        "    return info\n",
        "\n",
        "target_summary = list()\n",
        "for target in target_names:\n",
        "    target_summary.append(target_info(\n",
        "        target, targets, hits, reads\n",
        "    ))\n",
        "target_summary = pd.concat(target_summary).rename(columns={\n",
        "    'Chromosome':'chrom', 'Start':'start', 'End':'end'})\n",
        "pd.options.display.float_format = '{:,.2f}'.format\n",
        "display(target_summary)"
      ],
      "execution_count": 33,
      "outputs": [
        {
          "output_type": "stream",
          "text": [
            "Getting statistics for MUC1.\n",
            "Getting statistics for HTT.\n",
            "Getting statistics for SCA17.\n",
            "Getting statistics for C9orf72.\n",
            "Getting statistics for INS.\n",
            "Getting statistics for SCA2.\n",
            "Getting statistics for SCA3.\n",
            "Getting statistics for SCA6.\n",
            "Getting statistics for SCA10.\n",
            "Getting statistics for FMR1.\n"
          ],
          "name": "stdout"
        },
        {
          "output_type": "display_data",
          "data": {
            "text/plain": [
              "   chrom      start        end    tname  tsize  kbases  mean_coverage  nreads  \\\n",
              "0   chr1  155180400  155200000     MUC1  19600  269.70           6.88      28   \n",
              "1   chr4    3072000    3078000      HTT   6000  363.70          30.31      84   \n",
              "2   chr6  170556800  170566300    SCA17   9500  447.10          23.53      76   \n",
              "3   chr9   27571600   27577500  C9orf72   5900   80.10           6.79      39   \n",
              "4  chr11    2158100    2167500      INS   9400  246.70          13.12      55   \n",
              "5  chr12  111596700  111603400     SCA2   6700  564.70          42.14     231   \n",
              "6  chr14   92067100   92075400     SCA3   8300  385.20          23.20      95   \n",
              "7  chr19   13204400   13211100     SCA6   6700  255.30          19.05      62   \n",
              "8  chr22   45791500   45799400    SCA10   7900  627.00          39.68     124   \n",
              "9   chrX  147910700  147933700     FMR1  23000  808.50          17.58      70   \n",
              "\n",
              "   mean_read_length  mean_accuracy  strand_bias  \n",
              "0         10,618.14          87.95        -0.14  \n",
              "1          4,432.71          91.97        -0.12  \n",
              "2          6,415.24          92.89         0.08  \n",
              "3          2,201.95          91.63        -0.38  \n",
              "4          5,142.13          89.65         0.27  \n",
              "5          2,529.79          92.37         0.06  \n",
              "6          5,290.09          93.27        -0.07  \n",
              "7          6,689.50          90.29        -0.35  \n",
              "8          5,019.86          93.36        -0.06  \n",
              "9         15,762.01          92.85         0.11  "
            ],
            "text/html": [
              "<div>\n",
              "<style scoped>\n",
              "    .dataframe tbody tr th:only-of-type {\n",
              "        vertical-align: middle;\n",
              "    }\n",
              "\n",
              "    .dataframe tbody tr th {\n",
              "        vertical-align: top;\n",
              "    }\n",
              "\n",
              "    .dataframe thead th {\n",
              "        text-align: right;\n",
              "    }\n",
              "</style>\n",
              "<table border=\"1\" class=\"dataframe\">\n",
              "  <thead>\n",
              "    <tr style=\"text-align: right;\">\n",
              "      <th></th>\n",
              "      <th>chrom</th>\n",
              "      <th>start</th>\n",
              "      <th>end</th>\n",
              "      <th>tname</th>\n",
              "      <th>tsize</th>\n",
              "      <th>kbases</th>\n",
              "      <th>mean_coverage</th>\n",
              "      <th>nreads</th>\n",
              "      <th>mean_read_length</th>\n",
              "      <th>mean_accuracy</th>\n",
              "      <th>strand_bias</th>\n",
              "    </tr>\n",
              "  </thead>\n",
              "  <tbody>\n",
              "    <tr>\n",
              "      <th>0</th>\n",
              "      <td>chr1</td>\n",
              "      <td>155180400</td>\n",
              "      <td>155200000</td>\n",
              "      <td>MUC1</td>\n",
              "      <td>19600</td>\n",
              "      <td>269.70</td>\n",
              "      <td>6.88</td>\n",
              "      <td>28</td>\n",
              "      <td>10,618.14</td>\n",
              "      <td>87.95</td>\n",
              "      <td>-0.14</td>\n",
              "    </tr>\n",
              "    <tr>\n",
              "      <th>1</th>\n",
              "      <td>chr4</td>\n",
              "      <td>3072000</td>\n",
              "      <td>3078000</td>\n",
              "      <td>HTT</td>\n",
              "      <td>6000</td>\n",
              "      <td>363.70</td>\n",
              "      <td>30.31</td>\n",
              "      <td>84</td>\n",
              "      <td>4,432.71</td>\n",
              "      <td>91.97</td>\n",
              "      <td>-0.12</td>\n",
              "    </tr>\n",
              "    <tr>\n",
              "      <th>2</th>\n",
              "      <td>chr6</td>\n",
              "      <td>170556800</td>\n",
              "      <td>170566300</td>\n",
              "      <td>SCA17</td>\n",
              "      <td>9500</td>\n",
              "      <td>447.10</td>\n",
              "      <td>23.53</td>\n",
              "      <td>76</td>\n",
              "      <td>6,415.24</td>\n",
              "      <td>92.89</td>\n",
              "      <td>0.08</td>\n",
              "    </tr>\n",
              "    <tr>\n",
              "      <th>3</th>\n",
              "      <td>chr9</td>\n",
              "      <td>27571600</td>\n",
              "      <td>27577500</td>\n",
              "      <td>C9orf72</td>\n",
              "      <td>5900</td>\n",
              "      <td>80.10</td>\n",
              "      <td>6.79</td>\n",
              "      <td>39</td>\n",
              "      <td>2,201.95</td>\n",
              "      <td>91.63</td>\n",
              "      <td>-0.38</td>\n",
              "    </tr>\n",
              "    <tr>\n",
              "      <th>4</th>\n",
              "      <td>chr11</td>\n",
              "      <td>2158100</td>\n",
              "      <td>2167500</td>\n",
              "      <td>INS</td>\n",
              "      <td>9400</td>\n",
              "      <td>246.70</td>\n",
              "      <td>13.12</td>\n",
              "      <td>55</td>\n",
              "      <td>5,142.13</td>\n",
              "      <td>89.65</td>\n",
              "      <td>0.27</td>\n",
              "    </tr>\n",
              "    <tr>\n",
              "      <th>5</th>\n",
              "      <td>chr12</td>\n",
              "      <td>111596700</td>\n",
              "      <td>111603400</td>\n",
              "      <td>SCA2</td>\n",
              "      <td>6700</td>\n",
              "      <td>564.70</td>\n",
              "      <td>42.14</td>\n",
              "      <td>231</td>\n",
              "      <td>2,529.79</td>\n",
              "      <td>92.37</td>\n",
              "      <td>0.06</td>\n",
              "    </tr>\n",
              "    <tr>\n",
              "      <th>6</th>\n",
              "      <td>chr14</td>\n",
              "      <td>92067100</td>\n",
              "      <td>92075400</td>\n",
              "      <td>SCA3</td>\n",
              "      <td>8300</td>\n",
              "      <td>385.20</td>\n",
              "      <td>23.20</td>\n",
              "      <td>95</td>\n",
              "      <td>5,290.09</td>\n",
              "      <td>93.27</td>\n",
              "      <td>-0.07</td>\n",
              "    </tr>\n",
              "    <tr>\n",
              "      <th>7</th>\n",
              "      <td>chr19</td>\n",
              "      <td>13204400</td>\n",
              "      <td>13211100</td>\n",
              "      <td>SCA6</td>\n",
              "      <td>6700</td>\n",
              "      <td>255.30</td>\n",
              "      <td>19.05</td>\n",
              "      <td>62</td>\n",
              "      <td>6,689.50</td>\n",
              "      <td>90.29</td>\n",
              "      <td>-0.35</td>\n",
              "    </tr>\n",
              "    <tr>\n",
              "      <th>8</th>\n",
              "      <td>chr22</td>\n",
              "      <td>45791500</td>\n",
              "      <td>45799400</td>\n",
              "      <td>SCA10</td>\n",
              "      <td>7900</td>\n",
              "      <td>627.00</td>\n",
              "      <td>39.68</td>\n",
              "      <td>124</td>\n",
              "      <td>5,019.86</td>\n",
              "      <td>93.36</td>\n",
              "      <td>-0.06</td>\n",
              "    </tr>\n",
              "    <tr>\n",
              "      <th>9</th>\n",
              "      <td>chrX</td>\n",
              "      <td>147910700</td>\n",
              "      <td>147933700</td>\n",
              "      <td>FMR1</td>\n",
              "      <td>23000</td>\n",
              "      <td>808.50</td>\n",
              "      <td>17.58</td>\n",
              "      <td>70</td>\n",
              "      <td>15,762.01</td>\n",
              "      <td>92.85</td>\n",
              "      <td>0.11</td>\n",
              "    </tr>\n",
              "  </tbody>\n",
              "</table>\n",
              "</div>"
            ]
          },
          "metadata": {
            "tags": []
          }
        }
      ]
    },
    {
      "cell_type": "markdown",
      "metadata": {
        "id": "G8eimQLGM1k7",
        "colab_type": "text"
      },
      "source": [
        "Using the tiling statistics we can make coverage plots for any region. "
      ]
    },
    {
      "cell_type": "code",
      "metadata": {
        "id": "pPJurv3L3X2V",
        "colab_type": "code",
        "cellView": "form",
        "outputId": "0c89629c-b3cc-4262-d593-b08b83df4c7a",
        "colab": {
          "base_uri": "https://localhost:8080/",
          "height": 402,
          "referenced_widgets": [
            "1caf8941b27f4880963c761ceb9f2934",
            "5b021677ebbe4d97940db2a77e09c49c",
            "e370de932abd4577b1067c0e887a82cd",
            "4537728dac6842db85d86329662e07ee",
            "fee263e488bc49a4960fc3721891cb1d",
            "9a4ebecfd33543078fef00a02316fae3"
          ]
        }
      },
      "source": [
        "#@markdown **Coverage plot code** (*click to show*)\n",
        "import ipywidgets as widgets\n",
        "import matplotlib.pyplot as plt\n",
        "from matplotlib.ticker import MaxNLocator\n",
        "\n",
        "def plot_target(target=target_names[0]):\n",
        "    info = targets[targets.tname == target].df\n",
        "    # filter to target (both strands)\n",
        "    t = hits.intersect(pr.PyRanges(info)).df\n",
        "    display(info)\n",
        "    \n",
        "    fig, ax = plt.subplots()\n",
        "    ax.ticklabel_format(style='plain')\n",
        "    ax.yaxis.set_major_locator(MaxNLocator(integer=True))\n",
        "    for strand, lc in zip('+-', ('sienna', 'forestgreen')):\n",
        "        tstrand = t[t['Strand'] == strand]\n",
        "        ax.plot(\n",
        "            tstrand.Start, tstrand.NumberOverlaps, lc,\n",
        "            label=strand)\n",
        "    ax.legend()\n",
        "    plt.xlim(t['Start'].min() - 5000, t['End'].max() + 5000)\n",
        "    plt.xticks(rotation=30)\n",
        "    plt.xlabel('position')\n",
        "    plt.ylabel('coverage')\n",
        "    plt.show()\n",
        "\n",
        "default_target = target_names[0]\n",
        "widgets.interactive(\n",
        "    plot_target, target=target_names)\n"
      ],
      "execution_count": 34,
      "outputs": [
        {
          "output_type": "display_data",
          "data": {
            "text/plain": [
              "interactive(children=(Dropdown(description='target', options=('MUC1', 'HTT', 'SCA17', 'C9orf72', 'INS', 'SCA2'…"
            ],
            "application/vnd.jupyter.widget-view+json": {
              "version_major": 2,
              "version_minor": 0,
              "model_id": "1caf8941b27f4880963c761ceb9f2934"
            }
          },
          "metadata": {
            "tags": []
          }
        }
      ]
    },
    {
      "cell_type": "markdown",
      "metadata": {
        "id": "dnpp_T6dZsX_",
        "colab_type": "text"
      },
      "source": [
        "## Examining Non-Target Sequencing\n",
        "\n",
        "An important consideration for the Cas9 enrichment protocol is the throughput of sequencing not overlapping the target regions. These effects can be broken down further into three types:\n",
        "\n",
        "1.   **Target proximal** --- sequencing occurring around the target region.\n",
        "2.   **Off-target** --- enrichment of loci other than those intended, identified as high coverage regions which are not target regions.\n",
        "3.   **Background** --- non-specific sequencing, identified as low coverage sequencing throughout the genome.\n",
        "\n",
        "We will examine both of these effects in this section. In order to do this we will first identify the background level of sequencing. After this we can find regions which are not target regions but which have an abnormally high level of spanning reads."
      ]
    },
    {
      "cell_type": "markdown",
      "metadata": {
        "id": "U-eMhD2junJA",
        "colab_type": "text"
      },
      "source": [
        "### Calculating the background\n",
        "\n",
        "In order to calculate the background sequencing effect we will first calculate collectively the background and off-target effects. By using the overlaps of reads to the genome tiles calculated previously and subtracting the target regions and proximal regions we obtain the desired result:"
      ]
    },
    {
      "cell_type": "code",
      "metadata": {
        "id": "blsXj7aJLrj6",
        "colab_type": "code",
        "colab": {
          "base_uri": "https://localhost:8080/",
          "height": 68
        },
        "outputId": "32891f63-0b64-4564-e70a-b3a3b81d198e"
      },
      "source": [
        "def create_proximal(source, pad=1000):\n",
        "    \"\"\"Create `PyRanges` which flank a source `PyRanges`.\n",
        "\n",
        "    :param source: ranges for which to create flanks.\n",
        "    :param pad: length of flanking regions to create.\n",
        "    \"\"\"\n",
        "    lo = source.df.copy()\n",
        "    lo['End'] = lo['Start']\n",
        "    lo['Start'] = lo['Start'] - pad\n",
        "    lo.loc[lo['Start'] < 0, 'Start'] = 0\n",
        "    hi = source.df.copy()\n",
        "    hi['Start'] = hi['End']\n",
        "    hi['End'] = hi['Start'] + pad\n",
        "    return pr.PyRanges(pd.concat([lo, hi]))\n",
        "\n",
        "proximal = create_proximal(targets, int(0.5*aln_summary['read_length'].mean()))\n",
        "\n",
        "# background/off-target is anything not target or proximal\n",
        "print('Calculating non-target')\n",
        "non_hits = pr.PyRanges(hits.df[hits.df['NumberOverlaps'] > 0]) \\\n",
        "    .subtract(pr.concat([targets, proximal])).df\n",
        "# summarise targets\n",
        "print('Calculating target')\n",
        "target_hits = hits.overlap(targets).df\n",
        "target_hits.tname = 'On Target'\n",
        "# and proximal\n",
        "print('Calculating proximal')\n",
        "proximal_hits = hits.overlap(proximal).df\n",
        "proximal_hits.tname = 'Proximal'"
      ],
      "execution_count": 35,
      "outputs": [
        {
          "output_type": "stream",
          "text": [
            "Calculating non-target\n",
            "Calculating target\n",
            "Calculating proximal\n"
          ],
          "name": "stdout"
        }
      ]
    },
    {
      "cell_type": "markdown",
      "metadata": {
        "id": "V4Seq_YAWcm-",
        "colab_type": "text"
      },
      "source": [
        "Naturally determining the boundary between \"off-target\" and \"background\" using\n",
        "the coverage data is a heuristic. To get a qualitative feel for this distintiction we can plot a histogram of the number of genome tiles with defined coverage."
      ]
    },
    {
      "cell_type": "code",
      "metadata": {
        "id": "6JTGrv7kN-vO",
        "colab_type": "code",
        "cellView": "form",
        "outputId": "621fad3b-e9a9-4621-bf29-9866a7b57b1a",
        "colab": {
          "base_uri": "https://localhost:8080/",
          "height": 317
        }
      },
      "source": [
        "#@markdown **Tile coverage histogram code** (*click to show*)\n",
        "from aplanat import hist\n",
        "\n",
        "# create a histogram of non-target coverage\n",
        "# for reference, calculate the mean coverage for all target regions\n",
        "mean_target_coverage = target_summary['mean_coverage'].mean()\n",
        "\n",
        "# create a figure\n",
        "plot = hist.histogram(\n",
        "    [non_hits['NumberOverlaps']], binwidth=1, xlim=(0, mean_target_coverage + 5),\n",
        "    title=\"Non-target Coverage\")\n",
        "annot.marker_vline(plot,\n",
        "    mean_target_coverage,\n",
        "    label='{}: {:.0f}'.format('Mean on-target', mean_target_coverage))\n",
        "# add axis labels\n",
        "plot.xaxis.axis_label = 'Background Coverage (stranded)'\n",
        "plot.yaxis.axis_label = '# tiles'\n",
        "aplanat.show(plot)"
      ],
      "execution_count": 42,
      "outputs": [
        {
          "output_type": "display_data",
          "data": {
            "application/javascript": [
              "\n",
              "(function(root) {\n",
              "  function now() {\n",
              "    return new Date();\n",
              "  }\n",
              "\n",
              "  var force = true;\n",
              "\n",
              "  if (typeof root._bokeh_onload_callbacks === \"undefined\" || force === true) {\n",
              "    root._bokeh_onload_callbacks = [];\n",
              "    root._bokeh_is_loading = undefined;\n",
              "  }\n",
              "\n",
              "  var JS_MIME_TYPE = 'application/javascript';\n",
              "  var HTML_MIME_TYPE = 'text/html';\n",
              "  var EXEC_MIME_TYPE = 'application/vnd.bokehjs_exec.v0+json';\n",
              "  var CLASS_NAME = 'output_bokeh rendered_html';\n",
              "\n",
              "  /**\n",
              "   * Render data to the DOM node\n",
              "   */\n",
              "  function render(props, node) {\n",
              "    var script = document.createElement(\"script\");\n",
              "    node.appendChild(script);\n",
              "  }\n",
              "\n",
              "  /**\n",
              "   * Handle when an output is cleared or removed\n",
              "   */\n",
              "  function handleClearOutput(event, handle) {\n",
              "    var cell = handle.cell;\n",
              "\n",
              "    var id = cell.output_area._bokeh_element_id;\n",
              "    var server_id = cell.output_area._bokeh_server_id;\n",
              "    // Clean up Bokeh references\n",
              "    if (id != null && id in Bokeh.index) {\n",
              "      Bokeh.index[id].model.document.clear();\n",
              "      delete Bokeh.index[id];\n",
              "    }\n",
              "\n",
              "    if (server_id !== undefined) {\n",
              "      // Clean up Bokeh references\n",
              "      var cmd = \"from bokeh.io.state import curstate; print(curstate().uuid_to_server['\" + server_id + \"'].get_sessions()[0].document.roots[0]._id)\";\n",
              "      cell.notebook.kernel.execute(cmd, {\n",
              "        iopub: {\n",
              "          output: function(msg) {\n",
              "            var id = msg.content.text.trim();\n",
              "            if (id in Bokeh.index) {\n",
              "              Bokeh.index[id].model.document.clear();\n",
              "              delete Bokeh.index[id];\n",
              "            }\n",
              "          }\n",
              "        }\n",
              "      });\n",
              "      // Destroy server and session\n",
              "      var cmd = \"import bokeh.io.notebook as ion; ion.destroy_server('\" + server_id + \"')\";\n",
              "      cell.notebook.kernel.execute(cmd);\n",
              "    }\n",
              "  }\n",
              "\n",
              "  /**\n",
              "   * Handle when a new output is added\n",
              "   */\n",
              "  function handleAddOutput(event, handle) {\n",
              "    var output_area = handle.output_area;\n",
              "    var output = handle.output;\n",
              "\n",
              "    // limit handleAddOutput to display_data with EXEC_MIME_TYPE content only\n",
              "    if ((output.output_type != \"display_data\") || (!output.data.hasOwnProperty(EXEC_MIME_TYPE))) {\n",
              "      return\n",
              "    }\n",
              "\n",
              "    var toinsert = output_area.element.find(\".\" + CLASS_NAME.split(' ')[0]);\n",
              "\n",
              "    if (output.metadata[EXEC_MIME_TYPE][\"id\"] !== undefined) {\n",
              "      toinsert[toinsert.length - 1].firstChild.textContent = output.data[JS_MIME_TYPE];\n",
              "      // store reference to embed id on output_area\n",
              "      output_area._bokeh_element_id = output.metadata[EXEC_MIME_TYPE][\"id\"];\n",
              "    }\n",
              "    if (output.metadata[EXEC_MIME_TYPE][\"server_id\"] !== undefined) {\n",
              "      var bk_div = document.createElement(\"div\");\n",
              "      bk_div.innerHTML = output.data[HTML_MIME_TYPE];\n",
              "      var script_attrs = bk_div.children[0].attributes;\n",
              "      for (var i = 0; i < script_attrs.length; i++) {\n",
              "        toinsert[toinsert.length - 1].firstChild.setAttribute(script_attrs[i].name, script_attrs[i].value);\n",
              "      }\n",
              "      // store reference to server id on output_area\n",
              "      output_area._bokeh_server_id = output.metadata[EXEC_MIME_TYPE][\"server_id\"];\n",
              "    }\n",
              "  }\n",
              "\n",
              "  function register_renderer(events, OutputArea) {\n",
              "\n",
              "    function append_mime(data, metadata, element) {\n",
              "      // create a DOM node to render to\n",
              "      var toinsert = this.create_output_subarea(\n",
              "        metadata,\n",
              "        CLASS_NAME,\n",
              "        EXEC_MIME_TYPE\n",
              "      );\n",
              "      this.keyboard_manager.register_events(toinsert);\n",
              "      // Render to node\n",
              "      var props = {data: data, metadata: metadata[EXEC_MIME_TYPE]};\n",
              "      render(props, toinsert[toinsert.length - 1]);\n",
              "      element.append(toinsert);\n",
              "      return toinsert\n",
              "    }\n",
              "\n",
              "    /* Handle when an output is cleared or removed */\n",
              "    events.on('clear_output.CodeCell', handleClearOutput);\n",
              "    events.on('delete.Cell', handleClearOutput);\n",
              "\n",
              "    /* Handle when a new output is added */\n",
              "    events.on('output_added.OutputArea', handleAddOutput);\n",
              "\n",
              "    /**\n",
              "     * Register the mime type and append_mime function with output_area\n",
              "     */\n",
              "    OutputArea.prototype.register_mime_type(EXEC_MIME_TYPE, append_mime, {\n",
              "      /* Is output safe? */\n",
              "      safe: true,\n",
              "      /* Index of renderer in `output_area.display_order` */\n",
              "      index: 0\n",
              "    });\n",
              "  }\n",
              "\n",
              "  // register the mime type if in Jupyter Notebook environment and previously unregistered\n",
              "  if (root.Jupyter !== undefined) {\n",
              "    var events = require('base/js/events');\n",
              "    var OutputArea = require('notebook/js/outputarea').OutputArea;\n",
              "\n",
              "    if (OutputArea.prototype.mime_types().indexOf(EXEC_MIME_TYPE) == -1) {\n",
              "      register_renderer(events, OutputArea);\n",
              "    }\n",
              "  }\n",
              "\n",
              "  \n",
              "  if (typeof (root._bokeh_timeout) === \"undefined\" || force === true) {\n",
              "    root._bokeh_timeout = Date.now() + 5000;\n",
              "    root._bokeh_failed_load = false;\n",
              "  }\n",
              "\n",
              "  var NB_LOAD_WARNING = {'data': {'text/html':\n",
              "     \"<div style='background-color: #fdd'>\\n\"+\n",
              "     \"<p>\\n\"+\n",
              "     \"BokehJS does not appear to have successfully loaded. If loading BokehJS from CDN, this \\n\"+\n",
              "     \"may be due to a slow or bad network connection. Possible fixes:\\n\"+\n",
              "     \"</p>\\n\"+\n",
              "     \"<ul>\\n\"+\n",
              "     \"<li>re-rerun `output_notebook()` to attempt to load from CDN again, or</li>\\n\"+\n",
              "     \"<li>use INLINE resources instead, as so:</li>\\n\"+\n",
              "     \"</ul>\\n\"+\n",
              "     \"<code>\\n\"+\n",
              "     \"from bokeh.resources import INLINE\\n\"+\n",
              "     \"output_notebook(resources=INLINE)\\n\"+\n",
              "     \"</code>\\n\"+\n",
              "     \"</div>\"}};\n",
              "\n",
              "  function display_loaded() {\n",
              "    var el = document.getElementById(null);\n",
              "    if (el != null) {\n",
              "      el.textContent = \"BokehJS is loading...\";\n",
              "    }\n",
              "    if (root.Bokeh !== undefined) {\n",
              "      if (el != null) {\n",
              "        el.textContent = \"BokehJS \" + root.Bokeh.version + \" successfully loaded.\";\n",
              "      }\n",
              "    } else if (Date.now() < root._bokeh_timeout) {\n",
              "      setTimeout(display_loaded, 100)\n",
              "    }\n",
              "  }\n",
              "\n",
              "\n",
              "  function run_callbacks() {\n",
              "    try {\n",
              "      root._bokeh_onload_callbacks.forEach(function(callback) {\n",
              "        if (callback != null)\n",
              "          callback();\n",
              "      });\n",
              "    } finally {\n",
              "      delete root._bokeh_onload_callbacks\n",
              "    }\n",
              "    console.debug(\"Bokeh: all callbacks have finished\");\n",
              "  }\n",
              "\n",
              "  function load_libs(css_urls, js_urls, callback) {\n",
              "    if (css_urls == null) css_urls = [];\n",
              "    if (js_urls == null) js_urls = [];\n",
              "\n",
              "    root._bokeh_onload_callbacks.push(callback);\n",
              "    if (root._bokeh_is_loading > 0) {\n",
              "      console.debug(\"Bokeh: BokehJS is being loaded, scheduling callback at\", now());\n",
              "      return null;\n",
              "    }\n",
              "    if (js_urls == null || js_urls.length === 0) {\n",
              "      run_callbacks();\n",
              "      return null;\n",
              "    }\n",
              "    console.debug(\"Bokeh: BokehJS not loaded, scheduling load and callback at\", now());\n",
              "    root._bokeh_is_loading = css_urls.length + js_urls.length;\n",
              "\n",
              "    function on_load() {\n",
              "      root._bokeh_is_loading--;\n",
              "      if (root._bokeh_is_loading === 0) {\n",
              "        console.debug(\"Bokeh: all BokehJS libraries/stylesheets loaded\");\n",
              "        run_callbacks()\n",
              "      }\n",
              "    }\n",
              "\n",
              "    function on_error() {\n",
              "      console.error(\"failed to load \" + url);\n",
              "    }\n",
              "\n",
              "    for (var i = 0; i < css_urls.length; i++) {\n",
              "      var url = css_urls[i];\n",
              "      const element = document.createElement(\"link\");\n",
              "      element.onload = on_load;\n",
              "      element.onerror = on_error;\n",
              "      element.rel = \"stylesheet\";\n",
              "      element.type = \"text/css\";\n",
              "      element.href = url;\n",
              "      console.debug(\"Bokeh: injecting link tag for BokehJS stylesheet: \", url);\n",
              "      document.body.appendChild(element);\n",
              "    }\n",
              "\n",
              "    for (var i = 0; i < js_urls.length; i++) {\n",
              "      var url = js_urls[i];\n",
              "      var element = document.createElement('script');\n",
              "      element.onload = on_load;\n",
              "      element.onerror = on_error;\n",
              "      element.async = false;\n",
              "      element.src = url;\n",
              "      console.debug(\"Bokeh: injecting script tag for BokehJS library: \", url);\n",
              "      document.head.appendChild(element);\n",
              "    }\n",
              "  };\n",
              "\n",
              "  function inject_raw_css(css) {\n",
              "    const element = document.createElement(\"style\");\n",
              "    element.appendChild(document.createTextNode(css));\n",
              "    document.body.appendChild(element);\n",
              "  }\n",
              "\n",
              "  \n",
              "  var js_urls = [\"https://cdn.pydata.org/bokeh/release/bokeh-1.4.0.min.js\", \"https://cdn.pydata.org/bokeh/release/bokeh-widgets-1.4.0.min.js\", \"https://cdn.pydata.org/bokeh/release/bokeh-tables-1.4.0.min.js\", \"https://cdn.pydata.org/bokeh/release/bokeh-gl-1.4.0.min.js\"];\n",
              "  var css_urls = [];\n",
              "  \n",
              "\n",
              "  var inline_js = [\n",
              "    function(Bokeh) {\n",
              "      Bokeh.set_log_level(\"info\");\n",
              "    },\n",
              "    function(Bokeh) {\n",
              "    \n",
              "    \n",
              "    }\n",
              "  ];\n",
              "\n",
              "  function run_inline_js() {\n",
              "    \n",
              "    if (root.Bokeh !== undefined || force === true) {\n",
              "      \n",
              "    for (var i = 0; i < inline_js.length; i++) {\n",
              "      inline_js[i].call(root, root.Bokeh);\n",
              "    }\n",
              "    } else if (Date.now() < root._bokeh_timeout) {\n",
              "      setTimeout(run_inline_js, 100);\n",
              "    } else if (!root._bokeh_failed_load) {\n",
              "      console.log(\"Bokeh: BokehJS failed to load within specified timeout.\");\n",
              "      root._bokeh_failed_load = true;\n",
              "    } else if (force !== true) {\n",
              "      var cell = $(document.getElementById(null)).parents('.cell').data().cell;\n",
              "      cell.output_area.append_execute_result(NB_LOAD_WARNING)\n",
              "    }\n",
              "\n",
              "  }\n",
              "\n",
              "  if (root._bokeh_is_loading === 0) {\n",
              "    console.debug(\"Bokeh: BokehJS loaded, going straight to plotting\");\n",
              "    run_inline_js();\n",
              "  } else {\n",
              "    load_libs(css_urls, js_urls, function() {\n",
              "      console.debug(\"Bokeh: BokehJS plotting callback run at\", now());\n",
              "      run_inline_js();\n",
              "    });\n",
              "  }\n",
              "}(window));"
            ],
            "application/vnd.bokehjs_load.v0+json": "\n(function(root) {\n  function now() {\n    return new Date();\n  }\n\n  var force = true;\n\n  if (typeof root._bokeh_onload_callbacks === \"undefined\" || force === true) {\n    root._bokeh_onload_callbacks = [];\n    root._bokeh_is_loading = undefined;\n  }\n\n  \n\n  \n  if (typeof (root._bokeh_timeout) === \"undefined\" || force === true) {\n    root._bokeh_timeout = Date.now() + 5000;\n    root._bokeh_failed_load = false;\n  }\n\n  var NB_LOAD_WARNING = {'data': {'text/html':\n     \"<div style='background-color: #fdd'>\\n\"+\n     \"<p>\\n\"+\n     \"BokehJS does not appear to have successfully loaded. If loading BokehJS from CDN, this \\n\"+\n     \"may be due to a slow or bad network connection. Possible fixes:\\n\"+\n     \"</p>\\n\"+\n     \"<ul>\\n\"+\n     \"<li>re-rerun `output_notebook()` to attempt to load from CDN again, or</li>\\n\"+\n     \"<li>use INLINE resources instead, as so:</li>\\n\"+\n     \"</ul>\\n\"+\n     \"<code>\\n\"+\n     \"from bokeh.resources import INLINE\\n\"+\n     \"output_notebook(resources=INLINE)\\n\"+\n     \"</code>\\n\"+\n     \"</div>\"}};\n\n  function display_loaded() {\n    var el = document.getElementById(null);\n    if (el != null) {\n      el.textContent = \"BokehJS is loading...\";\n    }\n    if (root.Bokeh !== undefined) {\n      if (el != null) {\n        el.textContent = \"BokehJS \" + root.Bokeh.version + \" successfully loaded.\";\n      }\n    } else if (Date.now() < root._bokeh_timeout) {\n      setTimeout(display_loaded, 100)\n    }\n  }\n\n\n  function run_callbacks() {\n    try {\n      root._bokeh_onload_callbacks.forEach(function(callback) {\n        if (callback != null)\n          callback();\n      });\n    } finally {\n      delete root._bokeh_onload_callbacks\n    }\n    console.debug(\"Bokeh: all callbacks have finished\");\n  }\n\n  function load_libs(css_urls, js_urls, callback) {\n    if (css_urls == null) css_urls = [];\n    if (js_urls == null) js_urls = [];\n\n    root._bokeh_onload_callbacks.push(callback);\n    if (root._bokeh_is_loading > 0) {\n      console.debug(\"Bokeh: BokehJS is being loaded, scheduling callback at\", now());\n      return null;\n    }\n    if (js_urls == null || js_urls.length === 0) {\n      run_callbacks();\n      return null;\n    }\n    console.debug(\"Bokeh: BokehJS not loaded, scheduling load and callback at\", now());\n    root._bokeh_is_loading = css_urls.length + js_urls.length;\n\n    function on_load() {\n      root._bokeh_is_loading--;\n      if (root._bokeh_is_loading === 0) {\n        console.debug(\"Bokeh: all BokehJS libraries/stylesheets loaded\");\n        run_callbacks()\n      }\n    }\n\n    function on_error() {\n      console.error(\"failed to load \" + url);\n    }\n\n    for (var i = 0; i < css_urls.length; i++) {\n      var url = css_urls[i];\n      const element = document.createElement(\"link\");\n      element.onload = on_load;\n      element.onerror = on_error;\n      element.rel = \"stylesheet\";\n      element.type = \"text/css\";\n      element.href = url;\n      console.debug(\"Bokeh: injecting link tag for BokehJS stylesheet: \", url);\n      document.body.appendChild(element);\n    }\n\n    for (var i = 0; i < js_urls.length; i++) {\n      var url = js_urls[i];\n      var element = document.createElement('script');\n      element.onload = on_load;\n      element.onerror = on_error;\n      element.async = false;\n      element.src = url;\n      console.debug(\"Bokeh: injecting script tag for BokehJS library: \", url);\n      document.head.appendChild(element);\n    }\n  };\n\n  function inject_raw_css(css) {\n    const element = document.createElement(\"style\");\n    element.appendChild(document.createTextNode(css));\n    document.body.appendChild(element);\n  }\n\n  \n  var js_urls = [\"https://cdn.pydata.org/bokeh/release/bokeh-1.4.0.min.js\", \"https://cdn.pydata.org/bokeh/release/bokeh-widgets-1.4.0.min.js\", \"https://cdn.pydata.org/bokeh/release/bokeh-tables-1.4.0.min.js\", \"https://cdn.pydata.org/bokeh/release/bokeh-gl-1.4.0.min.js\"];\n  var css_urls = [];\n  \n\n  var inline_js = [\n    function(Bokeh) {\n      Bokeh.set_log_level(\"info\");\n    },\n    function(Bokeh) {\n    \n    \n    }\n  ];\n\n  function run_inline_js() {\n    \n    if (root.Bokeh !== undefined || force === true) {\n      \n    for (var i = 0; i < inline_js.length; i++) {\n      inline_js[i].call(root, root.Bokeh);\n    }\n    } else if (Date.now() < root._bokeh_timeout) {\n      setTimeout(run_inline_js, 100);\n    } else if (!root._bokeh_failed_load) {\n      console.log(\"Bokeh: BokehJS failed to load within specified timeout.\");\n      root._bokeh_failed_load = true;\n    } else if (force !== true) {\n      var cell = $(document.getElementById(null)).parents('.cell').data().cell;\n      cell.output_area.append_execute_result(NB_LOAD_WARNING)\n    }\n\n  }\n\n  if (root._bokeh_is_loading === 0) {\n    console.debug(\"Bokeh: BokehJS loaded, going straight to plotting\");\n    run_inline_js();\n  } else {\n    load_libs(css_urls, js_urls, function() {\n      console.debug(\"Bokeh: BokehJS plotting callback run at\", now());\n      run_inline_js();\n    });\n  }\n}(window));"
          },
          "metadata": {
            "tags": []
          }
        },
        {
          "output_type": "display_data",
          "data": {
            "text/html": [
              "\n",
              "\n",
              "\n",
              "\n",
              "\n",
              "\n",
              "  <div class=\"bk-root\" id=\"3f13f3d3-daea-427c-8887-15b52b0e2a81\" data-root-id=\"4167\"></div>\n"
            ]
          },
          "metadata": {
            "tags": []
          }
        },
        {
          "output_type": "display_data",
          "data": {
            "application/javascript": [
              "(function(root) {\n",
              "  function embed_document(root) {\n",
              "    \n",
              "  var docs_json = {\"b26bfcd8-6528-4d42-ac5b-04da20a4711d\":{\"roots\":{\"references\":[{\"attributes\":{\"below\":[{\"id\":\"4178\",\"type\":\"LinearAxis\"}],\"center\":[{\"id\":\"4182\",\"type\":\"Grid\"},{\"id\":\"4187\",\"type\":\"Grid\"}],\"left\":[{\"id\":\"4183\",\"type\":\"LinearAxis\"}],\"output_backend\":\"webgl\",\"plot_height\":300,\"renderers\":[{\"id\":\"4204\",\"type\":\"GlyphRenderer\"},{\"id\":\"4208\",\"type\":\"Span\"},{\"id\":\"4212\",\"type\":\"GlyphRenderer\"}],\"title\":{\"id\":\"4168\",\"type\":\"Title\"},\"toolbar\":{\"id\":\"4194\",\"type\":\"Toolbar\"},\"x_range\":{\"id\":\"4206\",\"type\":\"Range1d\"},\"x_scale\":{\"id\":\"4174\",\"type\":\"LinearScale\"},\"y_range\":{\"id\":\"4207\",\"type\":\"Range1d\"},\"y_scale\":{\"id\":\"4176\",\"type\":\"LinearScale\"}},\"id\":\"4167\",\"subtype\":\"Figure\",\"type\":\"Plot\"},{\"attributes\":{\"axis_label\":\"Background Coverage (stranded)\",\"formatter\":{\"id\":\"4371\",\"type\":\"BasicTickFormatter\"},\"ticker\":{\"id\":\"4179\",\"type\":\"BasicTicker\"}},\"id\":\"4178\",\"type\":\"LinearAxis\"},{\"attributes\":{},\"id\":\"4369\",\"type\":\"BasicTickFormatter\"},{\"attributes\":{\"bounds\":[0,27.228897072844426],\"callback\":null,\"end\":27.228897072844426},\"id\":\"4206\",\"type\":\"Range1d\"},{\"attributes\":{},\"id\":\"4189\",\"type\":\"WheelZoomTool\"},{\"attributes\":{\"data_source\":{\"id\":\"4209\",\"type\":\"ColumnDataSource\"},\"glyph\":{\"id\":\"4210\",\"type\":\"Text\"},\"hover_glyph\":null,\"muted_glyph\":null,\"nonselection_glyph\":{\"id\":\"4211\",\"type\":\"Text\"},\"selection_glyph\":null,\"view\":{\"id\":\"4213\",\"type\":\"CDSView\"}},\"id\":\"4212\",\"type\":\"GlyphRenderer\"},{\"attributes\":{},\"id\":\"4176\",\"type\":\"LinearScale\"},{\"attributes\":{},\"id\":\"4193\",\"type\":\"HelpTool\"},{\"attributes\":{\"axis_label\":\"# tiles\",\"formatter\":{\"id\":\"4369\",\"type\":\"BasicTickFormatter\"},\"ticker\":{\"id\":\"4184\",\"type\":\"BasicTicker\"}},\"id\":\"4183\",\"type\":\"LinearAxis\"},{\"attributes\":{},\"id\":\"4179\",\"type\":\"BasicTicker\"},{\"attributes\":{\"dimension\":1,\"ticker\":{\"id\":\"4184\",\"type\":\"BasicTicker\"}},\"id\":\"4187\",\"type\":\"Grid\"},{\"attributes\":{\"source\":{\"id\":\"4209\",\"type\":\"ColumnDataSource\"}},\"id\":\"4213\",\"type\":\"CDSView\"},{\"attributes\":{},\"id\":\"4188\",\"type\":\"PanTool\"},{\"attributes\":{},\"id\":\"4184\",\"type\":\"BasicTicker\"},{\"attributes\":{\"source\":{\"id\":\"4201\",\"type\":\"ColumnDataSource\"}},\"id\":\"4205\",\"type\":\"CDSView\"},{\"attributes\":{\"angle\":{\"units\":\"rad\",\"value\":1.5707963267948966},\"text_color\":{\"value\":\"black\"},\"x\":{\"field\":\"x\"},\"y\":{\"field\":\"y\"}},\"id\":\"4210\",\"type\":\"Text\"},{\"attributes\":{\"angle\":{\"units\":\"rad\",\"value\":1.5707963267948966},\"text_alpha\":{\"value\":0.1},\"text_color\":{\"value\":\"black\"},\"x\":{\"field\":\"x\"},\"y\":{\"field\":\"y\"}},\"id\":\"4211\",\"type\":\"Text\"},{\"attributes\":{\"bottom\":{\"value\":0},\"fill_alpha\":{\"value\":0.6},\"fill_color\":{\"value\":\"blue\"},\"left\":{\"field\":\"left\"},\"line_alpha\":{\"value\":0.6},\"line_color\":{\"value\":\"blue\"},\"right\":{\"field\":\"right\"},\"top\":{\"field\":\"top\"}},\"id\":\"4202\",\"type\":\"Quad\"},{\"attributes\":{\"bounds\":[3,592074],\"callback\":null,\"end\":592074,\"start\":3},\"id\":\"4207\",\"type\":\"Range1d\"},{\"attributes\":{},\"id\":\"4192\",\"type\":\"ResetTool\"},{\"attributes\":{\"callback\":null,\"data\":{\"left\":{\"__ndarray__\":\"AAAAAAAA8D8AAAAAAAAAQAAAAAAAAAhAAAAAAAAAEEAAAAAAAAAUQAAAAAAAABhAAAAAAAAAHEAAAAAAAAAgQAAAAAAAACJAAAAAAAAAJEAAAAAAAAAmQAAAAAAAAChA\",\"dtype\":\"float64\",\"shape\":[12]},\"right\":{\"__ndarray__\":\"AAAAAAAAAEAAAAAAAAAIQAAAAAAAABBAAAAAAAAAFEAAAAAAAAAYQAAAAAAAABxAAAAAAAAAIEAAAAAAAAAiQAAAAAAAACRAAAAAAAAAJkAAAAAAAAAoQAAAAAAAACpA\",\"dtype\":\"float64\",\"shape\":[12]},\"top\":[592074,15829,4045,1975,629,430,428,229,71,36,3,18]},\"selected\":{\"id\":\"4374\",\"type\":\"Selection\"},\"selection_policy\":{\"id\":\"4375\",\"type\":\"UnionRenderers\"}},\"id\":\"4201\",\"type\":\"ColumnDataSource\"},{\"attributes\":{},\"id\":\"4376\",\"type\":\"Selection\"},{\"attributes\":{},\"id\":\"4174\",\"type\":\"LinearScale\"},{\"attributes\":{\"callback\":null,\"data\":{\"text\":[\"Mean on-target: 22\"],\"x\":[22.228897072844426],\"y\":[296037.0]},\"selected\":{\"id\":\"4376\",\"type\":\"Selection\"},\"selection_policy\":{\"id\":\"4377\",\"type\":\"UnionRenderers\"}},\"id\":\"4209\",\"type\":\"ColumnDataSource\"},{\"attributes\":{\"bottom_units\":\"screen\",\"fill_alpha\":{\"value\":0.5},\"fill_color\":{\"value\":\"lightgrey\"},\"left_units\":\"screen\",\"level\":\"overlay\",\"line_alpha\":{\"value\":1.0},\"line_color\":{\"value\":\"black\"},\"line_dash\":[4,4],\"line_width\":{\"value\":2},\"render_mode\":\"css\",\"right_units\":\"screen\",\"top_units\":\"screen\"},\"id\":\"4373\",\"type\":\"BoxAnnotation\"},{\"attributes\":{\"data_source\":{\"id\":\"4201\",\"type\":\"ColumnDataSource\"},\"glyph\":{\"id\":\"4202\",\"type\":\"Quad\"},\"hover_glyph\":null,\"muted_glyph\":null,\"nonselection_glyph\":{\"id\":\"4203\",\"type\":\"Quad\"},\"selection_glyph\":null,\"view\":{\"id\":\"4205\",\"type\":\"CDSView\"}},\"id\":\"4204\",\"type\":\"GlyphRenderer\"},{\"attributes\":{\"bottom\":{\"value\":0},\"fill_alpha\":{\"value\":0.1},\"fill_color\":{\"value\":\"#1f77b4\"},\"left\":{\"field\":\"left\"},\"line_alpha\":{\"value\":0.1},\"line_color\":{\"value\":\"#1f77b4\"},\"right\":{\"field\":\"right\"},\"top\":{\"field\":\"top\"}},\"id\":\"4203\",\"type\":\"Quad\"},{\"attributes\":{},\"id\":\"4377\",\"type\":\"UnionRenderers\"},{\"attributes\":{\"ticker\":{\"id\":\"4179\",\"type\":\"BasicTicker\"}},\"id\":\"4182\",\"type\":\"Grid\"},{\"attributes\":{\"active_drag\":\"auto\",\"active_inspect\":\"auto\",\"active_multi\":null,\"active_scroll\":\"auto\",\"active_tap\":\"auto\",\"tools\":[{\"id\":\"4188\",\"type\":\"PanTool\"},{\"id\":\"4189\",\"type\":\"WheelZoomTool\"},{\"id\":\"4190\",\"type\":\"BoxZoomTool\"},{\"id\":\"4191\",\"type\":\"SaveTool\"},{\"id\":\"4192\",\"type\":\"ResetTool\"},{\"id\":\"4193\",\"type\":\"HelpTool\"}]},\"id\":\"4194\",\"type\":\"Toolbar\"},{\"attributes\":{},\"id\":\"4374\",\"type\":\"Selection\"},{\"attributes\":{},\"id\":\"4191\",\"type\":\"SaveTool\"},{\"attributes\":{},\"id\":\"4371\",\"type\":\"BasicTickFormatter\"},{\"attributes\":{\"text\":\"Non-target Coverage\"},\"id\":\"4168\",\"type\":\"Title\"},{\"attributes\":{\"overlay\":{\"id\":\"4373\",\"type\":\"BoxAnnotation\"}},\"id\":\"4190\",\"type\":\"BoxZoomTool\"},{\"attributes\":{\"dimension\":\"height\",\"line_width\":{\"value\":1.5},\"location\":22.228897072844426},\"id\":\"4208\",\"type\":\"Span\"},{\"attributes\":{},\"id\":\"4375\",\"type\":\"UnionRenderers\"}],\"root_ids\":[\"4167\"]},\"title\":\"Bokeh Application\",\"version\":\"1.4.0\"}};\n",
              "  var render_items = [{\"docid\":\"b26bfcd8-6528-4d42-ac5b-04da20a4711d\",\"roots\":{\"4167\":\"3f13f3d3-daea-427c-8887-15b52b0e2a81\"}}];\n",
              "  root.Bokeh.embed.embed_items_notebook(docs_json, render_items);\n",
              "\n",
              "  }\n",
              "  if (root.Bokeh !== undefined) {\n",
              "    embed_document(root);\n",
              "  } else {\n",
              "    var attempts = 0;\n",
              "    var timer = setInterval(function(root) {\n",
              "      if (root.Bokeh !== undefined) {\n",
              "        clearInterval(timer);\n",
              "        embed_document(root);\n",
              "      } else {\n",
              "        attempts++;\n",
              "        if (attempts > 100) {\n",
              "          clearInterval(timer);\n",
              "          console.log(\"Bokeh: ERROR: Unable to run BokehJS code because BokehJS library is missing\");\n",
              "        }\n",
              "      }\n",
              "    }, 10, root)\n",
              "  }\n",
              "})(window);"
            ],
            "application/vnd.bokehjs_exec.v0+json": ""
          },
          "metadata": {
            "tags": [],
            "application/vnd.bokehjs_exec.v0+json": {
              "id": "4167"
            }
          }
        }
      ]
    },
    {
      "cell_type": "markdown",
      "metadata": {
        "id": "5QQMD_Vlat3d",
        "colab_type": "text"
      },
      "source": [
        "\n",
        "The widget below can also be used to choose where the bounaryshould lie in according to the coverage or these regions:"
      ]
    },
    {
      "cell_type": "code",
      "metadata": {
        "id": "Es4M1ajBW18B",
        "colab_type": "code",
        "cellView": "form",
        "outputId": "7f4046e8-e62e-4689-d32b-2900dd8046cc",
        "colab": {
          "base_uri": "https://localhost:8080/",
          "height": 205,
          "referenced_widgets": [
            "f2b7ff6f4b5c4d3c89b87d1e2c1df36c",
            "adb4c647a3be48298fa57f195f20162a",
            "321fafbbb5824b759aef1bc0553df4a8",
            "dcf14654d088471298543854f9f0ddee",
            "7c1ff943765f46e992111a218a1f94a8",
            "27e4fdc4213a4b1c99ee64653ce43b9a"
          ]
        }
      },
      "source": [
        "#@markdown **Off-target/Background filtering** *(click to show code)*\n",
        "\n",
        "def summary(df):\n",
        "    kbases = tile_size * df['NumberOverlaps'].sum() // 1000\n",
        "    mean_cover = df['NumberOverlaps'].mean()\n",
        "    return pd.Series((kbases, mean_cover), index=['kbases', 'mean_coverage'])\n",
        "\n",
        "coverage_chooser = widgets.IntSlider(\n",
        "    value=np.mean(counts.index), min=0, max=max(counts.index), step=1)\n",
        "@widgets.interact\n",
        "def get_non_targets(strand_coverage=coverage_chooser):\n",
        "    non_hits.loc[non_hits['NumberOverlaps'] > strand_coverage, 'tname'] = 'Off Target'\n",
        "    non_hits.loc[non_hits['NumberOverlaps'] <= strand_coverage, 'tname'] = 'Background'\n",
        "    res = pd.concat([non_hits, target_hits, proximal_hits])\n",
        "    res = res.groupby('tname').apply(summary).reset_index(drop=False)\n",
        "    res.rename(columns={0:'kbases'}, inplace=True)\n",
        "    return res"
      ],
      "execution_count": 0,
      "outputs": [
        {
          "output_type": "display_data",
          "data": {
            "text/plain": [
              "interactive(children=(IntSlider(value=7, description='strand_coverage', max=13), Output()), _dom_classes=('wid…"
            ],
            "application/vnd.jupyter.widget-view+json": {
              "version_major": 2,
              "version_minor": 0,
              "model_id": "f2b7ff6f4b5c4d3c89b87d1e2c1df36c"
            }
          },
          "metadata": {
            "tags": []
          }
        }
      ]
    },
    {
      "cell_type": "markdown",
      "metadata": {
        "id": "46QekGLHuug4",
        "colab_type": "text"
      },
      "source": [
        "### Summarising off-target regions"
      ]
    },
    {
      "cell_type": "markdown",
      "metadata": {
        "id": "VQ8S8twsgA2e",
        "colab_type": "text"
      },
      "source": [
        "Finally to summarise the off-target regions, which could be analysed further, we can merge our genome tiles back into contiguous regions:"
      ]
    },
    {
      "cell_type": "code",
      "metadata": {
        "id": "8e_3CZtgb2Ep",
        "colab_type": "code",
        "outputId": "6052ff9a-4d6e-462d-9752-6cfa4b8e1706",
        "colab": {
          "base_uri": "https://localhost:8080/",
          "height": 328
        }
      },
      "source": [
        "off_targets = pr.PyRanges(\n",
        "    non_hits.loc[non_hits['tname'] == 'Off Target']\n",
        ").merge().df\n",
        "display(off_targets)"
      ],
      "execution_count": 0,
      "outputs": [
        {
          "output_type": "display_data",
          "data": {
            "text/plain": [
              "  Chromosome      Start        End Strand\n",
              "0       chr1   16764400   16767700      +\n",
              "1       chr1   16760000   16764500      -\n",
              "2       chr2   67790400   67800400      +\n",
              "3       chr3  153698200  153707000      -\n",
              "4       chr5   61382500   61385500      -\n",
              "5      chr10   96288500   96289700      -\n",
              "6      chr12  131480400  131482300      -\n",
              "7       chrM       4700       5100      +\n",
              "8       chrX  147938162  147940700      +"
            ],
            "text/html": [
              "<div>\n",
              "<style scoped>\n",
              "    .dataframe tbody tr th:only-of-type {\n",
              "        vertical-align: middle;\n",
              "    }\n",
              "\n",
              "    .dataframe tbody tr th {\n",
              "        vertical-align: top;\n",
              "    }\n",
              "\n",
              "    .dataframe thead th {\n",
              "        text-align: right;\n",
              "    }\n",
              "</style>\n",
              "<table border=\"1\" class=\"dataframe\">\n",
              "  <thead>\n",
              "    <tr style=\"text-align: right;\">\n",
              "      <th></th>\n",
              "      <th>Chromosome</th>\n",
              "      <th>Start</th>\n",
              "      <th>End</th>\n",
              "      <th>Strand</th>\n",
              "    </tr>\n",
              "  </thead>\n",
              "  <tbody>\n",
              "    <tr>\n",
              "      <th>0</th>\n",
              "      <td>chr1</td>\n",
              "      <td>16764400</td>\n",
              "      <td>16767700</td>\n",
              "      <td>+</td>\n",
              "    </tr>\n",
              "    <tr>\n",
              "      <th>1</th>\n",
              "      <td>chr1</td>\n",
              "      <td>16760000</td>\n",
              "      <td>16764500</td>\n",
              "      <td>-</td>\n",
              "    </tr>\n",
              "    <tr>\n",
              "      <th>2</th>\n",
              "      <td>chr2</td>\n",
              "      <td>67790400</td>\n",
              "      <td>67800400</td>\n",
              "      <td>+</td>\n",
              "    </tr>\n",
              "    <tr>\n",
              "      <th>3</th>\n",
              "      <td>chr3</td>\n",
              "      <td>153698200</td>\n",
              "      <td>153707000</td>\n",
              "      <td>-</td>\n",
              "    </tr>\n",
              "    <tr>\n",
              "      <th>4</th>\n",
              "      <td>chr5</td>\n",
              "      <td>61382500</td>\n",
              "      <td>61385500</td>\n",
              "      <td>-</td>\n",
              "    </tr>\n",
              "    <tr>\n",
              "      <th>5</th>\n",
              "      <td>chr10</td>\n",
              "      <td>96288500</td>\n",
              "      <td>96289700</td>\n",
              "      <td>-</td>\n",
              "    </tr>\n",
              "    <tr>\n",
              "      <th>6</th>\n",
              "      <td>chr12</td>\n",
              "      <td>131480400</td>\n",
              "      <td>131482300</td>\n",
              "      <td>-</td>\n",
              "    </tr>\n",
              "    <tr>\n",
              "      <th>7</th>\n",
              "      <td>chrM</td>\n",
              "      <td>4700</td>\n",
              "      <td>5100</td>\n",
              "      <td>+</td>\n",
              "    </tr>\n",
              "    <tr>\n",
              "      <th>8</th>\n",
              "      <td>chrX</td>\n",
              "      <td>147938162</td>\n",
              "      <td>147940700</td>\n",
              "      <td>+</td>\n",
              "    </tr>\n",
              "  </tbody>\n",
              "</table>\n",
              "</div>"
            ]
          },
          "metadata": {
            "tags": []
          }
        }
      ]
    },
    {
      "cell_type": "markdown",
      "metadata": {
        "colab_type": "text",
        "id": "iF7WILGOwbI3"
      },
      "source": [
        "## Summary\n",
        "\n",
        "This tutorial has stepped through basic processing of a Cas9 enrichment experiment. We have examined the coverage of several target regions and examined the rates of proximal, off-target, and background sequencing effects.\n",
        "\n",
        "The code will run within **Google Colab** when connected to a local **Epi2Me Labs** notebook server.\n",
        "\n",
        "[Back to Epi2Me Labs](https://colab.research.google.com/github/epi2me-labs/resources/blob/master/welcome.ipynb)\n"
      ]
    }
  ]
}