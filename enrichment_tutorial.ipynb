{
  "nbformat": 4,
  "nbformat_minor": 0,
  "metadata": {
    "kernelspec": {
      "display_name": "Python 3",
      "language": "python",
      "name": "python3"
    },
    "language_info": {
      "codemirror_mode": {
        "name": "ipython",
        "version": 3
      },
      "file_extension": ".py",
      "mimetype": "text/x-python",
      "name": "python",
      "nbconvert_exporter": "python",
      "pygments_lexer": "ipython3",
      "version": "3.7.6"
    },
    "colab": {
      "name": "Cas9 Enrichment Tutorial",
      "provenance": [],
      "toc_visible": true,
      "include_colab_link": true
    }
  },
  "cells": [
    {
      "cell_type": "markdown",
      "metadata": {
        "id": "view-in-github",
        "colab_type": "text"
      },
      "source": [
        "<a href=\"https://colab.research.google.com/github/epi2me-labs/testbooks/blob/master/enrichment_tutorial.ipynb\" target=\"_parent\"><img src=\"https://colab.research.google.com/assets/colab-badge.svg\" alt=\"Open In Colab\"/></a>"
      ]
    },
    {
      "cell_type": "markdown",
      "metadata": {
        "id": "eyhWQcLLP6Kt",
        "colab_type": "text"
      },
      "source": [
        "<h1>Cas9 Enrichment Tutorial</h1>\n",
        "\n",
        "This tutorial is intended as a introduction into the analysis of a Cas9 enrichment experiment with nanopore sequencing. The tutorial will step through a discuss the steps of the workflow starting from raw sequencing data. We will learn how to:\n",
        "\n",
        "* Align read data to a human reference sequence\n",
        "* Show the sequencing depth for target regions\n",
        "* Analyse the proportion of off-target reads\n",
        "\n",
        "The tutorial makes use of some common bioinformatics including:\n",
        "\n",
        "* `mini_align` - a simple interface to the [`minimap2`](https://github.com/lh3/minimap2) alignment program.\n",
        "* [`pyranges`](https://github.com/biocore-ntnu/pyranges) - GenomicRanges and genomic Rle-objects for Python.\n",
        "\n",
        "Computational requirements for this tutorial include:\n",
        "\n",
        "- Computer running the **Epi2Me Labs** notebook Server\n",
        "- At least 8 Gb RAM\n"
      ]
    },
    {
      "cell_type": "markdown",
      "metadata": {
        "id": "a0y2JPI9SlxM",
        "colab_type": "text"
      },
      "source": [
        "## Introduction\n",
        "\n",
        "The tutorial requires a FASTQ format sequence file and a BED file of target coordinates as input, along with pointers to download locations for the reference genome to be used.\n",
        "\n",
        "The tutorial aids with the quantification of the non-target depletion and provides information on mapping characteristics that highlight the protocol performance. The figures plotted include depth-of-coverage over the target regions and strand bias over these regions. The location and peaks of coverage and local biases in strandedness may be used to assess the performance of guide-RNA sequences and may highlight guide RNAs that are not performing. A review of likely off-target regions over-represented within the sequence collection may inform of strategies to refine guide-RNA design.\n",
        "\n",
        "**Before stepping through the workflow be sure to connect this notebook to your local Epi2Me Labs server in the top right of the screen.** [Further details](https://colab.research.google.com/github/epi2me-labs/resources/blob/master/epi2me-labs-server.ipynb#connecting)\n"
      ]
    },
    {
      "cell_type": "markdown",
      "metadata": {
        "id": "ZMhjoLNaP6Ku",
        "colab_type": "text"
      },
      "source": [
        "## Data preparation\n",
        "\n",
        "To start analysing our experiment we must first \"read in\" the data. For this example we will first download three files:\n",
        "\n",
        "1. A `.fast5` file containing our sequencing data\n",
        "2. The human reference genome\n",
        "3. A `.bed` file describing the target regions of the genome\n"
      ]
    },
    {
      "cell_type": "markdown",
      "metadata": {
        "id": "LNl_IrI8pklV",
        "colab_type": "text"
      },
      "source": [
        "### Sample Data\n",
        "\n",
        "To use this tutorial with sample data we can download the files using the `linux` command `wget`. To execute the command click on the cell and then press Command/Ctrl-Enter, or click the Play symbol to the left-hand side."
      ]
    },
    {
      "cell_type": "markdown",
      "metadata": {
        "id": "fCRJklrYRhoB",
        "colab_type": "text"
      },
      "source": [
        "To get started we will download a sample sequencing dataset, click on the cell below and press the \"Play\" symbol to the left:"
      ]
    },
    {
      "cell_type": "code",
      "metadata": {
        "id": "MVacV0gxWwel",
        "colab_type": "code",
        "colab": {}
      },
      "source": [
        "# create a work directory and move into it\n",
        "working_dir='cas9_tutorial'\n",
        "!mkdir -p \"$working_dir\"\n",
        "%cd \"$working_dir\"\n",
        "# download the data\n",
        "!wget https://ont-research.s3-eu-west-1.amazonaws.com/labs_resources/cas9_tutorial/sample_cas9.tar.gz\n",
        "# the data is in a compressed archive so let's decompress it\n",
        "!tar -xzvf sample_cas9.tar.gz"
      ],
      "execution_count": 0,
      "outputs": []
    },
    {
      "cell_type": "markdown",
      "metadata": {
        "id": "U7nte38ESR3u",
        "colab_type": "text"
      },
      "source": [
        "The data downloaded is laid-out in the form as written by MinKNOW on a sequencing device, only reads passing the quality score filter applied by MinKNOW has been included (again click the cell and press play):"
      ]
    },
    {
      "cell_type": "code",
      "metadata": {
        "colab_type": "code",
        "id": "VX-ktMl971CH",
        "colab": {}
      },
      "source": [
        "!tree sample_cas9"
      ],
      "execution_count": 0,
      "outputs": []
    },
    {
      "cell_type": "markdown",
      "metadata": {
        "id": "rbYU5N0KmBsW",
        "colab_type": "text"
      },
      "source": [
        "For our analysis we will also need the human genome reference (*note that this download is quite large, it includes both the reference sequence and indexes required for analysis*):"
      ]
    },
    {
      "cell_type": "code",
      "metadata": {
        "id": "jTtCIdiO-IN3",
        "colab_type": "code",
        "colab": {}
      },
      "source": [
        "!wget https://ont-research.s3-eu-west-1.amazonaws.com/labs_resources/grch38.tar.gz\n",
        "!tar -xzvf grch38.tar.gz"
      ],
      "execution_count": 0,
      "outputs": []
    },
    {
      "cell_type": "markdown",
      "metadata": {
        "id": "3AuVE3qCoWrH",
        "colab_type": "text"
      },
      "source": [
        "Finally we will need a `BED` file describing the target regions of the genome."
      ]
    },
    {
      "cell_type": "code",
      "metadata": {
        "id": "SYhnDMfToh3d",
        "colab_type": "code",
        "colab": {}
      },
      "source": [
        "!wget -O targets.bed https://ont-research.s3-eu-west-1.amazonaws.com/labs_resources/cas9_tutorial/targets.bed"
      ],
      "execution_count": 0,
      "outputs": []
    },
    {
      "cell_type": "markdown",
      "metadata": {
        "id": "nh7-4mZeXHRA",
        "colab_type": "text"
      },
      "source": [
        "### Using your own data\n",
        "\n",
        "If you wish to analyse your own data rather than the sample data, you can edit the value of the `data_folder` variable below. To find the correct full path of a directory you can navigate to it in\n",
        "the `Files` browser to the left-hand side, right-click on the file and select `Copy path`:"
      ]
    },
    {
      "cell_type": "markdown",
      "metadata": {
        "id": "vDCEs7E3Zy60",
        "colab_type": "text"
      },
      "source": [
        "![image.png](data:image/png;base64,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)"
      ]
    },
    {
      "cell_type": "markdown",
      "metadata": {
        "id": "1VM9k1NGZ8co",
        "colab_type": "text"
      },
      "source": [
        "When pasting the path in the code cell you will have to remove the preceding `/` character.\n"
      ]
    },
    {
      "cell_type": "markdown",
      "metadata": {
        "id": "rjXNch2Kp-_2",
        "colab_type": "text"
      },
      "source": [
        "### Data entry\n",
        "\n",
        "Having downloaded the sample data, or locating your own data in the file browser, we need to provide the filepaths as input to the notebook. This is done in the form below, after updating the values, be sure to press the play button."
      ]
    },
    {
      "cell_type": "markdown",
      "metadata": {
        "id": "46QEClv31y4J",
        "colab_type": "text"
      },
      "source": [
        "\n",
        "\n",
        "> **If you want simply to plot all the graphs in this tutorial for your dataset, rather than working through the tutorial, select `Run after` from the `Runtime` menu above after executing the cell below.**"
      ]
    },
    {
      "cell_type": "code",
      "metadata": {
        "id": "hexEX4x8VPfA",
        "colab_type": "code",
        "cellView": "form",
        "colab": {}
      },
      "source": [
        "#@markdown Enter the paths to you input files and output folder here:\n",
        "import pandas as pd\n",
        "\n",
        "# set variables for our inputs\n",
        "data_folder='sample_cas9/fastq_pass'  #@param {type: \"string\"}\n",
        "output_folder='analysis'  #@param {type: \"string\"}\n",
        "reference_genome='grch38/grch38.fasta.gz' #@param {type: \"string\"}\n",
        "bed_file='targets.bed' #@param {type: \"string\"}\n",
        "\n",
        "fastq = output_folder + '/all_data.fastq'\n",
        "\n",
        "# run a command to concatenate all the files together\n",
        "!echo \"Making output folder\"\n",
        "!test -f \"$reference_genome\" || \"WARNING: Reference file does not exist\"\n",
        "!mkdir -p \"$output_folder\"\n",
        "!concatenate_fastqs \"$data_folder\" \"$fastq\"\n",
        "\n",
        "region_bed = pd.read_csv(\n",
        "    bed_file, sep='\\t', header=None,\n",
        "    # https://genome.ucsc.edu/FAQ/FAQformat.html#format1\n",
        "    names=[\n",
        "        'chrom', 'start', 'end',  #required\n",
        "        'tname', 'score', 'strand', 'thickStart', 'thickEnd',\n",
        "        'itemRgb', 'blockCount', 'blockSizes', 'blockStarts'])\n",
        "\n",
        "region_bed['region'] = [\n",
        "    '{}:{}-{}'.format(x['chrom'], x.start, x.end)\n",
        "    for _, x in region_bed.iterrows()]\n",
        "target_names = region_bed['tname'].to_list()\n"
      ],
      "execution_count": 0,
      "outputs": []
    },
    {
      "cell_type": "markdown",
      "metadata": {
        "id": "wfhtD7DZbl4Q",
        "colab_type": "text"
      },
      "source": [
        "## Alignment of reads\n",
        "\n",
        "Our first task in analysing our data is to align the sequence reads to the reference sequence. We do this with the `mini_align` program from the [`pomoxis`](https://github.com/nanoporetech/pomoxis) package. This is preinstalled in the **Epi2Me Labs** notebook server. Note that this command may take a while to run depending on the number of reads in your datasets. With the sample data (8000 reads) and using 4 compute threads (`-t 4` in the code), the alignments will take around 5 minutes.\n"
      ]
    },
    {
      "cell_type": "code",
      "metadata": {
        "id": "sTLIGAURr4Cd",
        "colab_type": "code",
        "colab": {}
      },
      "source": [
        "!run mini_align \\\n",
        "    -r \"$reference_genome\" -i \"$output_folder/all_data.fastq\" \\\n",
        "    -p \"$output_folder/alignments\" \\\n",
        "    -t 3 -m\n",
        "# for brevity the results of the above for the sample data can also be downloaded:\n",
        "# !wget https://ont-research.s3-eu-west-1.amazonaws.com/labs_resources/cas9_tutorial/alignments.bam\n",
        "# !wget https://ont-research.s3-eu-west-1.amazonaws.com/labs_resources/cas9_tutorial/alignments.bam.bai"
      ],
      "execution_count": 0,
      "outputs": []
    },
    {
      "cell_type": "markdown",
      "metadata": {
        "id": "emZnWTi-2rNl",
        "colab_type": "text"
      },
      "source": [
        "While we are here we will calculate also a table summarising the alignment data, again using a program from `pomoxis`:"
      ]
    },
    {
      "cell_type": "code",
      "metadata": {
        "id": "7PMfMRYr2-ef",
        "colab_type": "code",
        "colab": {}
      },
      "source": [
        "!run stats_from_bam \"$output_folder/alignments.bam\" \\\n",
        "    > \"$output_folder/alignments.stats\""
      ],
      "execution_count": 0,
      "outputs": []
    },
    {
      "cell_type": "markdown",
      "metadata": {
        "id": "iOn_k8_CsuvV",
        "colab_type": "text"
      },
      "source": [
        "The summary file gives useful information on the alignment of each read to the reference sequence, including: chromosome, start and end coordinates, and the accuracy of the read with respect to the reference. We can plot a histogram of the latter quantity:"
      ]
    },
    {
      "cell_type": "code",
      "metadata": {
        "id": "9cYOMIAtuXQa",
        "colab_type": "code",
        "cellView": "form",
        "colab": {}
      },
      "source": [
        "#@markdown ***Accuracy distribution code*** (*click to show*)\n",
        "\n",
        "#load python libraries\n",
        "from bokeh.plotting import figure\n",
        "from bokeh.models import Range1d\n",
        "import bokeh.io as bkio\n",
        "import numpy as np\n",
        "import pandas as pd\n",
        "from scipy import stats as sp_stats\n",
        "\n",
        "aln_summary = pd.read_csv(\n",
        "    '{}/alignments.stats'.format(output_folder),\n",
        "    delimiter='\\t')\n",
        "\n",
        "\n",
        "def kernel_density_estimate(x, step=0.2):\n",
        "    \"\"\"Kernel density to approximate distribution\n",
        "\n",
        "    :param x: data of which to find mode.\n",
        "    :param step: discretization of KDE PDF.\n",
        "    \"\"\"\n",
        "    # estimate bandwidth of kde, R's nrd0 rule-of-thumb\n",
        "    hi = np.std(x, ddof=1)\n",
        "    q75, q25 = np.percentile(x, [75 ,25])\n",
        "    iqr = q75 - q25\n",
        "    lo = min(hi, iqr/1.34)\n",
        "    if not ((lo == hi) or (lo == abs(x[0])) or (lo == 1)):\n",
        "        lo = 1\n",
        "    bw = 0.9 * lo *len(x)**-0.2\n",
        "\n",
        "    # create a KDE\n",
        "    x_grid = np.arange(min(x), max(x), step)\n",
        "    kernel = sp_stats.gaussian_kde(x, bw_method=bw)\n",
        "    pdf = kernel(x_grid)\n",
        "    return x_grid, pdf\n",
        "\n",
        "x_grid, pdf = kernel_density_estimate(aln_summary.acc)\n",
        "mode_acc = x_grid[np.argmax(pdf)]\n",
        "mean_acc = aln_summary.acc.mean()\n",
        "\n",
        "# create a figure\n",
        "p = figure(\n",
        "    title='Read accuracy distribution',\n",
        "    output_backend=\"webgl\",\n",
        "    height=300, width=600)\n",
        "\n",
        "p.line(x=x_grid, y=pdf, line_width=1.5)\n",
        "\n",
        "\n",
        "# plot a vertical line for mean and N50 read length\n",
        "line_types = (('Mean', mean_acc), ('Mode', mode_acc))\n",
        "for name, val in line_types:\n",
        "    p.line(\n",
        "        x=[val, val], y=[0, 0.8*max(pdf)],\n",
        "        line_width=1.5, color='black')\n",
        "    p.text(x=[val], y=[0.8*max(pdf)],\n",
        "        text=['{}: {:.1f}'.format(name, val)],\n",
        "        angle=1, alpha=0.4)\n",
        "\n",
        "# limit the display range\n",
        "p.x_range = Range1d(start=80, end=100, bounds=(0, None))\n",
        "p.y_range = Range1d(start=0, end=1.2*max(pdf), bounds=(0, None))\n",
        "# add axis labels\n",
        "p.xaxis.axis_label = 'Read Accuracy'\n",
        "p.yaxis.axis_label = 'Number of reads'\n",
        "# show the plot\n",
        "bkio.output_notebook(hide_banner=True)\n",
        "bkio.show(p)"
      ],
      "execution_count": 0,
      "outputs": []
    },
    {
      "cell_type": "markdown",
      "metadata": {
        "id": "r8pe1WWI2JwI",
        "colab_type": "text"
      },
      "source": [
        "The statistics file has many other columns which are interesting to explore:"
      ]
    },
    {
      "cell_type": "code",
      "metadata": {
        "id": "lHts9EyC2SVp",
        "colab_type": "code",
        "colab": {}
      },
      "source": [
        "aln_summary.info()"
      ],
      "execution_count": 0,
      "outputs": []
    },
    {
      "cell_type": "markdown",
      "metadata": {
        "id": "ouPONyB_15DB",
        "colab_type": "text"
      },
      "source": [
        "## On Target Depth\n",
        "\n",
        "In this section we will examine the depth of sequencing for each of the target regions, and count reads aligning to other genomic locations.\n",
        "\n",
        "For this purpose and throughout the rest of this tutorial we will use the [`Pyranges`](https://github.com/biocore-ntnu/pyranges) library."
      ]
    },
    {
      "cell_type": "markdown",
      "metadata": {
        "id": "aNVgJzCW-Mcr",
        "colab_type": "text"
      },
      "source": [
        "### Simple Overlaps\n",
        "\n",
        "As a first look at the data lets tabulate the number of reads overlapping each target. "
      ]
    },
    {
      "cell_type": "code",
      "metadata": {
        "id": "wfov7Ve3bAL3",
        "colab_type": "code",
        "cellView": "both",
        "colab": {}
      },
      "source": [
        "import pyranges as pr\n",
        "\n",
        "targets = region_bed[['chrom','start','end','tname']].rename(\n",
        "    columns={'chrom':'Chromosome','start':'Start','end':'End'}\n",
        ")\n",
        "targets = pr.PyRanges(targets)\n",
        "\n",
        "reads = aln_summary.rename(\n",
        "    columns = {'ref':'Chromosome','rstart':'Start','rend':'End'}\n",
        ")\n",
        "reads = pr.PyRanges(reads)\n",
        "ovl_summary = targets.count_overlaps(reads)\n",
        "ovl_summary.df"
      ],
      "execution_count": 0,
      "outputs": []
    },
    {
      "cell_type": "markdown",
      "metadata": {
        "id": "yexF406nbMRW",
        "colab_type": "text"
      },
      "source": [
        "The table above summaries the number of times a read overlaps one of the targets. We can also think about the inverse problem, how many times the targets intersect the reads; this allows us to calculate approximately numbers of on-target and off-target bases:"
      ]
    },
    {
      "cell_type": "code",
      "metadata": {
        "id": "OsBBwT8EgUrs",
        "colab_type": "code",
        "colab": {}
      },
      "source": [
        "# get on/off target reads\n",
        "ovl = reads.count_overlaps(targets)\n",
        "on_target = ovl[ovl.NumberOverlaps > 0]\n",
        "off_target = ovl[ovl.NumberOverlaps == 0]\n",
        "def summarize(df):\n",
        "    count = len(df)\n",
        "    bases = sum(df.End) - sum(df.Start)\n",
        "    ave_len = int(df.read_length.mean())\n",
        "    return count, bases // 1000, ave_len\n",
        "on_stats = summarize(on_target)\n",
        "off_stats = summarize(off_target)\n",
        "\n",
        "info = pd.DataFrame([\n",
        "        on_stats, off_stats],\n",
        "    columns=['Reads', 'Bases / k', 'Mean Read Length'],\n",
        "    index=['On target', 'Non-target'],\n",
        "    ).transpose()\n",
        "info['Total'] = info['On target'] + info['Non-target']\n",
        "display(info)"
      ],
      "execution_count": 0,
      "outputs": []
    },
    {
      "cell_type": "markdown",
      "metadata": {
        "id": "0QljJLeqmDkh",
        "colab_type": "text"
      },
      "source": [
        "### Genome tiles\n",
        "\n",
        "In order to quickly calculate more detailed statistics (and create informative plots), we will use a tiling technique. We will split the reference genome into uniformly sized tiles; for each reference tile we can calculate the overlapping reads. For the reference we construct the tiles using the `pysam` library to read the `reference_genome` file:"
      ]
    },
    {
      "cell_type": "code",
      "metadata": {
        "id": "0MhFrueipRmp",
        "colab_type": "code",
        "colab": {}
      },
      "source": [
        "import pysam\n",
        "tile_size = 100\n",
        "\n",
        "ref = pysam.FastaFile(reference_genome)\n",
        "ref_tiles = pr.PyRanges(\n",
        "    chromosomes=ref.references,\n",
        "    starts=[0] * ref.nreferences,\n",
        "    ends=ref.lengths\n",
        ").tile(tile_size=tile_size)"
      ],
      "execution_count": 0,
      "outputs": []
    },
    {
      "cell_type": "markdown",
      "metadata": {
        "id": "KNcXp8sm2h1N",
        "colab_type": "text"
      },
      "source": [
        "We will also define a small helper function to annotate genomic regions with additional information:"
      ]
    },
    {
      "cell_type": "code",
      "metadata": {
        "id": "BsMTwAGdrBvg",
        "colab_type": "code",
        "cellView": "form",
        "colab": {}
      },
      "source": [
        "#@markdown **set_column** function for annotating regions\n",
        "def set_column(pyr, chrom, loc, column, value):\n",
        "    \"\"\"Sets a column of a `PyRange` to a specified value.\n",
        "    \n",
        "    :param pyr: a `PyRange`.\n",
        "    :param chrom: a chromosome.\n",
        "    :param loc: a `Slice` (start, stop).\n",
        "    :param column: column name.\n",
        "    :param value: value to set the column.\n",
        "    \"\"\"\n",
        "    from pyranges.subset import find_overlaps\n",
        "    if pyr.stranded:\n",
        "        raise NotImplementedError(\"`set_column` does not handled strandedness\")\n",
        "\n",
        "    dfs = {chrom: pyr.dfs[chrom]}\n",
        "    max_end = list(dfs.values())[0].End.max()\n",
        "    \n",
        "    start = loc.start or 0\n",
        "    stop = loc.stop or max(max_end, start)\n",
        "    for k, df in dfs.items():\n",
        "        idx = find_overlaps(df, start, stop)\n",
        "        df.loc[idx, column] = value"
      ],
      "execution_count": 0,
      "outputs": []
    },
    {
      "cell_type": "markdown",
      "metadata": {
        "id": "nncz93li4DLF",
        "colab_type": "text"
      },
      "source": [
        "To proceed we will first use the function defined above to annotate our genome tiles and our reads with their target:"
      ]
    },
    {
      "cell_type": "code",
      "metadata": {
        "id": "UYxGdiwJ4GUp",
        "colab_type": "code",
        "colab": {}
      },
      "source": [
        "# Label reference genome tiles, and the reads\n",
        "ref_tiles.tname = 'Non-Target'\n",
        "reads.tname = 'Non-Target'\n",
        "for chrom, df in targets:\n",
        "    for _, t in df.iterrows():\n",
        "        print(\"Labelling {}\".format(t.tname))\n",
        "        set_column(\n",
        "            ref_tiles, t.Chromosome, slice(t.Start, t.End),\n",
        "            'tname', t.tname)\n",
        "        set_column(\n",
        "            reads, t.Chromosome, slice(t.Start, t.End),\n",
        "            'tname', t.tname)\n",
        "# count overlaps of read tiles to ref_tiles (similar to before)\n",
        "print('Calculating read hits')\n",
        "hits = ref_tiles.count_overlaps(reads)"
      ],
      "execution_count": 0,
      "outputs": []
    },
    {
      "cell_type": "markdown",
      "metadata": {
        "id": "Lo_0bEA07lcy",
        "colab_type": "text"
      },
      "source": [
        "Having prepared these tables we can now query them in various ways. Let's summarise the information we have for each target:"
      ]
    },
    {
      "cell_type": "code",
      "metadata": {
        "id": "w0FxCkA375KA",
        "colab_type": "code",
        "colab": {}
      },
      "source": [
        "def target_info(target_name, targets, hits, reads):\n",
        "    print('Getting statistics for {}.'.format(target_name))\n",
        "    info = targets[targets.tname == target_name].df\n",
        "    # Find intersecting hits\n",
        "    t_hits = hits.intersect(pr.PyRanges(info)).df\n",
        "    t_reads = reads.df[reads.df['tname'] == target_name]\n",
        "\n",
        "    info['tsize'] = info.End - info.Start\n",
        "    # use the tiles to calculate bases on target as parts of reads\n",
        "    # may not overlap\n",
        "    info['kbases'] = tile_size * t_hits['NumberOverlaps'].sum() / 1000\n",
        "    info['mean_coverage'] = t_hits['NumberOverlaps'].mean()  \n",
        "    if len(t_reads) > 0:\n",
        "        info['nreads'] = t_reads['name'].unique().size\n",
        "        info['mean_read_length'] = t_reads['read_length'].mean()\n",
        "        info['mean_accuracy'] = t_reads['acc'].mean()\n",
        "        fwd, rev = (len(t_reads[t_reads['direction'] == x]) for x in ('+', '-'))\n",
        "        info['strand_bias'] = (fwd - rev) / (fwd + rev)\n",
        "    else:\n",
        "        info['nreads'] = 0\n",
        "        info['mean_read_length'] = np.nan\n",
        "        info['mean_accuracy'] = np.nan\n",
        "        info['strand_bias'] = 0   \n",
        "    return info\n",
        "\n",
        "target_summary = list()\n",
        "for target in target_names:\n",
        "    target_summary.append(target_info(\n",
        "        target, targets, hits, reads\n",
        "    ))\n",
        "target_summary = pd.concat(target_summary).rename(columns={\n",
        "    'Chromosome':'chrom', 'Start':'start', 'End':'end'})\n",
        "pd.options.display.float_format = '{:,.2f}'.format\n",
        "display(target_summary)"
      ],
      "execution_count": 0,
      "outputs": []
    },
    {
      "cell_type": "markdown",
      "metadata": {
        "id": "G8eimQLGM1k7",
        "colab_type": "text"
      },
      "source": [
        "Using the tiling statistics we can make coverage plots for any region. "
      ]
    },
    {
      "cell_type": "code",
      "metadata": {
        "id": "pPJurv3L3X2V",
        "colab_type": "code",
        "cellView": "form",
        "colab": {}
      },
      "source": [
        "#@markdown **Coverage plot code** (*click to show*)\n",
        "import ipywidgets as widgets\n",
        "import matplotlib.pyplot as plt\n",
        "from matplotlib.ticker import MaxNLocator\n",
        "\n",
        "def plot_target(target=target_names[0]):\n",
        "    info = targets[targets.tname == target].df\n",
        "    display(info)\n",
        "    t = hits.intersect(pr.PyRanges(info)).df\n",
        "    fig, ax = plt.subplots()\n",
        "    ax.ticklabel_format(style='plain')\n",
        "    ax.yaxis.set_major_locator(MaxNLocator(integer=True))\n",
        "    ax.plot(t.Start, t.NumberOverlaps)\n",
        "    plt.xticks(rotation=30)\n",
        "    plt.xlabel('position')\n",
        "    plt.ylabel('coverage')\n",
        "    plt.show()\n",
        "\n",
        "default_target = target_names[0]\n",
        "widgets.interactive(\n",
        "    plot_target, target=target_names)\n"
      ],
      "execution_count": 0,
      "outputs": []
    },
    {
      "cell_type": "markdown",
      "metadata": {
        "id": "dnpp_T6dZsX_",
        "colab_type": "text"
      },
      "source": [
        "## Examining Non-Target Sequencing\n",
        "\n",
        "An important consideration for the Cas9 enrichment protocol is the throughput of sequencing not overlapping the target regions. These effects can be broken down further into three types:\n",
        "\n",
        "1.   **Target proximal** --- sequencing occurring around the target region.\n",
        "2.   **Off-target** --- enrichment of loci other than those intended, identified as high coverage regions which are not target regions.\n",
        "3.   **Background** --- non-specific sequencing, identified as low coverage sequencing throughout the genome.\n",
        "\n",
        "We will examine both of these effects in this section. In order to do this we will first identify the background level of sequencing. After this we can find regions which are not target regions but which have an abnormally high level of spanning reads."
      ]
    },
    {
      "cell_type": "markdown",
      "metadata": {
        "id": "U-eMhD2junJA",
        "colab_type": "text"
      },
      "source": [
        "### Calculating the background\n",
        "\n",
        "In order to calculate the background sequencing effect we will first calculate collectively the background and off-target effects. By using the overlaps of reads to the genome tiles calculated previously and subtracting the target regions and proximal regions we obtain the desired result:"
      ]
    },
    {
      "cell_type": "code",
      "metadata": {
        "id": "blsXj7aJLrj6",
        "colab_type": "code",
        "colab": {}
      },
      "source": [
        "def create_proximal(source, pad=1000):\n",
        "    \"\"\"Create `PyRanges` which flank a source `PyRanges`.\n",
        "\n",
        "    :param source: ranges for which to create flanks.\n",
        "    :param pad: length of flanking regions to create.\n",
        "    \"\"\"\n",
        "    lo = source.df\n",
        "    lo['End'] = lo['Start']\n",
        "    lo['Start'] = lo['Start'] - pad\n",
        "    lo.loc[lo['Start'] < 0, 'Start'] = 0\n",
        "    hi = source.df\n",
        "    hi['Start'] = hi['End']\n",
        "    hi['End'] = hi['Start'] + pad\n",
        "    return pr.PyRanges(pd.concat([lo, hi]))\n",
        "\n",
        "proximal = create_proximal(targets, 0.5*aln_summary['read_length'].mean())\n",
        "\n",
        "# background/off-target is anything not target or proximal\n",
        "non_hits = hits.subtract(targets).subtract(proximal)\n",
        "non_hits = non_hits.df[non_hits.df['NumberOverlaps'] > 0]\n",
        "# summarise targets\n",
        "target_hits = hits.overlap(targets).df\n",
        "target_hits.tname = 'On Target'\n",
        "# and proximal\n",
        "proximal_hits = hits.overlap(proximal).df\n",
        "proximal_hits.tname = 'Proximal'"
      ],
      "execution_count": 0,
      "outputs": []
    },
    {
      "cell_type": "markdown",
      "metadata": {
        "id": "V4Seq_YAWcm-",
        "colab_type": "text"
      },
      "source": [
        "Naturally determining the boundary between \"off-target\" and \"background\" using\n",
        "the coverage data is a heuristic. To get a qualitative feel for this distintiction we can plot a histogram of the number of genome tiles with defined coverage."
      ]
    },
    {
      "cell_type": "code",
      "metadata": {
        "id": "6JTGrv7kN-vO",
        "colab_type": "code",
        "cellView": "form",
        "colab": {}
      },
      "source": [
        "#@markdown **Tile coverage histogram code** (*click to show*)\n",
        "\n",
        "# create a histogram of non-target coverage\n",
        "counts = non_target['NumberOverlaps'].value_counts()\n",
        "values = counts.index\n",
        "counts = counts\n",
        "# for reference, calculate the mean coverage for all target regions\n",
        "mean_target_coverage = target_summary['mean_coverage'].mean()\n",
        "\n",
        "# create a figure\n",
        "p = figure(\n",
        "    title='Non-target Coverage',\n",
        "    output_backend=\"webgl\",\n",
        "    height=300, width=600)\n",
        "max_x = max(mean_target_coverage, max(values)) + 1\n",
        "max_y = max(counts[counts.index != 1])\n",
        "\n",
        "# plot the bars\n",
        "p.quad(top=counts, bottom=0, left=values-0.5, right=values+0.5,\n",
        "    fill_color='blue', line_color=None, alpha=0.6)\n",
        "p.line(\n",
        "    x=[mean_target_coverage] * 2, y=[0, 1.5*max_y],\n",
        "    line_width=1.5, color='black')\n",
        "p.text(\n",
        "    x=[mean_target_coverage], y=0,\n",
        "    text=['{}: {:.0f}'.format('Mean on-target', mean_target_coverage)],\n",
        "    angle=3.14/2)\n",
        "\n",
        "# limit the display range\n",
        "p.x_range = Range1d(start=0, end=max_x, bounds=(0, None))\n",
        "p.y_range = Range1d(start=0, end=1.5*max_y, bounds=(0, None))\n",
        "# add axis labels\n",
        "p.xaxis.axis_label = 'Background Coverage'\n",
        "p.yaxis.axis_label = '# tiles'\n",
        "# show the plot\n",
        "bkio.output_notebook(hide_banner=True)\n",
        "bkio.show(p)"
      ],
      "execution_count": 0,
      "outputs": []
    },
    {
      "cell_type": "markdown",
      "metadata": {
        "id": "5QQMD_Vlat3d",
        "colab_type": "text"
      },
      "source": [
        "\n",
        "The widget below can also be used to choose where the bounaryshould lie in according to the coverage or these regions:"
      ]
    },
    {
      "cell_type": "code",
      "metadata": {
        "id": "Es4M1ajBW18B",
        "colab_type": "code",
        "cellView": "form",
        "colab": {}
      },
      "source": [
        "#@markdown Off-target/Background filtering\n",
        "\n",
        "def summary(df):\n",
        "    kbases = tile_size * df['NumberOverlaps'].sum() // 1000\n",
        "    mean_cover = df['NumberOverlaps'].mean()\n",
        "    return pd.Series((kbases, mean_cover), index=['kbases', 'mean_coverage'])\n",
        "\n",
        "coverage_chooser = widgets.IntSlider(\n",
        "    value=np.mean(counts.index), min=0, max=max(counts.index), step=1)\n",
        "@widgets.interact\n",
        "def get_non_targets(coverage=w):\n",
        "    non_target.loc[non_target['NumberOverlaps'] > coverage, 'tname'] = 'Off Target'\n",
        "    non_target.loc[non_target['NumberOverlaps'] <= coverage, 'tname'] = 'Background'\n",
        "    res = pd.concat([non_target, good_hits, proximal_hits])\n",
        "    res = res.groupby('tname').apply(summary).reset_index(drop=False)\n",
        "    res.rename(columns={0:'kbases'}, inplace=True)\n",
        "    return res"
      ],
      "execution_count": 0,
      "outputs": []
    },
    {
      "cell_type": "markdown",
      "metadata": {
        "id": "46QekGLHuug4",
        "colab_type": "text"
      },
      "source": [
        "### Summarising off-target regions"
      ]
    },
    {
      "cell_type": "markdown",
      "metadata": {
        "id": "VQ8S8twsgA2e",
        "colab_type": "text"
      },
      "source": [
        "Finally to summarise the off-target regions, which could be analysed further, we can merge our genome tiles back into contiguous regions:"
      ]
    },
    {
      "cell_type": "code",
      "metadata": {
        "id": "8e_3CZtgb2Ep",
        "colab_type": "code",
        "colab": {}
      },
      "source": [
        "off_targets = pr.PyRanges(\n",
        "    non_target.loc[non_target['tname'] == 'Off Target']\n",
        ").merge().df\n",
        "display(off_targets)"
      ],
      "execution_count": 0,
      "outputs": []
    },
    {
      "cell_type": "markdown",
      "metadata": {
        "colab_type": "text",
        "id": "iF7WILGOwbI3"
      },
      "source": [
        "## Summary\n",
        "\n",
        "This tutorial has stepped through basic processing of a Cas9 enrichment experiment. We have examined the coverage of several target regions and examined the rates of proximal, off-target, and background sequencing effects.\n",
        "\n",
        "The code will run within **Google Colab** when connected to a local **Epi2Me Labs** notebook server.\n",
        "\n",
        "[Back to Epi2Me Labs](https://colab.research.google.com/github/epi2me-labs/resources/blob/master/welcome.ipynb)\n"
      ]
    },
    {
      "cell_type": "code",
      "metadata": {
        "id": "peTWsaPF5Jvo",
        "colab_type": "code",
        "colab": {}
      },
      "source": [
        ""
      ],
      "execution_count": 0,
      "outputs": []
    }
  ]
}