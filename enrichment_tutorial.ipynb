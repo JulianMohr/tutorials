{
  "nbformat": 4,
  "nbformat_minor": 0,
  "metadata": {
    "kernelspec": {
      "display_name": "Python 3",
      "language": "python",
      "name": "python3"
    },
    "language_info": {
      "codemirror_mode": {
        "name": "ipython",
        "version": 3
      },
      "file_extension": ".py",
      "mimetype": "text/x-python",
      "name": "python",
      "nbconvert_exporter": "python",
      "pygments_lexer": "ipython3",
      "version": "3.7.6"
    },
    "colab": {
      "name": "Cas9 Enrichment Tutorial.ipynb",
      "provenance": [],
      "toc_visible": true,
      "include_colab_link": true
    }
  },
  "cells": [
    {
      "cell_type": "markdown",
      "metadata": {
        "id": "view-in-github",
        "colab_type": "text"
      },
      "source": [
        "<a href=\"https://colab.research.google.com/github/epi2me-labs/testbooks/blob/master/enrichment_tutorial.ipynb\" target=\"_parent\"><img src=\"https://colab.research.google.com/assets/colab-badge.svg\" alt=\"Open In Colab\"/></a>"
      ]
    },
    {
      "cell_type": "markdown",
      "metadata": {
        "id": "eyhWQcLLP6Kt",
        "colab_type": "text"
      },
      "source": [
        "<h1>Cas9 Enrichment Tutorial</h1>\n",
        "\n",
        "This tutorial is intended as a introduction into the analysis of a Cas9 enrichment experiment with nanopore sequencing. The tutorial will step through a discuss the steps of the workflow starting from raw sequencing data. We will learn how to:\n",
        "\n",
        "* Align read data to a human reference sequence\n",
        "* Show the sequencing depth for target regions\n",
        "* Analyse the proportion of off-target reads\n",
        "\n",
        "The tutorial makes use of some common bioinformatics including:\n",
        "\n",
        "* `mini_align` - a simple interface to the [`minimap2`](https://github.com/lh3/minimap2) alignment program.\n",
        "* [`bedtools`](https://bedtools.readthedocs.io/en/latest/) - a \"*swiss-army knife of tools for a wide-range of genomics analysis tasks*\".\n",
        "\n",
        "Computational requirements for this tutorial include:\n",
        "\n",
        "- Computer running the **Epi2Me Labs** notebook Server\n",
        "- At least 8 Gb RAM\n"
      ]
    },
    {
      "cell_type": "markdown",
      "metadata": {
        "id": "a0y2JPI9SlxM",
        "colab_type": "text"
      },
      "source": [
        "## Introduction\n",
        "\n",
        "The tutorial requires a FASTQ format sequence file and a BED file of target coordinates as input, along with pointers to download locations for the reference genome to be used.\n",
        "\n",
        "The tutorial aids with the quantification of the non-target depletion and provides information on mapping characteristics that highlight the protocol performance. The figures plotted include depth-of-coverage over the target regions and strand bias over these regions. The location and peaks of coverage and local biases in strandedness may be used to assess the performance of guide-RNA sequences and may highlight guide RNAs that are not performing. A review of likely off-target regions over-represented within the sequence collection may inform of strategies to refine guide-RNA design.\n",
        "\n",
        "**Before stepping through the workflow be sure to connect this notebook to your local Epi2Me Labs server in the top right of the screen.** [Further details](https://colab.research.google.com/github/epi2me-labs/resources/blob/master/epi2me-labs-server.ipynb#connecting)\n"
      ]
    },
    {
      "cell_type": "markdown",
      "metadata": {
        "id": "ZMhjoLNaP6Ku",
        "colab_type": "text"
      },
      "source": [
        "## Data preparation\n",
        "\n",
        "To start analysing our experiment we must first \"read in\" the data. For this example we will first download three files:\n",
        "\n",
        "1. A `.fast5` file containing our sequencing data\n",
        "2. The human reference genome\n",
        "3. A `.bed` file describing the target regions of the genome\n"
      ]
    },
    {
      "cell_type": "markdown",
      "metadata": {
        "id": "LNl_IrI8pklV",
        "colab_type": "text"
      },
      "source": [
        "### Sample Data\n",
        "\n",
        "To use this tutorial with sample data we can download the files using the `linux` command `wget`. To execute the command click on the cell and then press Command/Ctrl-Enter, or click the Play symbol to the left-hand side."
      ]
    },
    {
      "cell_type": "markdown",
      "metadata": {
        "id": "fCRJklrYRhoB",
        "colab_type": "text"
      },
      "source": [
        "To get started we will download a sample sequencing dataset, click on the cell below and press the \"Play\" symbol to the left:"
      ]
    },
    {
      "cell_type": "code",
      "metadata": {
        "id": "MVacV0gxWwel",
        "colab_type": "code",
        "colab": {}
      },
      "source": [
        "# download the data\n",
        "!wget https://ont-research.s3-eu-west-1.amazonaws.com/labs_resources/cas9_tutorial/sample_cas9.tar.gz\n",
        "# the data is in a compressed archive so let's decompress it\n",
        "! tar -xzvf sample_cas9.tar.gz"
      ],
      "execution_count": 0,
      "outputs": []
    },
    {
      "cell_type": "markdown",
      "metadata": {
        "id": "U7nte38ESR3u",
        "colab_type": "text"
      },
      "source": [
        "The data downloaded is laid-out in the form as written by MinKNOW on a sequencing device, only reads passing the quality score filter applied by MinKNOW has been included (again click the cell and press play):"
      ]
    },
    {
      "cell_type": "code",
      "metadata": {
        "id": "87sHKcTNWlPf",
        "colab_type": "code",
        "colab": {}
      },
      "source": [
        "!tree sample_cas9"
      ],
      "execution_count": 0,
      "outputs": []
    },
    {
      "cell_type": "markdown",
      "metadata": {
        "id": "rbYU5N0KmBsW",
        "colab_type": "text"
      },
      "source": [
        "For our analysis we will also need the human genome reference, which we can download from NCBI:"
      ]
    },
    {
      "cell_type": "code",
      "metadata": {
        "id": "jTtCIdiO-IN3",
        "colab_type": "code",
        "colab": {}
      },
      "source": [
        "!mkdir -p sample_cas9_outputs\n",
        "!wget -O \"sample_cas9_outputs/grch38.fasta.gz\" http://ftp.ncbi.nlm.nih.gov/genomes/all/GCA/000/001/405/GCA_000001405.15_GRCh38/seqs_for_alignment_pipelines.ucsc_ids/GCA_000001405.15_GRCh38_no_alt_analysis_set.fna.gz\n",
        "# decompress and recompress with bgzip\n",
        "!gunzip \"sample_cas9_outputs/grch38.fasta.gz\"\n",
        "!run bgzip sample_cas9_outputs/grch38.fasta"
      ],
      "execution_count": 0,
      "outputs": []
    },
    {
      "cell_type": "markdown",
      "metadata": {
        "id": "3AuVE3qCoWrH",
        "colab_type": "text"
      },
      "source": [
        "Finally we will need a `BED` file describing the target regions of the genome."
      ]
    },
    {
      "cell_type": "code",
      "metadata": {
        "id": "SYhnDMfToh3d",
        "colab_type": "code",
        "colab": {}
      },
      "source": [
        "!wget -O sample_cas9/htt.bed https://ont-research.s3-eu-west-1.amazonaws.com/labs_resources/cas9_tutorial/htt.bed"
      ],
      "execution_count": 0,
      "outputs": []
    },
    {
      "cell_type": "markdown",
      "metadata": {
        "id": "nh7-4mZeXHRA",
        "colab_type": "text"
      },
      "source": [
        "### Using your own data\n",
        "\n",
        "If you wish to analyse your own data rather than the sample data, you can edit the value of the `data_folder` variable below. To find the correct full path of a directory you can navigate to it in\n",
        "the `Files` browser to the left-hand side, right-click on the file and select `Copy path`:"
      ]
    },
    {
      "cell_type": "markdown",
      "metadata": {
        "id": "vDCEs7E3Zy60",
        "colab_type": "text"
      },
      "source": [
        "![image.png](data:image/png;base64,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)"
      ]
    },
    {
      "cell_type": "markdown",
      "metadata": {
        "id": "1VM9k1NGZ8co",
        "colab_type": "text"
      },
      "source": [
        "When pasting the path in the code cell you will have to remove the preceding `/` character.\n"
      ]
    },
    {
      "cell_type": "markdown",
      "metadata": {
        "id": "rjXNch2Kp-_2",
        "colab_type": "text"
      },
      "source": [
        "### Data entry\n",
        "\n",
        "Having downloaded the sample data, or locating your own data in the file browser, we need to provide the filepaths as input to the notebook. This is done in the form below, after updating the values, be sure to press the play button."
      ]
    },
    {
      "cell_type": "markdown",
      "metadata": {
        "id": "46QEClv31y4J",
        "colab_type": "text"
      },
      "source": [
        "\n",
        "\n",
        "> **If you want simply to plot all the graphs in this tutorial for your dataset, rather than working through the tutorial, select `Run after` from the `Runtime` menu above after executing the cell above.**"
      ]
    },
    {
      "cell_type": "code",
      "metadata": {
        "id": "hexEX4x8VPfA",
        "colab_type": "code",
        "cellView": "form",
        "colab": {}
      },
      "source": [
        "#@markdown Enter the paths to you input files and output folder here:\n",
        "\n",
        "# set variables for our inputs\n",
        "data_folder='sample_cas9/fast5_pass'  #@param {type: \"string\"}\n",
        "output_folder='sample_cas9_outputs'  #@param {type: \"string\"}\n",
        "reference_genome='sample_cas9_outputs/grch38.fasta.gz' #@param {type: \"string\"}\n",
        "bed_file='sample_cas9_outputs/htt.bed' #@param {type: \"string\"}\n",
        "\n",
        "fastq = output_folder + '/all_data.fastq'\n",
        "\n",
        "# run a command to concatenate all the files together\n",
        "!echo \"Making output folder\"\n",
        "!test -f \"$reference_genome\" || \"WARNING: Reference file does not exist\"\n",
        "!mkdir -p \"$output_folder\"\n",
        "!concatenate_fastqs \"$data_folder\" \"$fastq\"\n",
        "\n"
      ],
      "execution_count": 0,
      "outputs": []
    },
    {
      "cell_type": "markdown",
      "metadata": {
        "id": "wfhtD7DZbl4Q",
        "colab_type": "text"
      },
      "source": [
        "## Alignment of reads\n",
        "\n",
        "Our first task in analysing our data is to align the sequence reads to the reference sequence. We do this with the `mini_align` program from the [`pomoxis`](https://github.com/nanoporetech/pomoxis) package. This is preinstalled in the **Epi2Me Labs** notebook server. Note that this command may take a while to run depending on the number of reads in your datasets. With the sample data (8000 reads) and using 4 compute threads (`-t 4` in the code), the alignments will take around 5 minutes.\n"
      ]
    },
    {
      "cell_type": "code",
      "metadata": {
        "id": "sTLIGAURr4Cd",
        "colab_type": "code",
        "colab": {}
      },
      "source": [
        "!run mini_align \\\n",
        "    -r \"$reference_genome\" -i \"$output_folder/all_data.fastq\" \\\n",
        "    -p \"$output_folder/alignments\" \\\n",
        "    -t 4 -m"
      ],
      "execution_count": 0,
      "outputs": []
    },
    {
      "cell_type": "markdown",
      "metadata": {
        "id": "emZnWTi-2rNl",
        "colab_type": "text"
      },
      "source": [
        "While we are here we will calculate also a table summarising the alignment data, again using a program from `pomoxis`:"
      ]
    },
    {
      "cell_type": "code",
      "metadata": {
        "id": "7PMfMRYr2-ef",
        "colab_type": "code",
        "colab": {}
      },
      "source": [
        "!run stats_from_bam \"$output_folder/alignments.bam\" \\\n",
        "    > \"$output_folder/alignments.stats\""
      ],
      "execution_count": 0,
      "outputs": []
    },
    {
      "cell_type": "markdown",
      "metadata": {
        "id": "iOn_k8_CsuvV",
        "colab_type": "text"
      },
      "source": [
        "The summary file gives useful information on the alignment of each read to the reference sequence, including: chromosome, start and end coordinates, and the accuracy of the read with respect to the reference. We can plot a histogram of the latter quantity:"
      ]
    },
    {
      "cell_type": "code",
      "metadata": {
        "id": "9cYOMIAtuXQa",
        "colab_type": "code",
        "colab": {
          "base_uri": "https://localhost:8080/",
          "height": 317
        },
        "cellView": "form",
        "outputId": "1c7d1a64-8f31-41e7-f35c-f3633f3e88f8"
      },
      "source": [
        "#@markdown ***Accuracy distribution code*** (*click to show*)\n",
        "\n",
        "#load python libraries\n",
        "from bokeh.plotting import figure\n",
        "from bokeh.models import Range1d\n",
        "import bokeh.io as bkio\n",
        "import numpy as np\n",
        "import pandas as pd\n",
        "from scipy import stats as sp_stats\n",
        "\n",
        "aln_summary = pd.read_csv(\n",
        "    '{}/alignments.stats'.format(output_folder),\n",
        "    delimiter='\\t')\n",
        "\n",
        "\n",
        "def kernel_density_estimate(x, step=0.2):\n",
        "    \"\"\"Kernel density to approximate distribution\n",
        "\n",
        "    :param x: data of which to find mode.\n",
        "    :param step: discretization of KDE PDF.\n",
        "    \"\"\"\n",
        "    # estimate bandwidth of kde, R's nrd0 rule-of-thumb\n",
        "    hi = np.std(x, ddof=1)\n",
        "    q75, q25 = np.percentile(x, [75 ,25])\n",
        "    iqr = q75 - q25\n",
        "    lo = min(hi, iqr/1.34)\n",
        "    if not ((lo == hi) or (lo == abs(x[0])) or (lo == 1)):\n",
        "        lo = 1\n",
        "    bw = 0.9 * lo *len(x)**-0.2\n",
        "\n",
        "    # create a KDE\n",
        "    x_grid = np.arange(min(x), max(x), step)\n",
        "    kernel = sp_stats.gaussian_kde(x, bw_method=bw)\n",
        "    pdf = kernel(x_grid)\n",
        "    return x_grid, pdf\n",
        "\n",
        "x_grid, pdf = kernel_density_estimate(aln_summary.acc)\n",
        "mode_acc = x_grid[np.argmax(pdf)]\n",
        "mean_acc = aln_summary.acc.mean()\n",
        "\n",
        "# create a figure\n",
        "p = figure(\n",
        "    title='Read accuracy distribution',\n",
        "    output_backend=\"webgl\",\n",
        "    height=300, width=600)\n",
        "\n",
        "p.line(x=x_grid, y=pdf, line_width=1.5)\n",
        "\n",
        "\n",
        "# plot a vertical line for mean and N50 read length\n",
        "line_types = (('Mean', mean_acc), ('Mode', mode_acc))\n",
        "for name, val in line_types:\n",
        "    p.line(\n",
        "        x=[val, val], y=[0, 0.8*max(pdf)],\n",
        "        line_width=1.5, color='black')\n",
        "    p.text(x=[val], y=[0.8*max(pdf)],\n",
        "        text=['{}: {:.1f}'.format(name, val)],\n",
        "        angle=1, alpha=0.4)\n",
        "\n",
        "# limit the display range\n",
        "p.x_range = Range1d(start=80, end=100, bounds=(0, None))\n",
        "p.y_range = Range1d(start=0, end=1.2*max(pdf), bounds=(0, None))\n",
        "# add axis labels\n",
        "p.xaxis.axis_label = 'Read Accuracy'\n",
        "p.yaxis.axis_label = 'Number of reads'\n",
        "# show the plot\n",
        "bkio.output_notebook(hide_banner=True)\n",
        "bkio.show(p)"
      ],
      "execution_count": 28,
      "outputs": [
        {
          "output_type": "display_data",
          "data": {
            "application/javascript": [
              "\n",
              "(function(root) {\n",
              "  function now() {\n",
              "    return new Date();\n",
              "  }\n",
              "\n",
              "  var force = true;\n",
              "\n",
              "  if (typeof root._bokeh_onload_callbacks === \"undefined\" || force === true) {\n",
              "    root._bokeh_onload_callbacks = [];\n",
              "    root._bokeh_is_loading = undefined;\n",
              "  }\n",
              "\n",
              "  var JS_MIME_TYPE = 'application/javascript';\n",
              "  var HTML_MIME_TYPE = 'text/html';\n",
              "  var EXEC_MIME_TYPE = 'application/vnd.bokehjs_exec.v0+json';\n",
              "  var CLASS_NAME = 'output_bokeh rendered_html';\n",
              "\n",
              "  /**\n",
              "   * Render data to the DOM node\n",
              "   */\n",
              "  function render(props, node) {\n",
              "    var script = document.createElement(\"script\");\n",
              "    node.appendChild(script);\n",
              "  }\n",
              "\n",
              "  /**\n",
              "   * Handle when an output is cleared or removed\n",
              "   */\n",
              "  function handleClearOutput(event, handle) {\n",
              "    var cell = handle.cell;\n",
              "\n",
              "    var id = cell.output_area._bokeh_element_id;\n",
              "    var server_id = cell.output_area._bokeh_server_id;\n",
              "    // Clean up Bokeh references\n",
              "    if (id != null && id in Bokeh.index) {\n",
              "      Bokeh.index[id].model.document.clear();\n",
              "      delete Bokeh.index[id];\n",
              "    }\n",
              "\n",
              "    if (server_id !== undefined) {\n",
              "      // Clean up Bokeh references\n",
              "      var cmd = \"from bokeh.io.state import curstate; print(curstate().uuid_to_server['\" + server_id + \"'].get_sessions()[0].document.roots[0]._id)\";\n",
              "      cell.notebook.kernel.execute(cmd, {\n",
              "        iopub: {\n",
              "          output: function(msg) {\n",
              "            var id = msg.content.text.trim();\n",
              "            if (id in Bokeh.index) {\n",
              "              Bokeh.index[id].model.document.clear();\n",
              "              delete Bokeh.index[id];\n",
              "            }\n",
              "          }\n",
              "        }\n",
              "      });\n",
              "      // Destroy server and session\n",
              "      var cmd = \"import bokeh.io.notebook as ion; ion.destroy_server('\" + server_id + \"')\";\n",
              "      cell.notebook.kernel.execute(cmd);\n",
              "    }\n",
              "  }\n",
              "\n",
              "  /**\n",
              "   * Handle when a new output is added\n",
              "   */\n",
              "  function handleAddOutput(event, handle) {\n",
              "    var output_area = handle.output_area;\n",
              "    var output = handle.output;\n",
              "\n",
              "    // limit handleAddOutput to display_data with EXEC_MIME_TYPE content only\n",
              "    if ((output.output_type != \"display_data\") || (!output.data.hasOwnProperty(EXEC_MIME_TYPE))) {\n",
              "      return\n",
              "    }\n",
              "\n",
              "    var toinsert = output_area.element.find(\".\" + CLASS_NAME.split(' ')[0]);\n",
              "\n",
              "    if (output.metadata[EXEC_MIME_TYPE][\"id\"] !== undefined) {\n",
              "      toinsert[toinsert.length - 1].firstChild.textContent = output.data[JS_MIME_TYPE];\n",
              "      // store reference to embed id on output_area\n",
              "      output_area._bokeh_element_id = output.metadata[EXEC_MIME_TYPE][\"id\"];\n",
              "    }\n",
              "    if (output.metadata[EXEC_MIME_TYPE][\"server_id\"] !== undefined) {\n",
              "      var bk_div = document.createElement(\"div\");\n",
              "      bk_div.innerHTML = output.data[HTML_MIME_TYPE];\n",
              "      var script_attrs = bk_div.children[0].attributes;\n",
              "      for (var i = 0; i < script_attrs.length; i++) {\n",
              "        toinsert[toinsert.length - 1].firstChild.setAttribute(script_attrs[i].name, script_attrs[i].value);\n",
              "      }\n",
              "      // store reference to server id on output_area\n",
              "      output_area._bokeh_server_id = output.metadata[EXEC_MIME_TYPE][\"server_id\"];\n",
              "    }\n",
              "  }\n",
              "\n",
              "  function register_renderer(events, OutputArea) {\n",
              "\n",
              "    function append_mime(data, metadata, element) {\n",
              "      // create a DOM node to render to\n",
              "      var toinsert = this.create_output_subarea(\n",
              "        metadata,\n",
              "        CLASS_NAME,\n",
              "        EXEC_MIME_TYPE\n",
              "      );\n",
              "      this.keyboard_manager.register_events(toinsert);\n",
              "      // Render to node\n",
              "      var props = {data: data, metadata: metadata[EXEC_MIME_TYPE]};\n",
              "      render(props, toinsert[toinsert.length - 1]);\n",
              "      element.append(toinsert);\n",
              "      return toinsert\n",
              "    }\n",
              "\n",
              "    /* Handle when an output is cleared or removed */\n",
              "    events.on('clear_output.CodeCell', handleClearOutput);\n",
              "    events.on('delete.Cell', handleClearOutput);\n",
              "\n",
              "    /* Handle when a new output is added */\n",
              "    events.on('output_added.OutputArea', handleAddOutput);\n",
              "\n",
              "    /**\n",
              "     * Register the mime type and append_mime function with output_area\n",
              "     */\n",
              "    OutputArea.prototype.register_mime_type(EXEC_MIME_TYPE, append_mime, {\n",
              "      /* Is output safe? */\n",
              "      safe: true,\n",
              "      /* Index of renderer in `output_area.display_order` */\n",
              "      index: 0\n",
              "    });\n",
              "  }\n",
              "\n",
              "  // register the mime type if in Jupyter Notebook environment and previously unregistered\n",
              "  if (root.Jupyter !== undefined) {\n",
              "    var events = require('base/js/events');\n",
              "    var OutputArea = require('notebook/js/outputarea').OutputArea;\n",
              "\n",
              "    if (OutputArea.prototype.mime_types().indexOf(EXEC_MIME_TYPE) == -1) {\n",
              "      register_renderer(events, OutputArea);\n",
              "    }\n",
              "  }\n",
              "\n",
              "  \n",
              "  if (typeof (root._bokeh_timeout) === \"undefined\" || force === true) {\n",
              "    root._bokeh_timeout = Date.now() + 5000;\n",
              "    root._bokeh_failed_load = false;\n",
              "  }\n",
              "\n",
              "  var NB_LOAD_WARNING = {'data': {'text/html':\n",
              "     \"<div style='background-color: #fdd'>\\n\"+\n",
              "     \"<p>\\n\"+\n",
              "     \"BokehJS does not appear to have successfully loaded. If loading BokehJS from CDN, this \\n\"+\n",
              "     \"may be due to a slow or bad network connection. Possible fixes:\\n\"+\n",
              "     \"</p>\\n\"+\n",
              "     \"<ul>\\n\"+\n",
              "     \"<li>re-rerun `output_notebook()` to attempt to load from CDN again, or</li>\\n\"+\n",
              "     \"<li>use INLINE resources instead, as so:</li>\\n\"+\n",
              "     \"</ul>\\n\"+\n",
              "     \"<code>\\n\"+\n",
              "     \"from bokeh.resources import INLINE\\n\"+\n",
              "     \"output_notebook(resources=INLINE)\\n\"+\n",
              "     \"</code>\\n\"+\n",
              "     \"</div>\"}};\n",
              "\n",
              "  function display_loaded() {\n",
              "    var el = document.getElementById(null);\n",
              "    if (el != null) {\n",
              "      el.textContent = \"BokehJS is loading...\";\n",
              "    }\n",
              "    if (root.Bokeh !== undefined) {\n",
              "      if (el != null) {\n",
              "        el.textContent = \"BokehJS \" + root.Bokeh.version + \" successfully loaded.\";\n",
              "      }\n",
              "    } else if (Date.now() < root._bokeh_timeout) {\n",
              "      setTimeout(display_loaded, 100)\n",
              "    }\n",
              "  }\n",
              "\n",
              "\n",
              "  function run_callbacks() {\n",
              "    try {\n",
              "      root._bokeh_onload_callbacks.forEach(function(callback) {\n",
              "        if (callback != null)\n",
              "          callback();\n",
              "      });\n",
              "    } finally {\n",
              "      delete root._bokeh_onload_callbacks\n",
              "    }\n",
              "    console.debug(\"Bokeh: all callbacks have finished\");\n",
              "  }\n",
              "\n",
              "  function load_libs(css_urls, js_urls, callback) {\n",
              "    if (css_urls == null) css_urls = [];\n",
              "    if (js_urls == null) js_urls = [];\n",
              "\n",
              "    root._bokeh_onload_callbacks.push(callback);\n",
              "    if (root._bokeh_is_loading > 0) {\n",
              "      console.debug(\"Bokeh: BokehJS is being loaded, scheduling callback at\", now());\n",
              "      return null;\n",
              "    }\n",
              "    if (js_urls == null || js_urls.length === 0) {\n",
              "      run_callbacks();\n",
              "      return null;\n",
              "    }\n",
              "    console.debug(\"Bokeh: BokehJS not loaded, scheduling load and callback at\", now());\n",
              "    root._bokeh_is_loading = css_urls.length + js_urls.length;\n",
              "\n",
              "    function on_load() {\n",
              "      root._bokeh_is_loading--;\n",
              "      if (root._bokeh_is_loading === 0) {\n",
              "        console.debug(\"Bokeh: all BokehJS libraries/stylesheets loaded\");\n",
              "        run_callbacks()\n",
              "      }\n",
              "    }\n",
              "\n",
              "    function on_error() {\n",
              "      console.error(\"failed to load \" + url);\n",
              "    }\n",
              "\n",
              "    for (var i = 0; i < css_urls.length; i++) {\n",
              "      var url = css_urls[i];\n",
              "      const element = document.createElement(\"link\");\n",
              "      element.onload = on_load;\n",
              "      element.onerror = on_error;\n",
              "      element.rel = \"stylesheet\";\n",
              "      element.type = \"text/css\";\n",
              "      element.href = url;\n",
              "      console.debug(\"Bokeh: injecting link tag for BokehJS stylesheet: \", url);\n",
              "      document.body.appendChild(element);\n",
              "    }\n",
              "\n",
              "    for (var i = 0; i < js_urls.length; i++) {\n",
              "      var url = js_urls[i];\n",
              "      var element = document.createElement('script');\n",
              "      element.onload = on_load;\n",
              "      element.onerror = on_error;\n",
              "      element.async = false;\n",
              "      element.src = url;\n",
              "      console.debug(\"Bokeh: injecting script tag for BokehJS library: \", url);\n",
              "      document.head.appendChild(element);\n",
              "    }\n",
              "  };\n",
              "\n",
              "  function inject_raw_css(css) {\n",
              "    const element = document.createElement(\"style\");\n",
              "    element.appendChild(document.createTextNode(css));\n",
              "    document.body.appendChild(element);\n",
              "  }\n",
              "\n",
              "  \n",
              "  var js_urls = [\"https://cdn.pydata.org/bokeh/release/bokeh-1.4.0.min.js\", \"https://cdn.pydata.org/bokeh/release/bokeh-widgets-1.4.0.min.js\", \"https://cdn.pydata.org/bokeh/release/bokeh-tables-1.4.0.min.js\", \"https://cdn.pydata.org/bokeh/release/bokeh-gl-1.4.0.min.js\"];\n",
              "  var css_urls = [];\n",
              "  \n",
              "\n",
              "  var inline_js = [\n",
              "    function(Bokeh) {\n",
              "      Bokeh.set_log_level(\"info\");\n",
              "    },\n",
              "    function(Bokeh) {\n",
              "    \n",
              "    \n",
              "    }\n",
              "  ];\n",
              "\n",
              "  function run_inline_js() {\n",
              "    \n",
              "    if (root.Bokeh !== undefined || force === true) {\n",
              "      \n",
              "    for (var i = 0; i < inline_js.length; i++) {\n",
              "      inline_js[i].call(root, root.Bokeh);\n",
              "    }\n",
              "    } else if (Date.now() < root._bokeh_timeout) {\n",
              "      setTimeout(run_inline_js, 100);\n",
              "    } else if (!root._bokeh_failed_load) {\n",
              "      console.log(\"Bokeh: BokehJS failed to load within specified timeout.\");\n",
              "      root._bokeh_failed_load = true;\n",
              "    } else if (force !== true) {\n",
              "      var cell = $(document.getElementById(null)).parents('.cell').data().cell;\n",
              "      cell.output_area.append_execute_result(NB_LOAD_WARNING)\n",
              "    }\n",
              "\n",
              "  }\n",
              "\n",
              "  if (root._bokeh_is_loading === 0) {\n",
              "    console.debug(\"Bokeh: BokehJS loaded, going straight to plotting\");\n",
              "    run_inline_js();\n",
              "  } else {\n",
              "    load_libs(css_urls, js_urls, function() {\n",
              "      console.debug(\"Bokeh: BokehJS plotting callback run at\", now());\n",
              "      run_inline_js();\n",
              "    });\n",
              "  }\n",
              "}(window));"
            ],
            "application/vnd.bokehjs_load.v0+json": "\n(function(root) {\n  function now() {\n    return new Date();\n  }\n\n  var force = true;\n\n  if (typeof root._bokeh_onload_callbacks === \"undefined\" || force === true) {\n    root._bokeh_onload_callbacks = [];\n    root._bokeh_is_loading = undefined;\n  }\n\n  \n\n  \n  if (typeof (root._bokeh_timeout) === \"undefined\" || force === true) {\n    root._bokeh_timeout = Date.now() + 5000;\n    root._bokeh_failed_load = false;\n  }\n\n  var NB_LOAD_WARNING = {'data': {'text/html':\n     \"<div style='background-color: #fdd'>\\n\"+\n     \"<p>\\n\"+\n     \"BokehJS does not appear to have successfully loaded. If loading BokehJS from CDN, this \\n\"+\n     \"may be due to a slow or bad network connection. Possible fixes:\\n\"+\n     \"</p>\\n\"+\n     \"<ul>\\n\"+\n     \"<li>re-rerun `output_notebook()` to attempt to load from CDN again, or</li>\\n\"+\n     \"<li>use INLINE resources instead, as so:</li>\\n\"+\n     \"</ul>\\n\"+\n     \"<code>\\n\"+\n     \"from bokeh.resources import INLINE\\n\"+\n     \"output_notebook(resources=INLINE)\\n\"+\n     \"</code>\\n\"+\n     \"</div>\"}};\n\n  function display_loaded() {\n    var el = document.getElementById(null);\n    if (el != null) {\n      el.textContent = \"BokehJS is loading...\";\n    }\n    if (root.Bokeh !== undefined) {\n      if (el != null) {\n        el.textContent = \"BokehJS \" + root.Bokeh.version + \" successfully loaded.\";\n      }\n    } else if (Date.now() < root._bokeh_timeout) {\n      setTimeout(display_loaded, 100)\n    }\n  }\n\n\n  function run_callbacks() {\n    try {\n      root._bokeh_onload_callbacks.forEach(function(callback) {\n        if (callback != null)\n          callback();\n      });\n    } finally {\n      delete root._bokeh_onload_callbacks\n    }\n    console.debug(\"Bokeh: all callbacks have finished\");\n  }\n\n  function load_libs(css_urls, js_urls, callback) {\n    if (css_urls == null) css_urls = [];\n    if (js_urls == null) js_urls = [];\n\n    root._bokeh_onload_callbacks.push(callback);\n    if (root._bokeh_is_loading > 0) {\n      console.debug(\"Bokeh: BokehJS is being loaded, scheduling callback at\", now());\n      return null;\n    }\n    if (js_urls == null || js_urls.length === 0) {\n      run_callbacks();\n      return null;\n    }\n    console.debug(\"Bokeh: BokehJS not loaded, scheduling load and callback at\", now());\n    root._bokeh_is_loading = css_urls.length + js_urls.length;\n\n    function on_load() {\n      root._bokeh_is_loading--;\n      if (root._bokeh_is_loading === 0) {\n        console.debug(\"Bokeh: all BokehJS libraries/stylesheets loaded\");\n        run_callbacks()\n      }\n    }\n\n    function on_error() {\n      console.error(\"failed to load \" + url);\n    }\n\n    for (var i = 0; i < css_urls.length; i++) {\n      var url = css_urls[i];\n      const element = document.createElement(\"link\");\n      element.onload = on_load;\n      element.onerror = on_error;\n      element.rel = \"stylesheet\";\n      element.type = \"text/css\";\n      element.href = url;\n      console.debug(\"Bokeh: injecting link tag for BokehJS stylesheet: \", url);\n      document.body.appendChild(element);\n    }\n\n    for (var i = 0; i < js_urls.length; i++) {\n      var url = js_urls[i];\n      var element = document.createElement('script');\n      element.onload = on_load;\n      element.onerror = on_error;\n      element.async = false;\n      element.src = url;\n      console.debug(\"Bokeh: injecting script tag for BokehJS library: \", url);\n      document.head.appendChild(element);\n    }\n  };\n\n  function inject_raw_css(css) {\n    const element = document.createElement(\"style\");\n    element.appendChild(document.createTextNode(css));\n    document.body.appendChild(element);\n  }\n\n  \n  var js_urls = [\"https://cdn.pydata.org/bokeh/release/bokeh-1.4.0.min.js\", \"https://cdn.pydata.org/bokeh/release/bokeh-widgets-1.4.0.min.js\", \"https://cdn.pydata.org/bokeh/release/bokeh-tables-1.4.0.min.js\", \"https://cdn.pydata.org/bokeh/release/bokeh-gl-1.4.0.min.js\"];\n  var css_urls = [];\n  \n\n  var inline_js = [\n    function(Bokeh) {\n      Bokeh.set_log_level(\"info\");\n    },\n    function(Bokeh) {\n    \n    \n    }\n  ];\n\n  function run_inline_js() {\n    \n    if (root.Bokeh !== undefined || force === true) {\n      \n    for (var i = 0; i < inline_js.length; i++) {\n      inline_js[i].call(root, root.Bokeh);\n    }\n    } else if (Date.now() < root._bokeh_timeout) {\n      setTimeout(run_inline_js, 100);\n    } else if (!root._bokeh_failed_load) {\n      console.log(\"Bokeh: BokehJS failed to load within specified timeout.\");\n      root._bokeh_failed_load = true;\n    } else if (force !== true) {\n      var cell = $(document.getElementById(null)).parents('.cell').data().cell;\n      cell.output_area.append_execute_result(NB_LOAD_WARNING)\n    }\n\n  }\n\n  if (root._bokeh_is_loading === 0) {\n    console.debug(\"Bokeh: BokehJS loaded, going straight to plotting\");\n    run_inline_js();\n  } else {\n    load_libs(css_urls, js_urls, function() {\n      console.debug(\"Bokeh: BokehJS plotting callback run at\", now());\n      run_inline_js();\n    });\n  }\n}(window));"
          },
          "metadata": {
            "tags": []
          }
        },
        {
          "output_type": "display_data",
          "data": {
            "text/html": [
              "\n",
              "\n",
              "\n",
              "\n",
              "\n",
              "\n",
              "  <div class=\"bk-root\" id=\"d8a39c01-ef99-4401-a4d9-f72b336816da\" data-root-id=\"5175\"></div>\n"
            ]
          },
          "metadata": {
            "tags": []
          }
        },
        {
          "output_type": "display_data",
          "data": {
            "application/javascript": [
              "(function(root) {\n",
              "  function embed_document(root) {\n",
              "    \n",
              "  var docs_json = {\"c37c4ba7-c6d0-4fc4-b469-b3356bf5f7b8\":{\"roots\":{\"references\":[{\"attributes\":{\"below\":[{\"id\":\"5186\",\"type\":\"LinearAxis\"}],\"center\":[{\"id\":\"5190\",\"type\":\"Grid\"},{\"id\":\"5195\",\"type\":\"Grid\"}],\"left\":[{\"id\":\"5191\",\"type\":\"LinearAxis\"}],\"output_backend\":\"webgl\",\"plot_height\":300,\"renderers\":[{\"id\":\"5212\",\"type\":\"GlyphRenderer\"},{\"id\":\"5217\",\"type\":\"GlyphRenderer\"},{\"id\":\"5222\",\"type\":\"GlyphRenderer\"},{\"id\":\"5227\",\"type\":\"GlyphRenderer\"},{\"id\":\"5232\",\"type\":\"GlyphRenderer\"}],\"title\":{\"id\":\"5176\",\"type\":\"Title\"},\"toolbar\":{\"id\":\"5202\",\"type\":\"Toolbar\"},\"x_range\":{\"id\":\"5234\",\"type\":\"Range1d\"},\"x_scale\":{\"id\":\"5182\",\"type\":\"LinearScale\"},\"y_range\":{\"id\":\"5235\",\"type\":\"Range1d\"},\"y_scale\":{\"id\":\"5184\",\"type\":\"LinearScale\"}},\"id\":\"5175\",\"subtype\":\"Figure\",\"type\":\"Plot\"},{\"attributes\":{},\"id\":\"5184\",\"type\":\"LinearScale\"},{\"attributes\":{\"overlay\":{\"id\":\"5475\",\"type\":\"BoxAnnotation\"}},\"id\":\"5198\",\"type\":\"BoxZoomTool\"},{\"attributes\":{},\"id\":\"5482\",\"type\":\"UnionRenderers\"},{\"attributes\":{\"ticker\":{\"id\":\"5187\",\"type\":\"BasicTicker\"}},\"id\":\"5190\",\"type\":\"Grid\"},{\"attributes\":{\"callback\":null,\"data\":{\"x\":[93.46423768959255,93.46423768959255],\"y\":[0,0.17859822286879196]},\"selected\":{\"id\":\"5479\",\"type\":\"Selection\"},\"selection_policy\":{\"id\":\"5478\",\"type\":\"UnionRenderers\"}},\"id\":\"5214\",\"type\":\"ColumnDataSource\"},{\"attributes\":{\"callback\":null,\"data\":{\"text\":[\"Mean: 93.5\"],\"x\":[93.46423768959255],\"y\":[0.17859822286879196]},\"selected\":{\"id\":\"5481\",\"type\":\"Selection\"},\"selection_policy\":{\"id\":\"5480\",\"type\":\"UnionRenderers\"}},\"id\":\"5219\",\"type\":\"ColumnDataSource\"},{\"attributes\":{\"line_width\":1.5,\"x\":{\"field\":\"x\"},\"y\":{\"field\":\"y\"}},\"id\":\"5215\",\"type\":\"Line\"},{\"attributes\":{},\"id\":\"5480\",\"type\":\"UnionRenderers\"},{\"attributes\":{\"axis_label\":\"Read Accuracy\",\"formatter\":{\"id\":\"5472\",\"type\":\"BasicTickFormatter\"},\"ticker\":{\"id\":\"5187\",\"type\":\"BasicTicker\"}},\"id\":\"5186\",\"type\":\"LinearAxis\"},{\"attributes\":{\"source\":{\"id\":\"5224\",\"type\":\"ColumnDataSource\"}},\"id\":\"5228\",\"type\":\"CDSView\"},{\"attributes\":{\"bounds\":[0,null],\"callback\":null,\"end\":100,\"start\":80},\"id\":\"5234\",\"type\":\"Range1d\"},{\"attributes\":{},\"id\":\"5478\",\"type\":\"UnionRenderers\"},{\"attributes\":{\"bottom_units\":\"screen\",\"fill_alpha\":{\"value\":0.5},\"fill_color\":{\"value\":\"lightgrey\"},\"left_units\":\"screen\",\"level\":\"overlay\",\"line_alpha\":{\"value\":1.0},\"line_color\":{\"value\":\"black\"},\"line_dash\":[4,4],\"line_width\":{\"value\":2},\"render_mode\":\"css\",\"right_units\":\"screen\",\"top_units\":\"screen\"},\"id\":\"5475\",\"type\":\"BoxAnnotation\"},{\"attributes\":{},\"id\":\"5481\",\"type\":\"Selection\"},{\"attributes\":{\"callback\":null,\"data\":{\"text\":[\"Mode: 95.1\"],\"x\":[95.0744186046517],\"y\":[0.17859822286879196]},\"selected\":{\"id\":\"5485\",\"type\":\"Selection\"},\"selection_policy\":{\"id\":\"5484\",\"type\":\"UnionRenderers\"}},\"id\":\"5229\",\"type\":\"ColumnDataSource\"},{\"attributes\":{},\"id\":\"5476\",\"type\":\"UnionRenderers\"},{\"attributes\":{\"callback\":null,\"data\":{\"x\":{\"__ndarray__\":\"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\",\"dtype\":\"float64\",\"shape\":[210]},\"y\":{\"__ndarray__\":\"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\",\"dtype\":\"float64\",\"shape\":[210]}},\"selected\":{\"id\":\"5477\",\"type\":\"Selection\"},\"selection_policy\":{\"id\":\"5476\",\"type\":\"UnionRenderers\"}},\"id\":\"5209\",\"type\":\"ColumnDataSource\"},{\"attributes\":{\"callback\":null,\"data\":{\"x\":[95.0744186046517,95.0744186046517],\"y\":[0,0.17859822286879196]},\"selected\":{\"id\":\"5483\",\"type\":\"Selection\"},\"selection_policy\":{\"id\":\"5482\",\"type\":\"UnionRenderers\"}},\"id\":\"5224\",\"type\":\"ColumnDataSource\"},{\"attributes\":{},\"id\":\"5479\",\"type\":\"Selection\"},{\"attributes\":{\"text\":\"Read accuracy distribution\"},\"id\":\"5176\",\"type\":\"Title\"},{\"attributes\":{},\"id\":\"5484\",\"type\":\"UnionRenderers\"},{\"attributes\":{\"angle\":{\"units\":\"rad\",\"value\":1},\"text_alpha\":{\"value\":0.1},\"text_color\":{\"value\":\"black\"},\"x\":{\"field\":\"x\"},\"y\":{\"field\":\"y\"}},\"id\":\"5221\",\"type\":\"Text\"},{\"attributes\":{\"angle\":{\"units\":\"rad\",\"value\":1},\"text_alpha\":{\"value\":0.1},\"text_color\":{\"value\":\"black\"},\"x\":{\"field\":\"x\"},\"y\":{\"field\":\"y\"}},\"id\":\"5231\",\"type\":\"Text\"},{\"attributes\":{},\"id\":\"5182\",\"type\":\"LinearScale\"},{\"attributes\":{},\"id\":\"5472\",\"type\":\"BasicTickFormatter\"},{\"attributes\":{},\"id\":\"5483\",\"type\":\"Selection\"},{\"attributes\":{\"source\":{\"id\":\"5229\",\"type\":\"ColumnDataSource\"}},\"id\":\"5233\",\"type\":\"CDSView\"},{\"attributes\":{\"line_color\":\"#1f77b4\",\"line_width\":1.5,\"x\":{\"field\":\"x\"},\"y\":{\"field\":\"y\"}},\"id\":\"5210\",\"type\":\"Line\"},{\"attributes\":{\"line_alpha\":0.1,\"line_color\":\"#1f77b4\",\"line_width\":1.5,\"x\":{\"field\":\"x\"},\"y\":{\"field\":\"y\"}},\"id\":\"5226\",\"type\":\"Line\"},{\"attributes\":{\"data_source\":{\"id\":\"5224\",\"type\":\"ColumnDataSource\"},\"glyph\":{\"id\":\"5225\",\"type\":\"Line\"},\"hover_glyph\":null,\"muted_glyph\":null,\"nonselection_glyph\":{\"id\":\"5226\",\"type\":\"Line\"},\"selection_glyph\":null,\"view\":{\"id\":\"5228\",\"type\":\"CDSView\"}},\"id\":\"5227\",\"type\":\"GlyphRenderer\"},{\"attributes\":{\"line_alpha\":0.1,\"line_color\":\"#1f77b4\",\"line_width\":1.5,\"x\":{\"field\":\"x\"},\"y\":{\"field\":\"y\"}},\"id\":\"5211\",\"type\":\"Line\"},{\"attributes\":{},\"id\":\"5474\",\"type\":\"BasicTickFormatter\"},{\"attributes\":{\"angle\":{\"units\":\"rad\",\"value\":1},\"text_alpha\":{\"value\":0.4},\"text_color\":{\"value\":\"black\"},\"x\":{\"field\":\"x\"},\"y\":{\"field\":\"y\"}},\"id\":\"5220\",\"type\":\"Text\"},{\"attributes\":{\"data_source\":{\"id\":\"5209\",\"type\":\"ColumnDataSource\"},\"glyph\":{\"id\":\"5210\",\"type\":\"Line\"},\"hover_glyph\":null,\"muted_glyph\":null,\"nonselection_glyph\":{\"id\":\"5211\",\"type\":\"Line\"},\"selection_glyph\":null,\"view\":{\"id\":\"5213\",\"type\":\"CDSView\"}},\"id\":\"5212\",\"type\":\"GlyphRenderer\"},{\"attributes\":{\"dimension\":1,\"ticker\":{\"id\":\"5192\",\"type\":\"BasicTicker\"}},\"id\":\"5195\",\"type\":\"Grid\"},{\"attributes\":{},\"id\":\"5200\",\"type\":\"ResetTool\"},{\"attributes\":{\"axis_label\":\"Number of reads\",\"formatter\":{\"id\":\"5474\",\"type\":\"BasicTickFormatter\"},\"ticker\":{\"id\":\"5192\",\"type\":\"BasicTicker\"}},\"id\":\"5191\",\"type\":\"LinearAxis\"},{\"attributes\":{\"line_alpha\":0.1,\"line_color\":\"#1f77b4\",\"line_width\":1.5,\"x\":{\"field\":\"x\"},\"y\":{\"field\":\"y\"}},\"id\":\"5216\",\"type\":\"Line\"},{\"attributes\":{\"data_source\":{\"id\":\"5219\",\"type\":\"ColumnDataSource\"},\"glyph\":{\"id\":\"5220\",\"type\":\"Text\"},\"hover_glyph\":null,\"muted_glyph\":null,\"nonselection_glyph\":{\"id\":\"5221\",\"type\":\"Text\"},\"selection_glyph\":null,\"view\":{\"id\":\"5223\",\"type\":\"CDSView\"}},\"id\":\"5222\",\"type\":\"GlyphRenderer\"},{\"attributes\":{\"data_source\":{\"id\":\"5214\",\"type\":\"ColumnDataSource\"},\"glyph\":{\"id\":\"5215\",\"type\":\"Line\"},\"hover_glyph\":null,\"muted_glyph\":null,\"nonselection_glyph\":{\"id\":\"5216\",\"type\":\"Line\"},\"selection_glyph\":null,\"view\":{\"id\":\"5218\",\"type\":\"CDSView\"}},\"id\":\"5217\",\"type\":\"GlyphRenderer\"},{\"attributes\":{},\"id\":\"5477\",\"type\":\"Selection\"},{\"attributes\":{\"source\":{\"id\":\"5209\",\"type\":\"ColumnDataSource\"}},\"id\":\"5213\",\"type\":\"CDSView\"},{\"attributes\":{},\"id\":\"5485\",\"type\":\"Selection\"},{\"attributes\":{},\"id\":\"5197\",\"type\":\"WheelZoomTool\"},{\"attributes\":{\"data_source\":{\"id\":\"5229\",\"type\":\"ColumnDataSource\"},\"glyph\":{\"id\":\"5230\",\"type\":\"Text\"},\"hover_glyph\":null,\"muted_glyph\":null,\"nonselection_glyph\":{\"id\":\"5231\",\"type\":\"Text\"},\"selection_glyph\":null,\"view\":{\"id\":\"5233\",\"type\":\"CDSView\"}},\"id\":\"5232\",\"type\":\"GlyphRenderer\"},{\"attributes\":{\"source\":{\"id\":\"5214\",\"type\":\"ColumnDataSource\"}},\"id\":\"5218\",\"type\":\"CDSView\"},{\"attributes\":{},\"id\":\"5199\",\"type\":\"SaveTool\"},{\"attributes\":{},\"id\":\"5196\",\"type\":\"PanTool\"},{\"attributes\":{\"line_width\":1.5,\"x\":{\"field\":\"x\"},\"y\":{\"field\":\"y\"}},\"id\":\"5225\",\"type\":\"Line\"},{\"attributes\":{},\"id\":\"5187\",\"type\":\"BasicTicker\"},{\"attributes\":{\"source\":{\"id\":\"5219\",\"type\":\"ColumnDataSource\"}},\"id\":\"5223\",\"type\":\"CDSView\"},{\"attributes\":{},\"id\":\"5201\",\"type\":\"HelpTool\"},{\"attributes\":{\"angle\":{\"units\":\"rad\",\"value\":1},\"text_alpha\":{\"value\":0.4},\"text_color\":{\"value\":\"black\"},\"x\":{\"field\":\"x\"},\"y\":{\"field\":\"y\"}},\"id\":\"5230\",\"type\":\"Text\"},{\"attributes\":{\"active_drag\":\"auto\",\"active_inspect\":\"auto\",\"active_multi\":null,\"active_scroll\":\"auto\",\"active_tap\":\"auto\",\"tools\":[{\"id\":\"5196\",\"type\":\"PanTool\"},{\"id\":\"5197\",\"type\":\"WheelZoomTool\"},{\"id\":\"5198\",\"type\":\"BoxZoomTool\"},{\"id\":\"5199\",\"type\":\"SaveTool\"},{\"id\":\"5200\",\"type\":\"ResetTool\"},{\"id\":\"5201\",\"type\":\"HelpTool\"}]},\"id\":\"5202\",\"type\":\"Toolbar\"},{\"attributes\":{},\"id\":\"5192\",\"type\":\"BasicTicker\"},{\"attributes\":{\"bounds\":[0,null],\"callback\":null,\"end\":0.2678973343031879},\"id\":\"5235\",\"type\":\"Range1d\"}],\"root_ids\":[\"5175\"]},\"title\":\"Bokeh Application\",\"version\":\"1.4.0\"}};\n",
              "  var render_items = [{\"docid\":\"c37c4ba7-c6d0-4fc4-b469-b3356bf5f7b8\",\"roots\":{\"5175\":\"d8a39c01-ef99-4401-a4d9-f72b336816da\"}}];\n",
              "  root.Bokeh.embed.embed_items_notebook(docs_json, render_items);\n",
              "\n",
              "  }\n",
              "  if (root.Bokeh !== undefined) {\n",
              "    embed_document(root);\n",
              "  } else {\n",
              "    var attempts = 0;\n",
              "    var timer = setInterval(function(root) {\n",
              "      if (root.Bokeh !== undefined) {\n",
              "        clearInterval(timer);\n",
              "        embed_document(root);\n",
              "      } else {\n",
              "        attempts++;\n",
              "        if (attempts > 100) {\n",
              "          clearInterval(timer);\n",
              "          console.log(\"Bokeh: ERROR: Unable to run BokehJS code because BokehJS library is missing\");\n",
              "        }\n",
              "      }\n",
              "    }, 10, root)\n",
              "  }\n",
              "})(window);"
            ],
            "application/vnd.bokehjs_exec.v0+json": ""
          },
          "metadata": {
            "tags": [],
            "application/vnd.bokehjs_exec.v0+json": {
              "id": "5175"
            }
          }
        }
      ]
    },
    {
      "cell_type": "markdown",
      "metadata": {
        "id": "r8pe1WWI2JwI",
        "colab_type": "text"
      },
      "source": [
        "The statistics file has many other columns which are interesting to explore:"
      ]
    },
    {
      "cell_type": "code",
      "metadata": {
        "id": "lHts9EyC2SVp",
        "colab_type": "code",
        "colab": {}
      },
      "source": [
        "aln_summary.info()"
      ],
      "execution_count": 0,
      "outputs": []
    },
    {
      "cell_type": "markdown",
      "metadata": {
        "id": "ouPONyB_15DB",
        "colab_type": "text"
      },
      "source": [
        "## Overlap of reads to targets"
      ]
    },
    {
      "cell_type": "markdown",
      "metadata": {
        "colab_type": "text",
        "id": "iF7WILGOwbI3"
      },
      "source": [
        "## Summary\n",
        "\n",
        "This tutorial has stepped through basic processing of a Cas9 enrichment experiment. We have examined the coverage of a single target region and the rate of off target effects.\n",
        "\n",
        "The code will run within **Google Colab** when connected to a local **Epi2Me Labs** notebook server.\n",
        "\n",
        "[Back to Epi2Me Labs](https://colab.research.google.com/github/epi2me-labs/resources/blob/master/welcome.ipynb)\n"
      ]
    },
    {
      "cell_type": "code",
      "metadata": {
        "id": "peTWsaPF5Jvo",
        "colab_type": "code",
        "colab": {}
      },
      "source": [
        ""
      ],
      "execution_count": 0,
      "outputs": []
    }
  ]
}