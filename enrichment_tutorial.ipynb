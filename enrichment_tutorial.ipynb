{
  "nbformat": 4,
  "nbformat_minor": 0,
  "metadata": {
    "kernelspec": {
      "display_name": "Python 3",
      "language": "python",
      "name": "python3"
    },
    "language_info": {
      "codemirror_mode": {
        "name": "ipython",
        "version": 3
      },
      "file_extension": ".py",
      "mimetype": "text/x-python",
      "name": "python",
      "nbconvert_exporter": "python",
      "pygments_lexer": "ipython3",
      "version": "3.7.6"
    },
    "colab": {
      "name": "Cas9 Enrichment Tutorial.ipynb",
      "provenance": [],
      "toc_visible": true,
      "include_colab_link": true
    },
    "widgets": {
      "application/vnd.jupyter.widget-state+json": {
        "3750f7f3f9a64bc481f5cb421673167d": {
          "model_module": "@jupyter-widgets/controls",
          "model_name": "VBoxModel",
          "state": {
            "_dom_classes": [
              "widget-interact"
            ],
            "_model_module": "@jupyter-widgets/controls",
            "_model_module_version": "1.5.0",
            "_model_name": "VBoxModel",
            "_view_count": null,
            "_view_module": "@jupyter-widgets/controls",
            "_view_module_version": "1.5.0",
            "_view_name": "VBoxView",
            "box_style": "",
            "children": [
              "IPY_MODEL_1a22bd0863b44f86bdae7fb13e0557f4",
              "IPY_MODEL_521a650867404048a99d18a4446f6f3f"
            ],
            "layout": "IPY_MODEL_e9bee27b63844d05961470c4ce4dd0ec"
          }
        },
        "1a22bd0863b44f86bdae7fb13e0557f4": {
          "model_module": "@jupyter-widgets/controls",
          "model_name": "DropdownModel",
          "state": {
            "_dom_classes": [],
            "_model_module": "@jupyter-widgets/controls",
            "_model_module_version": "1.5.0",
            "_model_name": "DropdownModel",
            "_options_labels": [
              "MUC1",
              "HTT",
              "SCA17",
              "C9orf72",
              "INS",
              "SCA2",
              "SCA3",
              "SCA6",
              "SCA10",
              "FMR1"
            ],
            "_view_count": null,
            "_view_module": "@jupyter-widgets/controls",
            "_view_module_version": "1.5.0",
            "_view_name": "DropdownView",
            "description": "target",
            "description_tooltip": null,
            "disabled": false,
            "index": 9,
            "layout": "IPY_MODEL_4cd7e53e477049f3a8dbd7561778acd3",
            "style": "IPY_MODEL_ea4b31ea07c14b7c90ff41770d95b797"
          }
        },
        "521a650867404048a99d18a4446f6f3f": {
          "model_module": "@jupyter-widgets/output",
          "model_name": "OutputModel",
          "state": {
            "_dom_classes": [],
            "_model_module": "@jupyter-widgets/output",
            "_model_module_version": "1.0.0",
            "_model_name": "OutputModel",
            "_view_count": null,
            "_view_module": "@jupyter-widgets/output",
            "_view_module_version": "1.0.0",
            "_view_name": "OutputView",
            "layout": "IPY_MODEL_efb0e946e8d3416a9c41e6291b9c2cbf",
            "msg_id": "",
            "outputs": [
              {
                "output_type": "display_data",
                "metadata": {
                  "tags": []
                },
                "text/plain": "  Chromosome      Start        End tname\n9       chrX  147862050  147962110  FMR1",
                "text/html": "<div>\n<style scoped>\n    .dataframe tbody tr th:only-of-type {\n        vertical-align: middle;\n    }\n\n    .dataframe tbody tr th {\n        vertical-align: top;\n    }\n\n    .dataframe thead th {\n        text-align: right;\n    }\n</style>\n<table border=\"1\" class=\"dataframe\">\n  <thead>\n    <tr style=\"text-align: right;\">\n      <th></th>\n      <th>Chromosome</th>\n      <th>Start</th>\n      <th>End</th>\n      <th>tname</th>\n    </tr>\n  </thead>\n  <tbody>\n    <tr>\n      <th>9</th>\n      <td>chrX</td>\n      <td>147862050</td>\n      <td>147962110</td>\n      <td>FMR1</td>\n    </tr>\n  </tbody>\n</table>\n</div>"
              },
              {
                "output_type": "display_data",
                "metadata": {
                  "tags": [],
                  "needs_background": "light"
                },
                "text/plain": "<Figure size 432x288 with 1 Axes>",
                "image/png": "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\n"
              }
            ]
          }
        },
        "e9bee27b63844d05961470c4ce4dd0ec": {
          "model_module": "@jupyter-widgets/base",
          "model_name": "LayoutModel",
          "state": {
            "_model_module": "@jupyter-widgets/base",
            "_model_module_version": "1.2.0",
            "_model_name": "LayoutModel",
            "_view_count": null,
            "_view_module": "@jupyter-widgets/base",
            "_view_module_version": "1.2.0",
            "_view_name": "LayoutView",
            "align_content": null,
            "align_items": null,
            "align_self": null,
            "border": null,
            "bottom": null,
            "display": null,
            "flex": null,
            "flex_flow": null,
            "grid_area": null,
            "grid_auto_columns": null,
            "grid_auto_flow": null,
            "grid_auto_rows": null,
            "grid_column": null,
            "grid_gap": null,
            "grid_row": null,
            "grid_template_areas": null,
            "grid_template_columns": null,
            "grid_template_rows": null,
            "height": null,
            "justify_content": null,
            "justify_items": null,
            "left": null,
            "margin": null,
            "max_height": null,
            "max_width": null,
            "min_height": null,
            "min_width": null,
            "object_fit": null,
            "object_position": null,
            "order": null,
            "overflow": null,
            "overflow_x": null,
            "overflow_y": null,
            "padding": null,
            "right": null,
            "top": null,
            "visibility": null,
            "width": null
          }
        },
        "4cd7e53e477049f3a8dbd7561778acd3": {
          "model_module": "@jupyter-widgets/base",
          "model_name": "LayoutModel",
          "state": {
            "_model_module": "@jupyter-widgets/base",
            "_model_module_version": "1.2.0",
            "_model_name": "LayoutModel",
            "_view_count": null,
            "_view_module": "@jupyter-widgets/base",
            "_view_module_version": "1.2.0",
            "_view_name": "LayoutView",
            "align_content": null,
            "align_items": null,
            "align_self": null,
            "border": null,
            "bottom": null,
            "display": null,
            "flex": null,
            "flex_flow": null,
            "grid_area": null,
            "grid_auto_columns": null,
            "grid_auto_flow": null,
            "grid_auto_rows": null,
            "grid_column": null,
            "grid_gap": null,
            "grid_row": null,
            "grid_template_areas": null,
            "grid_template_columns": null,
            "grid_template_rows": null,
            "height": null,
            "justify_content": null,
            "justify_items": null,
            "left": null,
            "margin": null,
            "max_height": null,
            "max_width": null,
            "min_height": null,
            "min_width": null,
            "object_fit": null,
            "object_position": null,
            "order": null,
            "overflow": null,
            "overflow_x": null,
            "overflow_y": null,
            "padding": null,
            "right": null,
            "top": null,
            "visibility": null,
            "width": null
          }
        },
        "ea4b31ea07c14b7c90ff41770d95b797": {
          "model_module": "@jupyter-widgets/controls",
          "model_name": "DescriptionStyleModel",
          "state": {
            "_model_module": "@jupyter-widgets/controls",
            "_model_module_version": "1.5.0",
            "_model_name": "DescriptionStyleModel",
            "_view_count": null,
            "_view_module": "@jupyter-widgets/base",
            "_view_module_version": "1.2.0",
            "_view_name": "StyleView",
            "description_width": ""
          }
        },
        "d6b2e69596c847a6af64c7428e8af211": {
          "model_module": "@jupyter-widgets/controls",
          "model_name": "VBoxModel",
          "state": {
            "_dom_classes": [
              "widget-interact"
            ],
            "_model_module": "@jupyter-widgets/controls",
            "_model_module_version": "1.5.0",
            "_model_name": "VBoxModel",
            "_view_count": null,
            "_view_module": "@jupyter-widgets/controls",
            "_view_module_version": "1.5.0",
            "_view_name": "VBoxView",
            "box_style": "",
            "children": [
              "IPY_MODEL_48f6741e9bc04297bf412981f198b698",
              "IPY_MODEL_98df8d71a3f249d78d4debbae9d9f455"
            ],
            "layout": "IPY_MODEL_6fd4bc2020534feebde1e7479bf24eee"
          }
        },
        "48f6741e9bc04297bf412981f198b698": {
          "model_module": "@jupyter-widgets/controls",
          "model_name": "IntSliderModel",
          "state": {
            "_dom_classes": [],
            "_model_module": "@jupyter-widgets/controls",
            "_model_module_version": "1.5.0",
            "_model_name": "IntSliderModel",
            "_view_count": null,
            "_view_module": "@jupyter-widgets/controls",
            "_view_module_version": "1.5.0",
            "_view_name": "IntSliderView",
            "continuous_update": true,
            "description": "coverage",
            "description_tooltip": null,
            "disabled": false,
            "layout": "IPY_MODEL_62d78da4fada46ceaca7da6a9cb678a0",
            "max": 23,
            "min": 0,
            "orientation": "horizontal",
            "readout": true,
            "readout_format": "d",
            "step": 1,
            "style": "IPY_MODEL_e519d53b81224007a6f58fc6f47d879e",
            "value": 4
          }
        },
        "98df8d71a3f249d78d4debbae9d9f455": {
          "model_module": "@jupyter-widgets/output",
          "model_name": "OutputModel",
          "state": {
            "_dom_classes": [],
            "_model_module": "@jupyter-widgets/output",
            "_model_module_version": "1.0.0",
            "_model_name": "OutputModel",
            "_view_count": null,
            "_view_module": "@jupyter-widgets/output",
            "_view_module_version": "1.0.0",
            "_view_name": "OutputView",
            "layout": "IPY_MODEL_26b9dab1b45a40959a2ce3165efb79ca",
            "msg_id": "",
            "outputs": [
              {
                "output_type": "display_data",
                "metadata": {
                  "tags": []
                },
                "text/plain": "        tname    kbases  mean_coverage\n0  Background 63,521.00           1.05\n1  Off Target  1,436.00           6.56\n2   On Target  4,848.00           4.74",
                "text/html": "<div>\n<style scoped>\n    .dataframe tbody tr th:only-of-type {\n        vertical-align: middle;\n    }\n\n    .dataframe tbody tr th {\n        vertical-align: top;\n    }\n\n    .dataframe thead th {\n        text-align: right;\n    }\n</style>\n<table border=\"1\" class=\"dataframe\">\n  <thead>\n    <tr style=\"text-align: right;\">\n      <th></th>\n      <th>tname</th>\n      <th>kbases</th>\n      <th>mean_coverage</th>\n    </tr>\n  </thead>\n  <tbody>\n    <tr>\n      <th>0</th>\n      <td>Background</td>\n      <td>63,521.00</td>\n      <td>1.05</td>\n    </tr>\n    <tr>\n      <th>1</th>\n      <td>Off Target</td>\n      <td>1,436.00</td>\n      <td>6.56</td>\n    </tr>\n    <tr>\n      <th>2</th>\n      <td>On Target</td>\n      <td>4,848.00</td>\n      <td>4.74</td>\n    </tr>\n  </tbody>\n</table>\n</div>"
              }
            ]
          }
        },
        "6fd4bc2020534feebde1e7479bf24eee": {
          "model_module": "@jupyter-widgets/base",
          "model_name": "LayoutModel",
          "state": {
            "_model_module": "@jupyter-widgets/base",
            "_model_module_version": "1.2.0",
            "_model_name": "LayoutModel",
            "_view_count": null,
            "_view_module": "@jupyter-widgets/base",
            "_view_module_version": "1.2.0",
            "_view_name": "LayoutView",
            "align_content": null,
            "align_items": null,
            "align_self": null,
            "border": null,
            "bottom": null,
            "display": null,
            "flex": null,
            "flex_flow": null,
            "grid_area": null,
            "grid_auto_columns": null,
            "grid_auto_flow": null,
            "grid_auto_rows": null,
            "grid_column": null,
            "grid_gap": null,
            "grid_row": null,
            "grid_template_areas": null,
            "grid_template_columns": null,
            "grid_template_rows": null,
            "height": null,
            "justify_content": null,
            "justify_items": null,
            "left": null,
            "margin": null,
            "max_height": null,
            "max_width": null,
            "min_height": null,
            "min_width": null,
            "object_fit": null,
            "object_position": null,
            "order": null,
            "overflow": null,
            "overflow_x": null,
            "overflow_y": null,
            "padding": null,
            "right": null,
            "top": null,
            "visibility": null,
            "width": null
          }
        },
        "62d78da4fada46ceaca7da6a9cb678a0": {
          "model_module": "@jupyter-widgets/base",
          "model_name": "LayoutModel",
          "state": {
            "_model_module": "@jupyter-widgets/base",
            "_model_module_version": "1.2.0",
            "_model_name": "LayoutModel",
            "_view_count": null,
            "_view_module": "@jupyter-widgets/base",
            "_view_module_version": "1.2.0",
            "_view_name": "LayoutView",
            "align_content": null,
            "align_items": null,
            "align_self": null,
            "border": null,
            "bottom": null,
            "display": null,
            "flex": null,
            "flex_flow": null,
            "grid_area": null,
            "grid_auto_columns": null,
            "grid_auto_flow": null,
            "grid_auto_rows": null,
            "grid_column": null,
            "grid_gap": null,
            "grid_row": null,
            "grid_template_areas": null,
            "grid_template_columns": null,
            "grid_template_rows": null,
            "height": null,
            "justify_content": null,
            "justify_items": null,
            "left": null,
            "margin": null,
            "max_height": null,
            "max_width": null,
            "min_height": null,
            "min_width": null,
            "object_fit": null,
            "object_position": null,
            "order": null,
            "overflow": null,
            "overflow_x": null,
            "overflow_y": null,
            "padding": null,
            "right": null,
            "top": null,
            "visibility": null,
            "width": null
          }
        },
        "e519d53b81224007a6f58fc6f47d879e": {
          "model_module": "@jupyter-widgets/controls",
          "model_name": "SliderStyleModel",
          "state": {
            "_model_module": "@jupyter-widgets/controls",
            "_model_module_version": "1.5.0",
            "_model_name": "SliderStyleModel",
            "_view_count": null,
            "_view_module": "@jupyter-widgets/base",
            "_view_module_version": "1.2.0",
            "_view_name": "StyleView",
            "description_width": "",
            "handle_color": null
          }
        }
      }
    }
  },
  "cells": [
    {
      "cell_type": "markdown",
      "metadata": {
        "id": "view-in-github",
        "colab_type": "text"
      },
      "source": [
        "<a href=\"https://colab.research.google.com/github/epi2me-labs/testbooks/blob/master/enrichment_tutorial.ipynb\" target=\"_parent\"><img src=\"https://colab.research.google.com/assets/colab-badge.svg\" alt=\"Open In Colab\"/></a>"
      ]
    },
    {
      "cell_type": "markdown",
      "metadata": {
        "id": "eyhWQcLLP6Kt",
        "colab_type": "text"
      },
      "source": [
        "<h1>Cas9 Enrichment Tutorial</h1>\n",
        "\n",
        "This tutorial is intended as a introduction into the analysis of a Cas9 enrichment experiment with nanopore sequencing. The tutorial will step through a discuss the steps of the workflow starting from raw sequencing data. We will learn how to:\n",
        "\n",
        "* Align read data to a human reference sequence\n",
        "* Show the sequencing depth for target regions\n",
        "* Analyse the proportion of off-target reads\n",
        "\n",
        "The tutorial makes use of some common bioinformatics including:\n",
        "\n",
        "* `mini_align` - a simple interface to the [`minimap2`](https://github.com/lh3/minimap2) alignment program.\n",
        "* [`pyranges`](https://github.com/biocore-ntnu/pyranges) - GenomicRanges and genomic Rle-objects for Python.\n",
        "\n",
        "Computational requirements for this tutorial include:\n",
        "\n",
        "- Computer running the **Epi2Me Labs** notebook Server\n",
        "- At least 8 Gb RAM\n"
      ]
    },
    {
      "cell_type": "markdown",
      "metadata": {
        "id": "a0y2JPI9SlxM",
        "colab_type": "text"
      },
      "source": [
        "## Introduction\n",
        "\n",
        "The tutorial requires a FASTQ format sequence file and a BED file of target coordinates as input, along with pointers to download locations for the reference genome to be used.\n",
        "\n",
        "The tutorial aids with the quantification of the non-target depletion and provides information on mapping characteristics that highlight the protocol performance. The figures plotted include depth-of-coverage over the target regions and strand bias over these regions. The location and peaks of coverage and local biases in strandedness may be used to assess the performance of guide-RNA sequences and may highlight guide RNAs that are not performing. A review of likely off-target regions over-represented within the sequence collection may inform of strategies to refine guide-RNA design.\n",
        "\n",
        "**Before stepping through the workflow be sure to connect this notebook to your local Epi2Me Labs server in the top right of the screen.** [Further details](https://colab.research.google.com/github/epi2me-labs/resources/blob/master/epi2me-labs-server.ipynb#connecting)\n"
      ]
    },
    {
      "cell_type": "markdown",
      "metadata": {
        "id": "ZMhjoLNaP6Ku",
        "colab_type": "text"
      },
      "source": [
        "## Data preparation\n",
        "\n",
        "To start analysing our experiment we must first \"read in\" the data. For this example we will first download three files:\n",
        "\n",
        "1. A `.fast5` file containing our sequencing data\n",
        "2. The human reference genome\n",
        "3. A `.bed` file describing the target regions of the genome\n"
      ]
    },
    {
      "cell_type": "markdown",
      "metadata": {
        "id": "LNl_IrI8pklV",
        "colab_type": "text"
      },
      "source": [
        "### Sample Data\n",
        "\n",
        "To use this tutorial with sample data we can download the files using the `linux` command `wget`. To execute the command click on the cell and then press Command/Ctrl-Enter, or click the Play symbol to the left-hand side."
      ]
    },
    {
      "cell_type": "markdown",
      "metadata": {
        "id": "fCRJklrYRhoB",
        "colab_type": "text"
      },
      "source": [
        "To get started we will download a sample sequencing dataset, click on the cell below and press the \"Play\" symbol to the left:"
      ]
    },
    {
      "cell_type": "code",
      "metadata": {
        "id": "MVacV0gxWwel",
        "colab_type": "code",
        "colab": {}
      },
      "source": [
        "# create a work directory and move into it\n",
        "working_dir='cas9_tutorial'\n",
        "!mkdir -p \"$working_dir\"\n",
        "%cd \"$working_dir\"\n",
        "# download the data\n",
        "!wget https://ont-research.s3-eu-west-1.amazonaws.com/labs_resources/cas9_tutorial/sample_cas9.tar.gz\n",
        "# the data is in a compressed archive so let's decompress it\n",
        "!tar -xzvf sample_cas9.tar.gz"
      ],
      "execution_count": 0,
      "outputs": []
    },
    {
      "cell_type": "markdown",
      "metadata": {
        "id": "U7nte38ESR3u",
        "colab_type": "text"
      },
      "source": [
        "The data downloaded is laid-out in the form as written by MinKNOW on a sequencing device, only reads passing the quality score filter applied by MinKNOW has been included (again click the cell and press play):"
      ]
    },
    {
      "cell_type": "code",
      "metadata": {
        "colab_type": "code",
        "id": "VX-ktMl971CH",
        "colab": {}
      },
      "source": [
        "!tree sample_cas9"
      ],
      "execution_count": 0,
      "outputs": []
    },
    {
      "cell_type": "markdown",
      "metadata": {
        "id": "rbYU5N0KmBsW",
        "colab_type": "text"
      },
      "source": [
        "For our analysis we will also need the human genome reference (*note that this download is quite large, it includes both the reference sequence and indexes required for analysis*):"
      ]
    },
    {
      "cell_type": "code",
      "metadata": {
        "id": "jTtCIdiO-IN3",
        "colab_type": "code",
        "colab": {}
      },
      "source": [
        "!wget https://ont-research.s3-eu-west-1.amazonaws.com/labs_resources/grch38.tar.gz\n",
        "!tar -xzvf grch38.tar.gz"
      ],
      "execution_count": 0,
      "outputs": []
    },
    {
      "cell_type": "markdown",
      "metadata": {
        "id": "3AuVE3qCoWrH",
        "colab_type": "text"
      },
      "source": [
        "Finally we will need a `BED` file describing the target regions of the genome."
      ]
    },
    {
      "cell_type": "code",
      "metadata": {
        "id": "SYhnDMfToh3d",
        "colab_type": "code",
        "colab": {}
      },
      "source": [
        "!wget -O targets.bed https://ont-research.s3-eu-west-1.amazonaws.com/labs_resources/cas9_tutorial/targets.bed"
      ],
      "execution_count": 0,
      "outputs": []
    },
    {
      "cell_type": "markdown",
      "metadata": {
        "id": "nh7-4mZeXHRA",
        "colab_type": "text"
      },
      "source": [
        "### Using your own data\n",
        "\n",
        "If you wish to analyse your own data rather than the sample data, you can edit the value of the `data_folder` variable below. To find the correct full path of a directory you can navigate to it in\n",
        "the `Files` browser to the left-hand side, right-click on the file and select `Copy path`:"
      ]
    },
    {
      "cell_type": "markdown",
      "metadata": {
        "id": "vDCEs7E3Zy60",
        "colab_type": "text"
      },
      "source": [
        "![image.png](data:image/png;base64,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)"
      ]
    },
    {
      "cell_type": "markdown",
      "metadata": {
        "id": "1VM9k1NGZ8co",
        "colab_type": "text"
      },
      "source": [
        "When pasting the path in the code cell you will have to remove the preceding `/` character.\n"
      ]
    },
    {
      "cell_type": "markdown",
      "metadata": {
        "id": "rjXNch2Kp-_2",
        "colab_type": "text"
      },
      "source": [
        "### Data entry\n",
        "\n",
        "Having downloaded the sample data, or locating your own data in the file browser, we need to provide the filepaths as input to the notebook. This is done in the form below, after updating the values, be sure to press the play button."
      ]
    },
    {
      "cell_type": "markdown",
      "metadata": {
        "id": "46QEClv31y4J",
        "colab_type": "text"
      },
      "source": [
        "\n",
        "\n",
        "> **If you want simply to plot all the graphs in this tutorial for your dataset, rather than working through the tutorial, select `Run after` from the `Runtime` menu above after executing the cell below.**"
      ]
    },
    {
      "cell_type": "code",
      "metadata": {
        "id": "hexEX4x8VPfA",
        "colab_type": "code",
        "cellView": "form",
        "colab": {}
      },
      "source": [
        "#@markdown Enter the paths to you input files and output folder here:\n",
        "import pandas as pd\n",
        "\n",
        "# set variables for our inputs\n",
        "data_folder='sample_cas9/fastq_pass'  #@param {type: \"string\"}\n",
        "output_folder='analysis'  #@param {type: \"string\"}\n",
        "reference_genome='grch38/grch38.fasta.gz' #@param {type: \"string\"}\n",
        "bed_file='targets.bed' #@param {type: \"string\"}\n",
        "\n",
        "fastq = output_folder + '/all_data.fastq'\n",
        "\n",
        "# run a command to concatenate all the files together\n",
        "!echo \"Making output folder\"\n",
        "!test -f \"$reference_genome\" || \"WARNING: Reference file does not exist\"\n",
        "!mkdir -p \"$output_folder\"\n",
        "!concatenate_fastqs \"$data_folder\" \"$fastq\"\n",
        "\n",
        "region_bed = pd.read_csv(\n",
        "    bed_file, sep='\\t', header=None,\n",
        "    # https://genome.ucsc.edu/FAQ/FAQformat.html#format1\n",
        "    names=[\n",
        "        'chrom', 'start', 'end',  #required\n",
        "        'tname', 'score', 'strand', 'thickStart', 'thickEnd',\n",
        "        'itemRgb', 'blockCount', 'blockSizes', 'blockStarts'])\n",
        "\n",
        "region_bed['region'] = [\n",
        "    '{}:{}-{}'.format(x['chrom'], x.start, x.end)\n",
        "    for _, x in region_bed.iterrows()]\n",
        "target_names = region_bed['tname'].to_list()\n"
      ],
      "execution_count": 0,
      "outputs": []
    },
    {
      "cell_type": "markdown",
      "metadata": {
        "id": "wfhtD7DZbl4Q",
        "colab_type": "text"
      },
      "source": [
        "## Alignment of reads\n",
        "\n",
        "Our first task in analysing our data is to align the sequence reads to the reference sequence. We do this with the `mini_align` program from the [`pomoxis`](https://github.com/nanoporetech/pomoxis) package. This is preinstalled in the **Epi2Me Labs** notebook server. Note that this command may take a while to run depending on the number of reads in your datasets. With the sample data (8000 reads) and using 4 compute threads (`-t 4` in the code), the alignments will take around 5 minutes.\n"
      ]
    },
    {
      "cell_type": "code",
      "metadata": {
        "id": "sTLIGAURr4Cd",
        "colab_type": "code",
        "colab": {}
      },
      "source": [
        "!run mini_align \\\n",
        "    -r \"$reference_genome\" -i \"$output_folder/all_data.fastq\" \\\n",
        "    -p \"$output_folder/alignments\" \\\n",
        "    -t 3 -m\n",
        "# for brevity the results of the above for the sample data can also be downloaded:\n",
        "# !wget https://ont-research.s3-eu-west-1.amazonaws.com/labs_resources/cas9_tutorial/alignments.bam\n",
        "# !wget https://ont-research.s3-eu-west-1.amazonaws.com/labs_resources/cas9_tutorial/alignments.bam.bai"
      ],
      "execution_count": 0,
      "outputs": []
    },
    {
      "cell_type": "markdown",
      "metadata": {
        "id": "emZnWTi-2rNl",
        "colab_type": "text"
      },
      "source": [
        "While we are here we will calculate also a table summarising the alignment data, again using a program from `pomoxis`:"
      ]
    },
    {
      "cell_type": "code",
      "metadata": {
        "id": "7PMfMRYr2-ef",
        "colab_type": "code",
        "colab": {}
      },
      "source": [
        "!run stats_from_bam \"$output_folder/alignments.bam\" \\\n",
        "    > \"$output_folder/alignments.stats\""
      ],
      "execution_count": 0,
      "outputs": []
    },
    {
      "cell_type": "markdown",
      "metadata": {
        "id": "iOn_k8_CsuvV",
        "colab_type": "text"
      },
      "source": [
        "The summary file gives useful information on the alignment of each read to the reference sequence, including: chromosome, start and end coordinates, and the accuracy of the read with respect to the reference. We can plot a histogram of the latter quantity:"
      ]
    },
    {
      "cell_type": "code",
      "metadata": {
        "id": "9cYOMIAtuXQa",
        "colab_type": "code",
        "cellView": "form",
        "colab": {
          "base_uri": "https://localhost:8080/",
          "height": 317
        },
        "outputId": "8c1efb06-40df-4ef2-bb11-445dd7b3a700"
      },
      "source": [
        "#@markdown ***Accuracy distribution code*** (*click to show*)\n",
        "\n",
        "#load python libraries\n",
        "from bokeh.plotting import figure\n",
        "from bokeh.models import Range1d\n",
        "import bokeh.io as bkio\n",
        "import numpy as np\n",
        "import pandas as pd\n",
        "from scipy import stats as sp_stats\n",
        "\n",
        "aln_summary = pd.read_csv(\n",
        "    '{}/alignments.stats'.format(output_folder),\n",
        "    delimiter='\\t')\n",
        "\n",
        "\n",
        "def kernel_density_estimate(x, step=0.2):\n",
        "    \"\"\"Kernel density to approximate distribution\n",
        "\n",
        "    :param x: data of which to find mode.\n",
        "    :param step: discretization of KDE PDF.\n",
        "    \"\"\"\n",
        "    # estimate bandwidth of kde, R's nrd0 rule-of-thumb\n",
        "    hi = np.std(x, ddof=1)\n",
        "    q75, q25 = np.percentile(x, [75 ,25])\n",
        "    iqr = q75 - q25\n",
        "    lo = min(hi, iqr/1.34)\n",
        "    if not ((lo == hi) or (lo == abs(x[0])) or (lo == 1)):\n",
        "        lo = 1\n",
        "    bw = 0.9 * lo *len(x)**-0.2\n",
        "\n",
        "    # create a KDE\n",
        "    x_grid = np.arange(min(x), max(x), step)\n",
        "    kernel = sp_stats.gaussian_kde(x, bw_method=bw)\n",
        "    pdf = kernel(x_grid)\n",
        "    return x_grid, pdf\n",
        "\n",
        "x_grid, pdf = kernel_density_estimate(aln_summary.acc)\n",
        "mode_acc = x_grid[np.argmax(pdf)]\n",
        "mean_acc = aln_summary.acc.mean()\n",
        "\n",
        "# create a figure\n",
        "p = figure(\n",
        "    title='Read accuracy distribution',\n",
        "    output_backend=\"webgl\",\n",
        "    height=300, width=600)\n",
        "\n",
        "p.line(x=x_grid, y=pdf, line_width=1.5)\n",
        "\n",
        "\n",
        "# plot a vertical line for mean and N50 read length\n",
        "line_types = (('Mean', mean_acc), ('Mode', mode_acc))\n",
        "for name, val in line_types:\n",
        "    p.line(\n",
        "        x=[val, val], y=[0, 0.8*max(pdf)],\n",
        "        line_width=1.5, color='black')\n",
        "    p.text(x=[val], y=[0.8*max(pdf)],\n",
        "        text=['{}: {:.1f}'.format(name, val)],\n",
        "        angle=1, alpha=0.4)\n",
        "\n",
        "# limit the display range\n",
        "p.x_range = Range1d(start=80, end=100, bounds=(0, None))\n",
        "p.y_range = Range1d(start=0, end=1.2*max(pdf), bounds=(0, None))\n",
        "# add axis labels\n",
        "p.xaxis.axis_label = 'Read Accuracy'\n",
        "p.yaxis.axis_label = 'Number of reads'\n",
        "# show the plot\n",
        "bkio.output_notebook(hide_banner=True)\n",
        "bkio.show(p)"
      ],
      "execution_count": 6,
      "outputs": [
        {
          "output_type": "display_data",
          "data": {
            "application/javascript": [
              "\n",
              "(function(root) {\n",
              "  function now() {\n",
              "    return new Date();\n",
              "  }\n",
              "\n",
              "  var force = true;\n",
              "\n",
              "  if (typeof root._bokeh_onload_callbacks === \"undefined\" || force === true) {\n",
              "    root._bokeh_onload_callbacks = [];\n",
              "    root._bokeh_is_loading = undefined;\n",
              "  }\n",
              "\n",
              "  var JS_MIME_TYPE = 'application/javascript';\n",
              "  var HTML_MIME_TYPE = 'text/html';\n",
              "  var EXEC_MIME_TYPE = 'application/vnd.bokehjs_exec.v0+json';\n",
              "  var CLASS_NAME = 'output_bokeh rendered_html';\n",
              "\n",
              "  /**\n",
              "   * Render data to the DOM node\n",
              "   */\n",
              "  function render(props, node) {\n",
              "    var script = document.createElement(\"script\");\n",
              "    node.appendChild(script);\n",
              "  }\n",
              "\n",
              "  /**\n",
              "   * Handle when an output is cleared or removed\n",
              "   */\n",
              "  function handleClearOutput(event, handle) {\n",
              "    var cell = handle.cell;\n",
              "\n",
              "    var id = cell.output_area._bokeh_element_id;\n",
              "    var server_id = cell.output_area._bokeh_server_id;\n",
              "    // Clean up Bokeh references\n",
              "    if (id != null && id in Bokeh.index) {\n",
              "      Bokeh.index[id].model.document.clear();\n",
              "      delete Bokeh.index[id];\n",
              "    }\n",
              "\n",
              "    if (server_id !== undefined) {\n",
              "      // Clean up Bokeh references\n",
              "      var cmd = \"from bokeh.io.state import curstate; print(curstate().uuid_to_server['\" + server_id + \"'].get_sessions()[0].document.roots[0]._id)\";\n",
              "      cell.notebook.kernel.execute(cmd, {\n",
              "        iopub: {\n",
              "          output: function(msg) {\n",
              "            var id = msg.content.text.trim();\n",
              "            if (id in Bokeh.index) {\n",
              "              Bokeh.index[id].model.document.clear();\n",
              "              delete Bokeh.index[id];\n",
              "            }\n",
              "          }\n",
              "        }\n",
              "      });\n",
              "      // Destroy server and session\n",
              "      var cmd = \"import bokeh.io.notebook as ion; ion.destroy_server('\" + server_id + \"')\";\n",
              "      cell.notebook.kernel.execute(cmd);\n",
              "    }\n",
              "  }\n",
              "\n",
              "  /**\n",
              "   * Handle when a new output is added\n",
              "   */\n",
              "  function handleAddOutput(event, handle) {\n",
              "    var output_area = handle.output_area;\n",
              "    var output = handle.output;\n",
              "\n",
              "    // limit handleAddOutput to display_data with EXEC_MIME_TYPE content only\n",
              "    if ((output.output_type != \"display_data\") || (!output.data.hasOwnProperty(EXEC_MIME_TYPE))) {\n",
              "      return\n",
              "    }\n",
              "\n",
              "    var toinsert = output_area.element.find(\".\" + CLASS_NAME.split(' ')[0]);\n",
              "\n",
              "    if (output.metadata[EXEC_MIME_TYPE][\"id\"] !== undefined) {\n",
              "      toinsert[toinsert.length - 1].firstChild.textContent = output.data[JS_MIME_TYPE];\n",
              "      // store reference to embed id on output_area\n",
              "      output_area._bokeh_element_id = output.metadata[EXEC_MIME_TYPE][\"id\"];\n",
              "    }\n",
              "    if (output.metadata[EXEC_MIME_TYPE][\"server_id\"] !== undefined) {\n",
              "      var bk_div = document.createElement(\"div\");\n",
              "      bk_div.innerHTML = output.data[HTML_MIME_TYPE];\n",
              "      var script_attrs = bk_div.children[0].attributes;\n",
              "      for (var i = 0; i < script_attrs.length; i++) {\n",
              "        toinsert[toinsert.length - 1].firstChild.setAttribute(script_attrs[i].name, script_attrs[i].value);\n",
              "      }\n",
              "      // store reference to server id on output_area\n",
              "      output_area._bokeh_server_id = output.metadata[EXEC_MIME_TYPE][\"server_id\"];\n",
              "    }\n",
              "  }\n",
              "\n",
              "  function register_renderer(events, OutputArea) {\n",
              "\n",
              "    function append_mime(data, metadata, element) {\n",
              "      // create a DOM node to render to\n",
              "      var toinsert = this.create_output_subarea(\n",
              "        metadata,\n",
              "        CLASS_NAME,\n",
              "        EXEC_MIME_TYPE\n",
              "      );\n",
              "      this.keyboard_manager.register_events(toinsert);\n",
              "      // Render to node\n",
              "      var props = {data: data, metadata: metadata[EXEC_MIME_TYPE]};\n",
              "      render(props, toinsert[toinsert.length - 1]);\n",
              "      element.append(toinsert);\n",
              "      return toinsert\n",
              "    }\n",
              "\n",
              "    /* Handle when an output is cleared or removed */\n",
              "    events.on('clear_output.CodeCell', handleClearOutput);\n",
              "    events.on('delete.Cell', handleClearOutput);\n",
              "\n",
              "    /* Handle when a new output is added */\n",
              "    events.on('output_added.OutputArea', handleAddOutput);\n",
              "\n",
              "    /**\n",
              "     * Register the mime type and append_mime function with output_area\n",
              "     */\n",
              "    OutputArea.prototype.register_mime_type(EXEC_MIME_TYPE, append_mime, {\n",
              "      /* Is output safe? */\n",
              "      safe: true,\n",
              "      /* Index of renderer in `output_area.display_order` */\n",
              "      index: 0\n",
              "    });\n",
              "  }\n",
              "\n",
              "  // register the mime type if in Jupyter Notebook environment and previously unregistered\n",
              "  if (root.Jupyter !== undefined) {\n",
              "    var events = require('base/js/events');\n",
              "    var OutputArea = require('notebook/js/outputarea').OutputArea;\n",
              "\n",
              "    if (OutputArea.prototype.mime_types().indexOf(EXEC_MIME_TYPE) == -1) {\n",
              "      register_renderer(events, OutputArea);\n",
              "    }\n",
              "  }\n",
              "\n",
              "  \n",
              "  if (typeof (root._bokeh_timeout) === \"undefined\" || force === true) {\n",
              "    root._bokeh_timeout = Date.now() + 5000;\n",
              "    root._bokeh_failed_load = false;\n",
              "  }\n",
              "\n",
              "  var NB_LOAD_WARNING = {'data': {'text/html':\n",
              "     \"<div style='background-color: #fdd'>\\n\"+\n",
              "     \"<p>\\n\"+\n",
              "     \"BokehJS does not appear to have successfully loaded. If loading BokehJS from CDN, this \\n\"+\n",
              "     \"may be due to a slow or bad network connection. Possible fixes:\\n\"+\n",
              "     \"</p>\\n\"+\n",
              "     \"<ul>\\n\"+\n",
              "     \"<li>re-rerun `output_notebook()` to attempt to load from CDN again, or</li>\\n\"+\n",
              "     \"<li>use INLINE resources instead, as so:</li>\\n\"+\n",
              "     \"</ul>\\n\"+\n",
              "     \"<code>\\n\"+\n",
              "     \"from bokeh.resources import INLINE\\n\"+\n",
              "     \"output_notebook(resources=INLINE)\\n\"+\n",
              "     \"</code>\\n\"+\n",
              "     \"</div>\"}};\n",
              "\n",
              "  function display_loaded() {\n",
              "    var el = document.getElementById(null);\n",
              "    if (el != null) {\n",
              "      el.textContent = \"BokehJS is loading...\";\n",
              "    }\n",
              "    if (root.Bokeh !== undefined) {\n",
              "      if (el != null) {\n",
              "        el.textContent = \"BokehJS \" + root.Bokeh.version + \" successfully loaded.\";\n",
              "      }\n",
              "    } else if (Date.now() < root._bokeh_timeout) {\n",
              "      setTimeout(display_loaded, 100)\n",
              "    }\n",
              "  }\n",
              "\n",
              "\n",
              "  function run_callbacks() {\n",
              "    try {\n",
              "      root._bokeh_onload_callbacks.forEach(function(callback) {\n",
              "        if (callback != null)\n",
              "          callback();\n",
              "      });\n",
              "    } finally {\n",
              "      delete root._bokeh_onload_callbacks\n",
              "    }\n",
              "    console.debug(\"Bokeh: all callbacks have finished\");\n",
              "  }\n",
              "\n",
              "  function load_libs(css_urls, js_urls, callback) {\n",
              "    if (css_urls == null) css_urls = [];\n",
              "    if (js_urls == null) js_urls = [];\n",
              "\n",
              "    root._bokeh_onload_callbacks.push(callback);\n",
              "    if (root._bokeh_is_loading > 0) {\n",
              "      console.debug(\"Bokeh: BokehJS is being loaded, scheduling callback at\", now());\n",
              "      return null;\n",
              "    }\n",
              "    if (js_urls == null || js_urls.length === 0) {\n",
              "      run_callbacks();\n",
              "      return null;\n",
              "    }\n",
              "    console.debug(\"Bokeh: BokehJS not loaded, scheduling load and callback at\", now());\n",
              "    root._bokeh_is_loading = css_urls.length + js_urls.length;\n",
              "\n",
              "    function on_load() {\n",
              "      root._bokeh_is_loading--;\n",
              "      if (root._bokeh_is_loading === 0) {\n",
              "        console.debug(\"Bokeh: all BokehJS libraries/stylesheets loaded\");\n",
              "        run_callbacks()\n",
              "      }\n",
              "    }\n",
              "\n",
              "    function on_error() {\n",
              "      console.error(\"failed to load \" + url);\n",
              "    }\n",
              "\n",
              "    for (var i = 0; i < css_urls.length; i++) {\n",
              "      var url = css_urls[i];\n",
              "      const element = document.createElement(\"link\");\n",
              "      element.onload = on_load;\n",
              "      element.onerror = on_error;\n",
              "      element.rel = \"stylesheet\";\n",
              "      element.type = \"text/css\";\n",
              "      element.href = url;\n",
              "      console.debug(\"Bokeh: injecting link tag for BokehJS stylesheet: \", url);\n",
              "      document.body.appendChild(element);\n",
              "    }\n",
              "\n",
              "    for (var i = 0; i < js_urls.length; i++) {\n",
              "      var url = js_urls[i];\n",
              "      var element = document.createElement('script');\n",
              "      element.onload = on_load;\n",
              "      element.onerror = on_error;\n",
              "      element.async = false;\n",
              "      element.src = url;\n",
              "      console.debug(\"Bokeh: injecting script tag for BokehJS library: \", url);\n",
              "      document.head.appendChild(element);\n",
              "    }\n",
              "  };\n",
              "\n",
              "  function inject_raw_css(css) {\n",
              "    const element = document.createElement(\"style\");\n",
              "    element.appendChild(document.createTextNode(css));\n",
              "    document.body.appendChild(element);\n",
              "  }\n",
              "\n",
              "  \n",
              "  var js_urls = [\"https://cdn.pydata.org/bokeh/release/bokeh-1.4.0.min.js\", \"https://cdn.pydata.org/bokeh/release/bokeh-widgets-1.4.0.min.js\", \"https://cdn.pydata.org/bokeh/release/bokeh-tables-1.4.0.min.js\", \"https://cdn.pydata.org/bokeh/release/bokeh-gl-1.4.0.min.js\"];\n",
              "  var css_urls = [];\n",
              "  \n",
              "\n",
              "  var inline_js = [\n",
              "    function(Bokeh) {\n",
              "      Bokeh.set_log_level(\"info\");\n",
              "    },\n",
              "    function(Bokeh) {\n",
              "    \n",
              "    \n",
              "    }\n",
              "  ];\n",
              "\n",
              "  function run_inline_js() {\n",
              "    \n",
              "    if (root.Bokeh !== undefined || force === true) {\n",
              "      \n",
              "    for (var i = 0; i < inline_js.length; i++) {\n",
              "      inline_js[i].call(root, root.Bokeh);\n",
              "    }\n",
              "    } else if (Date.now() < root._bokeh_timeout) {\n",
              "      setTimeout(run_inline_js, 100);\n",
              "    } else if (!root._bokeh_failed_load) {\n",
              "      console.log(\"Bokeh: BokehJS failed to load within specified timeout.\");\n",
              "      root._bokeh_failed_load = true;\n",
              "    } else if (force !== true) {\n",
              "      var cell = $(document.getElementById(null)).parents('.cell').data().cell;\n",
              "      cell.output_area.append_execute_result(NB_LOAD_WARNING)\n",
              "    }\n",
              "\n",
              "  }\n",
              "\n",
              "  if (root._bokeh_is_loading === 0) {\n",
              "    console.debug(\"Bokeh: BokehJS loaded, going straight to plotting\");\n",
              "    run_inline_js();\n",
              "  } else {\n",
              "    load_libs(css_urls, js_urls, function() {\n",
              "      console.debug(\"Bokeh: BokehJS plotting callback run at\", now());\n",
              "      run_inline_js();\n",
              "    });\n",
              "  }\n",
              "}(window));"
            ],
            "application/vnd.bokehjs_load.v0+json": "\n(function(root) {\n  function now() {\n    return new Date();\n  }\n\n  var force = true;\n\n  if (typeof root._bokeh_onload_callbacks === \"undefined\" || force === true) {\n    root._bokeh_onload_callbacks = [];\n    root._bokeh_is_loading = undefined;\n  }\n\n  \n\n  \n  if (typeof (root._bokeh_timeout) === \"undefined\" || force === true) {\n    root._bokeh_timeout = Date.now() + 5000;\n    root._bokeh_failed_load = false;\n  }\n\n  var NB_LOAD_WARNING = {'data': {'text/html':\n     \"<div style='background-color: #fdd'>\\n\"+\n     \"<p>\\n\"+\n     \"BokehJS does not appear to have successfully loaded. If loading BokehJS from CDN, this \\n\"+\n     \"may be due to a slow or bad network connection. Possible fixes:\\n\"+\n     \"</p>\\n\"+\n     \"<ul>\\n\"+\n     \"<li>re-rerun `output_notebook()` to attempt to load from CDN again, or</li>\\n\"+\n     \"<li>use INLINE resources instead, as so:</li>\\n\"+\n     \"</ul>\\n\"+\n     \"<code>\\n\"+\n     \"from bokeh.resources import INLINE\\n\"+\n     \"output_notebook(resources=INLINE)\\n\"+\n     \"</code>\\n\"+\n     \"</div>\"}};\n\n  function display_loaded() {\n    var el = document.getElementById(null);\n    if (el != null) {\n      el.textContent = \"BokehJS is loading...\";\n    }\n    if (root.Bokeh !== undefined) {\n      if (el != null) {\n        el.textContent = \"BokehJS \" + root.Bokeh.version + \" successfully loaded.\";\n      }\n    } else if (Date.now() < root._bokeh_timeout) {\n      setTimeout(display_loaded, 100)\n    }\n  }\n\n\n  function run_callbacks() {\n    try {\n      root._bokeh_onload_callbacks.forEach(function(callback) {\n        if (callback != null)\n          callback();\n      });\n    } finally {\n      delete root._bokeh_onload_callbacks\n    }\n    console.debug(\"Bokeh: all callbacks have finished\");\n  }\n\n  function load_libs(css_urls, js_urls, callback) {\n    if (css_urls == null) css_urls = [];\n    if (js_urls == null) js_urls = [];\n\n    root._bokeh_onload_callbacks.push(callback);\n    if (root._bokeh_is_loading > 0) {\n      console.debug(\"Bokeh: BokehJS is being loaded, scheduling callback at\", now());\n      return null;\n    }\n    if (js_urls == null || js_urls.length === 0) {\n      run_callbacks();\n      return null;\n    }\n    console.debug(\"Bokeh: BokehJS not loaded, scheduling load and callback at\", now());\n    root._bokeh_is_loading = css_urls.length + js_urls.length;\n\n    function on_load() {\n      root._bokeh_is_loading--;\n      if (root._bokeh_is_loading === 0) {\n        console.debug(\"Bokeh: all BokehJS libraries/stylesheets loaded\");\n        run_callbacks()\n      }\n    }\n\n    function on_error() {\n      console.error(\"failed to load \" + url);\n    }\n\n    for (var i = 0; i < css_urls.length; i++) {\n      var url = css_urls[i];\n      const element = document.createElement(\"link\");\n      element.onload = on_load;\n      element.onerror = on_error;\n      element.rel = \"stylesheet\";\n      element.type = \"text/css\";\n      element.href = url;\n      console.debug(\"Bokeh: injecting link tag for BokehJS stylesheet: \", url);\n      document.body.appendChild(element);\n    }\n\n    for (var i = 0; i < js_urls.length; i++) {\n      var url = js_urls[i];\n      var element = document.createElement('script');\n      element.onload = on_load;\n      element.onerror = on_error;\n      element.async = false;\n      element.src = url;\n      console.debug(\"Bokeh: injecting script tag for BokehJS library: \", url);\n      document.head.appendChild(element);\n    }\n  };\n\n  function inject_raw_css(css) {\n    const element = document.createElement(\"style\");\n    element.appendChild(document.createTextNode(css));\n    document.body.appendChild(element);\n  }\n\n  \n  var js_urls = [\"https://cdn.pydata.org/bokeh/release/bokeh-1.4.0.min.js\", \"https://cdn.pydata.org/bokeh/release/bokeh-widgets-1.4.0.min.js\", \"https://cdn.pydata.org/bokeh/release/bokeh-tables-1.4.0.min.js\", \"https://cdn.pydata.org/bokeh/release/bokeh-gl-1.4.0.min.js\"];\n  var css_urls = [];\n  \n\n  var inline_js = [\n    function(Bokeh) {\n      Bokeh.set_log_level(\"info\");\n    },\n    function(Bokeh) {\n    \n    \n    }\n  ];\n\n  function run_inline_js() {\n    \n    if (root.Bokeh !== undefined || force === true) {\n      \n    for (var i = 0; i < inline_js.length; i++) {\n      inline_js[i].call(root, root.Bokeh);\n    }\n    } else if (Date.now() < root._bokeh_timeout) {\n      setTimeout(run_inline_js, 100);\n    } else if (!root._bokeh_failed_load) {\n      console.log(\"Bokeh: BokehJS failed to load within specified timeout.\");\n      root._bokeh_failed_load = true;\n    } else if (force !== true) {\n      var cell = $(document.getElementById(null)).parents('.cell').data().cell;\n      cell.output_area.append_execute_result(NB_LOAD_WARNING)\n    }\n\n  }\n\n  if (root._bokeh_is_loading === 0) {\n    console.debug(\"Bokeh: BokehJS loaded, going straight to plotting\");\n    run_inline_js();\n  } else {\n    load_libs(css_urls, js_urls, function() {\n      console.debug(\"Bokeh: BokehJS plotting callback run at\", now());\n      run_inline_js();\n    });\n  }\n}(window));"
          },
          "metadata": {
            "tags": []
          }
        },
        {
          "output_type": "display_data",
          "data": {
            "text/html": [
              "\n",
              "\n",
              "\n",
              "\n",
              "\n",
              "\n",
              "  <div class=\"bk-root\" id=\"fb0858d2-7b78-4a9b-968b-0eddec0b8351\" data-root-id=\"1174\"></div>\n"
            ]
          },
          "metadata": {
            "tags": []
          }
        },
        {
          "output_type": "display_data",
          "data": {
            "application/javascript": [
              "(function(root) {\n",
              "  function embed_document(root) {\n",
              "    \n",
              "  var docs_json = {\"3703e4d1-3d66-430b-8a88-d72cb467c6bf\":{\"roots\":{\"references\":[{\"attributes\":{\"below\":[{\"id\":\"1185\",\"type\":\"LinearAxis\"}],\"center\":[{\"id\":\"1189\",\"type\":\"Grid\"},{\"id\":\"1194\",\"type\":\"Grid\"}],\"left\":[{\"id\":\"1190\",\"type\":\"LinearAxis\"}],\"output_backend\":\"webgl\",\"plot_height\":300,\"renderers\":[{\"id\":\"1211\",\"type\":\"GlyphRenderer\"},{\"id\":\"1216\",\"type\":\"GlyphRenderer\"},{\"id\":\"1221\",\"type\":\"GlyphRenderer\"},{\"id\":\"1226\",\"type\":\"GlyphRenderer\"},{\"id\":\"1231\",\"type\":\"GlyphRenderer\"}],\"title\":{\"id\":\"1175\",\"type\":\"Title\"},\"toolbar\":{\"id\":\"1201\",\"type\":\"Toolbar\"},\"x_range\":{\"id\":\"1233\",\"type\":\"Range1d\"},\"x_scale\":{\"id\":\"1181\",\"type\":\"LinearScale\"},\"y_range\":{\"id\":\"1234\",\"type\":\"Range1d\"},\"y_scale\":{\"id\":\"1183\",\"type\":\"LinearScale\"}},\"id\":\"1174\",\"subtype\":\"Figure\",\"type\":\"Plot\"},{\"attributes\":{},\"id\":\"1199\",\"type\":\"ResetTool\"},{\"attributes\":{\"source\":{\"id\":\"1208\",\"type\":\"ColumnDataSource\"}},\"id\":\"1212\",\"type\":\"CDSView\"},{\"attributes\":{\"callback\":null,\"data\":{\"x\":{\"__ndarray__\":\"qCTE0uf7UEB18ZCftAhRQEK+XWyBFVFAD4sqOU4iUUDcV/cFGy9RQKkkxNLnO1FAdvGQn7RIUUBDvl1sgVVRQBCLKjlOYlFA3Vf3BRtvUUCqJMTS53tRQHfxkJ+0iFFARL5dbIGVUUARiyo5TqJRQN5X9wUbr1FAqyTE0ue7UUB48ZCftMhRQEW+XWyB1VFAEosqOU7iUUDfV/cFG+9RQKwkxNLn+1FAefGQn7QIUkBGvl1sgRVSQBOLKjlOIlJA4Ff3BRsvUkCtJMTS5ztSQHrxkJ+0SFJAR75dbIFVUkAUiyo5TmJSQOFX9wUbb1JAriTE0ud7UkB78ZCftIhSQEi+XWyBlVJAFYsqOU6iUkDiV/cFG69SQK8kxNLnu1JAfPGQn7TIUkBJvl1sgdVSQBaLKjlO4lJA41f3BRvvUkCwJMTS5/tSQH3xkJ+0CFNASr5dbIEVU0AXiyo5TiJTQORX9wUbL1NAsSTE0uc7U0B+8ZCftEhTQEu+XWyBVVNAGIsqOU5iU0DlV/cFG29TQLIkxNLne1NAf/GQn7SIU0BMvl1sgZVTQBmLKjlOolNA5lf3BRuvU0CzJMTS57tTQIDxkJ+0yFNATb5dbIHVU0Aaiyo5TuJTQOdX9wUb71NAtCTE0uf7U0CB8ZCftAhUQE6+XWyBFVRAG4sqOU4iVEDoV/cFGy9UQLUkxNLnO1RAgvGQn7RIVEBPvl1sgVVUQByLKjlOYlRA6Vf3BRtvVEC2JMTS53tUQIPxkJ+0iFRAUL5dbIGVVEAdiyo5TqJUQOpX9wUbr1RAtyTE0ue7VECE8ZCftMhUQFG+XWyB1VRAHosqOU7iVEDrV/cFG+9UQLgkxNLn+1RAhfGQn7QIVUBSvl1sgRVVQB+LKjlOIlVA7Ff3BRsvVUC5JMTS5ztVQIbxkJ+0SFVAU75dbIFVVUAgiyo5TmJVQO1X9wUbb1VAuiTE0ud7VUCH8ZCftIhVQFS+XWyBlVVAIYsqOU6iVUDuV/cFG69VQLskxNLnu1VAiPGQn7TIVUBVvl1sgdVVQCKLKjlO4lVA71f3BRvvVUC8JMTS5/tVQInxkJ+0CFZAVr5dbIEVVkAjiyo5TiJWQPBX9wUbL1ZAvSTE0uc7VkCK8ZCftEhWQFe+XWyBVVZAJIsqOU5iVkDxV/cFG29WQL4kxNLne1ZAi/GQn7SIVkBYvl1sgZVWQCWLKjlOolZA8lf3BRuvVkC/JMTS57tWQIzxkJ+0yFZAWb5dbIHVVkAmiyo5TuJWQPNX9wUb71ZAwCTE0uf7VkCN8ZCftAhXQFq+XWyBFVdAJ4sqOU4iV0D0V/cFGy9XQMEkxNLnO1dAjvGQn7RIV0Bbvl1sgVVXQCiLKjlOYldA9Vf3BRtvV0DCJMTS53tXQI/xkJ+0iFdAXL5dbIGVV0Apiyo5TqJXQPZX9wUbr1dAwyTE0ue7V0CQ8ZCftMhXQF2+XWyB1VdAKosqOU7iV0D3V/cFG+9XQMQkxNLn+1dAkfGQn7QIWEBevl1sgRVYQCuLKjlOIlhA+Ff3BRsvWEDFJMTS5ztYQJLxkJ+0SFhAX75dbIFVWEAsiyo5TmJYQPlX9wUbb1hAxiTE0ud7WECT8ZCftIhYQGC+XWyBlVhALYsqOU6iWED6V/cFG69YQMckxNLnu1hAlPGQn7TIWEBhvl1sgdVYQA==\",\"dtype\":\"float64\",\"shape\":[158]},\"y\":{\"__ndarray__\":\"/k89gPcXHz/Hul2mbCghP0cCANOK+iE/BSnRHdw2Ij9xp9/xgToiP2nBgsilnSI/rHgso6g4JD/EwZzfzdwnP/Fk08NUvy0/pdbFSfl7Mj+NVZ5R+ck1P0sK8Pk9tDc/jghxzJibNz8Yyq2IYbA1Pw+G9fge0jI/Fi/9zoQOMD8GbF6SnjssPzGXiUUXYSo/rWIckkY1Kj+rlPvxmksrP2fuVaMolS0/c1MZUTqzMD9yTNuLU5ozP1u3yQfMsTc/IgSyyRg2PT8pb+Wls1FCPyZUMDVPZkc/Y9AccIlGTj90adeOmoVTPyZKUiztkVg/KlD8CPinXT+9Z4btqP9gP6Z2Aeavd2I/wMevBbkRYz/QP+hFo9JiP6wp3r255GE/LDLFCfuIYD/2ippWzQ1eP5axyQJrN1s/Mblzu8reWD/h2q67yy1XP91GAg7aP1Y/tlcjBnUxVj8sisnDrhVXPyIG3fY43lg/fk2fpllSWz/Pc6fLjCFeP5q1IC0VgWA/nUsD9f7fYT8g/VAoCxdjP2j8HbjwBmQ/6zMuataHZD/btKBwdH9kP9Opr3hYAGQ/AsiVY7pXYz8RnM73gPliP5C+VPddU2M/lxEseXWgZD9pKtilUtNmP4RCPBQnnWk/e4cV4IiMbD9scRg7YzZvP0B2Q+8brHA/WMwAuZhycT+QdNzICf1xP6U9jI9OYXI/0ni7Uf6xcj8OdO2Ru/1yP3Eak8laV3M/wXm8gIDccz9wieT2JbB0P5yT5Qeb6XU/X9cIMUaFdz9lkU4fB2V5P9p3oMwnYXs/gricyztdfT/+1OV+41J/PzxoCYcBp4A/NToNrNKvgT89CtHKsMeCP13eEGeH6IM/C0IDRIMBhT8NXFdTHfyFP0uNuB52xoY/p9XoJEpehz+euBTqOtWHP1M8rp/8SYg/JHm2lHnZiD+tRa7XT5GJPw+eHfBobIo/Hyn/yxZbiz8VYbU7TVCMP0hu8VcSS40/Sx9vJtZWjj9FEAbg5oOPPz7EpNVZb5A/So/0t642kT/To/XuxxqSP9Fk8ekcIpM/Z+IAvqpWlD+nZw/bQMCVP7/NxzZxXZc/fT63L+YhmT8ibUilwvyaP7LCeLhm4pw/oyxRqqrRnj++ItGcUmigP1QUengucqE/6cunu0mFoj90gtVRSJ2jP1DN+QIltqQ/Aht4q17QpT8OVQ7ypvKmP0dew+qQJ6g/OdyDB794qT9myvhMTuuqP9WRGVZ1gKw/tXK6ues5rj9YJ2V4cA+wP14GYCs3H7E/7M/AvkRXsj9UpRQtCMSzP6U/cBNrcLU/Y/qrsGNitz8OxgRJDpi5P5fiPNK7Brw/lQ+YwDmdvj9LGid6taTAP1Ki89+P/8E/Fog7mvhdwz+qKFDx9MHEPxUPs2Q7K8Y/uJri80yQxz+uCMl3HdrIP5FZw+QT5ck/gB5sHmGHyj8XRxz4QprKPyBwNQb7Aso/MbVJdPm4yD/KHAcMLsjGP6vZ1p2tT8Q/YhZDQlN9wT9Ntv7aAg69P6OxCirMRLc/7SwRVK/5sT9B5bOcStWqP3ocrId5aKM/WNOSF5dSmz8TqaxyKtGSP6P3ZovSgok/WSR/vnkfgT+dVh2A+N92P9MxCVYMgW4/8OpCm7FNZD+cLOpOe+daP4ZPDggHrFE/g9UCGT/zRj/hhMsotXE9Pw==\",\"dtype\":\"float64\",\"shape\":[158]}},\"selected\":{\"id\":\"1257\",\"type\":\"Selection\"},\"selection_policy\":{\"id\":\"1258\",\"type\":\"UnionRenderers\"}},\"id\":\"1208\",\"type\":\"ColumnDataSource\"},{\"attributes\":{},\"id\":\"1198\",\"type\":\"SaveTool\"},{\"attributes\":{\"callback\":null,\"data\":{\"text\":[\"Mode: 95.1\"],\"x\":[95.13602437166833],\"y\":[0.16626615230383715]},\"selected\":{\"id\":\"1265\",\"type\":\"Selection\"},\"selection_policy\":{\"id\":\"1266\",\"type\":\"UnionRenderers\"}},\"id\":\"1228\",\"type\":\"ColumnDataSource\"},{\"attributes\":{\"angle\":{\"units\":\"rad\",\"value\":1},\"text_alpha\":{\"value\":0.4},\"text_color\":{\"value\":\"black\"},\"x\":{\"field\":\"x\"},\"y\":{\"field\":\"y\"}},\"id\":\"1229\",\"type\":\"Text\"},{\"attributes\":{\"data_source\":{\"id\":\"1208\",\"type\":\"ColumnDataSource\"},\"glyph\":{\"id\":\"1209\",\"type\":\"Line\"},\"hover_glyph\":null,\"muted_glyph\":null,\"nonselection_glyph\":{\"id\":\"1210\",\"type\":\"Line\"},\"selection_glyph\":null,\"view\":{\"id\":\"1212\",\"type\":\"CDSView\"}},\"id\":\"1211\",\"type\":\"GlyphRenderer\"},{\"attributes\":{\"overlay\":{\"id\":\"1256\",\"type\":\"BoxAnnotation\"}},\"id\":\"1197\",\"type\":\"BoxZoomTool\"},{\"attributes\":{\"angle\":{\"units\":\"rad\",\"value\":1},\"text_alpha\":{\"value\":0.1},\"text_color\":{\"value\":\"black\"},\"x\":{\"field\":\"x\"},\"y\":{\"field\":\"y\"}},\"id\":\"1230\",\"type\":\"Text\"},{\"attributes\":{\"source\":{\"id\":\"1223\",\"type\":\"ColumnDataSource\"}},\"id\":\"1227\",\"type\":\"CDSView\"},{\"attributes\":{},\"id\":\"1196\",\"type\":\"WheelZoomTool\"},{\"attributes\":{\"data_source\":{\"id\":\"1228\",\"type\":\"ColumnDataSource\"},\"glyph\":{\"id\":\"1229\",\"type\":\"Text\"},\"hover_glyph\":null,\"muted_glyph\":null,\"nonselection_glyph\":{\"id\":\"1230\",\"type\":\"Text\"},\"selection_glyph\":null,\"view\":{\"id\":\"1232\",\"type\":\"CDSView\"}},\"id\":\"1231\",\"type\":\"GlyphRenderer\"},{\"attributes\":{\"callback\":null,\"data\":{\"x\":[92.89652922536658,92.89652922536658],\"y\":[0,0.16626615230383715]},\"selected\":{\"id\":\"1259\",\"type\":\"Selection\"},\"selection_policy\":{\"id\":\"1260\",\"type\":\"UnionRenderers\"}},\"id\":\"1213\",\"type\":\"ColumnDataSource\"},{\"attributes\":{},\"id\":\"1195\",\"type\":\"PanTool\"},{\"attributes\":{\"line_width\":1.5,\"x\":{\"field\":\"x\"},\"y\":{\"field\":\"y\"}},\"id\":\"1214\",\"type\":\"Line\"},{\"attributes\":{\"source\":{\"id\":\"1228\",\"type\":\"ColumnDataSource\"}},\"id\":\"1232\",\"type\":\"CDSView\"},{\"attributes\":{\"text\":\"Read accuracy distribution\"},\"id\":\"1175\",\"type\":\"Title\"},{\"attributes\":{\"line_alpha\":0.1,\"line_color\":\"#1f77b4\",\"line_width\":1.5,\"x\":{\"field\":\"x\"},\"y\":{\"field\":\"y\"}},\"id\":\"1215\",\"type\":\"Line\"},{\"attributes\":{\"bounds\":[0,null],\"callback\":null,\"end\":100,\"start\":80},\"id\":\"1233\",\"type\":\"Range1d\"},{\"attributes\":{},\"id\":\"1253\",\"type\":\"BasicTickFormatter\"},{\"attributes\":{\"data_source\":{\"id\":\"1213\",\"type\":\"ColumnDataSource\"},\"glyph\":{\"id\":\"1214\",\"type\":\"Line\"},\"hover_glyph\":null,\"muted_glyph\":null,\"nonselection_glyph\":{\"id\":\"1215\",\"type\":\"Line\"},\"selection_glyph\":null,\"view\":{\"id\":\"1217\",\"type\":\"CDSView\"}},\"id\":\"1216\",\"type\":\"GlyphRenderer\"},{\"attributes\":{\"line_color\":\"#1f77b4\",\"line_width\":1.5,\"x\":{\"field\":\"x\"},\"y\":{\"field\":\"y\"}},\"id\":\"1209\",\"type\":\"Line\"},{\"attributes\":{\"bounds\":[0,null],\"callback\":null,\"end\":0.2493992284557557},\"id\":\"1234\",\"type\":\"Range1d\"},{\"attributes\":{\"source\":{\"id\":\"1213\",\"type\":\"ColumnDataSource\"}},\"id\":\"1217\",\"type\":\"CDSView\"},{\"attributes\":{},\"id\":\"1255\",\"type\":\"BasicTickFormatter\"},{\"attributes\":{},\"id\":\"1258\",\"type\":\"UnionRenderers\"},{\"attributes\":{\"dimension\":1,\"ticker\":{\"id\":\"1191\",\"type\":\"BasicTicker\"}},\"id\":\"1194\",\"type\":\"Grid\"},{\"attributes\":{\"callback\":null,\"data\":{\"text\":[\"Mean: 92.9\"],\"x\":[92.89652922536658],\"y\":[0.16626615230383715]},\"selected\":{\"id\":\"1261\",\"type\":\"Selection\"},\"selection_policy\":{\"id\":\"1262\",\"type\":\"UnionRenderers\"}},\"id\":\"1218\",\"type\":\"ColumnDataSource\"},{\"attributes\":{\"bottom_units\":\"screen\",\"fill_alpha\":{\"value\":0.5},\"fill_color\":{\"value\":\"lightgrey\"},\"left_units\":\"screen\",\"level\":\"overlay\",\"line_alpha\":{\"value\":1.0},\"line_color\":{\"value\":\"black\"},\"line_dash\":[4,4],\"line_width\":{\"value\":2},\"render_mode\":\"css\",\"right_units\":\"screen\",\"top_units\":\"screen\"},\"id\":\"1256\",\"type\":\"BoxAnnotation\"},{\"attributes\":{},\"id\":\"1191\",\"type\":\"BasicTicker\"},{\"attributes\":{\"angle\":{\"units\":\"rad\",\"value\":1},\"text_alpha\":{\"value\":0.4},\"text_color\":{\"value\":\"black\"},\"x\":{\"field\":\"x\"},\"y\":{\"field\":\"y\"}},\"id\":\"1219\",\"type\":\"Text\"},{\"attributes\":{\"axis_label\":\"Number of reads\",\"formatter\":{\"id\":\"1255\",\"type\":\"BasicTickFormatter\"},\"ticker\":{\"id\":\"1191\",\"type\":\"BasicTicker\"}},\"id\":\"1190\",\"type\":\"LinearAxis\"},{\"attributes\":{\"angle\":{\"units\":\"rad\",\"value\":1},\"text_alpha\":{\"value\":0.1},\"text_color\":{\"value\":\"black\"},\"x\":{\"field\":\"x\"},\"y\":{\"field\":\"y\"}},\"id\":\"1220\",\"type\":\"Text\"},{\"attributes\":{},\"id\":\"1257\",\"type\":\"Selection\"},{\"attributes\":{},\"id\":\"1259\",\"type\":\"Selection\"},{\"attributes\":{\"ticker\":{\"id\":\"1186\",\"type\":\"BasicTicker\"}},\"id\":\"1189\",\"type\":\"Grid\"},{\"attributes\":{\"data_source\":{\"id\":\"1218\",\"type\":\"ColumnDataSource\"},\"glyph\":{\"id\":\"1219\",\"type\":\"Text\"},\"hover_glyph\":null,\"muted_glyph\":null,\"nonselection_glyph\":{\"id\":\"1220\",\"type\":\"Text\"},\"selection_glyph\":null,\"view\":{\"id\":\"1222\",\"type\":\"CDSView\"}},\"id\":\"1221\",\"type\":\"GlyphRenderer\"},{\"attributes\":{},\"id\":\"1260\",\"type\":\"UnionRenderers\"},{\"attributes\":{},\"id\":\"1186\",\"type\":\"BasicTicker\"},{\"attributes\":{\"source\":{\"id\":\"1218\",\"type\":\"ColumnDataSource\"}},\"id\":\"1222\",\"type\":\"CDSView\"},{\"attributes\":{},\"id\":\"1266\",\"type\":\"UnionRenderers\"},{\"attributes\":{},\"id\":\"1261\",\"type\":\"Selection\"},{\"attributes\":{\"axis_label\":\"Read Accuracy\",\"formatter\":{\"id\":\"1253\",\"type\":\"BasicTickFormatter\"},\"ticker\":{\"id\":\"1186\",\"type\":\"BasicTicker\"}},\"id\":\"1185\",\"type\":\"LinearAxis\"},{\"attributes\":{\"callback\":null,\"data\":{\"x\":[95.13602437166833,95.13602437166833],\"y\":[0,0.16626615230383715]},\"selected\":{\"id\":\"1263\",\"type\":\"Selection\"},\"selection_policy\":{\"id\":\"1264\",\"type\":\"UnionRenderers\"}},\"id\":\"1223\",\"type\":\"ColumnDataSource\"},{\"attributes\":{},\"id\":\"1262\",\"type\":\"UnionRenderers\"},{\"attributes\":{},\"id\":\"1183\",\"type\":\"LinearScale\"},{\"attributes\":{\"line_width\":1.5,\"x\":{\"field\":\"x\"},\"y\":{\"field\":\"y\"}},\"id\":\"1224\",\"type\":\"Line\"},{\"attributes\":{},\"id\":\"1263\",\"type\":\"Selection\"},{\"attributes\":{},\"id\":\"1181\",\"type\":\"LinearScale\"},{\"attributes\":{\"line_alpha\":0.1,\"line_color\":\"#1f77b4\",\"line_width\":1.5,\"x\":{\"field\":\"x\"},\"y\":{\"field\":\"y\"}},\"id\":\"1225\",\"type\":\"Line\"},{\"attributes\":{},\"id\":\"1264\",\"type\":\"UnionRenderers\"},{\"attributes\":{\"data_source\":{\"id\":\"1223\",\"type\":\"ColumnDataSource\"},\"glyph\":{\"id\":\"1224\",\"type\":\"Line\"},\"hover_glyph\":null,\"muted_glyph\":null,\"nonselection_glyph\":{\"id\":\"1225\",\"type\":\"Line\"},\"selection_glyph\":null,\"view\":{\"id\":\"1227\",\"type\":\"CDSView\"}},\"id\":\"1226\",\"type\":\"GlyphRenderer\"},{\"attributes\":{},\"id\":\"1265\",\"type\":\"Selection\"},{\"attributes\":{\"active_drag\":\"auto\",\"active_inspect\":\"auto\",\"active_multi\":null,\"active_scroll\":\"auto\",\"active_tap\":\"auto\",\"tools\":[{\"id\":\"1195\",\"type\":\"PanTool\"},{\"id\":\"1196\",\"type\":\"WheelZoomTool\"},{\"id\":\"1197\",\"type\":\"BoxZoomTool\"},{\"id\":\"1198\",\"type\":\"SaveTool\"},{\"id\":\"1199\",\"type\":\"ResetTool\"},{\"id\":\"1200\",\"type\":\"HelpTool\"}]},\"id\":\"1201\",\"type\":\"Toolbar\"},{\"attributes\":{\"line_alpha\":0.1,\"line_color\":\"#1f77b4\",\"line_width\":1.5,\"x\":{\"field\":\"x\"},\"y\":{\"field\":\"y\"}},\"id\":\"1210\",\"type\":\"Line\"},{\"attributes\":{},\"id\":\"1200\",\"type\":\"HelpTool\"}],\"root_ids\":[\"1174\"]},\"title\":\"Bokeh Application\",\"version\":\"1.4.0\"}};\n",
              "  var render_items = [{\"docid\":\"3703e4d1-3d66-430b-8a88-d72cb467c6bf\",\"roots\":{\"1174\":\"fb0858d2-7b78-4a9b-968b-0eddec0b8351\"}}];\n",
              "  root.Bokeh.embed.embed_items_notebook(docs_json, render_items);\n",
              "\n",
              "  }\n",
              "  if (root.Bokeh !== undefined) {\n",
              "    embed_document(root);\n",
              "  } else {\n",
              "    var attempts = 0;\n",
              "    var timer = setInterval(function(root) {\n",
              "      if (root.Bokeh !== undefined) {\n",
              "        clearInterval(timer);\n",
              "        embed_document(root);\n",
              "      } else {\n",
              "        attempts++;\n",
              "        if (attempts > 100) {\n",
              "          clearInterval(timer);\n",
              "          console.log(\"Bokeh: ERROR: Unable to run BokehJS code because BokehJS library is missing\");\n",
              "        }\n",
              "      }\n",
              "    }, 10, root)\n",
              "  }\n",
              "})(window);"
            ],
            "application/vnd.bokehjs_exec.v0+json": ""
          },
          "metadata": {
            "tags": [],
            "application/vnd.bokehjs_exec.v0+json": {
              "id": "1174"
            }
          }
        }
      ]
    },
    {
      "cell_type": "markdown",
      "metadata": {
        "id": "r8pe1WWI2JwI",
        "colab_type": "text"
      },
      "source": [
        "The statistics file has many other columns which are interesting to explore:"
      ]
    },
    {
      "cell_type": "code",
      "metadata": {
        "id": "lHts9EyC2SVp",
        "colab_type": "code",
        "colab": {
          "base_uri": "https://localhost:8080/",
          "height": 408
        },
        "outputId": "b7bc2214-ce4b-483f-e1a2-2a283095da29"
      },
      "source": [
        "aln_summary.info()"
      ],
      "execution_count": 7,
      "outputs": [
        {
          "output_type": "stream",
          "text": [
            "<class 'pandas.core.frame.DataFrame'>\n",
            "RangeIndex: 7827 entries, 0 to 7826\n",
            "Data columns (total 18 columns):\n",
            "name               7827 non-null object\n",
            "ref                7827 non-null object\n",
            "coverage           7827 non-null float64\n",
            "ref_coverage       7827 non-null float64\n",
            "qstart             7827 non-null int64\n",
            "qend               7827 non-null int64\n",
            "rstart             7827 non-null int64\n",
            "rend               7827 non-null int64\n",
            "aligned_ref_len    7827 non-null int64\n",
            "direction          7827 non-null object\n",
            "length             7827 non-null int64\n",
            "read_length        7827 non-null int64\n",
            "match              7827 non-null int64\n",
            "ins                7827 non-null int64\n",
            "del                7827 non-null int64\n",
            "sub                7827 non-null int64\n",
            "iden               7827 non-null float64\n",
            "acc                7827 non-null float64\n",
            "dtypes: float64(4), int64(11), object(3)\n",
            "memory usage: 1.1+ MB\n"
          ],
          "name": "stdout"
        }
      ]
    },
    {
      "cell_type": "markdown",
      "metadata": {
        "id": "ouPONyB_15DB",
        "colab_type": "text"
      },
      "source": [
        "## On Target Depth\n",
        "\n",
        "In this section we will examine the depth of sequencing for each of the target regions, and count reads aligning to other genomic locations.\n",
        "\n",
        "For this purpose and throughout the rest of this tutorial we will use the [`Pyranges`](https://github.com/biocore-ntnu/pyranges) library."
      ]
    },
    {
      "cell_type": "markdown",
      "metadata": {
        "id": "aNVgJzCW-Mcr",
        "colab_type": "text"
      },
      "source": [
        "### Simple Overlaps\n",
        "\n",
        "As a first look at the data lets tabulate the number of reads overlapping each target. "
      ]
    },
    {
      "cell_type": "code",
      "metadata": {
        "id": "wfov7Ve3bAL3",
        "colab_type": "code",
        "cellView": "both",
        "colab": {
          "base_uri": "https://localhost:8080/",
          "height": 359
        },
        "outputId": "6630ae90-7289-486c-885d-3c841e33f8ae"
      },
      "source": [
        "import pyranges as pr\n",
        "\n",
        "targets = region_bed[['chrom','start','end','tname']].rename(\n",
        "    columns={'chrom':'Chromosome','start':'Start','end':'End'}\n",
        ")\n",
        "targets = pr.PyRanges(targets)\n",
        "\n",
        "reads = aln_summary.rename(\n",
        "    columns = {'ref':'Chromosome','rstart':'Start','rend':'End'}\n",
        ")\n",
        "reads = pr.PyRanges(reads)\n",
        "ovl_summary = targets.count_overlaps(reads)\n",
        "ovl_summary.df"
      ],
      "execution_count": 8,
      "outputs": [
        {
          "output_type": "execute_result",
          "data": {
            "text/plain": [
              "  Chromosome      Start        End    tname  NumberOverlaps\n",
              "0       chr1  155130000  155250000     MUC1              28\n",
              "1       chr4    3024876    3124934      HTT              87\n",
              "2       chr6  170511908  170612015    SCA17              76\n",
              "3       chr9   27523486   27623547  C9orf72              39\n",
              "4      chr11    2111515    2212203      INS              55\n",
              "5      chr12  111548951  111649019     SCA2             233\n",
              "6      chr14   92021011   92121034     SCA3              95\n",
              "7      chr19   13157859   13257897     SCA6              63\n",
              "8      chr22   45745355   45845424    SCA10             125\n",
              "9       chrX  147862050  147962110     FMR1              71"
            ],
            "text/html": [
              "<div>\n",
              "<style scoped>\n",
              "    .dataframe tbody tr th:only-of-type {\n",
              "        vertical-align: middle;\n",
              "    }\n",
              "\n",
              "    .dataframe tbody tr th {\n",
              "        vertical-align: top;\n",
              "    }\n",
              "\n",
              "    .dataframe thead th {\n",
              "        text-align: right;\n",
              "    }\n",
              "</style>\n",
              "<table border=\"1\" class=\"dataframe\">\n",
              "  <thead>\n",
              "    <tr style=\"text-align: right;\">\n",
              "      <th></th>\n",
              "      <th>Chromosome</th>\n",
              "      <th>Start</th>\n",
              "      <th>End</th>\n",
              "      <th>tname</th>\n",
              "      <th>NumberOverlaps</th>\n",
              "    </tr>\n",
              "  </thead>\n",
              "  <tbody>\n",
              "    <tr>\n",
              "      <th>0</th>\n",
              "      <td>chr1</td>\n",
              "      <td>155130000</td>\n",
              "      <td>155250000</td>\n",
              "      <td>MUC1</td>\n",
              "      <td>28</td>\n",
              "    </tr>\n",
              "    <tr>\n",
              "      <th>1</th>\n",
              "      <td>chr4</td>\n",
              "      <td>3024876</td>\n",
              "      <td>3124934</td>\n",
              "      <td>HTT</td>\n",
              "      <td>87</td>\n",
              "    </tr>\n",
              "    <tr>\n",
              "      <th>2</th>\n",
              "      <td>chr6</td>\n",
              "      <td>170511908</td>\n",
              "      <td>170612015</td>\n",
              "      <td>SCA17</td>\n",
              "      <td>76</td>\n",
              "    </tr>\n",
              "    <tr>\n",
              "      <th>3</th>\n",
              "      <td>chr9</td>\n",
              "      <td>27523486</td>\n",
              "      <td>27623547</td>\n",
              "      <td>C9orf72</td>\n",
              "      <td>39</td>\n",
              "    </tr>\n",
              "    <tr>\n",
              "      <th>4</th>\n",
              "      <td>chr11</td>\n",
              "      <td>2111515</td>\n",
              "      <td>2212203</td>\n",
              "      <td>INS</td>\n",
              "      <td>55</td>\n",
              "    </tr>\n",
              "    <tr>\n",
              "      <th>5</th>\n",
              "      <td>chr12</td>\n",
              "      <td>111548951</td>\n",
              "      <td>111649019</td>\n",
              "      <td>SCA2</td>\n",
              "      <td>233</td>\n",
              "    </tr>\n",
              "    <tr>\n",
              "      <th>6</th>\n",
              "      <td>chr14</td>\n",
              "      <td>92021011</td>\n",
              "      <td>92121034</td>\n",
              "      <td>SCA3</td>\n",
              "      <td>95</td>\n",
              "    </tr>\n",
              "    <tr>\n",
              "      <th>7</th>\n",
              "      <td>chr19</td>\n",
              "      <td>13157859</td>\n",
              "      <td>13257897</td>\n",
              "      <td>SCA6</td>\n",
              "      <td>63</td>\n",
              "    </tr>\n",
              "    <tr>\n",
              "      <th>8</th>\n",
              "      <td>chr22</td>\n",
              "      <td>45745355</td>\n",
              "      <td>45845424</td>\n",
              "      <td>SCA10</td>\n",
              "      <td>125</td>\n",
              "    </tr>\n",
              "    <tr>\n",
              "      <th>9</th>\n",
              "      <td>chrX</td>\n",
              "      <td>147862050</td>\n",
              "      <td>147962110</td>\n",
              "      <td>FMR1</td>\n",
              "      <td>71</td>\n",
              "    </tr>\n",
              "  </tbody>\n",
              "</table>\n",
              "</div>"
            ]
          },
          "metadata": {
            "tags": []
          },
          "execution_count": 8
        }
      ]
    },
    {
      "cell_type": "markdown",
      "metadata": {
        "id": "yexF406nbMRW",
        "colab_type": "text"
      },
      "source": [
        "The table above summaries the number of times a read overlaps one of the targets. We can also think about the inverse problem, how many times the targets intersect the reads; this allows us to calculate approximately numbers of on-target and off-target bases:"
      ]
    },
    {
      "cell_type": "code",
      "metadata": {
        "id": "OsBBwT8EgUrs",
        "colab_type": "code",
        "colab": {
          "base_uri": "https://localhost:8080/",
          "height": 142
        },
        "outputId": "b463d6fe-03fd-466a-be37-5f82ac2ffd68"
      },
      "source": [
        "# get on/off target reads\n",
        "ovl = reads.count_overlaps(targets)\n",
        "on_target = ovl[ovl.NumberOverlaps > 0]\n",
        "off_target = ovl[ovl.NumberOverlaps == 0]\n",
        "def summarize(df):\n",
        "    count = len(df)\n",
        "    bases = sum(df.End) - sum(df.Start)\n",
        "    ave_len = int(df.read_length.mean())\n",
        "    return count, bases // 1000, ave_len\n",
        "on_stats = summarize(on_target)\n",
        "off_stats = summarize(off_target)\n",
        "\n",
        "info = pd.DataFrame([\n",
        "        on_stats, off_stats],\n",
        "    columns=['Reads', 'Bases / k', 'Mean Read Length'],\n",
        "    index=['On target', 'Non-target'],\n",
        "    ).transpose()\n",
        "info['Total'] = info['On target'] + info['Non-target']\n",
        "display(info)"
      ],
      "execution_count": 105,
      "outputs": [
        {
          "output_type": "display_data",
          "data": {
            "text/plain": [
              "                  On target  Non-target  Total\n",
              "Reads                   872        6955   7827\n",
              "Bases / k              4884       64153  69037\n",
              "Mean Read Length       5563        9345  14908"
            ],
            "text/html": [
              "<div>\n",
              "<style scoped>\n",
              "    .dataframe tbody tr th:only-of-type {\n",
              "        vertical-align: middle;\n",
              "    }\n",
              "\n",
              "    .dataframe tbody tr th {\n",
              "        vertical-align: top;\n",
              "    }\n",
              "\n",
              "    .dataframe thead th {\n",
              "        text-align: right;\n",
              "    }\n",
              "</style>\n",
              "<table border=\"1\" class=\"dataframe\">\n",
              "  <thead>\n",
              "    <tr style=\"text-align: right;\">\n",
              "      <th></th>\n",
              "      <th>On target</th>\n",
              "      <th>Non-target</th>\n",
              "      <th>Total</th>\n",
              "    </tr>\n",
              "  </thead>\n",
              "  <tbody>\n",
              "    <tr>\n",
              "      <th>Reads</th>\n",
              "      <td>872</td>\n",
              "      <td>6955</td>\n",
              "      <td>7827</td>\n",
              "    </tr>\n",
              "    <tr>\n",
              "      <th>Bases / k</th>\n",
              "      <td>4884</td>\n",
              "      <td>64153</td>\n",
              "      <td>69037</td>\n",
              "    </tr>\n",
              "    <tr>\n",
              "      <th>Mean Read Length</th>\n",
              "      <td>5563</td>\n",
              "      <td>9345</td>\n",
              "      <td>14908</td>\n",
              "    </tr>\n",
              "  </tbody>\n",
              "</table>\n",
              "</div>"
            ]
          },
          "metadata": {
            "tags": []
          }
        }
      ]
    },
    {
      "cell_type": "markdown",
      "metadata": {
        "id": "0QljJLeqmDkh",
        "colab_type": "text"
      },
      "source": [
        "### Genome tiles\n",
        "\n",
        "In order to quickly calculate more detailed statistics (and create informative plots), we will use a tiling technique. We will split the reference genome into uniformly sized tiles; for each reference tile we can calculate the overlapping reads. For the reference we construct the tiles using the `pysam` library to read the `reference_genome` file:"
      ]
    },
    {
      "cell_type": "code",
      "metadata": {
        "id": "0MhFrueipRmp",
        "colab_type": "code",
        "colab": {}
      },
      "source": [
        "import pysam\n",
        "tile_size = 100\n",
        "\n",
        "ref = pysam.FastaFile(reference_genome)\n",
        "ref_tiles = pr.PyRanges(\n",
        "    chromosomes=ref.references,\n",
        "    starts=[0] * ref.nreferences,\n",
        "    ends=ref.lengths\n",
        ").tile(tile_size=tile_size)"
      ],
      "execution_count": 0,
      "outputs": []
    },
    {
      "cell_type": "markdown",
      "metadata": {
        "id": "KNcXp8sm2h1N",
        "colab_type": "text"
      },
      "source": [
        "We will also define a small helper function to annotate genomic regions with additional information:"
      ]
    },
    {
      "cell_type": "code",
      "metadata": {
        "id": "BsMTwAGdrBvg",
        "colab_type": "code",
        "cellView": "form",
        "colab": {}
      },
      "source": [
        "#@markdown **set_column** function for annotating regions\n",
        "def set_column(pyr, chrom, loc, column, value):\n",
        "    \"\"\"Sets a column of a `PyRange` to a specified value.\n",
        "    \n",
        "    :param pyr: a `PyRange`.\n",
        "    :param chrom: a chromosome.\n",
        "    :param loc: a `Slice` (start, stop).\n",
        "    :param column: column name.\n",
        "    :param value: value to set the column.\n",
        "    \"\"\"\n",
        "    from pyranges.subset import find_overlaps\n",
        "    if pyr.stranded:\n",
        "        raise NotImplementedError(\"`set_column` does not handled strandedness\")\n",
        "\n",
        "    dfs = {chrom: pyr.dfs[chrom]}\n",
        "    max_end = list(dfs.values())[0].End.max()\n",
        "    \n",
        "    start = loc.start or 0\n",
        "    stop = loc.stop or max(max_end, start)\n",
        "    for k, df in dfs.items():\n",
        "        idx = find_overlaps(df, start, stop)\n",
        "        df.loc[idx, column] = value"
      ],
      "execution_count": 0,
      "outputs": []
    },
    {
      "cell_type": "markdown",
      "metadata": {
        "id": "nncz93li4DLF",
        "colab_type": "text"
      },
      "source": [
        "To proceed we will first use the function defined above to annotate our genome tiles and our reads with their target:"
      ]
    },
    {
      "cell_type": "code",
      "metadata": {
        "id": "UYxGdiwJ4GUp",
        "colab_type": "code",
        "colab": {
          "base_uri": "https://localhost:8080/",
          "height": 187
        },
        "outputId": "d2b303c9-5fcd-47fb-8461-b7e77053aa3c"
      },
      "source": [
        "# Label reference genome tiles, and the reads\n",
        "ref_tiles.tname = 'Non-Target'\n",
        "reads.tname = 'Non-Target'\n",
        "for chrom, df in targets:\n",
        "    for _, t in df.iterrows():\n",
        "        print(\"Labelling {}\".format(t.tname))\n",
        "        set_column(\n",
        "            ref_tiles, t.Chromosome, slice(t.Start, t.End),\n",
        "            'tname', t.tname)\n",
        "        set_column(\n",
        "            reads, t.Chromosome, slice(t.Start, t.End),\n",
        "            'tname', t.tname)\n",
        "# count overlaps of read tiles to ref_tiles (similar to before)\n",
        "hits = ref_tiles.count_overlaps(reads)"
      ],
      "execution_count": 63,
      "outputs": [
        {
          "output_type": "stream",
          "text": [
            "Labelling MUC1\n",
            "Labelling HTT\n",
            "Labelling SCA17\n",
            "Labelling C9orf72\n",
            "Labelling INS\n",
            "Labelling SCA2\n",
            "Labelling SCA3\n",
            "Labelling SCA6\n",
            "Labelling SCA10\n",
            "Labelling FMR1\n"
          ],
          "name": "stdout"
        }
      ]
    },
    {
      "cell_type": "markdown",
      "metadata": {
        "id": "Lo_0bEA07lcy",
        "colab_type": "text"
      },
      "source": [
        "Having prepared these tables we can now query them in various ways. Let's summarise the information we have for each target:"
      ]
    },
    {
      "cell_type": "code",
      "metadata": {
        "id": "w0FxCkA375KA",
        "colab_type": "code",
        "colab": {
          "base_uri": "https://localhost:8080/",
          "height": 359
        },
        "outputId": "bcf12d27-f9a9-46dc-a545-563eef7315ea"
      },
      "source": [
        "def target_info(target_name, targets, hits, reads):\n",
        "    info = targets[targets.tname == target].df\n",
        "    # Find intersecting hits\n",
        "    t_hits = hits.intersect(pr.PyRanges(info)).df\n",
        "    t_reads = reads.df[reads.df['tname'] == target]\n",
        "\n",
        "    info['tsize'] = info.End - info.Start\n",
        "    info['nreads'] = t_reads['name'].unique().size\n",
        "    # use the tiles to calculate bases on target as parts of reads\n",
        "    # may not overlap\n",
        "    info['kbases'] = tile_size * t_hits['NumberOverlaps'].sum() / 1000\n",
        "    info['mean_coverage'] = t_hits['NumberOverlaps'].mean()\n",
        "    info['mean_read_length'] = int(t_reads['read_length'].mean())\n",
        "    info['mean_accuracy'] = t_reads['acc'].mean()\n",
        "    \n",
        "    fwd, rev = (len(t_reads[t_reads['direction'] == x]) for x in ('+', '-'))\n",
        "    info['strand_bias'] = (fwd - rev) / (fwd + rev)\n",
        "    return info\n",
        "\n",
        "results = list()\n",
        "for target in target_names:\n",
        "    results.append(target_info(\n",
        "        target, targets, hits, reads\n",
        "    ))\n",
        "results = pd.concat(results).rename(columns={\n",
        "    'Chromosome':'chrom', 'Start':'start', 'End':'end'})\n",
        "pd.options.display.float_format = '{:,.2f}'.format\n",
        "display(results)"
      ],
      "execution_count": 138,
      "outputs": [
        {
          "output_type": "display_data",
          "data": {
            "text/plain": [
              "   chrom      start        end    tname   tsize  nreads   kbases  \\\n",
              "0   chr1  155130000  155250000     MUC1  120000      28   303.00   \n",
              "1   chr4    3024876    3124934      HTT  100058      87   412.00   \n",
              "2   chr6  170511908  170612015    SCA17  100107      76   495.10   \n",
              "3   chr9   27523486   27623547  C9orf72  100061      39    90.00   \n",
              "4  chr11    2111515    2212203      INS  100688      55   285.60   \n",
              "5  chr12  111548951  111649019     SCA2  100068     233   658.20   \n",
              "6  chr14   92021011   92121034     SCA3  100023      95   515.60   \n",
              "7  chr19   13157859   13257897     SCA6  100038      63   431.70   \n",
              "8  chr22   45745355   45845424    SCA10  100069     125   644.90   \n",
              "9   chrX  147862050  147962110     FMR1  100060      71 1,012.50   \n",
              "\n",
              "   mean_coverage  mean_read_length  mean_accuracy  strand_bias  \n",
              "0           2.52             10618          87.95        -0.14  \n",
              "1           4.11              4619          92.09        -0.08  \n",
              "2           4.94              6415          92.89         0.08  \n",
              "3           0.90              2201          91.63        -0.38  \n",
              "4           2.83              5142          89.65         0.27  \n",
              "5           6.57              2703          92.40         0.06  \n",
              "6           5.15              5290          93.27        -0.07  \n",
              "7           4.31              6606          90.34        -0.37  \n",
              "8           6.44              5042          93.38        -0.07  \n",
              "9          10.10             15734          92.82         0.10  "
            ],
            "text/html": [
              "<div>\n",
              "<style scoped>\n",
              "    .dataframe tbody tr th:only-of-type {\n",
              "        vertical-align: middle;\n",
              "    }\n",
              "\n",
              "    .dataframe tbody tr th {\n",
              "        vertical-align: top;\n",
              "    }\n",
              "\n",
              "    .dataframe thead th {\n",
              "        text-align: right;\n",
              "    }\n",
              "</style>\n",
              "<table border=\"1\" class=\"dataframe\">\n",
              "  <thead>\n",
              "    <tr style=\"text-align: right;\">\n",
              "      <th></th>\n",
              "      <th>chrom</th>\n",
              "      <th>start</th>\n",
              "      <th>end</th>\n",
              "      <th>tname</th>\n",
              "      <th>tsize</th>\n",
              "      <th>nreads</th>\n",
              "      <th>kbases</th>\n",
              "      <th>mean_coverage</th>\n",
              "      <th>mean_read_length</th>\n",
              "      <th>mean_accuracy</th>\n",
              "      <th>strand_bias</th>\n",
              "    </tr>\n",
              "  </thead>\n",
              "  <tbody>\n",
              "    <tr>\n",
              "      <th>0</th>\n",
              "      <td>chr1</td>\n",
              "      <td>155130000</td>\n",
              "      <td>155250000</td>\n",
              "      <td>MUC1</td>\n",
              "      <td>120000</td>\n",
              "      <td>28</td>\n",
              "      <td>303.00</td>\n",
              "      <td>2.52</td>\n",
              "      <td>10618</td>\n",
              "      <td>87.95</td>\n",
              "      <td>-0.14</td>\n",
              "    </tr>\n",
              "    <tr>\n",
              "      <th>1</th>\n",
              "      <td>chr4</td>\n",
              "      <td>3024876</td>\n",
              "      <td>3124934</td>\n",
              "      <td>HTT</td>\n",
              "      <td>100058</td>\n",
              "      <td>87</td>\n",
              "      <td>412.00</td>\n",
              "      <td>4.11</td>\n",
              "      <td>4619</td>\n",
              "      <td>92.09</td>\n",
              "      <td>-0.08</td>\n",
              "    </tr>\n",
              "    <tr>\n",
              "      <th>2</th>\n",
              "      <td>chr6</td>\n",
              "      <td>170511908</td>\n",
              "      <td>170612015</td>\n",
              "      <td>SCA17</td>\n",
              "      <td>100107</td>\n",
              "      <td>76</td>\n",
              "      <td>495.10</td>\n",
              "      <td>4.94</td>\n",
              "      <td>6415</td>\n",
              "      <td>92.89</td>\n",
              "      <td>0.08</td>\n",
              "    </tr>\n",
              "    <tr>\n",
              "      <th>3</th>\n",
              "      <td>chr9</td>\n",
              "      <td>27523486</td>\n",
              "      <td>27623547</td>\n",
              "      <td>C9orf72</td>\n",
              "      <td>100061</td>\n",
              "      <td>39</td>\n",
              "      <td>90.00</td>\n",
              "      <td>0.90</td>\n",
              "      <td>2201</td>\n",
              "      <td>91.63</td>\n",
              "      <td>-0.38</td>\n",
              "    </tr>\n",
              "    <tr>\n",
              "      <th>4</th>\n",
              "      <td>chr11</td>\n",
              "      <td>2111515</td>\n",
              "      <td>2212203</td>\n",
              "      <td>INS</td>\n",
              "      <td>100688</td>\n",
              "      <td>55</td>\n",
              "      <td>285.60</td>\n",
              "      <td>2.83</td>\n",
              "      <td>5142</td>\n",
              "      <td>89.65</td>\n",
              "      <td>0.27</td>\n",
              "    </tr>\n",
              "    <tr>\n",
              "      <th>5</th>\n",
              "      <td>chr12</td>\n",
              "      <td>111548951</td>\n",
              "      <td>111649019</td>\n",
              "      <td>SCA2</td>\n",
              "      <td>100068</td>\n",
              "      <td>233</td>\n",
              "      <td>658.20</td>\n",
              "      <td>6.57</td>\n",
              "      <td>2703</td>\n",
              "      <td>92.40</td>\n",
              "      <td>0.06</td>\n",
              "    </tr>\n",
              "    <tr>\n",
              "      <th>6</th>\n",
              "      <td>chr14</td>\n",
              "      <td>92021011</td>\n",
              "      <td>92121034</td>\n",
              "      <td>SCA3</td>\n",
              "      <td>100023</td>\n",
              "      <td>95</td>\n",
              "      <td>515.60</td>\n",
              "      <td>5.15</td>\n",
              "      <td>5290</td>\n",
              "      <td>93.27</td>\n",
              "      <td>-0.07</td>\n",
              "    </tr>\n",
              "    <tr>\n",
              "      <th>7</th>\n",
              "      <td>chr19</td>\n",
              "      <td>13157859</td>\n",
              "      <td>13257897</td>\n",
              "      <td>SCA6</td>\n",
              "      <td>100038</td>\n",
              "      <td>63</td>\n",
              "      <td>431.70</td>\n",
              "      <td>4.31</td>\n",
              "      <td>6606</td>\n",
              "      <td>90.34</td>\n",
              "      <td>-0.37</td>\n",
              "    </tr>\n",
              "    <tr>\n",
              "      <th>8</th>\n",
              "      <td>chr22</td>\n",
              "      <td>45745355</td>\n",
              "      <td>45845424</td>\n",
              "      <td>SCA10</td>\n",
              "      <td>100069</td>\n",
              "      <td>125</td>\n",
              "      <td>644.90</td>\n",
              "      <td>6.44</td>\n",
              "      <td>5042</td>\n",
              "      <td>93.38</td>\n",
              "      <td>-0.07</td>\n",
              "    </tr>\n",
              "    <tr>\n",
              "      <th>9</th>\n",
              "      <td>chrX</td>\n",
              "      <td>147862050</td>\n",
              "      <td>147962110</td>\n",
              "      <td>FMR1</td>\n",
              "      <td>100060</td>\n",
              "      <td>71</td>\n",
              "      <td>1,012.50</td>\n",
              "      <td>10.10</td>\n",
              "      <td>15734</td>\n",
              "      <td>92.82</td>\n",
              "      <td>0.10</td>\n",
              "    </tr>\n",
              "  </tbody>\n",
              "</table>\n",
              "</div>"
            ]
          },
          "metadata": {
            "tags": []
          }
        }
      ]
    },
    {
      "cell_type": "markdown",
      "metadata": {
        "id": "G8eimQLGM1k7",
        "colab_type": "text"
      },
      "source": [
        "Using the tiling statistics we can make coverage plots for any region. "
      ]
    },
    {
      "cell_type": "code",
      "metadata": {
        "id": "pPJurv3L3X2V",
        "colab_type": "code",
        "cellView": "form",
        "colab": {
          "base_uri": "https://localhost:8080/",
          "height": 403,
          "referenced_widgets": [
            "3750f7f3f9a64bc481f5cb421673167d",
            "1a22bd0863b44f86bdae7fb13e0557f4",
            "521a650867404048a99d18a4446f6f3f",
            "e9bee27b63844d05961470c4ce4dd0ec",
            "4cd7e53e477049f3a8dbd7561778acd3",
            "ea4b31ea07c14b7c90ff41770d95b797"
          ]
        },
        "outputId": "7856dddc-e807-410f-f09f-7a7079ed8012"
      },
      "source": [
        "#@markdown **Coverage plot code** (*click to show*)\n",
        "import ipywidgets as widgets\n",
        "import matplotlib.pyplot as plt\n",
        "from matplotlib.ticker import MaxNLocator\n",
        "\n",
        "def plot_target(target=target_names[0]):\n",
        "    info = targets[targets.tname == target].df\n",
        "    display(info)\n",
        "    t = hits.intersect(pr.PyRanges(info)).df\n",
        "    fig, ax = plt.subplots()\n",
        "    ax.ticklabel_format(style='plain')\n",
        "    ax.yaxis.set_major_locator(MaxNLocator(integer=True))\n",
        "    ax.plot(t.Start, t.NumberOverlaps)\n",
        "    plt.xticks(rotation=30)\n",
        "    plt.xlabel('position')\n",
        "    plt.ylabel('coverage')\n",
        "    plt.show()\n",
        "\n",
        "default_target = target_names[0]\n",
        "widgets.interactive(\n",
        "    plot_target, target=target_names)\n"
      ],
      "execution_count": 14,
      "outputs": [
        {
          "output_type": "display_data",
          "data": {
            "text/plain": [
              "interactive(children=(Dropdown(description='target', options=('MUC1', 'HTT', 'SCA17', 'C9orf72', 'INS', 'SCA2'…"
            ],
            "application/vnd.jupyter.widget-view+json": {
              "version_major": 2,
              "version_minor": 0,
              "model_id": "3750f7f3f9a64bc481f5cb421673167d"
            }
          },
          "metadata": {
            "tags": []
          }
        }
      ]
    },
    {
      "cell_type": "markdown",
      "metadata": {
        "id": "dnpp_T6dZsX_",
        "colab_type": "text"
      },
      "source": [
        "## Examining Non-Target Sequencing\n",
        "\n",
        "An important consideration for the Cas9 enrichment protocol is the throughput of sequencing not overlapping the target regions. These effects can be broken down further into two types:\n",
        "\n",
        "1.   **Off-target** --- enrichment of loci other than those intended, identified as high coverage regions which are not target regions.\n",
        "2.   **Background** --- non-specific sequencing, identified as low coverage sequencing throughout the genome.\n",
        "\n",
        "We will examine both of these effects in this section. In order to do this we will first identify the background level of sequencing. After this we can find regions which are not target regions but which have an abnormally high level of spanning reads.\n",
        "\n",
        "### Calculating the background\n",
        "\n",
        "To calculate the background sequencing effect, we can use the overlaps of reads to the genome tiles calculated previously and subtract the target regions:"
      ]
    },
    {
      "cell_type": "code",
      "metadata": {
        "id": "blsXj7aJLrj6",
        "colab_type": "code",
        "colab": {}
      },
      "source": [
        "non_hits = hits.subtract(targets)\n",
        "non_target = non_hits.df[non_hits.df['NumberOverlaps'] > 0]\n",
        "good_hits = hits.overlap(targets).df\n",
        "good_hits.tname = 'On Target'"
      ],
      "execution_count": 0,
      "outputs": []
    },
    {
      "cell_type": "code",
      "metadata": {
        "id": "6JTGrv7kN-vO",
        "colab_type": "code",
        "colab": {
          "base_uri": "https://localhost:8080/",
          "height": 317
        },
        "outputId": "dc1bf1c3-4ee4-4449-bdfe-dec8ab1b3bfb"
      },
      "source": [
        "# create a histogram of non-target coverage\n",
        "counts = non_target['NumberOverlaps'].value_counts()\n",
        "values = counts.index\n",
        "counts = counts\n",
        "# for reference, calculate the mean coverage for all target regions\n",
        "mean_target_coverage = results['mean_coverage'].mean()\n",
        "\n",
        "# create a figure\n",
        "p = figure(\n",
        "    title='Non-target Coverage',\n",
        "    output_backend=\"webgl\",\n",
        "    height=300, width=600)\n",
        "max_y = max(counts[counts.index != 1])\n",
        "\n",
        "# plot the bars\n",
        "p.quad(top=np.log10(counts), bottom=0, left=values-0.5, right=values+0.5,\n",
        "    fill_color='blue', line_color=None, alpha=0.6)\n",
        "p.line(\n",
        "    x=[mean_target_coverage] * 2, y=[0, np.log10(max_y)],\n",
        "    line_width=1.5, color='black')\n",
        "p.text(\n",
        "    x=[mean_target_coverage], y=[0.8*np.log10(max_y)],\n",
        "    text=['{}: {:.0f}'.format('Mean on-target', mean_target_coverage)])\n",
        "\n",
        "# limit the display range\n",
        "p.x_range = Range1d(start=0, end=values[-1]+1, bounds=(0, None))\n",
        "p.y_range = Range1d(start=0, end=np.log10(max_y), bounds=(0, None))\n",
        "# add axis labels\n",
        "p.xaxis.axis_label = 'Background Coverage'\n",
        "p.yaxis.axis_label = 'log10(# tiles)'\n",
        "# show the plot\n",
        "bkio.output_notebook(hide_banner=True)\n",
        "bkio.show(p)"
      ],
      "execution_count": 62,
      "outputs": [
        {
          "output_type": "display_data",
          "data": {
            "application/javascript": [
              "\n",
              "(function(root) {\n",
              "  function now() {\n",
              "    return new Date();\n",
              "  }\n",
              "\n",
              "  var force = true;\n",
              "\n",
              "  if (typeof root._bokeh_onload_callbacks === \"undefined\" || force === true) {\n",
              "    root._bokeh_onload_callbacks = [];\n",
              "    root._bokeh_is_loading = undefined;\n",
              "  }\n",
              "\n",
              "  var JS_MIME_TYPE = 'application/javascript';\n",
              "  var HTML_MIME_TYPE = 'text/html';\n",
              "  var EXEC_MIME_TYPE = 'application/vnd.bokehjs_exec.v0+json';\n",
              "  var CLASS_NAME = 'output_bokeh rendered_html';\n",
              "\n",
              "  /**\n",
              "   * Render data to the DOM node\n",
              "   */\n",
              "  function render(props, node) {\n",
              "    var script = document.createElement(\"script\");\n",
              "    node.appendChild(script);\n",
              "  }\n",
              "\n",
              "  /**\n",
              "   * Handle when an output is cleared or removed\n",
              "   */\n",
              "  function handleClearOutput(event, handle) {\n",
              "    var cell = handle.cell;\n",
              "\n",
              "    var id = cell.output_area._bokeh_element_id;\n",
              "    var server_id = cell.output_area._bokeh_server_id;\n",
              "    // Clean up Bokeh references\n",
              "    if (id != null && id in Bokeh.index) {\n",
              "      Bokeh.index[id].model.document.clear();\n",
              "      delete Bokeh.index[id];\n",
              "    }\n",
              "\n",
              "    if (server_id !== undefined) {\n",
              "      // Clean up Bokeh references\n",
              "      var cmd = \"from bokeh.io.state import curstate; print(curstate().uuid_to_server['\" + server_id + \"'].get_sessions()[0].document.roots[0]._id)\";\n",
              "      cell.notebook.kernel.execute(cmd, {\n",
              "        iopub: {\n",
              "          output: function(msg) {\n",
              "            var id = msg.content.text.trim();\n",
              "            if (id in Bokeh.index) {\n",
              "              Bokeh.index[id].model.document.clear();\n",
              "              delete Bokeh.index[id];\n",
              "            }\n",
              "          }\n",
              "        }\n",
              "      });\n",
              "      // Destroy server and session\n",
              "      var cmd = \"import bokeh.io.notebook as ion; ion.destroy_server('\" + server_id + \"')\";\n",
              "      cell.notebook.kernel.execute(cmd);\n",
              "    }\n",
              "  }\n",
              "\n",
              "  /**\n",
              "   * Handle when a new output is added\n",
              "   */\n",
              "  function handleAddOutput(event, handle) {\n",
              "    var output_area = handle.output_area;\n",
              "    var output = handle.output;\n",
              "\n",
              "    // limit handleAddOutput to display_data with EXEC_MIME_TYPE content only\n",
              "    if ((output.output_type != \"display_data\") || (!output.data.hasOwnProperty(EXEC_MIME_TYPE))) {\n",
              "      return\n",
              "    }\n",
              "\n",
              "    var toinsert = output_area.element.find(\".\" + CLASS_NAME.split(' ')[0]);\n",
              "\n",
              "    if (output.metadata[EXEC_MIME_TYPE][\"id\"] !== undefined) {\n",
              "      toinsert[toinsert.length - 1].firstChild.textContent = output.data[JS_MIME_TYPE];\n",
              "      // store reference to embed id on output_area\n",
              "      output_area._bokeh_element_id = output.metadata[EXEC_MIME_TYPE][\"id\"];\n",
              "    }\n",
              "    if (output.metadata[EXEC_MIME_TYPE][\"server_id\"] !== undefined) {\n",
              "      var bk_div = document.createElement(\"div\");\n",
              "      bk_div.innerHTML = output.data[HTML_MIME_TYPE];\n",
              "      var script_attrs = bk_div.children[0].attributes;\n",
              "      for (var i = 0; i < script_attrs.length; i++) {\n",
              "        toinsert[toinsert.length - 1].firstChild.setAttribute(script_attrs[i].name, script_attrs[i].value);\n",
              "      }\n",
              "      // store reference to server id on output_area\n",
              "      output_area._bokeh_server_id = output.metadata[EXEC_MIME_TYPE][\"server_id\"];\n",
              "    }\n",
              "  }\n",
              "\n",
              "  function register_renderer(events, OutputArea) {\n",
              "\n",
              "    function append_mime(data, metadata, element) {\n",
              "      // create a DOM node to render to\n",
              "      var toinsert = this.create_output_subarea(\n",
              "        metadata,\n",
              "        CLASS_NAME,\n",
              "        EXEC_MIME_TYPE\n",
              "      );\n",
              "      this.keyboard_manager.register_events(toinsert);\n",
              "      // Render to node\n",
              "      var props = {data: data, metadata: metadata[EXEC_MIME_TYPE]};\n",
              "      render(props, toinsert[toinsert.length - 1]);\n",
              "      element.append(toinsert);\n",
              "      return toinsert\n",
              "    }\n",
              "\n",
              "    /* Handle when an output is cleared or removed */\n",
              "    events.on('clear_output.CodeCell', handleClearOutput);\n",
              "    events.on('delete.Cell', handleClearOutput);\n",
              "\n",
              "    /* Handle when a new output is added */\n",
              "    events.on('output_added.OutputArea', handleAddOutput);\n",
              "\n",
              "    /**\n",
              "     * Register the mime type and append_mime function with output_area\n",
              "     */\n",
              "    OutputArea.prototype.register_mime_type(EXEC_MIME_TYPE, append_mime, {\n",
              "      /* Is output safe? */\n",
              "      safe: true,\n",
              "      /* Index of renderer in `output_area.display_order` */\n",
              "      index: 0\n",
              "    });\n",
              "  }\n",
              "\n",
              "  // register the mime type if in Jupyter Notebook environment and previously unregistered\n",
              "  if (root.Jupyter !== undefined) {\n",
              "    var events = require('base/js/events');\n",
              "    var OutputArea = require('notebook/js/outputarea').OutputArea;\n",
              "\n",
              "    if (OutputArea.prototype.mime_types().indexOf(EXEC_MIME_TYPE) == -1) {\n",
              "      register_renderer(events, OutputArea);\n",
              "    }\n",
              "  }\n",
              "\n",
              "  \n",
              "  if (typeof (root._bokeh_timeout) === \"undefined\" || force === true) {\n",
              "    root._bokeh_timeout = Date.now() + 5000;\n",
              "    root._bokeh_failed_load = false;\n",
              "  }\n",
              "\n",
              "  var NB_LOAD_WARNING = {'data': {'text/html':\n",
              "     \"<div style='background-color: #fdd'>\\n\"+\n",
              "     \"<p>\\n\"+\n",
              "     \"BokehJS does not appear to have successfully loaded. If loading BokehJS from CDN, this \\n\"+\n",
              "     \"may be due to a slow or bad network connection. Possible fixes:\\n\"+\n",
              "     \"</p>\\n\"+\n",
              "     \"<ul>\\n\"+\n",
              "     \"<li>re-rerun `output_notebook()` to attempt to load from CDN again, or</li>\\n\"+\n",
              "     \"<li>use INLINE resources instead, as so:</li>\\n\"+\n",
              "     \"</ul>\\n\"+\n",
              "     \"<code>\\n\"+\n",
              "     \"from bokeh.resources import INLINE\\n\"+\n",
              "     \"output_notebook(resources=INLINE)\\n\"+\n",
              "     \"</code>\\n\"+\n",
              "     \"</div>\"}};\n",
              "\n",
              "  function display_loaded() {\n",
              "    var el = document.getElementById(null);\n",
              "    if (el != null) {\n",
              "      el.textContent = \"BokehJS is loading...\";\n",
              "    }\n",
              "    if (root.Bokeh !== undefined) {\n",
              "      if (el != null) {\n",
              "        el.textContent = \"BokehJS \" + root.Bokeh.version + \" successfully loaded.\";\n",
              "      }\n",
              "    } else if (Date.now() < root._bokeh_timeout) {\n",
              "      setTimeout(display_loaded, 100)\n",
              "    }\n",
              "  }\n",
              "\n",
              "\n",
              "  function run_callbacks() {\n",
              "    try {\n",
              "      root._bokeh_onload_callbacks.forEach(function(callback) {\n",
              "        if (callback != null)\n",
              "          callback();\n",
              "      });\n",
              "    } finally {\n",
              "      delete root._bokeh_onload_callbacks\n",
              "    }\n",
              "    console.debug(\"Bokeh: all callbacks have finished\");\n",
              "  }\n",
              "\n",
              "  function load_libs(css_urls, js_urls, callback) {\n",
              "    if (css_urls == null) css_urls = [];\n",
              "    if (js_urls == null) js_urls = [];\n",
              "\n",
              "    root._bokeh_onload_callbacks.push(callback);\n",
              "    if (root._bokeh_is_loading > 0) {\n",
              "      console.debug(\"Bokeh: BokehJS is being loaded, scheduling callback at\", now());\n",
              "      return null;\n",
              "    }\n",
              "    if (js_urls == null || js_urls.length === 0) {\n",
              "      run_callbacks();\n",
              "      return null;\n",
              "    }\n",
              "    console.debug(\"Bokeh: BokehJS not loaded, scheduling load and callback at\", now());\n",
              "    root._bokeh_is_loading = css_urls.length + js_urls.length;\n",
              "\n",
              "    function on_load() {\n",
              "      root._bokeh_is_loading--;\n",
              "      if (root._bokeh_is_loading === 0) {\n",
              "        console.debug(\"Bokeh: all BokehJS libraries/stylesheets loaded\");\n",
              "        run_callbacks()\n",
              "      }\n",
              "    }\n",
              "\n",
              "    function on_error() {\n",
              "      console.error(\"failed to load \" + url);\n",
              "    }\n",
              "\n",
              "    for (var i = 0; i < css_urls.length; i++) {\n",
              "      var url = css_urls[i];\n",
              "      const element = document.createElement(\"link\");\n",
              "      element.onload = on_load;\n",
              "      element.onerror = on_error;\n",
              "      element.rel = \"stylesheet\";\n",
              "      element.type = \"text/css\";\n",
              "      element.href = url;\n",
              "      console.debug(\"Bokeh: injecting link tag for BokehJS stylesheet: \", url);\n",
              "      document.body.appendChild(element);\n",
              "    }\n",
              "\n",
              "    for (var i = 0; i < js_urls.length; i++) {\n",
              "      var url = js_urls[i];\n",
              "      var element = document.createElement('script');\n",
              "      element.onload = on_load;\n",
              "      element.onerror = on_error;\n",
              "      element.async = false;\n",
              "      element.src = url;\n",
              "      console.debug(\"Bokeh: injecting script tag for BokehJS library: \", url);\n",
              "      document.head.appendChild(element);\n",
              "    }\n",
              "  };\n",
              "\n",
              "  function inject_raw_css(css) {\n",
              "    const element = document.createElement(\"style\");\n",
              "    element.appendChild(document.createTextNode(css));\n",
              "    document.body.appendChild(element);\n",
              "  }\n",
              "\n",
              "  \n",
              "  var js_urls = [\"https://cdn.pydata.org/bokeh/release/bokeh-1.4.0.min.js\", \"https://cdn.pydata.org/bokeh/release/bokeh-widgets-1.4.0.min.js\", \"https://cdn.pydata.org/bokeh/release/bokeh-tables-1.4.0.min.js\", \"https://cdn.pydata.org/bokeh/release/bokeh-gl-1.4.0.min.js\"];\n",
              "  var css_urls = [];\n",
              "  \n",
              "\n",
              "  var inline_js = [\n",
              "    function(Bokeh) {\n",
              "      Bokeh.set_log_level(\"info\");\n",
              "    },\n",
              "    function(Bokeh) {\n",
              "    \n",
              "    \n",
              "    }\n",
              "  ];\n",
              "\n",
              "  function run_inline_js() {\n",
              "    \n",
              "    if (root.Bokeh !== undefined || force === true) {\n",
              "      \n",
              "    for (var i = 0; i < inline_js.length; i++) {\n",
              "      inline_js[i].call(root, root.Bokeh);\n",
              "    }\n",
              "    } else if (Date.now() < root._bokeh_timeout) {\n",
              "      setTimeout(run_inline_js, 100);\n",
              "    } else if (!root._bokeh_failed_load) {\n",
              "      console.log(\"Bokeh: BokehJS failed to load within specified timeout.\");\n",
              "      root._bokeh_failed_load = true;\n",
              "    } else if (force !== true) {\n",
              "      var cell = $(document.getElementById(null)).parents('.cell').data().cell;\n",
              "      cell.output_area.append_execute_result(NB_LOAD_WARNING)\n",
              "    }\n",
              "\n",
              "  }\n",
              "\n",
              "  if (root._bokeh_is_loading === 0) {\n",
              "    console.debug(\"Bokeh: BokehJS loaded, going straight to plotting\");\n",
              "    run_inline_js();\n",
              "  } else {\n",
              "    load_libs(css_urls, js_urls, function() {\n",
              "      console.debug(\"Bokeh: BokehJS plotting callback run at\", now());\n",
              "      run_inline_js();\n",
              "    });\n",
              "  }\n",
              "}(window));"
            ],
            "application/vnd.bokehjs_load.v0+json": "\n(function(root) {\n  function now() {\n    return new Date();\n  }\n\n  var force = true;\n\n  if (typeof root._bokeh_onload_callbacks === \"undefined\" || force === true) {\n    root._bokeh_onload_callbacks = [];\n    root._bokeh_is_loading = undefined;\n  }\n\n  \n\n  \n  if (typeof (root._bokeh_timeout) === \"undefined\" || force === true) {\n    root._bokeh_timeout = Date.now() + 5000;\n    root._bokeh_failed_load = false;\n  }\n\n  var NB_LOAD_WARNING = {'data': {'text/html':\n     \"<div style='background-color: #fdd'>\\n\"+\n     \"<p>\\n\"+\n     \"BokehJS does not appear to have successfully loaded. If loading BokehJS from CDN, this \\n\"+\n     \"may be due to a slow or bad network connection. Possible fixes:\\n\"+\n     \"</p>\\n\"+\n     \"<ul>\\n\"+\n     \"<li>re-rerun `output_notebook()` to attempt to load from CDN again, or</li>\\n\"+\n     \"<li>use INLINE resources instead, as so:</li>\\n\"+\n     \"</ul>\\n\"+\n     \"<code>\\n\"+\n     \"from bokeh.resources import INLINE\\n\"+\n     \"output_notebook(resources=INLINE)\\n\"+\n     \"</code>\\n\"+\n     \"</div>\"}};\n\n  function display_loaded() {\n    var el = document.getElementById(null);\n    if (el != null) {\n      el.textContent = \"BokehJS is loading...\";\n    }\n    if (root.Bokeh !== undefined) {\n      if (el != null) {\n        el.textContent = \"BokehJS \" + root.Bokeh.version + \" successfully loaded.\";\n      }\n    } else if (Date.now() < root._bokeh_timeout) {\n      setTimeout(display_loaded, 100)\n    }\n  }\n\n\n  function run_callbacks() {\n    try {\n      root._bokeh_onload_callbacks.forEach(function(callback) {\n        if (callback != null)\n          callback();\n      });\n    } finally {\n      delete root._bokeh_onload_callbacks\n    }\n    console.debug(\"Bokeh: all callbacks have finished\");\n  }\n\n  function load_libs(css_urls, js_urls, callback) {\n    if (css_urls == null) css_urls = [];\n    if (js_urls == null) js_urls = [];\n\n    root._bokeh_onload_callbacks.push(callback);\n    if (root._bokeh_is_loading > 0) {\n      console.debug(\"Bokeh: BokehJS is being loaded, scheduling callback at\", now());\n      return null;\n    }\n    if (js_urls == null || js_urls.length === 0) {\n      run_callbacks();\n      return null;\n    }\n    console.debug(\"Bokeh: BokehJS not loaded, scheduling load and callback at\", now());\n    root._bokeh_is_loading = css_urls.length + js_urls.length;\n\n    function on_load() {\n      root._bokeh_is_loading--;\n      if (root._bokeh_is_loading === 0) {\n        console.debug(\"Bokeh: all BokehJS libraries/stylesheets loaded\");\n        run_callbacks()\n      }\n    }\n\n    function on_error() {\n      console.error(\"failed to load \" + url);\n    }\n\n    for (var i = 0; i < css_urls.length; i++) {\n      var url = css_urls[i];\n      const element = document.createElement(\"link\");\n      element.onload = on_load;\n      element.onerror = on_error;\n      element.rel = \"stylesheet\";\n      element.type = \"text/css\";\n      element.href = url;\n      console.debug(\"Bokeh: injecting link tag for BokehJS stylesheet: \", url);\n      document.body.appendChild(element);\n    }\n\n    for (var i = 0; i < js_urls.length; i++) {\n      var url = js_urls[i];\n      var element = document.createElement('script');\n      element.onload = on_load;\n      element.onerror = on_error;\n      element.async = false;\n      element.src = url;\n      console.debug(\"Bokeh: injecting script tag for BokehJS library: \", url);\n      document.head.appendChild(element);\n    }\n  };\n\n  function inject_raw_css(css) {\n    const element = document.createElement(\"style\");\n    element.appendChild(document.createTextNode(css));\n    document.body.appendChild(element);\n  }\n\n  \n  var js_urls = [\"https://cdn.pydata.org/bokeh/release/bokeh-1.4.0.min.js\", \"https://cdn.pydata.org/bokeh/release/bokeh-widgets-1.4.0.min.js\", \"https://cdn.pydata.org/bokeh/release/bokeh-tables-1.4.0.min.js\", \"https://cdn.pydata.org/bokeh/release/bokeh-gl-1.4.0.min.js\"];\n  var css_urls = [];\n  \n\n  var inline_js = [\n    function(Bokeh) {\n      Bokeh.set_log_level(\"info\");\n    },\n    function(Bokeh) {\n    \n    \n    }\n  ];\n\n  function run_inline_js() {\n    \n    if (root.Bokeh !== undefined || force === true) {\n      \n    for (var i = 0; i < inline_js.length; i++) {\n      inline_js[i].call(root, root.Bokeh);\n    }\n    } else if (Date.now() < root._bokeh_timeout) {\n      setTimeout(run_inline_js, 100);\n    } else if (!root._bokeh_failed_load) {\n      console.log(\"Bokeh: BokehJS failed to load within specified timeout.\");\n      root._bokeh_failed_load = true;\n    } else if (force !== true) {\n      var cell = $(document.getElementById(null)).parents('.cell').data().cell;\n      cell.output_area.append_execute_result(NB_LOAD_WARNING)\n    }\n\n  }\n\n  if (root._bokeh_is_loading === 0) {\n    console.debug(\"Bokeh: BokehJS loaded, going straight to plotting\");\n    run_inline_js();\n  } else {\n    load_libs(css_urls, js_urls, function() {\n      console.debug(\"Bokeh: BokehJS plotting callback run at\", now());\n      run_inline_js();\n    });\n  }\n}(window));"
          },
          "metadata": {
            "tags": []
          }
        },
        {
          "output_type": "display_data",
          "data": {
            "text/html": [
              "\n",
              "\n",
              "\n",
              "\n",
              "\n",
              "\n",
              "  <div class=\"bk-root\" id=\"76efb4d4-1b58-45f9-a1ca-72dccae859cb\" data-root-id=\"10743\"></div>\n"
            ]
          },
          "metadata": {
            "tags": []
          }
        },
        {
          "output_type": "display_data",
          "data": {
            "application/javascript": [
              "(function(root) {\n",
              "  function embed_document(root) {\n",
              "    \n",
              "  var docs_json = {\"bbf75ee7-f733-4227-a3b8-dafe9a295cae\":{\"roots\":{\"references\":[{\"attributes\":{\"below\":[{\"id\":\"10754\",\"type\":\"LinearAxis\"}],\"center\":[{\"id\":\"10758\",\"type\":\"Grid\"},{\"id\":\"10763\",\"type\":\"Grid\"}],\"left\":[{\"id\":\"10759\",\"type\":\"LinearAxis\"}],\"output_backend\":\"webgl\",\"plot_height\":300,\"renderers\":[{\"id\":\"10780\",\"type\":\"GlyphRenderer\"},{\"id\":\"10785\",\"type\":\"GlyphRenderer\"},{\"id\":\"10790\",\"type\":\"GlyphRenderer\"}],\"title\":{\"id\":\"10744\",\"type\":\"Title\"},\"toolbar\":{\"id\":\"10770\",\"type\":\"Toolbar\"},\"x_range\":{\"id\":\"10792\",\"type\":\"Range1d\"},\"x_scale\":{\"id\":\"10750\",\"type\":\"LinearScale\"},\"y_range\":{\"id\":\"10793\",\"type\":\"Range1d\"},\"y_scale\":{\"id\":\"10752\",\"type\":\"LinearScale\"}},\"id\":\"10743\",\"subtype\":\"Figure\",\"type\":\"Plot\"},{\"attributes\":{\"callback\":null,\"data\":{\"x\":[4.788274804038276,4.788274804038276],\"y\":[0,4.256284678484161]},\"selected\":{\"id\":\"11152\",\"type\":\"Selection\"},\"selection_policy\":{\"id\":\"11153\",\"type\":\"UnionRenderers\"}},\"id\":\"10782\",\"type\":\"ColumnDataSource\"},{\"attributes\":{\"bounds\":[0,null],\"callback\":null,\"end\":4.256284678484161},\"id\":\"10793\",\"type\":\"Range1d\"},{\"attributes\":{\"bottom_units\":\"screen\",\"fill_alpha\":{\"value\":0.5},\"fill_color\":{\"value\":\"lightgrey\"},\"left_units\":\"screen\",\"level\":\"overlay\",\"line_alpha\":{\"value\":1.0},\"line_color\":{\"value\":\"black\"},\"line_dash\":[4,4],\"line_width\":{\"value\":2},\"render_mode\":\"css\",\"right_units\":\"screen\",\"top_units\":\"screen\"},\"id\":\"11149\",\"type\":\"BoxAnnotation\"},{\"attributes\":{\"line_alpha\":0.1,\"line_color\":\"#1f77b4\",\"line_width\":1.5,\"x\":{\"field\":\"x\"},\"y\":{\"field\":\"y\"}},\"id\":\"10784\",\"type\":\"Line\"},{\"attributes\":{\"bottom\":{\"value\":0},\"fill_alpha\":{\"value\":0.6},\"fill_color\":{\"value\":\"blue\"},\"left\":{\"field\":\"left\"},\"line_alpha\":{\"value\":0.6},\"line_color\":{\"value\":null},\"right\":{\"field\":\"right\"},\"top\":{\"field\":\"top\"}},\"id\":\"10778\",\"type\":\"Quad\"},{\"attributes\":{\"callback\":null,\"data\":{\"left\":{\"__ndarray__\":\"AAAAAAAA4D8AAAAAAAD4PwAAAAAAAARAAAAAAAAADEAAAAAAAAASQAAAAAAAABZAAAAAAAAAGkAAAAAAAAAeQAAAAAAAACFAAAAAAAAAI0AAAAAAAAAlQAAAAAAAAClAAAAAAAAAJ0AAAAAAAIA2QA==\",\"dtype\":\"float64\",\"shape\":[14]},\"right\":{\"__ndarray__\":\"AAAAAAAA+D8AAAAAAAAEQAAAAAAAAAxAAAAAAAAAEkAAAAAAAAAWQAAAAAAAABpAAAAAAAAAHkAAAAAAAAAhQAAAAAAAACNAAAAAAAAAJUAAAAAAAAAnQAAAAAAAACtAAAAAAAAAKUAAAAAAAIA3QA==\",\"dtype\":\"float64\",\"shape\":[14]},\"top\":{\"__ndarray__\":\"GQUbfCYOF0CtOKJ9bwYRQDMZQf30vwxAB9aREC3dCUBc5ysCkAkHQIOW6owKmwVA3rtptNdhBECaisKX/tkDQAC9T6gJogFAHlHkUBnK/D/+kAtiWBX2PwAXbBFF0fI/AAAAAAAA8D8AAAAAAAAAAA==\",\"dtype\":\"float64\",\"shape\":[14]}},\"selected\":{\"id\":\"11150\",\"type\":\"Selection\"},\"selection_policy\":{\"id\":\"11151\",\"type\":\"UnionRenderers\"}},\"id\":\"10777\",\"type\":\"ColumnDataSource\"},{\"attributes\":{},\"id\":\"11148\",\"type\":\"BasicTickFormatter\"},{\"attributes\":{},\"id\":\"10752\",\"type\":\"LinearScale\"},{\"attributes\":{},\"id\":\"11153\",\"type\":\"UnionRenderers\"},{\"attributes\":{},\"id\":\"10760\",\"type\":\"BasicTicker\"},{\"attributes\":{},\"id\":\"11154\",\"type\":\"Selection\"},{\"attributes\":{},\"id\":\"10769\",\"type\":\"HelpTool\"},{\"attributes\":{\"dimension\":1,\"ticker\":{\"id\":\"10760\",\"type\":\"BasicTicker\"}},\"id\":\"10763\",\"type\":\"Grid\"},{\"attributes\":{\"data_source\":{\"id\":\"10777\",\"type\":\"ColumnDataSource\"},\"glyph\":{\"id\":\"10778\",\"type\":\"Quad\"},\"hover_glyph\":null,\"muted_glyph\":null,\"nonselection_glyph\":{\"id\":\"10779\",\"type\":\"Quad\"},\"selection_glyph\":null,\"view\":{\"id\":\"10781\",\"type\":\"CDSView\"}},\"id\":\"10780\",\"type\":\"GlyphRenderer\"},{\"attributes\":{},\"id\":\"10768\",\"type\":\"ResetTool\"},{\"attributes\":{\"axis_label\":\"Background Coverage\",\"formatter\":{\"id\":\"11146\",\"type\":\"BasicTickFormatter\"},\"ticker\":{\"id\":\"10755\",\"type\":\"BasicTicker\"}},\"id\":\"10754\",\"type\":\"LinearAxis\"},{\"attributes\":{},\"id\":\"10755\",\"type\":\"BasicTicker\"},{\"attributes\":{\"source\":{\"id\":\"10777\",\"type\":\"ColumnDataSource\"}},\"id\":\"10781\",\"type\":\"CDSView\"},{\"attributes\":{\"text_color\":{\"value\":\"black\"},\"x\":{\"field\":\"x\"},\"y\":{\"field\":\"y\"}},\"id\":\"10788\",\"type\":\"Text\"},{\"attributes\":{\"overlay\":{\"id\":\"11149\",\"type\":\"BoxAnnotation\"}},\"id\":\"10766\",\"type\":\"BoxZoomTool\"},{\"attributes\":{\"source\":{\"id\":\"10787\",\"type\":\"ColumnDataSource\"}},\"id\":\"10791\",\"type\":\"CDSView\"},{\"attributes\":{\"bounds\":[0,null],\"callback\":null,\"end\":24},\"id\":\"10792\",\"type\":\"Range1d\"},{\"attributes\":{},\"id\":\"10764\",\"type\":\"PanTool\"},{\"attributes\":{\"bottom\":{\"value\":0},\"fill_alpha\":{\"value\":0.1},\"fill_color\":{\"value\":\"#1f77b4\"},\"left\":{\"field\":\"left\"},\"line_alpha\":{\"value\":0.1},\"line_color\":{\"value\":\"#1f77b4\"},\"right\":{\"field\":\"right\"},\"top\":{\"field\":\"top\"}},\"id\":\"10779\",\"type\":\"Quad\"},{\"attributes\":{},\"id\":\"11151\",\"type\":\"UnionRenderers\"},{\"attributes\":{\"text\":\"Non-target Coverage\"},\"id\":\"10744\",\"type\":\"Title\"},{\"attributes\":{\"data_source\":{\"id\":\"10787\",\"type\":\"ColumnDataSource\"},\"glyph\":{\"id\":\"10788\",\"type\":\"Text\"},\"hover_glyph\":null,\"muted_glyph\":null,\"nonselection_glyph\":{\"id\":\"10789\",\"type\":\"Text\"},\"selection_glyph\":null,\"view\":{\"id\":\"10791\",\"type\":\"CDSView\"}},\"id\":\"10790\",\"type\":\"GlyphRenderer\"},{\"attributes\":{\"line_width\":1.5,\"x\":{\"field\":\"x\"},\"y\":{\"field\":\"y\"}},\"id\":\"10783\",\"type\":\"Line\"},{\"attributes\":{\"data_source\":{\"id\":\"10782\",\"type\":\"ColumnDataSource\"},\"glyph\":{\"id\":\"10783\",\"type\":\"Line\"},\"hover_glyph\":null,\"muted_glyph\":null,\"nonselection_glyph\":{\"id\":\"10784\",\"type\":\"Line\"},\"selection_glyph\":null,\"view\":{\"id\":\"10786\",\"type\":\"CDSView\"}},\"id\":\"10785\",\"type\":\"GlyphRenderer\"},{\"attributes\":{\"text_alpha\":{\"value\":0.1},\"text_color\":{\"value\":\"black\"},\"x\":{\"field\":\"x\"},\"y\":{\"field\":\"y\"}},\"id\":\"10789\",\"type\":\"Text\"},{\"attributes\":{\"axis_label\":\"log10(# tiles)\",\"formatter\":{\"id\":\"11148\",\"type\":\"BasicTickFormatter\"},\"ticker\":{\"id\":\"10760\",\"type\":\"BasicTicker\"}},\"id\":\"10759\",\"type\":\"LinearAxis\"},{\"attributes\":{\"source\":{\"id\":\"10782\",\"type\":\"ColumnDataSource\"}},\"id\":\"10786\",\"type\":\"CDSView\"},{\"attributes\":{\"ticker\":{\"id\":\"10755\",\"type\":\"BasicTicker\"}},\"id\":\"10758\",\"type\":\"Grid\"},{\"attributes\":{},\"id\":\"11152\",\"type\":\"Selection\"},{\"attributes\":{},\"id\":\"11150\",\"type\":\"Selection\"},{\"attributes\":{\"callback\":null,\"data\":{\"text\":[\"Mean on-target: 5\"],\"x\":[4.788274804038276],\"y\":[3.405027742787329]},\"selected\":{\"id\":\"11154\",\"type\":\"Selection\"},\"selection_policy\":{\"id\":\"11155\",\"type\":\"UnionRenderers\"}},\"id\":\"10787\",\"type\":\"ColumnDataSource\"},{\"attributes\":{},\"id\":\"10750\",\"type\":\"LinearScale\"},{\"attributes\":{},\"id\":\"10765\",\"type\":\"WheelZoomTool\"},{\"attributes\":{},\"id\":\"11155\",\"type\":\"UnionRenderers\"},{\"attributes\":{},\"id\":\"10767\",\"type\":\"SaveTool\"},{\"attributes\":{\"active_drag\":\"auto\",\"active_inspect\":\"auto\",\"active_multi\":null,\"active_scroll\":\"auto\",\"active_tap\":\"auto\",\"tools\":[{\"id\":\"10764\",\"type\":\"PanTool\"},{\"id\":\"10765\",\"type\":\"WheelZoomTool\"},{\"id\":\"10766\",\"type\":\"BoxZoomTool\"},{\"id\":\"10767\",\"type\":\"SaveTool\"},{\"id\":\"10768\",\"type\":\"ResetTool\"},{\"id\":\"10769\",\"type\":\"HelpTool\"}]},\"id\":\"10770\",\"type\":\"Toolbar\"},{\"attributes\":{},\"id\":\"11146\",\"type\":\"BasicTickFormatter\"}],\"root_ids\":[\"10743\"]},\"title\":\"Bokeh Application\",\"version\":\"1.4.0\"}};\n",
              "  var render_items = [{\"docid\":\"bbf75ee7-f733-4227-a3b8-dafe9a295cae\",\"roots\":{\"10743\":\"76efb4d4-1b58-45f9-a1ca-72dccae859cb\"}}];\n",
              "  root.Bokeh.embed.embed_items_notebook(docs_json, render_items);\n",
              "\n",
              "  }\n",
              "  if (root.Bokeh !== undefined) {\n",
              "    embed_document(root);\n",
              "  } else {\n",
              "    var attempts = 0;\n",
              "    var timer = setInterval(function(root) {\n",
              "      if (root.Bokeh !== undefined) {\n",
              "        clearInterval(timer);\n",
              "        embed_document(root);\n",
              "      } else {\n",
              "        attempts++;\n",
              "        if (attempts > 100) {\n",
              "          clearInterval(timer);\n",
              "          console.log(\"Bokeh: ERROR: Unable to run BokehJS code because BokehJS library is missing\");\n",
              "        }\n",
              "      }\n",
              "    }, 10, root)\n",
              "  }\n",
              "})(window);"
            ],
            "application/vnd.bokehjs_exec.v0+json": ""
          },
          "metadata": {
            "tags": [],
            "application/vnd.bokehjs_exec.v0+json": {
              "id": "10743"
            }
          }
        }
      ]
    },
    {
      "cell_type": "markdown",
      "metadata": {
        "id": "V4Seq_YAWcm-",
        "colab_type": "text"
      },
      "source": [
        "Naturally determining the boundary between \"off-target\" and \"background\" using\n",
        "the coverage data is a heuristic, use the widget below to determine what this boundary should be:"
      ]
    },
    {
      "cell_type": "code",
      "metadata": {
        "id": "Es4M1ajBW18B",
        "colab_type": "code",
        "colab": {
          "base_uri": "https://localhost:8080/",
          "height": 174,
          "referenced_widgets": [
            "d6b2e69596c847a6af64c7428e8af211",
            "48f6741e9bc04297bf412981f198b698",
            "98df8d71a3f249d78d4debbae9d9f455",
            "6fd4bc2020534feebde1e7479bf24eee",
            "62d78da4fada46ceaca7da6a9cb678a0",
            "e519d53b81224007a6f58fc6f47d879e"
          ]
        },
        "cellView": "both",
        "outputId": "94ce0c64-0bb4-4f6f-c21d-8f273050f4d3"
      },
      "source": [
        "#@markdown Off-target/Background filtering\n",
        "\n",
        "def summary(df):\n",
        "    kbases = tile_size * df['NumberOverlaps'].sum() // 1000\n",
        "    mean_cover = df['NumberOverlaps'].mean()\n",
        "    return pd.Series((kbases, mean_cover), index=['kbases', 'mean_coverage'])\n",
        "\n",
        "w = widgets.IntSlider(\n",
        "    value=mean_target_coverage, min=0, max=max(counts.index), step=1)\n",
        "@widgets.interact\n",
        "def get_non_targets(coverage=w):\n",
        "    non_target.loc[non_target['NumberOverlaps'] > coverage, 'tname'] = 'Off Target'\n",
        "    non_target.loc[non_target['NumberOverlaps'] <= coverage, 'tname'] = 'Background'\n",
        "    res = pd.concat([non_target, good_hits])\n",
        "    res = res.groupby('tname').apply(summary).reset_index(drop=False)\n",
        "    res.rename(columns={0:'kbases'}, inplace=True)\n",
        "    return res"
      ],
      "execution_count": 135,
      "outputs": [
        {
          "output_type": "display_data",
          "data": {
            "text/plain": [
              "interactive(children=(IntSlider(value=4, description='coverage', max=23), Output()), _dom_classes=('widget-int…"
            ],
            "application/vnd.jupyter.widget-view+json": {
              "version_major": 2,
              "version_minor": 0,
              "model_id": "d6b2e69596c847a6af64c7428e8af211"
            }
          },
          "metadata": {
            "tags": []
          }
        }
      ]
    },
    {
      "cell_type": "markdown",
      "metadata": {
        "colab_type": "text",
        "id": "iF7WILGOwbI3"
      },
      "source": [
        "## Summary\n",
        "\n",
        "This tutorial has stepped through basic processing of a Cas9 enrichment experiment. We have examined the coverage of a single target region and the rate of off target effects.\n",
        "\n",
        "The code will run within **Google Colab** when connected to a local **Epi2Me Labs** notebook server.\n",
        "\n",
        "[Back to Epi2Me Labs](https://colab.research.google.com/github/epi2me-labs/resources/blob/master/welcome.ipynb)\n"
      ]
    },
    {
      "cell_type": "code",
      "metadata": {
        "id": "peTWsaPF5Jvo",
        "colab_type": "code",
        "colab": {}
      },
      "source": [
        ""
      ],
      "execution_count": 0,
      "outputs": []
    }
  ]
}