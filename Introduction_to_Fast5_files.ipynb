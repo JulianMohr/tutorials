{
 "cells": [
  {
   "cell_type": "markdown",
   "metadata": {
    "colab_type": "text",
    "id": "eyhWQcLLP6Kt"
   },
   "source": [
    "<h1>Introduction to Fast5 files</h1>\n",
    "\n",
    "The tutorial provides a short introduction to Fast5 files used to store raw data output of Oxford Nanopore Technologies' sequencing devices. The tutorial aims to provide background information for why users may have cause to interact with Fast5 files and show how to perform common manipulations.\n",
    "\n",
    "Methods used in this tutorial include:\n",
    "\n",
    "* `ont_fast5_api` for manipulating read information within Fast5 files.\n",
    "\n",
    "The computational requirements for this tutorial are:\n",
    "\n",
    "* A computer running the EPI2ME Labs Server environment,\n",
    "* 8Gb RAM.\n",
    "\n",
    "> ⚠️ **Warning:** This notebook has been saved with its outputs for demostration purposed. It is recommeded to select `Edit > Clear all outputs` before using the notebook to analyse your own data.\n",
    "\n"
   ]
  },
  {
   "cell_type": "markdown",
   "metadata": {
    "colab_type": "text",
    "id": "a0y2JPI9SlxM"
   },
   "source": [
    "## Introduction\n",
    "\n",
    "This tutorial aims to elucidate the information stored within a Fast5 file, and how such files can be read, or parsed, within the Python programming language and on the command line.\n",
    "\n",
    "The goals from this tutorial include:\n",
    "\n",
    "* Understand that basic concepts of a Fast5 file,\n",
    "* Know how to manipulate a Fast5 file using `ont_fast5_api`,\n",
    "* Be able to compress Fast5 files and remove extraneous data,\n",
    "* Be able to filter and resample Fast5 files to reads of interest.\n",
    "\n",
    "The tutorial includes a sample Fast5 dataset from a metagenomic sample."
   ]
  },
  {
   "cell_type": "markdown",
   "metadata": {
    "colab_type": "text",
    "id": "z0L95Ko61LtN"
   },
   "source": [
    "## Getting started\n",
    "\n",
    "Before anything else we will create and set a working directory:"
   ]
  },
  {
   "cell_type": "code",
   "execution_count": 2,
   "metadata": {
    "colab": {},
    "colab_type": "code",
    "id": "MVacV0gxWwel"
   },
   "outputs": [
    {
     "name": "stdout",
     "output_type": "stream",
     "text": [
      "/epi2melabs/fast5_tutorial\n"
     ]
    }
   ],
   "source": [
    "from epi2melabs import ping\n",
    "tutorial_name = \"fast5_tutorial\"\n",
    "pinger = ping.Pingu()\n",
    "pinger.send_notebook_ping('start', tutorial_name)\n",
    "\n",
    "# create a work directory and move into it\n",
    "working_dir = '/epi2melabs/{}/'.format(tutorial_name)\n",
    "!mkdir -p \"$working_dir\"\n",
    "%cd \"$working_dir\""
   ]
  },
  {
   "cell_type": "markdown",
   "metadata": {
    "colab_type": "text",
    "id": "Fi4rkJEhitWQ"
   },
   "source": [
    "### Install additional software\n",
    "This tutorial uses the `ont_fast5_api` software; this is not installed in the default EPI2ME Labs environment. We will install this now in an isolated manner so as to not interfere with the existing environment.\n",
    "\n",
    "*Please note that the software installed is not persistent and this step will need to be re-run if you stop and restart the EPI2ME Labs server.*"
   ]
  },
  {
   "cell_type": "code",
   "execution_count": null,
   "metadata": {
    "colab": {},
    "colab_type": "code",
    "id": "8uDm4IuIjqTD"
   },
   "outputs": [],
   "source": [
    "# create a conda environment and install ont_fast5_api into it\n",
    "!conda remove -y --name ont_fast5_api --all\n",
    "!conda create -q -y -n ont_fast5_api python==3.6 pip 2>/dev/null\n",
    "!. /opt/conda/etc/profile.d/conda.sh \\\n",
    "    && conda activate ont_fast5_api \\\n",
    "    && which pip \\\n",
    "    && pip install \"ont_fast5_api>=3.1.6\" "
   ]
  },
  {
   "cell_type": "markdown",
   "metadata": {
    "colab_type": "text",
    "id": "v5uwBJCVECBg"
   },
   "source": [
    "### Sample Data\n",
    "\n",
    "In order to provide a concrete example of handling a Fast5 files this tutorial is provided with an example dataset sampled from a MinION sequencing run: the dataset is not a full MinION run in order to reduced the download size.\n",
    "\n",
    "To download the sample file we run the `linux` command `wget`. To execute the command click on the cell and then press Command/Ctrl-Enter, or click the Play symbol to the left-hand side."
   ]
  },
  {
   "cell_type": "code",
   "execution_count": null,
   "metadata": {
    "colab": {},
    "colab_type": "code",
    "id": "9bAE0vYvEia0"
   },
   "outputs": [],
   "source": [
    "bucket = \"ont-exd-int-s3-euwst1-epi2me-labs\"\n",
    "domain = \"s3-eu-west-1.amazonaws.com\"\n",
    "site = \"https://{}.{}\".format(bucket, domain)\n",
    "site = \"https://ont-exd-int-s3-euwst1-epi2me-labs.s3-eu-west-1.amazonaws.com\"\n",
    "\n",
    "!rm -rf sample_fast5\n",
    "!wget -O sample_fast5.tar $site/fast5_tutorial/sample_fast5.tar\n",
    "!tar -xvf sample_fast5.tar\n",
    "!wget -O fast5_sample.bam $site/fast5_tutorial/fast5_sample.bam\n",
    "!wget -O fast5_sample.bam.bai $site/fast5_tutorial/fast5_sample.bam.bai"
   ]
  },
  {
   "cell_type": "markdown",
   "metadata": {
    "colab_type": "text",
    "id": "1VM9k1NGZ8co"
   },
   "source": [
    "### Data entry\n",
    "\n",
    "Having downloaded the sample data we need to provide the filepaths as input to the notebook.\n",
    "\n",
    "The form can be used to enter the filenames of your inputs."
   ]
  },
  {
   "cell_type": "code",
   "execution_count": 1,
   "metadata": {
    "autorun": true,
    "cellView": "form",
    "colab": {
     "base_uri": "https://localhost:8080/",
     "height": 68
    },
    "colab_type": "code",
    "id": "hexEX4x8VPfA",
    "jupyter": {
     "source_hidden": true
    },
    "outputId": "b16a6d82-fdab-43b1-9aa9-b2335713d252"
   },
   "outputs": [
    {
     "data": {
      "application/vnd.jupyter.widget-view+json": {
       "model_id": "8ce87657ae4246a2aa9eec80a9e2fdae",
       "version_major": 2,
       "version_minor": 0
      },
      "text/plain": [
       "VBox(children=(HBox(children=(Label(value='Input folder', layout=Layout(width='150px')), interactive(children=…"
      ]
     },
     "metadata": {},
     "output_type": "display_data"
    }
   ],
   "source": [
    "input_folder = None\n",
    "output_folder = None\n",
    "\n",
    "def process_form(inputs):\n",
    "    global input_folder\n",
    "    global output_folder\n",
    "    input_folder = inputs.input_folder\n",
    "    output_folder = inputs.output_folder\n",
    "    # run a command to concatenate all the files together\n",
    "    !cecho ok \"Making output folder\"\n",
    "    !mkdir -p \"$output_folder\"\n",
    "    !test -d \"$input_folder\" \\\n",
    "        && cecho success \"Found input folder.\" \\\n",
    "        || cecho error \"Input folder does not exist.\"\n",
    "    !echo \" - Found \"$(find \"$input_folder\" -name \"*.fast5\" | wc -l)\" fast5 files\"\n",
    "\n",
    "from epi2melabs.notebook import InputForm, InputSpec\n",
    "input_form = InputForm(\n",
    "    InputSpec('input_folder', 'Input folder', '/epi2melabs/fast5_tutorial/sample_fast5'),\n",
    "    InputSpec('output_folder', 'Output folder', 'analysis'))\n",
    "input_form.add_process_button(process_form)\n",
    "input_form.display()"
   ]
  },
  {
   "cell_type": "markdown",
   "metadata": {
    "colab_type": "text",
    "id": "itAa1F4aBJnz"
   },
   "source": [
    "Executing the above form will have checked the input folder attempted to find Fast5 files located in the folder."
   ]
  },
  {
   "cell_type": "markdown",
   "metadata": {
    "colab_type": "text",
    "id": "bm8LasSbc5wL"
   },
   "source": [
    "## Fast5 files\n",
    "\n",
    "Fast5 files are used by the MinKNOW instrument software and the Guppy basecalling software to store the primary sequencing data from Oxford Nanopore Technologies' sequencing devices and the results of primary and secondary analyses such as basecalling information and modified-base detection.\n",
    "\n",
    "Before discussing how to read and manipulate Fast5 files in Python we will first review their internal structure."
   ]
  },
  {
   "cell_type": "markdown",
   "metadata": {
    "colab_type": "text",
    "id": "tD7mjqnWZ87I"
   },
   "source": [
    "### HDF5 files\n",
    "\n",
    "Files output by the MinKNOW instrument software and the Guppy basecalling software using the `.fast5` file extension are a [container file](https://en.wikipedia.org/wiki/Container_format_(computing)) using the [HDF5 format](https://en.wikipedia.org/wiki/Hierarchical_Data_Format). As such they are a self-describing file with all the necessary information to correctly interpret the data they contain.\n",
    "\n",
    "A Fast5 file differs from a generic HDF5 file in containing only a fixed, defined structure of data. This structure is elucidated in the [ont_h5_validator](https://github.com/nanoporetech/ont_h5_validator) repository on Github, specifically in the file [multi_read_fast5.yaml](https://github.com/nanoporetech/ont_h5_validator/blob/master/h5_validator/schemas/multi_read_fast5.yaml).\n",
    "\n",
    "> *Users are referred to the YAML schemas to gain an understanding of all the data contained in Fast5 files. Users are encouraged to raise Issues on the ont_h5_validator project if the schemas are unclear. The rest of this tutorial will be mostly practical in nature.*\n",
    "\n",
    "The schema file describes how the internal structure of a Fast5 file is laid out. There are three core concepts to understand:\n",
    "\n",
    "1. **Groups:** an HDF group acts similarly to a folder on a computer filesystem. Hierachies of groups can exist to organise data.\n",
    "2. **Datasets:** an HDF dataset contains generic data. This might range from simple text data like a Fastq record to a matrix of a complex datatype containing subfields of data.\n",
    "3. **Attributes:** both groups and datasets can be labelled with attributes. These are short data items, commonly meta data, that can be used to aid understanding of the data. For example a sequencing run identifier or a timestamp.\n",
    "\n",
    "An appreciation of these concepts is required for using the data contained within Fast5 files, though as we will see for common manipulations of Fast5 files users need only an awareness of these ideas.\n"
   ]
  },
  {
   "cell_type": "markdown",
   "metadata": {
    "colab_type": "text",
    "id": "F7XVfEphnVAu"
   },
   "source": [
    "### Fast5 Flavours\n",
    "\n",
    "Historically there have been two flavours of Fast5 files:\n",
    "\n",
    "*   Single-read files: each sequencing read was stored in a unique Fast5 file,\n",
    "*   Multi-read files: multiple reads are bundled into a single Fast5 file.\n",
    "\n",
    "The internal layout, in terms of groups and datasets, of these two flavours of Fast5 are very similar. In essence a multi-read file embeds the group hierarchy of multiple single-read files within one HDF5 container.\n",
    "\n",
    "Single-read files are deprecated and no longer used by MinKNOW or Guppy. We recommend that any single-read files are converted to multi-read files before further use or storage, how to do this is demonstrated later in this tutorial.\n"
   ]
  },
  {
   "cell_type": "markdown",
   "metadata": {
    "colab_type": "text",
    "id": "rZuBNlyFxSgd"
   },
   "source": [
    "### Overview of Fast5 contents\n",
    "\n",
    "As noted above the [ont_h5_validator](https://github.com/nanoporetech/ont_h5_validator) project contains a full description of the expected contents of a Fast5 file. Here we will briefly highlight the key groups and datasets stored within a Fast5 file.\n",
    "\n",
    "Using the dataset provided in above let's enumerate the contents of the first file using the `h5ls` program:\n"
   ]
  },
  {
   "cell_type": "code",
   "execution_count": null,
   "metadata": {
    "colab": {
     "base_uri": "https://localhost:8080/",
     "height": 340
    },
    "colab_type": "code",
    "id": "8pnvxyeXyg2F",
    "outputId": "f7467c36-7997-40c6-9c15-9e9823f3c36e"
   },
   "outputs": [],
   "source": [
    "#   i) find and list all .fast5 files\n",
    "#  ii) take the first file\n",
    "# iii) use `h5ls` to list the file's contents\n",
    "#  iv) truncate the output to the first 19 lines\n",
    "!find \"$input_folder\" -name \"*.fast5\" \\\n",
    "    | head -n 1 \\\n",
    "    | xargs h5ls -r \\\n",
    "    | head -n 19"
   ]
  },
  {
   "cell_type": "markdown",
   "metadata": {
    "colab_type": "text",
    "id": "dknzrbM5zxD5"
   },
   "source": [
    "The `h5ls` program can be used to display the datasets and groups of a Fast5 file. It can be used also to display attributes and more advanced properties of a file when given different options.\n",
    "\n",
    "From the sample file we see a hierarchy of groups and datasets. The highest of these is a group indicating a read together with the unique identifier of the read. Under this top level read group we have:\n",
    "\n",
    "* `Analyses`: contains derived datasets such as basecalling information,\n",
    "* `Raw`: the raw sequencer output, measurements of the ionic current through a nanopore as a function of time.\n",
    "* `channel_id`: information such as channel number and ASIC sampling rate\n",
    "* `context_tags`: information provided at runtime such as experiment type\n",
    "* `tracking_id`: information such as the unique run identified, flowcell identifier, and computer name. \n",
    "\n",
    "*For a full description of these fields see the documentation on the [Nanopore Community](https://community.nanoporetech.com/technical_documents/data-analysis).*\n",
    "\n",
    "For files generated by MinKNOW without live basecalling enabled, the `Analyses` section will be absent (or contain no subgroups). The sample file is one that has been created by Guppy using the `--fast5_out` option to produce Fast5 files in addition to `.fastq.gz` files containing solely the basecalls. The `Analyses` section listed above therefore contains two subgroups: `Segmentation_000` and `Basecall_1D_000`. The first of these contains information regarding how a read as been trimmed by the basecaller into seqeuncing adapter and, barcode and insert regions. The second contains the basecaller outputs, primarily the `Fastq` dataset but also two additional groups `Move` and `Trace` which contain advanced basecaller outputs. Again see the documentation in the Nanopore Community for a full description of these."
   ]
  },
  {
   "cell_type": "markdown",
   "metadata": {
    "colab_type": "text",
    "id": "UwY-VfVLjXff"
   },
   "source": [
    "### An aside on file indexing and compression\n",
    "\n",
    "The Fast5 files from a MinION run can become fairly sizeable, up to a few hundred gigabytes. Efficient and performant compression and indexing is therefore required.\n",
    "\n",
    "#### Indexing reads\n",
    "\n",
    "For the most part the self describing and indexed nature of the HDF5 format ensures that data within a file can be quickly retrieved. However for a MinION run multiple Fast5 files are created each with a subset of the sequencing reads produced by the sequencer. Therefore finding the information pertaining to a read of a known ID cannot be done without a supplementary index cross-referencing the reads contained within in file; the alternative is to open all the files in turn and enquire about their contents. ***The `sequencing_summary.txt` file produced by both MinKNOW and Guppy provides an index of the reads contained within in each Fast5 file***. This index can of course be reconstructed if required (as in the case of [nanopolish index](https://github.com/jts/nanopolish)), though we recommend always storing the sequencing summary with the Fast5 data files.\n",
    "\n",
    "#### File compression\n",
    "\n",
    "Due to the large volume of data created by nanopore sequencing devices Oxford Nanopore Technologies has developed a bespoke compression scheme for ionic current trace data known as [VBZ](https://github.com/nanoporetech/vbz_compression). VBZ is a combination of two open compression algorithms and is itself open and freely available from the Github [release page](https://github.com/nanoporetech/vbz_compression/releases/latest). Ordinarily it will not be necessary to install the VBZ compression library and HDF5 plugin to simply use MinKNOW and Guppy as these software applications include their own copy of VBZ. However if you wish to read Fast5 files using third party applications (such as [h5py](https://pypi.org/project/h5py/)) you will need to install the VBZ plugin."
   ]
  },
  {
   "cell_type": "markdown",
   "metadata": {
    "colab_type": "text",
    "id": "aWGSqbj8d088"
   },
   "source": [
    "## Manipulating Fast5 files\n",
    "\n",
    "The section above has given an outline to the data contained within a Fast5 file and how the file is arranged. Again for a more fulsome description of the contents of files users are directed to the [ont_h5_validator](https://github.com/nanoporetech/ont_h5_validator) project. In this section we will highlight several methods for manipulating the data contained within Fast5 files.\n",
    "\n",
    "Oxford Nanopore Technologies provides a Python-based software for accessing data stored within a set of Fast5 files: [ont_fast5_api](https://github.com/nanoporetech/ont_fast5_api). For the most part this set of tools hides from the user the need to understand anything about the nature of Fast5 files. Here we will show how to perform some common tasks that might be required when dealing with Fast5 files. For a guide in using `ont_fast5_api` programmatically please see the [documention](https://github.com/nanoporetech/ont_fast5_api#interface---get_fast5_file)."
   ]
  },
  {
   "cell_type": "markdown",
   "metadata": {
    "colab_type": "text",
    "id": "_3T2_9hdh4Yp"
   },
   "source": [
    "### Converting multi-read files to single-read files\n",
    "\n",
    "Since some older programs have not been updated to use multi-read files it can sometimes be necessary to convert such files to the deprecated single-read flavour. To do this run:"
   ]
  },
  {
   "cell_type": "code",
   "execution_count": null,
   "metadata": {
    "colab": {
     "base_uri": "https://localhost:8080/",
     "height": 34
    },
    "colab_type": "code",
    "id": "k9vSwWpbiO6Y",
    "outputId": "1cddde97-4e18-4cfe-ef5b-ea200776e17d"
   },
   "outputs": [],
   "source": [
    "!rm -rf $output_folder/single-reads\n",
    "!run multi_to_single_fast5 \\\n",
    "    --input_path $input_folder --save_path $output_folder/single-reads \\\n",
    "    --recursive"
   ]
  },
  {
   "cell_type": "markdown",
   "metadata": {
    "colab_type": "text",
    "id": "l6xiTuA5lyvS"
   },
   "source": [
    "The output of the above command is a set of folders each containing a subset of the sequencing reads, one read per file. The filename of each read corresponds to the read's unique identifier."
   ]
  },
  {
   "cell_type": "code",
   "execution_count": null,
   "metadata": {
    "colab": {
     "base_uri": "https://localhost:8080/",
     "height": 102
    },
    "colab_type": "code",
    "id": "AmLZjrtxlmMX",
    "outputId": "e9fd560d-2f47-4fef-bf7f-8b2cde8b33c6"
   },
   "outputs": [
    {
     "name": "stdout",
     "output_type": "stream",
     "text": [
      "00058fe1-e555-4a64-a41b-7f58fb7d6d6b.fast5\n",
      "000dd482-c0d5-4520-aa86-8ee8bb61fd58.fast5\n",
      "00158d74-4b7f-445a-b0ac-e1606f6c09b7.fast5\n",
      "004a0bd2-edcf-4c2c-89bc-009a232cdb6a.fast5\n",
      "0057b9d1-e566-4518-8b81-f69b30c6da99.fast5\n"
     ]
    }
   ],
   "source": [
    "!ls $output_folder/single-reads/0 2>/dev/null | head -n 5"
   ]
  },
  {
   "cell_type": "markdown",
   "metadata": {
    "colab_type": "text",
    "id": "phgy6o6blGg-"
   },
   "source": [
    "### Converting single-read to multi-read files\n",
    "\n",
    "A similar program exists to convert single-read files to multi-read files. We recommend that all datasets are updated to multi-read files for longer term storage. Here we will convert the single-reads created above back to multi-read files:"
   ]
  },
  {
   "cell_type": "code",
   "execution_count": null,
   "metadata": {
    "colab": {
     "base_uri": "https://localhost:8080/",
     "height": 34
    },
    "colab_type": "code",
    "id": "exlBq8PWlYo7",
    "outputId": "1181b2a3-f928-4b8f-fb8f-7a0ade47c5e7"
   },
   "outputs": [
    {
     "name": "stdout",
     "output_type": "stream",
     "text": [
      "| 3 of 3|####################################################|100% Time: 0:00:55\n"
     ]
    }
   ],
   "source": [
    "!rm -rf $output_folder/multi-reads\n",
    "!run single_to_multi_fast5 \\\n",
    "    --input_path $output_folder/single-reads --save_path $output_folder/multi-reads \\\n",
    "    --filename_base prefix --batch_size 8000 --recursive"
   ]
  },
  {
   "cell_type": "markdown",
   "metadata": {
    "colab_type": "text",
    "id": "R8ZX6RzwnDsJ"
   },
   "source": [
    "The output of this command is a single directory containing all multi-read files. The filenames are prefixed with `prefix` as taken by the `--filename_base` argument of the program. The `--batch_size` argument here controls the number of reads per file:"
   ]
  },
  {
   "cell_type": "code",
   "execution_count": null,
   "metadata": {
    "colab": {
     "base_uri": "https://localhost:8080/",
     "height": 34
    },
    "colab_type": "code",
    "id": "-xU2TkgBm7_q",
    "outputId": "9835855e-6f68-4f04-d0fa-b44f7f244795"
   },
   "outputs": [
    {
     "name": "stdout",
     "output_type": "stream",
     "text": [
      "filename_mapping.txt  prefix_0.fast5  prefix_1.fast5  prefix_2.fast5\n"
     ]
    }
   ],
   "source": [
    "!ls $output_folder/multi-reads"
   ]
  },
  {
   "cell_type": "markdown",
   "metadata": {
    "colab_type": "text",
    "id": "tteaP7dGnj__"
   },
   "source": [
    "The `filename_mapping.txt` cross-references the data from the input files with the output files."
   ]
  },
  {
   "cell_type": "code",
   "execution_count": null,
   "metadata": {
    "colab": {
     "base_uri": "https://localhost:8080/",
     "height": 187
    },
    "colab_type": "code",
    "id": "Hwrm94ajnoq9",
    "outputId": "998b9064-ed59-4e89-df50-b6693d88c2ce"
   },
   "outputs": [
    {
     "name": "stdout",
     "output_type": "stream",
     "text": [
      "26cb0f7d-8db2-4e2d-aa4e-9d273ccf1d66.fast5\tanalysis/multi-reads/prefix_0.fast5\n",
      "b4441e24-a5d3-4357-bc24-4a169520d096.fast5\tanalysis/multi-reads/prefix_0.fast5\n",
      "5d63b4ae-e9c7-43cb-b73c-7b3bc7facd57.fast5\tanalysis/multi-reads/prefix_0.fast5\n",
      "5880c8b8-5c67-45cd-9082-2be09a7fc1d4.fast5\tanalysis/multi-reads/prefix_0.fast5\n",
      "77d557c6-2154-4792-ad2d-49c9ca5f4bdd.fast5\tanalysis/multi-reads/prefix_0.fast5\n",
      "afa10699-8648-4e7a-8bec-86118f202e8d.fast5\tanalysis/multi-reads/prefix_0.fast5\n",
      "fb15566d-370c-478e-a190-d4221407e500.fast5\tanalysis/multi-reads/prefix_0.fast5\n",
      "34465bd4-2335-4390-8675-daef5390ea79.fast5\tanalysis/multi-reads/prefix_0.fast5\n",
      "67b3c07c-c4db-40e9-a18b-c10c8eeb70f5.fast5\tanalysis/multi-reads/prefix_0.fast5\n",
      "133ac0a7-54d4-4681-8653-49b174fe6e7c.fast5\tanalysis/multi-reads/prefix_0.fast5\n"
     ]
    }
   ],
   "source": [
    "!head $output_folder/multi-reads/filename_mapping.txt"
   ]
  },
  {
   "cell_type": "markdown",
   "metadata": {
    "colab_type": "text",
    "id": "a9Rc7fJFoVAv"
   },
   "source": [
    "### Creating a listing of reads within multi-read files\n",
    "\n",
    "As mentioned in the discussion above it can be useful to have an index of which reads are contained within which multi-read files. Usually this indexing is provided by the `sequencing_summary.txt` file output by MinKNOW and Guppy. However if it is lost, here's a way to recover the information:"
   ]
  },
  {
   "cell_type": "code",
   "execution_count": null,
   "metadata": {
    "colab": {},
    "colab_type": "code",
    "id": "0ZBWcQuVowtR"
   },
   "outputs": [],
   "source": [
    "# build a script that will do the work\n",
    "with open(\"build_read_index.sh\", 'w') as fh:\n",
    "    fh.write(\n",
    "        '''\n",
    "        echo -e \"filename\\tread_id\"\n",
    "        find $1 -name \"*.fast5\" \\\\\n",
    "        | parallel --tag h5ls -f -r \\\\\n",
    "        | grep \"read_.\\{8\\}-.\\{4\\}-.\\{4\\}-.\\{4\\}-.\\{12\\} Group\" \\\\\n",
    "        | sed \"s# Group##\" | sed \"s#/read_##\"\n",
    "        ''')\n",
    "# run the script\n",
    "!bash build_read_index.sh $input_folder > read_index.txt"
   ]
  },
  {
   "cell_type": "markdown",
   "metadata": {
    "colab_type": "text",
    "id": "ss0VI98o0M5i"
   },
   "source": [
    "The `read_index.txt` output file contains the simple index we desire:"
   ]
  },
  {
   "cell_type": "code",
   "execution_count": null,
   "metadata": {
    "colab": {
     "base_uri": "https://localhost:8080/",
     "height": 187
    },
    "colab_type": "code",
    "id": "6KWKRzCn0UVN",
    "outputId": "fca17a6f-52e7-4ad0-cf6b-8beb2bd8a925"
   },
   "outputs": [
    {
     "name": "stdout",
     "output_type": "stream",
     "text": [
      "filename\tread_id\n",
      "/epi2melabs/fast5-tutorial/sample_fast5/workspace/FAK42335_2bf4f211a2e2d04662e50f27448cfd99dafbd7ee_400.fast5\t00085dbe-217a-40f2-90c0-3bb15669f32c\n",
      "/epi2melabs/fast5-tutorial/sample_fast5/workspace/FAK42335_2bf4f211a2e2d04662e50f27448cfd99dafbd7ee_400.fast5\t00237911-92b3-49b4-9d13-2ea6a2ded996\n",
      "/epi2melabs/fast5-tutorial/sample_fast5/workspace/FAK42335_2bf4f211a2e2d04662e50f27448cfd99dafbd7ee_400.fast5\t0025338c-3ea8-4168-b999-fe7f7fd597ee\n",
      "/epi2melabs/fast5-tutorial/sample_fast5/workspace/FAK42335_2bf4f211a2e2d04662e50f27448cfd99dafbd7ee_400.fast5\t00408494-e245-401e-8c9a-575ee491971b\n",
      "/epi2melabs/fast5-tutorial/sample_fast5/workspace/FAK42335_2bf4f211a2e2d04662e50f27448cfd99dafbd7ee_400.fast5\t00485ea4-a2fc-4b75-9969-9f1b1ab997da\n",
      "/epi2melabs/fast5-tutorial/sample_fast5/workspace/FAK42335_2bf4f211a2e2d04662e50f27448cfd99dafbd7ee_400.fast5\t004fbd46-3565-4505-8ade-bfa5bffa499b\n",
      "/epi2melabs/fast5-tutorial/sample_fast5/workspace/FAK42335_2bf4f211a2e2d04662e50f27448cfd99dafbd7ee_400.fast5\t0067fb48-9e65-415a-966a-fbf25c62e730\n",
      "/epi2melabs/fast5-tutorial/sample_fast5/workspace/FAK42335_2bf4f211a2e2d04662e50f27448cfd99dafbd7ee_400.fast5\t0091aa27-0f2f-4e79-bb6e-6bfa1629326b\n",
      "/epi2melabs/fast5-tutorial/sample_fast5/workspace/FAK42335_2bf4f211a2e2d04662e50f27448cfd99dafbd7ee_400.fast5\t00a52e30-a584-4ed8-97cf-074c601b0403\n"
     ]
    }
   ],
   "source": [
    "!head read_index.txt"
   ]
  },
  {
   "cell_type": "markdown",
   "metadata": {
    "colab_type": "text",
    "id": "j4O4xUGz13VQ"
   },
   "source": [
    "### Filtering multi-reads by reference locus\n",
    "\n",
    "The program `fast5_subset` within `ont_fast5_api` can be used to create a new file set containing only a subset of reads.\n",
    "\n",
    "The sample data contains data from a microbial mock community. Using the accompanying BAM alignment file lets find the reads with align to a single reference sequence:"
   ]
  },
  {
   "cell_type": "code",
   "execution_count": null,
   "metadata": {
    "colab": {
     "base_uri": "https://localhost:8080/",
     "height": 34
    },
    "colab_type": "code",
    "id": "2GR_o_GZ2Uae",
    "outputId": "40540e9b-58bc-4951-a2e4-93fd15565533"
   },
   "outputs": [
    {
     "name": "stdout",
     "output_type": "stream",
     "text": [
      "Found 1100 reads\n"
     ]
    }
   ],
   "source": [
    "!rm -rf read_list.txt\n",
    "!echo \"read_id\" > read_list.txt\n",
    "!samtools view fast5_sample.bam lfermentum \\\n",
    "    | awk '{print $1}' \\\n",
    "    | tee -a read_list.txt \\\n",
    "    | echo \"Found\" $(wc -l) \"reads\""
   ]
  },
  {
   "cell_type": "markdown",
   "metadata": {
    "colab_type": "text",
    "id": "VQnWHNGd6EPI"
   },
   "source": [
    "We can now use this file with the subsetting program:"
   ]
  },
  {
   "cell_type": "code",
   "execution_count": null,
   "metadata": {
    "colab": {
     "base_uri": "https://localhost:8080/",
     "height": 68
    },
    "colab_type": "code",
    "id": "EhRREF3Y6QEU",
    "outputId": "2ef5849d-63df-4249-9a97-ec59a3dd6339"
   },
   "outputs": [
    {
     "name": "stdout",
     "output_type": "stream",
     "text": [
      "/epi2melabs/fast5_tutorial/sample_fast5\n",
      "| 1105 of 1105|##############################################|100% Time: 0:00:02\n",
      "INFO:Fast5Filter:1100 reads extracted\n"
     ]
    }
   ],
   "source": [
    "!echo $input_folder\n",
    "!rm -rf $output_folder/lfermentum\n",
    "!run fast5_subset --input $input_folder --save_path $output_folder/lfermentum \\\n",
    "    --read_id_list read_list.txt --batch_size 8000 --recursive"
   ]
  },
  {
   "cell_type": "markdown",
   "metadata": {
    "colab_type": "text",
    "id": "ieE1ohj02U-Q"
   },
   "source": [
    "### Cleaning multi-read files of `Analyses` groups\n",
    "\n",
    "It can be the case that it is desirable to remove the `Analyses` groups from multi-read files. For example if live basecalling were performed during a run but these results are not wanted before data is archived.\n",
    "\n",
    "To accomplish this task we will use the `compress_fast5` program with the `--sanitize` option:"
   ]
  },
  {
   "cell_type": "code",
   "execution_count": null,
   "metadata": {
    "colab": {
     "base_uri": "https://localhost:8080/",
     "height": 34
    },
    "colab_type": "code",
    "id": "Ex-onLIXf2UE",
    "outputId": "e597fee4-7ec3-49d0-9c79-ea49f648ef35"
   },
   "outputs": [
    {
     "name": "stdout",
     "output_type": "stream",
     "text": [
      "| 5 of 5|####################################################|100% Time: 0:00:12\n"
     ]
    }
   ],
   "source": [
    "!rm -rf $output_folder/sanitized\n",
    "!run compress_fast5 --input_path $input_folder --save_path $output_folder/sanitize \\\n",
    "    --compression vbz --recursive --threads 8 --sanitize"
   ]
  },
  {
   "cell_type": "markdown",
   "metadata": {
    "colab_type": "text",
    "id": "Mvp_Ynmmg5Qs"
   },
   "source": [
    "This achieves an approximate 3.5X reduction in filesize:"
   ]
  },
  {
   "cell_type": "code",
   "execution_count": null,
   "metadata": {
    "colab": {
     "base_uri": "https://localhost:8080/",
     "height": 51
    },
    "colab_type": "code",
    "id": "LTMmapAYg_5V",
    "outputId": "f534cc48-61c2-4695-facc-ac7a7dbb601a"
   },
   "outputs": [
    {
     "name": "stdout",
     "output_type": "stream",
     "text": [
      "2.4G\t/epi2melabs/fast5_tutorial/sample_fast5\n",
      "682M\tanalysis/sanitize\n"
     ]
    }
   ],
   "source": [
    "!du -sh $input_folder $output_folder/sanitize"
   ]
  },
  {
   "cell_type": "markdown",
   "metadata": {
    "colab_type": "text",
    "id": "iF7WILGOwbI3"
   },
   "source": [
    "## Summary\n",
    "\n",
    "In this notebook we have introduced the Variant Call Format with an examplar file from the Medaka consensus and variant calling program. We have outlined the contents of such files and how they can be intepreted with a selection of common software packages.\n",
    "\n",
    "The code tools presented here can be run on any dataset from an Oxford Nanopore Technologies' device. The code will run within the **EPI2ME Labs** notebook server environment.\n"
   ]
  }
 ],
 "metadata": {
  "colab": {
   "collapsed_sections": [
    "a0y2JPI9SlxM",
    "tD7mjqnWZ87I",
    "F7XVfEphnVAu",
    "UwY-VfVLjXff"
   ],
   "include_colab_link": true,
   "name": "Introduction to Fast5 files",
   "provenance": [],
   "toc_visible": true
  },
  "kernelspec": {
   "display_name": "Python 3",
   "language": "python",
   "name": "python3"
  },
  "language_info": {
   "codemirror_mode": {
    "name": "ipython",
    "version": 3
   },
   "file_extension": ".py",
   "mimetype": "text/x-python",
   "name": "python",
   "nbconvert_exporter": "python",
   "pygments_lexer": "ipython3",
   "version": "3.6.10"
  }
 },
 "nbformat": 4,
 "nbformat_minor": 4
}
