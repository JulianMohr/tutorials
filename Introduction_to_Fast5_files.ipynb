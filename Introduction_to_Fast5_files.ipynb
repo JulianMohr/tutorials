{
  "nbformat": 4,
  "nbformat_minor": 0,
  "metadata": {
    "kernelspec": {
      "display_name": "Python 3",
      "language": "python",
      "name": "python3"
    },
    "language_info": {
      "codemirror_mode": {
        "name": "ipython",
        "version": 3
      },
      "file_extension": ".py",
      "mimetype": "text/x-python",
      "name": "python",
      "nbconvert_exporter": "python",
      "pygments_lexer": "ipython3",
      "version": "3.7.6"
    },
    "colab": {
      "name": "Introduction to Fast5 files",
      "provenance": [],
      "collapsed_sections": [
        "a0y2JPI9SlxM",
        "tD7mjqnWZ87I",
        "F7XVfEphnVAu",
        "UwY-VfVLjXff"
      ],
      "toc_visible": true,
      "include_colab_link": true
    }
  },
  "cells": [
    {
      "cell_type": "markdown",
      "metadata": {
        "id": "view-in-github",
        "colab_type": "text"
      },
      "source": [
        "<a href=\"https://colab.research.google.com/github/epi2me-labs/tutorials/blob/master/Introduction_to_Fast5_files.ipynb\" target=\"_parent\"><img src=\"https://colab.research.google.com/assets/colab-badge.svg\" alt=\"Open In Colab\"/></a>"
      ]
    },
    {
      "cell_type": "markdown",
      "metadata": {
        "id": "eyhWQcLLP6Kt",
        "colab_type": "text"
      },
      "source": [
        "<h1>Introduction to Fast5 files</h1>\n",
        "\n",
        "The tutorial provides a short introduction to Fast5 files used to store raw data output of Oxford Nanopore Technologies' sequencing devices. The tutorial aims to provide background information for why users may have cause to interact with Fast5 files and show how to perform common manipulations.\n",
        "\n",
        "Methods used in this tutorial include:\n",
        "\n",
        "* `ont_fast5_api` for manipulating read information within Fast5 files.\n",
        "\n",
        "The computational requirements for this tutorial are:\n",
        "\n",
        "* A computer running the EPI2ME Labs Server environment,\n",
        "* 8Gb RAM.\n",
        "\n",
        "> ⚠️ **Warning:** This notebook has been saved with its outputs for demostration purposed. It is recommeded to select `Edit > Clear all outputs` before using the notebook to analyse your own data.\n",
        "\n"
      ]
    },
    {
      "cell_type": "markdown",
      "metadata": {
        "id": "a0y2JPI9SlxM",
        "colab_type": "text"
      },
      "source": [
        "## Introduction\n",
        "\n",
        "This tutorial aims to elucidate the information stored within a Fast5 file, and how such files can be read, or parsed, within the Python programming language and on the command line.\n",
        "\n",
        "The goals from this tutorial include:\n",
        "\n",
        "* Understand that basic concepts of a Fast5 file,\n",
        "* Know how to manipulate a Fast5 file using `ont_fast5_api`,\n",
        "* Be able to compress Fast5 files and remove extraneous data,\n",
        "* Be able to filter and resample Fast5 files to reads of interest.\n",
        "\n",
        "The tutorial includes a sample Fast5 dataset from a metagenomic sample."
      ]
    },
    {
      "cell_type": "markdown",
      "metadata": {
        "id": "ZMhjoLNaP6Ku",
        "colab_type": "text"
      },
      "source": [
        "## Getting started\n",
        "\n",
        "⚠️  ***Reminder:*** Connect to your locally running EPI2ME Labs Server before running any of the code below. See [Run a tutorial](https://colab.research.google.com/github/epi2me-labs/resources/blob/master/epi2me-labs-server.ipynb#scrollTo=r--DdCunUR6Y) on the EPI2ME Labs Server help page for more information."
      ]
    },
    {
      "cell_type": "markdown",
      "metadata": {
        "id": "iSKV9Kkg0VLa",
        "colab_type": "text"
      },
      "source": [
        "![image.png](data:image/png;base64,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)"
      ]
    },
    {
      "cell_type": "markdown",
      "metadata": {
        "id": "z0L95Ko61LtN",
        "colab_type": "text"
      },
      "source": [
        "Having connected to the EPI2ME Labs Server, before anything else we will create and set a working directory:"
      ]
    },
    {
      "cell_type": "code",
      "metadata": {
        "id": "MVacV0gxWwel",
        "colab_type": "code",
        "colab": {}
      },
      "source": [
        "from epi2melabs import ping\n",
        "tutorial_name = \"fast5_tutorial\"\n",
        "pinger = ping.Pingu()\n",
        "pinger.send_notebook_ping('start', tutorial_name)\n",
        "\n",
        "# create a work directory and move into it\n",
        "working_dir = '/epi2melabs/{}/'.format(tutorial_name)\n",
        "!mkdir -p \"$working_dir\"\n",
        "%cd \"$working_dir\""
      ],
      "execution_count": null,
      "outputs": []
    },
    {
      "cell_type": "markdown",
      "metadata": {
        "id": "Fi4rkJEhitWQ",
        "colab_type": "text"
      },
      "source": [
        "### Install additional software\n",
        "This tutorial uses the `ont_fast5_api` software; this is not installed in the default EPI2ME Labs environment. We will install this now in an isolated manner so as to not interfere with the existing environment.\n",
        "\n",
        "*Please note that the software installed is not persistent and this step will need to be re-run if you stop and restart the EPI2ME Labs server.*"
      ]
    },
    {
      "cell_type": "code",
      "metadata": {
        "id": "8uDm4IuIjqTD",
        "colab_type": "code",
        "colab": {}
      },
      "source": [
        "# create a conda environment and install ont_fast5_api into it\n",
        "!conda create -q -y -n ont_fast5_api pip 2>/dev/null\n",
        "!source /opt/conda/etc/profile.d/conda.sh \\\n",
        "    && conda activate ont_fast5_api \\\n",
        "    && which pip \\\n",
        "    && pip install \"ont_fast5_api>=3.1.6\" "
      ],
      "execution_count": null,
      "outputs": []
    },
    {
      "cell_type": "markdown",
      "metadata": {
        "id": "v5uwBJCVECBg",
        "colab_type": "text"
      },
      "source": [
        "### Sample Data\n",
        "\n",
        "In order to provide a concrete example of handling a Fast5 files this tutorial is provided with an example dataset sampled from a MinION sequencing run: the dataset is not a full MinION run in order to reduced the download size.\n",
        "\n",
        "To download the sample file we run the `linux` command `wget`. To execute the command click on the cell and then press Command/Ctrl-Enter, or click the Play symbol to the left-hand side."
      ]
    },
    {
      "cell_type": "code",
      "metadata": {
        "id": "9bAE0vYvEia0",
        "colab_type": "code",
        "colab": {}
      },
      "source": [
        "bucket = \"ont-exd-int-s3-euwst1-epi2me-labs\"\n",
        "domain = \"s3-eu-west-1.amazonaws.com\"\n",
        "site = \"https://{}.{}\".format(bucket, domain)\n",
        "site = \"https://ont-exd-int-s3-euwst1-epi2me-labs.s3-eu-west-1.amazonaws.com\"\n",
        "\n",
        "!rm -rf sample_fast5\n",
        "!wget -O sample_fast5.tar $site/fast5_tutorial/sample_fast5.tar\n",
        "!tar -xvf sample_fast5.tar\n",
        "!wget -O fast5_sample.bam $site/fast5_tutorial/fast5_sample.bam\n",
        "!wget -O fast5_sample.bam.bai $site/fast5_tutorial/fast5_sample.bam.bai"
      ],
      "execution_count": null,
      "outputs": []
    },
    {
      "cell_type": "markdown",
      "metadata": {
        "id": "1VM9k1NGZ8co",
        "colab_type": "text"
      },
      "source": [
        "### Data entry\n",
        "\n",
        "Having downloaded the sample data we need to provide the filepaths as input to the notebook.\n",
        "\n",
        "The form can be used to enter the filenames of your inputs. Alternatively you can edit the code which reads the inputs by first double clicking the form header. After entering your inputs (or editing the code cell) remember to execute the code using `Command/Ctrl-Enter`, or pressing the `Play` symbol to the left-hand side."
      ]
    },
    {
      "cell_type": "code",
      "metadata": {
        "id": "hexEX4x8VPfA",
        "colab_type": "code",
        "cellView": "form",
        "colab": {
          "base_uri": "https://localhost:8080/",
          "height": 68
        },
        "outputId": "b16a6d82-fdab-43b1-9aa9-b2335713d252"
      },
      "source": [
        "#@markdown Enter the paths to the input folder and output folder here.\n",
        "\n",
        "# set variables for our inputs\n",
        "input_folder = '/epi2melabs/fast5_tutorial/sample_fast5'  #@param {type: \"string\"}\n",
        "output_folder = 'analysis'  #@param {type: \"string\"}\n",
        "\n",
        "# run a command to concatenate all the files together\n",
        "!cecho ok \"Making output folder\"\n",
        "!mkdir -p \"$output_folder\"\n",
        "!test -d \"$input_folder\" \\\n",
        "    && cecho success \"Found input folder.\" \\\n",
        "    || cecho error \"Input folder does not exist.\"\n",
        "!echo \" - Found \"$(find \"$input_folder\" -name \"*.fast5\" | wc -l)\" fast5 files\""
      ],
      "execution_count": null,
      "outputs": [
        {
          "output_type": "stream",
          "text": [
            "\u001b[34m\u001b[1mMaking output folder\u001b[0m\n",
            "\u001b[32m\u001b[1mFound input folder.\u001b[0m\n",
            " - Found 5 fast5 files\n"
          ],
          "name": "stdout"
        }
      ]
    },
    {
      "cell_type": "markdown",
      "metadata": {
        "id": "itAa1F4aBJnz",
        "colab_type": "text"
      },
      "source": [
        "Executing the above form will have checked the input folder attempted to find Fast5 files located in the folder."
      ]
    },
    {
      "cell_type": "markdown",
      "metadata": {
        "id": "bm8LasSbc5wL",
        "colab_type": "text"
      },
      "source": [
        "## Fast5 files\n",
        "\n",
        "Fast5 files are used by the MinKNOW instrument software and the Guppy basecalling software to store the primary sequencing data from Oxford Nanopore Technologies' sequencing devices and the results of primary and secondary analyses such as basecalling information and modified-base detection.\n",
        "\n",
        "Before discussing how to read and manipulate Fast5 files in Python we will first review their internal structure."
      ]
    },
    {
      "cell_type": "markdown",
      "metadata": {
        "id": "tD7mjqnWZ87I",
        "colab_type": "text"
      },
      "source": [
        "###HDF5 files\n",
        "\n",
        "Files output by the MinKNOW instrument software and the Guppy basecalling software using the `.fast5` file extension are a [container file](https://en.wikipedia.org/wiki/Container_format_(computing)) using the [HDF5 format](https://en.wikipedia.org/wiki/Hierarchical_Data_Format). As such they are a self-describing file with all the necessary information to correctly interpret the data they contain.\n",
        "\n",
        "A Fast5 file differs from a generic HDF5 file in containing only a fixed, defined structure of data. This structure is elucidated in the [ont_h5_validator](https://github.com/nanoporetech/ont_h5_validator) repository on Github, specifically in the file [multi_read_fast5.yaml](https://github.com/nanoporetech/ont_h5_validator/blob/master/h5_validator/schemas/multi_read_fast5.yaml).\n",
        "\n",
        "> *Users are referred to the YAML schemas to gain an understanding of all the data contained in Fast5 files. Users are encouraged to raise Issues on the ont_h5_validator project if the schemas are unclear. The rest of this tutorial will be mostly practical in nature.*\n",
        "\n",
        "The schema file describes how the internal structure of a Fast5 file is laid out. There are three core concepts to understand:\n",
        "\n",
        "1. **Groups:** an HDF group acts similarly to a folder on a computer filesystem. Hierachies of groups can exist to organise data.\n",
        "2. **Datasets:** an HDF dataset contains generic data. This might range from simple text data like a Fastq record to a matrix of a complex datatype containing subfields of data.\n",
        "3. **Attributes:** both groups and datasets can be labelled with attributes. These are short data items, commonly meta data, that can be used to aid understanding of the data. For example a sequencing run identifier or a timestamp.\n",
        "\n",
        "An appreciation of these concepts is required for using the data contained within Fast5 files, though as we will see for common manipulations of Fast5 files users need only an awareness of these ideas.\n"
      ]
    },
    {
      "cell_type": "markdown",
      "metadata": {
        "id": "F7XVfEphnVAu",
        "colab_type": "text"
      },
      "source": [
        "### Fast5 Flavours\n",
        "\n",
        "Historically there have been two flavours of Fast5 files:\n",
        "\n",
        "*   Single-read files: each sequencing read was stored in a unique Fast5 file,\n",
        "*   Multi-read files: multiple reads are bundled into a single Fast5 file.\n",
        "\n",
        "The internal layout, in terms of groups and datasets, of these two flavours of Fast5 are very similar. In essence a multi-read file embeds the group hierarchy of multiple single-read files within one HDF5 container.\n",
        "\n",
        "Single-read files are deprecated and no longer used by MinKNOW or Guppy. We recommend that any single-read files are converted to multi-read files before further use or storage, how to do this is demonstrated later in this tutorial.\n"
      ]
    },
    {
      "cell_type": "markdown",
      "metadata": {
        "id": "rZuBNlyFxSgd",
        "colab_type": "text"
      },
      "source": [
        "### Overview of Fast5 contents\n",
        "\n",
        "As noted above the [ont_h5_validator](https://github.com/nanoporetech/ont_h5_validator) project contains a full description of the expected contents of a Fast5 file. Here we will briefly highlight the key groups and datasets stored within a Fast5 file.\n",
        "\n",
        "Using the dataset provided in above let's enumerate the contents of the first file using the `h5ls` program:\n"
      ]
    },
    {
      "cell_type": "code",
      "metadata": {
        "id": "8pnvxyeXyg2F",
        "colab_type": "code",
        "colab": {
          "base_uri": "https://localhost:8080/",
          "height": 340
        },
        "outputId": "f7467c36-7997-40c6-9c15-9e9823f3c36e"
      },
      "source": [
        "#   i) find and list all .fast5 files\n",
        "#  ii) take the first file\n",
        "# iii) use `h5ls` to list the file's contents\n",
        "#  iv) truncate the output to the first 19 lines\n",
        "!find \"$input_folder\" -name \"*.fast5\" \\\n",
        "    | head -n 1 \\\n",
        "    | xargs h5ls -r \\\n",
        "    | head -n 19"
      ],
      "execution_count": null,
      "outputs": [
        {
          "output_type": "stream",
          "text": [
            "/                        Group\r\n",
            "/read_00058fe1-e555-4a64-a41b-7f58fb7d6d6b Group\r\n",
            "/read_00058fe1-e555-4a64-a41b-7f58fb7d6d6b/Analyses Group\r\n",
            "/read_00058fe1-e555-4a64-a41b-7f58fb7d6d6b/Analyses/Basecall_1D_000 Group\r\n",
            "/read_00058fe1-e555-4a64-a41b-7f58fb7d6d6b/Analyses/Basecall_1D_000/BaseCalled_template Group\r\n",
            "/read_00058fe1-e555-4a64-a41b-7f58fb7d6d6b/Analyses/Basecall_1D_000/BaseCalled_template/Fastq Dataset {SCALAR}\r\n",
            "/read_00058fe1-e555-4a64-a41b-7f58fb7d6d6b/Analyses/Basecall_1D_000/BaseCalled_template/Move Dataset {12212}\r\n",
            "/read_00058fe1-e555-4a64-a41b-7f58fb7d6d6b/Analyses/Basecall_1D_000/BaseCalled_template/Trace Dataset {12212, 8}\r\n",
            "/read_00058fe1-e555-4a64-a41b-7f58fb7d6d6b/Analyses/Basecall_1D_000/Summary Group\r\n",
            "/read_00058fe1-e555-4a64-a41b-7f58fb7d6d6b/Analyses/Basecall_1D_000/Summary/basecall_1d_template Group\r\n",
            "/read_00058fe1-e555-4a64-a41b-7f58fb7d6d6b/Analyses/Segmentation_000 Group\r\n",
            "/read_00058fe1-e555-4a64-a41b-7f58fb7d6d6b/Analyses/Segmentation_000/Summary Group\r\n",
            "/read_00058fe1-e555-4a64-a41b-7f58fb7d6d6b/Analyses/Segmentation_000/Summary/segmentation Group\r\n",
            "/read_00058fe1-e555-4a64-a41b-7f58fb7d6d6b/Raw Group\r\n",
            "/read_00058fe1-e555-4a64-a41b-7f58fb7d6d6b/Raw/Signal Dataset {24688/Inf}\r\n",
            "/read_00058fe1-e555-4a64-a41b-7f58fb7d6d6b/channel_id Group\r\n",
            "/read_00058fe1-e555-4a64-a41b-7f58fb7d6d6b/context_tags Group\r\n",
            "/read_00058fe1-e555-4a64-a41b-7f58fb7d6d6b/tracking_id Group\r\n",
            "/read_000dd482-c0d5-4520-aa86-8ee8bb61fd58 Group\r\n"
          ],
          "name": "stdout"
        }
      ]
    },
    {
      "cell_type": "markdown",
      "metadata": {
        "id": "dknzrbM5zxD5",
        "colab_type": "text"
      },
      "source": [
        "The `h5ls` program can be used to display the datasets and groups of a Fast5 file. It can be used also to display attributes and more advanced properties of a file when given different options.\n",
        "\n",
        "From the sample file we see a hierarchy of groups and datasets. The highest of these is a group indicating a read together with the unique identifier of the read. Under this top level read group we have:\n",
        "\n",
        "* `Analyses`: contains derived datasets such as basecalling information,\n",
        "* `Raw`: the raw sequencer output, measurements of the ionic current through a nanopore as a function of time.\n",
        "* `channel_id`: information such as channel number and ASIC sampling rate\n",
        "* `context_tags`: information provided at runtime such as experiment type\n",
        "* `tracking_id`: information such as the unique run identified, flowcell identifier, and computer name. \n",
        "\n",
        "*For a full description of these fields see the documentation on the [Nanopore Community](https://community.nanoporetech.com/technical_documents/data-analysis).*\n",
        "\n",
        "For files generated by MinKNOW without live basecalling enabled, the `Analyses` section will be absent (or contain no subgroups). The sample file is one that has been created by Guppy using the `--fast5_out` option to produce Fast5 files in addition to `.fastq.gz` files containing solely the basecalls. The `Analyses` section listed above therefore contains two subgroups: `Segmentation_000` and `Basecall_1D_000`. The first of these contains information regarding how a read as been trimmed by the basecaller into seqeuncing adapter and, barcode and insert regions. The second contains the basecaller outputs, primarily the `Fastq` dataset but also two additional groups `Move` and `Trace` which contain advanced basecaller outputs. Again see the documentation in the Nanopore Community for a full description of these."
      ]
    },
    {
      "cell_type": "markdown",
      "metadata": {
        "id": "UwY-VfVLjXff",
        "colab_type": "text"
      },
      "source": [
        "### An aside on file indexing and compression\n",
        "\n",
        "The Fast5 files from a MinION run can become fairly sizeable, up to a few hundred gigabytes. Efficient and performant compression and indexing is therefore required.\n",
        "\n",
        "#### Indexing reads\n",
        "\n",
        "For the most part the self describing and indexed nature of the HDF5 format ensures that data within a file can be quickly retrieved. However for a MinION run multiple Fast5 files are created each with a subset of the sequencing reads produced by the sequencer. Therefore finding the information pertaining to a read of a known ID cannot be done without a supplementary index cross-referencing the reads contained within in file; the alternative is to open all the files in turn and enquire about their contents. ***The `sequencing_summary.txt` file produced by both MinKNOW and Guppy provides an index of the reads contained within in each Fast5 file***. This index can of course be reconstructed if required (as in the case of [nanopolish index](https://github.com/jts/nanopolish)), though we recommend always storing the sequencing summary with the Fast5 data files.\n",
        "\n",
        "#### File compression\n",
        "\n",
        "Due to the large volume of data created by nanopore sequencing devices Oxford Nanopore Technologies has developed a bespoke compression scheme for ionic current trace data known as [VBZ](https://github.com/nanoporetech/vbz_compression). VBZ is a combination of two open compression algorithms and is itself open and freely available from the Github [release page](https://github.com/nanoporetech/vbz_compression/releases/latest). Ordinarily it will not be necessary to install the VBZ compression library and HDF5 plugin to simply use MinKNOW and Guppy as these software applications include their own copy of VBZ. However if you wish to read Fast5 files using third party applications (such as [h5py](https://pypi.org/project/h5py/)) you will need to install the VBZ plugin."
      ]
    },
    {
      "cell_type": "markdown",
      "metadata": {
        "id": "aWGSqbj8d088",
        "colab_type": "text"
      },
      "source": [
        "## Manipulating Fast5 files\n",
        "\n",
        "The section above has given an outline to the data contained within a Fast5 file and how the file is arranged. Again for a more fulsome description of the contents of files users are directed to the [ont_h5_validator](https://github.com/nanoporetech/ont_h5_validator) project. In this section we will highlight several methods for manipulating the data contained within Fast5 files.\n",
        "\n",
        "Oxford Nanopore Technologies provides a Python-based software for accessing data stored within a set of Fast5 files: [ont_fast5_api](https://github.com/nanoporetech/ont_fast5_api). For the most part this set of tools hides from the user the need to understand anything about the nature of Fast5 files. Here we will show how to perform some common tasks that might be required when dealing with Fast5 files. For a guide in using `ont_fast5_api` programmatically please see the [documention](https://github.com/nanoporetech/ont_fast5_api#interface---get_fast5_file)."
      ]
    },
    {
      "cell_type": "markdown",
      "metadata": {
        "id": "_3T2_9hdh4Yp",
        "colab_type": "text"
      },
      "source": [
        "### Converting multi-read files to single-read files\n",
        "\n",
        "Since some older programs have not been updated to use multi-read files it can sometimes be necessary to convert such files to the deprecated single-read flavour. To do this run:"
      ]
    },
    {
      "cell_type": "code",
      "metadata": {
        "id": "k9vSwWpbiO6Y",
        "colab_type": "code",
        "colab": {
          "base_uri": "https://localhost:8080/",
          "height": 34
        },
        "outputId": "1cddde97-4e18-4cfe-ef5b-ea200776e17d"
      },
      "source": [
        "!rm -rf $output_folder/single-reads\n",
        "!run multi_to_single_fast5 \\\n",
        "    --input_path $input_folder --save_path $output_folder/single-reads \\\n",
        "    --recursive"
      ],
      "execution_count": null,
      "outputs": [
        {
          "output_type": "stream",
          "text": [
            "| 5 of 5|####################################################|100% Time: 0:00:34\n"
          ],
          "name": "stdout"
        }
      ]
    },
    {
      "cell_type": "markdown",
      "metadata": {
        "id": "l6xiTuA5lyvS",
        "colab_type": "text"
      },
      "source": [
        "The output of the above command is a set of folders each containing a subset of the sequencing reads, one read per file. The filename of each read corresponds to the read's unique identifier."
      ]
    },
    {
      "cell_type": "code",
      "metadata": {
        "id": "AmLZjrtxlmMX",
        "colab_type": "code",
        "colab": {
          "base_uri": "https://localhost:8080/",
          "height": 102
        },
        "outputId": "e9fd560d-2f47-4fef-bf7f-8b2cde8b33c6"
      },
      "source": [
        "!ls $output_folder/single-reads/0 2>/dev/null | head -n 5"
      ],
      "execution_count": null,
      "outputs": [
        {
          "output_type": "stream",
          "text": [
            "00058fe1-e555-4a64-a41b-7f58fb7d6d6b.fast5\r\n",
            "000dd482-c0d5-4520-aa86-8ee8bb61fd58.fast5\r\n",
            "00158d74-4b7f-445a-b0ac-e1606f6c09b7.fast5\r\n",
            "004a0bd2-edcf-4c2c-89bc-009a232cdb6a.fast5\r\n",
            "0057b9d1-e566-4518-8b81-f69b30c6da99.fast5\r\n"
          ],
          "name": "stdout"
        }
      ]
    },
    {
      "cell_type": "markdown",
      "metadata": {
        "id": "phgy6o6blGg-",
        "colab_type": "text"
      },
      "source": [
        "### Converting single-read to multi-read files\n",
        "\n",
        "A similar program exists to convert single-read files to multi-read files. We recommend that all datasets are updated to multi-read files for longer term storage. Here we will convert the single-reads created above back to multi-read files:"
      ]
    },
    {
      "cell_type": "code",
      "metadata": {
        "id": "exlBq8PWlYo7",
        "colab_type": "code",
        "colab": {
          "base_uri": "https://localhost:8080/",
          "height": 34
        },
        "outputId": "1181b2a3-f928-4b8f-fb8f-7a0ade47c5e7"
      },
      "source": [
        "!rm -rf $output_folder/multi-reads\n",
        "!run single_to_multi_fast5 \\\n",
        "    --input_path $output_folder/single-reads --save_path $output_folder/multi-reads \\\n",
        "    --filename_base prefix --batch_size 8000 --recursive"
      ],
      "execution_count": null,
      "outputs": [
        {
          "output_type": "stream",
          "text": [
            "| 3 of 3|####################################################|100% Time: 0:00:55\n"
          ],
          "name": "stdout"
        }
      ]
    },
    {
      "cell_type": "markdown",
      "metadata": {
        "id": "R8ZX6RzwnDsJ",
        "colab_type": "text"
      },
      "source": [
        "The output of this command is a single directory containing all multi-read files. The filenames are prefixed with `prefix` as taken by the `--filename_base` argument of the program. The `--batch_size` argument here controls the number of reads per file:"
      ]
    },
    {
      "cell_type": "code",
      "metadata": {
        "id": "-xU2TkgBm7_q",
        "colab_type": "code",
        "colab": {
          "base_uri": "https://localhost:8080/",
          "height": 34
        },
        "outputId": "9835855e-6f68-4f04-d0fa-b44f7f244795"
      },
      "source": [
        "!ls $output_folder/multi-reads"
      ],
      "execution_count": null,
      "outputs": [
        {
          "output_type": "stream",
          "text": [
            "filename_mapping.txt  prefix_0.fast5  prefix_1.fast5  prefix_2.fast5\r\n"
          ],
          "name": "stdout"
        }
      ]
    },
    {
      "cell_type": "markdown",
      "metadata": {
        "id": "tteaP7dGnj__",
        "colab_type": "text"
      },
      "source": [
        "The `filename_mapping.txt` cross-references the data from the input files with the output files."
      ]
    },
    {
      "cell_type": "code",
      "metadata": {
        "id": "Hwrm94ajnoq9",
        "colab_type": "code",
        "colab": {
          "base_uri": "https://localhost:8080/",
          "height": 187
        },
        "outputId": "998b9064-ed59-4e89-df50-b6693d88c2ce"
      },
      "source": [
        "!head $output_folder/multi-reads/filename_mapping.txt"
      ],
      "execution_count": null,
      "outputs": [
        {
          "output_type": "stream",
          "text": [
            "26cb0f7d-8db2-4e2d-aa4e-9d273ccf1d66.fast5\tanalysis/multi-reads/prefix_0.fast5\r\n",
            "b4441e24-a5d3-4357-bc24-4a169520d096.fast5\tanalysis/multi-reads/prefix_0.fast5\r\n",
            "5d63b4ae-e9c7-43cb-b73c-7b3bc7facd57.fast5\tanalysis/multi-reads/prefix_0.fast5\r\n",
            "5880c8b8-5c67-45cd-9082-2be09a7fc1d4.fast5\tanalysis/multi-reads/prefix_0.fast5\r\n",
            "77d557c6-2154-4792-ad2d-49c9ca5f4bdd.fast5\tanalysis/multi-reads/prefix_0.fast5\r\n",
            "afa10699-8648-4e7a-8bec-86118f202e8d.fast5\tanalysis/multi-reads/prefix_0.fast5\r\n",
            "fb15566d-370c-478e-a190-d4221407e500.fast5\tanalysis/multi-reads/prefix_0.fast5\r\n",
            "34465bd4-2335-4390-8675-daef5390ea79.fast5\tanalysis/multi-reads/prefix_0.fast5\r\n",
            "67b3c07c-c4db-40e9-a18b-c10c8eeb70f5.fast5\tanalysis/multi-reads/prefix_0.fast5\r\n",
            "133ac0a7-54d4-4681-8653-49b174fe6e7c.fast5\tanalysis/multi-reads/prefix_0.fast5\r\n"
          ],
          "name": "stdout"
        }
      ]
    },
    {
      "cell_type": "markdown",
      "metadata": {
        "id": "a9Rc7fJFoVAv",
        "colab_type": "text"
      },
      "source": [
        "### Creating a listing of reads within multi-read files\n",
        "\n",
        "As mentioned in the discussion above it can be useful to have an index of which reads are contained within which multi-read files. Usually this indexing is provided by the `sequencing_summary.txt` file output by MinKNOW and Guppy. However if it is lost, here's a way to recover the information:"
      ]
    },
    {
      "cell_type": "code",
      "metadata": {
        "id": "0ZBWcQuVowtR",
        "colab_type": "code",
        "colab": {}
      },
      "source": [
        "# build a script that will do the work\n",
        "with open(\"build_read_index.sh\", 'w') as fh:\n",
        "    fh.write(\n",
        "        '''\n",
        "        echo -e \"filename\\tread_id\"\n",
        "        find $1 -name \"*.fast5\" \\\\\n",
        "        | parallel --tag h5ls -f -r \\\\\n",
        "        | grep \"read_.\\{8\\}-.\\{4\\}-.\\{4\\}-.\\{4\\}-.\\{12\\} Group\" \\\\\n",
        "        | sed \"s# Group##\" | sed \"s#/read_##\"\n",
        "        ''')\n",
        "# run the script\n",
        "!bash build_read_index.sh $input_folder > read_index.txt"
      ],
      "execution_count": null,
      "outputs": []
    },
    {
      "cell_type": "markdown",
      "metadata": {
        "id": "ss0VI98o0M5i",
        "colab_type": "text"
      },
      "source": [
        "The `read_index.txt` output file contains the simple index we desire:"
      ]
    },
    {
      "cell_type": "code",
      "metadata": {
        "id": "6KWKRzCn0UVN",
        "colab_type": "code",
        "colab": {
          "base_uri": "https://localhost:8080/",
          "height": 187
        },
        "outputId": "fca17a6f-52e7-4ad0-cf6b-8beb2bd8a925"
      },
      "source": [
        "!head read_index.txt"
      ],
      "execution_count": null,
      "outputs": [
        {
          "output_type": "stream",
          "text": [
            "filename\tread_id\r\n",
            "/epi2melabs/fast5-tutorial/sample_fast5/workspace/FAK42335_2bf4f211a2e2d04662e50f27448cfd99dafbd7ee_400.fast5\t00085dbe-217a-40f2-90c0-3bb15669f32c\r\n",
            "/epi2melabs/fast5-tutorial/sample_fast5/workspace/FAK42335_2bf4f211a2e2d04662e50f27448cfd99dafbd7ee_400.fast5\t00237911-92b3-49b4-9d13-2ea6a2ded996\r\n",
            "/epi2melabs/fast5-tutorial/sample_fast5/workspace/FAK42335_2bf4f211a2e2d04662e50f27448cfd99dafbd7ee_400.fast5\t0025338c-3ea8-4168-b999-fe7f7fd597ee\r\n",
            "/epi2melabs/fast5-tutorial/sample_fast5/workspace/FAK42335_2bf4f211a2e2d04662e50f27448cfd99dafbd7ee_400.fast5\t00408494-e245-401e-8c9a-575ee491971b\r\n",
            "/epi2melabs/fast5-tutorial/sample_fast5/workspace/FAK42335_2bf4f211a2e2d04662e50f27448cfd99dafbd7ee_400.fast5\t00485ea4-a2fc-4b75-9969-9f1b1ab997da\r\n",
            "/epi2melabs/fast5-tutorial/sample_fast5/workspace/FAK42335_2bf4f211a2e2d04662e50f27448cfd99dafbd7ee_400.fast5\t004fbd46-3565-4505-8ade-bfa5bffa499b\r\n",
            "/epi2melabs/fast5-tutorial/sample_fast5/workspace/FAK42335_2bf4f211a2e2d04662e50f27448cfd99dafbd7ee_400.fast5\t0067fb48-9e65-415a-966a-fbf25c62e730\r\n",
            "/epi2melabs/fast5-tutorial/sample_fast5/workspace/FAK42335_2bf4f211a2e2d04662e50f27448cfd99dafbd7ee_400.fast5\t0091aa27-0f2f-4e79-bb6e-6bfa1629326b\r\n",
            "/epi2melabs/fast5-tutorial/sample_fast5/workspace/FAK42335_2bf4f211a2e2d04662e50f27448cfd99dafbd7ee_400.fast5\t00a52e30-a584-4ed8-97cf-074c601b0403\r\n"
          ],
          "name": "stdout"
        }
      ]
    },
    {
      "cell_type": "markdown",
      "metadata": {
        "id": "j4O4xUGz13VQ",
        "colab_type": "text"
      },
      "source": [
        "### Filtering multi-reads by reference locus\n",
        "\n",
        "The program `fast5_subset` within `ont_fast5_api` can be used to create a new file set containing only a subset of reads.\n",
        "\n",
        "The sample data contains data from a microbial mock community. Using the accompanying BAM alignment file lets find the reads with align to a single reference sequence:"
      ]
    },
    {
      "cell_type": "code",
      "metadata": {
        "id": "2GR_o_GZ2Uae",
        "colab_type": "code",
        "colab": {
          "base_uri": "https://localhost:8080/",
          "height": 34
        },
        "outputId": "40540e9b-58bc-4951-a2e4-93fd15565533"
      },
      "source": [
        "!rm -rf read_list.txt\n",
        "!echo \"read_id\" > read_list.txt\n",
        "!samtools view fast5_sample.bam lfermentum \\\n",
        "    | awk '{print $1}' \\\n",
        "    | tee -a read_list.txt \\\n",
        "    | echo \"Found\" $(wc -l) \"reads\""
      ],
      "execution_count": null,
      "outputs": [
        {
          "output_type": "stream",
          "text": [
            "Found 1100 reads\r\n"
          ],
          "name": "stdout"
        }
      ]
    },
    {
      "cell_type": "markdown",
      "metadata": {
        "id": "VQnWHNGd6EPI",
        "colab_type": "text"
      },
      "source": [
        "We can now use this file with the subsetting program:"
      ]
    },
    {
      "cell_type": "code",
      "metadata": {
        "id": "EhRREF3Y6QEU",
        "colab_type": "code",
        "colab": {
          "base_uri": "https://localhost:8080/",
          "height": 68
        },
        "outputId": "2ef5849d-63df-4249-9a97-ec59a3dd6339"
      },
      "source": [
        "!echo $input_folder\n",
        "!rm -rf $output_folder/lfermentum\n",
        "!run fast5_subset --input $input_folder --save_path $output_folder/lfermentum \\\n",
        "    --read_id_list read_list.txt --batch_size 8000 --recursive"
      ],
      "execution_count": null,
      "outputs": [
        {
          "output_type": "stream",
          "text": [
            "/epi2melabs/fast5_tutorial/sample_fast5\n",
            "| 1105 of 1105|##############################################|100% Time: 0:00:02\n",
            "INFO:Fast5Filter:1100 reads extracted\n"
          ],
          "name": "stdout"
        }
      ]
    },
    {
      "cell_type": "markdown",
      "metadata": {
        "id": "ieE1ohj02U-Q",
        "colab_type": "text"
      },
      "source": [
        "### Cleaning multi-read files of `Analyses` groups\n",
        "\n",
        "It can be the case that it is desirable to remove the `Analyses` groups from multi-read files. For example if live basecalling were performed during a run but these results are not wanted before data is archived.\n",
        "\n",
        "To accomplish this task we will use the `compress_fast5` program with the `--sanitize` option:"
      ]
    },
    {
      "cell_type": "code",
      "metadata": {
        "id": "Ex-onLIXf2UE",
        "colab_type": "code",
        "colab": {
          "base_uri": "https://localhost:8080/",
          "height": 34
        },
        "outputId": "e597fee4-7ec3-49d0-9c79-ea49f648ef35"
      },
      "source": [
        "!rm -rf $output_folder/sanitized\n",
        "!run compress_fast5 --input_path $input_folder --save_path $output_folder/sanitize \\\n",
        "    --compression vbz --recursive --threads 8 --sanitize"
      ],
      "execution_count": null,
      "outputs": [
        {
          "output_type": "stream",
          "text": [
            "| 5 of 5|####################################################|100% Time: 0:00:12\n"
          ],
          "name": "stdout"
        }
      ]
    },
    {
      "cell_type": "markdown",
      "metadata": {
        "id": "Mvp_Ynmmg5Qs",
        "colab_type": "text"
      },
      "source": [
        "This achieves an approximate 3.5X reduction in filesize:"
      ]
    },
    {
      "cell_type": "code",
      "metadata": {
        "id": "LTMmapAYg_5V",
        "colab_type": "code",
        "colab": {
          "base_uri": "https://localhost:8080/",
          "height": 51
        },
        "outputId": "f534cc48-61c2-4695-facc-ac7a7dbb601a"
      },
      "source": [
        "!du -sh $input_folder $output_folder/sanitize"
      ],
      "execution_count": null,
      "outputs": [
        {
          "output_type": "stream",
          "text": [
            "2.4G\t/epi2melabs/fast5_tutorial/sample_fast5\r\n",
            "682M\tanalysis/sanitize\r\n"
          ],
          "name": "stdout"
        }
      ]
    },
    {
      "cell_type": "markdown",
      "metadata": {
        "colab_type": "text",
        "id": "iF7WILGOwbI3"
      },
      "source": [
        "## Summary\n",
        "\n",
        "In this notebook we have introduced the Variant Call Format with an examplar file from the Medaka consensus and variant calling program. We have outlined the contents of such files and how they can be intepreted with a selection of common software packages.\n",
        "\n",
        "The code tools presented here can be run on any dataset from an Oxford Nanopore Technologies' device. The code will run within **Google Colab** when connected to a local **EPI2ME Labs** notebook server.\n",
        "\n",
        "[Back to EPI2ME Labs](https://colab.research.google.com/github/epi2me-labs/resources/blob/master/welcome.ipynb)\n"
      ]
    }
  ]
}