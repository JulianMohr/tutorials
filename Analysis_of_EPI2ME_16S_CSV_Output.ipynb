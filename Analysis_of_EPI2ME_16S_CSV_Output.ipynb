{
  "nbformat": 4,
  "nbformat_minor": 0,
  "metadata": {
    "colab": {
      "name": "Analysis of EPI2ME 16S CSV Output",
      "provenance": [],
      "toc_visible": true,
      "include_colab_link": true
    },
    "kernelspec": {
      "name": "python3",
      "display_name": "Python 3"
    }
  },
  "cells": [
    {
      "cell_type": "markdown",
      "metadata": {
        "id": "view-in-github",
        "colab_type": "text"
      },
      "source": [
        "<a href=\"https://colab.research.google.com/github/epi2me-labs/tutorials/blob/master/Analysis_of_EPI2ME_16S_CSV_Output.ipynb\" target=\"_parent\"><img src=\"https://colab.research.google.com/assets/colab-badge.svg\" alt=\"Open In Colab\"/></a>"
      ]
    },
    {
      "cell_type": "markdown",
      "metadata": {
        "id": "zi0qlCihO7qt",
        "colab_type": "text"
      },
      "source": [
        "<h1>Analysis of EPI2ME 16S CSV Output</h1>\n",
        "\n",
        "The EPI2ME 16S (and WIMP) analyses allow the download of a summary table of the results. However this table does not contain full lineage information and so it is not immediately useful to create the Sankey tree diagrams that EPI2ME displays in its web interface.\n",
        "\n",
        "The following short code fragments, demonstrate how to decorate the EPI2ME data table and aggregate the read counts. \n",
        "\n",
        "An example 16S report can be found [here](https://epi2me.nanoporetech.com/workflow_instance/242318?token=6FF8C4B6-D055-11EA-A7B7-23477BC332F9).\n"
      ]
    },
    {
      "cell_type": "markdown",
      "metadata": {
        "id": "qrjV7yL2SH7E",
        "colab_type": "text"
      },
      "source": [
        "## Workflow\n",
        "\n",
        "The following section downloads some necessary pieces of software to decorate the EPI2ME results file with lineage information. There is no need to read through this section if you are not interested in how the code operates. Just skip to the **Data Input** section."
      ]
    },
    {
      "cell_type": "markdown",
      "metadata": {
        "id": "8AmfULDmSGDK",
        "colab_type": "text"
      },
      "source": [
        "In order to decorate the file with lineage information we will use the [taxonkit](https://bioinf.shenwei.me/taxonkit/) tool. The codebox below will download this tool and also `csvkit` which we will use to convert the EPI2ME file from a comma-separated file to a tab-seperated file (which taxonkit requires)"
      ]
    },
    {
      "cell_type": "code",
      "metadata": {
        "id": "fp0LkID3O6ef",
        "colab_type": "code",
        "colab": {}
      },
      "source": [
        "analysis_dir = \"/epi2melabs/16s_lineage/\"\n",
        "!mkdir -p \"$analysis_dir\"\n",
        "%cd \"$analysis_dir\"\n",
        "!pip install csvkit\n",
        "!wget https://github.com/shenwei356/taxonkit/releases/download/v0.6.0/taxonkit_linux_amd64.tar.gz\n",
        "!tar -xzvf taxonkit_linux_amd64.tar.gz"
      ],
      "execution_count": null,
      "outputs": []
    },
    {
      "cell_type": "markdown",
      "metadata": {
        "id": "hRevzQLkS4Uj",
        "colab_type": "text"
      },
      "source": [
        "Taxonkit requires the NCBI taxonomy database to function, let's download and decompress that:"
      ]
    },
    {
      "cell_type": "code",
      "metadata": {
        "id": "kRymjn8YTCDn",
        "colab_type": "code",
        "colab": {}
      },
      "source": [
        "!mkdir -p \"$analysis_dir\"/taxdump\n",
        "%cd \"$analysis_dir/taxdump\"\n",
        "!wget http://ftp.ncbi.nih.gov/pub/taxonomy/taxdump.tar.gz\n",
        "!tar -xzvf taxdump.tar.gz\n",
        "%cd .."
      ],
      "execution_count": null,
      "outputs": []
    },
    {
      "cell_type": "markdown",
      "metadata": {
        "id": "MAJ2G8eGTQDm",
        "colab_type": "text"
      },
      "source": [
        "We now have all we need to get going:\n",
        "- the EPI2ME results\n",
        "- taxonkit\n",
        "- The NCBI taxonomy\n",
        "\n",
        "Let's first write a code function (that will be used in the **Analysis** section) to read in and perform several conversions on the EPI2ME file:"
      ]
    },
    {
      "cell_type": "code",
      "metadata": {
        "id": "eYjh7-nFTozR",
        "colab_type": "code",
        "colab": {}
      },
      "source": [
        "import pandas as pd\n",
        "def parse_epi2me(fname):\n",
        "    dirname = os.path.dirname(fname)\n",
        "    tsvtmp = os.path.join(dirname, \"epi2me2lineage.tsv\")\n",
        "    lintmp = os.path.join(dirname, \"epi2me2lineage.lin.tmp\")\n",
        "    fmttmp = os.path.join(dirname, \"epi2me2lineage.fmt.tmp\")\n",
        "\n",
        "    print(\"Converting to TSV\")\n",
        "    !csvformat -T \"$fname\" > \"$tsvtmp\"\n",
        "    print(\"Running lineage\")\n",
        "    !\"$analysis_dir/taxonkit\" lineage --data-dir taxdump \"$tsvtmp\" -i 5 2>/dev/null > \"$lintmp\"\n",
        "    print(\"Running reformat\")\n",
        "    !\"$analysis_dir/taxonkit\" reformat --data-dir taxdump -i 12 \"$lintmp\" 2>/dev/null > \"$fmttmp\"\n",
        "    print(\"Munging data\")\n",
        "    epi2me = pd.read_csv(fmttmp, sep='\\t')\n",
        "    # rename some columns so they don't clash with the lineage info\n",
        "    epi2me.columns = epi2me.columns[0:len(epi2me.columns)-2].to_list() + ['_lineage', 'lineage']\n",
        "    epi2me = epi2me.rename(columns={'species': 'species_name', 'genus':'genus_name'})\n",
        "    # extract the lineage info into its on columns in the table\n",
        "    lineage = epi2me['lineage'].str.split(\";\", expand=True)\n",
        "    lineage.columns = ['kingdom', 'phylum', 'class', 'order', 'family','genus', 'species']\n",
        "    epi2me = pd.concat((epi2me, lineage), axis=1)\n",
        "    !rm -rf \"$tsvtmp\" \"$lintmp\" \"$fmttmp\"\n",
        "    return epi2me"
      ],
      "execution_count": 13,
      "outputs": []
    },
    {
      "cell_type": "markdown",
      "metadata": {
        "id": "11YpdKtOQlCH",
        "colab_type": "text"
      },
      "source": [
        "## Data Input\n",
        "\n",
        "To upload your own EPI2ME results file first right-click and select `Upload`:"
      ]
    },
    {
      "cell_type": "markdown",
      "metadata": {
        "id": "HXJvnaqtLj4g",
        "colab_type": "text"
      },
      "source": [
        "![image.png](data:image/png;base64,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)"
      ]
    },
    {
      "cell_type": "markdown",
      "metadata": {
        "id": "rjWESTBPLnop",
        "colab_type": "text"
      },
      "source": [
        "and then right-click on the file an click `Copy path`:"
      ]
    },
    {
      "cell_type": "markdown",
      "metadata": {
        "id": "1wooR-UdL1Wo",
        "colab_type": "text"
      },
      "source": [
        "![image.png](data:image/png;base64,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)"
      ]
    },
    {
      "cell_type": "markdown",
      "metadata": {
        "id": "SK8uX62AMGb1",
        "colab_type": "text"
      },
      "source": [
        "Paste the filepath into the `epi2me_results_file` text box below (remembering to uncheck the `use_sample_data` checkbox)."
      ]
    },
    {
      "cell_type": "markdown",
      "metadata": {
        "id": "BBv_J4toLWaR",
        "colab_type": "text"
      },
      "source": [
        "![image.png](data:image/png;base64,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)"
      ]
    },
    {
      "cell_type": "markdown",
      "metadata": {
        "id": "o9Nd92uc6qmZ",
        "colab_type": "text"
      },
      "source": [
        "Please select to use the sample data, or enter your own."
      ]
    },
    {
      "cell_type": "code",
      "metadata": {
        "id": "T12Yq4b2ReOw",
        "colab_type": "code",
        "cellView": "form",
        "colab": {}
      },
      "source": [
        "import os\n",
        "use_sample_data = True #@param {type:\"boolean\"}\n",
        "epi2me_results_file = \"\" #@param {type:\"string\"}\n",
        "#@markdown Output file for annotated table:\n",
        "annotated_output = \"/epi2melabs/16s_lineage/epi2me_results_with_lineage.csv\" #@param {type:\"string\"}\n",
        "\n",
        "if use_sample_data:\n",
        "    print(\"Using sample data\")\n",
        "    bucket = \"ont-exd-int-s3-euwst1-epi2me-labs\"\n",
        "    domain = \"s3-eu-west-1.amazonaws.com\"\n",
        "    site = \"https://{}.{}\".format(bucket, domain)\n",
        "    \n",
        "    fname = \"242318_classification_16s_barcode-v1.csv\"\n",
        "    \n",
        "    !echo \"Downloading sample data\"\n",
        "    !wget -q $site/misc/$fname \\\n",
        "        && echo \"Download complete\" || echo \"Download failed\"\n",
        "    !echo\n",
        "    epi2me_results_file = os.path.abspath(fname)\n",
        "else:\n",
        "    print(\"Using user provided file: {}\".format(epi2me_results_file))\n",
        "if not os.path.isfile(epi2me_results_file):\n",
        "    print(\"File does not exist\")\n",
        "print(\"\\nFirst 10 lines of file:\")\n",
        "!head \"$epi2me_results_file\" || echo \"File not readable\""
      ],
      "execution_count": null,
      "outputs": []
    },
    {
      "cell_type": "markdown",
      "metadata": {
        "id": "9rnzviLV6V0d",
        "colab_type": "text"
      },
      "source": [
        "After entering your inputs below, select `Runtime > Run all` from the\n",
        "menu at the top of the page. If you need to analyse a second file just come back here, change `epi2me_results_file` to a new value and then select `Runtime > Run after`."
      ]
    },
    {
      "cell_type": "markdown",
      "metadata": {
        "id": "ybEYafpESn_J",
        "colab_type": "text"
      },
      "source": [
        "![image.png](data:image/png;base64,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)"
      ]
    },
    {
      "cell_type": "markdown",
      "metadata": {
        "id": "wdfANYukVWwb",
        "colab_type": "text"
      },
      "source": [
        "## Analysis\n",
        "\n",
        "We will first read the input file, annotate it with the lineage information, and write out the annotated table."
      ]
    },
    {
      "cell_type": "code",
      "metadata": {
        "id": "a_fKlB1g3WAS",
        "colab_type": "code",
        "colab": {}
      },
      "source": [
        "epi2me = parse_epi2me(epi2me_results_file)\n",
        "epi2me.to_csv(annotated_output)\n",
        "print(\"Annotated data table written to: {}. Download from the filebrowser.\".format(annotated_output))"
      ],
      "execution_count": null,
      "outputs": []
    },
    {
      "cell_type": "markdown",
      "metadata": {
        "id": "zUVy5jCY4rbr",
        "colab_type": "text"
      },
      "source": [
        "The output table is the same as the input EPI2ME results file with additional columns indicating the taxonomic ranks to with each read has been assigned. For example, here is the start of the table:"
      ]
    },
    {
      "cell_type": "code",
      "metadata": {
        "id": "EoULxcwm4wDd",
        "colab_type": "code",
        "colab": {}
      },
      "source": [
        "display(epi2me.head())"
      ],
      "execution_count": null,
      "outputs": []
    },
    {
      "cell_type": "markdown",
      "metadata": {
        "id": "AlMF-BEY4GXX",
        "colab_type": "text"
      },
      "source": [
        "With this data table we can now extract counts of reads at any of the taxonomic ranks, for example:"
      ]
    },
    {
      "cell_type": "code",
      "metadata": {
        "id": "Rky1llBzUmPU",
        "colab_type": "code",
        "cellView": "form",
        "colab": {}
      },
      "source": [
        "#@markdown **Aggregate counts by rank**\n",
        "\n",
        "#@markdown Select a rank to aggregate read counts and then click the `Play` button\n",
        "#@markdown to the left-hand side.\n",
        "aggregation_rank = \"kingdom\" #@param ['kingdom', 'phylum', 'class', 'order', 'family','genus', 'species']\n",
        "\n",
        "results = (\n",
        "    epi2me[aggregation_rank]\n",
        "    .value_counts()\n",
        "    .reset_index()\n",
        "    .rename(columns={'index':aggregation_rank, aggregation_rank:'count'}))\n",
        "display(results.head())\n",
        "output = 'aggregated_counts_by_{}.csv'.format(aggregation_rank)\n",
        "results.to_csv(output)\n",
        "print(\"Results written to {}, download from the filebrowser.\".format(output))\n"
      ],
      "execution_count": null,
      "outputs": []
    },
    {
      "cell_type": "markdown",
      "metadata": {
        "id": "b0PF5w0RVoc9",
        "colab_type": "text"
      },
      "source": [
        "### Some notes\n",
        "\n",
        "The EPI2ME table provides a `taxid`, `species_taxid` and a `genus_taxid`. EPI2ME provides some sanity checking on its classification. If the top hits of a read are from different genera the `taxid` will be empty, that is to say the read is \"Unclassified\". The code above is using the value of the `taxid` field to derive the lineage information."
      ]
    }
  ]
}