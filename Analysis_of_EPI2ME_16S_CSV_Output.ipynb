{
  "nbformat": 4,
  "nbformat_minor": 0,
  "metadata": {
    "colab": {
      "name": "Analysis of EPI2ME 16S CSV Output",
      "provenance": [],
      "authorship_tag": "ABX9TyOwmi+erbc+hQ0aJhHnmPhg",
      "include_colab_link": true
    },
    "kernelspec": {
      "name": "python3",
      "display_name": "Python 3"
    }
  },
  "cells": [
    {
      "cell_type": "markdown",
      "metadata": {
        "id": "view-in-github",
        "colab_type": "text"
      },
      "source": [
        "<a href=\"https://colab.research.google.com/github/epi2me-labs/tutorials/blob/master/Analysis_of_EPI2ME_16S_CSV_Output.ipynb\" target=\"_parent\"><img src=\"https://colab.research.google.com/assets/colab-badge.svg\" alt=\"Open In Colab\"/></a>"
      ]
    },
    {
      "cell_type": "markdown",
      "metadata": {
        "id": "zi0qlCihO7qt",
        "colab_type": "text"
      },
      "source": [
        "<h1>Analysis of EPI2ME 16S CSV Output</h1>\n",
        "\n",
        "The EPI2ME 16S (and WIMP) analyses allow the download of a summary table of the results. However this table does not contain full lineage information and so it is not immediately useful to create the Sankey tree diagrams that EPI2ME displays in its web interface.\n",
        "\n",
        "The following short code fragments, demonstrate how to decorate the EPI2ME data table and aggregate the read counts. \n",
        "\n",
        "\n",
        "An example 16S report can be found [here](https://epi2me.nanoporetech.com/workflow_instance/242318?token=6FF8C4B6-D055-11EA-A7B7-23477BC332F9). The code box below will download the corresponding CSV output file."
      ]
    },
    {
      "cell_type": "code",
      "metadata": {
        "id": "T12Yq4b2ReOw",
        "colab_type": "code",
        "colab": {
          "base_uri": "https://localhost:8080/",
          "height": 238
        },
        "outputId": "38a6633c-06d6-453a-de8c-2ab63e191433"
      },
      "source": [
        "bucket = \"ont-exd-int-s3-euwst1-epi2me-labs\"\n",
        "domain = \"s3-eu-west-1.amazonaws.com\"\n",
        "site = \"https://{}.{}\".format(bucket, domain)\n",
        "\n",
        "filename = \"242318_classification_16s_barcode-v1.csv\"\n",
        "\n",
        "!echo \"Downloading sample data\"\n",
        "!wget -q $site/misc/242318_classification_16s_barcode-v1.csv \\\n",
        "    && echo \"Download complete\" || echo \"Download failed\"\n",
        "!echo\n",
        "!head 242318_classification_16s_barcode-v1.csv || echo \"File not readable\""
      ],
      "execution_count": 5,
      "outputs": [
        {
          "output_type": "stream",
          "text": [
            "Downloading sample data\n",
            "Download complete\n",
            "\n",
            "readid,runid,barcode,exit_status,taxid,species_taxid,species,accuracy,genus_taxid,genus,lca\n",
            "0003c930-069c-4c63-a8df-1a0ca50992c4,711db73c212e422fad11ca3c0ed596fc,NA,Classification successful,404937,404937,Anoxybacillus thermarum,93.88,150247,Anoxybacillus,0\n",
            "000d4674-7d99-4fed-8ba6-ab5781ab95b7,711db73c212e422fad11ca3c0ed596fc,NA,Classification successful,43657,43657,Pseudoalteromonas luteoviolacea,93.37,53246,Pseudoalteromonas,0\n",
            "00248183-faee-4f5b-a9fe-feb8e241db92,711db73c212e422fad11ca3c0ed596fc,NA,Classification successful,1855725,1855725,Mucilaginibacter antarcticus,95.5,423349,Mucilaginibacter,0\n",
            "0029656e-5028-48e5-8822-0ba770d9ccf6,711db73c212e422fad11ca3c0ed596fc,NA,Classification successful,878213,878213,Actinomycetospora iriomotensis,92.25,402649,Actinomycetospora,0\n",
            "002b9804-6cd0-42cd-b86e-6c71cf01bf4e,711db73c212e422fad11ca3c0ed596fc,NA,Classification successful,2027860,2027860,Mucilaginibacter rubeus,93.07,423349,Mucilaginibacter,0\n",
            "00396073-4fe8-4e10-bd12-16528ce3682d,711db73c212e422fad11ca3c0ed596fc,NA,Classification successful,683125,683125,Sphingobacterium wenxiniae,94.89,28453,Sphingobacterium,0\n",
            "0047d120-0f9d-4a6d-bcca-ec0b1071d019,711db73c212e422fad11ca3c0ed596fc,NA,Classification successful,549298,549298,Francisella halioticida,93.2,262,Francisella,0\n",
            "007e8fce-05ac-48a0-807d-0d8d220796cc,711db73c212e422fad11ca3c0ed596fc,NA,Classification successful,2058154,2058154,Sphingopyxis nepalensis,93.04,165697,Sphingopyxis,0\n",
            "00846e60-1c95-488a-9241-f692d9c33fd8,711db73c212e422fad11ca3c0ed596fc,NA,Classification successful,142864,142864,Cylindrospermum stagnale,91.95,56106,Cylindrospermum,0\n"
          ],
          "name": "stdout"
        }
      ]
    },
    {
      "cell_type": "markdown",
      "metadata": {
        "id": "qrjV7yL2SH7E",
        "colab_type": "text"
      },
      "source": [
        "In order to decorate the file with lineage information we will use the [taxonkit](https://bioinf.shenwei.me/taxonkit/) tool. The codebox below will download this tool and also `csvkit` which we will use to convert the EPI2ME file from a comma-separated file to a tab-seperated file (which taxonkit requires)"
      ]
    },
    {
      "cell_type": "code",
      "metadata": {
        "id": "fp0LkID3O6ef",
        "colab_type": "code",
        "colab": {}
      },
      "source": [
        "!pip install csvkit\n",
        "!wget https://github.com/shenwei356/taxonkit/releases/download/v0.6.0/taxonkit_linux_amd64.tar.gz\n",
        "!tar -xzvf taxonkit_linux_amd64.tar.gz"
      ],
      "execution_count": null,
      "outputs": []
    },
    {
      "cell_type": "markdown",
      "metadata": {
        "id": "hRevzQLkS4Uj",
        "colab_type": "text"
      },
      "source": [
        "Taxonkit requires the NCBI taxonomy database to function, let's download and decompress that:"
      ]
    },
    {
      "cell_type": "code",
      "metadata": {
        "id": "kRymjn8YTCDn",
        "colab_type": "code",
        "colab": {}
      },
      "source": [
        "!mkdir taxdump\n",
        "%cd taxdump\n",
        "!wget http://ftp.ncbi.nih.gov/pub/taxonomy/taxdump.tar.gz\n",
        "!tar -xzvf taxdump.tar.gz\n",
        "%cd .."
      ],
      "execution_count": null,
      "outputs": []
    },
    {
      "cell_type": "markdown",
      "metadata": {
        "id": "MAJ2G8eGTQDm",
        "colab_type": "text"
      },
      "source": [
        "We now have all we need to get going:\n",
        "- the EPI2ME results\n",
        "- taxonkit\n",
        "- The NCBI taxonomy\n",
        "\n",
        "Let's first write a code function to read in and perform several conversions on the EPI2ME file"
      ]
    },
    {
      "cell_type": "code",
      "metadata": {
        "id": "eYjh7-nFTozR",
        "colab_type": "code",
        "colab": {}
      },
      "source": [
        "import pandas as pd\n",
        "def parse_epi2me(fname):\n",
        "    fnametsv = fname + '.tsv'\n",
        "    print(\"Converting to TSV\")\n",
        "    !csvformat -T $fname > $fnametsv\n",
        "    print(\"Running lineage\")\n",
        "    !./taxonkit lineage --data-dir taxdump $fnametsv -i 5 > epi2me2lineage.tmp\n",
        "    print(\"Running reformat\")\n",
        "    !./taxonkit reformat --data-dir taxdump -i 12 epi2me2lineage.tmp > epi2me2lineage\n",
        "    print(\"Munging data\")\n",
        "    epi2me = pd.read_csv(\"epi2me2lineage\", sep='\\t')\n",
        "    # rename some columns so they don't clash with the lineage info\n",
        "    epi2me.columns = epi2me.columns[0:len(epi2me.columns)-2].to_list() + ['_lineage', 'lineage']\n",
        "    epi2me = epi2me.rename(columns={'species': 'species_name', 'genus':'genus_name'})\n",
        "    # extract the lineage info into its on columns in the table\n",
        "    lineage = epi2me['lineage'].str.split(\";\", expand=True)\n",
        "    lineage.columns = ['kingdom', 'phylum', 'class', 'order', 'family','genus', 'species']\n",
        "    epi2me = pd.concat((epi2me, lineage), axis=1)\n",
        "    return epi2me"
      ],
      "execution_count": 13,
      "outputs": []
    },
    {
      "cell_type": "markdown",
      "metadata": {
        "id": "QteblK2gUPG9",
        "colab_type": "text"
      },
      "source": [
        "And run the function on our example EPI2ME results:"
      ]
    },
    {
      "cell_type": "code",
      "metadata": {
        "id": "6h7TI702UTMG",
        "colab_type": "code",
        "colab": {
          "base_uri": "https://localhost:8080/",
          "height": 547
        },
        "outputId": "a7562cff-e316-4b6a-9f89-c579d418ca8d"
      },
      "source": [
        "epi2me = parse_epi2me(filename)\n",
        "display(epi2me.head())"
      ],
      "execution_count": 14,
      "outputs": [
        {
          "output_type": "stream",
          "text": [
            "Converting to TSV\n",
            "Running lineage\n",
            "Running reformat\n",
            "Munging data\n"
          ],
          "name": "stdout"
        },
        {
          "output_type": "display_data",
          "data": {
            "text/html": [
              "<div>\n",
              "<style scoped>\n",
              "    .dataframe tbody tr th:only-of-type {\n",
              "        vertical-align: middle;\n",
              "    }\n",
              "\n",
              "    .dataframe tbody tr th {\n",
              "        vertical-align: top;\n",
              "    }\n",
              "\n",
              "    .dataframe thead th {\n",
              "        text-align: right;\n",
              "    }\n",
              "</style>\n",
              "<table border=\"1\" class=\"dataframe\">\n",
              "  <thead>\n",
              "    <tr style=\"text-align: right;\">\n",
              "      <th></th>\n",
              "      <th>readid</th>\n",
              "      <th>runid</th>\n",
              "      <th>barcode</th>\n",
              "      <th>exit_status</th>\n",
              "      <th>taxid</th>\n",
              "      <th>species_taxid</th>\n",
              "      <th>species_name</th>\n",
              "      <th>accuracy</th>\n",
              "      <th>genus_taxid</th>\n",
              "      <th>genus_name</th>\n",
              "      <th>lca</th>\n",
              "      <th>_lineage</th>\n",
              "      <th>lineage</th>\n",
              "      <th>kingdom</th>\n",
              "      <th>phylum</th>\n",
              "      <th>class</th>\n",
              "      <th>order</th>\n",
              "      <th>family</th>\n",
              "      <th>genus</th>\n",
              "      <th>species</th>\n",
              "    </tr>\n",
              "  </thead>\n",
              "  <tbody>\n",
              "    <tr>\n",
              "      <th>0</th>\n",
              "      <td>0003c930-069c-4c63-a8df-1a0ca50992c4</td>\n",
              "      <td>711db73c212e422fad11ca3c0ed596fc</td>\n",
              "      <td>NaN</td>\n",
              "      <td>Classification successful</td>\n",
              "      <td>404937.0</td>\n",
              "      <td>404937.0</td>\n",
              "      <td>Anoxybacillus thermarum</td>\n",
              "      <td>93.88</td>\n",
              "      <td>150247.0</td>\n",
              "      <td>Anoxybacillus</td>\n",
              "      <td>0.0</td>\n",
              "      <td>cellular organisms;Bacteria;Terrabacteria grou...</td>\n",
              "      <td>Bacteria;Firmicutes;Bacilli;Bacillales;Bacilla...</td>\n",
              "      <td>Bacteria</td>\n",
              "      <td>Firmicutes</td>\n",
              "      <td>Bacilli</td>\n",
              "      <td>Bacillales</td>\n",
              "      <td>Bacillaceae</td>\n",
              "      <td>Anoxybacillus</td>\n",
              "      <td>Anoxybacillus thermarum</td>\n",
              "    </tr>\n",
              "    <tr>\n",
              "      <th>1</th>\n",
              "      <td>000d4674-7d99-4fed-8ba6-ab5781ab95b7</td>\n",
              "      <td>711db73c212e422fad11ca3c0ed596fc</td>\n",
              "      <td>NaN</td>\n",
              "      <td>Classification successful</td>\n",
              "      <td>43657.0</td>\n",
              "      <td>43657.0</td>\n",
              "      <td>Pseudoalteromonas luteoviolacea</td>\n",
              "      <td>93.37</td>\n",
              "      <td>53246.0</td>\n",
              "      <td>Pseudoalteromonas</td>\n",
              "      <td>0.0</td>\n",
              "      <td>cellular organisms;Bacteria;Proteobacteria;Gam...</td>\n",
              "      <td>Bacteria;Proteobacteria;Gammaproteobacteria;Al...</td>\n",
              "      <td>Bacteria</td>\n",
              "      <td>Proteobacteria</td>\n",
              "      <td>Gammaproteobacteria</td>\n",
              "      <td>Alteromonadales</td>\n",
              "      <td>Pseudoalteromonadaceae</td>\n",
              "      <td>Pseudoalteromonas</td>\n",
              "      <td>Pseudoalteromonas luteoviolacea</td>\n",
              "    </tr>\n",
              "    <tr>\n",
              "      <th>2</th>\n",
              "      <td>00248183-faee-4f5b-a9fe-feb8e241db92</td>\n",
              "      <td>711db73c212e422fad11ca3c0ed596fc</td>\n",
              "      <td>NaN</td>\n",
              "      <td>Classification successful</td>\n",
              "      <td>1855725.0</td>\n",
              "      <td>1855725.0</td>\n",
              "      <td>Mucilaginibacter antarcticus</td>\n",
              "      <td>95.50</td>\n",
              "      <td>423349.0</td>\n",
              "      <td>Mucilaginibacter</td>\n",
              "      <td>0.0</td>\n",
              "      <td>cellular organisms;Bacteria;FCB group;Bacteroi...</td>\n",
              "      <td>Bacteria;Bacteroidetes;Sphingobacteriia;Sphing...</td>\n",
              "      <td>Bacteria</td>\n",
              "      <td>Bacteroidetes</td>\n",
              "      <td>Sphingobacteriia</td>\n",
              "      <td>Sphingobacteriales</td>\n",
              "      <td>Sphingobacteriaceae</td>\n",
              "      <td>Mucilaginibacter</td>\n",
              "      <td>Mucilaginibacter antarcticus</td>\n",
              "    </tr>\n",
              "    <tr>\n",
              "      <th>3</th>\n",
              "      <td>0029656e-5028-48e5-8822-0ba770d9ccf6</td>\n",
              "      <td>711db73c212e422fad11ca3c0ed596fc</td>\n",
              "      <td>NaN</td>\n",
              "      <td>Classification successful</td>\n",
              "      <td>878213.0</td>\n",
              "      <td>878213.0</td>\n",
              "      <td>Actinomycetospora iriomotensis</td>\n",
              "      <td>92.25</td>\n",
              "      <td>402649.0</td>\n",
              "      <td>Actinomycetospora</td>\n",
              "      <td>0.0</td>\n",
              "      <td>cellular organisms;Bacteria;Terrabacteria grou...</td>\n",
              "      <td>Bacteria;Actinobacteria;Actinobacteria;Pseudon...</td>\n",
              "      <td>Bacteria</td>\n",
              "      <td>Actinobacteria</td>\n",
              "      <td>Actinobacteria</td>\n",
              "      <td>Pseudonocardiales</td>\n",
              "      <td>Pseudonocardiaceae</td>\n",
              "      <td>Actinomycetospora</td>\n",
              "      <td>Actinomycetospora iriomotensis</td>\n",
              "    </tr>\n",
              "    <tr>\n",
              "      <th>4</th>\n",
              "      <td>002b9804-6cd0-42cd-b86e-6c71cf01bf4e</td>\n",
              "      <td>711db73c212e422fad11ca3c0ed596fc</td>\n",
              "      <td>NaN</td>\n",
              "      <td>Classification successful</td>\n",
              "      <td>2027860.0</td>\n",
              "      <td>2027860.0</td>\n",
              "      <td>Mucilaginibacter rubeus</td>\n",
              "      <td>93.07</td>\n",
              "      <td>423349.0</td>\n",
              "      <td>Mucilaginibacter</td>\n",
              "      <td>0.0</td>\n",
              "      <td>cellular organisms;Bacteria;FCB group;Bacteroi...</td>\n",
              "      <td>Bacteria;Bacteroidetes;Sphingobacteriia;Sphing...</td>\n",
              "      <td>Bacteria</td>\n",
              "      <td>Bacteroidetes</td>\n",
              "      <td>Sphingobacteriia</td>\n",
              "      <td>Sphingobacteriales</td>\n",
              "      <td>Sphingobacteriaceae</td>\n",
              "      <td>Mucilaginibacter</td>\n",
              "      <td>Mucilaginibacter rubeus</td>\n",
              "    </tr>\n",
              "  </tbody>\n",
              "</table>\n",
              "</div>"
            ],
            "text/plain": [
              "                                 readid  ...                          species\n",
              "0  0003c930-069c-4c63-a8df-1a0ca50992c4  ...          Anoxybacillus thermarum\n",
              "1  000d4674-7d99-4fed-8ba6-ab5781ab95b7  ...  Pseudoalteromonas luteoviolacea\n",
              "2  00248183-faee-4f5b-a9fe-feb8e241db92  ...     Mucilaginibacter antarcticus\n",
              "3  0029656e-5028-48e5-8822-0ba770d9ccf6  ...   Actinomycetospora iriomotensis\n",
              "4  002b9804-6cd0-42cd-b86e-6c71cf01bf4e  ...          Mucilaginibacter rubeus\n",
              "\n",
              "[5 rows x 20 columns]"
            ]
          },
          "metadata": {
            "tags": []
          }
        }
      ]
    },
    {
      "cell_type": "markdown",
      "metadata": {
        "id": "wdfANYukVWwb",
        "colab_type": "text"
      },
      "source": [
        "With this data table we can now extract counts of reads at any of the taxonomic ranks, for example:"
      ]
    },
    {
      "cell_type": "code",
      "metadata": {
        "id": "Rky1llBzUmPU",
        "colab_type": "code",
        "colab": {
          "base_uri": "https://localhost:8080/",
          "height": 697
        },
        "outputId": "ce03cbd2-7f7a-41d7-a8bf-442d014925c3"
      },
      "source": [
        "epi2me['phylum'].value_counts()"
      ],
      "execution_count": 15,
      "outputs": [
        {
          "output_type": "execute_result",
          "data": {
            "text/plain": [
              "Proteobacteria           181030\n",
              "Actinobacteria           123767\n",
              "Firmicutes                87991\n",
              "Bacteroidetes             56287\n",
              "Euryarchaeota             20693\n",
              "Tenericutes                5217\n",
              "Spirochaetes               3758\n",
              "Deinococcus-Thermus        3737\n",
              "Crenarchaeota              3019\n",
              "Cyanobacteria              2782\n",
              "Thermotogae                1979\n",
              "Verrucomicrobia            1886\n",
              "                           1505\n",
              "Acidobacteria              1471\n",
              "Fusobacteria               1434\n",
              "Planctomycetes             1352\n",
              "Chloroflexi                1218\n",
              "Aquificae                  1008\n",
              "Chlamydiae                  931\n",
              "Synergistetes               519\n",
              "Deferribacteres             439\n",
              "Thermodesulfobacteria       430\n",
              "Balneolaeota                404\n",
              "Nitrospirae                 287\n",
              "Chlorobi                    282\n",
              "Fibrobacteres               196\n",
              "Chrysiogenetes              179\n",
              "Thaumarchaeota              166\n",
              "Gemmatimonadetes            162\n",
              "Ignavibacteriae             137\n",
              "Lentisphaerae               122\n",
              "Rhodothermaeota              81\n",
              "Dictyoglomi                  80\n",
              "Coprothermobacterota         78\n",
              "Caldiserica                  76\n",
              "Calditrichaeota              39\n",
              "Elusimicrobia                27\n",
              "Armatimonadetes              18\n",
              "Kiritimatiellaeota            2\n",
              "Name: phylum, dtype: int64"
            ]
          },
          "metadata": {
            "tags": []
          },
          "execution_count": 15
        }
      ]
    },
    {
      "cell_type": "markdown",
      "metadata": {
        "id": "b0PF5w0RVoc9",
        "colab_type": "text"
      },
      "source": [
        "### Some notes\n",
        "\n",
        "The EPI2ME table provides a `taxid`, `species_taxid` and a `genus_taxid`. EPI2ME provides some sanity checking on its classification. If the top hits of a read are from different genera the `taxid` will be empty, that is to say the read is \"Unclassified\". The code above is using the value of the `taxid` field to derive the lineage information."
      ]
    }
  ]
}