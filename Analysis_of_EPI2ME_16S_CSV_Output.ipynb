{
  "nbformat": 4,
  "nbformat_minor": 0,
  "metadata": {
    "colab": {
      "name": "Analysis of EPI2ME 16S CSV Output",
      "provenance": [],
      "toc_visible": true,
      "include_colab_link": true
    },
    "kernelspec": {
      "name": "python3",
      "display_name": "Python 3"
    }
  },
  "cells": [
    {
      "cell_type": "markdown",
      "metadata": {
        "id": "view-in-github",
        "colab_type": "text"
      },
      "source": [
        "<a href=\"https://colab.research.google.com/github/epi2me-labs/tutorials/blob/master/Analysis_of_EPI2ME_16S_CSV_Output.ipynb\" target=\"_parent\"><img src=\"https://colab.research.google.com/assets/colab-badge.svg\" alt=\"Open In Colab\"/></a>"
      ]
    },
    {
      "cell_type": "markdown",
      "metadata": {
        "id": "zi0qlCihO7qt",
        "colab_type": "text"
      },
      "source": [
        "<h1>Analysis of EPI2ME 16S CSV Output</h1>\n",
        "\n",
        "The EPI2ME 16S (and WIMP) analyses allow the download of a summary table of the results. However this table does not contain full lineage information and so it is not immediately useful to create the Sankey tree diagrams that EPI2ME displays in its web interface.\n",
        "\n",
        "The following short code fragments, demonstrate how to decorate the EPI2ME data table and aggregate the read counts. \n",
        "\n",
        "An example 16S report can be found [here](https://epi2me.nanoporetech.com/workflow_instance/242318?token=6FF8C4B6-D055-11EA-A7B7-23477BC332F9).\n",
        "\n",
        "Computational requirements for this tutorial:\n",
        "\n",
        "* A computer running the **EPI2ME Labs** server\n",
        "* 8Gb RAM"
      ]
    },
    {
      "cell_type": "markdown",
      "metadata": {
        "id": "ZMhjoLNaP6Ku",
        "colab_type": "text"
      },
      "source": [
        "## Getting started\n",
        "\n",
        "⚠️  ***Reminder:*** Connect to your locally running EPI2ME Labs Server before running any of the code below. See [Run a tutorial](https://colab.research.google.com/github/epi2me-labs/resources/blob/master/epi2me-labs-server.ipynb#scrollTo=r--DdCunUR6Y) on the EPI2ME Labs Server help page for more information."
      ]
    },
    {
      "cell_type": "markdown",
      "metadata": {
        "id": "iSKV9Kkg0VLa",
        "colab_type": "text"
      },
      "source": [
        "![image.png](data:image/png;base64,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)"
      ]
    },
    {
      "cell_type": "markdown",
      "metadata": {
        "id": "z0L95Ko61LtN",
        "colab_type": "text"
      },
      "source": [
        "Having connected to the EPI2ME Labs Server, before anything else we will create and set a working directory:"
      ]
    },
    {
      "cell_type": "code",
      "metadata": {
        "id": "MVacV0gxWwel",
        "colab_type": "code",
        "colab": {
          "base_uri": "https://localhost:8080/",
          "height": 34
        },
        "outputId": "140d06c1-aae3-42d2-ed99-e5237fccc709"
      },
      "source": [
        "from epi2melabs import ping\n",
        "tutorial_name = \"16s_lineage\"\n",
        "pinger = ping.Pingu()\n",
        "\n",
        "# create a work directory and move into it\n",
        "working_dir = '/epi2melabs/{}/'.format(tutorial_name)\n",
        "!mkdir -p \"$working_dir\"\n",
        "%cd \"$working_dir\""
      ],
      "execution_count": 1,
      "outputs": [
        {
          "output_type": "stream",
          "text": [
            "/epi2melabs/16s_lineage\n"
          ],
          "name": "stdout"
        }
      ]
    },
    {
      "cell_type": "markdown",
      "metadata": {
        "id": "Fi4rkJEhitWQ",
        "colab_type": "text"
      },
      "source": [
        "### Install additional software\n",
        "\n",
        "In order to decorate the EPI2ME results file with lineage information we will use the [taxonkit](https://bioinf.shenwei.me/taxonkit/) tool. The codebox below will download this tool and also `csvkit` which we will use to convert the EPI2ME file from a comma-separated file to a tab-seperated file (which taxonkit requires\n",
        "\n",
        "*Please note that the software installed is not persistent and this step will need to be re-run if you stop and restart the EPI2ME Labs server.*"
      ]
    },
    {
      "cell_type": "code",
      "metadata": {
        "id": "fp0LkID3O6ef",
        "colab_type": "code",
        "colab": {}
      },
      "source": [
        "!pip install csvkit\n",
        "!wget https://github.com/shenwei356/taxonkit/releases/download/v0.6.0/taxonkit_linux_amd64.tar.gz\n",
        "!tar -xzvf taxonkit_linux_amd64.tar.gz"
      ],
      "execution_count": null,
      "outputs": []
    },
    {
      "cell_type": "markdown",
      "metadata": {
        "id": "hRevzQLkS4Uj",
        "colab_type": "text"
      },
      "source": [
        "Taxonkit requires the NCBI taxonomy database to function, let's download and decompress that:"
      ]
    },
    {
      "cell_type": "code",
      "metadata": {
        "id": "kRymjn8YTCDn",
        "colab_type": "code",
        "colab": {}
      },
      "source": [
        "!mkdir -p \"$working_dir\"/taxdump\n",
        "%cd \"$working_dir/taxdump\"\n",
        "!wget http://ftp.ncbi.nih.gov/pub/taxonomy/taxdump.tar.gz\n",
        "!tar -xzvf taxdump.tar.gz\n",
        "%cd \"$working_dir\""
      ],
      "execution_count": null,
      "outputs": []
    },
    {
      "cell_type": "markdown",
      "metadata": {
        "id": "MAJ2G8eGTQDm",
        "colab_type": "text"
      },
      "source": [
        "We now have all we need to get going:\n",
        "- the EPI2ME results\n",
        "- taxonkit\n",
        "- The NCBI taxonomy"
      ]
    },
    {
      "cell_type": "markdown",
      "metadata": {
        "id": "nh7-4mZeXHRA",
        "colab_type": "text"
      },
      "source": [
        "### Using your own data\n",
        "\n",
        "For demonstration purposes this notebook can download and use a sample dataset.\n",
        "\n",
        "If you have your own sequencing, you can edit the value of the input variables below in the **Data Entry** section. To find the correct full path of a file you can navigate to it in the **Files** browser to the left-hand side, right-click on the file and select **Copy path**:"
      ]
    },
    {
      "cell_type": "markdown",
      "metadata": {
        "id": "vDCEs7E3Zy60",
        "colab_type": "text"
      },
      "source": [
        "![image.png](data:image/png;base64,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)"
      ]
    },
    {
      "cell_type": "markdown",
      "metadata": {
        "id": "h43P8CBYzV0e",
        "colab_type": "text"
      },
      "source": [
        "The location shared with the EPI2ME labs server from your computer will show as `/epi2melabs`, for example a file located at `/data/my_gridion_run/fastq_pass` on your computer will appear as `/epi2melabs/my_gridion_run/fastq_pass` when it is the `/data` folder that is shared."
      ]
    },
    {
      "cell_type": "markdown",
      "metadata": {
        "id": "o9Nd92uc6qmZ",
        "colab_type": "text"
      },
      "source": [
        "### Data Entry\n",
        "\n",
        "Please select to use the sample data, or enter your own."
      ]
    },
    {
      "cell_type": "code",
      "metadata": {
        "id": "T12Yq4b2ReOw",
        "colab_type": "code",
        "cellView": "form",
        "colab": {
          "base_uri": "https://localhost:8080/",
          "height": 326
        },
        "outputId": "70e159fb-5393-4ebd-d19b-3e09aaa7391a"
      },
      "source": [
        "import os\n",
        "use_sample_data = True #@param {type:\"boolean\"}\n",
        "epi2me_results_file = \"\" #@param {type:\"string\"}\n",
        "#@markdown Output file for annotated table:\n",
        "annotated_output = \"/epi2melabs/16s_lineage/epi2me_results_with_lineage.csv\" #@param {type:\"string\"}\n",
        "\n",
        "if use_sample_data:\n",
        "    print(\"Using sample data\")\n",
        "    bucket = \"ont-exd-int-s3-euwst1-epi2me-labs\"\n",
        "    domain = \"s3-eu-west-1.amazonaws.com\"\n",
        "    site = \"https://{}.{}\".format(bucket, domain)\n",
        "    \n",
        "    fname = \"242318_classification_16s_barcode-v1.csv\"\n",
        "    \n",
        "    !echo \"Downloading sample data\"\n",
        "    !wget -q $site/misc/$fname \\\n",
        "        && echo \"Download complete\" || echo \"Download failed\"\n",
        "    !echo\n",
        "    epi2me_results_file = os.path.abspath(fname)\n",
        "else:\n",
        "    print(\"Using user provided file: {}\".format(epi2me_results_file))\n",
        "if not os.path.isfile(epi2me_results_file):\n",
        "    print(\"File does not exist\")\n",
        "print(\"\\nFirst 10 lines of file:\")\n",
        "!head \"$epi2me_results_file\" || echo \"File not readable\"\n",
        "\n",
        "pinger.send_notebook_ping('start', tutorial_name)"
      ],
      "execution_count": 7,
      "outputs": [
        {
          "output_type": "stream",
          "text": [
            "Using sample data\n",
            "Downloading sample data\n",
            "Download complete\n",
            "\n",
            "\n",
            "First 10 lines of file:\n",
            "readid,runid,barcode,exit_status,taxid,species_taxid,species,accuracy,genus_taxid,genus,lca\n",
            "0003c930-069c-4c63-a8df-1a0ca50992c4,711db73c212e422fad11ca3c0ed596fc,NA,Classification successful,404937,404937,Anoxybacillus thermarum,93.88,150247,Anoxybacillus,0\n",
            "000d4674-7d99-4fed-8ba6-ab5781ab95b7,711db73c212e422fad11ca3c0ed596fc,NA,Classification successful,43657,43657,Pseudoalteromonas luteoviolacea,93.37,53246,Pseudoalteromonas,0\n",
            "00248183-faee-4f5b-a9fe-feb8e241db92,711db73c212e422fad11ca3c0ed596fc,NA,Classification successful,1855725,1855725,Mucilaginibacter antarcticus,95.5,423349,Mucilaginibacter,0\n",
            "0029656e-5028-48e5-8822-0ba770d9ccf6,711db73c212e422fad11ca3c0ed596fc,NA,Classification successful,878213,878213,Actinomycetospora iriomotensis,92.25,402649,Actinomycetospora,0\n",
            "002b9804-6cd0-42cd-b86e-6c71cf01bf4e,711db73c212e422fad11ca3c0ed596fc,NA,Classification successful,2027860,2027860,Mucilaginibacter rubeus,93.07,423349,Mucilaginibacter,0\n",
            "00396073-4fe8-4e10-bd12-16528ce3682d,711db73c212e422fad11ca3c0ed596fc,NA,Classification successful,683125,683125,Sphingobacterium wenxiniae,94.89,28453,Sphingobacterium,0\n",
            "0047d120-0f9d-4a6d-bcca-ec0b1071d019,711db73c212e422fad11ca3c0ed596fc,NA,Classification successful,549298,549298,Francisella halioticida,93.2,262,Francisella,0\n",
            "007e8fce-05ac-48a0-807d-0d8d220796cc,711db73c212e422fad11ca3c0ed596fc,NA,Classification successful,2058154,2058154,Sphingopyxis nepalensis,93.04,165697,Sphingopyxis,0\n",
            "00846e60-1c95-488a-9241-f692d9c33fd8,711db73c212e422fad11ca3c0ed596fc,NA,Classification successful,142864,142864,Cylindrospermum stagnale,91.95,56106,Cylindrospermum,0\n"
          ],
          "name": "stdout"
        },
        {
          "output_type": "execute_result",
          "data": {
            "text/plain": [
              "201"
            ]
          },
          "metadata": {
            "tags": []
          },
          "execution_count": 7
        }
      ]
    },
    {
      "cell_type": "markdown",
      "metadata": {
        "id": "9rnzviLV6V0d",
        "colab_type": "text"
      },
      "source": [
        "After entering your inputs below, select `Runtime > Run all` from the\n",
        "menu at the top of the page. If you need to analyse a second file just come back here, change `epi2me_results_file` to a new value and then select `Runtime > Run after`."
      ]
    },
    {
      "cell_type": "markdown",
      "metadata": {
        "id": "ybEYafpESn_J",
        "colab_type": "text"
      },
      "source": [
        "![image.png](data:image/png;base64,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)"
      ]
    },
    {
      "cell_type": "markdown",
      "metadata": {
        "id": "wdfANYukVWwb",
        "colab_type": "text"
      },
      "source": [
        "## Analysis\n",
        "\n",
        "Let's first write a code function to read in and perform several conversions on the EPI2ME file. If you would like to use the methods of this notebook in your own code, this code cell is about all you will need:\n",
        "\n"
      ]
    },
    {
      "cell_type": "code",
      "metadata": {
        "id": "eYjh7-nFTozR",
        "colab_type": "code",
        "cellView": "form",
        "colab": {}
      },
      "source": [
        "#@markdown **Code for annotating an EPI2ME results file with lineage information**\n",
        "import pandas as pd\n",
        "import os\n",
        "def parse_epi2me(fname):\n",
        "    dirname = os.path.dirname(fname)\n",
        "    tsvtmp = os.path.join(dirname, \"epi2me2lineage.tsv\")\n",
        "    lintmp = os.path.join(dirname, \"epi2me2lineage.lin.tmp\")\n",
        "    fmttmp = os.path.join(dirname, \"epi2me2lineage.fmt.tmp\")\n",
        "\n",
        "    print(\"Converting to TSV\")\n",
        "    !csvformat -T \"$fname\" > \"$tsvtmp\"\n",
        "    # need to know the position of the \"taxid\" column and the number of columns\n",
        "    try:\n",
        "        with open(tsvtmp, 'r') as fh:\n",
        "            header = fh.readline().rstrip().split()\n",
        "            taxid_col = 1 + header.index('taxid')\n",
        "            lineage_col = 1 + len(header)  # this will be added in\n",
        "    except:\n",
        "        raise IndexError(\"Could not find 'taxid' column in input.\")\n",
        "    print(\"Running lineage\")\n",
        "    !\"$working_dir/taxonkit\" lineage --data-dir taxdump \"$tsvtmp\" -i \"$taxid_col\" 2>/dev/null > \"$lintmp\"\n",
        "    print(\"Running reformat\")\n",
        "    !\"$working_dir/taxonkit\" reformat --data-dir taxdump -i \"$lineage_col\" \"$lintmp\" 2>/dev/null > \"$fmttmp\"\n",
        "    print(\"Munging data\")\n",
        "    epi2me = pd.read_csv(fmttmp, sep='\\t')\n",
        "    # rename some columns so they don't clash with the lineage info\n",
        "    epi2me.columns = epi2me.columns[0:len(epi2me.columns)-2].to_list() + ['_lineage', 'lineage']\n",
        "    epi2me = epi2me.rename(columns={'species': 'species_name', 'genus':'genus_name'})\n",
        "    # extract the lineage info into its on columns in the table\n",
        "    lineage = epi2me['lineage'].str.split(\";\", expand=True)\n",
        "    lineage.columns = ['kingdom', 'phylum', 'class', 'order', 'family','genus', 'species']\n",
        "    epi2me = pd.concat((epi2me, lineage), axis=1)\n",
        "    !rm -rf \"$tsvtmp\" \"$lintmp\" \"$fmttmp\"\n",
        "    return epi2me"
      ],
      "execution_count": 8,
      "outputs": []
    },
    {
      "cell_type": "markdown",
      "metadata": {
        "id": "FyjnTvwCSxUu",
        "colab_type": "text"
      },
      "source": [
        "We can now read the input file, annotate it with the lineage information, and write out the annotated table."
      ]
    },
    {
      "cell_type": "code",
      "metadata": {
        "id": "a_fKlB1g3WAS",
        "colab_type": "code",
        "colab": {
          "base_uri": "https://localhost:8080/",
          "height": 102
        },
        "outputId": "85d5cf84-85f7-4203-96ad-d4700462fed8"
      },
      "source": [
        "epi2me = parse_epi2me(epi2me_results_file)\n",
        "epi2me.to_csv(annotated_output)\n",
        "pinger.send_notebook_ping('stop', tutorial_name)\n",
        "print(\"Annotated data table written to: {}. Download from the filebrowser.\".format(annotated_output))"
      ],
      "execution_count": 9,
      "outputs": [
        {
          "output_type": "stream",
          "text": [
            "Converting to TSV\n",
            "Running lineage\n",
            "Running reformat\n",
            "Munging data\n",
            "Annotated data table written to: /epi2melabs/16s_lineage/epi2me_results_with_lineage.csv. Download from the filebrowser.\n"
          ],
          "name": "stdout"
        }
      ]
    },
    {
      "cell_type": "markdown",
      "metadata": {
        "id": "zUVy5jCY4rbr",
        "colab_type": "text"
      },
      "source": [
        "The output table is the same as the input EPI2ME results file with additional columns indicating the taxonomic ranks to with each read has been assigned. For example, here is the start of the table:"
      ]
    },
    {
      "cell_type": "code",
      "metadata": {
        "id": "EoULxcwm4wDd",
        "colab_type": "code",
        "colab": {
          "base_uri": "https://localhost:8080/",
          "height": 525
        },
        "outputId": "78fd5e03-44c8-4b1a-9978-93e03930dfa7"
      },
      "source": [
        "epi2me = pd.read_csv(annotated_output)\n",
        "display(epi2me.head())"
      ],
      "execution_count": 43,
      "outputs": [
        {
          "output_type": "display_data",
          "data": {
            "text/plain": [
              "   Unnamed: 0                                readid  \\\n",
              "0           0  0003c930-069c-4c63-a8df-1a0ca50992c4   \n",
              "1           1  000d4674-7d99-4fed-8ba6-ab5781ab95b7   \n",
              "2           2  00248183-faee-4f5b-a9fe-feb8e241db92   \n",
              "3           3  0029656e-5028-48e5-8822-0ba770d9ccf6   \n",
              "4           4  002b9804-6cd0-42cd-b86e-6c71cf01bf4e   \n",
              "\n",
              "                              runid  barcode                exit_status  \\\n",
              "0  711db73c212e422fad11ca3c0ed596fc      NaN  Classification successful   \n",
              "1  711db73c212e422fad11ca3c0ed596fc      NaN  Classification successful   \n",
              "2  711db73c212e422fad11ca3c0ed596fc      NaN  Classification successful   \n",
              "3  711db73c212e422fad11ca3c0ed596fc      NaN  Classification successful   \n",
              "4  711db73c212e422fad11ca3c0ed596fc      NaN  Classification successful   \n",
              "\n",
              "       taxid  species_taxid                     species_name  accuracy  \\\n",
              "0   404937.0       404937.0          Anoxybacillus thermarum     93.88   \n",
              "1    43657.0        43657.0  Pseudoalteromonas luteoviolacea     93.37   \n",
              "2  1855725.0      1855725.0     Mucilaginibacter antarcticus     95.50   \n",
              "3   878213.0       878213.0   Actinomycetospora iriomotensis     92.25   \n",
              "4  2027860.0      2027860.0          Mucilaginibacter rubeus     93.07   \n",
              "\n",
              "   genus_taxid  ...  lca                                           _lineage  \\\n",
              "0     150247.0  ...  0.0  cellular organisms;Bacteria;Terrabacteria grou...   \n",
              "1      53246.0  ...  0.0  cellular organisms;Bacteria;Proteobacteria;Gam...   \n",
              "2     423349.0  ...  0.0  cellular organisms;Bacteria;FCB group;Bacteroi...   \n",
              "3     402649.0  ...  0.0  cellular organisms;Bacteria;Terrabacteria grou...   \n",
              "4     423349.0  ...  0.0  cellular organisms;Bacteria;FCB group;Bacteroi...   \n",
              "\n",
              "                                             lineage   kingdom  \\\n",
              "0  Bacteria;Firmicutes;Bacilli;Bacillales;Bacilla...  Bacteria   \n",
              "1  Bacteria;Proteobacteria;Gammaproteobacteria;Al...  Bacteria   \n",
              "2  Bacteria;Bacteroidetes;Sphingobacteriia;Sphing...  Bacteria   \n",
              "3  Bacteria;Actinobacteria;Actinobacteria;Pseudon...  Bacteria   \n",
              "4  Bacteria;Bacteroidetes;Sphingobacteriia;Sphing...  Bacteria   \n",
              "\n",
              "           phylum                class               order  \\\n",
              "0      Firmicutes              Bacilli          Bacillales   \n",
              "1  Proteobacteria  Gammaproteobacteria     Alteromonadales   \n",
              "2   Bacteroidetes     Sphingobacteriia  Sphingobacteriales   \n",
              "3  Actinobacteria       Actinobacteria   Pseudonocardiales   \n",
              "4   Bacteroidetes     Sphingobacteriia  Sphingobacteriales   \n",
              "\n",
              "                   family              genus                          species  \n",
              "0             Bacillaceae      Anoxybacillus          Anoxybacillus thermarum  \n",
              "1  Pseudoalteromonadaceae  Pseudoalteromonas  Pseudoalteromonas luteoviolacea  \n",
              "2     Sphingobacteriaceae   Mucilaginibacter     Mucilaginibacter antarcticus  \n",
              "3      Pseudonocardiaceae  Actinomycetospora   Actinomycetospora iriomotensis  \n",
              "4     Sphingobacteriaceae   Mucilaginibacter          Mucilaginibacter rubeus  \n",
              "\n",
              "[5 rows x 21 columns]"
            ],
            "text/html": [
              "<div>\n",
              "<style scoped>\n",
              "    .dataframe tbody tr th:only-of-type {\n",
              "        vertical-align: middle;\n",
              "    }\n",
              "\n",
              "    .dataframe tbody tr th {\n",
              "        vertical-align: top;\n",
              "    }\n",
              "\n",
              "    .dataframe thead th {\n",
              "        text-align: right;\n",
              "    }\n",
              "</style>\n",
              "<table border=\"1\" class=\"dataframe\">\n",
              "  <thead>\n",
              "    <tr style=\"text-align: right;\">\n",
              "      <th></th>\n",
              "      <th>Unnamed: 0</th>\n",
              "      <th>readid</th>\n",
              "      <th>runid</th>\n",
              "      <th>barcode</th>\n",
              "      <th>exit_status</th>\n",
              "      <th>taxid</th>\n",
              "      <th>species_taxid</th>\n",
              "      <th>species_name</th>\n",
              "      <th>accuracy</th>\n",
              "      <th>genus_taxid</th>\n",
              "      <th>...</th>\n",
              "      <th>lca</th>\n",
              "      <th>_lineage</th>\n",
              "      <th>lineage</th>\n",
              "      <th>kingdom</th>\n",
              "      <th>phylum</th>\n",
              "      <th>class</th>\n",
              "      <th>order</th>\n",
              "      <th>family</th>\n",
              "      <th>genus</th>\n",
              "      <th>species</th>\n",
              "    </tr>\n",
              "  </thead>\n",
              "  <tbody>\n",
              "    <tr>\n",
              "      <th>0</th>\n",
              "      <td>0</td>\n",
              "      <td>0003c930-069c-4c63-a8df-1a0ca50992c4</td>\n",
              "      <td>711db73c212e422fad11ca3c0ed596fc</td>\n",
              "      <td>NaN</td>\n",
              "      <td>Classification successful</td>\n",
              "      <td>404937.0</td>\n",
              "      <td>404937.0</td>\n",
              "      <td>Anoxybacillus thermarum</td>\n",
              "      <td>93.88</td>\n",
              "      <td>150247.0</td>\n",
              "      <td>...</td>\n",
              "      <td>0.0</td>\n",
              "      <td>cellular organisms;Bacteria;Terrabacteria grou...</td>\n",
              "      <td>Bacteria;Firmicutes;Bacilli;Bacillales;Bacilla...</td>\n",
              "      <td>Bacteria</td>\n",
              "      <td>Firmicutes</td>\n",
              "      <td>Bacilli</td>\n",
              "      <td>Bacillales</td>\n",
              "      <td>Bacillaceae</td>\n",
              "      <td>Anoxybacillus</td>\n",
              "      <td>Anoxybacillus thermarum</td>\n",
              "    </tr>\n",
              "    <tr>\n",
              "      <th>1</th>\n",
              "      <td>1</td>\n",
              "      <td>000d4674-7d99-4fed-8ba6-ab5781ab95b7</td>\n",
              "      <td>711db73c212e422fad11ca3c0ed596fc</td>\n",
              "      <td>NaN</td>\n",
              "      <td>Classification successful</td>\n",
              "      <td>43657.0</td>\n",
              "      <td>43657.0</td>\n",
              "      <td>Pseudoalteromonas luteoviolacea</td>\n",
              "      <td>93.37</td>\n",
              "      <td>53246.0</td>\n",
              "      <td>...</td>\n",
              "      <td>0.0</td>\n",
              "      <td>cellular organisms;Bacteria;Proteobacteria;Gam...</td>\n",
              "      <td>Bacteria;Proteobacteria;Gammaproteobacteria;Al...</td>\n",
              "      <td>Bacteria</td>\n",
              "      <td>Proteobacteria</td>\n",
              "      <td>Gammaproteobacteria</td>\n",
              "      <td>Alteromonadales</td>\n",
              "      <td>Pseudoalteromonadaceae</td>\n",
              "      <td>Pseudoalteromonas</td>\n",
              "      <td>Pseudoalteromonas luteoviolacea</td>\n",
              "    </tr>\n",
              "    <tr>\n",
              "      <th>2</th>\n",
              "      <td>2</td>\n",
              "      <td>00248183-faee-4f5b-a9fe-feb8e241db92</td>\n",
              "      <td>711db73c212e422fad11ca3c0ed596fc</td>\n",
              "      <td>NaN</td>\n",
              "      <td>Classification successful</td>\n",
              "      <td>1855725.0</td>\n",
              "      <td>1855725.0</td>\n",
              "      <td>Mucilaginibacter antarcticus</td>\n",
              "      <td>95.50</td>\n",
              "      <td>423349.0</td>\n",
              "      <td>...</td>\n",
              "      <td>0.0</td>\n",
              "      <td>cellular organisms;Bacteria;FCB group;Bacteroi...</td>\n",
              "      <td>Bacteria;Bacteroidetes;Sphingobacteriia;Sphing...</td>\n",
              "      <td>Bacteria</td>\n",
              "      <td>Bacteroidetes</td>\n",
              "      <td>Sphingobacteriia</td>\n",
              "      <td>Sphingobacteriales</td>\n",
              "      <td>Sphingobacteriaceae</td>\n",
              "      <td>Mucilaginibacter</td>\n",
              "      <td>Mucilaginibacter antarcticus</td>\n",
              "    </tr>\n",
              "    <tr>\n",
              "      <th>3</th>\n",
              "      <td>3</td>\n",
              "      <td>0029656e-5028-48e5-8822-0ba770d9ccf6</td>\n",
              "      <td>711db73c212e422fad11ca3c0ed596fc</td>\n",
              "      <td>NaN</td>\n",
              "      <td>Classification successful</td>\n",
              "      <td>878213.0</td>\n",
              "      <td>878213.0</td>\n",
              "      <td>Actinomycetospora iriomotensis</td>\n",
              "      <td>92.25</td>\n",
              "      <td>402649.0</td>\n",
              "      <td>...</td>\n",
              "      <td>0.0</td>\n",
              "      <td>cellular organisms;Bacteria;Terrabacteria grou...</td>\n",
              "      <td>Bacteria;Actinobacteria;Actinobacteria;Pseudon...</td>\n",
              "      <td>Bacteria</td>\n",
              "      <td>Actinobacteria</td>\n",
              "      <td>Actinobacteria</td>\n",
              "      <td>Pseudonocardiales</td>\n",
              "      <td>Pseudonocardiaceae</td>\n",
              "      <td>Actinomycetospora</td>\n",
              "      <td>Actinomycetospora iriomotensis</td>\n",
              "    </tr>\n",
              "    <tr>\n",
              "      <th>4</th>\n",
              "      <td>4</td>\n",
              "      <td>002b9804-6cd0-42cd-b86e-6c71cf01bf4e</td>\n",
              "      <td>711db73c212e422fad11ca3c0ed596fc</td>\n",
              "      <td>NaN</td>\n",
              "      <td>Classification successful</td>\n",
              "      <td>2027860.0</td>\n",
              "      <td>2027860.0</td>\n",
              "      <td>Mucilaginibacter rubeus</td>\n",
              "      <td>93.07</td>\n",
              "      <td>423349.0</td>\n",
              "      <td>...</td>\n",
              "      <td>0.0</td>\n",
              "      <td>cellular organisms;Bacteria;FCB group;Bacteroi...</td>\n",
              "      <td>Bacteria;Bacteroidetes;Sphingobacteriia;Sphing...</td>\n",
              "      <td>Bacteria</td>\n",
              "      <td>Bacteroidetes</td>\n",
              "      <td>Sphingobacteriia</td>\n",
              "      <td>Sphingobacteriales</td>\n",
              "      <td>Sphingobacteriaceae</td>\n",
              "      <td>Mucilaginibacter</td>\n",
              "      <td>Mucilaginibacter rubeus</td>\n",
              "    </tr>\n",
              "  </tbody>\n",
              "</table>\n",
              "<p>5 rows × 21 columns</p>\n",
              "</div>"
            ]
          },
          "metadata": {
            "tags": []
          }
        }
      ]
    },
    {
      "cell_type": "markdown",
      "metadata": {
        "id": "AlMF-BEY4GXX",
        "colab_type": "text"
      },
      "source": [
        "With this data table we can now extract counts of reads at any of the taxonomic ranks, for example:"
      ]
    },
    {
      "cell_type": "code",
      "metadata": {
        "id": "Rky1llBzUmPU",
        "colab_type": "code",
        "cellView": "form",
        "colab": {
          "base_uri": "https://localhost:8080/",
          "height": 393
        },
        "outputId": "c2eae33c-4398-47ab-c83d-b4d8c372ad50"
      },
      "source": [
        "#@markdown **Aggregate counts by rank**\n",
        "\n",
        "#@markdown Select a rank to aggregate read counts and then click the `Play` button\n",
        "#@markdown to the left-hand side.\n",
        "aggregation_rank = \"family\" #@param ['kingdom', 'phylum', 'class', 'order', 'family','genus', 'species']\n",
        "split_by_barcode = False #@param {type:\"boolean\"}\n",
        "\n",
        "def replace_empty(index):\n",
        "    try:\n",
        "        idx = index.index('')\n",
        "    except ValueError:\n",
        "        pass\n",
        "    else:\n",
        "        index[idx] = 'Unknown'\n",
        "    return index\n",
        "\n",
        "if not split_by_barcode:\n",
        "    results = (\n",
        "        epi2me[aggregation_rank]\n",
        "        .value_counts()\n",
        "        .reset_index()\n",
        "        .rename(columns={'index':aggregation_rank, aggregation_rank:'count'}))\n",
        "    results[aggregation_rank] = replace_empty(results[aggregation_rank].tolist())\n",
        "    results.sort_values('count', ascending=False, inplace=True)\n",
        "else:\n",
        "    results = (\n",
        "        epi2me[[aggregation_rank, 'barcode']]\n",
        "        .groupby([aggregation_rank, 'barcode'])\n",
        "        .size().unstack(fill_value=0))\n",
        "    results['total'] = results.sum(axis=1)\n",
        "    results.sort_values('total', ascending=False, inplace=True)\n",
        "    results.index = replace_empty(results.index.tolist())\n",
        "print(\"Top 10 groups.\")\n",
        "display(results.head(10))\n",
        "output = 'aggregated_counts_by_{}.csv'.format(aggregation_rank)\n",
        "results.to_csv(output)\n",
        "print(\"Results written to {}, download from the filebrowser.\".format(output))\n"
      ],
      "execution_count": 49,
      "outputs": [
        {
          "output_type": "stream",
          "text": [
            "Top 10 groups.\n"
          ],
          "name": "stdout"
        },
        {
          "output_type": "display_data",
          "data": {
            "text/plain": [
              "               family  count\n",
              "0   Streptomycetaceae  34593\n",
              "1   Flavobacteriaceae  21471\n",
              "2         Bacillaceae  17835\n",
              "3    Rhodobacteraceae  15091\n",
              "4    Paenibacillaceae   9618\n",
              "5  Pseudonocardiaceae   9213\n",
              "6   Sphingomonadaceae   8992\n",
              "7   Microbacteriaceae   8443\n",
              "8        Nocardiaceae   7945\n",
              "9  Micromonosporaceae   7580"
            ],
            "text/html": [
              "<div>\n",
              "<style scoped>\n",
              "    .dataframe tbody tr th:only-of-type {\n",
              "        vertical-align: middle;\n",
              "    }\n",
              "\n",
              "    .dataframe tbody tr th {\n",
              "        vertical-align: top;\n",
              "    }\n",
              "\n",
              "    .dataframe thead th {\n",
              "        text-align: right;\n",
              "    }\n",
              "</style>\n",
              "<table border=\"1\" class=\"dataframe\">\n",
              "  <thead>\n",
              "    <tr style=\"text-align: right;\">\n",
              "      <th></th>\n",
              "      <th>family</th>\n",
              "      <th>count</th>\n",
              "    </tr>\n",
              "  </thead>\n",
              "  <tbody>\n",
              "    <tr>\n",
              "      <th>0</th>\n",
              "      <td>Streptomycetaceae</td>\n",
              "      <td>34593</td>\n",
              "    </tr>\n",
              "    <tr>\n",
              "      <th>1</th>\n",
              "      <td>Flavobacteriaceae</td>\n",
              "      <td>21471</td>\n",
              "    </tr>\n",
              "    <tr>\n",
              "      <th>2</th>\n",
              "      <td>Bacillaceae</td>\n",
              "      <td>17835</td>\n",
              "    </tr>\n",
              "    <tr>\n",
              "      <th>3</th>\n",
              "      <td>Rhodobacteraceae</td>\n",
              "      <td>15091</td>\n",
              "    </tr>\n",
              "    <tr>\n",
              "      <th>4</th>\n",
              "      <td>Paenibacillaceae</td>\n",
              "      <td>9618</td>\n",
              "    </tr>\n",
              "    <tr>\n",
              "      <th>5</th>\n",
              "      <td>Pseudonocardiaceae</td>\n",
              "      <td>9213</td>\n",
              "    </tr>\n",
              "    <tr>\n",
              "      <th>6</th>\n",
              "      <td>Sphingomonadaceae</td>\n",
              "      <td>8992</td>\n",
              "    </tr>\n",
              "    <tr>\n",
              "      <th>7</th>\n",
              "      <td>Microbacteriaceae</td>\n",
              "      <td>8443</td>\n",
              "    </tr>\n",
              "    <tr>\n",
              "      <th>8</th>\n",
              "      <td>Nocardiaceae</td>\n",
              "      <td>7945</td>\n",
              "    </tr>\n",
              "    <tr>\n",
              "      <th>9</th>\n",
              "      <td>Micromonosporaceae</td>\n",
              "      <td>7580</td>\n",
              "    </tr>\n",
              "  </tbody>\n",
              "</table>\n",
              "</div>"
            ]
          },
          "metadata": {
            "tags": []
          }
        },
        {
          "output_type": "stream",
          "text": [
            "Results written to aggregated_counts_by_family.csv, download from the filebrowser.\n"
          ],
          "name": "stdout"
        }
      ]
    },
    {
      "cell_type": "markdown",
      "metadata": {
        "id": "b0PF5w0RVoc9",
        "colab_type": "text"
      },
      "source": [
        "### Some notes\n",
        "\n",
        "The EPI2ME table provides a `taxid`, `species_taxid` and a `genus_taxid`. EPI2ME provides some sanity checking on its classification. If the top hits of a read are from different genera the `taxid` will be empty, that is to say the read is \"Unclassified\". The code above is using the value of the `taxid` field to derive the lineage information."
      ]
    }
  ]
}